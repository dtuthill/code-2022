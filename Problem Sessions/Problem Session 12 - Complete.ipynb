{
 "cells": [
  {
   "cell_type": "markdown",
   "id": "e4faaaa9",
   "metadata": {},
   "source": [
    "# Problem Session 12\n",
    "## MNIST of Fashion II\n",
    "\n",
    "In this notebook you will work on problems that relate to our neural network content. In particular, this material will touch on the following lecture notebooks:\n",
    "- `Lectures/Neural Networks/2. The MNIST Data Set`,\n",
    "- `Lectures/Neural Networks/3. Multilayer Neural Networks`,\n",
    "- `Lectures/Neural Networks/4. keras`,\n",
    "- `Lectures/Neural Networks/5. Introduction to Convolutional Neural Networks` and\n",
    "- `Lectures/Neural Networks/7. Loading Pre-Trained Models`."
   ]
  },
  {
   "cell_type": "code",
   "execution_count": 1,
   "id": "7c9d4faa",
   "metadata": {},
   "outputs": [],
   "source": [
    "import pandas as pd\n",
    "import numpy as np\n",
    "\n",
    "import matplotlib.pyplot as plt\n",
    "from seaborn import set_style\n",
    "\n",
    "set_style(\"whitegrid\")"
   ]
  },
  {
   "cell_type": "markdown",
   "id": "1b50eb79",
   "metadata": {},
   "source": [
    "##### 1. Load the data\n",
    "\n",
    "In this notebook you will continue to work to build neural networks to classify images of common fashion items. First run the code below in order to load the data set."
   ]
  },
  {
   "cell_type": "code",
   "execution_count": 2,
   "id": "dd709bc8",
   "metadata": {},
   "outputs": [],
   "source": [
    "## docs: https://keras.io/api/datasets/fashion_mnist/\n",
    "from keras.datasets import fashion_mnist"
   ]
  },
  {
   "cell_type": "code",
   "execution_count": 3,
   "id": "d32522b5",
   "metadata": {},
   "outputs": [],
   "source": [
    "## This can take a little bit to run,\n",
    "## especially if it is your first time running this code\n",
    "(X_train, y_train), (X_test, y_test) = fashion_mnist.load_data()\n",
    "\n",
    "label_dict = {0:\"T-shirt/top\",\n",
    "                 1:\"Trouser\",\n",
    "                 2:\"Pullover\",\n",
    "                 3:\"Dress\",\n",
    "                 4:\"Coat\",\n",
    "                 5:\"Sandal\",\n",
    "                 6:\"Shirt\",\n",
    "                 7:\"Sneaker\",\n",
    "                 8:\"Bag\",\n",
    "                 9:\"Ankle boot\"}"
   ]
  },
  {
   "cell_type": "markdown",
   "id": "2d45a2fa",
   "metadata": {},
   "source": [
    "##### 2. Validation set and scaling\n",
    "\n",
    "Create a validation set with $20\\%$ of the training set. Also scale the data by dividing by the maximum pixel value, $255$."
   ]
  },
  {
   "cell_type": "markdown",
   "id": "91490717",
   "metadata": {},
   "source": [
    "##### Sample Solution"
   ]
  },
  {
   "cell_type": "code",
   "execution_count": 4,
   "id": "63448bfd",
   "metadata": {},
   "outputs": [],
   "source": [
    "X_train = X_train/255\n",
    "X_test = X_test/255"
   ]
  },
  {
   "cell_type": "code",
   "execution_count": 5,
   "id": "690b2c81",
   "metadata": {},
   "outputs": [],
   "source": [
    "from sklearn.model_selection import train_test_split"
   ]
  },
  {
   "cell_type": "code",
   "execution_count": 6,
   "id": "a5787dd6",
   "metadata": {},
   "outputs": [],
   "source": [
    "X_tt, X_val, y_tt, y_val = train_test_split(X_train, y_train,\n",
    "                                               shuffle=True,\n",
    "                                               random_state=213,\n",
    "                                               test_size=.2)"
   ]
  },
  {
   "cell_type": "markdown",
   "id": "57e334bc",
   "metadata": {},
   "source": [
    "##### 3. Loading a feed forward model\n",
    "\n",
    "In `Problem Session 11` you worked to build a number of feed forward models for this classification problem. If your group was able to make it to the end of that notebook you would have saved the neural network model that performed best.\n",
    "\n",
    "Load the model here for comparison purposes at the end of this notebook.\n",
    "\n",
    "<i>If you were not able to save a model while working on `Problem Session 11`, you can load `nb11_matts_final_model` here. This model was trained on the PCA transformed version of the data.</i>"
   ]
  },
  {
   "cell_type": "code",
   "execution_count": 7,
   "id": "1eaf0dd5",
   "metadata": {},
   "outputs": [],
   "source": [
    "from keras.models import load_model"
   ]
  },
  {
   "cell_type": "code",
   "execution_count": 8,
   "id": "175107ee",
   "metadata": {},
   "outputs": [],
   "source": [
    "nb_11_model = load_model(\"nb11_matts_final_model\")"
   ]
  },
  {
   "cell_type": "markdown",
   "id": "0b322af2",
   "metadata": {},
   "source": [
    "##### 4. A first convolutional neural network\n",
    "\n",
    "As a first convolution neural network, try building a CNN with a single convolutional layer of depth $64$ using a $3\\times 3$ filter followed by a pooling layer using a $2\\times 2$ filter with size $2$ strides."
   ]
  },
  {
   "cell_type": "code",
   "execution_count": 9,
   "id": "8c362eb6",
   "metadata": {},
   "outputs": [],
   "source": [
    "## Import what you need from keras\n",
    "from keras import models\n",
    "from keras import layers\n",
    "from keras import optimizers\n",
    "from keras import losses\n",
    "from keras import metrics\n",
    "from keras.utils.np_utils import to_categorical"
   ]
  },
  {
   "cell_type": "code",
   "execution_count": 10,
   "id": "860cb8c3",
   "metadata": {},
   "outputs": [],
   "source": [
    "## Make convolutional neural net reshaped versions\n",
    "## of the training and validation data\n",
    "X_tt_conv = X_tt.reshape(-1, 28, 28, 1)\n",
    "X_val_conv = X_val.reshape(-1, 28, 28, 1)"
   ]
  },
  {
   "cell_type": "code",
   "execution_count": 11,
   "id": "3a772523",
   "metadata": {},
   "outputs": [],
   "source": [
    "## Make an empty sequential model\n",
    "model1 = models.Sequential()\n",
    "\n",
    "## Add the convolutional layer here\n",
    "model1.add(layers.Conv2D(64, (3, 3), activation='relu', input_shape=(28,28,1)))\n",
    "\n",
    "## Add the pooling layer here\n",
    "model1.add(layers.MaxPooling2D((2,2), strides=2))\n",
    "\n",
    "## Add the flatten layer\n",
    "model1.add(layers.Flatten())\n",
    "\n",
    "## Add the feed forward layer, use 64 nodes\n",
    "model1.add(layers.Dense(64, activation='relu'))\n",
    "\n",
    "## Add the output layer\n",
    "model1.add(layers.Dense(10, activation='softmax'))\n",
    "\n",
    "## Some compile step from notebook 11\n",
    "model1.compile(optimizer = 'rmsprop',\n",
    "                 loss = 'categorical_crossentropy',\n",
    "                 metrics = ['accuracy'])"
   ]
  },
  {
   "cell_type": "code",
   "execution_count": 12,
   "id": "e2eea533",
   "metadata": {},
   "outputs": [
    {
     "name": "stderr",
     "output_type": "stream",
     "text": [
      "2022-05-18 13:37:25.404527: I tensorflow/compiler/mlir/mlir_graph_optimization_pass.cc:185] None of the MLIR Optimization Passes are enabled (registered 2)\n",
      "2022-05-18 13:37:25.404679: W tensorflow/core/platform/profile_utils/cpu_utils.cc:128] Failed to get CPU frequency: 0 Hz\n"
     ]
    },
    {
     "name": "stdout",
     "output_type": "stream",
     "text": [
      "Epoch 1/25\n",
      "94/94 [==============================] - 5s 56ms/step - loss: 0.7144 - accuracy: 0.7491 - val_loss: 0.4718 - val_accuracy: 0.8301\n",
      "Epoch 2/25\n",
      "94/94 [==============================] - 5s 54ms/step - loss: 0.4239 - accuracy: 0.8492 - val_loss: 0.3890 - val_accuracy: 0.8589\n",
      "Epoch 3/25\n",
      "94/94 [==============================] - 5s 52ms/step - loss: 0.3515 - accuracy: 0.8744 - val_loss: 0.3355 - val_accuracy: 0.8827\n",
      "Epoch 4/25\n",
      "94/94 [==============================] - 5s 52ms/step - loss: 0.3139 - accuracy: 0.8893 - val_loss: 0.3159 - val_accuracy: 0.8855\n",
      "Epoch 5/25\n",
      "94/94 [==============================] - 5s 51ms/step - loss: 0.2852 - accuracy: 0.8990 - val_loss: 0.3031 - val_accuracy: 0.8924\n",
      "Epoch 6/25\n",
      "94/94 [==============================] - 5s 51ms/step - loss: 0.2667 - accuracy: 0.9051 - val_loss: 0.2818 - val_accuracy: 0.9003\n",
      "Epoch 7/25\n",
      "94/94 [==============================] - 5s 51ms/step - loss: 0.2488 - accuracy: 0.9108 - val_loss: 0.2777 - val_accuracy: 0.9007\n",
      "Epoch 8/25\n",
      "94/94 [==============================] - 5s 51ms/step - loss: 0.2339 - accuracy: 0.9159 - val_loss: 0.2962 - val_accuracy: 0.8918\n",
      "Epoch 9/25\n",
      "94/94 [==============================] - 5s 51ms/step - loss: 0.2203 - accuracy: 0.9201 - val_loss: 0.2649 - val_accuracy: 0.9055\n",
      "Epoch 10/25\n",
      "94/94 [==============================] - 5s 51ms/step - loss: 0.2068 - accuracy: 0.9259 - val_loss: 0.2602 - val_accuracy: 0.9082\n",
      "Epoch 11/25\n",
      "94/94 [==============================] - 5s 51ms/step - loss: 0.1977 - accuracy: 0.9279 - val_loss: 0.2627 - val_accuracy: 0.9081\n",
      "Epoch 12/25\n",
      "94/94 [==============================] - 5s 51ms/step - loss: 0.1852 - accuracy: 0.9328 - val_loss: 0.2607 - val_accuracy: 0.9078\n",
      "Epoch 13/25\n",
      "94/94 [==============================] - 5s 51ms/step - loss: 0.1777 - accuracy: 0.9358 - val_loss: 0.2618 - val_accuracy: 0.9050\n",
      "Epoch 14/25\n",
      "94/94 [==============================] - 5s 51ms/step - loss: 0.1676 - accuracy: 0.9391 - val_loss: 0.2661 - val_accuracy: 0.9052\n",
      "Epoch 15/25\n",
      "94/94 [==============================] - 5s 52ms/step - loss: 0.1627 - accuracy: 0.9421 - val_loss: 0.2521 - val_accuracy: 0.9124\n",
      "Epoch 16/25\n",
      "94/94 [==============================] - 5s 51ms/step - loss: 0.1527 - accuracy: 0.9444 - val_loss: 0.2472 - val_accuracy: 0.9171\n",
      "Epoch 17/25\n",
      "94/94 [==============================] - 5s 51ms/step - loss: 0.1465 - accuracy: 0.9477 - val_loss: 0.2610 - val_accuracy: 0.9100\n",
      "Epoch 18/25\n",
      "94/94 [==============================] - 5s 51ms/step - loss: 0.1386 - accuracy: 0.9506 - val_loss: 0.2765 - val_accuracy: 0.9051\n",
      "Epoch 19/25\n",
      "94/94 [==============================] - 5s 51ms/step - loss: 0.1338 - accuracy: 0.9523 - val_loss: 0.2609 - val_accuracy: 0.9094\n",
      "Epoch 20/25\n",
      "94/94 [==============================] - 5s 51ms/step - loss: 0.1262 - accuracy: 0.9545 - val_loss: 0.2754 - val_accuracy: 0.9118\n",
      "Epoch 21/25\n",
      "94/94 [==============================] - 5s 51ms/step - loss: 0.1190 - accuracy: 0.9570 - val_loss: 0.2975 - val_accuracy: 0.9046\n",
      "Epoch 22/25\n",
      "94/94 [==============================] - 5s 51ms/step - loss: 0.1166 - accuracy: 0.9582 - val_loss: 0.2624 - val_accuracy: 0.9126\n",
      "Epoch 23/25\n",
      "94/94 [==============================] - 5s 51ms/step - loss: 0.1112 - accuracy: 0.9606 - val_loss: 0.2669 - val_accuracy: 0.9135\n",
      "Epoch 24/25\n",
      "94/94 [==============================] - 5s 51ms/step - loss: 0.1056 - accuracy: 0.9628 - val_loss: 0.2614 - val_accuracy: 0.9159\n",
      "Epoch 25/25\n",
      "94/94 [==============================] - 5s 51ms/step - loss: 0.0993 - accuracy: 0.9638 - val_loss: 0.2716 - val_accuracy: 0.9172\n"
     ]
    }
   ],
   "source": [
    "## fit the model for 25 epochs, this can take a bit\n",
    "n_epochs=25\n",
    "history1 = model1.fit(X_tt_conv, \n",
    "                      to_categorical(y_tt), \n",
    "                      epochs=n_epochs, \n",
    "                      batch_size=512,\n",
    "                      validation_data=(X_val_conv,to_categorical(y_val)))\n",
    "\n",
    "history_dict1 = history1.history"
   ]
  },
  {
   "cell_type": "code",
   "execution_count": 13,
   "id": "8873dd33",
   "metadata": {},
   "outputs": [
    {
     "data": {
      "image/png": "[encoded data removed]",
      "text/plain": [
       "<Figure size 1008x576 with 1 Axes>"
      ]
     },
     "metadata": {},
     "output_type": "display_data"
    }
   ],
   "source": [
    "## Plot the training set accuracy and the validation set accuracy\n",
    "## against the number of epochs trained\n",
    "plt.figure(figsize=(14,8))\n",
    "\n",
    "plt.scatter(range(1,n_epochs+1), \n",
    "            history_dict1['accuracy'], \n",
    "            label=\"Training Data\")\n",
    "plt.scatter(range(1,n_epochs+1), \n",
    "            history_dict1['val_accuracy'], \n",
    "            marker='v',\n",
    "            label=\"Validation Data\")\n",
    "\n",
    "plt.xlabel(\"Epoch\", fontsize=18)\n",
    "plt.ylabel(\"Accuracy\", fontsize=18)\n",
    "\n",
    "plt.xticks(fontsize=14)\n",
    "plt.yticks(fontsize=14)\n",
    "\n",
    "plt.legend(fontsize=14)\n",
    "\n",
    "\n",
    "plt.show()"
   ]
  },
  {
   "cell_type": "markdown",
   "id": "89e4f376",
   "metadata": {},
   "source": [
    "##### 5. Adding in padding\n",
    "\n",
    "Add in the `padding='same'` argument to the convolutional layer from the network above. Fit this network and compare the validation accuracies for `model2` and `model1`."
   ]
  },
  {
   "cell_type": "code",
   "execution_count": 14,
   "id": "72185e12",
   "metadata": {},
   "outputs": [],
   "source": [
    "## Make an empty sequential model\n",
    "model2 = models.Sequential()\n",
    "\n",
    "## Add the convolutional layer here\n",
    "model2.add(layers.Conv2D(64, (3, 3), activation='relu', padding='same', input_shape=(28,28,1)))\n",
    "\n",
    "## Add the pooling layer here\n",
    "model2.add(layers.MaxPooling2D((2,2), strides=2))\n",
    "\n",
    "## Add the flatten layer\n",
    "model2.add(layers.Flatten())\n",
    "\n",
    "## Add the feed forward layer, use 64 nodes\n",
    "model2.add(layers.Dense(64, activation='relu'))\n",
    "\n",
    "## Add the output layer\n",
    "model2.add(layers.Dense(10, activation='softmax'))\n",
    "\n",
    "## Same compile step from notebook 11\n",
    "model2.compile(optimizer = 'rmsprop',\n",
    "                 loss = 'categorical_crossentropy',\n",
    "                 metrics = ['accuracy'])"
   ]
  },
  {
   "cell_type": "code",
   "execution_count": 15,
   "id": "27edf6e2",
   "metadata": {},
   "outputs": [
    {
     "name": "stdout",
     "output_type": "stream",
     "text": [
      "Epoch 1/25\n",
      "94/94 [==============================] - 6s 61ms/step - loss: 0.6839 - accuracy: 0.7620 - val_loss: 0.4911 - val_accuracy: 0.8154\n",
      "Epoch 2/25\n",
      "94/94 [==============================] - 6s 60ms/step - loss: 0.4020 - accuracy: 0.8563 - val_loss: 0.4000 - val_accuracy: 0.8563\n",
      "Epoch 3/25\n",
      "94/94 [==============================] - 6s 60ms/step - loss: 0.3383 - accuracy: 0.8786 - val_loss: 0.3210 - val_accuracy: 0.8878\n",
      "Epoch 4/25\n",
      "94/94 [==============================] - 6s 60ms/step - loss: 0.3023 - accuracy: 0.8925 - val_loss: 0.2988 - val_accuracy: 0.8935\n",
      "Epoch 5/25\n",
      "94/94 [==============================] - 6s 60ms/step - loss: 0.2789 - accuracy: 0.9001 - val_loss: 0.3012 - val_accuracy: 0.8933\n",
      "Epoch 6/25\n",
      "94/94 [==============================] - 6s 60ms/step - loss: 0.2596 - accuracy: 0.9059 - val_loss: 0.2860 - val_accuracy: 0.8981\n",
      "Epoch 7/25\n",
      "94/94 [==============================] - 6s 60ms/step - loss: 0.2439 - accuracy: 0.9122 - val_loss: 0.3069 - val_accuracy: 0.8848\n",
      "Epoch 8/25\n",
      "94/94 [==============================] - 6s 60ms/step - loss: 0.2305 - accuracy: 0.9155 - val_loss: 0.2580 - val_accuracy: 0.9045\n",
      "Epoch 9/25\n",
      "94/94 [==============================] - 6s 61ms/step - loss: 0.2165 - accuracy: 0.9205 - val_loss: 0.2585 - val_accuracy: 0.9062\n",
      "Epoch 10/25\n",
      "94/94 [==============================] - 6s 60ms/step - loss: 0.2044 - accuracy: 0.9245 - val_loss: 0.2838 - val_accuracy: 0.8996\n",
      "Epoch 11/25\n",
      "94/94 [==============================] - 6s 60ms/step - loss: 0.1964 - accuracy: 0.9296 - val_loss: 0.2646 - val_accuracy: 0.9058\n",
      "Epoch 12/25\n",
      "94/94 [==============================] - 6s 60ms/step - loss: 0.1846 - accuracy: 0.9329 - val_loss: 0.2653 - val_accuracy: 0.9065\n",
      "Epoch 13/25\n",
      "94/94 [==============================] - 6s 60ms/step - loss: 0.1764 - accuracy: 0.9361 - val_loss: 0.2819 - val_accuracy: 0.8991\n",
      "Epoch 14/25\n",
      "94/94 [==============================] - 6s 60ms/step - loss: 0.1688 - accuracy: 0.9389 - val_loss: 0.2467 - val_accuracy: 0.9134\n",
      "Epoch 15/25\n",
      "94/94 [==============================] - 6s 60ms/step - loss: 0.1598 - accuracy: 0.9416 - val_loss: 0.2484 - val_accuracy: 0.9117\n",
      "Epoch 16/25\n",
      "94/94 [==============================] - 6s 60ms/step - loss: 0.1541 - accuracy: 0.9442 - val_loss: 0.2489 - val_accuracy: 0.9135\n",
      "Epoch 17/25\n",
      "94/94 [==============================] - 6s 60ms/step - loss: 0.1444 - accuracy: 0.9475 - val_loss: 0.2746 - val_accuracy: 0.9043\n",
      "Epoch 18/25\n",
      "94/94 [==============================] - 6s 60ms/step - loss: 0.1396 - accuracy: 0.9496 - val_loss: 0.2732 - val_accuracy: 0.9053\n",
      "Epoch 19/25\n",
      "94/94 [==============================] - 6s 60ms/step - loss: 0.1323 - accuracy: 0.9528 - val_loss: 0.2752 - val_accuracy: 0.9068\n",
      "Epoch 20/25\n",
      "94/94 [==============================] - 6s 60ms/step - loss: 0.1279 - accuracy: 0.9536 - val_loss: 0.2569 - val_accuracy: 0.9137\n",
      "Epoch 21/25\n",
      "94/94 [==============================] - 6s 60ms/step - loss: 0.1203 - accuracy: 0.9568 - val_loss: 0.2687 - val_accuracy: 0.9103\n",
      "Epoch 22/25\n",
      "94/94 [==============================] - 6s 61ms/step - loss: 0.1153 - accuracy: 0.9580 - val_loss: 0.2736 - val_accuracy: 0.9095\n",
      "Epoch 23/25\n",
      "94/94 [==============================] - 6s 60ms/step - loss: 0.1110 - accuracy: 0.9609 - val_loss: 0.2563 - val_accuracy: 0.9162\n",
      "Epoch 24/25\n",
      "94/94 [==============================] - 6s 60ms/step - loss: 0.1045 - accuracy: 0.9623 - val_loss: 0.3181 - val_accuracy: 0.8964\n",
      "Epoch 25/25\n",
      "94/94 [==============================] - 6s 60ms/step - loss: 0.0992 - accuracy: 0.9645 - val_loss: 0.2661 - val_accuracy: 0.9156\n"
     ]
    }
   ],
   "source": [
    "history2 = model2.fit(X_tt_conv, \n",
    "                      to_categorical(y_tt), \n",
    "                      epochs=n_epochs, \n",
    "                      batch_size=512,\n",
    "                      validation_data=(X_val_conv,to_categorical(y_val)))\n",
    "\n",
    "history_dict2 = history2.history"
   ]
  },
  {
   "cell_type": "code",
   "execution_count": 16,
   "id": "2b163dc8",
   "metadata": {},
   "outputs": [
    {
     "data": {
      "image/png": "[encoded data removed]",
      "text/plain": [
       "<Figure size 1008x576 with 1 Axes>"
      ]
     },
     "metadata": {},
     "output_type": "display_data"
    }
   ],
   "source": [
    "## Plot the validation set accuracy for model1 and model2\n",
    "## against the number of epochs trained\n",
    "plt.figure(figsize=(14,8))\n",
    "\n",
    "plt.scatter(range(1,n_epochs+1), \n",
    "            history_dict1['val_accuracy'], \n",
    "            label=\"No Padding\")\n",
    "plt.scatter(range(1,n_epochs+1), \n",
    "            history_dict2['val_accuracy'], \n",
    "            marker='v',\n",
    "            label=\"Padding\")\n",
    "\n",
    "plt.xlabel(\"Epoch\", fontsize=18)\n",
    "plt.ylabel(\"Accuracy\", fontsize=18)\n",
    "\n",
    "plt.xticks(fontsize=14)\n",
    "plt.yticks(fontsize=14)\n",
    "\n",
    "plt.legend(fontsize=14)\n",
    "\n",
    "\n",
    "plt.show()"
   ]
  },
  {
   "cell_type": "markdown",
   "id": "234e4eed",
   "metadata": {},
   "source": [
    "How does the performance compare?"
   ]
  },
  {
   "cell_type": "markdown",
   "id": "8a1fc489",
   "metadata": {},
   "source": [
    "##### Sample Solution\n",
    "\n",
    "It's similar."
   ]
  },
  {
   "cell_type": "markdown",
   "id": "601f194d",
   "metadata": {},
   "source": [
    "##### 6. Adding a dropout layer\n",
    "\n",
    "Sometimes while building convolutional or recurrent neural networks you will add what is known as a <i>dropout</i> layer before the final feed forward layer of the network.\n",
    "\n",
    "A dropout layer will randomly turn off input nodes with a probability that you select when setting up the network. For example a dropout layer with probability $0.25$ will turn each of the input nodes to $0$ with probability $0.25$. \n",
    "\n",
    "This may seem counterintuitive because we will be getting rid of some of the work the previous layers of our network have done. However, neural networks have a ton of parameters, meaning that they tend to overfit on the training data. By randomly turning some nodes to $0$ we lessen the networks ability to overfit, which may in turn improve performance on observations not included in the training set.\n",
    "\n",
    "For `model3` use your results from above to choose either `model1` or `model2` and then add a dropout layer between  the `.Flatten()` layer and the `Dense(64)` layer. Dropout layers can be inserted in `keras` with `layers.Dropout(dropout_probability)`."
   ]
  },
  {
   "cell_type": "code",
   "execution_count": 17,
   "id": "01efa96f",
   "metadata": {},
   "outputs": [],
   "source": [
    "## Make an empty sequential model\n",
    "model3 = models.Sequential()\n",
    "\n",
    "## Add the convolutional layer here\n",
    "model3.add(layers.Conv2D(64, (3, 3), activation='relu', input_shape=(28,28,1)))\n",
    "\n",
    "## Add the pooling layer here\n",
    "model3.add(layers.MaxPooling2D((2,2), strides=2))\n",
    "\n",
    "## Add the flatten layer\n",
    "model3.add(layers.Flatten())\n",
    "\n",
    "## Add the dropout layer, set the dropout probability to .5\n",
    "model3.add(layers.Dropout(.5))\n",
    "\n",
    "## Add the feed forward layer, use 64 nodes\n",
    "model3.add(layers.Dense(64, activation='relu'))\n",
    "\n",
    "## Add the output layer\n",
    "model3.add(layers.Dense(10, activation='softmax'))\n",
    "\n",
    "## Same compile step from notebook 11\n",
    "model3.compile(optimizer = 'rmsprop',\n",
    "                 loss = 'categorical_crossentropy',\n",
    "                 metrics = ['accuracy'])"
   ]
  },
  {
   "cell_type": "code",
   "execution_count": 18,
   "id": "e2046838",
   "metadata": {},
   "outputs": [
    {
     "name": "stdout",
     "output_type": "stream",
     "text": [
      "Epoch 1/25\n",
      "94/94 [==============================] - 6s 63ms/step - loss: 0.6901 - accuracy: 0.7628 - val_loss: 0.4485 - val_accuracy: 0.8403\n",
      "Epoch 2/25\n",
      "94/94 [==============================] - 6s 62ms/step - loss: 0.4122 - accuracy: 0.8542 - val_loss: 0.3703 - val_accuracy: 0.8674\n",
      "Epoch 3/25\n",
      "94/94 [==============================] - 6s 62ms/step - loss: 0.3497 - accuracy: 0.8753 - val_loss: 0.3454 - val_accuracy: 0.8758\n",
      "Epoch 4/25\n",
      "94/94 [==============================] - 6s 62ms/step - loss: 0.3194 - accuracy: 0.8852 - val_loss: 0.3302 - val_accuracy: 0.8798\n",
      "Epoch 5/25\n",
      "94/94 [==============================] - 6s 62ms/step - loss: 0.2929 - accuracy: 0.8952 - val_loss: 0.2842 - val_accuracy: 0.9006\n",
      "Epoch 6/25\n",
      "94/94 [==============================] - 6s 62ms/step - loss: 0.2767 - accuracy: 0.8992 - val_loss: 0.3080 - val_accuracy: 0.8899\n",
      "Epoch 7/25\n",
      "94/94 [==============================] - 6s 63ms/step - loss: 0.2641 - accuracy: 0.9046 - val_loss: 0.2860 - val_accuracy: 0.8958\n",
      "Epoch 8/25\n",
      "94/94 [==============================] - 6s 62ms/step - loss: 0.2515 - accuracy: 0.9076 - val_loss: 0.2742 - val_accuracy: 0.9003\n",
      "Epoch 9/25\n",
      "94/94 [==============================] - 6s 62ms/step - loss: 0.2382 - accuracy: 0.9130 - val_loss: 0.2752 - val_accuracy: 0.8968\n",
      "Epoch 10/25\n",
      "94/94 [==============================] - 6s 63ms/step - loss: 0.2313 - accuracy: 0.9143 - val_loss: 0.2649 - val_accuracy: 0.9050\n",
      "Epoch 11/25\n",
      "94/94 [==============================] - 113s 1s/step - loss: 0.2228 - accuracy: 0.9176 - val_loss: 0.2576 - val_accuracy: 0.9104\n",
      "Epoch 12/25\n",
      "94/94 [==============================] - 6s 66ms/step - loss: 0.2135 - accuracy: 0.9214 - val_loss: 0.2633 - val_accuracy: 0.9053\n",
      "Epoch 13/25\n",
      "94/94 [==============================] - 6s 65ms/step - loss: 0.2086 - accuracy: 0.9233 - val_loss: 0.2809 - val_accuracy: 0.8969\n",
      "Epoch 14/25\n",
      "94/94 [==============================] - 6s 64ms/step - loss: 0.2008 - accuracy: 0.9262 - val_loss: 0.2618 - val_accuracy: 0.9056\n",
      "Epoch 15/25\n",
      "94/94 [==============================] - 6s 65ms/step - loss: 0.1936 - accuracy: 0.9290 - val_loss: 0.2602 - val_accuracy: 0.9073\n",
      "Epoch 16/25\n",
      "94/94 [==============================] - 6s 63ms/step - loss: 0.1847 - accuracy: 0.9331 - val_loss: 0.2387 - val_accuracy: 0.9157\n",
      "Epoch 17/25\n",
      "94/94 [==============================] - 6s 63ms/step - loss: 0.1823 - accuracy: 0.9329 - val_loss: 0.2403 - val_accuracy: 0.9147\n",
      "Epoch 18/25\n",
      "94/94 [==============================] - 6s 63ms/step - loss: 0.1759 - accuracy: 0.9344 - val_loss: 0.2410 - val_accuracy: 0.9158\n",
      "Epoch 19/25\n",
      "94/94 [==============================] - 6s 63ms/step - loss: 0.1728 - accuracy: 0.9356 - val_loss: 0.2452 - val_accuracy: 0.9143\n",
      "Epoch 20/25\n",
      "94/94 [==============================] - 6s 63ms/step - loss: 0.1661 - accuracy: 0.9393 - val_loss: 0.2360 - val_accuracy: 0.9161\n",
      "Epoch 21/25\n",
      "94/94 [==============================] - 6s 63ms/step - loss: 0.1604 - accuracy: 0.9402 - val_loss: 0.2499 - val_accuracy: 0.9138\n",
      "Epoch 22/25\n",
      "94/94 [==============================] - 6s 63ms/step - loss: 0.1578 - accuracy: 0.9416 - val_loss: 0.2463 - val_accuracy: 0.9139\n",
      "Epoch 23/25\n",
      "94/94 [==============================] - 6s 63ms/step - loss: 0.1514 - accuracy: 0.9448 - val_loss: 0.2345 - val_accuracy: 0.9187\n",
      "Epoch 24/25\n",
      "94/94 [==============================] - 6s 63ms/step - loss: 0.1478 - accuracy: 0.9460 - val_loss: 0.2502 - val_accuracy: 0.9147\n",
      "Epoch 25/25\n",
      "94/94 [==============================] - 6s 63ms/step - loss: 0.1455 - accuracy: 0.9462 - val_loss: 0.2519 - val_accuracy: 0.9135\n"
     ]
    }
   ],
   "source": [
    "history3 = model3.fit(X_tt_conv, \n",
    "                      to_categorical(y_tt), \n",
    "                      epochs=n_epochs, \n",
    "                      batch_size=512,\n",
    "                      validation_data=(X_val_conv,to_categorical(y_val)))\n",
    "\n",
    "history_dict3 = history3.history"
   ]
  },
  {
   "cell_type": "code",
   "execution_count": 19,
   "id": "bbf9d74c",
   "metadata": {},
   "outputs": [
    {
     "data": {
      "image/png": "[encoded data removed]",
      "text/plain": [
       "<Figure size 1008x576 with 1 Axes>"
      ]
     },
     "metadata": {},
     "output_type": "display_data"
    }
   ],
   "source": [
    "## Plot the validation set accuracy for your chosen model and model3\n",
    "## against the number of epochs trained\n",
    "plt.figure(figsize=(14,8))\n",
    "\n",
    "plt.scatter(range(1,n_epochs+1), \n",
    "            history_dict1['val_accuracy'], \n",
    "            label=\"No Dropout\")\n",
    "plt.scatter(range(1,n_epochs+1), \n",
    "            history_dict3['val_accuracy'], \n",
    "            marker='v',\n",
    "            label=\"With Dropout\")\n",
    "\n",
    "plt.xlabel(\"Epoch\", fontsize=18)\n",
    "plt.ylabel(\"Accuracy\", fontsize=18)\n",
    "\n",
    "plt.xticks(fontsize=14)\n",
    "plt.yticks(fontsize=14)\n",
    "\n",
    "plt.legend(fontsize=14)\n",
    "\n",
    "\n",
    "plt.show()"
   ]
  },
  {
   "cell_type": "markdown",
   "id": "01f09508",
   "metadata": {},
   "source": [
    "How does the model with dropout compare to the equivalent model without dropout?"
   ]
  },
  {
   "cell_type": "markdown",
   "id": "c87d95a2",
   "metadata": {},
   "source": [
    "##### Sample Solution\n",
    "\n",
    "The dropout seems to provide slightly better performance than the model without dropout."
   ]
  },
  {
   "cell_type": "markdown",
   "id": "14edb649",
   "metadata": {},
   "source": [
    "##### 6. Choosing a final convolutional neural network model\n",
    "\n",
    "Select one convolutional neural network model from the three models we have considered in this notebook.\n",
    "\n",
    "Remake the model and train it to the appropriate number of epochs."
   ]
  },
  {
   "cell_type": "markdown",
   "id": "f861cf0c",
   "metadata": {},
   "source": [
    "##### Sample Solution\n",
    "\n",
    "I went with `model3`."
   ]
  },
  {
   "cell_type": "code",
   "execution_count": 20,
   "id": "738a64e9",
   "metadata": {},
   "outputs": [],
   "source": [
    "## Make an empty sequential model\n",
    "cnn_final_model = models.Sequential()\n",
    "\n",
    "## Add the convolutional layer here\n",
    "cnn_final_model.add(layers.Conv2D(64, (3, 3), activation='relu', input_shape=(28,28,1)))\n",
    "\n",
    "## Add the pooling layer here\n",
    "cnn_final_model.add(layers.MaxPooling2D((2,2), strides=2))\n",
    "\n",
    "## Add the flatten layer\n",
    "cnn_final_model.add(layers.Flatten())\n",
    "\n",
    "## Add the dropout layer, set the dropout probability to .5\n",
    "cnn_final_model.add(layers.Dropout(.5))\n",
    "\n",
    "## Add the feed forward layer, use 64 nodes\n",
    "cnn_final_model.add(layers.Dense(64, activation='relu'))\n",
    "\n",
    "## Add the output layer\n",
    "cnn_final_model.add(layers.Dense(10, activation='softmax'))\n",
    "\n",
    "## Same compile step from notebook 11\n",
    "cnn_final_model.compile(optimizer = 'rmsprop',\n",
    "                 loss = 'categorical_crossentropy',\n",
    "                 metrics = ['accuracy'])"
   ]
  },
  {
   "cell_type": "code",
   "execution_count": 21,
   "id": "c6396526",
   "metadata": {},
   "outputs": [
    {
     "name": "stdout",
     "output_type": "stream",
     "text": [
      "Epoch 1/20\n",
      "94/94 [==============================] - 6s 63ms/step - loss: 0.6704 - accuracy: 0.7667 - val_loss: 0.4431 - val_accuracy: 0.8409\n",
      "Epoch 2/20\n",
      "94/94 [==============================] - 6s 63ms/step - loss: 0.4036 - accuracy: 0.8565 - val_loss: 0.3592 - val_accuracy: 0.8718\n",
      "Epoch 3/20\n",
      "94/94 [==============================] - 6s 63ms/step - loss: 0.3463 - accuracy: 0.8760 - val_loss: 0.3218 - val_accuracy: 0.8849\n",
      "Epoch 4/20\n",
      "94/94 [==============================] - 6s 62ms/step - loss: 0.3143 - accuracy: 0.8874 - val_loss: 0.3125 - val_accuracy: 0.8857\n",
      "Epoch 5/20\n",
      "94/94 [==============================] - 6s 63ms/step - loss: 0.2939 - accuracy: 0.8945 - val_loss: 0.2924 - val_accuracy: 0.8967\n",
      "Epoch 6/20\n",
      "94/94 [==============================] - 6s 62ms/step - loss: 0.2762 - accuracy: 0.9007 - val_loss: 0.2755 - val_accuracy: 0.9008\n",
      "Epoch 7/20\n",
      "94/94 [==============================] - 6s 63ms/step - loss: 0.2618 - accuracy: 0.9049 - val_loss: 0.2840 - val_accuracy: 0.8969\n",
      "Epoch 8/20\n",
      "94/94 [==============================] - 6s 63ms/step - loss: 0.2490 - accuracy: 0.9094 - val_loss: 0.2638 - val_accuracy: 0.9077\n",
      "Epoch 9/20\n",
      "94/94 [==============================] - 6s 62ms/step - loss: 0.2372 - accuracy: 0.9130 - val_loss: 0.2707 - val_accuracy: 0.9071\n",
      "Epoch 10/20\n",
      "94/94 [==============================] - 6s 62ms/step - loss: 0.2281 - accuracy: 0.9160 - val_loss: 0.2565 - val_accuracy: 0.9063\n",
      "Epoch 11/20\n",
      "94/94 [==============================] - 6s 62ms/step - loss: 0.2197 - accuracy: 0.9195 - val_loss: 0.2532 - val_accuracy: 0.9075\n",
      "Epoch 12/20\n",
      "94/94 [==============================] - 6s 62ms/step - loss: 0.2140 - accuracy: 0.9210 - val_loss: 0.2610 - val_accuracy: 0.9073\n",
      "Epoch 13/20\n",
      "94/94 [==============================] - 6s 63ms/step - loss: 0.2062 - accuracy: 0.9234 - val_loss: 0.2469 - val_accuracy: 0.9122\n",
      "Epoch 14/20\n",
      "94/94 [==============================] - 6s 63ms/step - loss: 0.1972 - accuracy: 0.9270 - val_loss: 0.2391 - val_accuracy: 0.9176\n",
      "Epoch 15/20\n",
      "94/94 [==============================] - 6s 65ms/step - loss: 0.1947 - accuracy: 0.9274 - val_loss: 0.2536 - val_accuracy: 0.9058\n",
      "Epoch 16/20\n",
      "94/94 [==============================] - 6s 63ms/step - loss: 0.1846 - accuracy: 0.9322 - val_loss: 0.2481 - val_accuracy: 0.9141\n",
      "Epoch 17/20\n",
      "94/94 [==============================] - 6s 65ms/step - loss: 0.1829 - accuracy: 0.9330 - val_loss: 0.2366 - val_accuracy: 0.9177\n",
      "Epoch 18/20\n",
      "94/94 [==============================] - 6s 65ms/step - loss: 0.1742 - accuracy: 0.9350 - val_loss: 0.2345 - val_accuracy: 0.9186\n",
      "Epoch 19/20\n",
      "94/94 [==============================] - 6s 65ms/step - loss: 0.1711 - accuracy: 0.9369 - val_loss: 0.2388 - val_accuracy: 0.9172\n",
      "Epoch 20/20\n",
      "94/94 [==============================] - 6s 64ms/step - loss: 0.1674 - accuracy: 0.9377 - val_loss: 0.2316 - val_accuracy: 0.9196\n"
     ]
    }
   ],
   "source": [
    "history_cnn_final = cnn_final_model.fit(X_tt_conv, \n",
    "                      to_categorical(y_tt), \n",
    "                      epochs=20, \n",
    "                      batch_size=512,\n",
    "                      validation_data=(X_val_conv,to_categorical(y_val)))\n",
    "\n",
    "history_dict_cnn_final = history_cnn_final.history"
   ]
  },
  {
   "cell_type": "markdown",
   "id": "ae64d495",
   "metadata": {},
   "source": [
    "##### 7. Compare to feed forward\n",
    "\n",
    "Compare the validation set accuracy of this network to the accuracy from the pre-trained model you loaded.\n",
    "\n",
    "<i>If you are using `nb11_matts_final_model` you will need to run the data through PCA trained on the training set with `n_components = .99`</i>."
   ]
  },
  {
   "cell_type": "code",
   "execution_count": 22,
   "id": "661f7ad2",
   "metadata": {},
   "outputs": [],
   "source": [
    "from sklearn.decomposition import PCA\n",
    "from sklearn.metrics import accuracy_score"
   ]
  },
  {
   "cell_type": "code",
   "execution_count": 23,
   "id": "df672c2b",
   "metadata": {},
   "outputs": [],
   "source": [
    "pca = PCA(n_components = .99)\n",
    "\n",
    "pca.fit(X_tt.reshape(-1, 28*28))\n",
    "\n",
    "X_tt_pca = pca.transform(X_tt.reshape(-1, 28*28))\n",
    "X_val_pca = pca.transform(X_val.reshape(-1, 28*28))"
   ]
  },
  {
   "cell_type": "code",
   "execution_count": 24,
   "id": "18a489e1",
   "metadata": {},
   "outputs": [
    {
     "data": {
      "text/plain": [
       "0.8838333333333334"
      ]
     },
     "execution_count": 24,
     "metadata": {},
     "output_type": "execute_result"
    }
   ],
   "source": [
    "## Feed forward validation accuracy\n",
    "accuracy_score(y_val, np.argmax(nb_11_model.predict(X_val_pca), axis=1))"
   ]
  },
  {
   "cell_type": "code",
   "execution_count": 25,
   "id": "a211e01a",
   "metadata": {},
   "outputs": [
    {
     "data": {
      "text/plain": [
       "0.9195833333333333"
      ]
     },
     "execution_count": 25,
     "metadata": {},
     "output_type": "execute_result"
    }
   ],
   "source": [
    "## CNN validation accuracy\n",
    "accuracy_score(y_val, np.argmax(cnn_final_model.predict(X_val_conv), axis=1))"
   ]
  },
  {
   "cell_type": "markdown",
   "id": "356b171d",
   "metadata": {},
   "source": [
    "An improvement."
   ]
  },
  {
   "cell_type": "markdown",
   "id": "72621947",
   "metadata": {},
   "source": [
    "##### 8. Performance on the test set\n",
    "\n",
    "While you are free to fiddle around and try additional neural networks, this problem assumes that you have landed on a final network.\n",
    "\n",
    "Gauge the performance of your final network on the test set.\n",
    "\n",
    "Compare it to its performance on the training set."
   ]
  },
  {
   "cell_type": "code",
   "execution_count": 26,
   "id": "4b4b8cc0",
   "metadata": {},
   "outputs": [],
   "source": [
    "del cnn_final_model\n",
    "\n",
    "\n",
    "## Make an empty sequential model\n",
    "cnn_final_model = models.Sequential()\n",
    "\n",
    "## Add the convolutional layer here\n",
    "cnn_final_model.add(layers.Conv2D(64, (3, 3), activation='relu', input_shape=(28,28,1)))\n",
    "\n",
    "## Add the pooling layer here\n",
    "cnn_final_model.add(layers.MaxPooling2D((2,2), strides=2))\n",
    "\n",
    "## Add the flatten layer\n",
    "cnn_final_model.add(layers.Flatten())\n",
    "\n",
    "## Add the dropout layer, set the dropout probability to .5\n",
    "cnn_final_model.add(layers.Dropout(.5))\n",
    "\n",
    "## Add the feed forward layer, use 64 nodes\n",
    "cnn_final_model.add(layers.Dense(64, activation='relu'))\n",
    "\n",
    "## Add the output layer\n",
    "cnn_final_model.add(layers.Dense(10, activation='softmax'))\n",
    "\n",
    "## Same compile step from notebook 11\n",
    "cnn_final_model.compile(optimizer = 'rmsprop',\n",
    "                 loss = 'categorical_crossentropy',\n",
    "                 metrics = ['accuracy'])"
   ]
  },
  {
   "cell_type": "code",
   "execution_count": 27,
   "id": "0865f135",
   "metadata": {},
   "outputs": [
    {
     "name": "stdout",
     "output_type": "stream",
     "text": [
      "Epoch 1/20\n",
      "118/118 [==============================] - 7s 61ms/step - loss: 0.6656 - accuracy: 0.7591\n",
      "Epoch 2/20\n",
      "118/118 [==============================] - 7s 62ms/step - loss: 0.4013 - accuracy: 0.8564\n",
      "Epoch 3/20\n",
      "118/118 [==============================] - 7s 60ms/step - loss: 0.3454 - accuracy: 0.8767\n",
      "Epoch 4/20\n",
      "118/118 [==============================] - 7s 61ms/step - loss: 0.3120 - accuracy: 0.8886\n",
      "Epoch 5/20\n",
      "118/118 [==============================] - 7s 61ms/step - loss: 0.2893 - accuracy: 0.8960\n",
      "Epoch 6/20\n",
      "118/118 [==============================] - 7s 61ms/step - loss: 0.2721 - accuracy: 0.9027\n",
      "Epoch 7/20\n",
      "118/118 [==============================] - 7s 60ms/step - loss: 0.2568 - accuracy: 0.9064\n",
      "Epoch 8/20\n",
      "118/118 [==============================] - 7s 64ms/step - loss: 0.2447 - accuracy: 0.9114\n",
      "Epoch 9/20\n",
      "118/118 [==============================] - 7s 60ms/step - loss: 0.2352 - accuracy: 0.9136\n",
      "Epoch 10/20\n",
      "118/118 [==============================] - 7s 60ms/step - loss: 0.2246 - accuracy: 0.9181\n",
      "Epoch 11/20\n",
      "118/118 [==============================] - 7s 59ms/step - loss: 0.2155 - accuracy: 0.9205\n",
      "Epoch 12/20\n",
      "118/118 [==============================] - 7s 59ms/step - loss: 0.2074 - accuracy: 0.9238\n",
      "Epoch 13/20\n",
      "118/118 [==============================] - 7s 59ms/step - loss: 0.2013 - accuracy: 0.9245\n",
      "Epoch 14/20\n",
      "118/118 [==============================] - 7s 59ms/step - loss: 0.1941 - accuracy: 0.9273\n",
      "Epoch 15/20\n",
      "118/118 [==============================] - 7s 59ms/step - loss: 0.1901 - accuracy: 0.9292\n",
      "Epoch 16/20\n",
      "118/118 [==============================] - 7s 59ms/step - loss: 0.1822 - accuracy: 0.9314\n",
      "Epoch 17/20\n",
      "118/118 [==============================] - 7s 60ms/step - loss: 0.1781 - accuracy: 0.9341\n",
      "Epoch 18/20\n",
      "118/118 [==============================] - 7s 60ms/step - loss: 0.1738 - accuracy: 0.9348\n",
      "Epoch 19/20\n",
      "118/118 [==============================] - 7s 60ms/step - loss: 0.1651 - accuracy: 0.9380\n",
      "Epoch 20/20\n",
      "118/118 [==============================] - 7s 60ms/step - loss: 0.1633 - accuracy: 0.9398\n"
     ]
    }
   ],
   "source": [
    "history_cnn_final = cnn_final_model.fit(X_train.reshape(-1, 28, 28, 1), \n",
    "                      to_categorical(y_train), \n",
    "                      epochs=20, \n",
    "                      batch_size=512)\n",
    "\n",
    "history_dict_cnn_final = history_cnn_final.history"
   ]
  },
  {
   "cell_type": "code",
   "execution_count": 28,
   "id": "e9fa07b8",
   "metadata": {},
   "outputs": [
    {
     "name": "stdout",
     "output_type": "stream",
     "text": [
      "Training set accuracy\n",
      "++++++++++++++++++++++++++++\n"
     ]
    },
    {
     "data": {
      "text/plain": [
       "0.9240666666666667"
      ]
     },
     "execution_count": 28,
     "metadata": {},
     "output_type": "execute_result"
    }
   ],
   "source": [
    "print(\"Training set accuracy\")\n",
    "print(\"++++++++++++++++++++++++++++\")\n",
    "accuracy_score(y_train, np.argmax(cnn_final_model.predict(X_train.reshape(-1, 28, 28, 1)), axis=1))"
   ]
  },
  {
   "cell_type": "code",
   "execution_count": 29,
   "id": "fbb50c5b",
   "metadata": {},
   "outputs": [
    {
     "name": "stdout",
     "output_type": "stream",
     "text": [
      "Test set accuracy\n",
      "++++++++++++++++++++++++++++\n"
     ]
    },
    {
     "data": {
      "text/plain": [
       "0.8923"
      ]
     },
     "execution_count": 29,
     "metadata": {},
     "output_type": "execute_result"
    }
   ],
   "source": [
    "print(\"Test set accuracy\")\n",
    "print(\"++++++++++++++++++++++++++++\")\n",
    "accuracy_score(y_test, np.argmax(cnn_final_model.predict(X_test.reshape(-1, 28, 28, 1)), axis=1))"
   ]
  },
  {
   "cell_type": "markdown",
   "id": "bde353cc",
   "metadata": {},
   "source": [
    "--------------------------\n",
    "\n",
    "This notebook was written for the Erd&#337;s Institute C&#337;de Data Science Boot Camp by Matthew Osborne, Ph. D., 2022.\n",
    "\n",
    "Any potential redistributors must seek and receive permission from Matthew Tyler Osborne, Ph.D. prior to redistribution. Redistribution of the material contained in this repository is conditional on acknowledgement of Matthew Tyler Osborne, Ph.D.'s original authorship and sponsorship of the Erdős Institute as subject to the license (see License.md)"
   ]
  },
  {
   "cell_type": "code",
   "execution_count": null,
   "id": "1090b966",
   "metadata": {},
   "outputs": [],
   "source": []
  }
 ],
 "metadata": {
  "kernelspec": {
   "display_name": "Python 3 (ipykernel)",
   "language": "python",
   "name": "python3"
  },
  "language_info": {
   "codemirror_mode": {
    "name": "ipython",
    "version": 3
   },
   "file_extension": ".py",
   "mimetype": "text/x-python",
   "name": "python",
   "nbconvert_exporter": "python",
   "pygments_lexer": "ipython3",
   "version": "3.9.9"
  }
 },
 "nbformat": 4,
 "nbformat_minor": 5
}
