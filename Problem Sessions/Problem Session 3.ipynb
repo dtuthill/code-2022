{
 "cells": [
  {
   "cell_type": "markdown",
   "id": "2281d7cd",
   "metadata": {},
   "source": [
    "# Problem Session 3\n",
    "## More Regression\n",
    "\n",
    "The problems in this notebook will touch on the content covered in our `Regression` lectures including:\n",
    "- `Simple Linear Regression`,\n",
    "- `A First Predictive Modeling Project`,\n",
    "- `Multiple Linear Regression` and\n",
    "- `Categorical Variables and Interactions`."
   ]
  },
  {
   "cell_type": "code",
   "execution_count": 1,
   "id": "0c99c36d",
   "metadata": {},
   "outputs": [],
   "source": [
    "import pandas as pd\n",
    "import numpy as np\n",
    "import matplotlib.pyplot as plt\n",
    "from seaborn import set_style\n",
    "\n",
    "set_style(\"whitegrid\")"
   ]
  },
  {
   "cell_type": "markdown",
   "id": "aa43bb11",
   "metadata": {},
   "source": [
    "## Baseball is Back\n",
    "\n",
    "Our first two problems will deal with the baseball data set we have worked with in the lecture notebooks.\n",
    "\n",
    "##### 1. Run differential\n",
    "\n",
    "A common statistic in baseball is called the <i>run differential</i>. This stat is the difference between the runs your team scores and the runs they let their opponents score. \n",
    "\n",
    "- Load the `baseball.csv` data set,\n",
    "- Create a `RD` column by computing `R - RA`,\n",
    "- Make a train test split with $20\\%$ in the test set and\n",
    "- then plot `W` against `RD`. \n",
    "\n",
    "Does there appear to be a linear relationship between the two?"
   ]
  },
  {
   "cell_type": "code",
   "execution_count": 2,
   "id": "c1b6a399",
   "metadata": {},
   "outputs": [],
   "source": [
    "## load baseball\n",
    "baseball = pd.read_csv(\"../Data/baseball.csv\")"
   ]
  },
  {
   "cell_type": "code",
   "execution_count": null,
   "id": "0fb1a6cf",
   "metadata": {},
   "outputs": [],
   "source": [
    "## Make RD here\n",
    "\n",
    "\n"
   ]
  },
  {
   "cell_type": "code",
   "execution_count": null,
   "id": "ba9e3bd6",
   "metadata": {},
   "outputs": [],
   "source": [
    "## import train test split here\n",
    "\n",
    "\n"
   ]
  },
  {
   "cell_type": "code",
   "execution_count": null,
   "id": "1fb2538a",
   "metadata": {},
   "outputs": [],
   "source": [
    "## make the train test split here\n",
    "\n",
    "\n"
   ]
  },
  {
   "cell_type": "code",
   "execution_count": null,
   "id": "a8cc2b15",
   "metadata": {},
   "outputs": [],
   "source": [
    "## plot W against RD here\n",
    "plt.figure(figsize=(8,6))\n",
    "\n",
    "plt.scatter()\n",
    "\n",
    "plt.xlabel()\n",
    "plt.ylabel()\n",
    "\n",
    "plt.show()"
   ]
  },
  {
   "cell_type": "markdown",
   "id": "3a911045",
   "metadata": {},
   "source": [
    "##### 2. Comparing two models.\n",
    "\n",
    "In the `Multiple Linear Regression` notebook we built this model:\n",
    "\n",
    "$$\n",
    "\\texttt{W} = \\beta_0 + \\beta_1 \\texttt{R} + \\beta_2 \\texttt{RD} + \\epsilon.\n",
    "$$\n",
    "\n",
    "Does having `RD` broken down into its component parts make for \"better\" predictions?\n",
    "\n",
    "Use a validation set to see if the above model has a lower validation MSE than this simple linear regression model:\n",
    "\n",
    "$$\n",
    "\\texttt{W} = \\beta_0 + \\beta_1 \\texttt{RD} + \\epsilon.\n",
    "$$\n",
    "\n",
    "<i>Note: We are using a validation set here because it will be faster than cross-validation.</i>"
   ]
  },
  {
   "cell_type": "code",
   "execution_count": null,
   "id": "d8b988f4",
   "metadata": {},
   "outputs": [],
   "source": [
    "## Make a validation set\n",
    "\n",
    "\n"
   ]
  },
  {
   "cell_type": "code",
   "execution_count": null,
   "id": "4e7e412e",
   "metadata": {},
   "outputs": [],
   "source": [
    "## Import LinearRegression here\n",
    "\n",
    "\n",
    "## Import mean_squared_error here"
   ]
  },
  {
   "cell_type": "code",
   "execution_count": null,
   "id": "ecb3e592",
   "metadata": {},
   "outputs": [],
   "source": [
    "## Make the MLR model here\n",
    "\n",
    "## make a model object\n",
    "\n",
    "\n",
    "## fit the model\n",
    "\n",
    "\n",
    "## get the prediction on the validation set\n",
    "\n",
    "\n",
    "\n",
    "## print the validation MSE\n"
   ]
  },
  {
   "cell_type": "code",
   "execution_count": null,
   "id": "dbb65c51",
   "metadata": {},
   "outputs": [],
   "source": [
    "## Make the SLR model here\n",
    "\n",
    "## make a model object\n",
    "\n",
    "\n",
    "## fit the model\n",
    "\n",
    "\n",
    "## get the prediction on the validation set\n",
    "\n",
    "\n",
    "\n",
    "## print the validation MSE\n"
   ]
  },
  {
   "cell_type": "code",
   "execution_count": null,
   "id": "f371a8db",
   "metadata": {},
   "outputs": [],
   "source": [
    "## write or code here\n",
    "\n",
    "\n"
   ]
  },
  {
   "cell_type": "markdown",
   "id": "21176d04",
   "metadata": {},
   "source": [
    "## Carseats\n",
    "\n",
    "Now lets return to building predictive models to predict carseat `Sales`.\n",
    "\n",
    "##### 3. Load and prepare the data\n",
    "\n",
    "First load the `carseats.csv` data set and make a train test split of the data, set aside $20\\%$ of the data for test set purposes."
   ]
  },
  {
   "cell_type": "code",
   "execution_count": null,
   "id": "bcdba407",
   "metadata": {},
   "outputs": [],
   "source": [
    "carseats = pd.read_csv(\"../Data/carseats.csv\")"
   ]
  },
  {
   "cell_type": "code",
   "execution_count": null,
   "id": "44097f4d",
   "metadata": {},
   "outputs": [],
   "source": [
    "## code here\n",
    "\n",
    "\n"
   ]
  },
  {
   "cell_type": "markdown",
   "id": "a6a793b3",
   "metadata": {},
   "source": [
    "##### 4. More EDA\n",
    "\n",
    "First load the scatter plots and correlation code chunks below to remind yourself of the EDA you accomplished in `Problem Set 2`."
   ]
  },
  {
   "cell_type": "code",
   "execution_count": null,
   "id": "bd09bfdd",
   "metadata": {},
   "outputs": [],
   "source": [
    "import matplotlib.pyplot as plt\n",
    "from seaborn import set_style, pairplot\n",
    "\n",
    "set_style(\"whitegrid\")"
   ]
  },
  {
   "cell_type": "code",
   "execution_count": null,
   "id": "52d8f4f2",
   "metadata": {},
   "outputs": [],
   "source": [
    "pairplot(car_train[['Sales', 'CompPrice', 'Income', 'Advertising', 'Population']],\n",
    "            x_vars = ['CompPrice', 'Income', 'Advertising', 'Population'],\n",
    "            y_vars = ['Sales'],\n",
    "            height = 3)\n",
    "\n",
    "plt.show()\n",
    "\n",
    "print(\"\\n\\n\\n\\n\")\n",
    "\n",
    "pairplot(car_train[['Sales', 'Price', 'Age', 'Education']],\n",
    "            y_vars = ['Sales'],\n",
    "            x_vars = ['Price', 'Age', 'Education'],\n",
    "            height = 3)\n",
    "\n",
    "plt.show()"
   ]
  },
  {
   "cell_type": "code",
   "execution_count": null,
   "id": "8626f452",
   "metadata": {},
   "outputs": [],
   "source": [
    "print(\"Correlation with Sales\")\n",
    "print(\"==================\")\n",
    "car_train[['Sales', 'CompPrice', 'Income', 'Advertising', \n",
    "                        'Population', 'Price', 'Age', 'Education']].corr()['Sales'].sort_values()"
   ]
  },
  {
   "cell_type": "markdown",
   "id": "7a009d80",
   "metadata": {},
   "source": [
    "Now let's do some EDA for the variables we have not yet examined, `ShelveLoc`, `Urban` and `US`.\n",
    "\n",
    "- Using `seaborn`'s `swarmplot`, <a href=\"https://seaborn.pydata.org/generated/seaborn.swarmplot.html\">https://seaborn.pydata.org/generated/seaborn.swarmplot.html</a> visually explore if there appears to be different `Sales` for different values of `ShelveLoc`, `Urban`, and `US`.\n",
    "- Using `pandas` `groupby`, <a href=\"https://pandas.pydata.org/docs/reference/api/pandas.DataFrame.groupby.html\">https://pandas.pydata.org/docs/reference/api/pandas.DataFrame.groupby.html</a>, examine the medians, and means of `Sales` for different values of `ShelveLoc`, `Urban`, and `US`."
   ]
  },
  {
   "cell_type": "code",
   "execution_count": null,
   "id": "09037cbe",
   "metadata": {},
   "outputs": [],
   "source": [
    "## import swarmplot here\n",
    "\n",
    "\n"
   ]
  },
  {
   "cell_type": "code",
   "execution_count": null,
   "id": "3adb14e2",
   "metadata": {},
   "outputs": [],
   "source": [
    "## Here is the sample code for the swarmplot of 'ShelveLoc'\n",
    "plt.figure(figsize=(8,6))\n",
    "\n",
    "swarmplot(data = car_train,\n",
    "             y = 'Sales',\n",
    "             x = 'ShelveLoc')\n",
    "\n",
    "plt.ylabel(\"Sales\", fontsize=16)\n",
    "plt.xlabel(\"ShelveLoc\", fontsize=16)\n",
    "plt.xticks(fontsize=14)\n",
    "plt.show()\n",
    "\n",
    "## Make swarmplots for 'Urban' and 'US' here\n"
   ]
  },
  {
   "cell_type": "code",
   "execution_count": null,
   "id": "3df7ae56",
   "metadata": {},
   "outputs": [],
   "source": [
    "## do groupbys here\n",
    "\n",
    "## here is sample code for ShelveLoc\n",
    "print(\"ShelveLoc\")\n",
    "print(\"+++++++++++++++++++++\")\n",
    "print(\"Mean\")\n",
    "print(car_train.groupby(\"ShelveLoc\").Sales.mean())\n",
    "print()\n",
    "print(\"Median\")\n",
    "print(car_train.groupby(\"ShelveLoc\").Sales.median())\n",
    "print()\n",
    "print()\n"
   ]
  },
  {
   "cell_type": "markdown",
   "id": "5b35e9fc",
   "metadata": {},
   "source": [
    "##### 5. Choosing some models\n",
    "\n",
    "Choose a few different linear regression models based on your explorations and write them down. If your models include categorical variables like `ShelveLoc`, `Urban`, or `US` make the one hot encoded variables below.\n",
    "\n",
    "<i>If you are struggling to come up with some models here are some potential models you could try, note if you have models that you want to try feel free to ignore these suggestions :):</i>\n",
    "\n",
    "$$\n",
    "\\text{Sales} = \\beta_0 + \\beta_1 \\text{Price} + \\epsilon\n",
    "$$\n",
    "\n",
    "$$\n",
    "\\text{Sales} = \\beta_0 + \\beta_1 \\text{Price} + \\beta_2 \\text{Advertising} + \\epsilon\n",
    "$$\n",
    "\n",
    "$$\n",
    "\\text{Sales} = \\beta_0 + \\beta_1 \\text{Price} + \\beta_2  \\text{ShelveLoc_Bad} + \\beta_3 \\text{ShelveLoc_Good} + \\epsilon\n",
    "$$\n",
    "\n",
    "$$\n",
    "\\text{Sales} = \\beta_0 + \\beta_1 \\text{Price} + \\beta_2 \\text{Advertising} + \\beta_3  \\text{ShelveLoc_Bad} + \\beta_4 \\text{ShelveLoc_Good} + \\epsilon\n",
    "$$\n",
    "\n",
    "$$\n",
    "\\text{Sales} = \\beta_0 + \\beta_1 \\text{Price} + \\beta_2 \\text{Advertising} + \\beta_3  \\text{ShelveLoc_Bad} + \\beta_4 \\text{ShelveLoc_Good} + \\beta_5 \\text{Population} + \\epsilon\n",
    "$$"
   ]
  },
  {
   "cell_type": "markdown",
   "id": "2c6eea7a",
   "metadata": {},
   "source": [
    "##### Write your models here\n",
    "\n"
   ]
  },
  {
   "cell_type": "code",
   "execution_count": null,
   "id": "0958ce56",
   "metadata": {},
   "outputs": [],
   "source": [
    "## code here\n",
    "\n",
    "\n",
    "\n",
    "\n",
    "\n"
   ]
  },
  {
   "cell_type": "code",
   "execution_count": null,
   "id": "c98b4dba",
   "metadata": {},
   "outputs": [],
   "source": [
    "## code here\n",
    "\n",
    "\n",
    "\n",
    "\n",
    "\n"
   ]
  },
  {
   "cell_type": "code",
   "execution_count": null,
   "id": "bba4a507",
   "metadata": {},
   "outputs": [],
   "source": [
    "## code here\n",
    "\n",
    "\n",
    "\n",
    "\n",
    "\n"
   ]
  },
  {
   "cell_type": "markdown",
   "id": "7483a5dd",
   "metadata": {},
   "source": [
    "##### 6. Model Comparison\n",
    "\n",
    "Compare the models you chose using cross-validation to find the one we think will have the lowest MSE. Remember to include a baseline model for comparison purposes."
   ]
  },
  {
   "cell_type": "code",
   "execution_count": null,
   "id": "4f279ced",
   "metadata": {},
   "outputs": [],
   "source": [
    "## import kfold and anything else you need here\n",
    "\n",
    "\n"
   ]
  },
  {
   "cell_type": "code",
   "execution_count": null,
   "id": "eb6dab9a",
   "metadata": {},
   "outputs": [],
   "source": [
    "## Code here\n",
    "\n",
    "\n"
   ]
  },
  {
   "cell_type": "code",
   "execution_count": null,
   "id": "e1529945",
   "metadata": {},
   "outputs": [],
   "source": [
    "## Code here\n",
    "\n",
    "\n"
   ]
  },
  {
   "cell_type": "code",
   "execution_count": null,
   "id": "b759d15b",
   "metadata": {},
   "outputs": [],
   "source": [
    "## Code here\n",
    "\n",
    "\n"
   ]
  },
  {
   "cell_type": "code",
   "execution_count": null,
   "id": "44c83e46",
   "metadata": {},
   "outputs": [],
   "source": [
    "## Code here\n",
    "\n",
    "\n"
   ]
  },
  {
   "cell_type": "markdown",
   "id": "0c9cdf66",
   "metadata": {},
   "source": [
    "--------------------------\n",
    "\n",
    "This notebook was written for the Erd&#337;s Institute C&#337;de Data Science Boot Camp by Matthew Osborne, Ph. D., 2022.\n",
    "\n",
    "Any potential redistributors must seek and receive permission from Matthew Tyler Osborne, Ph.D. prior to redistribution. Redistribution of the material contained in this repository is conditional on acknowledgement of Matthew Tyler Osborne, Ph.D.'s original authorship and sponsorship of the Erdős Institute as subject to the license (see License.md)"
   ]
  },
  {
   "cell_type": "code",
   "execution_count": null,
   "id": "d05bbf65",
   "metadata": {},
   "outputs": [],
   "source": []
  }
 ],
 "metadata": {
  "kernelspec": {
   "display_name": "Python 3 (ipykernel)",
   "language": "python",
   "name": "python3"
  },
  "language_info": {
   "codemirror_mode": {
    "name": "ipython",
    "version": 3
   },
   "file_extension": ".py",
   "mimetype": "text/x-python",
   "name": "python",
   "nbconvert_exporter": "python",
   "pygments_lexer": "ipython3",
   "version": "3.9.9"
  }
 },
 "nbformat": 4,
 "nbformat_minor": 5
}
