{
 "cells": [
  {
   "cell_type": "markdown",
   "id": "b5247e7c",
   "metadata": {},
   "source": [
    "# Problem Session 7\n",
    "## Classifying Cancer I\n",
    "\n",
    "In this notebook you will work with a cancer data set that can be found here, <a href=\"https://archive.ics.uci.edu/ml/datasets/Breast+Cancer+Wisconsin+%28Diagnostic%29\">https://archive.ics.uci.edu/ml/datasets/Breast+Cancer+Wisconsin+%28Diagnostic%29</a>. Specifically we will introduce the data, perform some EDA and build a couple of models.\n",
    "\n",
    "The problems in this notebook will cover the content covered in our `Classification` notebooks including:\n",
    "- `Adjustments for Classification`,\n",
    "- `k Nearest Neighbors`,\n",
    "- `The Confusion Matrix` and\n",
    "- `Logistic Regression`."
   ]
  },
  {
   "cell_type": "code",
   "execution_count": null,
   "id": "ec28a81c",
   "metadata": {},
   "outputs": [],
   "source": [
    "import pandas as pd\n",
    "import numpy as np\n",
    "import matplotlib.pyplot as plt\n",
    "import seaborn as sns\n",
    "\n",
    "sns.set_style(\"whitegrid\")"
   ]
  },
  {
   "cell_type": "markdown",
   "id": "3d3581ef",
   "metadata": {},
   "source": [
    "##### 1. Load the data.\n",
    "\n",
    "The data for this problem is stored in `sklearn`, here is the documentation page for that, <a href=\"https://scikit-learn.org/stable/modules/generated/sklearn.datasets.load_breast_cancer.html\">https://scikit-learn.org/stable/modules/generated/sklearn.datasets.load_breast_cancer.html</a>.\n",
    "\n",
    "Run this code chunk to load in the data.\n",
    "\n",
    "Use `np.unique`, <a href=\"https://numpy.org/doc/stable/reference/generated/numpy.unique.html\">https://numpy.org/doc/stable/reference/generated/numpy.unique.html</a> to see the split between `0` and `1` in the data set. Then perform a stratified train test split.\n",
    "\n",
    "Note we will flip the labels of the data because `sklearn` confusingly uses `0` for malignant tumors and `1` for benign tumors."
   ]
  },
  {
   "cell_type": "code",
   "execution_count": null,
   "id": "752e7248",
   "metadata": {},
   "outputs": [],
   "source": [
    "from sklearn.datasets import load_breast_cancer"
   ]
  },
  {
   "cell_type": "code",
   "execution_count": null,
   "id": "99e0fb79",
   "metadata": {},
   "outputs": [],
   "source": [
    "## Loads the data from sklearn \n",
    "cancer = load_breast_cancer(as_frame=True)\n",
    "\n",
    "## the 'data' entry contains the features\n",
    "X = cancer['data']\n",
    "\n",
    "## the 'target' entry contains what we would like to predict\n",
    "y = cancer['target']\n",
    "\n",
    "## Chaning the labels around\n",
    "y = -y + 1"
   ]
  },
  {
   "cell_type": "code",
   "execution_count": null,
   "id": "da6d0917",
   "metadata": {},
   "outputs": [],
   "source": [
    "## Find the unique values of y\n",
    "## and the split those values have\n",
    "print(\"y takes on the values 0 and 1\", np.unique(y))\n",
    "print(\"with a\", np.unique(y, return_counts=True)[1]/len(y), \"split.\")"
   ]
  },
  {
   "cell_type": "markdown",
   "id": "640f7d71",
   "metadata": {},
   "source": [
    "Note that `y=0` now corresponds to a benign tumor and `y=1` corresponds to a malignant one."
   ]
  },
  {
   "cell_type": "code",
   "execution_count": null,
   "id": "a2193ce5",
   "metadata": {},
   "outputs": [],
   "source": [
    "## Make the train test split\n",
    "from sklearn.model_selection import train_test_split"
   ]
  },
  {
   "cell_type": "code",
   "execution_count": null,
   "id": "b17ad0bf",
   "metadata": {},
   "outputs": [],
   "source": [
    "## Make the train test split\n",
    "X_train, X_test, y_train, y_test = train_test_split()"
   ]
  },
  {
   "cell_type": "markdown",
   "id": "857101af",
   "metadata": {},
   "source": [
    "##### 2. Learn how the data were generated\n",
    "\n",
    "Read through the following:\n",
    "\n",
    "In this problem you will build a model to predict whether or not a tumor is malignant ($y=0$) or benign ($y=1$).\n",
    "\n",
    "The features you will use to predict this model are a selection of measurments from a digitized image of a fine needle aspirate (FNA) of a breast mass. They describe characteristics of the cell nuclei present in the image. An FNA of breast mass looks something like this:\n",
    "\n",
    "<img src=\"fna_img.png\" width=\"60%\"></img>\n",
    "\n",
    "<i>Source: Nuclear Feature Extraction For Breast Tumor Diagnosis, W. Nick Street, William H. Wolberg and O.L. Mangasarian, Center for Parallel Optimization, Computer Sciences Technical Report #1131 (1992). <a href=\"https://minds.wisconsin.edu/bitstream/handle/1793/59692/TR1131.pdf?sequence=1\">https://minds.wisconsin.edu/bitstream/handle/1793/59692/TR1131.pdf?sequence=1</a>.</i>\n",
    "\n",
    "For each FNA we have the mean, error and worst measurements of the following features:\n",
    "- radius (mean of distances from center to points on the perimeter)\n",
    "- texture (standard deviation of gray-scale values)\n",
    "- perimeter\n",
    "- area\n",
    "- smoothness (local variation in radius lengths)\n",
    "- compactness (perimeter^2 / area - 1.0)\n",
    "- concavity (severity of concave portions of the contour)\n",
    "- concave points (number of concave portions of the contour)\n",
    "- symmetry\n",
    "- fractal dimension (\"coastline approximation\" - 1)"
   ]
  },
  {
   "cell_type": "markdown",
   "id": "055ab1ca",
   "metadata": {},
   "source": [
    "##### 3. Choosing an appropriate performance metric\n",
    "\n",
    "Consider the goal of this \"project\", we want to determine if an FNA is an image of a malignant or benign tumor. Is accuracy an appropriate metric for choosing a model here? Why or why not? \n",
    "\n",
    "If accuracy is not appropriate, what are some good alternatives? Select a performance metric (or metrics) for the models you will build later and give a reason why."
   ]
  },
  {
   "cell_type": "markdown",
   "id": "5e665546",
   "metadata": {},
   "source": [
    "##### Write here\n",
    "\n",
    "\n",
    "\n",
    "\n"
   ]
  },
  {
   "cell_type": "markdown",
   "id": "8b0a84d9",
   "metadata": {},
   "source": [
    "##### 4. Exploratory Data Analysis\n",
    "\n",
    "- Make histograms of each feature, split by the value of $y$, <a href=\"https://matplotlib.org/3.5.0/api/_as_gen/matplotlib.pyplot.hist.html\">https://matplotlib.org/3.5.0/api/_as_gen/matplotlib.pyplot.hist.html</a>\n",
    "\n",
    "- Make a few scatter plots colored by the value of $y$, note, don't try to make all of the possible scatter plots, there are 30 total features so there are 30 choose 2 = 435 possible scatter plots to examine."
   ]
  },
  {
   "cell_type": "code",
   "execution_count": null,
   "id": "e0090ab3",
   "metadata": {},
   "outputs": [],
   "source": [
    "## histogram code\n",
    "## complete the missing pieces of the loop\n",
    "\n",
    "## loop through the columns of X_train\n",
    "for :\n",
    "    plt.figure(figsize=(14,4))\n",
    "    \n",
    "    ## Get all observations for this column where y = 0\n",
    "    plt.hist(, color='b', alpha=.5, label=\"y=0\", bins=30)\n",
    "    \n",
    "    ## Get all observations for this column where y = 1\n",
    "    plt.hist(, color='r', alpha=.5, label=\"y=1\", bins=30)\n",
    "    \n",
    "    \n",
    "    plt.legend(fontsize=14)\n",
    "    plt.title(column,fontsize=16)\n",
    "    plt.show()"
   ]
  },
  {
   "cell_type": "code",
   "execution_count": null,
   "id": "2b8afb07",
   "metadata": {},
   "outputs": [],
   "source": [
    "## Make one or two scatter plots here\n",
    "\n",
    "\n",
    "\n",
    "\n"
   ]
  },
  {
   "cell_type": "markdown",
   "id": "58566c99",
   "metadata": {},
   "source": [
    "##### 5. Making some logistic regression models\n",
    "\n",
    "Using your exploratory histograms choose a few different features that seem to separate the malignant tumors from the benign. Make a separate logistic regression model regressing `y` on each feature you have chosen. For example if you choose `mean radius`, `mean area` and `mean perimeter` you would build three models:\n",
    "- one regressing `y` on `mean radius`,\n",
    "- one regressing `y` on `mean area` and\n",
    "- one regressing `y` on `mean perimeter`.\n",
    "\n",
    "Of the models you build find the one with best avg. cv. of the perfomance metric you chose in 3."
   ]
  },
  {
   "cell_type": "markdown",
   "id": "956e5f7d",
   "metadata": {},
   "source": [
    "##### Make any notes you need here\n",
    "\n",
    "\n"
   ]
  },
  {
   "cell_type": "code",
   "execution_count": null,
   "id": "d933c542",
   "metadata": {},
   "outputs": [],
   "source": [
    "## Import the stuff you need here\n",
    "\n",
    "## import StratifiedKFold\n",
    "from sklearn.model_selection \n",
    "\n",
    "## Import LogisticRegression\n",
    "from sklearn.linear_model \n",
    "\n",
    "## import performance metrics\n",
    "from sklearn.metrics "
   ]
  },
  {
   "cell_type": "code",
   "execution_count": null,
   "id": "cc69704f",
   "metadata": {},
   "outputs": [],
   "source": [
    "## Make the kfold object here\n",
    "kfold = \n",
    "\n",
    "## Make zero arrays to track your performance metrics here\n",
    "\n",
    "\n",
    "## Write your kfold loop here\n",
    "for train_index, test_index in kfold.split(X_train, y_train):\n",
    "    X_tt = X_train.iloc[train_index]\n",
    "    X_ho = X_train.iloc[test_index]\n",
    "    y_tt = y_train.iloc[train_index]\n",
    "    y_ho = y_train.iloc[test_index]\n",
    "    \n",
    "    "
   ]
  },
  {
   "cell_type": "code",
   "execution_count": null,
   "id": "60d85ea3",
   "metadata": {},
   "outputs": [],
   "source": [
    "## Examine your avg CV MSE performance here\n",
    "\n",
    "\n",
    "\n",
    "\n"
   ]
  },
  {
   "cell_type": "markdown",
   "id": "6ae38173",
   "metadata": {},
   "source": [
    "##### 6. A $k$NN model\n",
    "\n",
    "Perform $5$-fold cross-validation to find the value of $k$ that optimizes your performance metric of choice."
   ]
  },
  {
   "cell_type": "code",
   "execution_count": null,
   "id": "2b04c40d",
   "metadata": {},
   "outputs": [],
   "source": [
    "## import KNN here\n",
    "from sklearn.neighbors import "
   ]
  },
  {
   "cell_type": "code",
   "execution_count": null,
   "id": "52c4524b",
   "metadata": {},
   "outputs": [],
   "source": [
    "## Make the kfold object\n",
    "kfold = \n",
    "\n",
    "## we'll test from 1 to max_neighbors knn\n",
    "max_neighbors = 40\n",
    "\n",
    "## Make arrays to keep track of your metrics\n",
    "\n",
    "\n",
    "## counter for cv split\n",
    "i = 0\n",
    "for train_index, test_index in kfold.split(X_train, y_train.values):\n",
    "    X_tt = X_train.iloc[train_index]\n",
    "    X_ho = X_train.iloc[test_index]\n",
    "    y_tt = y_train.iloc[train_index]\n",
    "    y_ho = y_train.iloc[test_index]\n",
    "    \n",
    "    ## counter for neighbor choice\n",
    "    j = 0\n",
    "    for k in range(1,max_neighbors+1):\n",
    "        ## make the KNeighbors Model\n",
    "        knn =\n",
    "        \n",
    "        ## fit the model\n",
    "        knn.fit(X_tt.values, y_tt.values)\n",
    "        \n",
    "        ## Get the prediciton on the holdout set\n",
    "        pred = knn.predict(X_ho.values)\n",
    "        \n",
    "        ## record the performance metrics for this split\n",
    "        \n",
    "        \n",
    "        j = j + 1\n",
    "    i = i + 1"
   ]
  },
  {
   "cell_type": "code",
   "execution_count": null,
   "id": "175f7cfc",
   "metadata": {},
   "outputs": [],
   "source": [
    "## Examine your metrics\n",
    "\n",
    "\n",
    "\n"
   ]
  },
  {
   "cell_type": "markdown",
   "id": "3075a6c6",
   "metadata": {},
   "source": [
    "##### 7. Choose a model\n",
    "\n",
    "Choose a model from the ones you tested. Write down what you chose below."
   ]
  },
  {
   "cell_type": "markdown",
   "id": "7690d496",
   "metadata": {},
   "source": [
    "##### Write here\n",
    "\n",
    "\n",
    "\n"
   ]
  },
  {
   "cell_type": "markdown",
   "id": "2066b969",
   "metadata": {},
   "source": [
    "##### 8. Interpreting your model\n",
    "\n",
    "Common questions for diagnostic models concern estimating the probability that an individual does or does not have a disease if the model says (or does not say) they have one. We can estimate such a statistic using Bayes' rule.\n",
    "\n",
    "$$\n",
    "P\\left(\\text{Has Cancer} | \\text{Classified } 1\\right)\n",
    "$$\n",
    "\n",
    "$$\n",
    "= \\frac{P\\left(\\text{Classified } 1 | \\text{Has Cancer} \\right) P\\left( \\text{Has Cancer}  \\right)}{P\\left(\\text{Classified } 1 | \\text{Has Cancer} \\right) P\\left( \\text{Has Cancer}  \\right) + P\\left(\\text{Classified } 1 | \\text{Does Not Have Cancer} \\right) P\\left( \\text{Does Not Have Cancer}  \\right)},\n",
    "$$\n",
    "\n",
    "similarly\n",
    "\n",
    "$$\n",
    "P\\left(\\text{Has Cancer} | \\text{Classified } 0\\right)\n",
    "$$\n",
    "\n",
    "$$\n",
    "= \\frac{P\\left(\\text{Classified } 0 | \\text{Has Cancer} \\right) P\\left( \\text{Has Cancer}  \\right)}{P\\left(\\text{Classified } 0 | \\text{Has Cancer} \\right) P\\left( \\text{Has Cancer}  \\right) + P\\left(\\text{Classified } 0 | \\text{Does Not Have Cancer} \\right) P\\left( \\text{Does Not Have Cancer}  \\right)},\n",
    "$$\n",
    "\n",
    "We can estimate $P\\left(\\text{Classified } 1 | \\text{Has Cancer} \\right)$ with the true positive rate and we can estimate $P(\\text{Has Cancer})$ or $P(\\text{Does Not Have Cancer})$ using the rates from the training set.\n",
    "\n",
    "Estimate the true positive and true negative rates for your classifier using cross-validation. Then estimate $P\\left(\\text{Has Cancer} | \\text{Classified } 1\\right)$ and $P\\left(\\text{Has Cancer} | \\text{Classified } 0\\right)$ for your classifier."
   ]
  },
  {
   "cell_type": "code",
   "execution_count": null,
   "id": "ee0bf052",
   "metadata": {},
   "outputs": [],
   "source": [
    "## kfold object\n",
    "kfold = StratifiedKFold(5, shuffle=True, random_state=14235)\n",
    "\n",
    "## These will keep track of the relevant rates\n",
    "tprs = []\n",
    "tnrs = []\n",
    "fprs = []\n",
    "fnrs = []\n",
    "has_cancer = []\n",
    "no_cancer = []\n",
    "\n",
    "\n",
    "\n",
    "for train_index, test_index in kfold.split(X_train, y_train):\n",
    "    X_tt = X_train.iloc[train_index]\n",
    "    X_ho = X_train.iloc[test_index]\n",
    "    y_tt = y_train.iloc[train_index]\n",
    "    y_ho = y_train.iloc[test_index]\n",
    "    \n",
    "    ## make the model object\n",
    "    \n",
    "    \n",
    "    ## Fit the model\n",
    "    \n",
    "    \n",
    "    ## get your prediction here\n",
    "    pred = \n",
    "    \n",
    "    ## Calculate the confusion_matrix\n",
    "    conf_mat = confusion_matrix(y_ho.values, pred)\n",
    "    \n",
    "    ## Append the relevant rates\n",
    "    tprs.append()\n",
    "    tnrs.append()\n",
    "    fprs.append()\n",
    "    fnrs.append()\n",
    "    \n",
    "    ## Estimate the rate of cancer or not\n",
    "    has_cancer.append(np.sum(y_ho==1)/len(y_ho))\n",
    "    no_cancer.append(np.sum(y_ho==0)/len(y_ho))\n",
    "    \n",
    "## Turn the lists into array for easy calculation purposes\n",
    "tprs = np.array(tprs)\n",
    "tnrs = np.array(tnrs)\n",
    "fnrs = np.array(fnrs)\n",
    "fprs = np.array(fprs)\n",
    "\n",
    "has_cancer = np.array(has_cancer)\n",
    "no_cancer = np.array(no_cancer)"
   ]
  },
  {
   "cell_type": "code",
   "execution_count": null,
   "id": "af5e7f5e",
   "metadata": {},
   "outputs": [],
   "source": [
    "## Use the formulae above to calculate\n",
    "## these probabilities\n",
    "p_has_cancer_given_1 = \n",
    "p_has_cancer_given_0 = "
   ]
  },
  {
   "cell_type": "code",
   "execution_count": null,
   "id": "9315d0d9",
   "metadata": {},
   "outputs": [],
   "source": [
    "print(\"If our classifier says a patient has cancer, we estimate\",\n",
    "      \"a\", np.round(np.mean(p_has_cancer_given_1),4),\n",
    "      \"probability that they actually have cancer.\")\n",
    "\n",
    "print()\n",
    "print()\n",
    "\n",
    "print(\"If our classifier says a patient does not have cancer, we estimate\",\n",
    "      \"a\", np.round(np.mean(p_has_cancer_given_0),4),\n",
    "      \"probability that they actually do have cancer.\")"
   ]
  },
  {
   "cell_type": "markdown",
   "id": "560dfee1",
   "metadata": {},
   "source": [
    "--------------------------\n",
    "\n",
    "This notebook was written for the Erd&#337;s Institute C&#337;de Data Science Boot Camp by Matthew Osborne, Ph. D., 2022.\n",
    "\n",
    "Any potential redistributors must seek and receive permission from Matthew Tyler Osborne, Ph.D. prior to redistribution. Redistribution of the material contained in this repository is conditional on acknowledgement of Matthew Tyler Osborne, Ph.D.'s original authorship and sponsorship of the Erdős Institute as subject to the license (see License.md)"
   ]
  },
  {
   "cell_type": "code",
   "execution_count": null,
   "id": "1d5112e9",
   "metadata": {},
   "outputs": [],
   "source": []
  }
 ],
 "metadata": {
  "kernelspec": {
   "display_name": "Python 3 (ipykernel)",
   "language": "python",
   "name": "python3"
  },
  "language_info": {
   "codemirror_mode": {
    "name": "ipython",
    "version": 3
   },
   "file_extension": ".py",
   "mimetype": "text/x-python",
   "name": "python",
   "nbconvert_exporter": "python",
   "pygments_lexer": "ipython3",
   "version": "3.9.9"
  }
 },
 "nbformat": 4,
 "nbformat_minor": 5
}
