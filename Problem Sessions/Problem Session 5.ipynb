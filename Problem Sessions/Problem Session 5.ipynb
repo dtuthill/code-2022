{
 "cells": [
  {
   "cell_type": "markdown",
   "id": "876edcc9",
   "metadata": {},
   "source": [
    "# Problem Session 5\n",
    "## The Simpsons and Bicycles I\n",
    "\n",
    "In the first of two time series based problem sessions we focus on some of the basics of time series forecasting. In particular, we will do some exploratory data analysis, test your understanding of data split adjustments and build a couple of first step models for two time series.\n",
    "\n",
    "The problems in this notebook will cover the content covered in our `Time Series Forecasting` lectures including:\n",
    "- `What are Time Series and Forecasting`,\n",
    "- `Adjustments for Time Series Data`,\n",
    "- `Time and Dates in Python` and\n",
    "- `Baseline Forecasts`."
   ]
  },
  {
   "cell_type": "code",
   "execution_count": null,
   "id": "bb14a1f8",
   "metadata": {},
   "outputs": [],
   "source": [
    "import pandas as pd\n",
    "import numpy as np\n",
    "import matplotlib.pyplot as plt\n",
    "from seaborn import set_style\n",
    "\n",
    "set_style(\"whitegrid\")"
   ]
  },
  {
   "cell_type": "markdown",
   "id": "9a1c49e2",
   "metadata": {},
   "source": [
    "### The Simpsons\n",
    "\n",
    "##### 1. Introducing the data\n",
    "\n",
    "The first data set you will work with is the IMDB ratings of every Simpsons episode (as of May 6, 2022). If you recall, you pulled this data in `Problem Session 1` using the `Cinemagoer` package. For this notebook you will load a saved version of the data.\n",
    "\n",
    "Load `simpsons_imdb.csv` from the `Data` folder, look at the first five observations."
   ]
  },
  {
   "cell_type": "code",
   "execution_count": null,
   "id": "2ba7b7f6",
   "metadata": {},
   "outputs": [],
   "source": [
    "simpsons = pd.read_csv(\"../Data/simpsons_imdb.csv\")"
   ]
  },
  {
   "cell_type": "code",
   "execution_count": null,
   "id": "ccc376f2",
   "metadata": {},
   "outputs": [],
   "source": [
    "simpsons.head()"
   ]
  },
  {
   "cell_type": "markdown",
   "id": "c676a66e",
   "metadata": {},
   "source": [
    "Here are descriptions for the columns of this data set:\n",
    "- `season` is the season of the Simpsons to which the episode belongs,\n",
    "- `episode` gives the number of that episode with respect to when it aired in its season,\n",
    "- `title` gives the name of the episode,\n",
    "- `imdb_rating` is the average rating of the episode among IMDB's users."
   ]
  },
  {
   "cell_type": "markdown",
   "id": "ba4f8821",
   "metadata": {},
   "source": [
    "##### 2. Train test split\n",
    "\n",
    "We will use half a season as our forecast's horizon. Make a train test split that sets aside the last season (roughly two of our horizons) as a test set and uses the rest as a training set."
   ]
  },
  {
   "cell_type": "code",
   "execution_count": null,
   "id": "e87ed3ec",
   "metadata": {},
   "outputs": [],
   "source": [
    "## Code here\n"
   ]
  },
  {
   "cell_type": "code",
   "execution_count": null,
   "id": "9774d362",
   "metadata": {},
   "outputs": [],
   "source": [
    "## Code here\n"
   ]
  },
  {
   "cell_type": "markdown",
   "id": "d6c1dc1d",
   "metadata": {},
   "source": [
    "##### 3. EDA\n",
    "\n",
    "Plot the training data using a scatter plot.\n",
    "\n",
    "Does this time series seem to exhibit a trend? Does this time series seem to exhibit seasonality? If it exhibits either do your best to describe what you see."
   ]
  },
  {
   "cell_type": "code",
   "execution_count": null,
   "id": "c7725561",
   "metadata": {},
   "outputs": [],
   "source": [
    "plt.figure(figsize=(16,8))\n",
    "\n",
    "\n",
    "\n",
    "\n",
    "\n",
    "plt.xlabel()\n",
    "plt.ylabel()\n",
    "\n",
    "plt.xticks(fontsize=12)\n",
    "plt.yticks(fontsize=12)\n",
    "\n",
    "plt.show()"
   ]
  },
  {
   "cell_type": "markdown",
   "id": "5a0cda8c",
   "metadata": {},
   "source": [
    "###### Write here\n",
    "\n",
    "\n"
   ]
  },
  {
   "cell_type": "markdown",
   "id": "732c68c9",
   "metadata": {},
   "source": [
    "##### 4. Choose baselines\n",
    "\n",
    "Choose one or two baseline models that you could build on these data. Plot these models over the training observations.\n",
    "\n",
    "<i>Note: if you choose the trend model as a baseline you should fit an `sklearn` `LinearRegression` model for that, not just estimate $\\beta$ using first differences</i>."
   ]
  },
  {
   "cell_type": "markdown",
   "id": "99ff663b",
   "metadata": {},
   "source": [
    "<b>Baseline 1</b>"
   ]
  },
  {
   "cell_type": "code",
   "execution_count": null,
   "id": "4063bd98",
   "metadata": {},
   "outputs": [],
   "source": [
    "## Code here\n",
    "\n"
   ]
  },
  {
   "cell_type": "code",
   "execution_count": null,
   "id": "0eeb8113",
   "metadata": {},
   "outputs": [],
   "source": [
    "## Code here\n",
    "\n"
   ]
  },
  {
   "cell_type": "code",
   "execution_count": null,
   "id": "c4cb041f",
   "metadata": {},
   "outputs": [],
   "source": [
    "plt.figure(figsize=(16,8))\n",
    "\n",
    "## Here is the training data\n",
    "plt.scatter(range(1, len(simps_train)+1), \n",
    "            simps_train.imdb_rating,\n",
    "            alpha=.5,\n",
    "            label=\"Training Data\")\n",
    "\n",
    "## Fill this in with your baseline\n",
    "plt.plot(,\n",
    "            ,\n",
    "            'r',\n",
    "            label=)\n",
    "\n",
    "plt.xlabel(\"Episode Number\", fontsize=16)\n",
    "plt.ylabel(\"IMDB Label\", fontsize=16)\n",
    "\n",
    "plt.legend(fontsize=14)\n",
    "\n",
    "plt.xticks(fontsize=12)\n",
    "plt.yticks(fontsize=12)\n",
    "\n",
    "plt.show()"
   ]
  },
  {
   "cell_type": "markdown",
   "id": "ea0a84c9",
   "metadata": {},
   "source": [
    "<b>Baseline 2</b>\n",
    "\n",
    "A trend model with an intercept."
   ]
  },
  {
   "cell_type": "code",
   "execution_count": null,
   "id": "081572c7",
   "metadata": {},
   "outputs": [],
   "source": [
    "## Code here\n",
    "\n"
   ]
  },
  {
   "cell_type": "code",
   "execution_count": null,
   "id": "5bcebc8d",
   "metadata": {},
   "outputs": [],
   "source": [
    "## Code here\n",
    "\n"
   ]
  },
  {
   "cell_type": "code",
   "execution_count": null,
   "id": "23e8f69b",
   "metadata": {},
   "outputs": [],
   "source": [
    "plt.figure(figsize=(16,8))\n",
    "\n",
    "## Here is the training data\n",
    "plt.scatter(range(1, len(simps_train)+1), \n",
    "            simps_train.imdb_rating,\n",
    "            alpha=.5,\n",
    "            label=\"Training Data\")\n",
    "\n",
    "## Fill this in with your baseline\n",
    "plt.plot(,\n",
    "            ,\n",
    "            'r',\n",
    "            linewidth=2,\n",
    "            label=)\n",
    "\n",
    "plt.xlabel(\"Episode Number\", fontsize=16)\n",
    "plt.ylabel(\"IMDB Label\", fontsize=16)\n",
    "\n",
    "plt.legend(fontsize=14)\n",
    "\n",
    "plt.xticks(fontsize=12)\n",
    "plt.yticks(fontsize=12)\n",
    "\n",
    "plt.show()"
   ]
  },
  {
   "cell_type": "markdown",
   "id": "12e7915f",
   "metadata": {},
   "source": [
    "##### 5. Baseline CV Average MSE\n",
    "\n",
    "Calculate the average cross-validation mean squared error for these two baseline models. Set up this cross-validation so that there are five splits."
   ]
  },
  {
   "cell_type": "code",
   "execution_count": null,
   "id": "cee368cb",
   "metadata": {},
   "outputs": [],
   "source": [
    "## Import here\n",
    "\n",
    "\n",
    "from sklearn.metrics import mean_squared_error"
   ]
  },
  {
   "cell_type": "code",
   "execution_count": null,
   "id": "107f81b0",
   "metadata": {},
   "outputs": [],
   "source": [
    "## Make your cross-validation object here\n",
    "## 11 is roughly half a season\n",
    "cv = "
   ]
  },
  {
   "cell_type": "code",
   "execution_count": null,
   "id": "c783239e",
   "metadata": {},
   "outputs": [],
   "source": [
    "## this will hold the mses\n",
    "mses = np.zeros((2, 5))\n",
    "\n",
    "j = 0\n",
    "for train_index, test_index in cv.split(simps_train):\n",
    "    simps_tt = simps_train.loc[train_index]\n",
    "    simps_ho = simps_train.loc[test_index]\n",
    "    \n",
    "    ## baseline 1\n",
    "    pred1 = \n",
    "    \n",
    "    mses[0,j] = mean_squared_error(simps_ho.imdb_rating.values, pred1)\n",
    "    \n",
    "    ## baseline 2\n",
    "    pred2 = \n",
    "    \n",
    "    mses[1,j] = mean_squared_error(simps_ho.imdb_rating.values, pred2)\n",
    "    j = j + 1"
   ]
  },
  {
   "cell_type": "code",
   "execution_count": null,
   "id": "9b5029ca",
   "metadata": {},
   "outputs": [],
   "source": [
    "print(\"The mean CV MSE for the average baseline is\", \n",
    "          np.round(np.mean(mses[0,:]), 3))\n",
    "print(\"The mean CV MSE for the trend baseline is\",\n",
    "          np.round(np.mean(mses[1,:]), 3))"
   ]
  },
  {
   "cell_type": "markdown",
   "id": "49046a4a",
   "metadata": {},
   "source": [
    "We will return to these baseline performances in `Problem Session 6`."
   ]
  },
  {
   "cell_type": "markdown",
   "id": "bad82698",
   "metadata": {},
   "source": [
    "### Google trends \"bike\" interest\n",
    "\n",
    "The second data set you will work with in this problem session is a time series collected using <a href=\"https://trends.google.com/trends/?geo=US\">Google Trends</a>.\n",
    "\n",
    "<img src=\"bike.png\" width=\"20%\"></img>\n",
    "\n",
    "\n",
    "##### 1. Load the data\n",
    "\n",
    "Load the data stored in `bike_google_trends.csv` stored in the `Data` folder.\n",
    "\n",
    "Look at the first five observations."
   ]
  },
  {
   "cell_type": "code",
   "execution_count": null,
   "id": "fa223383",
   "metadata": {},
   "outputs": [],
   "source": [
    "bike = pd.read_csv(\"../Data/bike_google_trends.csv\", parse_dates=['Month'])"
   ]
  },
  {
   "cell_type": "code",
   "execution_count": null,
   "id": "4ae6184c",
   "metadata": {},
   "outputs": [],
   "source": [
    "bike.head()"
   ]
  },
  {
   "cell_type": "markdown",
   "id": "6de9fedf",
   "metadata": {},
   "source": [
    "- The `Month` column of this data set gives the month and year that the interest was measured. \n",
    "- The `bike_interest` column of this data set gives the level of interest (in percent) based on Google search engine searches for the term \"bikes\", scaled so that the month with greatest interest has a value of $100\\%$ while every other month is the percent of the maximum interest recorded."
   ]
  },
  {
   "cell_type": "markdown",
   "id": "383de7fc",
   "metadata": {},
   "source": [
    "##### 2. Identifying stakeholders\n",
    "\n",
    "One thing you may need to get more practice with is identifying the <i>stakeholders</i> for a particular problem. The stakeholders are the people who are most interested in your problem and the outcome of your solution.\n",
    "\n",
    "Thinking about this can help you frame your project goals and focus your thinking to provide a solution that most suits the stakeholders' wants/needs.\n",
    "\n",
    "For this question, take some time to think about what kinds of people may most be interested in forecasting interest in bikes. Why might they be interested? How could this forecast best help them?"
   ]
  },
  {
   "cell_type": "markdown",
   "id": "3b4874ec",
   "metadata": {},
   "source": [
    "##### Write here\n",
    "\n",
    "\n"
   ]
  },
  {
   "cell_type": "markdown",
   "id": "a2d3b6ea",
   "metadata": {},
   "source": [
    "##### 3. Train test split\n",
    "\n",
    "Make a train test split in the data. Set aside May 2021 to May 2022 as a test set.\n",
    "\n",
    "<i>Hint: the `datetime` module could be useful.</i>"
   ]
  },
  {
   "cell_type": "code",
   "execution_count": null,
   "id": "c3f9b1ec",
   "metadata": {},
   "outputs": [],
   "source": [
    "## code here\n",
    "\n"
   ]
  },
  {
   "cell_type": "code",
   "execution_count": null,
   "id": "c1edecaa",
   "metadata": {},
   "outputs": [],
   "source": [
    "## code here\n",
    "\n"
   ]
  },
  {
   "cell_type": "markdown",
   "id": "45b6e5e7",
   "metadata": {},
   "source": [
    "##### 4. EDA 1\n",
    "\n",
    "Plot the training data.\n",
    "\n",
    "Does this time series appear to exhibit a trend or seasonality?"
   ]
  },
  {
   "cell_type": "code",
   "execution_count": null,
   "id": "364875d9",
   "metadata": {},
   "outputs": [],
   "source": [
    "from datetime import datetime, timedelta\n",
    "\n",
    "plt.figure(figsize=(16,6))\n",
    "\n",
    "## fill in the plot here\n",
    "plt.plot()\n",
    "\n",
    "plt.ylabel(\"Interest (Perc of Max)\", fontsize=16)\n",
    "plt.xlabel(\"Date\", fontsize=16)\n",
    "\n",
    "plt.xticks([datetime(2004,1,1) + timedelta(days=365*i) for i in range(19)],\n",
    "              range(2004, 2023),\n",
    "              fontsize=14)\n",
    "\n",
    "plt.yticks(fontsize=14)\n",
    "\n",
    "plt.show()"
   ]
  },
  {
   "cell_type": "markdown",
   "id": "d3555423",
   "metadata": {},
   "source": [
    "##### 4. EDA II\n",
    "\n",
    "One way to explore the number of time steps in a given season is to plot scatter plots of the time series against itself at given <i>lags</i>. Such plots place the time series on the horizontal axis and the time series at $\\ell$ steps into the future on the vertical axis. Seasonal data should exhibit a high correlation between itself and lags at multiples of the season length.\n",
    "\n",
    "Use the function below to make such scatter plots for lag values from $\\ell=1$ to $\\ell=25$. This function also returns the correlation between the time series and the lagged series. Record these correlations and plot them against the lag. Using this information how long would you say a season is?"
   ]
  },
  {
   "cell_type": "code",
   "execution_count": null,
   "id": "9b331f54",
   "metadata": {},
   "outputs": [],
   "source": [
    "## This code will make lag plots for you\n",
    "def make_lag_plot(lag):\n",
    "    ## the original time series\n",
    "    ts = bike_train.bike_interest.values[:-lag]\n",
    "    \n",
    "    ## the lagged time series\n",
    "    ts_lagged = bike_train.bike_interest.values[lag:]\n",
    "    \n",
    "    \n",
    "    ## Making the figure\n",
    "    plt.figure(figsize=(6,6))\n",
    "    \n",
    "    plt.scatter(ts, ts_lagged, alpha=.7)\n",
    "    \n",
    "    ## line y=x for reference\n",
    "    plt.plot([0,100], [0,100], 'k--')\n",
    "    \n",
    "    ## labeling the plot\n",
    "    plt.title(\"Lag = \" + str(lag), fontsize=16)\n",
    "    \n",
    "    plt.show()\n",
    "    \n",
    "    ## return the correlation coefficient\n",
    "    return np.corrcoef(x,y)[0,1]"
   ]
  },
  {
   "cell_type": "code",
   "execution_count": null,
   "id": "80c77b3d",
   "metadata": {},
   "outputs": [],
   "source": [
    "## code here\n",
    "\n",
    "\n"
   ]
  },
  {
   "cell_type": "code",
   "execution_count": null,
   "id": "b5f5bca5",
   "metadata": {},
   "outputs": [],
   "source": [
    "## Plot the correlation against the lag here\n",
    "plt.figure(figsize=(10,6))\n",
    "\n",
    "## input the lags and correlations\n",
    "plt.scatter()\n",
    "\n",
    "plt.xlabel(\"Lag\", fontsize=16)\n",
    "plt.ylabel(\"Correlation\", fontsize=16)\n",
    "\n",
    "plt.xticks(range(0,25,3), fontsize=13)\n",
    "plt.yticks(fontsize=13)\n",
    "\n",
    "plt.ylim([-1.1,1.1])\n",
    "\n",
    "plt.show()"
   ]
  },
  {
   "cell_type": "markdown",
   "id": "c5a3b366",
   "metadata": {},
   "source": [
    "##### How long does a season last?"
   ]
  },
  {
   "cell_type": "markdown",
   "id": "e3bd720a",
   "metadata": {},
   "source": [
    "##### 5. Baselines\n",
    "\n",
    "Select two baseline forecasts for these data.\n",
    "\n",
    "Create a validation set of June 2020 to May 2021 and plot your baseline predictions alongside the actual validation data."
   ]
  },
  {
   "cell_type": "markdown",
   "id": "0fca442a",
   "metadata": {},
   "source": [
    "##### Baseline 1"
   ]
  },
  {
   "cell_type": "code",
   "execution_count": null,
   "id": "82f208a2",
   "metadata": {},
   "outputs": [],
   "source": [
    "## Code or write here\n",
    "\n",
    "\n"
   ]
  },
  {
   "cell_type": "code",
   "execution_count": null,
   "id": "ab93b23d",
   "metadata": {},
   "outputs": [],
   "source": [
    "## Code or write here\n",
    "\n",
    "\n"
   ]
  },
  {
   "cell_type": "code",
   "execution_count": null,
   "id": "06d10bea",
   "metadata": {},
   "outputs": [],
   "source": [
    "## Plot here\n",
    "plt.figure(figsize=(16, 6))\n",
    "\n",
    "## The Training data\n",
    "plt.plot(bike_tt.Month, \n",
    "            bike_tt.bike_interest,\n",
    "            'b',\n",
    "            label = \"Training Data\")\n",
    "\n",
    "## The validation data\n",
    "plt.plot(bike_val.Month,\n",
    "            bike_val.bike_interest,\n",
    "            'b--',\n",
    "            label = \"Validation Data\")\n",
    "\n",
    "## Insert your 1st baseline forecast here\n",
    "plt.plot(bike_val.Month,\n",
    "            ,\n",
    "            'r--.',\n",
    "            label=)\n",
    "\n",
    "plt.legend(fontsize=14)\n",
    "\n",
    "plt.ylabel(\"Bike Interest\", fontsize=16)\n",
    "plt.xlabel(\"Date\", fontsize=16)\n",
    "\n",
    "plt.show()"
   ]
  },
  {
   "cell_type": "markdown",
   "id": "747832c4",
   "metadata": {},
   "source": [
    "##### 2. Baseline 2"
   ]
  },
  {
   "cell_type": "code",
   "execution_count": null,
   "id": "4529d1a1",
   "metadata": {},
   "outputs": [],
   "source": [
    "## code or write here\n",
    "\n",
    "\n"
   ]
  },
  {
   "cell_type": "code",
   "execution_count": null,
   "id": "040e8c8b",
   "metadata": {},
   "outputs": [],
   "source": [
    "## code or write here\n",
    "\n",
    "\n"
   ]
  },
  {
   "cell_type": "code",
   "execution_count": null,
   "id": "79ffcb75",
   "metadata": {},
   "outputs": [],
   "source": [
    "## code or write here\n",
    "\n",
    "\n"
   ]
  },
  {
   "cell_type": "code",
   "execution_count": null,
   "id": "80bfd04f",
   "metadata": {},
   "outputs": [],
   "source": [
    "## Plot here\n",
    "plt.figure(figsize=(16, 6))\n",
    "\n",
    "## The Training data\n",
    "plt.plot(bike_tt.Month, \n",
    "            bike_tt.bike_interest,\n",
    "            'b',\n",
    "            label = \"Training Data\")\n",
    "\n",
    "## The validation data\n",
    "plt.plot(bike_val.Month,\n",
    "            bike_val.bike_interest,\n",
    "            'b--',\n",
    "            label = \"Validation Data\")\n",
    "\n",
    "## fill in the missing pieces to plot your 2nd baseline\n",
    "plt.plot(bike_val.Month,\n",
    "            ,\n",
    "            'r--.',\n",
    "            label=)\n",
    "\n",
    "plt.legend(fontsize=14)\n",
    "\n",
    "plt.ylabel(\"Bike Interest\", fontsize=16)\n",
    "plt.xlabel(\"Date\", fontsize=16)\n",
    "\n",
    "plt.show()"
   ]
  },
  {
   "cell_type": "markdown",
   "id": "0b68a5a1",
   "metadata": {},
   "source": [
    "##### 6. Evaluating baselines\n",
    "\n",
    "Visually speaking, how does it look like your two baselines do on the validation set? Does the observed interest level seem consistent with the rest of the time series? Do your best to explain your answer.\n",
    "\n",
    "In light of your answer, should we include these data in our forecasting process? Why or Why not?"
   ]
  },
  {
   "cell_type": "markdown",
   "id": "bf812c31",
   "metadata": {},
   "source": [
    "##### Write here\n",
    "\n",
    "\n",
    "\n",
    "\n"
   ]
  },
  {
   "cell_type": "markdown",
   "id": "3e9880c6",
   "metadata": {},
   "source": [
    "We will return to these data in the time series `Practice Problems` notebooks."
   ]
  },
  {
   "cell_type": "markdown",
   "id": "19c0a819",
   "metadata": {},
   "source": [
    "--------------------------\n",
    "\n",
    "This notebook was written for the Erd&#337;s Institute C&#337;de Data Science Boot Camp by Matthew Osborne, Ph. D., 2022.\n",
    "\n",
    "Any potential redistributors must seek and receive permission from Matthew Tyler Osborne, Ph.D. prior to redistribution. Redistribution of the material contained in this repository is conditional on acknowledgement of Matthew Tyler Osborne, Ph.D.'s original authorship and sponsorship of the Erdős Institute as subject to the license (see License.md)"
   ]
  },
  {
   "cell_type": "code",
   "execution_count": null,
   "id": "2aa71754",
   "metadata": {},
   "outputs": [],
   "source": []
  }
 ],
 "metadata": {
  "kernelspec": {
   "display_name": "Python 3 (ipykernel)",
   "language": "python",
   "name": "python3"
  },
  "language_info": {
   "codemirror_mode": {
    "name": "ipython",
    "version": 3
   },
   "file_extension": ".py",
   "mimetype": "text/x-python",
   "name": "python",
   "nbconvert_exporter": "python",
   "pygments_lexer": "ipython3",
   "version": "3.9.9"
  }
 },
 "nbformat": 4,
 "nbformat_minor": 5
}
