{
 "cells": [
  {
   "cell_type": "markdown",
   "id": "d6acdca3",
   "metadata": {},
   "source": [
    "# Prep Notebook 9\n",
    "## Classifying Cancer III\n",
    "\n",
    "This notebook has a few exercises that can serve as a primer for what to expect in the `Problem Session 9` notebook. These exercises will touch upon the basic python, `pandas`, `numpy`, `matplotlib` and some supervised learning basic techniques that you may want a refresher on prior to starting `Problem Session 9`."
   ]
  },
  {
   "cell_type": "code",
   "execution_count": null,
   "id": "d2139b53",
   "metadata": {},
   "outputs": [],
   "source": [
    "import pandas as pd\n",
    "import numpy as np\n",
    "import matplotlib.pyplot as plt\n",
    "import seaborn as sns\n",
    "\n",
    "sns.set_style(\"whitegrid\")"
   ]
  },
  {
   "cell_type": "markdown",
   "id": "ca18535a",
   "metadata": {},
   "source": [
    "##### 1. Review problem sessions 7 and 8\n",
    "\n",
    "In `Problem Session 9` we will use what you did in `Problem Session 7` and `Problem Session 8`, review your group's work as well as the complete version."
   ]
  },
  {
   "cell_type": "markdown",
   "id": "2868d4c6",
   "metadata": {},
   "source": [
    "##### 2. Scaling\n",
    "\n",
    "Generate the data `X` below, run it through `StandardScaler`."
   ]
  },
  {
   "cell_type": "code",
   "execution_count": null,
   "id": "3cc4fbdb",
   "metadata": {},
   "outputs": [],
   "source": [
    "np.random.seed(29029)\n",
    "X = np.zeros((100,5))\n",
    "X[:,0] = np.random.randn(100)\n",
    "X[:,1] = 100*np.random.randn(100) + 1000\n",
    "X[:,2] = 20000*np.random.random(size = 100) - 10000\n",
    "X[:,3] = np.random.binomial(20, .7, 100)\n",
    "X[:,4] = 10*np.random.randn(100)"
   ]
  },
  {
   "cell_type": "code",
   "execution_count": null,
   "id": "2ff16924",
   "metadata": {},
   "outputs": [],
   "source": [
    "## code here\n",
    "\n"
   ]
  },
  {
   "cell_type": "code",
   "execution_count": null,
   "id": "a23c5d50",
   "metadata": {},
   "outputs": [],
   "source": [
    "## code here\n",
    "\n"
   ]
  },
  {
   "cell_type": "code",
   "execution_count": null,
   "id": "6b535e1f",
   "metadata": {},
   "outputs": [],
   "source": [
    "## code here\n",
    "\n"
   ]
  },
  {
   "cell_type": "markdown",
   "id": "101c477e",
   "metadata": {},
   "source": [
    "##### 3. A PCA pipeline\n",
    "\n",
    "Build a pipeline that scales `X` from above then applies PCA with a cumulative explained variance ratio of at least $0.9$."
   ]
  },
  {
   "cell_type": "code",
   "execution_count": null,
   "id": "ded381ac",
   "metadata": {},
   "outputs": [],
   "source": [
    "## code here\n",
    "\n"
   ]
  },
  {
   "cell_type": "code",
   "execution_count": null,
   "id": "bb649318",
   "metadata": {},
   "outputs": [],
   "source": [
    "## code here\n",
    "\n"
   ]
  },
  {
   "cell_type": "code",
   "execution_count": null,
   "id": "b3f536d6",
   "metadata": {},
   "outputs": [],
   "source": [
    "## code here\n",
    "\n"
   ]
  },
  {
   "cell_type": "markdown",
   "id": "8de0a92f",
   "metadata": {},
   "source": [
    "##### 4. Make a dataframe\n",
    "\n",
    "Make a `pandas` `DataFrame` out of `X`'s `0` and `3` columns with the column names `x1`, `x2`."
   ]
  },
  {
   "cell_type": "code",
   "execution_count": null,
   "id": "2b7d3525",
   "metadata": {},
   "outputs": [],
   "source": [
    "## code here\n",
    "\n"
   ]
  },
  {
   "cell_type": "code",
   "execution_count": null,
   "id": "b5f2ca84",
   "metadata": {},
   "outputs": [],
   "source": [
    "## code here\n",
    "\n"
   ]
  },
  {
   "cell_type": "markdown",
   "id": "9a7ede9f",
   "metadata": {},
   "source": [
    "##### 5. Import metrics\n",
    "\n",
    "Import the functions to calculate precision and the confusion matrix."
   ]
  },
  {
   "cell_type": "code",
   "execution_count": null,
   "id": "2edc76eb",
   "metadata": {},
   "outputs": [],
   "source": [
    "## code here\n",
    "\n"
   ]
  },
  {
   "cell_type": "code",
   "execution_count": null,
   "id": "89a03254",
   "metadata": {},
   "outputs": [],
   "source": [
    "## code here\n",
    "\n"
   ]
  },
  {
   "cell_type": "markdown",
   "id": "09c81a9b",
   "metadata": {},
   "source": [
    "--------------------------\n",
    "\n",
    "This notebook was written for the Erd&#337;s Institute C&#337;de Data Science Boot Camp by Matthew Osborne, Ph. D., 2022.\n",
    "\n",
    "Any potential redistributors must seek and receive permission from Matthew Tyler Osborne, Ph.D. prior to redistribution. Redistribution of the material contained in this repository is conditional on acknowledgement of Matthew Tyler Osborne, Ph.D.'s original authorship and sponsorship of the Erdős Institute as subject to the license (see License.md)"
   ]
  },
  {
   "cell_type": "code",
   "execution_count": null,
   "id": "7a424f36",
   "metadata": {},
   "outputs": [],
   "source": []
  }
 ],
 "metadata": {
  "kernelspec": {
   "display_name": "Python 3 (ipykernel)",
   "language": "python",
   "name": "python3"
  },
  "language_info": {
   "codemirror_mode": {
    "name": "ipython",
    "version": 3
   },
   "file_extension": ".py",
   "mimetype": "text/x-python",
   "name": "python",
   "nbconvert_exporter": "python",
   "pygments_lexer": "ipython3",
   "version": "3.9.9"
  }
 },
 "nbformat": 4,
 "nbformat_minor": 5
}
