{
 "cells": [
  {
   "cell_type": "markdown",
   "id": "48381bc1",
   "metadata": {},
   "source": [
    "# Prep Notebook 3\n",
    "## More Regression Work\n",
    "\n",
    "This notebook has a few exercises that can serve as a primer for what to expect in the `Problem Session 3` notebook. These exercises will touch upon the basic python, `pandas`, `numpy`, `matplotlib` and some supervised learning basic techniques that you may want a refresher on prior to starting `Problem Session 3`."
   ]
  },
  {
   "cell_type": "markdown",
   "id": "84ebf589",
   "metadata": {},
   "source": [
    "##### 1. Reading a .csv file\n",
    "\n",
    "Read in the `hockey.csv` file using `pandas`. Store it in a variable named `hockey`."
   ]
  },
  {
   "cell_type": "code",
   "execution_count": 1,
   "id": "5a516e67",
   "metadata": {},
   "outputs": [],
   "source": [
    "##### Sample Solution\n",
    "import pandas as pd"
   ]
  },
  {
   "cell_type": "code",
   "execution_count": 2,
   "id": "aa875fca",
   "metadata": {},
   "outputs": [],
   "source": [
    "##### Sample Solution\n",
    "hockey = pd.read_csv(\"../../Data/hockey.csv\")"
   ]
  },
  {
   "cell_type": "code",
   "execution_count": 3,
   "id": "5574bcb0",
   "metadata": {},
   "outputs": [
    {
     "data": {
      "text/html": [
       "<div>\n",
       "<style scoped>\n",
       "    .dataframe tbody tr th:only-of-type {\n",
       "        vertical-align: middle;\n",
       "    }\n",
       "\n",
       "    .dataframe tbody tr th {\n",
       "        vertical-align: top;\n",
       "    }\n",
       "\n",
       "    .dataframe thead th {\n",
       "        text-align: right;\n",
       "    }\n",
       "</style>\n",
       "<table border=\"1\" class=\"dataframe\">\n",
       "  <thead>\n",
       "    <tr style=\"text-align: right;\">\n",
       "      <th></th>\n",
       "      <th>season</th>\n",
       "      <th>team</th>\n",
       "      <th>first_half_wins</th>\n",
       "      <th>second_half_wins</th>\n",
       "    </tr>\n",
       "  </thead>\n",
       "  <tbody>\n",
       "    <tr>\n",
       "      <th>0</th>\n",
       "      <td>2016</td>\n",
       "      <td>WSH</td>\n",
       "      <td>31</td>\n",
       "      <td>25</td>\n",
       "    </tr>\n",
       "    <tr>\n",
       "      <th>1</th>\n",
       "      <td>2016</td>\n",
       "      <td>DAL</td>\n",
       "      <td>28</td>\n",
       "      <td>22</td>\n",
       "    </tr>\n",
       "    <tr>\n",
       "      <th>2</th>\n",
       "      <td>2016</td>\n",
       "      <td>STL</td>\n",
       "      <td>23</td>\n",
       "      <td>26</td>\n",
       "    </tr>\n",
       "    <tr>\n",
       "      <th>3</th>\n",
       "      <td>2016</td>\n",
       "      <td>PIT</td>\n",
       "      <td>20</td>\n",
       "      <td>28</td>\n",
       "    </tr>\n",
       "    <tr>\n",
       "      <th>4</th>\n",
       "      <td>2016</td>\n",
       "      <td>ANA</td>\n",
       "      <td>17</td>\n",
       "      <td>29</td>\n",
       "    </tr>\n",
       "  </tbody>\n",
       "</table>\n",
       "</div>"
      ],
      "text/plain": [
       "   season team  first_half_wins  second_half_wins\n",
       "0    2016  WSH               31                25\n",
       "1    2016  DAL               28                22\n",
       "2    2016  STL               23                26\n",
       "3    2016  PIT               20                28\n",
       "4    2016  ANA               17                29"
      ]
     },
     "execution_count": 3,
     "metadata": {},
     "output_type": "execute_result"
    }
   ],
   "source": [
    "hockey.head()"
   ]
  },
  {
   "cell_type": "markdown",
   "id": "6f7bb814",
   "metadata": {},
   "source": [
    "##### 2. Descriptive statistics\n",
    "\n",
    "Find the mean and median of `first_half_wins` and `second_half_wins`."
   ]
  },
  {
   "cell_type": "code",
   "execution_count": 4,
   "id": "bb0bee85",
   "metadata": {},
   "outputs": [
    {
     "data": {
      "text/plain": [
       "first_half_wins     20.52459\n",
       "second_half_wins    20.47541\n",
       "dtype: float64"
      ]
     },
     "execution_count": 4,
     "metadata": {},
     "output_type": "execute_result"
    }
   ],
   "source": [
    "## Sample Solution\n",
    "hockey[['first_half_wins', 'second_half_wins']].mean()"
   ]
  },
  {
   "cell_type": "code",
   "execution_count": 5,
   "id": "f2a8b844",
   "metadata": {},
   "outputs": [
    {
     "data": {
      "text/plain": [
       "first_half_wins     20.5\n",
       "second_half_wins    21.0\n",
       "dtype: float64"
      ]
     },
     "execution_count": 5,
     "metadata": {},
     "output_type": "execute_result"
    }
   ],
   "source": [
    "## Sample Solution\n",
    "hockey[['first_half_wins', 'second_half_wins']].median()"
   ]
  },
  {
   "cell_type": "markdown",
   "id": "966f7863",
   "metadata": {},
   "source": [
    "##### 3. Learning `swarmplot`\n",
    "\n",
    "A chart type we will use in `Problem Session 3` is the <i>swarmplot</i>. A swarmplot is a way of visualizing the distribution of a quantitative variable for different values of a categorical variable. In a swarmplot plotting quantitative feature $Q$ against categorical feature $C$ with $c$ categories all observations are plotted at their value for $Q$ binned by their value for $C$.\n",
    "\n",
    "Using `seaborn`'s `swarmplot` function, <a href=\"https://seaborn.pydata.org/generated/seaborn.swarmplot.html\">https://seaborn.pydata.org/generated/seaborn.swarmplot.html</a>, make a swarmplot placing the `first_half_wins` on the vertical axis and the `season` on the horizontal axis."
   ]
  },
  {
   "cell_type": "markdown",
   "id": "bd4988fd",
   "metadata": {},
   "source": [
    "##### Sample Solution"
   ]
  },
  {
   "cell_type": "code",
   "execution_count": 6,
   "id": "e728c8c6",
   "metadata": {},
   "outputs": [],
   "source": [
    "import matplotlib.pyplot as plt\n",
    "from seaborn import set_style, swarmplot\n",
    "\n",
    "set_style(\"whitegrid\")"
   ]
  },
  {
   "cell_type": "code",
   "execution_count": 7,
   "id": "a9b2c0fe",
   "metadata": {},
   "outputs": [
    {
     "data": {
      "image/png": "[encoded data removed]",
      "text/plain": [
       "<Figure size 864x432 with 1 Axes>"
      ]
     },
     "metadata": {},
     "output_type": "display_data"
    }
   ],
   "source": [
    "plt.figure(figsize=(12,6))\n",
    "\n",
    "swarmplot(data = hockey,\n",
    "             y = 'first_half_wins',\n",
    "             x = 'season')\n",
    "plt.xlabel(\"Season\", fontsize=16)\n",
    "plt.ylabel(\"First Half Wins\", fontsize=16)\n",
    "\n",
    "plt.xticks(fontsize=12)\n",
    "plt.yticks(fontsize=12)\n",
    "\n",
    "plt.show()"
   ]
  },
  {
   "cell_type": "markdown",
   "id": "f974ef94",
   "metadata": {},
   "source": [
    "<i>Note: Sometimes a stripplot is a good alternative to  a swarmplot, <a href=\"https://seaborn.pydata.org/generated/seaborn.stripplot.html\">https://seaborn.pydata.org/generated/seaborn.stripplot.html</a>."
   ]
  },
  {
   "cell_type": "markdown",
   "id": "47be3397",
   "metadata": {},
   "source": [
    "##### 4. Train test split\n",
    "\n",
    "Make a train test split of the hockey data set, set aside $20\\%$ of the data as a test set."
   ]
  },
  {
   "cell_type": "markdown",
   "id": "65e71fb2",
   "metadata": {},
   "source": [
    "##### Sample Solution"
   ]
  },
  {
   "cell_type": "code",
   "execution_count": 8,
   "id": "c4d87c8e",
   "metadata": {},
   "outputs": [],
   "source": [
    "from sklearn.model_selection import train_test_split"
   ]
  },
  {
   "cell_type": "code",
   "execution_count": 9,
   "id": "8f3c0af7",
   "metadata": {},
   "outputs": [],
   "source": [
    "hockey_train, hockey_test = train_test_split(hockey.copy(),\n",
    "                                                shuffle = True,\n",
    "                                                random_state = 303,\n",
    "                                                test_size=.2)"
   ]
  },
  {
   "cell_type": "markdown",
   "id": "f239f42a",
   "metadata": {},
   "source": [
    "##### 5. $5$-fold cross-validation.\n",
    "\n",
    "Using an `sklearn` `KFold` object loop through a $5$-fold cross-validation of the training hockey set. Print out the test and training indices as you loop through the cross-validation splits."
   ]
  },
  {
   "cell_type": "markdown",
   "id": "d09f8614",
   "metadata": {},
   "source": [
    "##### Sample Solution"
   ]
  },
  {
   "cell_type": "code",
   "execution_count": 10,
   "id": "aed691e9",
   "metadata": {},
   "outputs": [],
   "source": [
    "from sklearn.model_selection import KFold"
   ]
  },
  {
   "cell_type": "code",
   "execution_count": 11,
   "id": "f99ff73c",
   "metadata": {},
   "outputs": [
    {
     "name": "stdout",
     "output_type": "stream",
     "text": [
      "CV Split 1\n",
      "Train Indices: [ 1  2  3  4  5  6  7  8  9 10 11 12 14 15 16 17 18 20 21 22 23 24 26 29\n",
      " 30 31 32 33 34 37 38 39 40 41 42 44 45 46 47 48 51 53 54 55 56 57 58 59\n",
      " 60 61 62 63 64 65 67 68 69 72 73 74 75 77 78 79 81 82 84 85 86 87 88 89\n",
      " 90 92 94 95 96]\n",
      "Holdout Indices: [ 0 13 19 25 27 28 35 36 43 49 50 52 66 70 71 76 80 83 91 93]\n",
      "\n",
      "CV Split 2\n",
      "Train Indices: [ 0  1  3  4  5  6  8  9 10 11 13 14 15 17 18 19 20 22 25 26 27 28 29 30\n",
      " 31 33 34 35 36 37 38 41 42 43 45 47 49 50 51 52 53 54 55 57 58 59 60 61\n",
      " 62 63 64 66 67 70 71 73 74 75 76 77 78 80 81 82 83 84 85 86 87 88 89 91\n",
      " 92 93 94 95 96]\n",
      "Holdout Indices: [ 2  7 12 16 21 23 24 32 39 40 44 46 48 56 65 68 69 72 79 90]\n",
      "\n",
      "CV Split 3\n",
      "Train Indices: [ 0  1  2  5  6  7  8 10 11 12 13 14 15 16 19 20 21 23 24 25 27 28 29 30\n",
      " 32 33 34 35 36 37 38 39 40 41 43 44 46 48 49 50 51 52 53 54 55 56 57 58\n",
      " 59 61 62 64 65 66 67 68 69 70 71 72 73 74 75 76 77 78 79 80 82 83 84 86\n",
      " 87 90 91 92 93 95]\n",
      "Holdout Indices: [ 3  4  9 17 18 22 26 31 42 45 47 60 63 81 85 88 89 94 96]\n",
      "\n",
      "CV Split 4\n",
      "Train Indices: [ 0  1  2  3  4  7  9 10 11 12 13 15 16 17 18 19 20 21 22 23 24 25 26 27\n",
      " 28 29 31 32 33 35 36 37 39 40 41 42 43 44 45 46 47 48 49 50 51 52 53 56\n",
      " 58 60 63 64 65 66 68 69 70 71 72 74 76 77 79 80 81 82 83 84 85 86 88 89\n",
      " 90 91 93 94 95 96]\n",
      "Holdout Indices: [ 5  6  8 14 30 34 38 54 55 57 59 61 62 67 73 75 78 87 92]\n",
      "\n",
      "CV Split 5\n",
      "Train Indices: [ 0  2  3  4  5  6  7  8  9 12 13 14 16 17 18 19 21 22 23 24 25 26 27 28\n",
      " 30 31 32 34 35 36 38 39 40 42 43 44 45 46 47 48 49 50 52 54 55 56 57 59\n",
      " 60 61 62 63 65 66 67 68 69 70 71 72 73 75 76 78 79 80 81 83 85 87 88 89\n",
      " 90 91 92 93 94 96]\n",
      "Holdout Indices: [ 1 10 11 15 20 29 33 37 41 51 53 58 64 74 77 82 84 86 95]\n",
      "\n"
     ]
    }
   ],
   "source": [
    "kfold = KFold(5, \n",
    "                 shuffle=True,\n",
    "                 random_state=39039)\n",
    "\n",
    "i = 1\n",
    "for train_index, test_index in kfold.split(hockey_train):\n",
    "    print(\"CV Split\", i)\n",
    "    print(\"Train Indices:\", train_index)\n",
    "    print(\"Holdout Indices:\", test_index)\n",
    "    print()\n",
    "    i = i + 1"
   ]
  },
  {
   "cell_type": "markdown",
   "id": "4b977024",
   "metadata": {},
   "source": [
    "--------------------------\n",
    "\n",
    "This notebook was written for the Erd&#337;s Institute C&#337;de Data Science Boot Camp by Matthew Osborne, Ph. D., 2022.\n",
    "\n",
    "Any potential redistributors must seek and receive permission from Matthew Tyler Osborne, Ph.D. prior to redistribution. Redistribution of the material contained in this repository is conditional on acknowledgement of Matthew Tyler Osborne, Ph.D.'s original authorship and sponsorship of the Erdős Institute as subject to the license (see License.md)"
   ]
  },
  {
   "cell_type": "code",
   "execution_count": null,
   "id": "14e8282f",
   "metadata": {},
   "outputs": [],
   "source": []
  }
 ],
 "metadata": {
  "kernelspec": {
   "display_name": "Python 3 (ipykernel)",
   "language": "python",
   "name": "python3"
  },
  "language_info": {
   "codemirror_mode": {
    "name": "ipython",
    "version": 3
   },
   "file_extension": ".py",
   "mimetype": "text/x-python",
   "name": "python",
   "nbconvert_exporter": "python",
   "pygments_lexer": "ipython3",
   "version": "3.9.9"
  }
 },
 "nbformat": 4,
 "nbformat_minor": 5
}
