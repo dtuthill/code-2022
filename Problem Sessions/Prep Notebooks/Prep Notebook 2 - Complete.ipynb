{
 "cells": [
  {
   "cell_type": "markdown",
   "id": "b7acc8d5",
   "metadata": {},
   "source": [
    "# Prep Notebook 2\n",
    "## Intro to Supervised Learning & Simple Linear Regression\n",
    "\n",
    "This notebook has a few exercises that can serve as a primer for what to expect in the `Problem Session 2` notebook. These exercises will only touch upon the basic python, `pandas`, `numpy` and `matplotlib` that you may want a refresher on prior to starting `Problem Session 2`."
   ]
  },
  {
   "cell_type": "markdown",
   "id": "12655d28",
   "metadata": {},
   "source": [
    "##### 1. Reading a .csv file\n",
    "\n",
    "Read in the `hockey.csv` file using `pandas`. Store it in a variable named `hockey`."
   ]
  },
  {
   "cell_type": "code",
   "execution_count": 1,
   "id": "ee6d0f72",
   "metadata": {},
   "outputs": [],
   "source": [
    "##### Sample Solution\n",
    "import pandas as pd"
   ]
  },
  {
   "cell_type": "code",
   "execution_count": 2,
   "id": "0649e921",
   "metadata": {},
   "outputs": [],
   "source": [
    "##### Sample Solution\n",
    "hockey = pd.read_csv(\"../../Data/hockey.csv\")"
   ]
  },
  {
   "cell_type": "code",
   "execution_count": 3,
   "id": "2eea37dc",
   "metadata": {},
   "outputs": [
    {
     "data": {
      "text/html": [
       "<div>\n",
       "<style scoped>\n",
       "    .dataframe tbody tr th:only-of-type {\n",
       "        vertical-align: middle;\n",
       "    }\n",
       "\n",
       "    .dataframe tbody tr th {\n",
       "        vertical-align: top;\n",
       "    }\n",
       "\n",
       "    .dataframe thead th {\n",
       "        text-align: right;\n",
       "    }\n",
       "</style>\n",
       "<table border=\"1\" class=\"dataframe\">\n",
       "  <thead>\n",
       "    <tr style=\"text-align: right;\">\n",
       "      <th></th>\n",
       "      <th>season</th>\n",
       "      <th>team</th>\n",
       "      <th>first_half_wins</th>\n",
       "      <th>second_half_wins</th>\n",
       "    </tr>\n",
       "  </thead>\n",
       "  <tbody>\n",
       "    <tr>\n",
       "      <th>0</th>\n",
       "      <td>2016</td>\n",
       "      <td>WSH</td>\n",
       "      <td>31</td>\n",
       "      <td>25</td>\n",
       "    </tr>\n",
       "    <tr>\n",
       "      <th>1</th>\n",
       "      <td>2016</td>\n",
       "      <td>DAL</td>\n",
       "      <td>28</td>\n",
       "      <td>22</td>\n",
       "    </tr>\n",
       "    <tr>\n",
       "      <th>2</th>\n",
       "      <td>2016</td>\n",
       "      <td>STL</td>\n",
       "      <td>23</td>\n",
       "      <td>26</td>\n",
       "    </tr>\n",
       "    <tr>\n",
       "      <th>3</th>\n",
       "      <td>2016</td>\n",
       "      <td>PIT</td>\n",
       "      <td>20</td>\n",
       "      <td>28</td>\n",
       "    </tr>\n",
       "    <tr>\n",
       "      <th>4</th>\n",
       "      <td>2016</td>\n",
       "      <td>ANA</td>\n",
       "      <td>17</td>\n",
       "      <td>29</td>\n",
       "    </tr>\n",
       "  </tbody>\n",
       "</table>\n",
       "</div>"
      ],
      "text/plain": [
       "   season team  first_half_wins  second_half_wins\n",
       "0    2016  WSH               31                25\n",
       "1    2016  DAL               28                22\n",
       "2    2016  STL               23                26\n",
       "3    2016  PIT               20                28\n",
       "4    2016  ANA               17                29"
      ]
     },
     "execution_count": 3,
     "metadata": {},
     "output_type": "execute_result"
    }
   ],
   "source": [
    "hockey.head()"
   ]
  },
  {
   "cell_type": "markdown",
   "id": "6412906c",
   "metadata": {},
   "source": [
    "##### 2. Exploring `hockey`.\n",
    "\n",
    "- How many observations are in `hockey`?\n",
    "- What are the columns of `hockey` called?\n",
    "- Display the first five rows of `hockey`.\n",
    "- What are the mean values of `first_half_wins` and `second_half_wins`?"
   ]
  },
  {
   "cell_type": "markdown",
   "id": "d43fd92d",
   "metadata": {},
   "source": [
    "##### Sample Answer"
   ]
  },
  {
   "cell_type": "code",
   "execution_count": 4,
   "id": "6b20ebc7",
   "metadata": {},
   "outputs": [
    {
     "data": {
      "text/plain": [
       "122"
      ]
     },
     "execution_count": 4,
     "metadata": {},
     "output_type": "execute_result"
    }
   ],
   "source": [
    "len(hockey)"
   ]
  },
  {
   "cell_type": "code",
   "execution_count": 5,
   "id": "4eb4889d",
   "metadata": {},
   "outputs": [
    {
     "data": {
      "text/plain": [
       "Index(['season', 'team', 'first_half_wins', 'second_half_wins'], dtype='object')"
      ]
     },
     "execution_count": 5,
     "metadata": {},
     "output_type": "execute_result"
    }
   ],
   "source": [
    "hockey.columns"
   ]
  },
  {
   "cell_type": "code",
   "execution_count": 6,
   "id": "af1ec36b",
   "metadata": {},
   "outputs": [
    {
     "data": {
      "text/html": [
       "<div>\n",
       "<style scoped>\n",
       "    .dataframe tbody tr th:only-of-type {\n",
       "        vertical-align: middle;\n",
       "    }\n",
       "\n",
       "    .dataframe tbody tr th {\n",
       "        vertical-align: top;\n",
       "    }\n",
       "\n",
       "    .dataframe thead th {\n",
       "        text-align: right;\n",
       "    }\n",
       "</style>\n",
       "<table border=\"1\" class=\"dataframe\">\n",
       "  <thead>\n",
       "    <tr style=\"text-align: right;\">\n",
       "      <th></th>\n",
       "      <th>season</th>\n",
       "      <th>team</th>\n",
       "      <th>first_half_wins</th>\n",
       "      <th>second_half_wins</th>\n",
       "    </tr>\n",
       "  </thead>\n",
       "  <tbody>\n",
       "    <tr>\n",
       "      <th>0</th>\n",
       "      <td>2016</td>\n",
       "      <td>WSH</td>\n",
       "      <td>31</td>\n",
       "      <td>25</td>\n",
       "    </tr>\n",
       "    <tr>\n",
       "      <th>1</th>\n",
       "      <td>2016</td>\n",
       "      <td>DAL</td>\n",
       "      <td>28</td>\n",
       "      <td>22</td>\n",
       "    </tr>\n",
       "    <tr>\n",
       "      <th>2</th>\n",
       "      <td>2016</td>\n",
       "      <td>STL</td>\n",
       "      <td>23</td>\n",
       "      <td>26</td>\n",
       "    </tr>\n",
       "    <tr>\n",
       "      <th>3</th>\n",
       "      <td>2016</td>\n",
       "      <td>PIT</td>\n",
       "      <td>20</td>\n",
       "      <td>28</td>\n",
       "    </tr>\n",
       "    <tr>\n",
       "      <th>4</th>\n",
       "      <td>2016</td>\n",
       "      <td>ANA</td>\n",
       "      <td>17</td>\n",
       "      <td>29</td>\n",
       "    </tr>\n",
       "  </tbody>\n",
       "</table>\n",
       "</div>"
      ],
      "text/plain": [
       "   season team  first_half_wins  second_half_wins\n",
       "0    2016  WSH               31                25\n",
       "1    2016  DAL               28                22\n",
       "2    2016  STL               23                26\n",
       "3    2016  PIT               20                28\n",
       "4    2016  ANA               17                29"
      ]
     },
     "execution_count": 6,
     "metadata": {},
     "output_type": "execute_result"
    }
   ],
   "source": [
    "hockey.head()"
   ]
  },
  {
   "cell_type": "code",
   "execution_count": 7,
   "id": "cc9cd619",
   "metadata": {},
   "outputs": [
    {
     "data": {
      "text/plain": [
       "first_half_wins     20.52459\n",
       "second_half_wins    20.47541\n",
       "dtype: float64"
      ]
     },
     "execution_count": 7,
     "metadata": {},
     "output_type": "execute_result"
    }
   ],
   "source": [
    "hockey[['first_half_wins', 'second_half_wins']].mean()"
   ]
  },
  {
   "cell_type": "markdown",
   "id": "043e5b54",
   "metadata": {},
   "source": [
    "##### 3. Scatter and line plots.\n",
    "\n",
    "- Make a scatter plot of `second_half_wins` against `first_half_wins`. \n",
    "- Plot a horizontal line at the average value of `second_half_wins` that runs from the minimum value of `first_half_wins` - $2$ to the maximum value of `first_half_wins` + $2$, make this line red and dotted."
   ]
  },
  {
   "cell_type": "markdown",
   "id": "effe8e84",
   "metadata": {},
   "source": [
    "##### Sample Answer"
   ]
  },
  {
   "cell_type": "code",
   "execution_count": 8,
   "id": "1ba42a61",
   "metadata": {},
   "outputs": [],
   "source": [
    "import matplotlib.pyplot as plt\n",
    "import numpy as np\n",
    "from seaborn import set_style\n",
    "\n",
    "set_style(\"whitegrid\")"
   ]
  },
  {
   "cell_type": "code",
   "execution_count": 9,
   "id": "bb2c498a",
   "metadata": {},
   "outputs": [
    {
     "data": {
      "image/png": "[encoded data removed]",
      "text/plain": [
       "<Figure size 720x576 with 1 Axes>"
      ]
     },
     "metadata": {},
     "output_type": "display_data"
    }
   ],
   "source": [
    "plt.figure(figsize=(10,8))\n",
    "\n",
    "plt.scatter(hockey.first_half_wins,\n",
    "               hockey.second_half_wins,\n",
    "               alpha=.6)\n",
    "\n",
    "plt.plot([hockey.first_half_wins.min()-2, hockey.first_half_wins.max()+2],\n",
    "            hockey.second_half_wins.mean()*np.ones(2),\n",
    "            'r--')\n",
    "\n",
    "plt.xlabel(\"First Half Wins\", fontsize=14)\n",
    "plt.xlabel(\"Second Half Wins\", fontsize=14)\n",
    "\n",
    "\n",
    "plt.show()"
   ]
  },
  {
   "cell_type": "markdown",
   "id": "ba1c02ef",
   "metadata": {},
   "source": [
    "##### 4. `for` loop\n",
    "\n",
    "Write a `for` loop that prints out the `season` and `team` for each row of `hockey`."
   ]
  },
  {
   "cell_type": "code",
   "execution_count": 10,
   "id": "bc7d4dbf",
   "metadata": {},
   "outputs": [
    {
     "name": "stdout",
     "output_type": "stream",
     "text": [
      "2016 WSH\n",
      "2016 DAL\n",
      "2016 STL\n",
      "2016 PIT\n",
      "2016 ANA\n",
      "2016 CHI\n",
      "2016 FLA\n",
      "2016 LAK\n",
      "2016 NYR\n",
      "2016 NYI\n",
      "2016 SJS\n",
      "2016 TBL\n",
      "2016 PHI\n",
      "2016 NSH\n",
      "2016 BOS\n",
      "2016 DET\n",
      "2016 MIN\n",
      "2016 CAR\n",
      "2016 OTT\n",
      "2016 NJD\n",
      "2016 COL\n",
      "2016 MTL\n",
      "2016 BUF\n",
      "2016 WPG\n",
      "2016 ARI\n",
      "2016 CGY\n",
      "2016 CBJ\n",
      "2016 VAN\n",
      "2016 EDM\n",
      "2016 TOR\n",
      "2017 WSH\n",
      "2017 PIT\n",
      "2017 CHI\n",
      "2017 CBJ\n",
      "2017 MIN\n",
      "2017 ANA\n",
      "2017 EDM\n",
      "2017 MTL\n",
      "2017 NYR\n",
      "2017 STL\n",
      "2017 SJS\n",
      "2017 OTT\n",
      "2017 BOS\n",
      "2017 TOR\n",
      "2017 NYI\n",
      "2017 NSH\n",
      "2017 TBL\n",
      "2017 CGY\n",
      "2017 PHI\n",
      "2017 CAR\n",
      "2017 WPG\n",
      "2017 LAK\n",
      "2017 FLA\n",
      "2017 DET\n",
      "2017 DAL\n",
      "2017 BUF\n",
      "2017 NJD\n",
      "2017 ARI\n",
      "2017 VAN\n",
      "2017 COL\n",
      "2018 NSH\n",
      "2018 WPG\n",
      "2018 TBL\n",
      "2018 BOS\n",
      "2018 VEG\n",
      "2018 TOR\n",
      "2018 WSH\n",
      "2018 ANA\n",
      "2018 MIN\n",
      "2018 SJS\n",
      "2018 PIT\n",
      "2018 LAK\n",
      "2018 PHI\n",
      "2018 NJD\n",
      "2018 CBJ\n",
      "2018 FLA\n",
      "2018 COL\n",
      "2018 STL\n",
      "2018 DAL\n",
      "2018 CGY\n",
      "2018 CAR\n",
      "2018 NYI\n",
      "2018 EDM\n",
      "2018 NYR\n",
      "2018 CHI\n",
      "2018 VAN\n",
      "2018 DET\n",
      "2018 MTL\n",
      "2018 ARI\n",
      "2018 OTT\n",
      "2018 BUF\n",
      "2019 TBL\n",
      "2019 BOS\n",
      "2019 CGY\n",
      "2019 WSH\n",
      "2019 NYI\n",
      "2019 SJS\n",
      "2019 TOR\n",
      "2019 NSH\n",
      "2019 PIT\n",
      "2019 STL\n",
      "2019 WPG\n",
      "2019 CAR\n",
      "2019 CBJ\n",
      "2019 MTL\n",
      "2019 VEG\n",
      "2019 DAL\n",
      "2019 COL\n",
      "2019 FLA\n",
      "2019 ARI\n",
      "2019 CHI\n",
      "2019 MIN\n",
      "2019 PHI\n",
      "2019 VAN\n",
      "2019 ANA\n",
      "2019 EDM\n",
      "2019 NYR\n",
      "2019 BUF\n",
      "2019 DET\n",
      "2019 NJD\n",
      "2019 LAK\n",
      "2019 OTT\n"
     ]
    }
   ],
   "source": [
    "for season, team in hockey[['season', 'team']].values:\n",
    "    print(season, team)"
   ]
  },
  {
   "cell_type": "markdown",
   "id": "9af0bbd8",
   "metadata": {},
   "source": [
    "--------------------------\n",
    "\n",
    "This notebook was written for the Erd&#337;s Institute C&#337;de Data Science Boot Camp by Matthew Osborne, Ph. D., 2022.\n",
    "\n",
    "Any potential redistributors must seek and receive permission from Matthew Tyler Osborne, Ph.D. prior to redistribution. Redistribution of the material contained in this repository is conditional on acknowledgement of Matthew Tyler Osborne, Ph.D.'s original authorship and sponsorship of the Erdős Institute as subject to the license (see License.md)"
   ]
  },
  {
   "cell_type": "code",
   "execution_count": null,
   "id": "197323df",
   "metadata": {},
   "outputs": [],
   "source": []
  }
 ],
 "metadata": {
  "kernelspec": {
   "display_name": "Python 3 (ipykernel)",
   "language": "python",
   "name": "python3"
  },
  "language_info": {
   "codemirror_mode": {
    "name": "ipython",
    "version": 3
   },
   "file_extension": ".py",
   "mimetype": "text/x-python",
   "name": "python",
   "nbconvert_exporter": "python",
   "pygments_lexer": "ipython3",
   "version": "3.9.9"
  }
 },
 "nbformat": 4,
 "nbformat_minor": 5
}
