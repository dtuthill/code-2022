{
 "cells": [
  {
   "cell_type": "markdown",
   "id": "45023108",
   "metadata": {},
   "source": [
    "# Prep Notebook 6\n",
    "## The Simpsons and Bicycles II\n",
    "\n",
    "This notebook has a few exercises that can serve as a primer for what to expect in the `Problem Session 6` notebook. These exercises will touch upon the basic python, `pandas`, `numpy`, `matplotlib` and some supervised learning basic techniques that you may want a refresher on prior to starting `Problem Session 6`."
   ]
  },
  {
   "cell_type": "code",
   "execution_count": 1,
   "id": "c9a23f9b",
   "metadata": {},
   "outputs": [],
   "source": [
    "import pandas as pd\n",
    "import numpy as np\n",
    "import matplotlib.pyplot as plt\n",
    "from seaborn import set_style\n",
    "\n",
    "set_style(\"whitegrid\")"
   ]
  },
  {
   "cell_type": "markdown",
   "id": "58e1290f",
   "metadata": {},
   "source": [
    "##### 1. Time series cross-validation\n",
    "\n",
    "Import the cross-validation object from `sklearn` that you would use to perform cross-validation on a time series."
   ]
  },
  {
   "cell_type": "markdown",
   "id": "ef414724",
   "metadata": {},
   "source": [
    "##### Sample Solution"
   ]
  },
  {
   "cell_type": "code",
   "execution_count": 2,
   "id": "e62a7542",
   "metadata": {},
   "outputs": [],
   "source": [
    "from sklearn.model_selection import TimeSeriesSplit"
   ]
  },
  {
   "cell_type": "markdown",
   "id": "3c671e31",
   "metadata": {},
   "source": [
    "##### 2. MSE\n",
    "\n",
    "Import the `sklearn` metric function that you can use to calculate the mean squared error."
   ]
  },
  {
   "cell_type": "markdown",
   "id": "34d0e378",
   "metadata": {},
   "source": [
    "##### Sample Solution"
   ]
  },
  {
   "cell_type": "code",
   "execution_count": 3,
   "id": "4a878d09",
   "metadata": {},
   "outputs": [],
   "source": [
    "from sklearn.metrics import mean_squared_error"
   ]
  },
  {
   "cell_type": "markdown",
   "id": "e6d1215f",
   "metadata": {},
   "source": [
    "##### 3. Loading data\n",
    "\n",
    "Load the following data and make the following train test split"
   ]
  },
  {
   "cell_type": "code",
   "execution_count": 4,
   "id": "e4fa2fc2",
   "metadata": {},
   "outputs": [],
   "source": [
    "pumpkin = pd.read_csv(\"../../Data/goog_trend_pumpkin.csv\")"
   ]
  },
  {
   "cell_type": "code",
   "execution_count": 5,
   "id": "c6b9725e",
   "metadata": {},
   "outputs": [],
   "source": [
    "pumpkin_test = pumpkin.tail(12).copy()\n",
    "pumpkin_train = pumpkin.drop(pumpkin_test.index).copy()"
   ]
  },
  {
   "cell_type": "markdown",
   "id": "63daba1b",
   "metadata": {},
   "source": [
    "##### 4. Recording MSE over cross-validation\n",
    "\n",
    "Fill in the missing code chunks below to create an array of zeros that will be replaced with the MSE each time through the cross-validation."
   ]
  },
  {
   "cell_type": "markdown",
   "id": "ad2838ef",
   "metadata": {},
   "source": [
    "##### Sample Solution"
   ]
  },
  {
   "cell_type": "code",
   "execution_count": 6,
   "id": "2bb5f14d",
   "metadata": {},
   "outputs": [],
   "source": [
    "## Make the cross-validation object here\n",
    "## 5 splits and a test_size of 12\n",
    "cv = TimeSeriesSplit(5, test_size=12)\n",
    "\n",
    "## Make the zero array here \n",
    "mses = np.zeros(5)\n",
    "\n",
    "\n",
    "i = 0\n",
    "for train_index, test_index in cv.split(pumpkin_train):\n",
    "    pumpkin_tt = pumpkin_train.iloc[train_index]\n",
    "    pumpkin_ho = pumpkin_train.iloc[test_index]\n",
    "    \n",
    "    pred = pumpkin_tt.pumpkin_trend.mean() * np.ones(len(pumpkin_ho))\n",
    "    \n",
    "    ## record the mse between the prediction and the \n",
    "    ## actual holdout pumpkin_trend here\n",
    "    mses[i] = mean_squared_error(pumpkin_ho.pumpkin_trend.values, pred)\n",
    "    \n",
    "    ## increase the split counter\n",
    "    i = i + 1"
   ]
  },
  {
   "cell_type": "markdown",
   "id": "d0ce794c",
   "metadata": {},
   "source": [
    "##### 5. `np.mean` I\n",
    "\n",
    "Use `np.mean` to find the arithmetic mean of `mses` from problem 4."
   ]
  },
  {
   "cell_type": "markdown",
   "id": "58a3f8c9",
   "metadata": {},
   "source": [
    "##### Sample Solution"
   ]
  },
  {
   "cell_type": "code",
   "execution_count": 7,
   "id": "5f7b22f4",
   "metadata": {},
   "outputs": [
    {
     "data": {
      "text/plain": [
       "650.1783501545202"
      ]
     },
     "execution_count": 7,
     "metadata": {},
     "output_type": "execute_result"
    }
   ],
   "source": [
    "np.mean(mses)"
   ]
  },
  {
   "cell_type": "markdown",
   "id": "5529ff15",
   "metadata": {},
   "source": [
    "##### 6. `np.mean` II\n",
    "\n",
    "Find the column mean of `X` below using `np.mean`, <a href=\"https://numpy.org/doc/stable/reference/generated/numpy.mean.html\">https://numpy.org/doc/stable/reference/generated/numpy.mean.html</a>."
   ]
  },
  {
   "cell_type": "markdown",
   "id": "20f7e0f7",
   "metadata": {},
   "source": [
    "##### Sample Solution"
   ]
  },
  {
   "cell_type": "code",
   "execution_count": 8,
   "id": "3e2f3c69",
   "metadata": {},
   "outputs": [],
   "source": [
    "np.random.seed(440)\n",
    "X = np.random.randn(10,4)"
   ]
  },
  {
   "cell_type": "code",
   "execution_count": 9,
   "id": "3c9eae99",
   "metadata": {},
   "outputs": [
    {
     "data": {
      "text/plain": [
       "array([-0.53177164,  0.08421444, -0.64758285,  0.22759647])"
      ]
     },
     "execution_count": 9,
     "metadata": {},
     "output_type": "execute_result"
    }
   ],
   "source": [
    "np.mean(X, axis=0)"
   ]
  },
  {
   "cell_type": "markdown",
   "id": "479a97d6",
   "metadata": {},
   "source": [
    "##### 7. Yes another plot\n",
    "\n",
    "Make a scatter plot of `y` against `X` after generating the data below. Then plot `line_y` against `line_x` on top of the scatter plot. Label the horizontal axis, \"X\", the vertical axis \"y\" and add a legend to the plot."
   ]
  },
  {
   "cell_type": "code",
   "execution_count": 10,
   "id": "07c3adde",
   "metadata": {},
   "outputs": [],
   "source": [
    "np.random.seed(403)\n",
    "\n",
    "X = 2*np.random.random(size=100)-1\n",
    "y = 3 + 2*X + np.random.randn(100)\n",
    "\n",
    "line_x = np.linspace(-1,1,100)\n",
    "line_y = 3 + 2*line_x"
   ]
  },
  {
   "cell_type": "markdown",
   "id": "c03394f6",
   "metadata": {},
   "source": [
    "##### Sample Solution"
   ]
  },
  {
   "cell_type": "code",
   "execution_count": 11,
   "id": "d969dc53",
   "metadata": {},
   "outputs": [
    {
     "data": {
      "image/png": "[encoded data removed]",
      "text/plain": [
       "<Figure size 576x432 with 1 Axes>"
      ]
     },
     "metadata": {},
     "output_type": "display_data"
    }
   ],
   "source": [
    "plt.figure(figsize=(8,6))\n",
    "\n",
    "plt.scatter(X, y, label=\"Points\", alpha=.6)\n",
    "plt.plot(line_x, line_y, 'k', label=\"Line\")\n",
    "\n",
    "plt.xlabel(\"$X$\", fontsize=14)\n",
    "plt.ylabel(\"$y$\", fontsize=14)\n",
    "\n",
    "plt.legend(fontsize=14)\n",
    "\n",
    "plt.show()"
   ]
  },
  {
   "cell_type": "markdown",
   "id": "56a8ee5b",
   "metadata": {},
   "source": [
    "--------------------------\n",
    "\n",
    "This notebook was written for the Erd&#337;s Institute C&#337;de Data Science Boot Camp by Matthew Osborne, Ph. D., 2022.\n",
    "\n",
    "Any potential redistributors must seek and receive permission from Matthew Tyler Osborne, Ph.D. prior to redistribution. Redistribution of the material contained in this repository is conditional on acknowledgement of Matthew Tyler Osborne, Ph.D.'s original authorship and sponsorship of the Erdős Institute as subject to the license (see License.md)"
   ]
  },
  {
   "cell_type": "code",
   "execution_count": null,
   "id": "fe5b49cd",
   "metadata": {},
   "outputs": [],
   "source": []
  }
 ],
 "metadata": {
  "kernelspec": {
   "display_name": "Python 3 (ipykernel)",
   "language": "python",
   "name": "python3"
  },
  "language_info": {
   "codemirror_mode": {
    "name": "ipython",
    "version": 3
   },
   "file_extension": ".py",
   "mimetype": "text/x-python",
   "name": "python",
   "nbconvert_exporter": "python",
   "pygments_lexer": "ipython3",
   "version": "3.9.9"
  }
 },
 "nbformat": 4,
 "nbformat_minor": 5
}
