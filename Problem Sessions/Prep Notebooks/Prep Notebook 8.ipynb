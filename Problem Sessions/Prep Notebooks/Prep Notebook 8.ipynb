{
 "cells": [
  {
   "cell_type": "markdown",
   "id": "dfab8e77",
   "metadata": {},
   "source": [
    "# Prep Notebook 8\n",
    "## Classifying Cancer II\n",
    "\n",
    "This notebook has a few exercises that can serve as a primer for what to expect in the `Problem Session 8` notebook. These exercises will touch upon the basic python, `pandas`, `numpy`, `matplotlib` and some supervised learning basic techniques that you may want a refresher on prior to starting `Problem Session 8`."
   ]
  },
  {
   "cell_type": "code",
   "execution_count": null,
   "id": "73925360",
   "metadata": {},
   "outputs": [],
   "source": [
    "import pandas as pd\n",
    "import numpy as np\n",
    "import matplotlib.pyplot as plt\n",
    "import seaborn as sns\n",
    "\n",
    "sns.set_style(\"whitegrid\")"
   ]
  },
  {
   "cell_type": "markdown",
   "id": "23b59a9c",
   "metadata": {},
   "source": [
    "##### 1. Review problem session 7\n",
    "\n",
    "In `Problem Session 8` we will use what you did in `Problem Session 7`, review your group's work as well as the complete version."
   ]
  },
  {
   "cell_type": "markdown",
   "id": "801f4d6a",
   "metadata": {},
   "source": [
    "##### 2. Scaling\n",
    "\n",
    "Generate the data `X` below, run it through `StandardScaler`."
   ]
  },
  {
   "cell_type": "code",
   "execution_count": null,
   "id": "27ef5ebf",
   "metadata": {},
   "outputs": [],
   "source": [
    "np.random.seed(424)\n",
    "X = np.zeros((100,5))\n",
    "X[:,0] = np.random.randn(100)\n",
    "X[:,1] = 100*np.random.randn(100) + 1000\n",
    "X[:,2] = 20000*np.random.random(size = 100) - 10000\n",
    "X[:,3] = np.random.binomial(20, .7, 100)\n",
    "X[:,4] = 10*np.random.randn(100)"
   ]
  },
  {
   "cell_type": "code",
   "execution_count": null,
   "id": "02ef4b62",
   "metadata": {},
   "outputs": [],
   "source": [
    "## code here\n",
    "\n",
    "\n"
   ]
  },
  {
   "cell_type": "code",
   "execution_count": null,
   "id": "90ae94ba",
   "metadata": {
    "scrolled": true
   },
   "outputs": [],
   "source": [
    "## code here\n",
    "\n",
    "\n"
   ]
  },
  {
   "cell_type": "markdown",
   "id": "a8574aef",
   "metadata": {},
   "source": [
    "##### 3. Pipeline\n",
    "\n",
    "Generate the data `y` below, then build a pipeline to:\n",
    "- Scale `X` and\n",
    "- Build a $k$NN model to predict `y` with `X` and $k=5$."
   ]
  },
  {
   "cell_type": "code",
   "execution_count": null,
   "id": "2b1c046a",
   "metadata": {},
   "outputs": [],
   "source": [
    "y = np.random.binomial(1, .6, 100)"
   ]
  },
  {
   "cell_type": "code",
   "execution_count": null,
   "id": "fb6d8727",
   "metadata": {},
   "outputs": [],
   "source": [
    "## code here\n",
    "\n",
    "\n"
   ]
  },
  {
   "cell_type": "code",
   "execution_count": null,
   "id": "7cccc457",
   "metadata": {},
   "outputs": [],
   "source": [
    "## code here\n",
    "\n",
    "\n"
   ]
  },
  {
   "cell_type": "markdown",
   "id": "ac95128f",
   "metadata": {},
   "source": [
    "##### 4. Classifier metrics\n",
    "\n",
    "Calculate the TPR, FPR and precision for the pipeline you fit above."
   ]
  },
  {
   "cell_type": "code",
   "execution_count": null,
   "id": "feeab632",
   "metadata": {},
   "outputs": [],
   "source": [
    "## code here\n",
    "\n"
   ]
  },
  {
   "cell_type": "code",
   "execution_count": null,
   "id": "96a05fa4",
   "metadata": {},
   "outputs": [],
   "source": [
    "## code here\n",
    "\n"
   ]
  },
  {
   "cell_type": "code",
   "execution_count": null,
   "id": "771f2426",
   "metadata": {},
   "outputs": [],
   "source": [
    "## code here\n",
    "\n"
   ]
  },
  {
   "cell_type": "code",
   "execution_count": null,
   "id": "a19e23cd",
   "metadata": {},
   "outputs": [],
   "source": [
    "## code here\n",
    "\n"
   ]
  },
  {
   "cell_type": "markdown",
   "id": "6ff53cfd",
   "metadata": {},
   "source": [
    "--------------------------\n",
    "\n",
    "This notebook was written for the Erd&#337;s Institute C&#337;de Data Science Boot Camp by Matthew Osborne, Ph. D., 2022.\n",
    "\n",
    "Any potential redistributors must seek and receive permission from Matthew Tyler Osborne, Ph.D. prior to redistribution. Redistribution of the material contained in this repository is conditional on acknowledgement of Matthew Tyler Osborne, Ph.D.'s original authorship and sponsorship of the Erdős Institute as subject to the license (see License.md)"
   ]
  },
  {
   "cell_type": "code",
   "execution_count": null,
   "id": "3cfe4f4f",
   "metadata": {},
   "outputs": [],
   "source": []
  }
 ],
 "metadata": {
  "kernelspec": {
   "display_name": "Python 3 (ipykernel)",
   "language": "python",
   "name": "python3"
  },
  "language_info": {
   "codemirror_mode": {
    "name": "ipython",
    "version": 3
   },
   "file_extension": ".py",
   "mimetype": "text/x-python",
   "name": "python",
   "nbconvert_exporter": "python",
   "pygments_lexer": "ipython3",
   "version": "3.9.9"
  }
 },
 "nbformat": 4,
 "nbformat_minor": 5
}
