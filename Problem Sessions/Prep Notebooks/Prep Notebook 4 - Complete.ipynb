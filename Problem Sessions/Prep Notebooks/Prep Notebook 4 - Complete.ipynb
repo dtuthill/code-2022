{
 "cells": [
  {
   "cell_type": "markdown",
   "id": "5835613d",
   "metadata": {},
   "source": [
    "# Prep Notebook 4\n",
    "## Regressing Wine Sales\n",
    "\n",
    "This notebook has a few exercises that can serve as a primer for what to expect in the `Problem Session 4` notebook. These exercises will touch upon the basic python, `pandas`, `numpy`, `matplotlib` and some supervised learning basic techniques that you may want a refresher on prior to starting `Problem Session 4`."
   ]
  },
  {
   "cell_type": "markdown",
   "id": "93cbc163",
   "metadata": {},
   "source": [
    "##### 1. Load in `carseats.csv`\n",
    "\n",
    "Load in `carseats.csv` using `pandas`."
   ]
  },
  {
   "cell_type": "code",
   "execution_count": 1,
   "id": "e3327562",
   "metadata": {},
   "outputs": [],
   "source": [
    "import pandas as pd"
   ]
  },
  {
   "cell_type": "code",
   "execution_count": 2,
   "id": "efbc9efd",
   "metadata": {},
   "outputs": [],
   "source": [
    "carseats = pd.read_csv(\"../../Data/carseats.csv\")"
   ]
  },
  {
   "cell_type": "markdown",
   "id": "1e50fec2",
   "metadata": {},
   "source": [
    "##### 2. Train test split\n",
    "\n",
    "Make a train test split of `carseats`."
   ]
  },
  {
   "cell_type": "code",
   "execution_count": 3,
   "id": "ab100fbd",
   "metadata": {},
   "outputs": [],
   "source": [
    "from sklearn.model_selection import train_test_split"
   ]
  },
  {
   "cell_type": "code",
   "execution_count": 4,
   "id": "c81cdb71",
   "metadata": {},
   "outputs": [],
   "source": [
    "car_train, car_test = train_test_split(carseats, \n",
    "                                        shuffle = True,\n",
    "                                        random_state = 22,\n",
    "                                        test_size = .2)"
   ]
  },
  {
   "cell_type": "code",
   "execution_count": 5,
   "id": "0d72145c",
   "metadata": {},
   "outputs": [
    {
     "data": {
      "text/html": [
       "<div>\n",
       "<style scoped>\n",
       "    .dataframe tbody tr th:only-of-type {\n",
       "        vertical-align: middle;\n",
       "    }\n",
       "\n",
       "    .dataframe tbody tr th {\n",
       "        vertical-align: top;\n",
       "    }\n",
       "\n",
       "    .dataframe thead th {\n",
       "        text-align: right;\n",
       "    }\n",
       "</style>\n",
       "<table border=\"1\" class=\"dataframe\">\n",
       "  <thead>\n",
       "    <tr style=\"text-align: right;\">\n",
       "      <th></th>\n",
       "      <th>Sales</th>\n",
       "      <th>CompPrice</th>\n",
       "      <th>Income</th>\n",
       "      <th>Advertising</th>\n",
       "      <th>Population</th>\n",
       "      <th>Price</th>\n",
       "      <th>ShelveLoc</th>\n",
       "      <th>Age</th>\n",
       "      <th>Education</th>\n",
       "      <th>Urban</th>\n",
       "      <th>US</th>\n",
       "    </tr>\n",
       "  </thead>\n",
       "  <tbody>\n",
       "    <tr>\n",
       "      <th>271</th>\n",
       "      <td>4.55</td>\n",
       "      <td>111</td>\n",
       "      <td>56</td>\n",
       "      <td>0</td>\n",
       "      <td>504</td>\n",
       "      <td>110</td>\n",
       "      <td>Medium</td>\n",
       "      <td>62</td>\n",
       "      <td>16</td>\n",
       "      <td>Yes</td>\n",
       "      <td>No</td>\n",
       "    </tr>\n",
       "    <tr>\n",
       "      <th>98</th>\n",
       "      <td>12.49</td>\n",
       "      <td>122</td>\n",
       "      <td>77</td>\n",
       "      <td>24</td>\n",
       "      <td>382</td>\n",
       "      <td>127</td>\n",
       "      <td>Good</td>\n",
       "      <td>36</td>\n",
       "      <td>16</td>\n",
       "      <td>No</td>\n",
       "      <td>Yes</td>\n",
       "    </tr>\n",
       "    <tr>\n",
       "      <th>329</th>\n",
       "      <td>11.27</td>\n",
       "      <td>100</td>\n",
       "      <td>54</td>\n",
       "      <td>9</td>\n",
       "      <td>433</td>\n",
       "      <td>89</td>\n",
       "      <td>Good</td>\n",
       "      <td>45</td>\n",
       "      <td>12</td>\n",
       "      <td>Yes</td>\n",
       "      <td>Yes</td>\n",
       "    </tr>\n",
       "    <tr>\n",
       "      <th>82</th>\n",
       "      <td>11.62</td>\n",
       "      <td>151</td>\n",
       "      <td>83</td>\n",
       "      <td>4</td>\n",
       "      <td>325</td>\n",
       "      <td>139</td>\n",
       "      <td>Good</td>\n",
       "      <td>28</td>\n",
       "      <td>17</td>\n",
       "      <td>Yes</td>\n",
       "      <td>Yes</td>\n",
       "    </tr>\n",
       "    <tr>\n",
       "      <th>15</th>\n",
       "      <td>8.71</td>\n",
       "      <td>149</td>\n",
       "      <td>95</td>\n",
       "      <td>5</td>\n",
       "      <td>400</td>\n",
       "      <td>144</td>\n",
       "      <td>Medium</td>\n",
       "      <td>76</td>\n",
       "      <td>18</td>\n",
       "      <td>No</td>\n",
       "      <td>No</td>\n",
       "    </tr>\n",
       "  </tbody>\n",
       "</table>\n",
       "</div>"
      ],
      "text/plain": [
       "     Sales  CompPrice  Income  Advertising  Population  Price ShelveLoc  Age  \\\n",
       "271   4.55        111      56            0         504    110    Medium   62   \n",
       "98   12.49        122      77           24         382    127      Good   36   \n",
       "329  11.27        100      54            9         433     89      Good   45   \n",
       "82   11.62        151      83            4         325    139      Good   28   \n",
       "15    8.71        149      95            5         400    144    Medium   76   \n",
       "\n",
       "     Education Urban   US  \n",
       "271         16   Yes   No  \n",
       "98          16    No  Yes  \n",
       "329         12   Yes  Yes  \n",
       "82          17   Yes  Yes  \n",
       "15          18    No   No  "
      ]
     },
     "execution_count": 5,
     "metadata": {},
     "output_type": "execute_result"
    }
   ],
   "source": [
    "car_train.head()"
   ]
  },
  {
   "cell_type": "markdown",
   "id": "e9bae5c2",
   "metadata": {},
   "source": [
    "##### 3. EDA\n",
    "\n",
    "Use `seaborn`'s `pairplot` to make scatter plots of `Sales` against `Price`, `Population` and `Advertising`. <i>Hint: use they `y_vars` and `x_vars` arguements</i>."
   ]
  },
  {
   "cell_type": "code",
   "execution_count": 6,
   "id": "d4047094",
   "metadata": {},
   "outputs": [],
   "source": [
    "import matplotlib.pyplot as plt\n",
    "from seaborn import set_style, pairplot\n",
    "\n",
    "set_style(\"whitegrid\")"
   ]
  },
  {
   "cell_type": "code",
   "execution_count": 7,
   "id": "5b55cb8a",
   "metadata": {},
   "outputs": [
    {
     "data": {
      "image/png": "[encoded data removed]",
      "text/plain": [
       "<Figure size 540x180 with 3 Axes>"
      ]
     },
     "metadata": {},
     "output_type": "display_data"
    }
   ],
   "source": [
    "pairplot(car_train,\n",
    "            y_vars = ['Sales'],\n",
    "            x_vars = ['Price', 'Population', 'CompPrice'])\n",
    "\n",
    "plt.show()"
   ]
  },
  {
   "cell_type": "markdown",
   "id": "acfcf081",
   "metadata": {},
   "source": [
    "##### 4. Fit a model\n",
    "\n",
    "Fit the model regressing `Sales` on `CompPrice`. Find the mean squared error on the training set."
   ]
  },
  {
   "cell_type": "code",
   "execution_count": 8,
   "id": "1b43ce61",
   "metadata": {},
   "outputs": [],
   "source": [
    "from sklearn.linear_model import LinearRegression\n",
    "from sklearn.metrics import mean_squared_error"
   ]
  },
  {
   "cell_type": "code",
   "execution_count": 9,
   "id": "8c7e67da",
   "metadata": {},
   "outputs": [
    {
     "data": {
      "text/plain": [
       "7.657849114022049"
      ]
     },
     "execution_count": 9,
     "metadata": {},
     "output_type": "execute_result"
    }
   ],
   "source": [
    "reg = LinearRegression(copy_X = True)\n",
    "\n",
    "reg.fit(car_train.CompPrice.values.reshape(-1,1),\n",
    "           car_train.Sales.values)\n",
    "\n",
    "mean_squared_error(car_train.Sales.values,\n",
    "                      reg.predict(car_train.CompPrice.values.reshape(-1,1)))"
   ]
  },
  {
   "cell_type": "markdown",
   "id": "e8f2cc91",
   "metadata": {},
   "source": [
    "##### 5. CV\n",
    "\n",
    "Loop through a 5-fold cross-validation. Fit the regression model from 4. on the training sets for each split and print the MSE for the training set of that model."
   ]
  },
  {
   "cell_type": "code",
   "execution_count": 10,
   "id": "c2f0cbf8",
   "metadata": {},
   "outputs": [],
   "source": [
    "from sklearn.model_selection import KFold"
   ]
  },
  {
   "cell_type": "code",
   "execution_count": 11,
   "id": "3d47f5ef",
   "metadata": {},
   "outputs": [
    {
     "name": "stdout",
     "output_type": "stream",
     "text": [
      "7.569090410922727\n",
      "8.194469579971575\n",
      "7.416496996282131\n",
      "7.394089132540774\n",
      "7.641486658810888\n"
     ]
    }
   ],
   "source": [
    "kfold = KFold(5,\n",
    "                 random_state = 32143,\n",
    "                 shuffle=True)\n",
    "\n",
    "for train_index, test_index in kfold.split(car_train):\n",
    "    car_tt = car_train.iloc[train_index]\n",
    "    car_ho = car_train.iloc[test_index]\n",
    "    \n",
    "    reg = LinearRegression(copy_X = True)\n",
    "    \n",
    "    reg.fit(car_tt.CompPrice.values.reshape(-1,1),\n",
    "               car_tt.Sales.values)\n",
    "    \n",
    "    print(mean_squared_error(car_tt.Sales.values,\n",
    "                                reg.predict(car_tt.CompPrice.values.reshape(-1,1))))"
   ]
  },
  {
   "cell_type": "markdown",
   "id": "22399117",
   "metadata": {},
   "source": [
    "--------------------------\n",
    "\n",
    "This notebook was written for the Erd&#337;s Institute C&#337;de Data Science Boot Camp by Matthew Osborne, Ph. D., 2022.\n",
    "\n",
    "Any potential redistributors must seek and receive permission from Matthew Tyler Osborne, Ph.D. prior to redistribution. Redistribution of the material contained in this repository is conditional on acknowledgement of Matthew Tyler Osborne, Ph.D.'s original authorship and sponsorship of the Erdős Institute as subject to the license (see License.md)"
   ]
  },
  {
   "cell_type": "code",
   "execution_count": null,
   "id": "02277308",
   "metadata": {},
   "outputs": [],
   "source": []
  }
 ],
 "metadata": {
  "kernelspec": {
   "display_name": "Python 3 (ipykernel)",
   "language": "python",
   "name": "python3"
  },
  "language_info": {
   "codemirror_mode": {
    "name": "ipython",
    "version": 3
   },
   "file_extension": ".py",
   "mimetype": "text/x-python",
   "name": "python",
   "nbconvert_exporter": "python",
   "pygments_lexer": "ipython3",
   "version": "3.9.9"
  }
 },
 "nbformat": 4,
 "nbformat_minor": 5
}
