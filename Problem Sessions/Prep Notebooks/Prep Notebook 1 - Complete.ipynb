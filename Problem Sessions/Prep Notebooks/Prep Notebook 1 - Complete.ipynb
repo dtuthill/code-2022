{
 "cells": [
  {
   "cell_type": "markdown",
   "id": "4b5da2f8",
   "metadata": {},
   "source": [
    "# Prep Notebook 1\n",
    "## Data Collection\n",
    "\n",
    "This notebook has a few exercises that can serve as a primer for what to expect in the `Problem Session 1` notebook. These exercises will only touch upon the basic python, `pandas`, `numpy` and `matplotlib` that you may want a refresher on prior to starting `Problem Session 1`."
   ]
  },
  {
   "cell_type": "markdown",
   "id": "5174e410",
   "metadata": {},
   "source": [
    "##### 1. `for` loops\n",
    "\n",
    "Write a `for` loop that prints out every odd number from $111$ to $137$."
   ]
  },
  {
   "cell_type": "code",
   "execution_count": 1,
   "id": "505e7b70",
   "metadata": {},
   "outputs": [
    {
     "name": "stdout",
     "output_type": "stream",
     "text": [
      "111\n",
      "113\n",
      "115\n",
      "117\n",
      "119\n",
      "121\n",
      "123\n",
      "125\n",
      "127\n",
      "129\n",
      "131\n",
      "133\n",
      "135\n",
      "137\n"
     ]
    }
   ],
   "source": [
    "## Sample Solution\n",
    "for i in range(111, 138):\n",
    "    if i%2 == 1:\n",
    "        print(i)"
   ]
  },
  {
   "cell_type": "markdown",
   "id": "6daa6801",
   "metadata": {},
   "source": [
    "##### 2. List comprehensions I\n",
    "\n",
    "Write a list comprehension that stores the first $13$ multiples of $7$ (not including $7\\times 0$)."
   ]
  },
  {
   "cell_type": "code",
   "execution_count": 2,
   "id": "85b21b8a",
   "metadata": {},
   "outputs": [
    {
     "data": {
      "text/plain": [
       "[7, 14, 21, 28, 35, 42, 49, 56, 63, 70, 77, 84, 91]"
      ]
     },
     "execution_count": 2,
     "metadata": {},
     "output_type": "execute_result"
    }
   ],
   "source": [
    "## Sample Solution\n",
    "[7*i for i in range(1, 14)]"
   ]
  },
  {
   "cell_type": "markdown",
   "id": "01f6e92c",
   "metadata": {},
   "source": [
    "##### 3. List comprehensions II\n",
    "\n",
    "Write list comprehensions that returns only the vowels for the strings stored in `string_1` and `string_2`."
   ]
  },
  {
   "cell_type": "code",
   "execution_count": 3,
   "id": "044e116e",
   "metadata": {},
   "outputs": [],
   "source": [
    "string_1 = \"A is for Apple, a fresh and tasty fruit.\"\n",
    "string_2 = \"Z is for Zebra, a striped animal friend.\""
   ]
  },
  {
   "cell_type": "code",
   "execution_count": 4,
   "id": "5bac8acd",
   "metadata": {},
   "outputs": [
    {
     "data": {
      "text/plain": [
       "['A', 'i', 'o', 'A', 'e', 'a', 'e', 'a', 'a', 'u', 'i']"
      ]
     },
     "execution_count": 4,
     "metadata": {},
     "output_type": "execute_result"
    }
   ],
   "source": [
    "## Sample Solution\n",
    "[l for l in string_1 if l.lower() in \"aeiou\"]"
   ]
  },
  {
   "cell_type": "code",
   "execution_count": 5,
   "id": "ba56d898",
   "metadata": {},
   "outputs": [
    {
     "data": {
      "text/plain": [
       "['i', 'o', 'e', 'a', 'a', 'i', 'e', 'a', 'i', 'a', 'i', 'e']"
      ]
     },
     "execution_count": 5,
     "metadata": {},
     "output_type": "execute_result"
    }
   ],
   "source": [
    "## Sample Solution\n",
    "[l for l in string_2 if l.lower() in \"aeiou\"]"
   ]
  },
  {
   "cell_type": "markdown",
   "id": "266baf83",
   "metadata": {},
   "source": [
    "##### 4. Find the mode of a `DataFrame` column.\n",
    "\n",
    "Using `pandas` functionality find the most frequent value in the `color` column of the `DataFrame` `df`."
   ]
  },
  {
   "cell_type": "code",
   "execution_count": 6,
   "id": "0c2e0a61",
   "metadata": {},
   "outputs": [],
   "source": [
    "import pandas as pd"
   ]
  },
  {
   "cell_type": "code",
   "execution_count": 7,
   "id": "a39bccdb",
   "metadata": {},
   "outputs": [],
   "source": [
    "df = pd.DataFrame({'color':['orange', 'orange', 'dodgerblue', 'dodgerblue', 'dodgerblue', 'green'],\n",
    "                      'markersize':[50, 70, 120, 210, 40, 110],\n",
    "                      'x':[0, 1, 2, 3, 2, 3],\n",
    "                      'y':[-1, -2, 1, 0.5, -0.5, 2]})"
   ]
  },
  {
   "cell_type": "code",
   "execution_count": 8,
   "id": "7c5179b3",
   "metadata": {},
   "outputs": [
    {
     "data": {
      "text/plain": [
       "dodgerblue    3\n",
       "orange        2\n",
       "green         1\n",
       "Name: color, dtype: int64"
      ]
     },
     "execution_count": 8,
     "metadata": {},
     "output_type": "execute_result"
    }
   ],
   "source": [
    "## Sample Solution\n",
    "df.color.value_counts()"
   ]
  },
  {
   "cell_type": "markdown",
   "id": "3731773a",
   "metadata": {},
   "source": [
    "##### 5. Sort a `DataFrame`\n",
    "\n",
    "Display the `DataFrame` `df` by `markersize` in desending order."
   ]
  },
  {
   "cell_type": "code",
   "execution_count": 9,
   "id": "c3efeb1f",
   "metadata": {},
   "outputs": [
    {
     "data": {
      "text/html": [
       "<div>\n",
       "<style scoped>\n",
       "    .dataframe tbody tr th:only-of-type {\n",
       "        vertical-align: middle;\n",
       "    }\n",
       "\n",
       "    .dataframe tbody tr th {\n",
       "        vertical-align: top;\n",
       "    }\n",
       "\n",
       "    .dataframe thead th {\n",
       "        text-align: right;\n",
       "    }\n",
       "</style>\n",
       "<table border=\"1\" class=\"dataframe\">\n",
       "  <thead>\n",
       "    <tr style=\"text-align: right;\">\n",
       "      <th></th>\n",
       "      <th>color</th>\n",
       "      <th>markersize</th>\n",
       "      <th>x</th>\n",
       "      <th>y</th>\n",
       "    </tr>\n",
       "  </thead>\n",
       "  <tbody>\n",
       "    <tr>\n",
       "      <th>3</th>\n",
       "      <td>dodgerblue</td>\n",
       "      <td>210</td>\n",
       "      <td>3</td>\n",
       "      <td>0.5</td>\n",
       "    </tr>\n",
       "    <tr>\n",
       "      <th>2</th>\n",
       "      <td>dodgerblue</td>\n",
       "      <td>120</td>\n",
       "      <td>2</td>\n",
       "      <td>1.0</td>\n",
       "    </tr>\n",
       "    <tr>\n",
       "      <th>5</th>\n",
       "      <td>green</td>\n",
       "      <td>110</td>\n",
       "      <td>3</td>\n",
       "      <td>2.0</td>\n",
       "    </tr>\n",
       "    <tr>\n",
       "      <th>1</th>\n",
       "      <td>orange</td>\n",
       "      <td>70</td>\n",
       "      <td>1</td>\n",
       "      <td>-2.0</td>\n",
       "    </tr>\n",
       "    <tr>\n",
       "      <th>0</th>\n",
       "      <td>orange</td>\n",
       "      <td>50</td>\n",
       "      <td>0</td>\n",
       "      <td>-1.0</td>\n",
       "    </tr>\n",
       "    <tr>\n",
       "      <th>4</th>\n",
       "      <td>dodgerblue</td>\n",
       "      <td>40</td>\n",
       "      <td>2</td>\n",
       "      <td>-0.5</td>\n",
       "    </tr>\n",
       "  </tbody>\n",
       "</table>\n",
       "</div>"
      ],
      "text/plain": [
       "        color  markersize  x    y\n",
       "3  dodgerblue         210  3  0.5\n",
       "2  dodgerblue         120  2  1.0\n",
       "5       green         110  3  2.0\n",
       "1      orange          70  1 -2.0\n",
       "0      orange          50  0 -1.0\n",
       "4  dodgerblue          40  2 -0.5"
      ]
     },
     "execution_count": 9,
     "metadata": {},
     "output_type": "execute_result"
    }
   ],
   "source": [
    "## Sample Solution\n",
    "df.sort_values('markersize', ascending=False)"
   ]
  },
  {
   "cell_type": "markdown",
   "id": "9e2e8b43",
   "metadata": {},
   "source": [
    "##### 6. Scatter plot\n",
    "\n",
    "Using `matplotlib`'s `scatter`, <a href=\"https://matplotlib.org/3.5.0/api/_as_gen/matplotlib.pyplot.scatter.html\">https://matplotlib.org/3.5.0/api/_as_gen/matplotlib.pyplot.scatter.html</a>, plot the observations in the `DataFrame` `df` placing the `x` value on the horizontal axis and the `y` value on the vertical axis.\n",
    "\n",
    "<i>Bonus points if you can set the `color`, and `size` of the points using the `color`, and `size` columns of `df`</i>."
   ]
  },
  {
   "cell_type": "code",
   "execution_count": 10,
   "id": "c2865b42",
   "metadata": {},
   "outputs": [],
   "source": [
    "## Sample Solution\n",
    "import matplotlib.pyplot as plt\n",
    "from seaborn import set_style\n",
    "\n",
    "set_style(\"whitegrid\")"
   ]
  },
  {
   "cell_type": "code",
   "execution_count": 11,
   "id": "37454e3f",
   "metadata": {},
   "outputs": [
    {
     "data": {
      "image/png": "[encoded data removed]",
      "text/plain": [
       "<Figure size 576x432 with 1 Axes>"
      ]
     },
     "metadata": {},
     "output_type": "display_data"
    }
   ],
   "source": [
    "## Sample Solution\n",
    "plt.figure(figsize=(8,6))\n",
    "\n",
    "plt.scatter(df.x, df.y,\n",
    "               c = df.color,\n",
    "               s = df.markersize)\n",
    "\n",
    "plt.xlabel(\"$x$\", fontsize=14)\n",
    "plt.ylabel(\"$y$\", fontsize=14)\n",
    "\n",
    "plt.show()"
   ]
  },
  {
   "cell_type": "markdown",
   "id": "bf6bc39c",
   "metadata": {},
   "source": [
    "--------------------------\n",
    "\n",
    "This notebook was written for the Erd&#337;s Institute C&#337;de Data Science Boot Camp by Matthew Osborne, Ph. D., 2022.\n",
    "\n",
    "Any potential redistributors must seek and receive permission from Matthew Tyler Osborne, Ph.D. prior to redistribution. Redistribution of the material contained in this repository is conditional on acknowledgement of Matthew Tyler Osborne, Ph.D.'s original authorship and sponsorship of the Erdős Institute as subject to the license (see License.md)"
   ]
  },
  {
   "cell_type": "code",
   "execution_count": null,
   "id": "cc775da5",
   "metadata": {},
   "outputs": [],
   "source": []
  }
 ],
 "metadata": {
  "kernelspec": {
   "display_name": "Python 3 (ipykernel)",
   "language": "python",
   "name": "python3"
  },
  "language_info": {
   "codemirror_mode": {
    "name": "ipython",
    "version": 3
   },
   "file_extension": ".py",
   "mimetype": "text/x-python",
   "name": "python",
   "nbconvert_exporter": "python",
   "pygments_lexer": "ipython3",
   "version": "3.9.9"
  }
 },
 "nbformat": 4,
 "nbformat_minor": 5
}
