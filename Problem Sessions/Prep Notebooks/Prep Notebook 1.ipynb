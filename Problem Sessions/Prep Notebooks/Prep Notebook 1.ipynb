{
 "cells": [
  {
   "cell_type": "markdown",
   "id": "4b5da2f8",
   "metadata": {},
   "source": [
    "# Prep Notebook 1\n",
    "## Data Collection\n",
    "\n",
    "This notebook has a few exercises that can serve as a primer for what to expect in the `Problem Session 1` notebook. These exercises will only touch upon the basic python, `pandas`, `numpy` and `matplotlib` that you may want a refresher on prior to starting `Problem Session 1`."
   ]
  },
  {
   "cell_type": "markdown",
   "id": "5174e410",
   "metadata": {},
   "source": [
    "##### 1. `for` loops\n",
    "\n",
    "Write a `for` loop that prints out every odd number from $111$ to $137$."
   ]
  },
  {
   "cell_type": "code",
   "execution_count": null,
   "id": "505e7b70",
   "metadata": {},
   "outputs": [],
   "source": [
    "## Code here\n",
    "\n",
    "\n"
   ]
  },
  {
   "cell_type": "code",
   "execution_count": null,
   "id": "2d0d3253",
   "metadata": {},
   "outputs": [],
   "source": [
    "## Code here\n",
    "\n",
    "\n"
   ]
  },
  {
   "cell_type": "markdown",
   "id": "6daa6801",
   "metadata": {},
   "source": [
    "##### 2. List comprehensions I\n",
    "\n",
    "Write a list comprehension that stores the first $13$ multiples of $7$ (not including $7\\times 0$)."
   ]
  },
  {
   "cell_type": "code",
   "execution_count": null,
   "id": "85b21b8a",
   "metadata": {},
   "outputs": [],
   "source": [
    "## Code here\n",
    "\n"
   ]
  },
  {
   "cell_type": "code",
   "execution_count": null,
   "id": "6e199672",
   "metadata": {},
   "outputs": [],
   "source": [
    "## Code here\n",
    "\n"
   ]
  },
  {
   "cell_type": "markdown",
   "id": "01f6e92c",
   "metadata": {},
   "source": [
    "##### 3. List comprehensions II\n",
    "\n",
    "Write list comprehensions that returns only the vowels for the strings stored in `string_1` and `string_2`."
   ]
  },
  {
   "cell_type": "code",
   "execution_count": null,
   "id": "044e116e",
   "metadata": {},
   "outputs": [],
   "source": [
    "string_1 = \"A is for Apple, a fresh and tasty fruit.\"\n",
    "string_2 = \"Z is for Zebra, a striped animal friend.\""
   ]
  },
  {
   "cell_type": "code",
   "execution_count": null,
   "id": "5bac8acd",
   "metadata": {},
   "outputs": [],
   "source": [
    "## Code here\n",
    "\n"
   ]
  },
  {
   "cell_type": "code",
   "execution_count": null,
   "id": "4c042c82",
   "metadata": {},
   "outputs": [],
   "source": [
    "## Code here\n",
    "\n"
   ]
  },
  {
   "cell_type": "markdown",
   "id": "266baf83",
   "metadata": {},
   "source": [
    "##### 4. Find the mode of a `DataFrame` column.\n",
    "\n",
    "Using `pandas` functionality find the most frequent value in the `color` column of the `DataFrame` `df`."
   ]
  },
  {
   "cell_type": "code",
   "execution_count": null,
   "id": "0c2e0a61",
   "metadata": {},
   "outputs": [],
   "source": [
    "import pandas as pd"
   ]
  },
  {
   "cell_type": "code",
   "execution_count": null,
   "id": "a39bccdb",
   "metadata": {},
   "outputs": [],
   "source": [
    "df = pd.DataFrame({'color':['orange', 'orange', 'dodgerblue', 'dodgerblue', 'dodgerblue', 'green'],\n",
    "                      'markersize':[50, 70, 120, 210, 40, 110],\n",
    "                      'x':[0, 1, 2, 3, 2, 3],\n",
    "                      'y':[-1, -2, 1, 0.5, -0.5, 2]})"
   ]
  },
  {
   "cell_type": "code",
   "execution_count": null,
   "id": "7c5179b3",
   "metadata": {},
   "outputs": [],
   "source": [
    "## Code here\n",
    "\n",
    "\n"
   ]
  },
  {
   "cell_type": "code",
   "execution_count": null,
   "id": "a88b113b",
   "metadata": {},
   "outputs": [],
   "source": [
    "## Code here\n",
    "\n",
    "\n"
   ]
  },
  {
   "cell_type": "markdown",
   "id": "3731773a",
   "metadata": {},
   "source": [
    "##### 5. Sort a `DataFrame`\n",
    "\n",
    "Display the `DataFrame` `df` by `markersize` in desending order."
   ]
  },
  {
   "cell_type": "code",
   "execution_count": null,
   "id": "c3efeb1f",
   "metadata": {},
   "outputs": [],
   "source": [
    "## Code here\n",
    "\n",
    "\n"
   ]
  },
  {
   "cell_type": "code",
   "execution_count": null,
   "id": "d0476020",
   "metadata": {},
   "outputs": [],
   "source": [
    "## Code here\n",
    "\n",
    "\n"
   ]
  },
  {
   "cell_type": "markdown",
   "id": "9e2e8b43",
   "metadata": {},
   "source": [
    "##### 6. Scatter plot\n",
    "\n",
    "Using `matplotlib`'s `scatter`, <a href=\"https://matplotlib.org/3.5.0/api/_as_gen/matplotlib.pyplot.scatter.html\">https://matplotlib.org/3.5.0/api/_as_gen/matplotlib.pyplot.scatter.html</a>, plot the observations in the `DataFrame` `df` placing the `x` value on the horizontal axis and the `y` value on the vertical axis.\n",
    "\n",
    "<i>Bonus points if you can set the `color`, and `size` of the points using the `color`, and `size` columns of `df`</i>."
   ]
  },
  {
   "cell_type": "code",
   "execution_count": null,
   "id": "c2865b42",
   "metadata": {},
   "outputs": [],
   "source": [
    "## Code here\n",
    "\n"
   ]
  },
  {
   "cell_type": "code",
   "execution_count": null,
   "id": "984dce64",
   "metadata": {},
   "outputs": [],
   "source": [
    "## Code here\n",
    "\n"
   ]
  },
  {
   "cell_type": "code",
   "execution_count": null,
   "id": "37454e3f",
   "metadata": {},
   "outputs": [],
   "source": [
    "## Code here\n",
    "\n"
   ]
  },
  {
   "cell_type": "markdown",
   "id": "bf6bc39c",
   "metadata": {},
   "source": [
    "--------------------------\n",
    "\n",
    "This notebook was written for the Erd&#337;s Institute C&#337;de Data Science Boot Camp by Matthew Osborne, Ph. D., 2022.\n",
    "\n",
    "Any potential redistributors must seek and receive permission from Matthew Tyler Osborne, Ph.D. prior to redistribution. Redistribution of the material contained in this repository is conditional on acknowledgement of Matthew Tyler Osborne, Ph.D.'s original authorship and sponsorship of the Erdős Institute as subject to the license (see License.md)"
   ]
  },
  {
   "cell_type": "code",
   "execution_count": null,
   "id": "cc775da5",
   "metadata": {},
   "outputs": [],
   "source": []
  }
 ],
 "metadata": {
  "kernelspec": {
   "display_name": "Python 3 (ipykernel)",
   "language": "python",
   "name": "python3"
  },
  "language_info": {
   "codemirror_mode": {
    "name": "ipython",
    "version": 3
   },
   "file_extension": ".py",
   "mimetype": "text/x-python",
   "name": "python",
   "nbconvert_exporter": "python",
   "pygments_lexer": "ipython3",
   "version": "3.9.9"
  }
 },
 "nbformat": 4,
 "nbformat_minor": 5
}
