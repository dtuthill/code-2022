{
 "cells": [
  {
   "cell_type": "markdown",
   "id": "5835613d",
   "metadata": {},
   "source": [
    "# Prep Notebook 4\n",
    "## Regressing Wine Sales\n",
    "\n",
    "This notebook has a few exercises that can serve as a primer for what to expect in the `Problem Session 4` notebook. These exercises will touch upon the basic python, `pandas`, `numpy`, `matplotlib` and some supervised learning basic techniques that you may want a refresher on prior to starting `Problem Session 4`."
   ]
  },
  {
   "cell_type": "markdown",
   "id": "93cbc163",
   "metadata": {},
   "source": [
    "##### 1. Load in `carseats.csv`\n",
    "\n",
    "Load in `carseats.csv` using `pandas`."
   ]
  },
  {
   "cell_type": "code",
   "execution_count": null,
   "id": "e3327562",
   "metadata": {},
   "outputs": [],
   "source": [
    "## code here\n",
    "\n",
    "\n"
   ]
  },
  {
   "cell_type": "code",
   "execution_count": null,
   "id": "efbc9efd",
   "metadata": {},
   "outputs": [],
   "source": [
    "## code here\n",
    "\n",
    "\n"
   ]
  },
  {
   "cell_type": "code",
   "execution_count": null,
   "id": "ac987d52",
   "metadata": {},
   "outputs": [],
   "source": [
    "## code here\n",
    "\n",
    "\n"
   ]
  },
  {
   "cell_type": "markdown",
   "id": "1e50fec2",
   "metadata": {},
   "source": [
    "##### 2. Train test split\n",
    "\n",
    "Make a train test split of `carseats`."
   ]
  },
  {
   "cell_type": "code",
   "execution_count": null,
   "id": "ab100fbd",
   "metadata": {},
   "outputs": [],
   "source": [
    "## Code here\n",
    "\n",
    "\n"
   ]
  },
  {
   "cell_type": "code",
   "execution_count": null,
   "id": "c55cff74",
   "metadata": {},
   "outputs": [],
   "source": [
    "## Code here\n",
    "\n",
    "\n"
   ]
  },
  {
   "cell_type": "code",
   "execution_count": null,
   "id": "0f7095bb",
   "metadata": {},
   "outputs": [],
   "source": [
    "## Code here\n",
    "\n",
    "\n"
   ]
  },
  {
   "cell_type": "markdown",
   "id": "e9bae5c2",
   "metadata": {},
   "source": [
    "##### 3. EDA\n",
    "\n",
    "Use `seaborn`'s `pairplot` to make scatter plots of `Sales` against `Price`, `Population` and `Advertising`. <i>Hint: use they `y_vars` and `x_vars` arguements</i>."
   ]
  },
  {
   "cell_type": "code",
   "execution_count": null,
   "id": "d4047094",
   "metadata": {},
   "outputs": [],
   "source": [
    "## Code here\n",
    "\n",
    "\n"
   ]
  },
  {
   "cell_type": "code",
   "execution_count": null,
   "id": "5b55cb8a",
   "metadata": {},
   "outputs": [],
   "source": [
    "## Code here\n",
    "\n",
    "\n"
   ]
  },
  {
   "cell_type": "code",
   "execution_count": null,
   "id": "612dfd6b",
   "metadata": {},
   "outputs": [],
   "source": [
    "## Code here\n",
    "\n",
    "\n"
   ]
  },
  {
   "cell_type": "markdown",
   "id": "acfcf081",
   "metadata": {},
   "source": [
    "##### 4. Fit a model\n",
    "\n",
    "Fit the model regressing `Sales` on `CompPrice`. Find the mean squared error on the training set."
   ]
  },
  {
   "cell_type": "code",
   "execution_count": null,
   "id": "1b43ce61",
   "metadata": {},
   "outputs": [],
   "source": [
    "## Code here\n",
    "\n",
    "\n"
   ]
  },
  {
   "cell_type": "code",
   "execution_count": null,
   "id": "5dbc4fab",
   "metadata": {},
   "outputs": [],
   "source": [
    "## Code here\n",
    "\n",
    "\n"
   ]
  },
  {
   "cell_type": "code",
   "execution_count": null,
   "id": "8c7e67da",
   "metadata": {},
   "outputs": [],
   "source": [
    "## Code here\n",
    "\n",
    "\n"
   ]
  },
  {
   "cell_type": "markdown",
   "id": "e8f2cc91",
   "metadata": {},
   "source": [
    "##### 5. CV\n",
    "\n",
    "Loop through a 5-fold cross-validation. Fit the regression model from 4. on the training sets for each split and print the MSE for the training set of that model."
   ]
  },
  {
   "cell_type": "code",
   "execution_count": null,
   "id": "c2f0cbf8",
   "metadata": {},
   "outputs": [],
   "source": [
    "## Code here\n",
    "\n",
    "\n"
   ]
  },
  {
   "cell_type": "code",
   "execution_count": null,
   "id": "0a3b5aad",
   "metadata": {},
   "outputs": [],
   "source": [
    "## Code here\n",
    "\n",
    "\n"
   ]
  },
  {
   "cell_type": "code",
   "execution_count": null,
   "id": "129a1a10",
   "metadata": {},
   "outputs": [],
   "source": [
    "## Code here\n",
    "\n",
    "\n"
   ]
  },
  {
   "cell_type": "markdown",
   "id": "22399117",
   "metadata": {},
   "source": [
    "--------------------------\n",
    "\n",
    "This notebook was written for the Erd&#337;s Institute C&#337;de Data Science Boot Camp by Matthew Osborne, Ph. D., 2022.\n",
    "\n",
    "Any potential redistributors must seek and receive permission from Matthew Tyler Osborne, Ph.D. prior to redistribution. Redistribution of the material contained in this repository is conditional on acknowledgement of Matthew Tyler Osborne, Ph.D.'s original authorship and sponsorship of the Erdős Institute as subject to the license (see License.md)"
   ]
  },
  {
   "cell_type": "code",
   "execution_count": null,
   "id": "02277308",
   "metadata": {},
   "outputs": [],
   "source": []
  }
 ],
 "metadata": {
  "kernelspec": {
   "display_name": "Python 3 (ipykernel)",
   "language": "python",
   "name": "python3"
  },
  "language_info": {
   "codemirror_mode": {
    "name": "ipython",
    "version": 3
   },
   "file_extension": ".py",
   "mimetype": "text/x-python",
   "name": "python",
   "nbconvert_exporter": "python",
   "pygments_lexer": "ipython3",
   "version": "3.9.9"
  }
 },
 "nbformat": 4,
 "nbformat_minor": 5
}
