{
 "cells": [
  {
   "cell_type": "markdown",
   "id": "ca884bd6",
   "metadata": {},
   "source": [
    "# Prep Notebook 12\n",
    "## MNIST of Fashion II\n",
    "\n",
    "This notebook has a few exercises that can serve as a primer for what to expect in the `Problem Session 12` notebook. These exercises will touch upon the basic python, `pandas`, `numpy`, `matplotlib` and some supervised learning basic techniques that you may want a refresher on prior to starting `Problem Session 12`."
   ]
  },
  {
   "cell_type": "markdown",
   "id": "54e857a6",
   "metadata": {},
   "source": [
    "##### 1. Refresher\n",
    "\n",
    "Review `Problem Session 11`. We will work on the same problem in `Problem Session 12`."
   ]
  },
  {
   "cell_type": "markdown",
   "id": "fff2748c",
   "metadata": {},
   "source": [
    "##### 2. MNIST of fashion data\n",
    "\n",
    "Load the MNIST of fashion data set from `keras`."
   ]
  },
  {
   "cell_type": "markdown",
   "id": "ed54aaa3",
   "metadata": {},
   "source": [
    "##### Sample Solution"
   ]
  },
  {
   "cell_type": "code",
   "execution_count": 1,
   "id": "9aee9076",
   "metadata": {},
   "outputs": [],
   "source": [
    "from keras.datasets import fashion_mnist"
   ]
  },
  {
   "cell_type": "code",
   "execution_count": 2,
   "id": "e60475e1",
   "metadata": {},
   "outputs": [],
   "source": [
    "(X_train, y_train), (X_test, y_test) = fashion_mnist.load_data()"
   ]
  },
  {
   "cell_type": "markdown",
   "id": "59c502ec",
   "metadata": {},
   "source": [
    "##### 3. Reshape I\n",
    "\n",
    "Reshape the data so it is a 2D array of rows and columns."
   ]
  },
  {
   "cell_type": "markdown",
   "id": "244c0dcd",
   "metadata": {},
   "source": [
    "##### Sample Solution"
   ]
  },
  {
   "cell_type": "code",
   "execution_count": 3,
   "id": "2f82bb66",
   "metadata": {},
   "outputs": [
    {
     "data": {
      "text/plain": [
       "array([[0, 0, 0, ..., 0, 0, 0],\n",
       "       [0, 0, 0, ..., 0, 0, 0],\n",
       "       [0, 0, 0, ..., 0, 0, 0],\n",
       "       ...,\n",
       "       [0, 0, 0, ..., 0, 0, 0],\n",
       "       [0, 0, 0, ..., 0, 0, 0],\n",
       "       [0, 0, 0, ..., 0, 0, 0]], dtype=uint8)"
      ]
     },
     "execution_count": 3,
     "metadata": {},
     "output_type": "execute_result"
    }
   ],
   "source": [
    "X_train.reshape(-1, 28*28)"
   ]
  },
  {
   "cell_type": "code",
   "execution_count": 4,
   "id": "e214be50",
   "metadata": {},
   "outputs": [
    {
     "data": {
      "text/plain": [
       "array([[0, 0, 0, ..., 0, 0, 0],\n",
       "       [0, 0, 0, ..., 0, 0, 0],\n",
       "       [0, 0, 0, ..., 0, 0, 0],\n",
       "       ...,\n",
       "       [0, 0, 0, ..., 0, 0, 0],\n",
       "       [0, 0, 0, ..., 0, 0, 0],\n",
       "       [0, 0, 0, ..., 0, 0, 0]], dtype=uint8)"
      ]
     },
     "execution_count": 4,
     "metadata": {},
     "output_type": "execute_result"
    }
   ],
   "source": [
    "X_test.reshape(-1, 28*28)"
   ]
  },
  {
   "cell_type": "markdown",
   "id": "c86d9b26",
   "metadata": {},
   "source": [
    "##### 4. Reshape II\n",
    "\n",
    "Reshape the data so it is a 4D array of size `(n, 28, 28, 1)`, where `n` depends on whether you are using the training or test set."
   ]
  },
  {
   "cell_type": "markdown",
   "id": "33735431",
   "metadata": {},
   "source": [
    "##### Sample Solution"
   ]
  },
  {
   "cell_type": "code",
   "execution_count": 5,
   "id": "029d767e",
   "metadata": {},
   "outputs": [
    {
     "data": {
      "text/plain": [
       "(60000, 28, 28, 1)"
      ]
     },
     "execution_count": 5,
     "metadata": {},
     "output_type": "execute_result"
    }
   ],
   "source": [
    "X_train.reshape(-1, 28, 28, 1).shape"
   ]
  },
  {
   "cell_type": "code",
   "execution_count": 6,
   "id": "20dcb51e",
   "metadata": {},
   "outputs": [
    {
     "data": {
      "text/plain": [
       "(10000, 28, 28, 1)"
      ]
     },
     "execution_count": 6,
     "metadata": {},
     "output_type": "execute_result"
    }
   ],
   "source": [
    "X_test.reshape(-1, 28, 28, 1).shape"
   ]
  },
  {
   "cell_type": "markdown",
   "id": "c33d80ca",
   "metadata": {},
   "source": [
    "##### 5. PCA\n",
    "\n",
    "Import PCA and fit a PCA object using the training data."
   ]
  },
  {
   "cell_type": "markdown",
   "id": "4970b77a",
   "metadata": {},
   "source": [
    "##### Sample Solution"
   ]
  },
  {
   "cell_type": "code",
   "execution_count": 7,
   "id": "21b81845",
   "metadata": {},
   "outputs": [],
   "source": [
    "from sklearn.decomposition import PCA"
   ]
  },
  {
   "cell_type": "code",
   "execution_count": 8,
   "id": "a96b2cb0",
   "metadata": {},
   "outputs": [
    {
     "data": {
      "text/plain": [
       "PCA()"
      ]
     },
     "execution_count": 8,
     "metadata": {},
     "output_type": "execute_result"
    }
   ],
   "source": [
    "pca = PCA()\n",
    "\n",
    "pca.fit(X_train.reshape(-1, 28*28))"
   ]
  },
  {
   "cell_type": "markdown",
   "id": "3c8b4e12",
   "metadata": {},
   "source": [
    "--------------------------\n",
    "\n",
    "This notebook was written for the Erd&#337;s Institute C&#337;de Data Science Boot Camp by Matthew Osborne, Ph. D., 2022.\n",
    "\n",
    "Any potential redistributors must seek and receive permission from Matthew Tyler Osborne, Ph.D. prior to redistribution. Redistribution of the material contained in this repository is conditional on acknowledgement of Matthew Tyler Osborne, Ph.D.'s original authorship and sponsorship of the Erdős Institute as subject to the license (see License.md)"
   ]
  },
  {
   "cell_type": "code",
   "execution_count": null,
   "id": "f3b0ef8e",
   "metadata": {},
   "outputs": [],
   "source": []
  }
 ],
 "metadata": {
  "kernelspec": {
   "display_name": "Python 3 (ipykernel)",
   "language": "python",
   "name": "python3"
  },
  "language_info": {
   "codemirror_mode": {
    "name": "ipython",
    "version": 3
   },
   "file_extension": ".py",
   "mimetype": "text/x-python",
   "name": "python",
   "nbconvert_exporter": "python",
   "pygments_lexer": "ipython3",
   "version": "3.9.9"
  }
 },
 "nbformat": 4,
 "nbformat_minor": 5
}
