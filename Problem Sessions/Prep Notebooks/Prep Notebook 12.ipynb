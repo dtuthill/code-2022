{
 "cells": [
  {
   "cell_type": "markdown",
   "id": "0e582f82",
   "metadata": {},
   "source": [
    "# Prep Notebook 12\n",
    "## MNIST of Fashion II\n",
    "\n",
    "This notebook has a few exercises that can serve as a primer for what to expect in the `Problem Session 12` notebook. These exercises will touch upon the basic python, `pandas`, `numpy`, `matplotlib` and some supervised learning basic techniques that you may want a refresher on prior to starting `Problem Session 12`."
   ]
  },
  {
   "cell_type": "markdown",
   "id": "36331d8f",
   "metadata": {},
   "source": [
    "##### 1. Refresher\n",
    "\n",
    "Review `Problem Session 11`. We will work on the same problem in `Problem Session 12`."
   ]
  },
  {
   "cell_type": "markdown",
   "id": "49790341",
   "metadata": {},
   "source": [
    "##### 2. MNIST of fashion data\n",
    "\n",
    "Load the MNIST of fashion data set from `keras`."
   ]
  },
  {
   "cell_type": "code",
   "execution_count": null,
   "id": "c26c6d37",
   "metadata": {},
   "outputs": [],
   "source": [
    "## Code here\n",
    "\n"
   ]
  },
  {
   "cell_type": "code",
   "execution_count": null,
   "id": "7d1e04ed",
   "metadata": {},
   "outputs": [],
   "source": [
    "## Code here\n",
    "\n"
   ]
  },
  {
   "cell_type": "markdown",
   "id": "2551f9af",
   "metadata": {},
   "source": [
    "##### 3. Reshape I\n",
    "\n",
    "Reshape the data so it is a 2D array of rows and columns."
   ]
  },
  {
   "cell_type": "code",
   "execution_count": null,
   "id": "d209139c",
   "metadata": {},
   "outputs": [],
   "source": [
    "## Code here\n",
    "\n"
   ]
  },
  {
   "cell_type": "code",
   "execution_count": null,
   "id": "71b9aeb8",
   "metadata": {},
   "outputs": [],
   "source": [
    "## Code here\n",
    "\n"
   ]
  },
  {
   "cell_type": "markdown",
   "id": "fdc27fdb",
   "metadata": {},
   "source": [
    "##### 4. Reshape II\n",
    "\n",
    "Reshape the data so it is a 4D array of size `(n, 28, 28, 1)`, where `n` depends on whether you are using the training or test set."
   ]
  },
  {
   "cell_type": "code",
   "execution_count": null,
   "id": "41b8b024",
   "metadata": {},
   "outputs": [],
   "source": [
    "## Code here\n",
    "\n"
   ]
  },
  {
   "cell_type": "code",
   "execution_count": null,
   "id": "e3861010",
   "metadata": {},
   "outputs": [],
   "source": [
    "## Code here\n",
    "\n"
   ]
  },
  {
   "cell_type": "markdown",
   "id": "be8b075e",
   "metadata": {},
   "source": [
    "##### 5. PCA\n",
    "\n",
    "Import PCA and fit a PCA object using the training data."
   ]
  },
  {
   "cell_type": "code",
   "execution_count": null,
   "id": "0f0d3301",
   "metadata": {},
   "outputs": [],
   "source": [
    "## Code here\n",
    "\n"
   ]
  },
  {
   "cell_type": "code",
   "execution_count": null,
   "id": "a96aeea1",
   "metadata": {},
   "outputs": [],
   "source": [
    "## Code here\n",
    "\n"
   ]
  },
  {
   "cell_type": "markdown",
   "id": "0342ebad",
   "metadata": {},
   "source": [
    "--------------------------\n",
    "\n",
    "This notebook was written for the Erd&#337;s Institute C&#337;de Data Science Boot Camp by Matthew Osborne, Ph. D., 2022.\n",
    "\n",
    "Any potential redistributors must seek and receive permission from Matthew Tyler Osborne, Ph.D. prior to redistribution. Redistribution of the material contained in this repository is conditional on acknowledgement of Matthew Tyler Osborne, Ph.D.'s original authorship and sponsorship of the Erdős Institute as subject to the license (see License.md)"
   ]
  },
  {
   "cell_type": "code",
   "execution_count": null,
   "id": "946ed750",
   "metadata": {},
   "outputs": [],
   "source": []
  }
 ],
 "metadata": {
  "kernelspec": {
   "display_name": "Python 3 (ipykernel)",
   "language": "python",
   "name": "python3"
  },
  "language_info": {
   "codemirror_mode": {
    "name": "ipython",
    "version": 3
   },
   "file_extension": ".py",
   "mimetype": "text/x-python",
   "name": "python",
   "nbconvert_exporter": "python",
   "pygments_lexer": "ipython3",
   "version": "3.9.9"
  }
 },
 "nbformat": 4,
 "nbformat_minor": 5
}
