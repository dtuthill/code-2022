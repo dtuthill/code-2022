{
 "cells": [
  {
   "cell_type": "markdown",
   "id": "eeee254e",
   "metadata": {},
   "source": [
    "# Prep Notebook 10\n",
    "## Classifying Cancer IV\n",
    "\n",
    "This notebook has a few exercises that can serve as a primer for what to expect in the `Problem Session 10` notebook. These exercises will touch upon the basic python, `pandas`, `numpy`, `matplotlib` and some supervised learning basic techniques that you may want a refresher on prior to starting `Problem Session 10`."
   ]
  },
  {
   "cell_type": "code",
   "execution_count": null,
   "id": "35be0782",
   "metadata": {},
   "outputs": [],
   "source": [
    "import pandas as pd\n",
    "import numpy as np\n",
    "import matplotlib.pyplot as plt\n",
    "import seaborn as sns\n",
    "\n",
    "sns.set_style(\"whitegrid\")"
   ]
  },
  {
   "cell_type": "markdown",
   "id": "bc89ae63",
   "metadata": {},
   "source": [
    "##### 1. Review problem sessions 7, 8 and 9\n",
    "\n",
    "In `Problem Session 10` we will use what you did in `Problem Session 7`, `Problem Session 8` and `Problem Session 9`, review your group's work as well as the complete version."
   ]
  },
  {
   "cell_type": "markdown",
   "id": "61c14f53",
   "metadata": {},
   "source": [
    "##### 2. Import metrics\n",
    "\n",
    "Import the functions you can use to compute the confusion matrix for a classifier, the recall and the precision."
   ]
  },
  {
   "cell_type": "code",
   "execution_count": null,
   "id": "9c859612",
   "metadata": {},
   "outputs": [],
   "source": [
    "## code here\n",
    "\n"
   ]
  },
  {
   "cell_type": "markdown",
   "id": "c0a2be1e",
   "metadata": {},
   "source": [
    "#### 3. $k$NN\n",
    "\n",
    "Build a $k$-nearest neighbors classifier on these data with $k=6$."
   ]
  },
  {
   "cell_type": "code",
   "execution_count": null,
   "id": "94117dfe",
   "metadata": {},
   "outputs": [],
   "source": [
    "np.random.seed(303910)\n",
    "X = np.random.random((100, 2))\n",
    "\n",
    "y = np.zeros(100)\n",
    "\n",
    "y[X[:,0]*(X[:,1] - .5) < 0] = 1"
   ]
  },
  {
   "cell_type": "code",
   "execution_count": null,
   "id": "f5be2c1b",
   "metadata": {},
   "outputs": [],
   "source": [
    "## code here\n",
    "\n"
   ]
  },
  {
   "cell_type": "code",
   "execution_count": null,
   "id": "87a77bca",
   "metadata": {},
   "outputs": [],
   "source": [
    "## code here\n",
    "\n"
   ]
  },
  {
   "cell_type": "markdown",
   "id": "6cb2b3a5",
   "metadata": {},
   "source": [
    "##### 4. Compute metrics\n",
    "\n",
    "Compute the confusion matrix, recall and precision on the $k$nn classifier you fit above."
   ]
  },
  {
   "cell_type": "code",
   "execution_count": null,
   "id": "cd559d9a",
   "metadata": {},
   "outputs": [],
   "source": [
    "## code here\n",
    "\n"
   ]
  },
  {
   "cell_type": "code",
   "execution_count": null,
   "id": "6a9ab344",
   "metadata": {},
   "outputs": [],
   "source": [
    "## code here\n",
    "\n"
   ]
  },
  {
   "cell_type": "code",
   "execution_count": null,
   "id": "78fe6095",
   "metadata": {},
   "outputs": [],
   "source": [
    "## code here\n",
    "\n"
   ]
  },
  {
   "cell_type": "code",
   "execution_count": null,
   "id": "b6cfc26b",
   "metadata": {},
   "outputs": [],
   "source": [
    "## code here\n",
    "\n"
   ]
  },
  {
   "cell_type": "markdown",
   "id": "d0ee990f",
   "metadata": {},
   "source": [
    "--------------------------\n",
    "\n",
    "This notebook was written for the Erd&#337;s Institute C&#337;de Data Science Boot Camp by Matthew Osborne, Ph. D., 2022.\n",
    "\n",
    "Any potential redistributors must seek and receive permission from Matthew Tyler Osborne, Ph.D. prior to redistribution. Redistribution of the material contained in this repository is conditional on acknowledgement of Matthew Tyler Osborne, Ph.D.'s original authorship and sponsorship of the Erdős Institute as subject to the license (see License.md)"
   ]
  },
  {
   "cell_type": "code",
   "execution_count": null,
   "id": "d2a1ac6b",
   "metadata": {},
   "outputs": [],
   "source": []
  }
 ],
 "metadata": {
  "kernelspec": {
   "display_name": "Python 3 (ipykernel)",
   "language": "python",
   "name": "python3"
  },
  "language_info": {
   "codemirror_mode": {
    "name": "ipython",
    "version": 3
   },
   "file_extension": ".py",
   "mimetype": "text/x-python",
   "name": "python",
   "nbconvert_exporter": "python",
   "pygments_lexer": "ipython3",
   "version": "3.9.9"
  }
 },
 "nbformat": 4,
 "nbformat_minor": 5
}
