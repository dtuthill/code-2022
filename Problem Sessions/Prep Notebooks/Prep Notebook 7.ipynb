{
 "cells": [
  {
   "cell_type": "markdown",
   "id": "61988379",
   "metadata": {},
   "source": [
    "# Prep Notebook 7\n",
    "## Classifying Cancer I\n",
    "\n",
    "This notebook has a few exercises that can serve as a primer for what to expect in the `Problem Session 7` notebook. These exercises will touch upon the basic python, `pandas`, `numpy`, `matplotlib` and some supervised learning basic techniques that you may want a refresher on prior to starting `Problem Session 7`."
   ]
  },
  {
   "cell_type": "code",
   "execution_count": null,
   "id": "73f827e0",
   "metadata": {},
   "outputs": [],
   "source": [
    "import pandas as pd\n",
    "import numpy as np\n",
    "import matplotlib.pyplot as plt\n",
    "from seaborn import set_style\n",
    "\n",
    "set_style(\"whitegrid\")"
   ]
  },
  {
   "cell_type": "markdown",
   "id": "cef6185d",
   "metadata": {},
   "source": [
    "##### 1. Generate data\n",
    "\n",
    "First run the code below to generate the variable `y`."
   ]
  },
  {
   "cell_type": "code",
   "execution_count": null,
   "id": "98fa28fa",
   "metadata": {},
   "outputs": [],
   "source": [
    "np.random.seed(443)\n",
    "y = np.random.binomial(1, .4, 100)"
   ]
  },
  {
   "cell_type": "markdown",
   "id": "7d5b49cc",
   "metadata": {},
   "source": [
    "##### 2. `np.unique`\n",
    "\n",
    "Use `np.unique`, <a href=\"https://numpy.org/doc/stable/reference/generated/numpy.unique.html\">https://numpy.org/doc/stable/reference/generated/numpy.unique.html</a>, to find the unique observations in the array `y` and provide a percentage breakdown of how many observations belong to each class."
   ]
  },
  {
   "cell_type": "code",
   "execution_count": null,
   "id": "627d15b8",
   "metadata": {},
   "outputs": [],
   "source": [
    "## code here\n",
    "\n"
   ]
  },
  {
   "cell_type": "code",
   "execution_count": null,
   "id": "23e6c366",
   "metadata": {},
   "outputs": [],
   "source": [
    "## code here\n",
    "\n"
   ]
  },
  {
   "cell_type": "markdown",
   "id": "450e9119",
   "metadata": {},
   "source": [
    "##### 3. Plotting histograms\n",
    "\n",
    "First generate `X` then plot histograms of the values of `X` that correspond to the two classes in `y`. Color the histograms by `y`'s class.\n",
    "\n",
    "<a href=\"https://matplotlib.org/3.5.0/api/_as_gen/matplotlib.pyplot.hist.html\">https://matplotlib.org/3.5.0/api/_as_gen/matplotlib.pyplot.hist.html</a>."
   ]
  },
  {
   "cell_type": "code",
   "execution_count": null,
   "id": "bcb1568a",
   "metadata": {},
   "outputs": [],
   "source": [
    "X = np.zeros(len(y))\n",
    "\n",
    "X[y==0] = np.random.randn(np.sum(y==0))\n",
    "X[y==1] = np.random.randn(np.sum(y==1)) + 3.2"
   ]
  },
  {
   "cell_type": "code",
   "execution_count": null,
   "id": "9fabe599",
   "metadata": {},
   "outputs": [],
   "source": [
    "## code here\n",
    "\n",
    "\n"
   ]
  },
  {
   "cell_type": "markdown",
   "id": "0167fa9a",
   "metadata": {},
   "source": [
    "##### 4. Estimating probability\n",
    "\n",
    "Use `y` to estimate the probability that $y=1$ and $y=0$."
   ]
  },
  {
   "cell_type": "code",
   "execution_count": null,
   "id": "f9c968e4",
   "metadata": {},
   "outputs": [],
   "source": [
    "## code here\n",
    "\n"
   ]
  },
  {
   "cell_type": "code",
   "execution_count": null,
   "id": "2f341c59",
   "metadata": {},
   "outputs": [],
   "source": [
    "## code here\n",
    "\n"
   ]
  },
  {
   "cell_type": "markdown",
   "id": "30ed76c9",
   "metadata": {},
   "source": [
    "##### 5. `.columns`\n",
    "\n",
    "Use `.columns` to list the columns of `df`."
   ]
  },
  {
   "cell_type": "code",
   "execution_count": null,
   "id": "0f503db7",
   "metadata": {},
   "outputs": [],
   "source": [
    "df = pd.DataFrame({'x1':np.random.randn(10),\n",
    "                      'x2':np.random.random(size=10),\n",
    "                      'x3':np.random.binomial(10,.2,10)})"
   ]
  },
  {
   "cell_type": "code",
   "execution_count": null,
   "id": "2564e7f6",
   "metadata": {},
   "outputs": [],
   "source": [
    "## code here\n",
    "\n"
   ]
  },
  {
   "cell_type": "markdown",
   "id": "4d5e2fb2",
   "metadata": {},
   "source": [
    "###### 6. Getting a single column\n",
    "\n",
    "Write a loop that prints out the values of each column of `df`."
   ]
  },
  {
   "cell_type": "code",
   "execution_count": null,
   "id": "8409772f",
   "metadata": {},
   "outputs": [],
   "source": [
    "## code here\n",
    "\n"
   ]
  },
  {
   "cell_type": "markdown",
   "id": "192fbadc",
   "metadata": {},
   "source": [
    "--------------------------\n",
    "\n",
    "This notebook was written for the Erd&#337;s Institute C&#337;de Data Science Boot Camp by Matthew Osborne, Ph. D., 2022.\n",
    "\n",
    "Any potential redistributors must seek and receive permission from Matthew Tyler Osborne, Ph.D. prior to redistribution. Redistribution of the material contained in this repository is conditional on acknowledgement of Matthew Tyler Osborne, Ph.D.'s original authorship and sponsorship of the Erdős Institute as subject to the license (see License.md)"
   ]
  },
  {
   "cell_type": "code",
   "execution_count": null,
   "id": "2f49b53a",
   "metadata": {},
   "outputs": [],
   "source": []
  }
 ],
 "metadata": {
  "kernelspec": {
   "display_name": "Python 3 (ipykernel)",
   "language": "python",
   "name": "python3"
  },
  "language_info": {
   "codemirror_mode": {
    "name": "ipython",
    "version": 3
   },
   "file_extension": ".py",
   "mimetype": "text/x-python",
   "name": "python",
   "nbconvert_exporter": "python",
   "pygments_lexer": "ipython3",
   "version": "3.9.9"
  }
 },
 "nbformat": 4,
 "nbformat_minor": 5
}
