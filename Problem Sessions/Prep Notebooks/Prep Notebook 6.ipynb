{
 "cells": [
  {
   "cell_type": "markdown",
   "id": "64b959da",
   "metadata": {},
   "source": [
    "# Prep Notebook 6\n",
    "## The Simpsons and Bicycles II\n",
    "\n",
    "This notebook has a few exercises that can serve as a primer for what to expect in the `Problem Session 6` notebook. These exercises will touch upon the basic python, `pandas`, `numpy`, `matplotlib` and some supervised learning basic techniques that you may want a refresher on prior to starting `Problem Session 6`."
   ]
  },
  {
   "cell_type": "code",
   "execution_count": null,
   "id": "33ab4c3e",
   "metadata": {},
   "outputs": [],
   "source": [
    "import pandas as pd\n",
    "import numpy as np\n",
    "import matplotlib.pyplot as plt\n",
    "from seaborn import set_style\n",
    "\n",
    "set_style(\"whitegrid\")"
   ]
  },
  {
   "cell_type": "markdown",
   "id": "d313303b",
   "metadata": {},
   "source": [
    "##### 1. Time series cross-validation\n",
    "\n",
    "Import the cross-validation object from `sklearn` that you would use to perform cross-validation on a time series."
   ]
  },
  {
   "cell_type": "code",
   "execution_count": null,
   "id": "ac65fa6c",
   "metadata": {},
   "outputs": [],
   "source": [
    "## code here\n",
    "\n",
    "\n"
   ]
  },
  {
   "cell_type": "markdown",
   "id": "98b5bfcb",
   "metadata": {},
   "source": [
    "##### 2. MSE\n",
    "\n",
    "Import the `sklearn` metric function that you can use to calculate the mean squared error."
   ]
  },
  {
   "cell_type": "code",
   "execution_count": null,
   "id": "07ca599e",
   "metadata": {},
   "outputs": [],
   "source": [
    "## code here\n",
    "\n",
    "\n"
   ]
  },
  {
   "cell_type": "markdown",
   "id": "65539aaa",
   "metadata": {},
   "source": [
    "##### 3. Loading data\n",
    "\n",
    "Load the following data and make the following train test split"
   ]
  },
  {
   "cell_type": "code",
   "execution_count": null,
   "id": "8a42359f",
   "metadata": {},
   "outputs": [],
   "source": [
    "pumpkin = pd.read_csv(\"../../Data/goog_trend_pumpkin.csv\")"
   ]
  },
  {
   "cell_type": "code",
   "execution_count": null,
   "id": "a2075c9c",
   "metadata": {},
   "outputs": [],
   "source": [
    "pumpkin_test = pumpkin.tail(12).copy()\n",
    "pumpkin_train = pumpkin.drop(pumpkin_test.index).copy()"
   ]
  },
  {
   "cell_type": "markdown",
   "id": "c81a3795",
   "metadata": {},
   "source": [
    "##### 4. Recording MSE over cross-validation\n",
    "\n",
    "Fill in the missing code chunks below to create an array of zeros that will be replaced with the MSE each time through the cross-validation."
   ]
  },
  {
   "cell_type": "code",
   "execution_count": null,
   "id": "c59c1ad9",
   "metadata": {},
   "outputs": [],
   "source": [
    "## Make the cross-validation object here\n",
    "## 5 splits and a test_size of 12\n",
    "cv = \n",
    "\n",
    "## Make the zero array here \n",
    "mses = \n",
    "\n",
    "\n",
    "i = 0\n",
    "for train_index, test_index in cv.split(pumpkin_train):\n",
    "    pumpkin_tt = pumpkin_train.iloc[train_index]\n",
    "    pumpkin_ho = pumpkin_train.iloc[test_index]\n",
    "    \n",
    "    pred = pumpkin_tt.pumpkin_trend.mean() * np.ones(len(pumpkin_ho))\n",
    "    \n",
    "    ## record the mse between the prediction and the \n",
    "    ## actual holdout pumpkin_trend here\n",
    "    \n",
    "    \n",
    "    ## increase the split counter\n",
    "    "
   ]
  },
  {
   "cell_type": "code",
   "execution_count": null,
   "id": "240c13f4",
   "metadata": {},
   "outputs": [],
   "source": [
    "## Check mses, make sure that no entry is zero\n",
    "\n"
   ]
  },
  {
   "cell_type": "markdown",
   "id": "ffc8bd55",
   "metadata": {},
   "source": [
    "##### 5. `np.mean` I\n",
    "\n",
    "Use `np.mean` to find the arithmetic mean of `mses` from problem 4."
   ]
  },
  {
   "cell_type": "code",
   "execution_count": null,
   "id": "d0174683",
   "metadata": {},
   "outputs": [],
   "source": [
    "## code here\n",
    "\n"
   ]
  },
  {
   "cell_type": "markdown",
   "id": "6cab5674",
   "metadata": {},
   "source": [
    "##### 6. `np.mean` II\n",
    "\n",
    "Find the column mean of `X` below using `np.mean`, <a href=\"https://numpy.org/doc/stable/reference/generated/numpy.mean.html\">https://numpy.org/doc/stable/reference/generated/numpy.mean.html</a>."
   ]
  },
  {
   "cell_type": "code",
   "execution_count": null,
   "id": "834cd1ef",
   "metadata": {},
   "outputs": [],
   "source": [
    "np.random.seed(440)\n",
    "X = np.random.randn(10,4)"
   ]
  },
  {
   "cell_type": "code",
   "execution_count": null,
   "id": "69c41efc",
   "metadata": {},
   "outputs": [],
   "source": [
    "## code here\n",
    "\n",
    "\n"
   ]
  },
  {
   "cell_type": "markdown",
   "id": "e3aaa815",
   "metadata": {},
   "source": [
    "##### 7. Yes another plot\n",
    "\n",
    "Make a scatter plot of `y` against `X` after generating the data below. Then plot `line_y` against `line_x` on top of the scatter plot. Label the horizontal axis, \"X\", the vertical axis \"y\" and add a legend to the plot."
   ]
  },
  {
   "cell_type": "code",
   "execution_count": null,
   "id": "ecc5a299",
   "metadata": {},
   "outputs": [],
   "source": [
    "np.random.seed(403)\n",
    "\n",
    "X = 2*np.random.random(size=100)-1\n",
    "y = 3 + 2*X + np.random.randn(100)\n",
    "\n",
    "line_x = np.linspace(-1,1,100)\n",
    "line_y = 3 + 2*line_x"
   ]
  },
  {
   "cell_type": "code",
   "execution_count": null,
   "id": "5202682c",
   "metadata": {},
   "outputs": [],
   "source": [
    "## code here\n",
    "\n",
    "\n"
   ]
  },
  {
   "cell_type": "markdown",
   "id": "78f0751c",
   "metadata": {},
   "source": [
    "--------------------------\n",
    "\n",
    "This notebook was written for the Erd&#337;s Institute C&#337;de Data Science Boot Camp by Matthew Osborne, Ph. D., 2022.\n",
    "\n",
    "Any potential redistributors must seek and receive permission from Matthew Tyler Osborne, Ph.D. prior to redistribution. Redistribution of the material contained in this repository is conditional on acknowledgement of Matthew Tyler Osborne, Ph.D.'s original authorship and sponsorship of the Erdős Institute as subject to the license (see License.md)"
   ]
  },
  {
   "cell_type": "code",
   "execution_count": null,
   "id": "2405b604",
   "metadata": {},
   "outputs": [],
   "source": []
  }
 ],
 "metadata": {
  "kernelspec": {
   "display_name": "Python 3 (ipykernel)",
   "language": "python",
   "name": "python3"
  },
  "language_info": {
   "codemirror_mode": {
    "name": "ipython",
    "version": 3
   },
   "file_extension": ".py",
   "mimetype": "text/x-python",
   "name": "python",
   "nbconvert_exporter": "python",
   "pygments_lexer": "ipython3",
   "version": "3.9.9"
  }
 },
 "nbformat": 4,
 "nbformat_minor": 5
}
