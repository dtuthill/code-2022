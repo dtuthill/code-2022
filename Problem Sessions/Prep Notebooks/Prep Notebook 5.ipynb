{
 "cells": [
  {
   "cell_type": "markdown",
   "id": "f22c6cec",
   "metadata": {},
   "source": [
    "# Prep Notebook 5\n",
    "## The Simpsons and Bicycles I\n",
    "\n",
    "This notebook has a few exercises that can serve as a primer for what to expect in the `Problem Session 5` notebook. These exercises will touch upon the basic python, `pandas`, `numpy`, `matplotlib` and some supervised learning basic techniques that you may want a refresher on prior to starting `Problem Session 5`."
   ]
  },
  {
   "cell_type": "code",
   "execution_count": null,
   "id": "cb4af83c",
   "metadata": {},
   "outputs": [],
   "source": [
    "import pandas as pd\n",
    "import numpy as np\n",
    "import matplotlib.pyplot as plt\n",
    "from seaborn import set_style\n",
    "\n",
    "set_style(\"whitegrid\")"
   ]
  },
  {
   "cell_type": "markdown",
   "id": "0ae0da74",
   "metadata": {},
   "source": [
    "##### 1. `.loc`, `.iloc`, `.copy()` and `.drop`\n",
    "\n",
    "Load the data stored in `goog_trend_pumpkin.csv` in the `Data` folder into a variable called `pumpkin`.\n",
    "\n",
    "- Look at the last five observations.\n",
    "- Store the last 12 observations in a new variable, call it `pumpkin_test`\n",
    "- Using `.drop` store every other observation in a new variable called `pumpkin_train`."
   ]
  },
  {
   "cell_type": "code",
   "execution_count": null,
   "id": "967e49ad",
   "metadata": {},
   "outputs": [],
   "source": [
    "## code here\n",
    "\n"
   ]
  },
  {
   "cell_type": "code",
   "execution_count": null,
   "id": "aa167ed1",
   "metadata": {},
   "outputs": [],
   "source": [
    "## code here\n",
    "\n"
   ]
  },
  {
   "cell_type": "code",
   "execution_count": null,
   "id": "f3868102",
   "metadata": {},
   "outputs": [],
   "source": [
    "## code here\n",
    "\n"
   ]
  },
  {
   "cell_type": "code",
   "execution_count": null,
   "id": "2fd2b1fb",
   "metadata": {},
   "outputs": [],
   "source": [
    "## code here\n",
    "\n"
   ]
  },
  {
   "cell_type": "markdown",
   "id": "1effc27d",
   "metadata": {},
   "source": [
    "##### 2. Another plot\n",
    "\n",
    "Plot the `pumpkin_trend` column of `pumpkin_train` against a `range` object that is the length of `pumpkin_train`."
   ]
  },
  {
   "cell_type": "code",
   "execution_count": null,
   "id": "74649cb5",
   "metadata": {},
   "outputs": [],
   "source": [
    "## code here\n",
    "\n",
    "\n",
    "\n"
   ]
  },
  {
   "cell_type": "markdown",
   "id": "f863fe68",
   "metadata": {},
   "source": [
    "##### 3. `.mean()`\n",
    "\n",
    "Using solely `pandas` find the arithmetic mean of the `pumpkin_trend` column in `pumpkin_train`."
   ]
  },
  {
   "cell_type": "code",
   "execution_count": null,
   "id": "f56020ec",
   "metadata": {},
   "outputs": [],
   "source": [
    "## code here\n",
    "\n",
    "\n"
   ]
  },
  {
   "cell_type": "markdown",
   "id": "cf61c6d1",
   "metadata": {},
   "source": [
    "##### 4. Correlation\n",
    "\n",
    "Using `pandas` `.corr`, <a href=\"https://pandas.pydata.org/docs/reference/api/pandas.DataFrame.corr.html\">https://pandas.pydata.org/docs/reference/api/pandas.DataFrame.corr.html</a>, find the correlation between the `pumpkin_trend` and `lag_5_value` columns of `pumpkin_train`."
   ]
  },
  {
   "cell_type": "code",
   "execution_count": null,
   "id": "cf03b9f7",
   "metadata": {},
   "outputs": [],
   "source": [
    "## code here\n",
    "\n",
    "\n"
   ]
  },
  {
   "cell_type": "markdown",
   "id": "ea239c5f",
   "metadata": {},
   "source": [
    "##### 5. Fit a simple linear regression\n",
    "\n",
    "Fit a simple linear regression model regressing `pumpkin_trend` on the array from `0` to `len(pumpkin_train)-1`."
   ]
  },
  {
   "cell_type": "code",
   "execution_count": null,
   "id": "c1b92350",
   "metadata": {},
   "outputs": [],
   "source": [
    "## code here\n",
    "\n"
   ]
  },
  {
   "cell_type": "code",
   "execution_count": null,
   "id": "c5b4a395",
   "metadata": {},
   "outputs": [],
   "source": [
    "## code here\n",
    "\n"
   ]
  },
  {
   "cell_type": "markdown",
   "id": "705d1903",
   "metadata": {},
   "source": [
    "##### 6. MSE\n",
    "\n",
    "Find the mean squared error of the model you just fit."
   ]
  },
  {
   "cell_type": "code",
   "execution_count": null,
   "id": "eb5c5269",
   "metadata": {},
   "outputs": [],
   "source": [
    "## code here\n",
    "\n"
   ]
  },
  {
   "cell_type": "code",
   "execution_count": null,
   "id": "130fc20b",
   "metadata": {},
   "outputs": [],
   "source": [
    "## code here\n",
    "\n"
   ]
  },
  {
   "cell_type": "markdown",
   "id": "645caaca",
   "metadata": {},
   "source": [
    "##### 7. `.apply`\n",
    "\n",
    "Below is a function that checks if a number is even. Use `.apply`, <a href=\"https://pandas.pydata.org/docs/reference/api/pandas.DataFrame.apply.html\">https://pandas.pydata.org/docs/reference/api/pandas.DataFrame.apply.html</a>, to check which rows of `pumpkin_trend` are even.\n",
    "\n",
    "<i>Note that this function only works on integers</i>."
   ]
  },
  {
   "cell_type": "code",
   "execution_count": null,
   "id": "27237d68",
   "metadata": {},
   "outputs": [],
   "source": [
    "def is_even(n):\n",
    "    if n%2 == 0:\n",
    "        return True\n",
    "    else:\n",
    "        return False"
   ]
  },
  {
   "cell_type": "code",
   "execution_count": null,
   "id": "a353f725",
   "metadata": {},
   "outputs": [],
   "source": [
    "## code here\n",
    "\n"
   ]
  },
  {
   "cell_type": "markdown",
   "id": "e67f1ae8",
   "metadata": {},
   "source": [
    "--------------------------\n",
    "\n",
    "This notebook was written for the Erd&#337;s Institute C&#337;de Data Science Boot Camp by Matthew Osborne, Ph. D., 2022.\n",
    "\n",
    "Any potential redistributors must seek and receive permission from Matthew Tyler Osborne, Ph.D. prior to redistribution. Redistribution of the material contained in this repository is conditional on acknowledgement of Matthew Tyler Osborne, Ph.D.'s original authorship and sponsorship of the Erdős Institute as subject to the license (see License.md)"
   ]
  },
  {
   "cell_type": "code",
   "execution_count": null,
   "id": "1d96c8e1",
   "metadata": {},
   "outputs": [],
   "source": []
  }
 ],
 "metadata": {
  "kernelspec": {
   "display_name": "Python 3 (ipykernel)",
   "language": "python",
   "name": "python3"
  },
  "language_info": {
   "codemirror_mode": {
    "name": "ipython",
    "version": 3
   },
   "file_extension": ".py",
   "mimetype": "text/x-python",
   "name": "python",
   "nbconvert_exporter": "python",
   "pygments_lexer": "ipython3",
   "version": "3.9.9"
  }
 },
 "nbformat": 4,
 "nbformat_minor": 5
}
