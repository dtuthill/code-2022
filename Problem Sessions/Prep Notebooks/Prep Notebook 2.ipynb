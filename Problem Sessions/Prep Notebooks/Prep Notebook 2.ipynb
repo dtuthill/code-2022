{
 "cells": [
  {
   "cell_type": "markdown",
   "id": "b7acc8d5",
   "metadata": {},
   "source": [
    "# Prep Notebook 2\n",
    "## Intro to Supervised Learning & Simple Linear Regression\n",
    "\n",
    "This notebook has a few exercises that can serve as a primer for what to expect in the `Problem Session 2` notebook. These exercises will only touch upon the basic python, `pandas`, `numpy` and `matplotlib` that you may want a refresher on prior to starting `Problem Session 2`."
   ]
  },
  {
   "cell_type": "markdown",
   "id": "12655d28",
   "metadata": {},
   "source": [
    "##### 1. Reading a .csv file\n",
    "\n",
    "Read in the `hockey.csv` file using `pandas`. Store it in a variable named `hockey`."
   ]
  },
  {
   "cell_type": "code",
   "execution_count": null,
   "id": "ee6d0f72",
   "metadata": {},
   "outputs": [],
   "source": [
    "##### Code here\n",
    "\n",
    "\n"
   ]
  },
  {
   "cell_type": "code",
   "execution_count": null,
   "id": "0649e921",
   "metadata": {},
   "outputs": [],
   "source": [
    "##### Code here\n",
    "\n"
   ]
  },
  {
   "cell_type": "code",
   "execution_count": null,
   "id": "58e4461c",
   "metadata": {},
   "outputs": [],
   "source": [
    "##### Code here\n",
    "\n"
   ]
  },
  {
   "cell_type": "markdown",
   "id": "6412906c",
   "metadata": {},
   "source": [
    "##### 2. Exploring `hockey`.\n",
    "\n",
    "- How many observations are in `hockey`?\n",
    "- What are the columns of `hockey` called?\n",
    "- Display the first five rows of `hockey`.\n",
    "- What are the mean values of `first_half_wins` and `second_half_wins`?"
   ]
  },
  {
   "cell_type": "code",
   "execution_count": null,
   "id": "6b20ebc7",
   "metadata": {},
   "outputs": [],
   "source": [
    "## Code here\n",
    "\n",
    "\n"
   ]
  },
  {
   "cell_type": "code",
   "execution_count": null,
   "id": "fbfc6309",
   "metadata": {},
   "outputs": [],
   "source": [
    "## Code here\n",
    "\n",
    "\n"
   ]
  },
  {
   "cell_type": "code",
   "execution_count": null,
   "id": "cf99e06c",
   "metadata": {},
   "outputs": [],
   "source": [
    "## Code here\n",
    "\n",
    "\n"
   ]
  },
  {
   "cell_type": "markdown",
   "id": "043e5b54",
   "metadata": {},
   "source": [
    "##### 3. Scatter and line plots.\n",
    "\n",
    "- Make a scatter plot of `second_half_wins` against `first_half_wins`. \n",
    "- Plot a horizontal line at the average value of `second_half_wins` that runs from the minimum value of `first_half_wins` - $2$ to the maximum value of `first_half_wins` + $2$, make this line red and dotted."
   ]
  },
  {
   "cell_type": "code",
   "execution_count": null,
   "id": "1ba42a61",
   "metadata": {},
   "outputs": [],
   "source": [
    "## code here\n",
    "\n",
    "\n"
   ]
  },
  {
   "cell_type": "code",
   "execution_count": null,
   "id": "8e4e01ea",
   "metadata": {},
   "outputs": [],
   "source": [
    "## code here\n",
    "\n",
    "\n"
   ]
  },
  {
   "cell_type": "code",
   "execution_count": null,
   "id": "30a257ab",
   "metadata": {},
   "outputs": [],
   "source": [
    "## code here\n",
    "\n",
    "\n"
   ]
  },
  {
   "cell_type": "markdown",
   "id": "ba1c02ef",
   "metadata": {},
   "source": [
    "##### 4. `for` loop\n",
    "\n",
    "Write a `for` loop that prints out the `season` and `team` for each row of `hockey`."
   ]
  },
  {
   "cell_type": "code",
   "execution_count": null,
   "id": "bc7d4dbf",
   "metadata": {},
   "outputs": [],
   "source": [
    "## code here\n",
    "\n",
    "\n"
   ]
  },
  {
   "cell_type": "code",
   "execution_count": null,
   "id": "ebe00310",
   "metadata": {},
   "outputs": [],
   "source": [
    "## code here\n",
    "\n",
    "\n"
   ]
  },
  {
   "cell_type": "markdown",
   "id": "9af0bbd8",
   "metadata": {},
   "source": [
    "--------------------------\n",
    "\n",
    "This notebook was written for the Erd&#337;s Institute C&#337;de Data Science Boot Camp by Matthew Osborne, Ph. D., 2022.\n",
    "\n",
    "Any potential redistributors must seek and receive permission from Matthew Tyler Osborne, Ph.D. prior to redistribution. Redistribution of the material contained in this repository is conditional on acknowledgement of Matthew Tyler Osborne, Ph.D.'s original authorship and sponsorship of the Erdős Institute as subject to the license (see License.md)"
   ]
  },
  {
   "cell_type": "code",
   "execution_count": null,
   "id": "197323df",
   "metadata": {},
   "outputs": [],
   "source": []
  }
 ],
 "metadata": {
  "kernelspec": {
   "display_name": "Python 3 (ipykernel)",
   "language": "python",
   "name": "python3"
  },
  "language_info": {
   "codemirror_mode": {
    "name": "ipython",
    "version": 3
   },
   "file_extension": ".py",
   "mimetype": "text/x-python",
   "name": "python",
   "nbconvert_exporter": "python",
   "pygments_lexer": "ipython3",
   "version": "3.9.9"
  }
 },
 "nbformat": 4,
 "nbformat_minor": 5
}
