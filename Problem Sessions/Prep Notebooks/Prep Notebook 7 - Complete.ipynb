{
 "cells": [
  {
   "cell_type": "markdown",
   "id": "61988379",
   "metadata": {},
   "source": [
    "# Prep Notebook 7\n",
    "## Classifying Cancer I\n",
    "\n",
    "This notebook has a few exercises that can serve as a primer for what to expect in the `Problem Session 7` notebook. These exercises will touch upon the basic python, `pandas`, `numpy`, `matplotlib` and some supervised learning basic techniques that you may want a refresher on prior to starting `Problem Session 7`."
   ]
  },
  {
   "cell_type": "code",
   "execution_count": 1,
   "id": "73f827e0",
   "metadata": {},
   "outputs": [],
   "source": [
    "import pandas as pd\n",
    "import numpy as np\n",
    "import matplotlib.pyplot as plt\n",
    "from seaborn import set_style\n",
    "\n",
    "set_style(\"whitegrid\")"
   ]
  },
  {
   "cell_type": "markdown",
   "id": "cef6185d",
   "metadata": {},
   "source": [
    "##### 1. Generate data\n",
    "\n",
    "First run the code below to generate the variable `y`."
   ]
  },
  {
   "cell_type": "code",
   "execution_count": 2,
   "id": "98fa28fa",
   "metadata": {},
   "outputs": [],
   "source": [
    "np.random.seed(443)\n",
    "y = np.random.binomial(1, .4, 100)"
   ]
  },
  {
   "cell_type": "markdown",
   "id": "7d5b49cc",
   "metadata": {},
   "source": [
    "##### 2. `np.unique`\n",
    "\n",
    "Use `np.unique`, <a href=\"https://numpy.org/doc/stable/reference/generated/numpy.unique.html\">https://numpy.org/doc/stable/reference/generated/numpy.unique.html</a>, to find the unique observations in the array `y` and provide a percentage breakdown of how many observations belong to each class."
   ]
  },
  {
   "cell_type": "markdown",
   "id": "6ef227bb",
   "metadata": {},
   "source": [
    "##### Sample Solution"
   ]
  },
  {
   "cell_type": "code",
   "execution_count": 3,
   "id": "627d15b8",
   "metadata": {},
   "outputs": [
    {
     "data": {
      "text/plain": [
       "array([0, 1])"
      ]
     },
     "execution_count": 3,
     "metadata": {},
     "output_type": "execute_result"
    }
   ],
   "source": [
    "np.unique(y)"
   ]
  },
  {
   "cell_type": "code",
   "execution_count": 4,
   "id": "23e6c366",
   "metadata": {},
   "outputs": [
    {
     "data": {
      "text/plain": [
       "array([0.62, 0.38])"
      ]
     },
     "execution_count": 4,
     "metadata": {},
     "output_type": "execute_result"
    }
   ],
   "source": [
    "np.unique(y, return_counts=True)[1]/len(y)"
   ]
  },
  {
   "cell_type": "markdown",
   "id": "1ef3796e",
   "metadata": {},
   "source": [
    "##### 3. Plotting histograms\n",
    "\n",
    "First generate `X` then plot histograms of the values of `X` that correspond to the two classes in `y`. Color the histograms by `y`'s class.\n",
    "\n",
    "<a href=\"https://matplotlib.org/3.5.0/api/_as_gen/matplotlib.pyplot.hist.html\">https://matplotlib.org/3.5.0/api/_as_gen/matplotlib.pyplot.hist.html</a>."
   ]
  },
  {
   "cell_type": "code",
   "execution_count": 5,
   "id": "0a812a8a",
   "metadata": {},
   "outputs": [],
   "source": [
    "X = np.zeros(len(y))\n",
    "\n",
    "X[y==0] = np.random.randn(np.sum(y==0))\n",
    "X[y==1] = np.random.randn(np.sum(y==1)) + 3.2"
   ]
  },
  {
   "cell_type": "markdown",
   "id": "45faeacd",
   "metadata": {},
   "source": [
    "##### Sample Solution"
   ]
  },
  {
   "cell_type": "code",
   "execution_count": 6,
   "id": "1f290e06",
   "metadata": {},
   "outputs": [
    {
     "data": {
      "image/png": "[encoded data removed]",
      "text/plain": [
       "<Figure size 576x432 with 1 Axes>"
      ]
     },
     "metadata": {},
     "output_type": "display_data"
    }
   ],
   "source": [
    "plt.figure(figsize=(8,6))\n",
    "\n",
    "plt.hist(X[y==0], color='blue', label=\"$y=0$\")\n",
    "plt.hist(X[y==1], color='red', hatch='//', alpha=.6, label=\"$y=1$\")\n",
    "\n",
    "plt.show()"
   ]
  },
  {
   "cell_type": "markdown",
   "id": "f99a9689",
   "metadata": {},
   "source": [
    "##### 4. Estimating probability\n",
    "\n",
    "Use `y` to estimate the probability that $y=1$ and $y=0$."
   ]
  },
  {
   "cell_type": "markdown",
   "id": "e6309fa6",
   "metadata": {},
   "source": [
    "##### Sample Solution"
   ]
  },
  {
   "cell_type": "code",
   "execution_count": 7,
   "id": "cece1776",
   "metadata": {},
   "outputs": [
    {
     "data": {
      "text/plain": [
       "0.62"
      ]
     },
     "execution_count": 7,
     "metadata": {},
     "output_type": "execute_result"
    }
   ],
   "source": [
    "np.sum(y==0)/len(y)"
   ]
  },
  {
   "cell_type": "code",
   "execution_count": 8,
   "id": "af07b6aa",
   "metadata": {},
   "outputs": [
    {
     "data": {
      "text/plain": [
       "0.38"
      ]
     },
     "execution_count": 8,
     "metadata": {},
     "output_type": "execute_result"
    }
   ],
   "source": [
    "np.sum(y==1)/len(y)"
   ]
  },
  {
   "cell_type": "markdown",
   "id": "d75f672e",
   "metadata": {},
   "source": [
    "##### 5. `.columns`\n",
    "\n",
    "Use `.columns` to list the columns of `df`."
   ]
  },
  {
   "cell_type": "code",
   "execution_count": 9,
   "id": "2dc9fa75",
   "metadata": {},
   "outputs": [],
   "source": [
    "df = pd.DataFrame({'x1':np.random.randn(10),\n",
    "                      'x2':np.random.random(size=10),\n",
    "                      'x3':np.random.binomial(10,.2,10)})"
   ]
  },
  {
   "cell_type": "markdown",
   "id": "8a345fc6",
   "metadata": {},
   "source": [
    "##### Sample Solution"
   ]
  },
  {
   "cell_type": "code",
   "execution_count": 10,
   "id": "00f71e7f",
   "metadata": {},
   "outputs": [
    {
     "data": {
      "text/plain": [
       "Index(['x1', 'x2', 'x3'], dtype='object')"
      ]
     },
     "execution_count": 10,
     "metadata": {},
     "output_type": "execute_result"
    }
   ],
   "source": [
    "df.columns"
   ]
  },
  {
   "cell_type": "markdown",
   "id": "ba49dc61",
   "metadata": {},
   "source": [
    "###### 6. Getting a single column\n",
    "\n",
    "Write a loop that prints out the values of each column of `df`."
   ]
  },
  {
   "cell_type": "markdown",
   "id": "1f734000",
   "metadata": {},
   "source": [
    "##### Sample Solution"
   ]
  },
  {
   "cell_type": "code",
   "execution_count": 11,
   "id": "77995b6c",
   "metadata": {},
   "outputs": [
    {
     "name": "stdout",
     "output_type": "stream",
     "text": [
      "0   -0.810020\n",
      "1    1.451247\n",
      "2   -0.022794\n",
      "3    1.862707\n",
      "4   -0.101708\n",
      "5   -0.493233\n",
      "6    0.740948\n",
      "7    0.420333\n",
      "8   -0.827609\n",
      "9   -0.997936\n",
      "Name: x1, dtype: float64\n",
      "\n",
      "0    0.017689\n",
      "1    0.873611\n",
      "2    0.433829\n",
      "3    0.071514\n",
      "4    0.201675\n",
      "5    0.626084\n",
      "6    0.859583\n",
      "7    0.142494\n",
      "8    0.086331\n",
      "9    0.932123\n",
      "Name: x2, dtype: float64\n",
      "\n",
      "0    1\n",
      "1    1\n",
      "2    0\n",
      "3    3\n",
      "4    1\n",
      "5    1\n",
      "6    3\n",
      "7    1\n",
      "8    1\n",
      "9    1\n",
      "Name: x3, dtype: int64\n",
      "\n"
     ]
    }
   ],
   "source": [
    "for c in df.columns:\n",
    "    print(df[c])\n",
    "    print()"
   ]
  },
  {
   "cell_type": "markdown",
   "id": "b4a46eb4",
   "metadata": {},
   "source": [
    "--------------------------\n",
    "\n",
    "This notebook was written for the Erd&#337;s Institute C&#337;de Data Science Boot Camp by Matthew Osborne, Ph. D., 2022.\n",
    "\n",
    "Any potential redistributors must seek and receive permission from Matthew Tyler Osborne, Ph.D. prior to redistribution. Redistribution of the material contained in this repository is conditional on acknowledgement of Matthew Tyler Osborne, Ph.D.'s original authorship and sponsorship of the Erdős Institute as subject to the license (see License.md)"
   ]
  },
  {
   "cell_type": "code",
   "execution_count": null,
   "id": "505c3b88",
   "metadata": {},
   "outputs": [],
   "source": []
  }
 ],
 "metadata": {
  "kernelspec": {
   "display_name": "Python 3 (ipykernel)",
   "language": "python",
   "name": "python3"
  },
  "language_info": {
   "codemirror_mode": {
    "name": "ipython",
    "version": 3
   },
   "file_extension": ".py",
   "mimetype": "text/x-python",
   "name": "python",
   "nbconvert_exporter": "python",
   "pygments_lexer": "ipython3",
   "version": "3.9.9"
  }
 },
 "nbformat": 4,
 "nbformat_minor": 5
}
