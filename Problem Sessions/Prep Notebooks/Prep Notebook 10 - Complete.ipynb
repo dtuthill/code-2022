{
 "cells": [
  {
   "cell_type": "markdown",
   "id": "9e32ae3b",
   "metadata": {},
   "source": [
    "# Prep Notebook 10\n",
    "## Classifying Cancer IV\n",
    "\n",
    "This notebook has a few exercises that can serve as a primer for what to expect in the `Problem Session 10` notebook. These exercises will touch upon the basic python, `pandas`, `numpy`, `matplotlib` and some supervised learning basic techniques that you may want a refresher on prior to starting `Problem Session 10`."
   ]
  },
  {
   "cell_type": "code",
   "execution_count": 1,
   "id": "4ee8793e",
   "metadata": {},
   "outputs": [],
   "source": [
    "import pandas as pd\n",
    "import numpy as np\n",
    "import matplotlib.pyplot as plt\n",
    "import seaborn as sns\n",
    "\n",
    "sns.set_style(\"whitegrid\")"
   ]
  },
  {
   "cell_type": "markdown",
   "id": "376e7d3c",
   "metadata": {},
   "source": [
    "##### 1. Review problem sessions 7, 8 and 9\n",
    "\n",
    "In `Problem Session 10` we will use what you did in `Problem Session 7`, `Problem Session 8` and `Problem Session 9`, review your group's work as well as the complete version."
   ]
  },
  {
   "cell_type": "markdown",
   "id": "2884861e",
   "metadata": {},
   "source": [
    "##### 2. Import metrics\n",
    "\n",
    "Import the functions you can use to compute the confusion matrix for a classifier, the recall and the precision."
   ]
  },
  {
   "cell_type": "code",
   "execution_count": 2,
   "id": "be1865bd",
   "metadata": {},
   "outputs": [],
   "source": [
    "from sklearn.metrics import confusion_matrix, recall_score, precision_score"
   ]
  },
  {
   "cell_type": "markdown",
   "id": "9688c1b6",
   "metadata": {},
   "source": [
    "#### 3. $k$NN\n",
    "\n",
    "Build a $k$-nearest neighbors classifier on these data with $k=6$."
   ]
  },
  {
   "cell_type": "code",
   "execution_count": 3,
   "id": "d7942b21",
   "metadata": {},
   "outputs": [],
   "source": [
    "np.random.seed(303910)\n",
    "X = np.random.random((100, 2))\n",
    "\n",
    "y = np.zeros(100)\n",
    "\n",
    "y[X[:,0]*(X[:,1] - .5) < 0] = 1"
   ]
  },
  {
   "cell_type": "code",
   "execution_count": 4,
   "id": "c58ddade",
   "metadata": {},
   "outputs": [],
   "source": [
    "from sklearn.neighbors import KNeighborsClassifier"
   ]
  },
  {
   "cell_type": "code",
   "execution_count": 5,
   "id": "49e10c23",
   "metadata": {},
   "outputs": [
    {
     "data": {
      "text/plain": [
       "KNeighborsClassifier(n_neighbors=6)"
      ]
     },
     "execution_count": 5,
     "metadata": {},
     "output_type": "execute_result"
    }
   ],
   "source": [
    "knn = KNeighborsClassifier(6)\n",
    "\n",
    "knn.fit(X, y)"
   ]
  },
  {
   "cell_type": "markdown",
   "id": "d7bef93e",
   "metadata": {},
   "source": [
    "##### 4. Compute metrics\n",
    "\n",
    "Compute the confusion matrix, recall and precision on the $k$nn classifier you fit above."
   ]
  },
  {
   "cell_type": "code",
   "execution_count": 6,
   "id": "1e3fb993",
   "metadata": {},
   "outputs": [
    {
     "data": {
      "text/plain": [
       "array([[46,  1],\n",
       "       [ 3, 50]])"
      ]
     },
     "execution_count": 6,
     "metadata": {},
     "output_type": "execute_result"
    }
   ],
   "source": [
    "confusion_matrix(y, knn.predict(X))"
   ]
  },
  {
   "cell_type": "code",
   "execution_count": 7,
   "id": "6439f355",
   "metadata": {},
   "outputs": [
    {
     "data": {
      "text/plain": [
       "0.9803921568627451"
      ]
     },
     "execution_count": 7,
     "metadata": {},
     "output_type": "execute_result"
    }
   ],
   "source": [
    "precision_score(y, knn.predict(X))"
   ]
  },
  {
   "cell_type": "code",
   "execution_count": 8,
   "id": "9e4eb74e",
   "metadata": {},
   "outputs": [
    {
     "data": {
      "text/plain": [
       "0.9433962264150944"
      ]
     },
     "execution_count": 8,
     "metadata": {},
     "output_type": "execute_result"
    }
   ],
   "source": [
    "recall_score(y, knn.predict(X))"
   ]
  },
  {
   "cell_type": "markdown",
   "id": "12cc2746",
   "metadata": {},
   "source": [
    "--------------------------\n",
    "\n",
    "This notebook was written for the Erd&#337;s Institute C&#337;de Data Science Boot Camp by Matthew Osborne, Ph. D., 2022.\n",
    "\n",
    "Any potential redistributors must seek and receive permission from Matthew Tyler Osborne, Ph.D. prior to redistribution. Redistribution of the material contained in this repository is conditional on acknowledgement of Matthew Tyler Osborne, Ph.D.'s original authorship and sponsorship of the Erdős Institute as subject to the license (see License.md)"
   ]
  },
  {
   "cell_type": "code",
   "execution_count": null,
   "id": "2f1e8767",
   "metadata": {},
   "outputs": [],
   "source": []
  }
 ],
 "metadata": {
  "kernelspec": {
   "display_name": "Python 3 (ipykernel)",
   "language": "python",
   "name": "python3"
  },
  "language_info": {
   "codemirror_mode": {
    "name": "ipython",
    "version": 3
   },
   "file_extension": ".py",
   "mimetype": "text/x-python",
   "name": "python",
   "nbconvert_exporter": "python",
   "pygments_lexer": "ipython3",
   "version": "3.9.9"
  }
 },
 "nbformat": 4,
 "nbformat_minor": 5
}
