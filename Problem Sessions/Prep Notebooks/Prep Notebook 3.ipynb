{
 "cells": [
  {
   "cell_type": "markdown",
   "id": "48381bc1",
   "metadata": {},
   "source": [
    "# Prep Notebook 3\n",
    "## More Regression Work\n",
    "\n",
    "This notebook has a few exercises that can serve as a primer for what to expect in the `Problem Session 3` notebook. These exercises will touch upon the basic python, `pandas`, `numpy`, `matplotlib` and some supervised learning basic techniques that you may want a refresher on prior to starting `Problem Session 3`."
   ]
  },
  {
   "cell_type": "markdown",
   "id": "84ebf589",
   "metadata": {},
   "source": [
    "##### 1. Reading a .csv file\n",
    "\n",
    "Read in the `hockey.csv` file using `pandas`. Store it in a variable named `hockey`."
   ]
  },
  {
   "cell_type": "code",
   "execution_count": null,
   "id": "5a516e67",
   "metadata": {},
   "outputs": [],
   "source": [
    "##### Code here\n",
    "\n",
    "\n"
   ]
  },
  {
   "cell_type": "code",
   "execution_count": null,
   "id": "95be2aa8",
   "metadata": {},
   "outputs": [],
   "source": [
    "##### Code here\n",
    "\n",
    "\n"
   ]
  },
  {
   "cell_type": "code",
   "execution_count": null,
   "id": "5e0a05d8",
   "metadata": {},
   "outputs": [],
   "source": [
    "##### Code here\n",
    "\n",
    "\n"
   ]
  },
  {
   "cell_type": "code",
   "execution_count": null,
   "id": "d6d2de14",
   "metadata": {},
   "outputs": [],
   "source": [
    "##### Code here\n",
    "\n",
    "\n"
   ]
  },
  {
   "cell_type": "markdown",
   "id": "6f7bb814",
   "metadata": {},
   "source": [
    "##### 2. Descriptive statistics\n",
    "\n",
    "Find the mean and median of `first_half_wins` and `second_half_wins`."
   ]
  },
  {
   "cell_type": "code",
   "execution_count": null,
   "id": "bb0bee85",
   "metadata": {},
   "outputs": [],
   "source": [
    "## Code here\n",
    "\n"
   ]
  },
  {
   "cell_type": "code",
   "execution_count": null,
   "id": "0ed2a69b",
   "metadata": {},
   "outputs": [],
   "source": [
    "## Code here\n",
    "\n"
   ]
  },
  {
   "cell_type": "code",
   "execution_count": null,
   "id": "905fc9a4",
   "metadata": {},
   "outputs": [],
   "source": [
    "## Code here\n",
    "\n"
   ]
  },
  {
   "cell_type": "markdown",
   "id": "966f7863",
   "metadata": {},
   "source": [
    "##### 3. Learning `swarmplot`\n",
    "\n",
    "A chart type we will use in `Problem Session 3` is the <i>swarmplot</i>. A swarmplot is a way of visualizing the distribution of a quantitative variable for different values of a categorical variable. In a swarmplot plotting quantitative feature $Q$ against categorical feature $C$ with $c$ categories all observations are plotted at their value for $Q$ binned by their value for $C$.\n",
    "\n",
    "Using `seaborn`'s `swarmplot` function, <a href=\"https://seaborn.pydata.org/generated/seaborn.swarmplot.html\">https://seaborn.pydata.org/generated/seaborn.swarmplot.html</a>, make a swarmplot placing the `first_half_wins` on the vertical axis and the `season` on the horizontal axis."
   ]
  },
  {
   "cell_type": "code",
   "execution_count": null,
   "id": "e728c8c6",
   "metadata": {},
   "outputs": [],
   "source": [
    "## Code here\n",
    "\n",
    "\n"
   ]
  },
  {
   "cell_type": "code",
   "execution_count": null,
   "id": "58686fb7",
   "metadata": {},
   "outputs": [],
   "source": [
    "## Code here\n",
    "\n",
    "\n"
   ]
  },
  {
   "cell_type": "code",
   "execution_count": null,
   "id": "bc245d2a",
   "metadata": {},
   "outputs": [],
   "source": [
    "## Code here\n",
    "\n",
    "\n"
   ]
  },
  {
   "cell_type": "markdown",
   "id": "f974ef94",
   "metadata": {},
   "source": [
    "<i>Note: Sometimes a stripplot is a good alternative to  a swarmplot, <a href=\"https://seaborn.pydata.org/generated/seaborn.stripplot.html\">https://seaborn.pydata.org/generated/seaborn.stripplot.html</a>."
   ]
  },
  {
   "cell_type": "markdown",
   "id": "47be3397",
   "metadata": {},
   "source": [
    "##### 4. Train test split\n",
    "\n",
    "Make a train test split of the hockey data set, set aside $20\\%$ of the data as a test set."
   ]
  },
  {
   "cell_type": "code",
   "execution_count": null,
   "id": "c4d87c8e",
   "metadata": {},
   "outputs": [],
   "source": [
    "## Code here\n",
    "\n",
    "\n"
   ]
  },
  {
   "cell_type": "code",
   "execution_count": null,
   "id": "c3915644",
   "metadata": {},
   "outputs": [],
   "source": [
    "## Code here\n",
    "\n",
    "\n"
   ]
  },
  {
   "cell_type": "code",
   "execution_count": null,
   "id": "3264bf45",
   "metadata": {},
   "outputs": [],
   "source": [
    "## Code here\n",
    "\n",
    "\n"
   ]
  },
  {
   "cell_type": "markdown",
   "id": "f239f42a",
   "metadata": {},
   "source": [
    "##### 5. $5$-fold cross-validation.\n",
    "\n",
    "Using an `sklearn` `KFold` object loop through a $5$-fold cross-validation of the training hockey set. Print out the test and training indices as you loop through the cross-validation splits."
   ]
  },
  {
   "cell_type": "code",
   "execution_count": null,
   "id": "aed691e9",
   "metadata": {},
   "outputs": [],
   "source": [
    "## Code here\n",
    "\n",
    "\n"
   ]
  },
  {
   "cell_type": "code",
   "execution_count": null,
   "id": "09924c4b",
   "metadata": {},
   "outputs": [],
   "source": [
    "## Code here\n",
    "\n",
    "\n"
   ]
  },
  {
   "cell_type": "code",
   "execution_count": null,
   "id": "757a22e8",
   "metadata": {},
   "outputs": [],
   "source": [
    "## Code here\n",
    "\n",
    "\n"
   ]
  },
  {
   "cell_type": "code",
   "execution_count": null,
   "id": "866265d5",
   "metadata": {},
   "outputs": [],
   "source": [
    "## Code here\n",
    "\n",
    "\n"
   ]
  },
  {
   "cell_type": "markdown",
   "id": "4b977024",
   "metadata": {},
   "source": [
    "--------------------------\n",
    "\n",
    "This notebook was written for the Erd&#337;s Institute C&#337;de Data Science Boot Camp by Matthew Osborne, Ph. D., 2022.\n",
    "\n",
    "Any potential redistributors must seek and receive permission from Matthew Tyler Osborne, Ph.D. prior to redistribution. Redistribution of the material contained in this repository is conditional on acknowledgement of Matthew Tyler Osborne, Ph.D.'s original authorship and sponsorship of the Erdős Institute as subject to the license (see License.md)"
   ]
  },
  {
   "cell_type": "code",
   "execution_count": null,
   "id": "14e8282f",
   "metadata": {},
   "outputs": [],
   "source": []
  }
 ],
 "metadata": {
  "kernelspec": {
   "display_name": "Python 3 (ipykernel)",
   "language": "python",
   "name": "python3"
  },
  "language_info": {
   "codemirror_mode": {
    "name": "ipython",
    "version": 3
   },
   "file_extension": ".py",
   "mimetype": "text/x-python",
   "name": "python",
   "nbconvert_exporter": "python",
   "pygments_lexer": "ipython3",
   "version": "3.9.9"
  }
 },
 "nbformat": 4,
 "nbformat_minor": 5
}
