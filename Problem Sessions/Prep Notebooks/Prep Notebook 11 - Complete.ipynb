{
 "cells": [
  {
   "cell_type": "markdown",
   "id": "9e84dab2",
   "metadata": {},
   "source": [
    "# Prep Notebook 11\n",
    "## MNIST of Fashion I\n",
    "\n",
    "This notebook has a few exercises that can serve as a primer for what to expect in the `Problem Session 11` notebook. These exercises will touch upon the basic python, `pandas`, `numpy`, `matplotlib` and some supervised learning basic techniques that you may want a refresher on prior to starting `Problem Session 11`."
   ]
  },
  {
   "cell_type": "markdown",
   "id": "306da54a",
   "metadata": {},
   "source": [
    "##### 1. `keras` installed\n",
    "\n",
    "Run the following code to check that you have `keras` installed."
   ]
  },
  {
   "cell_type": "code",
   "execution_count": 1,
   "id": "a26a8ee8",
   "metadata": {},
   "outputs": [],
   "source": [
    "from keras import models"
   ]
  },
  {
   "cell_type": "markdown",
   "id": "f6f7d2d8",
   "metadata": {},
   "source": [
    "If you could not run the above code, install `keras`, <a href=\"https://www.activestate.com/resources/quick-reads/how-to-install-keras-and-tensorflow/\">https://www.activestate.com/resources/quick-reads/how-to-install-keras-and-tensorflow/</a>."
   ]
  },
  {
   "cell_type": "markdown",
   "id": "2696d5ac",
   "metadata": {},
   "source": [
    "##### 2. `keras` MNIST\n",
    "\n",
    "\n",
    "Load the MNIST data set from `keras`, <a href=\"https://keras.io/api/datasets/mnist/\">https://keras.io/api/datasets/mnist/</a>."
   ]
  },
  {
   "cell_type": "markdown",
   "id": "e6c4ade0",
   "metadata": {},
   "source": [
    "##### Sample Solution"
   ]
  },
  {
   "cell_type": "code",
   "execution_count": 2,
   "id": "f68b6795",
   "metadata": {},
   "outputs": [],
   "source": [
    "from keras.datasets import mnist"
   ]
  },
  {
   "cell_type": "code",
   "execution_count": 3,
   "id": "915b0ca6",
   "metadata": {},
   "outputs": [],
   "source": [
    "(X_train, y_train), (X_test, y_test) = mnist.load_data()"
   ]
  },
  {
   "cell_type": "markdown",
   "id": "e203bb3b",
   "metadata": {},
   "source": [
    "##### 3. `.shape`\n",
    "\n",
    "What are the shapes of the training and test features?"
   ]
  },
  {
   "cell_type": "markdown",
   "id": "12189f6e",
   "metadata": {},
   "source": [
    "##### Sample Solution"
   ]
  },
  {
   "cell_type": "code",
   "execution_count": 4,
   "id": "067aefc2",
   "metadata": {},
   "outputs": [
    {
     "data": {
      "text/plain": [
       "(60000, 28, 28)"
      ]
     },
     "execution_count": 4,
     "metadata": {},
     "output_type": "execute_result"
    }
   ],
   "source": [
    "X_train.shape"
   ]
  },
  {
   "cell_type": "code",
   "execution_count": 5,
   "id": "6c944e56",
   "metadata": {},
   "outputs": [
    {
     "data": {
      "text/plain": [
       "(10000, 28, 28)"
      ]
     },
     "execution_count": 5,
     "metadata": {},
     "output_type": "execute_result"
    }
   ],
   "source": [
    "X_test.shape"
   ]
  },
  {
   "cell_type": "markdown",
   "id": "4e1c7d2a",
   "metadata": {},
   "source": [
    "##### 4. `.reshape`\n",
    "\n",
    "Reshape these so they are `60000` rows of `m` columns and `10000` rows of `m` columns respectively."
   ]
  },
  {
   "cell_type": "markdown",
   "id": "2abffacc",
   "metadata": {},
   "source": [
    "##### Sample Solution"
   ]
  },
  {
   "cell_type": "code",
   "execution_count": 6,
   "id": "63b18277",
   "metadata": {},
   "outputs": [
    {
     "data": {
      "text/plain": [
       "(60000, 784)"
      ]
     },
     "execution_count": 6,
     "metadata": {},
     "output_type": "execute_result"
    }
   ],
   "source": [
    "X_train.reshape(-1, 28*28).shape"
   ]
  },
  {
   "cell_type": "code",
   "execution_count": 7,
   "id": "06e6f44a",
   "metadata": {},
   "outputs": [
    {
     "data": {
      "text/plain": [
       "(10000, 784)"
      ]
     },
     "execution_count": 7,
     "metadata": {},
     "output_type": "execute_result"
    }
   ],
   "source": [
    "X_test.reshape(-1, 28*28).shape"
   ]
  },
  {
   "cell_type": "markdown",
   "id": "8c233cf7",
   "metadata": {},
   "source": [
    "##### 5. MNIST of Fashion\n",
    "\n",
    "Run the following code before the problem session."
   ]
  },
  {
   "cell_type": "code",
   "execution_count": 9,
   "id": "ee946735",
   "metadata": {},
   "outputs": [],
   "source": [
    "from keras.datasets import fashion_mnist"
   ]
  },
  {
   "cell_type": "code",
   "execution_count": 10,
   "id": "825fa0a2",
   "metadata": {},
   "outputs": [],
   "source": [
    "(X_train, y_train), (X_test, y_test) = fashion_mnist.load_data()"
   ]
  },
  {
   "cell_type": "markdown",
   "id": "8f6beac2",
   "metadata": {},
   "source": [
    "--------------------------\n",
    "\n",
    "This notebook was written for the Erd&#337;s Institute C&#337;de Data Science Boot Camp by Matthew Osborne, Ph. D., 2022.\n",
    "\n",
    "Any potential redistributors must seek and receive permission from Matthew Tyler Osborne, Ph.D. prior to redistribution. Redistribution of the material contained in this repository is conditional on acknowledgement of Matthew Tyler Osborne, Ph.D.'s original authorship and sponsorship of the Erdős Institute as subject to the license (see License.md)"
   ]
  },
  {
   "cell_type": "code",
   "execution_count": null,
   "id": "4eaaa6d2",
   "metadata": {},
   "outputs": [],
   "source": []
  }
 ],
 "metadata": {
  "kernelspec": {
   "display_name": "Python 3 (ipykernel)",
   "language": "python",
   "name": "python3"
  },
  "language_info": {
   "codemirror_mode": {
    "name": "ipython",
    "version": 3
   },
   "file_extension": ".py",
   "mimetype": "text/x-python",
   "name": "python",
   "nbconvert_exporter": "python",
   "pygments_lexer": "ipython3",
   "version": "3.9.9"
  }
 },
 "nbformat": 4,
 "nbformat_minor": 5
}
