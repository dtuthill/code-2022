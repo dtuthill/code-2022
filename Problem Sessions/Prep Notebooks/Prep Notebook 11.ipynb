{
 "cells": [
  {
   "cell_type": "markdown",
   "id": "367baa03",
   "metadata": {},
   "source": [
    "# Prep Notebook 11\n",
    "## MNIST of Fashion I\n",
    "\n",
    "This notebook has a few exercises that can serve as a primer for what to expect in the `Problem Session 11` notebook. These exercises will touch upon the basic python, `pandas`, `numpy`, `matplotlib` and some supervised learning basic techniques that you may want a refresher on prior to starting `Problem Session 11`."
   ]
  },
  {
   "cell_type": "markdown",
   "id": "77b281d7",
   "metadata": {},
   "source": [
    "##### 1. `keras` installed\n",
    "\n",
    "Run the following code to check that you have `keras` installed."
   ]
  },
  {
   "cell_type": "code",
   "execution_count": null,
   "id": "8961aef8",
   "metadata": {},
   "outputs": [],
   "source": [
    "from keras import models"
   ]
  },
  {
   "cell_type": "markdown",
   "id": "eb66f5d6",
   "metadata": {},
   "source": [
    "If you could not run the above code, install `keras`, <a href=\"https://www.activestate.com/resources/quick-reads/how-to-install-keras-and-tensorflow/\">https://www.activestate.com/resources/quick-reads/how-to-install-keras-and-tensorflow/</a>."
   ]
  },
  {
   "cell_type": "markdown",
   "id": "c3d142a1",
   "metadata": {},
   "source": [
    "##### 2. `keras` MNIST\n",
    "\n",
    "\n",
    "Load the MNIST data set from `keras`, <a href=\"https://keras.io/api/datasets/mnist/\">https://keras.io/api/datasets/mnist/</a>."
   ]
  },
  {
   "cell_type": "code",
   "execution_count": null,
   "id": "4dc9312e",
   "metadata": {},
   "outputs": [],
   "source": [
    "## Code here\n",
    "\n",
    "\n"
   ]
  },
  {
   "cell_type": "code",
   "execution_count": null,
   "id": "20c4a792",
   "metadata": {},
   "outputs": [],
   "source": [
    "## Code here\n",
    "\n",
    "\n"
   ]
  },
  {
   "cell_type": "markdown",
   "id": "dea7117d",
   "metadata": {},
   "source": [
    "##### 3. `.shape`\n",
    "\n",
    "What are the shapes of the training and test features?"
   ]
  },
  {
   "cell_type": "code",
   "execution_count": null,
   "id": "b9b03b29",
   "metadata": {},
   "outputs": [],
   "source": [
    "## Code here\n",
    "\n"
   ]
  },
  {
   "cell_type": "code",
   "execution_count": null,
   "id": "06733fe6",
   "metadata": {},
   "outputs": [],
   "source": [
    "## Code here\n",
    "\n"
   ]
  },
  {
   "cell_type": "markdown",
   "id": "75c4758f",
   "metadata": {},
   "source": [
    "##### 4. `.reshape`\n",
    "\n",
    "Reshape these so they are `60000` rows of `m` columns and `10000` rows of `m` columns respectively."
   ]
  },
  {
   "cell_type": "code",
   "execution_count": null,
   "id": "46e0988b",
   "metadata": {},
   "outputs": [],
   "source": [
    "## Code here\n",
    "\n"
   ]
  },
  {
   "cell_type": "code",
   "execution_count": null,
   "id": "39663b11",
   "metadata": {},
   "outputs": [],
   "source": [
    "## Code here\n",
    "\n"
   ]
  },
  {
   "cell_type": "markdown",
   "id": "65d455a8",
   "metadata": {},
   "source": [
    "##### 5. MNIST of Fashion\n",
    "\n",
    "Run the following code before the problem session."
   ]
  },
  {
   "cell_type": "code",
   "execution_count": null,
   "id": "a5afb7d3",
   "metadata": {},
   "outputs": [],
   "source": [
    "from keras.datasets import fashion_mnist"
   ]
  },
  {
   "cell_type": "code",
   "execution_count": null,
   "id": "971e4fe0",
   "metadata": {},
   "outputs": [],
   "source": [
    "(X_train, y_train), (X_test, y_test) = fashion_mnist.load_data()"
   ]
  },
  {
   "cell_type": "markdown",
   "id": "c72ef783",
   "metadata": {},
   "source": [
    "--------------------------\n",
    "\n",
    "This notebook was written for the Erd&#337;s Institute C&#337;de Data Science Boot Camp by Matthew Osborne, Ph. D., 2022.\n",
    "\n",
    "Any potential redistributors must seek and receive permission from Matthew Tyler Osborne, Ph.D. prior to redistribution. Redistribution of the material contained in this repository is conditional on acknowledgement of Matthew Tyler Osborne, Ph.D.'s original authorship and sponsorship of the Erdős Institute as subject to the license (see License.md)"
   ]
  },
  {
   "cell_type": "code",
   "execution_count": null,
   "id": "0bdf7669",
   "metadata": {},
   "outputs": [],
   "source": []
  }
 ],
 "metadata": {
  "kernelspec": {
   "display_name": "Python 3 (ipykernel)",
   "language": "python",
   "name": "python3"
  },
  "language_info": {
   "codemirror_mode": {
    "name": "ipython",
    "version": 3
   },
   "file_extension": ".py",
   "mimetype": "text/x-python",
   "name": "python",
   "nbconvert_exporter": "python",
   "pygments_lexer": "ipython3",
   "version": "3.9.9"
  }
 },
 "nbformat": 4,
 "nbformat_minor": 5
}
