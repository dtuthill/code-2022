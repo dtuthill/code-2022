{
 "cells": [
  {
   "cell_type": "markdown",
   "id": "e234e8d5",
   "metadata": {},
   "source": [
    "# Problem Session 4\n",
    "## Regressing Wine Sales\n",
    "\n",
    "This problem session will be our last time working with a non-time series regression task. It will also be slightly less guided that our previous problem sessions as a skill check for all of the regression topics we have covered so far.\n",
    "\n",
    "These problems will touch on material from all of the lecture notebooks in the `Regression` folder."
   ]
  },
  {
   "cell_type": "markdown",
   "id": "d679e1bf",
   "metadata": {},
   "source": [
    "##### 1. Import packages \n",
    "\n",
    "First import all of these packages that you may need for this notebook below."
   ]
  },
  {
   "cell_type": "code",
   "execution_count": null,
   "id": "e77e734e",
   "metadata": {},
   "outputs": [],
   "source": [
    "import pandas as pd\n",
    "import numpy as np\n",
    "import matplotlib.pyplot as plt\n",
    "import seaborn as sns\n",
    "\n",
    "sns.set_style(\"whitegrid\")"
   ]
  },
  {
   "cell_type": "markdown",
   "id": "2af51434",
   "metadata": {},
   "source": [
    "## Problem description\n",
    "\n",
    "You have been hired by Big Steak House, the largest steak house chain east of the Mississippi. They want you to build a model to predict how well a particular type of wine will sell at their 2000 locations across the United States. They have given you the data stored in `wine_sales.csv` in the `Data` folder with which to build a predictive model. Each row of this data set represents a type of wine they sell at one of their locations.\n",
    "\n",
    "##### 2. Load `wine_sales.csv`\n",
    "\n",
    "Use `pandas` to load `wine_sales.csv`. How many observations are in this data set?"
   ]
  },
  {
   "cell_type": "code",
   "execution_count": null,
   "id": "e6c9f949",
   "metadata": {},
   "outputs": [],
   "source": [
    "## Put in the path to the file\n",
    "wine = pd.read_csv()"
   ]
  },
  {
   "cell_type": "code",
   "execution_count": null,
   "id": "0546711e",
   "metadata": {},
   "outputs": [],
   "source": [
    "## how many observations\n"
   ]
  },
  {
   "cell_type": "markdown",
   "id": "c37a8dc5",
   "metadata": {},
   "source": [
    "##### 3. Train test split\n",
    "\n",
    "Make a train test split before doing any EDA."
   ]
  },
  {
   "cell_type": "code",
   "execution_count": null,
   "id": "2273ed27",
   "metadata": {},
   "outputs": [],
   "source": [
    "## import train_test_split\n",
    "from sklearn.model_selection import train_test_split"
   ]
  },
  {
   "cell_type": "code",
   "execution_count": null,
   "id": "8e06bc0b",
   "metadata": {},
   "outputs": [],
   "source": [
    "## Make a train_test_split here\n",
    "wine_train, wine_test = train_test_split()"
   ]
  },
  {
   "cell_type": "markdown",
   "id": "d7583dd9",
   "metadata": {},
   "source": [
    "##### 4. Look at the data\n",
    "\n",
    "Here are descriptions of each of the columns for this data set:\n",
    "- `red`: is this wine a red wine, or a white wine? A value of `1` denotes a red wine, a value of `0` denotes a white wine.\n",
    "- `local`: does this wine come from a local or national winery? A value of `1` denotes a wine from a local winery, a value of `0` denotes a wine from a national winery.\n",
    "- `menu_location`: where is the wine listed on the menu? `'top'` denotes the top of the menu, `'middle'` denotes the middle of the menu, `'bottom'` denotes the bottom of the menu\n",
    "- `price`: the price per bottle of wine for this wine.\n",
    "- `comp_price`: the price per bottle of wine for this wine at the closest competitor.\n",
    "- `abv`: the alcohol by volume for this wine.\n",
    "- `avg_temp`: the average temperature for this location.\n",
    "- `population`: the population for the area in which the steakhouse is located.\n",
    "- `sales`: the unit sales for this type of wine.\n",
    "\n",
    "Do whatever exploration you would like of these columns here. Should you use just the training set, just the test set or both for this exploration?"
   ]
  },
  {
   "cell_type": "code",
   "execution_count": null,
   "id": "683fb285",
   "metadata": {},
   "outputs": [],
   "source": [
    "### You could look at some observations, or use .describe() here\n",
    "\n",
    "\n",
    "\n"
   ]
  },
  {
   "cell_type": "code",
   "execution_count": null,
   "id": "3b9a5188",
   "metadata": {},
   "outputs": [],
   "source": [
    "### You could look at some observations, or use .describe() here\n",
    "\n",
    "\n",
    "\n"
   ]
  },
  {
   "cell_type": "markdown",
   "id": "8909af60",
   "metadata": {},
   "source": [
    "##### 5. EDA\n",
    "\n",
    "Do some exploratory data analysis with the training set to get some ideas for any potential relationships between `sales` and the features."
   ]
  },
  {
   "cell_type": "code",
   "execution_count": null,
   "id": "0affe0a4",
   "metadata": {},
   "outputs": [],
   "source": [
    "### Use seaborn's pairplot to look at sales\n",
    "### You may want to set hue = 'menu_location'\n",
    "sns.pairplot()\n"
   ]
  },
  {
   "cell_type": "code",
   "execution_count": null,
   "id": "5d6359e6",
   "metadata": {},
   "outputs": [],
   "source": [
    "## An extra code chunk for plotting if you want\n",
    "\n",
    "\n"
   ]
  },
  {
   "cell_type": "code",
   "execution_count": null,
   "id": "7074f9e8",
   "metadata": {},
   "outputs": [],
   "source": [
    "## Here is a groupby example for 'local'\n",
    "print(\"local\")\n",
    "print(\"----------------\")\n",
    "print(\"Mean\")\n",
    "print(wine_train.groupby('local').sales.mean())\n",
    "print(\"Median\")\n",
    "print(wine_train.groupby('local').sales.median())\n",
    "\n",
    "\n",
    "## Make a groupby examination of mean sales\n",
    "## for red\n",
    "\n",
    "\n",
    "\n",
    "\n",
    "## Make a groupby examination of mean sales\n",
    "## for menu_location\n"
   ]
  },
  {
   "cell_type": "markdown",
   "id": "8dbcf810",
   "metadata": {},
   "source": [
    "##### 6. `price` and `sales`\n",
    "\n",
    "Take a close look at the relationship between `sales` and `price`. Does it look like we should make any  transformations for this data set?"
   ]
  },
  {
   "cell_type": "code",
   "execution_count": null,
   "id": "3305c979",
   "metadata": {},
   "outputs": [],
   "source": [
    "#### Fill in the missing code\n",
    "plt.figure(figsize=(10,6))\n",
    "\n",
    "plt.scatter()\n",
    "\n",
    "plt.show()"
   ]
  },
  {
   "cell_type": "markdown",
   "id": "6c520dea",
   "metadata": {},
   "source": [
    "##### 6. Initial Modeling\n",
    "\n",
    "Discuss among your group and choose some models to test, choose at least 4 models to try, and be sure to include a baseline. Write your models down below."
   ]
  },
  {
   "cell_type": "markdown",
   "id": "54d24676",
   "metadata": {},
   "source": [
    "##### Write here\n",
    "\n",
    "\n",
    "\n",
    "\n"
   ]
  },
  {
   "cell_type": "markdown",
   "id": "118ac0dc",
   "metadata": {},
   "source": [
    "##### 7. Data preprocessing.\n",
    "\n",
    "Prepare your training data by making any new columns you may need. For example, you may need one-hot encoded variables, polynomial transformations, nonlinear transformations or interaction terms."
   ]
  },
  {
   "cell_type": "code",
   "execution_count": null,
   "id": "b4664ea7",
   "metadata": {},
   "outputs": [],
   "source": [
    "## Sample Solution\n",
    "## Remember that pd.get_dummies makes dummy variables for categorical variables\n",
    "\n",
    "\n"
   ]
  },
  {
   "cell_type": "markdown",
   "id": "201a3f0c",
   "metadata": {},
   "source": [
    "##### 8. CV\n",
    "\n",
    "Using 10-fold cross-validation, find which one of the models you chose in 6. you think will perform the best.\n",
    "\n",
    "##### a. Import functions/objects\n",
    "\n",
    "Import the packages you will need, define or import a function to calculate the mse."
   ]
  },
  {
   "cell_type": "code",
   "execution_count": null,
   "id": "28f03013",
   "metadata": {},
   "outputs": [],
   "source": [
    "from sklearn.linear_model import LinearRegression\n",
    "from sklearn.model_selection import KFold\n",
    "from sklearn.metrics import mean_squared_error"
   ]
  },
  {
   "cell_type": "markdown",
   "id": "4b6eb393",
   "metadata": {},
   "source": [
    "##### b. Implement CV\n",
    "\n",
    "Implement the cross-validation below."
   ]
  },
  {
   "cell_type": "code",
   "execution_count": null,
   "id": "27e5cb07",
   "metadata": {},
   "outputs": [],
   "source": [
    "## Make a KFold object here\n",
    "## Fill in the missing code\n",
    "kfold = KFold()"
   ]
  },
  {
   "cell_type": "code",
   "execution_count": null,
   "id": "fe09e788",
   "metadata": {},
   "outputs": [],
   "source": [
    "## Make an array of zeros to store the mses here\n",
    "cv_mses = np.zeros((10, len(models)))\n",
    "\n",
    "\n",
    "## Fill in the missing cv loop code\n",
    "i = 0\n",
    "for  in kfold:\n",
    "    wine_train_train = wine_train.iloc[train_index]\n",
    "    wine_holdout = wine_train.iloc[test_index]\n",
    "    \n",
    "    \n",
    "    \n",
    "    "
   ]
  },
  {
   "cell_type": "markdown",
   "id": "a3b5be64",
   "metadata": {},
   "source": [
    "##### d. Lowest CV MSE?\n",
    "\n",
    "Which model of yours had the lowest average cross-validation mean squared error?"
   ]
  },
  {
   "cell_type": "code",
   "execution_count": null,
   "id": "13bdca9d",
   "metadata": {},
   "outputs": [],
   "source": [
    "## code here\n",
    "\n",
    "\n"
   ]
  },
  {
   "cell_type": "markdown",
   "id": "276d57d5",
   "metadata": {},
   "source": [
    "##### 9. More modeling\n",
    "\n",
    "If you have time remaining try to see if you can improve upon your model.\n",
    "\n",
    "You could try to implement forwards selection, backwards selection, best subsets or lasso regression for feature selection. (see `9. Feature Selection Approaches.ipynb`).\n",
    "\n",
    "It may also be worthwhile to examine residual plots for more model ideas (see `8. Linear Regression Diagnostic Plots.ipynb`)."
   ]
  },
  {
   "cell_type": "code",
   "execution_count": null,
   "id": "040fc2df",
   "metadata": {},
   "outputs": [],
   "source": [
    "## Code here if desired\n",
    "\n",
    "\n"
   ]
  },
  {
   "cell_type": "code",
   "execution_count": null,
   "id": "f8c80502",
   "metadata": {},
   "outputs": [],
   "source": [
    "## Code here if desired\n",
    "\n",
    "\n"
   ]
  },
  {
   "cell_type": "code",
   "execution_count": null,
   "id": "24a04704",
   "metadata": {},
   "outputs": [],
   "source": [
    "## Code here if desired\n",
    "\n",
    "\n"
   ]
  },
  {
   "cell_type": "code",
   "execution_count": null,
   "id": "fd1f2215",
   "metadata": {},
   "outputs": [],
   "source": [
    "## Code here if desired\n",
    "\n",
    "\n"
   ]
  },
  {
   "cell_type": "markdown",
   "id": "16e6297b",
   "metadata": {},
   "source": [
    "--------------------------\n",
    "\n",
    "This notebook was written for the Erd&#337;s Institute C&#337;de Data Science Boot Camp by Matthew Osborne, Ph. D., 2022.\n",
    "\n",
    "Any potential redistributors must seek and receive permission from Matthew Tyler Osborne, Ph.D. prior to redistribution. Redistribution of the material contained in this repository is conditional on acknowledgement of Matthew Tyler Osborne, Ph.D.'s original authorship and sponsorship of the Erdős Institute as subject to the license (see License.md)"
   ]
  },
  {
   "cell_type": "code",
   "execution_count": null,
   "id": "837799f4",
   "metadata": {},
   "outputs": [],
   "source": []
  }
 ],
 "metadata": {
  "kernelspec": {
   "display_name": "Python 3 (ipykernel)",
   "language": "python",
   "name": "python3"
  },
  "language_info": {
   "codemirror_mode": {
    "name": "ipython",
    "version": 3
   },
   "file_extension": ".py",
   "mimetype": "text/x-python",
   "name": "python",
   "nbconvert_exporter": "python",
   "pygments_lexer": "ipython3",
   "version": "3.9.9"
  }
 },
 "nbformat": 4,
 "nbformat_minor": 5
}
