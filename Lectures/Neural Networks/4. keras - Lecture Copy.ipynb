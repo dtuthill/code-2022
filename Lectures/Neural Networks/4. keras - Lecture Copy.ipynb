{
 "cells": [
  {
   "cell_type": "markdown",
   "metadata": {},
   "source": [
    "# `keras`\n",
    "\n",
    "Let's now introduce a python package called `keras` which will provide us with greater versatility in building neural networks than `sklearn`.\n",
    "\n",
    "## What we will accomplish\n",
    "\n",
    "In this notebook we will\n",
    "- Introduce `keras`:\n",
    "    - Discuss how to install it,\n",
    "- Review its syntax and\n",
    "- Demonstrate how to build feed forward networks in `keras`."
   ]
  },
  {
   "cell_type": "code",
   "execution_count": 1,
   "metadata": {},
   "outputs": [],
   "source": [
    "## For data handling\n",
    "import pandas as pd\n",
    "import numpy as np\n",
    "\n",
    "## For plotting\n",
    "import matplotlib.pyplot as plt\n",
    "import seaborn as sns\n",
    "\n",
    "sns.set_style(\"darkgrid\")"
   ]
  },
  {
   "cell_type": "markdown",
   "metadata": {},
   "source": [
    "Moving forward we will be building our neural networks with `keras`.\n",
    "\n",
    "From their documentation:\n",
    "\n",
    "<blockquote>\n",
    "Keras is a deep learning API written in Python, running on top of the machine learning platform TensorFlow. It was developed with a focus on enabling fast experimentation. Being able to go from idea to result as fast as possible is key to doing good research.\n",
    "</blockquote>\n",
    "\n",
    "In this notebook we will lay out how to build feed forward multi-layer networks.\n",
    "\n",
    "For reference, this material is being built by looking at the `keras` documentation <a href=\"https://keras.io/about/\">https://keras.io/about/</a> and the book, <a href=\"https://github.com/letspython3x/Books/blob/master/Deep%20Learning%20with%20Python.pdf\">Deep Learning with Python</a>. In particular this notebook's content comes from chapters 3 and 4 of that text.\n",
    "\n",
    "## Installation\n",
    "\n",
    "You may not have `keras` installed on your computer at this point. Try and run the following code chunk."
   ]
  },
  {
   "cell_type": "code",
   "execution_count": 2,
   "metadata": {},
   "outputs": [
    {
     "name": "stdout",
     "output_type": "stream",
     "text": [
      "2.6.0\n"
     ]
    }
   ],
   "source": [
    "import keras\n",
    "\n",
    "# if the above did not work \n",
    "# uncomment and then try the below\n",
    "# from tensorflow import keras\n",
    "\n",
    "print(keras.__version__)"
   ]
  },
  {
   "cell_type": "markdown",
   "metadata": {},
   "source": [
    "If this ran for you, then you already have `keras` installed. For reference, the version of `keras` that I was running while writing this notebook was `2.6.0`.\n",
    "\n",
    "If you received an error while running that code chunk you likely need to install `keras` to move forward.\n",
    "\n",
    "##### Using `pip`\n",
    "\n",
    "If you use `pip` to install packages try running:\n",
    "\n",
    "`pip install keras`\n",
    "\n",
    "in your command line or terminal to install `keras`.\n",
    "\n",
    "##### Using `conda`\n",
    "\n",
    "If you use `conda` try what is recommended at this link, <a href=\"https://anaconda.org/conda-forge/keras\">https://anaconda.org/conda-forge/keras</a>.\n",
    "\n",
    "##### Apple M1 chip computers\n",
    "\n",
    "If you have an Apple computer with an M1 chip you may need extra help. Earlier in 2022 the `keras` package installation instructions did not yet play nicely with such hardware. Try performing a web search for relevant instructions.\n",
    "\n",
    "If you are unsure if you have an M1 chip, check with these instructions <a href=\"https://www.howtogeek.com/706226/how-to-check-if-your-mac-is-using-an-intel-or-apple-silicon-processor/\">https://www.howtogeek.com/706226/how-to-check-if-your-mac-is-using-an-intel-or-apple-silicon-processor/</a>."
   ]
  },
  {
   "cell_type": "markdown",
   "metadata": {},
   "source": [
    "## Building a neural net with `keras`\n",
    "\n",
    "### Classifying MNIST\n",
    "\n",
    "We will mimic our `sklearn` networks from the last notebook and build an MNIST classifier, using the `keras` version of the data."
   ]
  },
  {
   "cell_type": "code",
   "execution_count": 3,
   "metadata": {},
   "outputs": [],
   "source": [
    "## This imports datasets stored in keras\n",
    "from keras.datasets import mnist"
   ]
  },
  {
   "cell_type": "code",
   "execution_count": 4,
   "metadata": {},
   "outputs": [
    {
     "name": "stdout",
     "output_type": "stream",
     "text": [
      "og shape of X_train (60000, 28, 28)\n"
     ]
    }
   ],
   "source": [
    "## Here we load the data\n",
    "(X_train, y_train),(X_test, y_test) = mnist.load_data()\n",
    "\n",
    "print(\"og shape of X_train\", np.shape(X_train))"
   ]
  },
  {
   "cell_type": "markdown",
   "metadata": {},
   "source": [
    "##### Reshape the data to be a single column\n",
    "\n",
    "We will now reshape the data so that it has $60{,}000$ observations ($10{,}000$ for the test set) of $28\\times28$ pixels. This will give us a $60000 \\times 784$ $2$-D `numpy` array ($10000 \\times 784$ for the test set)."
   ]
  },
  {
   "cell_type": "code",
   "execution_count": 5,
   "metadata": {},
   "outputs": [
    {
     "name": "stdout",
     "output_type": "stream",
     "text": [
      "The new shape of X_train is (60000, 784)\n",
      "The new shape of X_test is (10000, 784)\n"
     ]
    }
   ],
   "source": [
    "X_train = X_train.reshape(-1,28*28)\n",
    "X_test = X_test.reshape(-1,28*28)\n",
    "\n",
    "print(\"The new shape of X_train is\", np.shape(X_train))\n",
    "print(\"The new shape of X_test is\", np.shape(X_test))\n",
    "\n",
    "X_train = X_train/255\n",
    "X_test = X_test/255"
   ]
  },
  {
   "cell_type": "markdown",
   "metadata": {},
   "source": [
    "### Building the networks\n",
    "\n",
    "We start by importing all of the necessary pieces. We will explain each piece as we need it."
   ]
  },
  {
   "cell_type": "code",
   "execution_count": 6,
   "metadata": {},
   "outputs": [],
   "source": [
    "## import things\n",
    "from keras import models\n",
    "from keras import layers\n",
    "from keras import optimizers\n",
    "from keras import losses\n",
    "from keras import metrics\n",
    "from keras.utils.np_utils import to_categorical\n",
    "\n",
    "# for earlier versions of keras run this instead\n",
    "# from keras.utils import to_categorical\n",
    "# instead of running\n",
    "# from keras.utils.np_utils import to_categorical\n",
    "# or look up the documentation for your version\n"
   ]
  },
  {
   "cell_type": "markdown",
   "metadata": {},
   "source": [
    "What we learned as feed forward networks in the last notebook are also called <i>dense</i> networks because they are fully connected graphs.\n",
    "\n",
    "We will now walk through the process of making a dense neural networks using `keras`.\n",
    "\n",
    "##### 1. Make an empty `model`"
   ]
  },
  {
   "cell_type": "code",
   "execution_count": 7,
   "metadata": {},
   "outputs": [],
   "source": [
    "## we first make an empty model\n",
    "## Sequential means we'll make a group\n",
    "## of a linear stack of layers\n",
    "model = models.Sequential()"
   ]
  },
  {
   "cell_type": "markdown",
   "metadata": {},
   "source": [
    "##### 2. Add the layers to the `model`\n",
    "\n",
    "We will build the following neural network architecture in this step.\n",
    "\n",
    "<img src=\"mnist_net.png\" width=\"70%\"></img>"
   ]
  },
  {
   "cell_type": "code",
   "execution_count": 8,
   "metadata": {},
   "outputs": [],
   "source": [
    "###### ONLY RUN THIS ONCE! ##########\n",
    "\n",
    "## you add a layer with .add()\n",
    "## A Dense layer means a fully connected feedforward layer\n",
    "## the 16 means the layer is 16 nodes tall\n",
    "## activation='relu' means the layer uses a relu activation function\n",
    "## the first layer needs to be told the shape of the input data\n",
    "model.add( layers.Dense(16, activation='relu', input_shape=(28*28,)) )\n",
    "\n",
    "# we then add a second layer that is 16 nodes tall\n",
    "# and uses the relu activation function\n",
    "# note we don't need the input shape here, \n",
    "# it is inferred from the first layer's output\n",
    "model.add( layers.Dense(16, activation='relu') )\n",
    "\n",
    "\n",
    "# finally we add the output layer\n",
    "# this will have a single node, representing a probability\n",
    "# that the observation has positive sentiment\n",
    "# this is why the activation is a softmax\n",
    "# for more information on the softmax see the Practice Problems\n",
    "model.add( layers.Dense(10, activation='softmax'))"
   ]
  },
  {
   "cell_type": "code",
   "execution_count": 9,
   "metadata": {},
   "outputs": [
    {
     "name": "stdout",
     "output_type": "stream",
     "text": [
      "Model: \"sequential\"\n",
      "_________________________________________________________________\n",
      "Layer (type)                 Output Shape              Param #   \n",
      "=================================================================\n",
      "dense (Dense)                (None, 16)                12560     \n",
      "_________________________________________________________________\n",
      "dense_1 (Dense)              (None, 16)                272       \n",
      "_________________________________________________________________\n",
      "dense_2 (Dense)              (None, 10)                170       \n",
      "=================================================================\n",
      "Total params: 13,002\n",
      "Trainable params: 13,002\n",
      "Non-trainable params: 0\n",
      "_________________________________________________________________\n"
     ]
    }
   ],
   "source": [
    "model.summary()"
   ]
  },
  {
   "cell_type": "markdown",
   "metadata": {},
   "source": [
    "##### 3. Compile the model with an optimizer,  loss and metric\n",
    "\n",
    "The optimizer we use is `rmsprop`, this is an algorithm implemented by `keras` to perform the backpropagation step in fitting the neural network.\n",
    "\n",
    "The loss we use is `categorical_crossentropy` which stems from information theory, this is the \"cost function\" we discussed in notebook 3. This is a common and popular choice for classification problems. See the HW notebook for an explanation of crossentropy.\n",
    "\n",
    "The metric we use is simply `accuracy`.\n",
    "\n",
    "Note that there are more options for all three of these choices and if you are interested in seeing more check out the `keras` documentation, it has an excellent search bar. There is also the possibility to use your own custom inputs as well."
   ]
  },
  {
   "cell_type": "code",
   "execution_count": 10,
   "metadata": {},
   "outputs": [],
   "source": [
    "## we compile the network like so\n",
    "## call .compile\n",
    "## set our optimizer, optimizer='rmsprop'\n",
    "## set our loss, loss='categorical_crossentropy'\n",
    "## set our desired metrics, metrics=['accuracy']\n",
    "model.compile(optimizer='rmsprop', \n",
    "                 loss='categorical_crossentropy',\n",
    "                 metrics=['accuracy'])"
   ]
  },
  {
   "cell_type": "markdown",
   "metadata": {},
   "source": [
    "##### 4. Fit the model on the training data\n",
    "\n",
    "We fit our model on the training data, we'll look at $100$ epochs that use batch gradient descent with a batch size of `512` observations per batch.\n",
    "\n",
    "We first create a validation set, this will be additional input for the model."
   ]
  },
  {
   "cell_type": "code",
   "execution_count": 11,
   "metadata": {},
   "outputs": [],
   "source": [
    "## First make the validation set\n",
    "from sklearn.model_selection import train_test_split\n",
    "\n",
    "X_train_train,X_val,y_train_train,y_val = train_test_split(X_train, y_train,\n",
    "                                                          test_size=.2,\n",
    "                                                          shuffle=True,\n",
    "                                                          stratify=y_train,\n",
    "                                                          random_state=440)"
   ]
  },
  {
   "cell_type": "markdown",
   "metadata": {},
   "source": [
    "##### `to_categorical`\n",
    "\n",
    "In order for the desired output of our model to play nicely with the training and validation data we have to first turn each observation into a categorical output with the `keras` function `to_categorical`. Let's see what this does."
   ]
  },
  {
   "cell_type": "code",
   "execution_count": 12,
   "metadata": {},
   "outputs": [
    {
     "name": "stdout",
     "output_type": "stream",
     "text": [
      "[5 0 4 ... 5 6 8]\n",
      "\n",
      "\n",
      "\n",
      "\n",
      "[[0. 0. 0. ... 0. 0. 0.]\n",
      " [1. 0. 0. ... 0. 0. 0.]\n",
      " [0. 0. 0. ... 0. 0. 0.]\n",
      " ...\n",
      " [0. 0. 0. ... 0. 0. 0.]\n",
      " [0. 0. 0. ... 0. 0. 0.]\n",
      " [0. 0. 0. ... 0. 1. 0.]]\n"
     ]
    }
   ],
   "source": [
    "print(y_train)\n",
    "\n",
    "print(\"\\n\\n\\n\")\n",
    "\n",
    "print(to_categorical(y_train))"
   ]
  },
  {
   "cell_type": "code",
   "execution_count": 13,
   "metadata": {},
   "outputs": [
    {
     "name": "stdout",
     "output_type": "stream",
     "text": [
      "Epoch 1/100\n",
      "51/94 [===============>..............] - ETA: 0s - loss: 1.6728 - accuracy: 0.4683 "
     ]
    },
    {
     "name": "stderr",
     "output_type": "stream",
     "text": [
      "2022-05-25 17:07:36.377490: I tensorflow/compiler/mlir/mlir_graph_optimization_pass.cc:185] None of the MLIR Optimization Passes are enabled (registered 2)\n",
      "2022-05-25 17:07:36.377671: W tensorflow/core/platform/profile_utils/cpu_utils.cc:128] Failed to get CPU frequency: 0 Hz\n"
     ]
    },
    {
     "name": "stdout",
     "output_type": "stream",
     "text": [
      "94/94 [==============================] - 0s 2ms/step - loss: 1.3513 - accuracy: 0.5981 - val_loss: 0.7646 - val_accuracy: 0.8202\n",
      "Epoch 2/100\n",
      "94/94 [==============================] - 0s 1ms/step - loss: 0.5624 - accuracy: 0.8525 - val_loss: 0.4449 - val_accuracy: 0.8764\n",
      "Epoch 3/100\n",
      "94/94 [==============================] - 0s 1ms/step - loss: 0.3855 - accuracy: 0.8936 - val_loss: 0.3522 - val_accuracy: 0.9035\n",
      "Epoch 4/100\n",
      "94/94 [==============================] - 0s 1ms/step - loss: 0.3208 - accuracy: 0.9093 - val_loss: 0.3168 - val_accuracy: 0.9115\n",
      "Epoch 5/100\n",
      "94/94 [==============================] - 0s 1ms/step - loss: 0.2851 - accuracy: 0.9198 - val_loss: 0.2927 - val_accuracy: 0.9163\n",
      "Epoch 6/100\n",
      "94/94 [==============================] - 0s 1ms/step - loss: 0.2612 - accuracy: 0.9267 - val_loss: 0.2681 - val_accuracy: 0.9242\n",
      "Epoch 7/100\n",
      "94/94 [==============================] - 0s 1ms/step - loss: 0.2434 - accuracy: 0.9309 - val_loss: 0.2580 - val_accuracy: 0.9279\n",
      "Epoch 8/100\n",
      "94/94 [==============================] - 0s 1ms/step - loss: 0.2290 - accuracy: 0.9342 - val_loss: 0.2481 - val_accuracy: 0.9294\n",
      "Epoch 9/100\n",
      "94/94 [==============================] - 0s 1ms/step - loss: 0.2173 - accuracy: 0.9378 - val_loss: 0.2382 - val_accuracy: 0.9321\n",
      "Epoch 10/100\n",
      "94/94 [==============================] - 0s 1ms/step - loss: 0.2081 - accuracy: 0.9402 - val_loss: 0.2301 - val_accuracy: 0.9354\n",
      "Epoch 11/100\n",
      "94/94 [==============================] - 0s 1ms/step - loss: 0.2001 - accuracy: 0.9430 - val_loss: 0.2228 - val_accuracy: 0.9392\n",
      "Epoch 12/100\n",
      "94/94 [==============================] - 0s 1ms/step - loss: 0.1928 - accuracy: 0.9448 - val_loss: 0.2205 - val_accuracy: 0.9398\n",
      "Epoch 13/100\n",
      "94/94 [==============================] - 0s 1ms/step - loss: 0.1870 - accuracy: 0.9459 - val_loss: 0.2161 - val_accuracy: 0.9387\n",
      "Epoch 14/100\n",
      "94/94 [==============================] - 0s 1ms/step - loss: 0.1816 - accuracy: 0.9477 - val_loss: 0.2083 - val_accuracy: 0.9428\n",
      "Epoch 15/100\n",
      "94/94 [==============================] - 0s 1ms/step - loss: 0.1760 - accuracy: 0.9491 - val_loss: 0.2088 - val_accuracy: 0.9413\n",
      "Epoch 16/100\n",
      "94/94 [==============================] - 0s 1ms/step - loss: 0.1719 - accuracy: 0.9506 - val_loss: 0.2040 - val_accuracy: 0.9429\n",
      "Epoch 17/100\n",
      "94/94 [==============================] - 0s 1ms/step - loss: 0.1677 - accuracy: 0.9520 - val_loss: 0.2052 - val_accuracy: 0.9428\n",
      "Epoch 18/100\n",
      "94/94 [==============================] - 0s 1ms/step - loss: 0.1643 - accuracy: 0.9528 - val_loss: 0.2015 - val_accuracy: 0.9457\n",
      "Epoch 19/100\n",
      "94/94 [==============================] - 0s 1ms/step - loss: 0.1604 - accuracy: 0.9533 - val_loss: 0.2038 - val_accuracy: 0.9436\n",
      "Epoch 20/100\n",
      "94/94 [==============================] - 0s 1ms/step - loss: 0.1571 - accuracy: 0.9547 - val_loss: 0.1946 - val_accuracy: 0.9463\n",
      "Epoch 21/100\n",
      "94/94 [==============================] - 0s 1ms/step - loss: 0.1539 - accuracy: 0.9558 - val_loss: 0.1918 - val_accuracy: 0.9475\n",
      "Epoch 22/100\n",
      "94/94 [==============================] - 0s 1ms/step - loss: 0.1512 - accuracy: 0.9562 - val_loss: 0.1912 - val_accuracy: 0.9471\n",
      "Epoch 23/100\n",
      "94/94 [==============================] - 0s 1ms/step - loss: 0.1484 - accuracy: 0.9574 - val_loss: 0.1950 - val_accuracy: 0.9463\n",
      "Epoch 24/100\n",
      "94/94 [==============================] - 0s 1ms/step - loss: 0.1463 - accuracy: 0.9583 - val_loss: 0.1896 - val_accuracy: 0.9477\n",
      "Epoch 25/100\n",
      "94/94 [==============================] - 0s 1ms/step - loss: 0.1436 - accuracy: 0.9585 - val_loss: 0.1878 - val_accuracy: 0.9482\n",
      "Epoch 26/100\n",
      "94/94 [==============================] - 0s 1ms/step - loss: 0.1409 - accuracy: 0.9593 - val_loss: 0.1885 - val_accuracy: 0.9478\n",
      "Epoch 27/100\n",
      "94/94 [==============================] - 0s 1ms/step - loss: 0.1388 - accuracy: 0.9604 - val_loss: 0.1881 - val_accuracy: 0.9495\n",
      "Epoch 28/100\n",
      "94/94 [==============================] - 0s 1ms/step - loss: 0.1368 - accuracy: 0.9601 - val_loss: 0.1901 - val_accuracy: 0.9475\n",
      "Epoch 29/100\n",
      "94/94 [==============================] - 0s 1ms/step - loss: 0.1355 - accuracy: 0.9606 - val_loss: 0.1852 - val_accuracy: 0.9499\n",
      "Epoch 30/100\n",
      "94/94 [==============================] - 0s 1ms/step - loss: 0.1330 - accuracy: 0.9613 - val_loss: 0.1864 - val_accuracy: 0.9497\n",
      "Epoch 31/100\n",
      "94/94 [==============================] - 0s 1ms/step - loss: 0.1316 - accuracy: 0.9618 - val_loss: 0.1840 - val_accuracy: 0.9485\n",
      "Epoch 32/100\n",
      "94/94 [==============================] - 0s 1ms/step - loss: 0.1289 - accuracy: 0.9625 - val_loss: 0.1854 - val_accuracy: 0.9496\n",
      "Epoch 33/100\n",
      "94/94 [==============================] - 0s 1ms/step - loss: 0.1276 - accuracy: 0.9627 - val_loss: 0.1862 - val_accuracy: 0.9469\n",
      "Epoch 34/100\n",
      "94/94 [==============================] - 0s 1ms/step - loss: 0.1263 - accuracy: 0.9635 - val_loss: 0.1907 - val_accuracy: 0.9470\n",
      "Epoch 35/100\n",
      "94/94 [==============================] - 0s 1ms/step - loss: 0.1245 - accuracy: 0.9641 - val_loss: 0.1880 - val_accuracy: 0.9474\n",
      "Epoch 36/100\n",
      "94/94 [==============================] - 0s 1ms/step - loss: 0.1224 - accuracy: 0.9649 - val_loss: 0.1812 - val_accuracy: 0.9495\n",
      "Epoch 37/100\n",
      "94/94 [==============================] - 0s 1ms/step - loss: 0.1218 - accuracy: 0.9648 - val_loss: 0.1862 - val_accuracy: 0.9494\n",
      "Epoch 38/100\n",
      "94/94 [==============================] - 0s 1ms/step - loss: 0.1195 - accuracy: 0.9652 - val_loss: 0.1846 - val_accuracy: 0.9485\n",
      "Epoch 39/100\n",
      "94/94 [==============================] - 0s 1ms/step - loss: 0.1184 - accuracy: 0.9654 - val_loss: 0.1847 - val_accuracy: 0.9478\n",
      "Epoch 40/100\n",
      "94/94 [==============================] - 0s 1ms/step - loss: 0.1167 - accuracy: 0.9657 - val_loss: 0.1820 - val_accuracy: 0.9506\n",
      "Epoch 41/100\n",
      "94/94 [==============================] - 0s 1ms/step - loss: 0.1156 - accuracy: 0.9664 - val_loss: 0.1835 - val_accuracy: 0.9503\n",
      "Epoch 42/100\n",
      "94/94 [==============================] - 0s 1ms/step - loss: 0.1143 - accuracy: 0.9668 - val_loss: 0.1831 - val_accuracy: 0.9505\n",
      "Epoch 43/100\n",
      "94/94 [==============================] - 0s 1ms/step - loss: 0.1130 - accuracy: 0.9666 - val_loss: 0.1877 - val_accuracy: 0.9482\n",
      "Epoch 44/100\n",
      "94/94 [==============================] - 0s 1ms/step - loss: 0.1121 - accuracy: 0.9671 - val_loss: 0.1816 - val_accuracy: 0.9500\n",
      "Epoch 45/100\n",
      "94/94 [==============================] - 0s 1ms/step - loss: 0.1106 - accuracy: 0.9680 - val_loss: 0.1821 - val_accuracy: 0.9521\n",
      "Epoch 46/100\n",
      "94/94 [==============================] - 0s 1ms/step - loss: 0.1098 - accuracy: 0.9681 - val_loss: 0.1842 - val_accuracy: 0.9496\n",
      "Epoch 47/100\n",
      "94/94 [==============================] - 0s 1ms/step - loss: 0.1077 - accuracy: 0.9688 - val_loss: 0.1848 - val_accuracy: 0.9494\n",
      "Epoch 48/100\n",
      "94/94 [==============================] - 0s 1ms/step - loss: 0.1072 - accuracy: 0.9685 - val_loss: 0.1806 - val_accuracy: 0.9522\n",
      "Epoch 49/100\n",
      "94/94 [==============================] - 0s 1ms/step - loss: 0.1066 - accuracy: 0.9692 - val_loss: 0.1841 - val_accuracy: 0.9488\n",
      "Epoch 50/100\n",
      "94/94 [==============================] - 0s 1ms/step - loss: 0.1050 - accuracy: 0.9693 - val_loss: 0.1873 - val_accuracy: 0.9482\n",
      "Epoch 51/100\n",
      "94/94 [==============================] - 0s 1ms/step - loss: 0.1044 - accuracy: 0.9701 - val_loss: 0.1815 - val_accuracy: 0.9513\n",
      "Epoch 52/100\n",
      "94/94 [==============================] - 0s 1ms/step - loss: 0.1027 - accuracy: 0.9699 - val_loss: 0.1818 - val_accuracy: 0.9524\n",
      "Epoch 53/100\n",
      "94/94 [==============================] - 0s 1ms/step - loss: 0.1019 - accuracy: 0.9699 - val_loss: 0.1836 - val_accuracy: 0.9504\n",
      "Epoch 54/100\n",
      "94/94 [==============================] - 0s 1ms/step - loss: 0.1004 - accuracy: 0.9705 - val_loss: 0.1827 - val_accuracy: 0.9515\n",
      "Epoch 55/100\n",
      "94/94 [==============================] - 0s 1ms/step - loss: 0.1005 - accuracy: 0.9704 - val_loss: 0.1829 - val_accuracy: 0.9519\n",
      "Epoch 56/100\n",
      "94/94 [==============================] - 0s 1ms/step - loss: 0.0991 - accuracy: 0.9709 - val_loss: 0.1834 - val_accuracy: 0.9509\n",
      "Epoch 57/100\n",
      "94/94 [==============================] - 0s 1ms/step - loss: 0.0976 - accuracy: 0.9715 - val_loss: 0.1806 - val_accuracy: 0.9517\n",
      "Epoch 58/100\n",
      "94/94 [==============================] - 0s 1ms/step - loss: 0.0974 - accuracy: 0.9714 - val_loss: 0.1796 - val_accuracy: 0.9536\n"
     ]
    },
    {
     "name": "stdout",
     "output_type": "stream",
     "text": [
      "Epoch 59/100\n",
      "94/94 [==============================] - 0s 1ms/step - loss: 0.0967 - accuracy: 0.9718 - val_loss: 0.1832 - val_accuracy: 0.9525\n",
      "Epoch 60/100\n",
      "94/94 [==============================] - 0s 1ms/step - loss: 0.0962 - accuracy: 0.9724 - val_loss: 0.1821 - val_accuracy: 0.9521\n",
      "Epoch 61/100\n",
      "94/94 [==============================] - 0s 1ms/step - loss: 0.0949 - accuracy: 0.9722 - val_loss: 0.1899 - val_accuracy: 0.9513\n",
      "Epoch 62/100\n",
      "94/94 [==============================] - 0s 1ms/step - loss: 0.0941 - accuracy: 0.9729 - val_loss: 0.1853 - val_accuracy: 0.9523\n",
      "Epoch 63/100\n",
      "94/94 [==============================] - 0s 1ms/step - loss: 0.0935 - accuracy: 0.9726 - val_loss: 0.1846 - val_accuracy: 0.9519\n",
      "Epoch 64/100\n",
      "94/94 [==============================] - 0s 1ms/step - loss: 0.0925 - accuracy: 0.9734 - val_loss: 0.1834 - val_accuracy: 0.9528\n",
      "Epoch 65/100\n",
      "94/94 [==============================] - 0s 1ms/step - loss: 0.0917 - accuracy: 0.9736 - val_loss: 0.1835 - val_accuracy: 0.9516\n",
      "Epoch 66/100\n",
      "94/94 [==============================] - 0s 1ms/step - loss: 0.0910 - accuracy: 0.9732 - val_loss: 0.1843 - val_accuracy: 0.9523\n",
      "Epoch 67/100\n",
      "94/94 [==============================] - 0s 1ms/step - loss: 0.0905 - accuracy: 0.9735 - val_loss: 0.1868 - val_accuracy: 0.9517\n",
      "Epoch 68/100\n",
      "94/94 [==============================] - 0s 1ms/step - loss: 0.0896 - accuracy: 0.9741 - val_loss: 0.1851 - val_accuracy: 0.9520\n",
      "Epoch 69/100\n",
      "94/94 [==============================] - 0s 1ms/step - loss: 0.0893 - accuracy: 0.9744 - val_loss: 0.1836 - val_accuracy: 0.9524\n",
      "Epoch 70/100\n",
      "94/94 [==============================] - 0s 1ms/step - loss: 0.0878 - accuracy: 0.9749 - val_loss: 0.1881 - val_accuracy: 0.9516\n",
      "Epoch 71/100\n",
      "94/94 [==============================] - 0s 1ms/step - loss: 0.0875 - accuracy: 0.9755 - val_loss: 0.1883 - val_accuracy: 0.9525\n",
      "Epoch 72/100\n",
      "94/94 [==============================] - 0s 1ms/step - loss: 0.0868 - accuracy: 0.9748 - val_loss: 0.1946 - val_accuracy: 0.9496\n",
      "Epoch 73/100\n",
      "94/94 [==============================] - 0s 1ms/step - loss: 0.0862 - accuracy: 0.9754 - val_loss: 0.1851 - val_accuracy: 0.9523\n",
      "Epoch 74/100\n",
      "94/94 [==============================] - 0s 1ms/step - loss: 0.0858 - accuracy: 0.9751 - val_loss: 0.1851 - val_accuracy: 0.9525\n",
      "Epoch 75/100\n",
      "94/94 [==============================] - 0s 1ms/step - loss: 0.0850 - accuracy: 0.9757 - val_loss: 0.1871 - val_accuracy: 0.9523\n",
      "Epoch 76/100\n",
      "94/94 [==============================] - 0s 1ms/step - loss: 0.0846 - accuracy: 0.9758 - val_loss: 0.1868 - val_accuracy: 0.9528\n",
      "Epoch 77/100\n",
      "94/94 [==============================] - 0s 1ms/step - loss: 0.0840 - accuracy: 0.9761 - val_loss: 0.1859 - val_accuracy: 0.9524\n",
      "Epoch 78/100\n",
      "94/94 [==============================] - 0s 1ms/step - loss: 0.0827 - accuracy: 0.9762 - val_loss: 0.1900 - val_accuracy: 0.9507\n",
      "Epoch 79/100\n",
      "94/94 [==============================] - 0s 1ms/step - loss: 0.0828 - accuracy: 0.9759 - val_loss: 0.1902 - val_accuracy: 0.9516\n",
      "Epoch 80/100\n",
      "94/94 [==============================] - 0s 1ms/step - loss: 0.0827 - accuracy: 0.9757 - val_loss: 0.1898 - val_accuracy: 0.9517\n",
      "Epoch 81/100\n",
      "94/94 [==============================] - 0s 1ms/step - loss: 0.0813 - accuracy: 0.9764 - val_loss: 0.1932 - val_accuracy: 0.9508\n",
      "Epoch 82/100\n",
      "94/94 [==============================] - 0s 1ms/step - loss: 0.0805 - accuracy: 0.9767 - val_loss: 0.1896 - val_accuracy: 0.9531\n",
      "Epoch 83/100\n",
      "94/94 [==============================] - 0s 1ms/step - loss: 0.0803 - accuracy: 0.9769 - val_loss: 0.1875 - val_accuracy: 0.9529\n",
      "Epoch 84/100\n",
      "94/94 [==============================] - 0s 1ms/step - loss: 0.0794 - accuracy: 0.9769 - val_loss: 0.1917 - val_accuracy: 0.9517\n",
      "Epoch 85/100\n",
      "94/94 [==============================] - 0s 1ms/step - loss: 0.0792 - accuracy: 0.9778 - val_loss: 0.1915 - val_accuracy: 0.9521\n",
      "Epoch 86/100\n",
      "94/94 [==============================] - 0s 1ms/step - loss: 0.0783 - accuracy: 0.9776 - val_loss: 0.1925 - val_accuracy: 0.9531\n",
      "Epoch 87/100\n",
      "94/94 [==============================] - 0s 1ms/step - loss: 0.0786 - accuracy: 0.9775 - val_loss: 0.1942 - val_accuracy: 0.9517\n",
      "Epoch 88/100\n",
      "94/94 [==============================] - 0s 1ms/step - loss: 0.0770 - accuracy: 0.9780 - val_loss: 0.1942 - val_accuracy: 0.9522\n",
      "Epoch 89/100\n",
      "94/94 [==============================] - 0s 1ms/step - loss: 0.0772 - accuracy: 0.9772 - val_loss: 0.1924 - val_accuracy: 0.9516\n",
      "Epoch 90/100\n",
      "94/94 [==============================] - 0s 1ms/step - loss: 0.0763 - accuracy: 0.9778 - val_loss: 0.1954 - val_accuracy: 0.9521\n",
      "Epoch 91/100\n",
      "94/94 [==============================] - 0s 1ms/step - loss: 0.0757 - accuracy: 0.9785 - val_loss: 0.1973 - val_accuracy: 0.9513\n",
      "Epoch 92/100\n",
      "94/94 [==============================] - 0s 1ms/step - loss: 0.0754 - accuracy: 0.9777 - val_loss: 0.1971 - val_accuracy: 0.9523\n",
      "Epoch 93/100\n",
      "94/94 [==============================] - 0s 1ms/step - loss: 0.0750 - accuracy: 0.9786 - val_loss: 0.1979 - val_accuracy: 0.9523\n",
      "Epoch 94/100\n",
      "94/94 [==============================] - 0s 1ms/step - loss: 0.0743 - accuracy: 0.9785 - val_loss: 0.1989 - val_accuracy: 0.9507\n",
      "Epoch 95/100\n",
      "94/94 [==============================] - 0s 1ms/step - loss: 0.0735 - accuracy: 0.9790 - val_loss: 0.1983 - val_accuracy: 0.9498\n",
      "Epoch 96/100\n",
      "94/94 [==============================] - 0s 1ms/step - loss: 0.0734 - accuracy: 0.9783 - val_loss: 0.2056 - val_accuracy: 0.9503\n",
      "Epoch 97/100\n",
      "94/94 [==============================] - 0s 1ms/step - loss: 0.0730 - accuracy: 0.9788 - val_loss: 0.1978 - val_accuracy: 0.9519\n",
      "Epoch 98/100\n",
      "94/94 [==============================] - 0s 1ms/step - loss: 0.0720 - accuracy: 0.9786 - val_loss: 0.1973 - val_accuracy: 0.9513\n",
      "Epoch 99/100\n",
      "94/94 [==============================] - 0s 1ms/step - loss: 0.0719 - accuracy: 0.9796 - val_loss: 0.2075 - val_accuracy: 0.9499\n",
      "Epoch 100/100\n",
      "94/94 [==============================] - 0s 1ms/step - loss: 0.0712 - accuracy: 0.9793 - val_loss: 0.2036 - val_accuracy: 0.9504\n"
     ]
    }
   ],
   "source": [
    "## I now fit the model, and store the training history\n",
    "## I use 100 epochs and a batch_size of 512\n",
    "n_epochs = 100\n",
    "batch_size = 512\n",
    "history = model.fit(X_train_train, to_categorical(y_train_train),\n",
    "                        epochs = n_epochs,\n",
    "                        batch_size = batch_size,\n",
    "                        validation_data = (X_val, to_categorical(y_val)))"
   ]
  },
  {
   "cell_type": "markdown",
   "metadata": {},
   "source": [
    "##### 5. Examine epoch history loss and accuracy\n",
    "\n",
    "The data stored in `history` includes a dictionary with epoch information on both the training and validation losses and accuracies."
   ]
  },
  {
   "cell_type": "code",
   "execution_count": 14,
   "metadata": {
    "scrolled": true
   },
   "outputs": [
    {
     "data": {
      "text/plain": [
       "[0.7645556926727295,\n",
       " 0.4448933005332947,\n",
       " 0.3521578311920166,\n",
       " 0.3167884647846222,\n",
       " 0.2927214503288269,\n",
       " 0.2681025564670563,\n",
       " 0.25796812772750854,\n",
       " 0.24807439744472504,\n",
       " 0.23824477195739746,\n",
       " 0.2301057130098343,\n",
       " 0.2228074073791504,\n",
       " 0.22054068744182587,\n",
       " 0.21609720587730408,\n",
       " 0.20825150609016418,\n",
       " 0.20880818367004395,\n",
       " 0.20395928621292114,\n",
       " 0.20516815781593323,\n",
       " 0.20149242877960205,\n",
       " 0.20382153987884521,\n",
       " 0.19463226199150085,\n",
       " 0.19181062281131744,\n",
       " 0.1911989152431488,\n",
       " 0.19504596292972565,\n",
       " 0.18963932991027832,\n",
       " 0.18778681755065918,\n",
       " 0.18845272064208984,\n",
       " 0.18809908628463745,\n",
       " 0.19007712602615356,\n",
       " 0.1851789802312851,\n",
       " 0.18638545274734497,\n",
       " 0.18398715555667877,\n",
       " 0.18537651002407074,\n",
       " 0.1862040013074875,\n",
       " 0.19069460034370422,\n",
       " 0.18795502185821533,\n",
       " 0.18119896948337555,\n",
       " 0.18617910146713257,\n",
       " 0.18457840383052826,\n",
       " 0.18466487526893616,\n",
       " 0.1819932460784912,\n",
       " 0.18351539969444275,\n",
       " 0.18305037915706635,\n",
       " 0.18767870962619781,\n",
       " 0.18164144456386566,\n",
       " 0.18210996687412262,\n",
       " 0.18418562412261963,\n",
       " 0.18478025496006012,\n",
       " 0.1805904507637024,\n",
       " 0.1841004192829132,\n",
       " 0.1873062700033188,\n",
       " 0.18150898814201355,\n",
       " 0.1818114072084427,\n",
       " 0.18358156085014343,\n",
       " 0.18265099823474884,\n",
       " 0.18287843465805054,\n",
       " 0.18341709673404694,\n",
       " 0.18055574595928192,\n",
       " 0.17955976724624634,\n",
       " 0.18317914009094238,\n",
       " 0.18213596940040588,\n",
       " 0.18985310196876526,\n",
       " 0.18528234958648682,\n",
       " 0.18455427885055542,\n",
       " 0.18335039913654327,\n",
       " 0.18346865475177765,\n",
       " 0.18434275686740875,\n",
       " 0.18682929873466492,\n",
       " 0.1851445585489273,\n",
       " 0.1836223304271698,\n",
       " 0.18806657195091248,\n",
       " 0.18827268481254578,\n",
       " 0.19462834298610687,\n",
       " 0.18508833646774292,\n",
       " 0.18511073291301727,\n",
       " 0.18709079921245575,\n",
       " 0.1868336945772171,\n",
       " 0.18593792617321014,\n",
       " 0.19004188477993011,\n",
       " 0.19019848108291626,\n",
       " 0.18977050483226776,\n",
       " 0.19319026172161102,\n",
       " 0.18963368237018585,\n",
       " 0.18752674758434296,\n",
       " 0.19172273576259613,\n",
       " 0.1914641559123993,\n",
       " 0.19252191483974457,\n",
       " 0.19421334564685822,\n",
       " 0.19417956471443176,\n",
       " 0.19243305921554565,\n",
       " 0.19544480741024017,\n",
       " 0.19729356467723846,\n",
       " 0.19705215096473694,\n",
       " 0.19793014228343964,\n",
       " 0.19887320697307587,\n",
       " 0.19831067323684692,\n",
       " 0.20558443665504456,\n",
       " 0.1977628767490387,\n",
       " 0.197322815656662,\n",
       " 0.2075464278459549,\n",
       " 0.20355263352394104]"
      ]
     },
     "execution_count": 14,
     "metadata": {},
     "output_type": "execute_result"
    }
   ],
   "source": [
    "history.history['val_loss']"
   ]
  },
  {
   "cell_type": "code",
   "execution_count": 15,
   "metadata": {},
   "outputs": [],
   "source": [
    "history_dict = history.history"
   ]
  },
  {
   "cell_type": "code",
   "execution_count": 16,
   "metadata": {},
   "outputs": [
    {
     "name": "stdout",
     "output_type": "stream",
     "text": [
      "dict_keys(['loss', 'accuracy', 'val_loss', 'val_accuracy'])\n"
     ]
    }
   ],
   "source": [
    "print(history_dict.keys())"
   ]
  },
  {
   "cell_type": "code",
   "execution_count": 17,
   "metadata": {},
   "outputs": [
    {
     "data": {
      "image/png": "[encoded data removed]",
      "text/plain": [
       "<Figure size 1008x432 with 1 Axes>"
      ]
     },
     "metadata": {},
     "output_type": "display_data"
    },
    {
     "data": {
      "image/png": "[encoded data removed]",
      "text/plain": [
       "<Figure size 1008x432 with 1 Axes>"
      ]
     },
     "metadata": {},
     "output_type": "display_data"
    }
   ],
   "source": [
    "plt.figure(figsize = (14,6))\n",
    "\n",
    "plt.scatter(range(1,n_epochs+1), history_dict['accuracy'], label = \"Training Accuracy\")\n",
    "plt.scatter(range(1,n_epochs+1), history_dict['val_accuracy'], marker='v', label = \"Validation Set Accuracy\")\n",
    "\n",
    "plt.xlabel(\"Epoch\", fontsize=18)\n",
    "plt.ylabel(\"Accuracy\", fontsize=18)\n",
    "\n",
    "plt.xticks(fontsize=16)\n",
    "plt.yticks(fontsize=16)\n",
    "\n",
    "plt.legend(fontsize=18)\n",
    "\n",
    "plt.show()\n",
    "\n",
    "\n",
    "plt.figure(figsize = (14,6))\n",
    "\n",
    "plt.scatter(range(1,n_epochs+1), history_dict['loss'], label = \"Training Loss\")\n",
    "plt.scatter(range(1,n_epochs+1), history_dict['val_loss'], marker='v', label = \"Validation Set Loss\")\n",
    "\n",
    "plt.xlabel(\"Epoch\", fontsize=18)\n",
    "plt.ylabel(\"Loss Function Value\", fontsize=18)\n",
    "\n",
    "plt.xticks(fontsize=16)\n",
    "plt.yticks(fontsize=16)\n",
    "\n",
    "plt.legend(fontsize=18)\n",
    "\n",
    "plt.show()"
   ]
  },
  {
   "cell_type": "markdown",
   "metadata": {},
   "source": [
    "##### 6. Tuning the model architecture\n",
    "\n",
    "Looking at data like this can allow us to choose a training period, i.e. the number of epochs, for a neural network as well as compare performance across two different networks. Let's try a comparison to a second network."
   ]
  },
  {
   "cell_type": "code",
   "execution_count": 25,
   "metadata": {
    "scrolled": true
   },
   "outputs": [
    {
     "name": "stdout",
     "output_type": "stream",
     "text": [
      "Epoch 1/100\n",
      "94/94 [==============================] - 0s 3ms/step - loss: 0.9112 - accuracy: 0.7667 - val_loss: 0.4207 - val_accuracy: 0.8870\n",
      "Epoch 2/100\n",
      "94/94 [==============================] - 0s 2ms/step - loss: 0.3472 - accuracy: 0.9025 - val_loss: 0.3005 - val_accuracy: 0.9170\n",
      "Epoch 3/100\n",
      "94/94 [==============================] - 0s 1ms/step - loss: 0.2738 - accuracy: 0.9222 - val_loss: 0.2643 - val_accuracy: 0.9260\n",
      "Epoch 4/100\n",
      "94/94 [==============================] - 0s 2ms/step - loss: 0.2377 - accuracy: 0.9323 - val_loss: 0.2395 - val_accuracy: 0.9337\n",
      "Epoch 5/100\n",
      "94/94 [==============================] - 0s 1ms/step - loss: 0.2134 - accuracy: 0.9395 - val_loss: 0.2295 - val_accuracy: 0.9337\n",
      "Epoch 6/100\n",
      "94/94 [==============================] - 0s 1ms/step - loss: 0.1943 - accuracy: 0.9452 - val_loss: 0.2063 - val_accuracy: 0.9416\n",
      "Epoch 7/100\n",
      "94/94 [==============================] - 0s 1ms/step - loss: 0.1784 - accuracy: 0.9486 - val_loss: 0.1971 - val_accuracy: 0.9466\n",
      "Epoch 8/100\n",
      "94/94 [==============================] - 0s 1ms/step - loss: 0.1665 - accuracy: 0.9526 - val_loss: 0.1925 - val_accuracy: 0.9446\n",
      "Epoch 9/100\n",
      "94/94 [==============================] - 0s 1ms/step - loss: 0.1558 - accuracy: 0.9560 - val_loss: 0.1815 - val_accuracy: 0.9484\n",
      "Epoch 10/100\n",
      "94/94 [==============================] - 0s 1ms/step - loss: 0.1467 - accuracy: 0.9576 - val_loss: 0.1696 - val_accuracy: 0.9533\n",
      "Epoch 11/100\n",
      "94/94 [==============================] - 0s 1ms/step - loss: 0.1377 - accuracy: 0.9602 - val_loss: 0.1674 - val_accuracy: 0.9516\n",
      "Epoch 12/100\n",
      "94/94 [==============================] - 0s 1ms/step - loss: 0.1307 - accuracy: 0.9624 - val_loss: 0.1769 - val_accuracy: 0.9492\n",
      "Epoch 13/100\n",
      "94/94 [==============================] - 0s 1ms/step - loss: 0.1237 - accuracy: 0.9633 - val_loss: 0.1534 - val_accuracy: 0.9555\n",
      "Epoch 14/100\n",
      "94/94 [==============================] - 0s 1ms/step - loss: 0.1186 - accuracy: 0.9649 - val_loss: 0.1548 - val_accuracy: 0.9523\n",
      "Epoch 15/100\n",
      "94/94 [==============================] - 0s 1ms/step - loss: 0.1129 - accuracy: 0.9666 - val_loss: 0.1469 - val_accuracy: 0.9570\n",
      "Epoch 16/100\n",
      "94/94 [==============================] - 0s 1ms/step - loss: 0.1081 - accuracy: 0.9688 - val_loss: 0.1494 - val_accuracy: 0.9557\n",
      "Epoch 17/100\n",
      "94/94 [==============================] - 0s 1ms/step - loss: 0.1040 - accuracy: 0.9696 - val_loss: 0.1443 - val_accuracy: 0.9560\n",
      "Epoch 18/100\n",
      "94/94 [==============================] - 0s 1ms/step - loss: 0.0994 - accuracy: 0.9706 - val_loss: 0.1473 - val_accuracy: 0.9571\n",
      "Epoch 19/100\n",
      "94/94 [==============================] - 0s 1ms/step - loss: 0.0960 - accuracy: 0.9713 - val_loss: 0.1385 - val_accuracy: 0.9578\n",
      "Epoch 20/100\n",
      "94/94 [==============================] - 0s 1ms/step - loss: 0.0922 - accuracy: 0.9727 - val_loss: 0.1464 - val_accuracy: 0.9568\n",
      "Epoch 21/100\n",
      "94/94 [==============================] - 0s 2ms/step - loss: 0.0888 - accuracy: 0.9736 - val_loss: 0.1448 - val_accuracy: 0.9575\n",
      "Epoch 22/100\n",
      "94/94 [==============================] - 0s 2ms/step - loss: 0.0864 - accuracy: 0.9747 - val_loss: 0.1362 - val_accuracy: 0.9597\n",
      "Epoch 23/100\n",
      "94/94 [==============================] - 0s 1ms/step - loss: 0.0832 - accuracy: 0.9751 - val_loss: 0.1319 - val_accuracy: 0.9618\n",
      "Epoch 24/100\n",
      "94/94 [==============================] - 0s 1ms/step - loss: 0.0804 - accuracy: 0.9763 - val_loss: 0.1378 - val_accuracy: 0.9599\n",
      "Epoch 25/100\n",
      "94/94 [==============================] - 0s 1ms/step - loss: 0.0781 - accuracy: 0.9766 - val_loss: 0.1363 - val_accuracy: 0.9610\n",
      "Epoch 26/100\n",
      "94/94 [==============================] - 0s 1ms/step - loss: 0.0752 - accuracy: 0.9775 - val_loss: 0.1328 - val_accuracy: 0.9609\n",
      "Epoch 27/100\n",
      "94/94 [==============================] - 0s 1ms/step - loss: 0.0730 - accuracy: 0.9785 - val_loss: 0.1336 - val_accuracy: 0.9613\n",
      "Epoch 28/100\n",
      "94/94 [==============================] - 0s 1ms/step - loss: 0.0706 - accuracy: 0.9792 - val_loss: 0.1277 - val_accuracy: 0.9625\n",
      "Epoch 29/100\n",
      "94/94 [==============================] - 0s 1ms/step - loss: 0.0680 - accuracy: 0.9796 - val_loss: 0.1304 - val_accuracy: 0.9618\n",
      "Epoch 30/100\n",
      "94/94 [==============================] - 0s 2ms/step - loss: 0.0664 - accuracy: 0.9805 - val_loss: 0.1327 - val_accuracy: 0.9617\n",
      "Epoch 31/100\n",
      "94/94 [==============================] - 0s 2ms/step - loss: 0.0647 - accuracy: 0.9809 - val_loss: 0.1334 - val_accuracy: 0.9608\n",
      "Epoch 32/100\n",
      "94/94 [==============================] - 0s 1ms/step - loss: 0.0628 - accuracy: 0.9812 - val_loss: 0.1365 - val_accuracy: 0.9604\n",
      "Epoch 33/100\n",
      "94/94 [==============================] - 0s 1ms/step - loss: 0.0600 - accuracy: 0.9821 - val_loss: 0.1334 - val_accuracy: 0.9619\n",
      "Epoch 34/100\n",
      "94/94 [==============================] - 0s 1ms/step - loss: 0.0593 - accuracy: 0.9824 - val_loss: 0.1259 - val_accuracy: 0.9637\n",
      "Epoch 35/100\n",
      "94/94 [==============================] - 0s 1ms/step - loss: 0.0566 - accuracy: 0.9833 - val_loss: 0.1272 - val_accuracy: 0.9634\n",
      "Epoch 36/100\n",
      "94/94 [==============================] - 0s 1ms/step - loss: 0.0563 - accuracy: 0.9834 - val_loss: 0.1289 - val_accuracy: 0.9630\n",
      "Epoch 37/100\n",
      "94/94 [==============================] - 0s 1ms/step - loss: 0.0540 - accuracy: 0.9836 - val_loss: 0.1301 - val_accuracy: 0.9633\n",
      "Epoch 38/100\n",
      "94/94 [==============================] - 0s 2ms/step - loss: 0.0528 - accuracy: 0.9839 - val_loss: 0.1259 - val_accuracy: 0.9652\n",
      "Epoch 39/100\n",
      "94/94 [==============================] - 0s 1ms/step - loss: 0.0512 - accuracy: 0.9849 - val_loss: 0.1247 - val_accuracy: 0.9645\n",
      "Epoch 40/100\n",
      "94/94 [==============================] - 0s 1ms/step - loss: 0.0502 - accuracy: 0.9847 - val_loss: 0.1242 - val_accuracy: 0.9645\n",
      "Epoch 41/100\n",
      "94/94 [==============================] - 0s 1ms/step - loss: 0.0480 - accuracy: 0.9862 - val_loss: 0.1370 - val_accuracy: 0.9621\n",
      "Epoch 42/100\n",
      "94/94 [==============================] - 0s 1ms/step - loss: 0.0470 - accuracy: 0.9861 - val_loss: 0.1260 - val_accuracy: 0.9643\n",
      "Epoch 43/100\n",
      "94/94 [==============================] - 0s 1ms/step - loss: 0.0456 - accuracy: 0.9865 - val_loss: 0.1330 - val_accuracy: 0.9633\n",
      "Epoch 44/100\n",
      "94/94 [==============================] - 0s 1ms/step - loss: 0.0441 - accuracy: 0.9870 - val_loss: 0.1272 - val_accuracy: 0.9667\n",
      "Epoch 45/100\n",
      "94/94 [==============================] - 0s 1ms/step - loss: 0.0426 - accuracy: 0.9874 - val_loss: 0.1405 - val_accuracy: 0.9606\n",
      "Epoch 46/100\n",
      "94/94 [==============================] - 0s 1ms/step - loss: 0.0418 - accuracy: 0.9875 - val_loss: 0.1365 - val_accuracy: 0.9631\n",
      "Epoch 47/100\n",
      "94/94 [==============================] - 0s 1ms/step - loss: 0.0407 - accuracy: 0.9881 - val_loss: 0.1298 - val_accuracy: 0.9653\n",
      "Epoch 48/100\n",
      "94/94 [==============================] - 0s 1ms/step - loss: 0.0390 - accuracy: 0.9890 - val_loss: 0.1307 - val_accuracy: 0.9647\n",
      "Epoch 49/100\n",
      "94/94 [==============================] - 0s 1ms/step - loss: 0.0385 - accuracy: 0.9883 - val_loss: 0.1330 - val_accuracy: 0.9639\n",
      "Epoch 50/100\n",
      "94/94 [==============================] - 0s 1ms/step - loss: 0.0375 - accuracy: 0.9893 - val_loss: 0.1351 - val_accuracy: 0.9636\n",
      "Epoch 51/100\n",
      "94/94 [==============================] - 0s 1ms/step - loss: 0.0365 - accuracy: 0.9896 - val_loss: 0.1373 - val_accuracy: 0.9635\n",
      "Epoch 52/100\n",
      "94/94 [==============================] - 0s 1ms/step - loss: 0.0359 - accuracy: 0.9896 - val_loss: 0.1413 - val_accuracy: 0.9619\n",
      "Epoch 53/100\n",
      "94/94 [==============================] - 0s 1ms/step - loss: 0.0348 - accuracy: 0.9903 - val_loss: 0.1336 - val_accuracy: 0.9634\n",
      "Epoch 54/100\n",
      "94/94 [==============================] - 0s 1ms/step - loss: 0.0336 - accuracy: 0.9902 - val_loss: 0.1398 - val_accuracy: 0.9638\n",
      "Epoch 55/100\n",
      "94/94 [==============================] - 0s 1ms/step - loss: 0.0322 - accuracy: 0.9911 - val_loss: 0.1340 - val_accuracy: 0.9639\n",
      "Epoch 56/100\n",
      "94/94 [==============================] - 0s 1ms/step - loss: 0.0318 - accuracy: 0.9910 - val_loss: 0.1419 - val_accuracy: 0.9617\n",
      "Epoch 57/100\n",
      "94/94 [==============================] - 0s 1ms/step - loss: 0.0305 - accuracy: 0.9912 - val_loss: 0.1394 - val_accuracy: 0.9642\n",
      "Epoch 58/100\n",
      "94/94 [==============================] - 0s 2ms/step - loss: 0.0298 - accuracy: 0.9919 - val_loss: 0.1397 - val_accuracy: 0.9631\n"
     ]
    },
    {
     "name": "stdout",
     "output_type": "stream",
     "text": [
      "Epoch 59/100\n",
      "94/94 [==============================] - 0s 1ms/step - loss: 0.0295 - accuracy: 0.9909 - val_loss: 0.1455 - val_accuracy: 0.9625\n",
      "Epoch 60/100\n",
      "94/94 [==============================] - 0s 1ms/step - loss: 0.0284 - accuracy: 0.9919 - val_loss: 0.1459 - val_accuracy: 0.9617\n",
      "Epoch 61/100\n",
      "94/94 [==============================] - 0s 1ms/step - loss: 0.0280 - accuracy: 0.9919 - val_loss: 0.1376 - val_accuracy: 0.9640\n",
      "Epoch 62/100\n",
      "94/94 [==============================] - 0s 1ms/step - loss: 0.0267 - accuracy: 0.9931 - val_loss: 0.1387 - val_accuracy: 0.9644\n",
      "Epoch 63/100\n",
      "94/94 [==============================] - 0s 1ms/step - loss: 0.0263 - accuracy: 0.9927 - val_loss: 0.1405 - val_accuracy: 0.9642\n",
      "Epoch 64/100\n",
      "94/94 [==============================] - 0s 1ms/step - loss: 0.0252 - accuracy: 0.9931 - val_loss: 0.1425 - val_accuracy: 0.9638\n",
      "Epoch 65/100\n",
      "94/94 [==============================] - 0s 1ms/step - loss: 0.0251 - accuracy: 0.9926 - val_loss: 0.1442 - val_accuracy: 0.9632\n",
      "Epoch 66/100\n",
      "94/94 [==============================] - 0s 2ms/step - loss: 0.0235 - accuracy: 0.9941 - val_loss: 0.1557 - val_accuracy: 0.9612\n",
      "Epoch 67/100\n",
      "94/94 [==============================] - 0s 2ms/step - loss: 0.0240 - accuracy: 0.9932 - val_loss: 0.1515 - val_accuracy: 0.9631\n",
      "Epoch 68/100\n",
      "94/94 [==============================] - 0s 1ms/step - loss: 0.0223 - accuracy: 0.9939 - val_loss: 0.1458 - val_accuracy: 0.9638\n",
      "Epoch 69/100\n",
      "94/94 [==============================] - 0s 1ms/step - loss: 0.0222 - accuracy: 0.9939 - val_loss: 0.1594 - val_accuracy: 0.9618\n",
      "Epoch 70/100\n",
      "94/94 [==============================] - 0s 1ms/step - loss: 0.0214 - accuracy: 0.9943 - val_loss: 0.1561 - val_accuracy: 0.9622\n",
      "Epoch 71/100\n",
      "94/94 [==============================] - 0s 1ms/step - loss: 0.0206 - accuracy: 0.9946 - val_loss: 0.1545 - val_accuracy: 0.9618\n",
      "Epoch 72/100\n",
      "94/94 [==============================] - 0s 1ms/step - loss: 0.0201 - accuracy: 0.9943 - val_loss: 0.1476 - val_accuracy: 0.9644\n",
      "Epoch 73/100\n",
      "94/94 [==============================] - 0s 2ms/step - loss: 0.0195 - accuracy: 0.9948 - val_loss: 0.1529 - val_accuracy: 0.9628\n",
      "Epoch 74/100\n",
      "94/94 [==============================] - 0s 1ms/step - loss: 0.0194 - accuracy: 0.9948 - val_loss: 0.1569 - val_accuracy: 0.9626\n",
      "Epoch 75/100\n",
      "94/94 [==============================] - 0s 1ms/step - loss: 0.0183 - accuracy: 0.9954 - val_loss: 0.1534 - val_accuracy: 0.9638\n",
      "Epoch 76/100\n",
      "94/94 [==============================] - 0s 1ms/step - loss: 0.0177 - accuracy: 0.9955 - val_loss: 0.1614 - val_accuracy: 0.9624\n",
      "Epoch 77/100\n",
      "94/94 [==============================] - 0s 1ms/step - loss: 0.0175 - accuracy: 0.9954 - val_loss: 0.1561 - val_accuracy: 0.9635\n",
      "Epoch 78/100\n",
      "94/94 [==============================] - 0s 1ms/step - loss: 0.0170 - accuracy: 0.9958 - val_loss: 0.1554 - val_accuracy: 0.9642\n",
      "Epoch 79/100\n",
      "94/94 [==============================] - 0s 1ms/step - loss: 0.0162 - accuracy: 0.9958 - val_loss: 0.1593 - val_accuracy: 0.9627\n",
      "Epoch 80/100\n",
      "94/94 [==============================] - 0s 1ms/step - loss: 0.0160 - accuracy: 0.9959 - val_loss: 0.1559 - val_accuracy: 0.9650\n",
      "Epoch 81/100\n",
      "94/94 [==============================] - 0s 1ms/step - loss: 0.0152 - accuracy: 0.9959 - val_loss: 0.1570 - val_accuracy: 0.9649\n",
      "Epoch 82/100\n",
      "94/94 [==============================] - 0s 1ms/step - loss: 0.0147 - accuracy: 0.9965 - val_loss: 0.1616 - val_accuracy: 0.9642\n",
      "Epoch 83/100\n",
      "94/94 [==============================] - 0s 2ms/step - loss: 0.0143 - accuracy: 0.9965 - val_loss: 0.1595 - val_accuracy: 0.9635\n",
      "Epoch 84/100\n",
      "94/94 [==============================] - 0s 1ms/step - loss: 0.0137 - accuracy: 0.9966 - val_loss: 0.1705 - val_accuracy: 0.9617\n",
      "Epoch 85/100\n",
      "94/94 [==============================] - 0s 2ms/step - loss: 0.0137 - accuracy: 0.9967 - val_loss: 0.1743 - val_accuracy: 0.9625\n",
      "Epoch 86/100\n",
      "94/94 [==============================] - 0s 1ms/step - loss: 0.0130 - accuracy: 0.9969 - val_loss: 0.1657 - val_accuracy: 0.9647\n",
      "Epoch 87/100\n",
      "94/94 [==============================] - 0s 2ms/step - loss: 0.0127 - accuracy: 0.9971 - val_loss: 0.1699 - val_accuracy: 0.9648\n",
      "Epoch 88/100\n",
      "94/94 [==============================] - 0s 1ms/step - loss: 0.0121 - accuracy: 0.9971 - val_loss: 0.1694 - val_accuracy: 0.9636\n",
      "Epoch 89/100\n",
      "94/94 [==============================] - 0s 1ms/step - loss: 0.0121 - accuracy: 0.9971 - val_loss: 0.1709 - val_accuracy: 0.9635\n",
      "Epoch 90/100\n",
      "94/94 [==============================] - 0s 1ms/step - loss: 0.0115 - accuracy: 0.9973 - val_loss: 0.1737 - val_accuracy: 0.9639\n",
      "Epoch 91/100\n",
      "94/94 [==============================] - 0s 1ms/step - loss: 0.0115 - accuracy: 0.9973 - val_loss: 0.1732 - val_accuracy: 0.9634\n",
      "Epoch 92/100\n",
      "94/94 [==============================] - 0s 1ms/step - loss: 0.0106 - accuracy: 0.9977 - val_loss: 0.1863 - val_accuracy: 0.9621\n",
      "Epoch 93/100\n",
      "94/94 [==============================] - 0s 1ms/step - loss: 0.0110 - accuracy: 0.9974 - val_loss: 0.1748 - val_accuracy: 0.9637\n",
      "Epoch 94/100\n",
      "94/94 [==============================] - 0s 1ms/step - loss: 0.0099 - accuracy: 0.9979 - val_loss: 0.1812 - val_accuracy: 0.9628\n",
      "Epoch 95/100\n",
      "94/94 [==============================] - 0s 2ms/step - loss: 0.0098 - accuracy: 0.9981 - val_loss: 0.1823 - val_accuracy: 0.9637\n",
      "Epoch 96/100\n",
      "94/94 [==============================] - 0s 2ms/step - loss: 0.0093 - accuracy: 0.9981 - val_loss: 0.1968 - val_accuracy: 0.9622\n",
      "Epoch 97/100\n",
      "94/94 [==============================] - 0s 1ms/step - loss: 0.0093 - accuracy: 0.9981 - val_loss: 0.1948 - val_accuracy: 0.9614\n",
      "Epoch 98/100\n",
      "94/94 [==============================] - 0s 2ms/step - loss: 0.0087 - accuracy: 0.9982 - val_loss: 0.1952 - val_accuracy: 0.9616\n",
      "Epoch 99/100\n",
      "94/94 [==============================] - 0s 2ms/step - loss: 0.0089 - accuracy: 0.9979 - val_loss: 0.1827 - val_accuracy: 0.9641\n",
      "Epoch 100/100\n",
      "94/94 [==============================] - 0s 2ms/step - loss: 0.0081 - accuracy: 0.9985 - val_loss: 0.1913 - val_accuracy: 0.9627\n"
     ]
    }
   ],
   "source": [
    "model2 = models.Sequential()\n",
    "\n",
    "model2.add(layers.Dense(32, activation='relu', input_shape=(28*28,)))\n",
    "model2.add(layers.Dense(32, activation='relu'))\n",
    "model2.add(layers.Dense(10, activation='softmax'))\n",
    "\n",
    "model2.compile(optimizer = 'rmsprop',\n",
    "                 loss = 'categorical_crossentropy',\n",
    "                 metrics = ['accuracy'])\n",
    "\n",
    "history2 = model2.fit(X_train_train,\n",
    "                       to_categorical(y_train_train),\n",
    "                       epochs = n_epochs,\n",
    "                       batch_size = batch_size,\n",
    "                       validation_data = (X_val, to_categorical(y_val)))\n",
    "\n",
    "history_dict2 = history2.history"
   ]
  },
  {
   "cell_type": "code",
   "execution_count": 26,
   "metadata": {},
   "outputs": [
    {
     "data": {
      "image/png": "[encoded data removed]",
      "text/plain": [
       "<Figure size 720x432 with 1 Axes>"
      ]
     },
     "metadata": {},
     "output_type": "display_data"
    },
    {
     "data": {
      "image/png": "[encoded data removed]",
      "text/plain": [
       "<Figure size 720x432 with 1 Axes>"
      ]
     },
     "metadata": {},
     "output_type": "display_data"
    }
   ],
   "source": [
    "plt.figure(figsize = (10,6))\n",
    "\n",
    "plt.scatter(range(1,n_epochs+1), history_dict['val_accuracy'], label = \"Neural Net 1 Val. Accuracy\")\n",
    "plt.scatter(range(1,n_epochs+1), history_dict2['val_accuracy'], marker='v', label = \"Neural Net 2 Val. Accuracy\")\n",
    "\n",
    "plt.xlabel(\"Epoch\", fontsize=18)\n",
    "plt.ylabel(\"Accuracy\", fontsize=18)\n",
    "\n",
    "plt.xticks(fontsize=16)\n",
    "plt.yticks(fontsize=16)\n",
    "\n",
    "plt.legend(fontsize=18)\n",
    "\n",
    "plt.show()\n",
    "\n",
    "plt.figure(figsize = (10,6))\n",
    "\n",
    "plt.scatter(range(1,n_epochs+1), history_dict['val_loss'], label = \"Neural Net 1 Val. Loss\")\n",
    "plt.scatter(range(1,n_epochs+1), history_dict2['val_loss'], marker='v', label = \"Neural Net 2 Val. Loss\")\n",
    "\n",
    "plt.xlabel(\"Epoch\", fontsize=18)\n",
    "plt.ylabel(\"Loss\", fontsize=18)\n",
    "\n",
    "plt.xticks(fontsize=16)\n",
    "plt.yticks(fontsize=16)\n",
    "\n",
    "plt.legend(fontsize=18)\n",
    "\n",
    "plt.show()"
   ]
  },
  {
   "cell_type": "markdown",
   "metadata": {},
   "source": [
    "##### 7. Selecting an architecture\n",
    "\n",
    "It looks like the 32 x 32 network edges out the 16 x 16. Let's find the epoch that resulted in the lowest validation loss and use that for our final model."
   ]
  },
  {
   "cell_type": "code",
   "execution_count": 27,
   "metadata": {},
   "outputs": [
    {
     "name": "stdout",
     "output_type": "stream",
     "text": [
      "The epoch that had the lowest model 2 validation loss was 40\n"
     ]
    }
   ],
   "source": [
    "print(\"The epoch that had the lowest model 2 validation loss was\",\n",
    "     range(1,n_epochs)[np.argmin(history_dict2['val_loss'])])"
   ]
  },
  {
   "cell_type": "code",
   "execution_count": 28,
   "metadata": {
    "scrolled": true
   },
   "outputs": [
    {
     "name": "stdout",
     "output_type": "stream",
     "text": [
      "Epoch 1/40\n",
      "118/118 [==============================] - 0s 2ms/step - loss: 0.7771 - accuracy: 0.7994 - val_loss: 0.3611 - val_accuracy: 0.8978\n",
      "Epoch 2/40\n",
      "118/118 [==============================] - 0s 1ms/step - loss: 0.3099 - accuracy: 0.9123 - val_loss: 0.2898 - val_accuracy: 0.9163\n",
      "Epoch 3/40\n",
      "118/118 [==============================] - 0s 1ms/step - loss: 0.2558 - accuracy: 0.9264 - val_loss: 0.2371 - val_accuracy: 0.9348\n",
      "Epoch 4/40\n",
      "118/118 [==============================] - 0s 1ms/step - loss: 0.2261 - accuracy: 0.9346 - val_loss: 0.2234 - val_accuracy: 0.9367\n",
      "Epoch 5/40\n",
      "118/118 [==============================] - 0s 1ms/step - loss: 0.2039 - accuracy: 0.9413 - val_loss: 0.1938 - val_accuracy: 0.9448\n",
      "Epoch 6/40\n",
      "118/118 [==============================] - 0s 2ms/step - loss: 0.1858 - accuracy: 0.9463 - val_loss: 0.1781 - val_accuracy: 0.9490\n",
      "Epoch 7/40\n",
      "118/118 [==============================] - 0s 1ms/step - loss: 0.1714 - accuracy: 0.9504 - val_loss: 0.2031 - val_accuracy: 0.9426\n",
      "Epoch 8/40\n",
      "118/118 [==============================] - 0s 1ms/step - loss: 0.1602 - accuracy: 0.9530 - val_loss: 0.1715 - val_accuracy: 0.9479\n",
      "Epoch 9/40\n",
      "118/118 [==============================] - 0s 2ms/step - loss: 0.1502 - accuracy: 0.9558 - val_loss: 0.1461 - val_accuracy: 0.9579\n",
      "Epoch 10/40\n",
      "118/118 [==============================] - 0s 1ms/step - loss: 0.1412 - accuracy: 0.9580 - val_loss: 0.1580 - val_accuracy: 0.9513\n",
      "Epoch 11/40\n",
      "118/118 [==============================] - 0s 2ms/step - loss: 0.1334 - accuracy: 0.9605 - val_loss: 0.1356 - val_accuracy: 0.9612\n",
      "Epoch 12/40\n",
      "118/118 [==============================] - 0s 2ms/step - loss: 0.1270 - accuracy: 0.9619 - val_loss: 0.1340 - val_accuracy: 0.9599\n",
      "Epoch 13/40\n",
      "118/118 [==============================] - 0s 2ms/step - loss: 0.1207 - accuracy: 0.9649 - val_loss: 0.1170 - val_accuracy: 0.9654\n",
      "Epoch 14/40\n",
      "118/118 [==============================] - 0s 1ms/step - loss: 0.1151 - accuracy: 0.9654 - val_loss: 0.1248 - val_accuracy: 0.9630\n",
      "Epoch 15/40\n",
      "118/118 [==============================] - 0s 2ms/step - loss: 0.1097 - accuracy: 0.9676 - val_loss: 0.1092 - val_accuracy: 0.9674\n",
      "Epoch 16/40\n",
      "118/118 [==============================] - 0s 2ms/step - loss: 0.1051 - accuracy: 0.9682 - val_loss: 0.1090 - val_accuracy: 0.9677\n",
      "Epoch 17/40\n",
      "118/118 [==============================] - 0s 1ms/step - loss: 0.1005 - accuracy: 0.9700 - val_loss: 0.1023 - val_accuracy: 0.9688\n",
      "Epoch 18/40\n",
      "118/118 [==============================] - 0s 1ms/step - loss: 0.0971 - accuracy: 0.9712 - val_loss: 0.1162 - val_accuracy: 0.9662\n",
      "Epoch 19/40\n",
      "118/118 [==============================] - 0s 2ms/step - loss: 0.0933 - accuracy: 0.9728 - val_loss: 0.0958 - val_accuracy: 0.9713\n",
      "Epoch 20/40\n",
      "118/118 [==============================] - 0s 1ms/step - loss: 0.0896 - accuracy: 0.9727 - val_loss: 0.0911 - val_accuracy: 0.9722\n",
      "Epoch 21/40\n",
      "118/118 [==============================] - 0s 1ms/step - loss: 0.0868 - accuracy: 0.9745 - val_loss: 0.0904 - val_accuracy: 0.9732\n",
      "Epoch 22/40\n",
      "118/118 [==============================] - 0s 1ms/step - loss: 0.0834 - accuracy: 0.9748 - val_loss: 0.0880 - val_accuracy: 0.9739\n",
      "Epoch 23/40\n",
      "118/118 [==============================] - 0s 1ms/step - loss: 0.0804 - accuracy: 0.9760 - val_loss: 0.0988 - val_accuracy: 0.9702\n",
      "Epoch 24/40\n",
      "118/118 [==============================] - 0s 2ms/step - loss: 0.0779 - accuracy: 0.9768 - val_loss: 0.0812 - val_accuracy: 0.9758\n",
      "Epoch 25/40\n",
      "118/118 [==============================] - 0s 2ms/step - loss: 0.0752 - accuracy: 0.9774 - val_loss: 0.0712 - val_accuracy: 0.9797\n",
      "Epoch 26/40\n",
      "118/118 [==============================] - 0s 2ms/step - loss: 0.0729 - accuracy: 0.9782 - val_loss: 0.0745 - val_accuracy: 0.9775\n",
      "Epoch 27/40\n",
      "118/118 [==============================] - 0s 2ms/step - loss: 0.0702 - accuracy: 0.9790 - val_loss: 0.0992 - val_accuracy: 0.9702\n",
      "Epoch 28/40\n",
      "118/118 [==============================] - 0s 2ms/step - loss: 0.0683 - accuracy: 0.9794 - val_loss: 0.0888 - val_accuracy: 0.9714\n",
      "Epoch 29/40\n",
      "118/118 [==============================] - 0s 2ms/step - loss: 0.0660 - accuracy: 0.9804 - val_loss: 0.0727 - val_accuracy: 0.9772\n",
      "Epoch 30/40\n",
      "118/118 [==============================] - 0s 2ms/step - loss: 0.0646 - accuracy: 0.9806 - val_loss: 0.0788 - val_accuracy: 0.9766\n",
      "Epoch 31/40\n",
      "118/118 [==============================] - 0s 1ms/step - loss: 0.0627 - accuracy: 0.9816 - val_loss: 0.0710 - val_accuracy: 0.9778\n",
      "Epoch 32/40\n",
      "118/118 [==============================] - 0s 1ms/step - loss: 0.0600 - accuracy: 0.9824 - val_loss: 0.0628 - val_accuracy: 0.9822\n",
      "Epoch 33/40\n",
      "118/118 [==============================] - 0s 1ms/step - loss: 0.0586 - accuracy: 0.9828 - val_loss: 0.0546 - val_accuracy: 0.9837\n",
      "Epoch 34/40\n",
      "118/118 [==============================] - 0s 1ms/step - loss: 0.0568 - accuracy: 0.9831 - val_loss: 0.0578 - val_accuracy: 0.9824\n",
      "Epoch 35/40\n",
      "118/118 [==============================] - 0s 2ms/step - loss: 0.0553 - accuracy: 0.9836 - val_loss: 0.0637 - val_accuracy: 0.9796\n",
      "Epoch 36/40\n",
      "118/118 [==============================] - 0s 2ms/step - loss: 0.0538 - accuracy: 0.9840 - val_loss: 0.0586 - val_accuracy: 0.9820\n",
      "Epoch 37/40\n",
      "118/118 [==============================] - 0s 2ms/step - loss: 0.0525 - accuracy: 0.9839 - val_loss: 0.0578 - val_accuracy: 0.9819\n",
      "Epoch 38/40\n",
      "118/118 [==============================] - 0s 2ms/step - loss: 0.0508 - accuracy: 0.9846 - val_loss: 0.0483 - val_accuracy: 0.9853\n",
      "Epoch 39/40\n",
      "118/118 [==============================] - 0s 2ms/step - loss: 0.0492 - accuracy: 0.9853 - val_loss: 0.0480 - val_accuracy: 0.9863\n",
      "Epoch 40/40\n",
      "118/118 [==============================] - 0s 2ms/step - loss: 0.0478 - accuracy: 0.9855 - val_loss: 0.0468 - val_accuracy: 0.9854\n"
     ]
    }
   ],
   "source": [
    "model3 = models.Sequential()\n",
    "\n",
    "model3.add(layers.Dense(32, activation='relu', input_shape=(28*28,)))\n",
    "model3.add(layers.Dense(32, activation='relu'))\n",
    "model3.add(layers.Dense(10, activation='softmax'))\n",
    "\n",
    "model3.compile(optimizer = 'rmsprop',\n",
    "                 loss = 'categorical_crossentropy',\n",
    "                 metrics = ['accuracy'])\n",
    "\n",
    "history3 = model3.fit(X_train,\n",
    "                       to_categorical(y_train),\n",
    "                       epochs = range(1,n_epochs+1)[np.argmin(history_dict2['val_loss'])],\n",
    "                       batch_size = 512,\n",
    "                       validation_data = (X_val, to_categorical(y_val)))\n",
    "\n",
    "history_dict3 = history3.history"
   ]
  },
  {
   "cell_type": "markdown",
   "metadata": {},
   "source": [
    "#### 8. Predicting on the validation set\n",
    "\n",
    "Let's now use this model to predict on the validation set. This is quite similar to the procedure you would follow in the `sklearn` setup."
   ]
  },
  {
   "cell_type": "code",
   "execution_count": 29,
   "metadata": {},
   "outputs": [
    {
     "data": {
      "text/plain": [
       "array([2.0248507e-09, 4.9395183e-08, 8.4892184e-11, 5.9538347e-06,\n",
       "       5.2253126e-06, 9.2280949e-08, 6.0654433e-11, 1.7205366e-05,\n",
       "       1.0922778e-06, 9.9997044e-01], dtype=float32)"
      ]
     },
     "execution_count": 29,
     "metadata": {},
     "output_type": "execute_result"
    }
   ],
   "source": [
    "model3.predict(X_val)[0,:]"
   ]
  },
  {
   "cell_type": "code",
   "execution_count": 30,
   "metadata": {},
   "outputs": [
    {
     "data": {
      "text/plain": [
       "9"
      ]
     },
     "execution_count": 30,
     "metadata": {},
     "output_type": "execute_result"
    }
   ],
   "source": [
    "y_val[0]"
   ]
  },
  {
   "cell_type": "markdown",
   "metadata": {},
   "source": [
    "Note that this produces a set of probabilities for each observation. For our prediction of an actual observation we can just choose the one with highest probability."
   ]
  },
  {
   "cell_type": "code",
   "execution_count": 31,
   "metadata": {},
   "outputs": [
    {
     "data": {
      "text/plain": [
       "array([9, 5, 2, ..., 3, 5, 0])"
      ]
     },
     "execution_count": 31,
     "metadata": {},
     "output_type": "execute_result"
    }
   ],
   "source": [
    "np.argmax(model2.predict(X_val), axis=1)"
   ]
  },
  {
   "cell_type": "code",
   "execution_count": 32,
   "metadata": {},
   "outputs": [],
   "source": [
    "from sklearn.metrics import accuracy_score"
   ]
  },
  {
   "cell_type": "code",
   "execution_count": 33,
   "metadata": {},
   "outputs": [
    {
     "data": {
      "text/plain": [
       "96.27"
      ]
     },
     "execution_count": 33,
     "metadata": {},
     "output_type": "execute_result"
    }
   ],
   "source": [
    "np.round(100*accuracy_score(y_val, np.argmax(model2.predict(X_val), axis=1)),2)"
   ]
  },
  {
   "cell_type": "markdown",
   "metadata": {},
   "source": [
    "--------------------------\n",
    "\n",
    "This notebook was written for the Erd&#337;s Institute C&#337;de Data Science Boot Camp by Matthew Osborne, Ph. D., 2022.\n",
    "\n",
    "Any potential redistributors must seek and receive permission from Matthew Tyler Osborne, Ph.D. prior to redistribution. Redistribution of the material contained in this repository is conditional on acknowledgement of Matthew Tyler Osborne, Ph.D.'s original authorship and sponsorship of the Erdős Institute as subject to the license (see License.md)"
   ]
  },
  {
   "cell_type": "code",
   "execution_count": null,
   "metadata": {},
   "outputs": [],
   "source": []
  }
 ],
 "metadata": {
  "kernelspec": {
   "display_name": "Python 3 (ipykernel)",
   "language": "python",
   "name": "python3"
  },
  "language_info": {
   "codemirror_mode": {
    "name": "ipython",
    "version": 3
   },
   "file_extension": ".py",
   "mimetype": "text/x-python",
   "name": "python",
   "nbconvert_exporter": "python",
   "pygments_lexer": "ipython3",
   "version": "3.9.9"
  }
 },
 "nbformat": 4,
 "nbformat_minor": 2
}
