{
 "cells": [
  {
   "cell_type": "markdown",
   "metadata": {},
   "source": [
    "# `keras`\n",
    "\n",
    "Let's now introduce a python package called `keras` which will provide us with greater versatility in building neural networks than `sklearn`.\n",
    "\n",
    "## What we will accomplish\n",
    "\n",
    "In this notebook we will\n",
    "- Introduce `keras`:\n",
    "    - Discuss how to install it,\n",
    "- Review its syntax and\n",
    "- Demonstrate how to build feed forward networks in `keras`."
   ]
  },
  {
   "cell_type": "code",
   "execution_count": 1,
   "metadata": {},
   "outputs": [],
   "source": [
    "## For data handling\n",
    "import pandas as pd\n",
    "import numpy as np\n",
    "\n",
    "## For plotting\n",
    "import matplotlib.pyplot as plt\n",
    "import seaborn as sns\n",
    "\n",
    "sns.set_style(\"darkgrid\")"
   ]
  },
  {
   "cell_type": "markdown",
   "metadata": {},
   "source": [
    "Moving forward we will be building our neural networks with `keras`.\n",
    "\n",
    "From their documentation:\n",
    "\n",
    "<blockquote>\n",
    "Keras is a deep learning API written in Python, running on top of the machine learning platform TensorFlow. It was developed with a focus on enabling fast experimentation. Being able to go from idea to result as fast as possible is key to doing good research.\n",
    "</blockquote>\n",
    "\n",
    "In this notebook we will lay out how to build feed forward multi-layer networks.\n",
    "\n",
    "For reference, this material is being built by looking at the `keras` documentation <a href=\"https://keras.io/about/\">https://keras.io/about/</a> and the book, <a href=\"https://github.com/letspython3x/Books/blob/master/Deep%20Learning%20with%20Python.pdf\">Deep Learning with Python</a>. In particular this notebook's content comes from chapters 3 and 4 of that text.\n",
    "\n",
    "## Installation\n",
    "\n",
    "You may not have `keras` installed on your computer at this point. Try and run the following code chunk."
   ]
  },
  {
   "cell_type": "code",
   "execution_count": 2,
   "metadata": {},
   "outputs": [
    {
     "name": "stdout",
     "output_type": "stream",
     "text": [
      "2.6.0\n"
     ]
    }
   ],
   "source": [
    "import keras\n",
    "\n",
    "# if the above did not work \n",
    "# uncomment and then try the below\n",
    "# from tensorflow import keras\n",
    "\n",
    "print(keras.__version__)"
   ]
  },
  {
   "cell_type": "markdown",
   "metadata": {},
   "source": [
    "If this ran for you, then you already have `keras` installed. For reference, the version of `keras` that I was running while writing this notebook was `2.6.0`.\n",
    "\n",
    "If you received an error while running that code chunk you likely need to install `keras` to move forward.\n",
    "\n",
    "##### Using `pip`\n",
    "\n",
    "If you use `pip` to install packages try running:\n",
    "\n",
    "`pip install keras`\n",
    "\n",
    "in your command line or terminal to install `keras`.\n",
    "\n",
    "##### Using `conda`\n",
    "\n",
    "If you use `conda` try what is recommended at this link, <a href=\"https://anaconda.org/conda-forge/keras\">https://anaconda.org/conda-forge/keras</a>.\n",
    "\n",
    "##### Apple M1 chip computers\n",
    "\n",
    "If you have an Apple computer with an M1 chip you may need extra help. Earlier in 2022 the `keras` package installation instructions did not yet play nicely with such hardware. Try performing a web search for relevant instructions.\n",
    "\n",
    "If you are unsure if you have an M1 chip, check with these instructions <a href=\"https://www.howtogeek.com/706226/how-to-check-if-your-mac-is-using-an-intel-or-apple-silicon-processor/\">https://www.howtogeek.com/706226/how-to-check-if-your-mac-is-using-an-intel-or-apple-silicon-processor/</a>."
   ]
  },
  {
   "cell_type": "markdown",
   "metadata": {},
   "source": [
    "## Building a neural net with `keras`\n",
    "\n",
    "### Classifying MNIST\n",
    "\n",
    "We will mimic our `sklearn` networks from the last notebook and build an MNIST classifier, using the `keras` version of the data."
   ]
  },
  {
   "cell_type": "code",
   "execution_count": 3,
   "metadata": {},
   "outputs": [],
   "source": [
    "## This imports datasets stored in keras\n",
    "from keras.datasets import mnist"
   ]
  },
  {
   "cell_type": "code",
   "execution_count": 4,
   "metadata": {},
   "outputs": [
    {
     "name": "stdout",
     "output_type": "stream",
     "text": [
      "og shape of X_train (60000, 28, 28)\n"
     ]
    }
   ],
   "source": [
    "## Here we load the data\n",
    "(X_train, y_train),(X_test, y_test) = mnist.load_data()\n",
    "\n",
    "print(\"og shape of X_train\", np.shape(X_train))"
   ]
  },
  {
   "cell_type": "markdown",
   "metadata": {},
   "source": [
    "##### Reshape the data to be a single column\n",
    "\n",
    "We will now reshape the data so that it has $60{,}000$ observations ($10{,}000$ for the test set) of $28\\times28$ pixels. This will give us a $60000 \\times 784$ $2$-D `numpy` array ($10000 \\times 784$ for the test set)."
   ]
  },
  {
   "cell_type": "code",
   "execution_count": 5,
   "metadata": {},
   "outputs": [
    {
     "name": "stdout",
     "output_type": "stream",
     "text": [
      "The new shape of X_train is (60000, 784)\n",
      "The new shape of X_test is (10000, 784)\n"
     ]
    }
   ],
   "source": [
    "X_train = X_train.reshape(-1,28*28)\n",
    "X_test = X_test.reshape(-1,28*28)\n",
    "\n",
    "print(\"The new shape of X_train is\", np.shape(X_train))\n",
    "print(\"The new shape of X_test is\", np.shape(X_test))\n",
    "\n",
    "X_train = X_train/255\n",
    "X_test = X_test/255"
   ]
  },
  {
   "cell_type": "markdown",
   "metadata": {},
   "source": [
    "### Building the networks\n",
    "\n",
    "We start by importing all of the necessary pieces. We will explain each piece as we need it."
   ]
  },
  {
   "cell_type": "code",
   "execution_count": 6,
   "metadata": {},
   "outputs": [],
   "source": [
    "## import things\n",
    "from keras import models\n",
    "from keras import layers\n",
    "from keras import optimizers\n",
    "from keras import losses\n",
    "from keras import metrics\n",
    "from keras.utils.np_utils import to_categorical\n",
    "\n",
    "# for earlier versions of keras run this instead\n",
    "# from keras.utils import to_categorical\n",
    "# instead of running\n",
    "# from keras.utils.np_utils import to_categorical\n",
    "# or look up the documentation for your version\n"
   ]
  },
  {
   "cell_type": "markdown",
   "metadata": {},
   "source": [
    "What we learned as feed forward networks in the last notebook are also called <i>dense</i> networks because they are fully connected graphs.\n",
    "\n",
    "We will now walk through the process of making a dense neural networks using `keras`.\n",
    "\n",
    "##### 1. Make an empty `model`"
   ]
  },
  {
   "cell_type": "code",
   "execution_count": 7,
   "metadata": {},
   "outputs": [],
   "source": [
    "## we first make an empty model\n",
    "## Sequential means we'll make a group\n",
    "## of a linear stack of layers\n",
    "model = models.Sequential()"
   ]
  },
  {
   "cell_type": "markdown",
   "metadata": {},
   "source": [
    "##### 2. Add the layers to the `model`\n",
    "\n",
    "We will build the following neural network architecture in this step.\n",
    "\n",
    "<img src=\"mnist_net.png\" width=\"70%\"></img>"
   ]
  },
  {
   "cell_type": "code",
   "execution_count": 8,
   "metadata": {},
   "outputs": [],
   "source": [
    "###### ONLY RUN THIS ONCE! ##########\n",
    "\n",
    "## you add a layer with .add()\n",
    "## A Dense layer means a fully connected feedforward layer\n",
    "## the 16 means the layer is 16 nodes tall\n",
    "## activation='relu' means the layer uses a relu activation function\n",
    "## the first layer needs to be told the shape of the input data\n",
    "model.add(layers.Dense(16, activation = 'relu', input_shape=(28*28,)))\n",
    "\n",
    "# we then add a second layer that is 16 nodes tall\n",
    "# and uses the relu activation function\n",
    "# note we don't need the input shape here, \n",
    "# it is inferred from the first layer's output\n",
    "model.add(layers.Dense(16, activation = 'relu'))\n",
    "\n",
    "\n",
    "# finally we add the output layer\n",
    "# this will have a single node, representing a probability\n",
    "# that the observation has positive sentiment\n",
    "# this is why the activation is a softmax\n",
    "# for more information on the softmax see the Practice Problems\n",
    "model.add(layers.Dense(10, activation = 'softmax'))"
   ]
  },
  {
   "cell_type": "code",
   "execution_count": 9,
   "metadata": {},
   "outputs": [
    {
     "name": "stdout",
     "output_type": "stream",
     "text": [
      "Model: \"sequential\"\n",
      "_________________________________________________________________\n",
      "Layer (type)                 Output Shape              Param #   \n",
      "=================================================================\n",
      "dense (Dense)                (None, 16)                12560     \n",
      "_________________________________________________________________\n",
      "dense_1 (Dense)              (None, 16)                272       \n",
      "_________________________________________________________________\n",
      "dense_2 (Dense)              (None, 10)                170       \n",
      "=================================================================\n",
      "Total params: 13,002\n",
      "Trainable params: 13,002\n",
      "Non-trainable params: 0\n",
      "_________________________________________________________________\n"
     ]
    }
   ],
   "source": [
    "model.summary()"
   ]
  },
  {
   "cell_type": "markdown",
   "metadata": {},
   "source": [
    "##### 3. Compile the model with an optimizer,  loss and metric\n",
    "\n",
    "The optimizer we use is `rmsprop`, this is an algorithm implemented by `keras` to perform the backpropagation step in fitting the neural network.\n",
    "\n",
    "The loss we use is `categorical_crossentropy` which stems from information theory, this is the \"cost function\" we discussed in notebook 3. This is a common and popular choice for classification problems. See the HW notebook for an explanation of crossentropy.\n",
    "\n",
    "The metric we use is simply `accuracy`.\n",
    "\n",
    "Note that there are more options for all three of these choices and if you are interested in seeing more check out the `keras` documentation, it has an excellent search bar. There is also the possibility to use your own custom inputs as well."
   ]
  },
  {
   "cell_type": "code",
   "execution_count": 10,
   "metadata": {},
   "outputs": [],
   "source": [
    "## we compile the network like so\n",
    "## call .compile\n",
    "## set our optimizer, optimizer='rmsprop'\n",
    "## set our loss, loss='categorical_crossentropy'\n",
    "## set our desired metrics, metrics=['accuracy']\n",
    "model.compile(optimizer='rmsprop', \n",
    "                 loss='categorical_crossentropy',\n",
    "                 metrics=['accuracy'])"
   ]
  },
  {
   "cell_type": "markdown",
   "metadata": {},
   "source": [
    "##### 4. Fit the model on the training data\n",
    "\n",
    "We fit our model on the training data, we'll look at $100$ epochs that use batch gradient descent with a batch size of `512` observations per batch.\n",
    "\n",
    "We first create a validation set, this will be additional input for the model."
   ]
  },
  {
   "cell_type": "code",
   "execution_count": 11,
   "metadata": {},
   "outputs": [],
   "source": [
    "## First make the validation set\n",
    "from sklearn.model_selection import train_test_split\n",
    "\n",
    "X_train_train,X_val,y_train_train,y_val = train_test_split(X_train, y_train,\n",
    "                                                          test_size=.2,\n",
    "                                                          shuffle=True,\n",
    "                                                          stratify=y_train,\n",
    "                                                          random_state=440)"
   ]
  },
  {
   "cell_type": "markdown",
   "metadata": {},
   "source": [
    "##### `to_categorical`\n",
    "\n",
    "In order for the desired output of our model to play nicely with the training and validation data we have to first turn each observation into a categorical output with the `keras` function `to_categorical`. Let's see what this does."
   ]
  },
  {
   "cell_type": "code",
   "execution_count": 12,
   "metadata": {},
   "outputs": [
    {
     "name": "stdout",
     "output_type": "stream",
     "text": [
      "[0 7 2 ... 4 8 5]\n",
      "\n",
      "\n",
      "\n",
      "\n",
      "[[1. 0. 0. ... 0. 0. 0.]\n",
      " [0. 0. 0. ... 1. 0. 0.]\n",
      " [0. 0. 1. ... 0. 0. 0.]\n",
      " ...\n",
      " [0. 0. 0. ... 0. 0. 0.]\n",
      " [0. 0. 0. ... 0. 1. 0.]\n",
      " [0. 0. 0. ... 0. 0. 0.]]\n"
     ]
    }
   ],
   "source": [
    "print(y_train_train)\n",
    "\n",
    "print(\"\\n\\n\\n\")\n",
    "\n",
    "print(to_categorical(y_train_train))"
   ]
  },
  {
   "cell_type": "code",
   "execution_count": 13,
   "metadata": {},
   "outputs": [
    {
     "name": "stdout",
     "output_type": "stream",
     "text": [
      "Epoch 1/100\n",
      " 1/94 [..............................] - ETA: 15s - loss: 2.2968 - accuracy: 0.1211"
     ]
    },
    {
     "name": "stderr",
     "output_type": "stream",
     "text": [
      "2022-05-06 13:47:12.638932: I tensorflow/compiler/mlir/mlir_graph_optimization_pass.cc:185] None of the MLIR Optimization Passes are enabled (registered 2)\n",
      "2022-05-06 13:47:12.639103: W tensorflow/core/platform/profile_utils/cpu_utils.cc:128] Failed to get CPU frequency: 0 Hz\n"
     ]
    },
    {
     "name": "stdout",
     "output_type": "stream",
     "text": [
      "94/94 [==============================] - 0s 2ms/step - loss: 1.2508 - accuracy: 0.6210 - val_loss: 0.7149 - val_accuracy: 0.8284\n",
      "Epoch 2/100\n",
      "94/94 [==============================] - 0s 2ms/step - loss: 0.5260 - accuracy: 0.8633 - val_loss: 0.4210 - val_accuracy: 0.8861\n",
      "Epoch 3/100\n",
      "94/94 [==============================] - 0s 2ms/step - loss: 0.3705 - accuracy: 0.8958 - val_loss: 0.3415 - val_accuracy: 0.9056\n",
      "Epoch 4/100\n",
      "94/94 [==============================] - 0s 2ms/step - loss: 0.3148 - accuracy: 0.9114 - val_loss: 0.3053 - val_accuracy: 0.9130\n",
      "Epoch 5/100\n",
      "94/94 [==============================] - 0s 2ms/step - loss: 0.2821 - accuracy: 0.9207 - val_loss: 0.2846 - val_accuracy: 0.9210\n",
      "Epoch 6/100\n",
      "94/94 [==============================] - 0s 2ms/step - loss: 0.2615 - accuracy: 0.9265 - val_loss: 0.2625 - val_accuracy: 0.9269\n",
      "Epoch 7/100\n",
      "94/94 [==============================] - 0s 2ms/step - loss: 0.2463 - accuracy: 0.9300 - val_loss: 0.2575 - val_accuracy: 0.9248\n",
      "Epoch 8/100\n",
      "94/94 [==============================] - 0s 2ms/step - loss: 0.2338 - accuracy: 0.9343 - val_loss: 0.2411 - val_accuracy: 0.9322\n",
      "Epoch 9/100\n",
      "94/94 [==============================] - 0s 2ms/step - loss: 0.2248 - accuracy: 0.9365 - val_loss: 0.2361 - val_accuracy: 0.9342\n",
      "Epoch 10/100\n",
      "94/94 [==============================] - 0s 2ms/step - loss: 0.2172 - accuracy: 0.9388 - val_loss: 0.2369 - val_accuracy: 0.9333\n",
      "Epoch 11/100\n",
      "94/94 [==============================] - 0s 2ms/step - loss: 0.2112 - accuracy: 0.9408 - val_loss: 0.2338 - val_accuracy: 0.9324\n",
      "Epoch 12/100\n",
      "94/94 [==============================] - 0s 2ms/step - loss: 0.2056 - accuracy: 0.9423 - val_loss: 0.2250 - val_accuracy: 0.9351\n",
      "Epoch 13/100\n",
      "94/94 [==============================] - 0s 2ms/step - loss: 0.2002 - accuracy: 0.9438 - val_loss: 0.2243 - val_accuracy: 0.9373\n",
      "Epoch 14/100\n",
      "94/94 [==============================] - 0s 2ms/step - loss: 0.1949 - accuracy: 0.9454 - val_loss: 0.2213 - val_accuracy: 0.9382\n",
      "Epoch 15/100\n",
      "94/94 [==============================] - 0s 2ms/step - loss: 0.1910 - accuracy: 0.9458 - val_loss: 0.2258 - val_accuracy: 0.9357\n",
      "Epoch 16/100\n",
      "94/94 [==============================] - 0s 2ms/step - loss: 0.1863 - accuracy: 0.9480 - val_loss: 0.2172 - val_accuracy: 0.9390\n",
      "Epoch 17/100\n",
      "94/94 [==============================] - 0s 2ms/step - loss: 0.1836 - accuracy: 0.9485 - val_loss: 0.2143 - val_accuracy: 0.9408\n",
      "Epoch 18/100\n",
      "94/94 [==============================] - 0s 2ms/step - loss: 0.1796 - accuracy: 0.9499 - val_loss: 0.2087 - val_accuracy: 0.9412\n",
      "Epoch 19/100\n",
      "94/94 [==============================] - 0s 2ms/step - loss: 0.1764 - accuracy: 0.9503 - val_loss: 0.2110 - val_accuracy: 0.9398\n",
      "Epoch 20/100\n",
      "94/94 [==============================] - 0s 2ms/step - loss: 0.1735 - accuracy: 0.9509 - val_loss: 0.2088 - val_accuracy: 0.9422\n",
      "Epoch 21/100\n",
      "94/94 [==============================] - 0s 2ms/step - loss: 0.1707 - accuracy: 0.9521 - val_loss: 0.2112 - val_accuracy: 0.9385\n",
      "Epoch 22/100\n",
      "94/94 [==============================] - 0s 2ms/step - loss: 0.1676 - accuracy: 0.9526 - val_loss: 0.2109 - val_accuracy: 0.9404\n",
      "Epoch 23/100\n",
      "94/94 [==============================] - 0s 2ms/step - loss: 0.1649 - accuracy: 0.9533 - val_loss: 0.2130 - val_accuracy: 0.9393\n",
      "Epoch 24/100\n",
      "94/94 [==============================] - 0s 2ms/step - loss: 0.1624 - accuracy: 0.9539 - val_loss: 0.2036 - val_accuracy: 0.9417\n",
      "Epoch 25/100\n",
      "94/94 [==============================] - 0s 2ms/step - loss: 0.1602 - accuracy: 0.9548 - val_loss: 0.2032 - val_accuracy: 0.9422\n",
      "Epoch 26/100\n",
      "94/94 [==============================] - 0s 2ms/step - loss: 0.1580 - accuracy: 0.9553 - val_loss: 0.2022 - val_accuracy: 0.9425\n",
      "Epoch 27/100\n",
      "94/94 [==============================] - 0s 2ms/step - loss: 0.1554 - accuracy: 0.9557 - val_loss: 0.2000 - val_accuracy: 0.9446\n",
      "Epoch 28/100\n",
      "94/94 [==============================] - 0s 2ms/step - loss: 0.1530 - accuracy: 0.9563 - val_loss: 0.2012 - val_accuracy: 0.9433\n",
      "Epoch 29/100\n",
      "94/94 [==============================] - 0s 2ms/step - loss: 0.1516 - accuracy: 0.9561 - val_loss: 0.2027 - val_accuracy: 0.9422\n",
      "Epoch 30/100\n",
      "94/94 [==============================] - 0s 2ms/step - loss: 0.1492 - accuracy: 0.9566 - val_loss: 0.2006 - val_accuracy: 0.9437\n",
      "Epoch 31/100\n",
      "94/94 [==============================] - 0s 2ms/step - loss: 0.1477 - accuracy: 0.9574 - val_loss: 0.1956 - val_accuracy: 0.9448\n",
      "Epoch 32/100\n",
      "94/94 [==============================] - 0s 2ms/step - loss: 0.1453 - accuracy: 0.9584 - val_loss: 0.1999 - val_accuracy: 0.9438\n",
      "Epoch 33/100\n",
      "94/94 [==============================] - 0s 2ms/step - loss: 0.1434 - accuracy: 0.9591 - val_loss: 0.1966 - val_accuracy: 0.9452\n",
      "Epoch 34/100\n",
      "94/94 [==============================] - 0s 2ms/step - loss: 0.1416 - accuracy: 0.9592 - val_loss: 0.2005 - val_accuracy: 0.9438\n",
      "Epoch 35/100\n",
      "94/94 [==============================] - 0s 2ms/step - loss: 0.1399 - accuracy: 0.9585 - val_loss: 0.1947 - val_accuracy: 0.9459\n",
      "Epoch 36/100\n",
      "94/94 [==============================] - 0s 2ms/step - loss: 0.1386 - accuracy: 0.9593 - val_loss: 0.1969 - val_accuracy: 0.9446\n",
      "Epoch 37/100\n",
      "94/94 [==============================] - 0s 2ms/step - loss: 0.1362 - accuracy: 0.9604 - val_loss: 0.1989 - val_accuracy: 0.9454\n",
      "Epoch 38/100\n",
      "94/94 [==============================] - 0s 2ms/step - loss: 0.1354 - accuracy: 0.9604 - val_loss: 0.1940 - val_accuracy: 0.9468\n",
      "Epoch 39/100\n",
      "94/94 [==============================] - 0s 2ms/step - loss: 0.1335 - accuracy: 0.9607 - val_loss: 0.2002 - val_accuracy: 0.9435\n",
      "Epoch 40/100\n",
      "94/94 [==============================] - 0s 2ms/step - loss: 0.1325 - accuracy: 0.9614 - val_loss: 0.1964 - val_accuracy: 0.9443\n",
      "Epoch 41/100\n",
      "94/94 [==============================] - 0s 2ms/step - loss: 0.1304 - accuracy: 0.9622 - val_loss: 0.1921 - val_accuracy: 0.9469\n",
      "Epoch 42/100\n",
      "94/94 [==============================] - 0s 2ms/step - loss: 0.1291 - accuracy: 0.9625 - val_loss: 0.1951 - val_accuracy: 0.9460\n",
      "Epoch 43/100\n",
      "94/94 [==============================] - 0s 2ms/step - loss: 0.1276 - accuracy: 0.9628 - val_loss: 0.1929 - val_accuracy: 0.9474\n",
      "Epoch 44/100\n",
      "94/94 [==============================] - 0s 2ms/step - loss: 0.1257 - accuracy: 0.9631 - val_loss: 0.1920 - val_accuracy: 0.9467\n",
      "Epoch 45/100\n",
      "94/94 [==============================] - 0s 2ms/step - loss: 0.1246 - accuracy: 0.9641 - val_loss: 0.1911 - val_accuracy: 0.9475\n",
      "Epoch 46/100\n",
      "94/94 [==============================] - 0s 2ms/step - loss: 0.1229 - accuracy: 0.9639 - val_loss: 0.1944 - val_accuracy: 0.9463\n",
      "Epoch 47/100\n",
      "94/94 [==============================] - 0s 2ms/step - loss: 0.1217 - accuracy: 0.9647 - val_loss: 0.1875 - val_accuracy: 0.9480\n",
      "Epoch 48/100\n",
      "94/94 [==============================] - 0s 2ms/step - loss: 0.1201 - accuracy: 0.9643 - val_loss: 0.1926 - val_accuracy: 0.9482\n",
      "Epoch 49/100\n",
      "94/94 [==============================] - 0s 2ms/step - loss: 0.1196 - accuracy: 0.9653 - val_loss: 0.1972 - val_accuracy: 0.9461\n",
      "Epoch 50/100\n",
      "94/94 [==============================] - 0s 2ms/step - loss: 0.1182 - accuracy: 0.9652 - val_loss: 0.1895 - val_accuracy: 0.9483\n",
      "Epoch 51/100\n",
      "94/94 [==============================] - 0s 2ms/step - loss: 0.1164 - accuracy: 0.9664 - val_loss: 0.1882 - val_accuracy: 0.9474\n",
      "Epoch 52/100\n",
      "94/94 [==============================] - 0s 2ms/step - loss: 0.1160 - accuracy: 0.9658 - val_loss: 0.2053 - val_accuracy: 0.9437\n",
      "Epoch 53/100\n",
      "94/94 [==============================] - 0s 2ms/step - loss: 0.1146 - accuracy: 0.9662 - val_loss: 0.1866 - val_accuracy: 0.9492\n",
      "Epoch 54/100\n",
      "94/94 [==============================] - 0s 2ms/step - loss: 0.1133 - accuracy: 0.9660 - val_loss: 0.1870 - val_accuracy: 0.9485\n",
      "Epoch 55/100\n",
      "94/94 [==============================] - 0s 2ms/step - loss: 0.1120 - accuracy: 0.9674 - val_loss: 0.1894 - val_accuracy: 0.9481\n",
      "Epoch 56/100\n",
      "94/94 [==============================] - 0s 2ms/step - loss: 0.1106 - accuracy: 0.9671 - val_loss: 0.1884 - val_accuracy: 0.9480\n",
      "Epoch 57/100\n",
      "94/94 [==============================] - 0s 2ms/step - loss: 0.1101 - accuracy: 0.9670 - val_loss: 0.1865 - val_accuracy: 0.9491\n",
      "Epoch 58/100\n",
      "94/94 [==============================] - 0s 2ms/step - loss: 0.1085 - accuracy: 0.9689 - val_loss: 0.1836 - val_accuracy: 0.9489\n"
     ]
    },
    {
     "name": "stdout",
     "output_type": "stream",
     "text": [
      "Epoch 59/100\n",
      "94/94 [==============================] - 0s 2ms/step - loss: 0.1074 - accuracy: 0.9685 - val_loss: 0.1912 - val_accuracy: 0.9482\n",
      "Epoch 60/100\n",
      "94/94 [==============================] - 0s 2ms/step - loss: 0.1057 - accuracy: 0.9684 - val_loss: 0.1965 - val_accuracy: 0.9457\n",
      "Epoch 61/100\n",
      "94/94 [==============================] - 0s 2ms/step - loss: 0.1054 - accuracy: 0.9688 - val_loss: 0.1854 - val_accuracy: 0.9504\n",
      "Epoch 62/100\n",
      "94/94 [==============================] - 0s 2ms/step - loss: 0.1047 - accuracy: 0.9692 - val_loss: 0.1863 - val_accuracy: 0.9500\n",
      "Epoch 63/100\n",
      "94/94 [==============================] - 0s 2ms/step - loss: 0.1034 - accuracy: 0.9696 - val_loss: 0.1818 - val_accuracy: 0.9506\n",
      "Epoch 64/100\n",
      "94/94 [==============================] - 0s 2ms/step - loss: 0.1025 - accuracy: 0.9699 - val_loss: 0.1854 - val_accuracy: 0.9508\n",
      "Epoch 65/100\n",
      "94/94 [==============================] - 0s 2ms/step - loss: 0.1012 - accuracy: 0.9707 - val_loss: 0.1844 - val_accuracy: 0.9500\n",
      "Epoch 66/100\n",
      "94/94 [==============================] - 0s 2ms/step - loss: 0.1008 - accuracy: 0.9704 - val_loss: 0.1878 - val_accuracy: 0.9488\n",
      "Epoch 67/100\n",
      "94/94 [==============================] - 0s 2ms/step - loss: 0.0997 - accuracy: 0.9708 - val_loss: 0.1879 - val_accuracy: 0.9493\n",
      "Epoch 68/100\n",
      "94/94 [==============================] - 0s 2ms/step - loss: 0.0986 - accuracy: 0.9710 - val_loss: 0.1847 - val_accuracy: 0.9504\n",
      "Epoch 69/100\n",
      "94/94 [==============================] - 0s 2ms/step - loss: 0.0978 - accuracy: 0.9711 - val_loss: 0.1813 - val_accuracy: 0.9514\n",
      "Epoch 70/100\n",
      "94/94 [==============================] - 0s 2ms/step - loss: 0.0968 - accuracy: 0.9721 - val_loss: 0.1859 - val_accuracy: 0.9497\n",
      "Epoch 71/100\n",
      "94/94 [==============================] - 0s 2ms/step - loss: 0.0969 - accuracy: 0.9720 - val_loss: 0.1876 - val_accuracy: 0.9492\n",
      "Epoch 72/100\n",
      "94/94 [==============================] - 0s 2ms/step - loss: 0.0952 - accuracy: 0.9725 - val_loss: 0.1879 - val_accuracy: 0.9485\n",
      "Epoch 73/100\n",
      "94/94 [==============================] - 0s 2ms/step - loss: 0.0945 - accuracy: 0.9725 - val_loss: 0.1840 - val_accuracy: 0.9502\n",
      "Epoch 74/100\n",
      "94/94 [==============================] - 0s 2ms/step - loss: 0.0937 - accuracy: 0.9723 - val_loss: 0.1821 - val_accuracy: 0.9500\n",
      "Epoch 75/100\n",
      "94/94 [==============================] - 0s 2ms/step - loss: 0.0928 - accuracy: 0.9729 - val_loss: 0.1849 - val_accuracy: 0.9508\n",
      "Epoch 76/100\n",
      "94/94 [==============================] - 0s 2ms/step - loss: 0.0923 - accuracy: 0.9732 - val_loss: 0.1905 - val_accuracy: 0.9481\n",
      "Epoch 77/100\n",
      "94/94 [==============================] - 0s 2ms/step - loss: 0.0915 - accuracy: 0.9734 - val_loss: 0.1833 - val_accuracy: 0.9493\n",
      "Epoch 78/100\n",
      "94/94 [==============================] - 0s 2ms/step - loss: 0.0909 - accuracy: 0.9729 - val_loss: 0.1855 - val_accuracy: 0.9489\n",
      "Epoch 79/100\n",
      "94/94 [==============================] - 0s 2ms/step - loss: 0.0904 - accuracy: 0.9735 - val_loss: 0.1926 - val_accuracy: 0.9483\n",
      "Epoch 80/100\n",
      "94/94 [==============================] - 0s 2ms/step - loss: 0.0896 - accuracy: 0.9738 - val_loss: 0.1849 - val_accuracy: 0.9502\n",
      "Epoch 81/100\n",
      "94/94 [==============================] - 0s 2ms/step - loss: 0.0887 - accuracy: 0.9746 - val_loss: 0.1852 - val_accuracy: 0.9500\n",
      "Epoch 82/100\n",
      "94/94 [==============================] - 0s 2ms/step - loss: 0.0879 - accuracy: 0.9737 - val_loss: 0.1858 - val_accuracy: 0.9499\n",
      "Epoch 83/100\n",
      "94/94 [==============================] - 0s 2ms/step - loss: 0.0876 - accuracy: 0.9744 - val_loss: 0.1887 - val_accuracy: 0.9489\n",
      "Epoch 84/100\n",
      "94/94 [==============================] - 0s 2ms/step - loss: 0.0873 - accuracy: 0.9746 - val_loss: 0.1916 - val_accuracy: 0.9481\n",
      "Epoch 85/100\n",
      "94/94 [==============================] - 0s 2ms/step - loss: 0.0859 - accuracy: 0.9754 - val_loss: 0.1832 - val_accuracy: 0.9494\n",
      "Epoch 86/100\n",
      "94/94 [==============================] - 0s 2ms/step - loss: 0.0855 - accuracy: 0.9751 - val_loss: 0.1953 - val_accuracy: 0.9480\n",
      "Epoch 87/100\n",
      "94/94 [==============================] - 0s 2ms/step - loss: 0.0853 - accuracy: 0.9744 - val_loss: 0.1853 - val_accuracy: 0.9496\n",
      "Epoch 88/100\n",
      "94/94 [==============================] - 0s 2ms/step - loss: 0.0841 - accuracy: 0.9750 - val_loss: 0.1894 - val_accuracy: 0.9489\n",
      "Epoch 89/100\n",
      "94/94 [==============================] - 0s 2ms/step - loss: 0.0839 - accuracy: 0.9758 - val_loss: 0.1840 - val_accuracy: 0.9504\n",
      "Epoch 90/100\n",
      "94/94 [==============================] - 0s 2ms/step - loss: 0.0830 - accuracy: 0.9757 - val_loss: 0.1883 - val_accuracy: 0.9497\n",
      "Epoch 91/100\n",
      "94/94 [==============================] - 0s 2ms/step - loss: 0.0831 - accuracy: 0.9755 - val_loss: 0.1890 - val_accuracy: 0.9493\n",
      "Epoch 92/100\n",
      "94/94 [==============================] - 0s 2ms/step - loss: 0.0823 - accuracy: 0.9757 - val_loss: 0.1855 - val_accuracy: 0.9503\n",
      "Epoch 93/100\n",
      "94/94 [==============================] - 0s 2ms/step - loss: 0.0811 - accuracy: 0.9761 - val_loss: 0.1841 - val_accuracy: 0.9502\n",
      "Epoch 94/100\n",
      "94/94 [==============================] - 0s 2ms/step - loss: 0.0810 - accuracy: 0.9762 - val_loss: 0.1870 - val_accuracy: 0.9491\n",
      "Epoch 95/100\n",
      "94/94 [==============================] - 0s 2ms/step - loss: 0.0803 - accuracy: 0.9768 - val_loss: 0.1849 - val_accuracy: 0.9511\n",
      "Epoch 96/100\n",
      "94/94 [==============================] - 0s 2ms/step - loss: 0.0801 - accuracy: 0.9768 - val_loss: 0.1891 - val_accuracy: 0.9493\n",
      "Epoch 97/100\n",
      "94/94 [==============================] - 0s 2ms/step - loss: 0.0793 - accuracy: 0.9766 - val_loss: 0.1865 - val_accuracy: 0.9499\n",
      "Epoch 98/100\n",
      "94/94 [==============================] - 0s 2ms/step - loss: 0.0788 - accuracy: 0.9771 - val_loss: 0.1850 - val_accuracy: 0.9508\n",
      "Epoch 99/100\n",
      "94/94 [==============================] - 0s 2ms/step - loss: 0.0782 - accuracy: 0.9776 - val_loss: 0.1856 - val_accuracy: 0.9503\n",
      "Epoch 100/100\n",
      "94/94 [==============================] - 0s 2ms/step - loss: 0.0778 - accuracy: 0.9771 - val_loss: 0.1895 - val_accuracy: 0.9508\n"
     ]
    }
   ],
   "source": [
    "## I now fit the model, and store the training history\n",
    "## I use 100 epochs and a batch_size of 512\n",
    "n_epochs = 100\n",
    "batch_size = 512\n",
    "\n",
    "\n",
    "\n",
    "history = model.fit(X_train_train, to_categorical(y_train_train),\n",
    "                       epochs = n_epochs,\n",
    "                       batch_size = batch_size,\n",
    "                       validation_data = (X_val, to_categorical(y_val)))"
   ]
  },
  {
   "cell_type": "markdown",
   "metadata": {},
   "source": [
    "##### 5. Examine epoch history loss and accuracy\n",
    "\n",
    "The data stored in `history` includes a dictionary with epoch information on both the training and validation losses and accuracies."
   ]
  },
  {
   "cell_type": "code",
   "execution_count": 14,
   "metadata": {},
   "outputs": [],
   "source": [
    "history_dict = history.history"
   ]
  },
  {
   "cell_type": "code",
   "execution_count": null,
   "metadata": {},
   "outputs": [],
   "source": []
  },
  {
   "cell_type": "code",
   "execution_count": 15,
   "metadata": {},
   "outputs": [
    {
     "name": "stdout",
     "output_type": "stream",
     "text": [
      "dict_keys(['loss', 'accuracy', 'val_loss', 'val_accuracy'])\n"
     ]
    }
   ],
   "source": [
    "print(history_dict.keys())"
   ]
  },
  {
   "cell_type": "code",
   "execution_count": 16,
   "metadata": {},
   "outputs": [
    {
     "data": {
      "image/png": "[encoded data removed]",
      "text/plain": [
       "<Figure size 1008x432 with 1 Axes>"
      ]
     },
     "metadata": {},
     "output_type": "display_data"
    },
    {
     "data": {
      "image/png": "[encoded data removed]",
      "text/plain": [
       "<Figure size 1008x432 with 1 Axes>"
      ]
     },
     "metadata": {},
     "output_type": "display_data"
    }
   ],
   "source": [
    "plt.figure(figsize = (14,6))\n",
    "\n",
    "plt.scatter(range(1,n_epochs+1), history_dict['accuracy'], label = \"Training Accuracy\")\n",
    "plt.scatter(range(1,n_epochs+1), history_dict['val_accuracy'], marker='v', label = \"Validation Set Accuracy\")\n",
    "\n",
    "plt.xlabel(\"Epoch\", fontsize=18)\n",
    "plt.ylabel(\"Accuracy\", fontsize=18)\n",
    "\n",
    "plt.xticks(fontsize=16)\n",
    "plt.yticks(fontsize=16)\n",
    "\n",
    "plt.legend(fontsize=18)\n",
    "\n",
    "plt.show()\n",
    "\n",
    "\n",
    "plt.figure(figsize = (14,6))\n",
    "\n",
    "plt.scatter(range(1,n_epochs+1), history_dict['loss'], label = \"Training Loss\")\n",
    "plt.scatter(range(1,n_epochs+1), history_dict['val_loss'], marker='v', label = \"Validation Set Loss\")\n",
    "\n",
    "plt.xlabel(\"Epoch\", fontsize=18)\n",
    "plt.ylabel(\"Loss Function Value\", fontsize=18)\n",
    "\n",
    "plt.xticks(fontsize=16)\n",
    "plt.yticks(fontsize=16)\n",
    "\n",
    "plt.legend(fontsize=18)\n",
    "\n",
    "plt.show()"
   ]
  },
  {
   "cell_type": "markdown",
   "metadata": {},
   "source": [
    "##### 6. Tuning the model architecture\n",
    "\n",
    "Looking at data like this can allow us to choose a training period, i.e. the number of epochs, for a neural network as well as compare performance across two different networks. Let's try a comparison to a second network."
   ]
  },
  {
   "cell_type": "code",
   "execution_count": 17,
   "metadata": {
    "scrolled": true
   },
   "outputs": [
    {
     "name": "stdout",
     "output_type": "stream",
     "text": [
      "Epoch 1/100\n",
      "94/94 [==============================] - 0s 3ms/step - loss: 0.8392 - accuracy: 0.7798 - val_loss: 0.4055 - val_accuracy: 0.8898\n",
      "Epoch 2/100\n",
      "94/94 [==============================] - 0s 2ms/step - loss: 0.3301 - accuracy: 0.9065 - val_loss: 0.2955 - val_accuracy: 0.9173\n",
      "Epoch 3/100\n",
      "94/94 [==============================] - 0s 2ms/step - loss: 0.2631 - accuracy: 0.9248 - val_loss: 0.2593 - val_accuracy: 0.9256\n",
      "Epoch 4/100\n",
      "94/94 [==============================] - 0s 2ms/step - loss: 0.2277 - accuracy: 0.9347 - val_loss: 0.2299 - val_accuracy: 0.9368\n",
      "Epoch 5/100\n",
      "94/94 [==============================] - 0s 2ms/step - loss: 0.2048 - accuracy: 0.9411 - val_loss: 0.2171 - val_accuracy: 0.9373\n",
      "Epoch 6/100\n",
      "94/94 [==============================] - 0s 2ms/step - loss: 0.1860 - accuracy: 0.9462 - val_loss: 0.1997 - val_accuracy: 0.9435\n",
      "Epoch 7/100\n",
      "94/94 [==============================] - 0s 2ms/step - loss: 0.1729 - accuracy: 0.9500 - val_loss: 0.1940 - val_accuracy: 0.9462\n",
      "Epoch 8/100\n",
      "94/94 [==============================] - 0s 2ms/step - loss: 0.1614 - accuracy: 0.9529 - val_loss: 0.1787 - val_accuracy: 0.9495\n",
      "Epoch 9/100\n",
      "94/94 [==============================] - 0s 2ms/step - loss: 0.1513 - accuracy: 0.9561 - val_loss: 0.1719 - val_accuracy: 0.9513\n",
      "Epoch 10/100\n",
      "94/94 [==============================] - 0s 2ms/step - loss: 0.1428 - accuracy: 0.9584 - val_loss: 0.1678 - val_accuracy: 0.9520\n",
      "Epoch 11/100\n",
      "94/94 [==============================] - 0s 2ms/step - loss: 0.1343 - accuracy: 0.9601 - val_loss: 0.1628 - val_accuracy: 0.9544\n",
      "Epoch 12/100\n",
      "94/94 [==============================] - 0s 2ms/step - loss: 0.1273 - accuracy: 0.9625 - val_loss: 0.1566 - val_accuracy: 0.9548\n",
      "Epoch 13/100\n",
      "94/94 [==============================] - 0s 2ms/step - loss: 0.1204 - accuracy: 0.9646 - val_loss: 0.1533 - val_accuracy: 0.9557\n",
      "Epoch 14/100\n",
      "94/94 [==============================] - 0s 2ms/step - loss: 0.1151 - accuracy: 0.9662 - val_loss: 0.1573 - val_accuracy: 0.9553\n",
      "Epoch 15/100\n",
      "94/94 [==============================] - 0s 2ms/step - loss: 0.1102 - accuracy: 0.9673 - val_loss: 0.1452 - val_accuracy: 0.9597\n",
      "Epoch 16/100\n",
      "94/94 [==============================] - 0s 2ms/step - loss: 0.1050 - accuracy: 0.9691 - val_loss: 0.1437 - val_accuracy: 0.9596\n",
      "Epoch 17/100\n",
      "94/94 [==============================] - 0s 2ms/step - loss: 0.1012 - accuracy: 0.9700 - val_loss: 0.1406 - val_accuracy: 0.9616\n",
      "Epoch 18/100\n",
      "94/94 [==============================] - 0s 2ms/step - loss: 0.0962 - accuracy: 0.9714 - val_loss: 0.1410 - val_accuracy: 0.9609\n",
      "Epoch 19/100\n",
      "94/94 [==============================] - 0s 2ms/step - loss: 0.0925 - accuracy: 0.9722 - val_loss: 0.1407 - val_accuracy: 0.9608\n",
      "Epoch 20/100\n",
      "94/94 [==============================] - 0s 2ms/step - loss: 0.0885 - accuracy: 0.9741 - val_loss: 0.1358 - val_accuracy: 0.9610\n",
      "Epoch 21/100\n",
      "94/94 [==============================] - 0s 2ms/step - loss: 0.0851 - accuracy: 0.9749 - val_loss: 0.1392 - val_accuracy: 0.9601\n",
      "Epoch 22/100\n",
      "94/94 [==============================] - 0s 2ms/step - loss: 0.0826 - accuracy: 0.9756 - val_loss: 0.1308 - val_accuracy: 0.9632\n",
      "Epoch 23/100\n",
      "94/94 [==============================] - 0s 2ms/step - loss: 0.0786 - accuracy: 0.9767 - val_loss: 0.1381 - val_accuracy: 0.9618\n",
      "Epoch 24/100\n",
      "94/94 [==============================] - 0s 2ms/step - loss: 0.0758 - accuracy: 0.9781 - val_loss: 0.1307 - val_accuracy: 0.9634\n",
      "Epoch 25/100\n",
      "94/94 [==============================] - 0s 2ms/step - loss: 0.0732 - accuracy: 0.9782 - val_loss: 0.1295 - val_accuracy: 0.9638\n",
      "Epoch 26/100\n",
      "94/94 [==============================] - 0s 2ms/step - loss: 0.0705 - accuracy: 0.9790 - val_loss: 0.1301 - val_accuracy: 0.9636\n",
      "Epoch 27/100\n",
      "94/94 [==============================] - 0s 2ms/step - loss: 0.0680 - accuracy: 0.9795 - val_loss: 0.1332 - val_accuracy: 0.9625\n",
      "Epoch 28/100\n",
      "94/94 [==============================] - 0s 2ms/step - loss: 0.0659 - accuracy: 0.9806 - val_loss: 0.1275 - val_accuracy: 0.9640\n",
      "Epoch 29/100\n",
      "94/94 [==============================] - 0s 2ms/step - loss: 0.0634 - accuracy: 0.9813 - val_loss: 0.1299 - val_accuracy: 0.9643\n",
      "Epoch 30/100\n",
      "94/94 [==============================] - 0s 2ms/step - loss: 0.0612 - accuracy: 0.9812 - val_loss: 0.1279 - val_accuracy: 0.9650\n",
      "Epoch 31/100\n",
      "94/94 [==============================] - 0s 2ms/step - loss: 0.0593 - accuracy: 0.9823 - val_loss: 0.1242 - val_accuracy: 0.9657\n",
      "Epoch 32/100\n",
      "94/94 [==============================] - 0s 2ms/step - loss: 0.0568 - accuracy: 0.9839 - val_loss: 0.1269 - val_accuracy: 0.9652\n",
      "Epoch 33/100\n",
      "94/94 [==============================] - 0s 2ms/step - loss: 0.0548 - accuracy: 0.9834 - val_loss: 0.1308 - val_accuracy: 0.9634\n",
      "Epoch 34/100\n",
      "94/94 [==============================] - 0s 2ms/step - loss: 0.0530 - accuracy: 0.9844 - val_loss: 0.1271 - val_accuracy: 0.9641\n",
      "Epoch 35/100\n",
      "94/94 [==============================] - 0s 2ms/step - loss: 0.0515 - accuracy: 0.9846 - val_loss: 0.1256 - val_accuracy: 0.9658\n",
      "Epoch 36/100\n",
      "94/94 [==============================] - 0s 2ms/step - loss: 0.0500 - accuracy: 0.9855 - val_loss: 0.1266 - val_accuracy: 0.9654\n",
      "Epoch 37/100\n",
      "94/94 [==============================] - 0s 2ms/step - loss: 0.0479 - accuracy: 0.9861 - val_loss: 0.1235 - val_accuracy: 0.9659\n",
      "Epoch 38/100\n",
      "94/94 [==============================] - 0s 2ms/step - loss: 0.0466 - accuracy: 0.9867 - val_loss: 0.1356 - val_accuracy: 0.9635\n",
      "Epoch 39/100\n",
      "94/94 [==============================] - 0s 2ms/step - loss: 0.0449 - accuracy: 0.9865 - val_loss: 0.1365 - val_accuracy: 0.9620\n",
      "Epoch 40/100\n",
      "94/94 [==============================] - 0s 2ms/step - loss: 0.0439 - accuracy: 0.9870 - val_loss: 0.1244 - val_accuracy: 0.9656\n",
      "Epoch 41/100\n",
      "94/94 [==============================] - 0s 2ms/step - loss: 0.0418 - accuracy: 0.9879 - val_loss: 0.1265 - val_accuracy: 0.9657\n",
      "Epoch 42/100\n",
      "94/94 [==============================] - 0s 2ms/step - loss: 0.0407 - accuracy: 0.9883 - val_loss: 0.1314 - val_accuracy: 0.9646\n",
      "Epoch 43/100\n",
      "94/94 [==============================] - 0s 2ms/step - loss: 0.0396 - accuracy: 0.9884 - val_loss: 0.1377 - val_accuracy: 0.9637\n",
      "Epoch 44/100\n",
      "94/94 [==============================] - 0s 2ms/step - loss: 0.0385 - accuracy: 0.9885 - val_loss: 0.1279 - val_accuracy: 0.9661\n",
      "Epoch 45/100\n",
      "94/94 [==============================] - 0s 2ms/step - loss: 0.0366 - accuracy: 0.9897 - val_loss: 0.1286 - val_accuracy: 0.9657\n",
      "Epoch 46/100\n",
      "94/94 [==============================] - 0s 2ms/step - loss: 0.0354 - accuracy: 0.9900 - val_loss: 0.1283 - val_accuracy: 0.9660\n",
      "Epoch 47/100\n",
      "94/94 [==============================] - 0s 2ms/step - loss: 0.0349 - accuracy: 0.9903 - val_loss: 0.1277 - val_accuracy: 0.9676\n",
      "Epoch 48/100\n",
      "94/94 [==============================] - 0s 2ms/step - loss: 0.0333 - accuracy: 0.9907 - val_loss: 0.1367 - val_accuracy: 0.9634\n",
      "Epoch 49/100\n",
      "94/94 [==============================] - 0s 2ms/step - loss: 0.0327 - accuracy: 0.9908 - val_loss: 0.1270 - val_accuracy: 0.9678\n",
      "Epoch 50/100\n",
      "94/94 [==============================] - 0s 2ms/step - loss: 0.0312 - accuracy: 0.9912 - val_loss: 0.1289 - val_accuracy: 0.9666\n",
      "Epoch 51/100\n",
      "94/94 [==============================] - 0s 2ms/step - loss: 0.0308 - accuracy: 0.9915 - val_loss: 0.1376 - val_accuracy: 0.9653\n",
      "Epoch 52/100\n",
      "94/94 [==============================] - 0s 2ms/step - loss: 0.0291 - accuracy: 0.9917 - val_loss: 0.1359 - val_accuracy: 0.9652\n",
      "Epoch 53/100\n",
      "94/94 [==============================] - 0s 2ms/step - loss: 0.0285 - accuracy: 0.9924 - val_loss: 0.1433 - val_accuracy: 0.9639\n",
      "Epoch 54/100\n",
      "94/94 [==============================] - 0s 2ms/step - loss: 0.0273 - accuracy: 0.9927 - val_loss: 0.1344 - val_accuracy: 0.9665\n",
      "Epoch 55/100\n",
      "94/94 [==============================] - 0s 2ms/step - loss: 0.0267 - accuracy: 0.9931 - val_loss: 0.1336 - val_accuracy: 0.9661\n",
      "Epoch 56/100\n",
      "94/94 [==============================] - 0s 2ms/step - loss: 0.0252 - accuracy: 0.9932 - val_loss: 0.1385 - val_accuracy: 0.9652\n",
      "Epoch 57/100\n",
      "94/94 [==============================] - 0s 2ms/step - loss: 0.0252 - accuracy: 0.9929 - val_loss: 0.1364 - val_accuracy: 0.9669\n",
      "Epoch 58/100\n",
      "94/94 [==============================] - 0s 2ms/step - loss: 0.0239 - accuracy: 0.9934 - val_loss: 0.1422 - val_accuracy: 0.9646\n"
     ]
    },
    {
     "name": "stdout",
     "output_type": "stream",
     "text": [
      "Epoch 59/100\n",
      "94/94 [==============================] - 0s 2ms/step - loss: 0.0235 - accuracy: 0.9936 - val_loss: 0.1366 - val_accuracy: 0.9661\n",
      "Epoch 60/100\n",
      "94/94 [==============================] - 0s 2ms/step - loss: 0.0228 - accuracy: 0.9938 - val_loss: 0.1382 - val_accuracy: 0.9670\n",
      "Epoch 61/100\n",
      "94/94 [==============================] - 0s 2ms/step - loss: 0.0220 - accuracy: 0.9942 - val_loss: 0.1411 - val_accuracy: 0.9653\n",
      "Epoch 62/100\n",
      "94/94 [==============================] - 0s 2ms/step - loss: 0.0214 - accuracy: 0.9945 - val_loss: 0.1378 - val_accuracy: 0.9673\n",
      "Epoch 63/100\n",
      "94/94 [==============================] - 0s 2ms/step - loss: 0.0203 - accuracy: 0.9946 - val_loss: 0.1415 - val_accuracy: 0.9675\n",
      "Epoch 64/100\n",
      "94/94 [==============================] - 0s 2ms/step - loss: 0.0201 - accuracy: 0.9946 - val_loss: 0.1457 - val_accuracy: 0.9667\n",
      "Epoch 65/100\n",
      "94/94 [==============================] - 0s 2ms/step - loss: 0.0192 - accuracy: 0.9951 - val_loss: 0.1413 - val_accuracy: 0.9674\n",
      "Epoch 66/100\n",
      "94/94 [==============================] - 0s 2ms/step - loss: 0.0183 - accuracy: 0.9952 - val_loss: 0.1512 - val_accuracy: 0.9668\n",
      "Epoch 67/100\n",
      "94/94 [==============================] - 0s 2ms/step - loss: 0.0176 - accuracy: 0.9956 - val_loss: 0.1492 - val_accuracy: 0.9648\n",
      "Epoch 68/100\n",
      "94/94 [==============================] - 0s 2ms/step - loss: 0.0173 - accuracy: 0.9957 - val_loss: 0.1500 - val_accuracy: 0.9648\n",
      "Epoch 69/100\n",
      "94/94 [==============================] - 0s 2ms/step - loss: 0.0173 - accuracy: 0.9957 - val_loss: 0.1471 - val_accuracy: 0.9662\n",
      "Epoch 70/100\n",
      "94/94 [==============================] - 0s 2ms/step - loss: 0.0158 - accuracy: 0.9962 - val_loss: 0.1485 - val_accuracy: 0.9657\n",
      "Epoch 71/100\n",
      "94/94 [==============================] - 0s 2ms/step - loss: 0.0157 - accuracy: 0.9964 - val_loss: 0.1659 - val_accuracy: 0.9637\n",
      "Epoch 72/100\n",
      "94/94 [==============================] - 0s 2ms/step - loss: 0.0152 - accuracy: 0.9962 - val_loss: 0.1564 - val_accuracy: 0.9650\n",
      "Epoch 73/100\n",
      "94/94 [==============================] - 0s 2ms/step - loss: 0.0144 - accuracy: 0.9964 - val_loss: 0.1554 - val_accuracy: 0.9665\n",
      "Epoch 74/100\n",
      "94/94 [==============================] - 0s 2ms/step - loss: 0.0144 - accuracy: 0.9964 - val_loss: 0.1536 - val_accuracy: 0.9671\n",
      "Epoch 75/100\n",
      "94/94 [==============================] - 0s 2ms/step - loss: 0.0136 - accuracy: 0.9968 - val_loss: 0.1575 - val_accuracy: 0.9668\n",
      "Epoch 76/100\n",
      "94/94 [==============================] - 0s 2ms/step - loss: 0.0129 - accuracy: 0.9968 - val_loss: 0.1563 - val_accuracy: 0.9661\n",
      "Epoch 77/100\n",
      "94/94 [==============================] - 0s 2ms/step - loss: 0.0122 - accuracy: 0.9973 - val_loss: 0.1604 - val_accuracy: 0.9664\n",
      "Epoch 78/100\n",
      "94/94 [==============================] - 0s 2ms/step - loss: 0.0122 - accuracy: 0.9971 - val_loss: 0.1617 - val_accuracy: 0.9669\n",
      "Epoch 79/100\n",
      "94/94 [==============================] - 0s 2ms/step - loss: 0.0117 - accuracy: 0.9975 - val_loss: 0.1658 - val_accuracy: 0.9675\n",
      "Epoch 80/100\n",
      "94/94 [==============================] - 0s 2ms/step - loss: 0.0113 - accuracy: 0.9974 - val_loss: 0.1759 - val_accuracy: 0.9633\n",
      "Epoch 81/100\n",
      "94/94 [==============================] - 0s 2ms/step - loss: 0.0103 - accuracy: 0.9979 - val_loss: 0.1648 - val_accuracy: 0.9654\n",
      "Epoch 82/100\n",
      "94/94 [==============================] - 0s 2ms/step - loss: 0.0104 - accuracy: 0.9975 - val_loss: 0.1670 - val_accuracy: 0.9651\n",
      "Epoch 83/100\n",
      "94/94 [==============================] - 0s 2ms/step - loss: 0.0101 - accuracy: 0.9977 - val_loss: 0.1760 - val_accuracy: 0.9628\n",
      "Epoch 84/100\n",
      "94/94 [==============================] - 0s 2ms/step - loss: 0.0098 - accuracy: 0.9976 - val_loss: 0.1743 - val_accuracy: 0.9654\n",
      "Epoch 85/100\n",
      "94/94 [==============================] - 0s 2ms/step - loss: 0.0092 - accuracy: 0.9980 - val_loss: 0.1774 - val_accuracy: 0.9646\n",
      "Epoch 86/100\n",
      "94/94 [==============================] - 0s 2ms/step - loss: 0.0087 - accuracy: 0.9982 - val_loss: 0.1848 - val_accuracy: 0.9635\n",
      "Epoch 87/100\n",
      "94/94 [==============================] - 0s 2ms/step - loss: 0.0086 - accuracy: 0.9982 - val_loss: 0.1809 - val_accuracy: 0.9643\n",
      "Epoch 88/100\n",
      "94/94 [==============================] - 0s 2ms/step - loss: 0.0086 - accuracy: 0.9980 - val_loss: 0.1764 - val_accuracy: 0.9665\n",
      "Epoch 89/100\n",
      "94/94 [==============================] - 0s 2ms/step - loss: 0.0078 - accuracy: 0.9985 - val_loss: 0.1802 - val_accuracy: 0.9653\n",
      "Epoch 90/100\n",
      "94/94 [==============================] - 0s 2ms/step - loss: 0.0079 - accuracy: 0.9983 - val_loss: 0.1866 - val_accuracy: 0.9659\n",
      "Epoch 91/100\n",
      "94/94 [==============================] - 0s 2ms/step - loss: 0.0071 - accuracy: 0.9985 - val_loss: 0.1916 - val_accuracy: 0.9639\n",
      "Epoch 92/100\n",
      "94/94 [==============================] - 0s 2ms/step - loss: 0.0071 - accuracy: 0.9986 - val_loss: 0.1839 - val_accuracy: 0.9652\n",
      "Epoch 93/100\n",
      "94/94 [==============================] - 0s 2ms/step - loss: 0.0069 - accuracy: 0.9987 - val_loss: 0.1873 - val_accuracy: 0.9634\n",
      "Epoch 94/100\n",
      "94/94 [==============================] - 0s 2ms/step - loss: 0.0066 - accuracy: 0.9987 - val_loss: 0.1899 - val_accuracy: 0.9642\n",
      "Epoch 95/100\n",
      "94/94 [==============================] - 0s 2ms/step - loss: 0.0065 - accuracy: 0.9987 - val_loss: 0.1897 - val_accuracy: 0.9647\n",
      "Epoch 96/100\n",
      "94/94 [==============================] - 0s 2ms/step - loss: 0.0059 - accuracy: 0.9989 - val_loss: 0.2000 - val_accuracy: 0.9629\n",
      "Epoch 97/100\n",
      "94/94 [==============================] - 0s 2ms/step - loss: 0.0060 - accuracy: 0.9989 - val_loss: 0.2022 - val_accuracy: 0.9640\n",
      "Epoch 98/100\n",
      "94/94 [==============================] - 0s 2ms/step - loss: 0.0057 - accuracy: 0.9989 - val_loss: 0.1971 - val_accuracy: 0.9648\n",
      "Epoch 99/100\n",
      "94/94 [==============================] - 0s 2ms/step - loss: 0.0054 - accuracy: 0.9991 - val_loss: 0.1962 - val_accuracy: 0.9649\n",
      "Epoch 100/100\n",
      "94/94 [==============================] - 0s 2ms/step - loss: 0.0051 - accuracy: 0.9991 - val_loss: 0.1974 - val_accuracy: 0.9656\n"
     ]
    }
   ],
   "source": [
    "model2 = models.Sequential()\n",
    "\n",
    "model2.add(layers.Dense(32, activation='relu', input_shape=(28*28,)))\n",
    "model2.add(layers.Dense(32, activation='relu'))\n",
    "model2.add(layers.Dense(10, activation='softmax'))\n",
    "\n",
    "model2.compile(optimizer = 'rmsprop',\n",
    "                 loss = 'categorical_crossentropy',\n",
    "                 metrics = ['accuracy'])\n",
    "\n",
    "history2 = model2.fit(X_train_train,\n",
    "                       to_categorical(y_train_train),\n",
    "                       epochs = n_epochs,\n",
    "                       batch_size = batch_size,\n",
    "                       validation_data = (X_val, to_categorical(y_val)))\n",
    "\n",
    "history_dict2 = history2.history"
   ]
  },
  {
   "cell_type": "code",
   "execution_count": 18,
   "metadata": {},
   "outputs": [
    {
     "data": {
      "image/png": "[encoded data removed]",
      "text/plain": [
       "<Figure size 720x432 with 1 Axes>"
      ]
     },
     "metadata": {},
     "output_type": "display_data"
    },
    {
     "data": {
      "image/png": "[encoded data removed]",
      "text/plain": [
       "<Figure size 720x432 with 1 Axes>"
      ]
     },
     "metadata": {},
     "output_type": "display_data"
    }
   ],
   "source": [
    "plt.figure(figsize = (10,6))\n",
    "\n",
    "plt.scatter(range(1,n_epochs+1), history_dict['val_accuracy'], label = \"Neural Net 1 Val. Accuracy\")\n",
    "plt.scatter(range(1,n_epochs+1), history_dict2['val_accuracy'], marker='v', label = \"Neural Net 2 Val. Accuracy\")\n",
    "\n",
    "plt.xlabel(\"Epoch\", fontsize=18)\n",
    "plt.ylabel(\"Accuracy\", fontsize=18)\n",
    "\n",
    "plt.xticks(fontsize=16)\n",
    "plt.yticks(fontsize=16)\n",
    "\n",
    "plt.legend(fontsize=18)\n",
    "\n",
    "plt.show()\n",
    "\n",
    "plt.figure(figsize = (10,6))\n",
    "\n",
    "plt.scatter(range(1,n_epochs+1), history_dict['val_loss'], label = \"Neural Net 1 Val. Loss\")\n",
    "plt.scatter(range(1,n_epochs+1), history_dict2['val_loss'], marker='v', label = \"Neural Net 2 Val. Loss\")\n",
    "\n",
    "plt.xlabel(\"Epoch\", fontsize=18)\n",
    "plt.ylabel(\"Loss\", fontsize=18)\n",
    "\n",
    "plt.xticks(fontsize=16)\n",
    "plt.yticks(fontsize=16)\n",
    "\n",
    "plt.legend(fontsize=18)\n",
    "\n",
    "plt.show()"
   ]
  },
  {
   "cell_type": "markdown",
   "metadata": {},
   "source": [
    "##### 7. Selecting an architecture\n",
    "\n",
    "It looks like the 32 x 32 network edges out the 16 x 16. Let's find the epoch that resulted in the lowest validation loss and use that for our final model."
   ]
  },
  {
   "cell_type": "code",
   "execution_count": 19,
   "metadata": {},
   "outputs": [
    {
     "name": "stdout",
     "output_type": "stream",
     "text": [
      "The epoch that had the lowest model 2 validation loss was 37\n"
     ]
    }
   ],
   "source": [
    "print(\"The epoch that had the lowest model 2 validation loss was\",\n",
    "     range(1,n_epochs+1)[np.argmin(history_dict2['val_loss'])])"
   ]
  },
  {
   "cell_type": "code",
   "execution_count": 20,
   "metadata": {},
   "outputs": [],
   "source": [
    "del model2"
   ]
  },
  {
   "cell_type": "code",
   "execution_count": 21,
   "metadata": {
    "scrolled": true
   },
   "outputs": [
    {
     "name": "stdout",
     "output_type": "stream",
     "text": [
      "Epoch 1/37\n",
      "118/118 [==============================] - 0s 2ms/step - loss: 0.7548 - accuracy: 0.7999 - val_loss: 0.3698 - val_accuracy: 0.8900\n",
      "Epoch 2/37\n",
      "118/118 [==============================] - 0s 2ms/step - loss: 0.3089 - accuracy: 0.9119 - val_loss: 0.2828 - val_accuracy: 0.9183\n",
      "Epoch 3/37\n",
      "118/118 [==============================] - 0s 2ms/step - loss: 0.2527 - accuracy: 0.9273 - val_loss: 0.2539 - val_accuracy: 0.9270\n",
      "Epoch 4/37\n",
      "118/118 [==============================] - 0s 2ms/step - loss: 0.2202 - accuracy: 0.9362 - val_loss: 0.2225 - val_accuracy: 0.9373\n",
      "Epoch 5/37\n",
      "118/118 [==============================] - 0s 2ms/step - loss: 0.1974 - accuracy: 0.9436 - val_loss: 0.2021 - val_accuracy: 0.9415\n",
      "Epoch 6/37\n",
      "118/118 [==============================] - 0s 2ms/step - loss: 0.1789 - accuracy: 0.9489 - val_loss: 0.1827 - val_accuracy: 0.9491\n",
      "Epoch 7/37\n",
      "118/118 [==============================] - 0s 2ms/step - loss: 0.1655 - accuracy: 0.9529 - val_loss: 0.1582 - val_accuracy: 0.9557\n",
      "Epoch 8/37\n",
      "118/118 [==============================] - 0s 2ms/step - loss: 0.1533 - accuracy: 0.9564 - val_loss: 0.1657 - val_accuracy: 0.9493\n",
      "Epoch 9/37\n",
      "118/118 [==============================] - 0s 2ms/step - loss: 0.1446 - accuracy: 0.9581 - val_loss: 0.1345 - val_accuracy: 0.9604\n",
      "Epoch 10/37\n",
      "118/118 [==============================] - 0s 2ms/step - loss: 0.1355 - accuracy: 0.9610 - val_loss: 0.1331 - val_accuracy: 0.9603\n",
      "Epoch 11/37\n",
      "118/118 [==============================] - 0s 2ms/step - loss: 0.1276 - accuracy: 0.9632 - val_loss: 0.1263 - val_accuracy: 0.9633\n",
      "Epoch 12/37\n",
      "118/118 [==============================] - 0s 2ms/step - loss: 0.1210 - accuracy: 0.9650 - val_loss: 0.1197 - val_accuracy: 0.9653\n",
      "Epoch 13/37\n",
      "118/118 [==============================] - 0s 2ms/step - loss: 0.1151 - accuracy: 0.9663 - val_loss: 0.1146 - val_accuracy: 0.9669\n",
      "Epoch 14/37\n",
      "118/118 [==============================] - 0s 2ms/step - loss: 0.1103 - accuracy: 0.9676 - val_loss: 0.1191 - val_accuracy: 0.9648\n",
      "Epoch 15/37\n",
      "118/118 [==============================] - 0s 2ms/step - loss: 0.1052 - accuracy: 0.9696 - val_loss: 0.1123 - val_accuracy: 0.9678\n",
      "Epoch 16/37\n",
      "118/118 [==============================] - 0s 2ms/step - loss: 0.1006 - accuracy: 0.9708 - val_loss: 0.0976 - val_accuracy: 0.9721\n",
      "Epoch 17/37\n",
      "118/118 [==============================] - 0s 2ms/step - loss: 0.0972 - accuracy: 0.9714 - val_loss: 0.0954 - val_accuracy: 0.9731\n",
      "Epoch 18/37\n",
      "118/118 [==============================] - 0s 2ms/step - loss: 0.0924 - accuracy: 0.9737 - val_loss: 0.0956 - val_accuracy: 0.9718\n",
      "Epoch 19/37\n",
      "118/118 [==============================] - 0s 2ms/step - loss: 0.0891 - accuracy: 0.9741 - val_loss: 0.0948 - val_accuracy: 0.9713\n",
      "Epoch 20/37\n",
      "118/118 [==============================] - 0s 2ms/step - loss: 0.0856 - accuracy: 0.9750 - val_loss: 0.0815 - val_accuracy: 0.9758\n",
      "Epoch 21/37\n",
      "118/118 [==============================] - 0s 2ms/step - loss: 0.0829 - accuracy: 0.9761 - val_loss: 0.0813 - val_accuracy: 0.9751\n",
      "Epoch 22/37\n",
      "118/118 [==============================] - 0s 2ms/step - loss: 0.0794 - accuracy: 0.9767 - val_loss: 0.0827 - val_accuracy: 0.9758\n",
      "Epoch 23/37\n",
      "118/118 [==============================] - 0s 2ms/step - loss: 0.0770 - accuracy: 0.9774 - val_loss: 0.0829 - val_accuracy: 0.9738\n",
      "Epoch 24/37\n",
      "118/118 [==============================] - 0s 2ms/step - loss: 0.0747 - accuracy: 0.9781 - val_loss: 0.0761 - val_accuracy: 0.9779\n",
      "Epoch 25/37\n",
      "118/118 [==============================] - 0s 2ms/step - loss: 0.0722 - accuracy: 0.9789 - val_loss: 0.0675 - val_accuracy: 0.9808\n",
      "Epoch 26/37\n",
      "118/118 [==============================] - 0s 2ms/step - loss: 0.0699 - accuracy: 0.9800 - val_loss: 0.0815 - val_accuracy: 0.9755\n",
      "Epoch 27/37\n",
      "118/118 [==============================] - 0s 2ms/step - loss: 0.0677 - accuracy: 0.9803 - val_loss: 0.0789 - val_accuracy: 0.9761\n",
      "Epoch 28/37\n",
      "118/118 [==============================] - 0s 2ms/step - loss: 0.0658 - accuracy: 0.9810 - val_loss: 0.0694 - val_accuracy: 0.9792\n",
      "Epoch 29/37\n",
      "118/118 [==============================] - 0s 2ms/step - loss: 0.0638 - accuracy: 0.9813 - val_loss: 0.0680 - val_accuracy: 0.9792\n",
      "Epoch 30/37\n",
      "118/118 [==============================] - 0s 2ms/step - loss: 0.0622 - accuracy: 0.9818 - val_loss: 0.0599 - val_accuracy: 0.9822\n",
      "Epoch 31/37\n",
      "118/118 [==============================] - 0s 2ms/step - loss: 0.0605 - accuracy: 0.9820 - val_loss: 0.0599 - val_accuracy: 0.9822\n",
      "Epoch 32/37\n",
      "118/118 [==============================] - 0s 2ms/step - loss: 0.0584 - accuracy: 0.9830 - val_loss: 0.0642 - val_accuracy: 0.9800\n",
      "Epoch 33/37\n",
      "118/118 [==============================] - 0s 2ms/step - loss: 0.0571 - accuracy: 0.9836 - val_loss: 0.0641 - val_accuracy: 0.9802\n",
      "Epoch 34/37\n",
      "118/118 [==============================] - 0s 2ms/step - loss: 0.0558 - accuracy: 0.9836 - val_loss: 0.0491 - val_accuracy: 0.9866\n",
      "Epoch 35/37\n",
      "118/118 [==============================] - 0s 2ms/step - loss: 0.0540 - accuracy: 0.9844 - val_loss: 0.0516 - val_accuracy: 0.9851\n",
      "Epoch 36/37\n",
      "118/118 [==============================] - 0s 2ms/step - loss: 0.0516 - accuracy: 0.9849 - val_loss: 0.0568 - val_accuracy: 0.9829\n",
      "Epoch 37/37\n",
      "118/118 [==============================] - 0s 2ms/step - loss: 0.0511 - accuracy: 0.9850 - val_loss: 0.0690 - val_accuracy: 0.9788\n"
     ]
    }
   ],
   "source": [
    "model2 = models.Sequential()\n",
    "\n",
    "model2.add(layers.Dense(32, activation='relu', input_shape=(28*28,)))\n",
    "model2.add(layers.Dense(32, activation='relu'))\n",
    "model2.add(layers.Dense(10, activation='softmax'))\n",
    "\n",
    "model2.compile(optimizer = 'rmsprop',\n",
    "                 loss = 'categorical_crossentropy',\n",
    "                 metrics = ['accuracy'])\n",
    "\n",
    "history2 = model2.fit(X_train,\n",
    "                       to_categorical(y_train),\n",
    "                       epochs = range(1,n_epochs+1)[np.argmin(history_dict2['val_loss'])],\n",
    "                       batch_size = 512,\n",
    "                       validation_data = (X_val, to_categorical(y_val)))\n",
    "\n",
    "history_dict2 = history2.history"
   ]
  },
  {
   "cell_type": "markdown",
   "metadata": {},
   "source": [
    "#### 8. Predicting on the validation set\n",
    "\n",
    "Let's now use this model to predict on the validation set. This is quite similar to the procedure you would follow in the `sklearn` setup."
   ]
  },
  {
   "cell_type": "code",
   "execution_count": 22,
   "metadata": {},
   "outputs": [
    {
     "data": {
      "text/plain": [
       "array([1.7784248e-10, 1.7386506e-09, 1.4742114e-06, 5.9003760e-05,\n",
       "       2.5228461e-05, 3.2940471e-07, 4.0135072e-15, 1.4924670e-04,\n",
       "       7.0046349e-06, 9.9975771e-01], dtype=float32)"
      ]
     },
     "execution_count": 22,
     "metadata": {},
     "output_type": "execute_result"
    }
   ],
   "source": [
    "model2.predict(X_val)[0,:]"
   ]
  },
  {
   "cell_type": "code",
   "execution_count": 23,
   "metadata": {},
   "outputs": [
    {
     "data": {
      "text/plain": [
       "9"
      ]
     },
     "execution_count": 23,
     "metadata": {},
     "output_type": "execute_result"
    }
   ],
   "source": [
    "y_val[0]"
   ]
  },
  {
   "cell_type": "markdown",
   "metadata": {},
   "source": [
    "Note that this produces a set of probabilities for each observation. For our prediction of an actual observation we can just choose the one with highest probability."
   ]
  },
  {
   "cell_type": "code",
   "execution_count": 24,
   "metadata": {},
   "outputs": [
    {
     "data": {
      "text/plain": [
       "array([9, 5, 6, ..., 3, 5, 0])"
      ]
     },
     "execution_count": 24,
     "metadata": {},
     "output_type": "execute_result"
    }
   ],
   "source": [
    "np.argmax(model2.predict(X_val), axis=1)"
   ]
  },
  {
   "cell_type": "code",
   "execution_count": 25,
   "metadata": {},
   "outputs": [],
   "source": [
    "from sklearn.metrics import accuracy_score"
   ]
  },
  {
   "cell_type": "code",
   "execution_count": 26,
   "metadata": {},
   "outputs": [
    {
     "data": {
      "text/plain": [
       "97.88"
      ]
     },
     "execution_count": 26,
     "metadata": {},
     "output_type": "execute_result"
    }
   ],
   "source": [
    "np.round(100*accuracy_score(y_val, np.argmax(model2.predict(X_val), axis=1)),2)"
   ]
  },
  {
   "cell_type": "markdown",
   "metadata": {},
   "source": [
    "--------------------------\n",
    "\n",
    "This notebook was written for the Erd&#337;s Institute C&#337;de Data Science Boot Camp by Matthew Osborne, Ph. D., 2022.\n",
    "\n",
    "Any potential redistributors must seek and receive permission from Matthew Tyler Osborne, Ph.D. prior to redistribution. Redistribution of the material contained in this repository is conditional on acknowledgement of Matthew Tyler Osborne, Ph.D.'s original authorship and sponsorship of the Erdős Institute as subject to the license (see License.md)"
   ]
  },
  {
   "cell_type": "code",
   "execution_count": null,
   "metadata": {},
   "outputs": [],
   "source": []
  }
 ],
 "metadata": {
  "kernelspec": {
   "display_name": "Python 3 (ipykernel)",
   "language": "python",
   "name": "python3"
  },
  "language_info": {
   "codemirror_mode": {
    "name": "ipython",
    "version": 3
   },
   "file_extension": ".py",
   "mimetype": "text/x-python",
   "name": "python",
   "nbconvert_exporter": "python",
   "pygments_lexer": "ipython3",
   "version": "3.9.9"
  }
 },
 "nbformat": 4,
 "nbformat_minor": 2
}
