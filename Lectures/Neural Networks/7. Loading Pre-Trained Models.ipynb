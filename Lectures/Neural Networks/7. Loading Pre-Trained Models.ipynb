{
 "cells": [
  {
   "cell_type": "markdown",
   "id": "1fa7277b",
   "metadata": {},
   "source": [
    "# Loading Pre-Trained Models\n",
    "\n",
    "Real world neural net models can take a long long long time to train. It is thus standard to save these models once they are fit and then load the fitted model at a later time.\n",
    "\n",
    "## What we will accomplish\n",
    "\n",
    "In this notebook we will:\n",
    "- Cover how to load a saved neural network model."
   ]
  },
  {
   "cell_type": "code",
   "execution_count": null,
   "id": "932035cc",
   "metadata": {},
   "outputs": [],
   "source": [
    "## For data handling\n",
    "import pandas as pd\n",
    "import numpy as np\n",
    "\n",
    "## For plotting\n",
    "import matplotlib.pyplot as plt\n",
    "from seaborn import set_style\n",
    "\n",
    "## This sets the plot style\n",
    "## to have a grid on a white background\n",
    "set_style(\"whitegrid\")"
   ]
  },
  {
   "cell_type": "markdown",
   "id": "38e170d9",
   "metadata": {},
   "source": [
    "## `keras` and `load_model`\n",
    "\n",
    "In the previous notebook we trained a recurrent neural network (RNN) to predict the sentiment of an IMDB movie review. This model did not take a long time to train, but many real-world models take a very long time to train. For example, the popular `Word2Vec` word embedding network took about a day to train.\n",
    "\n",
    "Such models are saved when the training step is complete and then they are reloaded anytime you want to use them.\n",
    "\n",
    "In `keras` a saved model can be loaded with `load_model`. Let's demonstrate this with the IMDB data set."
   ]
  },
  {
   "cell_type": "code",
   "execution_count": null,
   "id": "521a35c6",
   "metadata": {},
   "outputs": [],
   "source": [
    "## The data is stored in here\n",
    "from keras.datasets import imdb\n",
    "from keras.preprocessing import sequence"
   ]
  },
  {
   "cell_type": "code",
   "execution_count": null,
   "id": "df6bc80c",
   "metadata": {},
   "outputs": [],
   "source": [
    "## This will determine the number of vocab words in our\n",
    "## dictionary\n",
    "max_features = 10000\n",
    "\n",
    "## num_words tells keras to return the reviews so they contain only\n",
    "## the num_words most used words across all the reviews\n",
    "(X_train, y_train), (X_test,y_test) = imdb.load_data(num_words=max_features)\n",
    "\n",
    "## Note expect to receive a warning, this is not your fault, and is due to how\n",
    "## keras is loading the data"
   ]
  },
  {
   "cell_type": "code",
   "execution_count": null,
   "id": "5ff2a6cf",
   "metadata": {},
   "outputs": [],
   "source": [
    "max_length = 100\n",
    "\n",
    "X_train = sequence.pad_sequences(X_train, maxlen=max_length)\n",
    "X_test = sequence.pad_sequences(X_test, maxlen=max_length)"
   ]
  },
  {
   "cell_type": "code",
   "execution_count": null,
   "id": "6f88c502",
   "metadata": {},
   "outputs": [],
   "source": [
    "## import load_model from keras.models\n"
   ]
  },
  {
   "cell_type": "markdown",
   "id": "41f1fb30",
   "metadata": {},
   "source": [
    "To load a saved model we just have to call `load_model` with the file name."
   ]
  },
  {
   "cell_type": "code",
   "execution_count": null,
   "id": "9b55f4ab",
   "metadata": {},
   "outputs": [],
   "source": [
    "## call load_model(filename)\n",
    "model = "
   ]
  },
  {
   "cell_type": "markdown",
   "id": "1adeb938",
   "metadata": {},
   "source": [
    "Now the trained model is loaded and we can use it to make predictions."
   ]
  },
  {
   "cell_type": "code",
   "execution_count": null,
   "id": "09a1f6e8",
   "metadata": {},
   "outputs": [],
   "source": [
    "model.predict(X_train[88,:].reshape(1,-1))"
   ]
  },
  {
   "cell_type": "markdown",
   "id": "a317026d",
   "metadata": {},
   "source": [
    "Or we can look at the weights of the trained model."
   ]
  },
  {
   "cell_type": "code",
   "execution_count": null,
   "id": "767676f9",
   "metadata": {},
   "outputs": [],
   "source": [
    "## .get_weights()\n",
    "## returns the weights of your model\n"
   ]
  },
  {
   "cell_type": "markdown",
   "id": "1422e3ad",
   "metadata": {},
   "source": [
    "If we wanted to we could also train the model for additional epochs or perform any other kind of manipulations in which we may be interested."
   ]
  },
  {
   "cell_type": "markdown",
   "id": "c7ef56c4",
   "metadata": {},
   "source": [
    "## Model packages\n",
    "\n",
    "Sometimes pre-trained models will be important enough that they have their own separate python packages. For example, `gensim` for `Word2Vec` <a href=\"https://radimrehurek.com/gensim/auto_examples/tutorials/run_word2vec.html#sphx-glr-auto-examples-tutorials-run-word2vec-py\">https://radimrehurek.com/gensim/auto_examples/tutorials/run_word2vec.html#sphx-glr-auto-examples-tutorials-run-word2vec-py</a> and `Hugging Face` for `BERT` <a href=\"https://huggingface.co/\">https://huggingface.co/</a>."
   ]
  },
  {
   "cell_type": "markdown",
   "id": "65a444a0",
   "metadata": {},
   "source": [
    "--------------------------\n",
    "\n",
    "This notebook was written for the Erd&#337;s Institute C&#337;de Data Science Boot Camp by Matthew Osborne, Ph. D., 2022.\n",
    "\n",
    "Any potential redistributors must seek and receive permission from Matthew Tyler Osborne, Ph.D. prior to redistribution. Redistribution of the material contained in this repository is conditional on acknowledgement of Matthew Tyler Osborne, Ph.D.'s original authorship and sponsorship of the Erdős Institute as subject to the license (see License.md)"
   ]
  },
  {
   "cell_type": "code",
   "execution_count": null,
   "id": "5962a59c",
   "metadata": {},
   "outputs": [],
   "source": []
  }
 ],
 "metadata": {
  "kernelspec": {
   "display_name": "Python 3 (ipykernel)",
   "language": "python",
   "name": "python3"
  },
  "language_info": {
   "codemirror_mode": {
    "name": "ipython",
    "version": 3
   },
   "file_extension": ".py",
   "mimetype": "text/x-python",
   "name": "python",
   "nbconvert_exporter": "python",
   "pygments_lexer": "ipython3",
   "version": "3.9.9"
  }
 },
 "nbformat": 4,
 "nbformat_minor": 5
}
