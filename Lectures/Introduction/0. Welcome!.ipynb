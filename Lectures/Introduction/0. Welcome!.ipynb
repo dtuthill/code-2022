{
 "cells": [
  {
   "cell_type": "markdown",
   "id": "e3a47b23",
   "metadata": {},
   "source": [
    "# Welcome!\n",
    "\n",
    "Welcome to the Erdős Institute's data science educational content!\n",
    "\n",
    "We are excited that we get the chance to help you in your career as a data scientist, be that in industry, academia or just for personal projects.\n",
    "\n",
    "## Content Format\n",
    "\n",
    "In this short notebook we will touch on the format of our materials.\n",
    "\n",
    "### Lecture Notebooks\n",
    "\n",
    "Each topic we cover will have one or more associated lecture notebooks. In lecture notebooks you will find a lecture-style presentation of topics. In particular, there will be writing that explains techniques and provide context as well as python code that demonstrates how to implement said techniques. Sometimes the code will be entirely filled in and sometimes it will be blank. This is because each lecture notebook will have an accompanying lecture video (and/or virtual lecture) in which the lecturer will fill in missing code while explaining what it does. If you are consuming this content asynchronously, you can find pre-recorded lecture videos on the Erdős Institute website.\n",
    "\n",
    "### Practice Problem Notebooks\n",
    "\n",
    "Jupyter notebooks comprised of practice problems can be found in the `Practice Problems` folder of this repository. These problems accomplish two tasks:\n",
    "1. Expanding upon the theory covered in lectures and\n",
    "2. Providing you the opportunity to practice lecture concepts.\n",
    "Each notebook will have an accompanying set of solutions in order for you to check your work.\n",
    "\n",
    "## Prerequisites\n",
    "\n",
    "The content in these notebooks will cover both the math behind algorithms and how to practically implement them in python. The main reason for this is <i>not</i> because I think that you need to know the math perfectly in order to be a good data scientist, but rather because I like to know how things work. For data science and machine learning this involves know how to implement an algorithm with some kind of coding <i>and/or</i> knowing the math underlying an algorithm. \n",
    "\n",
    "The point I want to stress here is that I do <i>not</i> expect you to know all of the math for every algorithm we cover. Therefore, these notebooks will be written so that you will be able to learn how to implement the algorithms even if you do not fully understand the math. That being said, I will present the math for those of you that do want to understand it.\n",
    "\n",
    "### Coding\n",
    "\n",
    "In these notebooks we assume that you know the basics of Python. In particular you should be familiar with:\n",
    "- `pandas`,\n",
    "- `numpy` and\n",
    "- `matplotlib`.\n",
    "If you are not familiar with python work through the notebooks in the `Python Prep` folder within this repository.\n",
    "\n",
    "### Math and Statistics\n",
    "\n",
    "For those of you looking to understand the math presented in these notebooks an absolute minimum includes:\n",
    "- Calculus (primarily derivatives),\n",
    "- Some linear algebra,\n",
    "- Basic probability theory and\n",
    "- Basic statistics.\n",
    "If you are unfamiliar with these check out the Erdős Institute's website for review slides on each.\n",
    "\n",
    "## Need Help?\n",
    "\n",
    "If at anytime you need help while going through this content, check out the Erdős Institute's slack channel. There you can ask questions to our team as well as your peers who may have the exact same questions!\n",
    "\n",
    "## Let's Get Started!\n",
    "\n",
    "Let's go ahead and get started by giving an overview of what we will cover in these materials."
   ]
  },
  {
   "cell_type": "markdown",
   "id": "0d8cbc8e",
   "metadata": {},
   "source": [
    "--------------------------\n",
    "\n",
    "This notebook was written for the Erd&#337;s Institute C&#337;de Data Science Boot Camp by Matthew Osborne, Ph. D., 2022.\n",
    "\n",
    "Any potential redistributors must seek and receive permission from Matthew Tyler Osborne, Ph.D. prior to redistribution. Redistribution of the material contained in this repository is conditional on acknowledgement of Matthew Tyler Osborne, Ph.D.'s original authorship and sponsorship of the Erdős Institute as subject to the license (see License.md)"
   ]
  },
  {
   "cell_type": "code",
   "execution_count": null,
   "id": "5906ed3c",
   "metadata": {},
   "outputs": [],
   "source": []
  }
 ],
 "metadata": {
  "kernelspec": {
   "display_name": "Python 3 (ipykernel)",
   "language": "python",
   "name": "python3"
  },
  "language_info": {
   "codemirror_mode": {
    "name": "ipython",
    "version": 3
   },
   "file_extension": ".py",
   "mimetype": "text/x-python",
   "name": "python",
   "nbconvert_exporter": "python",
   "pygments_lexer": "ipython3",
   "version": "3.9.9"
  }
 },
 "nbformat": 4,
 "nbformat_minor": 5
}
