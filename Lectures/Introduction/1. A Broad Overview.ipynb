{
 "cells": [
  {
   "cell_type": "markdown",
   "metadata": {},
   "source": [
    "# A Broad Overview\n",
    "\n",
    "In this notebook we give an overview of what is covered in these notebooks."
   ]
  },
  {
   "cell_type": "markdown",
   "metadata": {},
   "source": [
    "The goal of these materials is to endow you with the tools to complete end to end data science/machine learning projects with the help of Python. To that end we will cover the following topics in varying amounts of detail."
   ]
  },
  {
   "cell_type": "markdown",
   "metadata": {},
   "source": [
    "## Data Collection\n",
    "\n",
    "In order to complete a data-based project, you first need to have data. We will cover a few different ways that you can collect your own data including:\n",
    "- Data competition websites,\n",
    "- Data repositories,\n",
    "- Databases and\n",
    "- Web Scraping."
   ]
  },
  {
   "cell_type": "markdown",
   "metadata": {},
   "source": [
    "## Data Analysis/Exploration\n",
    "\n",
    "Prior to placing a data science solution into production you often will have to perform some rudimentary or exploratory data analysis (or EDA). We will see common approaches/techniques while learning data science algorithms including:\n",
    "- Exploratory plotting,\n",
    "- Examining basic statistics and\n",
    "- Data manipulation with `pandas` and `numpy`."
   ]
  },
  {
   "cell_type": "markdown",
   "metadata": {},
   "source": [
    "## Data Cleaning\n",
    "\n",
    "Perhaps surprisingly, perhaps unsurprisingly, a majority of any data science project tends to be cleaning and preparing your data for whatever solution you have built/are going to build. Throughout our notebooks we will see an array of data cleaning steps including:\n",
    "- Cleaning data files,\n",
    "- Cleaning text data with `str` functionality,\n",
    "- Imputing missing values,\n",
    "- Creating new columns from existing columns and\n",
    "- More."
   ]
  },
  {
   "cell_type": "markdown",
   "metadata": {},
   "source": [
    "## Supervised Learning Models\n",
    "\n",
    "When we work with data that has a label that we want to predict we will use <i>supervised learning</i> models. Supervised learning covers a wide array of problems including:\n",
    "- Regression, which uses techniques like:\n",
    "    - Simple linear regression,\n",
    "    - Multiple linear regression,\n",
    "    - Polynomial regression,\n",
    "    - Regularized regression and\n",
    "    - Time series analysis/forecasting\n",
    "- Classification, which uses techniques like:\n",
    "    - Naive Bayes,\n",
    "    - $k$-Nearest neighbors,\n",
    "    - Logistic regression,\n",
    "    - Decision trees,\n",
    "    - Random forests and\n",
    "    - Support vector machines.\n",
    "    \n",
    "We should note, however, that there are also more general purpose techniques that can be used for either regression or classification that we will also discuss including:\n",
    "- Bagging/Pasting,\n",
    "- AdaBoost and \n",
    "- Gradient boosting.\n",
    "\n",
    "<i>A quick note, technically, most of the techniques listed under Classification can also be adapted to work for regression problems, as we will see.</i>"
   ]
  },
  {
   "cell_type": "markdown",
   "metadata": {},
   "source": [
    "## Unsupervised Learning\n",
    "\n",
    "Sometimes you will want to work on a problem where your data set does not have a label. Such a problem falls under the purview of <i>unsupervised learning</i>, for example:\n",
    "- Dimensionality reducion, which uses techniques like:\n",
    "    - Principal components analysis (PCA),\n",
    "    - t-Distributed stochastic neighbor embedding (tSNE),\n",
    "    - Uniform manifold approximation and projection (UMAP) and\n",
    "    - Singular value decompositions (SVD).\n",
    "- Clustering, which uses techniques like:\n",
    "    - $k$-Means clustering and\n",
    "    - Hierarchical clustering."
   ]
  },
  {
   "cell_type": "markdown",
   "metadata": {},
   "source": [
    "## Neural Networks\n",
    "\n",
    "One modelling framework that has been adapted to work for both supervised and unsupervised problems is that of a neural network. We will also touch on those, with our main focus being on neural nets designed for supervised learning including:\n",
    "- Perceptrons,\n",
    "- Multilayer perceptrons or feed forward networks,\n",
    "- Basic convolutional networks and \n",
    "- Recurrent neural networks (if time).\n",
    "\n",
    "The sole neural network framework for unsupervised learning we may touch on are:\n",
    "- Autoencoders."
   ]
  },
  {
   "cell_type": "markdown",
   "metadata": {},
   "source": [
    "## Presenting/Disseminating Findings\n",
    "\n",
    "When you finally complete all of your hard work, you may have to (or want to) present your findings to your peers, supervisors or the world. Along the way we will also hit on concepts critical to clearly and concisely your work such as:\n",
    "- Knowing your audience,\n",
    "- Framing your problem,\n",
    "- Making clear and readable plots and\n",
    "- More."
   ]
  },
  {
   "cell_type": "markdown",
   "metadata": {},
   "source": [
    "# Mama Mia!\n",
    "\n",
    "That's a lot of content!\n",
    "\n",
    "It is, so let us get started! :)"
   ]
  },
  {
   "cell_type": "markdown",
   "metadata": {},
   "source": [
    "--------------------------\n",
    "\n",
    "This notebook was written for the Erd&#337;s Institute C&#337;de Data Science Boot Camp by Matthew Osborne, Ph. D., 2022.\n",
    "\n",
    "Any potential redistributors must seek and receive permission from Matthew Tyler Osborne, Ph.D. prior to redistribution. Redistribution of the material contained in this repository is conditional on acknowledgement of Matthew Tyler Osborne, Ph.D.'s original authorship and sponsorship of the Erdős Institute as subject to the license (see License.md)"
   ]
  },
  {
   "cell_type": "code",
   "execution_count": null,
   "metadata": {},
   "outputs": [],
   "source": []
  }
 ],
 "metadata": {
  "kernelspec": {
   "display_name": "Python 3 (ipykernel)",
   "language": "python",
   "name": "python3"
  },
  "language_info": {
   "codemirror_mode": {
    "name": "ipython",
    "version": 3
   },
   "file_extension": ".py",
   "mimetype": "text/x-python",
   "name": "python",
   "nbconvert_exporter": "python",
   "pygments_lexer": "ipython3",
   "version": "3.9.9"
  }
 },
 "nbformat": 4,
 "nbformat_minor": 2
}
