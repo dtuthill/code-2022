{
 "cells": [
  {
   "cell_type": "markdown",
   "id": "73875ead",
   "metadata": {},
   "source": [
    "# Data Repositories\n",
    "\n",
    "## What we will accomplish\n",
    "\n",
    "In this notebook we will:\n",
    "- Define the notion of a data repository,\n",
    "- Give several examples of data repositories and\n",
    "- Demonstrate the process of obtaining data from a data repository."
   ]
  },
  {
   "cell_type": "markdown",
   "id": "e9a7fef1",
   "metadata": {},
   "source": [
    "## Definition\n",
    "\n",
    "We will call a <i>data repository</i> any website where data sets are deposited. These can exist for many reasons for example:\n",
    "- Housing data associated with published academic research,\n",
    "- Holding data that was used by a news organization or\n",
    "- Holding benchmark data sets that are used to compare algorithmic performance.\n",
    "\n",
    "Such repositories can be excellent sources of data for a project. Let's now review a couple different kinds and give some examples."
   ]
  },
  {
   "cell_type": "markdown",
   "id": "96d06454",
   "metadata": {},
   "source": [
    "## Academic repositories\n",
    "\n",
    "These repositories house data affiliated with academic research papers. They exist for both the purpose of replication and to spur additional research. Here are some examples:\n",
    "- The UC Irvine Machine Learning Repository, <a href=\"https://archive.ics.uci.edu/ml/index.php\">https://archive.ics.uci.edu/ml/index.php</a>, (<i>a very popular repository</i>),\n",
    "- A repository of COVID-19 Tweets, <a href=\"https://publichealth.jmir.org/2020/2/e19273/\">https://publichealth.jmir.org/2020/2/e19273/</a>,\n",
    "- The Mendeley Data repository site, <a href=\"https://data.mendeley.com/\">https://data.mendeley.com/</a> and\n",
    "- The Harvard Dataverse, <a href=\"https://dataverse.harvard.edu/\">https://dataverse.harvard.edu/</a>."
   ]
  },
  {
   "cell_type": "markdown",
   "id": "e0793bd4",
   "metadata": {},
   "source": [
    "## GitHub repositories\n",
    "\n",
    "There are many GitHub repositories whose sole purpose is data storage. News organizations and data-based blogs/websites often have repositories that store the data sets accompanying their stories/posts. For example:\n",
    "- <a href=\"https://fivethirtyeight.com/\">FiveThirtyEight</a>, <a href=\"https://github.com/fivethirtyeight/\">https://github.com/fivethirtyeight/</a>,\n",
    "- <a href=\"https://www.nytimes.com/\">The New York Times</a>, <a href=\"https://github.com/nytimes\">https://github.com/nytimes</a> and\n",
    "- <a href=\"https://pudding.cool/\">Pudding.cool</a>, <a href=\"https://github.com/the-pudding/data\">https://github.com/the-pudding/data</a>.\n",
    "\n",
    "There are also repositories maintained by individual users not affiliated with any larger organization. These may be harder to find, but if you have a data set in mind it can be a good idea to do a web search for an existing GitHub repository. This could save you a lot of time and work."
   ]
  },
  {
   "cell_type": "markdown",
   "id": "b104b9a7",
   "metadata": {},
   "source": [
    "## An example\n",
    "\n",
    "Let's demonstrate how you can use a repository to access data.\n",
    "\n",
    "We will use a data set from the FiveThirtyEight repository. Let's download the `candy-data.csv` from the folder associated with this post, <a href=\"https://fivethirtyeight.com/videos/the-ultimate-halloween-candy-power-ranking/\">https://fivethirtyeight.com/videos/the-ultimate-halloween-candy-power-ranking/</a>.\n",
    "\n",
    "### Instructions\n",
    "\n",
    "1. First go to the link associated with the data file, <a href=\"https://github.com/fivethirtyeight/data/blob/master/candy-power-ranking/candy-data.csv\">https://github.com/fivethirtyeight/data/blob/master/candy-power-ranking/candy-data.csv</a>.\n",
    "2. Then click on the `Raw` button above the data table demonstrated on the page.\n",
    "3. Using your web browser, save the file as `candy-data.csv` within the `Data Collection` folder of this repository.\n",
    "4. Run the code chunks below."
   ]
  },
  {
   "cell_type": "code",
   "execution_count": 1,
   "id": "629a6ecc",
   "metadata": {},
   "outputs": [],
   "source": [
    "import pandas as pd"
   ]
  },
  {
   "cell_type": "code",
   "execution_count": 2,
   "id": "00452761",
   "metadata": {},
   "outputs": [],
   "source": [
    "data = pd.read_csv(\"candy-data.csv\")"
   ]
  },
  {
   "cell_type": "code",
   "execution_count": 3,
   "id": "ac7b39e7",
   "metadata": {},
   "outputs": [
    {
     "data": {
      "text/html": [
       "<div>\n",
       "<style scoped>\n",
       "    .dataframe tbody tr th:only-of-type {\n",
       "        vertical-align: middle;\n",
       "    }\n",
       "\n",
       "    .dataframe tbody tr th {\n",
       "        vertical-align: top;\n",
       "    }\n",
       "\n",
       "    .dataframe thead th {\n",
       "        text-align: right;\n",
       "    }\n",
       "</style>\n",
       "<table border=\"1\" class=\"dataframe\">\n",
       "  <thead>\n",
       "    <tr style=\"text-align: right;\">\n",
       "      <th></th>\n",
       "      <th>competitorname</th>\n",
       "      <th>chocolate</th>\n",
       "      <th>fruity</th>\n",
       "      <th>caramel</th>\n",
       "      <th>peanutyalmondy</th>\n",
       "      <th>nougat</th>\n",
       "      <th>crispedricewafer</th>\n",
       "      <th>hard</th>\n",
       "      <th>bar</th>\n",
       "      <th>pluribus</th>\n",
       "      <th>sugarpercent</th>\n",
       "      <th>pricepercent</th>\n",
       "      <th>winpercent</th>\n",
       "    </tr>\n",
       "  </thead>\n",
       "  <tbody>\n",
       "    <tr>\n",
       "      <th>0</th>\n",
       "      <td>100 Grand</td>\n",
       "      <td>1</td>\n",
       "      <td>0</td>\n",
       "      <td>1</td>\n",
       "      <td>0</td>\n",
       "      <td>0</td>\n",
       "      <td>1</td>\n",
       "      <td>0</td>\n",
       "      <td>1</td>\n",
       "      <td>0</td>\n",
       "      <td>0.732</td>\n",
       "      <td>0.860</td>\n",
       "      <td>66.971725</td>\n",
       "    </tr>\n",
       "    <tr>\n",
       "      <th>1</th>\n",
       "      <td>3 Musketeers</td>\n",
       "      <td>1</td>\n",
       "      <td>0</td>\n",
       "      <td>0</td>\n",
       "      <td>0</td>\n",
       "      <td>1</td>\n",
       "      <td>0</td>\n",
       "      <td>0</td>\n",
       "      <td>1</td>\n",
       "      <td>0</td>\n",
       "      <td>0.604</td>\n",
       "      <td>0.511</td>\n",
       "      <td>67.602936</td>\n",
       "    </tr>\n",
       "    <tr>\n",
       "      <th>2</th>\n",
       "      <td>One dime</td>\n",
       "      <td>0</td>\n",
       "      <td>0</td>\n",
       "      <td>0</td>\n",
       "      <td>0</td>\n",
       "      <td>0</td>\n",
       "      <td>0</td>\n",
       "      <td>0</td>\n",
       "      <td>0</td>\n",
       "      <td>0</td>\n",
       "      <td>0.011</td>\n",
       "      <td>0.116</td>\n",
       "      <td>32.261086</td>\n",
       "    </tr>\n",
       "    <tr>\n",
       "      <th>3</th>\n",
       "      <td>One quarter</td>\n",
       "      <td>0</td>\n",
       "      <td>0</td>\n",
       "      <td>0</td>\n",
       "      <td>0</td>\n",
       "      <td>0</td>\n",
       "      <td>0</td>\n",
       "      <td>0</td>\n",
       "      <td>0</td>\n",
       "      <td>0</td>\n",
       "      <td>0.011</td>\n",
       "      <td>0.511</td>\n",
       "      <td>46.116505</td>\n",
       "    </tr>\n",
       "    <tr>\n",
       "      <th>4</th>\n",
       "      <td>Air Heads</td>\n",
       "      <td>0</td>\n",
       "      <td>1</td>\n",
       "      <td>0</td>\n",
       "      <td>0</td>\n",
       "      <td>0</td>\n",
       "      <td>0</td>\n",
       "      <td>0</td>\n",
       "      <td>0</td>\n",
       "      <td>0</td>\n",
       "      <td>0.906</td>\n",
       "      <td>0.511</td>\n",
       "      <td>52.341465</td>\n",
       "    </tr>\n",
       "  </tbody>\n",
       "</table>\n",
       "</div>"
      ],
      "text/plain": [
       "  competitorname  chocolate  fruity  caramel  peanutyalmondy  nougat  \\\n",
       "0      100 Grand          1       0        1               0       0   \n",
       "1   3 Musketeers          1       0        0               0       1   \n",
       "2       One dime          0       0        0               0       0   \n",
       "3    One quarter          0       0        0               0       0   \n",
       "4      Air Heads          0       1        0               0       0   \n",
       "\n",
       "   crispedricewafer  hard  bar  pluribus  sugarpercent  pricepercent  \\\n",
       "0                 1     0    1         0         0.732         0.860   \n",
       "1                 0     0    1         0         0.604         0.511   \n",
       "2                 0     0    0         0         0.011         0.116   \n",
       "3                 0     0    0         0         0.011         0.511   \n",
       "4                 0     0    0         0         0.906         0.511   \n",
       "\n",
       "   winpercent  \n",
       "0   66.971725  \n",
       "1   67.602936  \n",
       "2   32.261086  \n",
       "3   46.116505  \n",
       "4   52.341465  "
      ]
     },
     "execution_count": 3,
     "metadata": {},
     "output_type": "execute_result"
    }
   ],
   "source": [
    "data.head()"
   ]
  },
  {
   "cell_type": "markdown",
   "id": "8939011a",
   "metadata": {},
   "source": [
    "Congratulations! You have now downloaded and used data stored on a repository.\n",
    "\n",
    "Note this will not be the exact same process you will follow everytime you want to use data stored on a repository."
   ]
  },
  {
   "cell_type": "markdown",
   "id": "fcfc8771",
   "metadata": {},
   "source": [
    "## Repository use guidelines\n",
    "\n",
    "When using data that you did not collect or create yourself it is important to ensure that you follow whatever data use guidelines are associated with the data set you utilized. In particular, you should check to make sure that you are not violating any restrictions or legal guidelines outlined by the data provider. Many repositories will have guidelines on how you are allowed to use their data set.\n",
    "\n",
    "It is also important that you credit the original source of the data in your final project. Some repositories may also have guidelines for citation. For example, an academic repository likely has an associated publication that you should cite.\n",
    "\n",
    "Please be responsible and courteous data citizens. :)"
   ]
  },
  {
   "cell_type": "markdown",
   "id": "5b594210",
   "metadata": {},
   "source": [
    "--------------------------\n",
    "\n",
    "This notebook was written for the Erd&#337;s Institute C&#337;de Data Science Boot Camp by Matthew Osborne, Ph. D., 2022.\n",
    "\n",
    "Any potential redistributors must seek and receive permission from Matthew Tyler Osborne, Ph.D. prior to redistribution. Redistribution of the material contained in this repository is conditional on acknowledgement of Matthew Tyler Osborne, Ph.D.'s original authorship and sponsorship of the Erdős Institute as subject to the license (see License.md)"
   ]
  },
  {
   "cell_type": "code",
   "execution_count": null,
   "id": "3f9c614a",
   "metadata": {},
   "outputs": [],
   "source": []
  }
 ],
 "metadata": {
  "kernelspec": {
   "display_name": "Python 3 (ipykernel)",
   "language": "python",
   "name": "python3"
  },
  "language_info": {
   "codemirror_mode": {
    "name": "ipython",
    "version": 3
   },
   "file_extension": ".py",
   "mimetype": "text/x-python",
   "name": "python",
   "nbconvert_exporter": "python",
   "pygments_lexer": "ipython3",
   "version": "3.9.9"
  }
 },
 "nbformat": 4,
 "nbformat_minor": 5
}
