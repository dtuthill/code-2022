{
 "cells": [
  {
   "cell_type": "markdown",
   "id": "901e6482",
   "metadata": {},
   "source": [
    "# Data in Databases\n",
    "\n",
    "Sometimes data is not stored in a single or handful of data files, but is stored as a series of connected tables in a relational database. In this notebook we will demonstrate how you can use python to interact with such data sources.\n",
    "\n",
    "## What we will accomplish\n",
    "\n",
    "In this notebook we will:\n",
    "- Define the concept of a relational database,\n",
    "- Introduce the structured query language (SQL),\n",
    "- Show how to access data in a database with SQLAlchemy and\n",
    "- Show how to read a database with pandas."
   ]
  },
  {
   "cell_type": "markdown",
   "id": "37a38ccf",
   "metadata": {},
   "source": [
    "## What is a relational database\n",
    "\n",
    "A relational database is a collection of tables or data sets that are related to one another through a series of key values.\n",
    "\n",
    "As an example consider all the data involved with operating a business that sells physical goods. For simplicity, let's say that there are two sets of data of which the business owner wants to keep track: purchases and customers. A relational database would store such data in a Purchases Table and a Customer Table. Each row of the purchases table would contain all of the data associated with an individual purchase, including the customer that made the purchase and a unique identifier for the purchase. Similarly, each row of the customer table will contain all the data for a unique customer including a unique identifier code. Each purchase can then be linked to the data associated with each customer through these unique keys. the purchases table will contain a column containing the id of the customer that made the purchase like so:\n",
    "<img src=\"database_example.png\" width=\"70%\"></img>\n",
    "\n",
    "Linking data in this way gives you the ability to store and query the data in an efficient manner to answer questions like:\n",
    "- Are men more likely to buy item A than women?\n",
    "- Who should we target our advertising dollars to for product X?\n",
    "- What groups should receive coupon emails for items similar to item Y?\n",
    "- etc.\n",
    "\n",
    "You may have to interact with a database in many data project settings. Let's learn how we can use python to extract the data we need from a database."
   ]
  },
  {
   "cell_type": "markdown",
   "id": "3350f70c",
   "metadata": {},
   "source": [
    "## Structured query language (SQL)\n",
    "\n",
    "While I just said we will learn how to use python to interact with data bases, we first have to take a detour into SQL. SQL, or structured query language, is a programming language whose purpose is to submit <i>queries</i> to databases. You can use SQL queries to:\n",
    "- Create databases and tables,\n",
    "- Enter data into tables,\n",
    "- Remove data from tables,\n",
    "- Delete tables and databases,\n",
    "- Retrieve data that meets your specifications and\n",
    "- More.\n",
    "\n",
    "We will focus on learning the syntax to retrieve data in this notebook, and will touch on some of the other common SQL tasks in the accompanying `Practice Problems` notebook.\n",
    "\n",
    "### SELECTing data\n",
    "\n",
    "In SQL the way you can retrieve data from a table within a database is a `SELECT` statement. The syntax of a `SELECT` statement is as follows:\n",
    "<blockquote>\n",
    "    SELECT * FROM table_name WHERE conditional_statement\n",
    "</blockquote>\n",
    "Here:\n",
    "\n",
    "- `SELECT` informs the database that you want to retrieve some data,\n",
    "- The ` * ` portion is a space where you can specify the precise columns you would like returned, if you want all of the columns returned you input a ` * `,\n",
    "- `FROM table_name` tells the database what table you would like to get data from and\n",
    "- `WHERE conditional_statement` is an optional argument you can include if you only want entries that specify a certain conditional statement.\n",
    "\n",
    "This is the template for the most basic SQL `SELECT` statement you can make. In the accompanying `Practice Problems` notebook we touch on more complicated `SELECT` statements that include `JOIN` statements allowing you to cross-reference multiple tables."
   ]
  },
  {
   "cell_type": "markdown",
   "id": "2c6e4932",
   "metadata": {},
   "source": [
    "## `SQLAlchemy`\n",
    "\n",
    "The python packages that will allow us to execute a SQL `SELECT` command with python is `SQLAlcemy`, <a href=\"https://www.sqlalchemy.org/\">https://www.sqlalchemy.org/</a>. Let's check that you have it installed first."
   ]
  },
  {
   "cell_type": "code",
   "execution_count": 1,
   "id": "1535ad93",
   "metadata": {},
   "outputs": [],
   "source": [
    "## Make sure this runs first\n",
    "## This way we can make sure that you have it installed\n",
    "import sqlalchemy"
   ]
  },
  {
   "cell_type": "code",
   "execution_count": 2,
   "id": "23bf46ed",
   "metadata": {},
   "outputs": [
    {
     "name": "stdout",
     "output_type": "stream",
     "text": [
      "1.4.29\n"
     ]
    }
   ],
   "source": [
    "## what version do you have?\n",
    "## I had 1.4.29 when I wrote this notebook\n",
    "print(sqlalchemy.__version__)"
   ]
  },
  {
   "cell_type": "markdown",
   "id": "9b32cdf0",
   "metadata": {},
   "source": [
    "If you were unable to import `SQLAlchemy` and check your package version, you will need to install the package before moving forward in this notebook. For installation guides see:\n",
    "- Via conda, <a href=\"https://anaconda.org/anaconda/sqlalchemy\">https://anaconda.org/anaconda/sqlalchemy</a>,\n",
    "- Via pip, <a href=\"https://docs.sqlalchemy.org/en/14/intro.html#installation-guide\">https://docs.sqlalchemy.org/en/14/intro.html#installation-guide</a>."
   ]
  },
  {
   "cell_type": "markdown",
   "id": "ca52b5d0",
   "metadata": {},
   "source": [
    "### Submitting SQL queries with `SQLAlchemy`\n",
    "\n",
    "`SQLAlchemy` works by establishing a connection to a database and then allowing you to submit SQL queries to that connected database. We will demonstrate that process now with the `cat_store.db` database in this folder. This database contains two tables, a `customers` table and a `purchases` table.\n",
    "\n",
    "There is a specific procedure you have to follow in order to use `SQLAlchemy`, which we will go through right now.\n",
    "\n",
    "#### Creating an engine"
   ]
  },
  {
   "cell_type": "code",
   "execution_count": null,
   "id": "cf3ee888",
   "metadata": {},
   "outputs": [],
   "source": [
    "## The first step is to create an engine\n",
    "## The sqlalchemy engine is how we \n",
    "## communicate with the database\n",
    "## docs: https://docs.sqlalchemy.org/en/14/core/engines.html\n",
    "from sqlalchemy import create_engine"
   ]
  },
  {
   "cell_type": "code",
   "execution_count": null,
   "id": "8403a8f5",
   "metadata": {},
   "outputs": [],
   "source": [
    "## When we create the engine we have to tell it\n",
    "## the Dialect, this is the backend language \n",
    "## of the database. For us this is SQLite, which is what I used\n",
    "## to create the database.\n",
    "## We also have to specify a pool, for our purposes\n",
    "## we can think of this as where our database is stored\n",
    "## because cat_store.db is stored in this folder the pool is empty\n",
    "engine = create_engine(\"sqlite:///cat_store.db\")"
   ]
  },
  {
   "cell_type": "markdown",
   "id": "a5dfdc02",
   "metadata": {},
   "source": [
    "#### Connect to the database\n",
    "\n",
    "With an engine in place we can connect to the database."
   ]
  },
  {
   "cell_type": "code",
   "execution_count": null,
   "id": "2f6d5c5f",
   "metadata": {},
   "outputs": [],
   "source": [
    "## next we have to actually connect the engine\n",
    "## to the database\n",
    "conn = engine.connect()"
   ]
  },
  {
   "cell_type": "markdown",
   "id": "a29b678f",
   "metadata": {},
   "source": [
    "#### Submitting queries\n",
    "\n",
    "Now that we are connected we can submit queries to the database."
   ]
  },
  {
   "cell_type": "code",
   "execution_count": null,
   "id": "ec73d41d",
   "metadata": {},
   "outputs": [],
   "source": [
    "## we'll use this to display the data nicely\n",
    "import pandas as pd"
   ]
  },
  {
   "cell_type": "code",
   "execution_count": null,
   "id": "d56bdaf9",
   "metadata": {},
   "outputs": [],
   "source": [
    "## Write the SQL statement inside a string\n",
    "## then place in conn.execute\n",
    "results = \n",
    "\n",
    "## To print all the results of the query you can use\n",
    "## fetchall()\n",
    "\n",
    "## note here, results.keys() returns the columns of the table\n"
   ]
  },
  {
   "cell_type": "code",
   "execution_count": null,
   "id": "aed907f9",
   "metadata": {},
   "outputs": [],
   "source": [
    "results = conn.execute(\"SELECT * FROM purchases\")\n",
    "\n",
    "## there is also fetchone\n",
    "## which returns a tuple corresponding the the first\n",
    "## returned row\n"
   ]
  },
  {
   "cell_type": "code",
   "execution_count": null,
   "id": "43dbb1f8",
   "metadata": {},
   "outputs": [],
   "source": [
    "## and fetchmany(n)\n",
    "## which returns the next n sequential returned rows\n"
   ]
  },
  {
   "cell_type": "markdown",
   "id": "37842950",
   "metadata": {},
   "source": [
    "Note that when using `fetchone` or `fetchmany` the results are returned sequentially. Let's check that you understand that concept now.\n",
    "\n",
    "##### Practice\n",
    "\n",
    "What do you expect to be returned with the following code chunk?"
   ]
  },
  {
   "cell_type": "code",
   "execution_count": null,
   "id": "fb8d99ae",
   "metadata": {},
   "outputs": [],
   "source": [
    "results.fetchone()"
   ]
  },
  {
   "cell_type": "markdown",
   "id": "b27784ba",
   "metadata": {},
   "source": [
    "What about this code chunk?"
   ]
  },
  {
   "cell_type": "code",
   "execution_count": null,
   "id": "e6bc9581",
   "metadata": {},
   "outputs": [],
   "source": [
    "results.fetchmany(4)"
   ]
  },
  {
   "cell_type": "markdown",
   "id": "45622109",
   "metadata": {},
   "source": [
    "#### Using SQL for basic stats\n",
    "\n",
    "We can also use SQL to compute basic statistics of numeric columns like the mean, max, min and how many observations there are. Let's demonstrate how."
   ]
  },
  {
   "cell_type": "code",
   "execution_count": null,
   "id": "2fe08969",
   "metadata": {},
   "outputs": [],
   "source": [
    "## COUNT\n",
    "## This gives you how many results were returned by your query\n",
    "results = conn.execute(\"SELECT COUNT(*) FROM purchases\")\n",
    "\n",
    "results.fetchall()"
   ]
  },
  {
   "cell_type": "code",
   "execution_count": null,
   "id": "7f20b5ec",
   "metadata": {},
   "outputs": [],
   "source": [
    "## MAX\n",
    "## This gives the maximum value of the specified column\n",
    "results = conn.execute(\"SELECT MAX(pretax_price) FROM purchases\")\n",
    "\n",
    "results.fetchall()"
   ]
  },
  {
   "cell_type": "code",
   "execution_count": null,
   "id": "7e34b19b",
   "metadata": {},
   "outputs": [],
   "source": [
    "## MIN\n",
    "## This gives the minimum value of the specified column\n",
    "results = conn.execute(\"SELECT MIN(pretax_price) FROM purchases\")\n",
    "\n",
    "results.fetchall()"
   ]
  },
  {
   "cell_type": "code",
   "execution_count": null,
   "id": "34d46cfb",
   "metadata": {},
   "outputs": [],
   "source": [
    "## AVG\n",
    "## This gives the mean value of the specified column\n",
    "results = conn.execute(\"SELECT AVG(pretax_price) FROM purchases\")\n",
    "\n",
    "results.fetchall()"
   ]
  },
  {
   "cell_type": "markdown",
   "id": "66ac85e0",
   "metadata": {},
   "source": [
    "#### Using `pandas` with `SQLAlchemy`\n",
    "\n",
    "While you can create a DataFrame like we did above with one of the `fetch` commands, you can also use `pandas` package directly.\n",
    "\n",
    "##### `pandas.read_sql_query`\n",
    "\n",
    "The command `pandas.read_sql_query` allows you to write a SQL query and have it executed via `pandas`."
   ]
  },
  {
   "cell_type": "code",
   "execution_count": null,
   "id": "230fd9d1",
   "metadata": {},
   "outputs": [],
   "source": [
    "## First write your SQL query as a string\n",
    "## Then give your SQLAlchemy connection object\n",
    "## docs: https://pandas.pydata.org/docs/reference/api/pandas.read_sql_query.html\n",
    "pd.read_sql_query()"
   ]
  },
  {
   "cell_type": "markdown",
   "id": "8b2c756f",
   "metadata": {},
   "source": [
    "##### `pandas.read_sql_table`\n",
    "\n",
    "You can also just read a table directly into a DataFrame with `pandas` using `pandas.read_sql_table`."
   ]
  },
  {
   "cell_type": "code",
   "execution_count": null,
   "id": "540e3d6f",
   "metadata": {},
   "outputs": [],
   "source": [
    "## First write the table name\n",
    "## Then give your SQLAlchemy connection object\n",
    "## docs: https://pandas.pydata.org/docs/reference/api/pandas.read_sql_table.html#pandas.read_sql_table\n",
    "pd.read_sql_table()"
   ]
  },
  {
   "cell_type": "markdown",
   "id": "09d201e3",
   "metadata": {},
   "source": [
    "#### Closing the connection\n",
    "\n",
    "When you are done submitting queries you need to close the connection to the database."
   ]
  },
  {
   "cell_type": "code",
   "execution_count": null,
   "id": "52c36fa2",
   "metadata": {},
   "outputs": [],
   "source": [
    "## When we're done we close the connection\n",
    "conn.close()"
   ]
  },
  {
   "cell_type": "markdown",
   "id": "7c767356",
   "metadata": {},
   "source": [
    "#### Disposing of the engine\n",
    "\n",
    "When you think you are all the way done with using the database you dispose of the engine."
   ]
  },
  {
   "cell_type": "code",
   "execution_count": null,
   "id": "e031dc34",
   "metadata": {},
   "outputs": [],
   "source": [
    "## then dispose the engine\n",
    "engine.dispose()"
   ]
  },
  {
   "cell_type": "markdown",
   "id": "d793a793",
   "metadata": {},
   "source": [
    "## Summary\n",
    "\n",
    "In this notebook we introduced the concept of a relational database and discussed how you can access data stored within one. The content presented here was just a start and for those of you interested in more complicated database commands please go through the accompanying notebook stored in the `Practice Problems` folder of this repository."
   ]
  },
  {
   "cell_type": "markdown",
   "id": "b78a3580",
   "metadata": {},
   "source": [
    "--------------------------\n",
    "\n",
    "This notebook was written for the Erd&#337;s Institute C&#337;de Data Science Boot Camp by Matthew Osborne, Ph. D., 2022.\n",
    "\n",
    "Any potential redistributors must seek and receive permission from Matthew Tyler Osborne, Ph.D. prior to redistribution. Redistribution of the material contained in this repository is conditional on acknowledgement of Matthew Tyler Osborne, Ph.D.'s original authorship and sponsorship of the Erdős Institute as subject to the license (see License.md)"
   ]
  },
  {
   "cell_type": "code",
   "execution_count": null,
   "id": "cd391329",
   "metadata": {},
   "outputs": [],
   "source": []
  }
 ],
 "metadata": {
  "kernelspec": {
   "display_name": "Python 3 (ipykernel)",
   "language": "python",
   "name": "python3"
  },
  "language_info": {
   "codemirror_mode": {
    "name": "ipython",
    "version": 3
   },
   "file_extension": ".py",
   "mimetype": "text/x-python",
   "name": "python",
   "nbconvert_exporter": "python",
   "pygments_lexer": "ipython3",
   "version": "3.9.9"
  }
 },
 "nbformat": 4,
 "nbformat_minor": 5
}
