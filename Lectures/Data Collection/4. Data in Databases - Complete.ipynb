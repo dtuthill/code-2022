{
 "cells": [
  {
   "cell_type": "markdown",
   "metadata": {},
   "source": [
    "# Data in Databases\n",
    "\n",
    "Sometimes data is not stored in a single or handful of data files, but is stored as a series of connected tables in a relational database. In this notebook we will demonstrate how you can use python to interact with such data sources.\n",
    "\n",
    "## What we will accomplish\n",
    "\n",
    "In this notebook we will:\n",
    "- Define the concept of a relational database,\n",
    "- Introduce the structured query language (SQL),\n",
    "- Show how to access data in a database with SQLAlchemy and\n",
    "- Show how to read a database with pandas."
   ]
  },
  {
   "cell_type": "markdown",
   "metadata": {},
   "source": [
    "## What is a relational database\n",
    "\n",
    "A relational database is a collection of tables or data sets that are related to one another through a series of key values.\n",
    "\n",
    "As an example consider all the data involved with operating a business that sells physical goods. For simplicity, let's say that there are two sets of data of which the business owner wants to keep track: purchases and customers. A relational database would store such data in a Purchases Table and a Customer Table. Each row of the purchases table would contain all of the data associated with an individual purchase, including the customer that made the purchase and a unique identifier for the purchase. Similarly, each row of the customer table will contain all the data for a unique customer including a unique identifier code. Each purchase can then be linked to the data associated with each customer through these unique keys. the purchases table will contain a column containing the id of the customer that made the purchase like so:\n",
    "<img src=\"database_example.png\" width=\"70%\"></img>\n",
    "\n",
    "Linking data in this way gives you the ability to store and query the data in an efficient manner to answer questions like:\n",
    "- Are men more likely to buy item A than women?\n",
    "- Who should we target our advertising dollars to for product X?\n",
    "- What groups should receive coupon emails for items similar to item Y?\n",
    "- etc.\n",
    "\n",
    "You may have to interact with a database in many data project settings. Let's learn how we can use python to extract the data we need from a database."
   ]
  },
  {
   "cell_type": "markdown",
   "metadata": {},
   "source": [
    "## Structured query language (SQL)\n",
    "\n",
    "While I just said we will learn how to use python to interact with data bases, we first have to take a detour into SQL. SQL, or structured query language, is a programming language whose purpose is to submit <i>queries</i> to databases. You can use SQL queries to:\n",
    "- Create databases and tables,\n",
    "- Enter data into tables,\n",
    "- Remove data from tables,\n",
    "- Delete tables and databases,\n",
    "- Retrieve data that meets your specifications and\n",
    "- More.\n",
    "\n",
    "We will focus on learning the syntax to retrieve data in this notebook, and will touch on some of the other common SQL tasks in the accompanying `Practice Problems` notebook.\n",
    "\n",
    "### SELECTing data\n",
    "\n",
    "In SQL the way you can retrieve data from a table within a database is a `SELECT` statement. The syntax of a `SELECT` statement is as follows:\n",
    "<blockquote>\n",
    "    SELECT * FROM table_name WHERE conditional_statement\n",
    "</blockquote>\n",
    "Here:\n",
    "\n",
    "- `SELECT` informs the database that you want to retrieve some data,\n",
    "- The ` * ` portion is a space where you can specify the precise columns you would like returned, if you want all of the columns returned you input a ` * `,\n",
    "- `FROM table_name` tells the database what table you would like to get data from and\n",
    "- `WHERE conditional_statement` is an optional argument you can include if you only want entries that specify a certain conditional statement.\n",
    "\n",
    "This is the template for the most basic SQL `SELECT` statement you can make. In the accompanying `Practice Problems` notebook we touch on more complicated `SELECT` statements that include `JOIN` statements allowing you to cross-reference multiple tables."
   ]
  },
  {
   "cell_type": "markdown",
   "metadata": {},
   "source": [
    "## `SQLAlchemy`\n",
    "\n",
    "The python packages that will allow us to execute a SQL `SELECT` command with python is `SQLAlcemy`, <a href=\"https://www.sqlalchemy.org/\">https://www.sqlalchemy.org/</a>. Let's check that you have it installed first."
   ]
  },
  {
   "cell_type": "code",
   "execution_count": 1,
   "metadata": {},
   "outputs": [],
   "source": [
    "## Make sure this runs first\n",
    "## This way we can make sure that you have it installed\n",
    "import sqlalchemy"
   ]
  },
  {
   "cell_type": "code",
   "execution_count": 2,
   "metadata": {},
   "outputs": [
    {
     "name": "stdout",
     "output_type": "stream",
     "text": [
      "1.4.29\n"
     ]
    }
   ],
   "source": [
    "## what version do you have?\n",
    "## I had 1.4.29 when I wrote this notebook\n",
    "print(sqlalchemy.__version__)"
   ]
  },
  {
   "cell_type": "markdown",
   "metadata": {},
   "source": [
    "If you were unable to import `SQLAlchemy` and check your package version, you will need to install the package before moving forward in this notebook. For installation guides see:\n",
    "- Via conda, <a href=\"https://anaconda.org/anaconda/sqlalchemy\">https://anaconda.org/anaconda/sqlalchemy</a>,\n",
    "- Via pip, <a href=\"https://docs.sqlalchemy.org/en/14/intro.html#installation-guide\">https://docs.sqlalchemy.org/en/14/intro.html#installation-guide</a>."
   ]
  },
  {
   "cell_type": "markdown",
   "metadata": {},
   "source": [
    "### Submitting SQL queries with `SQLAlchemy`\n",
    "\n",
    "`SQLAlchemy` works by establishing a connection to a database and then allowing you to submit SQL queries to that connected database. We will demonstrate that process now with the `cat_store.db` database in this folder. This database contains two tables, a `customers` table and a `purchases` table.\n",
    "\n",
    "There is a specific procedure you have to follow in order to use `SQLAlchemy`, which we will go through right now.\n",
    "\n",
    "#### Creating an engine"
   ]
  },
  {
   "cell_type": "code",
   "execution_count": 3,
   "metadata": {},
   "outputs": [],
   "source": [
    "## The first step is to create an engine\n",
    "## The sqlalchemy engine is how we \n",
    "## communicate with the database\n",
    "## docs: https://docs.sqlalchemy.org/en/14/core/engines.html\n",
    "from sqlalchemy import create_engine"
   ]
  },
  {
   "cell_type": "code",
   "execution_count": 4,
   "metadata": {},
   "outputs": [],
   "source": [
    "## When we create the engine we have to tell it\n",
    "## the Dialect, this is the backend language \n",
    "## of the database. For us this is SQLite, which is what I used\n",
    "## to create the database.\n",
    "## We also have to specify a pool, for our purposes\n",
    "## we can think of this as where our database is stored\n",
    "## because cat_store.db is stored in this folder the pool is empty\n",
    "engine = create_engine(\"sqlite:///cat_store.db\")"
   ]
  },
  {
   "cell_type": "markdown",
   "metadata": {},
   "source": [
    "#### Connect to the database\n",
    "\n",
    "With an engine in place we can connect to the database."
   ]
  },
  {
   "cell_type": "code",
   "execution_count": 5,
   "metadata": {},
   "outputs": [],
   "source": [
    "## next we have to actually connect the engine\n",
    "## to the database\n",
    "conn = engine.connect()"
   ]
  },
  {
   "cell_type": "markdown",
   "metadata": {},
   "source": [
    "#### Submitting queries\n",
    "\n",
    "Now that we are connected we can submit queries to the database."
   ]
  },
  {
   "cell_type": "code",
   "execution_count": 6,
   "metadata": {},
   "outputs": [],
   "source": [
    "## we'll use this to display the data nicely\n",
    "import pandas as pd"
   ]
  },
  {
   "cell_type": "code",
   "execution_count": 8,
   "metadata": {},
   "outputs": [
    {
     "data": {
      "text/html": [
       "<div>\n",
       "<style scoped>\n",
       "    .dataframe tbody tr th:only-of-type {\n",
       "        vertical-align: middle;\n",
       "    }\n",
       "\n",
       "    .dataframe tbody tr th {\n",
       "        vertical-align: top;\n",
       "    }\n",
       "\n",
       "    .dataframe thead th {\n",
       "        text-align: right;\n",
       "    }\n",
       "</style>\n",
       "<table border=\"1\" class=\"dataframe\">\n",
       "  <thead>\n",
       "    <tr style=\"text-align: right;\">\n",
       "      <th></th>\n",
       "      <th>purchase_id</th>\n",
       "      <th>customer_id</th>\n",
       "      <th>number_of_items</th>\n",
       "      <th>pretax_price</th>\n",
       "      <th>purchase_type</th>\n",
       "    </tr>\n",
       "  </thead>\n",
       "  <tbody>\n",
       "    <tr>\n",
       "      <th>0</th>\n",
       "      <td>1</td>\n",
       "      <td>3</td>\n",
       "      <td>4</td>\n",
       "      <td>18.90</td>\n",
       "      <td>credit</td>\n",
       "    </tr>\n",
       "    <tr>\n",
       "      <th>1</th>\n",
       "      <td>2</td>\n",
       "      <td>2</td>\n",
       "      <td>2</td>\n",
       "      <td>22.20</td>\n",
       "      <td>cash</td>\n",
       "    </tr>\n",
       "    <tr>\n",
       "      <th>2</th>\n",
       "      <td>3</td>\n",
       "      <td>7</td>\n",
       "      <td>1</td>\n",
       "      <td>7.89</td>\n",
       "      <td>debit</td>\n",
       "    </tr>\n",
       "    <tr>\n",
       "      <th>3</th>\n",
       "      <td>4</td>\n",
       "      <td>1</td>\n",
       "      <td>11</td>\n",
       "      <td>109.89</td>\n",
       "      <td>check</td>\n",
       "    </tr>\n",
       "    <tr>\n",
       "      <th>4</th>\n",
       "      <td>5</td>\n",
       "      <td>4</td>\n",
       "      <td>3</td>\n",
       "      <td>33.30</td>\n",
       "      <td>cash</td>\n",
       "    </tr>\n",
       "    <tr>\n",
       "      <th>5</th>\n",
       "      <td>6</td>\n",
       "      <td>9</td>\n",
       "      <td>2</td>\n",
       "      <td>10.99</td>\n",
       "      <td>debit</td>\n",
       "    </tr>\n",
       "    <tr>\n",
       "      <th>6</th>\n",
       "      <td>7</td>\n",
       "      <td>5</td>\n",
       "      <td>4</td>\n",
       "      <td>39.90</td>\n",
       "      <td>credit</td>\n",
       "    </tr>\n",
       "    <tr>\n",
       "      <th>7</th>\n",
       "      <td>8</td>\n",
       "      <td>8</td>\n",
       "      <td>6</td>\n",
       "      <td>71.89</td>\n",
       "      <td>check</td>\n",
       "    </tr>\n",
       "    <tr>\n",
       "      <th>8</th>\n",
       "      <td>9</td>\n",
       "      <td>6</td>\n",
       "      <td>20</td>\n",
       "      <td>209.89</td>\n",
       "      <td>cash</td>\n",
       "    </tr>\n",
       "    <tr>\n",
       "      <th>9</th>\n",
       "      <td>10</td>\n",
       "      <td>4</td>\n",
       "      <td>3</td>\n",
       "      <td>17.54</td>\n",
       "      <td>cash</td>\n",
       "    </tr>\n",
       "    <tr>\n",
       "      <th>10</th>\n",
       "      <td>11</td>\n",
       "      <td>3</td>\n",
       "      <td>5</td>\n",
       "      <td>26.50</td>\n",
       "      <td>check</td>\n",
       "    </tr>\n",
       "    <tr>\n",
       "      <th>11</th>\n",
       "      <td>12</td>\n",
       "      <td>2</td>\n",
       "      <td>6</td>\n",
       "      <td>12.54</td>\n",
       "      <td>debit</td>\n",
       "    </tr>\n",
       "    <tr>\n",
       "      <th>12</th>\n",
       "      <td>13</td>\n",
       "      <td>1</td>\n",
       "      <td>9</td>\n",
       "      <td>99.56</td>\n",
       "      <td>check</td>\n",
       "    </tr>\n",
       "    <tr>\n",
       "      <th>13</th>\n",
       "      <td>14</td>\n",
       "      <td>8</td>\n",
       "      <td>2</td>\n",
       "      <td>21.00</td>\n",
       "      <td>credit</td>\n",
       "    </tr>\n",
       "    <tr>\n",
       "      <th>14</th>\n",
       "      <td>15</td>\n",
       "      <td>5</td>\n",
       "      <td>1</td>\n",
       "      <td>2.89</td>\n",
       "      <td>debit</td>\n",
       "    </tr>\n",
       "    <tr>\n",
       "      <th>15</th>\n",
       "      <td>16</td>\n",
       "      <td>4</td>\n",
       "      <td>1</td>\n",
       "      <td>0.99</td>\n",
       "      <td>debit</td>\n",
       "    </tr>\n",
       "    <tr>\n",
       "      <th>16</th>\n",
       "      <td>17</td>\n",
       "      <td>3</td>\n",
       "      <td>2</td>\n",
       "      <td>45.59</td>\n",
       "      <td>credit</td>\n",
       "    </tr>\n",
       "    <tr>\n",
       "      <th>17</th>\n",
       "      <td>18</td>\n",
       "      <td>2</td>\n",
       "      <td>10</td>\n",
       "      <td>105.66</td>\n",
       "      <td>debit</td>\n",
       "    </tr>\n",
       "    <tr>\n",
       "      <th>18</th>\n",
       "      <td>19</td>\n",
       "      <td>9</td>\n",
       "      <td>5</td>\n",
       "      <td>68.23</td>\n",
       "      <td>debit</td>\n",
       "    </tr>\n",
       "    <tr>\n",
       "      <th>19</th>\n",
       "      <td>20</td>\n",
       "      <td>10</td>\n",
       "      <td>2</td>\n",
       "      <td>4.56</td>\n",
       "      <td>debit</td>\n",
       "    </tr>\n",
       "  </tbody>\n",
       "</table>\n",
       "</div>"
      ],
      "text/plain": [
       "    purchase_id  customer_id  number_of_items  pretax_price purchase_type\n",
       "0             1            3                4         18.90        credit\n",
       "1             2            2                2         22.20          cash\n",
       "2             3            7                1          7.89         debit\n",
       "3             4            1               11        109.89         check\n",
       "4             5            4                3         33.30          cash\n",
       "5             6            9                2         10.99         debit\n",
       "6             7            5                4         39.90        credit\n",
       "7             8            8                6         71.89         check\n",
       "8             9            6               20        209.89          cash\n",
       "9            10            4                3         17.54          cash\n",
       "10           11            3                5         26.50         check\n",
       "11           12            2                6         12.54         debit\n",
       "12           13            1                9         99.56         check\n",
       "13           14            8                2         21.00        credit\n",
       "14           15            5                1          2.89         debit\n",
       "15           16            4                1          0.99         debit\n",
       "16           17            3                2         45.59        credit\n",
       "17           18            2               10        105.66         debit\n",
       "18           19            9                5         68.23         debit\n",
       "19           20           10                2          4.56         debit"
      ]
     },
     "execution_count": 8,
     "metadata": {},
     "output_type": "execute_result"
    }
   ],
   "source": [
    "## Write the SQL statement inside a string\n",
    "## then place in conn.execute\n",
    "results = conn.execute(\"SELECT * FROM purchases\")\n",
    "\n",
    "## To print all the results of the query you can use\n",
    "## fetchall()\n",
    "pd.DataFrame(results.fetchall(),\n",
    "                 columns = results.keys())\n",
    "\n",
    "## note here, results.keys() returns the columns of the table\n"
   ]
  },
  {
   "cell_type": "code",
   "execution_count": 9,
   "metadata": {},
   "outputs": [
    {
     "data": {
      "text/plain": [
       "(1, 3, 4, 18.9, 'credit')"
      ]
     },
     "execution_count": 9,
     "metadata": {},
     "output_type": "execute_result"
    }
   ],
   "source": [
    "results = conn.execute(\"SELECT * FROM purchases\")\n",
    "\n",
    "## there is also fetchone\n",
    "## which returns a tuple corresponding the the first\n",
    "## returned row\n",
    "results.fetchone()"
   ]
  },
  {
   "cell_type": "code",
   "execution_count": 10,
   "metadata": {},
   "outputs": [
    {
     "data": {
      "text/plain": [
       "[(2, 2, 2, 22.2, 'cash'),\n",
       " (3, 7, 1, 7.89, 'debit'),\n",
       " (4, 1, 11, 109.89, 'check'),\n",
       " (5, 4, 3, 33.3, 'cash')]"
      ]
     },
     "execution_count": 10,
     "metadata": {},
     "output_type": "execute_result"
    }
   ],
   "source": [
    "## and fetchmany(n)\n",
    "## which returns the next n sequential returned rows\n",
    "results.fetchmany(4)"
   ]
  },
  {
   "cell_type": "markdown",
   "metadata": {},
   "source": [
    "Note that when using `fetchone` or `fetchmany` the results are returned sequentially. Let's check that you understand that concept now.\n",
    "\n",
    "##### Practice\n",
    "\n",
    "What do you expect to be returned with the following code chunk?"
   ]
  },
  {
   "cell_type": "code",
   "execution_count": 11,
   "metadata": {},
   "outputs": [
    {
     "data": {
      "text/plain": [
       "(6, 9, 2, 10.99, 'debit')"
      ]
     },
     "execution_count": 11,
     "metadata": {},
     "output_type": "execute_result"
    }
   ],
   "source": [
    "results.fetchone()"
   ]
  },
  {
   "cell_type": "markdown",
   "metadata": {},
   "source": [
    "What about this code chunk?"
   ]
  },
  {
   "cell_type": "code",
   "execution_count": 12,
   "metadata": {},
   "outputs": [
    {
     "data": {
      "text/plain": [
       "[(7, 5, 4, 39.9, 'credit'),\n",
       " (8, 8, 6, 71.89, 'check'),\n",
       " (9, 6, 20, 209.89, 'cash'),\n",
       " (10, 4, 3, 17.54, 'cash')]"
      ]
     },
     "execution_count": 12,
     "metadata": {},
     "output_type": "execute_result"
    }
   ],
   "source": [
    "results.fetchmany(4)"
   ]
  },
  {
   "cell_type": "markdown",
   "metadata": {},
   "source": [
    "#### Using SQL for basic stats\n",
    "\n",
    "We can also use SQL to compute basic statistics of numeric columns like the mean, max, min and how many observations there are. Let's demonstrate how."
   ]
  },
  {
   "cell_type": "code",
   "execution_count": 15,
   "metadata": {},
   "outputs": [
    {
     "data": {
      "text/plain": [
       "[(20,)]"
      ]
     },
     "execution_count": 15,
     "metadata": {},
     "output_type": "execute_result"
    }
   ],
   "source": [
    "## COUNT\n",
    "## This gives you how many results were returned by your query\n",
    "results = conn.execute(\"SELECT COUNT(*) FROM purchases\")\n",
    "\n",
    "results.fetchall()"
   ]
  },
  {
   "cell_type": "code",
   "execution_count": 16,
   "metadata": {},
   "outputs": [
    {
     "data": {
      "text/plain": [
       "[(209.89,)]"
      ]
     },
     "execution_count": 16,
     "metadata": {},
     "output_type": "execute_result"
    }
   ],
   "source": [
    "## MAX\n",
    "## This gives the maximum value of the specified column\n",
    "results = conn.execute(\"SELECT MAX(pretax_price) FROM purchases\")\n",
    "\n",
    "results.fetchall()"
   ]
  },
  {
   "cell_type": "code",
   "execution_count": 17,
   "metadata": {},
   "outputs": [
    {
     "data": {
      "text/plain": [
       "[(0.99,)]"
      ]
     },
     "execution_count": 17,
     "metadata": {},
     "output_type": "execute_result"
    }
   ],
   "source": [
    "## MIN\n",
    "## This gives the minimum value of the specified column\n",
    "results = conn.execute(\"SELECT MIN(pretax_price) FROM purchases\")\n",
    "\n",
    "results.fetchall()"
   ]
  },
  {
   "cell_type": "code",
   "execution_count": 18,
   "metadata": {},
   "outputs": [
    {
     "data": {
      "text/plain": [
       "[(46.4955,)]"
      ]
     },
     "execution_count": 18,
     "metadata": {},
     "output_type": "execute_result"
    }
   ],
   "source": [
    "## AVG\n",
    "## This gives the mean value of the specified column\n",
    "results = conn.execute(\"SELECT AVG(pretax_price) FROM purchases\")\n",
    "\n",
    "results.fetchall()"
   ]
  },
  {
   "cell_type": "markdown",
   "metadata": {},
   "source": [
    "#### Using `pandas` with `SQLAlchemy`\n",
    "\n",
    "While you can create a DataFrame like we did above with one of the `fetch` commands, you can also use `pandas` package directly.\n",
    "\n",
    "##### `pandas.read_sql_query`\n",
    "\n",
    "The command `pandas.read_sql_query` allows you to write a SQL query and have it executed via `pandas`."
   ]
  },
  {
   "cell_type": "code",
   "execution_count": 19,
   "metadata": {},
   "outputs": [
    {
     "data": {
      "text/html": [
       "<div>\n",
       "<style scoped>\n",
       "    .dataframe tbody tr th:only-of-type {\n",
       "        vertical-align: middle;\n",
       "    }\n",
       "\n",
       "    .dataframe tbody tr th {\n",
       "        vertical-align: top;\n",
       "    }\n",
       "\n",
       "    .dataframe thead th {\n",
       "        text-align: right;\n",
       "    }\n",
       "</style>\n",
       "<table border=\"1\" class=\"dataframe\">\n",
       "  <thead>\n",
       "    <tr style=\"text-align: right;\">\n",
       "      <th></th>\n",
       "      <th>customer_id</th>\n",
       "      <th>name</th>\n",
       "      <th>age</th>\n",
       "      <th>years_customer</th>\n",
       "      <th>email</th>\n",
       "      <th>phone</th>\n",
       "    </tr>\n",
       "  </thead>\n",
       "  <tbody>\n",
       "    <tr>\n",
       "      <th>0</th>\n",
       "      <td>1</td>\n",
       "      <td>Mike Evans</td>\n",
       "      <td>34</td>\n",
       "      <td>2</td>\n",
       "      <td>mik.evans@yahoo.com</td>\n",
       "      <td>323-333-4545</td>\n",
       "    </tr>\n",
       "    <tr>\n",
       "      <th>1</th>\n",
       "      <td>2</td>\n",
       "      <td>Francine Frensky</td>\n",
       "      <td>22</td>\n",
       "      <td>1</td>\n",
       "      <td>arthurfan@gmail.com</td>\n",
       "      <td>339-300-4453</td>\n",
       "    </tr>\n",
       "    <tr>\n",
       "      <th>2</th>\n",
       "      <td>3</td>\n",
       "      <td>Melanie PBody</td>\n",
       "      <td>16</td>\n",
       "      <td>0</td>\n",
       "      <td>mel@aol.com</td>\n",
       "      <td>222-506-9040</td>\n",
       "    </tr>\n",
       "    <tr>\n",
       "      <th>3</th>\n",
       "      <td>4</td>\n",
       "      <td>Mark Ruffalo</td>\n",
       "      <td>40</td>\n",
       "      <td>7</td>\n",
       "      <td>hulk@marvel.com</td>\n",
       "      <td>899-334-2980</td>\n",
       "    </tr>\n",
       "    <tr>\n",
       "      <th>4</th>\n",
       "      <td>6</td>\n",
       "      <td>Richard Frank</td>\n",
       "      <td>25</td>\n",
       "      <td>3</td>\n",
       "      <td>letsbefrank@hotmail.com</td>\n",
       "      <td>849-333-1223</td>\n",
       "    </tr>\n",
       "    <tr>\n",
       "      <th>5</th>\n",
       "      <td>7</td>\n",
       "      <td>Olivia Olive</td>\n",
       "      <td>19</td>\n",
       "      <td>2</td>\n",
       "      <td>oliveyou@hotmail.com</td>\n",
       "      <td>588-309-8593</td>\n",
       "    </tr>\n",
       "    <tr>\n",
       "      <th>6</th>\n",
       "      <td>8</td>\n",
       "      <td>Frances Paris</td>\n",
       "      <td>23</td>\n",
       "      <td>5</td>\n",
       "      <td>iseelondon@gmail.com</td>\n",
       "      <td>543-222-3958</td>\n",
       "    </tr>\n",
       "    <tr>\n",
       "      <th>7</th>\n",
       "      <td>9</td>\n",
       "      <td>Paul London</td>\n",
       "      <td>54</td>\n",
       "      <td>11</td>\n",
       "      <td>bakeitwork@gmail.com</td>\n",
       "      <td>853-200-4930</td>\n",
       "    </tr>\n",
       "    <tr>\n",
       "      <th>8</th>\n",
       "      <td>10</td>\n",
       "      <td>Jenny Gump</td>\n",
       "      <td>65</td>\n",
       "      <td>20</td>\n",
       "      <td>runforrestrun@aol.com</td>\n",
       "      <td>883-234-5504</td>\n",
       "    </tr>\n",
       "  </tbody>\n",
       "</table>\n",
       "</div>"
      ],
      "text/plain": [
       "   customer_id              name  age  years_customer  \\\n",
       "0            1        Mike Evans   34               2   \n",
       "1            2  Francine Frensky   22               1   \n",
       "2            3     Melanie PBody   16               0   \n",
       "3            4      Mark Ruffalo   40               7   \n",
       "4            6     Richard Frank   25               3   \n",
       "5            7      Olivia Olive   19               2   \n",
       "6            8     Frances Paris   23               5   \n",
       "7            9       Paul London   54              11   \n",
       "8           10        Jenny Gump   65              20   \n",
       "\n",
       "                     email         phone  \n",
       "0      mik.evans@yahoo.com  323-333-4545  \n",
       "1      arthurfan@gmail.com  339-300-4453  \n",
       "2              mel@aol.com  222-506-9040  \n",
       "3          hulk@marvel.com  899-334-2980  \n",
       "4  letsbefrank@hotmail.com  849-333-1223  \n",
       "5     oliveyou@hotmail.com  588-309-8593  \n",
       "6     iseelondon@gmail.com  543-222-3958  \n",
       "7     bakeitwork@gmail.com  853-200-4930  \n",
       "8    runforrestrun@aol.com  883-234-5504  "
      ]
     },
     "execution_count": 19,
     "metadata": {},
     "output_type": "execute_result"
    }
   ],
   "source": [
    "## First write your SQL query as a string\n",
    "## Then give your SQLAlchemy connection object\n",
    "## docs: https://pandas.pydata.org/docs/reference/api/pandas.read_sql_query.html\n",
    "pd.read_sql_query(\"SELECT * FROM customers\", conn)"
   ]
  },
  {
   "cell_type": "markdown",
   "metadata": {},
   "source": [
    "##### `pandas.read_sql_table`\n",
    "\n",
    "You can also just read a table directly into a DataFrame with `pandas` using `pandas.read_sql_table`."
   ]
  },
  {
   "cell_type": "code",
   "execution_count": 20,
   "metadata": {},
   "outputs": [
    {
     "data": {
      "text/html": [
       "<div>\n",
       "<style scoped>\n",
       "    .dataframe tbody tr th:only-of-type {\n",
       "        vertical-align: middle;\n",
       "    }\n",
       "\n",
       "    .dataframe tbody tr th {\n",
       "        vertical-align: top;\n",
       "    }\n",
       "\n",
       "    .dataframe thead th {\n",
       "        text-align: right;\n",
       "    }\n",
       "</style>\n",
       "<table border=\"1\" class=\"dataframe\">\n",
       "  <thead>\n",
       "    <tr style=\"text-align: right;\">\n",
       "      <th></th>\n",
       "      <th>customer_id</th>\n",
       "      <th>name</th>\n",
       "      <th>age</th>\n",
       "      <th>years_customer</th>\n",
       "      <th>email</th>\n",
       "      <th>phone</th>\n",
       "    </tr>\n",
       "  </thead>\n",
       "  <tbody>\n",
       "    <tr>\n",
       "      <th>0</th>\n",
       "      <td>1</td>\n",
       "      <td>Mike Evans</td>\n",
       "      <td>34</td>\n",
       "      <td>2</td>\n",
       "      <td>mik.evans@yahoo.com</td>\n",
       "      <td>323-333-4545</td>\n",
       "    </tr>\n",
       "    <tr>\n",
       "      <th>1</th>\n",
       "      <td>2</td>\n",
       "      <td>Francine Frensky</td>\n",
       "      <td>22</td>\n",
       "      <td>1</td>\n",
       "      <td>arthurfan@gmail.com</td>\n",
       "      <td>339-300-4453</td>\n",
       "    </tr>\n",
       "    <tr>\n",
       "      <th>2</th>\n",
       "      <td>3</td>\n",
       "      <td>Melanie PBody</td>\n",
       "      <td>16</td>\n",
       "      <td>0</td>\n",
       "      <td>mel@aol.com</td>\n",
       "      <td>222-506-9040</td>\n",
       "    </tr>\n",
       "    <tr>\n",
       "      <th>3</th>\n",
       "      <td>4</td>\n",
       "      <td>Mark Ruffalo</td>\n",
       "      <td>40</td>\n",
       "      <td>7</td>\n",
       "      <td>hulk@marvel.com</td>\n",
       "      <td>899-334-2980</td>\n",
       "    </tr>\n",
       "    <tr>\n",
       "      <th>4</th>\n",
       "      <td>6</td>\n",
       "      <td>Richard Frank</td>\n",
       "      <td>25</td>\n",
       "      <td>3</td>\n",
       "      <td>letsbefrank@hotmail.com</td>\n",
       "      <td>849-333-1223</td>\n",
       "    </tr>\n",
       "    <tr>\n",
       "      <th>5</th>\n",
       "      <td>7</td>\n",
       "      <td>Olivia Olive</td>\n",
       "      <td>19</td>\n",
       "      <td>2</td>\n",
       "      <td>oliveyou@hotmail.com</td>\n",
       "      <td>588-309-8593</td>\n",
       "    </tr>\n",
       "    <tr>\n",
       "      <th>6</th>\n",
       "      <td>8</td>\n",
       "      <td>Frances Paris</td>\n",
       "      <td>23</td>\n",
       "      <td>5</td>\n",
       "      <td>iseelondon@gmail.com</td>\n",
       "      <td>543-222-3958</td>\n",
       "    </tr>\n",
       "    <tr>\n",
       "      <th>7</th>\n",
       "      <td>9</td>\n",
       "      <td>Paul London</td>\n",
       "      <td>54</td>\n",
       "      <td>11</td>\n",
       "      <td>bakeitwork@gmail.com</td>\n",
       "      <td>853-200-4930</td>\n",
       "    </tr>\n",
       "    <tr>\n",
       "      <th>8</th>\n",
       "      <td>10</td>\n",
       "      <td>Jenny Gump</td>\n",
       "      <td>65</td>\n",
       "      <td>20</td>\n",
       "      <td>runforrestrun@aol.com</td>\n",
       "      <td>883-234-5504</td>\n",
       "    </tr>\n",
       "  </tbody>\n",
       "</table>\n",
       "</div>"
      ],
      "text/plain": [
       "   customer_id              name  age  years_customer  \\\n",
       "0            1        Mike Evans   34               2   \n",
       "1            2  Francine Frensky   22               1   \n",
       "2            3     Melanie PBody   16               0   \n",
       "3            4      Mark Ruffalo   40               7   \n",
       "4            6     Richard Frank   25               3   \n",
       "5            7      Olivia Olive   19               2   \n",
       "6            8     Frances Paris   23               5   \n",
       "7            9       Paul London   54              11   \n",
       "8           10        Jenny Gump   65              20   \n",
       "\n",
       "                     email         phone  \n",
       "0      mik.evans@yahoo.com  323-333-4545  \n",
       "1      arthurfan@gmail.com  339-300-4453  \n",
       "2              mel@aol.com  222-506-9040  \n",
       "3          hulk@marvel.com  899-334-2980  \n",
       "4  letsbefrank@hotmail.com  849-333-1223  \n",
       "5     oliveyou@hotmail.com  588-309-8593  \n",
       "6     iseelondon@gmail.com  543-222-3958  \n",
       "7     bakeitwork@gmail.com  853-200-4930  \n",
       "8    runforrestrun@aol.com  883-234-5504  "
      ]
     },
     "execution_count": 20,
     "metadata": {},
     "output_type": "execute_result"
    }
   ],
   "source": [
    "## First write the table name\n",
    "## Then give your SQLAlchemy connection object\n",
    "## docs: https://pandas.pydata.org/docs/reference/api/pandas.read_sql_table.html#pandas.read_sql_table\n",
    "pd.read_sql_table(\"customers\", conn)"
   ]
  },
  {
   "cell_type": "markdown",
   "metadata": {},
   "source": [
    "#### Closing the connection\n",
    "\n",
    "When you are done submitting queries you need to close the connection to the database."
   ]
  },
  {
   "cell_type": "code",
   "execution_count": 21,
   "metadata": {},
   "outputs": [],
   "source": [
    "## When we're done we close the connection\n",
    "conn.close()"
   ]
  },
  {
   "cell_type": "markdown",
   "metadata": {},
   "source": [
    "#### Disposing of the engine\n",
    "\n",
    "When you think you are all the way done with using the database you dispose of the engine."
   ]
  },
  {
   "cell_type": "code",
   "execution_count": 22,
   "metadata": {},
   "outputs": [],
   "source": [
    "## then dispose the engine\n",
    "engine.dispose()"
   ]
  },
  {
   "cell_type": "markdown",
   "metadata": {},
   "source": [
    "## Summary\n",
    "\n",
    "In this notebook we introduced the concept of a relational database and discussed how you can access data stored within one. The content presented here was just a start and for those of you interested in more complicated database commands please go through the accompanying notebook stored in the `Practice Problems` folder of this repository."
   ]
  },
  {
   "cell_type": "markdown",
   "metadata": {},
   "source": [
    "--------------------------\n",
    "\n",
    "This notebook was written for the Erd&#337;s Institute C&#337;de Data Science Boot Camp by Matthew Osborne, Ph. D., 2022.\n",
    "\n",
    "Any potential redistributors must seek and receive permission from Matthew Tyler Osborne, Ph.D. prior to redistribution. Redistribution of the material contained in this repository is conditional on acknowledgement of Matthew Tyler Osborne, Ph.D.'s original authorship and sponsorship of the Erdős Institute as subject to the license (see License.md)"
   ]
  },
  {
   "cell_type": "code",
   "execution_count": null,
   "metadata": {},
   "outputs": [],
   "source": []
  }
 ],
 "metadata": {
  "kernelspec": {
   "display_name": "Python 3",
   "language": "python",
   "name": "python3"
  },
  "language_info": {
   "codemirror_mode": {
    "name": "ipython",
    "version": 3
   },
   "file_extension": ".py",
   "mimetype": "text/x-python",
   "name": "python",
   "nbconvert_exporter": "python",
   "pygments_lexer": "ipython3",
   "version": "3.6.4"
  }
 },
 "nbformat": 4,
 "nbformat_minor": 5
}
