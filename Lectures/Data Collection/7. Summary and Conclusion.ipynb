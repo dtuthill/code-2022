{
 "cells": [
  {
   "cell_type": "markdown",
   "id": "3a97fec1",
   "metadata": {},
   "source": [
    "# Summary and Conclusion\n",
    "\n",
    "In this section we reviewed a number of data collection techniques including:\n",
    "- Finding data in data repositories or on data competition websites,\n",
    "- Extracting data from databases,\n",
    "- Scraping web data and\n",
    "- Interacting with APIs using python.\n",
    "\n",
    "Notably, we did not cover other data collection techniques including:\n",
    "- Survey design and administration,\n",
    "- Designing apps or websites to collect trace data,\n",
    "- Running experiments,\n",
    "- Etc.\n",
    "\n",
    "Nonetheless, what we did cover has equipped you with a wide array of tools with which to gather data for your next data based project. \n",
    "\n",
    "Before moving on to data science algorithms and data cleaning techniques, however, we will end this section by discussing some items you should consider when working with data."
   ]
  },
  {
   "cell_type": "markdown",
   "id": "1b5aebcb",
   "metadata": {},
   "source": [
    "## Asking questions\n",
    "\n",
    "The start of a data science project can usually be broken down into two concepts:\n",
    "1. Having an idea for a project and\n",
    "2. Having an interesting data set.\n",
    "\n",
    "<img src=\"idea_data.png\" width=\"45%\"></img>\n",
    "\n",
    "Your project may be purely one or the other or may be some kind of combination of the two. Regardless, it is important to think carefully at this stage of the project and ask yourself some foundational questions before proceeding full force into the modeling stage.\n",
    "\n",
    "### Some questions to think about\n",
    "\n",
    "Here are some questions you may want to consider, noting that not all of these will be applicable to every data project.\n",
    "\n",
    "- What is your research question or your desired end goal? \n",
    "    - Sit down to write it out clearly, it's okay if this is not where your final project ends up.\n",
    "    - Once you have a clear end goal in mind, what data do you think you need to pursue that end goal? Do you have that data? Is that data easily obtainable?\n",
    "- Is the data that you think you need available?\n",
    "    - If so, how easy is it to collect?\n",
    "    - If not, is there a proxy you could use that may be just as effective as your original plan?\n",
    "- Can the data set you have directly answer the research question you have? \n",
    "    - If not, what prevents it from being able to do so?\n",
    "- What are the limitations of your data set?\n",
    "    - Is it not representative of the population of interest? \n",
    "            - Example: greatly skewed in terms of gender, race or age.\n",
    "    - Does it not contain information about a variable of interest, but rather a highly correlated proxy variable?\n",
    "            - Example: only has data on flu vaccination intention, but not flu vaccination outcome.\n",
    "    - Does it contain incomplete data?\n",
    "    - Understanding the limitations of your data set can help you better interpret your findings and realistically set expectations for what can be accomplished.\n",
    "- Do you have all of the data you need, or should you collect more?\n",
    "\n",
    "This list is by no means comprehensive, but it behooves the young data scientist to think these sorts of things through prior to writing down and fitting models. In particular, my hope is that by carefully thinking about:\n",
    "- Your goals for the project,\n",
    "- What data you want and what data you need,\n",
    "- What data you can realistically get,\n",
    "- How that data can be used to achieve your goals and\n",
    "- What limitations are present in your data set,\n",
    "\n",
    "you can more intelligently and efficiently go about completing your data based project. There is a tendency in data science to collect as much data as possible without regard for how it will be used. By thinking intelligently we can limit the amount of unhelpful data we collect and maximize the amount of useful data we collect."
   ]
  },
  {
   "cell_type": "markdown",
   "id": "4f3a2703",
   "metadata": {},
   "source": [
    "## Wrapping up\n",
    "\n",
    "Once we have our data in hand we are ready to start data exploration and modeling. In our next sections we will learn how to do so."
   ]
  },
  {
   "cell_type": "markdown",
   "id": "9bcb6c5c",
   "metadata": {},
   "source": [
    "--------------------------\n",
    "\n",
    "This notebook was written for the Erd&#337;s Institute C&#337;de Data Science Boot Camp by Matthew Osborne, Ph. D., 2022.\n",
    "\n",
    "Any potential redistributors must seek and receive permission from Matthew Tyler Osborne, Ph.D. prior to redistribution. Redistribution of the material contained in this repository is conditional on acknowledgement of Matthew Tyler Osborne, Ph.D.'s original authorship and sponsorship of the Erdős Institute as subject to the license (see License.md)"
   ]
  },
  {
   "cell_type": "code",
   "execution_count": null,
   "id": "fbc42db0",
   "metadata": {},
   "outputs": [],
   "source": []
  }
 ],
 "metadata": {
  "kernelspec": {
   "display_name": "Python 3 (ipykernel)",
   "language": "python",
   "name": "python3"
  },
  "language_info": {
   "codemirror_mode": {
    "name": "ipython",
    "version": 3
   },
   "file_extension": ".py",
   "mimetype": "text/x-python",
   "name": "python",
   "nbconvert_exporter": "python",
   "pygments_lexer": "ipython3",
   "version": "3.9.9"
  }
 },
 "nbformat": 4,
 "nbformat_minor": 5
}
