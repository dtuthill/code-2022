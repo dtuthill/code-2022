{
 "cells": [
  {
   "cell_type": "markdown",
   "id": "e1778801",
   "metadata": {},
   "source": [
    "# Python and APIs\n",
    "\n",
    "While we now have the ability to scrape a website with `bs4` there will be some websites that are impossible or incredibly inconvenient to scrape in this manner. Luckily, some of these websites have application programming interfaces (APIs) that are easily accessible via python.\n",
    "\n",
    "## What we will accomplish\n",
    "\n",
    "In this notebook we will:\n",
    "- Introduce the concept of an API,\n",
    "- Discuss python wrappers for APIs,\n",
    "- Give an example of a python wrapper for an API and\n",
    "- Provide a list of useful API python packages."
   ]
  },
  {
   "cell_type": "markdown",
   "id": "6ca30b97",
   "metadata": {},
   "source": [
    "## What is an API?\n",
    "\n",
    "An application programming interface is a go between for two \"application\"s. For our purposes, we can think of one application as your data science project and the other as the website or app that you want some data from.\n",
    "\n",
    "A common analogy used when describing APIs is that of a waiter. The waiter comes to your table, recieves your order, gives your order to the chef, then retrieves the cooked food and takes it back to your table. In this analogy you are you, the waiter is the API and the chef is the web application. Schematically it looks like this:\n",
    "\n",
    "<img src=\"api1.png\" width=\"60%\"></img>\n",
    "<br>\n",
    "<br>\n",
    "<img src=\"api2.png\" width=\"60%\"></img>\n",
    "<br>\n",
    "<br>\n",
    "<img src=\"api3.png\" width=\"60%\"></img>\n",
    "<br>\n",
    "<br>\n",
    "<img src=\"api4.png\" width=\"60%\"></img>\n",
    "\n",
    "While we may be able to write custom code to scrape these websites or applications ourselves, it often behooves us to use APIs when they exist and are accessible. For one, many websites may have it in their terms of service that you have to use this route for data collection. Moreover, interacting with the API is probably much easier and more efficient."
   ]
  },
  {
   "cell_type": "markdown",
   "id": "d0b4e5cd",
   "metadata": {},
   "source": [
    "## Python wrappers for APIs\n",
    "\n",
    "An API may not be created with the ability to directly accept python commands as input, however, many individuals have put in the time to create <i>python wrappers</i> which convert python commands into the relevant commands that can be understood by the API. A python wrapper for an API is a python package or module that was written to take your requests in python and translate them into a language the API can understand.\n",
    "\n",
    "Python wrappers have been written for some of the most popular APIs including:\n",
    "- Twitter, <a href=\"https://docs.tweepy.org/en/stable/#\">https://docs.tweepy.org/en/stable/#</a>,\n",
    "- Reddit, <a href=\"https://praw.readthedocs.io/en/stable/\">https://praw.readthedocs.io/en/stable/</a>,\n",
    "- The New York Times, <a href=\"https://github.com/michadenheijer/pynytimes\">https://github.com/michadenheijer/pynytimes</a> and\n",
    "- More.\n",
    "\n",
    "## Example: Using a python wrapper for the New York Times API\n",
    "\n",
    "We will now demonstrate an example use of a python wrapper for an API with the `pynytimes` package. <i>Note that you will need to install this package to follow along. Docs: <a href=\"https://github.com/michadenheijer/pynytimes\">https://github.com/michadenheijer/pynytimes<a></i>"
   ]
  },
  {
   "cell_type": "code",
   "execution_count": null,
   "id": "9a848d8e",
   "metadata": {},
   "outputs": [],
   "source": [
    "import pynytimes"
   ]
  },
  {
   "cell_type": "code",
   "execution_count": null,
   "id": "7854801d",
   "metadata": {},
   "outputs": [],
   "source": [
    "## Version check, I had version 0.8.0 when I wrote this\n",
    "print(pynytimes.__version__)"
   ]
  },
  {
   "cell_type": "markdown",
   "id": "617aa925",
   "metadata": {},
   "source": [
    "### Getting a New York Times developer key\n",
    "\n",
    "In order to use the API you first have to get a developer key. This is a common step for API use. Developer keys allow the API to track who is trying to use their API, how they are trying to use it and what level of access they have. You will need to get a developer key in order to move forward, <a href=\"https://developer.nytimes.com/\">https://developer.nytimes.com/</a>. In particular you should go to the \"Get Started\" area, <a href=\"https://developer.nytimes.com/get-started\">https://developer.nytimes.com/get-started</a>, unless you already had a developer key.\n",
    "\n",
    "After you work through the steps to get an API go into the file, `my_api_info.py` and edit the function `get_nytimes_key()` so that it returns your API key as a string instead of \"YOUR KEY HERE\".\n",
    "\n",
    "<i><b>Note: never share your API key with anyone else, and do not upload it to a repository in a file.</b></i> That is your API key, and it is associated with your digital footprint for this particular API.\n",
    "\n",
    "### Making a `NYTAPI` object\n",
    "\n",
    "Let's now see how we can use our key to help us make a `NYTAPI` object."
   ]
  },
  {
   "cell_type": "code",
   "execution_count": null,
   "id": "1db5d668",
   "metadata": {},
   "outputs": [],
   "source": [
    "from pynytimes import NYTAPI"
   ]
  },
  {
   "cell_type": "code",
   "execution_count": null,
   "id": "40018915",
   "metadata": {},
   "outputs": [],
   "source": [
    "## edit this code accordingly\n",
    "from matt_api_info import get_nytimes_key"
   ]
  },
  {
   "cell_type": "code",
   "execution_count": null,
   "id": "1dc57031",
   "metadata": {},
   "outputs": [],
   "source": [
    "## to create an NYTAPI object call\n",
    "## NYTAPI(key, parse_dates=True)\n",
    "nytapi = NYTAPI(get_nytimes_key(), parse_dates=True) "
   ]
  },
  {
   "cell_type": "markdown",
   "id": "f21cf2ec",
   "metadata": {},
   "source": [
    "### Searching for 20 basketball articles\n",
    "\n",
    "One endpoint of the New York Times API is `article_search`. This endpoint will allow us to specify a keyword, a number of desired results and date range and then return what articles match that query.\n",
    "\n",
    "We will use it to search for basketball articles posted in the month of February 2022. For this we will need the `datetime` module."
   ]
  },
  {
   "cell_type": "code",
   "execution_count": null,
   "id": "b563f644",
   "metadata": {},
   "outputs": [],
   "source": [
    "from datetime import datetime"
   ]
  },
  {
   "cell_type": "code",
   "execution_count": null,
   "id": "6325b2ab",
   "metadata": {},
   "outputs": [],
   "source": [
    "## call nytapi.article_search\n",
    "## specify your keyword with query = \n",
    "## how many results you want with results =\n",
    "## give the end and begin dates with dates = {'begin':   , 'end': }\n",
    "results = nytapi.article_search()"
   ]
  },
  {
   "cell_type": "code",
   "execution_count": null,
   "id": "afbf464a",
   "metadata": {},
   "outputs": [],
   "source": [
    "## a list of dictionary objects is returned\n"
   ]
  },
  {
   "cell_type": "code",
   "execution_count": null,
   "id": "4885f659",
   "metadata": {},
   "outputs": [],
   "source": [
    "## Let's look at one\n"
   ]
  },
  {
   "cell_type": "markdown",
   "id": "7042756a",
   "metadata": {},
   "source": [
    "##### Exercise\n",
    "\n",
    "Read the documentation, <a href=\"https://github.com/michadenheijer/pynytimes\">https://github.com/michadenheijer/pynytimes</a>, and find the reviews for all books by Maya Angelou using the `book_reviews` endpoint."
   ]
  },
  {
   "cell_type": "code",
   "execution_count": null,
   "id": "5d713b76",
   "metadata": {},
   "outputs": [],
   "source": []
  },
  {
   "cell_type": "code",
   "execution_count": null,
   "id": "eef643a5",
   "metadata": {},
   "outputs": [],
   "source": []
  },
  {
   "cell_type": "markdown",
   "id": "2da3cd56",
   "metadata": {},
   "source": [
    "## Useful python API wrappers\n",
    "\n",
    "There are python wrappers for many APIs. Here is a compiled list of some of the most useful <a href=\"https://github.com/realpython/list-of-python-api-wrappers\">https://github.com/realpython/list-of-python-api-wrappers</a>.\n",
    "\n",
    "If there is a particular site or service that you want data from it can be a good idea to do a simple web search to see if an API exists and if there is a nice python wrapper for it."
   ]
  },
  {
   "cell_type": "markdown",
   "id": "a8612bb5",
   "metadata": {},
   "source": [
    "--------------------------\n",
    "\n",
    "This notebook was written for the Erd&#337;s Institute C&#337;de Data Science Boot Camp by Matthew Osborne, Ph. D., 2022.\n",
    "\n",
    "Any potential redistributors must seek and receive permission from Matthew Tyler Osborne, Ph.D. prior to redistribution. Redistribution of the material contained in this repository is conditional on acknowledgement of Matthew Tyler Osborne, Ph.D.'s original authorship and sponsorship of the Erdős Institute as subject to the license (see License.md)"
   ]
  },
  {
   "cell_type": "code",
   "execution_count": null,
   "id": "c6bbb63f",
   "metadata": {},
   "outputs": [],
   "source": []
  }
 ],
 "metadata": {
  "kernelspec": {
   "display_name": "Python 3 (ipykernel)",
   "language": "python",
   "name": "python3"
  },
  "language_info": {
   "codemirror_mode": {
    "name": "ipython",
    "version": 3
   },
   "file_extension": ".py",
   "mimetype": "text/x-python",
   "name": "python",
   "nbconvert_exporter": "python",
   "pygments_lexer": "ipython3",
   "version": "3.9.9"
  }
 },
 "nbformat": 4,
 "nbformat_minor": 5
}
