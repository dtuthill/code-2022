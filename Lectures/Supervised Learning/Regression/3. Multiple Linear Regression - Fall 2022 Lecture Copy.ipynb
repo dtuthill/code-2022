{
 "cells": [
  {
   "cell_type": "markdown",
   "id": "1f1769a6",
   "metadata": {},
   "source": [
    "# Multiple Linear Regression\n",
    "\n",
    "Most variables of interest probably depend upon more than just a single feature. That is why statisticians invented multiple linear regression.\n",
    "\n",
    "## What we will accomplish\n",
    "\n",
    "In this notebook we will:\n",
    "- Introduce the multiple linear regression model,\n",
    "- Show how to fit the model using the <i>normal equation</i>,\n",
    "- Fit a sample model with `numpy` and\n",
    "- Fit the same model with `sklearn`."
   ]
  },
  {
   "cell_type": "code",
   "execution_count": 1,
   "id": "6f515b56",
   "metadata": {},
   "outputs": [],
   "source": [
    "import pandas as pd\n",
    "import numpy as np\n",
    "import matplotlib.pyplot as plt\n",
    "from seaborn import set_style\n",
    "\n",
    "set_style(\"whitegrid\")"
   ]
  },
  {
   "cell_type": "markdown",
   "id": "277995ad",
   "metadata": {},
   "source": [
    "## The multiple linear regression model\n",
    "\n",
    "Suppose there is a quantitative variable you want to predict/model called $y$ and a set of $m$ features $X_1, X_2, \\dots X_m$, then the multiple linear regression model regressing $y$ on $X_1, \\dots, X_m$ is:\n",
    "\n",
    "$$\n",
    "y = \\beta_0 + \\beta_1 X_1 + \\beta_2 X_2 + \\dots + \\beta_m X_m + \\epsilon = X \\beta + \\epsilon,\n",
    "$$\n",
    "\n",
    "where $\\beta_0, \\dots, \\beta_m \\in \\mathbb{R}$ are constants, $\\beta$ is an $(m+1) \\times 1$ vector of the $\\beta_i$s in numerical order, \n",
    "\n",
    "$$\n",
    "X = \\left(1 | X_1 | X_2 | \\dots | X_m \\right),\n",
    "$$\n",
    "\n",
    "and $\\epsilon \\sim N(0,\\sigma)$ is an error term independent of $X$.\n",
    "\n",
    "### Fitting the model\n",
    "\n",
    "Suppose that we have $n$ observations $(X^{(i)}, y^{(i)})$. In order to fit a multiple linear regression model regressing $y$ on $X$ using this data we return to the mean square error.\n",
    "\n",
    "$$\n",
    "MSE = \\frac{1}{n} \\sum_{i=1}^n \\left(y^{(i)} - \\hat{y}^{(i)}\\right)^2 = \\frac{1}{n} \\sum_{i=1}^n \\left(y^{(i)} - X^{(i)} \\hat{\\beta}\\right)^2,\n",
    "$$\n",
    "\n",
    "we can rewrite this using some linear algebra as:\n",
    "\n",
    "$$\n",
    "MSE = \\frac{1}{n}\\left(y - X\\hat{\\beta} \\right)^T\\left(y-X\\hat{\\beta} \\right) = \\frac{1}{n}\\left( y^T y - \\hat{\\beta}^T X^T y - y^T X \\hat{\\beta} + \\hat{\\beta}^T X^T X \\hat{\\beta}\\right). \n",
    "$$\n",
    "\n",
    "When you take the derivative with respect to $\\hat{\\beta}$ and set it equal to $0$ gives the following:\n",
    "\n",
    "$$\n",
    "X^T X \\hat{\\beta} - X^T y = 0, \\text{ and so } \\hat{\\beta} = (X^T X)^{-1}X^T y.\n",
    "$$\n",
    "\n",
    "This is the <i>ordinary least squares</i> estimate of the coefficient vector $\\beta$. Note that this formula is also sometimes called the <i>normal equation</i>.\n",
    "\n",
    "### Back to baseball\n",
    "\n",
    "We will demonstrate how to fit this model in `numpy` and `sklearn` with the baseball example we looked at in the previous notebook."
   ]
  },
  {
   "cell_type": "code",
   "execution_count": 2,
   "id": "afcf800e",
   "metadata": {},
   "outputs": [],
   "source": [
    "## Note this works on Mac and Linux,\n",
    "## you may need to change the slash directions if\n",
    "## you are running a Windows machine\n",
    "baseball = pd.read_csv(\"../../../Data/baseball.csv\")"
   ]
  },
  {
   "cell_type": "code",
   "execution_count": 3,
   "id": "9251fc7b",
   "metadata": {},
   "outputs": [],
   "source": [
    "## import train_test_split\n",
    "from sklearn.model_selection import train_test_split"
   ]
  },
  {
   "cell_type": "code",
   "execution_count": 4,
   "id": "cf2aeae5",
   "metadata": {},
   "outputs": [],
   "source": [
    "## make the train test split here\n",
    "## Note a slight difference, we have to use .copy()\n",
    "## for pandas dataframes\n",
    "bb_train, bb_test = train_test_split(baseball.copy(),\n",
    "                                        shuffle = True,\n",
    "                                        random_state = 440,\n",
    "                                        test_size=.2)"
   ]
  },
  {
   "cell_type": "code",
   "execution_count": 5,
   "id": "fe65b3f9",
   "metadata": {},
   "outputs": [
    {
     "data": {
      "text/html": [
       "<div>\n",
       "<style scoped>\n",
       "    .dataframe tbody tr th:only-of-type {\n",
       "        vertical-align: middle;\n",
       "    }\n",
       "\n",
       "    .dataframe tbody tr th {\n",
       "        vertical-align: top;\n",
       "    }\n",
       "\n",
       "    .dataframe thead th {\n",
       "        text-align: right;\n",
       "    }\n",
       "</style>\n",
       "<table border=\"1\" class=\"dataframe\">\n",
       "  <thead>\n",
       "    <tr style=\"text-align: right;\">\n",
       "      <th></th>\n",
       "      <th>teamID</th>\n",
       "      <th>yearID</th>\n",
       "      <th>lgID</th>\n",
       "      <th>G</th>\n",
       "      <th>W</th>\n",
       "      <th>L</th>\n",
       "      <th>R</th>\n",
       "      <th>RA</th>\n",
       "    </tr>\n",
       "  </thead>\n",
       "  <tbody>\n",
       "    <tr>\n",
       "      <th>313</th>\n",
       "      <td>LAA</td>\n",
       "      <td>2011</td>\n",
       "      <td>AL</td>\n",
       "      <td>162</td>\n",
       "      <td>86</td>\n",
       "      <td>76</td>\n",
       "      <td>667</td>\n",
       "      <td>633</td>\n",
       "    </tr>\n",
       "    <tr>\n",
       "      <th>493</th>\n",
       "      <td>LAN</td>\n",
       "      <td>2017</td>\n",
       "      <td>NL</td>\n",
       "      <td>162</td>\n",
       "      <td>104</td>\n",
       "      <td>58</td>\n",
       "      <td>770</td>\n",
       "      <td>580</td>\n",
       "    </tr>\n",
       "    <tr>\n",
       "      <th>101</th>\n",
       "      <td>FLO</td>\n",
       "      <td>2004</td>\n",
       "      <td>NL</td>\n",
       "      <td>162</td>\n",
       "      <td>83</td>\n",
       "      <td>79</td>\n",
       "      <td>718</td>\n",
       "      <td>700</td>\n",
       "    </tr>\n",
       "    <tr>\n",
       "      <th>334</th>\n",
       "      <td>CHA</td>\n",
       "      <td>2012</td>\n",
       "      <td>AL</td>\n",
       "      <td>162</td>\n",
       "      <td>85</td>\n",
       "      <td>77</td>\n",
       "      <td>748</td>\n",
       "      <td>676</td>\n",
       "    </tr>\n",
       "    <tr>\n",
       "      <th>527</th>\n",
       "      <td>NYA</td>\n",
       "      <td>2018</td>\n",
       "      <td>AL</td>\n",
       "      <td>162</td>\n",
       "      <td>100</td>\n",
       "      <td>62</td>\n",
       "      <td>851</td>\n",
       "      <td>669</td>\n",
       "    </tr>\n",
       "  </tbody>\n",
       "</table>\n",
       "</div>"
      ],
      "text/plain": [
       "    teamID  yearID lgID    G    W   L    R   RA\n",
       "313    LAA    2011   AL  162   86  76  667  633\n",
       "493    LAN    2017   NL  162  104  58  770  580\n",
       "101    FLO    2004   NL  162   83  79  718  700\n",
       "334    CHA    2012   AL  162   85  77  748  676\n",
       "527    NYA    2018   AL  162  100  62  851  669"
      ]
     },
     "execution_count": 5,
     "metadata": {},
     "output_type": "execute_result"
    }
   ],
   "source": [
    "bb_train.head()"
   ]
  },
  {
   "cell_type": "markdown",
   "id": "09500f6b",
   "metadata": {},
   "source": [
    "The multiple linear regression model that we will fit is:\n",
    "\n",
    "$$\n",
    "\\texttt{W} = \\beta_0 + \\beta_1 \\texttt{R} + \\beta_2 \\texttt{RA} + \\epsilon.\n",
    "$$"
   ]
  },
  {
   "cell_type": "code",
   "execution_count": 6,
   "id": "63e5ae3c",
   "metadata": {},
   "outputs": [],
   "source": [
    "## remember X needs a column of 1s\n",
    "X_train = np.ones((len(bb_train), 3))\n",
    "\n",
    "X_train[:,1:] = bb_train[['R', 'RA']].values\n",
    "y_train = bb_train.W.values"
   ]
  },
  {
   "cell_type": "code",
   "execution_count": null,
   "id": "d17e1318",
   "metadata": {},
   "outputs": [],
   "source": [
    "## df.column_name"
   ]
  },
  {
   "cell_type": "code",
   "execution_count": 7,
   "id": "59a2a102",
   "metadata": {},
   "outputs": [
    {
     "data": {
      "text/plain": [
       "array([[  1., 667., 633.],\n",
       "       [  1., 770., 580.],\n",
       "       [  1., 718., 700.],\n",
       "       ...,\n",
       "       [  1., 657., 858.],\n",
       "       [  1., 678., 831.],\n",
       "       [  1., 513., 646.]])"
      ]
     },
     "execution_count": 7,
     "metadata": {},
     "output_type": "execute_result"
    }
   ],
   "source": [
    "X_train"
   ]
  },
  {
   "cell_type": "code",
   "execution_count": 8,
   "id": "c79c15b3",
   "metadata": {},
   "outputs": [
    {
     "data": {
      "text/plain": [
       "array([ 86, 104,  83,  85, 100,  97, 105,  90,  95,  69,  91,  70,  91,\n",
       "        71,  83, 101,  75,  62,  69,  95,  85, 100,  93,  73,  56,  80,\n",
       "        88,  78,  76,  62,  78,  89,  93,  83,  77,  68,  76,  78,  76,\n",
       "        79,  97,  63,  82,  83,  81,  98,  96,  89,  83,  81,  86,  80,\n",
       "        74,  75,  91,  77,  97, 103,  85,  88,  90,  81,  64,  68,  66,\n",
       "        64,  63,  89,  71,  68,  92,  67,  86,  86,  83,  77,  84,  87,\n",
       "        86,  85,  76,  66,  82,  83,  80,  76,  81,  83,  88,  98,  92,\n",
       "        71,  75,  90,  78,  86,  75,  75,  84,  71,  92,  72,  96,  62,\n",
       "        78,  79,  71,  71,  90,  96,  51,  69,  68,  67,  75,  63,  96,\n",
       "        81,  93,  97,  83, 108,  88,  96,  73,  85,  90,  82,  88,  87,\n",
       "        92,  74,  67,  72,  91,  80,  75,  72,  89,  88,  87,  68,  66,\n",
       "        85,  70,  82,  92,  92,  75,  67,  77,  68,  75,  65,  85,  73,\n",
       "        86,  96,  73,  65,  62,  80,  67,  98,  95,  97,  71,  82,  79,\n",
       "        93,  75,  71,  80,  69,  93,  83,  85,  55,  81,  75,  88,  93,\n",
       "        73,  95,  66,  84,  82,  89,  85,  74,  86,  78,  73,  85,  84,\n",
       "        90,  72,  67,  66,  82,  69,  76,  83,  66,  58,  83,  97,  92,\n",
       "        95,  87,  77,  84,  71, 103,  78,  94,  72,  72,  74,  90,  81,\n",
       "        91,  89,  63,  79,  93,  89,  79,  86,  74,  88,  79,  75,  93,\n",
       "        80,  89,  85,  73,  79,  68,  69,  79,  67,  66,  72, 101,  85,\n",
       "        86,  97,  99,  68,  92,  96,  88,  71,  95,  95,  90,  59,  91,\n",
       "        63,  66,  43, 103,  75,  87,  67,  97,  80,  74,  65,  82,  89,\n",
       "        97,  55,  80,  86,  66, 102,  95,  86,  76,  90,  87,  72,  88,\n",
       "        57,  78,  70,  83,  83,  63,  64,  77,  88,  94,  73,  93,  88,\n",
       "        74,  90,  94,  58,  68,  94,  82,  61,  81,  47,  86,  69, 103,\n",
       "        96,  84,  86,  78,  74,  83,  83,  67,  67,  81,  89,  91, 100,\n",
       "        79,  64,  93,  81,  68,  83,  93,  93,  92,  67,  87,  55,  89,\n",
       "        94,  69,  71,  64,  79,  72,  74,  77,  80,  80,  83,  80,  92,\n",
       "        93,  76, 100,  66,  96,  72,  90,  78,  88,  90,  95,  96,  66,\n",
       "        91,  71,  69,  77, 116,  80,  96,  62,  65,  74,  67,  88,  73,\n",
       "        61,  69,  88,  94,  91,  90,  94,  88,  79,  88,  73,  86,  74,\n",
       "        86,  73,  71,  94,  97,  73,  91, 101,  97,  86,  81,  70,  84,\n",
       "        56,  87,  87,  91,  76,  74,  95,  94,  78,  82,  80,  67,  90,\n",
       "        69,  79,  80,  67, 102,  80,  71,  81,  59,  81,  92,  84,  80,\n",
       "        62,  64,  62])"
      ]
     },
     "execution_count": 8,
     "metadata": {},
     "output_type": "execute_result"
    }
   ],
   "source": [
    "y_train"
   ]
  },
  {
   "cell_type": "code",
   "execution_count": 9,
   "id": "60377673",
   "metadata": {},
   "outputs": [],
   "source": [
    "## Calculate the normal equation\n",
    "## note we'll use the linalg subpackage of numpy a lot\n",
    "## here is a link to the documentation\n",
    "## https://numpy.org/doc/stable/reference/routines.linalg.html\n",
    "beta_hat = np.linalg.inv(X_train.transpose().dot(X_train)).dot(X_train.transpose()).dot(y_train)"
   ]
  },
  {
   "cell_type": "code",
   "execution_count": 10,
   "id": "6d6ffc82",
   "metadata": {},
   "outputs": [
    {
     "name": "stdout",
     "output_type": "stream",
     "text": [
      "beta_0_hat = 84.08213739723357\n",
      "beta_1_hat = 0.09718334537049489\n",
      "beta_2_hat = -0.10132296424142645\n"
     ]
    }
   ],
   "source": [
    "# looking at beta_hat\n",
    "print(\"beta_0_hat =\", beta_hat[0])\n",
    "print(\"beta_1_hat =\", beta_hat[1])\n",
    "print(\"beta_2_hat =\", beta_hat[2])"
   ]
  },
  {
   "cell_type": "code",
   "execution_count": 11,
   "id": "b1218294",
   "metadata": {},
   "outputs": [],
   "source": [
    "## Make the predictions \n",
    "y_pred_numpy = beta_hat[0] + beta_hat[1] * X_train[:,1] + beta_hat[2] * X_train[:,2]"
   ]
  },
  {
   "cell_type": "code",
   "execution_count": 12,
   "id": "b527e4cc",
   "metadata": {},
   "outputs": [
    {
     "name": "stdout",
     "output_type": "stream",
     "text": [
      "the training mse is 16.945434114275745\n"
     ]
    }
   ],
   "source": [
    "## calculate the mse\n",
    "print(\"the training mse is\", np.sum(np.power(y_train-y_pred_numpy, 2))/len(y_train))"
   ]
  },
  {
   "cell_type": "markdown",
   "id": "d8823a31",
   "metadata": {},
   "source": [
    "### Using `sklearn`\n",
    "\n",
    "We will end this notebook by showing how simple it is to use `sklearn` to fit this model. In fact you already know how to do it!"
   ]
  },
  {
   "cell_type": "code",
   "execution_count": 15,
   "id": "a4fac5f6",
   "metadata": {},
   "outputs": [],
   "source": [
    "## import the LinearRegression object\n",
    "from sklearn.linear_model import LinearRegression"
   ]
  },
  {
   "cell_type": "code",
   "execution_count": 16,
   "id": "15145ce7",
   "metadata": {},
   "outputs": [
    {
     "data": {
      "text/plain": [
       "LinearRegression(fit_intercept=False)"
      ]
     },
     "execution_count": 16,
     "metadata": {},
     "output_type": "execute_result"
    }
   ],
   "source": [
    "## Make the model object\n",
    "## notice we have to us fit_intercept = False\n",
    "## because X_train has a column of 1s\n",
    "reg = LinearRegression(copy_X=True, fit_intercept=False)\n",
    "\n",
    "## Fit the model object\n",
    "## note I do NOT have to use reshape here\n",
    "## because X_train is a 2D np.array\n",
    "reg.fit(X_train, y_train)"
   ]
  },
  {
   "cell_type": "code",
   "execution_count": 17,
   "id": "72be0d4a",
   "metadata": {},
   "outputs": [
    {
     "data": {
      "text/plain": [
       "array([84.0821374 ,  0.09718335, -0.10132296])"
      ]
     },
     "execution_count": 17,
     "metadata": {},
     "output_type": "execute_result"
    }
   ],
   "source": [
    "## look at coef\n",
    "reg.coef_"
   ]
  },
  {
   "cell_type": "code",
   "execution_count": 19,
   "id": "79a58207",
   "metadata": {},
   "outputs": [
    {
     "name": "stdout",
     "output_type": "stream",
     "text": [
      "[ 0.09718335 -0.10132296]\n",
      "84.08213739723453\n"
     ]
    }
   ],
   "source": [
    "## if your dataset doesn't have a column of 1s do this\n",
    "reg_no_1s = LinearRegression(copy_X=True)\n",
    "\n",
    "reg_no_1s.fit(bb_train[['R', 'RA']], bb_train.W)\n",
    "\n",
    "\n",
    "print(reg_no_1s.coef_)\n",
    "print(reg_no_1s.intercept_)"
   ]
  },
  {
   "cell_type": "code",
   "execution_count": 18,
   "id": "547132b2",
   "metadata": {},
   "outputs": [
    {
     "data": {
      "text/plain": [
       "0.0"
      ]
     },
     "execution_count": 18,
     "metadata": {},
     "output_type": "execute_result"
    }
   ],
   "source": [
    "reg.intercept_"
   ]
  },
  {
   "cell_type": "code",
   "execution_count": 20,
   "id": "33ac638d",
   "metadata": {},
   "outputs": [],
   "source": [
    "## Make a prediction\n",
    "y_pred_sklearn = reg.predict(X_train)"
   ]
  },
  {
   "cell_type": "code",
   "execution_count": 21,
   "id": "4ab213dd",
   "metadata": {},
   "outputs": [
    {
     "name": "stdout",
     "output_type": "stream",
     "text": [
      "the mse is 16.945434114275745\n"
     ]
    }
   ],
   "source": [
    "## calculate the mse\n",
    "print(\"the mse is\",np.sum(np.power(y_train-y_pred_sklearn, 2))/len(y_train))"
   ]
  },
  {
   "cell_type": "markdown",
   "id": "e478ee19",
   "metadata": {},
   "source": [
    "That's it!"
   ]
  },
  {
   "cell_type": "markdown",
   "id": "4f7d1ea9",
   "metadata": {},
   "source": [
    "--------------------------\n",
    "\n",
    "This notebook was written for the Erd&#337;s Institute C&#337;de Data Science Boot Camp by Matthew Osborne, Ph. D., 2022.\n",
    "\n",
    "Any potential redistributors must seek and receive permission from Matthew Tyler Osborne, Ph.D. prior to redistribution. Redistribution of the material contained in this repository is conditional on acknowledgement of Matthew Tyler Osborne, Ph.D.'s original authorship and sponsorship of the Erdős Institute as subject to the license (see License.md)"
   ]
  },
  {
   "cell_type": "code",
   "execution_count": null,
   "id": "eb29a3a5",
   "metadata": {},
   "outputs": [],
   "source": []
  }
 ],
 "metadata": {
  "kernelspec": {
   "display_name": "Python 3 (ipykernel)",
   "language": "python",
   "name": "python3"
  },
  "language_info": {
   "codemirror_mode": {
    "name": "ipython",
    "version": 3
   },
   "file_extension": ".py",
   "mimetype": "text/x-python",
   "name": "python",
   "nbconvert_exporter": "python",
   "pygments_lexer": "ipython3",
   "version": "3.9.9"
  }
 },
 "nbformat": 4,
 "nbformat_minor": 5
}
