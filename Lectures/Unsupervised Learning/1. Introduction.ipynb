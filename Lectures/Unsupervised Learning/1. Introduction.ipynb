{
 "cells": [
  {
   "cell_type": "markdown",
   "id": "c7dc515f",
   "metadata": {},
   "source": [
    "# Introduction\n",
    "\n",
    "In supervised learning we tried to train an algorithm (or fit a model) to help us predict some variable of interest, $y$, using a set of features $X$. This is why we call it <i>supervised learning</i>, because we have the <i>supervision</i> of a set of labels.\n",
    "\n",
    "Conversely, we may also be interested in understanding data that does <b>not</b> have a set of labels, but just features. In this setting we want to better know the underlying structure of the data, if any.\n",
    "\n",
    "Two main problem types in unsupervised learning are:\n",
    "\n",
    "1. Dimension Reduction and\n",
    "\n",
    "2. Clustering."
   ]
  },
  {
   "cell_type": "markdown",
   "id": "9d9801f5",
   "metadata": {},
   "source": [
    "## Dimension reduction\n",
    "\n",
    "In these problems we want to reduct the dimension of our data set while trying to preserve the higher dimensional structure. We may want to do this in order to:\n",
    "- Better visualize the data,\n",
    "- Remove noise from the data,\n",
    "- Cut down computational time for an upstream algorithm, \n",
    "- Save memory,\n",
    "- etc.\n",
    "\n",
    "## Clustering\n",
    "\n",
    "In these problems we want to group observations that are similar, or close, to one another in the feature space.\n",
    "\n",
    "Sometimes we want to perform unsupervised learning for its own sake, other times we will want to use it to help improve another algorithm.\n",
    "\n",
    "In this section we will learn some techniques to accomplish these tasks."
   ]
  },
  {
   "cell_type": "markdown",
   "id": "3e26aaba",
   "metadata": {},
   "source": [
    "--------------------------\n",
    "\n",
    "This notebook was written for the Erd&#337;s Institute C&#337;de Data Science Boot Camp by Matthew Osborne, Ph. D., 2022.\n",
    "\n",
    "Any potential redistributors must seek and receive permission from Matthew Tyler Osborne, Ph.D. prior to redistribution. Redistribution of the material contained in this repository is conditional on acknowledgement of Matthew Tyler Osborne, Ph.D.'s original authorship and sponsorship of the Erdős Institute as subject to the license (see License.md)"
   ]
  },
  {
   "cell_type": "code",
   "execution_count": null,
   "id": "fa08db84",
   "metadata": {},
   "outputs": [],
   "source": []
  }
 ],
 "metadata": {
  "kernelspec": {
   "display_name": "Python 3 (ipykernel)",
   "language": "python",
   "name": "python3"
  },
  "language_info": {
   "codemirror_mode": {
    "name": "ipython",
    "version": 3
   },
   "file_extension": ".py",
   "mimetype": "text/x-python",
   "name": "python",
   "nbconvert_exporter": "python",
   "pygments_lexer": "ipython3",
   "version": "3.9.9"
  }
 },
 "nbformat": 4,
 "nbformat_minor": 5
}
