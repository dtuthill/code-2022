{
 "cells": [
  {
   "cell_type": "markdown",
   "metadata": {},
   "source": [
    "# Hierarchical Clustering\n",
    "\n",
    "A second clustering algorithm.\n",
    "\n",
    "## What we will accomplish\n",
    "\n",
    "In this notebook we will:\n",
    "- Introduce the idea hierarchical clustering:\n",
    "    - Learn about dendrograms and cut points and\n",
    "- Show how to implement it with `scipy`:\n",
    "    - Learn how to plot a dendrogram in python."
   ]
  },
  {
   "cell_type": "code",
   "execution_count": 1,
   "metadata": {},
   "outputs": [],
   "source": [
    "## For data handling\n",
    "import pandas as pd\n",
    "import numpy as np\n",
    "\n",
    "## For plotting\n",
    "import matplotlib.pyplot as plt\n",
    "from seaborn import set_style\n",
    "\n",
    "## This sets the plot style\n",
    "## to have a grid on a dark background\n",
    "set_style(\"whitegrid\")"
   ]
  },
  {
   "cell_type": "markdown",
   "metadata": {},
   "source": [
    "Hierarchical clustering is another technique for grouping $n$ observations of $m$ features stored in a matrix, $X$. A nice feature of hierarchical clustering, in comparison to $k$ means, is that we <i>do not</i> need to guess a number of clusters prior to fitting the algorithm. Instead we examine something known as a <i>dendrogram</i> and use that to make an informed choice after running the algorithm.\n",
    "\n",
    "## The algorithm\n",
    "\n",
    "In hierarchical clustering you start from each observation being its own cluster and slowly work your way to having every observation in a single cluster. This is done by combining clusters according to an inter-cluster distance measure that you determine prior to fitting the algorithm, let's call this $d$.\n",
    "\n",
    "Starting from $d=0$ you slowly increase $d$ and when any pair of clusters are $d$ apart from one another you combine them. Let's demonstrate this with a few sketches.\n",
    "\n",
    "<img src=\"hclust1.png\" width = \"50%\"></img>\n",
    "\n",
    "<br>\n",
    "<br>\n",
    "\n",
    "<img src=\"hclust2.png\" width = \"50%\"></img>\n",
    "\n",
    "<br>\n",
    "<br>\n",
    "\n",
    "<img src=\"hclust3.png\" width = \"50%\"></img>\n",
    "\n",
    "<br>\n",
    "<br>\n",
    "\n",
    "<img src=\"hclust4.png\" width = \"60%\"></img>\n",
    "\n",
    "This clustering information is then stored in a dendrogram:\n",
    "\n",
    "<img src=\"dendro.png\" width = \"35%\"></img>\n",
    "\n",
    "A variety of clusterings can then be selected depending on which distance you choose to make a cut point.\n",
    "\n",
    "## In `scipy`\n",
    "\n",
    "Rather than `sklearn` we will use `scipy` to perform hierarchical clustering, <a href=\"https://docs.scipy.org/\">https://docs.scipy.org/</a>. \n",
    "\n",
    "Let's make a data set to demonstrate."
   ]
  },
  {
   "cell_type": "code",
   "execution_count": 2,
   "metadata": {},
   "outputs": [
    {
     "data": {
      "image/png": "[encoded data removed]",
      "text/plain": [
       "<Figure size 720x576 with 1 Axes>"
      ]
     },
     "metadata": {},
     "output_type": "display_data"
    }
   ],
   "source": [
    "np.random.seed(323)\n",
    "X = np.zeros((20,2))\n",
    "\n",
    "X[:10,:] = np.random.randn(10,2)\n",
    "X[10:15,:] = np.random.randn(5,2) + np.array([4,4])\n",
    "X[15:,:] = np.random.randn(5,2) + np.array([-5,4])\n",
    "\n",
    "plt.figure(figsize=(10,8))\n",
    "\n",
    "plt.scatter(X[:,0],X[:,1])\n",
    "\n",
    "plt.show()"
   ]
  },
  {
   "cell_type": "markdown",
   "metadata": {},
   "source": [
    "`scipy` keeps its hierarchical clustering functions/objects in the `cluster.hierarchy` module. In particular we will want `dendrogram`, <a href=\"https://docs.scipy.org/doc/scipy/reference/generated/scipy.cluster.hierarchy.dendrogram.html\">https://docs.scipy.org/doc/scipy/reference/generated/scipy.cluster.hierarchy.dendrogram.html</a> and `linkage` <a href=\"https://docs.scipy.org/doc/scipy/reference/generated/scipy.cluster.hierarchy.linkage.html\">https://docs.scipy.org/doc/scipy/reference/generated/scipy.cluster.hierarchy.linkage.html</a>."
   ]
  },
  {
   "cell_type": "code",
   "execution_count": 3,
   "metadata": {},
   "outputs": [],
   "source": [
    "## Import\n",
    "from scipy.cluster.hierarchy import linkage, dendrogram"
   ]
  },
  {
   "cell_type": "code",
   "execution_count": 4,
   "metadata": {},
   "outputs": [
    {
     "data": {
      "text/html": [
       "<div>\n",
       "<style scoped>\n",
       "    .dataframe tbody tr th:only-of-type {\n",
       "        vertical-align: middle;\n",
       "    }\n",
       "\n",
       "    .dataframe tbody tr th {\n",
       "        vertical-align: top;\n",
       "    }\n",
       "\n",
       "    .dataframe thead th {\n",
       "        text-align: right;\n",
       "    }\n",
       "</style>\n",
       "<table border=\"1\" class=\"dataframe\">\n",
       "  <thead>\n",
       "    <tr style=\"text-align: right;\">\n",
       "      <th></th>\n",
       "      <th>cluster_1</th>\n",
       "      <th>cluster_2</th>\n",
       "      <th>distance</th>\n",
       "      <th>new_cluster_size</th>\n",
       "    </tr>\n",
       "  </thead>\n",
       "  <tbody>\n",
       "    <tr>\n",
       "      <th>0</th>\n",
       "      <td>11.0</td>\n",
       "      <td>13.0</td>\n",
       "      <td>0.242044</td>\n",
       "      <td>2.0</td>\n",
       "    </tr>\n",
       "    <tr>\n",
       "      <th>1</th>\n",
       "      <td>0.0</td>\n",
       "      <td>1.0</td>\n",
       "      <td>0.279471</td>\n",
       "      <td>2.0</td>\n",
       "    </tr>\n",
       "    <tr>\n",
       "      <th>2</th>\n",
       "      <td>4.0</td>\n",
       "      <td>6.0</td>\n",
       "      <td>0.335536</td>\n",
       "      <td>2.0</td>\n",
       "    </tr>\n",
       "    <tr>\n",
       "      <th>3</th>\n",
       "      <td>2.0</td>\n",
       "      <td>5.0</td>\n",
       "      <td>0.351938</td>\n",
       "      <td>2.0</td>\n",
       "    </tr>\n",
       "    <tr>\n",
       "      <th>4</th>\n",
       "      <td>8.0</td>\n",
       "      <td>21.0</td>\n",
       "      <td>0.380168</td>\n",
       "      <td>3.0</td>\n",
       "    </tr>\n",
       "    <tr>\n",
       "      <th>5</th>\n",
       "      <td>22.0</td>\n",
       "      <td>24.0</td>\n",
       "      <td>0.430390</td>\n",
       "      <td>5.0</td>\n",
       "    </tr>\n",
       "    <tr>\n",
       "      <th>6</th>\n",
       "      <td>16.0</td>\n",
       "      <td>19.0</td>\n",
       "      <td>0.497312</td>\n",
       "      <td>2.0</td>\n",
       "    </tr>\n",
       "    <tr>\n",
       "      <th>7</th>\n",
       "      <td>23.0</td>\n",
       "      <td>25.0</td>\n",
       "      <td>0.586892</td>\n",
       "      <td>7.0</td>\n",
       "    </tr>\n",
       "    <tr>\n",
       "      <th>8</th>\n",
       "      <td>14.0</td>\n",
       "      <td>20.0</td>\n",
       "      <td>0.894893</td>\n",
       "      <td>3.0</td>\n",
       "    </tr>\n",
       "    <tr>\n",
       "      <th>9</th>\n",
       "      <td>3.0</td>\n",
       "      <td>27.0</td>\n",
       "      <td>0.896047</td>\n",
       "      <td>8.0</td>\n",
       "    </tr>\n",
       "    <tr>\n",
       "      <th>10</th>\n",
       "      <td>9.0</td>\n",
       "      <td>29.0</td>\n",
       "      <td>1.062656</td>\n",
       "      <td>9.0</td>\n",
       "    </tr>\n",
       "    <tr>\n",
       "      <th>11</th>\n",
       "      <td>7.0</td>\n",
       "      <td>30.0</td>\n",
       "      <td>1.247998</td>\n",
       "      <td>10.0</td>\n",
       "    </tr>\n",
       "    <tr>\n",
       "      <th>12</th>\n",
       "      <td>17.0</td>\n",
       "      <td>18.0</td>\n",
       "      <td>1.258275</td>\n",
       "      <td>2.0</td>\n",
       "    </tr>\n",
       "    <tr>\n",
       "      <th>13</th>\n",
       "      <td>10.0</td>\n",
       "      <td>12.0</td>\n",
       "      <td>1.480747</td>\n",
       "      <td>2.0</td>\n",
       "    </tr>\n",
       "    <tr>\n",
       "      <th>14</th>\n",
       "      <td>28.0</td>\n",
       "      <td>33.0</td>\n",
       "      <td>1.883714</td>\n",
       "      <td>5.0</td>\n",
       "    </tr>\n",
       "    <tr>\n",
       "      <th>15</th>\n",
       "      <td>26.0</td>\n",
       "      <td>32.0</td>\n",
       "      <td>1.937426</td>\n",
       "      <td>4.0</td>\n",
       "    </tr>\n",
       "    <tr>\n",
       "      <th>16</th>\n",
       "      <td>15.0</td>\n",
       "      <td>35.0</td>\n",
       "      <td>2.410730</td>\n",
       "      <td>5.0</td>\n",
       "    </tr>\n",
       "    <tr>\n",
       "      <th>17</th>\n",
       "      <td>31.0</td>\n",
       "      <td>34.0</td>\n",
       "      <td>3.769591</td>\n",
       "      <td>15.0</td>\n",
       "    </tr>\n",
       "    <tr>\n",
       "      <th>18</th>\n",
       "      <td>36.0</td>\n",
       "      <td>37.0</td>\n",
       "      <td>3.832524</td>\n",
       "      <td>20.0</td>\n",
       "    </tr>\n",
       "  </tbody>\n",
       "</table>\n",
       "</div>"
      ],
      "text/plain": [
       "    cluster_1  cluster_2  distance  new_cluster_size\n",
       "0        11.0       13.0  0.242044               2.0\n",
       "1         0.0        1.0  0.279471               2.0\n",
       "2         4.0        6.0  0.335536               2.0\n",
       "3         2.0        5.0  0.351938               2.0\n",
       "4         8.0       21.0  0.380168               3.0\n",
       "5        22.0       24.0  0.430390               5.0\n",
       "6        16.0       19.0  0.497312               2.0\n",
       "7        23.0       25.0  0.586892               7.0\n",
       "8        14.0       20.0  0.894893               3.0\n",
       "9         3.0       27.0  0.896047               8.0\n",
       "10        9.0       29.0  1.062656               9.0\n",
       "11        7.0       30.0  1.247998              10.0\n",
       "12       17.0       18.0  1.258275               2.0\n",
       "13       10.0       12.0  1.480747               2.0\n",
       "14       28.0       33.0  1.883714               5.0\n",
       "15       26.0       32.0  1.937426               4.0\n",
       "16       15.0       35.0  2.410730               5.0\n",
       "17       31.0       34.0  3.769591              15.0\n",
       "18       36.0       37.0  3.832524              20.0"
      ]
     },
     "execution_count": 4,
     "metadata": {},
     "output_type": "execute_result"
    }
   ],
   "source": [
    "## first we run linkage\n",
    "## Put in the data, followed by the method\n",
    "## we use method = 'single'\n",
    "## this uses the minimum distance between points in clusters A and B\n",
    "Z = linkage(X, method='single')\n",
    "\n",
    "## this returns a numpy array that we will now describe\n",
    "pd.DataFrame(Z, columns = ['cluster_1', 'cluster_2', 'distance', 'new_cluster_size'])"
   ]
  },
  {
   "cell_type": "markdown",
   "metadata": {},
   "source": [
    "`linkage` returns an array that tracks everytime that two clusters merge, this is known as a linkage matrix.\n",
    "\n",
    "<i>Note:</i> we can control how `linkage` measures the distance between clusters with the `method` argument. The default is `method='single'` which finds the minimum distance between any pair of points between two clusters. Other options include:\n",
    "- `method='complete'`, which is the maximum distance between any pair of points between two clusters,\n",
    "- `method='average'`, which is the average distance between any pair of points between two cluster,\n",
    "- `method='centroid'`, which is the distance between the centroids of two clusters and\n",
    "- `method='ward'`, which uses the Ward variance minimization algorithm.\n",
    "\n",
    "Once we have the linkage matrix we can run `dendrogram` to plot the dendrogram."
   ]
  },
  {
   "cell_type": "code",
   "execution_count": 5,
   "metadata": {},
   "outputs": [
    {
     "data": {
      "image/png": "[encoded data removed]",
      "text/plain": [
       "<Figure size 1008x576 with 1 Axes>"
      ]
     },
     "metadata": {},
     "output_type": "display_data"
    }
   ],
   "source": [
    "plt.figure(figsize=(14,8))\n",
    "\n",
    "## This plots a dendrogram from the linkage matrix\n",
    "dendrogram(Z)\n",
    "\n",
    "plt.show()"
   ]
  },
  {
   "cell_type": "markdown",
   "metadata": {},
   "source": [
    "Note that while the colors above seem like a reasonable clustering, it is important to note that this is a coincidence. In `dendrogram` there is an argument called `color_threshold` which colors the clusters according to the clustering at that cut point. The default value for this is `color_threshold = 0.7*max(Z[:,2])`, which is $0.7$ times the maximum merge distance in the linkage matrix. We demonstrate this below."
   ]
  },
  {
   "cell_type": "code",
   "execution_count": 6,
   "metadata": {},
   "outputs": [
    {
     "data": {
      "image/png": "[encoded data removed]",
      "text/plain": [
       "<Figure size 1008x576 with 1 Axes>"
      ]
     },
     "metadata": {},
     "output_type": "display_data"
    }
   ],
   "source": [
    "## The default color_threshold\n",
    "plt.figure(figsize=(14,8))\n",
    "\n",
    "dendrogram(Z)\n",
    "\n",
    "plt.plot([0,200], \n",
    "         [0.7*max(Z[:,2]), 0.7*max(Z[:,2])], \n",
    "         'k--')\n",
    "\n",
    "plt.show()"
   ]
  },
  {
   "cell_type": "code",
   "execution_count": 7,
   "metadata": {},
   "outputs": [
    {
     "data": {
      "image/png": "[encoded data removed]",
      "text/plain": [
       "<Figure size 1008x576 with 1 Axes>"
      ]
     },
     "metadata": {},
     "output_type": "display_data"
    }
   ],
   "source": [
    "## A lower color_threshold\n",
    "plt.figure(figsize=(14,8))\n",
    "\n",
    "## What do we get with a different color_threshold .4*max(Z[:,2])?\n",
    "dendrogram(Z, color_threshold =  0.4*max(Z[:,2]))\n",
    "\n",
    "plt.plot([0,200], \n",
    "         [0.4*max(Z[:,2]), 0.4*max(Z[:,2])], \n",
    "         'k--')\n",
    "\n",
    "plt.show()"
   ]
  },
  {
   "cell_type": "markdown",
   "metadata": {},
   "source": [
    "Once you have a cutpoint you like, you need to actually get the cluster for each point. We do this with `fcluster`, <a href=\"https://docs.scipy.org/doc/scipy/reference/generated/scipy.cluster.hierarchy.fcluster.html\">https://docs.scipy.org/doc/scipy/reference/generated/scipy.cluster.hierarchy.fcluster.html</a>."
   ]
  },
  {
   "cell_type": "code",
   "execution_count": 8,
   "metadata": {},
   "outputs": [],
   "source": [
    "from scipy.cluster.hierarchy import fcluster"
   ]
  },
  {
   "cell_type": "code",
   "execution_count": 10,
   "metadata": {},
   "outputs": [],
   "source": [
    "## get the clusters\n",
    "## First put the linkage matrix\n",
    "## then the cutoff point,\n",
    "## then the criterion\n",
    "## we use 'distance', which just uses the distance between points illustrated\n",
    "## in the dendrograms above\n",
    "\n",
    "clusters = fcluster(Z,  0.7*max(Z[:,2]), criterion='distance')\n"
   ]
  },
  {
   "cell_type": "code",
   "execution_count": 11,
   "metadata": {},
   "outputs": [
    {
     "data": {
      "image/png": "[encoded data removed]",
      "text/plain": [
       "<Figure size 720x576 with 1 Axes>"
      ]
     },
     "metadata": {},
     "output_type": "display_data"
    }
   ],
   "source": [
    "## Our corresponding clustering\n",
    "plt.figure(figsize=(10,8))\n",
    "\n",
    "plt.scatter(X[clusters == 1,0],\n",
    "            X[clusters == 1,1],\n",
    "            label=\"Cluster 1\")\n",
    "\n",
    "plt.scatter(X[clusters == 2,0],\n",
    "            X[clusters == 2,1],\n",
    "            marker = 'v',\n",
    "            s = 50,\n",
    "            label=\"Cluster 2\")\n",
    "\n",
    "plt.scatter(X[clusters == 3,0],\n",
    "            X[clusters == 3,1],\n",
    "            marker = '+',\n",
    "            s = 100,\n",
    "            label=\"Cluster 3\")\n",
    "\n",
    "plt.legend(fontsize=14)\n",
    "\n",
    "plt.show()"
   ]
  },
  {
   "cell_type": "markdown",
   "metadata": {},
   "source": [
    "Similar to $k$ means clustering we could use an inertia elbow plot or silhouette plots to help us determine what to set as our threshold value, but sometimes it is reasonable to just use a visual inspection. Looking at this particular dendrogram a threshold that produces three clusters looks reasonable.\n",
    "\n",
    "Further, there may be other consideration that come from the particular problem on which you are working. For example, maybe you are working on a market segmentation problem for a business and additional market segments (clusters) can increase profit while also increasing cost. You would likely need to consider those which are external to whether the clustering is the \"best\" segmentation of the data."
   ]
  },
  {
   "cell_type": "markdown",
   "metadata": {},
   "source": [
    "--------------------------\n",
    "\n",
    "This notebook was written for the Erd&#337;s Institute C&#337;de Data Science Boot Camp by Matthew Osborne, Ph. D., 2022.\n",
    "\n",
    "Any potential redistributors must seek and receive permission from Matthew Tyler Osborne, Ph.D. prior to redistribution. Redistribution of the material contained in this repository is conditional on acknowledgement of Matthew Tyler Osborne, Ph.D.'s original authorship and sponsorship of the Erdős Institute as subject to the license (see License.md)"
   ]
  },
  {
   "cell_type": "code",
   "execution_count": null,
   "metadata": {},
   "outputs": [],
   "source": []
  }
 ],
 "metadata": {
  "kernelspec": {
   "display_name": "Python 3 (ipykernel)",
   "language": "python",
   "name": "python3"
  },
  "language_info": {
   "codemirror_mode": {
    "name": "ipython",
    "version": 3
   },
   "file_extension": ".py",
   "mimetype": "text/x-python",
   "name": "python",
   "nbconvert_exporter": "python",
   "pygments_lexer": "ipython3",
   "version": "3.9.9"
  }
 },
 "nbformat": 4,
 "nbformat_minor": 2
}
