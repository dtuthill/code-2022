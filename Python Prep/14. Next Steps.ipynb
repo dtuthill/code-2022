{
 "cells": [
  {
   "cell_type": "markdown",
   "id": "3c6fb65f",
   "metadata": {},
   "source": [
    "# Next Steps\n",
    "\n",
    "You now have foothold in the world of python for data science and machine learning. \n",
    "\n",
    "However, you will need to do some practicing in order to feel comfortable. An excellent opportunity for practice are the companion `Practice Problems` provided in this repository. Each notebook has a few problems that should be relatively straightforward and a couple of challenge problems. Solutions to these problems are also provided as a reference.\n",
    "\n",
    "Once you work through those problems, you can find more by doing a web search for practice problems. The internet has plenty of programming practice content, although it can take a little time to find the resource that works best for you.\n",
    "\n",
    "Finally there is a bonus optional notebook for your edification. It is not <i>necessary</i> to understand the boot camp material, but it does provide some context that will help you better understand python. For example, if you have been confused at any mention of the word \"object\", then you may want to check it out."
   ]
  },
  {
   "cell_type": "markdown",
   "id": "1877f3ce",
   "metadata": {},
   "source": [
    "--------------------------\n",
    "\n",
    "This notebook was written for the Erd&#337;s Institute C&#337;de Data Science Boot Camp by Matthew Osborne, Ph. D., 2022.\n",
    "\n",
    "Any potential redistributors must seek and receive permission from Matthew Tyler Osborne, Ph.D. prior to redistribution. Redistribution of the material contained in this repository is conditional on acknowledgement of Matthew Tyler Osborne, Ph.D.'s original authorship and sponsorship of the Erdős Institute as subject to the license (see License.md)"
   ]
  },
  {
   "cell_type": "code",
   "execution_count": null,
   "id": "1b5d1049",
   "metadata": {},
   "outputs": [],
   "source": []
  }
 ],
 "metadata": {
  "kernelspec": {
   "display_name": "Python 3 (ipykernel)",
   "language": "python",
   "name": "python3"
  },
  "language_info": {
   "codemirror_mode": {
    "name": "ipython",
    "version": 3
   },
   "file_extension": ".py",
   "mimetype": "text/x-python",
   "name": "python",
   "nbconvert_exporter": "python",
   "pygments_lexer": "ipython3",
   "version": "3.9.9"
  }
 },
 "nbformat": 4,
 "nbformat_minor": 5
}
