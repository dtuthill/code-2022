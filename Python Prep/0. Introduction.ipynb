{
 "cells": [
  {
   "cell_type": "markdown",
   "metadata": {},
   "source": [
    "# Introduction\n",
    "\n",
    "You may have <i>zero</i> experience with python and/or coding, that's okay!\n",
    "\n",
    "In these python prep notebooks, we will cover everything you need to know to follow along with the data science notebooks during the boot camp. The goal is to provide you with a firm footing in python so that when the time comes you can focus primarily on the data science.\n",
    "\n",
    "#### A Word of Caution\n",
    "\n",
    "The boot camp lectures can go quite fast, and when you're asked to code on your own it can feel like you don't have enough time.\n",
    "1. That's okay! You are learning a lot of new stuff, just set aside some time to go through the lecture notebooks on your own after lecture. \n",
    "2. With that in mind, if you are new to python, review these notebooks and work the practice problems.\n",
    "\n",
    "Let's get going! :-D"
   ]
  },
  {
   "cell_type": "markdown",
   "metadata": {},
   "source": [
    "--------------------------\n",
    "\n",
    "This notebook was written for the Erd&#337;s Institute C&#337;de Data Science Boot Camp by Matthew Osborne, Ph. D., 2022.\n",
    "\n",
    "Any potential redistributors must seek and receive permission from Matthew Tyler Osborne, Ph.D. prior to redistribution. Redistribution of the material contained in this repository is conditional on acknowledgement of Matthew Tyler Osborne, Ph.D.'s original authorship and sponsorship of the Erdős Institute as subject to the license (see License.md)"
   ]
  },
  {
   "cell_type": "code",
   "execution_count": null,
   "metadata": {},
   "outputs": [],
   "source": []
  }
 ],
 "metadata": {
  "kernelspec": {
   "display_name": "Python 3 (ipykernel)",
   "language": "python",
   "name": "python3"
  },
  "language_info": {
   "codemirror_mode": {
    "name": "ipython",
    "version": 3
   },
   "file_extension": ".py",
   "mimetype": "text/x-python",
   "name": "python",
   "nbconvert_exporter": "python",
   "pygments_lexer": "ipython3",
   "version": "3.9.9"
  }
 },
 "nbformat": 4,
 "nbformat_minor": 2
}
