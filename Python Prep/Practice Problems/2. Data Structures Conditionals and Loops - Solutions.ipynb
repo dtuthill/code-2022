{
 "cells": [
  {
   "cell_type": "markdown",
   "metadata": {},
   "source": [
    "# Data Structures, Conditionals and Loops\n",
    "\n",
    "These problems will cover the concepts touched on in notebooks:\n",
    "- 2. Baseic Data Types,\n",
    "- 3. Strings,\n",
    "- 4. More Complicated Data Types and\n",
    "- 6. Conditionals and Loops\n",
    "\n",
    "## Basic Problems\n",
    "\n",
    "1. Store the value `17` in a variable named `t`."
   ]
  },
  {
   "cell_type": "code",
   "execution_count": 1,
   "metadata": {},
   "outputs": [],
   "source": [
    "## Code here\n",
    "t = 17\n",
    "\n"
   ]
  },
  {
   "cell_type": "markdown",
   "metadata": {},
   "source": [
    "2. Find out what `.capitalize()` does to a `str` object. Apply it to \"little orphan annie\", and \"Little orphan annie\""
   ]
  },
  {
   "cell_type": "code",
   "execution_count": 2,
   "metadata": {},
   "outputs": [
    {
     "name": "stdout",
     "output_type": "stream",
     "text": [
      "little orphan annie : Little orphan annie\n",
      "Little orphan annie : Little orphan annie\n"
     ]
    }
   ],
   "source": [
    "## Code here\n",
    "print(\"little orphan annie\", \":\", \"little orphan annie\".capitalize())\n",
    "print(\"Little orphan annie\", \":\", \"Little orphan annie\".capitalize())\n",
    "\n"
   ]
  },
  {
   "cell_type": "markdown",
   "metadata": {},
   "source": [
    "3. Create a `list` of the first 20 multiples of 3 using a for loop"
   ]
  },
  {
   "cell_type": "code",
   "execution_count": 3,
   "metadata": {},
   "outputs": [
    {
     "data": {
      "text/plain": [
       "[0, 3, 6, 9, 12, 15, 18, 21, 24, 27, 30, 33, 36, 39, 42, 45, 48, 51, 54, 57]"
      ]
     },
     "execution_count": 3,
     "metadata": {},
     "output_type": "execute_result"
    }
   ],
   "source": [
    "## Code here\n",
    "\n",
    "loop_list = []\n",
    "\n",
    "for i in range(20):\n",
    "    loop_list.append(3*i)\n",
    "\n",
    "loop_list\n",
    "\n",
    "## or\n",
    "# loop_list = []\n",
    "\n",
    "# for i in range(1, 21):\n",
    "#     loop_list.append(3*i)\n",
    "\n",
    "# loop_list\n",
    "\n"
   ]
  },
  {
   "cell_type": "markdown",
   "metadata": {},
   "source": [
    "4. Create a `list` of the first 20 multiples of 7 using a `list` comprehension."
   ]
  },
  {
   "cell_type": "code",
   "execution_count": 4,
   "metadata": {},
   "outputs": [
    {
     "data": {
      "text/plain": [
       "[0, 3, 6, 9, 12, 15, 18, 21, 24, 27, 30, 33, 36, 39, 42, 45, 48, 51, 54, 57]"
      ]
     },
     "execution_count": 4,
     "metadata": {},
     "output_type": "execute_result"
    }
   ],
   "source": [
    "## Code here\n",
    "\n",
    "comp_list = [7*i for i in range(20)]\n",
    "comp_list\n",
    "\n",
    "\n",
    "## or\n",
    "# comp_list = [7*i for i in range(1, 21)]\n",
    "# comp_list\n"
   ]
  },
  {
   "cell_type": "markdown",
   "metadata": {},
   "source": [
    "5. What happens when you multiply an `str` with an integer?"
   ]
  },
  {
   "cell_type": "code",
   "execution_count": 5,
   "metadata": {},
   "outputs": [
    {
     "data": {
      "text/plain": [
       "'string to multiplystring to multiply'"
      ]
     },
     "execution_count": 5,
     "metadata": {},
     "output_type": "execute_result"
    }
   ],
   "source": [
    "## Code here\n",
    "\n",
    "## string*i repeats the string i times\n",
    "\"string to multiply\"*2"
   ]
  },
  {
   "cell_type": "markdown",
   "metadata": {},
   "source": [
    "6. The `None` object. Read the following.\n",
    "\n",
    "In python the `None` object is a special object in python analogous to \"the absence of an object\". In examples where you have a function without a `return` statement (see Python Prep Notebook 7. Functions), the function returns a `None` object."
   ]
  },
  {
   "cell_type": "markdown",
   "metadata": {},
   "source": [
    "## More Advanced Problems\n",
    "\n",
    "1. You can approximate $\\pi$ with the following sum:\n",
    "$$\n",
    "\\sum_{i=0}^N \\frac{8}{\\left( 4i + 1 \\right) \\left( 4i + 3 \\right)}\n",
    "$$\n",
    "Write a `for` loop to approximate `pi`, for $N=10,20,100,1000$."
   ]
  },
  {
   "cell_type": "code",
   "execution_count": 6,
   "metadata": {},
   "outputs": [
    {
     "name": "stdout",
     "output_type": "stream",
     "text": [
      "N = 10 approximation 3.0961615264636406\n",
      "N = 20 approximation 3.117786501758877\n",
      "N = 100 approximation 3.136642188870299\n",
      "N = 1000 approximation 3.141093153121444\n"
     ]
    }
   ],
   "source": [
    "## Code here\n",
    "\n",
    "## first I initiate the sum with a tracking variable\n",
    "approx_pi = 0\n",
    "\n",
    "## I set a value for N\n",
    "N = 10\n",
    "\n",
    "## I loop to N+1 to ensure that N is the final time through the loop\n",
    "for i in range(N+1):\n",
    "    ## Add the next term to the partial sum\n",
    "    approx_pi = approx_pi + 8/((4*i + 1)*(4*i + 3))\n",
    "    \n",
    "## display the result\n",
    "print(\"N =\", N, \"approximation\", approx_pi)\n",
    "\n",
    "\n",
    "\n",
    "approx_pi = 0\n",
    "N = 20\n",
    "for i in range(N+1):\n",
    "    approx_pi = approx_pi + 8/((4*i + 1)*(4*i + 3))\n",
    "    \n",
    "print(\"N =\", N, \"approximation\", approx_pi)\n",
    "\n",
    "\n",
    "\n",
    "\n",
    "approx_pi = 0\n",
    "N = 100\n",
    "for i in range(N+1):\n",
    "    approx_pi = approx_pi + 8/((4*i + 1)*(4*i + 3))\n",
    "    \n",
    "print(\"N =\", N, \"approximation\", approx_pi)\n",
    "\n",
    "\n",
    "\n",
    "\n",
    "approx_pi = 0\n",
    "N = 1000\n",
    "for i in range(N+1):\n",
    "    approx_pi = approx_pi + 8/((4*i + 1)*(4*i + 3))\n",
    "    \n",
    "print(\"N =\", N, \"approximation\", approx_pi)"
   ]
  },
  {
   "cell_type": "code",
   "execution_count": 7,
   "metadata": {},
   "outputs": [],
   "source": [
    "## Code here\n",
    "\n",
    "\n"
   ]
  },
  {
   "cell_type": "markdown",
   "metadata": {},
   "source": [
    "2. Write a loop to \"draw\" a right triangle made of a single letter of your choice."
   ]
  },
  {
   "cell_type": "code",
   "execution_count": 8,
   "metadata": {},
   "outputs": [
    {
     "name": "stdout",
     "output_type": "stream",
     "text": [
      "Matt\n",
      "MattMatt\n",
      "MattMattMatt\n",
      "MattMattMattMatt\n",
      "MattMattMattMattMatt\n",
      "MattMattMattMattMattMatt\n",
      "MattMattMattMattMattMattMatt\n",
      "MattMattMattMattMattMattMattMatt\n",
      "MattMattMattMattMattMattMattMattMatt\n",
      "MattMattMattMattMattMattMattMattMattMatt\n",
      "\n",
      "MattMattMattMattMattMattMattMattMattMatt\n",
      "MattMattMattMattMattMattMattMattMatt\n",
      "MattMattMattMattMattMattMattMatt\n",
      "MattMattMattMattMattMattMatt\n",
      "MattMattMattMattMattMatt\n",
      "MattMattMattMattMatt\n",
      "MattMattMattMatt\n",
      "MattMattMatt\n",
      "MattMatt\n",
      "Matt\n"
     ]
    }
   ],
   "source": [
    "## Code here\n",
    "\n",
    "## base on the bottom ##\n",
    "\n",
    "## Use what we learned in question 5 above\n",
    "for i in range(1, 11):\n",
    "    print(\"Matt\"*i)\n",
    "\n",
    "print()\n",
    "    \n",
    "## base on the top ##\n",
    "\n",
    "## \n",
    "for i in range(1, 11):\n",
    "    print(\"Matt\"*(11-i))"
   ]
  },
  {
   "cell_type": "code",
   "execution_count": 9,
   "metadata": {},
   "outputs": [],
   "source": [
    "## Code here\n",
    "\n",
    "\n"
   ]
  },
  {
   "cell_type": "markdown",
   "metadata": {},
   "source": [
    "3. Below you'll find a `list` called `sample_words`. Make a dictionary that uses the unique words as the keys, and the number of times each word appears as the values."
   ]
  },
  {
   "cell_type": "code",
   "execution_count": 10,
   "metadata": {},
   "outputs": [],
   "source": [
    "sample_words = [\"apple\", \"banana\", \"apple\", \"computer\", \"computer\",\n",
    "               \"programming\", \"language\", \"Obama\", \"Bush\", \"Trump\",\n",
    "               \"Eisenhower\", \"president\", \"president\", \"president\",\n",
    "               \"president\", \"dog\", \"dog\", \"cat\", \"duck\", \"duck\", \"goose\",\n",
    "               \"baseball\", \"basketball\", \"football\", \"hockey\", \"soccer\",\n",
    "               \"sports\", \"lebron\", \"james\", \"darius\", \"garland\"]"
   ]
  },
  {
   "cell_type": "code",
   "execution_count": 11,
   "metadata": {},
   "outputs": [
    {
     "data": {
      "text/plain": [
       "{'apple': 2,\n",
       " 'banana': 1,\n",
       " 'computer': 2,\n",
       " 'programming': 1,\n",
       " 'language': 1,\n",
       " 'Obama': 1,\n",
       " 'Bush': 1,\n",
       " 'Trump': 1,\n",
       " 'Eisenhower': 1,\n",
       " 'president': 4,\n",
       " 'dog': 2,\n",
       " 'cat': 1,\n",
       " 'duck': 2,\n",
       " 'goose': 1,\n",
       " 'baseball': 1,\n",
       " 'basketball': 1,\n",
       " 'football': 1,\n",
       " 'hockey': 1,\n",
       " 'soccer': 1,\n",
       " 'sports': 1,\n",
       " 'lebron': 1,\n",
       " 'james': 1,\n",
       " 'darius': 1,\n",
       " 'garland': 1}"
      ]
     },
     "execution_count": 11,
     "metadata": {},
     "output_type": "execute_result"
    }
   ],
   "source": [
    "## Code here\n",
    "\n",
    "## first make an empty dictionary\n",
    "word_dict = {}\n",
    "\n",
    "## loop through the words in the list\n",
    "for word in sample_words:\n",
    "    ## check if the word has already been recorded in our dictionary\n",
    "    ## if it is\n",
    "    if word in word_dict.keys():\n",
    "        ## increase the count by 1\n",
    "        word_dict[word] = word_dict[word] + 1\n",
    "    ## if it isn't\n",
    "    else:\n",
    "        ## add it with a count of 1\n",
    "        word_dict[word] = 1\n",
    "        \n",
    "word_dict"
   ]
  },
  {
   "cell_type": "markdown",
   "metadata": {},
   "source": [
    "4. Below is a `list` called `steps`, make a variable called `position`. Make a loop that updates your position based on the step in `steps`."
   ]
  },
  {
   "cell_type": "code",
   "execution_count": 12,
   "metadata": {},
   "outputs": [],
   "source": [
    "steps = [-1,1,1,-1,-1,1,1,1,-1,-1,-1,-1,-1,1,-1,1,-1,1,1,1,-1,-1,1,1,-1,-1]"
   ]
  },
  {
   "cell_type": "code",
   "execution_count": 13,
   "metadata": {},
   "outputs": [
    {
     "name": "stdout",
     "output_type": "stream",
     "text": [
      "-2\n"
     ]
    }
   ],
   "source": [
    "## Code here\n",
    "position = 0\n",
    "\n",
    "## loop through the steps\n",
    "for step in steps:\n",
    "    position = position + step\n",
    "    \n",
    "print(position)"
   ]
  },
  {
   "cell_type": "code",
   "execution_count": 14,
   "metadata": {},
   "outputs": [],
   "source": [
    "## Code here\n",
    "\n",
    "\n"
   ]
  },
  {
   "cell_type": "markdown",
   "metadata": {},
   "source": [
    "--------------------------\n",
    "\n",
    "This notebook was written for the Erd&#337;s Institute C&#337;de Data Science Boot Camp by Matthew Osborne, Ph. D., 2022.\n",
    "\n",
    "Any potential redistributors must seek and receive permission from Matthew Tyler Osborne, Ph.D. prior to redistribution. Redistribution of the material contained in this repository is conditional on acknowledgement of Matthew Tyler Osborne, Ph.D.'s original authorship and sponsorship of the Erdős Institute as subject to the license (see License.md)"
   ]
  },
  {
   "cell_type": "code",
   "execution_count": null,
   "metadata": {},
   "outputs": [],
   "source": []
  }
 ],
 "metadata": {
  "kernelspec": {
   "display_name": "Python 3 (ipykernel)",
   "language": "python",
   "name": "python3"
  },
  "language_info": {
   "codemirror_mode": {
    "name": "ipython",
    "version": 3
   },
   "file_extension": ".py",
   "mimetype": "text/x-python",
   "name": "python",
   "nbconvert_exporter": "python",
   "pygments_lexer": "ipython3",
   "version": "3.9.9"
  }
 },
 "nbformat": 4,
 "nbformat_minor": 2
}
