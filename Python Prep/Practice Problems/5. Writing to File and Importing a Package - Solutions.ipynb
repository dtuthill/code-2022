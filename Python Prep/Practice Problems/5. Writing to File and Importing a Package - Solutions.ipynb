{
 "cells": [
  {
   "cell_type": "markdown",
   "metadata": {},
   "source": [
    "# Writing to File and Importing a Package\n",
    "\n",
    "These problems correspond to the notebooks `Reading and Writing to a File` and `Importing a Package` notebooks in the python prep folder."
   ]
  },
  {
   "cell_type": "markdown",
   "metadata": {},
   "source": [
    "## Basic Problems\n",
    "\n",
    "1. Read in `practice_file.txt` and store the lines of the file in a list. Write a loop to print the lines."
   ]
  },
  {
   "cell_type": "code",
   "execution_count": 1,
   "metadata": {},
   "outputs": [
    {
     "name": "stdout",
     "output_type": "stream",
     "text": [
      "0\n",
      "\n",
      "1\n",
      "\n",
      "2\n",
      "\n",
      "3\n",
      "\n",
      "4\n",
      "\n",
      "5\n",
      "\n",
      "6\n",
      "\n",
      "7\n",
      "\n",
      "8\n",
      "\n",
      "9\n",
      "\n",
      "10\n",
      "\n",
      "11\n",
      "\n",
      "12\n",
      "\n",
      "13\n",
      "\n",
      "14\n",
      "\n",
      "15\n",
      "\n",
      "16\n",
      "\n",
      "17\n",
      "\n",
      "18\n",
      "\n",
      "19\n",
      "\n",
      "20\n",
      "\n",
      "21\n",
      "\n",
      "22\n",
      "\n",
      "23\n",
      "\n",
      "24\n",
      "\n",
      "25\n",
      "\n"
     ]
    }
   ],
   "source": [
    "## 1. ANSWER\n",
    "file = open(\"practice_file.txt\", \"r\")\n",
    "\n",
    "file_lines = file.readlines()\n",
    "\n",
    "file.close()\n",
    "\n",
    "for line in file_lines:\n",
    "    print(line)"
   ]
  },
  {
   "cell_type": "markdown",
   "metadata": {},
   "source": [
    "2. Import the `random` module."
   ]
  },
  {
   "cell_type": "code",
   "execution_count": 2,
   "metadata": {},
   "outputs": [],
   "source": [
    "## 2. ANSWER\n",
    "import random\n",
    "\n"
   ]
  },
  {
   "cell_type": "markdown",
   "metadata": {},
   "source": [
    "3. Do an internet search and see what `random.random()` does. A good starting point may be the documentation on the `random` module."
   ]
  },
  {
   "cell_type": "code",
   "execution_count": 3,
   "metadata": {},
   "outputs": [
    {
     "data": {
      "text/plain": [
       "0.2916137689174457"
      ]
     },
     "execution_count": 3,
     "metadata": {},
     "output_type": "execute_result"
    }
   ],
   "source": [
    "## 3. ANSWER\n",
    "\n",
    "## the documentation on random.random\n",
    "## https://docs.python.org/3/library/random.html#random.random\n",
    "\n",
    "## This appears to produce a random number selected uniformly\n",
    "## at random from [0,1)\n",
    "random.random()\n"
   ]
  },
  {
   "cell_type": "markdown",
   "metadata": {},
   "source": [
    "4. Import the `datetime` module, then run the code `datetime.datetime.now()`. What is this? What is the `type` of what comes out?"
   ]
  },
  {
   "cell_type": "code",
   "execution_count": 4,
   "metadata": {},
   "outputs": [],
   "source": [
    "## 4. ANSWER\n",
    "import datetime"
   ]
  },
  {
   "cell_type": "code",
   "execution_count": 5,
   "metadata": {},
   "outputs": [
    {
     "data": {
      "text/plain": [
       "datetime.datetime(2022, 1, 27, 7, 6, 1, 138927)"
      ]
     },
     "execution_count": 5,
     "metadata": {},
     "output_type": "execute_result"
    }
   ],
   "source": [
    "## 4. ANSWER continued\n",
    "datetime.datetime.now()\n",
    "\n",
    "## the datetime docs https://docs.python.org/3/library/datetime.html\n",
    "## according to the docs datetime.now() returns the local date and time\n"
   ]
  },
  {
   "cell_type": "markdown",
   "metadata": {},
   "source": [
    "5. Use `datetime.datetime` to store your birthday in a variable named `birthday`."
   ]
  },
  {
   "cell_type": "code",
   "execution_count": 6,
   "metadata": {},
   "outputs": [
    {
     "data": {
      "text/plain": [
       "datetime.datetime(1994, 2, 3, 0, 0)"
      ]
     },
     "execution_count": 6,
     "metadata": {},
     "output_type": "execute_result"
    }
   ],
   "source": [
    "## 5. ANSWER\n",
    "\n",
    "## A datetime can be created as datetime.datetime(year, month, day)\n",
    "birthday = datetime.datetime(1994,2,3)\n",
    "\n",
    "birthday"
   ]
  },
  {
   "cell_type": "markdown",
   "metadata": {},
   "source": [
    "## More Advanced Problems\n",
    "\n",
    "1. <i>A Random Walk</i> A random walk desribes someone taking steps down a sidewalk according to a flipped coin. Imagine a person starting at position $0$ and going one step forward if the coin comes up heads, and one step backward if the flipped coin comes up tails. Use `random.random()` to make a list of random walk positions for a random walk of 100 steps. Write the results of the random walk to a file called `random_walk.csv`. Each position should be stored on it's own row. Name the column `position`."
   ]
  },
  {
   "cell_type": "code",
   "execution_count": 7,
   "metadata": {},
   "outputs": [],
   "source": [
    "## 1. ANSWER\n",
    "\n",
    "## open file\n",
    "file = open(\"random_walk.csv\", \"w+\")\n",
    "\n",
    "## label the columne\n",
    "file.write(\"position\\n\")\n",
    "\n",
    "## Initialize position\n",
    "p = 0\n",
    "\n",
    "## record the initial position\n",
    "file.write(str(p) + \"\\n\")\n",
    "\n",
    "## setting a random seed\n",
    "random.seed(440)\n",
    "\n",
    "for i in range(100):\n",
    "    flip = random.random()\n",
    "    \n",
    "    # if the flip is a tails step one to the left\n",
    "    if flip <= .5:\n",
    "        p = p - 1\n",
    "    # otherwise take a step one to the right\n",
    "    else:\n",
    "        p = p + 1\n",
    "        \n",
    "    # write the position to file\n",
    "    file.write(str(p) + \"\\n\")\n",
    "    \n",
    "# close the file    \n",
    "file.close()"
   ]
  },
  {
   "cell_type": "code",
   "execution_count": 8,
   "metadata": {},
   "outputs": [
    {
     "name": "stdout",
     "output_type": "stream",
     "text": [
      "position\n",
      "0\n",
      "-1\n",
      "-2\n",
      "-3\n",
      "-4\n",
      "-5\n",
      "-6\n",
      "-5\n",
      "-4\n",
      "-3\n",
      "-2\n",
      "-3\n",
      "-4\n",
      "-5\n",
      "-6\n",
      "-7\n",
      "-8\n",
      "-9\n",
      "-8\n",
      "-7\n",
      "-6\n",
      "-7\n",
      "-8\n",
      "-9\n",
      "-8\n",
      "-7\n",
      "-6\n",
      "-5\n",
      "-6\n",
      "-7\n",
      "-8\n",
      "-9\n",
      "-8\n",
      "-7\n",
      "-6\n",
      "-7\n",
      "-6\n",
      "-5\n",
      "-6\n",
      "-7\n",
      "-8\n",
      "-9\n",
      "-10\n",
      "-11\n",
      "-10\n",
      "-9\n",
      "-8\n",
      "-9\n",
      "-10\n",
      "-9\n",
      "-8\n",
      "-7\n",
      "-6\n",
      "-7\n",
      "-6\n",
      "-5\n",
      "-4\n",
      "-5\n",
      "-6\n",
      "-7\n",
      "-8\n",
      "-7\n",
      "-8\n",
      "-7\n",
      "-6\n",
      "-5\n",
      "-4\n",
      "-3\n",
      "-2\n",
      "-3\n",
      "-4\n",
      "-3\n",
      "-2\n",
      "-1\n",
      "-2\n",
      "-1\n",
      "-2\n",
      "-3\n",
      "-2\n",
      "-3\n",
      "-4\n",
      "-5\n",
      "-6\n",
      "-7\n",
      "-8\n",
      "-9\n",
      "-10\n",
      "-11\n",
      "-10\n",
      "-11\n",
      "-10\n",
      "-9\n",
      "-10\n",
      "-11\n",
      "-10\n",
      "-9\n",
      "-8\n",
      "-9\n",
      "-8\n",
      "-9\n",
      "-10\n",
      "\n"
     ]
    }
   ],
   "source": [
    "## 1. ANSWER continued\n",
    "## Note your walk will be different from my\n",
    "## walk if you did not set a random seed.\n",
    "# check our work\n",
    "file = open(\"random_walk.csv\", \"r\")\n",
    "\n",
    "print(file.read())\n",
    "\n",
    "file.close()"
   ]
  },
  {
   "cell_type": "markdown",
   "metadata": {},
   "source": [
    "--------------------------\n",
    "\n",
    "This notebook was written for the Erd&#337;s Institute C&#337;de Data Science Boot Camp by Matthew Osborne, Ph. D., 2022.\n",
    "\n",
    "Any potential redistributors must seek and receive permission from Matthew Tyler Osborne, Ph.D. prior to redistribution. Redistribution of the material contained in this repository is conditional on acknowledgement of Matthew Tyler Osborne, Ph.D.'s original authorship and sponsorship of the Erdős Institute as subject to the license (see License.md)"
   ]
  },
  {
   "cell_type": "code",
   "execution_count": null,
   "metadata": {},
   "outputs": [],
   "source": []
  }
 ],
 "metadata": {
  "kernelspec": {
   "display_name": "Python 3 (ipykernel)",
   "language": "python",
   "name": "python3"
  },
  "language_info": {
   "codemirror_mode": {
    "name": "ipython",
    "version": 3
   },
   "file_extension": ".py",
   "mimetype": "text/x-python",
   "name": "python",
   "nbconvert_exporter": "python",
   "pygments_lexer": "ipython3",
   "version": "3.9.9"
  }
 },
 "nbformat": 4,
 "nbformat_minor": 2
}
