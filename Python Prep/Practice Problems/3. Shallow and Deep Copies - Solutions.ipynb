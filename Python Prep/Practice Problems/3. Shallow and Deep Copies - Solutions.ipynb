{
 "cells": [
  {
   "cell_type": "markdown",
   "id": "a087d54d",
   "metadata": {},
   "source": [
    "# Shallow and Deep Copies\n",
    "\n",
    "These problems will cover the concepts touched on in notebook 5. Shallow and Deep Copies"
   ]
  },
  {
   "cell_type": "markdown",
   "id": "9c9e8b6f",
   "metadata": {},
   "source": [
    "1. Look at the code below, what should happen when it is executed?"
   ]
  },
  {
   "cell_type": "markdown",
   "id": "ad9817f2",
   "metadata": {},
   "source": [
    "When you change the 4th entry of `b` the 4th entry of `a` is also changed, because you only performed a shallow copy."
   ]
  },
  {
   "cell_type": "code",
   "execution_count": 1,
   "id": "d1e72082",
   "metadata": {},
   "outputs": [
    {
     "name": "stdout",
     "output_type": "stream",
     "text": [
      "[1, 2, 3, 71, 5, 6]\n",
      "[1, 2, 3, 71, 5, 6]\n"
     ]
    }
   ],
   "source": [
    "a = [1,2,3,4,5,6]\n",
    "b = a\n",
    "b[3] = 71\n",
    "\n",
    "print(a)\n",
    "print(b)"
   ]
  },
  {
   "cell_type": "markdown",
   "id": "6b5d573e",
   "metadata": {},
   "source": [
    "2. What would you need to change so that `a` is not changed when you change `b`?"
   ]
  },
  {
   "cell_type": "code",
   "execution_count": 2,
   "id": "64ed0cfe",
   "metadata": {},
   "outputs": [
    {
     "name": "stdout",
     "output_type": "stream",
     "text": [
      "[1, 2, 3, 4, 5, 6]\n",
      "[1, 2, 3, 71, 5, 6]\n"
     ]
    }
   ],
   "source": [
    "## code or write here\n",
    "a = [1,2,3,4,5,6]\n",
    "\n",
    "## put a .copy()\n",
    "b = a.copy()\n",
    "b[3] = 71\n",
    "\n",
    "print(a)\n",
    "print(b)\n"
   ]
  },
  {
   "cell_type": "markdown",
   "id": "de17e47d",
   "metadata": {},
   "source": [
    "3. Look at the code below, what should happen when it is executed?"
   ]
  },
  {
   "cell_type": "markdown",
   "id": "5938aca6",
   "metadata": {},
   "source": [
    "Because you only performed a shallow copy when you change `b` you will also change `a`."
   ]
  },
  {
   "cell_type": "code",
   "execution_count": 3,
   "id": "7f937d38",
   "metadata": {},
   "outputs": [],
   "source": [
    "import numpy as np"
   ]
  },
  {
   "cell_type": "code",
   "execution_count": 4,
   "id": "368f1217",
   "metadata": {},
   "outputs": [
    {
     "name": "stdout",
     "output_type": "stream",
     "text": [
      "[1 2 1 4]\n",
      "[1 2 1 4]\n"
     ]
    }
   ],
   "source": [
    "a = np.array([1,2,3,4])\n",
    "b = a\n",
    "\n",
    "b[2] = 1\n",
    "\n",
    "print(a)\n",
    "print(b)"
   ]
  },
  {
   "cell_type": "markdown",
   "id": "6a2be210",
   "metadata": {},
   "source": [
    "4. Perform a web search to find what you would need to change so that `a` is not changed when you change `b`. Write the corrected code below."
   ]
  },
  {
   "cell_type": "code",
   "execution_count": 5,
   "id": "b9329a74",
   "metadata": {},
   "outputs": [
    {
     "name": "stdout",
     "output_type": "stream",
     "text": [
      "[1 2 3 4]\n",
      "[1 2 1 4]\n"
     ]
    }
   ],
   "source": [
    "## Code here\n",
    "\n",
    "## it is the same :)\n",
    "## just add a .copy()\n",
    "\n",
    "a = np.array([1,2,3,4])\n",
    "b = a.copy()\n",
    "\n",
    "b[2] = 1\n",
    "\n",
    "print(a)\n",
    "print(b)\n"
   ]
  },
  {
   "cell_type": "markdown",
   "id": "00e2b115",
   "metadata": {},
   "source": [
    "5. Delete `a` and `b`."
   ]
  },
  {
   "cell_type": "code",
   "execution_count": 6,
   "id": "7c462491",
   "metadata": {},
   "outputs": [],
   "source": [
    "## code here\n",
    "del a,b\n",
    "\n"
   ]
  },
  {
   "cell_type": "markdown",
   "id": "ad63d9a7",
   "metadata": {},
   "source": [
    "6. In the code below we will create a `pandas` `DataFrame` and store it in the variable `df`. Perform a web search to see how to perform a deep copy of a `DataFrame`. Then make a deep copy of `df` and store it in `df_copy`."
   ]
  },
  {
   "cell_type": "code",
   "execution_count": 7,
   "id": "572d833f",
   "metadata": {},
   "outputs": [],
   "source": [
    "import pandas as pd\n",
    "\n",
    "df = pd.DataFrame({'column_1':[435, 999, 545],\n",
    "                      'column_2':[\"ab\", \"bc\", \"de\"],\n",
    "                      'column_3':[True, True, False]})"
   ]
  },
  {
   "cell_type": "code",
   "execution_count": 8,
   "id": "3c70a4d6",
   "metadata": {},
   "outputs": [],
   "source": [
    "## code here\n",
    "\n",
    "## .copy() to the rescue again!\n",
    "df_copy = df.copy()\n"
   ]
  },
  {
   "cell_type": "markdown",
   "id": "55a610ed",
   "metadata": {},
   "source": [
    "--------------------------\n",
    "\n",
    "This notebook was written for the Erd&#337;s Institute C&#337;de Data Science Boot Camp by Matthew Osborne, Ph. D., 2022.\n",
    "\n",
    "Any potential redistributors must seek and receive permission from Matthew Tyler Osborne, Ph.D. prior to redistribution. Redistribution of the material contained in this repository is conditional on acknowledgement of Matthew Tyler Osborne, Ph.D.'s original authorship and sponsorship of the Erdős Institute as subject to the license (see License.md)"
   ]
  },
  {
   "cell_type": "code",
   "execution_count": null,
   "id": "c840cbf3",
   "metadata": {},
   "outputs": [],
   "source": []
  }
 ],
 "metadata": {
  "kernelspec": {
   "display_name": "Python 3 (ipykernel)",
   "language": "python",
   "name": "python3"
  },
  "language_info": {
   "codemirror_mode": {
    "name": "ipython",
    "version": 3
   },
   "file_extension": ".py",
   "mimetype": "text/x-python",
   "name": "python",
   "nbconvert_exporter": "python",
   "pygments_lexer": "ipython3",
   "version": "3.9.9"
  }
 },
 "nbformat": 4,
 "nbformat_minor": 5
}
