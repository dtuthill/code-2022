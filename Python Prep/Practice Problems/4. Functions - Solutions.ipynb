{
 "cells": [
  {
   "cell_type": "markdown",
   "metadata": {},
   "source": [
    "# Functions\n",
    "\n",
    "The problems in this notebook correpond to the `Writing Functions` notebook in the python prep folder."
   ]
  },
  {
   "cell_type": "markdown",
   "metadata": {},
   "source": [
    "## Basic Problems\n",
    "\n",
    "1. Write a function that takes in three arguments and subtracts the second from the first then adds the third."
   ]
  },
  {
   "cell_type": "code",
   "execution_count": 1,
   "metadata": {},
   "outputs": [
    {
     "name": "stdout",
     "output_type": "stream",
     "text": [
      "1 - 2 + 3 =  2\n",
      "1 - 2 + 3 =  2\n"
     ]
    }
   ],
   "source": [
    "## 1. ANSWER\n",
    "\n",
    "def silly_subtract_add(x, y, z):\n",
    "    return x-y+z\n",
    "\n",
    "print(\"1 - 2 + 3 = \", 1 - 2 + 3)\n",
    "print(\"1 - 2 + 3 = \", silly_subtract_add(1, 2, 3))\n"
   ]
  },
  {
   "cell_type": "markdown",
   "metadata": {},
   "source": [
    "2. Write a function that takes in and $x$ and a $y$ and tells you whether or not the point $(x,y)$ is above the line $y = x + 2$."
   ]
  },
  {
   "cell_type": "code",
   "execution_count": 2,
   "metadata": {},
   "outputs": [
    {
     "name": "stdout",
     "output_type": "stream",
     "text": [
      "The point (-1,2) is above the line y = x + 2\n",
      "The point (0,2) is on the line y = x + 2\n",
      "The point (1,2) is below the line y = x + 2\n"
     ]
    }
   ],
   "source": [
    "## 2. ANSWER\n",
    "\n",
    "def above_line(x,y):\n",
    "    if y - x < 2:\n",
    "        print(\"The point (\" + str(x) + \",\" + str(y) + \")\" +\n",
    "             \" is below the line y = x + 2\")\n",
    "    elif y - x > 2:\n",
    "        print(\"The point (\" + str(x) + \",\" + str(y) + \")\" +\n",
    "             \" is above the line y = x + 2\")\n",
    "    else:\n",
    "        print(\"The point (\" + str(x) + \",\" + str(y) + \")\" +\n",
    "             \" is on the line y = x + 2\")\n",
    "        \n",
    "\n",
    "above_line(-1, 2)\n",
    "above_line(0, 2)\n",
    "above_line(1, 2)"
   ]
  },
  {
   "cell_type": "markdown",
   "metadata": {},
   "source": [
    "3. Write a function that takes in an argument and tells you whether it is an `str`. Hint: Remember the `type` function in python."
   ]
  },
  {
   "cell_type": "code",
   "execution_count": 3,
   "metadata": {},
   "outputs": [
    {
     "name": "stdout",
     "output_type": "stream",
     "text": [
      "<class 'str'>\n",
      "False\n",
      "True\n"
     ]
    }
   ],
   "source": [
    "## 3. ANSWER\n",
    "\n",
    "print(type(\"apple\"))\n",
    "\n",
    "def is_string(item):\n",
    "    if type(item) == str:\n",
    "        return True\n",
    "    else:\n",
    "        return False\n",
    "\n",
    "print(is_string(1))\n",
    "print(is_string(\"1\"))\n",
    "\n",
    "\n",
    "## Alternatively, you could use python's isinstance() function\n",
    "## https://www.geeksforgeeks.org/python-check-if-a-variable-is-string/"
   ]
  },
  {
   "cell_type": "markdown",
   "metadata": {},
   "source": [
    "4. Write a function that takes in a name and says hello to that name."
   ]
  },
  {
   "cell_type": "code",
   "execution_count": 4,
   "metadata": {},
   "outputs": [
    {
     "name": "stdout",
     "output_type": "stream",
     "text": [
      "Hello Mark\n"
     ]
    }
   ],
   "source": [
    "## 4. ANSWER\n",
    "\n",
    "def hello_name(name):\n",
    "    print(\"Hello\", name)\n",
    "\n",
    "hello_name(\"Mark\")\n"
   ]
  },
  {
   "cell_type": "markdown",
   "metadata": {},
   "source": [
    "5. Write a function that takes in a number and a value, `p`, and returns a $-1$ if the number is below `p` and a $1$ if the number is above `p`."
   ]
  },
  {
   "cell_type": "code",
   "execution_count": 5,
   "metadata": {},
   "outputs": [
    {
     "data": {
      "text/plain": [
       "1"
      ]
     },
     "execution_count": 5,
     "metadata": {},
     "output_type": "execute_result"
    }
   ],
   "source": [
    "## 5. ANSWER\n",
    "def check_p(x,p):\n",
    "    if x > p:\n",
    "        return 1\n",
    "    elif x < p:\n",
    "        return -1\n",
    "    else:\n",
    "        ## Note what should we do if x==p?\n",
    "        ## Since it is not specified we'll return a None object\n",
    "        ## Learn more about None here, https://www.w3schools.com/python/ref_keyword_none.asp\n",
    "        return None\n",
    "\n",
    "check_p(10, .3)"
   ]
  },
  {
   "cell_type": "markdown",
   "metadata": {},
   "source": [
    "## More Advanced Problems\n",
    "\n",
    "1. Taxable income is determined on a bracket system, where the taxes you owe are determined by  the bracket below:\n",
    "<img src = \"single_tax.png\" style=\"width:50%\"></img>\n",
    "Write a function that takes in someone's taxable income and computes how much they owe the federal government."
   ]
  },
  {
   "cell_type": "code",
   "execution_count": 6,
   "metadata": {},
   "outputs": [
    {
     "data": {
      "text/plain": [
       "18079.5"
      ]
     },
     "execution_count": 6,
     "metadata": {},
     "output_type": "execute_result"
    }
   ],
   "source": [
    "## 1. ANSWER\n",
    "def calculate_tax(income):\n",
    "    if income < 0:\n",
    "        return None\n",
    "    elif income < 9876:\n",
    "        return .1*income\n",
    "    elif income < 40126:\n",
    "        return 987.5 + .12*(income - 9875)\n",
    "    elif income < 85526:\n",
    "        return 4617.5 + .22*(income - 40125)\n",
    "    elif income < 163301:\n",
    "        return 14605.5 + .24*(income - 85525)\n",
    "    elif income < 207351:\n",
    "        return 33271.5 + .32*(income - 163300)\n",
    "    elif income < 518401:\n",
    "        return 47367.5 + .35*(income - 207350)\n",
    "    else:\n",
    "        return 156235 + .37*(income - 518400)\n",
    "\n",
    "calculate_tax(100000)"
   ]
  },
  {
   "cell_type": "markdown",
   "metadata": {},
   "source": [
    "2. You can approximate $\\pi$ with the following sum:\n",
    "$$\n",
    "\\sum_{i=0}^N \\frac{8}{\\left( 4i + 1 \\right) \\left( 4i + 3 \\right)},\n",
    "$$\n",
    "Write a function that takes in a value for $N$ and returns an approximation of $\\pi$."
   ]
  },
  {
   "cell_type": "code",
   "execution_count": 7,
   "metadata": {},
   "outputs": [
    {
     "name": "stdout",
     "output_type": "stream",
     "text": [
      "\"Actual pi\" 3.141592653589793\n",
      "Approximate pi 3.141592603588103\n"
     ]
    }
   ],
   "source": [
    "## 2. ANSWER\n",
    "## Here is one example solution\n",
    "def approximate_pi(N):\n",
    "    return sum([8/((4*i + 1)*(4*i + 3)) for i in range(N+1)])\n",
    "\n",
    "\n",
    "import math\n",
    "print('\"Actual pi\"', math.pi)\n",
    "print(\"Approximate pi\", approximate_pi(10000000))"
   ]
  },
  {
   "cell_type": "markdown",
   "metadata": {},
   "source": [
    "3. Write a function that takes in a list of words, and returns a word count dictionary that contains the number of times each unique word shows up in the list. Test it on the list of words from Practice Problems Notebook 2."
   ]
  },
  {
   "cell_type": "code",
   "execution_count": 8,
   "metadata": {},
   "outputs": [],
   "source": [
    "## 3. ANSWER\n",
    "def word_count(word_list):\n",
    "    word_dict = {}\n",
    "    \n",
    "    for word in word_list:\n",
    "        if word in word_dict.keys():\n",
    "            word_dict[word] = word_dict[word] + 1\n",
    "        else:\n",
    "            word_dict[word] = 1\n",
    "\n",
    "    return word_dict\n",
    "\n"
   ]
  },
  {
   "cell_type": "code",
   "execution_count": 9,
   "metadata": {},
   "outputs": [
    {
     "data": {
      "text/plain": [
       "{'apple': 2,\n",
       " 'banana': 1,\n",
       " 'computer': 2,\n",
       " 'programming': 1,\n",
       " 'language': 1,\n",
       " 'Obama': 1,\n",
       " 'Bush': 1,\n",
       " 'Trump': 1,\n",
       " 'Eisenhower': 1,\n",
       " 'president': 4,\n",
       " 'dog': 2,\n",
       " 'cat': 1,\n",
       " 'duck': 2,\n",
       " 'goose': 1,\n",
       " 'baseball': 1,\n",
       " 'basketball': 1,\n",
       " 'football': 1,\n",
       " 'hockey': 1,\n",
       " 'soccer': 1,\n",
       " 'sports': 1,\n",
       " 'lebron': 1,\n",
       " 'james': 1,\n",
       " 'darius': 1,\n",
       " 'garland': 1}"
      ]
     },
     "execution_count": 9,
     "metadata": {},
     "output_type": "execute_result"
    }
   ],
   "source": [
    "## 3. ANSWER continued\n",
    "sample_words = [\"apple\", \"banana\", \"apple\", \"computer\", \"computer\",\n",
    "               \"programming\", \"language\", \"Obama\", \"Bush\", \"Trump\",\n",
    "               \"Eisenhower\", \"president\", \"president\", \"president\",\n",
    "               \"president\", \"dog\", \"dog\", \"cat\", \"duck\", \"duck\", \"goose\",\n",
    "               \"baseball\", \"basketball\", \"football\", \"hockey\", \"soccer\",\n",
    "               \"sports\", \"lebron\", \"james\", \"darius\", \"garland\"]\n",
    "\n",
    "\n",
    "word_count(sample_words)\n"
   ]
  },
  {
   "cell_type": "markdown",
   "metadata": {},
   "source": [
    "--------------------------\n",
    "\n",
    "This notebook was written for the Erd&#337;s Institute C&#337;de Data Science Boot Camp by Matthew Osborne, Ph. D., 2022.\n",
    "\n",
    "Any potential redistributors must seek and receive permission from Matthew Tyler Osborne, Ph.D. prior to redistribution. Redistribution of the material contained in this repository is conditional on acknowledgement of Matthew Tyler Osborne, Ph.D.'s original authorship and sponsorship of the Erdős Institute as subject to the license (see License.md)"
   ]
  },
  {
   "cell_type": "code",
   "execution_count": null,
   "metadata": {},
   "outputs": [],
   "source": []
  }
 ],
 "metadata": {
  "kernelspec": {
   "display_name": "Python 3 (ipykernel)",
   "language": "python",
   "name": "python3"
  },
  "language_info": {
   "codemirror_mode": {
    "name": "ipython",
    "version": 3
   },
   "file_extension": ".py",
   "mimetype": "text/x-python",
   "name": "python",
   "nbconvert_exporter": "python",
   "pygments_lexer": "ipython3",
   "version": "3.9.9"
  }
 },
 "nbformat": 4,
 "nbformat_minor": 2
}
