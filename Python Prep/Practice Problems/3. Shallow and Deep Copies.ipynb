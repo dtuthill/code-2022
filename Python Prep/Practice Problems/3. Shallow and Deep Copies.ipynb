{
 "cells": [
  {
   "cell_type": "markdown",
   "id": "0f4d7c47",
   "metadata": {},
   "source": [
    "# Shallow and Deep Copies\n",
    "\n",
    "These problems will cover the concepts touched on in notebook 5. Shallow and Deep Copies"
   ]
  },
  {
   "cell_type": "markdown",
   "id": "4a244e6b",
   "metadata": {},
   "source": [
    "1. Look at the code below, what should happen when it is executed?"
   ]
  },
  {
   "cell_type": "code",
   "execution_count": null,
   "id": "7b8de0b4",
   "metadata": {},
   "outputs": [],
   "source": [
    "a = [1,2,3,4,5,6]\n",
    "b = a\n",
    "b[3] = 71\n",
    "\n",
    "print(a)\n",
    "print(b)"
   ]
  },
  {
   "cell_type": "markdown",
   "id": "33d504e2",
   "metadata": {},
   "source": [
    "2. What would you need to change so that `a` is not changed when you change `b`?"
   ]
  },
  {
   "cell_type": "code",
   "execution_count": null,
   "id": "9cadad3c",
   "metadata": {},
   "outputs": [],
   "source": [
    "## code or write here\n",
    "\n"
   ]
  },
  {
   "cell_type": "markdown",
   "id": "09fbb773",
   "metadata": {},
   "source": [
    "3. Look at the code below, what should happen when it is executed?"
   ]
  },
  {
   "cell_type": "code",
   "execution_count": null,
   "id": "5d680a03",
   "metadata": {},
   "outputs": [],
   "source": [
    "import numpy as np"
   ]
  },
  {
   "cell_type": "code",
   "execution_count": null,
   "id": "47fc446c",
   "metadata": {},
   "outputs": [],
   "source": [
    "a = np.array([1,2,3,4])\n",
    "b = a\n",
    "\n",
    "b[2] = 1\n",
    "\n",
    "print(a)\n",
    "print(b)"
   ]
  },
  {
   "cell_type": "markdown",
   "id": "13fee056",
   "metadata": {},
   "source": [
    "4. Perform a web search to find what you would need to change so that `a` is not changed when you change `b`. Write the corrected code below."
   ]
  },
  {
   "cell_type": "code",
   "execution_count": null,
   "id": "051bc295",
   "metadata": {},
   "outputs": [],
   "source": [
    "## Code here\n",
    "\n",
    "\n"
   ]
  },
  {
   "cell_type": "markdown",
   "id": "4f95dd62",
   "metadata": {},
   "source": [
    "5. Delete `a` and `b`."
   ]
  },
  {
   "cell_type": "code",
   "execution_count": null,
   "id": "d42340bc",
   "metadata": {},
   "outputs": [],
   "source": [
    "## code here\n",
    "\n",
    "\n"
   ]
  },
  {
   "cell_type": "markdown",
   "id": "48b81fea",
   "metadata": {},
   "source": [
    "6. In the code below we will create a `pandas` `DataFrame` and store it in the variable `df`. Perform a web search to see how to perform a deep copy of a `DataFrame`. Then make a deep copy of `df` and store it in `df_copy`."
   ]
  },
  {
   "cell_type": "code",
   "execution_count": null,
   "id": "e2b4d016",
   "metadata": {},
   "outputs": [],
   "source": [
    "import pandas as pd\n",
    "\n",
    "df = pd.DataFrame({'column_1':[435, 999, 545],\n",
    "                      'column_2':[\"ab\", \"bc\", \"de\"],\n",
    "                      'column_3':[True, True, False]})"
   ]
  },
  {
   "cell_type": "code",
   "execution_count": null,
   "id": "9970ed49",
   "metadata": {},
   "outputs": [],
   "source": [
    "## code here\n",
    "\n",
    "\n"
   ]
  },
  {
   "cell_type": "markdown",
   "id": "cc4d62b9",
   "metadata": {},
   "source": [
    "--------------------------\n",
    "\n",
    "This notebook was written for the Erd&#337;s Institute C&#337;de Data Science Boot Camp by Matthew Osborne, Ph. D., 2022.\n",
    "\n",
    "Any potential redistributors must seek and receive permission from Matthew Tyler Osborne, Ph.D. prior to redistribution. Redistribution of the material contained in this repository is conditional on acknowledgement of Matthew Tyler Osborne, Ph.D.'s original authorship and sponsorship of the Erdős Institute as subject to the license (see License.md)"
   ]
  },
  {
   "cell_type": "code",
   "execution_count": null,
   "id": "98089f98",
   "metadata": {},
   "outputs": [],
   "source": []
  }
 ],
 "metadata": {
  "kernelspec": {
   "display_name": "Python 3 (ipykernel)",
   "language": "python",
   "name": "python3"
  },
  "language_info": {
   "codemirror_mode": {
    "name": "ipython",
    "version": 3
   },
   "file_extension": ".py",
   "mimetype": "text/x-python",
   "name": "python",
   "nbconvert_exporter": "python",
   "pygments_lexer": "ipython3",
   "version": "3.9.9"
  }
 },
 "nbformat": 4,
 "nbformat_minor": 5
}
