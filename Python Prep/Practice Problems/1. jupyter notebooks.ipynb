{
 "cells": [
  {
   "cell_type": "markdown",
   "metadata": {},
   "source": [
    "# `jupyter notebook`s\n",
    "\n",
    "This notebook contains problems whose intent is to increase your familiarity with `jupyter notebook`s.\n",
    "\n",
    "Since the lectures are exclusively in `jupyter notebook`s it is important that you are comfortable working in them."
   ]
  },
  {
   "cell_type": "markdown",
   "metadata": {},
   "source": [
    "## Basic Problems\n",
    "\n",
    "1. Create a `Code` block below this `Markdown` block and execute `2+2`."
   ]
  },
  {
   "cell_type": "markdown",
   "metadata": {},
   "source": [
    "2. Create a `Markdown` block below this `Markdown` block and write a silly sentence."
   ]
  },
  {
   "cell_type": "markdown",
   "metadata": {},
   "source": [
    "3. Copy and paste this `Markdown` block immediately below using the icons in the tool bar above."
   ]
  },
  {
   "cell_type": "markdown",
   "metadata": {},
   "source": [
    "4. Click on the `Kernel` dropdown button above and select `Restart & Clear Output`. What happened to the code chunk you executed in 1. above?"
   ]
  },
  {
   "cell_type": "markdown",
   "metadata": {},
   "source": [
    "## More Advanced Problems\n",
    "\n",
    "1. Find out how to write mathematical statements in LaTeX within a `Markdown` block. \n",
    "\n",
    "2. Investigate the differences between #, ##, ###, ####, and ##### (Hint: you'll need to put each on a new line)\n",
    "\n",
    "3. Find out how to highlight something as a piece of code within a `Markdown` block.\n",
    "\n",
    "4. Find out how to insert an image into a `Markdown` chunk. Practice with the file `cat_pic.JPG` in this folder.\n",
    "\n",
    "5. Hit the `+` button above, then tap your `l` key, what happens to the newly created `Code` block?"
   ]
  },
  {
   "cell_type": "markdown",
   "metadata": {},
   "source": [
    "--------------------------\n",
    "\n",
    "This notebook was written for the Erd&#337;s Institute C&#337;de Data Science Boot Camp by Matthew Osborne, Ph. D., 2022.\n",
    "\n",
    "Any potential redistributors must seek and receive permission from Matthew Tyler Osborne, Ph.D. prior to redistribution. Redistribution of the material contained in this repository is conditional on acknowledgement of Matthew Tyler Osborne, Ph.D.'s original authorship and sponsorship of the Erdős Institute as subject to the license (see License.md)"
   ]
  },
  {
   "cell_type": "code",
   "execution_count": null,
   "metadata": {},
   "outputs": [],
   "source": []
  }
 ],
 "metadata": {
  "kernelspec": {
   "display_name": "Python 3 (ipykernel)",
   "language": "python",
   "name": "python3"
  },
  "language_info": {
   "codemirror_mode": {
    "name": "ipython",
    "version": 3
   },
   "file_extension": ".py",
   "mimetype": "text/x-python",
   "name": "python",
   "nbconvert_exporter": "python",
   "pygments_lexer": "ipython3",
   "version": "3.9.9"
  }
 },
 "nbformat": 4,
 "nbformat_minor": 2
}
