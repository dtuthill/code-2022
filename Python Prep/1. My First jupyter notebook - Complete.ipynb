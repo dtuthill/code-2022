{
 "cells": [
  {
   "cell_type": "markdown",
   "metadata": {},
   "source": [
    "# My First `jupyter notebook`\n",
    "\n",
    "Welcome!\n",
    "\n",
    "This is a `jupyter notebook`!\n",
    "\n",
    "`jupyter notebook`s are extremely useful tools for data scientists, data analysts, teachers, students and more! They allow people to combine explanatory text (in `Markdown` blocks) with code (in `Code` blocks). The text you are currently reading is contained within a `Markdown` block.\n",
    "\n",
    "This allows people to write both code and text explaining what the code does, or allows them to present a detailed analysis of data with accompanying code and graphics. Let's do a quick rundown here."
   ]
  },
  {
   "cell_type": "code",
   "execution_count": 1,
   "metadata": {},
   "outputs": [],
   "source": [
    "## This is a \"Code\" Block, I can write\n",
    "## python code here"
   ]
  },
  {
   "cell_type": "code",
   "execution_count": 2,
   "metadata": {},
   "outputs": [
    {
     "name": "stdout",
     "output_type": "stream",
     "text": [
      "Hello Friend\n"
     ]
    }
   ],
   "source": [
    "## Click on this block and hit Shift + Enter to \n",
    "## run the python code\n",
    "print(\"Hello Friend\")"
   ]
  },
  {
   "cell_type": "code",
   "execution_count": 3,
   "metadata": {},
   "outputs": [
    {
     "data": {
      "text/plain": [
       "4"
      ]
     },
     "execution_count": 3,
     "metadata": {},
     "output_type": "execute_result"
    }
   ],
   "source": [
    "## practice writing some python code here \n",
    "## then execute it.\n",
    "## Start with something simple like: 2 + 2\n",
    "\n",
    "2 + 2"
   ]
  },
  {
   "cell_type": "markdown",
   "metadata": {},
   "source": [
    "#### Click on this chunk\n",
    "#### Then click on the box above that says \"Code\" and \n",
    "#### Change it to \"Markdown\", what happens?\n",
    "\n",
    "This is now a markdown chunk!"
   ]
  },
  {
   "cell_type": "code",
   "execution_count": 4,
   "metadata": {},
   "outputs": [
    {
     "data": {
      "text/plain": [
       "4"
      ]
     },
     "execution_count": 4,
     "metadata": {},
     "output_type": "execute_result"
    }
   ],
   "source": [
    "#### Now double click on this chunk\n",
    "#### Change the \"Markdown\" to \"Code\" and hit \"Shift\" + \"Enter\"\n",
    "#### I bet you can already guess what will happen\n",
    "2 + 2"
   ]
  },
  {
   "cell_type": "code",
   "execution_count": 6,
   "metadata": {},
   "outputs": [
    {
     "data": {
      "image/png": "[encoded data removed]",
      "text/plain": [
       "<Figure size 720x576 with 1 Axes>"
      ]
     },
     "metadata": {
      "needs_background": "light"
     },
     "output_type": "display_data"
    }
   ],
   "source": [
    "## We can also plot in jupyter notebooks\n",
    "import matplotlib.pyplot as plt\n",
    "plt.figure(figsize=(10,8))\n",
    "\n",
    "plt.plot([1,2,3,4],[1,2,3,4],'r-o')\n",
    "\n",
    "plt.show()\n",
    "\n",
    "\n",
    "## We'll talk more about plotting later"
   ]
  },
  {
   "cell_type": "markdown",
   "metadata": {},
   "source": [
    "That's really all you'll need to know moving forward. As a quick note, you <i>need to be mindful about the order in which your code chunks are executed</i>. A common error with `jupyter notebooks` is forgetting to run a necessary code chunk. Let's see an example. "
   ]
  },
  {
   "cell_type": "code",
   "execution_count": 9,
   "metadata": {},
   "outputs": [
    {
     "data": {
      "text/plain": [
       "6"
      ]
     },
     "execution_count": 9,
     "metadata": {},
     "output_type": "execute_result"
    }
   ],
   "source": [
    "## Run me First!\n",
    "2*x"
   ]
  },
  {
   "cell_type": "code",
   "execution_count": 8,
   "metadata": {},
   "outputs": [],
   "source": [
    "## Run me second!\n",
    "x = 3\n",
    "\n",
    "## now rerun the above chunk!"
   ]
  },
  {
   "cell_type": "markdown",
   "metadata": {},
   "source": [
    "A link that could be useful for you moving forward is this IBM `jupyter` `Markdown` cheat sheet, <a href=\"https://www.ibm.com/docs/en/db2-event-store/2.0.0?topic=notebooks-markdown-jupyter-cheatsheet\">https://www.ibm.com/docs/en/db2-event-store/2.0.0?topic=notebooks-markdown-jupyter-cheatsheet</a>. This sheet reviews what you need to type in order to change the format of the `Markdown` chunks in your `jupyter notebook`s."
   ]
  },
  {
   "cell_type": "markdown",
   "metadata": {},
   "source": [
    "--------------------------\n",
    "\n",
    "This notebook was written for the Erd&#337;s Institute C&#337;de Data Science Boot Camp by Matthew Osborne, Ph. D., 2022.\n",
    "\n",
    "Any potential redistributors must seek and receive permission from Matthew Tyler Osborne, Ph.D. prior to redistribution. Redistribution of the material contained in this repository is conditional on acknowledgement of Matthew Tyler Osborne, Ph.D.'s original authorship and sponsorship of the Erdős Institute as subject to the license (see License.md)"
   ]
  },
  {
   "cell_type": "code",
   "execution_count": null,
   "metadata": {},
   "outputs": [],
   "source": []
  }
 ],
 "metadata": {
  "kernelspec": {
   "display_name": "Python 3 (ipykernel)",
   "language": "python",
   "name": "python3"
  },
  "language_info": {
   "codemirror_mode": {
    "name": "ipython",
    "version": 3
   },
   "file_extension": ".py",
   "mimetype": "text/x-python",
   "name": "python",
   "nbconvert_exporter": "python",
   "pygments_lexer": "ipython3",
   "version": "3.9.9"
  }
 },
 "nbformat": 4,
 "nbformat_minor": 2
}
