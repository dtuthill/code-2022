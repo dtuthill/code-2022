{
 "cells": [
  {
   "cell_type": "markdown",
   "id": "9d15197e",
   "metadata": {},
   "source": [
    "# Strings\n",
    "\n",
    "In this notebook we will discuss strings in python, known as `str`s. <i>If you have experience with coding you may be able to skip this notebook.</i>\n",
    "\n",
    "By the end of this notebook you will know about:\n",
    "- `str`s in python and \n",
    "- Some basic python `str` functions.\n",
    "\n",
    "Let's get started!"
   ]
  },
  {
   "cell_type": "markdown",
   "id": "7676fdd6",
   "metadata": {},
   "source": [
    "## `str`\n",
    "\n",
    "An `str` is a python string, aka a piece of text like a word, sentence, or paragraph.\n",
    "\n",
    "Here is the python documentation on `str`s, <a href=\"https://docs.python.org/3/library/stdtypes.html#textseq\">https://docs.python.org/3/library/stdtypes.html#textseq</a>."
   ]
  },
  {
   "cell_type": "code",
   "execution_count": 1,
   "id": "262304ed",
   "metadata": {},
   "outputs": [
    {
     "data": {
      "text/plain": [
       "\"This is an 'str' object\""
      ]
     },
     "execution_count": 1,
     "metadata": {},
     "output_type": "execute_result"
    }
   ],
   "source": [
    "\"This is an 'str' object\""
   ]
  },
  {
   "cell_type": "markdown",
   "id": "bbafa895",
   "metadata": {},
   "source": [
    "Strings can be denoted by a pair of `\"`s <i>or</i> a pair of `'`s. Note that if we use double apostrophes we are allowed to use single apostrophes in the string. The converse is also true.\n",
    "\n",
    "We can also write a string that spans multiple lines with three sets of apostrophes (double or single)."
   ]
  },
  {
   "cell_type": "code",
   "execution_count": 2,
   "id": "5ccd64e3",
   "metadata": {},
   "outputs": [
    {
     "data": {
      "text/plain": [
       "'Here\\nis\\na\\nstring\\nthat\\nspans\\nmultiple\\nlines'"
      ]
     },
     "execution_count": 2,
     "metadata": {},
     "output_type": "execute_result"
    }
   ],
   "source": [
    "\"\"\"Here\n",
    "is\n",
    "a\n",
    "string\n",
    "that\n",
    "spans\n",
    "multiple\n",
    "lines\"\"\""
   ]
  },
  {
   "cell_type": "markdown",
   "id": "3d3b3aaf",
   "metadata": {},
   "source": [
    "As we can see in the above code chunk there are some characters that have a special meaning in python:\n",
    "- `\\n`, make a new line,\n",
    "- `\\t`, make a tab,\n",
    "- `\\'`, write a single apostrophe,\n",
    "- `\\\"`, write a double apostrophe and\n",
    "- `\\\\`, write a backslash.\n",
    "\n",
    "For additional special characters see the python documentation, <a href=\"https://docs.python.org/3/reference/lexical_analysis.html#strings\">https://docs.python.org/3/reference/lexical_analysis.html#strings</a>.\n",
    "\n",
    "### `print()`\n",
    "\n",
    "You can print a string with a `print()` statement. This will allow us to see the impact of `\\n`."
   ]
  },
  {
   "cell_type": "code",
   "execution_count": 3,
   "id": "37197868",
   "metadata": {},
   "outputs": [
    {
     "name": "stdout",
     "output_type": "stream",
     "text": [
      "Here\n",
      "is\n",
      "a\n",
      "string\n",
      "that\n",
      "spans\n",
      "multiple\n",
      "lines\n"
     ]
    }
   ],
   "source": [
    "print(\"\"\"Here\n",
    "is\n",
    "a\n",
    "string\n",
    "that\n",
    "spans\n",
    "multiple\n",
    "lines\"\"\")"
   ]
  },
  {
   "cell_type": "markdown",
   "id": "fbebda0f",
   "metadata": {},
   "source": [
    "`print`s can be useful when you want to track the progress of some code, or if you are debugging some code."
   ]
  },
  {
   "cell_type": "code",
   "execution_count": 4,
   "id": "43b25676",
   "metadata": {},
   "outputs": [
    {
     "data": {
      "text/plain": [
       "'Line 2'"
      ]
     },
     "execution_count": 4,
     "metadata": {},
     "output_type": "execute_result"
    }
   ],
   "source": [
    "## Exercise!\n",
    "## What do you think will happen when you run the following code\n",
    "## Think about it before you execute the block.\n",
    "\"Line 1\"\n",
    "\"Line 2\""
   ]
  },
  {
   "cell_type": "code",
   "execution_count": 5,
   "id": "d8d9e263",
   "metadata": {},
   "outputs": [
    {
     "name": "stdout",
     "output_type": "stream",
     "text": [
      "Line 1\n",
      "Line 2\n"
     ]
    }
   ],
   "source": [
    "## You code\n",
    "## copy and paste the code chunk from above\n",
    "## now put \"Line 1\" and \"Line 2\" inside of print()\n",
    "## and rerun the code\n",
    "## What happens?\n",
    "print(\"Line 1\")\n",
    "print(\"Line 2\")\n"
   ]
  },
  {
   "cell_type": "markdown",
   "id": "9a08452f",
   "metadata": {},
   "source": [
    "<i>Note that in `jupyter notebook`s only the last line of executed code is displayed by default, so if you want something displayed in the middle of a code chunk, use a `print()`.</i>\n",
    "\n",
    "You can print multiple strings with spaces between them by placing them in `print()` separated by commas."
   ]
  },
  {
   "cell_type": "code",
   "execution_count": 6,
   "id": "98903912",
   "metadata": {},
   "outputs": [
    {
     "name": "stdout",
     "output_type": "stream",
     "text": [
      "string 1 and string 2.\n"
     ]
    }
   ],
   "source": [
    "print(\"string 1\", \"and\", \"string 2.\")"
   ]
  },
  {
   "cell_type": "markdown",
   "id": "b1dad788",
   "metadata": {},
   "source": [
    "### Concatenation\n",
    "\n",
    "You can 'concatenate' two or more strings with a `+`. Concatenation means you combine two separate strings into a single string."
   ]
  },
  {
   "cell_type": "code",
   "execution_count": 7,
   "id": "fad3040d",
   "metadata": {},
   "outputs": [
    {
     "name": "stdout",
     "output_type": "stream",
     "text": [
      "thing 1 and thing 2\n"
     ]
    }
   ],
   "source": [
    "## You can \"concatenate\" multiple strs with a + symbol\n",
    "print(\"thing 1\" + \" and \" + \"thing 2\")"
   ]
  },
  {
   "cell_type": "markdown",
   "id": "b42cb5e9",
   "metadata": {},
   "source": [
    "### Casting as a `str`\n",
    "\n",
    "Sometimes you will want to print the output of some numeric process along with a descriptive string. You can do this by placing the numeric outcome within `str()`. Let's see this in action."
   ]
  },
  {
   "cell_type": "code",
   "execution_count": 8,
   "id": "d50c6f5d",
   "metadata": {},
   "outputs": [
    {
     "data": {
      "text/plain": [
       "'the average is 2'"
      ]
     },
     "execution_count": 8,
     "metadata": {},
     "output_type": "execute_result"
    }
   ],
   "source": [
    "\"the average is \" + str(2)"
   ]
  },
  {
   "cell_type": "markdown",
   "id": "84e1b950",
   "metadata": {},
   "source": [
    "For printing purposes we can just separate the numeric data from the `str` with a comma."
   ]
  },
  {
   "cell_type": "code",
   "execution_count": 9,
   "id": "56b75c49",
   "metadata": {},
   "outputs": [
    {
     "name": "stdout",
     "output_type": "stream",
     "text": [
      "the average is 2\n"
     ]
    }
   ],
   "source": [
    "print(\"the average is\", 2)"
   ]
  },
  {
   "cell_type": "markdown",
   "id": "a5f1a13a",
   "metadata": {},
   "source": [
    "### Built-in `str` Functions\n",
    "\n",
    "Python `str`s have a number of useful built-in functions. Let's look at a couple of them here."
   ]
  },
  {
   "cell_type": "code",
   "execution_count": 10,
   "id": "4b58f467",
   "metadata": {},
   "outputs": [
    {
     "name": "stdout",
     "output_type": "stream",
     "text": [
      "matt osborne\n"
     ]
    }
   ],
   "source": [
    "## Put your name in the string\n",
    "## .lower() lowers all the characters in the string\n",
    "print(\"Matt Osborne\".lower())"
   ]
  },
  {
   "cell_type": "code",
   "execution_count": 11,
   "id": "846c1122",
   "metadata": {},
   "outputs": [
    {
     "name": "stdout",
     "output_type": "stream",
     "text": [
      "MATT OSBORNE\n"
     ]
    }
   ],
   "source": [
    "## Put your name in the string\n",
    "## .lower() lowers all the characters in the string\n",
    "print(\"Matt Osborne\".upper())"
   ]
  },
  {
   "cell_type": "code",
   "execution_count": 12,
   "id": "0e257f3b",
   "metadata": {},
   "outputs": [
    {
     "name": "stdout",
     "output_type": "stream",
     "text": [
      "This! is! a! comma! heavy! sentence.\n"
     ]
    }
   ],
   "source": [
    "## .replace() will replace substrings with other substrings\n",
    "print(\"This, is, a, comma, heavy, sentence.\".replace(\",\", \"!\"))"
   ]
  },
  {
   "cell_type": "markdown",
   "id": "93d71aea",
   "metadata": {},
   "source": [
    "#### Strings of Numeric Types\n",
    "\n",
    "You can also go back from strings of only numerics using `float` or `int`."
   ]
  },
  {
   "cell_type": "code",
   "execution_count": 13,
   "id": "572295ae",
   "metadata": {},
   "outputs": [
    {
     "data": {
      "text/plain": [
       "2.5"
      ]
     },
     "execution_count": 13,
     "metadata": {},
     "output_type": "execute_result"
    }
   ],
   "source": [
    "## You code\n",
    "## put the string \"2.5\" in float()\n",
    "## What happens?\n",
    "float(\"2.5\")"
   ]
  },
  {
   "cell_type": "markdown",
   "id": "ad81e950",
   "metadata": {},
   "source": [
    "But it has its limits."
   ]
  },
  {
   "cell_type": "code",
   "execution_count": 14,
   "id": "b652531a",
   "metadata": {},
   "outputs": [
    {
     "ename": "ValueError",
     "evalue": "invalid literal for int() with base 10: '2.5'",
     "output_type": "error",
     "traceback": [
      "\u001b[0;31m---------------------------------------------------------------------------\u001b[0m",
      "\u001b[0;31mValueError\u001b[0m                                Traceback (most recent call last)",
      "\u001b[0;32m/var/folders/58/ybrfn44n059260sdf33phdqc0000gn/T/ipykernel_5773/386892627.py\u001b[0m in \u001b[0;36m<module>\u001b[0;34m\u001b[0m\n\u001b[1;32m      2\u001b[0m \u001b[0;31m## put the string \"2.5\" in int()\u001b[0m\u001b[0;34m\u001b[0m\u001b[0;34m\u001b[0m\u001b[0m\n\u001b[1;32m      3\u001b[0m \u001b[0;31m## What happens?\u001b[0m\u001b[0;34m\u001b[0m\u001b[0;34m\u001b[0m\u001b[0m\n\u001b[0;32m----> 4\u001b[0;31m \u001b[0mint\u001b[0m\u001b[0;34m(\u001b[0m\u001b[0;34m\"2.5\"\u001b[0m\u001b[0;34m)\u001b[0m\u001b[0;34m\u001b[0m\u001b[0;34m\u001b[0m\u001b[0m\n\u001b[0m",
      "\u001b[0;31mValueError\u001b[0m: invalid literal for int() with base 10: '2.5'"
     ]
    }
   ],
   "source": [
    "## You code\n",
    "## put the string \"2.5\" in int()\n",
    "## What happens?\n",
    "int(\"2.5\")"
   ]
  },
  {
   "cell_type": "markdown",
   "id": "7b588b42",
   "metadata": {},
   "source": [
    "That's it for now."
   ]
  },
  {
   "cell_type": "markdown",
   "id": "5e7f5b4d",
   "metadata": {},
   "source": [
    "--------------------------\n",
    "\n",
    "This notebook was written for the Erd&#337;s Institute C&#337;de Data Science Boot Camp by Matthew Osborne, Ph. D., 2022.\n",
    "\n",
    "Any potential redistributors must seek and receive permission from Matthew Tyler Osborne, Ph.D. prior to redistribution. Redistribution of the material contained in this repository is conditional on acknowledgement of Matthew Tyler Osborne, Ph.D.'s original authorship and sponsorship of the Erdős Institute as subject to the license (see License.md)"
   ]
  },
  {
   "cell_type": "code",
   "execution_count": null,
   "id": "998814d6",
   "metadata": {},
   "outputs": [],
   "source": []
  }
 ],
 "metadata": {
  "kernelspec": {
   "display_name": "Python 3 (ipykernel)",
   "language": "python",
   "name": "python3"
  },
  "language_info": {
   "codemirror_mode": {
    "name": "ipython",
    "version": 3
   },
   "file_extension": ".py",
   "mimetype": "text/x-python",
   "name": "python",
   "nbconvert_exporter": "python",
   "pygments_lexer": "ipython3",
   "version": "3.9.9"
  }
 },
 "nbformat": 4,
 "nbformat_minor": 5
}
