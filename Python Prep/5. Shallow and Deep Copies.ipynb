{
 "cells": [
  {
   "cell_type": "markdown",
   "metadata": {},
   "source": [
    "# Shallow and Deep Copies\n",
    "\n",
    "In this notebook we will briefly touch on how python handles data storage.\n",
    "\n",
    "By the end of this notebook you will know about:\n",
    "- How python handles variable storage,\n",
    "- The difference between a shallow copy and a deep copy,\n",
    "- Why we want to perform deep copies and\n",
    "- the `del` statement."
   ]
  },
  {
   "cell_type": "markdown",
   "metadata": {},
   "source": [
    "Let's start by making a list called `a`."
   ]
  },
  {
   "cell_type": "code",
   "execution_count": null,
   "metadata": {},
   "outputs": [],
   "source": [
    "a = [1, 2, 3, 4, 5, 6, 7, 8, 9, 10]"
   ]
  },
  {
   "cell_type": "markdown",
   "metadata": {},
   "source": [
    "When you execute that code it creates a new list, `[1, 2, 3, 4, 5, 6, 7, 8, 9, 10]`, and stores that list in memory. It then points `a` to that list as illustrated in this image.\n",
    "\n",
    "<img src=\"a_list.png\" style=\"width:50%\"></img>"
   ]
  },
  {
   "cell_type": "markdown",
   "metadata": {},
   "source": [
    "Now let's say we run this code below."
   ]
  },
  {
   "cell_type": "code",
   "execution_count": null,
   "metadata": {},
   "outputs": [],
   "source": [
    "b = a"
   ]
  },
  {
   "cell_type": "markdown",
   "metadata": {},
   "source": [
    "Now python will point `b` to the same list object that `a` is pointed to like in this image.\n",
    "\n",
    "<img src=\"a_b_list.png\" style=\"width:60%\"></img>\n",
    "\n",
    "So what happens when we run something like `b[4] = 11`."
   ]
  },
  {
   "cell_type": "code",
   "execution_count": null,
   "metadata": {},
   "outputs": [],
   "source": [
    "b[4] = 11"
   ]
  },
  {
   "cell_type": "code",
   "execution_count": null,
   "metadata": {},
   "outputs": [],
   "source": [
    "b"
   ]
  },
  {
   "cell_type": "markdown",
   "metadata": {},
   "source": [
    "As expected, but now let's look at `a`."
   ]
  },
  {
   "cell_type": "code",
   "execution_count": null,
   "metadata": {},
   "outputs": [],
   "source": [
    "a"
   ]
  },
  {
   "cell_type": "markdown",
   "metadata": {},
   "source": [
    "What?!\n",
    "\n",
    "That's right because `a` and `b` were pointing to the same list object in your memory, if you change `b`, then you also change `b`. This process is known as making a <i>shallow copy</i> of `a`. It is shallow because we are not making a true copy of what is stored in the variable `a`, but rather pointing to the object stored in `a`. If our python object is mutable, then when we change the shallow copy we also change the original. If we want a true duplicate copy we have to make a <i>deep copy</i>. For `list`s we can do that like so."
   ]
  },
  {
   "cell_type": "code",
   "execution_count": null,
   "metadata": {},
   "outputs": [],
   "source": [
    "c = a.copy()"
   ]
  },
  {
   "cell_type": "code",
   "execution_count": null,
   "metadata": {},
   "outputs": [],
   "source": [
    "c"
   ]
  },
  {
   "cell_type": "code",
   "execution_count": null,
   "metadata": {},
   "outputs": [],
   "source": [
    "## Let's test it\n",
    "c[4] = 5"
   ]
  },
  {
   "cell_type": "code",
   "execution_count": null,
   "metadata": {},
   "outputs": [],
   "source": [
    "c"
   ]
  },
  {
   "cell_type": "code",
   "execution_count": null,
   "metadata": {},
   "outputs": [],
   "source": [
    "a"
   ]
  },
  {
   "cell_type": "markdown",
   "metadata": {},
   "source": [
    "The concepts of a shallow and deep copies will come up a lot when we shift to data science topics, particularly data splits."
   ]
  },
  {
   "cell_type": "markdown",
   "metadata": {},
   "source": [
    "### The `del` Statement\n",
    "\n",
    "When you think you are done with a particular variable, you may want it deleted. This can be done in python with a `del` statement, <a href=\"https://docs.python.org/3/reference/simple_stmts.html#del\">https://docs.python.org/3/reference/simple_stmts.html#del</a>."
   ]
  },
  {
   "cell_type": "code",
   "execution_count": null,
   "metadata": {},
   "outputs": [],
   "source": [
    "## For a del statement type del a space and \n",
    "## then the variable(s) you want deleted\n",
    "## multiple variables should be separated by a comma\n",
    "del c"
   ]
  },
  {
   "cell_type": "code",
   "execution_count": null,
   "metadata": {},
   "outputs": [],
   "source": [
    "c"
   ]
  },
  {
   "cell_type": "markdown",
   "metadata": {},
   "source": [
    "Deleting a variable in this way will remove the pointer from the variable name to the data object stored in your memory. <i>Note: this will not directly delete the object from your computer's memory, but if no variables are pointing to an object, it will eventually be deleted by python, usually quickly after the `del` statement is executed.</i>"
   ]
  },
  {
   "cell_type": "markdown",
   "metadata": {},
   "source": [
    "--------------------------\n",
    "\n",
    "This notebook was written for the Erd&#337;s Institute C&#337;de Data Science Boot Camp by Matthew Osborne, Ph. D., 2022.\n",
    "\n",
    "Any potential redistributors must seek and receive permission from Matthew Tyler Osborne, Ph.D. prior to redistribution. Redistribution of the material contained in this repository is conditional on acknowledgement of Matthew Tyler Osborne, Ph.D.'s original authorship and sponsorship of the Erdős Institute as subject to the license (see License.md)"
   ]
  },
  {
   "cell_type": "code",
   "execution_count": null,
   "metadata": {},
   "outputs": [],
   "source": []
  }
 ],
 "metadata": {
  "kernelspec": {
   "display_name": "Python 3 (ipykernel)",
   "language": "python",
   "name": "python3"
  },
  "language_info": {
   "codemirror_mode": {
    "name": "ipython",
    "version": 3
   },
   "file_extension": ".py",
   "mimetype": "text/x-python",
   "name": "python",
   "nbconvert_exporter": "python",
   "pygments_lexer": "ipython3",
   "version": "3.9.9"
  }
 },
 "nbformat": 4,
 "nbformat_minor": 2
}
