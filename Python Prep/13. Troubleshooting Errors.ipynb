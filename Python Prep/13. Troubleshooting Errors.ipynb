{
 "cells": [
  {
   "cell_type": "markdown",
   "id": "066b7e09",
   "metadata": {},
   "source": [
    "# Troubleshooting Errors\n",
    "\n",
    "In this notebook we will give some common tips for troubleshooting errors in python.\n",
    "\n",
    "By the end of this notebook you will know:\n",
    "- The difference between warnings and errors in python,\n",
    "- How to read an error in python and\n",
    "- Some common steps for searching for help online."
   ]
  },
  {
   "cell_type": "markdown",
   "id": "29f0790f",
   "metadata": {},
   "source": [
    "## Warnings in Python\n",
    "\n",
    "In Python a warning message arises when the people that wrote the code you are attempting to run want you to know a crucial piece of information. Some times when you might see a warning include:\n",
    "- A function or object from a package you are using will be changed in a future version of said package,\n",
    "- The developers plan on permanently deleting a function or object,\n",
    "- You divided by zero,\n",
    "- Etc.\n",
    "\n",
    "Your code will still run when you see a warning, but it may give you unexpected results and can still be a sign that you made an unintended error in your code.\n",
    "\n",
    "Let's see an example of a warning in `numpy`."
   ]
  },
  {
   "cell_type": "code",
   "execution_count": null,
   "id": "cac2abfb",
   "metadata": {},
   "outputs": [],
   "source": [
    "import numpy as np"
   ]
  },
  {
   "cell_type": "code",
   "execution_count": null,
   "id": "5caf7733",
   "metadata": {},
   "outputs": [],
   "source": [
    "np.array([1,2,3,4])/np.array([0,1,2,3])"
   ]
  },
  {
   "cell_type": "markdown",
   "id": "60f74821",
   "metadata": {},
   "source": [
    "In the above we can see a `RuntimeWarning` because we attempted to divide by 0 in our `ndarray` division. Note that the code still ran, and in `numpy` when you divide by zero the result is recorded as `inf`."
   ]
  },
  {
   "cell_type": "markdown",
   "id": "11328a7a",
   "metadata": {},
   "source": [
    "## Errors in Python\n",
    "\n",
    "An error in python arises when the code you have written is incorrect in some way. Usually, the developers will provide you with a useful explanation of what you did wrong so you can fix it. Let's see some examples."
   ]
  },
  {
   "cell_type": "code",
   "execution_count": null,
   "id": "b1d41cb4",
   "metadata": {},
   "outputs": [],
   "source": [
    "## Here we don't indent correctly\n",
    "if 3>2:\n",
    "    print(\"Yes\")\n",
    "  2+2"
   ]
  },
  {
   "cell_type": "markdown",
   "id": "df78ed13",
   "metadata": {},
   "source": [
    "Errors typically:\n",
    "- Give the line where the error occurred (`line 4` above) and\n",
    "- Try to explain what the error was (`IdentationError: ...` above)."
   ]
  },
  {
   "cell_type": "code",
   "execution_count": null,
   "id": "316a246f",
   "metadata": {},
   "outputs": [],
   "source": [
    "## Dividing by zero normally, raises an error\n",
    "3/0"
   ]
  },
  {
   "cell_type": "markdown",
   "id": "5703275c",
   "metadata": {},
   "source": [
    "### Stumped \n",
    "\n",
    "Sometimes you will recieve an error that stumps you. The best approach for this situation is do a web search of the end of the error message along with relevant information (for example, the package name). Let's see an example."
   ]
  },
  {
   "cell_type": "code",
   "execution_count": null,
   "id": "5d2964f2",
   "metadata": {},
   "outputs": [],
   "source": [
    "import pandas as pd"
   ]
  },
  {
   "cell_type": "code",
   "execution_count": null,
   "id": "6f04f053",
   "metadata": {},
   "outputs": [],
   "source": [
    "df = pd.DataFrame({'one':np.random.random(10),\n",
    "                      'two':np.random.randn(10)})"
   ]
  },
  {
   "cell_type": "code",
   "execution_count": null,
   "id": "4fb4e147",
   "metadata": {},
   "outputs": [],
   "source": [
    "df.loc[df.one < .5 & df.two > .4]"
   ]
  },
  {
   "cell_type": "markdown",
   "id": "fb37ff4a",
   "metadata": {},
   "source": [
    "After doing a web search of \"TypeError: Cannot perform 'rand_' with a dtyped [float64] array and scalar of type [bool]\" we can find the following post <a href=\"https://stackoverflow.com/questions/20333435/pandas-comparison-raises-typeerror-cannot-compare-a-dtyped-float64-array-with\">https://stackoverflow.com/questions/20333435/pandas-comparison-raises-typeerror-cannot-compare-a-dtyped-float64-array-with</a>.\n",
    "\n",
    "After we read through the top reply we can deduce that we need to place our logical conditions in a set of parantheses."
   ]
  },
  {
   "cell_type": "code",
   "execution_count": null,
   "id": "939fd70a",
   "metadata": {},
   "outputs": [],
   "source": [
    "## The fixed code\n",
    "df.loc[(df.one < .5) & (df.two > .4)]"
   ]
  },
  {
   "cell_type": "markdown",
   "id": "42936370",
   "metadata": {},
   "source": [
    "As you code more you will find that sites like stack overflow and stack exchange more times than not have an answer that will help you fix your error."
   ]
  },
  {
   "cell_type": "markdown",
   "id": "fe130aa5",
   "metadata": {},
   "source": [
    "--------------------------\n",
    "\n",
    "This notebook was written for the Erd&#337;s Institute C&#337;de Data Science Boot Camp by Matthew Osborne, Ph. D., 2022.\n",
    "\n",
    "Any potential redistributors must seek and receive permission from Matthew Tyler Osborne, Ph.D. prior to redistribution. Redistribution of the material contained in this repository is conditional on acknowledgement of Matthew Tyler Osborne, Ph.D.'s original authorship and sponsorship of the Erdős Institute as subject to the license (see License.md)"
   ]
  },
  {
   "cell_type": "code",
   "execution_count": null,
   "id": "c9fc1b31",
   "metadata": {},
   "outputs": [],
   "source": []
  }
 ],
 "metadata": {
  "kernelspec": {
   "display_name": "Python 3 (ipykernel)",
   "language": "python",
   "name": "python3"
  },
  "language_info": {
   "codemirror_mode": {
    "name": "ipython",
    "version": 3
   },
   "file_extension": ".py",
   "mimetype": "text/x-python",
   "name": "python",
   "nbconvert_exporter": "python",
   "pygments_lexer": "ipython3",
   "version": "3.9.9"
  }
 },
 "nbformat": 4,
 "nbformat_minor": 5
}
