{
 "cells": [
  {
   "cell_type": "markdown",
   "id": "3c3caa55",
   "metadata": {},
   "source": [
    "# Bonus Content - Classes and Objects in Python\n",
    "\n",
    "These notes are an adaptation of the notes found <a href=\"https://python.swaroopch.com/oop.html\">https://python.swaroopch.com/oop.html</a>\n",
    "\n",
    "Throughout the python prep notebooks you may have been confused by phrases like `list` object, or `Series` object, or `ndarray` object. What is an <i>object</i> precisely in python?\n",
    "\n",
    "Objects are data types that can contain both data (called <i>attributes</i>) and functions (also called <i>methods</i>). Objects are instances of a predefined class. A class is essentially an object recipe. In writing up a class we provide the computer a set of instructions as to what the object should be, should have, should be able to do, and how to create one.\n",
    "\n",
    "If this is confusing do not worry, right now we are dealing with somewhat abstract concepts. Everything should become more clear once we work through some examples."
   ]
  },
  {
   "cell_type": "code",
   "execution_count": null,
   "id": "a723bc25",
   "metadata": {},
   "outputs": [],
   "source": [
    "## We'll start by making an empty class\n",
    "## to define a class you write 'class' followed by the name of the\n",
    "## class and finished with a colon\n",
    "class Empty:\n",
    "    ## Normally classes are filled with attributes and methods\n",
    "    ## however, this class is empty so we will just write pass\n",
    "    pass"
   ]
  },
  {
   "cell_type": "code",
   "execution_count": null,
   "id": "311c3705",
   "metadata": {},
   "outputs": [],
   "source": [
    "## Once we've defined an Empty class we can make an Empty object\n",
    "## By calling Empty()\n",
    "e = Empty()\n",
    "\n",
    "print(e)"
   ]
  },
  {
   "cell_type": "markdown",
   "id": "5a0043a3",
   "metadata": {},
   "source": [
    "In the above code chunk we defined `e` as an instance of the `Empty` class, thus `e` is an `Empty` object.\n",
    "\n",
    "However, empty objects are a little boring.\n",
    "\n",
    "### Methods\n",
    "\n",
    "Let's make a class that can do some things. We'll define a class called `Dog`. This class will be just what it sounds like. All dogs have a name so when we make a `Dog` object let's make sure that we have to give it a name.\n",
    "\n",
    "#### `__init__`\n",
    "\n",
    "This is where the `__init__` method of a class comes into play. This method tells your computer how we need to initialize an instance of this class."
   ]
  },
  {
   "cell_type": "code",
   "execution_count": null,
   "id": "1c91a83c",
   "metadata": {},
   "outputs": [],
   "source": [
    "## We're starting to make a Dog class\n",
    "class Dog:\n",
    "    ## We can define an __init__ method that will run anytime we define a new \n",
    "    ## instance of this class. Note that self has to be included in any object \n",
    "    ## method\n",
    "    def __init__(self, name):\n",
    "        ## Here we are saying that when we create the Dog object, it will have\n",
    "        ## a name attribute given by the input name\n",
    "        self.name = str(name)\n",
    "    \n",
    "    ## Let's also define a method named woof. See that we still must put in self\n",
    "    def woof(self):\n",
    "        print(\"Woof.\")"
   ]
  },
  {
   "cell_type": "code",
   "execution_count": null,
   "id": "0275efc6",
   "metadata": {},
   "outputs": [],
   "source": [
    "## Let's make a Dog object!\n",
    "## Call Dog(name)\n",
    "Fido = Dog('Fido')\n",
    "\n",
    "## What does Fido sound like?\n",
    "## You can call the woof method with the \n",
    "## Dog object's name .woof()\n",
    "Fido.woof()\n",
    "\n",
    "print()\n",
    "\n",
    "## We can access the Dog object's name attribute\n",
    "## with object.name\n",
    "print(\"Good boy \" + Fido.name)"
   ]
  },
  {
   "cell_type": "code",
   "execution_count": null,
   "id": "23d54ac3",
   "metadata": {},
   "outputs": [],
   "source": [
    "## You Code\n",
    "## Define a Cat Class\n",
    "## Make sure it has a name attribute\n",
    "## and a meow method\n",
    "\n",
    "\n",
    "\n",
    "\n"
   ]
  },
  {
   "cell_type": "code",
   "execution_count": null,
   "id": "ba6fba95",
   "metadata": {},
   "outputs": [],
   "source": [
    "## You Code\n",
    "## Make a Cat object, print its name and make it meow\n",
    "\n",
    "\n",
    "\n"
   ]
  },
  {
   "cell_type": "markdown",
   "id": "2d11d91a",
   "metadata": {},
   "source": [
    "### Class Variables vs. Object Variables\n",
    "\n",
    "Above we saw that every `Dog` and `Cat` has a `name` variable. `name` is a variable that belongs to an instance of the `Dog` class. Anytime you make a `Dog` object it will have a `name` variable.\n",
    "\n",
    "`name` is an example of what is called an <i>object variable</i> or <i>object attribute</i>. These variables are owned by each instance of the class.\n",
    "\n",
    "When we define a class we can also create what are known as <i>class variables</i> or <i>class attributes</i>. These variables belong to the class itself. This may be confusing so let's return to our `Dog` class to see an example.\n",
    "\n",
    "Note that when we run the code below we will be overwriting the previous Dog class from above. So we will have to redefine Fido."
   ]
  },
  {
   "cell_type": "code",
   "execution_count": null,
   "id": "ff0fc73b",
   "metadata": {},
   "outputs": [],
   "source": [
    "## Redifining our Dog class to include a class variable\n",
    "class Dog:\n",
    "    ## Here we initialize a class variable, NumDogs\n",
    "    ## NumDogs will keep track of the number of Dog objects\n",
    "    ## that have been created\n",
    "    NumDogs = 0\n",
    "    \n",
    "    ## We'll ammend our __init__ method to add 1 to NumDogs anytime we make a \n",
    "    ## new Dog object\n",
    "    def __init__(self,name):\n",
    "        ## Here we are saying that when we create the Dog object, it will have\n",
    "        ## a name attribute given by the input name\n",
    "        self.name = name\n",
    "        \n",
    "        ## When we make a new Dog we'll increase NumDogs by 1\n",
    "        Dog.NumDogs = Dog.NumDogs + 1\n",
    "    \n",
    "    ## A method named woof. See that we put in self\n",
    "    def woof(self):\n",
    "        print(\"Woof.\")"
   ]
  },
  {
   "cell_type": "code",
   "execution_count": null,
   "id": "51fa8290",
   "metadata": {},
   "outputs": [],
   "source": [
    "## Let's Check to make sure it worked\n",
    "## You can check a class variable by doing\n",
    "## class_name.class_variable\n",
    "print(\"There are \" + str(Dog.NumDogs) + \" dogs.\")\n",
    "\n",
    "## Make Fido anew\n",
    "Fido = Dog('Fido')\n",
    "print(\"Now there is \" + str(Dog.NumDogs) + \" dog.\")"
   ]
  },
  {
   "cell_type": "code",
   "execution_count": null,
   "id": "6c3bd584",
   "metadata": {},
   "outputs": [],
   "source": [
    "## You Code\n",
    "## Rewrite your Cat class to include a class variable \n",
    "## that tracks the number of meows by all the cats.\n",
    "\n",
    "\n",
    "\n"
   ]
  },
  {
   "cell_type": "code",
   "execution_count": null,
   "id": "804aabd7",
   "metadata": {},
   "outputs": [],
   "source": [
    "## You Code\n",
    "## Make two cats. Have the first one meow twice, \n",
    "## how many total meows are there? \n",
    "\n",
    "\n",
    "## Now have the second one meow three times, how many total meows are there?\n",
    "\n",
    "\n"
   ]
  },
  {
   "cell_type": "markdown",
   "id": "ffcd658e",
   "metadata": {},
   "source": [
    "### Class Methods vs. Object Methods\n",
    "\n",
    "In a similar vein there are <i>object methods</i> and <i>class methods</i>. `Fido.woof()` and the `cat_name.meow()` method are two examples of object methods. These are methods that belong to each instance of a class, like `Fido`.\n",
    "\n",
    "On the flip side we have methods that belong to the class itself. We don't currently have an example of a class method so let's write one for the `Dog` class."
   ]
  },
  {
   "cell_type": "code",
   "execution_count": null,
   "id": "2d482962",
   "metadata": {},
   "outputs": [],
   "source": [
    "## Redifining our Dog class to include a class method\n",
    "class Dog:\n",
    "    ## Here we initialize class variables\n",
    "    NumDogs = 0\n",
    "    ## We added a new class variable NumWoofs\n",
    "    NumWoofs = 0\n",
    "    \n",
    "    ## We'll ammend our __init__ method to add 1 to NumDogs anytime we make a \n",
    "    ## new Dog object\n",
    "    def __init__(self,name):\n",
    "        ## Here we are saying that when we create the Dog object, it will have\n",
    "        ## a name attribute given by the input name\n",
    "        self.name = name\n",
    "        \n",
    "        ## When we make a new Dog we'll increase NumDogs by 1\n",
    "        Dog.NumDogs = Dog.NumDogs + 1\n",
    "    \n",
    "    ## woof is an object method, we can tell because the argument is self\n",
    "    def woof(self):\n",
    "        ## Each time a dog woofs we'll count it\n",
    "        Dog.NumWoofs = Dog.NumWoofs + 1\n",
    "        print(\"Woof.\")\n",
    "        \n",
    "    ## The following methods are class methods, class methods require @classmethod\n",
    "    ## above them and cls as an arguement. Note that @classmethod is called a decorator\n",
    "    @classmethod\n",
    "    def HowMany(cls):\n",
    "        ## HowMany tells us howmany Dog objects there are\n",
    "        return Dog.NumDogs\n",
    "    \n",
    "    @classmethod\n",
    "    def HowManyWoofs(cls):\n",
    "        ## HowManyWoofs tells us how many woofs have happened\n",
    "        return Dog.NumWoofs"
   ]
  },
  {
   "cell_type": "code",
   "execution_count": null,
   "id": "cd17a009",
   "metadata": {},
   "outputs": [],
   "source": [
    "# We can check that this worked\n",
    "Fido = Dog('Fido')\n",
    "Spot = Dog('Spot')\n",
    "Millie = Dog('Millie')\n",
    "\n",
    "Fido.woof()\n",
    "Spot.woof()\n",
    "Millie.woof()\n",
    "Fido.woof()\n",
    "Fido.woof()\n",
    "\n",
    "print(\"There are \" + str(Dog.HowMany()) + \" dogs.\")\n",
    "print(\"These dogs have woofed \" + str(Dog.HowManyWoofs()) + \" times.\")\n",
    "print(\"Settle down a little bit dogs.\")"
   ]
  },
  {
   "cell_type": "code",
   "execution_count": null,
   "id": "bba43357",
   "metadata": {},
   "outputs": [],
   "source": [
    "## You Code\n",
    "## Write a class method for Cat that returns the total number of meows.\n",
    "\n",
    "\n",
    "\n",
    "\n"
   ]
  },
  {
   "cell_type": "markdown",
   "id": "35dabbab",
   "metadata": {},
   "source": [
    "### Inheritance\n",
    "\n",
    "The last thing we will mention in this notebook is the notion of inheritance. We have made a `Dog` class and a `Cat` class, however in the real world we know both of these animals are specific examples of pets.\n",
    "\n",
    "We can think of both of these classes as a subclass of a larger class, known as a base class or superclass, called `Pet`.\n",
    "\n",
    "We will make this below."
   ]
  },
  {
   "cell_type": "code",
   "execution_count": null,
   "id": "3bad2584",
   "metadata": {},
   "outputs": [],
   "source": [
    "## Defining our base class Pet\n",
    "class Pet:\n",
    "    ## define class variables\n",
    "    NumberOf = 0\n",
    "    \n",
    "    ## define how we intialize a Pet object\n",
    "    def __init__(self,name,sex,age):\n",
    "        self.name = str(name)\n",
    "        self.sex = sex\n",
    "        self.age = age\n",
    "        Pet.NumberOf = Pet.NumberOf + 1\n",
    "        print(\"Just made pet, \" + self.name)\n",
    "    \n",
    "    ## This object method will print the name and age of the pet\n",
    "    def NameAndAge(self):\n",
    "        print(\"This pet's name is \" + self.name + \".\")\n",
    "        if self.sex == 'M':\n",
    "            print(\"He is \" + str(self.age) + \" years old.\")\n",
    "        else:\n",
    "            print(\"She is \" + str(self.age) + \" years old.\")\n",
    "    \n",
    "\n",
    "## Now we'll make a subclass Dog\n",
    "## by inputing the Pet class as an input\n",
    "## this tells python that Dog should inherit\n",
    "## all the attributes and functions of the Pet class\n",
    "class Dog(Pet):\n",
    "    ## Define some class variables\n",
    "    NumberOf = 0\n",
    "    NumberOfBorks = 0\n",
    "    \n",
    "    ## Define __init__ for the Dog Class\n",
    "    def __init__(self,name,sex,age,breed):\n",
    "        ## Note we call the Pet __init__ method\n",
    "        Pet.__init__(self,name,sex,age)\n",
    "        Dog.NumberOf = Dog.NumberOf + 1\n",
    "        self.breed = breed\n",
    "        print(self.name + \" is a dog.\") \n",
    "        \n",
    "    ## Define a bork method\n",
    "    def bork(self):\n",
    "        print(\"bork\")\n",
    "        Dog.NumberOfBorks = Dog.NumberOfBorks + 1\n",
    "        \n",
    "## Now we'll make a subclass Cat\n",
    "class Cat(Pet):\n",
    "    ## Define some class variables\n",
    "    NumberOf = 0\n",
    "    NumberOfMews = 0\n",
    "    \n",
    "    ## Define __init__ for the Cat Class\n",
    "    def __init__(self,name,sex,age,breed):\n",
    "        Pet.__init__(self,name,sex,age)\n",
    "        Cat.NumberOf = Cat.NumberOf + 1\n",
    "        self.breed = breed\n",
    "        print(self.name + \" is a cat.\")\n",
    "        \n",
    "    def mew(self):\n",
    "        print(\"mew\")\n",
    "        Cat.NumberOfMews = Cat.NumberOfMews + 1"
   ]
  },
  {
   "cell_type": "code",
   "execution_count": null,
   "id": "fd0358ab",
   "metadata": {},
   "outputs": [],
   "source": [
    "Fido = Dog(\"Fido\", \"M\", 4, \"Yorkshire Terrier\")\n",
    "Frances = Dog(\"Frances\", \"F\", 6, \"Golden Retriever\")\n",
    "MrMittens = Cat(\"Mr. Mittens\", \"M\", 4, \"Tabby Cat\")\n",
    "MissButtons = Cat(\"Miss Buttons\", \"F\", 7, \"Siamese\")"
   ]
  },
  {
   "cell_type": "code",
   "execution_count": null,
   "id": "ad3dc896",
   "metadata": {},
   "outputs": [],
   "source": [
    "print(\"There are \" + str(Pet.NumberOf) + \" pets.\")\n",
    "print(str(Dog.NumberOf) + \" are dogs.\")\n",
    "print(str(Cat.NumberOf) + \" are cats.\")"
   ]
  },
  {
   "cell_type": "markdown",
   "id": "670b5b6a",
   "metadata": {},
   "source": [
    "Because `Cat` and `Dog` are subclasses of `Pet` every instance of `Cat` or `Dog` inherits the object variables and object methods of `Pet`. This is why the `__init__` methods of `Cat` and `Dog` include `Pet.__init__(self,name,sex,age)`. So we can access `name`, `sex`, and `age` variables even though they weren't explicitly assigned in the `Dog` and `Cat` classes. Think of it as `Cat` and `Dog` inheriting traits from their 'Parent' class `Pet`."
   ]
  },
  {
   "cell_type": "code",
   "execution_count": null,
   "id": "b05d9517",
   "metadata": {},
   "outputs": [],
   "source": [
    "print(Fido.name + \" is a \" + Fido.breed + \".\\n\\n\")\n",
    "\n",
    "# We can also use a Pet object method\n",
    "MrMittens.NameAndAge()"
   ]
  },
  {
   "cell_type": "code",
   "execution_count": null,
   "id": "87e2761f",
   "metadata": {},
   "outputs": [],
   "source": [
    "Frances.bork()\n",
    "Frances.bork()\n",
    "MrMittens.mew()\n",
    "MissButtons.mew()\n",
    "MissButtons.mew()\n",
    "\n",
    "print()\n",
    "print()\n",
    "print()\n",
    "\n",
    "Fido.bork()\n",
    "print()\n",
    "\n",
    "print(\"There have been \" + str(Dog.NumberOfBorks) + \" borks and \" + str(Cat.NumberOfMews) + \" mews.\")\n",
    "if (Dog.NumberOfBorks + Cat.NumberOfMews) > 5:\n",
    "    print(\"You guys sure are chatty today!\")\n",
    "else:\n",
    "    print(\"A normal ammount of borks and mews.\")"
   ]
  },
  {
   "cell_type": "code",
   "execution_count": null,
   "id": "da1f1e83",
   "metadata": {},
   "outputs": [],
   "source": [
    "## You code\n",
    "## Make a fish subclass of Pets\n",
    "## Give the fish a noise too!\n",
    "\n",
    "\n",
    "\n"
   ]
  },
  {
   "cell_type": "markdown",
   "id": "af632bc0",
   "metadata": {},
   "source": [
    "You now have a good foundation for what classes and objects are in python. These are the foundation for most, if not all, of the python packages we will use. Hopefully this helps you understand how to use packages and read documentation!"
   ]
  },
  {
   "cell_type": "markdown",
   "id": "fed140e8",
   "metadata": {},
   "source": [
    "--------------------------\n",
    "\n",
    "This notebook was written for the Erd&#337;s Institute C&#337;de Data Science Boot Camp by Matthew Osborne, Ph. D., 2022.\n",
    "\n",
    "Any potential redistributors must seek and receive permission from Matthew Tyler Osborne, Ph.D. prior to redistribution. Redistribution of the material contained in this repository is conditional on acknowledgement of Matthew Tyler Osborne, Ph.D.'s original authorship and sponsorship of the Erdős Institute as subject to the license (see License.md)"
   ]
  },
  {
   "cell_type": "code",
   "execution_count": null,
   "id": "70397dcc",
   "metadata": {},
   "outputs": [],
   "source": []
  }
 ],
 "metadata": {
  "kernelspec": {
   "display_name": "Python 3 (ipykernel)",
   "language": "python",
   "name": "python3"
  },
  "language_info": {
   "codemirror_mode": {
    "name": "ipython",
    "version": 3
   },
   "file_extension": ".py",
   "mimetype": "text/x-python",
   "name": "python",
   "nbconvert_exporter": "python",
   "pygments_lexer": "ipython3",
   "version": "3.9.9"
  }
 },
 "nbformat": 4,
 "nbformat_minor": 5
}
