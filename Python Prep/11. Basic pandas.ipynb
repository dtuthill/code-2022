{
 "cells": [
  {
   "cell_type": "markdown",
   "id": "ca19730e",
   "metadata": {},
   "source": [
    "# Basic `pandas`\n",
    "\n",
    "In this notebook we will learn about `pandas` a vital data management package in python.\n",
    "\n",
    "By the end of this notebook you will know about:\n",
    "- `pandas` `Series` and `DataFrame` objects,\n",
    "- Indexing `pandas` objects,\n",
    "- Reading files with `pandas`,\n",
    "- Saving files with `pandas` and \n",
    "- Some helpful `pandas` functionality."
   ]
  },
  {
   "cell_type": "markdown",
   "id": "c8a619cc",
   "metadata": {},
   "source": [
    "## `pandas`\n",
    "\n",
    "`pandas` is one of the most popular data handling packages in `python`. We will cover the minimum you need to know about the package for the boot camp in this notebook.\n",
    "\n",
    "Let's start by importing the package. Just like in the previous notebook this should check whether or not you have `pandas` installed on your machine. If you are using Anaconda, <a href=\"https://www.anaconda.com/\">https://www.anaconda.com/</a>, `pandas` should be installed already. If not check out the documentation for installation instructions <a href=\"https://pandas.pydata.org/docs/getting_started/install.html\">https://pandas.pydata.org/docs/getting_started/install.html</a>."
   ]
  },
  {
   "cell_type": "code",
   "execution_count": null,
   "id": "aef32933",
   "metadata": {},
   "outputs": [],
   "source": [
    "## it is standard to import pandas as pd\n",
    "import pandas as pd"
   ]
  },
  {
   "cell_type": "code",
   "execution_count": null,
   "id": "00bee740",
   "metadata": {},
   "outputs": [],
   "source": [
    "## let's check what version of numpy you have\n",
    "## when I wrote this I had version 1.3.5\n",
    "## yours may be different\n",
    "print(pd.__version__)"
   ]
  },
  {
   "cell_type": "markdown",
   "id": "38271b29",
   "metadata": {},
   "source": [
    "If you had a version of `pandas` installed, both of those code chunks should have executed without error. If not, you will need to install it onto your machine because we will be using it heavily in the boot camp. If you are unsure how to install a python package in general check our python package installation guide, <a href=\"https://www.erdosinstitute.org/data-science\">https://www.erdosinstitute.org/data-science</a>.\n",
    "\n",
    "##### Be sure you can run both of the above code chunks before continuing with this notebook, again it should be fine if your package version is slightly different than mine."
   ]
  },
  {
   "cell_type": "markdown",
   "id": "c4c8f019",
   "metadata": {},
   "source": [
    "### `Series` and `DataFrame`s\n",
    "\n",
    "`pandas` has two main data structures: \n",
    "1. `Series` objects, <a href=\"https://pandas.pydata.org/docs/reference/api/pandas.Series.html\">https://pandas.pydata.org/docs/reference/api/pandas.Series.html</a> and \n",
    "2. `DataFrame` objects, <a href=\"https://pandas.pydata.org/docs/reference/api/pandas.DataFrame.html\">https://pandas.pydata.org/docs/reference/api/pandas.DataFrame.html</a>. \n",
    "\n",
    "Let's explore them below."
   ]
  },
  {
   "cell_type": "code",
   "execution_count": null,
   "id": "810bf69b",
   "metadata": {},
   "outputs": [],
   "source": [
    "## We can turn a list into a series\n",
    "## with pd.Series()\n",
    "print(\"Below is a list.\")\n",
    "print([0,1,2,3], type([0,1,2,3]))\n",
    "print()\n",
    "print(\"Below is a pandas Series object.\")\n",
    "print(pd.Series([0,1,2,3]), type(pd.Series([0,1,2,3])))"
   ]
  },
  {
   "cell_type": "markdown",
   "id": "51cd1de8",
   "metadata": {},
   "source": [
    "The second thing we printed was a `Series` object. Note the two columns of numbers. The first column is the index of the object, the second column contains the values of the object. We can access those two separately like below."
   ]
  },
  {
   "cell_type": "code",
   "execution_count": null,
   "id": "037c574c",
   "metadata": {},
   "outputs": [],
   "source": [
    "## The index\n",
    "pd.Series([0,1,2,3]).index"
   ]
  },
  {
   "cell_type": "code",
   "execution_count": null,
   "id": "250e449b",
   "metadata": {},
   "outputs": [],
   "source": [
    "## The values\n",
    "pd.Series([0,1,2,3]).values"
   ]
  },
  {
   "cell_type": "code",
   "execution_count": null,
   "id": "958e56b2",
   "metadata": {},
   "outputs": [],
   "source": [
    "## You practice\n",
    "## Take the list labeled a and \n",
    "## turn it into a Series named b\n",
    "a = [5,2,3,6,'a','b','e',True,False]\n",
    "\n",
    "\n",
    "\n"
   ]
  },
  {
   "cell_type": "code",
   "execution_count": null,
   "id": "0f169d10",
   "metadata": {},
   "outputs": [],
   "source": [
    "## We can get select entries from a Series \n",
    "## using the index\n",
    "b[3]"
   ]
  },
  {
   "cell_type": "code",
   "execution_count": null,
   "id": "9508b180",
   "metadata": {},
   "outputs": [],
   "source": [
    "## Note that we don't have to have our index be a list of numbers\n",
    "c = pd.Series([1,2,3,4], index=['a','b','c','d'])\n",
    "\n",
    "print(c)"
   ]
  },
  {
   "cell_type": "code",
   "execution_count": null,
   "id": "9786bb80",
   "metadata": {},
   "outputs": [],
   "source": [
    "## and we can access by index in the same way\n",
    "c[\"a\"]"
   ]
  },
  {
   "cell_type": "markdown",
   "id": "d2aadf9d",
   "metadata": {},
   "source": [
    "Now let's check out a `DataFrame`. `DataFrame`s are essentially a collection of `Series` with a common index. We can also think of them as a table of values with column and row labels."
   ]
  },
  {
   "cell_type": "code",
   "execution_count": null,
   "id": "24222f4a",
   "metadata": {},
   "outputs": [],
   "source": [
    "## We can make a DataFrame using a dictionary\n",
    "## the dictionary keys are the column labels\n",
    "## the dictionary values are columns\n",
    "df = pd.DataFrame({'one':[3,4,5,2,4,5], \n",
    "                    'two':['a','b','e','h','l','p'],\n",
    "                    'third column':[7,7,7,7,7,7]})\n",
    "\n",
    "## NOTE that this is not the only way to make \n",
    "## a dataframe!\n",
    "\n",
    "print(df)"
   ]
  },
  {
   "cell_type": "markdown",
   "id": "28cd92f3",
   "metadata": {},
   "source": [
    "This is a `DataFrame`, the unlabeled column is the index, the labeled columns are `Series` objects themselves. We can access them in the following way."
   ]
  },
  {
   "cell_type": "code",
   "execution_count": null,
   "id": "2114870c",
   "metadata": {},
   "outputs": [],
   "source": [
    "## If your column's name doesn't violate a couple of format rules\n",
    "## you can use\n",
    "## df.column_name\n",
    "print(df.one) \n",
    "print()\n",
    "print(\"Note that each column is a Series object.\")\n",
    "print(type(df.one))"
   ]
  },
  {
   "cell_type": "code",
   "execution_count": null,
   "id": "ca7e05eb",
   "metadata": {},
   "outputs": [],
   "source": [
    "## However if our column name has spaces or certain characters in it\n",
    "## (like . , ! ? \"\" and so on)\n",
    "## we can't use .column_name\n",
    "df.third column"
   ]
  },
  {
   "cell_type": "code",
   "execution_count": null,
   "id": "1dfea85e",
   "metadata": {},
   "outputs": [],
   "source": [
    "## So we have to use df[\"column name\"] instead\n",
    "# or df['column_name']\n",
    "print(df['third column']) \n",
    "print()\n",
    "print(type(df['third column']))"
   ]
  },
  {
   "cell_type": "code",
   "execution_count": null,
   "id": "c81d39f6",
   "metadata": {},
   "outputs": [],
   "source": [
    "## Just like with a Series we can use .index\n",
    "## to get the index\n",
    "df.index"
   ]
  },
  {
   "cell_type": "code",
   "execution_count": null,
   "id": "db5b59d4",
   "metadata": {},
   "outputs": [],
   "source": [
    "## .values returns a 2-D numpy ndarray with our columns\n",
    "df.values"
   ]
  },
  {
   "cell_type": "code",
   "execution_count": null,
   "id": "fd35fe7c",
   "metadata": {},
   "outputs": [],
   "source": [
    "## You code\n",
    "## Make a data frame, call it my_df \n",
    "## Make the first column labeled 'first' from a\n",
    "## Make the second column labeled 'second' from b\n",
    "## see what happens when you add , index=range(10,10+len(a)) \n",
    "## after the dictionary\n",
    "a = [4,5,3,4,5,6,0]\n",
    "b = ['a','c','d','g','l','m','p']\n",
    "\n",
    "\n",
    "\n"
   ]
  },
  {
   "cell_type": "markdown",
   "id": "8264a77c",
   "metadata": {},
   "source": [
    "#### Locating `DataFrame` Entries With the Index\n",
    "\n",
    "Locating entries in a `DataFrame` is slightly more complicated than what we had to do for `Series` objects."
   ]
  },
  {
   "cell_type": "code",
   "execution_count": null,
   "id": "064a02e8",
   "metadata": {},
   "outputs": [],
   "source": [
    "## You code\n",
    "## try to index the dataframe df like you would\n",
    "## a list or Series to find the entry corresponding\n",
    "## to index 1\n",
    "\n",
    "\n",
    "## What happens?"
   ]
  },
  {
   "cell_type": "markdown",
   "id": "b6cccc35",
   "metadata": {},
   "source": [
    "In order to get particular `DataFrame` entries you have to use one of two methods, `.loc[]` or `.iloc[]`."
   ]
  },
  {
   "cell_type": "code",
   "execution_count": null,
   "id": "047ff765",
   "metadata": {},
   "outputs": [],
   "source": [
    "df"
   ]
  },
  {
   "cell_type": "code",
   "execution_count": null,
   "id": "f5619cfe",
   "metadata": {},
   "outputs": [],
   "source": [
    "## for example we can get the 1 row of df like so with loc\n",
    "df.loc[1]"
   ]
  },
  {
   "cell_type": "code",
   "execution_count": null,
   "id": "1bc6a872",
   "metadata": {},
   "outputs": [],
   "source": [
    "## or like so with iloc\n",
    "df.iloc[1]"
   ]
  },
  {
   "cell_type": "markdown",
   "id": "e7e6baa5",
   "metadata": {},
   "source": [
    "The difference between `.loc` and `.iloc` is that `.iloc` is restricted to integer based indexing, while `.loc` is more versatile.\n",
    "\n",
    "This means that if your index is a list of strings you cannot use `.iloc` with just the index's normal value. For example try to run the following."
   ]
  },
  {
   "cell_type": "code",
   "execution_count": null,
   "id": "b38e67d1",
   "metadata": {},
   "outputs": [],
   "source": [
    "## Recall what c is\n",
    "c"
   ]
  },
  {
   "cell_type": "code",
   "execution_count": null,
   "id": "22ba8011",
   "metadata": {},
   "outputs": [],
   "source": [
    "## now try to get the ath entry using .iloc\n",
    "c.iloc[\"a\"]"
   ]
  },
  {
   "cell_type": "code",
   "execution_count": null,
   "id": "6efab017",
   "metadata": {},
   "outputs": [],
   "source": [
    "## instead we'd have to notice that the \"a\" entry is\n",
    "## the 0 entry if the index were a normal integer based index\n",
    "c.iloc[0]"
   ]
  },
  {
   "cell_type": "code",
   "execution_count": null,
   "id": "0c790251",
   "metadata": {},
   "outputs": [],
   "source": [
    "## However, we can just insert \"a\" into .loc\n",
    "c.loc[\"a\"]"
   ]
  },
  {
   "cell_type": "markdown",
   "id": "b5b21c6b",
   "metadata": {},
   "source": [
    "Another difference is that `.loc` can be used to perform boolean indexing (eg. find me all the rows where the first column is between $2$ and $4$)"
   ]
  },
  {
   "cell_type": "code",
   "execution_count": null,
   "id": "2dcb35f2",
   "metadata": {},
   "outputs": [],
   "source": [
    "df"
   ]
  },
  {
   "cell_type": "code",
   "execution_count": null,
   "id": "e9a4f63c",
   "metadata": {},
   "outputs": [],
   "source": [
    "## give me all the rows where the \"one\" column is between 2 and 4\n",
    "df.loc[(df.one < 4) & (df.one > 2)]"
   ]
  },
  {
   "cell_type": "code",
   "execution_count": null,
   "id": "7e416d12",
   "metadata": {},
   "outputs": [],
   "source": [
    "## we can even go one step further and find a specific column\n",
    "df.loc[(df.one < 4) & (df.one > 2),'third column']"
   ]
  },
  {
   "cell_type": "code",
   "execution_count": null,
   "id": "f98dd15d",
   "metadata": {},
   "outputs": [],
   "source": [
    "## or a subset of many columns\n",
    "## in this case you enter the subset as a list of column name strings\n",
    "df.loc[(df.one < 4) & (df.one > 2),['two','third column']]"
   ]
  },
  {
   "cell_type": "markdown",
   "id": "3517e913",
   "metadata": {},
   "source": [
    "### Reading in a `.csv` file with `pandas`\n",
    "\n",
    "You can also read in common data file types with `pandas`. Let's load the following."
   ]
  },
  {
   "cell_type": "code",
   "execution_count": null,
   "id": "33aa384c",
   "metadata": {},
   "outputs": [],
   "source": [
    "## You can read in a csv with\n",
    "## pd.read_csv(\"filename.csv\")\n",
    "## https://pandas.pydata.org/docs/reference/api/pandas.read_csv.html\n",
    "\n",
    "## We'll work with the following dataframe in the next section\n",
    "jr_shots = pd.read_csv(\"JR_Smith_Shots_2015_16.csv\")"
   ]
  },
  {
   "cell_type": "code",
   "execution_count": null,
   "id": "13571983",
   "metadata": {},
   "outputs": [],
   "source": [
    "jr_shots"
   ]
  },
  {
   "cell_type": "code",
   "execution_count": null,
   "id": "37b34aa6",
   "metadata": {},
   "outputs": [],
   "source": [
    "## You code\n",
    "## read in the file \"beer.csv\" using pandas\n",
    "## call it beer_df\n",
    "\n",
    "\n",
    "## you'll practice with this dataframe in the next section"
   ]
  },
  {
   "cell_type": "markdown",
   "id": "54227e89",
   "metadata": {},
   "source": [
    "There are other useful `read` functions like `read_table` and `read_json`, you will see those in the `pandas` practice problems."
   ]
  },
  {
   "cell_type": "markdown",
   "id": "0ff2d34a",
   "metadata": {},
   "source": [
    "### Helpful `pandas` functions\n",
    "\n",
    "`pandas` offers some really nice built in functions to help you explore any data set you're dealing with. Let's explore them below."
   ]
  },
  {
   "cell_type": "code",
   "execution_count": null,
   "id": "263dde45",
   "metadata": {},
   "outputs": [],
   "source": [
    "## df.head(n) let's you inspect the first n rows of the dataframe\n",
    "## n defaults to 5\n",
    "## https://pandas.pydata.org/docs/reference/api/pandas.DataFrame.head.html\n",
    "jr_shots.head()"
   ]
  },
  {
   "cell_type": "code",
   "execution_count": null,
   "id": "9f53ce63",
   "metadata": {},
   "outputs": [],
   "source": [
    "## You code \n",
    "## investigate what .tail(n) does \n",
    "## using the beer_df\n",
    "## https://pandas.pydata.org/docs/reference/api/pandas.DataFrame.tail.html\n",
    "## Hint: n must be an integer\n",
    "\n"
   ]
  },
  {
   "cell_type": "code",
   "execution_count": null,
   "id": "ef5425e7",
   "metadata": {},
   "outputs": [],
   "source": [
    "## You code\n",
    "## investigate what .sample(n) does\n",
    "## using the beer_df\n",
    "## https://pandas.pydata.org/docs/reference/api/pandas.DataFrame.sample.html\n",
    "## Hint: n must be an integer\n",
    "\n"
   ]
  },
  {
   "cell_type": "code",
   "execution_count": null,
   "id": "1205561d",
   "metadata": {},
   "outputs": [],
   "source": [
    "## You code\n",
    "## what happens when you add the argument\n",
    "## random_state=440 in .sample()?\n",
    "## rerun the code chunk multiple times with or without the random_state\n",
    "## try different numbers for the random_state\n",
    "\n",
    "\n"
   ]
  },
  {
   "cell_type": "code",
   "execution_count": null,
   "id": "8e9a91a7",
   "metadata": {},
   "outputs": [],
   "source": [
    "## df.info() tells you useful information about your\n",
    "## dataframe, like the column names,\n",
    "## the number of rows,\n",
    "## the number of non-empty entries for each column,\n",
    "## the data type of each column\n",
    "## and how much memory the dataframe uses\n",
    "## https://pandas.pydata.org/docs/reference/api/pandas.DataFrame.info.html\n",
    "jr_shots.info()"
   ]
  },
  {
   "cell_type": "code",
   "execution_count": null,
   "id": "07f69a78",
   "metadata": {},
   "outputs": [],
   "source": [
    "## df.describe()\n",
    "## provides the 5 stat breakdown of each numeric column\n",
    "## that is any column that consists of integers or floats\n",
    "## will have its, minimum, maximum, first quartile, median,\n",
    "## third quartile, and mean provided\n",
    "## https://pandas.pydata.org/docs/reference/api/pandas.DataFrame.describe.html\n",
    "jr_shots.describe()"
   ]
  },
  {
   "cell_type": "code",
   "execution_count": null,
   "id": "b23ca39e",
   "metadata": {},
   "outputs": [],
   "source": [
    "## You code\n",
    "## Try out .mean() and .max() and .min()\n",
    "## on beer_df\n",
    "## Compare the results to .describe()'s output\n",
    "\n",
    "## .mean() - https://pandas.pydata.org/docs/reference/api/pandas.DataFrame.mean.html\n",
    "## .max() - https://pandas.pydata.org/docs/reference/api/pandas.DataFrame.max.html\n",
    "## .min() - https://pandas.pydata.org/docs/reference/api/pandas.DataFrame.min.html\n",
    "\n",
    "\n",
    "\n"
   ]
  },
  {
   "cell_type": "code",
   "execution_count": null,
   "id": "b9749074",
   "metadata": {},
   "outputs": [],
   "source": [
    "## What about variables that aren't numeric? Like\n",
    "## classes\n",
    "## You can use df.value_counts() for those\n",
    "## https://pandas.pydata.org/docs/reference/api/pandas.DataFrame.value_counts.html\n",
    "jr_shots.SHOT_MADE_FLAG.value_counts()"
   ]
  },
  {
   "cell_type": "markdown",
   "id": "bbe9fdc7",
   "metadata": {},
   "source": [
    "The above tells us that 497 observations have a `SHOT_MADE_FLAG` of 0 and 352 have a `SHOT_MADE_FLAG` of 1."
   ]
  },
  {
   "cell_type": "code",
   "execution_count": null,
   "id": "6ee3378c",
   "metadata": {},
   "outputs": [],
   "source": [
    "## You code\n",
    "## How many of each \"Beer_Type\" are there in beer_df?\n",
    "\n",
    "\n",
    "## What happens when you input the argument normalize=True into value_counts()?\n",
    "\n"
   ]
  },
  {
   "cell_type": "markdown",
   "id": "ace110e6",
   "metadata": {},
   "source": [
    "One task that we will do quite often in the boot camp is split one data set into two non-overlapping data sets. Let's see how we can do that here."
   ]
  },
  {
   "cell_type": "code",
   "execution_count": null,
   "id": "82fbcb9c",
   "metadata": {},
   "outputs": [],
   "source": [
    "## Let's first randomly sample 100 observations from jr_shots\n",
    "## Note the .copy()\n",
    "## this creates a deep copy of the DataFrame \n",
    "## instead of a shallow copy (see notebook 5. Shallow and Deep Copies)\n",
    "jr_1 = jr_shots.sample(100).copy()"
   ]
  },
  {
   "cell_type": "code",
   "execution_count": null,
   "id": "b5a31e62",
   "metadata": {},
   "outputs": [],
   "source": [
    "## To create jr_2 we'll just drop the indices of jr_1 from\n",
    "## jr_shots using .drop()\n",
    "## https://pandas.pydata.org/docs/reference/api/pandas.DataFrame.drop.html\n",
    "\n",
    "## Again we include .copy() to make a hard copy of the dataframe\n",
    "jr_2 = jr_shots.drop(jr_1.index).copy()"
   ]
  },
  {
   "cell_type": "code",
   "execution_count": null,
   "id": "8699cae9",
   "metadata": {},
   "outputs": [],
   "source": [
    "jr_1"
   ]
  },
  {
   "cell_type": "code",
   "execution_count": null,
   "id": "51e1185f",
   "metadata": {},
   "outputs": [],
   "source": [
    "jr_2"
   ]
  },
  {
   "cell_type": "code",
   "execution_count": null,
   "id": "253fb5bb",
   "metadata": {},
   "outputs": [],
   "source": [
    "## Let's check that it worked like we thought it would\n",
    "len(jr_1) + len(jr_2) == len(jr_shots)"
   ]
  },
  {
   "cell_type": "code",
   "execution_count": null,
   "id": "02a39c61",
   "metadata": {},
   "outputs": [],
   "source": [
    "## You code\n",
    "## split beer_df into beer_1 and beer_2\n",
    "## beer_1 should be a random sample of 150 observations\n",
    "## beer_2 should be all rows not in beer_1\n",
    "\n"
   ]
  },
  {
   "cell_type": "markdown",
   "id": "cd672138",
   "metadata": {},
   "source": [
    "### Saving a `DataFrame` to File\n",
    "\n",
    "Just like we easily read in a data file we can use `pandas` to quickly save data to a file.\n",
    "\n",
    "This is done with the function `df.to_csv()`, <a href=\"https://pandas.pydata.org/docs/reference/api/pandas.DataFrame.to_csv.html\">https://pandas.pydata.org/docs/reference/api/pandas.DataFrame.to_csv.html</a>."
   ]
  },
  {
   "cell_type": "code",
   "execution_count": null,
   "id": "8a183b8f",
   "metadata": {},
   "outputs": [],
   "source": [
    "## Let's first make a data frame\n",
    "df = pd.DataFrame({'a':[1,2,3],'b':[2,4,6],'c':[17,34,51]})\n",
    "\n",
    "df"
   ]
  },
  {
   "cell_type": "code",
   "execution_count": null,
   "id": "f4a83274",
   "metadata": {},
   "outputs": [],
   "source": [
    "## Now we call df.to_csv(file_name)\n",
    "df.to_csv(\"our_first_dataframe.csv\")"
   ]
  },
  {
   "cell_type": "markdown",
   "id": "46259a25",
   "metadata": {},
   "source": [
    "Go ahead and check your repository, you should now see `our_first_dataframe.csv` in there."
   ]
  },
  {
   "cell_type": "code",
   "execution_count": null,
   "id": "80f2cfcd",
   "metadata": {},
   "outputs": [],
   "source": [
    "## You code\n",
    "## read in \"our_first_dataframe.csv\" using read_csv\n",
    "## then look at the df\n",
    "\n",
    "\n",
    "\n",
    "\n",
    "## is anything off?"
   ]
  },
  {
   "cell_type": "markdown",
   "id": "69fbd502",
   "metadata": {},
   "source": [
    "When you ran `to_csv()` the default is to record the index as well. That is why your `DataFrame` has an unlabeled column when you read it back in using `read_csv`. If we wanted to avoid writing the index to file you include the argument `index=False`. "
   ]
  },
  {
   "cell_type": "code",
   "execution_count": null,
   "id": "0b71acc9",
   "metadata": {},
   "outputs": [],
   "source": [
    "## Make the DataFrame again\n",
    "df = pd.DataFrame({'a':[1,2,3],'b':[2,4,6],'c':[17,34,51]})\n",
    "\n",
    "df"
   ]
  },
  {
   "cell_type": "code",
   "execution_count": null,
   "id": "88c9069f",
   "metadata": {},
   "outputs": [],
   "source": [
    "## write it to file without the index\n",
    "df.to_csv(\"our_first_dataframe.csv\", index=False)"
   ]
  },
  {
   "cell_type": "code",
   "execution_count": null,
   "id": "1a5e7ae1",
   "metadata": {},
   "outputs": [],
   "source": [
    "## You code\n",
    "## read in \"our_first_dataframe.csv\" using read_csv\n",
    "## then look at the df again\n",
    "\n",
    "\n"
   ]
  },
  {
   "cell_type": "markdown",
   "id": "a05e616a",
   "metadata": {},
   "source": [
    "That's all you'll need to know from `pandas` to have a firm footing for our boot camp. We will learn more stuff as we go along, but when that time comes you should be ready!"
   ]
  },
  {
   "cell_type": "markdown",
   "id": "51ba8462",
   "metadata": {},
   "source": [
    "--------------------------\n",
    "\n",
    "This notebook was written for the Erd&#337;s Institute C&#337;de Data Science Boot Camp by Matthew Osborne, Ph. D., 2022.\n",
    "\n",
    "Any potential redistributors must seek and receive permission from Matthew Tyler Osborne, Ph.D. prior to redistribution. Redistribution of the material contained in this repository is conditional on acknowledgement of Matthew Tyler Osborne, Ph.D.'s original authorship and sponsorship of the Erdős Institute as subject to the license (see License.md)"
   ]
  },
  {
   "cell_type": "code",
   "execution_count": null,
   "id": "0ef03bd1",
   "metadata": {},
   "outputs": [],
   "source": []
  }
 ],
 "metadata": {
  "kernelspec": {
   "display_name": "Python 3 (ipykernel)",
   "language": "python",
   "name": "python3"
  },
  "language_info": {
   "codemirror_mode": {
    "name": "ipython",
    "version": 3
   },
   "file_extension": ".py",
   "mimetype": "text/x-python",
   "name": "python",
   "nbconvert_exporter": "python",
   "pygments_lexer": "ipython3",
   "version": "3.9.9"
  }
 },
 "nbformat": 4,
 "nbformat_minor": 5
}
