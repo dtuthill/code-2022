{
 "cells": [
  {
   "cell_type": "markdown",
   "id": "03f9545f",
   "metadata": {},
   "source": [
    "# Imputation\n",
    "\n",
    "The problems in this notebook correspond to the concepts covered in `Lectures/Cleaning/Imputation`."
   ]
  },
  {
   "cell_type": "code",
   "execution_count": 1,
   "id": "1074280e",
   "metadata": {},
   "outputs": [],
   "source": [
    "import pandas as pd\n",
    "import numpy as np"
   ]
  },
  {
   "cell_type": "markdown",
   "id": "e18b4992",
   "metadata": {},
   "source": [
    "##### 1. Load `iris` with NAs\n",
    "\n",
    "In these problems you will be working with a slightly different version of the iris data set. Load this version below, then use `.info` to identify the column(s) with missing values."
   ]
  },
  {
   "cell_type": "code",
   "execution_count": 2,
   "id": "3de414bd",
   "metadata": {},
   "outputs": [],
   "source": [
    "iris = pd.read_csv(\"../../Data/iris_w_nas.csv\")"
   ]
  },
  {
   "cell_type": "markdown",
   "id": "e7cb51a9",
   "metadata": {},
   "source": [
    "##### Sample Solution"
   ]
  },
  {
   "cell_type": "code",
   "execution_count": 3,
   "id": "95d1d1d6",
   "metadata": {},
   "outputs": [
    {
     "name": "stdout",
     "output_type": "stream",
     "text": [
      "<class 'pandas.core.frame.DataFrame'>\n",
      "RangeIndex: 150 entries, 0 to 149\n",
      "Data columns (total 5 columns):\n",
      " #   Column        Non-Null Count  Dtype  \n",
      "---  ------        --------------  -----  \n",
      " 0   sepal_length  150 non-null    float64\n",
      " 1   sepal_width   150 non-null    float64\n",
      " 2   petal_length  150 non-null    float64\n",
      " 3   petal_width   135 non-null    float64\n",
      " 4   iris_class    150 non-null    int64  \n",
      "dtypes: float64(4), int64(1)\n",
      "memory usage: 6.0 KB\n"
     ]
    }
   ],
   "source": [
    "iris.info()"
   ]
  },
  {
   "cell_type": "markdown",
   "id": "6d168b86",
   "metadata": {},
   "source": [
    "##### 2. Train test split\n",
    "\n",
    "Make a train test split for these data. Remember to stratify by `iris_class`."
   ]
  },
  {
   "cell_type": "markdown",
   "id": "5cde4412",
   "metadata": {},
   "source": [
    "##### Sample Solution"
   ]
  },
  {
   "cell_type": "code",
   "execution_count": 4,
   "id": "f5d4dce4",
   "metadata": {},
   "outputs": [],
   "source": [
    "from sklearn.model_selection import train_test_split"
   ]
  },
  {
   "cell_type": "code",
   "execution_count": 5,
   "id": "1adb0cb8",
   "metadata": {},
   "outputs": [],
   "source": [
    "iris_train, iris_test = train_test_split(iris.copy(),\n",
    "                                            shuffle=True,\n",
    "                                            random_state=233,\n",
    "                                            stratify = iris['iris_class'])"
   ]
  },
  {
   "cell_type": "markdown",
   "id": "297e75c4",
   "metadata": {},
   "source": [
    "##### 4. `SimpleImputer`\n",
    "\n",
    "Use `sklearn`'s `SimpleImputer` object to impute the missing values of the training set with the median of that column."
   ]
  },
  {
   "cell_type": "markdown",
   "id": "0c28471a",
   "metadata": {},
   "source": [
    "##### Sample Solution"
   ]
  },
  {
   "cell_type": "code",
   "execution_count": 6,
   "id": "e343f820",
   "metadata": {},
   "outputs": [],
   "source": [
    "from sklearn.impute import SimpleImputer"
   ]
  },
  {
   "cell_type": "code",
   "execution_count": 7,
   "id": "1599911f",
   "metadata": {},
   "outputs": [
    {
     "data": {
      "text/plain": [
       "array([[6.7, 3.3, 5.7, 1.3],\n",
       "       [6.5, 3. , 5.8, 1.3],\n",
       "       [5.2, 3.4, 1.4, 1.3],\n",
       "       [5.1, 3.8, 1.5, 1.3],\n",
       "       [6.1, 2.8, 4. , 1.3],\n",
       "       [5.4, 3.9, 1.3, 1.3],\n",
       "       [5.1, 3.5, 1.4, 1.3],\n",
       "       [5.8, 2.7, 5.1, 1.3],\n",
       "       [5.1, 2.5, 3. , 1.3],\n",
       "       [6.1, 2.6, 5.6, 1.3]])"
      ]
     },
     "execution_count": 7,
     "metadata": {},
     "output_type": "execute_result"
    }
   ],
   "source": [
    "impute = SimpleImputer(strategy = 'median')\n",
    "\n",
    "impute.fit(iris_train[['sepal_length', 'sepal_width', 'petal_length', 'petal_width']])\n",
    "\n",
    "impute.transform(iris_train[['sepal_length', \n",
    "                             'sepal_width', \n",
    "                             'petal_length', \n",
    "                             'petal_width']])[iris_train.petal_width.isna()]"
   ]
  },
  {
   "cell_type": "markdown",
   "id": "a985d0a3",
   "metadata": {},
   "source": [
    "##### 5. Imputing test data\n",
    "\n",
    "Impute the missing values in the test set."
   ]
  },
  {
   "cell_type": "markdown",
   "id": "1919b32d",
   "metadata": {},
   "source": [
    "##### Sample Solution"
   ]
  },
  {
   "cell_type": "code",
   "execution_count": 8,
   "id": "272ae338",
   "metadata": {},
   "outputs": [
    {
     "data": {
      "text/plain": [
       "array([[4.4, 3. , 1.3, 1.3],\n",
       "       [5.8, 2.7, 3.9, 1.3],\n",
       "       [6.5, 2.8, 4.6, 1.3],\n",
       "       [6.3, 2.8, 5.1, 1.3],\n",
       "       [7. , 3.2, 4.7, 1.3]])"
      ]
     },
     "execution_count": 8,
     "metadata": {},
     "output_type": "execute_result"
    }
   ],
   "source": [
    "impute.transform(iris_test[['sepal_length', \n",
    "                             'sepal_width', \n",
    "                             'petal_length', \n",
    "                             'petal_width']])[iris_test.petal_width.isna()]"
   ]
  },
  {
   "cell_type": "markdown",
   "id": "daa03ffc",
   "metadata": {},
   "source": [
    "##### 6. MLR imputation\n",
    "\n",
    "Build a multiple linear regression model using `sepal_length`, `sepal_width` and `petal_width` to impute the missing values from the training and test sets"
   ]
  },
  {
   "cell_type": "markdown",
   "id": "d18241f8",
   "metadata": {},
   "source": [
    "##### Sample Solution"
   ]
  },
  {
   "cell_type": "code",
   "execution_count": 9,
   "id": "3a35b7f7",
   "metadata": {},
   "outputs": [],
   "source": [
    "from sklearn.linear_model import LinearRegression"
   ]
  },
  {
   "cell_type": "code",
   "execution_count": 10,
   "id": "38f167fb",
   "metadata": {},
   "outputs": [],
   "source": [
    "reg = LinearRegression()\n",
    "\n",
    "iris_train_no_nas = iris_train.loc[~iris_train.petal_width.isna()].copy()\n",
    "\n",
    "\n",
    "reg.fit(iris_train_no_nas[['sepal_length', \n",
    "                           'sepal_width', \n",
    "                           'petal_length']],\n",
    "           iris_train_no_nas['petal_width'])\n",
    "\n",
    "iris_train['petal_width_imputed'] = iris_train['petal_width'].copy()\n",
    "iris_train.loc[iris_train.petal_width.isna(), \n",
    "               'petal_width_imputed'] = reg.predict(iris_train.loc[iris_train.petal_width.isna(),\n",
    "                                                                   ['sepal_length', 'sepal_width', 'petal_length']])\n",
    "\n",
    "iris_test['petal_width_imputed'] = iris_test['petal_width'].copy()\n",
    "iris_test.loc[iris_test.petal_width.isna(), \n",
    "               'petal_width_imputed'] = reg.predict(iris_test.loc[iris_test.petal_width.isna(),\n",
    "                                                                   ['sepal_length', 'sepal_width', 'petal_length']])\n",
    "\n"
   ]
  },
  {
   "cell_type": "code",
   "execution_count": 11,
   "id": "7e67f45c",
   "metadata": {},
   "outputs": [
    {
     "data": {
      "text/html": [
       "<div>\n",
       "<style scoped>\n",
       "    .dataframe tbody tr th:only-of-type {\n",
       "        vertical-align: middle;\n",
       "    }\n",
       "\n",
       "    .dataframe tbody tr th {\n",
       "        vertical-align: top;\n",
       "    }\n",
       "\n",
       "    .dataframe thead th {\n",
       "        text-align: right;\n",
       "    }\n",
       "</style>\n",
       "<table border=\"1\" class=\"dataframe\">\n",
       "  <thead>\n",
       "    <tr style=\"text-align: right;\">\n",
       "      <th></th>\n",
       "      <th>sepal_length</th>\n",
       "      <th>sepal_width</th>\n",
       "      <th>petal_length</th>\n",
       "      <th>petal_width</th>\n",
       "      <th>iris_class</th>\n",
       "      <th>petal_width_imputed</th>\n",
       "    </tr>\n",
       "  </thead>\n",
       "  <tbody>\n",
       "    <tr>\n",
       "      <th>124</th>\n",
       "      <td>6.7</td>\n",
       "      <td>3.3</td>\n",
       "      <td>5.7</td>\n",
       "      <td>NaN</td>\n",
       "      <td>2</td>\n",
       "      <td>2.087729</td>\n",
       "    </tr>\n",
       "    <tr>\n",
       "      <th>104</th>\n",
       "      <td>6.5</td>\n",
       "      <td>3.0</td>\n",
       "      <td>5.8</td>\n",
       "      <td>NaN</td>\n",
       "      <td>2</td>\n",
       "      <td>2.119041</td>\n",
       "    </tr>\n",
       "    <tr>\n",
       "      <th>28</th>\n",
       "      <td>5.2</td>\n",
       "      <td>3.4</td>\n",
       "      <td>1.4</td>\n",
       "      <td>NaN</td>\n",
       "      <td>0</td>\n",
       "      <td>0.137195</td>\n",
       "    </tr>\n",
       "    <tr>\n",
       "      <th>19</th>\n",
       "      <td>5.1</td>\n",
       "      <td>3.8</td>\n",
       "      <td>1.5</td>\n",
       "      <td>NaN</td>\n",
       "      <td>0</td>\n",
       "      <td>0.295013</td>\n",
       "    </tr>\n",
       "    <tr>\n",
       "      <th>71</th>\n",
       "      <td>6.1</td>\n",
       "      <td>2.8</td>\n",
       "      <td>4.0</td>\n",
       "      <td>NaN</td>\n",
       "      <td>1</td>\n",
       "      <td>1.204596</td>\n",
       "    </tr>\n",
       "    <tr>\n",
       "      <th>16</th>\n",
       "      <td>5.4</td>\n",
       "      <td>3.9</td>\n",
       "      <td>1.3</td>\n",
       "      <td>NaN</td>\n",
       "      <td>0</td>\n",
       "      <td>0.147931</td>\n",
       "    </tr>\n",
       "    <tr>\n",
       "      <th>0</th>\n",
       "      <td>5.1</td>\n",
       "      <td>3.5</td>\n",
       "      <td>1.4</td>\n",
       "      <td>NaN</td>\n",
       "      <td>0</td>\n",
       "      <td>0.178882</td>\n",
       "    </tr>\n",
       "    <tr>\n",
       "      <th>101</th>\n",
       "      <td>5.8</td>\n",
       "      <td>2.7</td>\n",
       "      <td>5.1</td>\n",
       "      <td>NaN</td>\n",
       "      <td>2</td>\n",
       "      <td>1.829203</td>\n",
       "    </tr>\n",
       "    <tr>\n",
       "      <th>98</th>\n",
       "      <td>5.1</td>\n",
       "      <td>2.5</td>\n",
       "      <td>3.0</td>\n",
       "      <td>NaN</td>\n",
       "      <td>1</td>\n",
       "      <td>0.817573</td>\n",
       "    </tr>\n",
       "    <tr>\n",
       "      <th>134</th>\n",
       "      <td>6.1</td>\n",
       "      <td>2.6</td>\n",
       "      <td>5.6</td>\n",
       "      <td>NaN</td>\n",
       "      <td>2</td>\n",
       "      <td>2.011481</td>\n",
       "    </tr>\n",
       "  </tbody>\n",
       "</table>\n",
       "</div>"
      ],
      "text/plain": [
       "     sepal_length  sepal_width  petal_length  petal_width  iris_class  \\\n",
       "124           6.7          3.3           5.7          NaN           2   \n",
       "104           6.5          3.0           5.8          NaN           2   \n",
       "28            5.2          3.4           1.4          NaN           0   \n",
       "19            5.1          3.8           1.5          NaN           0   \n",
       "71            6.1          2.8           4.0          NaN           1   \n",
       "16            5.4          3.9           1.3          NaN           0   \n",
       "0             5.1          3.5           1.4          NaN           0   \n",
       "101           5.8          2.7           5.1          NaN           2   \n",
       "98            5.1          2.5           3.0          NaN           1   \n",
       "134           6.1          2.6           5.6          NaN           2   \n",
       "\n",
       "     petal_width_imputed  \n",
       "124             2.087729  \n",
       "104             2.119041  \n",
       "28              0.137195  \n",
       "19              0.295013  \n",
       "71              1.204596  \n",
       "16              0.147931  \n",
       "0               0.178882  \n",
       "101             1.829203  \n",
       "98              0.817573  \n",
       "134             2.011481  "
      ]
     },
     "execution_count": 11,
     "metadata": {},
     "output_type": "execute_result"
    }
   ],
   "source": [
    "iris_train.loc[iris_train.petal_width.isna()]"
   ]
  },
  {
   "cell_type": "code",
   "execution_count": 12,
   "id": "658095f0",
   "metadata": {},
   "outputs": [
    {
     "data": {
      "text/html": [
       "<div>\n",
       "<style scoped>\n",
       "    .dataframe tbody tr th:only-of-type {\n",
       "        vertical-align: middle;\n",
       "    }\n",
       "\n",
       "    .dataframe tbody tr th {\n",
       "        vertical-align: top;\n",
       "    }\n",
       "\n",
       "    .dataframe thead th {\n",
       "        text-align: right;\n",
       "    }\n",
       "</style>\n",
       "<table border=\"1\" class=\"dataframe\">\n",
       "  <thead>\n",
       "    <tr style=\"text-align: right;\">\n",
       "      <th></th>\n",
       "      <th>sepal_length</th>\n",
       "      <th>sepal_width</th>\n",
       "      <th>petal_length</th>\n",
       "      <th>petal_width</th>\n",
       "      <th>iris_class</th>\n",
       "      <th>petal_width_imputed</th>\n",
       "    </tr>\n",
       "  </thead>\n",
       "  <tbody>\n",
       "    <tr>\n",
       "      <th>38</th>\n",
       "      <td>4.4</td>\n",
       "      <td>3.0</td>\n",
       "      <td>1.3</td>\n",
       "      <td>NaN</td>\n",
       "      <td>0</td>\n",
       "      <td>0.165346</td>\n",
       "    </tr>\n",
       "    <tr>\n",
       "      <th>82</th>\n",
       "      <td>5.8</td>\n",
       "      <td>2.7</td>\n",
       "      <td>3.9</td>\n",
       "      <td>NaN</td>\n",
       "      <td>1</td>\n",
       "      <td>1.192503</td>\n",
       "    </tr>\n",
       "    <tr>\n",
       "      <th>54</th>\n",
       "      <td>6.5</td>\n",
       "      <td>2.8</td>\n",
       "      <td>4.6</td>\n",
       "      <td>NaN</td>\n",
       "      <td>1</td>\n",
       "      <td>1.440293</td>\n",
       "    </tr>\n",
       "    <tr>\n",
       "      <th>133</th>\n",
       "      <td>6.3</td>\n",
       "      <td>2.8</td>\n",
       "      <td>5.1</td>\n",
       "      <td>NaN</td>\n",
       "      <td>2</td>\n",
       "      <td>1.746911</td>\n",
       "    </tr>\n",
       "    <tr>\n",
       "      <th>50</th>\n",
       "      <td>7.0</td>\n",
       "      <td>3.2</td>\n",
       "      <td>4.7</td>\n",
       "      <td>NaN</td>\n",
       "      <td>1</td>\n",
       "      <td>1.474131</td>\n",
       "    </tr>\n",
       "  </tbody>\n",
       "</table>\n",
       "</div>"
      ],
      "text/plain": [
       "     sepal_length  sepal_width  petal_length  petal_width  iris_class  \\\n",
       "38            4.4          3.0           1.3          NaN           0   \n",
       "82            5.8          2.7           3.9          NaN           1   \n",
       "54            6.5          2.8           4.6          NaN           1   \n",
       "133           6.3          2.8           5.1          NaN           2   \n",
       "50            7.0          3.2           4.7          NaN           1   \n",
       "\n",
       "     petal_width_imputed  \n",
       "38              0.165346  \n",
       "82              1.192503  \n",
       "54              1.440293  \n",
       "133             1.746911  \n",
       "50              1.474131  "
      ]
     },
     "execution_count": 12,
     "metadata": {},
     "output_type": "execute_result"
    }
   ],
   "source": [
    "iris_test.loc[iris_test.petal_width.isna()]"
   ]
  },
  {
   "cell_type": "markdown",
   "id": "22fead35",
   "metadata": {},
   "source": [
    "##### 7. `IterativeImputer`\n",
    "\n",
    "`sklearn` currently has another imputater object that more easily implements imputation similar to what you were asked to do in 6. in development.\n",
    "\n",
    "Because this object is not yet stable, we will not demonstrate it, but you can read more about `IterativeImputer` here, <a href=\"https://scikit-learn.org/stable/modules/generated/sklearn.impute.IterativeImputer.html#sklearn.impute.IterativeImputer\">https://scikit-learn.org/stable/modules/generated/sklearn.impute.IterativeImputer.html#sklearn.impute.IterativeImputer</a>. Learn it on your own, or pay attention for later versions of `sklearn` where this object has become stable."
   ]
  },
  {
   "cell_type": "markdown",
   "id": "be97a212",
   "metadata": {},
   "source": [
    "##### 8. `KNNImputer`\n",
    "\n",
    "Another model based approach to imputing is to use $k$-nearest neighbors regressor to impute the missing values. This <b>can</b> be implemented directly using `sklearn`'s `KNNImputer` object, <a href=\"https://scikit-learn.org/stable/modules/generated/sklearn.impute.KNNImputer.html#sklearn.impute.KNNImputer\">https://scikit-learn.org/stable/modules/generated/sklearn.impute.KNNImputer.html#sklearn.impute.KNNImputer</a>.\n",
    "\n",
    "Use `KNNImputer` to impute the missing `petal_width` values in the training and test sets. Imagine you are building a model to classify the iris class of each observation. Should you include `iris_class` as input into this imputation?"
   ]
  },
  {
   "cell_type": "markdown",
   "id": "f6ee9431",
   "metadata": {},
   "source": [
    "##### Sample Solution"
   ]
  },
  {
   "cell_type": "code",
   "execution_count": 13,
   "id": "79fb1948",
   "metadata": {},
   "outputs": [],
   "source": [
    "from sklearn.impute import KNNImputer"
   ]
  },
  {
   "cell_type": "code",
   "execution_count": 14,
   "id": "0263f258",
   "metadata": {},
   "outputs": [
    {
     "data": {
      "text/plain": [
       "array([[6.7 , 3.3 , 5.7 , 2.22],\n",
       "       [6.5 , 3.  , 5.8 , 2.  ],\n",
       "       [5.2 , 3.4 , 1.4 , 0.26],\n",
       "       [5.1 , 3.8 , 1.5 , 0.18],\n",
       "       [6.1 , 2.8 , 4.  , 1.22],\n",
       "       [5.4 , 3.9 , 1.3 , 0.22],\n",
       "       [5.1 , 3.5 , 1.4 , 0.24],\n",
       "       [5.8 , 2.7 , 5.1 , 1.98],\n",
       "       [5.1 , 2.5 , 3.  , 1.08],\n",
       "       [6.1 , 2.6 , 5.6 , 1.84]])"
      ]
     },
     "execution_count": 14,
     "metadata": {},
     "output_type": "execute_result"
    }
   ],
   "source": [
    "impute = KNNImputer()\n",
    "\n",
    "\n",
    "impute.fit(iris_train[['sepal_length', \n",
    "                           'sepal_width', \n",
    "                           'petal_length',\n",
    "                           'petal_width']])\n",
    "\n",
    "impute.transform(iris_train[['sepal_length', \n",
    "                           'sepal_width', \n",
    "                           'petal_length',\n",
    "                           'petal_width']])[iris_train.petal_width.isna()]"
   ]
  },
  {
   "cell_type": "code",
   "execution_count": 15,
   "id": "ee4441c9",
   "metadata": {},
   "outputs": [
    {
     "data": {
      "text/plain": [
       "array([[4.4 , 3.  , 1.3 , 0.16],\n",
       "       [5.8 , 2.7 , 3.9 , 1.18],\n",
       "       [6.5 , 2.8 , 4.6 , 1.46],\n",
       "       [6.3 , 2.8 , 5.1 , 1.82],\n",
       "       [7.  , 3.2 , 4.7 , 1.5 ]])"
      ]
     },
     "execution_count": 15,
     "metadata": {},
     "output_type": "execute_result"
    }
   ],
   "source": [
    "impute.transform(iris_test[['sepal_length', \n",
    "                           'sepal_width', \n",
    "                           'petal_length',\n",
    "                           'petal_width']])[iris_test.petal_width.isna()]"
   ]
  },
  {
   "cell_type": "markdown",
   "id": "850ab7f3",
   "metadata": {},
   "source": [
    "--------------------------\n",
    "\n",
    "This notebook was written for the Erd&#337;s Institute C&#337;de Data Science Boot Camp by Matthew Osborne, Ph. D., 2022.\n",
    "\n",
    "Any potential redistributors must seek and receive permission from Matthew Tyler Osborne, Ph.D. prior to redistribution. Redistribution of the material contained in this repository is conditional on acknowledgement of Matthew Tyler Osborne, Ph.D.'s original authorship and sponsorship of the Erdős Institute as subject to the license (see License.md)"
   ]
  },
  {
   "cell_type": "code",
   "execution_count": null,
   "id": "f6537f52",
   "metadata": {},
   "outputs": [],
   "source": []
  }
 ],
 "metadata": {
  "kernelspec": {
   "display_name": "Python 3 (ipykernel)",
   "language": "python",
   "name": "python3"
  },
  "language_info": {
   "codemirror_mode": {
    "name": "ipython",
    "version": 3
   },
   "file_extension": ".py",
   "mimetype": "text/x-python",
   "name": "python",
   "nbconvert_exporter": "python",
   "pygments_lexer": "ipython3",
   "version": "3.9.9"
  }
 },
 "nbformat": 4,
 "nbformat_minor": 5
}
