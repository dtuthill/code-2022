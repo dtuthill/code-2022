{
 "cells": [
  {
   "cell_type": "markdown",
   "id": "03f9545f",
   "metadata": {},
   "source": [
    "# Imputation\n",
    "\n",
    "The problems in this notebook correspond to the concepts covered in `Lectures/Cleaning/Imputation`."
   ]
  },
  {
   "cell_type": "code",
   "execution_count": null,
   "id": "1074280e",
   "metadata": {},
   "outputs": [],
   "source": [
    "import pandas as pd\n",
    "import numpy as np"
   ]
  },
  {
   "cell_type": "markdown",
   "id": "e18b4992",
   "metadata": {},
   "source": [
    "##### 1. Load `iris` with NAs\n",
    "\n",
    "In these problems you will be working with a slightly different version of the iris data set. Load this version below, then use `.info` to identify the column(s) with missing values."
   ]
  },
  {
   "cell_type": "code",
   "execution_count": null,
   "id": "3de414bd",
   "metadata": {},
   "outputs": [],
   "source": [
    "iris = pd.read_csv(\"../../Data/iris_w_nas.csv\")"
   ]
  },
  {
   "cell_type": "code",
   "execution_count": null,
   "id": "95d1d1d6",
   "metadata": {},
   "outputs": [],
   "source": [
    "## code here\n",
    "\n"
   ]
  },
  {
   "cell_type": "markdown",
   "id": "6d168b86",
   "metadata": {},
   "source": [
    "##### 2. Train test split\n",
    "\n",
    "Make a train test split for these data. Remember to stratify by `iris_class`."
   ]
  },
  {
   "cell_type": "code",
   "execution_count": null,
   "id": "f5d4dce4",
   "metadata": {},
   "outputs": [],
   "source": [
    "## code here\n",
    "\n"
   ]
  },
  {
   "cell_type": "code",
   "execution_count": null,
   "id": "1f09cb22",
   "metadata": {},
   "outputs": [],
   "source": [
    "## code here\n",
    "\n"
   ]
  },
  {
   "cell_type": "code",
   "execution_count": null,
   "id": "19c11ded",
   "metadata": {},
   "outputs": [],
   "source": [
    "## code here\n",
    "\n"
   ]
  },
  {
   "cell_type": "markdown",
   "id": "297e75c4",
   "metadata": {},
   "source": [
    "##### 4. `SimpleImputer`\n",
    "\n",
    "Use `sklearn`'s `SimpleImputer` object to impute the missing values of the training set with the median of that column."
   ]
  },
  {
   "cell_type": "code",
   "execution_count": null,
   "id": "e343f820",
   "metadata": {},
   "outputs": [],
   "source": [
    "## code here\n",
    "\n",
    "\n"
   ]
  },
  {
   "cell_type": "code",
   "execution_count": null,
   "id": "1599911f",
   "metadata": {},
   "outputs": [],
   "source": [
    "## code here\n",
    "\n",
    "\n"
   ]
  },
  {
   "cell_type": "markdown",
   "id": "a985d0a3",
   "metadata": {},
   "source": [
    "##### 5. Imputing test data\n",
    "\n",
    "Impute the missing values in the test set."
   ]
  },
  {
   "cell_type": "code",
   "execution_count": null,
   "id": "272ae338",
   "metadata": {},
   "outputs": [],
   "source": [
    "## code here\n",
    "\n",
    "\n"
   ]
  },
  {
   "cell_type": "markdown",
   "id": "daa03ffc",
   "metadata": {},
   "source": [
    "##### 6. MLR imputation\n",
    "\n",
    "Build a multiple linear regression model using `sepal_length`, `sepal_width` and `petal_width` to impute the missing values from the training and test sets"
   ]
  },
  {
   "cell_type": "code",
   "execution_count": null,
   "id": "3a35b7f7",
   "metadata": {},
   "outputs": [],
   "source": [
    "## code here\n",
    "\n",
    "\n"
   ]
  },
  {
   "cell_type": "code",
   "execution_count": null,
   "id": "c0bfe7ed",
   "metadata": {},
   "outputs": [],
   "source": [
    "## code here\n",
    "\n",
    "\n"
   ]
  },
  {
   "cell_type": "code",
   "execution_count": null,
   "id": "b9b0164e",
   "metadata": {},
   "outputs": [],
   "source": [
    "## code here\n",
    "\n",
    "\n"
   ]
  },
  {
   "cell_type": "code",
   "execution_count": null,
   "id": "8029afab",
   "metadata": {},
   "outputs": [],
   "source": [
    "## code here\n",
    "\n",
    "\n"
   ]
  },
  {
   "cell_type": "markdown",
   "id": "22fead35",
   "metadata": {},
   "source": [
    "##### 7. `IterativeImputer`\n",
    "\n",
    "`sklearn` currently has another imputater object that more easily implements imputation similar to what you were asked to do in 6. in development.\n",
    "\n",
    "Because this object is not yet stable, we will not demonstrate it, but you can read more about `IterativeImputer` here, <a href=\"https://scikit-learn.org/stable/modules/generated/sklearn.impute.IterativeImputer.html#sklearn.impute.IterativeImputer\">https://scikit-learn.org/stable/modules/generated/sklearn.impute.IterativeImputer.html#sklearn.impute.IterativeImputer</a>. Learn it on your own, or pay attention for later versions of `sklearn` where this object has become stable."
   ]
  },
  {
   "cell_type": "markdown",
   "id": "be97a212",
   "metadata": {},
   "source": [
    "##### 8. `KNNImputer`\n",
    "\n",
    "Another model based approach to imputing is to use $k$-nearest neighbors regressor to impute the missing values. This <b>can</b> be implemented directly using `sklearn`'s `KNNImputer` object, <a href=\"https://scikit-learn.org/stable/modules/generated/sklearn.impute.KNNImputer.html#sklearn.impute.KNNImputer\">https://scikit-learn.org/stable/modules/generated/sklearn.impute.KNNImputer.html#sklearn.impute.KNNImputer</a>.\n",
    "\n",
    "Use `KNNImputer` to impute the missing `petal_width` values in the training and test sets. Imagine you are building a model to classify the iris class of each observation. Should you include `iris_class` as input into this imputation?"
   ]
  },
  {
   "cell_type": "code",
   "execution_count": null,
   "id": "79fb1948",
   "metadata": {},
   "outputs": [],
   "source": [
    "## code here\n",
    "\n",
    "\n"
   ]
  },
  {
   "cell_type": "code",
   "execution_count": null,
   "id": "64f73005",
   "metadata": {},
   "outputs": [],
   "source": [
    "## code here\n",
    "\n",
    "\n"
   ]
  },
  {
   "cell_type": "code",
   "execution_count": null,
   "id": "44a71761",
   "metadata": {},
   "outputs": [],
   "source": [
    "## code here\n",
    "\n",
    "\n"
   ]
  },
  {
   "cell_type": "code",
   "execution_count": null,
   "id": "2ce5f22c",
   "metadata": {},
   "outputs": [],
   "source": [
    "## code here\n",
    "\n",
    "\n"
   ]
  },
  {
   "cell_type": "markdown",
   "id": "850ab7f3",
   "metadata": {},
   "source": [
    "--------------------------\n",
    "\n",
    "This notebook was written for the Erd&#337;s Institute C&#337;de Data Science Boot Camp by Matthew Osborne, Ph. D., 2022.\n",
    "\n",
    "Any potential redistributors must seek and receive permission from Matthew Tyler Osborne, Ph.D. prior to redistribution. Redistribution of the material contained in this repository is conditional on acknowledgement of Matthew Tyler Osborne, Ph.D.'s original authorship and sponsorship of the Erdős Institute as subject to the license (see License.md)"
   ]
  },
  {
   "cell_type": "code",
   "execution_count": null,
   "id": "f6537f52",
   "metadata": {},
   "outputs": [],
   "source": []
  }
 ],
 "metadata": {
  "kernelspec": {
   "display_name": "Python 3 (ipykernel)",
   "language": "python",
   "name": "python3"
  },
  "language_info": {
   "codemirror_mode": {
    "name": "ipython",
    "version": 3
   },
   "file_extension": ".py",
   "mimetype": "text/x-python",
   "name": "python",
   "nbconvert_exporter": "python",
   "pygments_lexer": "ipython3",
   "version": "3.9.9"
  }
 },
 "nbformat": 4,
 "nbformat_minor": 5
}
