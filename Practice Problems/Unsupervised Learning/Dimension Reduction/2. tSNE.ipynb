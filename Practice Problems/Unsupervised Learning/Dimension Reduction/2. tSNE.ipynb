{
 "cells": [
  {
   "cell_type": "markdown",
   "metadata": {},
   "source": [
    "#  tSNE\n",
    "\n",
    "The problems in this notebook touch on $t$-distributed stochastic neighbors embedding. In particular this material corresponds to `Lectures/Unsupervised Learning/Dimension Reduction/2. tSNE`."
   ]
  },
  {
   "cell_type": "code",
   "execution_count": null,
   "metadata": {},
   "outputs": [],
   "source": [
    "## For data handling\n",
    "import pandas as pd\n",
    "import numpy as np\n",
    "\n",
    "## For plotting\n",
    "import matplotlib.pyplot as plt\n",
    "import seaborn as sns\n",
    "\n",
    "## This sets the plot style\n",
    "## to have a grid on a white background\n",
    "sns.set_style(\"whitegrid\")"
   ]
  },
  {
   "cell_type": "markdown",
   "metadata": {},
   "source": [
    "##### 1. Perplexity\n",
    "\n",
    "The perplexity you set for the tSNE algorithm can greatly impact its output. We will demonstrate this with the  following problem. First generate the data below, which is set up to produce two clusters."
   ]
  },
  {
   "cell_type": "code",
   "execution_count": null,
   "metadata": {},
   "outputs": [],
   "source": [
    "X = np.zeros((50,2))\n",
    "\n",
    "X[:25,:] = np.random.randn(25,2)\n",
    "X[25:,:] = np.random.randn(25,2) + np.array([4.5,4.5])"
   ]
  },
  {
   "cell_type": "markdown",
   "metadata": {},
   "source": [
    "Run this code to see what the data looks like."
   ]
  },
  {
   "cell_type": "code",
   "execution_count": null,
   "metadata": {},
   "outputs": [],
   "source": [
    "plt.figure(figsize=(10,10))\n",
    "\n",
    "plt.scatter(X[:25,0], X[:25,1], c='orange')\n",
    "plt.scatter(X[25:,0], X[25:,1], c='blue')\n",
    "\n",
    "\n",
    "plt.show()"
   ]
  },
  {
   "cell_type": "markdown",
   "metadata": {},
   "source": [
    "For every perplexity value from $i=2$ to $i=75$ in steps of $2$ fit run the data through tSNE with `perplexity = i`. Plot the tSNE transformed data. What do you see as $i$ increases?"
   ]
  },
  {
   "cell_type": "code",
   "execution_count": null,
   "metadata": {},
   "outputs": [],
   "source": []
  },
  {
   "cell_type": "code",
   "execution_count": null,
   "metadata": {
    "scrolled": false
   },
   "outputs": [],
   "source": []
  },
  {
   "cell_type": "markdown",
   "metadata": {},
   "source": [
    "For low values of $i$, the tSNE fit appears to have many small clusters. As we increase $i$ the actual clustering  behavior of the  data set is better captured, while the distance between points or clusters is not always well preserved. Eventually when $i$ gets too large, the fit seems to put the data in one large cluster."
   ]
  },
  {
   "cell_type": "markdown",
   "metadata": {},
   "source": [
    "##### 2 Additional reading\n",
    "\n",
    "For some additional reading regarding effective use of tSNE see the excellently written blog post, <a href=\"https://distill.pub/2016/misread-tsne/\">https://distill.pub/2016/misread-tsne/</a>."
   ]
  },
  {
   "cell_type": "markdown",
   "metadata": {},
   "source": [
    "--------------------------\n",
    "\n",
    "This repository was written for the 2021 Erdős Institute Fall Data Science Semester by Matthew Osborne, Ph. D., 2021.\n",
    "\n",
    "Any potential redistributors must seek and receive permission from Matthew Tyler Osborne, Ph.D. prior to redistribution. Redistribution of the material contained in this repository is conditional on acknowledgement of Matthew Tyler Osborne, Ph.D.'s original authorship and sponsorship of the Erdős Institute. (see License.md)"
   ]
  },
  {
   "cell_type": "code",
   "execution_count": null,
   "metadata": {},
   "outputs": [],
   "source": []
  }
 ],
 "metadata": {
  "kernelspec": {
   "display_name": "Python 3 (ipykernel)",
   "language": "python",
   "name": "python3"
  },
  "language_info": {
   "codemirror_mode": {
    "name": "ipython",
    "version": 3
   },
   "file_extension": ".py",
   "mimetype": "text/x-python",
   "name": "python",
   "nbconvert_exporter": "python",
   "pygments_lexer": "ipython3",
   "version": "3.9.9"
  }
 },
 "nbformat": 4,
 "nbformat_minor": 2
}
