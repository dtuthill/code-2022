{
 "cells": [
  {
   "cell_type": "markdown",
   "id": "b59137f5",
   "metadata": {},
   "source": [
    "# Boosting Methods\n",
    "\n",
    "In this notebook will be some additional problems regarding boosting ensemble learning methods. This material corresponds to lectures:\n",
    "- `Lectures/Supervised Learning/Ensemble Learning/4. Boosting`,\n",
    "- `Lectures/Supervised Learning/Ensemble Learning/5. AdaBoost`,\n",
    "- `Lectures/Supervised Learning/Ensemble Learning/6. Gradient Boosting` and\n",
    "- `Lectures/Supervised Learning/Ensemble Learning/7. XGBoost`."
   ]
  },
  {
   "cell_type": "code",
   "execution_count": null,
   "id": "92da2294",
   "metadata": {},
   "outputs": [],
   "source": [
    "## For data handling\n",
    "import pandas as pd\n",
    "import numpy as np\n",
    "\n",
    "## For plotting\n",
    "import matplotlib.pyplot as plt\n",
    "import seaborn as sns\n",
    "\n",
    "## This sets the plot style\n",
    "## to have a grid on a dark background\n",
    "sns.set_style(\"whitegrid\")"
   ]
  },
  {
   "cell_type": "markdown",
   "id": "8e825338",
   "metadata": {},
   "source": [
    "##### 1. AdaBoost Regression\n",
    "\n",
    "While we presented the AdaBoost algorithm with classification in mind, it can also be implemented for regression problems. For the theoretical details check out these two papers:\n",
    "\n",
    "- A Decision-Theoretic Generalization of On-Line Learning and an Application to Boosting, Freund and Schapire (1996), <a href=\"https://www.sciencedirect.com/science/article/pii/S002200009791504X\">https://www.sciencedirect.com/science/article/pii/S002200009791504X</a>.\n",
    "- Improving  Regressors  using  Boosting  Techniques, Drucker (1997), <a href=\"https://citeseerx.ist.psu.edu/viewdoc/download?doi=10.1.1.21.5683&rep=rep1&type=pdf\">https://citeseerx.ist.psu.edu/viewdoc/download?doi=10.1.1.21.5683&rep=rep1&type=pdf</a>.\n",
    "\n",
    "In `sklearn` an AdaBoost regression algorithm can be implemented with `AdaBoostRegressor`, <a href=\"https://scikit-learn.org/stable/modules/generated/sklearn.ensemble.AdaBoostRegressor.html\">https://scikit-learn.org/stable/modules/generated/sklearn.ensemble.AdaBoostRegressor.html</a>.\n",
    "\n",
    "Using a validation set approach, find the best value for `n_estimators` from $1$ to $40$ for an AdaBoost regressor with a decision tree with `max_depth=2` on the following data."
   ]
  },
  {
   "cell_type": "code",
   "execution_count": null,
   "id": "0e45a7bd",
   "metadata": {},
   "outputs": [],
   "source": [
    "baseball = pd.read_csv(\"../../../Data/baseball_run_diff.csv\")\n",
    "\n",
    "## make a train test split\n",
    "from sklearn.model_selection import train_test_split\n",
    "\n",
    "baseball_train, baseball_test = train_test_split(baseball.copy(), \n",
    "                                                    shuffle=True,\n",
    "                                                    random_state=314,\n",
    "                                                    test_size=.2)\n",
    "\n",
    "## make a validation set\n",
    "baseball_train_train, baseball_val = train_test_split(baseball_train.copy(), \n",
    "                                                        shuffle=True,\n",
    "                                                        random_state=13241,\n",
    "                                                        test_size=.2)"
   ]
  },
  {
   "cell_type": "code",
   "execution_count": null,
   "id": "d453f288",
   "metadata": {},
   "outputs": [],
   "source": [
    "## code here\n",
    "\n",
    "\n"
   ]
  },
  {
   "cell_type": "code",
   "execution_count": null,
   "id": "91bd90df",
   "metadata": {},
   "outputs": [],
   "source": [
    "## code here\n",
    "\n",
    "\n"
   ]
  },
  {
   "cell_type": "code",
   "execution_count": null,
   "id": "d9128bfe",
   "metadata": {},
   "outputs": [],
   "source": [
    "## code here\n",
    "\n",
    "\n"
   ]
  },
  {
   "cell_type": "code",
   "execution_count": null,
   "id": "513fbc9b",
   "metadata": {},
   "outputs": [],
   "source": [
    "## code here\n",
    "\n",
    "\n"
   ]
  },
  {
   "cell_type": "code",
   "execution_count": null,
   "id": "2233db98",
   "metadata": {},
   "outputs": [],
   "source": [
    "## code here\n",
    "\n",
    "\n"
   ]
  },
  {
   "cell_type": "markdown",
   "id": "56460e0d",
   "metadata": {},
   "source": [
    "##### 2. Gradient Boosting Classifier\n",
    "\n",
    "While we implemented gradient boosting for regression, it can also be used for classification problems.\n",
    "\n",
    "For the theoretical formulation check out these papers\n",
    "\n",
    "- Greedy function approximation: A gradient boosting machine, Friedman (2001), <a href=\"https://projecteuclid.org/journals/annals-of-statistics/volume-29/issue-5/Greedy-function-approximation-A-gradient-boosting-machine/10.1214/aos/1013203451.full\">https://projecteuclid.org/journals/annals-of-statistics/volume-29/issue-5/Greedy-function-approximation-A-gradient-boosting-machine/10.1214/aos/1013203451.full</a>.\n",
    "- The Elements of Statistical Learning, <a href=\"https://web.stanford.edu/~hastie/ElemStatLearn/\">https://web.stanford.edu/~hastie/ElemStatLearn/</a>\n",
    "\n",
    "In `sklearn` a gradient boosting classification model can be implemented with `GradientBoostingClassifier`, <a href=\"https://scikit-learn.org/stable/modules/generated/sklearn.ensemble.GradientBoostingClassifier.html\">https://scikit-learn.org/stable/modules/generated/sklearn.ensemble.GradientBoostingClassifier.html</a>.\n",
    "\n",
    "Use a validation set to find the value of `n_estimators` that gives the best TPR and the `n_estimators` that gives the best FPR."
   ]
  },
  {
   "cell_type": "code",
   "execution_count": null,
   "id": "05e10dbb",
   "metadata": {},
   "outputs": [],
   "source": [
    "from sklearn.datasets import load_breast_cancer"
   ]
  },
  {
   "cell_type": "code",
   "execution_count": null,
   "id": "60f93c47",
   "metadata": {},
   "outputs": [],
   "source": [
    "## Loads the data from sklearn \n",
    "cancer = load_breast_cancer(as_frame=True)\n",
    "\n",
    "## the 'data' entry contains the features\n",
    "X = cancer['data']\n",
    "\n",
    "## the 'target' entry contains what we would like to predict\n",
    "y = cancer['target']"
   ]
  },
  {
   "cell_type": "code",
   "execution_count": null,
   "id": "3cd0ca0d",
   "metadata": {},
   "outputs": [],
   "source": [
    "X_train, X_test, y_train, y_test = train_test_split(X, y,\n",
    "                                                       shuffle=True,\n",
    "                                                       random_state=354,\n",
    "                                                       test_size=.2,\n",
    "                                                       stratify=y)\n",
    "\n",
    "X_train_train, X_val, y_train_train, y_val = train_test_split(X_train, y_train,\n",
    "                                                               shuffle=True,\n",
    "                                                               random_state=35433,\n",
    "                                                               test_size=.2,\n",
    "                                                               stratify=y_train)"
   ]
  },
  {
   "cell_type": "code",
   "execution_count": null,
   "id": "4cfb846d",
   "metadata": {},
   "outputs": [],
   "source": [
    "## code here\n",
    "\n",
    "\n"
   ]
  },
  {
   "cell_type": "code",
   "execution_count": null,
   "id": "18200b8b",
   "metadata": {},
   "outputs": [],
   "source": [
    "## code here\n",
    "\n",
    "\n"
   ]
  },
  {
   "cell_type": "code",
   "execution_count": null,
   "id": "edba2373",
   "metadata": {},
   "outputs": [],
   "source": [
    "## code here\n",
    "\n",
    "\n"
   ]
  },
  {
   "cell_type": "code",
   "execution_count": null,
   "id": "00ee4ef7",
   "metadata": {},
   "outputs": [],
   "source": [
    "## code here\n",
    "\n",
    "\n"
   ]
  },
  {
   "cell_type": "markdown",
   "id": "370d38c8",
   "metadata": {},
   "source": [
    "##### 3. Classification in `XGBoost`\n",
    "\n",
    "You can build a gradient boosting classifier in `XGBoost` with `XGBClassifier`, <a href=\"https://xgboost.readthedocs.io/en/latest/python/python_api.html#xgboost.XGBClassifier\">https://xgboost.readthedocs.io/en/latest/python/python_api.html#xgboost.XGBClassifier</a>. rewrite your code for 2. above, using `XGBClassifier` rather than `GradientBoostingClassifier`."
   ]
  },
  {
   "cell_type": "code",
   "execution_count": null,
   "id": "270ddae7",
   "metadata": {},
   "outputs": [],
   "source": [
    "## code here\n",
    "\n",
    "\n"
   ]
  },
  {
   "cell_type": "code",
   "execution_count": null,
   "id": "bcb0de3e",
   "metadata": {},
   "outputs": [],
   "source": [
    "## code here\n",
    "\n",
    "\n"
   ]
  },
  {
   "cell_type": "code",
   "execution_count": null,
   "id": "c7e80d6d",
   "metadata": {},
   "outputs": [],
   "source": [
    "## code here\n",
    "\n",
    "\n"
   ]
  },
  {
   "cell_type": "code",
   "execution_count": null,
   "id": "fbf55aed",
   "metadata": {},
   "outputs": [],
   "source": [
    "## code here\n",
    "\n",
    "\n"
   ]
  },
  {
   "cell_type": "code",
   "execution_count": null,
   "id": "151eee42",
   "metadata": {},
   "outputs": [],
   "source": [
    "## code here\n",
    "\n",
    "\n"
   ]
  },
  {
   "cell_type": "markdown",
   "id": "eff1d3bd",
   "metadata": {},
   "source": [
    "--------------------------\n",
    "\n",
    "This notebook was written for the Erd&#337;s Institute C&#337;de Data Science Boot Camp by Matthew Osborne, Ph. D., 2022.\n",
    "\n",
    "Any potential redistributors must seek and receive permission from Matthew Tyler Osborne, Ph.D. prior to redistribution. Redistribution of the material contained in this repository is conditional on acknowledgement of Matthew Tyler Osborne, Ph.D.'s original authorship and sponsorship of the Erdős Institute as subject to the license (see License.md)"
   ]
  },
  {
   "cell_type": "code",
   "execution_count": null,
   "id": "f97c6230",
   "metadata": {},
   "outputs": [],
   "source": []
  }
 ],
 "metadata": {
  "kernelspec": {
   "display_name": "Python 3 (ipykernel)",
   "language": "python",
   "name": "python3"
  },
  "language_info": {
   "codemirror_mode": {
    "name": "ipython",
    "version": 3
   },
   "file_extension": ".py",
   "mimetype": "text/x-python",
   "name": "python",
   "nbconvert_exporter": "python",
   "pygments_lexer": "ipython3",
   "version": "3.9.9"
  }
 },
 "nbformat": 4,
 "nbformat_minor": 5
}
