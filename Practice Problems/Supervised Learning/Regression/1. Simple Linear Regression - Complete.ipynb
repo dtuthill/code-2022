{
 "cells": [
  {
   "cell_type": "markdown",
   "metadata": {},
   "source": [
    "# Simple Linear Regression\n",
    "\n",
    "In this notebook are some exercises to gain more experience with the material presented in the `Lectures/Supervised Learning/Regression/Simple Linear Regression` notebook.\n",
    "\n",
    "These problems provide some practice fitting models, and provide a stronger theoretical understanding of the technique as well."
   ]
  },
  {
   "cell_type": "code",
   "execution_count": 1,
   "metadata": {},
   "outputs": [],
   "source": [
    "## import the packages we'll use\n",
    "## For data handling\n",
    "import pandas as pd\n",
    "import numpy as np\n",
    "from numpy import meshgrid\n",
    "\n",
    "## For plotting\n",
    "import matplotlib.pyplot as plt\n",
    "import seaborn as sns\n",
    "\n",
    "## This sets the plot style\n",
    "## to have a grid on a white background\n",
    "sns.set_style(\"whitegrid\")"
   ]
  },
  {
   "cell_type": "markdown",
   "metadata": {},
   "source": [
    "## Theoretical Questions\n",
    "\n",
    "<b>Note: These questions cover some of the more theoretical concepts behind the algorithms/models we cover in the lecture videos/problem sessions. Sometimes these theoretical questions will require some knowledge of mathematics/statistics. If you approach a problem and you don't think that you have that knowledge yet, that's okay! You can always come back to that question at a later time :)</b>"
   ]
  },
  {
   "cell_type": "markdown",
   "metadata": {},
   "source": [
    "##### 1. An introduction to maximum likelihood estimation (MLE)\n",
    "\n",
    "In this question we will introduce the concept of maximum likelihood estimation to derive the formula for $\\hat{\\beta_1}$. Assume the standard SLR assumptions. Let $y$ denote the target variable, let $x$ denote the feature variable and suppose the true relationship between $y$ and $x$ is $y = \\beta_0 + \\beta_1 x + \\epsilon$. As usual assume there are $n$ observations.\n",
    "\n",
    "For now let's look at the first observation, $(x_1,y_1)$. The likelihood of observing $y_1$ given $x_1$ is\n",
    "$$\n",
    "f\\left(y_1|x_1;\\beta_0,\\beta_1\\right) = \\frac{1}{\\sqrt{2\\pi\\sigma^2}} \\exp\\left(-\\frac{1}{2}\\frac{\\left(y_1 - \\left(\\beta_0 + \\beta_1 x_1\\right)\\right)^2}{\\sigma^2}\\right)\n",
    "$$\n",
    "because we have assumed that $\\epsilon\\sim N(0,\\sigma)$. You can think of this as the probability of observing $y_1$ given $x_1$ and our model parameters. The goal of maximum likelihood estimation is to choose the parameters, in this case $\\beta_0$ and $\\beta_1$, that maximize the likelihood. \n",
    "\n",
    "Because we have assumed independence of our observations the likelihood of observing $y$ given $x$ is:\n",
    "$$\n",
    "f\\left(y|x;\\beta_0,\\beta_1\\right) = \\prod_{i=1}^n f\\left(y_i|x_i;\\beta_0,\\beta_1\\right) = \\prod_{i=1}^n \\frac{1}{\\sqrt{2\\pi\\sigma^2}} \\exp\\left(-\\frac{1}{2}\\frac{\\left(y_i - \\left(\\beta_0 + \\beta_1 x_i\\right)\\right)^2}{\\sigma^2}\\right)\n",
    "$$\n",
    "\n",
    "Take the partial derivatives of $f\\left(y|x;\\beta_0,\\beta_1\\right)$ with respect to $\\beta_0$ and $\\beta_1$, then set these equal to $0$ and solve to find the maximum likelihood estimator for simple linear regression.\n",
    "\n",
    "Hint: Try maximizing $\\log\\left(f\\left(y|x;\\beta_0,\\beta_1\\right)\\right)$ instead, because $\\log$ is a strictly increasing function this is the same as maximizing $f\\left(y|x;\\beta_0,\\beta_1\\right)$."
   ]
  },
  {
   "cell_type": "markdown",
   "metadata": {},
   "source": [
    "##### ANSWER\n",
    "\n",
    "Ignoring the constant in front we have that \n",
    "\n",
    "$$\n",
    "\\log \\left(f(y_i|x=x_i)\\right) = -\\frac{1}{2}\\frac{(y_i - (\\beta_0 + \\beta_1x_i))^2}{\\sigma^2}.\n",
    "$$\n",
    "\n",
    "So $\\partial_{\\beta_0} \\log \\left(f(y_i|x=x_i)\\right) = (y_i - (\\beta_0 + \\beta_1 x_i))/\\sigma^2$, and $\\partial_{\\beta_1} \\log \\left(f(y_i|x=x_i)\\right) = x_i(y_i - (\\beta_0 + \\beta_1 x_i))/\\sigma^2$\n",
    "\n",
    "\n",
    "\n",
    "\n",
    "This implies that\n",
    "\n",
    "$$\n",
    "\\log \\left(f(y|x)\\right) = \\sum_{i=1}^n -\\frac{1}{2} \\frac{(y_i - (\\beta_0 + \\beta_1x_i))^2}{\\sigma^2},\n",
    "$$\n",
    "\n",
    "where again I have ignored the constant, and so\n",
    "\n",
    "$$\n",
    "\\partial_{\\beta_0} \\log \\left( f(y|x) \\right) = \\sum_{i=1}^n \\partial_{\\beta_0} \\left(f(y_i|x)\\right) = \\sum_{i=1}^n (y_i - (\\beta_0 + \\beta_1 x_i))/\\sigma^2 = (n \\overline{y} - n\\beta_0 + n\\beta_1 \\overline{x})/\\sigma^2.\n",
    "$$\n",
    "\n",
    "Setting this equal to $0$ and solving for $\\beta_0$ we find that the MLE is given by:\n",
    "\n",
    "$$\n",
    "\\hat{\\beta_0} = \\overline{y} - \\beta_1 \\overline{x},\n",
    "$$\n",
    "\n",
    "where we would estimate $\\beta_1$ with the MLE estimate.\n",
    "\n",
    "Also we have:\n",
    "\n",
    "$$\n",
    "\\partial_{\\beta_1} \\log \\left( f(y|x=x_i) \\right) = \\sum_{i=1}^n \\partial_{\\beta_1} \\left(f(y_i|x=x_i)\\right) = \\sum_{i=1}^n x_i(y_i - (\\beta_0 + \\beta_1 x_i))/\\sigma^2 = \\sum_{i=1}^n x_i y_i - \\beta_0 x_i - \\beta_1 x_i^2 = \\sum_{i=1}^n  x_i (y_i - \\overline{y}) + \\beta_1(\\overline{x}x_i -  x_i^2 )\n",
    "$$\n",
    "\n",
    "Now notice that $\\sum_{i=1}^n x_i^2 -  \\overline{x}x_i = E(x^2) - E(x)^2 = \\sigma_x^2$, and $\\sum_{i=1}^n  x_i (y_i - \\overline{y}) = \\text{cov}(x,y)$ so setting it equal to $0$ and solving for $\\beta_1$ gives:\n",
    "\n",
    "$$\n",
    "\\hat{\\beta_1} = \\frac{\\text{cov}(x,y)}{\\sigma_x^2},\n",
    "$$\n",
    "\n",
    "note that for equality here we are using the estimates from the sample, this equality is only approximate when thinking of the random variables $x$ and $y$."
   ]
  },
  {
   "cell_type": "markdown",
   "metadata": {},
   "source": [
    "##### 2. Deriving the Standard Error for $\\hat{\\beta_0}$ and $\\hat{\\beta_1}$\n",
    "\n",
    "When we estimate a parameter, say $\\theta$, we call the estimate of that parameter, $\\hat{\\theta}$, a statistic. Because we use a random sample of data observations to find $\\hat{\\theta}$, it has what is known as a sampling distribution. The standard error of an estimate is a measure of the variability of $\\hat{\\theta}$. You can find the standard error of the estimate, $\\hat{\\theta}$ by taking the square root of the variance of the estimate. \n",
    "\n",
    "Recall that the formula for $\\hat{\\beta_0}$ and $\\hat{\\beta_1}$ from SLR are:\n",
    "- $\\hat{\\beta_1} = \\frac{\\sum_{i=1}^n \\left( x_i - \\overline{x} \\right)\\left( y_i - \\overline{y} \\right)}{\\sum_{i=1}^n \\left( x_i - \\overline{x} \\right)^2}$ \n",
    "\n",
    "- $\\hat{\\beta_0} = \\overline{y} - \\hat{\\beta_1} \\overline{x}$\n",
    "\n",
    "First find the standard error of $\\hat{\\beta_1}$, then use that to find the standard error of $\\hat{\\beta_0}$. \n",
    "\n",
    "Hint: Recall that $\\overline{y} = \\sum_{i=1}^n y_i/n$ and $y_i = \\beta_0 + \\beta_1 x_i + \\epsilon_i$."
   ]
  },
  {
   "cell_type": "markdown",
   "metadata": {},
   "source": [
    "##### ANSWER\n",
    "\n",
    "Recall that for an estimate, $\\hat{\\theta}$ the standard error is just $\\sqrt{\\text{Var}(\\hat{\\theta})}$, so we just need to derive the variances.\n",
    "\n",
    "We start with $\\hat{\\beta_0}$.\n",
    "\n",
    "$$\n",
    "\\text{Var}(\\hat{\\beta_0}) = \\text{Var}\\left(\\overline{y} - \\hat{\\beta_1}\\overline{x}\\right) = \\text{Var}\\left(\\sum_{i=1}^n (\\beta_0 + \\beta_1x_i + \\epsilon_i)/n \\right) - \\overline{x}^2 \\text{Var}(\\hat{\\beta_1}) = \\frac{\\sigma^2}{n} - \\overline{x}^2 \\text{Var}(\\hat{\\beta_1}).\n",
    "$$\n",
    "\n",
    "Note that we are using the independence of the observations assumption to bring the Variance into the sum with no covariance terms.\n",
    "\n",
    "Now we just need the variance for $\\hat{\\beta_1}$. Notice that the only randomness in the formula for $\\hat{\\beta_1}$ is in the numerator. So we will focus on that.\n",
    "\n",
    "$$\n",
    "\\sum_{i=1}^n \\left(x_i - \\overline{x}\\right) \\left(y_i - \\overline{y}\\right) = \\sum_{i=1}^n \\left(x_i - \\overline{x} \\right)y_i = \\sum_{i=1}^n \\left(x_i - \\overline{x} \\right) \\left( \\beta_0 + \\beta_1 x_i + \\epsilon_i \\right),\n",
    "$$\n",
    "\n",
    "and thus\n",
    "\n",
    "$$\n",
    "\\text{Var}(\\hat{\\beta_1}) = \\frac{\\text{Var}\\left( \\sum_{i=1}^n \\left(x_i - \\overline{x} \\right) \\left( \\beta_0 + \\beta_1 x_i + \\epsilon_i \\right) \\right)}{\\left(\\sum_{i=1}^n \\left( x_i - \\overline{x} \\right)^2\\right)^2} = \\frac{\\sum_{i=1}^n \\text{Var}\\left( (x_i - \\overline{x})\\epsilon_i \\right) }{\\left(\\sum_{i=1}^n \\left( x_i - \\overline{x} \\right)^2\\right)^2} = \\frac{\\sigma^2}{\\sum_{i=1}^n \\left( x_i - \\overline{x} \\right)^2},\n",
    "$$\n",
    "\n",
    "where again we are implicitly using the independence assumption.\n",
    "\n",
    "Taking the square root of the two equations above gives the standard error. Also note that in practice you have to use the sample estimate of $\\sigma^2$ which is $\\frac{\\sum_{i=1}^n\\left(y_i - \\hat{y_i}\\right)^2}{n-2} \\approx MSE$."
   ]
  },
  {
   "cell_type": "markdown",
   "metadata": {},
   "source": [
    "##### 3. Deriving the Standard Error for $E(y|x=x^*)$\n",
    "\n",
    "Use the solution to 2. to find the standard error of $E(y|x=x^*)$."
   ]
  },
  {
   "cell_type": "markdown",
   "metadata": {},
   "source": [
    "##### ANSWER\n",
    "\n",
    "Recall that:\n",
    "\n",
    "$$\n",
    "E(y|x=x^*) = \\hat{\\beta_0} + \\hat{\\beta_1} x^*, \\text{so}\n",
    "$$\n",
    "\n",
    "$$\n",
    "\\text{Var}\\left(E(y|x=x^*)\\right) = \\text{Var}\\left( \\hat{\\beta_0} + \\hat{\\beta_1} x^* \\right) = \\text{Var}(\\hat{\\beta_0}) + x^{*2} \\text{Var}(\\hat{\\beta_1}) = \\frac{\\sigma^2}{n} + \\left( x^{*2} - \\overline{x}^2 \\right) \\frac{\\sigma^2}{\\sum_{i=1}^n \\left( x_i - \\overline{x} \\right)^2}\n",
    "$$\n",
    "\n",
    "$$\n",
    "= \\sigma^2 \\left( \\frac{1}{n} +  \\frac{\\left( x^{*2} - \\overline{x}^2 \\right)}{\\sum_{i=1}^n \\left( x_i - \\overline{x} \\right)^2} \\right).\n",
    "$$\n",
    "\n",
    "To get to the final step we can recall that the estimator for $\\hat{\\sigma^2} = \\frac{\\sum_{i=1}^n\\left(y_i - \\hat{y_i}\\right)^2}{n-2}$ and $s_x^2 = \\hat{\\sigma^2_x} =   \\frac{\\sum_{i=1}^n \\left( x_i - \\overline{x} \\right)^2}{n-1}$."
   ]
  },
  {
   "cell_type": "markdown",
   "metadata": {},
   "source": [
    "##### Application of previous answer: Confidence Interval for the Regression Line\n",
    "\n",
    "Let's take a look back at the model we're fitting:\n",
    "$$\n",
    "y = f(x) + \\epsilon = \\beta_0 + \\beta_1x + \\epsilon,\n",
    "$$\n",
    "where $\\epsilon$ is a vector of independent $\\epsilon_i \\sim N(0,\\sigma^2)$ for all $i$.\n",
    "\n",
    "Now take the expectation on both sides:\n",
    "$$\n",
    "E(y) = E(\\beta_0 + \\beta_1x + \\epsilon) = \\beta_0 + \\beta_1E(x) + E(\\epsilon) = \\beta_0 + \\beta_1E(x),\n",
    "$$\n",
    "this is where we got the formula for $\\hat{\\beta_0}$. \n",
    "\n",
    "Now let's say we know the value of $x$ for example $x^*$, in probability terms we're now looking at $y$ conditional on $X=x^*$ (denoted $y|x=x^*$), and then take the expectation:\n",
    "$$\n",
    "E(y|x=x^*) =  \\beta_0 + \\beta_1E(x^*) = \\beta_0 + \\beta_1 x^*,\n",
    "$$\n",
    "because we are looking at a specific value of $X$ so it is no longer random. \n",
    "\n",
    "So the regression line we've been plotting is actually a series of point estimates for the mean value of $y$ given a specific value of $x$. We've been denoting these point estimates as $\\hat{y}$. \n",
    "\n",
    "Just like we gave a confidence interval for $\\beta_1$ using our point estimate $\\hat{\\beta_1}$ we can give a confidence interval for $y|x$ using our point estimate $\\hat{y}$. The formula for the confidence interval for $E(y|x=x^*)$ is:\n",
    "$$\n",
    "\\hat{y} \\pm t_{n-2,(1-\\alpha/2)}\\sqrt{\\frac{\\sum_{i=1}^n\\left(y_i - \\hat{y_i}\\right)^2}{n-2}}\\sqrt{\\frac{1}{n} + \\frac{\\left(x^* - \\overline{x}\\right)^2}{(n-1)s_x^2}} \\approx \\hat{y} \\pm t_{n-2,(1-\\alpha/2)}\\sqrt{MSE}\\sqrt{\\frac{1}{n} + \\frac{\\left(x^* - \\overline{x}\\right)^2}{(n-1)s_x^2}},\n",
    "$$\n",
    "where $n$ is the number of observations and $t_{n-2,(1-\\alpha/2)}$ is such that $P(T\\geq t_{n-2,(1-\\alpha/2)}) = \\alpha/2$ for a random variable $T$ with a Studentized $t$ distribution with $n-2$ degrees of freedom. This formula still follows the confidence interval pattern, where here the product of the square roots is the standard error of $E(y|x=x^*)$."
   ]
  },
  {
   "cell_type": "markdown",
   "metadata": {},
   "source": [
    "##### 4. Prediction Intervals for SLR\n",
    "\n",
    "Recall our discussion on confidence intervals for $E(y|x=x^*)$.\n",
    "\n",
    "In addition to a confidence interval for the conditional mean, you can also produce what are known as prediction intervals for $y|x=x^*$, which give us a sense of what reasonable lower and upper bounds are for $y|x=x^*$ for a given confidence level, $1-\\alpha$.\n",
    "\n",
    "Recall that the $(1-\\alpha)$ confidence interval formula for $E(y|x=x^*)$ was given by:\n",
    "$$\n",
    "\\hat{y} \\pm t_{n-2,(1-\\alpha/2)}\\sqrt{\\frac{\\sum_{i=1}^n\\left(y_i - \\hat{y_i}\\right)^2}{n-2}}\\sqrt{\\frac{1}{n} + \\frac{\\left(x^* - \\overline{x}\\right)^2}{(n-1)s_x^2}},\n",
    "$$\n",
    "\n",
    "The formula for the $(1-\\alpha)$ prediction interval is quite similar:\n",
    "$$\n",
    "\\hat{y} \\pm t_{n-2,(1-\\alpha/2)}\\sqrt{\\frac{\\sum_{i=1}^n\\left(y_i - \\hat{y_i}\\right)^2}{n-2}}\\sqrt{1 + \\frac{1}{n} + \\frac{\\left(x^* - \\overline{x}\\right)^2}{(n-1)s_x^2}}.\n",
    "$$\n",
    "The addition of $1$ in the second square root refelects the extra uncertainty involved in predicting the actual $y$ value for a value of $x$, and comes from the error term in the statistical models, $\\epsilon$. This does not show up with the confidence interval because remember $E(\\bullet)$ is linear and $E(\\epsilon)$ is assumed to be $0$."
   ]
  },
  {
   "cell_type": "markdown",
   "metadata": {},
   "source": [
    "##### 5. Carefully considering your data\n",
    "\n",
    "Read through this excellent article on how survivor and selection bias can impact the results of your linear regression. <i>Note: the model used in the article is a nonlinear regression, but the findings would be similar for simple linear regression</i>.\n",
    "    \n",
    "<a href=\"https://fivethirtyeight.com/features/faster-nfl-prospects-arent-always-better/\">https://fivethirtyeight.com/features/faster-nfl-prospects-arent-always-better/</a>."
   ]
  },
  {
   "cell_type": "markdown",
   "metadata": {},
   "source": [
    "##### 6. Mean absolute error\n",
    "\n",
    "When solving for the \"best\" estimates of $\\beta_0$ and $\\beta_1$ we minimized the mean squared error (MSE). This results in what is known as the Ordinary Least Squares estimates which have a number of desirable properties under the assumptions of linear regression. Alternatively we could have tried to minimize the mean absolute error (MAE) which is given more generally by:\n",
    "\n",
    "$$\n",
    "\\frac{1}{n} \\sum_{i=1}^n |y_i - \\hat{f}(X_i)|.\n",
    "$$\n",
    "\n",
    "One reason that this is not typically done is that the absolute value is not differentiable everywhere, making optimization annoying. However, as a metric the MAE is more \"robust\", meaning that a regression line fit by minimizing the MAE is less likely to drastically move if an outlier is added to or removed from the data set. \n",
    "\n",
    "To see this we return to a supervised learning framework where we use $m$ features stored in $X$ to predict $y$ by estimating this model:\n",
    "\n",
    "$$\n",
    "y = f(X) + \\epsilon.\n",
    "$$\n",
    "\n",
    "When estimating $f$ using the squared errors we want to minimize:\n",
    "\n",
    "$$\n",
    "E\\left(y - f(X) \\right)^2.\n",
    "$$\n",
    "\n",
    "It turns out that this is minimized exactly when:\n",
    "\n",
    "$$\n",
    "f(X) = E(y|X).\n",
    "$$\n",
    "\n",
    "Conversely, when estimating $f$ using the absolute errors we want to minimize:\n",
    "\n",
    "$$\n",
    "E \\left( | y - f(X) | \\right),\n",
    "$$\n",
    "\n",
    "which is minimized when:\n",
    "\n",
    "$$\n",
    "f(X) = \\text{median}\\left(y | X \\right),\n",
    "$$\n",
    "\n",
    "for an argument of why this is true see <a href=\"visualizing_the_median.pdf\">Visualizing the Median as the Minimum-Deviation Location</a> in this folder.\n",
    "\n",
    "As a statistic, the median is more robust to outliers than the mean, which explains why minimizing the MAE leads to more \"robust\" regression than minimizing the MSE. This more robust version of regression can be implemented in `sklearn` with `RANSACRegressor`, <a href=\"https://scikit-learn.org/stable/modules/generated/sklearn.linear_model.RANSACRegressor.html#sklearn.linear_model.RANSACRegressor\">https://scikit-learn.org/stable/modules/generated/sklearn.linear_model.RANSACRegressor.html#sklearn.linear_model.RANSACRegressor</a>."
   ]
  },
  {
   "cell_type": "markdown",
   "metadata": {},
   "source": [
    "## Applied Questions\n",
    "\n",
    "##### 1. Origins of Regression to the Mean.\n",
    "\n",
    "Load in the data set `galton.csv` located in the `Data` folder.\n",
    "\n",
    "Create two subsets called `male` and `female`. \n",
    "\n",
    "Then reset the `father` variable in the `male` data set so that it is centered at the average `father` height. Do the same for the `mother` variable in the `female` data set.\n",
    "\n",
    "For the `male` data regress height on the father's height, for the female data regress height on the mother's height.\n",
    "\n",
    "Look at the estimates for $\\hat{\\beta_1}$ in both cases, what do these estimmates suggest about the height of the next generation?\n",
    "\n",
    "<i>Note that for this problem you do not need to worry about doing a train test split, this is because we will not be making a predictive model.</i>"
   ]
  },
  {
   "cell_type": "code",
   "execution_count": 2,
   "metadata": {},
   "outputs": [],
   "source": [
    "# Read in the data\n",
    "galton = pd.read_csv(\"../../../Data/galton.csv\")\n",
    "\n",
    "# subset the data\n",
    "male = galton.loc[galton.sex == 'M',].copy()\n",
    "male['father'] = male['father'] - male.father.mean()\n",
    "female = galton.loc[galton.sex == 'F',].copy()\n",
    "female['mother'] = female['mother'] - female.mother.mean()"
   ]
  },
  {
   "cell_type": "code",
   "execution_count": 3,
   "metadata": {},
   "outputs": [],
   "source": [
    "# I'll use sklearn because it is quicker\n",
    "from sklearn.linear_model import LinearRegression"
   ]
  },
  {
   "cell_type": "code",
   "execution_count": 4,
   "metadata": {},
   "outputs": [
    {
     "data": {
      "text/plain": [
       "LinearRegression()"
      ]
     },
     "execution_count": 4,
     "metadata": {},
     "output_type": "execute_result"
    }
   ],
   "source": [
    "# Regression for the female data\n",
    "slr_mother = LinearRegression(copy_X = True)\n",
    "\n",
    "slr_mother.fit(female.mother.values.reshape(-1,1), female.height.values)\n",
    "\n",
    "# Regression for the male data\n",
    "slr_father = LinearRegression(copy_X = True)\n",
    "\n",
    "slr_father.fit(male.father.values.reshape(-1,1), male.height.values)"
   ]
  },
  {
   "cell_type": "code",
   "execution_count": 5,
   "metadata": {},
   "outputs": [
    {
     "data": {
      "image/png": "[encoded data removed]",
      "text/plain": [
       "<Figure size 576x432 with 1 Axes>"
      ]
     },
     "metadata": {},
     "output_type": "display_data"
    }
   ],
   "source": [
    "# Plot the line\n",
    "plt.figure(figsize=(8,6))\n",
    "\n",
    "xs = np.linspace(female.mother.min()-3,\n",
    "                 female.mother.max()+3,\n",
    "                 20)\n",
    "line = slr_mother.predict(xs.reshape(-1,1))\n",
    "\n",
    "plt.scatter(female.mother, female.height, alpha = .6, label = \"Data\")\n",
    "plt.plot(xs, line,'k', linewidth = 2, label =\"Regression Line\")\n",
    "\n",
    "plt.xlabel(\"Centered Mother Height\", fontsize=14)\n",
    "plt.ylabel(\"Daughter Height\", fontsize=14)\n",
    "\n",
    "plt.legend(fontsize=12)\n",
    "\n",
    "\n",
    "plt.show()"
   ]
  },
  {
   "cell_type": "code",
   "execution_count": 6,
   "metadata": {},
   "outputs": [
    {
     "data": {
      "image/png": "[encoded data removed]",
      "text/plain": [
       "<Figure size 576x432 with 1 Axes>"
      ]
     },
     "metadata": {},
     "output_type": "display_data"
    }
   ],
   "source": [
    "# Plot the line\n",
    "plt.figure(figsize=(8,6))\n",
    "\n",
    "xs = np.linspace(male.father.min()-3,\n",
    "                 male.father.max()+3,\n",
    "                 20)\n",
    "line = slr_father.predict(xs.reshape(-1,1))\n",
    "\n",
    "plt.scatter(male.father, male.height, alpha = .6, label = \"Data\")\n",
    "plt.plot(xs, line,'k', linewidth = 2, label =\"Regression Line\")\n",
    "\n",
    "plt.xlabel(\"Centered Father Height\", fontsize=14)\n",
    "plt.ylabel(\"Son Height\", fontsize=14)\n",
    "\n",
    "plt.legend(fontsize=12)\n",
    "\n",
    "\n",
    "plt.show()"
   ]
  },
  {
   "cell_type": "code",
   "execution_count": 7,
   "metadata": {},
   "outputs": [
    {
     "name": "stdout",
     "output_type": "stream",
     "text": [
      "The estimate of beta_1_hat for the line regressing daughter height on mother height is 0.3266\n",
      "The estimate of beta_1_hat for the line regressing son height on father height is 0.4477\n"
     ]
    }
   ],
   "source": [
    "print(\"The estimate of beta_1_hat for the line regressing\",\n",
    "      \"daughter height on mother height is\", \n",
    "      np.round(slr_mother.coef_[0], 4))\n",
    "\n",
    "\n",
    "print(\"The estimate of beta_1_hat for the line regressing\",\n",
    "      \"son height on father height is\", \n",
    "      np.round(slr_father.coef_[0], 4))"
   ]
  },
  {
   "cell_type": "markdown",
   "metadata": {},
   "source": [
    "Both estimates suggest that a child whose parent is tall is likely to be shorter than their parent, while a child whose parent is short is likely to be taller than their parent."
   ]
  },
  {
   "cell_type": "markdown",
   "metadata": {},
   "source": [
    "##### 1. b) A Paradox?\n",
    "\n",
    "This phenomenon, where a child's height usually reverts to the population mean, would suggest that over time the population should converge to the average, right? \n",
    "\n",
    "What is incorrect with this line of reasoning?"
   ]
  },
  {
   "cell_type": "markdown",
   "metadata": {},
   "source": [
    "##### ANSWER\n",
    "\n",
    "It is true, based on the data we have, that predicted child height is closer to the population average height than their parent's height. However there is a difference between actual height and predicted height, a difference determined by $\\epsilon$. Recall the image of the bell curves centered on the regression line. Under the assumptions of slr we could even derive an estimate of the probability that a child is taller than their tall parent or shorter than their short parent. Both of which would be nonzero."
   ]
  },
  {
   "cell_type": "markdown",
   "metadata": {},
   "source": [
    "##### 2. Estimating the standard deviation of $\\epsilon$.\n",
    "\n",
    "Recall that we assumed:\n",
    "\n",
    "$$\n",
    "y = \\beta_0 + \\beta_1 x + \\epsilon,\n",
    "$$\n",
    "\n",
    "where $\\epsilon$ is a normally distributed random variable with variance $\\sigma^2$.\n",
    "\n",
    "\n",
    "It is often useful for us to have an estimate of $\\sigma$ because it allows us to give reasonable guesses for the possible values of $y$ for a given value of $x$.\n",
    "\n",
    "We estimate $\\sigma$ by finding the standard deviation of the <i>residuals</i>, which are the predicted values minus the actual values or:\n",
    "\n",
    "$$\n",
    "\\hat{y} - y.\n",
    "$$\n",
    "\n",
    "So if we have $n$ observations we have the following estimate for $\\sigma$:\n",
    "\n",
    "$$\n",
    "\\hat{\\sigma} = \\sqrt{\\frac{\\sum_{i=1}^n (y_i - \\hat{y}_i)^2}{n-2}} \\approx RMSE\n",
    "$$\n",
    "\n",
    "Load in this phony data, fit a simple linear regression model on it and estimate $\\sigma$."
   ]
  },
  {
   "cell_type": "code",
   "execution_count": 8,
   "metadata": {},
   "outputs": [],
   "source": [
    "x = 8*np.random.random(100) - 4\n",
    "y = 2*x + 3*np.random.randn(100)"
   ]
  },
  {
   "cell_type": "code",
   "execution_count": 9,
   "metadata": {},
   "outputs": [
    {
     "data": {
      "text/plain": [
       "LinearRegression()"
      ]
     },
     "execution_count": 9,
     "metadata": {},
     "output_type": "execute_result"
    }
   ],
   "source": [
    "slr = LinearRegression(copy_X=True)\n",
    "\n",
    "slr.fit(x.reshape(-1,1), y)"
   ]
  },
  {
   "cell_type": "code",
   "execution_count": 10,
   "metadata": {},
   "outputs": [],
   "source": [
    "sigma_hat = np.sqrt(np.sum(np.power(y-slr.predict(x.reshape(-1,1)),2))/(len(y)-2))"
   ]
  },
  {
   "cell_type": "code",
   "execution_count": 11,
   "metadata": {},
   "outputs": [
    {
     "name": "stdout",
     "output_type": "stream",
     "text": [
      "The estimate sigma_hat is 2.899336888236626\n",
      "The actual value of sigma was 3\n"
     ]
    }
   ],
   "source": [
    "print(\"The estimate sigma_hat is\",sigma_hat)\n",
    "print(\"The actual value of sigma was\", 3)"
   ]
  },
  {
   "cell_type": "markdown",
   "metadata": {},
   "source": [
    "##### 3. Simulating data using your regression estimates\n",
    "\n",
    "We will end with one way you can use this estimate of $\\sigma$.\n",
    "\n",
    "Sometimes you may like to simulate \"new observations\" that follow the model you fit. This is possible using the fit   coefficient estimates and the estimate of $\\sigma$. To simulate new observations we just recall the simple linear regression model:\n",
    "\n",
    "$$\n",
    "y = \\beta_0 + \\beta_1 x + \\epsilon,\n",
    "$$\n",
    "\n",
    "which can be estimated with:\n",
    "\n",
    "$$\n",
    "\\hat{y} = \\hat{\\beta_0} + \\hat{\\beta_1} x + \\hat{\\epsilon}, \n",
    "$$\n",
    "\n",
    "where $\\hat{\\epsilon} \\sim N(0,\\hat{\\sigma}).$\n",
    "\n",
    "Simulate $100$ new observations of $y$ using the estimates you obtained in 2."
   ]
  },
  {
   "cell_type": "code",
   "execution_count": 12,
   "metadata": {},
   "outputs": [],
   "source": [
    "x = 8*np.random.random(100) - 4\n",
    "y = slr.intercept_ + slr.coef_[0]*x + sigma_hat * np.random.randn(100)"
   ]
  },
  {
   "cell_type": "code",
   "execution_count": 13,
   "metadata": {},
   "outputs": [
    {
     "data": {
      "image/png": "[encoded data removed]",
      "text/plain": [
       "<Figure size 576x576 with 1 Axes>"
      ]
     },
     "metadata": {},
     "output_type": "display_data"
    }
   ],
   "source": [
    "plt.figure(figsize=(8,8))\n",
    "\n",
    "plt.scatter(x, y)\n",
    "\n",
    "plt.show()"
   ]
  },
  {
   "cell_type": "markdown",
   "metadata": {},
   "source": [
    "##### 4. Regressing backwards\n",
    "\n",
    "What happens if we accidentally regress $x$ on $y$?\n",
    "\n",
    "a. Load the data below."
   ]
  },
  {
   "cell_type": "code",
   "execution_count": 14,
   "metadata": {},
   "outputs": [],
   "source": [
    "x = np.linspace(-10,10,1000)\n",
    "y = x + np.random.randn(1000)"
   ]
  },
  {
   "cell_type": "markdown",
   "metadata": {},
   "source": [
    "b. First, using either `numpy` or `sklearn` perform the regression correctly, meaning regress $y$ on $x$. Look at $\\hat{\\beta_1}$."
   ]
  },
  {
   "cell_type": "code",
   "execution_count": 15,
   "metadata": {},
   "outputs": [
    {
     "data": {
      "text/plain": [
       "0.9949585626963988"
      ]
     },
     "execution_count": 15,
     "metadata": {},
     "output_type": "execute_result"
    }
   ],
   "source": [
    "slr = LinearRegression(copy_X = True)\n",
    "\n",
    "slr.fit(x.reshape(-1,1), y)\n",
    "\n",
    "slr.coef_[0]"
   ]
  },
  {
   "cell_type": "markdown",
   "metadata": {},
   "source": [
    "c. Using either `numpy` or `sklearn` regress $x$ on $y$, then look at $\\hat{\\beta_1}$. Notice anything?"
   ]
  },
  {
   "cell_type": "code",
   "execution_count": 16,
   "metadata": {},
   "outputs": [
    {
     "data": {
      "text/plain": [
       "0.9751587655649008"
      ]
     },
     "execution_count": 16,
     "metadata": {},
     "output_type": "execute_result"
    }
   ],
   "source": [
    "slr = LinearRegression(copy_X = True)\n",
    "\n",
    "slr.fit(y.reshape(-1,1), x)\n",
    "\n",
    "slr.coef_[0]"
   ]
  },
  {
   "cell_type": "markdown",
   "metadata": {},
   "source": [
    "d. Now load in the new $y$ that has an $\\epsilon$ term with higher variance below, and refit the regression and look at $\\hat{\\beta_1}$. Notice anything?"
   ]
  },
  {
   "cell_type": "code",
   "execution_count": 17,
   "metadata": {},
   "outputs": [],
   "source": [
    "y = x + 2*np.random.randn(1000)"
   ]
  },
  {
   "cell_type": "code",
   "execution_count": 18,
   "metadata": {},
   "outputs": [
    {
     "data": {
      "text/plain": [
       "0.8816408023935716"
      ]
     },
     "execution_count": 18,
     "metadata": {},
     "output_type": "execute_result"
    }
   ],
   "source": [
    "slr = LinearRegression(copy_X = True)\n",
    "\n",
    "slr.fit(y.reshape(-1,1), x)\n",
    "\n",
    "slr.coef_[0]"
   ]
  },
  {
   "cell_type": "markdown",
   "metadata": {},
   "source": [
    "e. Finish the `for` loop code that records the $\\hat{\\beta_1}$ for errors with increasing variance."
   ]
  },
  {
   "cell_type": "code",
   "execution_count": 19,
   "metadata": {},
   "outputs": [],
   "source": [
    "beta_1_hats = []\n",
    "\n",
    "for c in np.linspace(.1,100,10000):\n",
    "    y = x + c*np.random.randn(1000)\n",
    "    \n",
    "    slr = LinearRegression()\n",
    "    \n",
    "    # fit the slr here\n",
    "    slr.fit(y.reshape(-1,1), x)\n",
    "    \n",
    "    # append the estimate to beta_1_hats here\n",
    "    beta_1_hats.append(slr.coef_[0])"
   ]
  },
  {
   "cell_type": "markdown",
   "metadata": {},
   "source": [
    "f. Plot the $\\hat{\\beta_1}$s as a function of `c`. What happened?"
   ]
  },
  {
   "cell_type": "code",
   "execution_count": 20,
   "metadata": {},
   "outputs": [
    {
     "data": {
      "image/png": "[encoded data removed]",
      "text/plain": [
       "<Figure size 720x720 with 1 Axes>"
      ]
     },
     "metadata": {},
     "output_type": "display_data"
    }
   ],
   "source": [
    "plt.figure(figsize=(10,10))\n",
    "\n",
    "plt.plot(np.linspace(.1,100,10000), beta_1_hats)\n",
    "\n",
    "plt.ylabel(\"beta_1_hat\", fontsize=18)\n",
    "plt.xlabel(\"c\", fontsize=18)\n",
    "\n",
    "plt.show()"
   ]
  },
  {
   "cell_type": "markdown",
   "metadata": {},
   "source": [
    "$$\n",
    "\\hat{\\beta_1} = \\frac{\\sum_{i=1}^n \\left( x_i - \\overline{x}\\right)\\left( y_i - \\overline{y} \\right)}{\\sum_{i=1}^n \\left(x_i - \\overline{x} \\right)^2} = \\frac{\\text{cov}(x,y)}{\\text{var}(x)},\n",
    "$$\n",
    "\n",
    "f. Recall the formula for $\\hat{\\beta_1}$ for a regression of $y$ on $x$ given above. If we assume that $y = \\beta_0 + \\beta_1 x + \\epsilon$ and then regress $x$ on $y$, what happens to the value of $\\hat{\\beta_1}$ as the variance of $\\epsilon$ goes to $\\infty$?"
   ]
  },
  {
   "cell_type": "markdown",
   "metadata": {},
   "source": [
    "##### ANSWER\n",
    "\n",
    "If we accidentally regress $x$ on $y$, then the estimate is given by:\n",
    "$$\n",
    "\\hat{\\beta_1} = \\frac{\\text{cov}(x,y)}{\\text{var}(y)} = \\frac{\\text{cov}(x, \\beta_0 + \\beta_1x + \\epsilon)}{\\text{var}(\\beta_0 + \\beta_1x + \\epsilon)} = \\frac{\\text{cov}(x,\\beta_0) + \\beta_1\\text{cov}(x,x) + \\text{cov}(x,\\epsilon)}{\\beta_1^2\\text{var}(x) + \\text{var}(\\epsilon)}\n",
    "$$\n",
    "\n",
    "$$\n",
    "= \\frac{\\beta_1\\text{var}(x)}{\\beta_1^2\\text{var}(x) + \\text{var}(\\epsilon)}.\n",
    "$$\n",
    "\n",
    "Note this is because we have assumed in the set up of slr that $x$ and $\\epsilon$ are independent so $\\text{cov}(x,\\epsilon) = 0$, $\\text{cov}(x,c)$ = 0 for any random variable $x$ and any constant $c$, and $\\text{cov}(\\bullet,\\bullet)$ is linear in both arguments."
   ]
  },
  {
   "cell_type": "markdown",
   "metadata": {},
   "source": [
    "--------------------------\n",
    "\n",
    "This notebook was written for the Erd&#337;s Institute C&#337;de Data Science Boot Camp by Matthew Osborne, Ph. D., 2022.\n",
    "\n",
    "Any potential redistributors must seek and receive permission from Matthew Tyler Osborne, Ph.D. prior to redistribution. Redistribution of the material contained in this repository is conditional on acknowledgement of Matthew Tyler Osborne, Ph.D.'s original authorship and sponsorship of the Erdős Institute as subject to the license (see License.md)"
   ]
  },
  {
   "cell_type": "code",
   "execution_count": null,
   "metadata": {},
   "outputs": [],
   "source": []
  }
 ],
 "metadata": {
  "kernelspec": {
   "display_name": "Python 3 (ipykernel)",
   "language": "python",
   "name": "python3"
  },
  "language_info": {
   "codemirror_mode": {
    "name": "ipython",
    "version": 3
   },
   "file_extension": ".py",
   "mimetype": "text/x-python",
   "name": "python",
   "nbconvert_exporter": "python",
   "pygments_lexer": "ipython3",
   "version": "3.9.9"
  }
 },
 "nbformat": 4,
 "nbformat_minor": 2
}
