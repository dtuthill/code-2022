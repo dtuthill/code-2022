{
 "cells": [
  {
   "cell_type": "markdown",
   "metadata": {},
   "source": [
    "# Regularization\n",
    "\n",
    "This notebook will have some problems related to lasso and ridge regression."
   ]
  },
  {
   "cell_type": "code",
   "execution_count": null,
   "metadata": {},
   "outputs": [],
   "source": [
    "# import the packages we'll use\n",
    "## For data handling\n",
    "import pandas as pd\n",
    "import numpy as np\n",
    "\n",
    "## For plotting\n",
    "import matplotlib.pyplot as plt\n",
    "import seaborn as sns\n",
    "\n",
    "## This sets the plot style\n",
    "## to have a grid on a white background\n",
    "sns.set_style(\"darkgrid\")"
   ]
  },
  {
   "cell_type": "markdown",
   "metadata": {},
   "source": [
    "## Theoretical Questions"
   ]
  },
  {
   "cell_type": "markdown",
   "metadata": {},
   "source": [
    "##### 1. Deriving the Ridge Regression Estimator\n",
    "\n",
    "Recall that finding the ridge regression coefficients involves minimizing the following:\n",
    "$$\n",
    "||y-X\\beta||_2^2 + \\alpha ||\\beta||_2^2.\n",
    "$$\n",
    "But, this can be rewritten like so:\n",
    "$$\n",
    "(y-X\\beta)^T(y-X\\beta) + \\alpha \\beta^T \\beta.\n",
    "$$\n",
    "\n",
    "Derive the estimate, $\\hat{\\beta}$ that minimizes this expression."
   ]
  },
  {
   "cell_type": "markdown",
   "metadata": {},
   "source": [
    "##### Write here\n",
    "\n",
    "\n",
    "\n",
    "\n"
   ]
  },
  {
   "cell_type": "markdown",
   "metadata": {},
   "source": [
    "## Applied Questions"
   ]
  },
  {
   "cell_type": "markdown",
   "metadata": {},
   "source": [
    "##### 1. \n",
    "\n",
    "Using the formula you derived in 1. under theoretical questions write some `numpy` code to fit a ridge regression model on the followinig data.\n",
    "\n",
    "Load this data first."
   ]
  },
  {
   "cell_type": "code",
   "execution_count": null,
   "metadata": {},
   "outputs": [],
   "source": [
    "## The Data\n",
    "x_train = 3*(np.pi/2)*np.random.random(size=500) - 2*np.pi\n",
    "y_train = np.sin(x_train) + .3*np.random.randn(500)\n",
    "\n",
    "x_test = 3*(np.pi/2)*np.random.random(size=500) - 2*np.pi\n",
    "y_test = np.sin(x_test) + .3*np.random.randn(500)"
   ]
  },
  {
   "cell_type": "markdown",
   "metadata": {},
   "source": [
    "Use `PolynomialFeatures` to produce up to the $40^{\\text{th}}$ power of `x` as your features matrix `X_train`. Then use `StandardScaler` to scale `X_train` prior to fitting the ridge regression."
   ]
  },
  {
   "cell_type": "code",
   "execution_count": null,
   "metadata": {},
   "outputs": [],
   "source": [
    "## code here\n",
    "\n"
   ]
  },
  {
   "cell_type": "code",
   "execution_count": null,
   "metadata": {},
   "outputs": [],
   "source": [
    "## code here\n",
    "\n",
    "\n"
   ]
  },
  {
   "cell_type": "code",
   "execution_count": null,
   "metadata": {},
   "outputs": [],
   "source": [
    "## code here\n",
    "\n"
   ]
  },
  {
   "cell_type": "code",
   "execution_count": null,
   "metadata": {},
   "outputs": [],
   "source": [
    "## code here\n",
    "\n",
    "\n",
    "\n",
    "\n"
   ]
  },
  {
   "cell_type": "markdown",
   "metadata": {},
   "source": [
    "##### 2. The Elastic Net Algorithm\n",
    "\n",
    "Elastic Net is a regularization regression algorithm that strives to set a middle ground between ridge regression and lasso. Here we set out to minimize:\n",
    "$$\n",
    "MSE + r\\alpha ||\\beta||_1 + \\frac{1-r}{2}\\alpha ||\\beta||_2^2, \\text{ for } r \\in [0,1].\n",
    "$$\n",
    "\n",
    "$r$ is another hyperparameter, when $r=1$ we recover lasso regression. If $r=0$ we recover ridge.\n",
    "\n",
    "First load in the `advertising.csv` data set below."
   ]
  },
  {
   "cell_type": "code",
   "execution_count": null,
   "metadata": {},
   "outputs": [],
   "source": [
    "ads = pd.read_csv(\"../../../Data/advertising.csv\")\n",
    "ads['sqrt_TV'] = np.sqrt(ads['TV'])\n",
    "ads['sqrt_TV_radio'] = np.sqrt(ads['sqrt_TV']*ads['radio'])\n",
    "\n",
    "ads_train = ads.sample(frac=.8, random_state=443).copy()\n",
    "ads_test = ads.drop(ads_train.index).copy()"
   ]
  },
  {
   "cell_type": "code",
   "execution_count": null,
   "metadata": {},
   "outputs": [],
   "source": [
    "ads_train.head()"
   ]
  },
  {
   "cell_type": "markdown",
   "metadata": {},
   "source": [
    "Find the best elastic net model that includes all of the features to predicts `sales`.\n",
    "\n",
    "Do this by setting up a square grid for $r$ and $\\alpha$. For $r$ set up and evenly spaced grid from $0$ to $1$, for $\\alpha$ choose values in incremental powers of $10$. Use cross-validation to choose the values of $r$ and $\\alpha$ with the lowest avg. cv mse.\n",
    "\n",
    "Note that the documentation for `ElasticNet` can be found here, <a href=\"https://scikit-learn.org/stable/modules/generated/sklearn.linear_model.ElasticNet.html\">https://scikit-learn.org/stable/modules/generated/sklearn.linear_model.ElasticNet.html</a>."
   ]
  },
  {
   "cell_type": "code",
   "execution_count": null,
   "metadata": {},
   "outputs": [],
   "source": [
    "## code here\n",
    "\n",
    "\n"
   ]
  },
  {
   "cell_type": "code",
   "execution_count": null,
   "metadata": {},
   "outputs": [],
   "source": [
    "## code here\n",
    "\n"
   ]
  },
  {
   "cell_type": "code",
   "execution_count": null,
   "metadata": {},
   "outputs": [],
   "source": [
    "## code here\n",
    "\n",
    "\n",
    "\n"
   ]
  },
  {
   "cell_type": "code",
   "execution_count": null,
   "metadata": {},
   "outputs": [],
   "source": [
    "## code here\n"
   ]
  },
  {
   "cell_type": "code",
   "execution_count": null,
   "metadata": {},
   "outputs": [],
   "source": [
    "## code here\n",
    "\n",
    "\n",
    "\n"
   ]
  },
  {
   "cell_type": "markdown",
   "metadata": {},
   "source": [
    "For the values I tested the elastic net model with $\\alpha = 0.00001$ and $r=.1$ has the lowest avg cv mse."
   ]
  },
  {
   "cell_type": "markdown",
   "metadata": {},
   "source": [
    "##### 3.\n",
    "\n",
    "Use lasso regression to choose features for a model predicting `sales` from `TV`, `radio`, `newspaper`, `sqrt_TV`, `sqrt_TV_radio`."
   ]
  },
  {
   "cell_type": "code",
   "execution_count": null,
   "metadata": {},
   "outputs": [],
   "source": [
    "## code here\n",
    "\n",
    "\n",
    "\n"
   ]
  },
  {
   "cell_type": "code",
   "execution_count": null,
   "metadata": {},
   "outputs": [],
   "source": [
    "## code here\n",
    "\n",
    "\n"
   ]
  },
  {
   "cell_type": "code",
   "execution_count": null,
   "metadata": {},
   "outputs": [],
   "source": [
    "## code here\n",
    "\n"
   ]
  },
  {
   "cell_type": "code",
   "execution_count": null,
   "metadata": {},
   "outputs": [],
   "source": [
    "## code here\n",
    "\n",
    "\n",
    "\n",
    "\n"
   ]
  },
  {
   "cell_type": "markdown",
   "metadata": {},
   "source": [
    "##### Write the model you would choose here\n",
    "\n",
    "\n"
   ]
  },
  {
   "cell_type": "markdown",
   "metadata": {},
   "source": [
    "--------------------------\n",
    "\n",
    "This notebook was written for the Erd&#337;s Institute C&#337;de Data Science Boot Camp by Matthew Osborne, Ph. D., 2022.\n",
    "\n",
    "Any potential redistributors must seek and receive permission from Matthew Tyler Osborne, Ph.D. prior to redistribution. Redistribution of the material contained in this repository is conditional on acknowledgement of Matthew Tyler Osborne, Ph.D.'s original authorship and sponsorship of the Erdős Institute as subject to the license (see License.md)"
   ]
  },
  {
   "cell_type": "code",
   "execution_count": null,
   "metadata": {},
   "outputs": [],
   "source": []
  }
 ],
 "metadata": {
  "kernelspec": {
   "display_name": "Python 3 (ipykernel)",
   "language": "python",
   "name": "python3"
  },
  "language_info": {
   "codemirror_mode": {
    "name": "ipython",
    "version": 3
   },
   "file_extension": ".py",
   "mimetype": "text/x-python",
   "name": "python",
   "nbconvert_exporter": "python",
   "pygments_lexer": "ipython3",
   "version": "3.9.9"
  }
 },
 "nbformat": 4,
 "nbformat_minor": 2
}
