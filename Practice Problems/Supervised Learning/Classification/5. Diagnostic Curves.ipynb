{
 "cells": [
  {
   "cell_type": "markdown",
   "id": "56c425bb",
   "metadata": {},
   "source": [
    "# Diagnostic Curves\n",
    "\n",
    "In this notebook will be some additional problems regarding the $k$-nearest neighbors classifier. This material corresponds to `Lectures/Supervised Learning/Classification/5. Diagnostic Curves`."
   ]
  },
  {
   "cell_type": "code",
   "execution_count": 3,
   "id": "e588e842",
   "metadata": {},
   "outputs": [],
   "source": [
    "## For data handling\n",
    "import pandas as pd\n",
    "import numpy as np\n",
    "\n",
    "## For plotting\n",
    "import matplotlib.pyplot as plt\n",
    "import seaborn as sns\n",
    "\n",
    "## This sets the plot style\n",
    "## to have a grid on a white background\n",
    "sns.set_style(\"whitegrid\")"
   ]
  },
  {
   "cell_type": "markdown",
   "id": "bb552287",
   "metadata": {},
   "source": [
    "##### 1. Cancer ROC curve\n",
    "\n",
    "Build a logistic regression classifier on the Wisconsin cancer data set in `sklearn`.\n",
    "\n",
    "Create a validation set then plot the ROC curve for this classifier on that set. Use this, and any other plots you would like, to choose a probability cutoff for the classifier."
   ]
  },
  {
   "cell_type": "code",
   "execution_count": 1,
   "id": "451de56b",
   "metadata": {},
   "outputs": [],
   "source": [
    "from sklearn.datasets import load_breast_cancer\n",
    "from sklearn.model_selection import train_test_split"
   ]
  },
  {
   "cell_type": "code",
   "execution_count": 2,
   "id": "0c706c98",
   "metadata": {},
   "outputs": [],
   "source": [
    "cancer = load_breast_cancer()\n",
    "\n",
    "X = cancer['data']\n",
    "y = cancer['target']\n",
    "\n",
    "## Changing labels so \n",
    "## 1 is malignant and\n",
    "## 0 is benign\n",
    "y = -y + 1"
   ]
  },
  {
   "cell_type": "code",
   "execution_count": 3,
   "id": "321c5bf1",
   "metadata": {},
   "outputs": [],
   "source": [
    "X_train, X_test, y_train, y_test = train_test_split(X, y,\n",
    "                                                       shuffle = True,\n",
    "                                                       random_state = 232,\n",
    "                                                       test_size=.2,\n",
    "                                                       stratify = y)"
   ]
  },
  {
   "cell_type": "code",
   "execution_count": 4,
   "id": "7adf42d6-7793-4cba-a07b-437fdcc3c423",
   "metadata": {},
   "outputs": [],
   "source": [
    "xtr_train, xtr_val, ytr_train, ytr_test = train_test_split(X_train, y_train,\n",
    "                                               shuffle = True,\n",
    "                                               random_state = 232,\n",
    "                                               test_size=.2,\n",
    "                                               stratify = y_train)"
   ]
  },
  {
   "cell_type": "code",
   "execution_count": 5,
   "id": "e7af804d",
   "metadata": {},
   "outputs": [],
   "source": [
    "## code here\n",
    "from sklearn.linear_model import LogisticRegression\n",
    "from sklearn.preprocessing import StandardScaler\n",
    "from sklearn.metrics import confusion_matrix\n"
   ]
  },
  {
   "cell_type": "code",
   "execution_count": 7,
   "id": "342c880e",
   "metadata": {},
   "outputs": [],
   "source": [
    "## code here\n",
    "scale = StandardScaler()\n",
    "xtr_train_scaled = scale.fit_transform(xtr_train)\n",
    "\n",
    "lgr = LogisticRegression()\n",
    "\n",
    "lgr.fit(xtr_train_scaled,ytr_train)\n",
    "\n",
    "lgr_pred_prob = lgr.predict_proba(scale.transform(xtr_val))"
   ]
  },
  {
   "cell_type": "code",
   "execution_count": 19,
   "id": "eee7a83e-9455-4cde-b96c-d12e959d578b",
   "metadata": {},
   "outputs": [
    {
     "data": {
      "text/plain": [
       "array([1., 1., 1., 1., 1., 1., 1., 1., 1., 1., 1., 1., 1., 1., 1., 1., 1.,\n",
       "       1., 1., 1., 1., 1., 1., 1., 1., 1., 1., 1., 1., 1., 1., 1., 1., 1.,\n",
       "       1., 1., 1., 1., 1., 1., 1., 1., 1., 1., 1., 1., 1., 1., 1., 1., 1.,\n",
       "       1., 1., 1., 1., 1., 1., 1., 1., 1., 1., 1., 1., 1., 1., 1., 1., 1.,\n",
       "       1., 1., 1., 1., 1., 1., 1., 1., 1., 1., 1., 1., 1., 1., 1., 1., 1.,\n",
       "       1., 1., 1., 1., 1., 1.])"
      ]
     },
     "execution_count": 19,
     "metadata": {},
     "output_type": "execute_result"
    }
   ],
   "source": []
  },
  {
   "cell_type": "code",
   "execution_count": null,
   "id": "93ab6d0f",
   "metadata": {},
   "outputs": [],
   "source": [
    "## code here\n",
    "tprs = []\n",
    "fprs = []\n",
    "\n",
    "\n",
    "\n"
   ]
  },
  {
   "cell_type": "code",
   "execution_count": null,
   "id": "009dd494",
   "metadata": {},
   "outputs": [],
   "source": [
    "## code here\n",
    "\n",
    "\n"
   ]
  },
  {
   "cell_type": "code",
   "execution_count": null,
   "id": "3b05f008",
   "metadata": {},
   "outputs": [],
   "source": [
    "## code here\n",
    "\n",
    "\n"
   ]
  },
  {
   "cell_type": "code",
   "execution_count": null,
   "id": "59322d3c",
   "metadata": {},
   "outputs": [],
   "source": [
    "## code here\n",
    "\n",
    "\n"
   ]
  },
  {
   "cell_type": "markdown",
   "id": "1b08e436",
   "metadata": {},
   "source": [
    "##### 2. Cancer Gains/Lift Curve\n",
    "\n",
    "<i>Note that this question is a hypothetical exercise and not any kind of endorsement to this approach to health care</i>.\n",
    "\n",
    "Imagine that you work for a clinic looking to provide underserved populations with free healthcare. This clinic has the resources to provide free breast cancer treatment to $x\\%$ of its care population. Ideally, they would like to target this care according to those whose scans indicate they most likely need it. A gains and lift chart could help clinic managers see estimates of the percent of those who need care who would receive it if they provided care to individuals with the highest probability of malignant tumors.\n",
    "\n",
    "\n",
    "Using the logistic regression model you fit above, produce a gains and lift chart for this classifier using the validation set."
   ]
  },
  {
   "cell_type": "code",
   "execution_count": null,
   "id": "fd664be1",
   "metadata": {},
   "outputs": [],
   "source": [
    "## code here\n",
    "\n",
    "\n"
   ]
  },
  {
   "cell_type": "code",
   "execution_count": null,
   "id": "bea5024e",
   "metadata": {},
   "outputs": [],
   "source": [
    "## code here\n",
    "\n",
    "\n"
   ]
  },
  {
   "cell_type": "code",
   "execution_count": null,
   "id": "f595f5ef",
   "metadata": {},
   "outputs": [],
   "source": [
    "## code here\n",
    "\n",
    "\n"
   ]
  },
  {
   "cell_type": "code",
   "execution_count": null,
   "id": "c44ebfd6",
   "metadata": {},
   "outputs": [],
   "source": [
    "## code here\n",
    "\n",
    "\n"
   ]
  },
  {
   "cell_type": "code",
   "execution_count": null,
   "id": "701e059f",
   "metadata": {},
   "outputs": [],
   "source": [
    "## code here\n",
    "\n",
    "\n"
   ]
  },
  {
   "cell_type": "markdown",
   "id": "237b7bd1",
   "metadata": {},
   "source": [
    "--------------------------\n",
    "\n",
    "This notebook was written for the Erd&#337;s Institute C&#337;de Data Science Boot Camp by Matthew Osborne, Ph. D., 2022.\n",
    "\n",
    "Any potential redistributors must seek and receive permission from Matthew Tyler Osborne, Ph.D. prior to redistribution. Redistribution of the material contained in this repository is conditional on acknowledgement of Matthew Tyler Osborne, Ph.D.'s original authorship and sponsorship of the Erdős Institute as subject to the license (see License.md)"
   ]
  },
  {
   "cell_type": "code",
   "execution_count": null,
   "id": "6dedace1",
   "metadata": {},
   "outputs": [],
   "source": []
  }
 ],
 "metadata": {
  "kernelspec": {
   "display_name": "Python 3 (ipykernel)",
   "language": "python",
   "name": "python3"
  },
  "language_info": {
   "codemirror_mode": {
    "name": "ipython",
    "version": 3
   },
   "file_extension": ".py",
   "mimetype": "text/x-python",
   "name": "python",
   "nbconvert_exporter": "python",
   "pygments_lexer": "ipython3",
   "version": "3.8.13"
  }
 },
 "nbformat": 4,
 "nbformat_minor": 5
}
