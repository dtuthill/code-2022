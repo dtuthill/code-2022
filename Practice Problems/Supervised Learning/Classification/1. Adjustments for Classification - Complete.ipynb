{
 "cells": [
  {
   "cell_type": "markdown",
   "id": "3fc0360e",
   "metadata": {},
   "source": [
    "# Adjustments for Classification\n",
    "\n",
    "The problems in this notebook correspond to the concepts covered in `Lectures/Supervised Learning/Classification/Adjustments for Classification`."
   ]
  },
  {
   "cell_type": "code",
   "execution_count": 1,
   "id": "498f9518",
   "metadata": {},
   "outputs": [],
   "source": [
    "import numpy as np\n",
    "import pandas as pd\n",
    "import matplotlib.pyplot as plt\n",
    "from seaborn import set_style\n",
    "\n",
    "set_style(\"whitegrid\")"
   ]
  },
  {
   "cell_type": "markdown",
   "id": "a31769e4",
   "metadata": {},
   "source": [
    "### Looking for errors\n",
    "\n",
    "Below you will find code from various students learning supervised learning. Try and identify the errors they made while coding up an iris classifier using $k$ nearest neighbors."
   ]
  },
  {
   "cell_type": "code",
   "execution_count": 2,
   "id": "431bcb3e",
   "metadata": {},
   "outputs": [],
   "source": [
    "## to get the iris data\n",
    "from sklearn.datasets import load_iris\n",
    "\n",
    "## Load the data\n",
    "iris = load_iris()\n",
    "iris_df = pd.DataFrame(iris['data'],columns = ['sepal_length','sepal_width','petal_length','petal_width'])\n",
    "iris_df['iris_class'] = iris['target']"
   ]
  },
  {
   "cell_type": "markdown",
   "id": "87de0a0a",
   "metadata": {},
   "source": [
    "##### 1. Matt's code"
   ]
  },
  {
   "cell_type": "code",
   "execution_count": 3,
   "id": "58ee0558",
   "metadata": {},
   "outputs": [],
   "source": [
    "## first I import train_test_split\n",
    "from sklearn.model_selection import train_test_split"
   ]
  },
  {
   "cell_type": "code",
   "execution_count": 4,
   "id": "399e1fea",
   "metadata": {},
   "outputs": [],
   "source": [
    "## Now I make the train test split\n",
    "iris_train, iris_test = train_test_split(iris_df.copy(),\n",
    "                                            shuffle=True,\n",
    "                                            random_state=213)"
   ]
  },
  {
   "cell_type": "code",
   "execution_count": 5,
   "id": "c787ba24",
   "metadata": {},
   "outputs": [],
   "source": [
    "## import KNN\n",
    "from sklearn.neighbors import KNeighborsClassifier as KNN"
   ]
  },
  {
   "cell_type": "code",
   "execution_count": 6,
   "id": "0ee9b79d",
   "metadata": {},
   "outputs": [
    {
     "data": {
      "text/plain": [
       "KNeighborsClassifier()"
      ]
     },
     "execution_count": 6,
     "metadata": {},
     "output_type": "execute_result"
    }
   ],
   "source": [
    "knn = KNN(5)\n",
    "\n",
    "knn.fit(iris_train[['sepal_length',\n",
    "                    'sepal_width',\n",
    "                    'petal_length',\n",
    "                    'petal_width']],\n",
    "           iris_train['iris_class'])"
   ]
  },
  {
   "cell_type": "markdown",
   "id": "1143d6d0",
   "metadata": {},
   "source": [
    "##### Write down Matt's mistep(s) here\n",
    "\n",
    "##### Sample Solution\n",
    "\n",
    "Matt should have stratified his train test split using the `stratify = iris_df['iris_class']` argument."
   ]
  },
  {
   "cell_type": "markdown",
   "id": "7e09ecfb",
   "metadata": {},
   "source": [
    "##### 2. Kevin's Code"
   ]
  },
  {
   "cell_type": "code",
   "execution_count": 7,
   "id": "c124cdcf",
   "metadata": {},
   "outputs": [],
   "source": [
    "## first I import train_test_split\n",
    "from sklearn.model_selection import train_test_split"
   ]
  },
  {
   "cell_type": "code",
   "execution_count": 8,
   "id": "edaf3657",
   "metadata": {},
   "outputs": [],
   "source": [
    "## Now I make the train test split\n",
    "iris_train, iris_test = train_test_split(iris_df.copy(),\n",
    "                                            shuffle=True,\n",
    "                                            random_state=213,\n",
    "                                            stratify=iris_df['iris_class'])"
   ]
  },
  {
   "cell_type": "code",
   "execution_count": 9,
   "id": "e840f367",
   "metadata": {},
   "outputs": [],
   "source": [
    "## import KNN\n",
    "from sklearn.neighbors import KNeighborsClassifier as KNN\n",
    "\n",
    "## Now I import KFold\n",
    "from sklearn.model_selection import KFold\n",
    "\n",
    "## and accuracy\n",
    "from sklearn.metrics import accuracy_score"
   ]
  },
  {
   "cell_type": "code",
   "execution_count": 10,
   "id": "694982b5",
   "metadata": {},
   "outputs": [
    {
     "name": "stdout",
     "output_type": "stream",
     "text": [
      "0.990909090909091\n"
     ]
    }
   ],
   "source": [
    "## now I get the accuracy for each cv split for k = 5\n",
    "\n",
    "kfold = KFold(5, shuffle=True, random_state=31344)\n",
    "\n",
    "cv_accs = np.zeros(5)\n",
    "\n",
    "i = 0\n",
    "for train_index, test_index in kfold.split(iris_train):\n",
    "    iris_tt = iris_train.iloc[train_index]\n",
    "    iris_ho = iris_train.iloc[test_index]\n",
    "    \n",
    "    knn = KNN(5)\n",
    "    \n",
    "    knn.fit(iris_tt[['sepal_length',\n",
    "                    'sepal_width',\n",
    "                    'petal_length',\n",
    "                    'petal_width']],\n",
    "               iris_tt['iris_class'])\n",
    "    \n",
    "    pred = knn.predict(iris_ho[['sepal_length',\n",
    "                    'sepal_width',\n",
    "                    'petal_length',\n",
    "                    'petal_width']])\n",
    "    \n",
    "    cv_accs[i] = accuracy_score(iris_ho['iris_class'].values, pred)\n",
    "    \n",
    "    i = i + 1\n",
    "    \n",
    "print(np.mean(cv_accs))"
   ]
  },
  {
   "cell_type": "markdown",
   "id": "60cef9d5",
   "metadata": {},
   "source": [
    "##### Write down Kevin's mistep(s) here\n",
    "\n",
    "##### Sample Solution\n",
    "\n",
    "Kevin should have used `StratifiedKFold` instead of regular `KFold`."
   ]
  },
  {
   "cell_type": "markdown",
   "id": "8fad7189",
   "metadata": {},
   "source": [
    "--------------------------\n",
    "\n",
    "This notebook was written for the Erd&#337;s Institute C&#337;de Data Science Boot Camp by Matthew Osborne, Ph. D., 2022.\n",
    "\n",
    "Any potential redistributors must seek and receive permission from Matthew Tyler Osborne, Ph.D. prior to redistribution. Redistribution of the material contained in this repository is conditional on acknowledgement of Matthew Tyler Osborne, Ph.D.'s original authorship and sponsorship of the Erdős Institute as subject to the license (see License.md)"
   ]
  },
  {
   "cell_type": "code",
   "execution_count": null,
   "id": "e90e0f10",
   "metadata": {},
   "outputs": [],
   "source": []
  }
 ],
 "metadata": {
  "kernelspec": {
   "display_name": "Python 3 (ipykernel)",
   "language": "python",
   "name": "python3"
  },
  "language_info": {
   "codemirror_mode": {
    "name": "ipython",
    "version": 3
   },
   "file_extension": ".py",
   "mimetype": "text/x-python",
   "name": "python",
   "nbconvert_exporter": "python",
   "pygments_lexer": "ipython3",
   "version": "3.9.9"
  }
 },
 "nbformat": 4,
 "nbformat_minor": 5
}
