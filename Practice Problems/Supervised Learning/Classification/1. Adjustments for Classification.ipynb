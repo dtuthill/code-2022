{
 "cells": [
  {
   "cell_type": "markdown",
   "id": "3090ec70",
   "metadata": {},
   "source": [
    "# Adjustments for Classification\n",
    "\n",
    "The problems in this notebook correspond to the concepts covered in `Lectures/Supervised Learning/Classification/Adjustments for Classification`."
   ]
  },
  {
   "cell_type": "code",
   "execution_count": 1,
   "id": "eecbccd4",
   "metadata": {},
   "outputs": [],
   "source": [
    "import numpy as np\n",
    "import pandas as pd\n",
    "import matplotlib.pyplot as plt\n",
    "from seaborn import set_style\n",
    "\n",
    "set_style(\"whitegrid\")"
   ]
  },
  {
   "cell_type": "markdown",
   "id": "4f305eba",
   "metadata": {},
   "source": [
    "### Looking for errors\n",
    "\n",
    "Below you will find code from various students learning supervised learning. Try and identify the errors they made while coding up an iris classifier using $k$ nearest neighbors."
   ]
  },
  {
   "cell_type": "code",
   "execution_count": 2,
   "id": "f1948dc5",
   "metadata": {},
   "outputs": [],
   "source": [
    "## to get the iris data\n",
    "from sklearn.datasets import load_iris\n",
    "\n",
    "## Load the data\n",
    "iris = load_iris()\n",
    "iris_df = pd.DataFrame(iris['data'],columns = ['sepal_length','sepal_width','petal_length','petal_width'])\n",
    "iris_df['iris_class'] = iris['target']"
   ]
  },
  {
   "cell_type": "markdown",
   "id": "82f85392",
   "metadata": {},
   "source": [
    "##### 1. Matt's code"
   ]
  },
  {
   "cell_type": "code",
   "execution_count": 3,
   "id": "f2c6c1af",
   "metadata": {},
   "outputs": [],
   "source": [
    "## first I import train_test_split\n",
    "from sklearn.model_selection import train_test_split"
   ]
  },
  {
   "cell_type": "code",
   "execution_count": 5,
   "id": "0b95cce5",
   "metadata": {},
   "outputs": [],
   "source": [
    "## Now I make the train test split\n",
    "iris_train, iris_test = train_test_split(iris_df.copy(),\n",
    "                                            shuffle=True,\n",
    "                                            random_state=213,\n",
    "                                            stratify=iris_df['iris_class'])"
   ]
  },
  {
   "cell_type": "code",
   "execution_count": null,
   "id": "e8f96d25",
   "metadata": {},
   "outputs": [],
   "source": [
    "## import KNN\n",
    "from sklearn.neighbors import KNeighborsClassifier as KNN"
   ]
  },
  {
   "cell_type": "code",
   "execution_count": null,
   "id": "8464b077",
   "metadata": {},
   "outputs": [],
   "source": [
    "knn = KNN(5)\n",
    "\n",
    "knn.fit(iris_train[['sepal_length',\n",
    "                    'sepal_width',\n",
    "                    'petal_length',\n",
    "                    'petal_width']],\n",
    "           iris_train['iris_class'])"
   ]
  },
  {
   "cell_type": "markdown",
   "id": "11520ea8",
   "metadata": {},
   "source": [
    "##### Write down Matt's mistep(s) here\n",
    "\n",
    "train_test_split needs a stratify argument\n"
   ]
  },
  {
   "cell_type": "markdown",
   "id": "83566f13",
   "metadata": {},
   "source": [
    "##### 2. Kevin's Code"
   ]
  },
  {
   "cell_type": "code",
   "execution_count": null,
   "id": "6014c8f1",
   "metadata": {},
   "outputs": [],
   "source": [
    "## first I import train_test_split\n",
    "from sklearn.model_selection import train_test_split"
   ]
  },
  {
   "cell_type": "code",
   "execution_count": null,
   "id": "ca401870",
   "metadata": {},
   "outputs": [],
   "source": [
    "## Now I make the train test split\n",
    "iris_train, iris_test = train_test_split(iris_df.copy(),\n",
    "                                            shuffle=True,\n",
    "                                            random_state=213,\n",
    "                                            stratify=iris_df['iris_class'])"
   ]
  },
  {
   "cell_type": "code",
   "execution_count": null,
   "id": "80aceabd",
   "metadata": {},
   "outputs": [],
   "source": [
    "## import KNN\n",
    "from sklearn.neighbors import KNeighborsClassifier as KNN\n",
    "\n",
    "## Now I import KFold\n",
    "from sklearn.model_selection import KFold\n",
    "\n",
    "## and accuracy\n",
    "from sklearn.metrics import accuracy_score"
   ]
  },
  {
   "cell_type": "code",
   "execution_count": null,
   "id": "3e7cc9ba",
   "metadata": {},
   "outputs": [],
   "source": [
    "## now I get the accuracy for each cv split for k = 5\n",
    "\n",
    "kfold = KFold(5, shuffle=True, random_state=31344)\n",
    "\n",
    "cv_accs = np.zeros(5)\n",
    "\n",
    "i = 0\n",
    "for train_index, test_index in kfold.split(iris_train):\n",
    "    iris_tt = iris_train.iloc[train_index]\n",
    "    iris_ho = iris_train.iloc[test_index]\n",
    "    \n",
    "    knn = KNN(5)\n",
    "    \n",
    "    knn.fit(iris_tt[['sepal_length',\n",
    "                    'sepal_width',\n",
    "                    'petal_length',\n",
    "                    'petal_width']],\n",
    "               iris_tt['iris_class'])\n",
    "    \n",
    "    pred = knn.predict(iris_ho[['sepal_length',\n",
    "                    'sepal_width',\n",
    "                    'petal_length',\n",
    "                    'petal_width']])\n",
    "    \n",
    "    cv_accs[i] = accuracy_score(iris_ho['iris_class'].values, pred)\n",
    "    \n",
    "    i = i + 1\n",
    "    \n",
    "print(np.mean(cv_accs))"
   ]
  },
  {
   "cell_type": "markdown",
   "id": "77ec94a9",
   "metadata": {},
   "source": [
    "##### Write down Kevin's mistep(s) here\n",
    "\n"
   ]
  },
  {
   "cell_type": "markdown",
   "id": "c3248b54",
   "metadata": {},
   "source": [
    "--------------------------\n",
    "\n",
    "This notebook was written for the Erd&#337;s Institute C&#337;de Data Science Boot Camp by Matthew Osborne, Ph. D., 2022.\n",
    "\n",
    "Any potential redistributors must seek and receive permission from Matthew Tyler Osborne, Ph.D. prior to redistribution. Redistribution of the material contained in this repository is conditional on acknowledgement of Matthew Tyler Osborne, Ph.D.'s original authorship and sponsorship of the Erdős Institute as subject to the license (see License.md)"
   ]
  },
  {
   "cell_type": "code",
   "execution_count": null,
   "id": "3deb0e67",
   "metadata": {},
   "outputs": [],
   "source": []
  }
 ],
 "metadata": {
  "kernelspec": {
   "display_name": "Python 3 (ipykernel)",
   "language": "python",
   "name": "python3"
  },
  "language_info": {
   "codemirror_mode": {
    "name": "ipython",
    "version": 3
   },
   "file_extension": ".py",
   "mimetype": "text/x-python",
   "name": "python",
   "nbconvert_exporter": "python",
   "pygments_lexer": "ipython3",
   "version": "3.9.12"
  }
 },
 "nbformat": 4,
 "nbformat_minor": 5
}
