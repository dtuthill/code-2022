{
 "cells": [
  {
   "cell_type": "markdown",
   "id": "09ee3bd3",
   "metadata": {},
   "source": [
    "# Bayes' Based Classifiers\n",
    "\n",
    "In this notebook will be some additional problems regarding LDA, QDA and naive Bayes. This material corresponds to `Lectures/Supervised Learning/Classification/6. Bayes Based Classifiers`."
   ]
  },
  {
   "cell_type": "code",
   "execution_count": 1,
   "id": "e4197f2e",
   "metadata": {},
   "outputs": [],
   "source": [
    "## For data handling\n",
    "import pandas as pd\n",
    "import numpy as np\n",
    "\n",
    "## For plotting\n",
    "import matplotlib.pyplot as plt\n",
    "import seaborn as sns\n",
    "\n",
    "sns.set_style(\"whitegrid\")"
   ]
  },
  {
   "cell_type": "markdown",
   "id": "c22ced09",
   "metadata": {},
   "source": [
    "##### 1. LDA for supervised dimensionality reduction\n",
    "\n",
    "While we introduced linear discriminant analysis (LDA) as a classification algorithm, it was originally proposed by Fisher as a supervised dimension reduction technique, <a href=\"https://digital.library.adelaide.edu.au/dspace/bitstream/2440/15227/1/138.pdf\">https://digital.library.adelaide.edu.au/dspace/bitstream/2440/15227/1/138.pdf</a>. In particular, the initial goal was to project the features, $X$, corresponding to a binary output, $y$, onto a single dimension which best separates the possible classes. This single dimension has come to be known as <i>Fisher's discriminant</i>.\n",
    "\n",
    "In this \"problem\" you will learn how this works, and then reproduce Fisher's results on the iris data set (restricted to the versicolor and setosa classes) using `sklearn`'s `LinearDiscriminantAnalysis` model object.\n",
    "\n",
    "First load the Wisconsin cancer data set.\n",
    "\n",
    "<i>Note that we are not making a train test split here because we are not performing classification, just dimension reduction.</i>"
   ]
  },
  {
   "cell_type": "code",
   "execution_count": 2,
   "id": "658f8187",
   "metadata": {},
   "outputs": [],
   "source": [
    "from sklearn.datasets import load_breast_cancer"
   ]
  },
  {
   "cell_type": "code",
   "execution_count": 3,
   "id": "0b9c8e3e",
   "metadata": {},
   "outputs": [],
   "source": [
    "cancer = load_breast_cancer()\n",
    "\n",
    "X = cancer['data']\n",
    "y = cancer['target']\n",
    "\n",
    "## changing labels on y\n",
    "y = -y + 1"
   ]
  },
  {
   "cell_type": "code",
   "execution_count": 4,
   "id": "91c555ae",
   "metadata": {},
   "outputs": [],
   "source": [
    "from sklearn.preprocessing import StandardScaler"
   ]
  },
  {
   "cell_type": "code",
   "execution_count": 5,
   "id": "b37f4724",
   "metadata": {},
   "outputs": [],
   "source": [
    "scale = StandardScaler()\n",
    "\n",
    "X_scale = scale.fit_transform(X)"
   ]
  },
  {
   "cell_type": "markdown",
   "id": "0c4a33c5",
   "metadata": {},
   "source": [
    "Using LDA for dimmensionality reduction we look for a vector, $w = (w_1, w_2, \\dots, w_m)^T$ with $||w||_2^2=1$, to project our features onto, i.e. find $Xw = w_1 X_1 + w_2 X_2 + \\dots w_m X_m$. We want to select $w$ in such a way that the spread between the two classes is maximized. In order to do that we first need to formally define what we mean by spread.\n",
    "\n",
    "First, if we let \n",
    "\n",
    "$$\n",
    "\\mu^{(c)} = \\frac{1}{N^{(c)}} \\sum_{i, y^{(i)}=c} X^{(i)}, \\text{ for } c=0,1\n",
    "$$\n",
    "\n",
    "where $N^{c}$ is the number of observations of class $c$, then\n",
    "\n",
    "$$\n",
    "\\tilde{\\mu}^{(c)} = \\frac{1}{N^{(c)}} \\sum_{i, y^{(i)}=c} X^{(i)} w = \\mu^{(c)} w, \\text{ for } c=0,1.\n",
    "$$\n",
    "\n",
    "That is, the mean for the projected data of either class is the projection of the class-specific mean vectors onto the vector $w$.\n",
    "\n",
    "Second, if $\\Sigma^{(c)}$ denotes the class $c$ specific covariance matrix of $X$, than the class $c$ specific variance of projection of $X$ onto $w$ is, $\\tilde{\\Sigma}^{(c)} = w^T \\Sigma^{(c)} w$.\n",
    "\n",
    "\n",
    "We can now define how we will measure the spread between the two classes in the projected space.\n",
    "\n",
    "We want to choose $w$ so that:\n",
    "\n",
    "$$\n",
    "S = \\frac{\\left( \\tilde{\\mu}^{(1)} - \\tilde{\\mu}^{(0)} \\right)^2}{\\tilde{\\Sigma}^{(1)} + \\tilde{\\Sigma}^{(0)}} = \\frac{\\left(\\mu^{(1)} w - \\mu^{(0)} w \\right)^2}{w^T \\left(\\Sigma^{(1)} + \\Sigma^{(0)} \\right) w}\n",
    "$$\n",
    "\n",
    "is as large as possible. $S$ may seem like an odd measure, but we can think of it as measuring how far apart the means are in comparison to the variance of the projected values. \n",
    "\n",
    "##### Why is this a useful measure?\n",
    "\n",
    "If $S>1$ that means the space between the means of the two class-specific distributions is larger than their combined variances. This suggests that we may be able to set a threshold, $\\delta$, such that for all observations with $y=0$ $Xw < \\delta$ and for all observations with $y=1$ $Xw > \\delta$.\n",
    "\n",
    "Doing some algebra and calculus it can be shown that the $w$ that maximizes $S$ is\n",
    "\n",
    "$$\n",
    "\\hat{w} = \\left(\\Sigma^{(1)} + \\Sigma^{(0)}\\right)^{-1}\\left(\\mu^{(1)}  - \\mu^{(0)} \\right)\n",
    "$$\n",
    "\n",
    "##### Using `pandas` or `numpy` calculate $\\hat{w}$ for the cancer data. Then plot the histogram of $Xw$, colored by the class of the observation.\n",
    "\n",
    "<a href=\"https://numpy.org/doc/stable/reference/generated/numpy.cov.html\">https://numpy.org/doc/stable/reference/generated/numpy.cov.html</a>."
   ]
  },
  {
   "cell_type": "code",
   "execution_count": 6,
   "id": "7635c962",
   "metadata": {},
   "outputs": [],
   "source": [
    "mu0 = np.mean(X_scale[y==0,:], axis=0).reshape(-1,1)\n",
    "mu1 = np.mean(X_scale[y==1,:], axis=0).reshape(-1,1)\n",
    "Sigma0 = np.cov(X_scale[y==0,:], rowvar=False)\n",
    "Sigma1 = np.cov(X_scale[y==1,:], rowvar=False)"
   ]
  },
  {
   "cell_type": "code",
   "execution_count": 7,
   "id": "88cbdac8",
   "metadata": {},
   "outputs": [],
   "source": [
    "from numpy.linalg import inv"
   ]
  },
  {
   "cell_type": "code",
   "execution_count": 8,
   "id": "fcc17fc6",
   "metadata": {},
   "outputs": [],
   "source": [
    "w_hat = inv(Sigma0 + Sigma1).dot(mu1-mu0)"
   ]
  },
  {
   "cell_type": "code",
   "execution_count": 9,
   "id": "a1c7b076",
   "metadata": {},
   "outputs": [],
   "source": [
    "projected_values = X_scale.dot(w_hat)"
   ]
  },
  {
   "cell_type": "code",
   "execution_count": 10,
   "id": "ba499977",
   "metadata": {},
   "outputs": [
    {
     "data": {
      "image/png": "[encoded data removed]",
      "text/plain": [
       "<Figure size 576x432 with 1 Axes>"
      ]
     },
     "metadata": {},
     "output_type": "display_data"
    }
   ],
   "source": [
    "plt.figure(figsize=(8,6))\n",
    "\n",
    "plt.hist(projected_values[y==1], color='red', alpha=1, label='malignant')\n",
    "plt.hist(projected_values[y==0], color='blue', hatch='/', alpha=.5, label='benign')\n",
    "\n",
    "plt.legend(fontsize=14)\n",
    "\n",
    "plt.show()"
   ]
  },
  {
   "cell_type": "markdown",
   "id": "1310ad2e",
   "metadata": {},
   "source": [
    "`sklearn`'s `LinearDiscriminantAnalysis` model object in addition to being a classification algorithm can also perform this supervised dimensionality reduction. To get the projected values call `LDA.transform(X)` after you fit the LDA model (this assumes that you called the model `LDA` and that your features are stored in `X_scale`.\n",
    "\n",
    "##### Use `sklearn`'s `LinearDiscriminantAnalysis` instead to perform LDA\n",
    "\n",
    "Note your results may look slightly different because `sklearn` does not implement the exact same Fisher discriminant calculation as you did above."
   ]
  },
  {
   "cell_type": "code",
   "execution_count": 11,
   "id": "5071c59d",
   "metadata": {},
   "outputs": [],
   "source": [
    "from sklearn.discriminant_analysis import LinearDiscriminantAnalysis\n",
    "LDA = LinearDiscriminantAnalysis()\n",
    "LDA.fit(X_scale, y)\n",
    "\n",
    "sklearn_projection = LDA.transform(X_scale)"
   ]
  },
  {
   "cell_type": "code",
   "execution_count": 12,
   "id": "f72f3802",
   "metadata": {},
   "outputs": [
    {
     "data": {
      "image/png": "[encoded data removed]",
      "text/plain": [
       "<Figure size 576x432 with 1 Axes>"
      ]
     },
     "metadata": {},
     "output_type": "display_data"
    }
   ],
   "source": [
    "plt.figure(figsize=(8,6))\n",
    "\n",
    "plt.hist(sklearn_projection[y==1], color='red', alpha=1, label='malignant')\n",
    "plt.hist(sklearn_projection[y==0], color='blue', hatch='/', alpha=.5, label='benign')\n",
    "\n",
    "plt.legend(fontsize=14)\n",
    "\n",
    "plt.show()"
   ]
  },
  {
   "cell_type": "markdown",
   "id": "250fd868",
   "metadata": {},
   "source": [
    "While Fisher formulated this approach with binary data in mind, the technique was extended to multiclass data by C.  R. Rao, <a href=\"https://www.jstor.org/stable/2983775\">https://www.jstor.org/stable/2983775</a>. If your data has $C$ possible classes, the multiclass approach will project the data down to a space of dimension at most $C-1$. This too can be implemented by `sklearn`, where you can control the number of components using `n_components` as an argument when you make the `LinearDiscriminantAnalysis` model object."
   ]
  },
  {
   "cell_type": "markdown",
   "id": "c46717ad",
   "metadata": {},
   "source": [
    "##### 2. Multi-class LDA dimension reduction\n",
    "\n",
    "Load the iris data set and perform LDA dimension reduction. Plot the projected points, coloring by iris type."
   ]
  },
  {
   "cell_type": "code",
   "execution_count": 13,
   "id": "ce62701b",
   "metadata": {},
   "outputs": [],
   "source": [
    "from sklearn.datasets import load_iris"
   ]
  },
  {
   "cell_type": "code",
   "execution_count": 14,
   "id": "740e3602",
   "metadata": {},
   "outputs": [],
   "source": [
    "iris = load_iris()\n",
    "\n",
    "X = iris['data']\n",
    "y = iris['target']"
   ]
  },
  {
   "cell_type": "code",
   "execution_count": 15,
   "id": "0d307c82",
   "metadata": {},
   "outputs": [],
   "source": [
    "LDA = LinearDiscriminantAnalysis()\n",
    "LDA.fit(X, y)\n",
    "\n",
    "fit = LDA.transform(X)"
   ]
  },
  {
   "cell_type": "code",
   "execution_count": 16,
   "id": "6d4c8ff9",
   "metadata": {},
   "outputs": [
    {
     "data": {
      "image/png": "[encoded data removed]",
      "text/plain": [
       "<Figure size 720x576 with 1 Axes>"
      ]
     },
     "metadata": {},
     "output_type": "display_data"
    }
   ],
   "source": [
    "plt.figure(figsize=(10,8))\n",
    "\n",
    "plt.scatter(fit[y==0,0], fit[y==0,1], s=75, label='setosa')\n",
    "plt.scatter(fit[y==1,0], fit[y==1,1], marker = 'x', s=75, label='versicolor')\n",
    "plt.scatter(fit[y==2,0], fit[y==2,1], marker = 'v', s=75, label='virginica')\n",
    "\n",
    "plt.legend(fontsize=16)\n",
    "\n",
    "plt.show()"
   ]
  },
  {
   "cell_type": "markdown",
   "id": "567ddd50",
   "metadata": {},
   "source": [
    "##### 3. Return to cancer data\n",
    "\n",
    "Return to the cancer data set from 1. This time make a train test split, then make a pipeline that scales the data and ends in LDA.\n",
    "\n",
    "Instead of using the LDA predictions, we will loop through possible Fisher discriminant cutoff values for classification. That is perform 5-fold cross-validation to check which value of $c$ provides the best TPR, FPR and precision where $c$ is such that $\\text{Fisher discriminant } < c$ is classified as benign ($y = 0$) and a discriminat greater than or equal to $c$ is classified as malignant ($y=1$).\n",
    "\n",
    "Plot the avg. cv. TPR, FPR and precision as a function of $c$."
   ]
  },
  {
   "cell_type": "code",
   "execution_count": 17,
   "id": "f3d3be47",
   "metadata": {},
   "outputs": [],
   "source": [
    "from sklearn.pipeline import Pipeline\n",
    "from sklearn.model_selection import StratifiedKFold, train_test_split\n",
    "from sklearn.metrics import precision_score, confusion_matrix"
   ]
  },
  {
   "cell_type": "code",
   "execution_count": 18,
   "id": "e3f46a50",
   "metadata": {},
   "outputs": [],
   "source": [
    "X = cancer['data']\n",
    "y = cancer['target']\n",
    "\n",
    "X_train, X_test, y_train, y_test = train_test_split(X, y,\n",
    "                                                       shuffle=True,\n",
    "                                                       random_state=4031,\n",
    "                                                       stratify=y)"
   ]
  },
  {
   "cell_type": "code",
   "execution_count": 19,
   "id": "10aaf459",
   "metadata": {},
   "outputs": [
    {
     "name": "stderr",
     "output_type": "stream",
     "text": [
      "/Users/matthewosborne/miniforge3/envs/home_env/lib/python3.9/site-packages/sklearn/metrics/_classification.py:1318: UndefinedMetricWarning: Precision is ill-defined and being set to 0.0 due to no predicted samples. Use `zero_division` parameter to control this behavior.\n",
      "  _warn_prf(average, modifier, msg_start, len(result))\n",
      "/Users/matthewosborne/miniforge3/envs/home_env/lib/python3.9/site-packages/sklearn/metrics/_classification.py:1318: UndefinedMetricWarning: Precision is ill-defined and being set to 0.0 due to no predicted samples. Use `zero_division` parameter to control this behavior.\n",
      "  _warn_prf(average, modifier, msg_start, len(result))\n",
      "/Users/matthewosborne/miniforge3/envs/home_env/lib/python3.9/site-packages/sklearn/metrics/_classification.py:1318: UndefinedMetricWarning: Precision is ill-defined and being set to 0.0 due to no predicted samples. Use `zero_division` parameter to control this behavior.\n",
      "  _warn_prf(average, modifier, msg_start, len(result))\n",
      "/Users/matthewosborne/miniforge3/envs/home_env/lib/python3.9/site-packages/sklearn/metrics/_classification.py:1318: UndefinedMetricWarning: Precision is ill-defined and being set to 0.0 due to no predicted samples. Use `zero_division` parameter to control this behavior.\n",
      "  _warn_prf(average, modifier, msg_start, len(result))\n",
      "/Users/matthewosborne/miniforge3/envs/home_env/lib/python3.9/site-packages/sklearn/metrics/_classification.py:1318: UndefinedMetricWarning: Precision is ill-defined and being set to 0.0 due to no predicted samples. Use `zero_division` parameter to control this behavior.\n",
      "  _warn_prf(average, modifier, msg_start, len(result))\n",
      "/Users/matthewosborne/miniforge3/envs/home_env/lib/python3.9/site-packages/sklearn/metrics/_classification.py:1318: UndefinedMetricWarning: Precision is ill-defined and being set to 0.0 due to no predicted samples. Use `zero_division` parameter to control this behavior.\n",
      "  _warn_prf(average, modifier, msg_start, len(result))\n",
      "/Users/matthewosborne/miniforge3/envs/home_env/lib/python3.9/site-packages/sklearn/metrics/_classification.py:1318: UndefinedMetricWarning: Precision is ill-defined and being set to 0.0 due to no predicted samples. Use `zero_division` parameter to control this behavior.\n",
      "  _warn_prf(average, modifier, msg_start, len(result))\n",
      "/Users/matthewosborne/miniforge3/envs/home_env/lib/python3.9/site-packages/sklearn/metrics/_classification.py:1318: UndefinedMetricWarning: Precision is ill-defined and being set to 0.0 due to no predicted samples. Use `zero_division` parameter to control this behavior.\n",
      "  _warn_prf(average, modifier, msg_start, len(result))\n",
      "/Users/matthewosborne/miniforge3/envs/home_env/lib/python3.9/site-packages/sklearn/metrics/_classification.py:1318: UndefinedMetricWarning: Precision is ill-defined and being set to 0.0 due to no predicted samples. Use `zero_division` parameter to control this behavior.\n",
      "  _warn_prf(average, modifier, msg_start, len(result))\n",
      "/Users/matthewosborne/miniforge3/envs/home_env/lib/python3.9/site-packages/sklearn/metrics/_classification.py:1318: UndefinedMetricWarning: Precision is ill-defined and being set to 0.0 due to no predicted samples. Use `zero_division` parameter to control this behavior.\n",
      "  _warn_prf(average, modifier, msg_start, len(result))\n",
      "/Users/matthewosborne/miniforge3/envs/home_env/lib/python3.9/site-packages/sklearn/metrics/_classification.py:1318: UndefinedMetricWarning: Precision is ill-defined and being set to 0.0 due to no predicted samples. Use `zero_division` parameter to control this behavior.\n",
      "  _warn_prf(average, modifier, msg_start, len(result))\n",
      "/Users/matthewosborne/miniforge3/envs/home_env/lib/python3.9/site-packages/sklearn/metrics/_classification.py:1318: UndefinedMetricWarning: Precision is ill-defined and being set to 0.0 due to no predicted samples. Use `zero_division` parameter to control this behavior.\n",
      "  _warn_prf(average, modifier, msg_start, len(result))\n",
      "/Users/matthewosborne/miniforge3/envs/home_env/lib/python3.9/site-packages/sklearn/metrics/_classification.py:1318: UndefinedMetricWarning: Precision is ill-defined and being set to 0.0 due to no predicted samples. Use `zero_division` parameter to control this behavior.\n",
      "  _warn_prf(average, modifier, msg_start, len(result))\n",
      "/Users/matthewosborne/miniforge3/envs/home_env/lib/python3.9/site-packages/sklearn/metrics/_classification.py:1318: UndefinedMetricWarning: Precision is ill-defined and being set to 0.0 due to no predicted samples. Use `zero_division` parameter to control this behavior.\n",
      "  _warn_prf(average, modifier, msg_start, len(result))\n",
      "/Users/matthewosborne/miniforge3/envs/home_env/lib/python3.9/site-packages/sklearn/metrics/_classification.py:1318: UndefinedMetricWarning: Precision is ill-defined and being set to 0.0 due to no predicted samples. Use `zero_division` parameter to control this behavior.\n",
      "  _warn_prf(average, modifier, msg_start, len(result))\n",
      "/Users/matthewosborne/miniforge3/envs/home_env/lib/python3.9/site-packages/sklearn/metrics/_classification.py:1318: UndefinedMetricWarning: Precision is ill-defined and being set to 0.0 due to no predicted samples. Use `zero_division` parameter to control this behavior.\n",
      "  _warn_prf(average, modifier, msg_start, len(result))\n",
      "/Users/matthewosborne/miniforge3/envs/home_env/lib/python3.9/site-packages/sklearn/metrics/_classification.py:1318: UndefinedMetricWarning: Precision is ill-defined and being set to 0.0 due to no predicted samples. Use `zero_division` parameter to control this behavior.\n",
      "  _warn_prf(average, modifier, msg_start, len(result))\n",
      "/Users/matthewosborne/miniforge3/envs/home_env/lib/python3.9/site-packages/sklearn/metrics/_classification.py:1318: UndefinedMetricWarning: Precision is ill-defined and being set to 0.0 due to no predicted samples. Use `zero_division` parameter to control this behavior.\n",
      "  _warn_prf(average, modifier, msg_start, len(result))\n",
      "/Users/matthewosborne/miniforge3/envs/home_env/lib/python3.9/site-packages/sklearn/metrics/_classification.py:1318: UndefinedMetricWarning: Precision is ill-defined and being set to 0.0 due to no predicted samples. Use `zero_division` parameter to control this behavior.\n",
      "  _warn_prf(average, modifier, msg_start, len(result))\n",
      "/Users/matthewosborne/miniforge3/envs/home_env/lib/python3.9/site-packages/sklearn/metrics/_classification.py:1318: UndefinedMetricWarning: Precision is ill-defined and being set to 0.0 due to no predicted samples. Use `zero_division` parameter to control this behavior.\n",
      "  _warn_prf(average, modifier, msg_start, len(result))\n",
      "/Users/matthewosborne/miniforge3/envs/home_env/lib/python3.9/site-packages/sklearn/metrics/_classification.py:1318: UndefinedMetricWarning: Precision is ill-defined and being set to 0.0 due to no predicted samples. Use `zero_division` parameter to control this behavior.\n",
      "  _warn_prf(average, modifier, msg_start, len(result))\n",
      "/Users/matthewosborne/miniforge3/envs/home_env/lib/python3.9/site-packages/sklearn/metrics/_classification.py:1318: UndefinedMetricWarning: Precision is ill-defined and being set to 0.0 due to no predicted samples. Use `zero_division` parameter to control this behavior.\n",
      "  _warn_prf(average, modifier, msg_start, len(result))\n",
      "/Users/matthewosborne/miniforge3/envs/home_env/lib/python3.9/site-packages/sklearn/metrics/_classification.py:1318: UndefinedMetricWarning: Precision is ill-defined and being set to 0.0 due to no predicted samples. Use `zero_division` parameter to control this behavior.\n",
      "  _warn_prf(average, modifier, msg_start, len(result))\n",
      "/Users/matthewosborne/miniforge3/envs/home_env/lib/python3.9/site-packages/sklearn/metrics/_classification.py:1318: UndefinedMetricWarning: Precision is ill-defined and being set to 0.0 due to no predicted samples. Use `zero_division` parameter to control this behavior.\n",
      "  _warn_prf(average, modifier, msg_start, len(result))\n",
      "/Users/matthewosborne/miniforge3/envs/home_env/lib/python3.9/site-packages/sklearn/metrics/_classification.py:1318: UndefinedMetricWarning: Precision is ill-defined and being set to 0.0 due to no predicted samples. Use `zero_division` parameter to control this behavior.\n",
      "  _warn_prf(average, modifier, msg_start, len(result))\n",
      "/Users/matthewosborne/miniforge3/envs/home_env/lib/python3.9/site-packages/sklearn/metrics/_classification.py:1318: UndefinedMetricWarning: Precision is ill-defined and being set to 0.0 due to no predicted samples. Use `zero_division` parameter to control this behavior.\n",
      "  _warn_prf(average, modifier, msg_start, len(result))\n",
      "/Users/matthewosborne/miniforge3/envs/home_env/lib/python3.9/site-packages/sklearn/metrics/_classification.py:1318: UndefinedMetricWarning: Precision is ill-defined and being set to 0.0 due to no predicted samples. Use `zero_division` parameter to control this behavior.\n",
      "  _warn_prf(average, modifier, msg_start, len(result))\n",
      "/Users/matthewosborne/miniforge3/envs/home_env/lib/python3.9/site-packages/sklearn/metrics/_classification.py:1318: UndefinedMetricWarning: Precision is ill-defined and being set to 0.0 due to no predicted samples. Use `zero_division` parameter to control this behavior.\n",
      "  _warn_prf(average, modifier, msg_start, len(result))\n",
      "/Users/matthewosborne/miniforge3/envs/home_env/lib/python3.9/site-packages/sklearn/metrics/_classification.py:1318: UndefinedMetricWarning: Precision is ill-defined and being set to 0.0 due to no predicted samples. Use `zero_division` parameter to control this behavior.\n",
      "  _warn_prf(average, modifier, msg_start, len(result))\n",
      "/Users/matthewosborne/miniforge3/envs/home_env/lib/python3.9/site-packages/sklearn/metrics/_classification.py:1318: UndefinedMetricWarning: Precision is ill-defined and being set to 0.0 due to no predicted samples. Use `zero_division` parameter to control this behavior.\n",
      "  _warn_prf(average, modifier, msg_start, len(result))\n",
      "/Users/matthewosborne/miniforge3/envs/home_env/lib/python3.9/site-packages/sklearn/metrics/_classification.py:1318: UndefinedMetricWarning: Precision is ill-defined and being set to 0.0 due to no predicted samples. Use `zero_division` parameter to control this behavior.\n",
      "  _warn_prf(average, modifier, msg_start, len(result))\n",
      "/Users/matthewosborne/miniforge3/envs/home_env/lib/python3.9/site-packages/sklearn/metrics/_classification.py:1318: UndefinedMetricWarning: Precision is ill-defined and being set to 0.0 due to no predicted samples. Use `zero_division` parameter to control this behavior.\n",
      "  _warn_prf(average, modifier, msg_start, len(result))\n",
      "/Users/matthewosborne/miniforge3/envs/home_env/lib/python3.9/site-packages/sklearn/metrics/_classification.py:1318: UndefinedMetricWarning: Precision is ill-defined and being set to 0.0 due to no predicted samples. Use `zero_division` parameter to control this behavior.\n",
      "  _warn_prf(average, modifier, msg_start, len(result))\n",
      "/Users/matthewosborne/miniforge3/envs/home_env/lib/python3.9/site-packages/sklearn/metrics/_classification.py:1318: UndefinedMetricWarning: Precision is ill-defined and being set to 0.0 due to no predicted samples. Use `zero_division` parameter to control this behavior.\n",
      "  _warn_prf(average, modifier, msg_start, len(result))\n",
      "/Users/matthewosborne/miniforge3/envs/home_env/lib/python3.9/site-packages/sklearn/metrics/_classification.py:1318: UndefinedMetricWarning: Precision is ill-defined and being set to 0.0 due to no predicted samples. Use `zero_division` parameter to control this behavior.\n",
      "  _warn_prf(average, modifier, msg_start, len(result))\n",
      "/Users/matthewosborne/miniforge3/envs/home_env/lib/python3.9/site-packages/sklearn/metrics/_classification.py:1318: UndefinedMetricWarning: Precision is ill-defined and being set to 0.0 due to no predicted samples. Use `zero_division` parameter to control this behavior.\n",
      "  _warn_prf(average, modifier, msg_start, len(result))\n",
      "/Users/matthewosborne/miniforge3/envs/home_env/lib/python3.9/site-packages/sklearn/metrics/_classification.py:1318: UndefinedMetricWarning: Precision is ill-defined and being set to 0.0 due to no predicted samples. Use `zero_division` parameter to control this behavior.\n",
      "  _warn_prf(average, modifier, msg_start, len(result))\n",
      "/Users/matthewosborne/miniforge3/envs/home_env/lib/python3.9/site-packages/sklearn/metrics/_classification.py:1318: UndefinedMetricWarning: Precision is ill-defined and being set to 0.0 due to no predicted samples. Use `zero_division` parameter to control this behavior.\n",
      "  _warn_prf(average, modifier, msg_start, len(result))\n",
      "/Users/matthewosborne/miniforge3/envs/home_env/lib/python3.9/site-packages/sklearn/metrics/_classification.py:1318: UndefinedMetricWarning: Precision is ill-defined and being set to 0.0 due to no predicted samples. Use `zero_division` parameter to control this behavior.\n",
      "  _warn_prf(average, modifier, msg_start, len(result))\n",
      "/Users/matthewosborne/miniforge3/envs/home_env/lib/python3.9/site-packages/sklearn/metrics/_classification.py:1318: UndefinedMetricWarning: Precision is ill-defined and being set to 0.0 due to no predicted samples. Use `zero_division` parameter to control this behavior.\n",
      "  _warn_prf(average, modifier, msg_start, len(result))\n",
      "/Users/matthewosborne/miniforge3/envs/home_env/lib/python3.9/site-packages/sklearn/metrics/_classification.py:1318: UndefinedMetricWarning: Precision is ill-defined and being set to 0.0 due to no predicted samples. Use `zero_division` parameter to control this behavior.\n",
      "  _warn_prf(average, modifier, msg_start, len(result))\n",
      "/Users/matthewosborne/miniforge3/envs/home_env/lib/python3.9/site-packages/sklearn/metrics/_classification.py:1318: UndefinedMetricWarning: Precision is ill-defined and being set to 0.0 due to no predicted samples. Use `zero_division` parameter to control this behavior.\n",
      "  _warn_prf(average, modifier, msg_start, len(result))\n",
      "/Users/matthewosborne/miniforge3/envs/home_env/lib/python3.9/site-packages/sklearn/metrics/_classification.py:1318: UndefinedMetricWarning: Precision is ill-defined and being set to 0.0 due to no predicted samples. Use `zero_division` parameter to control this behavior.\n",
      "  _warn_prf(average, modifier, msg_start, len(result))\n",
      "/Users/matthewosborne/miniforge3/envs/home_env/lib/python3.9/site-packages/sklearn/metrics/_classification.py:1318: UndefinedMetricWarning: Precision is ill-defined and being set to 0.0 due to no predicted samples. Use `zero_division` parameter to control this behavior.\n",
      "  _warn_prf(average, modifier, msg_start, len(result))\n",
      "/Users/matthewosborne/miniforge3/envs/home_env/lib/python3.9/site-packages/sklearn/metrics/_classification.py:1318: UndefinedMetricWarning: Precision is ill-defined and being set to 0.0 due to no predicted samples. Use `zero_division` parameter to control this behavior.\n",
      "  _warn_prf(average, modifier, msg_start, len(result))\n",
      "/Users/matthewosborne/miniforge3/envs/home_env/lib/python3.9/site-packages/sklearn/metrics/_classification.py:1318: UndefinedMetricWarning: Precision is ill-defined and being set to 0.0 due to no predicted samples. Use `zero_division` parameter to control this behavior.\n",
      "  _warn_prf(average, modifier, msg_start, len(result))\n",
      "/Users/matthewosborne/miniforge3/envs/home_env/lib/python3.9/site-packages/sklearn/metrics/_classification.py:1318: UndefinedMetricWarning: Precision is ill-defined and being set to 0.0 due to no predicted samples. Use `zero_division` parameter to control this behavior.\n",
      "  _warn_prf(average, modifier, msg_start, len(result))\n",
      "/Users/matthewosborne/miniforge3/envs/home_env/lib/python3.9/site-packages/sklearn/metrics/_classification.py:1318: UndefinedMetricWarning: Precision is ill-defined and being set to 0.0 due to no predicted samples. Use `zero_division` parameter to control this behavior.\n",
      "  _warn_prf(average, modifier, msg_start, len(result))\n",
      "/Users/matthewosborne/miniforge3/envs/home_env/lib/python3.9/site-packages/sklearn/metrics/_classification.py:1318: UndefinedMetricWarning: Precision is ill-defined and being set to 0.0 due to no predicted samples. Use `zero_division` parameter to control this behavior.\n",
      "  _warn_prf(average, modifier, msg_start, len(result))\n",
      "/Users/matthewosborne/miniforge3/envs/home_env/lib/python3.9/site-packages/sklearn/metrics/_classification.py:1318: UndefinedMetricWarning: Precision is ill-defined and being set to 0.0 due to no predicted samples. Use `zero_division` parameter to control this behavior.\n",
      "  _warn_prf(average, modifier, msg_start, len(result))\n",
      "/Users/matthewosborne/miniforge3/envs/home_env/lib/python3.9/site-packages/sklearn/metrics/_classification.py:1318: UndefinedMetricWarning: Precision is ill-defined and being set to 0.0 due to no predicted samples. Use `zero_division` parameter to control this behavior.\n",
      "  _warn_prf(average, modifier, msg_start, len(result))\n",
      "/Users/matthewosborne/miniforge3/envs/home_env/lib/python3.9/site-packages/sklearn/metrics/_classification.py:1318: UndefinedMetricWarning: Precision is ill-defined and being set to 0.0 due to no predicted samples. Use `zero_division` parameter to control this behavior.\n",
      "  _warn_prf(average, modifier, msg_start, len(result))\n",
      "/Users/matthewosborne/miniforge3/envs/home_env/lib/python3.9/site-packages/sklearn/metrics/_classification.py:1318: UndefinedMetricWarning: Precision is ill-defined and being set to 0.0 due to no predicted samples. Use `zero_division` parameter to control this behavior.\n",
      "  _warn_prf(average, modifier, msg_start, len(result))\n",
      "/Users/matthewosborne/miniforge3/envs/home_env/lib/python3.9/site-packages/sklearn/metrics/_classification.py:1318: UndefinedMetricWarning: Precision is ill-defined and being set to 0.0 due to no predicted samples. Use `zero_division` parameter to control this behavior.\n",
      "  _warn_prf(average, modifier, msg_start, len(result))\n",
      "/Users/matthewosborne/miniforge3/envs/home_env/lib/python3.9/site-packages/sklearn/metrics/_classification.py:1318: UndefinedMetricWarning: Precision is ill-defined and being set to 0.0 due to no predicted samples. Use `zero_division` parameter to control this behavior.\n",
      "  _warn_prf(average, modifier, msg_start, len(result))\n",
      "/Users/matthewosborne/miniforge3/envs/home_env/lib/python3.9/site-packages/sklearn/metrics/_classification.py:1318: UndefinedMetricWarning: Precision is ill-defined and being set to 0.0 due to no predicted samples. Use `zero_division` parameter to control this behavior.\n",
      "  _warn_prf(average, modifier, msg_start, len(result))\n",
      "/Users/matthewosborne/miniforge3/envs/home_env/lib/python3.9/site-packages/sklearn/metrics/_classification.py:1318: UndefinedMetricWarning: Precision is ill-defined and being set to 0.0 due to no predicted samples. Use `zero_division` parameter to control this behavior.\n",
      "  _warn_prf(average, modifier, msg_start, len(result))\n",
      "/Users/matthewosborne/miniforge3/envs/home_env/lib/python3.9/site-packages/sklearn/metrics/_classification.py:1318: UndefinedMetricWarning: Precision is ill-defined and being set to 0.0 due to no predicted samples. Use `zero_division` parameter to control this behavior.\n",
      "  _warn_prf(average, modifier, msg_start, len(result))\n",
      "/Users/matthewosborne/miniforge3/envs/home_env/lib/python3.9/site-packages/sklearn/metrics/_classification.py:1318: UndefinedMetricWarning: Precision is ill-defined and being set to 0.0 due to no predicted samples. Use `zero_division` parameter to control this behavior.\n",
      "  _warn_prf(average, modifier, msg_start, len(result))\n",
      "/Users/matthewosborne/miniforge3/envs/home_env/lib/python3.9/site-packages/sklearn/metrics/_classification.py:1318: UndefinedMetricWarning: Precision is ill-defined and being set to 0.0 due to no predicted samples. Use `zero_division` parameter to control this behavior.\n",
      "  _warn_prf(average, modifier, msg_start, len(result))\n",
      "/Users/matthewosborne/miniforge3/envs/home_env/lib/python3.9/site-packages/sklearn/metrics/_classification.py:1318: UndefinedMetricWarning: Precision is ill-defined and being set to 0.0 due to no predicted samples. Use `zero_division` parameter to control this behavior.\n",
      "  _warn_prf(average, modifier, msg_start, len(result))\n",
      "/Users/matthewosborne/miniforge3/envs/home_env/lib/python3.9/site-packages/sklearn/metrics/_classification.py:1318: UndefinedMetricWarning: Precision is ill-defined and being set to 0.0 due to no predicted samples. Use `zero_division` parameter to control this behavior.\n",
      "  _warn_prf(average, modifier, msg_start, len(result))\n",
      "/Users/matthewosborne/miniforge3/envs/home_env/lib/python3.9/site-packages/sklearn/metrics/_classification.py:1318: UndefinedMetricWarning: Precision is ill-defined and being set to 0.0 due to no predicted samples. Use `zero_division` parameter to control this behavior.\n",
      "  _warn_prf(average, modifier, msg_start, len(result))\n",
      "/Users/matthewosborne/miniforge3/envs/home_env/lib/python3.9/site-packages/sklearn/metrics/_classification.py:1318: UndefinedMetricWarning: Precision is ill-defined and being set to 0.0 due to no predicted samples. Use `zero_division` parameter to control this behavior.\n",
      "  _warn_prf(average, modifier, msg_start, len(result))\n",
      "/Users/matthewosborne/miniforge3/envs/home_env/lib/python3.9/site-packages/sklearn/metrics/_classification.py:1318: UndefinedMetricWarning: Precision is ill-defined and being set to 0.0 due to no predicted samples. Use `zero_division` parameter to control this behavior.\n",
      "  _warn_prf(average, modifier, msg_start, len(result))\n",
      "/Users/matthewosborne/miniforge3/envs/home_env/lib/python3.9/site-packages/sklearn/metrics/_classification.py:1318: UndefinedMetricWarning: Precision is ill-defined and being set to 0.0 due to no predicted samples. Use `zero_division` parameter to control this behavior.\n",
      "  _warn_prf(average, modifier, msg_start, len(result))\n",
      "/Users/matthewosborne/miniforge3/envs/home_env/lib/python3.9/site-packages/sklearn/metrics/_classification.py:1318: UndefinedMetricWarning: Precision is ill-defined and being set to 0.0 due to no predicted samples. Use `zero_division` parameter to control this behavior.\n",
      "  _warn_prf(average, modifier, msg_start, len(result))\n",
      "/Users/matthewosborne/miniforge3/envs/home_env/lib/python3.9/site-packages/sklearn/metrics/_classification.py:1318: UndefinedMetricWarning: Precision is ill-defined and being set to 0.0 due to no predicted samples. Use `zero_division` parameter to control this behavior.\n",
      "  _warn_prf(average, modifier, msg_start, len(result))\n",
      "/Users/matthewosborne/miniforge3/envs/home_env/lib/python3.9/site-packages/sklearn/metrics/_classification.py:1318: UndefinedMetricWarning: Precision is ill-defined and being set to 0.0 due to no predicted samples. Use `zero_division` parameter to control this behavior.\n",
      "  _warn_prf(average, modifier, msg_start, len(result))\n",
      "/Users/matthewosborne/miniforge3/envs/home_env/lib/python3.9/site-packages/sklearn/metrics/_classification.py:1318: UndefinedMetricWarning: Precision is ill-defined and being set to 0.0 due to no predicted samples. Use `zero_division` parameter to control this behavior.\n",
      "  _warn_prf(average, modifier, msg_start, len(result))\n",
      "/Users/matthewosborne/miniforge3/envs/home_env/lib/python3.9/site-packages/sklearn/metrics/_classification.py:1318: UndefinedMetricWarning: Precision is ill-defined and being set to 0.0 due to no predicted samples. Use `zero_division` parameter to control this behavior.\n",
      "  _warn_prf(average, modifier, msg_start, len(result))\n",
      "/Users/matthewosborne/miniforge3/envs/home_env/lib/python3.9/site-packages/sklearn/metrics/_classification.py:1318: UndefinedMetricWarning: Precision is ill-defined and being set to 0.0 due to no predicted samples. Use `zero_division` parameter to control this behavior.\n",
      "  _warn_prf(average, modifier, msg_start, len(result))\n",
      "/Users/matthewosborne/miniforge3/envs/home_env/lib/python3.9/site-packages/sklearn/metrics/_classification.py:1318: UndefinedMetricWarning: Precision is ill-defined and being set to 0.0 due to no predicted samples. Use `zero_division` parameter to control this behavior.\n",
      "  _warn_prf(average, modifier, msg_start, len(result))\n",
      "/Users/matthewosborne/miniforge3/envs/home_env/lib/python3.9/site-packages/sklearn/metrics/_classification.py:1318: UndefinedMetricWarning: Precision is ill-defined and being set to 0.0 due to no predicted samples. Use `zero_division` parameter to control this behavior.\n",
      "  _warn_prf(average, modifier, msg_start, len(result))\n",
      "/Users/matthewosborne/miniforge3/envs/home_env/lib/python3.9/site-packages/sklearn/metrics/_classification.py:1318: UndefinedMetricWarning: Precision is ill-defined and being set to 0.0 due to no predicted samples. Use `zero_division` parameter to control this behavior.\n",
      "  _warn_prf(average, modifier, msg_start, len(result))\n",
      "/Users/matthewosborne/miniforge3/envs/home_env/lib/python3.9/site-packages/sklearn/metrics/_classification.py:1318: UndefinedMetricWarning: Precision is ill-defined and being set to 0.0 due to no predicted samples. Use `zero_division` parameter to control this behavior.\n",
      "  _warn_prf(average, modifier, msg_start, len(result))\n",
      "/Users/matthewosborne/miniforge3/envs/home_env/lib/python3.9/site-packages/sklearn/metrics/_classification.py:1318: UndefinedMetricWarning: Precision is ill-defined and being set to 0.0 due to no predicted samples. Use `zero_division` parameter to control this behavior.\n",
      "  _warn_prf(average, modifier, msg_start, len(result))\n",
      "/Users/matthewosborne/miniforge3/envs/home_env/lib/python3.9/site-packages/sklearn/metrics/_classification.py:1318: UndefinedMetricWarning: Precision is ill-defined and being set to 0.0 due to no predicted samples. Use `zero_division` parameter to control this behavior.\n",
      "  _warn_prf(average, modifier, msg_start, len(result))\n",
      "/Users/matthewosborne/miniforge3/envs/home_env/lib/python3.9/site-packages/sklearn/metrics/_classification.py:1318: UndefinedMetricWarning: Precision is ill-defined and being set to 0.0 due to no predicted samples. Use `zero_division` parameter to control this behavior.\n",
      "  _warn_prf(average, modifier, msg_start, len(result))\n",
      "/Users/matthewosborne/miniforge3/envs/home_env/lib/python3.9/site-packages/sklearn/metrics/_classification.py:1318: UndefinedMetricWarning: Precision is ill-defined and being set to 0.0 due to no predicted samples. Use `zero_division` parameter to control this behavior.\n",
      "  _warn_prf(average, modifier, msg_start, len(result))\n",
      "/Users/matthewosborne/miniforge3/envs/home_env/lib/python3.9/site-packages/sklearn/metrics/_classification.py:1318: UndefinedMetricWarning: Precision is ill-defined and being set to 0.0 due to no predicted samples. Use `zero_division` parameter to control this behavior.\n",
      "  _warn_prf(average, modifier, msg_start, len(result))\n",
      "/Users/matthewosborne/miniforge3/envs/home_env/lib/python3.9/site-packages/sklearn/metrics/_classification.py:1318: UndefinedMetricWarning: Precision is ill-defined and being set to 0.0 due to no predicted samples. Use `zero_division` parameter to control this behavior.\n",
      "  _warn_prf(average, modifier, msg_start, len(result))\n",
      "/Users/matthewosborne/miniforge3/envs/home_env/lib/python3.9/site-packages/sklearn/metrics/_classification.py:1318: UndefinedMetricWarning: Precision is ill-defined and being set to 0.0 due to no predicted samples. Use `zero_division` parameter to control this behavior.\n",
      "  _warn_prf(average, modifier, msg_start, len(result))\n",
      "/Users/matthewosborne/miniforge3/envs/home_env/lib/python3.9/site-packages/sklearn/metrics/_classification.py:1318: UndefinedMetricWarning: Precision is ill-defined and being set to 0.0 due to no predicted samples. Use `zero_division` parameter to control this behavior.\n",
      "  _warn_prf(average, modifier, msg_start, len(result))\n",
      "/Users/matthewosborne/miniforge3/envs/home_env/lib/python3.9/site-packages/sklearn/metrics/_classification.py:1318: UndefinedMetricWarning: Precision is ill-defined and being set to 0.0 due to no predicted samples. Use `zero_division` parameter to control this behavior.\n",
      "  _warn_prf(average, modifier, msg_start, len(result))\n",
      "/Users/matthewosborne/miniforge3/envs/home_env/lib/python3.9/site-packages/sklearn/metrics/_classification.py:1318: UndefinedMetricWarning: Precision is ill-defined and being set to 0.0 due to no predicted samples. Use `zero_division` parameter to control this behavior.\n",
      "  _warn_prf(average, modifier, msg_start, len(result))\n",
      "/Users/matthewosborne/miniforge3/envs/home_env/lib/python3.9/site-packages/sklearn/metrics/_classification.py:1318: UndefinedMetricWarning: Precision is ill-defined and being set to 0.0 due to no predicted samples. Use `zero_division` parameter to control this behavior.\n",
      "  _warn_prf(average, modifier, msg_start, len(result))\n",
      "/Users/matthewosborne/miniforge3/envs/home_env/lib/python3.9/site-packages/sklearn/metrics/_classification.py:1318: UndefinedMetricWarning: Precision is ill-defined and being set to 0.0 due to no predicted samples. Use `zero_division` parameter to control this behavior.\n",
      "  _warn_prf(average, modifier, msg_start, len(result))\n",
      "/Users/matthewosborne/miniforge3/envs/home_env/lib/python3.9/site-packages/sklearn/metrics/_classification.py:1318: UndefinedMetricWarning: Precision is ill-defined and being set to 0.0 due to no predicted samples. Use `zero_division` parameter to control this behavior.\n",
      "  _warn_prf(average, modifier, msg_start, len(result))\n",
      "/Users/matthewosborne/miniforge3/envs/home_env/lib/python3.9/site-packages/sklearn/metrics/_classification.py:1318: UndefinedMetricWarning: Precision is ill-defined and being set to 0.0 due to no predicted samples. Use `zero_division` parameter to control this behavior.\n",
      "  _warn_prf(average, modifier, msg_start, len(result))\n",
      "/Users/matthewosborne/miniforge3/envs/home_env/lib/python3.9/site-packages/sklearn/metrics/_classification.py:1318: UndefinedMetricWarning: Precision is ill-defined and being set to 0.0 due to no predicted samples. Use `zero_division` parameter to control this behavior.\n",
      "  _warn_prf(average, modifier, msg_start, len(result))\n",
      "/Users/matthewosborne/miniforge3/envs/home_env/lib/python3.9/site-packages/sklearn/metrics/_classification.py:1318: UndefinedMetricWarning: Precision is ill-defined and being set to 0.0 due to no predicted samples. Use `zero_division` parameter to control this behavior.\n",
      "  _warn_prf(average, modifier, msg_start, len(result))\n",
      "/Users/matthewosborne/miniforge3/envs/home_env/lib/python3.9/site-packages/sklearn/metrics/_classification.py:1318: UndefinedMetricWarning: Precision is ill-defined and being set to 0.0 due to no predicted samples. Use `zero_division` parameter to control this behavior.\n",
      "  _warn_prf(average, modifier, msg_start, len(result))\n",
      "/Users/matthewosborne/miniforge3/envs/home_env/lib/python3.9/site-packages/sklearn/metrics/_classification.py:1318: UndefinedMetricWarning: Precision is ill-defined and being set to 0.0 due to no predicted samples. Use `zero_division` parameter to control this behavior.\n",
      "  _warn_prf(average, modifier, msg_start, len(result))\n",
      "/Users/matthewosborne/miniforge3/envs/home_env/lib/python3.9/site-packages/sklearn/metrics/_classification.py:1318: UndefinedMetricWarning: Precision is ill-defined and being set to 0.0 due to no predicted samples. Use `zero_division` parameter to control this behavior.\n",
      "  _warn_prf(average, modifier, msg_start, len(result))\n",
      "/Users/matthewosborne/miniforge3/envs/home_env/lib/python3.9/site-packages/sklearn/metrics/_classification.py:1318: UndefinedMetricWarning: Precision is ill-defined and being set to 0.0 due to no predicted samples. Use `zero_division` parameter to control this behavior.\n",
      "  _warn_prf(average, modifier, msg_start, len(result))\n",
      "/Users/matthewosborne/miniforge3/envs/home_env/lib/python3.9/site-packages/sklearn/metrics/_classification.py:1318: UndefinedMetricWarning: Precision is ill-defined and being set to 0.0 due to no predicted samples. Use `zero_division` parameter to control this behavior.\n",
      "  _warn_prf(average, modifier, msg_start, len(result))\n",
      "/Users/matthewosborne/miniforge3/envs/home_env/lib/python3.9/site-packages/sklearn/metrics/_classification.py:1318: UndefinedMetricWarning: Precision is ill-defined and being set to 0.0 due to no predicted samples. Use `zero_division` parameter to control this behavior.\n",
      "  _warn_prf(average, modifier, msg_start, len(result))\n",
      "/Users/matthewosborne/miniforge3/envs/home_env/lib/python3.9/site-packages/sklearn/metrics/_classification.py:1318: UndefinedMetricWarning: Precision is ill-defined and being set to 0.0 due to no predicted samples. Use `zero_division` parameter to control this behavior.\n",
      "  _warn_prf(average, modifier, msg_start, len(result))\n",
      "/Users/matthewosborne/miniforge3/envs/home_env/lib/python3.9/site-packages/sklearn/metrics/_classification.py:1318: UndefinedMetricWarning: Precision is ill-defined and being set to 0.0 due to no predicted samples. Use `zero_division` parameter to control this behavior.\n",
      "  _warn_prf(average, modifier, msg_start, len(result))\n",
      "/Users/matthewosborne/miniforge3/envs/home_env/lib/python3.9/site-packages/sklearn/metrics/_classification.py:1318: UndefinedMetricWarning: Precision is ill-defined and being set to 0.0 due to no predicted samples. Use `zero_division` parameter to control this behavior.\n",
      "  _warn_prf(average, modifier, msg_start, len(result))\n",
      "/Users/matthewosborne/miniforge3/envs/home_env/lib/python3.9/site-packages/sklearn/metrics/_classification.py:1318: UndefinedMetricWarning: Precision is ill-defined and being set to 0.0 due to no predicted samples. Use `zero_division` parameter to control this behavior.\n",
      "  _warn_prf(average, modifier, msg_start, len(result))\n"
     ]
    }
   ],
   "source": [
    "cs = np.linspace(-5,6,100)\n",
    "\n",
    "cv_tprs = np.zeros((5, len(cs)))\n",
    "cv_fprs = np.zeros((5, len(cs)))\n",
    "cv_precs = np.zeros((5, len(cs)))\n",
    "\n",
    "kfold = StratifiedKFold(5, shuffle=True, random_state=321)\n",
    "\n",
    "i = 0\n",
    "for train_index, test_index in kfold.split(X_train, y_train):\n",
    "    X_tt = X_train[train_index, :]\n",
    "    X_ho = X_train[test_index, :]\n",
    "    y_tt = y_train[train_index]\n",
    "    y_ho = y_train[test_index]\n",
    "    \n",
    "    pipe = Pipeline([('scale', StandardScaler()),\n",
    "                        ('lda', LinearDiscriminantAnalysis())])\n",
    "    \n",
    "    pipe.fit(X_tt, y_tt)\n",
    "    \n",
    "    fishers = pipe.transform(X_ho)\n",
    "    \n",
    "    j = 0\n",
    "    for c in cs:\n",
    "        preds = 1*(fishers >= c)\n",
    "        \n",
    "        conf_mat = confusion_matrix(y_ho, preds)\n",
    "        \n",
    "        cv_precs[i,j] = precision_score(y_ho, preds)\n",
    "        \n",
    "        cv_tprs[i,j] = conf_mat[1,1]/(conf_mat[1,0] + conf_mat[1,1])\n",
    "        cv_fprs[i,j] = conf_mat[0,1]/(conf_mat[0,0] + conf_mat[0,1])\n",
    "        \n",
    "        j = j + 1\n",
    "    i = i + 1"
   ]
  },
  {
   "cell_type": "code",
   "execution_count": 20,
   "id": "6cadb90c",
   "metadata": {},
   "outputs": [
    {
     "data": {
      "image/png": "[encoded data removed]",
      "text/plain": [
       "<Figure size 864x432 with 1 Axes>"
      ]
     },
     "metadata": {},
     "output_type": "display_data"
    }
   ],
   "source": [
    "plt.figure(figsize=(12,6))\n",
    "\n",
    "plt.plot(cs, np.mean(cv_tprs, axis=0), label='TPR')\n",
    "plt.plot(cs, np.mean(cv_fprs, axis=0), '--', label='FPR')\n",
    "plt.plot(cs, np.mean(cv_precs, axis=0), '-.', label='Precision')\n",
    "\n",
    "plt.xlabel(\"Cutoff Value\", fontsize=16)\n",
    "plt.ylabel(\"Metric\", fontsize=16)\n",
    "\n",
    "plt.legend(fontsize=14)\n",
    "plt.yticks(np.arange(0,1.1,.1), fontsize=14)\n",
    "plt.xticks(np.arange(-5, 7, 1), fontsize=14)\n",
    "plt.yticks(fontsize=14)\n",
    "\n",
    "plt.show()"
   ]
  },
  {
   "cell_type": "markdown",
   "id": "7cb63141",
   "metadata": {},
   "source": [
    "A cutoff of $0$ gives a decent classifier."
   ]
  },
  {
   "cell_type": "markdown",
   "id": "ce31824f",
   "metadata": {},
   "source": [
    "##### 4. Spam Classification\n",
    "\n",
    "One of the initial uses for the na&#xEF;ve Bayes classifier was as an email spam detection algorithm. In this problem you will build such a model.\n",
    "\n",
    "The data contained in `SMSSpamCollection.tsv` contains $5{,}572$ SMS messages that have been classified as either a spam message or a ham message (aka not spam).\n",
    "\n",
    "Read in the file, `SMSSpamCollection.tsv` from the `Data` file, then make a `target` column that is `0` if the observation has an `outcome` column value of `\"ham\"` and a `1` if it is `\"spam\"`. Finally make a train test split stratified on the `target` column.\n",
    "\n",
    "<i>Note: Some of the messages may include inappropriate language</i>."
   ]
  },
  {
   "cell_type": "code",
   "execution_count": 21,
   "id": "f90dc4d7",
   "metadata": {},
   "outputs": [],
   "source": [
    "spam = pd.read_table(\"../../../Data/SMSSpamCollection.tsv\")\n",
    "\n",
    "spam['target'] = 0\n",
    "spam.loc[spam.outcome=='spam','target'] = 1"
   ]
  },
  {
   "cell_type": "code",
   "execution_count": 22,
   "id": "62b71305",
   "metadata": {},
   "outputs": [],
   "source": [
    "spam_train, spam_test = train_test_split(spam.copy(),\n",
    "                                            shuffle=True,\n",
    "                                            random_state=4314,\n",
    "                                            test_size=.2,\n",
    "                                            stratify=spam['target'])"
   ]
  },
  {
   "cell_type": "markdown",
   "id": "11021ea9",
   "metadata": {},
   "source": [
    "Using the training set, what is the split between spam and ham messages? Again using the training set to estimate, what would we expect a model that classifies everything as `\"ham\"` to have as its accuracy, true positive rate and false positive rate?"
   ]
  },
  {
   "cell_type": "code",
   "execution_count": 23,
   "id": "f893aa76",
   "metadata": {},
   "outputs": [
    {
     "data": {
      "text/plain": [
       "ham     0.865829\n",
       "spam    0.134171\n",
       "Name: outcome, dtype: float64"
      ]
     },
     "execution_count": 23,
     "metadata": {},
     "output_type": "execute_result"
    }
   ],
   "source": [
    "spam_train.outcome.value_counts(normalize=True)"
   ]
  },
  {
   "cell_type": "markdown",
   "id": "2d804848",
   "metadata": {},
   "source": [
    "We would expect such a baseline model to have $86.6\\%$ accuracy and true and false positive rates of $0$, assuming we treat spam as the positive class."
   ]
  },
  {
   "cell_type": "markdown",
   "id": "f32270d3",
   "metadata": {},
   "source": [
    "The data we will use to build our model are $50$ indicator variables that tell you whether or not a message contains a particular word. For example the column `good` would be `1` if the message contains the word \"good\" and `0` otherwise.\n",
    "\n",
    "Use `BernoulliNB` from `sklearn.naive_bayes`, <a href=\"https://scikit-learn.org/stable/modules/classes.html#module-sklearn.naive_bayes\">https://scikit-learn.org/stable/modules/classes.html#module-sklearn.naive_bayes</a> to build the na&#xEF;ve Bayes classifier on these data. Find the average cross-validation accuracy, TPR and FPR."
   ]
  },
  {
   "cell_type": "code",
   "execution_count": 24,
   "id": "8897732d",
   "metadata": {},
   "outputs": [],
   "source": [
    "from sklearn.naive_bayes import BernoulliNB\n",
    "from sklearn.metrics import accuracy_score"
   ]
  },
  {
   "cell_type": "code",
   "execution_count": 25,
   "id": "85635dea",
   "metadata": {},
   "outputs": [],
   "source": [
    "text_columns = spam_train.columns[2:-1]\n",
    "\n",
    "cv_accs = np.zeros(5)\n",
    "cv_tprs = np.zeros(5)\n",
    "cv_fprs = np.zeros(5)\n",
    "\n",
    "\n",
    "kfold = StratifiedKFold(5,shuffle=True,random_state=431)\n",
    "\n",
    "\n",
    "\n",
    "i = 0\n",
    "for train_index, test_index in kfold.split(spam_train[text_columns], spam_train['target']):\n",
    "    spam_train_train = spam_train.iloc[train_index]\n",
    "    spam_holdout = spam_train.iloc[test_index]\n",
    "    nb = BernoulliNB()\n",
    "    \n",
    "    nb.fit(spam_train_train[text_columns], spam_train_train['target'])\n",
    "    preds = nb.predict(spam_holdout[text_columns])\n",
    "    \n",
    "    cv_accs[i] = accuracy_score(spam_holdout['target'], preds)\n",
    "    \n",
    "    conf_mat = confusion_matrix(spam_holdout['target'], preds)\n",
    "    \n",
    "    cv_tprs[i] = conf_mat[1,1]/(conf_mat[1,0] + conf_mat[1,1])\n",
    "    cv_fprs[i] = conf_mat[0,1]/(conf_mat[0,0] + conf_mat[0,1])\n",
    "\n",
    "\n",
    "    \n",
    "    i = i + 1"
   ]
  },
  {
   "cell_type": "code",
   "execution_count": 26,
   "id": "a11b2de0",
   "metadata": {},
   "outputs": [
    {
     "name": "stdout",
     "output_type": "stream",
     "text": [
      "AVG CV Accuracy:  0.9575961407799973\n",
      "AVG CV TPR:  0.7827731092436975\n",
      "AVG CV FPR:  0.01528967829949665\n"
     ]
    }
   ],
   "source": [
    "print(\"AVG CV Accuracy: \", np.mean(cv_accs))\n",
    "print(\"AVG CV TPR: \", np.mean(cv_tprs))\n",
    "print(\"AVG CV FPR: \", np.mean(cv_fprs))"
   ]
  },
  {
   "cell_type": "markdown",
   "id": "3650db2d",
   "metadata": {},
   "source": [
    "--------------------------\n",
    "\n",
    "This notebook was written for the Erd&#337;s Institute C&#337;de Data Science Boot Camp by Matthew Osborne, Ph. D., 2022.\n",
    "\n",
    "Any potential redistributors must seek and receive permission from Matthew Tyler Osborne, Ph.D. prior to redistribution. Redistribution of the material contained in this repository is conditional on acknowledgement of Matthew Tyler Osborne, Ph.D.'s original authorship and sponsorship of the Erdős Institute as subject to the license (see License.md)"
   ]
  },
  {
   "cell_type": "code",
   "execution_count": null,
   "id": "2a9a7455",
   "metadata": {},
   "outputs": [],
   "source": []
  }
 ],
 "metadata": {
  "kernelspec": {
   "display_name": "Python 3 (ipykernel)",
   "language": "python",
   "name": "python3"
  },
  "language_info": {
   "codemirror_mode": {
    "name": "ipython",
    "version": 3
   },
   "file_extension": ".py",
   "mimetype": "text/x-python",
   "name": "python",
   "nbconvert_exporter": "python",
   "pygments_lexer": "ipython3",
   "version": "3.9.12"
  }
 },
 "nbformat": 4,
 "nbformat_minor": 5
}
