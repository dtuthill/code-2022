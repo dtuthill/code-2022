{
 "cells": [
  {
   "cell_type": "markdown",
   "id": "a16d95be",
   "metadata": {},
   "source": [
    "# $k$ Nearest Neighbors Classifier\n",
    "\n",
    "In this notebook will be some additional problems regarding the $k$-nearest neighbors classifier. This material corresponds to `Lectures/Supervised Learning/Classification/2. k Nearest Neighbors Classifier`."
   ]
  },
  {
   "cell_type": "code",
   "execution_count": 1,
   "id": "87d83d64",
   "metadata": {},
   "outputs": [],
   "source": [
    "import pandas as pd\n",
    "import numpy as np\n",
    "import matplotlib.pyplot as plt\n",
    "import seaborn as sns"
   ]
  },
  {
   "cell_type": "markdown",
   "id": "994f8043",
   "metadata": {},
   "source": [
    "##### 1. The \"perfect\" iris classifier\n",
    "\n",
    "##### a.\n",
    "\n",
    "Load the iris data set, then perform a train test split. Fit a $k$-nearest neighbors classifier on the training data with $k=1$. What is the accuracy of this model on the training set?"
   ]
  },
  {
   "cell_type": "code",
   "execution_count": 2,
   "id": "c002e455",
   "metadata": {},
   "outputs": [],
   "source": [
    "## to get the iris data\n",
    "from sklearn.datasets import load_iris\n",
    "\n",
    "## import train_test_split\n",
    "from sklearn.model_selection import train_test_split\n",
    "\n",
    "## Load the data\n",
    "iris = load_iris()\n",
    "iris_df = pd.DataFrame(iris['data'],columns = ['sepal_length','sepal_width','petal_length','petal_width'])\n",
    "iris_df['iris_class'] = iris['target']\n",
    "\n",
    "## Making the split\n",
    "iris_train, iris_test = train_test_split(iris_df, \n",
    "                                            random_state=431,\n",
    "                                            shuffle=True,\n",
    "                                            test_size=.2,\n",
    "                                            stratify=iris_df['iris_class'])"
   ]
  },
  {
   "cell_type": "markdown",
   "id": "0a1d4444",
   "metadata": {},
   "source": [
    "##### Sample Solution"
   ]
  },
  {
   "cell_type": "code",
   "execution_count": 3,
   "id": "1287b1b7",
   "metadata": {},
   "outputs": [],
   "source": [
    "## import the model\n",
    "from sklearn.neighbors import KNeighborsClassifier"
   ]
  },
  {
   "cell_type": "code",
   "execution_count": 4,
   "id": "b24d70a4",
   "metadata": {},
   "outputs": [
    {
     "data": {
      "text/plain": [
       "KNeighborsClassifier(n_neighbors=1)"
      ]
     },
     "execution_count": 4,
     "metadata": {},
     "output_type": "execute_result"
    }
   ],
   "source": [
    "knn = KNeighborsClassifier(1)\n",
    "\n",
    "knn.fit(iris_train[['sepal_length','sepal_width','petal_length','petal_width']], iris_train['iris_class'])"
   ]
  },
  {
   "cell_type": "code",
   "execution_count": 5,
   "id": "304b0c87",
   "metadata": {},
   "outputs": [
    {
     "data": {
      "text/plain": [
       "1.0"
      ]
     },
     "execution_count": 5,
     "metadata": {},
     "output_type": "execute_result"
    }
   ],
   "source": [
    "## getting the accuracy\n",
    "pred = knn.predict(iris_train[['sepal_length','sepal_width','petal_length','petal_width']])\n",
    "\n",
    "np.sum(pred==iris_train['iris_class'])/len(iris_train)"
   ]
  },
  {
   "cell_type": "markdown",
   "id": "e63282a7",
   "metadata": {},
   "source": [
    "##### b.\n",
    "\n",
    "The training accuracy of a $k$-nearest neighbors model with $k=1$ is always $1$, why is that?"
   ]
  },
  {
   "cell_type": "markdown",
   "id": "ae17a803",
   "metadata": {},
   "source": [
    "##### Sample Solution\n",
    "\n",
    "The $k$NN classifier will assign a class by looking at the proportion of a point's closest neighbors in the training space. When $k=1$ this means that we find the single training point that is closest to the point we want to predict. If that point is already in the training set, then we would automatically just assign its class as the prediction, guaranteeing perfect training performance."
   ]
  },
  {
   "cell_type": "markdown",
   "id": "e8df6be8",
   "metadata": {},
   "source": [
    "##### 2. Bias-Variance Tradeoff for KNN\n",
    "\n",
    "With $k$-nearest neighbors the complexity of the model is primarily controlled by the number of neighbors, $k$, considered when making a prediction.\n",
    "\n",
    "Which model do you expect to have the highest variance and which one do you expect to have the highest bias:\n",
    "- A model with $k=1$,\n",
    "- A model with $k=n$, where $n$ is the number of observations in the training set?\n",
    "\n",
    "In general which direction should you move $k$ to increase the bias, which direction to increase the variance?"
   ]
  },
  {
   "cell_type": "markdown",
   "id": "a99dbd83",
   "metadata": {},
   "source": [
    "##### Sample Solution\n",
    "\n",
    "The model with $k=1$ would have the highest variance, the model with $k=n$ would have the highest bias.\n",
    "\n",
    "To see this consider what happens in either scenario:\n",
    "- When $k=1$, each point will be assigned the class of the training point to which it is closest. Such a model would thus be very sensitive to what the training data turns out to be. Because variance of the model measures how much the model changes with new randomly drawn training data, this model would have high variance.\n",
    "- When $k=n$ a new data point is predicted using the entire data set. This means that any point we would want to predict is just predicted to be the class most represented in the data set. If your training set is large enough, this should not vary too much as you randomly draw different training sets. This model would thus have the lowest variance, and hence the largest bias.\n",
    "\n",
    "In general lower values of $k$ result in knn models with higher variance, while higher values of $k$ result in $k$NN models with higher bias."
   ]
  },
  {
   "cell_type": "markdown",
   "id": "a8402856",
   "metadata": {},
   "source": [
    "##### 3. Weighted Votes\n",
    "\n",
    "Sometimes it may be preferable to weight the votes, meaning that some of the $k$ nearest neighbors get more of a say in the predicted class. One common way to weight votes is by the inverse of the distance to the point you are trying to predict.\n",
    "\n",
    "Suppose you want to predict an output variable, $y$, with $\\mathcal{C}$ possible classes, using the $k$ nearest neighbors algorithm with a distance metric denoted with a $d$ (a standard choice is the euclidean distance $d(a,b) = \\sqrt{\\sum_{i=1}^m (a_i - b_i)^2}$ for two vectors $a,b \\in \\mathbb{R}^m$). Then the weighted version of $k$NN predicts that a new point $X^*$ would be the class $l$ for which:\n",
    "\n",
    "$$\n",
    "v_l = \\sum_{i \\in \\mathcal{N}(X^*)} \\frac{1}{d(X^*, X_i)} 1_{\\left\\lbrace y_i = l\\right\\rbrace},\n",
    "$$\n",
    "\n",
    "where $\\mathcal{N}(X^*)$ is the set of training points representing the $k$-nearest neighbors of $X^*$ and $1_{\\left\\lbrace y_i = l\\right\\rbrace}$ is $1$ when $y_i = l$ and $0$ when $y_i\\neq l$.\n",
    "\n",
    "For the iris data set perform cross-validation to investigate whether weighted $k$NN outperforms unweighted $k$NN in terms of the accuracy. Do this for $k=1,\\dots,10$.\n",
    "\n",
    "Look at the `KNeighborsClassifier` documentation, <a href=\"https://scikit-learn.org/stable/modules/generated/sklearn.neighbors.KNeighborsClassifier.html\">https://scikit-learn.org/stable/modules/generated/sklearn.neighbors.KNeighborsClassifier.html</a> to see how to implement weighted $k$NN. "
   ]
  },
  {
   "cell_type": "markdown",
   "id": "04b3af6c",
   "metadata": {},
   "source": [
    "##### Sample Solution"
   ]
  },
  {
   "cell_type": "code",
   "execution_count": 6,
   "id": "c01f31c9",
   "metadata": {},
   "outputs": [],
   "source": [
    "from sklearn.model_selection import StratifiedKFold\n",
    "from sklearn.metrics import accuracy_score"
   ]
  },
  {
   "cell_type": "code",
   "execution_count": 7,
   "id": "dec9f833",
   "metadata": {},
   "outputs": [],
   "source": [
    "kfold = StratifiedKFold(n_splits=5, shuffle=True, random_state=1560)\n",
    "neighbors = range(1,21)\n",
    "\n",
    "knn_cvs = np.zeros((5,len(neighbors)))\n",
    "wknn_cvs = np.zeros((5,len(neighbors)))\n",
    "\n",
    "i = 0\n",
    "for train_index, test_index in kfold.split(iris_train[['sepal_length','sepal_width','petal_length','petal_width']],\n",
    "                                              iris_train['iris_class']):\n",
    "    iris_train_train = iris_train.iloc[train_index]\n",
    "    iris_holdout = iris_train.iloc[test_index]\n",
    "    j = 0\n",
    "    for n in neighbors:\n",
    "        knn = KNeighborsClassifier(n)\n",
    "        wknn = KNeighborsClassifier(n, weights='distance')\n",
    "        \n",
    "        knn.fit(iris_train_train[['sepal_length','sepal_width','petal_length','petal_width']],\n",
    "                   iris_train_train['iris_class'])\n",
    "        wknn.fit(iris_train_train[['sepal_length','sepal_width','petal_length','petal_width']],\n",
    "                    iris_train_train['iris_class'])\n",
    "        \n",
    "        knn_pred = knn.predict(iris_holdout[['sepal_length','sepal_width','petal_length','petal_width']])\n",
    "        wknn_pred = wknn.predict(iris_holdout[['sepal_length','sepal_width','petal_length','petal_width']])\n",
    "        \n",
    "        knn_cvs[i,j] = accuracy_score(iris_holdout['iris_class'], knn_pred)\n",
    "        wknn_cvs[i,j] = accuracy_score(iris_holdout['iris_class'], wknn_pred)\n",
    "        j= j + 1\n",
    "    i = i + 1"
   ]
  },
  {
   "cell_type": "code",
   "execution_count": 8,
   "id": "88d14e52",
   "metadata": {},
   "outputs": [
    {
     "data": {
      "image/png": "[encoded data removed]",
      "text/plain": [
       "<Figure size 864x576 with 1 Axes>"
      ]
     },
     "metadata": {},
     "output_type": "display_data"
    }
   ],
   "source": [
    "sns.set_style(\"darkgrid\")\n",
    "plt.figure(figsize=(12,8))\n",
    "\n",
    "plt.scatter(neighbors, np.mean(knn_cvs, axis=0), label=\"Unweighted $k$NN\", s=125, alpha=1, marker='x')\n",
    "plt.scatter(neighbors, np.mean(wknn_cvs, axis=0), label=\"Weighted $k$NN\", s=75, alpha=.6)\n",
    "\n",
    "plt.xticks(neighbors, fontsize=14)\n",
    "plt.yticks(fontsize=14)\n",
    "\n",
    "plt.xlabel(\"$k$\", fontsize=18)\n",
    "plt.ylabel(\"Mean CV Accuracy\", fontsize=18)\n",
    "plt.legend(fontsize=16)\n",
    "\n",
    "plt.show()"
   ]
  },
  {
   "cell_type": "markdown",
   "id": "b1da7beb",
   "metadata": {},
   "source": [
    "##### 4. Training and prediction times\n",
    "\n",
    "How is the training time for $k$-nearest neighbors impacted by the size of the training set, $n$, that is, as $n$ gets larger what happens to the training time?\n",
    "\n",
    "\n",
    "What happens to the prediction time, the time it takes for the algorithm to make a prediction, as $n$ gets larger?"
   ]
  },
  {
   "cell_type": "markdown",
   "id": "0307831a",
   "metadata": {},
   "source": [
    "##### Sample Solution\n",
    "\n",
    "The size of the training set has no impact on the training time for the $k$NN model. This is because the model does not have a proper training step because there are no model parameters to estimate.\n",
    "\n",
    "On the other hand the time it takes the $k$NN make a prediction is greatly impacted by the size of $n$. This is because the larger the training set, the more training points that need to be searched for the $k$-nearest neighbors. If your implementation of the algorithm calculates the distance to every single training point, then calculating the distances takes $n T$ seconds, where $T$ is taken to be the time to calculate the distance between two points. $T$ depends upon the number of features for your data.\n",
    "\n",
    "There are algorithms that do not calculate all the distances, namely the ball tree and kd tree algorithms, that are quicker than calculating all the possible distances, but those still have a computation time that is dependent on $n$. To learn more about those algorithms check out the `sklearn` documentation."
   ]
  },
  {
   "cell_type": "markdown",
   "id": "f0f85a11",
   "metadata": {},
   "source": [
    "--------------------------\n",
    "\n",
    "This notebook was written for the Erd&#337;s Institute C&#337;de Data Science Boot Camp by Matthew Osborne, Ph. D., 2022.\n",
    "\n",
    "Any potential redistributors must seek and receive permission from Matthew Tyler Osborne, Ph.D. prior to redistribution. Redistribution of the material contained in this repository is conditional on acknowledgement of Matthew Tyler Osborne, Ph.D.'s original authorship and sponsorship of the Erdős Institute as subject to the license (see License.md)"
   ]
  },
  {
   "cell_type": "code",
   "execution_count": null,
   "id": "16ad4457",
   "metadata": {},
   "outputs": [],
   "source": []
  }
 ],
 "metadata": {
  "kernelspec": {
   "display_name": "Python 3 (ipykernel)",
   "language": "python",
   "name": "python3"
  },
  "language_info": {
   "codemirror_mode": {
    "name": "ipython",
    "version": 3
   },
   "file_extension": ".py",
   "mimetype": "text/x-python",
   "name": "python",
   "nbconvert_exporter": "python",
   "pygments_lexer": "ipython3",
   "version": "3.9.9"
  }
 },
 "nbformat": 4,
 "nbformat_minor": 5
}
