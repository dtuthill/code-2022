{
 "cells": [
  {
   "cell_type": "markdown",
   "id": "15651843",
   "metadata": {},
   "source": [
    "# $k$ Nearest Neighbors Classifier\n",
    "\n",
    "In this notebook will be some additional problems regarding the $k$-nearest neighbors classifier. This material corresponds to `Lectures/Supervised Learning/Classification/2. k Nearest Neighbors Classifier`."
   ]
  },
  {
   "cell_type": "code",
   "execution_count": 1,
   "id": "07465a5d",
   "metadata": {},
   "outputs": [],
   "source": [
    "import pandas as pd\n",
    "import numpy as np\n",
    "import matplotlib.pyplot as plt\n",
    "import seaborn as sns"
   ]
  },
  {
   "cell_type": "markdown",
   "id": "999b2247",
   "metadata": {},
   "source": [
    "##### 1. The \"perfect\" iris classifier\n",
    "\n",
    "##### a.\n",
    "\n",
    "Load the iris data set, then perform a train test split. Fit a $k$-nearest neighbors classifier on the training data with $k=1$. What is the accuracy of this model on the training set?"
   ]
  },
  {
   "cell_type": "code",
   "execution_count": 2,
   "id": "f30ed16e",
   "metadata": {},
   "outputs": [],
   "source": [
    "## to get the iris data\n",
    "from sklearn.datasets import load_iris\n",
    "\n",
    "## import train_test_split\n",
    "from sklearn.model_selection import train_test_split\n",
    "\n",
    "## Load the data\n",
    "iris = load_iris()\n",
    "iris_df = pd.DataFrame(iris['data'],columns = ['sepal_length','sepal_width','petal_length','petal_width'])\n",
    "iris_df['iris_class'] = iris['target']\n",
    "\n",
    "## Making the split\n",
    "iris_train, iris_test = train_test_split(iris_df, \n",
    "                                            random_state=431,\n",
    "                                            shuffle=True,\n",
    "                                            test_size=.2,\n",
    "                                            stratify=iris_df['iris_class'])"
   ]
  },
  {
   "cell_type": "code",
   "execution_count": 4,
   "id": "99c0a5c5",
   "metadata": {},
   "outputs": [],
   "source": [
    "## code here\n",
    "from sklearn.neighbors import KNeighborsClassifier\n",
    "from sklearn.metrics import accuracy_score"
   ]
  },
  {
   "cell_type": "code",
   "execution_count": 10,
   "id": "f4d78600",
   "metadata": {},
   "outputs": [
    {
     "data": {
      "text/html": [
       "<style>#sk-container-id-3 {color: black;background-color: white;}#sk-container-id-3 pre{padding: 0;}#sk-container-id-3 div.sk-toggleable {background-color: white;}#sk-container-id-3 label.sk-toggleable__label {cursor: pointer;display: block;width: 100%;margin-bottom: 0;padding: 0.3em;box-sizing: border-box;text-align: center;}#sk-container-id-3 label.sk-toggleable__label-arrow:before {content: \"▸\";float: left;margin-right: 0.25em;color: #696969;}#sk-container-id-3 label.sk-toggleable__label-arrow:hover:before {color: black;}#sk-container-id-3 div.sk-estimator:hover label.sk-toggleable__label-arrow:before {color: black;}#sk-container-id-3 div.sk-toggleable__content {max-height: 0;max-width: 0;overflow: hidden;text-align: left;background-color: #f0f8ff;}#sk-container-id-3 div.sk-toggleable__content pre {margin: 0.2em;color: black;border-radius: 0.25em;background-color: #f0f8ff;}#sk-container-id-3 input.sk-toggleable__control:checked~div.sk-toggleable__content {max-height: 200px;max-width: 100%;overflow: auto;}#sk-container-id-3 input.sk-toggleable__control:checked~label.sk-toggleable__label-arrow:before {content: \"▾\";}#sk-container-id-3 div.sk-estimator input.sk-toggleable__control:checked~label.sk-toggleable__label {background-color: #d4ebff;}#sk-container-id-3 div.sk-label input.sk-toggleable__control:checked~label.sk-toggleable__label {background-color: #d4ebff;}#sk-container-id-3 input.sk-hidden--visually {border: 0;clip: rect(1px 1px 1px 1px);clip: rect(1px, 1px, 1px, 1px);height: 1px;margin: -1px;overflow: hidden;padding: 0;position: absolute;width: 1px;}#sk-container-id-3 div.sk-estimator {font-family: monospace;background-color: #f0f8ff;border: 1px dotted black;border-radius: 0.25em;box-sizing: border-box;margin-bottom: 0.5em;}#sk-container-id-3 div.sk-estimator:hover {background-color: #d4ebff;}#sk-container-id-3 div.sk-parallel-item::after {content: \"\";width: 100%;border-bottom: 1px solid gray;flex-grow: 1;}#sk-container-id-3 div.sk-label:hover label.sk-toggleable__label {background-color: #d4ebff;}#sk-container-id-3 div.sk-serial::before {content: \"\";position: absolute;border-left: 1px solid gray;box-sizing: border-box;top: 0;bottom: 0;left: 50%;z-index: 0;}#sk-container-id-3 div.sk-serial {display: flex;flex-direction: column;align-items: center;background-color: white;padding-right: 0.2em;padding-left: 0.2em;position: relative;}#sk-container-id-3 div.sk-item {position: relative;z-index: 1;}#sk-container-id-3 div.sk-parallel {display: flex;align-items: stretch;justify-content: center;background-color: white;position: relative;}#sk-container-id-3 div.sk-item::before, #sk-container-id-3 div.sk-parallel-item::before {content: \"\";position: absolute;border-left: 1px solid gray;box-sizing: border-box;top: 0;bottom: 0;left: 50%;z-index: -1;}#sk-container-id-3 div.sk-parallel-item {display: flex;flex-direction: column;z-index: 1;position: relative;background-color: white;}#sk-container-id-3 div.sk-parallel-item:first-child::after {align-self: flex-end;width: 50%;}#sk-container-id-3 div.sk-parallel-item:last-child::after {align-self: flex-start;width: 50%;}#sk-container-id-3 div.sk-parallel-item:only-child::after {width: 0;}#sk-container-id-3 div.sk-dashed-wrapped {border: 1px dashed gray;margin: 0 0.4em 0.5em 0.4em;box-sizing: border-box;padding-bottom: 0.4em;background-color: white;}#sk-container-id-3 div.sk-label label {font-family: monospace;font-weight: bold;display: inline-block;line-height: 1.2em;}#sk-container-id-3 div.sk-label-container {text-align: center;}#sk-container-id-3 div.sk-container {/* jupyter's `normalize.less` sets `[hidden] { display: none; }` but bootstrap.min.css set `[hidden] { display: none !important; }` so we also need the `!important` here to be able to override the default hidden behavior on the sphinx rendered scikit-learn.org. See: https://github.com/scikit-learn/scikit-learn/issues/21755 */display: inline-block !important;position: relative;}#sk-container-id-3 div.sk-text-repr-fallback {display: none;}</style><div id=\"sk-container-id-3\" class=\"sk-top-container\"><div class=\"sk-text-repr-fallback\"><pre>KNeighborsClassifier(n_neighbors=1)</pre><b>In a Jupyter environment, please rerun this cell to show the HTML representation or trust the notebook. <br />On GitHub, the HTML representation is unable to render, please try loading this page with nbviewer.org.</b></div><div class=\"sk-container\" hidden><div class=\"sk-item\"><div class=\"sk-estimator sk-toggleable\"><input class=\"sk-toggleable__control sk-hidden--visually\" id=\"sk-estimator-id-3\" type=\"checkbox\" checked><label for=\"sk-estimator-id-3\" class=\"sk-toggleable__label sk-toggleable__label-arrow\">KNeighborsClassifier</label><div class=\"sk-toggleable__content\"><pre>KNeighborsClassifier(n_neighbors=1)</pre></div></div></div></div></div>"
      ],
      "text/plain": [
       "KNeighborsClassifier(n_neighbors=1)"
      ]
     },
     "execution_count": 10,
     "metadata": {},
     "output_type": "execute_result"
    }
   ],
   "source": [
    "## code here\n",
    "\n",
    "knn = KNeighborsClassifier(1)\n",
    "\n",
    "knn.fit(iris_train[['sepal_length','sepal_width','petal_length','petal_width']],iris_train.iris_class)"
   ]
  },
  {
   "cell_type": "code",
   "execution_count": 11,
   "id": "424535bf",
   "metadata": {},
   "outputs": [
    {
     "data": {
      "text/plain": [
       "1.0"
      ]
     },
     "execution_count": 11,
     "metadata": {},
     "output_type": "execute_result"
    }
   ],
   "source": [
    "## code here\n",
    "\n",
    "accuracy_score(iris_train.iris_class,knn.predict(iris_train[['sepal_length','sepal_width','petal_length','petal_width']]))\n"
   ]
  },
  {
   "cell_type": "markdown",
   "id": "10e16305",
   "metadata": {},
   "source": [
    "##### b.\n",
    "\n",
    "The training accuracy of a $k$-nearest neighbors model with $k=1$ is always $1$, why is that?"
   ]
  },
  {
   "cell_type": "markdown",
   "id": "ff7517f4",
   "metadata": {},
   "source": [
    "##### Write here\n",
    "\n",
    "\n"
   ]
  },
  {
   "cell_type": "markdown",
   "id": "03f39ef9",
   "metadata": {},
   "source": [
    "##### 2. Bias-Variance Tradeoff for KNN\n",
    "\n",
    "With $k$-nearest neighbors the complexity of the model is primarily controlled by the number of neighbors, $k$, considered when making a prediction.\n",
    "\n",
    "Which model do you expect to have the highest variance and which one do you expect to have the highest bias:\n",
    "- A model with $k=1$,\n",
    "- A model with $k=n$, where $n$ is the number of observations in the training set?\n",
    "\n",
    "In general which direction should you move $k$ to increase the bias, which direction to increase the variance?"
   ]
  },
  {
   "cell_type": "markdown",
   "id": "f922481c",
   "metadata": {},
   "source": [
    "##### Write here\n",
    "\n",
    "\n"
   ]
  },
  {
   "cell_type": "markdown",
   "id": "4fd5232c",
   "metadata": {},
   "source": [
    "##### 3. Weighted Votes\n",
    "\n",
    "Sometimes it may be preferable to weight the votes, meaning that some of the $k$-nearest neighbors get more of a say in the predicted class. One common way to weight votes is by the inverse of the distance to the point you are trying to predict.\n",
    "\n",
    "Suppose you want to predict an output variable, $y$, with $\\mathcal{C}$ possible classes, using the $k$-nearest neighbors algorithm with a distance metric denoted with a $d$ (a standard choice is the euclidean distance $d(a,b) = \\sqrt{\\sum_{i=1}^m (a_i - b_i)^2}$ for two vectors $a,b \\in \\mathbb{R}^m$). Then the weighted version of $k$NN predicts that a new point $X^*$ would be the class $l$ for which:\n",
    "\n",
    "$$\n",
    "v_l = \\sum_{i \\in \\mathcal{N}(X^*)} \\frac{1}{d(X^*, X_i)} 1_{\\left\\lbrace y_i = l\\right\\rbrace},\n",
    "$$\n",
    "\n",
    "where $\\mathcal{N}(X^*)$ is the set of training points representing the $k$-nearest neighbors of $X^*$ and $1_{\\left\\lbrace y_i = l\\right\\rbrace}$ is $1$ when $y_i = l$ and $0$ when $y_i\\neq l$.\n",
    "\n",
    "For the iris data set perform cross-validation to investigate whether weighted $k$NN outperforms unweighted $k$NN in terms of the accuracy. Do this for $k=1,\\dots,10$.\n",
    "\n",
    "Look at the `KNeighborsClassifier` documentation, <a href=\"https://scikit-learn.org/stable/modules/generated/sklearn.neighbors.KNeighborsClassifier.html\">https://scikit-learn.org/stable/modules/generated/sklearn.neighbors.KNeighborsClassifier.html</a> to see how to implement weighted $k$NN. "
   ]
  },
  {
   "cell_type": "code",
   "execution_count": 12,
   "id": "eb851d83",
   "metadata": {},
   "outputs": [],
   "source": [
    "## code here\n",
    "from sklearn.model_selection import StratifiedKFold\n"
   ]
  },
  {
   "cell_type": "code",
   "execution_count": 18,
   "id": "7979b422",
   "metadata": {},
   "outputs": [],
   "source": [
    "## code here\n",
    "kfold = StratifiedKFold(n_splits=5,\n",
    "                           shuffle=True,\n",
    "                           random_state=1560)"
   ]
  },
  {
   "cell_type": "code",
   "execution_count": 19,
   "id": "1a547891",
   "metadata": {},
   "outputs": [],
   "source": [
    "## code here\n",
    "neighbors = range(1,11)\n",
    "\n",
    "kcvs = np.zeros((5,len(neighbors)))\n",
    "wkcvs = np.zeros((5,len(neighbors)))\n",
    "\n",
    "i = 0\n",
    "for train_idx, test_idx in kfold.split(iris_train[['sepal_length','sepal_width','petal_length','petal_width']],\n",
    "                                       iris_train.iris_class):\n",
    "    \n",
    "    iris_tt = iris_train.iloc[train_idx]\n",
    "    iris_ho = iris_train.iloc[test_idx]\n",
    "    \n",
    "    j = 0\n",
    "    \n",
    "    for n in neighbors:\n",
    "        \n",
    "        knn = KNeighborsClassifier(n)\n",
    "        wknn = KNeighborsClassifier(n,weights='distance')\n",
    "        \n",
    "        knn.fit(iris_tt[['sepal_length','sepal_width','petal_length','petal_width']],iris_tt.iris_class)\n",
    "        wknn.fit(iris_tt[['sepal_length','sepal_width','petal_length','petal_width']],iris_tt.iris_class)\n",
    "        \n",
    "        kcvs[i,j] = accuracy_score(iris_ho.iris_class,knn.predict(iris_ho[['sepal_length','sepal_width','petal_length','petal_width']]))\n",
    "        wkcvs[i,j] = accuracy_score(iris_ho.iris_class,wknn.predict(iris_ho[['sepal_length','sepal_width','petal_length','petal_width']]))\n",
    "        \n",
    "        j += 1\n",
    "        \n",
    "    i += 1\n"
   ]
  },
  {
   "cell_type": "code",
   "execution_count": 20,
   "id": "a032a056",
   "metadata": {},
   "outputs": [
    {
     "data": {
      "image/png": "[encoded data removed]",
      "text/plain": [
       "<Figure size 1200x800 with 1 Axes>"
      ]
     },
     "metadata": {},
     "output_type": "display_data"
    }
   ],
   "source": [
    "## code here\n",
    "sns.set_style(\"darkgrid\")\n",
    "plt.figure(figsize=(12,8))\n",
    "\n",
    "plt.scatter(neighbors, np.mean(kcvs, axis=0), label=\"Unweighted $k$NN\", s=125, alpha=1, marker='x')\n",
    "plt.scatter(neighbors, np.mean(wkcvs, axis=0), label=\"Weighted $k$NN\", s=75, alpha=.6)\n",
    "\n",
    "plt.xticks(neighbors, fontsize=14)\n",
    "plt.yticks(fontsize=14)\n",
    "\n",
    "plt.xlabel(\"$k$\", fontsize=18)\n",
    "plt.ylabel(\"Mean CV Accuracy\", fontsize=18)\n",
    "plt.legend(fontsize=16)\n",
    "\n",
    "plt.show()\n",
    "\n"
   ]
  },
  {
   "cell_type": "markdown",
   "id": "401a65f9",
   "metadata": {},
   "source": [
    "##### 4. Training and prediction times\n",
    "\n",
    "How is the training time for $k$-nearest neighbors impacted by the size of the training set, $n$, that is, as $n$ gets larger what happens to the training time?\n",
    "\n",
    "\n",
    "What happens to the prediction time, the time it takes for the algorithm to make a prediction, as $n$ gets larger?"
   ]
  },
  {
   "cell_type": "markdown",
   "id": "36cb8401",
   "metadata": {},
   "source": [
    "##### Write here\n",
    "\n",
    "\n",
    "\n"
   ]
  },
  {
   "cell_type": "markdown",
   "id": "c702df34",
   "metadata": {},
   "source": [
    "--------------------------\n",
    "\n",
    "This notebook was written for the Erd&#337;s Institute C&#337;de Data Science Boot Camp by Matthew Osborne, Ph. D., 2022.\n",
    "\n",
    "Any potential redistributors must seek and receive permission from Matthew Tyler Osborne, Ph.D. prior to redistribution. Redistribution of the material contained in this repository is conditional on acknowledgement of Matthew Tyler Osborne, Ph.D.'s original authorship and sponsorship of the Erdős Institute as subject to the license (see License.md)"
   ]
  },
  {
   "cell_type": "code",
   "execution_count": null,
   "id": "e58736da",
   "metadata": {},
   "outputs": [],
   "source": []
  }
 ],
 "metadata": {
  "kernelspec": {
   "display_name": "Python 3 (ipykernel)",
   "language": "python",
   "name": "python3"
  },
  "language_info": {
   "codemirror_mode": {
    "name": "ipython",
    "version": 3
   },
   "file_extension": ".py",
   "mimetype": "text/x-python",
   "name": "python",
   "nbconvert_exporter": "python",
   "pygments_lexer": "ipython3",
   "version": "3.9.12"
  }
 },
 "nbformat": 4,
 "nbformat_minor": 5
}
