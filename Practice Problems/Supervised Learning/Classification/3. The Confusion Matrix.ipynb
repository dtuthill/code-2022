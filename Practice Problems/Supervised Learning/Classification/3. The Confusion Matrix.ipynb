{
 "cells": [
  {
   "cell_type": "markdown",
   "id": "61e4d020",
   "metadata": {},
   "source": [
    "# The Confusion Matrix\n",
    "\n",
    "In this notebook will be some additional problems regarding the $k$-nearest neighbors classifier. This material corresponds to `Lectures/Supervised Learning/Classification/3. The Confusion Matrix`."
   ]
  },
  {
   "cell_type": "markdown",
   "id": "0c14cb43",
   "metadata": {},
   "source": [
    "<i>Read the scenarios described below and answer the question that follows.</i>"
   ]
  },
  {
   "cell_type": "markdown",
   "id": "125b9c09",
   "metadata": {},
   "source": [
    "##### 1. Digits classifier\n",
    "\n",
    "You are working to build a classifier for the United States Postal service. This classifier will take in pixelated images of digits ($0, 1, 2, 3, 4, 5, 6, 7, 8, 9$) that were written on mail in an attempt to save time in the delivery process.\n",
    "\n",
    "The training data for this project consists of $60{,}000$ hand drawn digits with each digit representing $6{,}000$ images.\n",
    "\n",
    "List a reasonable performance metric to use when tuning your classifier."
   ]
  },
  {
   "cell_type": "markdown",
   "id": "2e8d9db4",
   "metadata": {},
   "source": [
    "##### Write here\n",
    "\n",
    "\n"
   ]
  },
  {
   "cell_type": "markdown",
   "id": "4ebc183b",
   "metadata": {},
   "source": [
    "##### 2. Disease diagnosis I\n",
    "\n",
    "You are working on a project to aid in the diagnosis of an illness using a patient's scans from a routine checkup.\n",
    "\n",
    "This illness can be deadly and the test to confirm a positive diagnosis is non-invasive to the patient.\n",
    "\n",
    "What are some appropriate metrics for tuning this classifier?"
   ]
  },
  {
   "cell_type": "markdown",
   "id": "44ab04dc",
   "metadata": {},
   "source": [
    "##### Write Here\n",
    "\n",
    "\n"
   ]
  },
  {
   "cell_type": "markdown",
   "id": "f78e1545",
   "metadata": {},
   "source": [
    "##### 3. Disease diagnosis II\n",
    "\n",
    "You are working on a project to aid in the diagnosis of an illness using a patient's scans from a routine checkup. While this illness can be deadly, it is curable if caught after symptoms become noticeable. The test to confirm a positive diagnosis should your classifier indicate a positive case is somewhat invasive.\n",
    "\n",
    "What are some appropriate metrics for tuning this classifier?"
   ]
  },
  {
   "cell_type": "markdown",
   "id": "6fd74ba3",
   "metadata": {},
   "source": [
    "##### Write here\n",
    "\n"
   ]
  },
  {
   "cell_type": "markdown",
   "id": "23349c5e",
   "metadata": {},
   "source": [
    "##### 4. Spam detection\n",
    "\n",
    "You are working for a company that builds spam detectors for digital messaging systems.\n",
    "\n",
    "Translate the given metrics into what they measure in the real world problem given above."
   ]
  },
  {
   "cell_type": "markdown",
   "id": "43732e27",
   "metadata": {},
   "source": [
    "##### Answer here\n",
    "\n",
    "True positive rate:\n",
    "\n",
    "\n",
    "False positive rate:\n",
    " \n",
    "\n",
    "\n",
    "Precision:\n",
    "\n",
    "\n"
   ]
  },
  {
   "cell_type": "markdown",
   "id": "58e7a220",
   "metadata": {},
   "source": [
    "--------------------------\n",
    "\n",
    "This notebook was written for the Erd&#337;s Institute C&#337;de Data Science Boot Camp by Matthew Osborne, Ph. D., 2022.\n",
    "\n",
    "Any potential redistributors must seek and receive permission from Matthew Tyler Osborne, Ph.D. prior to redistribution. Redistribution of the material contained in this repository is conditional on acknowledgement of Matthew Tyler Osborne, Ph.D.'s original authorship and sponsorship of the Erdős Institute as subject to the license (see License.md)"
   ]
  },
  {
   "cell_type": "code",
   "execution_count": null,
   "id": "dc24d436",
   "metadata": {},
   "outputs": [],
   "source": []
  }
 ],
 "metadata": {
  "kernelspec": {
   "display_name": "Python 3 (ipykernel)",
   "language": "python",
   "name": "python3"
  },
  "language_info": {
   "codemirror_mode": {
    "name": "ipython",
    "version": 3
   },
   "file_extension": ".py",
   "mimetype": "text/x-python",
   "name": "python",
   "nbconvert_exporter": "python",
   "pygments_lexer": "ipython3",
   "version": "3.9.9"
  }
 },
 "nbformat": 4,
 "nbformat_minor": 5
}
