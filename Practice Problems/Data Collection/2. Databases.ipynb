{
 "cells": [
  {
   "cell_type": "markdown",
   "id": "b191b151",
   "metadata": {},
   "source": [
    "# Databases\n",
    "\n",
    "The problems in this notebook expand upon the concepts covered in the notebook `Lectures/Data Collection/Data in Databases`."
   ]
  },
  {
   "cell_type": "code",
   "execution_count": null,
   "id": "475e169d",
   "metadata": {},
   "outputs": [],
   "source": [
    "import pandas as pd\n",
    "import numpy as np\n",
    "import matplotlib.pyplot as plt"
   ]
  },
  {
   "cell_type": "markdown",
   "id": "45183119",
   "metadata": {},
   "source": [
    "##### 1. Constructing a database table \n",
    "\n",
    "To better understand the structure of a relational database it can help to create one yourself. In this problem we demonstrate how.\n",
    "\n",
    "Imagine we are running a cat store, we sell 3 products: cat food, cat treats, and cat toys. We want a database to keep track of who is buying what stuff from us.\n",
    "\n",
    "Below we import the package we will need and then we create a `cat_store_practice` database in this folder."
   ]
  },
  {
   "cell_type": "code",
   "execution_count": null,
   "id": "d1dfb9f6",
   "metadata": {},
   "outputs": [],
   "source": [
    "from sqlalchemy import create_engine"
   ]
  },
  {
   "cell_type": "code",
   "execution_count": null,
   "id": "13e7587d",
   "metadata": {},
   "outputs": [],
   "source": [
    "## making the engine\n",
    "engine = create_engine(\"sqlite:///cat_store_practice.db\")"
   ]
  },
  {
   "cell_type": "code",
   "execution_count": null,
   "id": "faf33428",
   "metadata": {},
   "outputs": [],
   "source": [
    "## Connecting to the database\n",
    "conn = engine.connect()"
   ]
  },
  {
   "cell_type": "markdown",
   "id": "649aef39",
   "metadata": {},
   "source": [
    "The syntax for creating a brand new table in `SQL` is `CREATE TABLE table_name(columns)`. We demonstrate this below."
   ]
  },
  {
   "cell_type": "code",
   "execution_count": null,
   "id": "e30b65bd",
   "metadata": {},
   "outputs": [],
   "source": [
    "## CREATE TABLE is SQL code\n",
    "## it creates a table with the given name, here products\n",
    "## in parantheses we list the columns of our table\n",
    "## along with the SQL data type\n",
    "## The PRIMARY KEY line sets the product_id as the\n",
    "## primary key for this table\n",
    "## Think of a primary key as being equivalent to a pandas dataframe index\n",
    "## The primary key allows us to link entries across tables\n",
    "conn.execute(\"\"\"CREATE TABLE products(\n",
    "                    product_id int,\n",
    "                    product text,\n",
    "                    price real,\n",
    "                    in_stock int,\n",
    "                    PRIMARY KEY (product_id)\n",
    "                )\"\"\")\n",
    "\n",
    "\n",
    "## We can now add our first product\n",
    "conn.execute(\"INSERT INTO products VALUES (1,'Cat Food',12.50,10)\")"
   ]
  },
  {
   "cell_type": "markdown",
   "id": "b9422ebb",
   "metadata": {},
   "source": [
    "Use one of the `fetch` commands to check the contents of the `products` table."
   ]
  },
  {
   "cell_type": "code",
   "execution_count": null,
   "id": "a090e318",
   "metadata": {},
   "outputs": [],
   "source": [
    "## code here\n",
    "\n"
   ]
  },
  {
   "cell_type": "code",
   "execution_count": null,
   "id": "aa6ecbd7",
   "metadata": {},
   "outputs": [],
   "source": [
    "## close the connection\n",
    "conn.close()\n",
    "\n",
    "## dispose of the engine\n",
    "engine.dispose()\n",
    "\n",
    "del conn,engine"
   ]
  },
  {
   "cell_type": "markdown",
   "id": "b8116e3f",
   "metadata": {},
   "source": [
    "##### 2. `inspect`\n",
    "\n",
    "You can use `get_table_names` to see what tables are in the database to which you have connected. This is a part of `SQLAlchemy`'s `inspect` method, <a href=\"https://docs.sqlalchemy.org/en/14/core/inspection.html\">https://docs.sqlalchemy.org/en/14/core/inspection.html</a>.\n",
    "\n",
    "Here we demonstrate."
   ]
  },
  {
   "cell_type": "code",
   "execution_count": null,
   "id": "82f13e31",
   "metadata": {},
   "outputs": [],
   "source": [
    "## import inspect\n",
    "from sqlalchemy import inspect"
   ]
  },
  {
   "cell_type": "code",
   "execution_count": null,
   "id": "4260c4cf",
   "metadata": {},
   "outputs": [],
   "source": [
    "## create the engine then connect\n",
    "engine = create_engine(\"sqlite:///cat_store_real.db\")\n",
    "conn = engine.connect()"
   ]
  },
  {
   "cell_type": "code",
   "execution_count": null,
   "id": "58bb4c7f",
   "metadata": {},
   "outputs": [],
   "source": [
    "## inspecting the table allows you to\n",
    "## use get_table_names\n",
    "inspect(engine).get_table_names()"
   ]
  },
  {
   "cell_type": "markdown",
   "id": "1ca94af4",
   "metadata": {},
   "source": [
    "<b>Do not</b> end the connection or delete the engine, you will use in in the next problem."
   ]
  },
  {
   "cell_type": "markdown",
   "id": "baefb682",
   "metadata": {},
   "source": [
    "##### 3. Using `WHERE`\n",
    "\n",
    "Create a connection to the `cat_store_real` database in this folder.\n",
    "\n",
    "Return all purchases in the `purchases` table with `pretax_price < 70` and `number_of_items > 3`."
   ]
  },
  {
   "cell_type": "code",
   "execution_count": null,
   "id": "4e51ab57",
   "metadata": {},
   "outputs": [],
   "source": [
    "## Code here\n",
    "\n",
    "\n"
   ]
  },
  {
   "cell_type": "code",
   "execution_count": null,
   "id": "69839b1e",
   "metadata": {},
   "outputs": [],
   "source": [
    "## Code here\n",
    "\n",
    "\n"
   ]
  },
  {
   "cell_type": "markdown",
   "id": "5d514783",
   "metadata": {},
   "source": [
    "##### 4. Introduction to `JOIN`s\n",
    "\n",
    "One way to combine data from different tables is with a `JOIN` statement.\n",
    "\n",
    "`JOIN`s work by finding column values that match between tables and returning the corresponding rows. Here is a typical `JOIN` statement:\n",
    "\n",
    "<blockquote>\n",
    "    \n",
    "    SELECT columns FROM table1\n",
    "    \n",
    "    JOIN table2\n",
    "    \n",
    "    ON table1.match_column=table2.match_column\n",
    "    \n",
    "    WHERE logical_condition;    \n",
    "</blockquote>\n",
    "\n",
    "Here is an example where we add the customer names to each purchase."
   ]
  },
  {
   "cell_type": "code",
   "execution_count": null,
   "id": "84042a44",
   "metadata": {},
   "outputs": [],
   "source": [
    "results = conn.execute(\"\"\"SELECT name, purchase_id, pretax_price FROM purchases\n",
    "                            JOIN customers\n",
    "                            ON purchases.customer_id=customers.customer_id\"\"\")\n",
    "\n",
    "pd.DataFrame(results.fetchall(), columns=results.keys())"
   ]
  },
  {
   "cell_type": "markdown",
   "id": "e40c9a1d",
   "metadata": {},
   "source": [
    "We should note that if the two tables you want to join share a column name you need to specify which one you want."
   ]
  },
  {
   "cell_type": "code",
   "execution_count": null,
   "id": "522afd00",
   "metadata": {},
   "outputs": [],
   "source": [
    "results = conn.execute(\"\"\"SELECT name, purchases.customer_id, purchase_id, pretax_price FROM purchases\n",
    "                            JOIN customers\n",
    "                            ON purchases.customer_id=customers.customer_id\"\"\")\n",
    "\n",
    "pd.DataFrame(results.fetchall(), columns=results.keys())"
   ]
  },
  {
   "cell_type": "markdown",
   "id": "fd398db1",
   "metadata": {},
   "source": [
    "##### Practice\n",
    "\n",
    "Try to answer the following using `JOIN` statements.\n",
    "\n",
    "1. Who has made purchases?\n",
    "\n",
    "2. Who has made the most purchases?\n",
    "\n",
    "3. What are the emails of customers that have made purchases over $70?"
   ]
  },
  {
   "cell_type": "code",
   "execution_count": null,
   "id": "d95d018b",
   "metadata": {},
   "outputs": [],
   "source": [
    "##### Code here\n",
    "\n",
    "\n"
   ]
  },
  {
   "cell_type": "code",
   "execution_count": null,
   "id": "b575f9dd",
   "metadata": {},
   "outputs": [],
   "source": [
    "##### Code here\n",
    "\n",
    "\n"
   ]
  },
  {
   "cell_type": "code",
   "execution_count": null,
   "id": "7f9e4216",
   "metadata": {},
   "outputs": [],
   "source": [
    "##### code here\n",
    "\n",
    "\n",
    "\n"
   ]
  },
  {
   "cell_type": "markdown",
   "id": "430d0807",
   "metadata": {},
   "source": [
    "--------------------------\n",
    "\n",
    "This notebook was written for the Erd&#337;s Institute C&#337;de Data Science Boot Camp by Matthew Osborne, Ph. D., 2022.\n",
    "\n",
    "Any potential redistributors must seek and receive permission from Matthew Tyler Osborne, Ph.D. prior to redistribution. Redistribution of the material contained in this repository is conditional on acknowledgement of Matthew Tyler Osborne, Ph.D.'s original authorship and sponsorship of the Erdős Institute as subject to the license (see License.md)"
   ]
  },
  {
   "cell_type": "code",
   "execution_count": null,
   "id": "c776eb75",
   "metadata": {},
   "outputs": [],
   "source": []
  }
 ],
 "metadata": {
  "kernelspec": {
   "display_name": "Python 3 (ipykernel)",
   "language": "python",
   "name": "python3"
  },
  "language_info": {
   "codemirror_mode": {
    "name": "ipython",
    "version": 3
   },
   "file_extension": ".py",
   "mimetype": "text/x-python",
   "name": "python",
   "nbconvert_exporter": "python",
   "pygments_lexer": "ipython3",
   "version": "3.9.9"
  }
 },
 "nbformat": 4,
 "nbformat_minor": 5
}
