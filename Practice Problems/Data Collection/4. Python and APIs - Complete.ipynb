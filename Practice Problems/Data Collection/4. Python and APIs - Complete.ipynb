{
 "cells": [
  {
   "cell_type": "markdown",
   "id": "dd12c40d",
   "metadata": {},
   "source": [
    "# Python and APIs\n",
    "\n",
    "The problems in this notebook touch on the material covered in the `Lectures/Data Collection/Python and APIs` notebook."
   ]
  },
  {
   "cell_type": "code",
   "execution_count": 1,
   "id": "f2aa69f8",
   "metadata": {},
   "outputs": [],
   "source": [
    "from bs4 import BeautifulSoup\n",
    "import requests\n",
    "import pandas as pd\n",
    "from time import sleep"
   ]
  },
  {
   "cell_type": "markdown",
   "id": "6f7678e0",
   "metadata": {},
   "source": [
    "##### 1. scite_\n",
    "\n",
    "We start with a problem continuing with the final problem in `3. Web Scraping`. While our direct requests for `www.science.org` html data may have been stymied, there is another path.\n",
    "\n",
    "If we have the dois for these articles we can submit requests for the article metadata to the `scite_` api for free. First we load in the articles and demonstrate how we can extract the dois from the Science articles."
   ]
  },
  {
   "cell_type": "code",
   "execution_count": 2,
   "id": "19bec9b6",
   "metadata": {},
   "outputs": [],
   "source": [
    "articles = pd.read_csv(\"journal_article_urls.csv\")"
   ]
  },
  {
   "cell_type": "code",
   "execution_count": 3,
   "id": "981878df",
   "metadata": {},
   "outputs": [
    {
     "data": {
      "text/plain": [
       "'https://www.science.org/doi/10.1126/scisignal.abk3067'"
      ]
     },
     "execution_count": 3,
     "metadata": {},
     "output_type": "execute_result"
    }
   ],
   "source": [
    "articles.loc[articles.domain=='www.science.org'].url.values[1]"
   ]
  },
  {
   "cell_type": "markdown",
   "id": "a3b420c6",
   "metadata": {},
   "source": [
    "In the example url above the text following `doi/` is the doi extension for that particular article. To see this first look at the article via its link, <a  href=\"https://www.science.org/doi/10.1126/scisignal.abk3067\">https://www.science.org/doi/10.1126/scisignal.abk3067</a> and then access it with this doi url <a href=\"https://www.doi.org/10.1126/scisignal.abk3067\">https://www.doi.org/10.1126/scisignal.abk3067</a>."
   ]
  },
  {
   "cell_type": "markdown",
   "id": "5d2a6236",
   "metadata": {},
   "source": [
    "Unfortunately `scite_` does not have a nice Python API wrapper, but we can still submit requests to their API with python. We demonstrate how below."
   ]
  },
  {
   "cell_type": "code",
   "execution_count": 4,
   "id": "3d2eb6bc",
   "metadata": {},
   "outputs": [],
   "source": [
    "## The basic request string looks like this\n",
    "'https://api.scite.ai/{endpoint}/{doi}'\n",
    "\n",
    "## For us the API \"endpoint\" we want is 'papers/'\n",
    "## and for this example we will use the doi from above, '10.1126/sciadv.abo1719'\n",
    "endpoint = 'papers/'\n",
    "doi = '10.1126/scisignal.abk3067'\n",
    "\n",
    "\n",
    "## then you just call requests.get for the string\n",
    "r = requests.get('https://api.scite.ai/' + endpoint + doi)"
   ]
  },
  {
   "cell_type": "code",
   "execution_count": 5,
   "id": "4f4870c8",
   "metadata": {},
   "outputs": [
    {
     "data": {
      "text/plain": [
       "{'id': 11371189169,\n",
       " 'doi': '10.1126/scisignal.abk3067',\n",
       " 'slug': 'march8-attenuates-cgas-mediated-innate-immune-5GEVWzR2',\n",
       " 'type': 'journal-article',\n",
       " 'title': 'MARCH8 Attenuates cGAS-mediated Innate Immune Responses Through Ubiquitylation',\n",
       " 'abstract': '\\n            Cyclic GMP-AMP synthase (cGAS) binds to microbial and self-DNA in the cytosol and synthesizes cyclic GMP-AMP (cGAMP), which activates stimulator of interferon genes (STING) and downstream mediators to elicit an innate immune response. Regulation of cGAS activity is essential for immune homeostasis. Here, we identified the E3 ubiquitin ligase MARCH8 (also known as MARCHF8, c-MIR, and RNF178) as a negative regulator of cGAS-mediated signaling. The immune response to double-stranded DNA was attenuated by overexpression of MARCH8 and enhanced by knockdown or knockout of MARCH8. MARCH8 interacted with the enzymatically active core of cGAS through its conserved RING-CH domain and catalyzed the lysine-63 (K63)–linked polyubiquitylation of cGAS at Lys\\n            411\\n            . This polyubiquitylation event inhibited the DNA binding ability of cGAS, impaired cGAMP production, and attenuated the downstream innate immune response. Furthermore,\\n            March8\\n            -deficient mice were less susceptible than their wild-type counterparts to herpes simplex virus 1 (HSV-1) infection. Together, our findings reveal a mechanism underlying the functional regulation of cGAS and the fine-tuning of the innate immune response.\\n          ',\n",
       " 'authors': [{'family': 'Yang',\n",
       "   'given': 'Xikang',\n",
       "   'orcid': '0000-0002-3404-906X',\n",
       "   'affiliation': 'School of Pharmaceutical Sciences, Key Laboratory of Bioorganic Phosphorous Chemistry and Chemical Biology (Ministry of Education), Department of Chemistry, Tsinghua University, Beijing 100084, China.'},\n",
       "  {'family': 'Shi',\n",
       "   'given': 'Chengrui',\n",
       "   'orcid': '0000-0001-6869-8386',\n",
       "   'affiliation': 'School of Pharmaceutical Sciences, Key Laboratory of Bioorganic Phosphorous Chemistry and Chemical Biology (Ministry of Education), Department of Chemistry, Tsinghua University, Beijing 100084, China.'},\n",
       "  {'family': 'Li',\n",
       "   'given': 'Hongpeng',\n",
       "   'affiliation': 'School of Pharmaceutical Sciences, Key Laboratory of Bioorganic Phosphorous Chemistry and Chemical Biology (Ministry of Education), Department of Chemistry, Tsinghua University, Beijing 100084, China.'},\n",
       "  {'family': 'Shen',\n",
       "   'given': 'Siqi',\n",
       "   'orcid': '0000-0001-8891-9449',\n",
       "   'affiliation': 'School of Pharmaceutical Sciences, Key Laboratory of Bioorganic Phosphorous Chemistry and Chemical Biology (Ministry of Education), Department of Chemistry, Tsinghua University, Beijing 100084, China.'},\n",
       "  {'family': 'Su',\n",
       "   'given': 'Chaofei',\n",
       "   'affiliation': 'School of Pharmaceutical Sciences, Key Laboratory of Bioorganic Phosphorous Chemistry and Chemical Biology (Ministry of Education), Department of Chemistry, Tsinghua University, Beijing 100084, China.'},\n",
       "  {'family': 'Yin',\n",
       "   'given': 'Hang',\n",
       "   'orcid': '0000-0002-9762-4818',\n",
       "   'affiliation': 'School of Pharmaceutical Sciences, Key Laboratory of Bioorganic Phosphorous Chemistry and Chemical Biology (Ministry of Education), Department of Chemistry, Tsinghua University, Beijing 100084, China.'}],\n",
       " 'year': 2022,\n",
       " 'shortJournal': 'Sci. Signal.',\n",
       " 'publisher': 'American Association for the Advancement of Science (AAAS)',\n",
       " 'issue': '732',\n",
       " 'volume': '15',\n",
       " 'memberId': 221,\n",
       " 'issns': ['1945-0877', '1937-9145'],\n",
       " 'editorialNotices': [],\n",
       " 'journalSlug': 'science-signaling-XxyzE',\n",
       " 'journal': 'Science Signaling',\n",
       " 'preprintLinks': [],\n",
       " 'publicationLinks': [],\n",
       " 'normalizedTypes': ['article']}"
      ]
     },
     "execution_count": 5,
     "metadata": {},
     "output_type": "execute_result"
    }
   ],
   "source": [
    "## We can get the returned data with\n",
    "## r.json()\n",
    "r.json()"
   ]
  },
  {
   "cell_type": "markdown",
   "id": "df30a64e",
   "metadata": {},
   "source": [
    "Write a script to use the `scite_` api to get the title, authors and doi for each `www.science.org` paper."
   ]
  },
  {
   "cell_type": "code",
   "execution_count": 6,
   "id": "19806fdb",
   "metadata": {},
   "outputs": [],
   "source": [
    "def science(url):\n",
    "    doi = url.split(\"doi/\")[-1]\n",
    "    endpoint = 'papers/'\n",
    "    r = requests.get('https://api.scite.ai/' + endpoint + doi)\n",
    "    \n",
    "    if 'title' in r.json().keys():\n",
    "        title = r.json()['title']\n",
    "    else:\n",
    "        title = \"NA\"\n",
    "        \n",
    "    if 'authors' in r.json().keys():\n",
    "        authors = \", \".join([author['given'] + \" \" + author['family'] for author in r.json()['authors']])\n",
    "    else:\n",
    "        authors = \"NA\"\n",
    "        \n",
    "    return title, authors, doi"
   ]
  },
  {
   "cell_type": "code",
   "execution_count": 7,
   "id": "5bfa0750",
   "metadata": {},
   "outputs": [
    {
     "name": "stdout",
     "output_type": "stream",
     "text": [
      "https://www.science.org/doi/10.1126/sciimmunol.abo2159\n",
      "ILC Killer: Qu’est-Ce Que C’est?\n",
      "David R. Withers, Matthew R. Hepworth\n",
      "10.1126/sciimmunol.abo2159\n",
      "\n",
      "https://www.science.org/doi/10.1126/scisignal.abk3067\n",
      "MARCH8 Attenuates cGAS-mediated Innate Immune Responses Through Ubiquitylation\n",
      "Xikang Yang, Chengrui Shi, Hongpeng Li, Siqi Shen, Chaofei Su, Hang Yin\n",
      "10.1126/scisignal.abk3067\n",
      "\n",
      "https://www.science.org/doi/10.1126/sciimmunol.abm8161\n",
      "Succinate Dehydrogenase/Complex II Is Critical for Metabolic and Epigenetic Regulation of T Cell Proliferation and Inflammation\n",
      "Xuyong Chen, Benjamin Sunkel, Meng Wang, Siwen Kang, Tingting Wang, J. N. Rashida Gnanaprakasam, Lingling Liu, Teresa A. Cassel, David A. Scott, Ana M. Muñoz-Cabello, Jose Lopez-Barneo, Jun Yang, Andrew N. Lane, Gang Xin, Benjamin Z. Stanton, Teresa W.-M. Fan, Ruoning Wang\n",
      "10.1126/sciimmunol.abm8161\n",
      "\n",
      "https://www.science.org/doi/10.1126/scitranslmed.abo5395\n",
      "The Rapid Replacement of the Delta Variant by Omicron (B.1.1.529) in England\n",
      "Robert S. Paton, Christopher E. Overton, Thomas Ward\n",
      "10.1126/scitranslmed.abo5395\n",
      "\n",
      "https://www.science.org/doi/10.1126/science.abn3810\n",
      "Structure of the Human Inner Kinetochore Bound to a Centromeric CENP-A Nucleosome\n",
      "Stanislau Yatskevich, Kyle W. Muir, Dom Bellini, Ziguo Zhang, Jing Yang, Thomas Tischer, Masa Predin, Tom Dendooven, Stephen H. McLaughlin, David Barford\n",
      "10.1126/science.abn3810\n",
      "\n",
      "https://www.science.org/doi/10.1126/sciimmunol.abf0905\n",
      "Lighting a Fire on the Reef\n",
      "Zhibin Zhang, Judy Lieberman\n",
      "10.1126/sciimmunol.abf0905\n",
      "\n",
      "https://www.science.org/doi/10.1126/scirobotics.abg9907\n",
      "Telerobotic Neurovascular Interventions With Magnetic Manipulation\n",
      "Yoonho Kim, Emily Genevriere, Pablo Harker, Jaehun Choe, Marcin Balicki, Robert W. Regenhardt, Justin E. Vranic, Adam A. Dmytriw, Aman B. Patel, Xuanhe Zhao\n",
      "10.1126/scirobotics.abg9907\n",
      "\n",
      "https://www.science.org/doi/10.1126/scirobotics.abn5459\n",
      "A DNA Molecular Printer Capable of Programmable Positioning and Patterning in Two Dimensions\n",
      "Erik Benson, Rafael Carrascosa Marzo, Jonathan Bath, Andrew J. Turberfield\n",
      "10.1126/scirobotics.abn5459\n",
      "\n",
      "https://www.science.org/doi/10.1126/scisignal.aay6013\n",
      "RAS, Wanted Dead or Alive: Advances in Targeting RAS Mutant Cancers\n",
      "Clint A. Stalnecker, Channing J. Der\n",
      "10.1126/scisignal.aay6013\n",
      "\n",
      "https://www.science.org/doi/10.1126/scisignal.abm4452\n",
      "The Glucocorticoid Receptor Associates With RAS Complexes to Inhibit Cell Proliferation and Tumor Growth\n",
      "Bozhena Caratti, Miray Fidan, Giorgio Caratti, Kristina Breitenecker, Melanie Engler, Naser Kazemitash, Rebecca Traut, Rainer Wittig, Emilio Casanova, Mohammad Reza Ahmadian, Jan P. Tuckermann, Herwig P. Moll, Ion Cristian Cirstea\n",
      "10.1126/scisignal.abm4452\n",
      "\n"
     ]
    }
   ],
   "source": [
    "for url in articles.loc[articles.domain=='www.science.org'].url.values:\n",
    "    print(url)\n",
    "    title,authors,doi = science(url)\n",
    "    print(title)\n",
    "    print(authors)\n",
    "    print(doi)\n",
    "    print()\n",
    "    sleep(3)"
   ]
  },
  {
   "cell_type": "markdown",
   "id": "de54f9ec",
   "metadata": {},
   "source": [
    "##### 2. Movie Reviews\n",
    "\n",
    "Use the `pynytimes` package, <a href=\"https://github.com/michadenheijer/pynytimes#movie-reviews\">https://github.com/michadenheijer/pynytimes#movie-reviews</a> to get any New York Times movie reviews for the film <a href=\"https://www.imdb.com/title/tt8097030/\">Turning Red</a>."
   ]
  },
  {
   "cell_type": "markdown",
   "id": "d8b61d02",
   "metadata": {},
   "source": [
    "##### Sample Solution"
   ]
  },
  {
   "cell_type": "code",
   "execution_count": 8,
   "id": "f565a64f",
   "metadata": {},
   "outputs": [],
   "source": [
    "from pynytimes import NYTAPI\n",
    "from matt_api_info import get_nytimes_key"
   ]
  },
  {
   "cell_type": "code",
   "execution_count": 9,
   "id": "e3987f83",
   "metadata": {},
   "outputs": [],
   "source": [
    "nytapi = NYTAPI(get_nytimes_key(), parse_dates=True) "
   ]
  },
  {
   "cell_type": "code",
   "execution_count": 10,
   "id": "ded87470",
   "metadata": {},
   "outputs": [
    {
     "data": {
      "text/plain": [
       "[{'display_title': 'Turning Red',\n",
       "  'mpaa_rating': 'PG',\n",
       "  'critics_pick': 0,\n",
       "  'byline': 'Maya Phillips',\n",
       "  'headline': '‘Turning Red’ Review: Beware the Red-Furred Monster',\n",
       "  'summary_short': 'A 13-year-old girl becomes a red panda when she loses her cool in Domee Shi’s heartwarming but wayward coming-of-age film.',\n",
       "  'publication_date': datetime.date(2022, 3, 10),\n",
       "  'opening_date': datetime.date(2022, 3, 11),\n",
       "  'date_updated': datetime.datetime(2022, 3, 10, 12, 8, 2),\n",
       "  'link': {'type': 'article',\n",
       "   'url': 'https://www.nytimes.com/2022/03/10/movies/turning-red-review.html',\n",
       "   'suggested_link_text': 'Read the New York Times Review of Turning Red'},\n",
       "  'multimedia': {'type': 'mediumThreeByTwo210',\n",
       "   'src': 'https://static01.nyt.com/images/2022/03/09/arts/turningred1/turningred1-mediumThreeByTwo440.jpg',\n",
       "   'height': 140,\n",
       "   'width': 210}}]"
      ]
     },
     "execution_count": 10,
     "metadata": {},
     "output_type": "execute_result"
    }
   ],
   "source": [
    "nytapi.movie_reviews(keyword = \"Turning Red\")"
   ]
  },
  {
   "cell_type": "markdown",
   "id": "a9e38257",
   "metadata": {},
   "source": [
    "##### 3. Turning Red Rewatch\n",
    "\n",
    "Use `Cinemagoer` to find the rating of <a href=\"https://www.imdb.com/title/tt8097030/\">Turning Red</a> on IMDB. Also produce a list of all the cast members.\n",
    "\n",
    "<i>Hint: once you have gotten the movie returned from IMDB, try doing `variable.data`, where you should replace `variable` with whatever variable name you used to store the movie.</i>"
   ]
  },
  {
   "cell_type": "code",
   "execution_count": 11,
   "id": "c5678738",
   "metadata": {},
   "outputs": [],
   "source": [
    "from imdb import Cinemagoer"
   ]
  },
  {
   "cell_type": "code",
   "execution_count": 12,
   "id": "a8108b66",
   "metadata": {},
   "outputs": [],
   "source": [
    "ia = Cinemagoer()"
   ]
  },
  {
   "cell_type": "code",
   "execution_count": 13,
   "id": "b51a66aa",
   "metadata": {},
   "outputs": [
    {
     "data": {
      "text/plain": [
       "[<Movie id:8097030[http] title:_Turning Red (2022)_>,\n",
       " <Movie id:18688690[http] title:_\"Chris Stuckmann Movie Reviews\" Turning Red (2022)_>,\n",
       " <Movie id:5374476[http] title:_\"The Keeping\" Turning Red (2015)_>,\n",
       " <Movie id:19242350[http] title:_Turning Red States Blue with Matthew Dowd (2021) (Podcast Episode) - The MeidasTouch Podcast (2020)_>,\n",
       " <Movie id:18548220[http] title:_\"Burning Questions\" Turning Red (2022)_>,\n",
       " <Movie id:18688608[http] title:_\"Backstage Features\" Turning Red Interview with Orion Lee (2022)_>,\n",
       " <Movie id:19395784[http] title:_\"POPlitics\" Turning Red VS The Adam Project & Who's To Blame For Gas Prices? (2022)_>,\n",
       " <Movie id:15089278[http] title:_Turning Red for the Brawl (2021) (Podcast Episode)  - Season 4 | Episode 31  - AniMat's Crazy Cartoon Cast (2018)_>,\n",
       " <Movie id:18952048[http] title:_\"22 Rules of Storytelling\" Turning Red (2022)_>,\n",
       " <Movie id:18688286[http] title:_Turning Red (2022) (Podcast Episode)  - Season 7 | Episode 10  - Popcorn Podcast (2019)_>,\n",
       " <Movie id:18518800[http] title:_Turning Red (2022) (Podcast Episode)  - Season 3 | Episode 11  - Off to the Movies (2020)_>,\n",
       " <Movie id:0420978[http] title:_Turning Green (2005)_>,\n",
       " <Movie id:16026664[http] title:_Embrace the Panda: Making Turning Red (2022)_>,\n",
       " <Movie id:9243884[http] title:_Burning Red (2018)_>,\n",
       " <Movie id:8648136[http] title:_Burning Red (2005)_>,\n",
       " <Movie id:10555510[http] title:_Burning Red (None)_>,\n",
       " <Movie id:19496052[http] title:_\"James's Movie Dome\" Review: Turning Red (2022)_>,\n",
       " <Movie id:2358022[http] title:_\"Tari Tari\" Turning White and Turning Red (2012)_>,\n",
       " <Movie id:0342923[http] title:_Red Turn (2001)_>,\n",
       " <Movie id:18163984[http] title:_And the Moon Turned Red (2022)_>]"
      ]
     },
     "execution_count": 13,
     "metadata": {},
     "output_type": "execute_result"
    }
   ],
   "source": [
    "ia.search_movie('Turning Red')"
   ]
  },
  {
   "cell_type": "code",
   "execution_count": 14,
   "id": "5a932469",
   "metadata": {},
   "outputs": [],
   "source": [
    "turningred_id = '8097030'\n",
    "\n",
    "turningred = ia.get_movie(turningred_id)"
   ]
  },
  {
   "cell_type": "code",
   "execution_count": 15,
   "id": "8ac77ccc",
   "metadata": {},
   "outputs": [
    {
     "name": "stdout",
     "output_type": "stream",
     "text": [
      "IMDB Rating: 7.0\n"
     ]
    }
   ],
   "source": [
    "print(\"IMDB Rating:\", turningred['rating'])"
   ]
  },
  {
   "cell_type": "code",
   "execution_count": 16,
   "id": "827a9d70",
   "metadata": {},
   "outputs": [
    {
     "data": {
      "text/plain": [
       "['Rosalie Chiang',\n",
       " 'Sandra Oh',\n",
       " 'Ava Morse',\n",
       " 'Hyein Park',\n",
       " 'Maitreyi Ramakrishnan',\n",
       " 'Orion Lee',\n",
       " 'Wai Ching Ho',\n",
       " 'Tristan Allerick Chen',\n",
       " 'Lori Tan Chinn',\n",
       " 'Mia Tagano',\n",
       " 'Sherry Cola',\n",
       " 'Lillian Lim',\n",
       " 'James Hong',\n",
       " 'Jordan Fisher',\n",
       " \"Finneas O'Connell\",\n",
       " 'Topher Ngo',\n",
       " 'Grayson Villanueva',\n",
       " 'Josh Levi',\n",
       " 'Sasha Roiz',\n",
       " 'Addison Chandler',\n",
       " 'Lily Sanfelippo',\n",
       " 'Anne-Marie']"
      ]
     },
     "execution_count": 16,
     "metadata": {},
     "output_type": "execute_result"
    }
   ],
   "source": [
    "[cast_member['name'] for cast_member in turningred['cast']]"
   ]
  },
  {
   "cell_type": "markdown",
   "id": "baad986c",
   "metadata": {},
   "source": [
    "##### 4. Python Wrapper for the Reddit API\n",
    "\n",
    "In this problem you will become more familiar with the `praw` package, <a href=\"https://praw.readthedocs.io/en/stable/\">https://praw.readthedocs.io/en/stable/</a>.\n",
    "\n",
    "`praw` is a Python wrapper for Reddit's API, which allows you to scrape Reddit data without having to write much code.\n",
    "\n",
    "The first step for using `praw` is creating a Reddit application with your Reddit account, instructions on how to do so can be found here, <a href=\"https://github.com/reddit-archive/reddit/wiki/OAuth2-Quick-Start-Example#first-steps\">https://github.com/reddit-archive/reddit/wiki/OAuth2-Quick-Start-Example#first-steps</a>.\n",
    "\n",
    "The second step is installing `praw`, you can find instructions to do so here, <a href=\"https://praw.readthedocs.io/en/stable/getting_started/installation.html\">https://praw.readthedocs.io/en/stable/getting_started/installation.html</a>, for `pip` and here, <a href=\"https://anaconda.org/conda-forge/praw\">https://anaconda.org/conda-forge/praw</a> for `conda`.\n",
    "\n",
    "Once you think that you have successfully installed `praw` try running the code chunks below."
   ]
  },
  {
   "cell_type": "code",
   "execution_count": 17,
   "id": "539781bb",
   "metadata": {},
   "outputs": [],
   "source": [
    "import praw"
   ]
  },
  {
   "cell_type": "code",
   "execution_count": 18,
   "id": "d4984dd5",
   "metadata": {},
   "outputs": [
    {
     "name": "stdout",
     "output_type": "stream",
     "text": [
      "7.5.0\n"
     ]
    }
   ],
   "source": [
    "print(praw.__version__)"
   ]
  },
  {
   "cell_type": "markdown",
   "id": "05a800d4",
   "metadata": {},
   "source": [
    "Next you need to connect to the API using your app's credentials. <b>As always, never share your credentials with anyone, especially online. Store these in a safe place on your computer</b>. I have stored them in the file `matt_api_info.py` which can only be found on my personal laptop."
   ]
  },
  {
   "cell_type": "code",
   "execution_count": 19,
   "id": "7be2ac41",
   "metadata": {},
   "outputs": [],
   "source": [
    "from matt_api_info import get_reddit_client_id, get_reddit_client_secret"
   ]
  },
  {
   "cell_type": "code",
   "execution_count": 20,
   "id": "a191283b",
   "metadata": {},
   "outputs": [],
   "source": [
    "## Connect to the api\n",
    "reddit = praw.Reddit(\n",
    "    ## input your client_id here\n",
    "    client_id=get_reddit_client_id(),\n",
    "    ## input your client_secret here\n",
    "    client_secret=get_reddit_client_secret(),\n",
    "    ## put in a string for your user_agent here\n",
    "    user_agent=\"testscript\"\n",
    ")"
   ]
  },
  {
   "cell_type": "markdown",
   "id": "f32f2313",
   "metadata": {},
   "source": [
    "Once you have a connection to the Reddit API, you can start to request data.\n",
    "\n",
    "For example, with `.subreddit`, <a href=\"https://praw.readthedocs.io/en/stable/code_overview/models/subreddit.html\">https://praw.readthedocs.io/en/stable/code_overview/models/subreddit.html</a>, you can get the information for a particular subreddit. Choose your favorite subreddit below."
   ]
  },
  {
   "cell_type": "code",
   "execution_count": 21,
   "id": "be264704",
   "metadata": {},
   "outputs": [],
   "source": [
    "## place the name of your favorith subreddit here,\n",
    "## this should not include r/\n",
    "## for example, \"books\" leads to the books subreddit, https://www.reddit.com/r/books/\n",
    "subreddit_name = \"books\"\n",
    "\n",
    "## here we get the subreddit data\n",
    "subreddit = reddit.subreddit(subreddit_name)"
   ]
  },
  {
   "cell_type": "markdown",
   "id": "dedd642d",
   "metadata": {},
   "source": [
    "Here is some of the data you can get on a subreddit."
   ]
  },
  {
   "cell_type": "code",
   "execution_count": 22,
   "id": "0d696aaf",
   "metadata": {},
   "outputs": [
    {
     "data": {
      "text/plain": [
       "'books'"
      ]
     },
     "execution_count": 22,
     "metadata": {},
     "output_type": "execute_result"
    }
   ],
   "source": [
    "## The name of the subreddit\n",
    "subreddit.display_name"
   ]
  },
  {
   "cell_type": "code",
   "execution_count": 23,
   "id": "c7a74dbf",
   "metadata": {},
   "outputs": [
    {
     "name": "stdout",
     "output_type": "stream",
     "text": [
      "###### [](#place announcements below)\n",
      "\n",
      "* New Release: [Crimson Summer by Heather Graham](https://www.goodreads.com/search?&query=9780778311829)\n",
      "* Check out the [Weekly Recommendation Thread](https://redd.it/ueihjw)\n",
      "* Join in the [Weekly \"What Are You Reading?\" Thread!](https://redd.it/ugm6bj)\n",
      "\n",
      "\n",
      "## [- Subreddit Rules -](/r/books/wiki/rules)[- Message the mods -](http://goo.gl/HXpfgH)[Related Subs](/r/books/wiki/relatedsubreddits)[AMA Info](/r/Books/wiki/amarules)[The FAQ](/r/books/wiki/faq) [The Wiki](/r/books/wiki/index)\n",
      "\n",
      "This is a moderated subreddit. It is our intent and purpose to foster and encourage in-depth discussion about all things related to books, authors, genres or publishing in a safe, supportive environment. If you're looking for help with a personal book recommendation, consult our [Suggested Reading](/r/books/wiki/suggested) page or ask in: /r/suggestmeabook\n",
      "\n",
      "# Quick Rules:\n",
      "\n",
      "1. **Discussion is the goal**  \n",
      "Do not post shallow content. All posts must be directly book related, informative, and discussion focused. \n",
      "\n",
      "2. **Personal conduct**  \n",
      "Please use a civil tone and assume good faith when entering a conversation.\n",
      "\n",
      "3. **Prohibited**  \n",
      "Promotional posts, comments & flairs, media-only posts, personalized recommendation requests incl. ‘Should I read …?’, ‘What’s that book?’ posts, sales links, piracy, plagiarism, low quality book lists, unmarked spoilers (instructions for spoiler tags are in the sidebar), sensationalist headlines, novelty accounts, low effort content. *Please see extended rules for appropriate alternative subreddits, like /r/suggestmeabook, /r/whatsthatbook, etc. or check out our [Related Subreddits](/r/books/wiki/relatedsubreddits).*\n",
      "\n",
      "4. **Encouraged**  \n",
      "We love *original* content and self-posts! Thoughts, discussion questions, epiphanies and interesting links about authors and their work. We also encourage discussion about developments in the book world and we have a flair system. \n",
      "\n",
      "5. **Important**  \n",
      "We don't allow personal recommendation posts. You can ask in our Weekly Recommendation Thread, consult our [Suggested Reading](/r/books/wiki/suggested) or [What to Read](/r/books/wiki/whattoread) page, or post in /r/suggestmeabook.\n",
      "\n",
      "6. **[Click here for the extended rules](/r/Books/wiki/rules)**  \n",
      "Please report any comment that does not follow the rules and remember that mods have the final say.\n",
      "\n",
      "---\n",
      "\n",
      "# Weekly Thread Calendar\n",
      "Day|Frequency|Feature\n",
      ":--:|:--:|:--:\n",
      "Monday|Weekly|[What Books did You Start or Finish Reading this Week?: May 02, 2022](https://redd.it/ugm6bj)\n",
      "Tuesday|1st of the month|[New Releases: April 2022](https://redd.it/ttm7sq)\n",
      "Wednesday|Weekly|Literature of the World: [Literature of Israel: May 2022](https://redd.it/ui3y44)\n",
      "Thursday|Weekly|Genre Discussion: [Favorite Books With or About Pets: May 2022](https://redd.it/uiux0n)\n",
      "Friday|Weekly|[Weekly Recommendation Thread: April 29, 2022](https://redd.it/ueihjw)\n",
      "Sunday|Weekly|[Weekly FAQ Thread May 01, 2022: How do you get over a book hangover?](https://redd.it/ufxhq6)\n",
      "Tues/Sat|Bi-Weekly|[Simple Questions: May 03, 2022](https://redd.it/uhbuzw)\n",
      "\n",
      "---\n",
      "\n",
      "# Upcoming AMAs\n",
      " | | |\n",
      ":-:|:-:|:-:\n",
      "May 10 - 2pm|**Susan Cain**|Author of [*Quiet: The Power of Introverts in a World That Can't Stop Talking*](https://goodreads.com/book/show/8520610)\n",
      "May 26 - 1pm|[**Tamsyn Muir**](http://www.tamsynmuir.com)|Author of [*Gideon the Ninth (The Locked Tomb, #1)*](https://goodreads.com/book/show/42036538)\n",
      "May 28 - 2pm|[**Martha Wells**](http://www.marthawells.com/)|Author of [*All Systems Red*](https://goodreads.com/book/show/32758901)\n",
      "Jun 08 - 2pm|[**Alex Gino**](http://www.alexgino.com/)|Author of [*George*](https://goodreads.com/book/show/40948486)\n",
      "Jun 14 - 1pm|[**Sam J. Miller**](http://www.samjmiller.com/)|Author of [*Blackfish City*](https://goodreads.com/book/show/35068768)\n",
      "In The Coming Weeks | |Dean Koontz, Tamsyn Muir\n",
      "\n",
      "[The Complete AMA Schedule](/r/books/wiki/amafullschedule)\n",
      "\n",
      "# [Related Subreddits](https://goo.gl/0jV4RT):\n",
      "### [Discussion](https://goo.gl/gc2SkD)\n",
      "### [Genres](https://goo.gl/tqAz83)\n",
      "### [Images](https://goo.gl/coikuy)\n",
      "### [Writing](https://goo.gl/JqC3qe)\n",
      "### [eBooks](https://goo.gl/gxn0Qi)\n",
      "### [Authors](https://goo.gl/VJn5UZ)\n",
      "### [Books/Series](https://goo.gl/DGbvQI)\n",
      "\n",
      "# Other Links:\n",
      "#### Follow our [official Twitter](http://goo.gl/RBcyna) for updates on AMAs and the day's most popular posts!\n",
      "\n",
      "# Spoiler Policy:\n",
      "- Any post with a spoiler in the title will be removed.\n",
      "- Any comment with a spoiler that doesn't use the spoiler code will be removed.\n",
      "- Any user with an extensive history of spoiling books will be banned.\n",
      "- Spoiler tags cover spoilers with black bars that reveal spoilers when a cursor hovers over them They are written as: \\>!spoiler!< with the text \"spoiler\" being your spoiler. Example: >!Hello.!<\n",
      "\n",
      "# [Explanation of our link flairs](/r/books/wiki/flairs)\n",
      "\n",
      "# [Join our /r/bookclub](/r/bookclub)\n",
      "\n",
      "# [Don't forget /new!](/r/books/new)\n",
      "\n",
      "# Filter by Flair\n",
      "> # [AMA](http://goo.gl/94lql6)\n",
      "> # [Weekly Thread](https://www.reddit.com/r/books/search?q=flair%3Aweeklythread&restrict_sr=on&sort=new&t=all)\n",
      "> # [Mod Post](/r/books/search?sort=new&restrict_sr=on&q=flair%3Amod%20post)\n",
      "\n",
      "---\n",
      "\n",
      "> ###### [](#the book banner)\n",
      ">\n",
      "> * [bsct](https://reddit.com/comments/ubhitj/x/i6591nk)\n",
      "* [](https://reddit.com/comments/ubhitj/x/i65g8sj)\n",
      "* [](https://reddit.com/comments/ubhitj/x/i649iq8)\n",
      "* [](https://reddit.com/comments/ubhitj/x/i663shy)\n",
      "* [](https://reddit.com/comments/ubhitj/x/i65whfu)\n",
      "* [](https://reddit.com/comments/ubhitj/x/i64q5ye)\n",
      "* [](https://reddit.com/comments/ubhitj/x/i6889gv)\n",
      "* [](https://reddit.com/comments/ubhitj/x/i65lmn6)\n",
      "* [](https://reddit.com/comments/ubhitj/x/i643ukn)\n",
      "* [](https://reddit.com/comments/ubhitj/x/i67iybo)\n",
      "* [](https://reddit.com/comments/ubhitj/x/i642kvr)\n",
      "* [](https://reddit.com/comments/ubhitj/x/i64hdpp)\n",
      "* [](https://reddit.com/comments/ubhitj/x/i6g0kj7)\n",
      "* [](https://reddit.com/comments/ubhitj/x/i663k5v)\n",
      "* [](https://reddit.com/comments/ubhitj/x/i64hlrd)\n",
      "* [](https://reddit.com/comments/ubhitj/x/i6nrjva)\n",
      "* [](https://reddit.com/comments/ubhitj/x/i6uu0gq)\n",
      "* [](https://reddit.com/comments/ubhitj/x/i6dffz9)\n",
      "* [](https://reddit.com/comments/ubhitj/x/i6aiodn)\n",
      "* [](https://reddit.com/comments/ubhitj/x/i65jsid)\n",
      "* [](https://reddit.com/comments/ubhitj/x/i6dmc90)\n",
      "* [](https://reddit.com/comments/ubhitj/x/i65rgil)\n",
      "* [](https://reddit.com/comments/ubhitj/x/i64puid)\n",
      "* [](https://reddit.com/comments/ubhitj/x/i6968ry)\n",
      "* [](https://reddit.com/comments/ubhitj/x/i64dnfu)\n",
      "* [](https://reddit.com/comments/ubhitj/x/i6dch2v)\n",
      "* [](https://reddit.com/comments/ubhitj/x/i654p25)\n",
      "* [](https://reddit.com/comments/ubhitj/x/i64cznm)\n",
      "* [](https://reddit.com/comments/ubhitj/x/i6pbwb1)\n",
      "* [](https://reddit.com/comments/ubhitj/x/i6690ge)\n",
      "\n",
      "\n",
      "\n",
      "##### [ama](https://www.goodreads.com/search?&query=9780778311829)\n",
      "\n",
      "\n",
      "# Check out this week's [Thread Calendar](https://redd.it/ugm6a8)\n"
     ]
    }
   ],
   "source": [
    "## The description of the subreddit\n",
    "print(subreddit.description)"
   ]
  },
  {
   "cell_type": "code",
   "execution_count": 24,
   "id": "b65b070e",
   "metadata": {},
   "outputs": [
    {
     "data": {
      "text/plain": [
       "20817864"
      ]
     },
     "execution_count": 24,
     "metadata": {},
     "output_type": "execute_result"
    }
   ],
   "source": [
    "## The number of subscribers\n",
    "subreddit.subscribers"
   ]
  },
  {
   "cell_type": "markdown",
   "id": "547745c7",
   "metadata": {},
   "source": [
    "Read the `praw` 'Quick Start' documentation, <a href=\"https://praw.readthedocs.io/en/stable/getting_started/quick_start.html\">https://praw.readthedocs.io/en/stable/getting_started/quick_start.html</a>, to find how to get the top 1 \"hot\" submissions to your favorite subreddit.\n",
    "\n",
    "Store this in a variable named `top_post`."
   ]
  },
  {
   "cell_type": "code",
   "execution_count": 25,
   "id": "41efc3e0",
   "metadata": {},
   "outputs": [],
   "source": [
    "top_post = [post for post in subreddit.hot(limit=1)][0]"
   ]
  },
  {
   "cell_type": "markdown",
   "id": "e2e8cf15",
   "metadata": {},
   "source": [
    "Read the `praw` submission documentation, <a href=\"https://praw.readthedocs.io/en/latest/code_overview/models/submission.html\">https://praw.readthedocs.io/en/latest/code_overview/models/submission.html</a>, to return the:\n",
    "- Author of the post,\n",
    "- The title of the post,\n",
    "- The text of the post (if there is any),\n",
    "- The number of comments and\n",
    "- The number of upvotes."
   ]
  },
  {
   "cell_type": "code",
   "execution_count": 26,
   "id": "542efe37",
   "metadata": {},
   "outputs": [
    {
     "name": "stdout",
     "output_type": "stream",
     "text": [
      "XBreaksYFocusGroup\n"
     ]
    }
   ],
   "source": [
    "print(top_post.author)"
   ]
  },
  {
   "cell_type": "code",
   "execution_count": 27,
   "id": "de4c9075",
   "metadata": {},
   "outputs": [
    {
     "name": "stdout",
     "output_type": "stream",
     "text": [
      "The /r/books Book Club Selection + AMA for May is \"All Systems Red\" and \"Artificial Condition\" by Martha Wells\n"
     ]
    }
   ],
   "source": [
    "print(top_post.title)"
   ]
  },
  {
   "cell_type": "code",
   "execution_count": 28,
   "id": "4821d095",
   "metadata": {},
   "outputs": [
    {
     "name": "stdout",
     "output_type": "stream",
     "text": [
      "*If you are looking for the announcement thread for the previous month, it may be found* [*here*](https://www.reddit.com/r/books/comments/tfog4z/the_rbooks_book_club_selection_ama_for_april_is/)*.*\n",
      "\n",
      "Hello, all. During the month of May, the sub book club will be reading a novella double feature - **All Systems Red** and **Artificial Condition** (books 1 & 2 of *The Murderbot Diaries*) by Martha Wells! Each week there will be a discussion thread and when we are done, Martha herself will be joining us for an AMA.\n",
      "\n",
      "From [Goodreads](https://www.goodreads.com/book/show/32758901-all-systems-red) of All Systems Red (feel free to skip if you prefer to know nothing going into the book as the description contains minor spoilers):\n",
      "\n",
      ">*\"As a heartless killing machine, I was a complete failure.\"*  \n",
      ">  \n",
      ">In a corporate-dominated spacefaring future, planetary missions must be approved and supplied by the Company. Exploratory teams are accompanied by Company-supplied security androids, for their own safety.  \n",
      ">  \n",
      ">But in a society where contracts are awarded to the lowest bidder, safety isn’t a primary concern.  \n",
      ">  \n",
      ">On a distant planet, a team of scientists are conducting surface tests, shadowed by their Company-supplied ‘droid — a self-aware SecUnit that has hacked its own governor module, and refers to itself (though never out loud) as “Murderbot.” Scornful of humans, all it really wants is to be left alone long enough to figure out who it is.  \n",
      ">  \n",
      ">But when a neighboring mission goes dark, it's up to the scientists and their Murderbot to get to the truth. \n",
      "\n",
      "You may find the dates of, and links to, the discussion threads below in the sticky comment on this post. You are welcome to read at your own pace. Usually it is pretty easy to catch up and you are always welcome to join the discussions a little later. If you would like to view potential content warnings for the book, a reader-created list may be found [here](https://app.thestorygraph.com/books/0885d5f1-edc2-435f-b17c-7e881829dbc6/content_warnings).\n",
      "\n",
      "For those of you that are viewing reddit on the redesigned desktop version you will see an option on this post to 'follow'. If you 'follow' the book club post you will receive a notification when a new post, a discussion thread for book club, is added to the collection.\n"
     ]
    }
   ],
   "source": [
    "print(top_post.selftext)"
   ]
  },
  {
   "cell_type": "code",
   "execution_count": 29,
   "id": "2361ab8f",
   "metadata": {},
   "outputs": [
    {
     "name": "stdout",
     "output_type": "stream",
     "text": [
      "11\n"
     ]
    }
   ],
   "source": [
    "print(top_post.num_comments)"
   ]
  },
  {
   "cell_type": "code",
   "execution_count": 30,
   "id": "8f5d6286",
   "metadata": {},
   "outputs": [
    {
     "name": "stdout",
     "output_type": "stream",
     "text": [
      "97\n"
     ]
    }
   ],
   "source": [
    "print(top_post.score)"
   ]
  },
  {
   "cell_type": "markdown",
   "id": "32095c01",
   "metadata": {},
   "source": [
    "You can learn more about `praw` by reading the documentation, <a href=\"https://praw.readthedocs.io/en/latest/index.html\">https://praw.readthedocs.io/en/latest/index.html</a>."
   ]
  },
  {
   "cell_type": "markdown",
   "id": "b2081b66",
   "metadata": {},
   "source": [
    "--------------------------\n",
    "\n",
    "This notebook was written for the Erd&#337;s Institute C&#337;de Data Science Boot Camp by Matthew Osborne, Ph. D., 2022.\n",
    "\n",
    "Any potential redistributors must seek and receive permission from Matthew Tyler Osborne, Ph.D. prior to redistribution. Redistribution of the material contained in this repository is conditional on acknowledgement of Matthew Tyler Osborne, Ph.D.'s original authorship and sponsorship of the Erdős Institute as subject to the license (see License.md)"
   ]
  },
  {
   "cell_type": "code",
   "execution_count": null,
   "id": "4326456c",
   "metadata": {},
   "outputs": [],
   "source": []
  }
 ],
 "metadata": {
  "kernelspec": {
   "display_name": "Python 3 (ipykernel)",
   "language": "python",
   "name": "python3"
  },
  "language_info": {
   "codemirror_mode": {
    "name": "ipython",
    "version": 3
   },
   "file_extension": ".py",
   "mimetype": "text/x-python",
   "name": "python",
   "nbconvert_exporter": "python",
   "pygments_lexer": "ipython3",
   "version": "3.9.9"
  }
 },
 "nbformat": 4,
 "nbformat_minor": 5
}
