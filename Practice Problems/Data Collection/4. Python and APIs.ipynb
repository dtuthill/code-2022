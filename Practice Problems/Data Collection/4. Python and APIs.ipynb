{
 "cells": [
  {
   "cell_type": "markdown",
   "id": "dd12c40d",
   "metadata": {},
   "source": [
    "# Python and APIs\n",
    "\n",
    "The problems in this notebook touch on the material covered in the `Lectures/Data Collection/Python and APIs` notebook."
   ]
  },
  {
   "cell_type": "code",
   "execution_count": null,
   "id": "f2aa69f8",
   "metadata": {},
   "outputs": [],
   "source": [
    "import requests\n",
    "import pandas as pd\n",
    "import numpy as np\n",
    "from time import sleep"
   ]
  },
  {
   "cell_type": "markdown",
   "id": "6f7678e0",
   "metadata": {},
   "source": [
    "##### 1. scite_\n",
    "\n",
    "We start with a problem continuing with the final problem in `3. Web Scraping`. While our direct requests for `www.science.org` html data may have been stymied, there is another path.\n",
    "\n",
    "If we have the dois for these articles we can submit requests for the article metadata to the `scite_` api for free. First we load in the articles and demonstrate how we can extract the dois from the Science articles."
   ]
  },
  {
   "cell_type": "code",
   "execution_count": null,
   "id": "19bec9b6",
   "metadata": {},
   "outputs": [],
   "source": [
    "articles = pd.read_csv(\"journal_article_urls.csv\")"
   ]
  },
  {
   "cell_type": "code",
   "execution_count": null,
   "id": "981878df",
   "metadata": {},
   "outputs": [],
   "source": [
    "articles.loc[articles.domain=='www.science.org'].url.values[1]"
   ]
  },
  {
   "cell_type": "markdown",
   "id": "a3b420c6",
   "metadata": {},
   "source": [
    "In the example url above the text following `doi/` is the doi extension for that particular article. To see this first look at the article via its link, <a  href=\"https://www.science.org/doi/10.1126/scisignal.abk3067\">https://www.science.org/doi/10.1126/scisignal.abk3067</a> and then access it with this doi url <a href=\"https://www.doi.org/10.1126/scisignal.abk3067\">https://www.doi.org/10.1126/scisignal.abk3067</a>."
   ]
  },
  {
   "cell_type": "markdown",
   "id": "5d2a6236",
   "metadata": {},
   "source": [
    "Unfortunately `scite_` does not have a nice Python API wrapper, but we can still submit requests to their API with python. We demonstrate how below."
   ]
  },
  {
   "cell_type": "code",
   "execution_count": null,
   "id": "3d2eb6bc",
   "metadata": {},
   "outputs": [],
   "source": [
    "## The basic request string looks like this\n",
    "'https://api.scite.ai/{endpoint}/{doi}'\n",
    "\n",
    "## For us the API \"endpoint\" we want is 'papers/'\n",
    "## and for this example we will use the doi from above, '10.1126/sciadv.abo1719'\n",
    "endpoint = 'papers/'\n",
    "doi = '10.1126/scisignal.abk3067'\n",
    "\n",
    "\n",
    "## then you just call requests.get for the string\n",
    "r = requests.get('https://api.scite.ai/' + endpoint + doi)"
   ]
  },
  {
   "cell_type": "code",
   "execution_count": null,
   "id": "4f4870c8",
   "metadata": {},
   "outputs": [],
   "source": [
    "## We can get the returned data with\n",
    "## r.json()\n",
    "r.json()"
   ]
  },
  {
   "cell_type": "markdown",
   "id": "df30a64e",
   "metadata": {},
   "source": [
    "Write a script to use the `scite_` api to get the title, authors and doi for each `www.science.org` paper."
   ]
  },
  {
   "cell_type": "code",
   "execution_count": null,
   "id": "19806fdb",
   "metadata": {},
   "outputs": [],
   "source": [
    "## Code here\n",
    "\n",
    "\n"
   ]
  },
  {
   "cell_type": "code",
   "execution_count": null,
   "id": "46396368",
   "metadata": {},
   "outputs": [],
   "source": [
    "## Code here\n",
    "\n",
    "\n"
   ]
  },
  {
   "cell_type": "code",
   "execution_count": null,
   "id": "949b58b9",
   "metadata": {},
   "outputs": [],
   "source": [
    "## Code here\n",
    "\n",
    "\n"
   ]
  },
  {
   "cell_type": "code",
   "execution_count": null,
   "id": "ab0027c3",
   "metadata": {},
   "outputs": [],
   "source": [
    "## Code here\n",
    "\n",
    "\n"
   ]
  },
  {
   "cell_type": "markdown",
   "id": "de54f9ec",
   "metadata": {},
   "source": [
    "##### 2. Movie Reviews\n",
    "\n",
    "Use the `pynytimes` package, <a href=\"https://github.com/michadenheijer/pynytimes#movie-reviews\">https://github.com/michadenheijer/pynytimes#movie-reviews</a> to get any New York Times movie reviews for the film <a href=\"https://www.imdb.com/title/tt8097030/\">Turning Red</a>."
   ]
  },
  {
   "cell_type": "code",
   "execution_count": null,
   "id": "f565a64f",
   "metadata": {},
   "outputs": [],
   "source": [
    "## Code here\n",
    "\n",
    "\n"
   ]
  },
  {
   "cell_type": "code",
   "execution_count": null,
   "id": "24a85631",
   "metadata": {},
   "outputs": [],
   "source": [
    "## Code here\n",
    "\n",
    "\n"
   ]
  },
  {
   "cell_type": "code",
   "execution_count": null,
   "id": "f9f5b192",
   "metadata": {},
   "outputs": [],
   "source": [
    "## Code here\n",
    "\n",
    "\n"
   ]
  },
  {
   "cell_type": "code",
   "execution_count": null,
   "id": "4113cacc",
   "metadata": {},
   "outputs": [],
   "source": [
    "## Code here\n",
    "\n",
    "\n"
   ]
  },
  {
   "cell_type": "code",
   "execution_count": null,
   "id": "38fe03f3",
   "metadata": {},
   "outputs": [],
   "source": [
    "## Code here\n",
    "\n",
    "\n"
   ]
  },
  {
   "cell_type": "markdown",
   "id": "a9e38257",
   "metadata": {},
   "source": [
    "##### 3. Turning Red Rewatch\n",
    "\n",
    "Use `Cinemagoer` to find the rating of <a href=\"https://www.imdb.com/title/tt8097030/\">Turning Red</a> on IMDB. Also produce a list of all the cast members.\n",
    "\n",
    "<i>Hint: once you have gotten the movie returned from IMDB, try doing `variable.data`, where you should replace `variable` with whatever variable name you used to store the movie.</i>"
   ]
  },
  {
   "cell_type": "code",
   "execution_count": null,
   "id": "c5678738",
   "metadata": {},
   "outputs": [],
   "source": [
    "## Code here\n",
    "\n",
    "\n"
   ]
  },
  {
   "cell_type": "code",
   "execution_count": null,
   "id": "e4620c4e",
   "metadata": {},
   "outputs": [],
   "source": [
    "## Code here\n",
    "\n",
    "\n"
   ]
  },
  {
   "cell_type": "code",
   "execution_count": null,
   "id": "7a0a1f2e",
   "metadata": {},
   "outputs": [],
   "source": [
    "## Code here\n",
    "\n",
    "\n"
   ]
  },
  {
   "cell_type": "code",
   "execution_count": null,
   "id": "b2f1c45c",
   "metadata": {},
   "outputs": [],
   "source": [
    "## Code here\n",
    "\n",
    "\n"
   ]
  },
  {
   "cell_type": "markdown",
   "id": "baad986c",
   "metadata": {},
   "source": [
    "##### 4. Python Wrapper for the Reddit API\n",
    "\n",
    "In this problem you will become more familiar with the `praw` package, <a href=\"https://praw.readthedocs.io/en/stable/\">https://praw.readthedocs.io/en/stable/</a>.\n",
    "\n",
    "`praw` is a Python wrapper for Reddit's API, which allows you to scrape Reddit data without having to write much code.\n",
    "\n",
    "The first step for using `praw` is creating a Reddit application with your Reddit account, instructions on how to do so can be found here, <a href=\"https://github.com/reddit-archive/reddit/wiki/OAuth2-Quick-Start-Example#first-steps\">https://github.com/reddit-archive/reddit/wiki/OAuth2-Quick-Start-Example#first-steps</a>.\n",
    "\n",
    "The second step is installing `praw`, you can find instructions to do so here, <a href=\"https://praw.readthedocs.io/en/stable/getting_started/installation.html\">https://praw.readthedocs.io/en/stable/getting_started/installation.html</a>, for `pip` and here, <a href=\"https://anaconda.org/conda-forge/praw\">https://anaconda.org/conda-forge/praw</a> for `conda`.\n",
    "\n",
    "Once you think that you have successfully installed `praw` try running the code chunks below."
   ]
  },
  {
   "cell_type": "code",
   "execution_count": null,
   "id": "539781bb",
   "metadata": {},
   "outputs": [],
   "source": [
    "import praw"
   ]
  },
  {
   "cell_type": "code",
   "execution_count": null,
   "id": "d4984dd5",
   "metadata": {},
   "outputs": [],
   "source": [
    "print(praw.__version__)"
   ]
  },
  {
   "cell_type": "markdown",
   "id": "05a800d4",
   "metadata": {},
   "source": [
    "Next you need to connect to the API using your app's credentials. <b>As always, never share your credentials with anyone, especially online. Store these in a safe place on your computer</b>. I have stored them in the file `matt_api_info.py` which can only be found on my personal laptop."
   ]
  },
  {
   "cell_type": "code",
   "execution_count": null,
   "id": "7be2ac41",
   "metadata": {},
   "outputs": [],
   "source": [
    "from matt_api_info import get_reddit_client_id, get_reddit_client_secret"
   ]
  },
  {
   "cell_type": "code",
   "execution_count": null,
   "id": "a191283b",
   "metadata": {},
   "outputs": [],
   "source": [
    "## Connect to the api\n",
    "reddit = praw.Reddit(\n",
    "    ## input your client_id here\n",
    "    client_id=get_reddit_client_id(),\n",
    "    ## input your client_secret here\n",
    "    client_secret=get_reddit_client_secret(),\n",
    "    ## put in a string for your user_agent here\n",
    "    user_agent=\"testscript\"\n",
    ")"
   ]
  },
  {
   "cell_type": "markdown",
   "id": "f32f2313",
   "metadata": {},
   "source": [
    "Once you have a connection to the Reddit API, you can start to request data.\n",
    "\n",
    "For example, with `.subreddit`, <a href=\"https://praw.readthedocs.io/en/stable/code_overview/models/subreddit.html\">https://praw.readthedocs.io/en/stable/code_overview/models/subreddit.html</a>, you can get the information for a particular subreddit. Choose your favorite subreddit below."
   ]
  },
  {
   "cell_type": "code",
   "execution_count": null,
   "id": "be264704",
   "metadata": {},
   "outputs": [],
   "source": [
    "## place the name of your favorith subreddit here,\n",
    "## this should not include r/\n",
    "## for example, \"books\" leads to the books subreddit, https://www.reddit.com/r/books/\n",
    "subreddit_name = \"books\"\n",
    "\n",
    "## here we get the subreddit data\n",
    "subreddit = reddit.subreddit(subreddit_name)"
   ]
  },
  {
   "cell_type": "markdown",
   "id": "dedd642d",
   "metadata": {},
   "source": [
    "Here is some of the data you can get on a subreddit."
   ]
  },
  {
   "cell_type": "code",
   "execution_count": null,
   "id": "0d696aaf",
   "metadata": {},
   "outputs": [],
   "source": [
    "## The name of the subreddit\n",
    "subreddit.display_name"
   ]
  },
  {
   "cell_type": "code",
   "execution_count": null,
   "id": "c7a74dbf",
   "metadata": {},
   "outputs": [],
   "source": [
    "## The description of the subreddit\n",
    "print(subreddit.description)"
   ]
  },
  {
   "cell_type": "code",
   "execution_count": null,
   "id": "b65b070e",
   "metadata": {},
   "outputs": [],
   "source": [
    "## The number of subscribers\n",
    "subreddit.subscribers"
   ]
  },
  {
   "cell_type": "markdown",
   "id": "547745c7",
   "metadata": {},
   "source": [
    "Read the `praw` 'Quick Start' documentation, <a href=\"https://praw.readthedocs.io/en/stable/getting_started/quick_start.html\">https://praw.readthedocs.io/en/stable/getting_started/quick_start.html</a>, to find how to get the top 1 \"hot\" submissions to your favorite subreddit.\n",
    "\n",
    "Store this in a variable named `top_post`."
   ]
  },
  {
   "cell_type": "code",
   "execution_count": null,
   "id": "41efc3e0",
   "metadata": {},
   "outputs": [],
   "source": [
    "## Code here\n",
    "\n",
    "\n"
   ]
  },
  {
   "cell_type": "markdown",
   "id": "e2e8cf15",
   "metadata": {},
   "source": [
    "Read the `praw` submission documentation, <a href=\"https://praw.readthedocs.io/en/latest/code_overview/models/submission.html\">https://praw.readthedocs.io/en/latest/code_overview/models/submission.html</a>, to return the:\n",
    "- Author of the post,\n",
    "- The title of the post,\n",
    "- The text of the post (if there is any),\n",
    "- The number of comments and\n",
    "- The number of upvotes."
   ]
  },
  {
   "cell_type": "code",
   "execution_count": null,
   "id": "542efe37",
   "metadata": {},
   "outputs": [],
   "source": [
    "## Code here\n",
    "\n"
   ]
  },
  {
   "cell_type": "code",
   "execution_count": null,
   "id": "fc4fa872",
   "metadata": {},
   "outputs": [],
   "source": [
    "## Code here\n",
    "\n"
   ]
  },
  {
   "cell_type": "code",
   "execution_count": null,
   "id": "1723c363",
   "metadata": {},
   "outputs": [],
   "source": [
    "## Code here\n",
    "\n"
   ]
  },
  {
   "cell_type": "code",
   "execution_count": null,
   "id": "796cfa70",
   "metadata": {},
   "outputs": [],
   "source": [
    "## Code here\n",
    "\n"
   ]
  },
  {
   "cell_type": "code",
   "execution_count": null,
   "id": "6de6ff4e",
   "metadata": {},
   "outputs": [],
   "source": [
    "## Code here\n",
    "\n"
   ]
  },
  {
   "cell_type": "code",
   "execution_count": null,
   "id": "09eee549",
   "metadata": {},
   "outputs": [],
   "source": [
    "## Code here\n",
    "\n"
   ]
  },
  {
   "cell_type": "markdown",
   "id": "32095c01",
   "metadata": {},
   "source": [
    "You can learn more about `praw` by reading the documentation, <a href=\"https://praw.readthedocs.io/en/latest/index.html\">https://praw.readthedocs.io/en/latest/index.html</a>."
   ]
  },
  {
   "cell_type": "markdown",
   "id": "b2081b66",
   "metadata": {},
   "source": [
    "--------------------------\n",
    "\n",
    "This notebook was written for the Erd&#337;s Institute C&#337;de Data Science Boot Camp by Matthew Osborne, Ph. D., 2022.\n",
    "\n",
    "Any potential redistributors must seek and receive permission from Matthew Tyler Osborne, Ph.D. prior to redistribution. Redistribution of the material contained in this repository is conditional on acknowledgement of Matthew Tyler Osborne, Ph.D.'s original authorship and sponsorship of the Erdős Institute as subject to the license (see License.md)"
   ]
  },
  {
   "cell_type": "code",
   "execution_count": null,
   "id": "4326456c",
   "metadata": {},
   "outputs": [],
   "source": []
  }
 ],
 "metadata": {
  "kernelspec": {
   "display_name": "Python 3 (ipykernel)",
   "language": "python",
   "name": "python3"
  },
  "language_info": {
   "codemirror_mode": {
    "name": "ipython",
    "version": 3
   },
   "file_extension": ".py",
   "mimetype": "text/x-python",
   "name": "python",
   "nbconvert_exporter": "python",
   "pygments_lexer": "ipython3",
   "version": "3.9.9"
  }
 },
 "nbformat": 4,
 "nbformat_minor": 5
}
