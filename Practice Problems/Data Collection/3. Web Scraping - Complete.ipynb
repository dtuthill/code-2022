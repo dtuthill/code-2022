{
 "cells": [
  {
   "cell_type": "markdown",
   "id": "ac24374d",
   "metadata": {},
   "source": [
    "# Web Scraping\n",
    "\n",
    "This notebook will have problems that touch on the material covered in `Lectures/Data Collection/Web Scraping with BeautifulSoup`."
   ]
  },
  {
   "cell_type": "code",
   "execution_count": 1,
   "id": "7938015d",
   "metadata": {},
   "outputs": [],
   "source": [
    "from bs4 import BeautifulSoup\n",
    "import requests\n",
    "import pandas as pd\n",
    "from time import sleep"
   ]
  },
  {
   "cell_type": "markdown",
   "id": "887daca9",
   "metadata": {},
   "source": [
    "##### 1. Asthma\n",
    "\n",
    "Scrape the percent of each age group that has asthma according to these CDC statistics, <a href=\"https://www.cdc.gov/asthma/most_recent_national_asthma_data.htm\">https://www.cdc.gov/asthma/most_recent_national_asthma_data.htm</a>. Turn the data into a `DataFrame`, which group has the highest rate, the lowest rate? (Answer this question about rates using `pandas`)"
   ]
  },
  {
   "cell_type": "markdown",
   "id": "35449aba",
   "metadata": {},
   "source": [
    "##### Sample Solution"
   ]
  },
  {
   "cell_type": "code",
   "execution_count": 2,
   "id": "40fc062a",
   "metadata": {},
   "outputs": [],
   "source": [
    "url = \"https://www.cdc.gov/asthma/most_recent_national_asthma_data.htm\"\n",
    "html = requests.get(url)\n",
    "soup = BeautifulSoup(html.content, 'html.parser')"
   ]
  },
  {
   "cell_type": "code",
   "execution_count": 3,
   "id": "aca0efc3",
   "metadata": {},
   "outputs": [],
   "source": [
    "table = soup.find('table').tbody"
   ]
  },
  {
   "cell_type": "code",
   "execution_count": 4,
   "id": "da654f24",
   "metadata": {},
   "outputs": [],
   "source": [
    "ages = [td.text for td in table.find_all('td', {'headers':\"characteristic all_age\"})]\n",
    "percs_point = [float(td.text.split(\" \")[0]) for td in table.find_all('td', {'headers':\"percent all_age\"})]\n",
    "percs_se = [float(td.text.split(\" \")[1].replace(\"(\",\"\").replace(\")\",\"\")) for td in table.find_all('td', {'headers':\"percent all_age\"})]"
   ]
  },
  {
   "cell_type": "code",
   "execution_count": 5,
   "id": "39bee285",
   "metadata": {},
   "outputs": [
    {
     "data": {
      "text/html": [
       "<div>\n",
       "<style scoped>\n",
       "    .dataframe tbody tr th:only-of-type {\n",
       "        vertical-align: middle;\n",
       "    }\n",
       "\n",
       "    .dataframe tbody tr th {\n",
       "        vertical-align: top;\n",
       "    }\n",
       "\n",
       "    .dataframe thead th {\n",
       "        text-align: right;\n",
       "    }\n",
       "</style>\n",
       "<table border=\"1\" class=\"dataframe\">\n",
       "  <thead>\n",
       "    <tr style=\"text-align: right;\">\n",
       "      <th></th>\n",
       "      <th>age_group</th>\n",
       "      <th>percs_point</th>\n",
       "      <th>percs_se</th>\n",
       "    </tr>\n",
       "  </thead>\n",
       "  <tbody>\n",
       "    <tr>\n",
       "      <th>0</th>\n",
       "      <td>0–4</td>\n",
       "      <td>2.6</td>\n",
       "      <td>0.40</td>\n",
       "    </tr>\n",
       "    <tr>\n",
       "      <th>1</th>\n",
       "      <td>5–11</td>\n",
       "      <td>8.3</td>\n",
       "      <td>0.64</td>\n",
       "    </tr>\n",
       "    <tr>\n",
       "      <th>2</th>\n",
       "      <td>5–14</td>\n",
       "      <td>9.1</td>\n",
       "      <td>0.53</td>\n",
       "    </tr>\n",
       "    <tr>\n",
       "      <th>3</th>\n",
       "      <td>5-17 (School Age)</td>\n",
       "      <td>8.6</td>\n",
       "      <td>0.44</td>\n",
       "    </tr>\n",
       "    <tr>\n",
       "      <th>4</th>\n",
       "      <td>12-14 (Young Teens)</td>\n",
       "      <td>10.8</td>\n",
       "      <td>0.89</td>\n",
       "    </tr>\n",
       "    <tr>\n",
       "      <th>5</th>\n",
       "      <td>12-17</td>\n",
       "      <td>8.9</td>\n",
       "      <td>0.57</td>\n",
       "    </tr>\n",
       "    <tr>\n",
       "      <th>6</th>\n",
       "      <td>15-17 (Teenagers)</td>\n",
       "      <td>7.0</td>\n",
       "      <td>0.66</td>\n",
       "    </tr>\n",
       "    <tr>\n",
       "      <th>7</th>\n",
       "      <td>15–19</td>\n",
       "      <td>7.4</td>\n",
       "      <td>0.69</td>\n",
       "    </tr>\n",
       "    <tr>\n",
       "      <th>8</th>\n",
       "      <td>11-21 (Adolescents)</td>\n",
       "      <td>8.7</td>\n",
       "      <td>0.51</td>\n",
       "    </tr>\n",
       "    <tr>\n",
       "      <th>9</th>\n",
       "      <td>20–24</td>\n",
       "      <td>9.9</td>\n",
       "      <td>0.91</td>\n",
       "    </tr>\n",
       "    <tr>\n",
       "      <th>10</th>\n",
       "      <td>22-39 (Young Adults)</td>\n",
       "      <td>8.4</td>\n",
       "      <td>0.39</td>\n",
       "    </tr>\n",
       "    <tr>\n",
       "      <th>11</th>\n",
       "      <td>25–34</td>\n",
       "      <td>8.0</td>\n",
       "      <td>0.50</td>\n",
       "    </tr>\n",
       "    <tr>\n",
       "      <th>12</th>\n",
       "      <td>35–64</td>\n",
       "      <td>7.8</td>\n",
       "      <td>0.26</td>\n",
       "    </tr>\n",
       "    <tr>\n",
       "      <th>13</th>\n",
       "      <td>65+</td>\n",
       "      <td>7.7</td>\n",
       "      <td>0.35</td>\n",
       "    </tr>\n",
       "  </tbody>\n",
       "</table>\n",
       "</div>"
      ],
      "text/plain": [
       "               age_group  percs_point  percs_se\n",
       "0                    0–4          2.6      0.40\n",
       "1                   5–11          8.3      0.64\n",
       "2                   5–14          9.1      0.53\n",
       "3      5-17 (School Age)          8.6      0.44\n",
       "4    12-14 (Young Teens)         10.8      0.89\n",
       "5                  12-17          8.9      0.57\n",
       "6      15-17 (Teenagers)          7.0      0.66\n",
       "7                  15–19          7.4      0.69\n",
       "8    11-21 (Adolescents)          8.7      0.51\n",
       "9                  20–24          9.9      0.91\n",
       "10  22-39 (Young Adults)          8.4      0.39\n",
       "11                 25–34          8.0      0.50\n",
       "12                 35–64          7.8      0.26\n",
       "13                   65+          7.7      0.35"
      ]
     },
     "execution_count": 5,
     "metadata": {},
     "output_type": "execute_result"
    }
   ],
   "source": [
    "asthma = pd.DataFrame({'age_group':ages,\n",
    "                         'percs_point':percs_point,\n",
    "                         'percs_se':percs_se})\n",
    "\n",
    "asthma"
   ]
  },
  {
   "cell_type": "code",
   "execution_count": 6,
   "id": "b15de3a2",
   "metadata": {},
   "outputs": [
    {
     "data": {
      "text/html": [
       "<div>\n",
       "<style scoped>\n",
       "    .dataframe tbody tr th:only-of-type {\n",
       "        vertical-align: middle;\n",
       "    }\n",
       "\n",
       "    .dataframe tbody tr th {\n",
       "        vertical-align: top;\n",
       "    }\n",
       "\n",
       "    .dataframe thead th {\n",
       "        text-align: right;\n",
       "    }\n",
       "</style>\n",
       "<table border=\"1\" class=\"dataframe\">\n",
       "  <thead>\n",
       "    <tr style=\"text-align: right;\">\n",
       "      <th></th>\n",
       "      <th>age_group</th>\n",
       "      <th>percs_point</th>\n",
       "      <th>percs_se</th>\n",
       "    </tr>\n",
       "  </thead>\n",
       "  <tbody>\n",
       "    <tr>\n",
       "      <th>4</th>\n",
       "      <td>12-14 (Young Teens)</td>\n",
       "      <td>10.8</td>\n",
       "      <td>0.89</td>\n",
       "    </tr>\n",
       "  </tbody>\n",
       "</table>\n",
       "</div>"
      ],
      "text/plain": [
       "             age_group  percs_point  percs_se\n",
       "4  12-14 (Young Teens)         10.8      0.89"
      ]
     },
     "execution_count": 6,
     "metadata": {},
     "output_type": "execute_result"
    }
   ],
   "source": [
    "asthma.loc[asthma.percs_point==asthma.percs_point.max()]"
   ]
  },
  {
   "cell_type": "markdown",
   "id": "4b5bf79a",
   "metadata": {},
   "source": [
    "##### 2. Let's go Cavs!\n",
    "\n",
    "Write a script to get the scores from all of the Cleveland Cavaliers games from this site, <a href=\"https://www.basketball-reference.com/teams/CLE/2022_games.html\">https://www.basketball-reference.com/teams/CLE/2022_games.html</a>, these are scored in the `Tm` and `Opp` columns."
   ]
  },
  {
   "cell_type": "code",
   "execution_count": 7,
   "id": "d9b92c1f",
   "metadata": {},
   "outputs": [],
   "source": [
    "url = \"https://www.basketball-reference.com/teams/CLE/2022_games.html\"\n",
    "html = requests.get(url)\n",
    "soup = BeautifulSoup(html.content, 'html.parser')"
   ]
  },
  {
   "cell_type": "code",
   "execution_count": 8,
   "id": "c6ebdcfb",
   "metadata": {},
   "outputs": [],
   "source": [
    "table = soup.find('table', {'id':'games'}).tbody"
   ]
  },
  {
   "cell_type": "code",
   "execution_count": 9,
   "id": "843f809d",
   "metadata": {},
   "outputs": [
    {
     "data": {
      "text/html": [
       "<div>\n",
       "<style scoped>\n",
       "    .dataframe tbody tr th:only-of-type {\n",
       "        vertical-align: middle;\n",
       "    }\n",
       "\n",
       "    .dataframe tbody tr th {\n",
       "        vertical-align: top;\n",
       "    }\n",
       "\n",
       "    .dataframe thead th {\n",
       "        text-align: right;\n",
       "    }\n",
       "</style>\n",
       "<table border=\"1\" class=\"dataframe\">\n",
       "  <thead>\n",
       "    <tr style=\"text-align: right;\">\n",
       "      <th></th>\n",
       "      <th>point_scored</th>\n",
       "      <th>opp_scored</th>\n",
       "    </tr>\n",
       "  </thead>\n",
       "  <tbody>\n",
       "    <tr>\n",
       "      <th>0</th>\n",
       "      <td>121</td>\n",
       "      <td>132</td>\n",
       "    </tr>\n",
       "    <tr>\n",
       "      <th>1</th>\n",
       "      <td>112</td>\n",
       "      <td>123</td>\n",
       "    </tr>\n",
       "    <tr>\n",
       "      <th>2</th>\n",
       "      <td>101</td>\n",
       "      <td>95</td>\n",
       "    </tr>\n",
       "    <tr>\n",
       "      <th>3</th>\n",
       "      <td>99</td>\n",
       "      <td>87</td>\n",
       "    </tr>\n",
       "    <tr>\n",
       "      <th>4</th>\n",
       "      <td>92</td>\n",
       "      <td>79</td>\n",
       "    </tr>\n",
       "    <tr>\n",
       "      <th>...</th>\n",
       "      <td>...</td>\n",
       "      <td>...</td>\n",
       "    </tr>\n",
       "    <tr>\n",
       "      <th>79</th>\n",
       "      <td>115</td>\n",
       "      <td>120</td>\n",
       "    </tr>\n",
       "    <tr>\n",
       "      <th>80</th>\n",
       "      <td>107</td>\n",
       "      <td>118</td>\n",
       "    </tr>\n",
       "    <tr>\n",
       "      <th>81</th>\n",
       "      <td>133</td>\n",
       "      <td>115</td>\n",
       "    </tr>\n",
       "    <tr>\n",
       "      <th>82</th>\n",
       "      <td>108</td>\n",
       "      <td>115</td>\n",
       "    </tr>\n",
       "    <tr>\n",
       "      <th>83</th>\n",
       "      <td>101</td>\n",
       "      <td>107</td>\n",
       "    </tr>\n",
       "  </tbody>\n",
       "</table>\n",
       "<p>84 rows × 2 columns</p>\n",
       "</div>"
      ],
      "text/plain": [
       "   point_scored opp_scored\n",
       "0           121        132\n",
       "1           112        123\n",
       "2           101         95\n",
       "3            99         87\n",
       "4            92         79\n",
       "..          ...        ...\n",
       "79          115        120\n",
       "80          107        118\n",
       "81          133        115\n",
       "82          108        115\n",
       "83          101        107\n",
       "\n",
       "[84 rows x 2 columns]"
      ]
     },
     "execution_count": 9,
     "metadata": {},
     "output_type": "execute_result"
    }
   ],
   "source": [
    "pts_scored = [td.text for td in table.find_all('td', {'data-stat':\"pts\"})]\n",
    "opp_pts = [td.text for td in table.find_all('td', {'data-stat':\"opp_pts\"})]\n",
    "\n",
    "pd.DataFrame({'point_scored':pts_scored,\n",
    "                 'opp_scored':opp_pts})"
   ]
  },
  {
   "cell_type": "markdown",
   "id": "e7c40114",
   "metadata": {},
   "source": [
    "##### 3. More Scores\n",
    "\n",
    "Repeat what you did in problem 2, but this time for all seasons from the 2000-01 to the 2021-22 seasons.\n",
    "\n",
    "Also record the opponent team name, the season and the scores in a single `DataFrame`. In which season did the Cleveland Cavaliers score the highest average points per game?"
   ]
  },
  {
   "cell_type": "code",
   "execution_count": 10,
   "id": "63d7fa00",
   "metadata": {},
   "outputs": [],
   "source": [
    "from time import sleep\n",
    "import numpy as np"
   ]
  },
  {
   "cell_type": "code",
   "execution_count": 11,
   "id": "c98407b4",
   "metadata": {
    "scrolled": false
   },
   "outputs": [
    {
     "name": "stdout",
     "output_type": "stream",
     "text": [
      "Working on 2001\n",
      "Working on 2002\n",
      "Working on 2003\n",
      "Working on 2004\n",
      "Working on 2005\n",
      "Working on 2006\n",
      "Working on 2007\n",
      "Working on 2008\n",
      "Working on 2009\n",
      "Working on 2010\n",
      "Working on 2011\n",
      "Working on 2012\n",
      "Working on 2013\n",
      "Working on 2014\n",
      "Working on 2015\n",
      "Working on 2016\n",
      "Working on 2017\n",
      "Working on 2018\n",
      "Working on 2019\n",
      "Working on 2020\n",
      "Working on 2021\n",
      "Working on 2022\n"
     ]
    }
   ],
   "source": [
    "years = range(2001, 2023)\n",
    "\n",
    "base_url = \"https://www.basketball-reference.com/teams/CLE/\"\n",
    "end_of_url = \"_games.html\"\n",
    "\n",
    "opponents = []\n",
    "seasons = []\n",
    "pts_scored = []\n",
    "opp_pts = []\n",
    "\n",
    "for year in years:\n",
    "    print(\"Working on\", year)\n",
    "    html = requests.get(base_url + str(year) + end_of_url)\n",
    "    soup = BeautifulSoup(html.content, 'html.parser')\n",
    "    \n",
    "    table = soup.find('table', {'id':'games'}).tbody\n",
    "    \n",
    "    season_opp_names = [td.text for td in table.find_all('td', {'data-stat':\"opp_name\"})]\n",
    "    season_pts_scored = [int(td.text) for td in table.find_all('td', {'data-stat':\"pts\"})]\n",
    "    season_opp_pts = [int(td.text) for td in table.find_all('td', {'data-stat':\"opp_pts\"})]\n",
    "    season_seasons = np.repeat(str(year-1) + \"-\" + str(year)[-2:], len(season_opp_names))\n",
    "\n",
    "    opponents.extend(season_opp_names)\n",
    "    seasons.extend(season_seasons)\n",
    "    pts_scored.extend(season_pts_scored)\n",
    "    opp_pts.extend(season_opp_pts)\n",
    "    \n",
    "    sleep(3)"
   ]
  },
  {
   "cell_type": "code",
   "execution_count": 12,
   "id": "7cdde11d",
   "metadata": {},
   "outputs": [],
   "source": [
    "cavs_scores = pd.DataFrame({'season':seasons,\n",
    "                                'opponent':opponents,\n",
    "                                'pts_scored':pts_scored,\n",
    "                                'opp_pts':opp_pts})"
   ]
  },
  {
   "cell_type": "code",
   "execution_count": 13,
   "id": "4f8a5217",
   "metadata": {},
   "outputs": [
    {
     "data": {
      "text/plain": [
       "season\n",
       "2017-18    110.865854\n",
       "2016-17    110.341463\n",
       "2021-22    107.714286\n",
       "2019-20    106.892308\n",
       "2018-19    104.475610\n",
       "2015-16    104.329268\n",
       "2020-21    103.833333\n",
       "2014-15    103.134146\n",
       "2009-10    102.109756\n",
       "2008-09    100.280488\n",
       "2013-14     98.219512\n",
       "2005-06     97.585366\n",
       "2006-07     96.756098\n",
       "2004-05     96.512195\n",
       "2012-13     96.500000\n",
       "2007-08     96.378049\n",
       "2010-11     95.451220\n",
       "2001-02     95.268293\n",
       "2011-12     93.030303\n",
       "2003-04     92.914634\n",
       "2000-01     92.207317\n",
       "2002-03     91.402439\n",
       "Name: pts_scored, dtype: float64"
      ]
     },
     "execution_count": 13,
     "metadata": {},
     "output_type": "execute_result"
    }
   ],
   "source": [
    "cavs_scores.groupby('season').pts_scored.mean().sort_values(ascending=False)"
   ]
  },
  {
   "cell_type": "markdown",
   "id": "1c9304b1",
   "metadata": {},
   "source": [
    "##### 4. Scraping Scientific Articles\n",
    "\n",
    "You are working on a research project that involves analyzing the posting of different journal article links. You have been tasked with scraping the title, authors and dois given a list of urls linking to different journal articles. There are three unique domains included in the data loaded for you below."
   ]
  },
  {
   "cell_type": "code",
   "execution_count": 14,
   "id": "c3eac62d",
   "metadata": {},
   "outputs": [],
   "source": [
    "articles = pd.read_csv(\"journal_article_urls.csv\")"
   ]
  },
  {
   "cell_type": "code",
   "execution_count": 15,
   "id": "61f206c3",
   "metadata": {},
   "outputs": [
    {
     "data": {
      "text/html": [
       "<div>\n",
       "<style scoped>\n",
       "    .dataframe tbody tr th:only-of-type {\n",
       "        vertical-align: middle;\n",
       "    }\n",
       "\n",
       "    .dataframe tbody tr th {\n",
       "        vertical-align: top;\n",
       "    }\n",
       "\n",
       "    .dataframe thead th {\n",
       "        text-align: right;\n",
       "    }\n",
       "</style>\n",
       "<table border=\"1\" class=\"dataframe\">\n",
       "  <thead>\n",
       "    <tr style=\"text-align: right;\">\n",
       "      <th></th>\n",
       "      <th>domain</th>\n",
       "      <th>url</th>\n",
       "    </tr>\n",
       "  </thead>\n",
       "  <tbody>\n",
       "    <tr>\n",
       "      <th>0</th>\n",
       "      <td>www.science.org</td>\n",
       "      <td>https://www.science.org/doi/10.1126/sciimmunol...</td>\n",
       "    </tr>\n",
       "    <tr>\n",
       "      <th>1</th>\n",
       "      <td>www.science.org</td>\n",
       "      <td>https://www.science.org/doi/10.1126/scisignal....</td>\n",
       "    </tr>\n",
       "    <tr>\n",
       "      <th>2</th>\n",
       "      <td>www.science.org</td>\n",
       "      <td>https://www.science.org/doi/10.1126/sciimmunol...</td>\n",
       "    </tr>\n",
       "    <tr>\n",
       "      <th>3</th>\n",
       "      <td>www.science.org</td>\n",
       "      <td>https://www.science.org/doi/10.1126/scitranslm...</td>\n",
       "    </tr>\n",
       "    <tr>\n",
       "      <th>4</th>\n",
       "      <td>www.science.org</td>\n",
       "      <td>https://www.science.org/doi/10.1126/science.ab...</td>\n",
       "    </tr>\n",
       "  </tbody>\n",
       "</table>\n",
       "</div>"
      ],
      "text/plain": [
       "            domain                                                url\n",
       "0  www.science.org  https://www.science.org/doi/10.1126/sciimmunol...\n",
       "1  www.science.org  https://www.science.org/doi/10.1126/scisignal....\n",
       "2  www.science.org  https://www.science.org/doi/10.1126/sciimmunol...\n",
       "3  www.science.org  https://www.science.org/doi/10.1126/scitranslm...\n",
       "4  www.science.org  https://www.science.org/doi/10.1126/science.ab..."
      ]
     },
     "execution_count": 15,
     "metadata": {},
     "output_type": "execute_result"
    }
   ],
   "source": [
    "articles.head()"
   ]
  },
  {
   "cell_type": "code",
   "execution_count": 16,
   "id": "a02d020e",
   "metadata": {},
   "outputs": [
    {
     "data": {
      "text/plain": [
       "www.science.org      10\n",
       "www.nature.com       10\n",
       "www.thelancet.com     8\n",
       "Name: domain, dtype: int64"
      ]
     },
     "execution_count": 16,
     "metadata": {},
     "output_type": "execute_result"
    }
   ],
   "source": [
    "articles.domain.value_counts()"
   ]
  },
  {
   "cell_type": "markdown",
   "id": "13bda28d",
   "metadata": {},
   "source": [
    "##### Nature\n",
    "\n",
    "First write a function that can scrape the urls from `www.nature.com`"
   ]
  },
  {
   "cell_type": "markdown",
   "id": "4e51c012",
   "metadata": {},
   "source": [
    "##### Sample Solution"
   ]
  },
  {
   "cell_type": "code",
   "execution_count": 17,
   "id": "4811d28c",
   "metadata": {},
   "outputs": [],
   "source": [
    "def nature(url):\n",
    "    html = requests.get(url)\n",
    "    soup = BeautifulSoup(html.content)\n",
    "    \n",
    "    ## Title\n",
    "    if soup.title:\n",
    "        if soup.title.text:\n",
    "            title = soup.title.text.split(\"|\")[0].strip()\n",
    "        else:\n",
    "            title = \"NA\"\n",
    "    else:\n",
    "        title = \"NA\"\n",
    "\n",
    "    ## Authors\n",
    "    if soup.find_all('a', {'data-test':\"author-name\"}):\n",
    "        authors = \", \".join([a.text for a in soup.find_all('a', {'data-test':\"author-name\"})])\n",
    "    else:\n",
    "        authors = \"NA\"\n",
    "        \n",
    "    ## doi\n",
    "    if soup.find('li', {'class':\"c-bibliographic-information__list-item c-bibliographic-information__list-item--doi\"}):\n",
    "        li = soup.find('li', {'class':\"c-bibliographic-information__list-item c-bibliographic-information__list-item--doi\"})\n",
    "        if li.find('span', {'class':\"c-bibliographic-information__value\"}):\n",
    "            doi = li.find('span', {'class':\"c-bibliographic-information__value\"}).text\n",
    "        else:\n",
    "            doi = \"NA\"\n",
    "    else:\n",
    "        doi = \"NA\"\n",
    "        \n",
    "    return title, authors, doi"
   ]
  },
  {
   "cell_type": "code",
   "execution_count": 18,
   "id": "ab511b38",
   "metadata": {},
   "outputs": [
    {
     "name": "stdout",
     "output_type": "stream",
     "text": [
      "https://www.nature.com/articles/s41586-022-04629-w\n",
      "Projected environmental benefits of replacing beef with microbial protein\n",
      "Florian Humpenöder, Benjamin Leon Bodirsky, Isabelle Weindl, Hermann Lotze-Campen, Tomas Linder, Alexander Popp\n",
      "https://doi.org/10.1038/s41586-022-04629-w\n",
      "\n",
      "https://www.nature.com/articles/s41586-022-04617-0\n",
      "Protected areas have a mixed impact on waterbirds, but management helps\n",
      "Hannah S. Wauchope, Julia P. G. Jones, Jonas Geldmann, Benno I. Simmons, Tatsuya Amano, Daniel E. Blanco, Richard A. Fuller, Alison Johnston, Tom Langendoen, Taej Mundkur, Szabolcs Nagy, William J. Sutherland\n",
      "https://doi.org/10.1038/s41586-022-04617-0\n",
      "\n",
      "https://www.nature.com/articles/s41586-022-04666-5\n",
      "Nonlinear mechanics of human mitotic chromosomes\n",
      "Anna E. C. Meijering, Kata Sarlós, Christian F. Nielsen, Hannes Witt, Janni Harju, Emma Kerklingh, Guus H. Haasnoot, Anna H. Bizard, Iddo Heller, Chase P. Broedersz, Ying Liu, Erwin J. G. Peterman, Ian D. Hickson, Gijs J. L. Wuite\n",
      "https://doi.org/10.1038/s41586-022-04666-5\n",
      "\n",
      "https://www.nature.com/articles/s41586-022-04539-x\n",
      "Single electrons on solid neon as a solid-state qubit platform\n",
      "Xianjing Zhou, Gerwin Koolstra, Xufeng Zhang, Ge Yang, Xu Han, Brennan Dizdar, Xinhao Li, Ralu Divan, Wei Guo, Kater W. Murch, David I. Schuster, Dafei Jin\n",
      "https://doi.org/10.1038/s41586-022-04539-x\n",
      "\n",
      "https://www.nature.com/articles/s41586-022-04520-8\n",
      "Observation of chiral and slow plasmons in twisted bilayer graphene\n",
      "Tianye Huang, Xuecou Tu, Changqing Shen, Binjie Zheng, Junzhuan Wang, Hao Wang, Kaveh Khaliji, Sang Hyun Park, Zhiyong Liu, Teng Yang, Zhidong Zhang, Lei Shao, Xuesong Li, Tony Low, Yi Shi, Xiaomu Wang\n",
      "https://doi.org/10.1038/s41586-022-04520-8\n",
      "\n",
      "https://www.nature.com/articles/s41586-022-04675-4\n",
      "Mosquito brains encode unique features of human odour to drive host seeking\n",
      "Zhilei Zhao, Jessica L. Zung, Annika Hinze, Alexis L. Kriete, Azwad Iqbal, Meg A. Younger, Benjamin J. Matthews, Dorit Merhof, Stephan Thiberge, Rickard Ignell, Martin Strauch, Carolyn S. McBride\n",
      "https://doi.org/10.1038/s41586-022-04675-4\n",
      "\n",
      "https://www.nature.com/articles/s41586-022-04647-8\n",
      "Tackling psychosocial and capital constraints to alleviate poverty\n",
      "Thomas Bossuroy, Markus Goldstein, Bassirou Karimou, Dean Karlan, Harounan Kazianga, William Parienté, Patrick Premand, Catherine C. Thomas, Christopher Udry, Julia Vaillant, Kelsey A. Wright\n",
      "https://doi.org/10.1038/s41586-022-04647-8\n",
      "\n",
      "https://www.nature.com/articles/s41586-022-04664-7\n",
      "A global reptile assessment highlights shared conservation needs of tetrapods\n",
      "Neil Cox, Bruce E. Young, Philip Bowles, Miguel Fernandez, Julie Marin, Giovanni Rapacciuolo, Monika Böhm, Thomas M. Brooks, S. Blair Hedges, Craig Hilton-Taylor, Michael Hoffmann, Richard K. B. Jenkins, Marcelo F. Tognelli, Graham J. Alexander, Allen Allison, Natalia B. Ananjeva, Mark Auliya, Luciano Javier Avila, David G. Chapple, Diego F. Cisneros-Heredia, Harold G. Cogger, Guarino R. Colli, Anslem de Silva, Carla C. Eisemberg, Johannes Els, Ansel Fong G., Tandora D. Grant, Rodney A. Hitchmough, Djoko T. Iskandar, Noriko Kidera, Marcio Martins, Shai Meiri, Nicola J. Mitchell, Sanjay Molur, Cristiano de C. Nogueira, Juan Carlos Ortiz, Johannes Penner, Anders G. J. Rhodin, Gilson A. Rivas, Mark-Oliver Rödel, Uri Roll, Kate L. Sanders, Georgina Santos-Barrera, Glenn M. Shea, Stephen Spawls, Bryan L. Stuart, Krystal A. Tolley, Jean-François Trape, Marcela A. Vidal, Philipp Wagner, Bryan P. Wallace, Yan Xie\n",
      "https://doi.org/10.1038/s41586-022-04664-7\n",
      "\n",
      "https://www.nature.com/articles/s41586-022-04674-5\n",
      "Expanding ocean food production under climate change\n",
      "Christopher M. Free, Reniel B. Cabral, Halley E. Froehlich, Willow Battista, Elena Ojea, Erin O’Reilly, James E. Palardy, Jorge García Molinos, Katherine J. Siegel, Ragnar Arnason, Marie Antonette Juinio-Meñez, Katharina Fabricius, Carol Turley, Steven D. Gaines\n",
      "https://doi.org/10.1038/s41586-022-04674-5\n",
      "\n",
      "https://www.nature.com/articles/s41586-022-04573-9\n",
      "Global seasonal forecasts of marine heatwaves\n",
      "Michael G. Jacox, Michael A. Alexander, Dillon Amaya, Emily Becker, Steven J. Bograd, Stephanie Brodie, Elliott L. Hazen, Mercedes Pozo Buil, Desiree Tommasi\n",
      "https://doi.org/10.1038/s41586-022-04573-9\n",
      "\n"
     ]
    }
   ],
   "source": [
    "for url in articles.loc[articles.domain=='www.nature.com'].url.values:\n",
    "    print(url)\n",
    "    title, authors, doi = nature(url)\n",
    "    print(title)\n",
    "    print(authors)\n",
    "    print(doi)\n",
    "    print()\n",
    "    sleep(3)"
   ]
  },
  {
   "cell_type": "markdown",
   "id": "3f2bd954",
   "metadata": {},
   "source": [
    "##### The Lancet\n",
    "\n",
    "Next write a function that can scrape the urls from `www.thelancet.com`"
   ]
  },
  {
   "cell_type": "code",
   "execution_count": 19,
   "id": "72b391d2",
   "metadata": {},
   "outputs": [
    {
     "name": "stdout",
     "output_type": "stream",
     "text": [
      "https://www.nature.com/articles/s41586-022-04573-9\n"
     ]
    }
   ],
   "source": [
    "print(url)"
   ]
  },
  {
   "cell_type": "code",
   "execution_count": 20,
   "id": "d609e34e",
   "metadata": {},
   "outputs": [],
   "source": [
    "def lancet(url):\n",
    "    html = requests.get(url)\n",
    "    soup = BeautifulSoup(html.content)\n",
    "    \n",
    "    ## title\n",
    "    if soup.title.text:\n",
    "        title = soup.title.text.split(\"- The Lancet\")[0].strip()\n",
    "    else:\n",
    "        title = \"NA\"\n",
    "        \n",
    "    ## authors\n",
    "    if soup.find_all('li', {'class':\"loa__item author\"}):\n",
    "        authors = \", \".join([li.a.text.strip() for li in soup.find_all('li', {'class':\"loa__item author\"})])\n",
    "    else:\n",
    "        authors = \"NA\"\n",
    "        \n",
    "    ## doi\n",
    "    if soup.find('a', {'class':\"article-header__doi__value\"}):\n",
    "        doi = soup.find('a', {'class':\"article-header__doi__value\"}).text\n",
    "    else:\n",
    "        doi = \"NA\"\n",
    "        \n",
    "    return title, authors, doi"
   ]
  },
  {
   "cell_type": "code",
   "execution_count": 21,
   "id": "254d1113",
   "metadata": {},
   "outputs": [
    {
     "name": "stdout",
     "output_type": "stream",
     "text": [
      "https://www.thelancet.com/journals/lancet/article/PIIS0140-6736(22)00122-2/fulltext\n",
      "Long-term secondary prevention of cardiovascular disease with a Mediterranean diet and a low-fat diet (CORDIOPREV): a randomised controlled trial\n",
      "Javier Delgado-Lista, MD, Juan F Alcala-Diaz, MD, Jose D Torres-Peña, MD, Gracia M Quintana-Navarro, PhD, Francisco Fuentes, MD, Antonio Garcia-Rios, MD, Ana M Ortiz-Morales, MD, Ana I Gonzalez-Requero, MD, Ana I Perez-Caballero, MD, Elena M Yubero-Serrano, PhD, Oriol A Rangel-Zuñiga, PhD, Antonio Camargo, PhD, Fernando Rodriguez-Cantalejo, MD, Fernando Lopez-Segura, MD, Prof Lina Badimon, PhD, Prof Jose M Ordovas, PhD, Prof Francisco Perez-Jimenez, MD, Prof Pablo Perez-Martinez, MD, Prof Jose Lopez-Miranda, MD\n",
      "https://doi.org/10.1016/S0140-6736(22)00122-2\n",
      "\n",
      "https://www.thelancet.com/journals/lanmic/article/PIIS2666-5247(22)00033-7/fulltext\n",
      "Accuracy and efficacy of pre-dengue vaccination screening for previous dengue infection with a new dengue rapid diagnostic test: a retrospective analysis of phase 3 efficacy trials\n",
      "Stephen J Savarino, MD, Matthew Bonaparte, PhD, Hao Wang, MPH, Gustavo H Dayan, MD, Remi Forrat, MD, Ming Zhu, PhD, Shekema Hodge, PhD, Yasemin Ataman-Önal, PhD, Carlos A DiazGranados, MD\n",
      "https://doi.org/10.1016/S2666-5247(22)00033-7\n",
      "\n",
      "https://www.thelancet.com/journals/lancet/article/PIIS0140-6736(22)00562-1/fulltext\n",
      "Pembrolizumab versus placebo as adjuvant therapy in completely resected stage IIB or IIC melanoma (KEYNOTE-716): a randomised, double-blind, phase 3 trial\n",
      "Jason J Luke, MD, Prof Piotr Rutkowski, MD, Paola Queirolo, MD, Michele Del Vecchio, MD, Prof Jacek Mackiewicz, MD, Vanna Chiarion-Sileni, MD, Luis de la Cruz Merino, MD, Prof Muhammad A Khattak, MD, Prof Dirk Schadendorf, MD, Prof Georgina V Long, MD, Paolo A Ascierto, MD, Mario Mandala, MD, Federica De Galitiis, MD, Andrew Haydon, MD, Reinhard Dummer, MD, Prof Jean-Jacques Grob, MD, Caroline Robert, MD, Matteo S Carlino, MD, Peter Mohr, MD, Andrew Poklepovic, MD, Prof Vernon K Sondak, MD, Prof Richard A Scolyer, MD, John M Kirkwood, MD, Ke Chen, MS, Scott J Diede, MD, Sama Ahsan, MD, Nageatte Ibrahim, MD, Prof Alexander M M Eggermont, MD\n",
      "https://doi.org/10.1016/S0140-6736(22)00562-1\n",
      "\n",
      "https://www.thelancet.com/journals/lancet/article/PIIS0140-6736(22)00519-0/fulltext\n",
      "Remdesivir and three other drugs for hospitalised patients with COVID-19: final results of the WHO Solidarity randomised trial and updated meta-analyses\n",
      "NA\n",
      "https://doi.org/10.1016/S0140-6736(22)00519-0\n",
      "\n",
      "https://www.thelancet.com/journals/lancet/article/PIIS0140-6736(22)00325-7/fulltext\n",
      "A village doctor-led multifaceted intervention for blood pressure control in rural China: an open, cluster randomised trial\n",
      "Prof Yingxian Sun, MD, Jianjun Mu, MD, Dao Wen Wang, MD, Nanxiang Ouyang, MD, Liying Xing, PhD, Xiaofan Guo, MD, Chunxia Zhao, MD, Guocheng Ren, MD, Ning Ye, MD, Ying Zhou, MD, Jun Wang, MD, Zhao Li, MD, Guozhe Sun, MD, Ruihai Yang, BM, Chung-Shiuan Chen, MS, Prof Jiang He, MD\n",
      "https://doi.org/10.1016/S0140-6736(22)00325-7\n",
      "\n",
      "https://www.thelancet.com/journals/lancet/article/PIIS0140-6736(22)00182-9/fulltext\n",
      "Algorithm-based care versus usual care for the early recognition and management of complications after pancreatic resection in the Netherlands: an open-label, nationwide, stepped-wedge cluster-randomised trial\n",
      "F Jasmijn Smits, MD, Anne Claire Henry, MD, Prof Marc G Besselink, PhD, Prof Olivier R Busch, PhD, Prof Casper H van Eijck, PhD, Mark Arntz, PhD, Thomas L Bollen, PhD, Prof Otto M van Delden, PhD, Daniel van den Heuvel, MD, Christiaan van der Leij, MD, Krijn P van Lienden, PhD, Adriaan Moelker, PhD, Bert A Bonsing, PhD, Prof Inne H Borel Rinkes, PhD, Koop Bosscha, PhD, Ronald M van Dam, PhD, Wouter J M Derksen, PhD, Marcel den Dulk, PhD, Sebastiaan Festen, PhD, Bas Groot Koerkamp, PhD, Robbert J de Haas, PhD, Jeroen Hagendoorn, PhD, Erwin van der Harst, PhD, Prof Ignace H de Hingh, PhD, Prof Geert Kazemier, PhD, Marion van der Kolk, PhD, Mike Liem, PhD, Daan J Lips, PhD, Misha D Luyer, PhD, Vincent E de Meijer, PhD, J Sven Mieog, PhD, Vincent B Nieuwenhuijs, PhD, Gijs A Patijn, PhD, Wouter W te Riele, PhD, Daphne Roos, PhD, Jennifer M Schreinemakers, PhD, Martijn W J Stommel, PhD, Fennie Wit, MD, Babs A Zonderhuis, MD, Lois A Daamen, PhD, C Henri van Werkhoven, PhD, Prof I Quintus Molenaar, PhD, Prof Hjalmar C van Santvoort, PhD\n",
      "https://doi.org/10.1016/S0140-6736(22)00182-9\n",
      "\n",
      "https://www.thelancet.com/journals/lancet/article/PIIS0140-6736(22)00469-X/fulltext\n",
      "Topical imiquimod versus surgery for vulvar intraepithelial neoplasia: a multicentre, randomised, phase 3, non-inferiority trial\n",
      "Gerda Trutnovsky, MD, Olaf Reich, MD, Elmar A Joura, MD, Magdalena Holter, MSc, Alexandra Ciresa-König, MD, Andreas Widschwendter, MD, Christian Schauer, MD, Gerhard Bogner, MD, Ziga Jan, MD, Angelika Boandl, MSc, Martin S Kalteis, MD, Sigrid Regauer, MD, Prof Karl Tamussino, MD\n",
      "https://doi.org/10.1016/S0140-6736(22)00469-X\n",
      "\n",
      "https://www.thelancet.com/journals/lancet/article/PIIS0140-6736(22)00484-6/fulltext\n",
      "Estimating global, regional, and national daily and cumulative infections with SARS-CoV-2 through Nov 14, 2021: a statistical analysis\n",
      "NA\n",
      "https://doi.org/10.1016/S0140-6736(22)00484-6\n",
      "\n"
     ]
    }
   ],
   "source": [
    "for url in articles.loc[articles.domain=='www.thelancet.com'].url.values:\n",
    "    print(url)\n",
    "    title,authors,doi = lancet(url)\n",
    "    print(title)\n",
    "    print(authors)\n",
    "    print(doi)\n",
    "    print()\n",
    "    sleep(3)"
   ]
  },
  {
   "cell_type": "markdown",
   "id": "50277b9f",
   "metadata": {},
   "source": [
    "##### Science\n",
    "\n",
    "Try to request the html code for the first url from the `www.science.org` domain.\n",
    "\n",
    "What is the status response code?"
   ]
  },
  {
   "cell_type": "markdown",
   "id": "9e883c47",
   "metadata": {},
   "source": [
    "##### Sample Solution"
   ]
  },
  {
   "cell_type": "code",
   "execution_count": 22,
   "id": "0da7fcd4",
   "metadata": {},
   "outputs": [
    {
     "data": {
      "text/plain": [
       "<Response [503]>"
      ]
     },
     "execution_count": 22,
     "metadata": {},
     "output_type": "execute_result"
    }
   ],
   "source": [
    "url = articles.loc[articles.domain=='www.science.org'].url.values[0]\n",
    "\n",
    "requests.get(url)"
   ]
  },
  {
   "cell_type": "markdown",
   "id": "de983cc9",
   "metadata": {},
   "source": [
    "When I was writing this notebook, I received a 503 response. This code implies an issue on the website's side and not an issue with your code. While there are different reasons why I got this response, I believe it is because `www.science.org`'s servers have been set up to prevent scraping like we are trying to accomplish.\n",
    "\n",
    "Luckily, we have another way to get the data we want for these urls, which we will touch on in the `Python and APIs` `Practice Problems` notebook."
   ]
  },
  {
   "cell_type": "markdown",
   "id": "26fdeed1",
   "metadata": {},
   "source": [
    "--------------------------\n",
    "\n",
    "This notebook was written for the Erd&#337;s Institute C&#337;de Data Science Boot Camp by Matthew Osborne, Ph. D., 2022.\n",
    "\n",
    "Any potential redistributors must seek and receive permission from Matthew Tyler Osborne, Ph.D. prior to redistribution. Redistribution of the material contained in this repository is conditional on acknowledgement of Matthew Tyler Osborne, Ph.D.'s original authorship and sponsorship of the Erdős Institute as subject to the license (see License.md)"
   ]
  },
  {
   "cell_type": "code",
   "execution_count": null,
   "id": "3bb747f3",
   "metadata": {},
   "outputs": [],
   "source": []
  }
 ],
 "metadata": {
  "kernelspec": {
   "display_name": "Python 3 (ipykernel)",
   "language": "python",
   "name": "python3"
  },
  "language_info": {
   "codemirror_mode": {
    "name": "ipython",
    "version": 3
   },
   "file_extension": ".py",
   "mimetype": "text/x-python",
   "name": "python",
   "nbconvert_exporter": "python",
   "pygments_lexer": "ipython3",
   "version": "3.9.9"
  }
 },
 "nbformat": 4,
 "nbformat_minor": 5
}
