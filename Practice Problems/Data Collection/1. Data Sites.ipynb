{
 "cells": [
  {
   "cell_type": "markdown",
   "metadata": {},
   "source": [
    "# Data Sites\n",
    "\n",
    "The problems in this notebook are to help give you experience using the world wide web to collect readily available data. They correspond to the content covered in:\n",
    "\n",
    "- `Lectures/Data Collection/1. Data File Types`,\n",
    "- `Lectures/Data Collection/2. Data Repositories` and\n",
    "- `Lectures/Data Collection/3. Data Competition Sites`."
   ]
  },
  {
   "cell_type": "code",
   "execution_count": null,
   "metadata": {},
   "outputs": [],
   "source": [
    "import pandas as pd\n",
    "import matplotlib.pyplot as plt\n",
    "from seaborn import set_style\n",
    "\n",
    "set_style(\"whitegrid\")"
   ]
  },
  {
   "cell_type": "markdown",
   "metadata": {},
   "source": [
    "##### 1. Google Trends\n",
    "\n",
    "Use Google Trends, <a href=\"https://trends.google.com/trends/?geo=US\">https://trends.google.com/trends/?geo=US</a>, to download data tracking the interest in \"bikes\" based on Google Web Searches from 2004 to now. Download the data, load it with `pandas` and then plot it.\n",
    "\n",
    "What measure is returned by Google Trends? What are the units?\n",
    "\n",
    "For example, an observation of $76$ would mean what?\n",
    "\n",
    "<i>Hint: You may want to use the `skiprows` and `parse_dates` arguments for `read_csv`, <a href=\"https://pandas.pydata.org/docs/reference/api/pandas.read_csv.html\">https://pandas.pydata.org/docs/reference/api/pandas.read_csv.html</a>.</i>"
   ]
  },
  {
   "cell_type": "code",
   "execution_count": null,
   "metadata": {},
   "outputs": [],
   "source": [
    "## Code here\n",
    "\n",
    "\n"
   ]
  },
  {
   "cell_type": "code",
   "execution_count": null,
   "metadata": {},
   "outputs": [],
   "source": [
    "## Code here\n",
    "\n",
    "\n"
   ]
  },
  {
   "cell_type": "code",
   "execution_count": null,
   "metadata": {},
   "outputs": [],
   "source": [
    "## Code here\n",
    "\n",
    "\n"
   ]
  },
  {
   "cell_type": "code",
   "execution_count": null,
   "metadata": {},
   "outputs": [],
   "source": [
    "## Code here\n",
    "\n",
    "\n"
   ]
  },
  {
   "cell_type": "markdown",
   "metadata": {},
   "source": [
    "##### 2. UC Irvine Wine Quality\n",
    "\n",
    "Find the \"Wine Quality\" data set on the UC Irvine Machine Learning Repository, <a href=\"https://archive.ics.uci.edu/ml/index.php\">https://archive.ics.uci.edu/ml/index.php</a>. Download the data for red wines, load it using `pandas` and make a scatter plot of `pH` against `alcohol`.\n",
    "\n",
    "<i>How are the columns separated? You may need the `sep` argument of `read_csv`, <a href=\"https://pandas.pydata.org/docs/reference/api/pandas.read_csv.html\">https://pandas.pydata.org/docs/reference/api/pandas.read_csv.html</a>.</i>"
   ]
  },
  {
   "cell_type": "code",
   "execution_count": null,
   "metadata": {},
   "outputs": [],
   "source": [
    "## Code here\n",
    "\n"
   ]
  },
  {
   "cell_type": "code",
   "execution_count": null,
   "metadata": {},
   "outputs": [],
   "source": [
    "## Code here\n",
    "\n"
   ]
  },
  {
   "cell_type": "code",
   "execution_count": null,
   "metadata": {},
   "outputs": [],
   "source": [
    "## Code here\n",
    "\n"
   ]
  },
  {
   "cell_type": "code",
   "execution_count": null,
   "metadata": {},
   "outputs": [],
   "source": [
    "## Code here\n",
    "\n"
   ]
  },
  {
   "cell_type": "markdown",
   "metadata": {},
   "source": [
    "##### 3. NYTimes COVID Data\n",
    "\n",
    "Read the `us.csv` file directly from the raw csv file at the New York Times GitHub repository, <a href=\"https://github.com/nytimes/covid-19-data/tree/master/rolling-averages\">https://github.com/nytimes/covid-19-data/tree/master/rolling-averages</a>.\n",
    "\n",
    "Plot the cumulative deaths against time.\n",
    "\n",
    "<i>Hint: You may want to use the `parse_dates` argument in `read_csv`, <a href=\"https://pandas.pydata.org/docs/reference/api/pandas.read_csv.html\">https://pandas.pydata.org/docs/reference/api/pandas.read_csv.html</a>.</i>"
   ]
  },
  {
   "cell_type": "code",
   "execution_count": null,
   "metadata": {},
   "outputs": [],
   "source": [
    "## Code here\n",
    "\n",
    "\n"
   ]
  },
  {
   "cell_type": "code",
   "execution_count": null,
   "metadata": {},
   "outputs": [],
   "source": [
    "## Code here\n",
    "\n",
    "\n"
   ]
  },
  {
   "cell_type": "code",
   "execution_count": null,
   "metadata": {},
   "outputs": [],
   "source": [
    "## Code here\n",
    "\n",
    "\n"
   ]
  },
  {
   "cell_type": "markdown",
   "metadata": {},
   "source": [
    "--------------------------\n",
    "\n",
    "This notebook was written for the Erd&#337;s Institute C&#337;de Data Science Boot Camp by Matthew Osborne, Ph. D., 2022.\n",
    "\n",
    "Any potential redistributors must seek and receive permission from Matthew Tyler Osborne, Ph.D. prior to redistribution. Redistribution of the material contained in this repository is conditional on acknowledgement of Matthew Tyler Osborne, Ph.D.'s original authorship and sponsorship of the Erdős Institute as subject to the license (see License.md)"
   ]
  },
  {
   "cell_type": "code",
   "execution_count": null,
   "metadata": {},
   "outputs": [],
   "source": []
  }
 ],
 "metadata": {
  "kernelspec": {
   "display_name": "Python 3",
   "language": "python",
   "name": "python3"
  },
  "language_info": {
   "codemirror_mode": {
    "name": "ipython",
    "version": 3
   },
   "file_extension": ".py",
   "mimetype": "text/x-python",
   "name": "python",
   "nbconvert_exporter": "python",
   "pygments_lexer": "ipython3",
   "version": "3.6.4"
  }
 },
 "nbformat": 4,
 "nbformat_minor": 5
}
