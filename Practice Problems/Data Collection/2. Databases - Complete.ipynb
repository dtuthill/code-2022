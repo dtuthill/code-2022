{
 "cells": [
  {
   "cell_type": "markdown",
   "id": "b191b151",
   "metadata": {},
   "source": [
    "# Databases\n",
    "\n",
    "The problems in this notebook expand upon the concepts covered in the notebook `Lectures/Data Collection/Data in Databases`."
   ]
  },
  {
   "cell_type": "markdown",
   "id": "45183119",
   "metadata": {},
   "source": [
    "##### 1. Constructing a database table \n",
    "\n",
    "To better understand the structure of a relational database it can help to create one yourself. In this problem we demonstrate how.\n",
    "\n",
    "Imagine we are running a cat store, we sell 3 products: cat food, cat treats, and cat toys. We want a database to keep track of who is buying what stuff from us.\n",
    "\n",
    "Below we import the package we will need and then we create a `cat_store_practice` database in this folder."
   ]
  },
  {
   "cell_type": "code",
   "execution_count": 1,
   "id": "d1dfb9f6",
   "metadata": {},
   "outputs": [],
   "source": [
    "from sqlalchemy import create_engine"
   ]
  },
  {
   "cell_type": "code",
   "execution_count": 2,
   "id": "13e7587d",
   "metadata": {},
   "outputs": [],
   "source": [
    "## making the engine\n",
    "engine = create_engine(\"sqlite:///cat_store_practice.db\")"
   ]
  },
  {
   "cell_type": "code",
   "execution_count": 3,
   "id": "faf33428",
   "metadata": {},
   "outputs": [],
   "source": [
    "## Connecting to the database\n",
    "conn = engine.connect()"
   ]
  },
  {
   "cell_type": "markdown",
   "id": "649aef39",
   "metadata": {},
   "source": [
    "The syntax for creating a brand new table in `SQL` is `CREATE TABLE table_name(columns)`. We demonstrate this below."
   ]
  },
  {
   "cell_type": "code",
   "execution_count": 4,
   "id": "e30b65bd",
   "metadata": {},
   "outputs": [
    {
     "data": {
      "text/plain": [
       "<sqlalchemy.engine.cursor.LegacyCursorResult at 0x103b67520>"
      ]
     },
     "execution_count": 4,
     "metadata": {},
     "output_type": "execute_result"
    }
   ],
   "source": [
    "## CREATE TABLE is SQL code\n",
    "## it creates a table with the given name, here products\n",
    "## in parantheses we list the columns of our table\n",
    "## along with the SQL data type\n",
    "## The PRIMARY KEY line sets the product_id as the\n",
    "## primary key for this table\n",
    "## Think of a primary key as being equivalent to a pandas dataframe index\n",
    "## The primary key allows us to link entries across tables\n",
    "conn.execute(\"\"\"CREATE TABLE products(\n",
    "                    product_id int,\n",
    "                    product text,\n",
    "                    price real,\n",
    "                    in_stock int,\n",
    "                    PRIMARY KEY (product_id)\n",
    "                )\"\"\")\n",
    "\n",
    "\n",
    "## We can now add our first product\n",
    "## with an INSERT command\n",
    "## Here you write INSERT INTO table_name VALUES (values)\n",
    "conn.execute(\"INSERT INTO products VALUES (1,'Cat Food',12.50,10)\")"
   ]
  },
  {
   "cell_type": "markdown",
   "id": "b9422ebb",
   "metadata": {},
   "source": [
    "Use one of the `fetch` commands to check the contents of the `products` table."
   ]
  },
  {
   "cell_type": "code",
   "execution_count": 5,
   "id": "a090e318",
   "metadata": {},
   "outputs": [
    {
     "data": {
      "text/plain": [
       "[(1, 'Cat Food', 12.5, 10)]"
      ]
     },
     "execution_count": 5,
     "metadata": {},
     "output_type": "execute_result"
    }
   ],
   "source": [
    "conn.execute(\"SELECT * FROM products\").fetchall()"
   ]
  },
  {
   "cell_type": "code",
   "execution_count": 6,
   "id": "aa6ecbd7",
   "metadata": {},
   "outputs": [],
   "source": [
    "## close the connection\n",
    "conn.close()\n",
    "\n",
    "## dispose of the engine\n",
    "engine.dispose()\n",
    "\n",
    "del conn,engine"
   ]
  },
  {
   "cell_type": "markdown",
   "id": "b8116e3f",
   "metadata": {},
   "source": [
    "##### 2. `inspect`\n",
    "\n",
    "You can use `get_table_names` to see what tables are in the database to which you have connected. This is a part of `SQLAlchemy`'s `inspect` method, <a href=\"https://docs.sqlalchemy.org/en/14/core/inspection.html\">https://docs.sqlalchemy.org/en/14/core/inspection.html</a>.\n",
    "\n",
    "Here we demonstrate."
   ]
  },
  {
   "cell_type": "code",
   "execution_count": 7,
   "id": "82f13e31",
   "metadata": {},
   "outputs": [],
   "source": [
    "## import inspect\n",
    "from sqlalchemy import inspect"
   ]
  },
  {
   "cell_type": "code",
   "execution_count": 8,
   "id": "4260c4cf",
   "metadata": {},
   "outputs": [],
   "source": [
    "## create the engine then connect\n",
    "engine = create_engine(\"sqlite:///cat_store_real.db\")\n",
    "conn = engine.connect()"
   ]
  },
  {
   "cell_type": "code",
   "execution_count": 9,
   "id": "58bb4c7f",
   "metadata": {},
   "outputs": [
    {
     "data": {
      "text/plain": [
       "['customers', 'purchases']"
      ]
     },
     "execution_count": 9,
     "metadata": {},
     "output_type": "execute_result"
    }
   ],
   "source": [
    "## inspecting the table allows you to\n",
    "## use get_table_names\n",
    "inspect(engine).get_table_names()"
   ]
  },
  {
   "cell_type": "markdown",
   "id": "1ca94af4",
   "metadata": {},
   "source": [
    "<b>Do not</b> end the connection or delete the engine, you will use in in the next problem."
   ]
  },
  {
   "cell_type": "markdown",
   "id": "baefb682",
   "metadata": {},
   "source": [
    "##### 3. Using `WHERE`\n",
    "\n",
    "Create a connection to the `cat_store_real` database in this folder.\n",
    "\n",
    "Return all purchases in the `purchases` table with `pretax_price < 70` and `number_of_items > 3`."
   ]
  },
  {
   "cell_type": "markdown",
   "id": "b801865d",
   "metadata": {},
   "source": [
    "##### Sample Solution"
   ]
  },
  {
   "cell_type": "code",
   "execution_count": 10,
   "id": "4e51ab57",
   "metadata": {},
   "outputs": [
    {
     "data": {
      "text/plain": [
       "[(1, 3, 4, 18.9, 'credit'),\n",
       " (7, 5, 4, 39.9, 'credit'),\n",
       " (11, 3, 5, 26.5, 'check'),\n",
       " (12, 2, 6, 12.54, 'debit'),\n",
       " (19, 9, 5, 68.23, 'debit')]"
      ]
     },
     "execution_count": 10,
     "metadata": {},
     "output_type": "execute_result"
    }
   ],
   "source": [
    "conn.execute(\"SELECT * FROM purchases WHERE (pretax_price < 70) AND (number_of_items > 3)\").fetchall()"
   ]
  },
  {
   "cell_type": "markdown",
   "id": "5d514783",
   "metadata": {},
   "source": [
    "##### 4. Introduction to `JOIN`s\n",
    "\n",
    "One way to combine data from different tables is with a `JOIN` statement.\n",
    "\n",
    "`JOIN`s work by finding column values that match between tables and returning the corresponding rows. Here is a typical `JOIN` statement:\n",
    "\n",
    "<blockquote>\n",
    "    \n",
    "    SELECT columns FROM table1\n",
    "    \n",
    "    JOIN table2\n",
    "    \n",
    "    ON table1.match_column=table2.match_column\n",
    "    \n",
    "    WHERE logical_condition;    \n",
    "</blockquote>\n",
    "\n",
    "Here is an example where we add the customer names to each purchase."
   ]
  },
  {
   "cell_type": "code",
   "execution_count": 12,
   "id": "25a1ad1b",
   "metadata": {},
   "outputs": [],
   "source": [
    "import pandas as pd"
   ]
  },
  {
   "cell_type": "code",
   "execution_count": 13,
   "id": "84042a44",
   "metadata": {},
   "outputs": [
    {
     "data": {
      "text/html": [
       "<div>\n",
       "<style scoped>\n",
       "    .dataframe tbody tr th:only-of-type {\n",
       "        vertical-align: middle;\n",
       "    }\n",
       "\n",
       "    .dataframe tbody tr th {\n",
       "        vertical-align: top;\n",
       "    }\n",
       "\n",
       "    .dataframe thead th {\n",
       "        text-align: right;\n",
       "    }\n",
       "</style>\n",
       "<table border=\"1\" class=\"dataframe\">\n",
       "  <thead>\n",
       "    <tr style=\"text-align: right;\">\n",
       "      <th></th>\n",
       "      <th>name</th>\n",
       "      <th>purchase_id</th>\n",
       "      <th>pretax_price</th>\n",
       "    </tr>\n",
       "  </thead>\n",
       "  <tbody>\n",
       "    <tr>\n",
       "      <th>0</th>\n",
       "      <td>Melanie PBody</td>\n",
       "      <td>1</td>\n",
       "      <td>18.90</td>\n",
       "    </tr>\n",
       "    <tr>\n",
       "      <th>1</th>\n",
       "      <td>Francine Frensky</td>\n",
       "      <td>2</td>\n",
       "      <td>22.20</td>\n",
       "    </tr>\n",
       "    <tr>\n",
       "      <th>2</th>\n",
       "      <td>Olivia Olive</td>\n",
       "      <td>3</td>\n",
       "      <td>7.89</td>\n",
       "    </tr>\n",
       "    <tr>\n",
       "      <th>3</th>\n",
       "      <td>Mike Evans</td>\n",
       "      <td>4</td>\n",
       "      <td>109.89</td>\n",
       "    </tr>\n",
       "    <tr>\n",
       "      <th>4</th>\n",
       "      <td>Mark Ruffalo</td>\n",
       "      <td>5</td>\n",
       "      <td>33.30</td>\n",
       "    </tr>\n",
       "    <tr>\n",
       "      <th>5</th>\n",
       "      <td>Paul London</td>\n",
       "      <td>6</td>\n",
       "      <td>10.99</td>\n",
       "    </tr>\n",
       "    <tr>\n",
       "      <th>6</th>\n",
       "      <td>Frances Paris</td>\n",
       "      <td>8</td>\n",
       "      <td>71.89</td>\n",
       "    </tr>\n",
       "    <tr>\n",
       "      <th>7</th>\n",
       "      <td>Richard Frank</td>\n",
       "      <td>9</td>\n",
       "      <td>209.89</td>\n",
       "    </tr>\n",
       "    <tr>\n",
       "      <th>8</th>\n",
       "      <td>Mark Ruffalo</td>\n",
       "      <td>10</td>\n",
       "      <td>17.54</td>\n",
       "    </tr>\n",
       "    <tr>\n",
       "      <th>9</th>\n",
       "      <td>Melanie PBody</td>\n",
       "      <td>11</td>\n",
       "      <td>26.50</td>\n",
       "    </tr>\n",
       "    <tr>\n",
       "      <th>10</th>\n",
       "      <td>Francine Frensky</td>\n",
       "      <td>12</td>\n",
       "      <td>12.54</td>\n",
       "    </tr>\n",
       "    <tr>\n",
       "      <th>11</th>\n",
       "      <td>Mike Evans</td>\n",
       "      <td>13</td>\n",
       "      <td>99.56</td>\n",
       "    </tr>\n",
       "    <tr>\n",
       "      <th>12</th>\n",
       "      <td>Frances Paris</td>\n",
       "      <td>14</td>\n",
       "      <td>21.00</td>\n",
       "    </tr>\n",
       "    <tr>\n",
       "      <th>13</th>\n",
       "      <td>Mark Ruffalo</td>\n",
       "      <td>16</td>\n",
       "      <td>0.99</td>\n",
       "    </tr>\n",
       "    <tr>\n",
       "      <th>14</th>\n",
       "      <td>Melanie PBody</td>\n",
       "      <td>17</td>\n",
       "      <td>45.59</td>\n",
       "    </tr>\n",
       "    <tr>\n",
       "      <th>15</th>\n",
       "      <td>Francine Frensky</td>\n",
       "      <td>18</td>\n",
       "      <td>105.66</td>\n",
       "    </tr>\n",
       "    <tr>\n",
       "      <th>16</th>\n",
       "      <td>Paul London</td>\n",
       "      <td>19</td>\n",
       "      <td>68.23</td>\n",
       "    </tr>\n",
       "    <tr>\n",
       "      <th>17</th>\n",
       "      <td>Jenny Gump</td>\n",
       "      <td>20</td>\n",
       "      <td>4.56</td>\n",
       "    </tr>\n",
       "  </tbody>\n",
       "</table>\n",
       "</div>"
      ],
      "text/plain": [
       "                name  purchase_id  pretax_price\n",
       "0      Melanie PBody            1         18.90\n",
       "1   Francine Frensky            2         22.20\n",
       "2       Olivia Olive            3          7.89\n",
       "3         Mike Evans            4        109.89\n",
       "4       Mark Ruffalo            5         33.30\n",
       "5        Paul London            6         10.99\n",
       "6      Frances Paris            8         71.89\n",
       "7      Richard Frank            9        209.89\n",
       "8       Mark Ruffalo           10         17.54\n",
       "9      Melanie PBody           11         26.50\n",
       "10  Francine Frensky           12         12.54\n",
       "11        Mike Evans           13         99.56\n",
       "12     Frances Paris           14         21.00\n",
       "13      Mark Ruffalo           16          0.99\n",
       "14     Melanie PBody           17         45.59\n",
       "15  Francine Frensky           18        105.66\n",
       "16       Paul London           19         68.23\n",
       "17        Jenny Gump           20          4.56"
      ]
     },
     "execution_count": 13,
     "metadata": {},
     "output_type": "execute_result"
    }
   ],
   "source": [
    "results = conn.execute(\"\"\"SELECT name, purchase_id, pretax_price FROM purchases\n",
    "                            JOIN customers\n",
    "                            ON purchases.customer_id=customers.customer_id\"\"\")\n",
    "\n",
    "pd.DataFrame(results.fetchall(), columns=results.keys())"
   ]
  },
  {
   "cell_type": "markdown",
   "id": "e40c9a1d",
   "metadata": {},
   "source": [
    "We should note that if the two tables you want to join share a column name you need to specify which one you want."
   ]
  },
  {
   "cell_type": "code",
   "execution_count": 14,
   "id": "522afd00",
   "metadata": {},
   "outputs": [
    {
     "data": {
      "text/html": [
       "<div>\n",
       "<style scoped>\n",
       "    .dataframe tbody tr th:only-of-type {\n",
       "        vertical-align: middle;\n",
       "    }\n",
       "\n",
       "    .dataframe tbody tr th {\n",
       "        vertical-align: top;\n",
       "    }\n",
       "\n",
       "    .dataframe thead th {\n",
       "        text-align: right;\n",
       "    }\n",
       "</style>\n",
       "<table border=\"1\" class=\"dataframe\">\n",
       "  <thead>\n",
       "    <tr style=\"text-align: right;\">\n",
       "      <th></th>\n",
       "      <th>name</th>\n",
       "      <th>customer_id</th>\n",
       "      <th>purchase_id</th>\n",
       "      <th>pretax_price</th>\n",
       "    </tr>\n",
       "  </thead>\n",
       "  <tbody>\n",
       "    <tr>\n",
       "      <th>0</th>\n",
       "      <td>Melanie PBody</td>\n",
       "      <td>3</td>\n",
       "      <td>1</td>\n",
       "      <td>18.90</td>\n",
       "    </tr>\n",
       "    <tr>\n",
       "      <th>1</th>\n",
       "      <td>Francine Frensky</td>\n",
       "      <td>2</td>\n",
       "      <td>2</td>\n",
       "      <td>22.20</td>\n",
       "    </tr>\n",
       "    <tr>\n",
       "      <th>2</th>\n",
       "      <td>Olivia Olive</td>\n",
       "      <td>7</td>\n",
       "      <td>3</td>\n",
       "      <td>7.89</td>\n",
       "    </tr>\n",
       "    <tr>\n",
       "      <th>3</th>\n",
       "      <td>Mike Evans</td>\n",
       "      <td>1</td>\n",
       "      <td>4</td>\n",
       "      <td>109.89</td>\n",
       "    </tr>\n",
       "    <tr>\n",
       "      <th>4</th>\n",
       "      <td>Mark Ruffalo</td>\n",
       "      <td>4</td>\n",
       "      <td>5</td>\n",
       "      <td>33.30</td>\n",
       "    </tr>\n",
       "    <tr>\n",
       "      <th>5</th>\n",
       "      <td>Paul London</td>\n",
       "      <td>9</td>\n",
       "      <td>6</td>\n",
       "      <td>10.99</td>\n",
       "    </tr>\n",
       "    <tr>\n",
       "      <th>6</th>\n",
       "      <td>Frances Paris</td>\n",
       "      <td>8</td>\n",
       "      <td>8</td>\n",
       "      <td>71.89</td>\n",
       "    </tr>\n",
       "    <tr>\n",
       "      <th>7</th>\n",
       "      <td>Richard Frank</td>\n",
       "      <td>6</td>\n",
       "      <td>9</td>\n",
       "      <td>209.89</td>\n",
       "    </tr>\n",
       "    <tr>\n",
       "      <th>8</th>\n",
       "      <td>Mark Ruffalo</td>\n",
       "      <td>4</td>\n",
       "      <td>10</td>\n",
       "      <td>17.54</td>\n",
       "    </tr>\n",
       "    <tr>\n",
       "      <th>9</th>\n",
       "      <td>Melanie PBody</td>\n",
       "      <td>3</td>\n",
       "      <td>11</td>\n",
       "      <td>26.50</td>\n",
       "    </tr>\n",
       "    <tr>\n",
       "      <th>10</th>\n",
       "      <td>Francine Frensky</td>\n",
       "      <td>2</td>\n",
       "      <td>12</td>\n",
       "      <td>12.54</td>\n",
       "    </tr>\n",
       "    <tr>\n",
       "      <th>11</th>\n",
       "      <td>Mike Evans</td>\n",
       "      <td>1</td>\n",
       "      <td>13</td>\n",
       "      <td>99.56</td>\n",
       "    </tr>\n",
       "    <tr>\n",
       "      <th>12</th>\n",
       "      <td>Frances Paris</td>\n",
       "      <td>8</td>\n",
       "      <td>14</td>\n",
       "      <td>21.00</td>\n",
       "    </tr>\n",
       "    <tr>\n",
       "      <th>13</th>\n",
       "      <td>Mark Ruffalo</td>\n",
       "      <td>4</td>\n",
       "      <td>16</td>\n",
       "      <td>0.99</td>\n",
       "    </tr>\n",
       "    <tr>\n",
       "      <th>14</th>\n",
       "      <td>Melanie PBody</td>\n",
       "      <td>3</td>\n",
       "      <td>17</td>\n",
       "      <td>45.59</td>\n",
       "    </tr>\n",
       "    <tr>\n",
       "      <th>15</th>\n",
       "      <td>Francine Frensky</td>\n",
       "      <td>2</td>\n",
       "      <td>18</td>\n",
       "      <td>105.66</td>\n",
       "    </tr>\n",
       "    <tr>\n",
       "      <th>16</th>\n",
       "      <td>Paul London</td>\n",
       "      <td>9</td>\n",
       "      <td>19</td>\n",
       "      <td>68.23</td>\n",
       "    </tr>\n",
       "    <tr>\n",
       "      <th>17</th>\n",
       "      <td>Jenny Gump</td>\n",
       "      <td>10</td>\n",
       "      <td>20</td>\n",
       "      <td>4.56</td>\n",
       "    </tr>\n",
       "  </tbody>\n",
       "</table>\n",
       "</div>"
      ],
      "text/plain": [
       "                name  customer_id  purchase_id  pretax_price\n",
       "0      Melanie PBody            3            1         18.90\n",
       "1   Francine Frensky            2            2         22.20\n",
       "2       Olivia Olive            7            3          7.89\n",
       "3         Mike Evans            1            4        109.89\n",
       "4       Mark Ruffalo            4            5         33.30\n",
       "5        Paul London            9            6         10.99\n",
       "6      Frances Paris            8            8         71.89\n",
       "7      Richard Frank            6            9        209.89\n",
       "8       Mark Ruffalo            4           10         17.54\n",
       "9      Melanie PBody            3           11         26.50\n",
       "10  Francine Frensky            2           12         12.54\n",
       "11        Mike Evans            1           13         99.56\n",
       "12     Frances Paris            8           14         21.00\n",
       "13      Mark Ruffalo            4           16          0.99\n",
       "14     Melanie PBody            3           17         45.59\n",
       "15  Francine Frensky            2           18        105.66\n",
       "16       Paul London            9           19         68.23\n",
       "17        Jenny Gump           10           20          4.56"
      ]
     },
     "execution_count": 14,
     "metadata": {},
     "output_type": "execute_result"
    }
   ],
   "source": [
    "results = conn.execute(\"\"\"SELECT name, purchases.customer_id, purchase_id, pretax_price FROM purchases\n",
    "                            JOIN customers\n",
    "                            ON purchases.customer_id=customers.customer_id\"\"\")\n",
    "\n",
    "pd.DataFrame(results.fetchall(), columns=results.keys())"
   ]
  },
  {
   "cell_type": "markdown",
   "id": "fd398db1",
   "metadata": {},
   "source": [
    "##### Practice\n",
    "\n",
    "Try to answer the following using `JOIN` statements.\n",
    "\n",
    "1. Who has made purchases?\n",
    "\n",
    "2. Who has made the most purchases?\n",
    "\n",
    "3. What are the emails of customers that have made purchases over $70?"
   ]
  },
  {
   "cell_type": "markdown",
   "id": "341cf18d",
   "metadata": {},
   "source": [
    "##### Sample Solution"
   ]
  },
  {
   "cell_type": "code",
   "execution_count": 15,
   "id": "d95d018b",
   "metadata": {},
   "outputs": [
    {
     "data": {
      "text/plain": [
       "Francine Frensky    3\n",
       "Mark Ruffalo        3\n",
       "Melanie PBody       3\n",
       "Frances Paris       2\n",
       "Mike Evans          2\n",
       "Paul London         2\n",
       "Jenny Gump          1\n",
       "Olivia Olive        1\n",
       "Richard Frank       1\n",
       "dtype: int64"
      ]
     },
     "execution_count": 15,
     "metadata": {},
     "output_type": "execute_result"
    }
   ],
   "source": [
    "##### 1.\n",
    "\n",
    "results = conn.execute(\"\"\"SELECT name FROM purchases\n",
    "                            JOIN customers\n",
    "                            ON purchases.customer_id=customers.customer_id\"\"\")\n",
    "\n",
    "pd.DataFrame(results).value_counts()"
   ]
  },
  {
   "cell_type": "code",
   "execution_count": 20,
   "id": "b575f9dd",
   "metadata": {},
   "outputs": [
    {
     "data": {
      "text/plain": [
       "Index(['Melanie PBody', 'Francine Frensky', 'Mark Ruffalo'], dtype='object')"
      ]
     },
     "execution_count": 20,
     "metadata": {},
     "output_type": "execute_result"
    }
   ],
   "source": [
    "##### 2.\n",
    "\n",
    "results = conn.execute(\"\"\"SELECT name FROM purchases\n",
    "                            JOIN customers\n",
    "                            ON purchases.customer_id=customers.customer_id\"\"\")\n",
    "\n",
    "df = pd.DataFrame(results.fetchall(), \n",
    "                     columns=results.keys())\n",
    "\n",
    "df.name.value_counts().index[df.name.value_counts()==df.name.value_counts().max()]"
   ]
  },
  {
   "cell_type": "code",
   "execution_count": 21,
   "id": "7f9e4216",
   "metadata": {},
   "outputs": [
    {
     "data": {
      "text/html": [
       "<div>\n",
       "<style scoped>\n",
       "    .dataframe tbody tr th:only-of-type {\n",
       "        vertical-align: middle;\n",
       "    }\n",
       "\n",
       "    .dataframe tbody tr th {\n",
       "        vertical-align: top;\n",
       "    }\n",
       "\n",
       "    .dataframe thead th {\n",
       "        text-align: right;\n",
       "    }\n",
       "</style>\n",
       "<table border=\"1\" class=\"dataframe\">\n",
       "  <thead>\n",
       "    <tr style=\"text-align: right;\">\n",
       "      <th></th>\n",
       "      <th>email</th>\n",
       "    </tr>\n",
       "  </thead>\n",
       "  <tbody>\n",
       "    <tr>\n",
       "      <th>0</th>\n",
       "      <td>mik.evans@yahoo.com</td>\n",
       "    </tr>\n",
       "    <tr>\n",
       "      <th>1</th>\n",
       "      <td>iseelondon@gmail.com</td>\n",
       "    </tr>\n",
       "    <tr>\n",
       "      <th>2</th>\n",
       "      <td>letsbefrank@hotmail.com</td>\n",
       "    </tr>\n",
       "    <tr>\n",
       "      <th>3</th>\n",
       "      <td>mik.evans@yahoo.com</td>\n",
       "    </tr>\n",
       "    <tr>\n",
       "      <th>4</th>\n",
       "      <td>arthurfan@gmail.com</td>\n",
       "    </tr>\n",
       "  </tbody>\n",
       "</table>\n",
       "</div>"
      ],
      "text/plain": [
       "                     email\n",
       "0      mik.evans@yahoo.com\n",
       "1     iseelondon@gmail.com\n",
       "2  letsbefrank@hotmail.com\n",
       "3      mik.evans@yahoo.com\n",
       "4      arthurfan@gmail.com"
      ]
     },
     "execution_count": 21,
     "metadata": {},
     "output_type": "execute_result"
    }
   ],
   "source": [
    "##### 3.\n",
    "\n",
    "results = conn.execute(\"\"\"SELECT email FROM purchases\n",
    "                            JOIN customers\n",
    "                            ON purchases.customer_id=customers.customer_id\n",
    "                            WHERE pretax_price > 70\"\"\")\n",
    "\n",
    "pd.DataFrame(results.fetchall(),\n",
    "                columns=results.keys())"
   ]
  },
  {
   "cell_type": "markdown",
   "id": "430d0807",
   "metadata": {},
   "source": [
    "--------------------------\n",
    "\n",
    "This notebook was written for the Erd&#337;s Institute C&#337;de Data Science Boot Camp by Matthew Osborne, Ph. D., 2022.\n",
    "\n",
    "Any potential redistributors must seek and receive permission from Matthew Tyler Osborne, Ph.D. prior to redistribution. Redistribution of the material contained in this repository is conditional on acknowledgement of Matthew Tyler Osborne, Ph.D.'s original authorship and sponsorship of the Erdős Institute as subject to the license (see License.md)"
   ]
  },
  {
   "cell_type": "code",
   "execution_count": null,
   "id": "c776eb75",
   "metadata": {},
   "outputs": [],
   "source": []
  }
 ],
 "metadata": {
  "kernelspec": {
   "display_name": "Python 3 (ipykernel)",
   "language": "python",
   "name": "python3"
  },
  "language_info": {
   "codemirror_mode": {
    "name": "ipython",
    "version": 3
   },
   "file_extension": ".py",
   "mimetype": "text/x-python",
   "name": "python",
   "nbconvert_exporter": "python",
   "pygments_lexer": "ipython3",
   "version": "3.9.9"
  }
 },
 "nbformat": 4,
 "nbformat_minor": 5
}
