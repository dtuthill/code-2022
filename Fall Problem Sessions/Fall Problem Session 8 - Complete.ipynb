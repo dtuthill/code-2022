{
 "cells": [
  {
   "cell_type": "markdown",
   "id": "b382d20a",
   "metadata": {},
   "source": [
    "# Fall Problem Session 8\n",
    "## Classifying Pumpkin Seeds II\n",
    "\n",
    "In this notebook you continue to work with the pumpkin seed data from <a href=\"https://link.springer.com/article/10.1007/s10722-021-01226-0\">The use of machine learning methods in classification of pumpkin seeds (Cucurbita pepo L.)</a> by Koklu, Sarigil and Ozbek (2021).\n",
    "\n",
    "The problems in this notebook will cover the content covered in some of our `Classification` notebooks as well as some of our `Dimension Reduction` notebooks. In particular we will cover content touched on in:\n",
    "- `Classification/Adjustments for Classification`,\n",
    "- `Classification/k Nearest Neighbors`,\n",
    "- `Classification/The Confusion Matrix`,\n",
    "- `Classification/Logistic Regression`,\n",
    "- `Classification/Diagnostic Curves`,\n",
    "- `Classification/Bayes Based Classifiers` and\n",
    "- `Dimension Reduction/Principal Components Analysis`."
   ]
  },
  {
   "cell_type": "code",
   "execution_count": 1,
   "id": "b336fe05",
   "metadata": {},
   "outputs": [],
   "source": [
    "import pandas as pd\n",
    "import numpy as np\n",
    "import matplotlib.pyplot as plt\n",
    "import seaborn as sns\n",
    "\n",
    "sns.set_style(\"whitegrid\")"
   ]
  },
  {
   "cell_type": "markdown",
   "id": "23b9f02d",
   "metadata": {},
   "source": [
    "#### 1. Load then prepare the data\n",
    "\n",
    "\n",
    "- Load the data stored in `Pumpkin_Seeds_Dataset.xlsx` in the `Data` folder,\n",
    "- Create a column `y` where `y=1` if `Class=Ürgüp Sivrisi` and `y=0` if `Class=Çerçevelik` and\n",
    "- Make a train test split setting $10\\%$ of the data aside as a test set."
   ]
  },
  {
   "cell_type": "markdown",
   "id": "23f01868",
   "metadata": {},
   "source": [
    "##### Sample Solution"
   ]
  },
  {
   "cell_type": "code",
   "execution_count": 2,
   "id": "36da466e",
   "metadata": {},
   "outputs": [],
   "source": [
    "seeds = pd.read_excel(\"../Data/Pumpkin_Seeds_Dataset.xlsx\")\n",
    "\n",
    "seeds['y'] = 0\n",
    "\n",
    "seeds.loc[seeds.Class=='Ürgüp Sivrisi', 'y']=1"
   ]
  },
  {
   "cell_type": "code",
   "execution_count": 3,
   "id": "ac8fd445",
   "metadata": {},
   "outputs": [],
   "source": [
    "from sklearn.model_selection import train_test_split"
   ]
  },
  {
   "cell_type": "code",
   "execution_count": 4,
   "id": "a2920249",
   "metadata": {},
   "outputs": [],
   "source": [
    "seeds_train, seeds_test = train_test_split(seeds.copy(),\n",
    "                                              shuffle=True,\n",
    "                                              random_state=123,\n",
    "                                              test_size=.1,\n",
    "                                              stratify=seeds.y.values)"
   ]
  },
  {
   "cell_type": "markdown",
   "id": "9bee9ccf",
   "metadata": {},
   "source": [
    "#### 2. Refresh your memory\n",
    "\n",
    "If you need to refresh your memory on these data and the problem, you may want to look at a small subset of the data, look back on `Fall Problem Session 7` and/or browse Figure 5 and Table 1 of this paper, <a href=\"pumpkin_seed_paper.pdf\">pumpkin_seed_paper.pdf</a>"
   ]
  },
  {
   "cell_type": "markdown",
   "id": "8e4e6b43",
   "metadata": {},
   "source": [
    "##### Sample Solution"
   ]
  },
  {
   "cell_type": "code",
   "execution_count": 5,
   "id": "3a26c4b1",
   "metadata": {},
   "outputs": [
    {
     "data": {
      "text/html": [
       "<div>\n",
       "<style scoped>\n",
       "    .dataframe tbody tr th:only-of-type {\n",
       "        vertical-align: middle;\n",
       "    }\n",
       "\n",
       "    .dataframe tbody tr th {\n",
       "        vertical-align: top;\n",
       "    }\n",
       "\n",
       "    .dataframe thead th {\n",
       "        text-align: right;\n",
       "    }\n",
       "</style>\n",
       "<table border=\"1\" class=\"dataframe\">\n",
       "  <thead>\n",
       "    <tr style=\"text-align: right;\">\n",
       "      <th></th>\n",
       "      <th>Area</th>\n",
       "      <th>Perimeter</th>\n",
       "      <th>Major_Axis_Length</th>\n",
       "      <th>Minor_Axis_Length</th>\n",
       "      <th>Convex_Area</th>\n",
       "      <th>Equiv_Diameter</th>\n",
       "      <th>Eccentricity</th>\n",
       "      <th>Solidity</th>\n",
       "      <th>Extent</th>\n",
       "      <th>Roundness</th>\n",
       "      <th>Aspect_Ration</th>\n",
       "      <th>Compactness</th>\n",
       "      <th>Class</th>\n",
       "      <th>y</th>\n",
       "    </tr>\n",
       "  </thead>\n",
       "  <tbody>\n",
       "    <tr>\n",
       "      <th>1017</th>\n",
       "      <td>93235</td>\n",
       "      <td>1216.567</td>\n",
       "      <td>490.9763</td>\n",
       "      <td>242.3947</td>\n",
       "      <td>94111</td>\n",
       "      <td>344.5439</td>\n",
       "      <td>0.8696</td>\n",
       "      <td>0.9907</td>\n",
       "      <td>0.6115</td>\n",
       "      <td>0.7916</td>\n",
       "      <td>2.0255</td>\n",
       "      <td>0.7018</td>\n",
       "      <td>Çerçevelik</td>\n",
       "      <td>0</td>\n",
       "    </tr>\n",
       "    <tr>\n",
       "      <th>2152</th>\n",
       "      <td>84359</td>\n",
       "      <td>1211.758</td>\n",
       "      <td>519.9932</td>\n",
       "      <td>207.1412</td>\n",
       "      <td>85081</td>\n",
       "      <td>327.7335</td>\n",
       "      <td>0.9172</td>\n",
       "      <td>0.9915</td>\n",
       "      <td>0.6489</td>\n",
       "      <td>0.7220</td>\n",
       "      <td>2.5103</td>\n",
       "      <td>0.6303</td>\n",
       "      <td>Ürgüp Sivrisi</td>\n",
       "      <td>1</td>\n",
       "    </tr>\n",
       "    <tr>\n",
       "      <th>1581</th>\n",
       "      <td>83376</td>\n",
       "      <td>1143.656</td>\n",
       "      <td>467.7990</td>\n",
       "      <td>227.3485</td>\n",
       "      <td>84065</td>\n",
       "      <td>325.8184</td>\n",
       "      <td>0.8740</td>\n",
       "      <td>0.9918</td>\n",
       "      <td>0.7485</td>\n",
       "      <td>0.8011</td>\n",
       "      <td>2.0576</td>\n",
       "      <td>0.6965</td>\n",
       "      <td>Ürgüp Sivrisi</td>\n",
       "      <td>1</td>\n",
       "    </tr>\n",
       "    <tr>\n",
       "      <th>2393</th>\n",
       "      <td>94070</td>\n",
       "      <td>1280.766</td>\n",
       "      <td>548.4586</td>\n",
       "      <td>218.8330</td>\n",
       "      <td>94801</td>\n",
       "      <td>346.0833</td>\n",
       "      <td>0.9170</td>\n",
       "      <td>0.9923</td>\n",
       "      <td>0.7266</td>\n",
       "      <td>0.7206</td>\n",
       "      <td>2.5063</td>\n",
       "      <td>0.6310</td>\n",
       "      <td>Ürgüp Sivrisi</td>\n",
       "      <td>1</td>\n",
       "    </tr>\n",
       "    <tr>\n",
       "      <th>446</th>\n",
       "      <td>76848</td>\n",
       "      <td>1042.813</td>\n",
       "      <td>393.8825</td>\n",
       "      <td>248.8834</td>\n",
       "      <td>77474</td>\n",
       "      <td>312.8033</td>\n",
       "      <td>0.7751</td>\n",
       "      <td>0.9919</td>\n",
       "      <td>0.7518</td>\n",
       "      <td>0.8880</td>\n",
       "      <td>1.5826</td>\n",
       "      <td>0.7942</td>\n",
       "      <td>Çerçevelik</td>\n",
       "      <td>0</td>\n",
       "    </tr>\n",
       "  </tbody>\n",
       "</table>\n",
       "</div>"
      ],
      "text/plain": [
       "       Area  Perimeter  Major_Axis_Length  Minor_Axis_Length  Convex_Area  \\\n",
       "1017  93235   1216.567           490.9763           242.3947        94111   \n",
       "2152  84359   1211.758           519.9932           207.1412        85081   \n",
       "1581  83376   1143.656           467.7990           227.3485        84065   \n",
       "2393  94070   1280.766           548.4586           218.8330        94801   \n",
       "446   76848   1042.813           393.8825           248.8834        77474   \n",
       "\n",
       "      Equiv_Diameter  Eccentricity  Solidity  Extent  Roundness  \\\n",
       "1017        344.5439        0.8696    0.9907  0.6115     0.7916   \n",
       "2152        327.7335        0.9172    0.9915  0.6489     0.7220   \n",
       "1581        325.8184        0.8740    0.9918  0.7485     0.8011   \n",
       "2393        346.0833        0.9170    0.9923  0.7266     0.7206   \n",
       "446         312.8033        0.7751    0.9919  0.7518     0.8880   \n",
       "\n",
       "      Aspect_Ration  Compactness          Class  y  \n",
       "1017         2.0255       0.7018     Çerçevelik  0  \n",
       "2152         2.5103       0.6303  Ürgüp Sivrisi  1  \n",
       "1581         2.0576       0.6965  Ürgüp Sivrisi  1  \n",
       "2393         2.5063       0.6310  Ürgüp Sivrisi  1  \n",
       "446          1.5826       0.7942     Çerçevelik  0  "
      ]
     },
     "execution_count": 5,
     "metadata": {},
     "output_type": "execute_result"
    }
   ],
   "source": [
    "seeds_train.sample(5)"
   ]
  },
  {
   "cell_type": "markdown",
   "id": "80e8a15e",
   "metadata": {},
   "source": [
    "#### 3. Principal components analysis (PCA)\n",
    "\n",
    "One way you may use PCA is as a data preprocessing step for supervised learning tasks. In this problem you will try it as a preprocessing step for the pumpkin seed data and see if this preprocessing step helps your model outperform the models from `Fall Problem Session 7`.\n",
    "\n",
    "##### a. \n",
    "\n",
    "Run the training data through PCA with two components and then plot the resulting principal values. Color each point by its class.\n",
    "\n",
    "<i>Hint: Remember to scale the data before running it through PCA</i>."
   ]
  },
  {
   "cell_type": "markdown",
   "id": "d13d449b",
   "metadata": {},
   "source": [
    "##### Sample Solution"
   ]
  },
  {
   "cell_type": "code",
   "execution_count": 6,
   "id": "11842e46",
   "metadata": {},
   "outputs": [],
   "source": [
    "from sklearn.decomposition import PCA\n",
    "from sklearn.preprocessing import StandardScaler\n",
    "from sklearn.pipeline import Pipeline"
   ]
  },
  {
   "cell_type": "code",
   "execution_count": 7,
   "id": "f6ac1fff",
   "metadata": {},
   "outputs": [],
   "source": [
    "features = seeds_train.columns[:-2]\n",
    "\n",
    "pca = Pipeline([('scale', StandardScaler()),\n",
    "                   ('pca', PCA(2))])\n",
    "\n",
    "fit = pca.fit_transform(seeds_train[features])"
   ]
  },
  {
   "cell_type": "code",
   "execution_count": 8,
   "id": "950afa62",
   "metadata": {},
   "outputs": [
    {
     "data": {
      "image/png": "[encoded data removed]",
      "text/plain": [
       "<Figure size 720x576 with 1 Axes>"
      ]
     },
     "metadata": {},
     "output_type": "display_data"
    }
   ],
   "source": [
    "plt.figure(figsize=(10,8))\n",
    "\n",
    "plt.scatter(fit[seeds_train.y==0, 0], \n",
    "            fit[seeds_train.y==0, 1],\n",
    "            color = 'b',\n",
    "            label=\"$y=0$\")\n",
    "\n",
    "plt.scatter(fit[seeds_train.y==1, 0], \n",
    "            fit[seeds_train.y==1, 1],\n",
    "            color='r',\n",
    "            marker='x',\n",
    "            label=\"$y=1$\")\n",
    "\n",
    "plt.legend(fontsize=14)\n",
    "\n",
    "plt.xlabel(\"First PCA Value\", fontsize=16)\n",
    "plt.ylabel(\"Second PCA Value\", fontsize=16)\n",
    "\n",
    "plt.show()"
   ]
  },
  {
   "cell_type": "markdown",
   "id": "158c4c8b",
   "metadata": {},
   "source": [
    "##### b.\n",
    "\n",
    "How does the PCA with only two componenets appear to separate the data?"
   ]
  },
  {
   "cell_type": "markdown",
   "id": "c91b2c3e",
   "metadata": {},
   "source": [
    "##### Sample Solution"
   ]
  },
  {
   "cell_type": "markdown",
   "id": "24b44794",
   "metadata": {},
   "source": [
    "While not perfect separation the two classes do seem to largely live in separate areas of the plot."
   ]
  },
  {
   "cell_type": "markdown",
   "id": "f2d8fabf",
   "metadata": {},
   "source": [
    "##### c.\n",
    "\n",
    "Run 10-fold cross-validation below to find the optimal value of $k$ for a $k$ nearest neighbors model fit on the first and second PCA values. What is the optimal $k$ and the associated average cross-validation accuracy? How does this compare to the accuracies from `Fall Problem Session 7`?"
   ]
  },
  {
   "cell_type": "markdown",
   "id": "8141fd09",
   "metadata": {},
   "source": [
    "##### Sample Solution"
   ]
  },
  {
   "cell_type": "code",
   "execution_count": 9,
   "id": "e774de9f",
   "metadata": {},
   "outputs": [],
   "source": [
    "from sklearn.neighbors import KNeighborsClassifier\n",
    "from sklearn.model_selection import StratifiedKFold\n",
    "from sklearn.metrics import accuracy_score"
   ]
  },
  {
   "cell_type": "code",
   "execution_count": 10,
   "id": "9c88813c",
   "metadata": {},
   "outputs": [],
   "source": [
    "n_splits=10\n",
    "kfold = StratifiedKFold(n_splits,\n",
    "                           shuffle=True,\n",
    "                           random_state=2013)"
   ]
  },
  {
   "cell_type": "code",
   "execution_count": 11,
   "id": "3f63f08e",
   "metadata": {},
   "outputs": [],
   "source": [
    "ks = range(1, 51)\n",
    "\n",
    "pca_2_accs = np.zeros((n_splits, len(ks)))\n",
    "\n",
    "i = 0\n",
    "for train_index, test_index in kfold.split(seeds_train, seeds_train.y):\n",
    "    seeds_tt = seeds_train.iloc[train_index]\n",
    "    seeds_ho = seeds_train.iloc[test_index]\n",
    "    \n",
    "    j = 0\n",
    "    for k in ks:\n",
    "        pipe = Pipeline([('scale', StandardScaler()),\n",
    "                               ('pca', PCA(2)),\n",
    "                               ('knn', KNeighborsClassifier(k))])\n",
    "        \n",
    "        pipe.fit(seeds_tt[features].values,\n",
    "                   seeds_tt.y.values)\n",
    "        \n",
    "        pred = pipe.predict(seeds_ho[features].values)\n",
    "        \n",
    "        pca_2_accs[i,j] = accuracy_score(seeds_ho.y.values, pred)\n",
    "        \n",
    "        j = j + 1\n",
    "    i = i + 1"
   ]
  },
  {
   "cell_type": "code",
   "execution_count": 12,
   "id": "502715b5",
   "metadata": {},
   "outputs": [
    {
     "data": {
      "image/png": "[encoded data removed]",
      "text/plain": [
       "<Figure size 720x576 with 1 Axes>"
      ]
     },
     "metadata": {},
     "output_type": "display_data"
    }
   ],
   "source": [
    "plt.figure(figsize=(10,8))\n",
    "\n",
    "\n",
    "plt.plot(ks, \n",
    "         np.mean(pca_2_accs, axis=0),\n",
    "         '-o')\n",
    "\n",
    "\n",
    "plt.xticks(fontsize=12)\n",
    "plt.yticks(fontsize=12)\n",
    "plt.xlabel(\"$k$\", fontsize=16)\n",
    "plt.ylabel(\"Avg. CV Accuracy\", fontsize=16)\n",
    "\n",
    "plt.show()"
   ]
  },
  {
   "cell_type": "markdown",
   "id": "d7339841",
   "metadata": {},
   "source": [
    "Looks like the optimal $k$ is $43$ with an average cross-validation accuracy a little above $87\\%$. This seems to perform marginally better than the models I made in `Fall Problem Session 7`."
   ]
  },
  {
   "cell_type": "markdown",
   "id": "2e666c6a",
   "metadata": {},
   "source": [
    "##### d.\n",
    "\n",
    "We discussed examining the explained variance ratio as a way to determine how many components we may want to use in our PCA. We can also think of the explained variance as another hyperparameter we can tune through cross-validation.\n",
    "\n",
    "Fill in the missing code below to find the optimal explained variance ratio and $k$ pairing for this problem. What is the best average cross-validation accuracy? How many components did you end up needing to achieve the highest average cross-validation accuracy?"
   ]
  },
  {
   "cell_type": "markdown",
   "id": "a68400ce",
   "metadata": {},
   "source": [
    "##### Sample Solution"
   ]
  },
  {
   "cell_type": "code",
   "execution_count": 13,
   "id": "09a6b186",
   "metadata": {},
   "outputs": [],
   "source": [
    "ks = range(1, 51)\n",
    "explained_variances = np.arange(.09, 1, .1)\n",
    "\n",
    "pca_accs = np.zeros((n_splits, len(ks), len(explained_variances)))\n",
    "\n",
    "i = 0\n",
    "for train_index, test_index in kfold.split(seeds_train, seeds_train.y):\n",
    "    seeds_tt = seeds_train.iloc[train_index]\n",
    "    seeds_ho = seeds_train.iloc[test_index]\n",
    "    \n",
    "    j = 0\n",
    "    for neighbors in ks:\n",
    "        k = 0\n",
    "        for var in explained_variances:\n",
    "            pipe = Pipeline([('scale', StandardScaler()),\n",
    "                                   ('pca', PCA(var)),\n",
    "                                   ('knn', KNeighborsClassifier(neighbors))])\n",
    "\n",
    "            pipe.fit(seeds_tt[features].values,\n",
    "                       seeds_tt.y.values)\n",
    "\n",
    "            pred = pipe.predict(seeds_ho[features].values)\n",
    "\n",
    "            pca_accs[i,j,k] = accuracy_score(seeds_ho.y.values, pred)\n",
    "            k = k + 1\n",
    "        j = j + 1\n",
    "    i = i + 1"
   ]
  },
  {
   "cell_type": "code",
   "execution_count": 14,
   "id": "d139d565",
   "metadata": {},
   "outputs": [
    {
     "name": "stdout",
     "output_type": "stream",
     "text": [
      "The pair with the highest AVG CV Accuracy was k = 37 and explained variance = 0.89\n",
      "The highest AVG CV Accuracy was 0.8862222222222222\n"
     ]
    }
   ],
   "source": [
    "max_index = np.unravel_index(np.argmax(np.mean(pca_accs, axis=0), axis=None), \n",
    "                                       np.mean(pca_accs, axis=0).shape)\n",
    "\n",
    "\n",
    "print(\"The pair with the highest AVG CV Accuracy was\",\n",
    "         \"k =\", ks[max_index[0]],\n",
    "         \"and explained variance =\", np.round(explained_variances[max_index[1]],2))\n",
    "print(\"The highest AVG CV Accuracy was\", np.max(np.mean(pca_accs, axis=0)))"
   ]
  },
  {
   "cell_type": "code",
   "execution_count": 15,
   "id": "a1e28cb8",
   "metadata": {},
   "outputs": [
    {
     "data": {
      "text/plain": [
       "(2250, 3)"
      ]
     },
     "execution_count": 15,
     "metadata": {},
     "output_type": "execute_result"
    }
   ],
   "source": [
    "pca = Pipeline([('scale', StandardScaler()),\n",
    "                                   ('pca', PCA(.89))])\n",
    "\n",
    "pca.fit_transform(seeds_train[features]).shape"
   ]
  },
  {
   "cell_type": "markdown",
   "id": "c09293b3",
   "metadata": {},
   "source": [
    "#### 4. Trying Bayes based classifiers\n",
    "\n",
    "Build LDA, QDA and naive Bayes' models on these data by filling in the missing code for the cross-validation below. \n",
    "\n",
    "Do these outperform your PCA-$k$NN model from above?"
   ]
  },
  {
   "cell_type": "markdown",
   "id": "a9f2d5bd",
   "metadata": {},
   "source": [
    "##### Sample Solution"
   ]
  },
  {
   "cell_type": "code",
   "execution_count": 16,
   "id": "e60674ef",
   "metadata": {},
   "outputs": [],
   "source": [
    "from sklearn.naive_bayes import GaussianNB\n",
    "from sklearn.discriminant_analysis import LinearDiscriminantAnalysis, QuadraticDiscriminantAnalysis"
   ]
  },
  {
   "cell_type": "code",
   "execution_count": 17,
   "id": "7ba1b8de",
   "metadata": {},
   "outputs": [],
   "source": [
    "bayes_accs = np.zeros((n_splits, 3))\n",
    "\n",
    "\n",
    "i = 0\n",
    "for train_index, test_index in kfold.split(seeds_train, seeds_train.y):\n",
    "    seeds_tt = seeds_train.iloc[train_index]\n",
    "    seeds_ho = seeds_train.iloc[test_index]\n",
    "    \n",
    "    ## Linear Discriminant Analysis\n",
    "    lda = Pipeline([('scale', StandardScaler()),\n",
    "                    ('lda', LinearDiscriminantAnalysis())])\n",
    "    \n",
    "    lda.fit(seeds_tt[features].values,\n",
    "               seeds_tt.y.values)\n",
    "    lda_pred = lda.predict(seeds_ho[features].values)\n",
    "    \n",
    "    bayes_accs[i, 0] = accuracy_score(seeds_ho.y.values,\n",
    "                                         lda_pred)\n",
    "    \n",
    "    ## Quadratic Discriminant Analysis\n",
    "    qda = Pipeline([('scale', StandardScaler()),\n",
    "                    ('qda', QuadraticDiscriminantAnalysis())])\n",
    "    \n",
    "    qda.fit(seeds_tt[features].values,\n",
    "               seeds_tt.y.values)\n",
    "    \n",
    "    qda_pred = qda.predict(seeds_ho[features].values)\n",
    "    \n",
    "    bayes_accs[i, 1] = accuracy_score(seeds_ho.y.values,\n",
    "                                         qda_pred)\n",
    "    \n",
    "    \n",
    "    ## Gaussian Naive Bayes\n",
    "    nb = Pipeline([('scale', StandardScaler()),\n",
    "                    ('NB', GaussianNB())])\n",
    "    \n",
    "    nb.fit(seeds_tt[features].values,\n",
    "              seeds_tt.y.values)\n",
    "    \n",
    "    nb_pred = nb.predict(seeds_ho[features].values)\n",
    "    \n",
    "    bayes_accs[i, 2] = accuracy_score(seeds_ho.y.values,\n",
    "                                         nb_pred)\n",
    "    \n",
    "    i = i + 1"
   ]
  },
  {
   "cell_type": "code",
   "execution_count": 18,
   "id": "1e2755d4",
   "metadata": {},
   "outputs": [
    {
     "data": {
      "text/plain": [
       "array([0.87911111, 0.884     , 0.87155556])"
      ]
     },
     "execution_count": 18,
     "metadata": {},
     "output_type": "execute_result"
    }
   ],
   "source": [
    "np.mean(bayes_accs, axis=0)"
   ]
  },
  {
   "cell_type": "markdown",
   "id": "ffd0e8ad",
   "metadata": {},
   "source": [
    "Comparable to the PCA-$k$nn model."
   ]
  },
  {
   "cell_type": "markdown",
   "id": "059eadc8",
   "metadata": {},
   "source": [
    "#### 5. LDA for supervised dimensionality reduction\n",
    "\n",
    "While we introduced linear discriminant analysis (LDA) as a classification algorithm, it was originally proposed by Fisher as a supervised dimension reduction technique, <a href=\"https://digital.library.adelaide.edu.au/dspace/bitstream/2440/15227/1/138.pdf\">https://digital.library.adelaide.edu.au/dspace/bitstream/2440/15227/1/138.pdf</a>. In particular, the initial goal was to project the features, $X$, corresponding to a binary output, $y$, onto a single dimension which best separates the possible classes. This single dimension has come to been known as <i>Fisher's discriminant</i>.\n",
    "\n",
    "Walk through the code below to perform this supervised dimension reduction technique on these data"
   ]
  },
  {
   "cell_type": "markdown",
   "id": "33b17e3c",
   "metadata": {},
   "source": [
    "##### a.\n",
    "\n",
    "First make a validation set from the training set for demonstration purposes."
   ]
  },
  {
   "cell_type": "markdown",
   "id": "47ed3724",
   "metadata": {},
   "source": [
    "##### Sample Solution"
   ]
  },
  {
   "cell_type": "code",
   "execution_count": 19,
   "id": "dc74fba7",
   "metadata": {},
   "outputs": [],
   "source": [
    "## First we make a validation set for demonstration purposes\n",
    "seed_tt, seeds_val = train_test_split(seeds_train.copy(),\n",
    "                                               shuffle=True,\n",
    "                                               random_state=302,\n",
    "                                               test_size = .2,\n",
    "                                               stratify = seeds_train.y)"
   ]
  },
  {
   "cell_type": "markdown",
   "id": "d912df47",
   "metadata": {},
   "source": [
    "##### b.\n",
    "\n",
    "Now make a pipeline that first scales the data and ends with linear discriminant analysis. Then fit the pipeline."
   ]
  },
  {
   "cell_type": "markdown",
   "id": "e1aa6dc2",
   "metadata": {},
   "source": [
    "##### Sample Solution"
   ]
  },
  {
   "cell_type": "code",
   "execution_count": 20,
   "id": "1d30ae85",
   "metadata": {},
   "outputs": [],
   "source": [
    "pipe = Pipeline([('scale', StandardScaler()),\n",
    "                    ('lda', LinearDiscriminantAnalysis())])"
   ]
  },
  {
   "cell_type": "code",
   "execution_count": 21,
   "id": "6a76d4e3",
   "metadata": {},
   "outputs": [
    {
     "data": {
      "text/plain": [
       "Pipeline(steps=[('scale', StandardScaler()),\n",
       "                ('lda', LinearDiscriminantAnalysis())])"
      ]
     },
     "execution_count": 21,
     "metadata": {},
     "output_type": "execute_result"
    }
   ],
   "source": [
    "pipe.fit(seeds_tt[features], \n",
    "         seeds_tt.y.values)"
   ]
  },
  {
   "cell_type": "markdown",
   "id": "f1034609",
   "metadata": {},
   "source": [
    "##### c. \n",
    "\n",
    "Now calculate the Fisher discriminant by using `transform` with the pipeline you fit in <i>b.</i>"
   ]
  },
  {
   "cell_type": "markdown",
   "id": "d9e0369b",
   "metadata": {},
   "source": [
    "##### Sample Solution"
   ]
  },
  {
   "cell_type": "code",
   "execution_count": 22,
   "id": "b73d186b",
   "metadata": {},
   "outputs": [
    {
     "data": {
      "text/plain": [
       "array([[-0.62023389],\n",
       "       [ 0.54965908],\n",
       "       [ 2.5477464 ],\n",
       "       ...,\n",
       "       [-0.9233007 ],\n",
       "       [-0.04377934],\n",
       "       [-2.66434718]])"
      ]
     },
     "execution_count": 22,
     "metadata": {},
     "output_type": "execute_result"
    }
   ],
   "source": [
    "fish = pipe.transform(seeds_tt[features])\n",
    "fish"
   ]
  },
  {
   "cell_type": "markdown",
   "id": "0f86ffdc",
   "metadata": {},
   "source": [
    "##### d. \n",
    "\n",
    "To visualize how LDA separated the two classes while projecting the 12 dimensional data onto a one dimensional subspace you can plot a histogram of the Fisher discriminant colored by the pumpkin seed class of the observation."
   ]
  },
  {
   "cell_type": "markdown",
   "id": "55d6ec83",
   "metadata": {},
   "source": [
    "##### Sample Solution"
   ]
  },
  {
   "cell_type": "code",
   "execution_count": 23,
   "id": "3bcf457e",
   "metadata": {},
   "outputs": [
    {
     "data": {
      "image/png": "[encoded data removed]",
      "text/plain": [
       "<Figure size 720x432 with 1 Axes>"
      ]
     },
     "metadata": {},
     "output_type": "display_data"
    }
   ],
   "source": [
    "plt.figure(figsize=(10,6))\n",
    "\n",
    "plt.hist(fish[seeds_tt.y==0], \n",
    "         color='blue',\n",
    "         edgecolor=\"black\",\n",
    "         label=\"$y=0$\")\n",
    "\n",
    "plt.hist(fish[seeds_tt.y==1], \n",
    "         color='orange', \n",
    "         hatch='/', \n",
    "         alpha=.6,\n",
    "         edgecolor=\"black\",\n",
    "         label=\"$y=1$\")\n",
    "\n",
    "plt.xlabel(\"Fisher Discriminant\", fontsize=16)\n",
    "plt.ylabel(\"Count\", fontsize=16)\n",
    "plt.legend(fontsize=14)\n",
    "\n",
    "plt.show()"
   ]
  },
  {
   "cell_type": "markdown",
   "id": "20a9eccb",
   "metadata": {},
   "source": [
    "##### e.\n",
    "\n",
    "While there is some separation between the two classes, it is not perfect, this should be expected based on the exploratory data analysis you did in `Fall Problem Session 7`.\n",
    "\n",
    "We could use this discriminant in order to make classifications, for example by setting a simple cutoff value or as input into a different classification algorithm.\n",
    "\n",
    "However, it is important to note that the LDA algorithm maximizes the separation of the two classes among observations of the training set. It is possible that separation would not be as good for data the algorithm was not trained on.\n",
    "\n",
    "In this example we can visually inspect by plotting a histogram of the Fisher discriminant values for the validation set we created. Does the separation seem as pronounced on the validation data?"
   ]
  },
  {
   "cell_type": "markdown",
   "id": "d6b4766d",
   "metadata": {},
   "source": [
    "##### Sample Solution"
   ]
  },
  {
   "cell_type": "code",
   "execution_count": 24,
   "id": "bcb1bfd3",
   "metadata": {},
   "outputs": [],
   "source": [
    "fish_val = pipe.transform(seeds_val[features])"
   ]
  },
  {
   "cell_type": "code",
   "execution_count": 25,
   "id": "a2ee620b",
   "metadata": {},
   "outputs": [
    {
     "data": {
      "image/png": "[encoded data removed]",
      "text/plain": [
       "<Figure size 720x432 with 1 Axes>"
      ]
     },
     "metadata": {},
     "output_type": "display_data"
    }
   ],
   "source": [
    "plt.figure(figsize=(10,6))\n",
    "\n",
    "plt.hist(fish_val[seeds_val.y==0], \n",
    "         color='blue',\n",
    "         edgecolor=\"black\",\n",
    "         label=\"$y=0$\")\n",
    "\n",
    "plt.hist(fish_val[seeds_val.y==1], \n",
    "         color='orange', \n",
    "         hatch='/', \n",
    "         alpha=.6,\n",
    "         edgecolor=\"black\",\n",
    "         label=\"$y=1$\")\n",
    "\n",
    "plt.xlabel(\"Fisher Discriminant\", fontsize=16)\n",
    "plt.ylabel(\"Count\", fontsize=16)\n",
    "plt.legend(fontsize=14)\n",
    "\n",
    "plt.show()"
   ]
  },
  {
   "cell_type": "markdown",
   "id": "fc242bfc",
   "metadata": {},
   "source": [
    "There appears to be a little more overlap, but overall the separation appears similar on the validation set."
   ]
  },
  {
   "cell_type": "markdown",
   "id": "307b990a",
   "metadata": {},
   "source": [
    "--------------------------\n",
    "\n",
    "This notebook was written for the Erd&#337;s Institute C&#337;de Data Science Boot Camp by Matthew Osborne, Ph. D., 2022.\n",
    "\n",
    "Any potential redistributors must seek and receive permission from Matthew Tyler Osborne, Ph.D. prior to redistribution. Redistribution of the material contained in this repository is conditional on acknowledgement of Matthew Tyler Osborne, Ph.D.'s original authorship and sponsorship of the Erdős Institute as subject to the license (see License.md)"
   ]
  },
  {
   "cell_type": "code",
   "execution_count": null,
   "id": "af011233",
   "metadata": {},
   "outputs": [],
   "source": []
  }
 ],
 "metadata": {
  "kernelspec": {
   "display_name": "Python 3 (ipykernel)",
   "language": "python",
   "name": "python3"
  },
  "language_info": {
   "codemirror_mode": {
    "name": "ipython",
    "version": 3
   },
   "file_extension": ".py",
   "mimetype": "text/x-python",
   "name": "python",
   "nbconvert_exporter": "python",
   "pygments_lexer": "ipython3",
   "version": "3.9.12"
  }
 },
 "nbformat": 4,
 "nbformat_minor": 5
}
