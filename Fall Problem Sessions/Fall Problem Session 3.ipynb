{
 "cells": [
  {
   "cell_type": "markdown",
   "id": "e73ab097",
   "metadata": {},
   "source": [
    "# Fall Problem Session 3\n",
    "## More Regression\n",
    "\n",
    "The problems in this notebook will cover the content covered in our `Regression` lectures including:\n",
    "- `Simple Linear Regression`,\n",
    "- `A First Predictive Modeling Project`,\n",
    "- `Multiple Linear Regression` and\n",
    "- `Categorical Variables and Interactions`."
   ]
  },
  {
   "cell_type": "code",
   "execution_count": null,
   "id": "c455cc0b",
   "metadata": {},
   "outputs": [],
   "source": [
    "## We first load in packages we will need\n",
    "import pandas as pd\n",
    "import numpy as np\n",
    "import matplotlib.pyplot as plt\n",
    "import seaborn as sns\n",
    "sns.set_style(\"whitegrid\")"
   ]
  },
  {
   "cell_type": "markdown",
   "id": "ff585fa7",
   "metadata": {},
   "source": [
    "#### 1. Preparing the data\n",
    "\n",
    "In this notebook you will continue to model the selling price of various vechicles. First we have to load the data and repeat some of the cleaning we did in `Fall Problem Session 2`.\n",
    "\n",
    "##### a.\n",
    "\n",
    "- Load the `car_sales.csv` data set again\n",
    "- Remove the missing values\n",
    "- Create the `log_sell` and `log_km` columns\n",
    "- Clean the `mileage`, `engine` and `max_power` columns with `clean_column` and\n",
    "- Create the `age` column."
   ]
  },
  {
   "cell_type": "code",
   "execution_count": null,
   "id": "279b0e98",
   "metadata": {},
   "outputs": [],
   "source": [
    "def clean_column(text):\n",
    "    return float(text.split()[0])"
   ]
  },
  {
   "cell_type": "code",
   "execution_count": null,
   "id": "fb49696b",
   "metadata": {},
   "outputs": [],
   "source": []
  },
  {
   "cell_type": "code",
   "execution_count": null,
   "id": "2fa490ef",
   "metadata": {},
   "outputs": [],
   "source": []
  },
  {
   "cell_type": "markdown",
   "id": "be65df52",
   "metadata": {},
   "source": [
    "##### b.\n",
    "\n",
    "Make the train test split using `sklearn`'s `train_test_split`."
   ]
  },
  {
   "cell_type": "code",
   "execution_count": null,
   "id": "298bcd92",
   "metadata": {},
   "outputs": [],
   "source": [
    "from sklearn.model_selection import train_test_split"
   ]
  },
  {
   "cell_type": "code",
   "execution_count": null,
   "id": "44232cee",
   "metadata": {},
   "outputs": [],
   "source": []
  },
  {
   "cell_type": "markdown",
   "id": "6e142f89",
   "metadata": {},
   "source": [
    "##### c.\n",
    "\n",
    "Look at the first five rows of the training set to refresh yourself on the columns in the data set."
   ]
  },
  {
   "cell_type": "code",
   "execution_count": null,
   "id": "29eb9ddc",
   "metadata": {},
   "outputs": [],
   "source": []
  },
  {
   "cell_type": "markdown",
   "id": "f53212f5",
   "metadata": {},
   "source": [
    "##### d.\n",
    "\n",
    "Here is a variable summary for your convenience.\n",
    "\n",
    "<u>Outcome Variable</u>\n",
    "- `selling_price` or `log_sell` (you will use `log_sell` in your models)\n",
    "\n",
    "<u>Continuous Features</u>\n",
    "- `km_driven` and thus `log_km`\n",
    "- `mileage`\n",
    "- `engine`\n",
    "- `max_power`\n",
    "- `seats`\n",
    "- `age`\n",
    "\n",
    "<u>Categorical Features</u>\n",
    "- `fuel`\n",
    "- `seller_type`\n",
    "- `transmission`\n",
    "- `owner`\n",
    "\n",
    "You will ignore `torque` because it would require more cleaning than we will spend time on in these problem sessions."
   ]
  },
  {
   "cell_type": "markdown",
   "id": "1d47521a",
   "metadata": {},
   "source": [
    "#### 2. More EDA\n",
    "\n",
    "In `Fall Problem Session 2` you examined potential linear relationships with `log_sell` and:\n",
    "- `log_km`,\n",
    "- `mileage` and\n",
    "- `age`.\n",
    "\n",
    "In this notebook you will examine potential effects of the various categorical variables listed above."
   ]
  },
  {
   "cell_type": "markdown",
   "id": "f1a3d811",
   "metadata": {},
   "source": [
    "##### a. \n",
    "\n",
    "One way to examine if a cateorical variable has an impact on an outcome variable of interest is to compare the mean or median of the outcome variable among the different categories.\n",
    "\n",
    "Use `pandas` `groupby`, <a href=\"https://pandas.pydata.org/docs/reference/api/pandas.DataFrame.groupby.html\">https://pandas.pydata.org/docs/reference/api/pandas.DataFrame.groupby.html</a>, to examine the mean or median of `log_sell` by the four categorical features listed above."
   ]
  },
  {
   "cell_type": "code",
   "execution_count": null,
   "id": "035e1002",
   "metadata": {},
   "outputs": [],
   "source": [
    "## For 'fuel' here\n",
    "\n",
    "\n"
   ]
  },
  {
   "cell_type": "code",
   "execution_count": null,
   "id": "f5e9820c",
   "metadata": {},
   "outputs": [],
   "source": [
    "## For 'seller_type' here\n",
    "\n"
   ]
  },
  {
   "cell_type": "code",
   "execution_count": null,
   "id": "66ed7143",
   "metadata": {},
   "outputs": [],
   "source": [
    "## For 'transmission' here\n",
    "\n"
   ]
  },
  {
   "cell_type": "code",
   "execution_count": null,
   "id": "f2933abf",
   "metadata": {},
   "outputs": [],
   "source": [
    "## For 'owner' here\n",
    "\n"
   ]
  },
  {
   "cell_type": "markdown",
   "id": "ef6702cd",
   "metadata": {},
   "source": [
    "##### b.\n",
    "\n",
    "Another way to investigate the potential impact of categorical variables is to make plots examining the distribution of the outcome variable for each different category. Two common plots that are considered are box and whisker plots and violin plots. These can be made quickly using `seaborn`'s `boxplot`, <a href=\"https://seaborn.pydata.org/generated/seaborn.boxplot.html\">https://seaborn.pydata.org/generated/seaborn.boxplot.html/</a>, and `violinplot`, <a href=\"https://seaborn.pydata.org/generated/seaborn.violinplot.html\">https://seaborn.pydata.org/generated/seaborn.violinplot.html</a> functions.\n",
    "\n",
    "Below you will see an example of both plotting the training distribution of `log_sell` against `fuel`. After that make either a box plot or a violin plot for the remaining three categorical variables."
   ]
  },
  {
   "cell_type": "code",
   "execution_count": null,
   "id": "c1fdc1ab",
   "metadata": {},
   "outputs": [],
   "source": [
    "## Boxplot for fuel\n",
    "plt.figure(figsize=(8,6))\n",
    "\n",
    "sns.boxplot(data = cars_train,\n",
    "               y = 'log_sell',\n",
    "               x = 'fuel')\n",
    "\n",
    "plt.yticks(fontsize=14)\n",
    "plt.xticks(fontsize=14)\n",
    "\n",
    "plt.ylabel(\"log_sell\", fontsize=16)\n",
    "plt.xlabel(\"fuel\", fontsize=16)\n",
    "\n",
    "plt.show()"
   ]
  },
  {
   "cell_type": "code",
   "execution_count": null,
   "id": "6c82597e",
   "metadata": {},
   "outputs": [],
   "source": [
    "## violinplot for fuel\n",
    "plt.figure(figsize=(8,6))\n",
    "\n",
    "sns.violinplot(data = cars_train,\n",
    "               y = 'log_sell',\n",
    "               x = 'fuel')\n",
    "\n",
    "plt.yticks(fontsize=14)\n",
    "plt.xticks(fontsize=14)\n",
    "\n",
    "plt.ylabel(\"log_sell\", fontsize=16)\n",
    "plt.xlabel(\"fuel\", fontsize=16)\n",
    "\n",
    "plt.show()"
   ]
  },
  {
   "cell_type": "code",
   "execution_count": null,
   "id": "2088886b",
   "metadata": {},
   "outputs": [],
   "source": [
    "## For 'seller_type'\n",
    "\n",
    "\n",
    "\n"
   ]
  },
  {
   "cell_type": "code",
   "execution_count": null,
   "id": "1d87fe01",
   "metadata": {},
   "outputs": [],
   "source": [
    "## For 'transmission'\n",
    "\n",
    "\n",
    "\n"
   ]
  },
  {
   "cell_type": "code",
   "execution_count": null,
   "id": "579de314",
   "metadata": {},
   "outputs": [],
   "source": [
    "## For 'owner'\n",
    "\n",
    "\n",
    "\n"
   ]
  },
  {
   "cell_type": "markdown",
   "id": "39c042de",
   "metadata": {},
   "source": [
    "##### c.\n",
    "\n",
    "Write down any thoughts you have about potentially important categorical variables from your investigations in <i>a.</i> and <i>b.</i> here."
   ]
  },
  {
   "cell_type": "markdown",
   "id": "7d0e8a06",
   "metadata": {},
   "source": [
    "##### Write here\n",
    "\n",
    "\n",
    "\n"
   ]
  },
  {
   "cell_type": "markdown",
   "id": "e5f766f2",
   "metadata": {},
   "source": [
    "##### d.\n",
    "\n",
    "From your investigations above you likely noticed that there does seem to be a difference in selling price between vehicles sold by an individual and those sold by some kind of dealer, but the kind of dealer does not seem to matter.\n",
    "\n",
    "Create a new column in the data set called `dealer` that is `1` if the `seller_type` is a kind of dealership and `0` otherwise."
   ]
  },
  {
   "cell_type": "code",
   "execution_count": null,
   "id": "34327717",
   "metadata": {},
   "outputs": [],
   "source": []
  },
  {
   "cell_type": "code",
   "execution_count": null,
   "id": "140bc93d",
   "metadata": {},
   "outputs": [],
   "source": []
  },
  {
   "cell_type": "markdown",
   "id": "e3b8d593",
   "metadata": {},
   "source": [
    "##### e.\n",
    "\n",
    "It appears that different `owner` categories lead to different selling prices. However, it is difficult to tell if this variable is capturing a new signal, or is just reflecting a possible relationship between selling price and the age of the vehicle.\n",
    "\n",
    "To see what is meant by this statement make a box and whisker plot with `age` on the vertical axis and `owner` on the horizontal. Then make a column called `owner_number` that is `1` when `owner` is `\"First Owner\"`, is `2` when `owner` is `\"Second Owner\"` and so on. Calculate the Pearson correlation between `age` and `owner_number`."
   ]
  },
  {
   "cell_type": "code",
   "execution_count": null,
   "id": "497dd88a",
   "metadata": {},
   "outputs": [],
   "source": [
    "## Make the boxplot here\n",
    "\n",
    "\n",
    "\n"
   ]
  },
  {
   "cell_type": "code",
   "execution_count": null,
   "id": "e832c25c",
   "metadata": {},
   "outputs": [],
   "source": [
    "## make the owner_number column here\n",
    "\n",
    "\n"
   ]
  },
  {
   "cell_type": "code",
   "execution_count": null,
   "id": "17f3d569",
   "metadata": {},
   "outputs": [],
   "source": [
    "## get the correlation here\n",
    "\n"
   ]
  },
  {
   "cell_type": "markdown",
   "id": "2aada0b6",
   "metadata": {},
   "source": [
    "The takeaway here is that there is a fair amount of correlation between the age of a vehicle and the number of owners the vehicle has had. From the previous notebook we already know that `log_sell` and `age` have a pretty strong correlation, so it makes sense that `owner` and `log_sell` would also be correlated.\n",
    "\n",
    "\n",
    "From a predictive modeling sense this means that including `owner` as a categorical feature in a model that also includes `age` may not lead to as huge an improvement to the model as we originally thought."
   ]
  },
  {
   "cell_type": "markdown",
   "id": "a19494bd",
   "metadata": {},
   "source": [
    "#### 3. Selecting categorical variables to consider\n",
    "\n",
    "##### a. \n",
    "\n",
    "Using your work in 2. choose some combination of the four categorical variables to add to this model:\n",
    "\n",
    "$$\n",
    "\\log \\left( \\text{Selling Price} \\right) = \\beta_0 + \\beta_1 \\text{Age} + \\epsilon\n",
    "$$"
   ]
  },
  {
   "cell_type": "markdown",
   "id": "64352b48",
   "metadata": {},
   "source": [
    "##### Write your response here\n"
   ]
  },
  {
   "cell_type": "markdown",
   "id": "739ba79d",
   "metadata": {},
   "source": [
    "##### b.\n",
    "\n",
    "Make any dummy variables you need given the categories you chose in 3 <i>a.</i>\n",
    "\n",
    "<a href=\"https://pandas.pydata.org/docs/reference/api/pandas.get_dummies.html\">https://pandas.pydata.org/docs/reference/api/pandas.get_dummies.html</a>."
   ]
  },
  {
   "cell_type": "code",
   "execution_count": null,
   "id": "ace490ba",
   "metadata": {},
   "outputs": [],
   "source": []
  },
  {
   "cell_type": "code",
   "execution_count": null,
   "id": "b5dfc3b4",
   "metadata": {},
   "outputs": [],
   "source": []
  },
  {
   "cell_type": "code",
   "execution_count": null,
   "id": "3d4d750d",
   "metadata": {},
   "outputs": [],
   "source": []
  },
  {
   "cell_type": "markdown",
   "id": "4635a669",
   "metadata": {},
   "source": [
    "#### 4. Comparing models\n",
    "\n",
    "##### a.\n",
    "\n",
    "Write out the model(s) you will compare to:\n",
    "\n",
    "$$\n",
    "\\log \\left( \\text{Selling Price} \\right) = \\beta_0 + \\beta_1 \\text{Age} + \\epsilon\n",
    "$$\n",
    "\n",
    "using cross-validation below."
   ]
  },
  {
   "cell_type": "markdown",
   "id": "bef8e8c6",
   "metadata": {},
   "source": [
    "##### Write your response here"
   ]
  },
  {
   "cell_type": "markdown",
   "id": "66dcfe93",
   "metadata": {},
   "source": [
    "##### b.\n",
    "\n",
    "Fill in the missing code below to perform cross-validation to compare all of the models from 4. <i>a.</i>."
   ]
  },
  {
   "cell_type": "code",
   "execution_count": null,
   "id": "7b0e4b38",
   "metadata": {},
   "outputs": [],
   "source": [
    "## import KFold\n",
    "from sklearn.model_selection import \n",
    "\n",
    "## import LinearRegression\n",
    "from sklearn.linear_model import\n",
    "\n",
    "## import mean_squared_error\n",
    "from sklearn.metrics import "
   ]
  },
  {
   "cell_type": "code",
   "execution_count": null,
   "id": "a42f741e",
   "metadata": {},
   "outputs": [],
   "source": []
  },
  {
   "cell_type": "code",
   "execution_count": null,
   "id": "70ea1203",
   "metadata": {},
   "outputs": [],
   "source": [
    "## Make a KFold object\n",
    "## remember to set a random_state and set shuffle = True\n",
    "kfold = \n",
    "\n",
    "\n",
    "\n",
    "## This array will hold the mse for each model and split\n",
    "mses = \n",
    "\n",
    "## sets a split counter\n",
    "i = 0\n",
    "\n",
    "## loop through the kfold here\n",
    "for train_index, test_index in kfold.split(cars_train):\n",
    "    ## cv training set\n",
    "    cars_tt = cars_train.iloc[train_index]\n",
    "    \n",
    "    ## cv holdout set\n",
    "    cars_ho = cars_train.iloc[test_index]\n",
    "    \n",
    "    ## Make your models and record the mses here\n",
    "    \n",
    "    "
   ]
  },
  {
   "cell_type": "code",
   "execution_count": null,
   "id": "3965b794",
   "metadata": {},
   "outputs": [],
   "source": [
    "## find the avg cv mses here\n"
   ]
  },
  {
   "cell_type": "markdown",
   "id": "3fc9fccd",
   "metadata": {},
   "source": [
    "##### c. \n",
    "\n",
    "Recall that we ultimately care about predicting the final selling price, not the logarithm of the final selling price. Copy and paste your cross-validation code and alter it slightly so that you compare the prediction of:\n",
    "\n",
    "$$\n",
    "10^{\\log (\\text{Selling Price})}\n",
    "$$\n",
    "\n",
    "to the actual selling price. Look at the root mean squared error which is in the original units of `selling_price`."
   ]
  },
  {
   "cell_type": "code",
   "execution_count": null,
   "id": "b3d23804",
   "metadata": {},
   "outputs": [],
   "source": []
  },
  {
   "cell_type": "code",
   "execution_count": null,
   "id": "8d540073",
   "metadata": {},
   "outputs": [],
   "source": []
  },
  {
   "cell_type": "code",
   "execution_count": null,
   "id": "b2f9995a",
   "metadata": {},
   "outputs": [],
   "source": [
    "## Find the avg cv rmses here\n",
    "\n"
   ]
  },
  {
   "cell_type": "markdown",
   "id": "171cd899",
   "metadata": {},
   "source": [
    "##### d.\n",
    "\n",
    "If you have time you can use this space to try additional models."
   ]
  },
  {
   "cell_type": "code",
   "execution_count": null,
   "id": "292affa9",
   "metadata": {},
   "outputs": [],
   "source": []
  },
  {
   "cell_type": "code",
   "execution_count": null,
   "id": "8ef16462",
   "metadata": {},
   "outputs": [],
   "source": []
  },
  {
   "cell_type": "code",
   "execution_count": null,
   "id": "4a261edb",
   "metadata": {},
   "outputs": [],
   "source": []
  },
  {
   "cell_type": "code",
   "execution_count": null,
   "id": "62cd66a1",
   "metadata": {},
   "outputs": [],
   "source": []
  },
  {
   "cell_type": "markdown",
   "id": "81205ab9",
   "metadata": {},
   "source": [
    "--------------------------\n",
    "\n",
    "This notebook was written for the Erd&#337;s Institute C&#337;de Data Science Boot Camp by Matthew Osborne, Ph. D., 2022.\n",
    "\n",
    "Any potential redistributors must seek and receive permission from Matthew Tyler Osborne, Ph.D. prior to redistribution. Redistribution of the material contained in this repository is conditional on acknowledgement of Matthew Tyler Osborne, Ph.D.'s original authorship and sponsorship of the Erdős Institute as subject to the license (see License.md)"
   ]
  },
  {
   "cell_type": "code",
   "execution_count": null,
   "id": "fd6606b3",
   "metadata": {},
   "outputs": [],
   "source": []
  }
 ],
 "metadata": {
  "kernelspec": {
   "display_name": "Python 3 (ipykernel)",
   "language": "python",
   "name": "python3"
  },
  "language_info": {
   "codemirror_mode": {
    "name": "ipython",
    "version": 3
   },
   "file_extension": ".py",
   "mimetype": "text/x-python",
   "name": "python",
   "nbconvert_exporter": "python",
   "pygments_lexer": "ipython3",
   "version": "3.9.9"
  }
 },
 "nbformat": 4,
 "nbformat_minor": 5
}
