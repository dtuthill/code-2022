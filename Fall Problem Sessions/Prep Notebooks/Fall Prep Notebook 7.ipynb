{
 "cells": [
  {
   "cell_type": "markdown",
   "id": "52b76ab4",
   "metadata": {},
   "source": [
    "# Fall Prep Notebook 7\n",
    "## Classifying Pumpkin Seeds I\n",
    "\n",
    "This notebook has a few exercises that can serve as a primer for what to expect in the `Fall Problem Session 7` notebook. These exercises will touch upon the basic python, `pandas`, `numpy`, `matplotlib` and some supervised learning basic techniques that you may want a refresher on prior to starting `Fall Problem Session 7`."
   ]
  },
  {
   "cell_type": "code",
   "execution_count": 2,
   "id": "4d1ae081",
   "metadata": {},
   "outputs": [],
   "source": [
    "import pandas as pd\n",
    "import numpy as np\n",
    "import matplotlib.pyplot as plt\n",
    "import seaborn as sns\n",
    "\n",
    "sns.set_style(\"whitegrid\")"
   ]
  },
  {
   "cell_type": "markdown",
   "id": "cb9b528b",
   "metadata": {},
   "source": [
    "#### 1. Reading Excel files\n",
    "\n",
    "##### a.\n",
    "\n",
    "In the `Data` folder is a file called `Pistachio_16_Features_Dataset.xlsx`. Do a web search to see how you can read in such a file using `pandas`. Store the `DataFrame` in a variable."
   ]
  },
  {
   "cell_type": "code",
   "execution_count": 3,
   "id": "508d0f85",
   "metadata": {},
   "outputs": [],
   "source": [
    "df = pd.read_excel('../../Data/Pistachio_16_Features_Dataset.xlsx')"
   ]
  },
  {
   "cell_type": "code",
   "execution_count": null,
   "id": "e359c072",
   "metadata": {},
   "outputs": [],
   "source": []
  },
  {
   "cell_type": "markdown",
   "id": "f0e03eec",
   "metadata": {},
   "source": [
    "##### b.\n",
    "\n",
    "Look at a random sample of size $10$ from this data set."
   ]
  },
  {
   "cell_type": "code",
   "execution_count": 8,
   "id": "0db3b224",
   "metadata": {},
   "outputs": [
    {
     "data": {
      "text/html": [
       "<div>\n",
       "<style scoped>\n",
       "    .dataframe tbody tr th:only-of-type {\n",
       "        vertical-align: middle;\n",
       "    }\n",
       "\n",
       "    .dataframe tbody tr th {\n",
       "        vertical-align: top;\n",
       "    }\n",
       "\n",
       "    .dataframe thead th {\n",
       "        text-align: right;\n",
       "    }\n",
       "</style>\n",
       "<table border=\"1\" class=\"dataframe\">\n",
       "  <thead>\n",
       "    <tr style=\"text-align: right;\">\n",
       "      <th></th>\n",
       "      <th>AREA</th>\n",
       "      <th>PERIMETER</th>\n",
       "      <th>MAJOR_AXIS</th>\n",
       "      <th>MINOR_AXIS</th>\n",
       "      <th>ECCENTRICITY</th>\n",
       "      <th>EQDIASQ</th>\n",
       "      <th>SOLIDITY</th>\n",
       "      <th>CONVEX_AREA</th>\n",
       "      <th>EXTENT</th>\n",
       "      <th>ASPECT_RATIO</th>\n",
       "      <th>ROUNDNESS</th>\n",
       "      <th>COMPACTNESS</th>\n",
       "      <th>SHAPEFACTOR_1</th>\n",
       "      <th>SHAPEFACTOR_2</th>\n",
       "      <th>SHAPEFACTOR_3</th>\n",
       "      <th>SHAPEFACTOR_4</th>\n",
       "      <th>Class</th>\n",
       "    </tr>\n",
       "  </thead>\n",
       "  <tbody>\n",
       "    <tr>\n",
       "      <th>1321</th>\n",
       "      <td>72466</td>\n",
       "      <td>1142.8960</td>\n",
       "      <td>411.3409</td>\n",
       "      <td>227.9080</td>\n",
       "      <td>0.8325</td>\n",
       "      <td>303.7542</td>\n",
       "      <td>0.9596</td>\n",
       "      <td>75520</td>\n",
       "      <td>0.7244</td>\n",
       "      <td>1.8049</td>\n",
       "      <td>0.6972</td>\n",
       "      <td>0.7384</td>\n",
       "      <td>0.0057</td>\n",
       "      <td>0.0031</td>\n",
       "      <td>0.5453</td>\n",
       "      <td>0.9842</td>\n",
       "      <td>Siit_Pistachio</td>\n",
       "    </tr>\n",
       "    <tr>\n",
       "      <th>1740</th>\n",
       "      <td>89507</td>\n",
       "      <td>1203.9760</td>\n",
       "      <td>469.0334</td>\n",
       "      <td>244.4654</td>\n",
       "      <td>0.8534</td>\n",
       "      <td>337.5853</td>\n",
       "      <td>0.9787</td>\n",
       "      <td>91454</td>\n",
       "      <td>0.7582</td>\n",
       "      <td>1.9186</td>\n",
       "      <td>0.7759</td>\n",
       "      <td>0.7197</td>\n",
       "      <td>0.0052</td>\n",
       "      <td>0.0027</td>\n",
       "      <td>0.5180</td>\n",
       "      <td>0.9939</td>\n",
       "      <td>Siit_Pistachio</td>\n",
       "    </tr>\n",
       "    <tr>\n",
       "      <th>991</th>\n",
       "      <td>72151</td>\n",
       "      <td>2175.1001</td>\n",
       "      <td>457.6626</td>\n",
       "      <td>218.5395</td>\n",
       "      <td>0.8786</td>\n",
       "      <td>303.0932</td>\n",
       "      <td>0.8917</td>\n",
       "      <td>80914</td>\n",
       "      <td>0.7112</td>\n",
       "      <td>2.0942</td>\n",
       "      <td>0.1916</td>\n",
       "      <td>0.6623</td>\n",
       "      <td>0.0063</td>\n",
       "      <td>0.0030</td>\n",
       "      <td>0.4386</td>\n",
       "      <td>0.9185</td>\n",
       "      <td>Kirmizi_Pistachio</td>\n",
       "    </tr>\n",
       "    <tr>\n",
       "      <th>2107</th>\n",
       "      <td>101320</td>\n",
       "      <td>1274.6240</td>\n",
       "      <td>475.5370</td>\n",
       "      <td>271.9464</td>\n",
       "      <td>0.8203</td>\n",
       "      <td>359.1721</td>\n",
       "      <td>0.9874</td>\n",
       "      <td>102611</td>\n",
       "      <td>0.7618</td>\n",
       "      <td>1.7486</td>\n",
       "      <td>0.7837</td>\n",
       "      <td>0.7553</td>\n",
       "      <td>0.0047</td>\n",
       "      <td>0.0027</td>\n",
       "      <td>0.5705</td>\n",
       "      <td>0.9976</td>\n",
       "      <td>Siit_Pistachio</td>\n",
       "    </tr>\n",
       "    <tr>\n",
       "      <th>603</th>\n",
       "      <td>72772</td>\n",
       "      <td>1304.8199</td>\n",
       "      <td>485.6216</td>\n",
       "      <td>197.2223</td>\n",
       "      <td>0.9138</td>\n",
       "      <td>304.3948</td>\n",
       "      <td>0.9253</td>\n",
       "      <td>78643</td>\n",
       "      <td>0.7250</td>\n",
       "      <td>2.4623</td>\n",
       "      <td>0.5371</td>\n",
       "      <td>0.6268</td>\n",
       "      <td>0.0067</td>\n",
       "      <td>0.0027</td>\n",
       "      <td>0.3929</td>\n",
       "      <td>0.9674</td>\n",
       "      <td>Kirmizi_Pistachio</td>\n",
       "    </tr>\n",
       "    <tr>\n",
       "      <th>2005</th>\n",
       "      <td>98270</td>\n",
       "      <td>1244.2590</td>\n",
       "      <td>464.5867</td>\n",
       "      <td>274.7918</td>\n",
       "      <td>0.8063</td>\n",
       "      <td>353.7248</td>\n",
       "      <td>0.9638</td>\n",
       "      <td>101957</td>\n",
       "      <td>0.7344</td>\n",
       "      <td>1.6907</td>\n",
       "      <td>0.7976</td>\n",
       "      <td>0.7614</td>\n",
       "      <td>0.0047</td>\n",
       "      <td>0.0028</td>\n",
       "      <td>0.5797</td>\n",
       "      <td>0.9801</td>\n",
       "      <td>Siit_Pistachio</td>\n",
       "    </tr>\n",
       "    <tr>\n",
       "      <th>100</th>\n",
       "      <td>71716</td>\n",
       "      <td>1090.1890</td>\n",
       "      <td>418.2818</td>\n",
       "      <td>219.9957</td>\n",
       "      <td>0.8505</td>\n",
       "      <td>302.1782</td>\n",
       "      <td>0.9779</td>\n",
       "      <td>73338</td>\n",
       "      <td>0.7484</td>\n",
       "      <td>1.9013</td>\n",
       "      <td>0.7583</td>\n",
       "      <td>0.7224</td>\n",
       "      <td>0.0058</td>\n",
       "      <td>0.0031</td>\n",
       "      <td>0.5219</td>\n",
       "      <td>0.9923</td>\n",
       "      <td>Kirmizi_Pistachio</td>\n",
       "    </tr>\n",
       "    <tr>\n",
       "      <th>1539</th>\n",
       "      <td>73212</td>\n",
       "      <td>1276.6710</td>\n",
       "      <td>410.6384</td>\n",
       "      <td>250.3580</td>\n",
       "      <td>0.7926</td>\n",
       "      <td>305.3136</td>\n",
       "      <td>0.8961</td>\n",
       "      <td>81705</td>\n",
       "      <td>0.6990</td>\n",
       "      <td>1.6402</td>\n",
       "      <td>0.5645</td>\n",
       "      <td>0.7435</td>\n",
       "      <td>0.0056</td>\n",
       "      <td>0.0034</td>\n",
       "      <td>0.5528</td>\n",
       "      <td>0.9067</td>\n",
       "      <td>Siit_Pistachio</td>\n",
       "    </tr>\n",
       "    <tr>\n",
       "      <th>1413</th>\n",
       "      <td>90674</td>\n",
       "      <td>1205.5510</td>\n",
       "      <td>463.2462</td>\n",
       "      <td>250.5961</td>\n",
       "      <td>0.8411</td>\n",
       "      <td>339.7789</td>\n",
       "      <td>0.9816</td>\n",
       "      <td>92375</td>\n",
       "      <td>0.7658</td>\n",
       "      <td>1.8486</td>\n",
       "      <td>0.7840</td>\n",
       "      <td>0.7335</td>\n",
       "      <td>0.0051</td>\n",
       "      <td>0.0028</td>\n",
       "      <td>0.5380</td>\n",
       "      <td>0.9945</td>\n",
       "      <td>Siit_Pistachio</td>\n",
       "    </tr>\n",
       "    <tr>\n",
       "      <th>53</th>\n",
       "      <td>69088</td>\n",
       "      <td>1402.4320</td>\n",
       "      <td>460.5004</td>\n",
       "      <td>202.9455</td>\n",
       "      <td>0.8977</td>\n",
       "      <td>296.5899</td>\n",
       "      <td>0.9128</td>\n",
       "      <td>75684</td>\n",
       "      <td>0.6446</td>\n",
       "      <td>2.2691</td>\n",
       "      <td>0.4414</td>\n",
       "      <td>0.6441</td>\n",
       "      <td>0.0067</td>\n",
       "      <td>0.0029</td>\n",
       "      <td>0.4148</td>\n",
       "      <td>0.9412</td>\n",
       "      <td>Kirmizi_Pistachio</td>\n",
       "    </tr>\n",
       "  </tbody>\n",
       "</table>\n",
       "</div>"
      ],
      "text/plain": [
       "        AREA  PERIMETER  MAJOR_AXIS  MINOR_AXIS  ECCENTRICITY   EQDIASQ  \\\n",
       "1321   72466  1142.8960    411.3409    227.9080        0.8325  303.7542   \n",
       "1740   89507  1203.9760    469.0334    244.4654        0.8534  337.5853   \n",
       "991    72151  2175.1001    457.6626    218.5395        0.8786  303.0932   \n",
       "2107  101320  1274.6240    475.5370    271.9464        0.8203  359.1721   \n",
       "603    72772  1304.8199    485.6216    197.2223        0.9138  304.3948   \n",
       "2005   98270  1244.2590    464.5867    274.7918        0.8063  353.7248   \n",
       "100    71716  1090.1890    418.2818    219.9957        0.8505  302.1782   \n",
       "1539   73212  1276.6710    410.6384    250.3580        0.7926  305.3136   \n",
       "1413   90674  1205.5510    463.2462    250.5961        0.8411  339.7789   \n",
       "53     69088  1402.4320    460.5004    202.9455        0.8977  296.5899   \n",
       "\n",
       "      SOLIDITY  CONVEX_AREA  EXTENT  ASPECT_RATIO  ROUNDNESS  COMPACTNESS  \\\n",
       "1321    0.9596        75520  0.7244        1.8049     0.6972       0.7384   \n",
       "1740    0.9787        91454  0.7582        1.9186     0.7759       0.7197   \n",
       "991     0.8917        80914  0.7112        2.0942     0.1916       0.6623   \n",
       "2107    0.9874       102611  0.7618        1.7486     0.7837       0.7553   \n",
       "603     0.9253        78643  0.7250        2.4623     0.5371       0.6268   \n",
       "2005    0.9638       101957  0.7344        1.6907     0.7976       0.7614   \n",
       "100     0.9779        73338  0.7484        1.9013     0.7583       0.7224   \n",
       "1539    0.8961        81705  0.6990        1.6402     0.5645       0.7435   \n",
       "1413    0.9816        92375  0.7658        1.8486     0.7840       0.7335   \n",
       "53      0.9128        75684  0.6446        2.2691     0.4414       0.6441   \n",
       "\n",
       "      SHAPEFACTOR_1  SHAPEFACTOR_2  SHAPEFACTOR_3  SHAPEFACTOR_4  \\\n",
       "1321         0.0057         0.0031         0.5453         0.9842   \n",
       "1740         0.0052         0.0027         0.5180         0.9939   \n",
       "991          0.0063         0.0030         0.4386         0.9185   \n",
       "2107         0.0047         0.0027         0.5705         0.9976   \n",
       "603          0.0067         0.0027         0.3929         0.9674   \n",
       "2005         0.0047         0.0028         0.5797         0.9801   \n",
       "100          0.0058         0.0031         0.5219         0.9923   \n",
       "1539         0.0056         0.0034         0.5528         0.9067   \n",
       "1413         0.0051         0.0028         0.5380         0.9945   \n",
       "53           0.0067         0.0029         0.4148         0.9412   \n",
       "\n",
       "                  Class  \n",
       "1321     Siit_Pistachio  \n",
       "1740     Siit_Pistachio  \n",
       "991   Kirmizi_Pistachio  \n",
       "2107     Siit_Pistachio  \n",
       "603   Kirmizi_Pistachio  \n",
       "2005     Siit_Pistachio  \n",
       "100   Kirmizi_Pistachio  \n",
       "1539     Siit_Pistachio  \n",
       "1413     Siit_Pistachio  \n",
       "53    Kirmizi_Pistachio  "
      ]
     },
     "execution_count": 8,
     "metadata": {},
     "output_type": "execute_result"
    }
   ],
   "source": [
    "df.sample(10)"
   ]
  },
  {
   "cell_type": "code",
   "execution_count": null,
   "id": "3ffab473",
   "metadata": {},
   "outputs": [],
   "source": []
  },
  {
   "cell_type": "markdown",
   "id": "a8f4ceb0",
   "metadata": {},
   "source": [
    "##### c.\n",
    "\n",
    "Produce a list of column names from this `DataFrame` using only `pandas`."
   ]
  },
  {
   "cell_type": "code",
   "execution_count": 11,
   "id": "b1f3841e",
   "metadata": {},
   "outputs": [
    {
     "data": {
      "text/plain": [
       "Index(['AREA', 'PERIMETER', 'MAJOR_AXIS', 'MINOR_AXIS', 'ECCENTRICITY',\n",
       "       'EQDIASQ', 'SOLIDITY', 'CONVEX_AREA', 'EXTENT', 'ASPECT_RATIO',\n",
       "       'ROUNDNESS', 'COMPACTNESS', 'SHAPEFACTOR_1', 'SHAPEFACTOR_2',\n",
       "       'SHAPEFACTOR_3', 'SHAPEFACTOR_4', 'Class'],\n",
       "      dtype='object')"
      ]
     },
     "execution_count": 11,
     "metadata": {},
     "output_type": "execute_result"
    }
   ],
   "source": [
    "df.columns"
   ]
  },
  {
   "cell_type": "code",
   "execution_count": null,
   "id": "35aab1b0",
   "metadata": {},
   "outputs": [],
   "source": []
  },
  {
   "cell_type": "markdown",
   "id": "6983c846",
   "metadata": {},
   "source": [
    "##### d.\n",
    "\n",
    "How many of each `Class` value is present in this `DataFrame`? What percentage of the `DataFrame` does each value represent?"
   ]
  },
  {
   "cell_type": "code",
   "execution_count": 13,
   "id": "ba492f34",
   "metadata": {},
   "outputs": [
    {
     "data": {
      "text/plain": [
       "2"
      ]
     },
     "execution_count": 13,
     "metadata": {},
     "output_type": "execute_result"
    }
   ],
   "source": [
    "df.Class.nunique()"
   ]
  },
  {
   "cell_type": "code",
   "execution_count": 19,
   "id": "ac7d871f",
   "metadata": {},
   "outputs": [
    {
     "name": "stdout",
     "output_type": "stream",
     "text": [
      "% of Siit Pistachios: 0.4264432029795158\n",
      "% of Kirmizi Pistachios: 0.5735567970204841\n"
     ]
    }
   ],
   "source": [
    "print('% of Siit Pistachios:',np.sum(df.Class == 'Siit_Pistachio')/len(df))\n",
    "print('% of Kirmizi Pistachios:',np.sum(df.Class == 'Kirmizi_Pistachio')/len(df))"
   ]
  },
  {
   "cell_type": "code",
   "execution_count": 18,
   "id": "95d7809d",
   "metadata": {},
   "outputs": [
    {
     "data": {
      "text/plain": [
       "916"
      ]
     },
     "execution_count": 18,
     "metadata": {},
     "output_type": "execute_result"
    }
   ],
   "source": [
    "np.sum(df.Class == 'Siit_Pistachio')"
   ]
  },
  {
   "cell_type": "markdown",
   "id": "2b6b334c",
   "metadata": {},
   "source": [
    "#### 2. Train test splits for classification\n",
    "\n",
    "##### a.\n",
    "\n",
    "Write a `for` loop to print out a train test split of the following data `test` 20 times. Set a test set size of $20\\%$, do not set a random seed."
   ]
  },
  {
   "cell_type": "code",
   "execution_count": 20,
   "id": "7ec3fd87",
   "metadata": {},
   "outputs": [],
   "source": [
    "test = [0,0,0,0,0,0,0,0,0,0,\n",
    "           1,1,0,0,0,0,0,1,1,1]"
   ]
  },
  {
   "cell_type": "code",
   "execution_count": 21,
   "id": "131c6b49",
   "metadata": {},
   "outputs": [],
   "source": [
    "from sklearn.model_selection import train_test_split"
   ]
  },
  {
   "cell_type": "code",
   "execution_count": 23,
   "id": "6e6d406b",
   "metadata": {},
   "outputs": [
    {
     "name": "stdout",
     "output_type": "stream",
     "text": [
      "[[0, 0, 0, 0, 0, 0, 1, 0, 0, 0, 0, 0, 1, 1, 0, 0], [0, 1, 1, 0]]\n",
      "[[1, 0, 1, 1, 0, 0, 1, 0, 0, 0, 0, 0, 1, 0, 0, 0], [0, 0, 0, 0]]\n",
      "[[0, 0, 0, 0, 0, 0, 0, 1, 1, 0, 1, 0, 0, 0, 0, 0], [0, 0, 1, 1]]\n",
      "[[0, 0, 0, 1, 1, 0, 0, 0, 1, 0, 0, 0, 0, 1, 0, 0], [0, 0, 1, 0]]\n",
      "[[0, 1, 0, 0, 0, 1, 0, 1, 0, 0, 0, 0, 1, 0, 0, 0], [0, 1, 0, 0]]\n",
      "[[0, 0, 0, 1, 1, 0, 1, 0, 0, 1, 0, 0, 0, 0, 0, 0], [0, 1, 0, 0]]\n",
      "[[0, 0, 1, 0, 1, 0, 0, 0, 1, 0, 0, 0, 0, 0, 0, 0], [1, 0, 0, 1]]\n",
      "[[1, 0, 0, 0, 0, 0, 0, 0, 1, 1, 0, 0, 1, 0, 0, 0], [0, 0, 1, 0]]\n",
      "[[1, 0, 0, 0, 0, 1, 0, 0, 0, 0, 1, 0, 0, 0, 1, 0], [0, 0, 0, 1]]\n",
      "[[0, 0, 0, 0, 0, 0, 1, 0, 0, 0, 0, 0, 1, 0, 0, 1], [0, 1, 0, 1]]\n",
      "[[0, 1, 0, 0, 1, 0, 0, 0, 0, 0, 1, 0, 0, 0, 1, 0], [1, 0, 0, 0]]\n",
      "[[0, 0, 0, 0, 0, 0, 1, 0, 0, 0, 1, 0, 1, 0, 1, 1], [0, 0, 0, 0]]\n",
      "[[0, 1, 1, 0, 0, 0, 0, 0, 1, 0, 0, 1, 0, 0, 0, 0], [0, 1, 0, 0]]\n",
      "[[1, 0, 0, 1, 1, 0, 1, 0, 0, 0, 0, 1, 0, 0, 0, 0], [0, 0, 0, 0]]\n",
      "[[0, 0, 1, 0, 0, 0, 0, 0, 1, 0, 0, 0, 1, 0, 0, 1], [0, 0, 1, 0]]\n",
      "[[1, 0, 1, 0, 0, 0, 0, 0, 0, 1, 0, 1, 1, 0, 0, 0], [0, 0, 0, 0]]\n",
      "[[0, 0, 1, 1, 0, 0, 0, 0, 0, 0, 1, 0, 0, 0, 0, 0], [1, 0, 1, 0]]\n",
      "[[1, 1, 0, 0, 0, 0, 0, 0, 0, 1, 1, 0, 0, 0, 0, 0], [0, 1, 0, 0]]\n",
      "[[0, 0, 1, 0, 1, 0, 0, 0, 1, 0, 0, 0, 1, 0, 0, 0], [0, 0, 0, 1]]\n",
      "[[0, 1, 0, 1, 0, 0, 1, 1, 0, 0, 0, 1, 0, 0, 0, 0], [0, 0, 0, 0]]\n"
     ]
    }
   ],
   "source": [
    "for i in range(20):\n",
    "    print(train_test_split(test,\n",
    "                            test_size = 0.2,\n",
    "                            shuffle=True))"
   ]
  },
  {
   "cell_type": "code",
   "execution_count": null,
   "id": "a84768b8",
   "metadata": {},
   "outputs": [],
   "source": []
  },
  {
   "cell_type": "markdown",
   "id": "f2a73279",
   "metadata": {},
   "source": [
    "##### b.\n",
    "\n",
    "Did it ever happen that your test set had no `1`s in it?"
   ]
  },
  {
   "cell_type": "markdown",
   "id": "a2080261-692e-433a-84bb-fa492c509adf",
   "metadata": {},
   "source": [
    "yes"
   ]
  },
  {
   "cell_type": "markdown",
   "id": "e8435859",
   "metadata": {},
   "source": [
    "##### c.\n",
    "\n",
    "Rerun the loop you ran above, only this time include the argument, `stratify=test`. Are there ever splits where the test set has no `1`s in it this time?"
   ]
  },
  {
   "cell_type": "code",
   "execution_count": 25,
   "id": "90d980d1",
   "metadata": {},
   "outputs": [
    {
     "name": "stdout",
     "output_type": "stream",
     "text": [
      "[[0, 0, 0, 0, 0, 0, 0, 0, 1, 1, 0, 1, 0, 1, 0, 0], [0, 0, 1, 0]]\n",
      "[[0, 0, 1, 0, 0, 1, 0, 0, 0, 1, 0, 0, 1, 0, 0, 0], [0, 0, 0, 1]]\n",
      "[[0, 0, 0, 0, 1, 0, 1, 0, 0, 0, 0, 1, 0, 0, 0, 1], [0, 0, 1, 0]]\n",
      "[[0, 1, 1, 0, 0, 0, 0, 1, 0, 0, 0, 0, 1, 0, 0, 0], [1, 0, 0, 0]]\n",
      "[[0, 0, 0, 0, 1, 1, 1, 1, 0, 0, 0, 0, 0, 0, 0, 0], [0, 0, 1, 0]]\n",
      "[[0, 0, 0, 0, 0, 0, 0, 1, 0, 0, 1, 0, 1, 0, 1, 0], [0, 0, 1, 0]]\n",
      "[[0, 0, 0, 0, 1, 0, 0, 0, 1, 0, 0, 0, 0, 1, 1, 0], [1, 0, 0, 0]]\n",
      "[[1, 0, 0, 0, 0, 0, 1, 0, 1, 1, 0, 0, 0, 0, 0, 0], [0, 1, 0, 0]]\n",
      "[[0, 0, 0, 1, 0, 0, 0, 1, 0, 0, 1, 1, 0, 0, 0, 0], [0, 0, 1, 0]]\n",
      "[[0, 0, 0, 1, 0, 1, 0, 0, 0, 0, 1, 0, 0, 0, 1, 0], [0, 0, 0, 1]]\n",
      "[[1, 0, 0, 0, 0, 0, 0, 1, 0, 0, 0, 0, 1, 1, 0, 0], [1, 0, 0, 0]]\n",
      "[[0, 0, 0, 0, 0, 0, 0, 1, 1, 0, 1, 0, 0, 1, 0, 0], [0, 1, 0, 0]]\n",
      "[[1, 0, 0, 0, 1, 0, 0, 0, 0, 1, 1, 0, 0, 0, 0, 0], [0, 1, 0, 0]]\n",
      "[[0, 0, 0, 0, 0, 1, 0, 1, 0, 0, 0, 1, 0, 0, 1, 0], [0, 1, 0, 0]]\n",
      "[[1, 0, 0, 0, 0, 0, 0, 0, 0, 0, 0, 1, 0, 0, 1, 1], [0, 0, 1, 0]]\n",
      "[[0, 0, 0, 1, 0, 0, 0, 0, 0, 0, 1, 0, 1, 1, 0, 0], [0, 1, 0, 0]]\n",
      "[[0, 0, 0, 0, 0, 0, 1, 0, 1, 0, 1, 0, 0, 0, 1, 0], [0, 1, 0, 0]]\n",
      "[[0, 0, 0, 0, 1, 0, 0, 0, 0, 0, 0, 0, 1, 1, 1, 0], [0, 0, 0, 1]]\n",
      "[[0, 1, 1, 0, 0, 0, 0, 1, 0, 0, 1, 0, 0, 0, 0, 0], [0, 1, 0, 0]]\n",
      "[[0, 0, 1, 0, 0, 0, 0, 0, 1, 1, 0, 1, 0, 0, 0, 0], [0, 0, 0, 1]]\n"
     ]
    }
   ],
   "source": [
    "for i in range(20):\n",
    "    print(train_test_split(test,\n",
    "                            test_size = 0.2,\n",
    "                            shuffle=True,\n",
    "                            stratify=test))"
   ]
  },
  {
   "cell_type": "markdown",
   "id": "e66e8d2c-cccf-4aaa-baf7-213854395658",
   "metadata": {},
   "source": [
    "no"
   ]
  },
  {
   "cell_type": "markdown",
   "id": "cd8dc214",
   "metadata": {},
   "source": [
    "##### d.\n",
    "\n",
    "Read the documentation for `StratifiedKFold` to see how it is different from regular `KFold`. Run the pistachio data set through a stratified k-fold using the `Class` column as the stratification column.\n",
    "\n",
    "- <a href=\"https://scikit-learn.org/stable/modules/generated/sklearn.model_selection.StratifiedKFold.html\">https://scikit-learn.org/stable/modules/generated/sklearn.model_selection.StratifiedKFold.html</a>\n",
    "- <a href=\"https://scikit-learn.org/stable/modules/generated/sklearn.model_selection.KFold.html\">https://scikit-learn.org/stable/modules/generated/sklearn.model_selection.KFold.html</a>\n",
    "\n"
   ]
  },
  {
   "cell_type": "code",
   "execution_count": 27,
   "id": "2b6eb0a6",
   "metadata": {},
   "outputs": [],
   "source": [
    "from sklearn.model_selection import StratifiedKFold"
   ]
  },
  {
   "cell_type": "code",
   "execution_count": 32,
   "id": "16aa7f8e",
   "metadata": {},
   "outputs": [],
   "source": [
    "kfold = StratifiedKFold(shuffle=True,\n",
    "                       random_state = 2000)"
   ]
  },
  {
   "cell_type": "code",
   "execution_count": 34,
   "id": "488bad93",
   "metadata": {},
   "outputs": [
    {
     "name": "stdout",
     "output_type": "stream",
     "text": [
      "Kirmizi_Pistachio    0.573341\n",
      "Siit_Pistachio       0.426659\n",
      "Name: Class, dtype: float64\n",
      "Kirmizi_Pistachio    0.574419\n",
      "Siit_Pistachio       0.425581\n",
      "Name: Class, dtype: float64\n",
      "\n",
      "\n",
      "Kirmizi_Pistachio    0.573341\n",
      "Siit_Pistachio       0.426659\n",
      "Name: Class, dtype: float64\n",
      "Kirmizi_Pistachio    0.574419\n",
      "Siit_Pistachio       0.425581\n",
      "Name: Class, dtype: float64\n",
      "\n",
      "\n",
      "Kirmizi_Pistachio    0.573923\n",
      "Siit_Pistachio       0.426077\n",
      "Name: Class, dtype: float64\n",
      "Kirmizi_Pistachio    0.572093\n",
      "Siit_Pistachio       0.427907\n",
      "Name: Class, dtype: float64\n",
      "\n",
      "\n",
      "Kirmizi_Pistachio    0.573589\n",
      "Siit_Pistachio       0.426411\n",
      "Name: Class, dtype: float64\n",
      "Kirmizi_Pistachio    0.573427\n",
      "Siit_Pistachio       0.426573\n",
      "Name: Class, dtype: float64\n",
      "\n",
      "\n",
      "Kirmizi_Pistachio    0.573589\n",
      "Siit_Pistachio       0.426411\n",
      "Name: Class, dtype: float64\n",
      "Kirmizi_Pistachio    0.573427\n",
      "Siit_Pistachio       0.426573\n",
      "Name: Class, dtype: float64\n",
      "\n",
      "\n"
     ]
    }
   ],
   "source": [
    "for train_index, test_index in kfold.split(df,df.Class):\n",
    "    print(df.iloc[train_index].Class.value_counts(normalize=True))\n",
    "    print(df.iloc[test_index].Class.value_counts(normalize=True))\n",
    "    print()\n",
    "    print()"
   ]
  },
  {
   "cell_type": "markdown",
   "id": "563aac8f",
   "metadata": {},
   "source": [
    "--------------------------\n",
    "\n",
    "This notebook was written for the Erd&#337;s Institute C&#337;de Data Science Boot Camp by Matthew Osborne, Ph. D., 2022.\n",
    "\n",
    "Any potential redistributors must seek and receive permission from Matthew Tyler Osborne, Ph.D. prior to redistribution. Redistribution of the material contained in this repository is conditional on acknowledgement of Matthew Tyler Osborne, Ph.D.'s original authorship and sponsorship of the Erdős Institute as subject to the license (see License.md)"
   ]
  },
  {
   "cell_type": "code",
   "execution_count": null,
   "id": "54da0335",
   "metadata": {},
   "outputs": [],
   "source": []
  }
 ],
 "metadata": {
  "kernelspec": {
   "display_name": "Python 3 (ipykernel)",
   "language": "python",
   "name": "python3"
  },
  "language_info": {
   "codemirror_mode": {
    "name": "ipython",
    "version": 3
   },
   "file_extension": ".py",
   "mimetype": "text/x-python",
   "name": "python",
   "nbconvert_exporter": "python",
   "pygments_lexer": "ipython3",
   "version": "3.9.12"
  }
 },
 "nbformat": 4,
 "nbformat_minor": 5
}
