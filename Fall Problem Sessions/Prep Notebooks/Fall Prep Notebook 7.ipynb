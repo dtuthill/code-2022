{
 "cells": [
  {
   "cell_type": "markdown",
   "id": "52b76ab4",
   "metadata": {},
   "source": [
    "# Fall Prep Notebook 7\n",
    "## Classifying Pumpkin Seeds I\n",
    "\n",
    "This notebook has a few exercises that can serve as a primer for what to expect in the `Fall Problem Session 7` notebook. These exercises will touch upon the basic python, `pandas`, `numpy`, `matplotlib` and some supervised learning basic techniques that you may want a refresher on prior to starting `Fall Problem Session 7`."
   ]
  },
  {
   "cell_type": "code",
   "execution_count": null,
   "id": "4d1ae081",
   "metadata": {},
   "outputs": [],
   "source": [
    "import pandas as pd\n",
    "import numpy as np\n",
    "import matplotlib.pyplot as plt\n",
    "import seaborn as sns\n",
    "\n",
    "sns.set_style(\"whitegrid\")"
   ]
  },
  {
   "cell_type": "markdown",
   "id": "cb9b528b",
   "metadata": {},
   "source": [
    "#### 1. Reading Excel files\n",
    "\n",
    "##### a.\n",
    "\n",
    "In the `Data` folder is a file called `Pistachio_16_Features_Dataset.xlsx`. Do a web search to see how you can read in such a file using `pandas`. Store the `DataFrame` in a variable."
   ]
  },
  {
   "cell_type": "code",
   "execution_count": null,
   "id": "508d0f85",
   "metadata": {},
   "outputs": [],
   "source": []
  },
  {
   "cell_type": "code",
   "execution_count": null,
   "id": "e359c072",
   "metadata": {},
   "outputs": [],
   "source": []
  },
  {
   "cell_type": "markdown",
   "id": "f0e03eec",
   "metadata": {},
   "source": [
    "##### b.\n",
    "\n",
    "Look at a random sample of size $10$ from this data set."
   ]
  },
  {
   "cell_type": "code",
   "execution_count": null,
   "id": "0db3b224",
   "metadata": {},
   "outputs": [],
   "source": []
  },
  {
   "cell_type": "code",
   "execution_count": null,
   "id": "3ffab473",
   "metadata": {},
   "outputs": [],
   "source": []
  },
  {
   "cell_type": "markdown",
   "id": "a8f4ceb0",
   "metadata": {},
   "source": [
    "##### c.\n",
    "\n",
    "Produce a list of column names from this `DataFrame` using only `pandas`."
   ]
  },
  {
   "cell_type": "code",
   "execution_count": null,
   "id": "b1f3841e",
   "metadata": {},
   "outputs": [],
   "source": []
  },
  {
   "cell_type": "code",
   "execution_count": null,
   "id": "35aab1b0",
   "metadata": {},
   "outputs": [],
   "source": []
  },
  {
   "cell_type": "markdown",
   "id": "6983c846",
   "metadata": {},
   "source": [
    "##### d.\n",
    "\n",
    "How many of each `Class` value is present in this `DataFrame`? What percentage of the `DataFrame` does each value represent?"
   ]
  },
  {
   "cell_type": "code",
   "execution_count": null,
   "id": "ba492f34",
   "metadata": {},
   "outputs": [],
   "source": []
  },
  {
   "cell_type": "code",
   "execution_count": null,
   "id": "ac7d871f",
   "metadata": {},
   "outputs": [],
   "source": []
  },
  {
   "cell_type": "code",
   "execution_count": null,
   "id": "95d7809d",
   "metadata": {},
   "outputs": [],
   "source": []
  },
  {
   "cell_type": "markdown",
   "id": "2b6b334c",
   "metadata": {},
   "source": [
    "#### 2. Train test splits for classification\n",
    "\n",
    "##### a.\n",
    "\n",
    "Write a `for` loop to print out a train test split of the following data `test` 20 times. Set a test set size of $20\\%$, do not set a random seed."
   ]
  },
  {
   "cell_type": "code",
   "execution_count": null,
   "id": "7ec3fd87",
   "metadata": {},
   "outputs": [],
   "source": [
    "test = [0,0,0,0,0,0,0,0,0,0,\n",
    "           1,1,0,0,0,0,0,1,1,1]"
   ]
  },
  {
   "cell_type": "code",
   "execution_count": null,
   "id": "131c6b49",
   "metadata": {},
   "outputs": [],
   "source": []
  },
  {
   "cell_type": "code",
   "execution_count": null,
   "id": "6e6d406b",
   "metadata": {},
   "outputs": [],
   "source": []
  },
  {
   "cell_type": "code",
   "execution_count": null,
   "id": "a84768b8",
   "metadata": {},
   "outputs": [],
   "source": []
  },
  {
   "cell_type": "markdown",
   "id": "f2a73279",
   "metadata": {},
   "source": [
    "##### b.\n",
    "\n",
    "Did it ever happen that your test set had no `1`s in it?"
   ]
  },
  {
   "cell_type": "code",
   "execution_count": null,
   "id": "0aa41e3e",
   "metadata": {},
   "outputs": [],
   "source": []
  },
  {
   "cell_type": "markdown",
   "id": "e8435859",
   "metadata": {},
   "source": [
    "##### c.\n",
    "\n",
    "Rerun the loop you ran above, only this time include the argument, `stratify=test`. Are there ever splits where the test set has no `1`s in it this time?"
   ]
  },
  {
   "cell_type": "code",
   "execution_count": null,
   "id": "90d980d1",
   "metadata": {},
   "outputs": [],
   "source": []
  },
  {
   "cell_type": "code",
   "execution_count": null,
   "id": "67976518",
   "metadata": {},
   "outputs": [],
   "source": []
  },
  {
   "cell_type": "markdown",
   "id": "cd8dc214",
   "metadata": {},
   "source": [
    "##### d.\n",
    "\n",
    "Read the documentation for `StratifiedKFold` to see how it is different from regular `KFold`. Run the pistachio data set through a stratified k-fold using the `Class` column as the stratification column.\n",
    "\n",
    "- <a href=\"https://scikit-learn.org/stable/modules/generated/sklearn.model_selection.StratifiedKFold.html\">https://scikit-learn.org/stable/modules/generated/sklearn.model_selection.StratifiedKFold.html</a>\n",
    "- <a href=\"https://scikit-learn.org/stable/modules/generated/sklearn.model_selection.KFold.html\">https://scikit-learn.org/stable/modules/generated/sklearn.model_selection.KFold.html</a>\n",
    "\n"
   ]
  },
  {
   "cell_type": "code",
   "execution_count": null,
   "id": "2b6eb0a6",
   "metadata": {},
   "outputs": [],
   "source": []
  },
  {
   "cell_type": "code",
   "execution_count": null,
   "id": "16aa7f8e",
   "metadata": {},
   "outputs": [],
   "source": []
  },
  {
   "cell_type": "code",
   "execution_count": null,
   "id": "488bad93",
   "metadata": {},
   "outputs": [],
   "source": []
  },
  {
   "cell_type": "markdown",
   "id": "563aac8f",
   "metadata": {},
   "source": [
    "--------------------------\n",
    "\n",
    "This notebook was written for the Erd&#337;s Institute C&#337;de Data Science Boot Camp by Matthew Osborne, Ph. D., 2022.\n",
    "\n",
    "Any potential redistributors must seek and receive permission from Matthew Tyler Osborne, Ph.D. prior to redistribution. Redistribution of the material contained in this repository is conditional on acknowledgement of Matthew Tyler Osborne, Ph.D.'s original authorship and sponsorship of the Erdős Institute as subject to the license (see License.md)"
   ]
  },
  {
   "cell_type": "code",
   "execution_count": null,
   "id": "54da0335",
   "metadata": {},
   "outputs": [],
   "source": []
  }
 ],
 "metadata": {
  "kernelspec": {
   "display_name": "Python 3 (ipykernel)",
   "language": "python",
   "name": "python3"
  },
  "language_info": {
   "codemirror_mode": {
    "name": "ipython",
    "version": 3
   },
   "file_extension": ".py",
   "mimetype": "text/x-python",
   "name": "python",
   "nbconvert_exporter": "python",
   "pygments_lexer": "ipython3",
   "version": "3.9.9"
  }
 },
 "nbformat": 4,
 "nbformat_minor": 5
}
