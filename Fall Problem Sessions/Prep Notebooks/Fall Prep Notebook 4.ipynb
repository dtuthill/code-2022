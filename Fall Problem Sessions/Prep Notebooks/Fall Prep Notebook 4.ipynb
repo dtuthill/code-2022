{
 "cells": [
  {
   "cell_type": "markdown",
   "id": "62126b0f",
   "metadata": {},
   "source": [
    "# Fall Prep Notebook 4\n",
    "\n",
    "## Building a Final Vehicle Sales Model\n",
    "\n",
    "This notebook has a few exercises that can serve as a primer for what to expect in the `Fall Problem Session 4` notebook. These exercises will touch upon the basic python, `pandas`, `numpy`, `matplotlib` and some basic supervised learning techniques that you may want a refresher on prior to starting `Fall Problem Session 4`."
   ]
  },
  {
   "cell_type": "markdown",
   "id": "4105db06",
   "metadata": {},
   "source": [
    "#### 1. Load in `carseats.csv`\n",
    "\n",
    "Load in `carseats.csv` using `pandas`."
   ]
  },
  {
   "cell_type": "code",
   "execution_count": null,
   "id": "32875bb5",
   "metadata": {},
   "outputs": [],
   "source": []
  },
  {
   "cell_type": "code",
   "execution_count": null,
   "id": "0b7241ec",
   "metadata": {},
   "outputs": [],
   "source": []
  },
  {
   "cell_type": "markdown",
   "id": "315b0335",
   "metadata": {},
   "source": [
    "#### 2. Train test split\n",
    "\n",
    "Make a train test split for `carseats`."
   ]
  },
  {
   "cell_type": "code",
   "execution_count": null,
   "id": "d483f2c8",
   "metadata": {},
   "outputs": [],
   "source": []
  },
  {
   "cell_type": "code",
   "execution_count": null,
   "id": "674be2ba",
   "metadata": {},
   "outputs": [],
   "source": []
  },
  {
   "cell_type": "markdown",
   "id": "28d7800f",
   "metadata": {},
   "source": [
    "#### 3. EDA\n",
    "\n",
    "##### a.\n",
    "\n",
    "Look at the first five observations of the training set."
   ]
  },
  {
   "cell_type": "code",
   "execution_count": null,
   "id": "4a82a88e",
   "metadata": {},
   "outputs": [],
   "source": []
  },
  {
   "cell_type": "markdown",
   "id": "5eef743e",
   "metadata": {},
   "source": [
    "##### b.\n",
    "\n",
    "Use `pairplot` to examine the potential for a linear relationship between `Sales` and:\n",
    "- `Advertising`\n",
    "- `Income` and \n",
    "- `CompPrice`."
   ]
  },
  {
   "cell_type": "code",
   "execution_count": null,
   "id": "16927694",
   "metadata": {},
   "outputs": [],
   "source": []
  },
  {
   "cell_type": "code",
   "execution_count": null,
   "id": "1787a4b4",
   "metadata": {},
   "outputs": [],
   "source": []
  },
  {
   "cell_type": "markdown",
   "id": "a87ab343",
   "metadata": {},
   "source": [
    "##### c.\n",
    "\n",
    "Look at the correlations for the variables you considered in the previous problem."
   ]
  },
  {
   "cell_type": "code",
   "execution_count": null,
   "id": "3fed7053",
   "metadata": {},
   "outputs": [],
   "source": []
  },
  {
   "cell_type": "markdown",
   "id": "b83c9beb",
   "metadata": {},
   "source": [
    "##### d.\n",
    "\n",
    "Use `seaborn`'s `lmplot`, <a href=\"https://seaborn.pydata.org/generated/seaborn.lmplot.html\">https://seaborn.pydata.org/generated/seaborn.lmplot.html</a>, to investigate a potential linear relationship between `Sales` and `Price`."
   ]
  },
  {
   "cell_type": "code",
   "execution_count": null,
   "id": "41357150",
   "metadata": {},
   "outputs": [],
   "source": []
  },
  {
   "cell_type": "markdown",
   "id": "17eedd99",
   "metadata": {},
   "source": [
    "##### e.\n",
    "\n",
    "Use the `hue` argument of `lmplot` to investigate potential interactions between `Age` and `ShelveLoc`."
   ]
  },
  {
   "cell_type": "code",
   "execution_count": null,
   "id": "8db13636",
   "metadata": {},
   "outputs": [],
   "source": []
  },
  {
   "cell_type": "markdown",
   "id": "67957569",
   "metadata": {},
   "source": [
    "#### 4. Preparing data\n",
    "\n",
    "Make appropriate one-hot encoded variables for `ShelveLoc`."
   ]
  },
  {
   "cell_type": "code",
   "execution_count": null,
   "id": "1af169d6",
   "metadata": {},
   "outputs": [],
   "source": []
  },
  {
   "cell_type": "code",
   "execution_count": null,
   "id": "fe827a86",
   "metadata": {},
   "outputs": [],
   "source": []
  },
  {
   "cell_type": "markdown",
   "id": "f1fb84ce",
   "metadata": {},
   "source": [
    "#### 5. Fitting a model\n",
    "\n",
    "##### a.\n",
    "\n",
    "Fit the following regression model using the training set.\n",
    "\n",
    "$$\n",
    "\\text{Sales} = \\beta_0 + \\beta_1 \\text{Price} + \\beta_2 \\left(\\text{Shelve Location = Medium}\\right) + \\beta_3\\left(\\text{Shelve Location = Good}\\right) + \\epsilon\n",
    "$$"
   ]
  },
  {
   "cell_type": "code",
   "execution_count": null,
   "id": "26556d19",
   "metadata": {},
   "outputs": [],
   "source": []
  },
  {
   "cell_type": "code",
   "execution_count": null,
   "id": "c3007bf6",
   "metadata": {},
   "outputs": [],
   "source": []
  },
  {
   "cell_type": "markdown",
   "id": "03675d73",
   "metadata": {},
   "source": [
    "##### b.\n",
    "\n",
    "Look at the estimates $\\hat{\\beta_0}$, $\\hat{\\beta_1}$, $\\hat{\\beta_2}$ and $\\hat{\\beta_3}$."
   ]
  },
  {
   "cell_type": "code",
   "execution_count": null,
   "id": "f68823b2",
   "metadata": {},
   "outputs": [],
   "source": []
  },
  {
   "cell_type": "code",
   "execution_count": null,
   "id": "09f38349",
   "metadata": {},
   "outputs": [],
   "source": []
  },
  {
   "cell_type": "markdown",
   "id": "31efa8a1",
   "metadata": {},
   "source": [
    "##### c.\n",
    "\n",
    "Get the training root mean squared error for this model."
   ]
  },
  {
   "cell_type": "code",
   "execution_count": null,
   "id": "969398d5",
   "metadata": {},
   "outputs": [],
   "source": []
  },
  {
   "cell_type": "code",
   "execution_count": null,
   "id": "cc0fad50",
   "metadata": {},
   "outputs": [],
   "source": []
  },
  {
   "cell_type": "markdown",
   "id": "bd7ba5c0",
   "metadata": {},
   "source": [
    "--------------------------\n",
    "\n",
    "This notebook was written for the Erd&#337;s Institute C&#337;de Data Science Boot Camp by Matthew Osborne, Ph. D., 2022.\n",
    "\n",
    "Any potential redistributors must seek and receive permission from Matthew Tyler Osborne, Ph.D. prior to redistribution. Redistribution of the material contained in this repository is conditional on acknowledgement of Matthew Tyler Osborne, Ph.D.'s original authorship and sponsorship of the Erdős Institute as subject to the license (see License.md)"
   ]
  },
  {
   "cell_type": "code",
   "execution_count": null,
   "id": "5d922e92",
   "metadata": {},
   "outputs": [],
   "source": []
  }
 ],
 "metadata": {
  "kernelspec": {
   "display_name": "Python 3 (ipykernel)",
   "language": "python",
   "name": "python3"
  },
  "language_info": {
   "codemirror_mode": {
    "name": "ipython",
    "version": 3
   },
   "file_extension": ".py",
   "mimetype": "text/x-python",
   "name": "python",
   "nbconvert_exporter": "python",
   "pygments_lexer": "ipython3",
   "version": "3.9.9"
  }
 },
 "nbformat": 4,
 "nbformat_minor": 5
}
