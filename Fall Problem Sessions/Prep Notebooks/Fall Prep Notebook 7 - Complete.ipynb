{
 "cells": [
  {
   "cell_type": "markdown",
   "id": "aa53d227",
   "metadata": {},
   "source": [
    "# Fall Prep Notebook 7\n",
    "## Classifying Pumpkin Seeds I\n",
    "\n",
    "This notebook has a few exercises that can serve as a primer for what to expect in the `Fall Problem Session 7` notebook. These exercises will touch upon the basic python, `pandas`, `numpy`, `matplotlib` and some supervised learning basic techniques that you may want a refresher on prior to starting `Fall Problem Session 7`."
   ]
  },
  {
   "cell_type": "code",
   "execution_count": 1,
   "id": "53600ad1",
   "metadata": {},
   "outputs": [],
   "source": [
    "import pandas as pd\n",
    "import numpy as np\n",
    "import matplotlib.pyplot as plt\n",
    "import seaborn as sns\n",
    "\n",
    "sns.set_style(\"whitegrid\")"
   ]
  },
  {
   "cell_type": "markdown",
   "id": "8da6327c",
   "metadata": {},
   "source": [
    "#### 1. Reading Excel files\n",
    "\n",
    "##### a.\n",
    "\n",
    "In the `Data` folder is a file called `Pistachio_16_Features_Dataset.xlsx`. Do a web search to see how you can read in such a file using `pandas`. Store the `DataFrame` in a variable."
   ]
  },
  {
   "cell_type": "markdown",
   "id": "706ef047",
   "metadata": {},
   "source": [
    "##### Sample Solution"
   ]
  },
  {
   "cell_type": "code",
   "execution_count": 2,
   "id": "56c0657b",
   "metadata": {},
   "outputs": [],
   "source": [
    "df = pd.read_excel(\"../../Data/Pistachio_16_Features_Dataset.xlsx\")"
   ]
  },
  {
   "cell_type": "markdown",
   "id": "b64fa6b8",
   "metadata": {},
   "source": [
    "##### b.\n",
    "\n",
    "Look at a random sample of size $10$ from this data set."
   ]
  },
  {
   "cell_type": "markdown",
   "id": "542ee01c",
   "metadata": {},
   "source": [
    "##### Sample Solution"
   ]
  },
  {
   "cell_type": "code",
   "execution_count": 3,
   "id": "a8fb2504",
   "metadata": {},
   "outputs": [
    {
     "data": {
      "text/html": [
       "<div>\n",
       "<style scoped>\n",
       "    .dataframe tbody tr th:only-of-type {\n",
       "        vertical-align: middle;\n",
       "    }\n",
       "\n",
       "    .dataframe tbody tr th {\n",
       "        vertical-align: top;\n",
       "    }\n",
       "\n",
       "    .dataframe thead th {\n",
       "        text-align: right;\n",
       "    }\n",
       "</style>\n",
       "<table border=\"1\" class=\"dataframe\">\n",
       "  <thead>\n",
       "    <tr style=\"text-align: right;\">\n",
       "      <th></th>\n",
       "      <th>AREA</th>\n",
       "      <th>PERIMETER</th>\n",
       "      <th>MAJOR_AXIS</th>\n",
       "      <th>MINOR_AXIS</th>\n",
       "      <th>ECCENTRICITY</th>\n",
       "      <th>EQDIASQ</th>\n",
       "      <th>SOLIDITY</th>\n",
       "      <th>CONVEX_AREA</th>\n",
       "      <th>EXTENT</th>\n",
       "      <th>ASPECT_RATIO</th>\n",
       "      <th>ROUNDNESS</th>\n",
       "      <th>COMPACTNESS</th>\n",
       "      <th>SHAPEFACTOR_1</th>\n",
       "      <th>SHAPEFACTOR_2</th>\n",
       "      <th>SHAPEFACTOR_3</th>\n",
       "      <th>SHAPEFACTOR_4</th>\n",
       "      <th>Class</th>\n",
       "    </tr>\n",
       "  </thead>\n",
       "  <tbody>\n",
       "    <tr>\n",
       "      <th>101</th>\n",
       "      <td>89168</td>\n",
       "      <td>1332.2290</td>\n",
       "      <td>504.1752</td>\n",
       "      <td>230.6764</td>\n",
       "      <td>0.8892</td>\n",
       "      <td>336.9454</td>\n",
       "      <td>0.9708</td>\n",
       "      <td>91854</td>\n",
       "      <td>0.7519</td>\n",
       "      <td>2.1856</td>\n",
       "      <td>0.6313</td>\n",
       "      <td>0.6683</td>\n",
       "      <td>0.0057</td>\n",
       "      <td>0.0026</td>\n",
       "      <td>0.4466</td>\n",
       "      <td>0.9762</td>\n",
       "      <td>Kirmizi_Pistachio</td>\n",
       "    </tr>\n",
       "    <tr>\n",
       "      <th>1131</th>\n",
       "      <td>75322</td>\n",
       "      <td>1100.2540</td>\n",
       "      <td>429.3439</td>\n",
       "      <td>227.7799</td>\n",
       "      <td>0.8477</td>\n",
       "      <td>309.6820</td>\n",
       "      <td>0.9727</td>\n",
       "      <td>77438</td>\n",
       "      <td>0.7473</td>\n",
       "      <td>1.8849</td>\n",
       "      <td>0.7819</td>\n",
       "      <td>0.7213</td>\n",
       "      <td>0.0057</td>\n",
       "      <td>0.0030</td>\n",
       "      <td>0.5203</td>\n",
       "      <td>0.9806</td>\n",
       "      <td>Kirmizi_Pistachio</td>\n",
       "    </tr>\n",
       "    <tr>\n",
       "      <th>723</th>\n",
       "      <td>78792</td>\n",
       "      <td>1216.6970</td>\n",
       "      <td>461.4282</td>\n",
       "      <td>225.2631</td>\n",
       "      <td>0.8727</td>\n",
       "      <td>316.7350</td>\n",
       "      <td>0.9625</td>\n",
       "      <td>81864</td>\n",
       "      <td>0.7519</td>\n",
       "      <td>2.0484</td>\n",
       "      <td>0.6688</td>\n",
       "      <td>0.6864</td>\n",
       "      <td>0.0059</td>\n",
       "      <td>0.0029</td>\n",
       "      <td>0.4712</td>\n",
       "      <td>0.9652</td>\n",
       "      <td>Kirmizi_Pistachio</td>\n",
       "    </tr>\n",
       "    <tr>\n",
       "      <th>778</th>\n",
       "      <td>67688</td>\n",
       "      <td>1259.5270</td>\n",
       "      <td>460.9236</td>\n",
       "      <td>200.5296</td>\n",
       "      <td>0.9004</td>\n",
       "      <td>293.5695</td>\n",
       "      <td>0.9242</td>\n",
       "      <td>73239</td>\n",
       "      <td>0.7102</td>\n",
       "      <td>2.2985</td>\n",
       "      <td>0.5362</td>\n",
       "      <td>0.6369</td>\n",
       "      <td>0.0068</td>\n",
       "      <td>0.0030</td>\n",
       "      <td>0.4057</td>\n",
       "      <td>0.9324</td>\n",
       "      <td>Kirmizi_Pistachio</td>\n",
       "    </tr>\n",
       "    <tr>\n",
       "      <th>585</th>\n",
       "      <td>44791</td>\n",
       "      <td>993.4760</td>\n",
       "      <td>378.3307</td>\n",
       "      <td>156.2171</td>\n",
       "      <td>0.9108</td>\n",
       "      <td>238.8089</td>\n",
       "      <td>0.9451</td>\n",
       "      <td>47391</td>\n",
       "      <td>0.7422</td>\n",
       "      <td>2.4218</td>\n",
       "      <td>0.5703</td>\n",
       "      <td>0.6312</td>\n",
       "      <td>0.0084</td>\n",
       "      <td>0.0035</td>\n",
       "      <td>0.3984</td>\n",
       "      <td>0.9649</td>\n",
       "      <td>Kirmizi_Pistachio</td>\n",
       "    </tr>\n",
       "    <tr>\n",
       "      <th>322</th>\n",
       "      <td>60173</td>\n",
       "      <td>1543.6820</td>\n",
       "      <td>445.3457</td>\n",
       "      <td>183.6638</td>\n",
       "      <td>0.9110</td>\n",
       "      <td>276.7935</td>\n",
       "      <td>0.8804</td>\n",
       "      <td>68345</td>\n",
       "      <td>0.6915</td>\n",
       "      <td>2.4248</td>\n",
       "      <td>0.3173</td>\n",
       "      <td>0.6215</td>\n",
       "      <td>0.0074</td>\n",
       "      <td>0.0031</td>\n",
       "      <td>0.3863</td>\n",
       "      <td>0.9367</td>\n",
       "      <td>Kirmizi_Pistachio</td>\n",
       "    </tr>\n",
       "    <tr>\n",
       "      <th>662</th>\n",
       "      <td>58990</td>\n",
       "      <td>953.7090</td>\n",
       "      <td>368.6313</td>\n",
       "      <td>208.9783</td>\n",
       "      <td>0.8238</td>\n",
       "      <td>274.0591</td>\n",
       "      <td>0.9761</td>\n",
       "      <td>60432</td>\n",
       "      <td>0.7687</td>\n",
       "      <td>1.7640</td>\n",
       "      <td>0.8150</td>\n",
       "      <td>0.7435</td>\n",
       "      <td>0.0062</td>\n",
       "      <td>0.0035</td>\n",
       "      <td>0.5527</td>\n",
       "      <td>0.9750</td>\n",
       "      <td>Kirmizi_Pistachio</td>\n",
       "    </tr>\n",
       "    <tr>\n",
       "      <th>1715</th>\n",
       "      <td>98268</td>\n",
       "      <td>1211.7010</td>\n",
       "      <td>466.6342</td>\n",
       "      <td>269.8694</td>\n",
       "      <td>0.8158</td>\n",
       "      <td>353.7212</td>\n",
       "      <td>0.9917</td>\n",
       "      <td>99089</td>\n",
       "      <td>0.7342</td>\n",
       "      <td>1.7291</td>\n",
       "      <td>0.8411</td>\n",
       "      <td>0.7580</td>\n",
       "      <td>0.0047</td>\n",
       "      <td>0.0027</td>\n",
       "      <td>0.5746</td>\n",
       "      <td>0.9936</td>\n",
       "      <td>Siit_Pistachio</td>\n",
       "    </tr>\n",
       "    <tr>\n",
       "      <th>2058</th>\n",
       "      <td>77159</td>\n",
       "      <td>1294.0580</td>\n",
       "      <td>426.0540</td>\n",
       "      <td>232.4743</td>\n",
       "      <td>0.8380</td>\n",
       "      <td>313.4356</td>\n",
       "      <td>0.9718</td>\n",
       "      <td>79402</td>\n",
       "      <td>0.7256</td>\n",
       "      <td>1.8327</td>\n",
       "      <td>0.5790</td>\n",
       "      <td>0.7357</td>\n",
       "      <td>0.0055</td>\n",
       "      <td>0.0030</td>\n",
       "      <td>0.5412</td>\n",
       "      <td>0.9919</td>\n",
       "      <td>Siit_Pistachio</td>\n",
       "    </tr>\n",
       "    <tr>\n",
       "      <th>1431</th>\n",
       "      <td>90638</td>\n",
       "      <td>1165.7321</td>\n",
       "      <td>466.5579</td>\n",
       "      <td>248.9237</td>\n",
       "      <td>0.8458</td>\n",
       "      <td>339.7115</td>\n",
       "      <td>0.9889</td>\n",
       "      <td>91658</td>\n",
       "      <td>0.7516</td>\n",
       "      <td>1.8743</td>\n",
       "      <td>0.8382</td>\n",
       "      <td>0.7281</td>\n",
       "      <td>0.0051</td>\n",
       "      <td>0.0027</td>\n",
       "      <td>0.5302</td>\n",
       "      <td>0.9937</td>\n",
       "      <td>Siit_Pistachio</td>\n",
       "    </tr>\n",
       "  </tbody>\n",
       "</table>\n",
       "</div>"
      ],
      "text/plain": [
       "       AREA  PERIMETER  MAJOR_AXIS  MINOR_AXIS  ECCENTRICITY   EQDIASQ  \\\n",
       "101   89168  1332.2290    504.1752    230.6764        0.8892  336.9454   \n",
       "1131  75322  1100.2540    429.3439    227.7799        0.8477  309.6820   \n",
       "723   78792  1216.6970    461.4282    225.2631        0.8727  316.7350   \n",
       "778   67688  1259.5270    460.9236    200.5296        0.9004  293.5695   \n",
       "585   44791   993.4760    378.3307    156.2171        0.9108  238.8089   \n",
       "322   60173  1543.6820    445.3457    183.6638        0.9110  276.7935   \n",
       "662   58990   953.7090    368.6313    208.9783        0.8238  274.0591   \n",
       "1715  98268  1211.7010    466.6342    269.8694        0.8158  353.7212   \n",
       "2058  77159  1294.0580    426.0540    232.4743        0.8380  313.4356   \n",
       "1431  90638  1165.7321    466.5579    248.9237        0.8458  339.7115   \n",
       "\n",
       "      SOLIDITY  CONVEX_AREA  EXTENT  ASPECT_RATIO  ROUNDNESS  COMPACTNESS  \\\n",
       "101     0.9708        91854  0.7519        2.1856     0.6313       0.6683   \n",
       "1131    0.9727        77438  0.7473        1.8849     0.7819       0.7213   \n",
       "723     0.9625        81864  0.7519        2.0484     0.6688       0.6864   \n",
       "778     0.9242        73239  0.7102        2.2985     0.5362       0.6369   \n",
       "585     0.9451        47391  0.7422        2.4218     0.5703       0.6312   \n",
       "322     0.8804        68345  0.6915        2.4248     0.3173       0.6215   \n",
       "662     0.9761        60432  0.7687        1.7640     0.8150       0.7435   \n",
       "1715    0.9917        99089  0.7342        1.7291     0.8411       0.7580   \n",
       "2058    0.9718        79402  0.7256        1.8327     0.5790       0.7357   \n",
       "1431    0.9889        91658  0.7516        1.8743     0.8382       0.7281   \n",
       "\n",
       "      SHAPEFACTOR_1  SHAPEFACTOR_2  SHAPEFACTOR_3  SHAPEFACTOR_4  \\\n",
       "101          0.0057         0.0026         0.4466         0.9762   \n",
       "1131         0.0057         0.0030         0.5203         0.9806   \n",
       "723          0.0059         0.0029         0.4712         0.9652   \n",
       "778          0.0068         0.0030         0.4057         0.9324   \n",
       "585          0.0084         0.0035         0.3984         0.9649   \n",
       "322          0.0074         0.0031         0.3863         0.9367   \n",
       "662          0.0062         0.0035         0.5527         0.9750   \n",
       "1715         0.0047         0.0027         0.5746         0.9936   \n",
       "2058         0.0055         0.0030         0.5412         0.9919   \n",
       "1431         0.0051         0.0027         0.5302         0.9937   \n",
       "\n",
       "                  Class  \n",
       "101   Kirmizi_Pistachio  \n",
       "1131  Kirmizi_Pistachio  \n",
       "723   Kirmizi_Pistachio  \n",
       "778   Kirmizi_Pistachio  \n",
       "585   Kirmizi_Pistachio  \n",
       "322   Kirmizi_Pistachio  \n",
       "662   Kirmizi_Pistachio  \n",
       "1715     Siit_Pistachio  \n",
       "2058     Siit_Pistachio  \n",
       "1431     Siit_Pistachio  "
      ]
     },
     "execution_count": 3,
     "metadata": {},
     "output_type": "execute_result"
    }
   ],
   "source": [
    "df.sample(10)"
   ]
  },
  {
   "cell_type": "markdown",
   "id": "2f647966",
   "metadata": {},
   "source": [
    "##### c.\n",
    "\n",
    "Produce a list of column names from this `DataFrame` using only `pandas`."
   ]
  },
  {
   "cell_type": "markdown",
   "id": "5d7c1356",
   "metadata": {},
   "source": [
    "##### Sample Solution"
   ]
  },
  {
   "cell_type": "code",
   "execution_count": 4,
   "id": "9acd5fca",
   "metadata": {},
   "outputs": [
    {
     "data": {
      "text/plain": [
       "Index(['AREA', 'PERIMETER', 'MAJOR_AXIS', 'MINOR_AXIS', 'ECCENTRICITY',\n",
       "       'EQDIASQ', 'SOLIDITY', 'CONVEX_AREA', 'EXTENT', 'ASPECT_RATIO',\n",
       "       'ROUNDNESS', 'COMPACTNESS', 'SHAPEFACTOR_1', 'SHAPEFACTOR_2',\n",
       "       'SHAPEFACTOR_3', 'SHAPEFACTOR_4', 'Class'],\n",
       "      dtype='object')"
      ]
     },
     "execution_count": 4,
     "metadata": {},
     "output_type": "execute_result"
    }
   ],
   "source": [
    "df.columns"
   ]
  },
  {
   "cell_type": "markdown",
   "id": "f26cde3b",
   "metadata": {},
   "source": [
    "##### d.\n",
    "\n",
    "How many of each `Class` value is present in this `DataFrame`? What percentage of the `DataFrame` does each value represent?"
   ]
  },
  {
   "cell_type": "markdown",
   "id": "296f4f48",
   "metadata": {},
   "source": [
    "##### Sample Solution"
   ]
  },
  {
   "cell_type": "code",
   "execution_count": 5,
   "id": "26a3d8cf",
   "metadata": {},
   "outputs": [
    {
     "data": {
      "text/plain": [
       "Kirmizi_Pistachio    1232\n",
       "Siit_Pistachio        916\n",
       "Name: Class, dtype: int64"
      ]
     },
     "execution_count": 5,
     "metadata": {},
     "output_type": "execute_result"
    }
   ],
   "source": [
    "df.Class.value_counts()"
   ]
  },
  {
   "cell_type": "code",
   "execution_count": 6,
   "id": "5ad97de7",
   "metadata": {},
   "outputs": [
    {
     "data": {
      "text/plain": [
       "Kirmizi_Pistachio    0.573557\n",
       "Siit_Pistachio       0.426443\n",
       "Name: Class, dtype: float64"
      ]
     },
     "execution_count": 6,
     "metadata": {},
     "output_type": "execute_result"
    }
   ],
   "source": [
    "df.Class.value_counts(normalize=True)"
   ]
  },
  {
   "cell_type": "markdown",
   "id": "9bd41f7a",
   "metadata": {},
   "source": [
    "#### 2. Train test splits for classification\n",
    "\n",
    "##### a.\n",
    "\n",
    "Write a `for` loop to print out a train test split of the following data `test` 20 times. Set a test set size of $20\\%$, do not set a random seed."
   ]
  },
  {
   "cell_type": "code",
   "execution_count": 7,
   "id": "8aaf324e",
   "metadata": {},
   "outputs": [],
   "source": [
    "test = [0,0,0,0,0,0,0,0,0,0,\n",
    "           1,1,0,0,0,0,0,1,1,1]"
   ]
  },
  {
   "cell_type": "markdown",
   "id": "84a797ec",
   "metadata": {},
   "source": [
    "##### Sample Solution"
   ]
  },
  {
   "cell_type": "code",
   "execution_count": 8,
   "id": "a2512eb0",
   "metadata": {},
   "outputs": [],
   "source": [
    "from sklearn.model_selection import train_test_split"
   ]
  },
  {
   "cell_type": "code",
   "execution_count": 9,
   "id": "d9627d2c",
   "metadata": {},
   "outputs": [
    {
     "name": "stdout",
     "output_type": "stream",
     "text": [
      "[[1, 0, 0, 0, 0, 0, 0, 0, 0, 0, 0, 1, 0, 0, 1, 1], [0, 1, 0, 0]]\n",
      "[[0, 0, 0, 1, 0, 0, 0, 1, 1, 0, 1, 0, 0, 1, 0, 0], [0, 0, 0, 0]]\n",
      "[[0, 0, 0, 1, 0, 0, 0, 0, 1, 1, 0, 0, 0, 0, 0, 1], [0, 0, 1, 0]]\n",
      "[[1, 0, 0, 1, 0, 0, 1, 0, 0, 0, 0, 0, 0, 0, 0, 1], [1, 0, 0, 0]]\n",
      "[[0, 0, 0, 0, 1, 0, 0, 0, 1, 0, 0, 1, 1, 0, 1, 0], [0, 0, 0, 0]]\n",
      "[[0, 0, 0, 0, 0, 0, 0, 0, 1, 0, 0, 1, 0, 1, 1, 0], [0, 0, 0, 1]]\n",
      "[[0, 1, 0, 1, 0, 0, 1, 1, 0, 0, 0, 0, 0, 0, 0, 1], [0, 0, 0, 0]]\n",
      "[[1, 0, 1, 0, 0, 1, 0, 0, 1, 0, 0, 0, 0, 0, 0, 1], [0, 0, 0, 0]]\n",
      "[[0, 0, 0, 1, 1, 0, 1, 0, 0, 0, 1, 0, 0, 0, 0, 0], [0, 1, 0, 0]]\n",
      "[[1, 0, 0, 0, 0, 1, 0, 1, 0, 0, 0, 0, 0, 0, 0, 0], [1, 0, 0, 1]]\n",
      "[[0, 0, 0, 0, 0, 0, 0, 1, 0, 0, 0, 1, 0, 0, 1, 0], [0, 1, 0, 1]]\n",
      "[[1, 0, 0, 0, 0, 1, 0, 0, 0, 0, 0, 0, 1, 0, 0, 0], [0, 0, 1, 1]]\n",
      "[[0, 0, 0, 1, 0, 0, 1, 1, 0, 0, 0, 0, 0, 0, 1, 0], [0, 0, 0, 1]]\n",
      "[[1, 0, 0, 0, 0, 0, 1, 0, 0, 0, 1, 0, 0, 1, 1, 0], [0, 0, 0, 0]]\n",
      "[[1, 1, 0, 0, 0, 1, 0, 0, 0, 0, 0, 0, 0, 0, 0, 0], [0, 1, 0, 1]]\n",
      "[[0, 0, 0, 0, 0, 0, 0, 1, 1, 0, 0, 0, 0, 1, 0, 0], [1, 0, 1, 0]]\n",
      "[[0, 1, 0, 1, 0, 0, 0, 0, 1, 1, 0, 0, 0, 1, 0, 0], [0, 0, 0, 0]]\n",
      "[[1, 0, 0, 0, 0, 0, 1, 0, 0, 0, 0, 0, 0, 1, 1, 0], [0, 0, 1, 0]]\n",
      "[[0, 0, 0, 0, 0, 1, 0, 0, 0, 0, 0, 1, 1, 1, 0, 0], [0, 0, 0, 1]]\n",
      "[[0, 0, 0, 0, 0, 0, 1, 1, 0, 0, 0, 1, 0, 0, 0, 0], [1, 0, 0, 1]]\n"
     ]
    }
   ],
   "source": [
    "for i in range(20):\n",
    "    print(train_test_split(test,\n",
    "                              test_size=.2,\n",
    "                              shuffle=True))"
   ]
  },
  {
   "cell_type": "markdown",
   "id": "9fa05fd6",
   "metadata": {},
   "source": [
    "##### b.\n",
    "\n",
    "Did it ever happen that your test set had no `1`s in it?"
   ]
  },
  {
   "cell_type": "markdown",
   "id": "76b8c982",
   "metadata": {},
   "source": [
    "##### Sample Solution"
   ]
  },
  {
   "cell_type": "markdown",
   "id": "2ded7e7b",
   "metadata": {},
   "source": [
    "yes"
   ]
  },
  {
   "cell_type": "markdown",
   "id": "2f2e70a4",
   "metadata": {},
   "source": [
    "##### c.\n",
    "\n",
    "Rerun the loop you ran above, only this time include the argument, `stratify=test`. Are there ever splits where the test set has no `1`s in it this time?"
   ]
  },
  {
   "cell_type": "markdown",
   "id": "a450a4f3",
   "metadata": {},
   "source": [
    "##### Sample Solution"
   ]
  },
  {
   "cell_type": "code",
   "execution_count": 10,
   "id": "2b22566e",
   "metadata": {},
   "outputs": [
    {
     "name": "stdout",
     "output_type": "stream",
     "text": [
      "[[0, 1, 1, 0, 0, 0, 0, 0, 0, 0, 1, 1, 0, 0, 0, 0], [0, 1, 0, 0]]\n",
      "[[0, 0, 1, 0, 0, 0, 0, 1, 0, 0, 0, 0, 1, 1, 0, 0], [0, 1, 0, 0]]\n",
      "[[1, 0, 0, 0, 1, 0, 0, 0, 0, 0, 0, 0, 1, 0, 1, 0], [1, 0, 0, 0]]\n",
      "[[0, 0, 0, 1, 1, 0, 0, 1, 0, 1, 0, 0, 0, 0, 0, 0], [0, 0, 0, 1]]\n",
      "[[0, 1, 1, 0, 0, 0, 1, 0, 0, 0, 0, 0, 0, 0, 1, 0], [0, 1, 0, 0]]\n",
      "[[0, 1, 0, 0, 0, 0, 0, 0, 1, 1, 0, 0, 0, 1, 0, 0], [1, 0, 0, 0]]\n",
      "[[0, 1, 0, 1, 0, 0, 1, 0, 0, 0, 0, 0, 0, 0, 1, 0], [1, 0, 0, 0]]\n",
      "[[0, 0, 1, 0, 0, 0, 0, 0, 0, 1, 1, 1, 0, 0, 0, 0], [1, 0, 0, 0]]\n",
      "[[0, 0, 0, 0, 0, 1, 1, 0, 0, 0, 0, 0, 1, 1, 0, 0], [1, 0, 0, 0]]\n",
      "[[0, 0, 0, 0, 1, 0, 0, 0, 1, 1, 0, 1, 0, 0, 0, 0], [0, 0, 1, 0]]\n",
      "[[0, 1, 1, 0, 1, 0, 0, 1, 0, 0, 0, 0, 0, 0, 0, 0], [0, 1, 0, 0]]\n",
      "[[0, 0, 1, 0, 1, 1, 0, 0, 0, 0, 0, 0, 0, 0, 1, 0], [0, 1, 0, 0]]\n",
      "[[0, 1, 0, 0, 1, 0, 0, 0, 1, 0, 1, 0, 0, 0, 0, 0], [0, 1, 0, 0]]\n",
      "[[0, 0, 0, 0, 1, 0, 0, 0, 0, 1, 0, 0, 0, 0, 1, 1], [0, 0, 0, 1]]\n",
      "[[0, 0, 0, 0, 1, 0, 0, 0, 0, 0, 0, 1, 0, 1, 0, 1], [0, 1, 0, 0]]\n",
      "[[1, 0, 0, 0, 0, 0, 0, 0, 1, 0, 1, 1, 0, 0, 0, 0], [0, 0, 1, 0]]\n",
      "[[1, 0, 0, 0, 0, 0, 1, 0, 1, 0, 1, 0, 0, 0, 0, 0], [0, 1, 0, 0]]\n",
      "[[1, 0, 1, 0, 0, 0, 0, 0, 0, 0, 0, 1, 0, 0, 1, 0], [0, 0, 1, 0]]\n",
      "[[0, 1, 0, 1, 1, 0, 0, 0, 0, 0, 1, 0, 0, 0, 0, 0], [0, 1, 0, 0]]\n",
      "[[0, 1, 0, 1, 0, 1, 0, 0, 0, 0, 0, 0, 0, 1, 0, 0], [0, 0, 1, 0]]\n"
     ]
    }
   ],
   "source": [
    "for i in range(20):\n",
    "    print(train_test_split(test,\n",
    "                              test_size=.2,\n",
    "                              shuffle=True,\n",
    "                              stratify=test))"
   ]
  },
  {
   "cell_type": "markdown",
   "id": "73310240",
   "metadata": {},
   "source": [
    "##### d.\n",
    "\n",
    "Read the documentation for `StratifiedKFold` to see how it is different from regular `KFold`. Run the pistachio data set through a stratified k-fold using the `Class` column as the stratification column.\n",
    "\n",
    "- <a href=\"https://scikit-learn.org/stable/modules/generated/sklearn.model_selection.StratifiedKFold.html\">https://scikit-learn.org/stable/modules/generated/sklearn.model_selection.StratifiedKFold.html</a>\n",
    "- <a href=\"https://scikit-learn.org/stable/modules/generated/sklearn.model_selection.KFold.html\">https://scikit-learn.org/stable/modules/generated/sklearn.model_selection.KFold.html</a>\n",
    "\n"
   ]
  },
  {
   "cell_type": "markdown",
   "id": "d1c56ef4",
   "metadata": {},
   "source": [
    "##### Sample Solution"
   ]
  },
  {
   "cell_type": "code",
   "execution_count": 11,
   "id": "5c2ad113",
   "metadata": {},
   "outputs": [],
   "source": [
    "from sklearn.model_selection import StratifiedKFold"
   ]
  },
  {
   "cell_type": "code",
   "execution_count": 12,
   "id": "481bf6dd",
   "metadata": {},
   "outputs": [
    {
     "name": "stdout",
     "output_type": "stream",
     "text": [
      "Kirmizi_Pistachio    0.573341\n",
      "Siit_Pistachio       0.426659\n",
      "Name: Class, dtype: float64\n",
      "Kirmizi_Pistachio    0.574419\n",
      "Siit_Pistachio       0.425581\n",
      "Name: Class, dtype: float64\n",
      "\n",
      "\n",
      "\n",
      "Kirmizi_Pistachio    0.573341\n",
      "Siit_Pistachio       0.426659\n",
      "Name: Class, dtype: float64\n",
      "Kirmizi_Pistachio    0.574419\n",
      "Siit_Pistachio       0.425581\n",
      "Name: Class, dtype: float64\n",
      "\n",
      "\n",
      "\n",
      "Kirmizi_Pistachio    0.573923\n",
      "Siit_Pistachio       0.426077\n",
      "Name: Class, dtype: float64\n",
      "Kirmizi_Pistachio    0.572093\n",
      "Siit_Pistachio       0.427907\n",
      "Name: Class, dtype: float64\n",
      "\n",
      "\n",
      "\n",
      "Kirmizi_Pistachio    0.573589\n",
      "Siit_Pistachio       0.426411\n",
      "Name: Class, dtype: float64\n",
      "Kirmizi_Pistachio    0.573427\n",
      "Siit_Pistachio       0.426573\n",
      "Name: Class, dtype: float64\n",
      "\n",
      "\n",
      "\n",
      "Kirmizi_Pistachio    0.573589\n",
      "Siit_Pistachio       0.426411\n",
      "Name: Class, dtype: float64\n",
      "Kirmizi_Pistachio    0.573427\n",
      "Siit_Pistachio       0.426573\n",
      "Name: Class, dtype: float64\n",
      "\n",
      "\n",
      "\n"
     ]
    }
   ],
   "source": [
    "kfold = StratifiedKFold(shuffle=True,\n",
    "                           random_state = 2039)\n",
    "\n",
    "for train_index, test_index in kfold.split(df, df['Class']):\n",
    "    print(df.iloc[train_index].Class.value_counts(normalize=True))\n",
    "    print(df.iloc[test_index].Class.value_counts(normalize=True))\n",
    "    print()\n",
    "    print()\n",
    "    print()"
   ]
  },
  {
   "cell_type": "markdown",
   "id": "5c0f19a5",
   "metadata": {},
   "source": [
    "--------------------------\n",
    "\n",
    "This notebook was written for the Erd&#337;s Institute C&#337;de Data Science Boot Camp by Matthew Osborne, Ph. D., 2022.\n",
    "\n",
    "Any potential redistributors must seek and receive permission from Matthew Tyler Osborne, Ph.D. prior to redistribution. Redistribution of the material contained in this repository is conditional on acknowledgement of Matthew Tyler Osborne, Ph.D.'s original authorship and sponsorship of the Erdős Institute as subject to the license (see License.md)"
   ]
  },
  {
   "cell_type": "code",
   "execution_count": null,
   "id": "5358f18d",
   "metadata": {},
   "outputs": [],
   "source": []
  }
 ],
 "metadata": {
  "kernelspec": {
   "display_name": "Python 3 (ipykernel)",
   "language": "python",
   "name": "python3"
  },
  "language_info": {
   "codemirror_mode": {
    "name": "ipython",
    "version": 3
   },
   "file_extension": ".py",
   "mimetype": "text/x-python",
   "name": "python",
   "nbconvert_exporter": "python",
   "pygments_lexer": "ipython3",
   "version": "3.9.9"
  }
 },
 "nbformat": 4,
 "nbformat_minor": 5
}
