{
 "cells": [
  {
   "cell_type": "markdown",
   "id": "e617963e",
   "metadata": {},
   "source": [
    "# Fall Prep Notebook 6\n",
    "## Forecasting The Bachelorette and Pumpkin Spice II\n",
    "\n",
    "This notebook has a few exercises that can serve as a primer for what to expect in the `Fall Problem Session 6` notebook. These exercises will touch upon the basic python, `pandas`, `numpy`, `matplotlib` and some supervised learning basic techniques that you may want a refresher on prior to starting `Fall Problem Session 6`."
   ]
  },
  {
   "cell_type": "code",
   "execution_count": null,
   "id": "478fe57a",
   "metadata": {},
   "outputs": [],
   "source": [
    "import pandas as pd\n",
    "import numpy as np\n",
    "import matplotlib.pyplot as plt\n",
    "from seaborn import set_style\n",
    "from datetime import datetime\n",
    "\n",
    "set_style(\"whitegrid\")"
   ]
  },
  {
   "cell_type": "markdown",
   "id": "185a37ca",
   "metadata": {},
   "source": [
    "#### 1. Loading `pumpkin_spice.csv`\n",
    "\n",
    "Load `pumpkin_spice.csv` using `.read_csv`. When you read in the data pass the `Month` column as an argument to `parse_dates`."
   ]
  },
  {
   "cell_type": "code",
   "execution_count": null,
   "id": "c09bc305",
   "metadata": {},
   "outputs": [],
   "source": []
  },
  {
   "cell_type": "code",
   "execution_count": null,
   "id": "00391a74",
   "metadata": {},
   "outputs": [],
   "source": []
  },
  {
   "cell_type": "markdown",
   "id": "63122409",
   "metadata": {},
   "source": [
    "#### 2. Train test split\n",
    "\n",
    "Make a train test split of the data from <b>1.</b>. Set the test set to be all observations on or after February 1, 2019."
   ]
  },
  {
   "cell_type": "code",
   "execution_count": null,
   "id": "527e5a9d",
   "metadata": {},
   "outputs": [],
   "source": []
  },
  {
   "cell_type": "code",
   "execution_count": null,
   "id": "0ef0cb30",
   "metadata": {},
   "outputs": [],
   "source": []
  },
  {
   "cell_type": "markdown",
   "id": "e99daed1",
   "metadata": {},
   "source": [
    "#### 3. Time series cross-validation\n",
    "\n",
    "Perform 7-fold cross-validation on the training set, use a test set size of 5."
   ]
  },
  {
   "cell_type": "code",
   "execution_count": null,
   "id": "febcdba0",
   "metadata": {},
   "outputs": [],
   "source": []
  },
  {
   "cell_type": "code",
   "execution_count": null,
   "id": "5cdbe490",
   "metadata": {},
   "outputs": [],
   "source": []
  },
  {
   "cell_type": "code",
   "execution_count": null,
   "id": "296f1af3",
   "metadata": {},
   "outputs": [],
   "source": []
  },
  {
   "cell_type": "markdown",
   "id": "d00d26fd",
   "metadata": {},
   "source": [
    "#### 4. Naive model\n",
    "\n",
    "Record the mean squared error of the naive model predicting `interest_level` for each of the cross-validation splits from <b>3.</b>"
   ]
  },
  {
   "cell_type": "code",
   "execution_count": null,
   "id": "7966362f",
   "metadata": {},
   "outputs": [],
   "source": []
  },
  {
   "cell_type": "code",
   "execution_count": null,
   "id": "62b0e6b4",
   "metadata": {},
   "outputs": [],
   "source": []
  },
  {
   "cell_type": "code",
   "execution_count": null,
   "id": "a7066e9d",
   "metadata": {},
   "outputs": [],
   "source": []
  },
  {
   "cell_type": "code",
   "execution_count": null,
   "id": "91fda045",
   "metadata": {},
   "outputs": [],
   "source": []
  },
  {
   "cell_type": "markdown",
   "id": "7325a38d",
   "metadata": {},
   "source": [
    "#### 5. Yet another plot\n",
    "\n",
    "Use the training data to plot the `interest_level` against the `Month` as a solid blue line with each observation marked with a point. Do the same for the training data but with a red dotted line. Finally plot the forecast from the naive model as red \"X\"s. Be sure to label your plot."
   ]
  },
  {
   "cell_type": "code",
   "execution_count": null,
   "id": "dd7aff06",
   "metadata": {},
   "outputs": [],
   "source": []
  },
  {
   "cell_type": "code",
   "execution_count": null,
   "id": "572ea5f1",
   "metadata": {},
   "outputs": [],
   "source": []
  },
  {
   "cell_type": "code",
   "execution_count": null,
   "id": "b8d2906f",
   "metadata": {},
   "outputs": [],
   "source": []
  },
  {
   "cell_type": "markdown",
   "id": "7314a4cb",
   "metadata": {},
   "source": [
    "--------------------------\n",
    "\n",
    "This notebook was written for the Erd&#337;s Institute C&#337;de Data Science Boot Camp by Matthew Osborne, Ph. D., 2022.\n",
    "\n",
    "Any potential redistributors must seek and receive permission from Matthew Tyler Osborne, Ph.D. prior to redistribution. Redistribution of the material contained in this repository is conditional on acknowledgement of Matthew Tyler Osborne, Ph.D.'s original authorship and sponsorship of the Erdős Institute as subject to the license (see License.md)"
   ]
  },
  {
   "cell_type": "code",
   "execution_count": null,
   "id": "5f0e3d09",
   "metadata": {},
   "outputs": [],
   "source": []
  }
 ],
 "metadata": {
  "kernelspec": {
   "display_name": "Python 3 (ipykernel)",
   "language": "python",
   "name": "python3"
  },
  "language_info": {
   "codemirror_mode": {
    "name": "ipython",
    "version": 3
   },
   "file_extension": ".py",
   "mimetype": "text/x-python",
   "name": "python",
   "nbconvert_exporter": "python",
   "pygments_lexer": "ipython3",
   "version": "3.9.9"
  }
 },
 "nbformat": 4,
 "nbformat_minor": 5
}
