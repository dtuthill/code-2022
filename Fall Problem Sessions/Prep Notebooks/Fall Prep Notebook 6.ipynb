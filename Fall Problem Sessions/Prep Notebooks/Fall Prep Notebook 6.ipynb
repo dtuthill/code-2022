{
 "cells": [
  {
   "cell_type": "markdown",
   "id": "e617963e",
   "metadata": {},
   "source": [
    "# Fall Prep Notebook 6\n",
    "## Forecasting The Bachelorette and Pumpkin Spice II\n",
    "\n",
    "This notebook has a few exercises that can serve as a primer for what to expect in the `Fall Problem Session 6` notebook. These exercises will touch upon the basic python, `pandas`, `numpy`, `matplotlib` and some supervised learning basic techniques that you may want a refresher on prior to starting `Fall Problem Session 6`."
   ]
  },
  {
   "cell_type": "code",
   "execution_count": 1,
   "id": "478fe57a",
   "metadata": {},
   "outputs": [],
   "source": [
    "import pandas as pd\n",
    "import numpy as np\n",
    "import matplotlib.pyplot as plt\n",
    "from seaborn import set_style\n",
    "from datetime import datetime\n",
    "\n",
    "set_style(\"whitegrid\")"
   ]
  },
  {
   "cell_type": "markdown",
   "id": "185a37ca",
   "metadata": {},
   "source": [
    "#### 1. Loading `pumpkin_spice.csv`\n",
    "\n",
    "Load `pumpkin_spice.csv` using `.read_csv`. When you read in the data pass the `Month` column as an argument to `parse_dates`."
   ]
  },
  {
   "cell_type": "code",
   "execution_count": 3,
   "id": "c09bc305",
   "metadata": {},
   "outputs": [],
   "source": [
    "pumpkin = pd.read_csv('../../Data/pumpkin_spice.csv',parse_dates=['Month'])"
   ]
  },
  {
   "cell_type": "code",
   "execution_count": 6,
   "id": "a3b44467-1f00-4f31-bd99-e622abce0a6c",
   "metadata": {},
   "outputs": [
    {
     "data": {
      "text/html": [
       "<div>\n",
       "<style scoped>\n",
       "    .dataframe tbody tr th:only-of-type {\n",
       "        vertical-align: middle;\n",
       "    }\n",
       "\n",
       "    .dataframe tbody tr th {\n",
       "        vertical-align: top;\n",
       "    }\n",
       "\n",
       "    .dataframe thead th {\n",
       "        text-align: right;\n",
       "    }\n",
       "</style>\n",
       "<table border=\"1\" class=\"dataframe\">\n",
       "  <thead>\n",
       "    <tr style=\"text-align: right;\">\n",
       "      <th></th>\n",
       "      <th>Month</th>\n",
       "      <th>interest_level</th>\n",
       "    </tr>\n",
       "  </thead>\n",
       "  <tbody>\n",
       "    <tr>\n",
       "      <th>220</th>\n",
       "      <td>2022-05-01</td>\n",
       "      <td>4</td>\n",
       "    </tr>\n",
       "    <tr>\n",
       "      <th>221</th>\n",
       "      <td>2022-06-01</td>\n",
       "      <td>4</td>\n",
       "    </tr>\n",
       "    <tr>\n",
       "      <th>222</th>\n",
       "      <td>2022-07-01</td>\n",
       "      <td>9</td>\n",
       "    </tr>\n",
       "    <tr>\n",
       "      <th>223</th>\n",
       "      <td>2022-08-01</td>\n",
       "      <td>88</td>\n",
       "    </tr>\n",
       "    <tr>\n",
       "      <th>224</th>\n",
       "      <td>2022-09-01</td>\n",
       "      <td>95</td>\n",
       "    </tr>\n",
       "  </tbody>\n",
       "</table>\n",
       "</div>"
      ],
      "text/plain": [
       "         Month  interest_level\n",
       "220 2022-05-01               4\n",
       "221 2022-06-01               4\n",
       "222 2022-07-01               9\n",
       "223 2022-08-01              88\n",
       "224 2022-09-01              95"
      ]
     },
     "execution_count": 6,
     "metadata": {},
     "output_type": "execute_result"
    }
   ],
   "source": [
    "pumpkin.tail()"
   ]
  },
  {
   "cell_type": "code",
   "execution_count": null,
   "id": "00391a74",
   "metadata": {},
   "outputs": [],
   "source": []
  },
  {
   "cell_type": "markdown",
   "id": "63122409",
   "metadata": {},
   "source": [
    "#### 2. Train test split\n",
    "\n",
    "Make a train test split of the data from <b>1.</b>. Set the test set to be all observations on or after February 1, 2019."
   ]
  },
  {
   "cell_type": "code",
   "execution_count": 8,
   "id": "527e5a9d",
   "metadata": {},
   "outputs": [],
   "source": [
    "p_train = pumpkin.loc[pumpkin.Month < datetime(2019,2,1)].copy()\n",
    "p_test = pumpkin.drop(p_train.index)"
   ]
  },
  {
   "cell_type": "code",
   "execution_count": null,
   "id": "0ef0cb30",
   "metadata": {},
   "outputs": [],
   "source": []
  },
  {
   "cell_type": "markdown",
   "id": "e99daed1",
   "metadata": {},
   "source": [
    "#### 3. Time series cross-validation\n",
    "\n",
    "Perform 7-fold cross-validation on the training set, use a test set size of 5."
   ]
  },
  {
   "cell_type": "code",
   "execution_count": 9,
   "id": "febcdba0",
   "metadata": {},
   "outputs": [],
   "source": [
    "from sklearn.model_selection import TimeSeriesSplit"
   ]
  },
  {
   "cell_type": "code",
   "execution_count": 10,
   "id": "5cdbe490",
   "metadata": {},
   "outputs": [],
   "source": [
    "cv = TimeSeriesSplit(7,test_size = 5)"
   ]
  },
  {
   "cell_type": "code",
   "execution_count": null,
   "id": "296f1af3",
   "metadata": {},
   "outputs": [],
   "source": []
  },
  {
   "cell_type": "markdown",
   "id": "d00d26fd",
   "metadata": {},
   "source": [
    "#### 4. Naive model\n",
    "\n",
    "Record the mean squared error of the naive model predicting `interest_level` for each of the cross-validation splits from <b>3.</b>"
   ]
  },
  {
   "cell_type": "code",
   "execution_count": null,
   "id": "7966362f",
   "metadata": {},
   "outputs": [],
   "source": []
  },
  {
   "cell_type": "code",
   "execution_count": null,
   "id": "62b0e6b4",
   "metadata": {},
   "outputs": [],
   "source": []
  },
  {
   "cell_type": "code",
   "execution_count": null,
   "id": "a7066e9d",
   "metadata": {},
   "outputs": [],
   "source": []
  },
  {
   "cell_type": "code",
   "execution_count": null,
   "id": "91fda045",
   "metadata": {},
   "outputs": [],
   "source": []
  },
  {
   "cell_type": "markdown",
   "id": "7325a38d",
   "metadata": {},
   "source": [
    "#### 5. Yet another plot\n",
    "\n",
    "Use the training data to plot the `interest_level` against the `Month` as a solid blue line with each observation marked with a point. Do the same for the training data but with a red dotted line. Finally plot the forecast from the naive model as red \"X\"s. Be sure to label your plot."
   ]
  },
  {
   "cell_type": "code",
   "execution_count": null,
   "id": "dd7aff06",
   "metadata": {},
   "outputs": [],
   "source": []
  },
  {
   "cell_type": "code",
   "execution_count": null,
   "id": "572ea5f1",
   "metadata": {},
   "outputs": [],
   "source": []
  },
  {
   "cell_type": "code",
   "execution_count": null,
   "id": "b8d2906f",
   "metadata": {},
   "outputs": [],
   "source": []
  },
  {
   "cell_type": "markdown",
   "id": "7314a4cb",
   "metadata": {},
   "source": [
    "--------------------------\n",
    "\n",
    "This notebook was written for the Erd&#337;s Institute C&#337;de Data Science Boot Camp by Matthew Osborne, Ph. D., 2022.\n",
    "\n",
    "Any potential redistributors must seek and receive permission from Matthew Tyler Osborne, Ph.D. prior to redistribution. Redistribution of the material contained in this repository is conditional on acknowledgement of Matthew Tyler Osborne, Ph.D.'s original authorship and sponsorship of the Erdős Institute as subject to the license (see License.md)"
   ]
  },
  {
   "cell_type": "code",
   "execution_count": null,
   "id": "5f0e3d09",
   "metadata": {},
   "outputs": [],
   "source": []
  }
 ],
 "metadata": {
  "kernelspec": {
   "display_name": "Python 3 (ipykernel)",
   "language": "python",
   "name": "python3"
  },
  "language_info": {
   "codemirror_mode": {
    "name": "ipython",
    "version": 3
   },
   "file_extension": ".py",
   "mimetype": "text/x-python",
   "name": "python",
   "nbconvert_exporter": "python",
   "pygments_lexer": "ipython3",
   "version": "3.8.13"
  }
 },
 "nbformat": 4,
 "nbformat_minor": 5
}
