{
 "cells": [
  {
   "cell_type": "markdown",
   "id": "046de7ee",
   "metadata": {},
   "source": [
    "# Fall Prep Notebook 10\n",
    "## Classifying Pumpkin Seeds IV\n",
    "\n",
    "This notebook has a few exercises that can serve as a primer for what to expect in the `Fall Problem Session 10` notebook. These exercises will touch upon the basic python, `pandas`, `numpy`, `matplotlib` and some supervised learning basic techniques that you may want a refresher on prior to starting `Fall Problem Session 10`."
   ]
  },
  {
   "cell_type": "code",
   "execution_count": 1,
   "id": "e432251c",
   "metadata": {},
   "outputs": [],
   "source": [
    "import pandas as pd\n",
    "import numpy as np\n",
    "import matplotlib.pyplot as plt\n",
    "import seaborn as sns\n",
    "\n",
    "sns.set_style(\"whitegrid\")"
   ]
  },
  {
   "cell_type": "markdown",
   "id": "c4ddad4f",
   "metadata": {},
   "source": [
    "#### 1. Review fall problem sessions 7, 8 and 9\n",
    "\n",
    "In `Fall Problem Session 10` we will use what you did in `Fall Problem Session 7`, `Fall Problem Session 8` and `Fall Problem Session 9`, review your group's work as well as the complete version."
   ]
  },
  {
   "cell_type": "markdown",
   "id": "01cdc015",
   "metadata": {},
   "source": [
    "#### 2. Import metrics\n",
    "\n",
    "Import the functions you can use to compute the confusion matrix for a classifier, the accuracy, the recall and the precision."
   ]
  },
  {
   "cell_type": "markdown",
   "id": "41ab78a0",
   "metadata": {},
   "source": [
    "##### Sample Solution"
   ]
  },
  {
   "cell_type": "code",
   "execution_count": 2,
   "id": "5548b9e0",
   "metadata": {},
   "outputs": [],
   "source": [
    "from sklearn.metrics import confusion_matrix, accuracy_score, recall_score, precision_score"
   ]
  },
  {
   "cell_type": "markdown",
   "id": "6556e99c",
   "metadata": {},
   "source": [
    "#### 3. Validation split\n",
    "\n",
    "Make a validation split for the data below."
   ]
  },
  {
   "cell_type": "code",
   "execution_count": 3,
   "id": "265f08fb",
   "metadata": {},
   "outputs": [],
   "source": [
    "df = pd.read_excel(\"../../Data/Pistachio_16_Features_Dataset.xlsx\")\n",
    "df['y'] = 1\n",
    "df.loc[df.Class==\"Siit_Pistachio\", 'y'] = 0"
   ]
  },
  {
   "cell_type": "code",
   "execution_count": 4,
   "id": "15763073",
   "metadata": {},
   "outputs": [],
   "source": [
    "from sklearn.model_selection import train_test_split"
   ]
  },
  {
   "cell_type": "code",
   "execution_count": 5,
   "id": "2587775a",
   "metadata": {},
   "outputs": [],
   "source": [
    "train, test = train_test_split(df.copy(),\n",
    "                                  shuffle=True,\n",
    "                                  random_state=4039,\n",
    "                                  test_size=.1,\n",
    "                                  stratify=df.Class)"
   ]
  },
  {
   "cell_type": "markdown",
   "id": "1a5b658b",
   "metadata": {},
   "source": [
    "##### Sample Solution"
   ]
  },
  {
   "cell_type": "code",
   "execution_count": 6,
   "id": "b642b958",
   "metadata": {},
   "outputs": [],
   "source": [
    "tt, val = train_test_split(train.copy(),\n",
    "                                  shuffle=True,\n",
    "                                  random_state=4039,\n",
    "                                  test_size=.1,\n",
    "                                  stratify=train.Class)"
   ]
  },
  {
   "cell_type": "markdown",
   "id": "067e6665",
   "metadata": {},
   "source": [
    "#### 3. Importing model\n",
    "\n",
    "Import:\n",
    "- `PCA`\n",
    "- Every classification model we learned in the `Classification` lectures\n",
    "- The voting model for classification\n",
    "- The random forest model for classification\n",
    "- The adaptive boosting model for classification"
   ]
  },
  {
   "cell_type": "markdown",
   "id": "91da0865",
   "metadata": {},
   "source": [
    "##### Sample Solution"
   ]
  },
  {
   "cell_type": "code",
   "execution_count": 7,
   "id": "776929af",
   "metadata": {},
   "outputs": [],
   "source": [
    "### PCA ###\n",
    "from sklearn.decomposition import PCA\n",
    "\n",
    "### Classifiers ###\n",
    "# knn\n",
    "from sklearn.neighbors import KNeighborsClassifier\n",
    "# Log Reg\n",
    "from sklearn.linear_model import LogisticRegression\n",
    "# bayes based\n",
    "from sklearn.discriminant_analysis import LinearDiscriminantAnalysis, QuadraticDiscriminantAnalysis\n",
    "from sklearn.naive_bayes import GaussianNB\n",
    "# svm\n",
    "from sklearn.svm import LinearSVC, SVC\n",
    "# tree\n",
    "from sklearn.tree import DecisionTreeClassifier\n",
    "\n",
    "### Ensemble stuff ###\n",
    "from sklearn.ensemble import RandomForestClassifier, VotingClassifier, AdaBoostClassifier"
   ]
  },
  {
   "cell_type": "markdown",
   "id": "8107768f",
   "metadata": {},
   "source": [
    "#### 3. $k$NN Classifier\n",
    "\n",
    "##### a.\n",
    "\n",
    "Build a $k$ nearest neighbor classifer with $k=15$ on the training portion of the validation split you made in <b>2.</b>, using the columns stored in `features` as the features and the column `y` as the target variable."
   ]
  },
  {
   "cell_type": "code",
   "execution_count": 8,
   "id": "024f027c",
   "metadata": {},
   "outputs": [],
   "source": [
    "features = df.columns[:-2]"
   ]
  },
  {
   "cell_type": "markdown",
   "id": "326a2154",
   "metadata": {},
   "source": [
    "##### Sample Solution"
   ]
  },
  {
   "cell_type": "code",
   "execution_count": 9,
   "id": "5f946295",
   "metadata": {},
   "outputs": [
    {
     "data": {
      "text/plain": [
       "KNeighborsClassifier(n_neighbors=15)"
      ]
     },
     "execution_count": 9,
     "metadata": {},
     "output_type": "execute_result"
    }
   ],
   "source": [
    "knn = KNeighborsClassifier(15)\n",
    "\n",
    "knn.fit(tt[features], tt.y)"
   ]
  },
  {
   "cell_type": "markdown",
   "id": "5c59fe31",
   "metadata": {},
   "source": [
    "##### b.\n",
    "\n",
    "Get the accuracy on the training portion of the validation split."
   ]
  },
  {
   "cell_type": "markdown",
   "id": "2927a800",
   "metadata": {},
   "source": [
    "##### Sample Solution"
   ]
  },
  {
   "cell_type": "code",
   "execution_count": 10,
   "id": "c1c9788a",
   "metadata": {},
   "outputs": [
    {
     "data": {
      "text/plain": [
       "0.7987349051178838"
      ]
     },
     "execution_count": 10,
     "metadata": {},
     "output_type": "execute_result"
    }
   ],
   "source": [
    "accuracy_score(tt.y, knn.predict(tt[features]))"
   ]
  },
  {
   "cell_type": "markdown",
   "id": "19cf5bb4",
   "metadata": {},
   "source": [
    "##### c.\n",
    "\n",
    "Get the accuracy score on the validation portion of the validation split."
   ]
  },
  {
   "cell_type": "markdown",
   "id": "32d8881f",
   "metadata": {},
   "source": [
    "##### Sample Solution"
   ]
  },
  {
   "cell_type": "code",
   "execution_count": 11,
   "id": "c3d4d482",
   "metadata": {},
   "outputs": [
    {
     "data": {
      "text/plain": [
       "0.7783505154639175"
      ]
     },
     "execution_count": 11,
     "metadata": {},
     "output_type": "execute_result"
    }
   ],
   "source": [
    "accuracy_score(val.y, knn.predict(val[features]))"
   ]
  },
  {
   "cell_type": "markdown",
   "id": "b3483d97",
   "metadata": {},
   "source": [
    "--------------------------\n",
    "\n",
    "This notebook was written for the Erd&#337;s Institute C&#337;de Data Science Boot Camp by Matthew Osborne, Ph. D., 2022.\n",
    "\n",
    "Any potential redistributors must seek and receive permission from Matthew Tyler Osborne, Ph.D. prior to redistribution. Redistribution of the material contained in this repository is conditional on acknowledgement of Matthew Tyler Osborne, Ph.D.'s original authorship and sponsorship of the Erdős Institute as subject to the license (see License.md)"
   ]
  },
  {
   "cell_type": "code",
   "execution_count": null,
   "id": "188405c7",
   "metadata": {},
   "outputs": [],
   "source": []
  }
 ],
 "metadata": {
  "kernelspec": {
   "display_name": "Python 3 (ipykernel)",
   "language": "python",
   "name": "python3"
  },
  "language_info": {
   "codemirror_mode": {
    "name": "ipython",
    "version": 3
   },
   "file_extension": ".py",
   "mimetype": "text/x-python",
   "name": "python",
   "nbconvert_exporter": "python",
   "pygments_lexer": "ipython3",
   "version": "3.9.12"
  }
 },
 "nbformat": 4,
 "nbformat_minor": 5
}
