{
 "cells": [
  {
   "cell_type": "markdown",
   "id": "fc8c6b5a",
   "metadata": {},
   "source": [
    "# Prep Notebook 5\n",
    "## Forecasting The Bachelorette and Pumpkin Spice I\n",
    "\n",
    "This notebook has a few exercises that can serve as a primer for what to expect in the `Fall Problem Session 5` notebook. These exercises will touch upon the basic python, `pandas`, `numpy`, `matplotlib` and some supervised learning basic techniques that you may want a refresher on prior to starting `Fall Problem Session 5`."
   ]
  },
  {
   "cell_type": "code",
   "execution_count": null,
   "id": "5f042e6b",
   "metadata": {},
   "outputs": [],
   "source": [
    "import pandas as pd\n",
    "import numpy as np\n",
    "import matplotlib.pyplot as plt\n",
    "from seaborn import set_style\n",
    "\n",
    "set_style(\"whitegrid\")"
   ]
  },
  {
   "cell_type": "markdown",
   "id": "31e56aed",
   "metadata": {},
   "source": [
    "#### 1. `.loc`, `.iloc`, `.copy()` and `.drop`\n",
    "\n",
    "Load the data stored in `GOOG.csv` in the `Data` folder into a variable called `google`.\n",
    "\n",
    "- Use `parse_dates` when loading the data or `to_datetime` to make the `Date` a `datetime`,\n",
    "- Look at the last five observations,\n",
    "- Store the last 10 observations in a new variable, call it `goog_test`,\n",
    "- Using `.drop` store every other observation in a new variable called `goog_train`."
   ]
  },
  {
   "cell_type": "code",
   "execution_count": null,
   "id": "22825d84",
   "metadata": {},
   "outputs": [],
   "source": []
  },
  {
   "cell_type": "code",
   "execution_count": null,
   "id": "88019503",
   "metadata": {},
   "outputs": [],
   "source": []
  },
  {
   "cell_type": "code",
   "execution_count": null,
   "id": "897f84e6",
   "metadata": {},
   "outputs": [],
   "source": []
  },
  {
   "cell_type": "code",
   "execution_count": null,
   "id": "ebde5a5a",
   "metadata": {},
   "outputs": [],
   "source": []
  },
  {
   "cell_type": "code",
   "execution_count": null,
   "id": "9f5d3b83",
   "metadata": {},
   "outputs": [],
   "source": []
  },
  {
   "cell_type": "markdown",
   "id": "59c13a7e",
   "metadata": {},
   "source": [
    "#### 2. More plots\n",
    "\n",
    "Using the training set plot the first 150 observations of the:\n",
    "- `Close` column as a solid black line and\n",
    "- `High` and `Low` columns as dotted black lines."
   ]
  },
  {
   "cell_type": "code",
   "execution_count": null,
   "id": "c772f563",
   "metadata": {},
   "outputs": [],
   "source": []
  },
  {
   "cell_type": "code",
   "execution_count": null,
   "id": "bb82079b",
   "metadata": {},
   "outputs": [],
   "source": []
  },
  {
   "cell_type": "markdown",
   "id": "f19033ec",
   "metadata": {},
   "source": [
    "#### 3. `.mean()`\n",
    "\n",
    "Using `pandas` find the average value of `Volume` for the training set."
   ]
  },
  {
   "cell_type": "code",
   "execution_count": null,
   "id": "b213db18",
   "metadata": {},
   "outputs": [],
   "source": []
  },
  {
   "cell_type": "markdown",
   "id": "e2a89b16",
   "metadata": {},
   "source": [
    "#### 4. `.corr()` for lag\n",
    "\n",
    "The value of a time series at <i>lag</i> $k$ is the value you observe $k$ days after the current day. It is sometimes useful to look at the correlation between a time series and the lagged time series.\n",
    "\n",
    "Using `pandas` `.corr`, <a href=\"https://pandas.pydata.org/docs/reference/api/pandas.DataFrame.corr.html\">https://pandas.pydata.org/docs/reference/api/pandas.DataFrame.corr.html</a>, find the correlation between the closing price and the closing price at a lag of 10."
   ]
  },
  {
   "cell_type": "code",
   "execution_count": null,
   "id": "337504ad",
   "metadata": {},
   "outputs": [],
   "source": []
  },
  {
   "cell_type": "code",
   "execution_count": null,
   "id": "410cb93b",
   "metadata": {},
   "outputs": [],
   "source": []
  },
  {
   "cell_type": "code",
   "execution_count": null,
   "id": "176d3c10",
   "metadata": {},
   "outputs": [],
   "source": []
  },
  {
   "cell_type": "markdown",
   "id": "8811e748",
   "metadata": {},
   "source": [
    "#### 5. A trend model\n",
    "\n",
    "Use `LinearRegression` to fit a model regressing the close against the trading day using the training set. Note you will want your trading days to start counting at 1. Plot the fitted model over the training data."
   ]
  },
  {
   "cell_type": "code",
   "execution_count": null,
   "id": "26633eff",
   "metadata": {},
   "outputs": [],
   "source": []
  },
  {
   "cell_type": "code",
   "execution_count": null,
   "id": "bfbe480c",
   "metadata": {},
   "outputs": [],
   "source": []
  },
  {
   "cell_type": "code",
   "execution_count": null,
   "id": "6f16df81",
   "metadata": {},
   "outputs": [],
   "source": []
  },
  {
   "cell_type": "code",
   "execution_count": null,
   "id": "aafb5935",
   "metadata": {},
   "outputs": [],
   "source": []
  },
  {
   "cell_type": "code",
   "execution_count": null,
   "id": "5422e5b8",
   "metadata": {},
   "outputs": [],
   "source": []
  },
  {
   "cell_type": "markdown",
   "id": "3306f359",
   "metadata": {},
   "source": [
    "#### 6. MSE\n",
    "\n",
    "Find the training mean squared error of the model you just fit."
   ]
  },
  {
   "cell_type": "code",
   "execution_count": null,
   "id": "8fa2130a",
   "metadata": {},
   "outputs": [],
   "source": []
  },
  {
   "cell_type": "code",
   "execution_count": null,
   "id": "486b3098",
   "metadata": {},
   "outputs": [],
   "source": []
  },
  {
   "cell_type": "code",
   "execution_count": null,
   "id": "f259378b",
   "metadata": {},
   "outputs": [],
   "source": []
  },
  {
   "cell_type": "code",
   "execution_count": null,
   "id": "153a04e6",
   "metadata": {},
   "outputs": [],
   "source": []
  },
  {
   "cell_type": "markdown",
   "id": "07b7f656",
   "metadata": {},
   "source": [
    "#### 7. `.apply`\n",
    "\n",
    "Below is a function called `get_year` that will extract the year from a `datetime`.\n",
    "\n",
    "Using `.apply`, <a href=\"https://pandas.pydata.org/docs/reference/api/pandas.DataFrame.apply.html\">https://pandas.pydata.org/docs/reference/api/pandas.DataFrame.apply.html</a>, get the year for all of the dates in the training set."
   ]
  },
  {
   "cell_type": "code",
   "execution_count": null,
   "id": "c94b6524",
   "metadata": {},
   "outputs": [],
   "source": [
    "def get_year(date):\n",
    "    return date.year"
   ]
  },
  {
   "cell_type": "code",
   "execution_count": null,
   "id": "ea1a0a23",
   "metadata": {},
   "outputs": [],
   "source": []
  },
  {
   "cell_type": "code",
   "execution_count": null,
   "id": "33b59069",
   "metadata": {},
   "outputs": [],
   "source": []
  },
  {
   "cell_type": "code",
   "execution_count": null,
   "id": "93dda16b",
   "metadata": {},
   "outputs": [],
   "source": []
  },
  {
   "cell_type": "markdown",
   "id": "c76b77b7",
   "metadata": {},
   "source": [
    "--------------------------\n",
    "\n",
    "This notebook was written for the Erd&#337;s Institute C&#337;de Data Science Boot Camp by Matthew Osborne, Ph. D., 2022.\n",
    "\n",
    "Any potential redistributors must seek and receive permission from Matthew Tyler Osborne, Ph.D. prior to redistribution. Redistribution of the material contained in this repository is conditional on acknowledgement of Matthew Tyler Osborne, Ph.D.'s original authorship and sponsorship of the Erdős Institute as subject to the license (see License.md)"
   ]
  },
  {
   "cell_type": "code",
   "execution_count": null,
   "id": "796afc01",
   "metadata": {},
   "outputs": [],
   "source": []
  }
 ],
 "metadata": {
  "kernelspec": {
   "display_name": "Python 3 (ipykernel)",
   "language": "python",
   "name": "python3"
  },
  "language_info": {
   "codemirror_mode": {
    "name": "ipython",
    "version": 3
   },
   "file_extension": ".py",
   "mimetype": "text/x-python",
   "name": "python",
   "nbconvert_exporter": "python",
   "pygments_lexer": "ipython3",
   "version": "3.9.9"
  }
 },
 "nbformat": 4,
 "nbformat_minor": 5
}
