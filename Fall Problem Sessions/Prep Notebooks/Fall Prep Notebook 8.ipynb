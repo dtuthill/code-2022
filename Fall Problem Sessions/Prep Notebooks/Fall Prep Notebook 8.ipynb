{
 "cells": [
  {
   "cell_type": "markdown",
   "id": "f06b34af",
   "metadata": {},
   "source": [
    "# Fall Prep Notebook 8\n",
    "## Classifying Pumpkin Seeds II\n",
    "\n",
    "This notebook has a few exercises that can serve as a primer for what to expect in the `Fall Problem Session 8` notebook. These exercises will touch upon the basic python, `pandas`, `numpy`, `matplotlib` and some supervised learning basic techniques that you may want a refresher on prior to starting `Fall Problem Session 8`."
   ]
  },
  {
   "cell_type": "code",
   "execution_count": null,
   "id": "e7aebf41",
   "metadata": {},
   "outputs": [],
   "source": [
    "import pandas as pd\n",
    "import numpy as np\n",
    "import matplotlib.pyplot as plt\n",
    "import seaborn as sns\n",
    "\n",
    "sns.set_style(\"whitegrid\")"
   ]
  },
  {
   "cell_type": "markdown",
   "id": "abcc633b",
   "metadata": {},
   "source": [
    "#### 1. Review problem session 7\n",
    "\n",
    "In `Fall Problem Session 8` we will use what you did in `Fall Problem Session 7`, review your group's work as well as the complete version."
   ]
  },
  {
   "cell_type": "markdown",
   "id": "6be2cc37",
   "metadata": {},
   "source": [
    "#### 2. Reading in an excel file\n",
    "\n",
    "- Read in `Pistachio_16_Features_Dataset.xlsx` from the `Data` folder using `pandas`. \n",
    "- Make a column `y` where `y=1` when `Class=\"Kirmizi_Pistachio\"` and `y=0` when `Class=\"Siit_Pistachio\"`\n",
    "- Do a train test split of the data setting $10\\%$ of the data aside for the test set and stratifying on the `Class` column."
   ]
  },
  {
   "cell_type": "code",
   "execution_count": null,
   "id": "623d8426",
   "metadata": {},
   "outputs": [],
   "source": []
  },
  {
   "cell_type": "code",
   "execution_count": null,
   "id": "e5785d8c",
   "metadata": {},
   "outputs": [],
   "source": []
  },
  {
   "cell_type": "code",
   "execution_count": null,
   "id": "f8b9ace7",
   "metadata": {},
   "outputs": [],
   "source": []
  },
  {
   "cell_type": "code",
   "execution_count": null,
   "id": "8946aeac",
   "metadata": {},
   "outputs": [],
   "source": []
  },
  {
   "cell_type": "code",
   "execution_count": null,
   "id": "bb4c1bde",
   "metadata": {},
   "outputs": [],
   "source": []
  },
  {
   "cell_type": "markdown",
   "id": "31d664b7",
   "metadata": {},
   "source": [
    "#### 3. Scaling\n",
    "\n",
    "Scale the features of the training set using `StandardScaler`."
   ]
  },
  {
   "cell_type": "code",
   "execution_count": null,
   "id": "2f608321",
   "metadata": {},
   "outputs": [],
   "source": []
  },
  {
   "cell_type": "code",
   "execution_count": null,
   "id": "5921b64f",
   "metadata": {},
   "outputs": [],
   "source": []
  },
  {
   "cell_type": "code",
   "execution_count": null,
   "id": "abb12b0c",
   "metadata": {},
   "outputs": [],
   "source": []
  },
  {
   "cell_type": "code",
   "execution_count": null,
   "id": "428fc0fc",
   "metadata": {},
   "outputs": [],
   "source": []
  },
  {
   "cell_type": "markdown",
   "id": "dc986f95",
   "metadata": {},
   "source": [
    "#### 4. Making a pipeline\n",
    "\n",
    "Make a pipeline that scales the data and then fits a $k$ nearest neighbor model on the data with $k=17$. Fit this model and calculate the training accuracy."
   ]
  },
  {
   "cell_type": "code",
   "execution_count": null,
   "id": "207974b2",
   "metadata": {},
   "outputs": [],
   "source": []
  },
  {
   "cell_type": "code",
   "execution_count": null,
   "id": "e5420b76",
   "metadata": {},
   "outputs": [],
   "source": []
  },
  {
   "cell_type": "code",
   "execution_count": null,
   "id": "7d9d8a11",
   "metadata": {},
   "outputs": [],
   "source": []
  },
  {
   "cell_type": "markdown",
   "id": "c1e96234",
   "metadata": {},
   "source": [
    "#### 5. Another histogram\n",
    "\n",
    "Make a histogram of the `ECCENTRICITY` column colored by the class of the pistachio.\n",
    "\n",
    "<a href=\"https://matplotlib.org/stable/api/_as_gen/matplotlib.pyplot.hist.html\">https://matplotlib.org/stable/api/_as_gen/matplotlib.pyplot.hist.html</a>"
   ]
  },
  {
   "cell_type": "code",
   "execution_count": null,
   "id": "7042ed76",
   "metadata": {},
   "outputs": [],
   "source": []
  },
  {
   "cell_type": "code",
   "execution_count": null,
   "id": "38188c80",
   "metadata": {},
   "outputs": [],
   "source": []
  },
  {
   "cell_type": "markdown",
   "id": "8a1204d0",
   "metadata": {},
   "source": [
    "--------------------------\n",
    "\n",
    "This notebook was written for the Erd&#337;s Institute C&#337;de Data Science Boot Camp by Matthew Osborne, Ph. D., 2022.\n",
    "\n",
    "Any potential redistributors must seek and receive permission from Matthew Tyler Osborne, Ph.D. prior to redistribution. Redistribution of the material contained in this repository is conditional on acknowledgement of Matthew Tyler Osborne, Ph.D.'s original authorship and sponsorship of the Erdős Institute as subject to the license (see License.md)"
   ]
  },
  {
   "cell_type": "code",
   "execution_count": null,
   "id": "35d81631",
   "metadata": {},
   "outputs": [],
   "source": []
  }
 ],
 "metadata": {
  "kernelspec": {
   "display_name": "Python 3 (ipykernel)",
   "language": "python",
   "name": "python3"
  },
  "language_info": {
   "codemirror_mode": {
    "name": "ipython",
    "version": 3
   },
   "file_extension": ".py",
   "mimetype": "text/x-python",
   "name": "python",
   "nbconvert_exporter": "python",
   "pygments_lexer": "ipython3",
   "version": "3.9.9"
  }
 },
 "nbformat": 4,
 "nbformat_minor": 5
}
