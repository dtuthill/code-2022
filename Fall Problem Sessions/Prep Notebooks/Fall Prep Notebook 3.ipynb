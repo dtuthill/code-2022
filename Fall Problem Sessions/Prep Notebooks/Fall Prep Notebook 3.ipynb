{
 "cells": [
  {
   "cell_type": "markdown",
   "id": "75cfed8b",
   "metadata": {},
   "source": [
    "# Fall Prep Notebook 3\n",
    "## More Regression Work\n",
    "\n",
    "This notebook has a few exercises that can serve as a primer for what to expect in the `Fall Problem Session 3` notebook. These exercises will touch upon the basic python, `pandas`, `numpy`, `matplotlib` and some supervised learning basic techniques that you may want a refresher on prior to starting `Fall Problem Session 3`."
   ]
  },
  {
   "cell_type": "markdown",
   "id": "9dfe702f",
   "metadata": {},
   "source": [
    "#### 1. Reading a .csv file\n",
    "\n",
    "Read in the `carseats.csv` file using `pandas`. Store it in a variable named `carseats`."
   ]
  },
  {
   "cell_type": "code",
   "execution_count": null,
   "id": "b0568046",
   "metadata": {},
   "outputs": [],
   "source": []
  },
  {
   "cell_type": "code",
   "execution_count": null,
   "id": "98faa0cf",
   "metadata": {},
   "outputs": [],
   "source": []
  },
  {
   "cell_type": "code",
   "execution_count": null,
   "id": "e8c98266",
   "metadata": {},
   "outputs": [],
   "source": []
  },
  {
   "cell_type": "markdown",
   "id": "fa5e294a",
   "metadata": {},
   "source": [
    "#### 2. Descriptive statistics\n",
    "\n",
    "##### a.\n",
    "\n",
    "Find the mean and median of `Sales`."
   ]
  },
  {
   "cell_type": "code",
   "execution_count": null,
   "id": "936b3f55",
   "metadata": {},
   "outputs": [],
   "source": []
  },
  {
   "cell_type": "code",
   "execution_count": null,
   "id": "3b050ae2",
   "metadata": {},
   "outputs": [],
   "source": []
  },
  {
   "cell_type": "markdown",
   "id": "56a93d3f",
   "metadata": {},
   "source": [
    "##### b.\n",
    "\n",
    "Use `groupby`, <a href=\"https://pandas.pydata.org/docs/reference/api/pandas.DataFrame.groupby.html\">https://pandas.pydata.org/docs/reference/api/pandas.DataFrame.groupby.html</a>, to find the mean and median value of `Sales` for each possible value of `ShelveLoc`."
   ]
  },
  {
   "cell_type": "code",
   "execution_count": null,
   "id": "bd8ccf76",
   "metadata": {},
   "outputs": [],
   "source": []
  },
  {
   "cell_type": "code",
   "execution_count": null,
   "id": "ea5b3814",
   "metadata": {},
   "outputs": [],
   "source": []
  },
  {
   "cell_type": "markdown",
   "id": "05bc4941",
   "metadata": {},
   "source": [
    "#### 3. Box-and-whisker plots\n",
    "\n",
    "A box-and-whisker plot is one way in which you can display some aspects of the empirical distribution for a given variable. In the diagram below you can see the features of a box-and-whisker plot.\n",
    "\n",
    "<img src=\"boxplot.png\" width=\"27%\"></img>\n",
    "\n",
    "The \"box\" of the plot displays the <i>interquartile range</i> (IQR) by placing the 25th percentile at the base and the 75th percentile at the top. The median line is drawn inside the box. The \"whiskers\" of the plot extend from the box and typically extend to the maximum and minimum values of the variable. <i>Note: that this is not always standard and each piece of software handles the whiskers differently.</i>\n",
    "\n",
    "##### a. \n",
    "\n",
    "Use `seaborn`'s `boxplot` function to visualize the empirical distribution of `Sales`.\n",
    "\n",
    "<a href=\"https://seaborn.pydata.org/generated/seaborn.boxplot.html\">https://seaborn.pydata.org/generated/seaborn.boxplot.html</a>."
   ]
  },
  {
   "cell_type": "code",
   "execution_count": null,
   "id": "3084bb1f",
   "metadata": {},
   "outputs": [],
   "source": []
  },
  {
   "cell_type": "code",
   "execution_count": null,
   "id": "c0d67bf5",
   "metadata": {},
   "outputs": [],
   "source": []
  },
  {
   "cell_type": "markdown",
   "id": "60d9c3df",
   "metadata": {},
   "source": [
    "##### b.\n",
    "\n",
    "Now use `boxplot` to plot the box-and-whisker plot of `Sales` by value of `ShelveLoc`."
   ]
  },
  {
   "cell_type": "code",
   "execution_count": null,
   "id": "80bfa064",
   "metadata": {},
   "outputs": [],
   "source": []
  },
  {
   "cell_type": "markdown",
   "id": "886a4122",
   "metadata": {},
   "source": [
    "##### c.\n",
    "\n",
    "Figure out how to use the `order` argument to `boxplot` to arrange the `ShelveLoc` box-and-whisker plots in the order of increasing quality."
   ]
  },
  {
   "cell_type": "code",
   "execution_count": null,
   "id": "d50e4864",
   "metadata": {},
   "outputs": [],
   "source": []
  },
  {
   "cell_type": "markdown",
   "id": "8c507a57",
   "metadata": {},
   "source": [
    "#### 4. Train test split\n",
    "\n",
    "Make a train test split of `carseats`. Set aside 73% of the data as a training set."
   ]
  },
  {
   "cell_type": "code",
   "execution_count": null,
   "id": "6d9022a4",
   "metadata": {},
   "outputs": [],
   "source": []
  },
  {
   "cell_type": "code",
   "execution_count": null,
   "id": "5c5f1c47",
   "metadata": {},
   "outputs": [],
   "source": []
  },
  {
   "cell_type": "markdown",
   "id": "c7c10eb3",
   "metadata": {},
   "source": [
    "#### 5. Cross-validation\n",
    "\n",
    "Print out the training and holdout indices for a 7-fold cross-validation of `carseats_train`."
   ]
  },
  {
   "cell_type": "code",
   "execution_count": null,
   "id": "47751b64",
   "metadata": {},
   "outputs": [],
   "source": []
  },
  {
   "cell_type": "code",
   "execution_count": null,
   "id": "2be9c8fc",
   "metadata": {},
   "outputs": [],
   "source": []
  },
  {
   "cell_type": "markdown",
   "id": "4344ff8b",
   "metadata": {},
   "source": [
    "--------------------------\n",
    "\n",
    "This notebook was written for the Erd&#337;s Institute C&#337;de Data Science Boot Camp by Matthew Osborne, Ph. D., 2022.\n",
    "\n",
    "Any potential redistributors must seek and receive permission from Matthew Tyler Osborne, Ph.D. prior to redistribution. Redistribution of the material contained in this repository is conditional on acknowledgement of Matthew Tyler Osborne, Ph.D.'s original authorship and sponsorship of the Erdős Institute as subject to the license (see License.md)"
   ]
  },
  {
   "cell_type": "code",
   "execution_count": null,
   "id": "41a96b58",
   "metadata": {},
   "outputs": [],
   "source": []
  }
 ],
 "metadata": {
  "kernelspec": {
   "display_name": "Python 3 (ipykernel)",
   "language": "python",
   "name": "python3"
  },
  "language_info": {
   "codemirror_mode": {
    "name": "ipython",
    "version": 3
   },
   "file_extension": ".py",
   "mimetype": "text/x-python",
   "name": "python",
   "nbconvert_exporter": "python",
   "pygments_lexer": "ipython3",
   "version": "3.9.9"
  }
 },
 "nbformat": 4,
 "nbformat_minor": 5
}
