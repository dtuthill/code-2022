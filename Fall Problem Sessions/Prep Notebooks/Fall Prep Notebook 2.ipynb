{
 "cells": [
  {
   "cell_type": "markdown",
   "id": "4733b29c",
   "metadata": {},
   "source": [
    "# Fall Prep Notebook 2\n",
    "## Intro to Supervised Learning & Simple Linear Regression\n",
    "\n",
    "This notebook has a few exercises that can serve as a primer for what to expect in the `Fall Problem Session 2` notebook. These exercises will only touch upon the basic python, `pandas`, `numpy` and `matplotlib` that you may want a refresher on prior to starting `Fall Problem Session 2`."
   ]
  },
  {
   "cell_type": "markdown",
   "id": "21ad3ffc",
   "metadata": {},
   "source": [
    "#### 1. Reading a .csv file\n",
    "\n",
    "Read in the `carseats.csv` file using `pandas`. Store it in a variable named `carseats`.\n",
    "\n",
    "<i>Note: `carseats.csv` is stored in the `Data` folder of the repository.</i>"
   ]
  },
  {
   "cell_type": "code",
   "execution_count": null,
   "id": "df8b8451",
   "metadata": {},
   "outputs": [],
   "source": []
  },
  {
   "cell_type": "code",
   "execution_count": null,
   "id": "9e0fff8d",
   "metadata": {},
   "outputs": [],
   "source": []
  },
  {
   "cell_type": "markdown",
   "id": "51afd9a2",
   "metadata": {},
   "source": [
    "#### 2. Exploring\n",
    "\n",
    "- How many observations are in `carseats`?\n",
    "- What are the columns of `carseats` called?\n",
    "- Display the first five rows of `carseats`.\n",
    "- What are the mean values of `Age` and `Education`?"
   ]
  },
  {
   "cell_type": "code",
   "execution_count": null,
   "id": "7d2f29b0",
   "metadata": {},
   "outputs": [],
   "source": []
  },
  {
   "cell_type": "code",
   "execution_count": null,
   "id": "48c60ab6",
   "metadata": {},
   "outputs": [],
   "source": []
  },
  {
   "cell_type": "code",
   "execution_count": null,
   "id": "219300d3",
   "metadata": {},
   "outputs": [],
   "source": []
  },
  {
   "cell_type": "code",
   "execution_count": null,
   "id": "42e95409",
   "metadata": {},
   "outputs": [],
   "source": []
  },
  {
   "cell_type": "markdown",
   "id": "5a66f96b",
   "metadata": {},
   "source": [
    "#### 3. `.info`\n",
    "\n",
    "Use `pandas` `.info()` function to check if `carseats` has any missing values, <a href=\"https://pandas.pydata.org/pandas-docs/stable/reference/api/pandas.DataFrame.info.html\">https://pandas.pydata.org/pandas-docs/stable/reference/api/pandas.DataFrame.info.html</a>."
   ]
  },
  {
   "cell_type": "code",
   "execution_count": null,
   "id": "9c8389c2",
   "metadata": {},
   "outputs": [],
   "source": []
  },
  {
   "cell_type": "code",
   "execution_count": null,
   "id": "da2c81d4",
   "metadata": {},
   "outputs": [],
   "source": []
  },
  {
   "cell_type": "markdown",
   "id": "7b1bc24c",
   "metadata": {},
   "source": [
    "#### 4. Scatter and line plots.\n",
    "\n",
    "- Make a scatter plot of `Sales` against `Price`. \n",
    "- Plot a horizontal line at the average value of `Sales` that runs from the minimum value of `Price` - $10$ to the maximum value of `Price` + $10$, make this line red and dotted."
   ]
  },
  {
   "cell_type": "code",
   "execution_count": null,
   "id": "ef8f8a2d",
   "metadata": {},
   "outputs": [],
   "source": []
  },
  {
   "cell_type": "code",
   "execution_count": null,
   "id": "d16ba268",
   "metadata": {},
   "outputs": [],
   "source": []
  },
  {
   "cell_type": "code",
   "execution_count": null,
   "id": "9386237b",
   "metadata": {},
   "outputs": [],
   "source": []
  },
  {
   "cell_type": "markdown",
   "id": "eacbb663",
   "metadata": {},
   "source": [
    "#### 5. `for` loop\n",
    "\n",
    "Write a `for` loop that prints out the `Sales` and `Price` for each row of `carseats`."
   ]
  },
  {
   "cell_type": "code",
   "execution_count": null,
   "id": "91ca7211",
   "metadata": {},
   "outputs": [],
   "source": []
  },
  {
   "cell_type": "code",
   "execution_count": null,
   "id": "03985386",
   "metadata": {},
   "outputs": [],
   "source": []
  },
  {
   "cell_type": "markdown",
   "id": "ddbfc70b",
   "metadata": {},
   "source": [
    "#### 6. `.apply`\n",
    "\n",
    "Learn how to use `.apply` to apply the function `multiply_by_two` to the `Price` column of `carseats`.\n",
    "\n",
    "<a href=\"https://pandas.pydata.org/pandas-docs/stable/reference/api/pandas.DataFrame.apply.html\">https://pandas.pydata.org/pandas-docs/stable/reference/api/pandas.DataFrame.apply.html</a>"
   ]
  },
  {
   "cell_type": "code",
   "execution_count": null,
   "id": "9af8763a",
   "metadata": {},
   "outputs": [],
   "source": [
    "def multiply_by_two(x):\n",
    "    return 2*x"
   ]
  },
  {
   "cell_type": "code",
   "execution_count": null,
   "id": "63d20f69",
   "metadata": {},
   "outputs": [],
   "source": []
  },
  {
   "cell_type": "code",
   "execution_count": null,
   "id": "6e43e9a8",
   "metadata": {},
   "outputs": [],
   "source": []
  },
  {
   "cell_type": "code",
   "execution_count": null,
   "id": "d9083eb1",
   "metadata": {},
   "outputs": [],
   "source": []
  },
  {
   "cell_type": "markdown",
   "id": "c523410d",
   "metadata": {},
   "source": [
    "--------------------------\n",
    "\n",
    "This notebook was written for the Erd&#337;s Institute C&#337;de Data Science Boot Camp by Matthew Osborne, Ph. D., 2022.\n",
    "\n",
    "Any potential redistributors must seek and receive permission from Matthew Tyler Osborne, Ph.D. prior to redistribution. Redistribution of the material contained in this repository is conditional on acknowledgement of Matthew Tyler Osborne, Ph.D.'s original authorship and sponsorship of the Erdős Institute as subject to the license (see License.md)"
   ]
  },
  {
   "cell_type": "code",
   "execution_count": null,
   "id": "ee19191b",
   "metadata": {},
   "outputs": [],
   "source": []
  }
 ],
 "metadata": {
  "kernelspec": {
   "display_name": "Python 3 (ipykernel)",
   "language": "python",
   "name": "python3"
  },
  "language_info": {
   "codemirror_mode": {
    "name": "ipython",
    "version": 3
   },
   "file_extension": ".py",
   "mimetype": "text/x-python",
   "name": "python",
   "nbconvert_exporter": "python",
   "pygments_lexer": "ipython3",
   "version": "3.8.13"
  }
 },
 "nbformat": 4,
 "nbformat_minor": 5
}
