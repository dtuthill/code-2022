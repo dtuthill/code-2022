{
 "cells": [
  {
   "cell_type": "markdown",
   "id": "0be06bcf",
   "metadata": {},
   "source": [
    "# Fall Prep Notebook 1\n",
    "## Data Collection\n",
    "\n",
    "This notebook has a few exercises that can serve as a primer for what to expect in the `Fall Problem Session 1` notebook. These exercises will only touch upon the basic python, `pandas`, `numpy` and `matplotlib` that you may want a refresher on prior to starting `Fall Problem Session 1`."
   ]
  },
  {
   "cell_type": "markdown",
   "id": "5c4b24cb",
   "metadata": {},
   "source": [
    "#### 1. `for` loops\n",
    "\n",
    "Write a `for` loop that prints out every multiple of $11$ between $56$ and $203$"
   ]
  },
  {
   "cell_type": "code",
   "execution_count": null,
   "id": "3e5fa42a",
   "metadata": {},
   "outputs": [],
   "source": []
  },
  {
   "cell_type": "code",
   "execution_count": null,
   "id": "7963024f",
   "metadata": {},
   "outputs": [],
   "source": []
  },
  {
   "cell_type": "markdown",
   "id": "b577cbb1",
   "metadata": {},
   "source": [
    "#### 2. List comprehensions I\n",
    "\n",
    "Write a list comprehension that stores every multiple of $11$ between $56$ to $203$"
   ]
  },
  {
   "cell_type": "code",
   "execution_count": null,
   "id": "587decf6",
   "metadata": {},
   "outputs": [],
   "source": []
  },
  {
   "cell_type": "code",
   "execution_count": null,
   "id": "0516a0a4",
   "metadata": {},
   "outputs": [],
   "source": []
  },
  {
   "cell_type": "markdown",
   "id": "4e1f80f7",
   "metadata": {},
   "source": [
    "##### 3. List comprehensions II\n",
    "\n",
    "Write list comprehensions that returns only the vowels for the strings stored in `string_1` and `string_2`."
   ]
  },
  {
   "cell_type": "code",
   "execution_count": 3,
   "id": "de187cc2",
   "metadata": {},
   "outputs": [],
   "source": [
    "string_1 = \"B is for balloon. A source of litter.\"\n",
    "string_2 = \"Y is for yellow. The color of a cartoon sun.\""
   ]
  },
  {
   "cell_type": "code",
   "execution_count": null,
   "id": "4ac255a8",
   "metadata": {},
   "outputs": [],
   "source": []
  },
  {
   "cell_type": "code",
   "execution_count": null,
   "id": "dab74f35",
   "metadata": {},
   "outputs": [],
   "source": []
  },
  {
   "cell_type": "code",
   "execution_count": null,
   "id": "2a8d3eaa",
   "metadata": {},
   "outputs": [],
   "source": []
  },
  {
   "cell_type": "markdown",
   "id": "ef6e66e6",
   "metadata": {},
   "source": [
    "#### 4. Find the mode of a `DataFrame` column.\n",
    "\n",
    "Using `pandas` functionality find the most frequent value in the `color` column of the `DataFrame` `df`."
   ]
  },
  {
   "cell_type": "code",
   "execution_count": 7,
   "id": "ecebf2a7",
   "metadata": {},
   "outputs": [],
   "source": [
    "import pandas as pd"
   ]
  },
  {
   "cell_type": "code",
   "execution_count": 10,
   "id": "1b5515a7",
   "metadata": {},
   "outputs": [],
   "source": [
    "df = pd.DataFrame({'color':['red', 'red', 'red', 'dodgerblue', 'black', 'black'],\n",
    "                      'markersize':[50, 70, 120, 210, 40, 110],\n",
    "                      'x':[0, 1, 2, 3, 2, 3],\n",
    "                      'y':[-4, -2, 0, 2, 4, 6]})"
   ]
  },
  {
   "cell_type": "code",
   "execution_count": null,
   "id": "cf715396",
   "metadata": {},
   "outputs": [],
   "source": []
  },
  {
   "cell_type": "code",
   "execution_count": null,
   "id": "de397590",
   "metadata": {},
   "outputs": [],
   "source": []
  },
  {
   "cell_type": "code",
   "execution_count": null,
   "id": "4a051920",
   "metadata": {},
   "outputs": [],
   "source": []
  },
  {
   "cell_type": "markdown",
   "id": "86921d2d",
   "metadata": {},
   "source": [
    "##### 5. Sort a `DataFrame`\n",
    "\n",
    "Display the `DataFrame` `df` by `markersize` in desending order."
   ]
  },
  {
   "cell_type": "code",
   "execution_count": null,
   "id": "f08d739d",
   "metadata": {},
   "outputs": [],
   "source": []
  },
  {
   "cell_type": "code",
   "execution_count": null,
   "id": "16678a48",
   "metadata": {},
   "outputs": [],
   "source": []
  },
  {
   "cell_type": "code",
   "execution_count": null,
   "id": "5938ea92",
   "metadata": {},
   "outputs": [],
   "source": []
  },
  {
   "cell_type": "markdown",
   "id": "6a9faac9",
   "metadata": {},
   "source": [
    "--------------------------\n",
    "\n",
    "This notebook was written for the Erd&#337;s Institute C&#337;de Data Science Boot Camp by Matthew Osborne, Ph. D., 2022.\n",
    "\n",
    "Any potential redistributors must seek and receive permission from Matthew Tyler Osborne, Ph.D. prior to redistribution. Redistribution of the material contained in this repository is conditional on acknowledgement of Matthew Tyler Osborne, Ph.D.'s original authorship and sponsorship of the Erdős Institute as subject to the license (see License.md)"
   ]
  },
  {
   "cell_type": "code",
   "execution_count": null,
   "id": "11b416d2",
   "metadata": {},
   "outputs": [],
   "source": []
  }
 ],
 "metadata": {
  "kernelspec": {
   "display_name": "Python 3 (ipykernel)",
   "language": "python",
   "name": "python3"
  },
  "language_info": {
   "codemirror_mode": {
    "name": "ipython",
    "version": 3
   },
   "file_extension": ".py",
   "mimetype": "text/x-python",
   "name": "python",
   "nbconvert_exporter": "python",
   "pygments_lexer": "ipython3",
   "version": "3.9.9"
  }
 },
 "nbformat": 4,
 "nbformat_minor": 5
}
