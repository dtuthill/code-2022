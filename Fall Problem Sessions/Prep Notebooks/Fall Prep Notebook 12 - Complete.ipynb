{
 "cells": [
  {
   "cell_type": "markdown",
   "id": "f021866a",
   "metadata": {},
   "source": [
    "# Fall Prep Notebook 12\n",
    "## CIFAR-10 II\n",
    "\n",
    "This notebook has a few exercises that can serve as a primer for what to expect in the `Fall Problem Session 12` notebook. These exercises will touch upon the basic python, `pandas`, `numpy`, `matplotlib` and some supervised learning basic techniques that you may want a refresher on prior to starting `Fall Problem Session 12`."
   ]
  },
  {
   "cell_type": "code",
   "execution_count": 1,
   "id": "8507440f",
   "metadata": {},
   "outputs": [],
   "source": [
    "import pandas as pd\n",
    "import numpy as np\n",
    "import matplotlib.pyplot as plt\n",
    "import seaborn as sns\n",
    "\n",
    "sns.set_style(\"whitegrid\")"
   ]
  },
  {
   "cell_type": "markdown",
   "id": "8ece16ac",
   "metadata": {},
   "source": [
    "#### 1. Loading data from `keras`\n",
    "\n",
    "Load the MNIST of fashion data from `keras.datasets`, <a href=\"https://keras.io/api/datasets/fashion_mnist/\">https://keras.io/api/datasets/fashion_mnist/</a>"
   ]
  },
  {
   "cell_type": "markdown",
   "id": "5a179eed",
   "metadata": {},
   "source": [
    "##### Sample Solution"
   ]
  },
  {
   "cell_type": "code",
   "execution_count": 2,
   "id": "db442733",
   "metadata": {},
   "outputs": [],
   "source": [
    "from keras.datasets import fashion_mnist"
   ]
  },
  {
   "cell_type": "code",
   "execution_count": 3,
   "id": "77e9c816",
   "metadata": {},
   "outputs": [],
   "source": [
    "(X_train, y_train), (X_test, y_test) = fashion_mnist.load_data()"
   ]
  },
  {
   "cell_type": "markdown",
   "id": "7c966108",
   "metadata": {},
   "source": [
    "#### 2. Preparing data\n",
    "\n",
    "##### a.\n",
    "\n",
    "Scale the training and test sets so that the maximum pixel value goes to $1$ instead of $255$ and the minimum pixel values stays at $0$."
   ]
  },
  {
   "cell_type": "markdown",
   "id": "b6638e51",
   "metadata": {},
   "source": [
    "##### Sample Solution"
   ]
  },
  {
   "cell_type": "code",
   "execution_count": 4,
   "id": "bb72ba9d",
   "metadata": {},
   "outputs": [],
   "source": [
    "X_train = X_train/255\n",
    "X_test = X_test/255"
   ]
  },
  {
   "cell_type": "markdown",
   "id": "073cc62d",
   "metadata": {},
   "source": [
    "##### b.\n",
    "\n",
    "Reshape the data so it could be used to train a feed forward neural network."
   ]
  },
  {
   "cell_type": "markdown",
   "id": "ae25947f",
   "metadata": {},
   "source": [
    "##### Sample Solution"
   ]
  },
  {
   "cell_type": "code",
   "execution_count": 5,
   "id": "914ff4e4",
   "metadata": {},
   "outputs": [],
   "source": [
    "X_train_r = X_train.reshape(X_train.shape[0], -1)\n",
    "X_test_r = X_test.reshape(X_test.shape[0], -1)"
   ]
  },
  {
   "cell_type": "markdown",
   "id": "4cdc3ee3",
   "metadata": {},
   "source": [
    "##### c.\n",
    "\n",
    "Make a validation split."
   ]
  },
  {
   "cell_type": "markdown",
   "id": "6c4a50a6",
   "metadata": {},
   "source": [
    "##### Sample Solution"
   ]
  },
  {
   "cell_type": "code",
   "execution_count": 6,
   "id": "319fc060",
   "metadata": {},
   "outputs": [],
   "source": [
    "from sklearn.model_selection import train_test_split"
   ]
  },
  {
   "cell_type": "code",
   "execution_count": 7,
   "id": "cf7e8862",
   "metadata": {},
   "outputs": [],
   "source": [
    "X_tt, X_val, y_tt, y_val = train_test_split(X_train_r, y_train,\n",
    "                                               shuffle = True,\n",
    "                                               random_state = 394,\n",
    "                                               stratify = y_train)"
   ]
  },
  {
   "cell_type": "markdown",
   "id": "fe414c36",
   "metadata": {},
   "source": [
    "#### 3. Building a feed forward network\n",
    "\n",
    "##### a.\n",
    "\n",
    "Import everything you need from `keras` in order to build a neural network for these data."
   ]
  },
  {
   "cell_type": "markdown",
   "id": "2c587f9e",
   "metadata": {},
   "source": [
    "##### Sample Solution"
   ]
  },
  {
   "cell_type": "code",
   "execution_count": 8,
   "id": "b6b51e9e",
   "metadata": {},
   "outputs": [],
   "source": [
    "from keras import models\n",
    "from keras import layers\n",
    "from keras import optimizers\n",
    "from keras import losses\n",
    "from keras import metrics\n",
    "from keras.utils.np_utils import to_categorical"
   ]
  },
  {
   "cell_type": "markdown",
   "id": "2844ac6e",
   "metadata": {},
   "source": [
    "##### b.\n",
    "\n",
    "Build a feed forward network with a single hidden layer that is $50$ nodes deep. Call it `model1` and store the training history in `history1`. Train the model for 50 epochs."
   ]
  },
  {
   "cell_type": "markdown",
   "id": "7ea0a4e7",
   "metadata": {},
   "source": [
    "##### Sample Solution"
   ]
  },
  {
   "cell_type": "code",
   "execution_count": 9,
   "id": "bffaebc1",
   "metadata": {
    "scrolled": true
   },
   "outputs": [
    {
     "name": "stdout",
     "output_type": "stream",
     "text": [
      "Epoch 1/50\n",
      "42/88 [=============>................] - ETA: 0s - loss: 1.1417 - accuracy: 0.6380 "
     ]
    },
    {
     "name": "stderr",
     "output_type": "stream",
     "text": [
      "2022-09-19 16:23:31.211945: I tensorflow/compiler/mlir/mlir_graph_optimization_pass.cc:185] None of the MLIR Optimization Passes are enabled (registered 2)\n",
      "2022-09-19 16:23:31.212096: W tensorflow/core/platform/profile_utils/cpu_utils.cc:128] Failed to get CPU frequency: 0 Hz\n"
     ]
    },
    {
     "name": "stdout",
     "output_type": "stream",
     "text": [
      "88/88 [==============================] - 0s 2ms/step - loss: 0.9029 - accuracy: 0.7068 - val_loss: 0.6387 - val_accuracy: 0.7766\n",
      "Epoch 2/50\n",
      "88/88 [==============================] - 0s 2ms/step - loss: 0.5753 - accuracy: 0.8030 - val_loss: 0.5375 - val_accuracy: 0.8173\n",
      "Epoch 3/50\n",
      "88/88 [==============================] - 0s 2ms/step - loss: 0.5149 - accuracy: 0.8218 - val_loss: 0.5868 - val_accuracy: 0.7837\n",
      "Epoch 4/50\n",
      "88/88 [==============================] - 0s 2ms/step - loss: 0.4787 - accuracy: 0.8335 - val_loss: 0.4535 - val_accuracy: 0.8437\n",
      "Epoch 5/50\n",
      "88/88 [==============================] - 0s 2ms/step - loss: 0.4509 - accuracy: 0.8434 - val_loss: 0.4432 - val_accuracy: 0.8463\n",
      "Epoch 6/50\n",
      "88/88 [==============================] - 0s 2ms/step - loss: 0.4336 - accuracy: 0.8481 - val_loss: 0.4445 - val_accuracy: 0.8457\n",
      "Epoch 7/50\n",
      "88/88 [==============================] - 0s 2ms/step - loss: 0.4196 - accuracy: 0.8528 - val_loss: 0.4277 - val_accuracy: 0.8516\n",
      "Epoch 8/50\n",
      "88/88 [==============================] - 0s 2ms/step - loss: 0.4084 - accuracy: 0.8574 - val_loss: 0.4115 - val_accuracy: 0.8524\n",
      "Epoch 9/50\n",
      "88/88 [==============================] - 0s 2ms/step - loss: 0.3950 - accuracy: 0.8601 - val_loss: 0.4420 - val_accuracy: 0.8375\n",
      "Epoch 10/50\n",
      "88/88 [==============================] - 0s 2ms/step - loss: 0.3878 - accuracy: 0.8626 - val_loss: 0.4081 - val_accuracy: 0.8593\n",
      "Epoch 11/50\n",
      "88/88 [==============================] - 0s 2ms/step - loss: 0.3802 - accuracy: 0.8646 - val_loss: 0.4049 - val_accuracy: 0.8550\n",
      "Epoch 12/50\n",
      "88/88 [==============================] - 0s 2ms/step - loss: 0.3739 - accuracy: 0.8666 - val_loss: 0.3783 - val_accuracy: 0.8693\n",
      "Epoch 13/50\n",
      "88/88 [==============================] - 0s 2ms/step - loss: 0.3636 - accuracy: 0.8690 - val_loss: 0.4091 - val_accuracy: 0.8547\n",
      "Epoch 14/50\n",
      "88/88 [==============================] - 0s 2ms/step - loss: 0.3595 - accuracy: 0.8715 - val_loss: 0.4125 - val_accuracy: 0.8535\n",
      "Epoch 15/50\n",
      "88/88 [==============================] - 0s 2ms/step - loss: 0.3523 - accuracy: 0.8728 - val_loss: 0.3673 - val_accuracy: 0.8692\n",
      "Epoch 16/50\n",
      "88/88 [==============================] - 0s 2ms/step - loss: 0.3464 - accuracy: 0.8747 - val_loss: 0.3749 - val_accuracy: 0.8670\n",
      "Epoch 17/50\n",
      "88/88 [==============================] - 0s 2ms/step - loss: 0.3428 - accuracy: 0.8771 - val_loss: 0.3600 - val_accuracy: 0.8737\n",
      "Epoch 18/50\n",
      "88/88 [==============================] - 0s 2ms/step - loss: 0.3369 - accuracy: 0.8787 - val_loss: 0.3548 - val_accuracy: 0.8739\n",
      "Epoch 19/50\n",
      "88/88 [==============================] - 0s 2ms/step - loss: 0.3322 - accuracy: 0.8804 - val_loss: 0.3539 - val_accuracy: 0.8751\n",
      "Epoch 20/50\n",
      "88/88 [==============================] - 0s 2ms/step - loss: 0.3289 - accuracy: 0.8799 - val_loss: 0.3634 - val_accuracy: 0.8699\n",
      "Epoch 21/50\n",
      "88/88 [==============================] - 0s 2ms/step - loss: 0.3218 - accuracy: 0.8840 - val_loss: 0.4148 - val_accuracy: 0.8579\n",
      "Epoch 22/50\n",
      "88/88 [==============================] - 0s 2ms/step - loss: 0.3193 - accuracy: 0.8852 - val_loss: 0.3535 - val_accuracy: 0.8753\n",
      "Epoch 23/50\n",
      "88/88 [==============================] - 0s 2ms/step - loss: 0.3157 - accuracy: 0.8863 - val_loss: 0.3561 - val_accuracy: 0.8753\n",
      "Epoch 24/50\n",
      "88/88 [==============================] - 0s 2ms/step - loss: 0.3102 - accuracy: 0.8877 - val_loss: 0.3732 - val_accuracy: 0.8632\n",
      "Epoch 25/50\n",
      "88/88 [==============================] - 0s 2ms/step - loss: 0.3080 - accuracy: 0.8888 - val_loss: 0.3650 - val_accuracy: 0.8731\n",
      "Epoch 26/50\n",
      "88/88 [==============================] - 0s 2ms/step - loss: 0.3038 - accuracy: 0.8893 - val_loss: 0.3498 - val_accuracy: 0.8769\n",
      "Epoch 27/50\n",
      "88/88 [==============================] - 0s 2ms/step - loss: 0.3015 - accuracy: 0.8912 - val_loss: 0.3451 - val_accuracy: 0.8767\n",
      "Epoch 28/50\n",
      "88/88 [==============================] - 0s 2ms/step - loss: 0.2978 - accuracy: 0.8922 - val_loss: 0.3430 - val_accuracy: 0.8791\n",
      "Epoch 29/50\n",
      "88/88 [==============================] - 0s 2ms/step - loss: 0.2947 - accuracy: 0.8926 - val_loss: 0.3534 - val_accuracy: 0.8765\n",
      "Epoch 30/50\n",
      "88/88 [==============================] - 0s 2ms/step - loss: 0.2929 - accuracy: 0.8948 - val_loss: 0.3537 - val_accuracy: 0.8720\n",
      "Epoch 31/50\n",
      "88/88 [==============================] - 0s 2ms/step - loss: 0.2898 - accuracy: 0.8938 - val_loss: 0.3545 - val_accuracy: 0.8741\n",
      "Epoch 32/50\n",
      "88/88 [==============================] - 0s 2ms/step - loss: 0.2876 - accuracy: 0.8961 - val_loss: 0.3448 - val_accuracy: 0.8775\n",
      "Epoch 33/50\n",
      "88/88 [==============================] - 0s 2ms/step - loss: 0.2837 - accuracy: 0.8964 - val_loss: 0.3458 - val_accuracy: 0.8770\n",
      "Epoch 34/50\n",
      "88/88 [==============================] - 0s 2ms/step - loss: 0.2805 - accuracy: 0.8987 - val_loss: 0.3386 - val_accuracy: 0.8821\n",
      "Epoch 35/50\n",
      "88/88 [==============================] - 0s 2ms/step - loss: 0.2790 - accuracy: 0.8978 - val_loss: 0.3449 - val_accuracy: 0.8793\n",
      "Epoch 36/50\n",
      "88/88 [==============================] - 0s 2ms/step - loss: 0.2767 - accuracy: 0.8984 - val_loss: 0.3557 - val_accuracy: 0.8776\n",
      "Epoch 37/50\n",
      "88/88 [==============================] - 0s 2ms/step - loss: 0.2732 - accuracy: 0.9003 - val_loss: 0.3484 - val_accuracy: 0.8773\n",
      "Epoch 38/50\n",
      "88/88 [==============================] - 0s 2ms/step - loss: 0.2706 - accuracy: 0.9023 - val_loss: 0.3356 - val_accuracy: 0.8806\n",
      "Epoch 39/50\n",
      "88/88 [==============================] - 0s 2ms/step - loss: 0.2684 - accuracy: 0.9022 - val_loss: 0.3432 - val_accuracy: 0.8775\n",
      "Epoch 40/50\n",
      "88/88 [==============================] - 0s 2ms/step - loss: 0.2663 - accuracy: 0.9034 - val_loss: 0.3504 - val_accuracy: 0.8763\n",
      "Epoch 41/50\n",
      "88/88 [==============================] - 0s 2ms/step - loss: 0.2656 - accuracy: 0.9037 - val_loss: 0.3278 - val_accuracy: 0.8851\n",
      "Epoch 42/50\n",
      "88/88 [==============================] - 0s 2ms/step - loss: 0.2622 - accuracy: 0.9038 - val_loss: 0.3281 - val_accuracy: 0.8862\n",
      "Epoch 43/50\n",
      "88/88 [==============================] - 0s 2ms/step - loss: 0.2590 - accuracy: 0.9055 - val_loss: 0.3367 - val_accuracy: 0.8827\n",
      "Epoch 44/50\n",
      "88/88 [==============================] - 0s 2ms/step - loss: 0.2592 - accuracy: 0.9057 - val_loss: 0.3423 - val_accuracy: 0.8798\n",
      "Epoch 45/50\n",
      "88/88 [==============================] - 0s 2ms/step - loss: 0.2562 - accuracy: 0.9065 - val_loss: 0.3339 - val_accuracy: 0.8813\n",
      "Epoch 46/50\n",
      "88/88 [==============================] - 0s 2ms/step - loss: 0.2547 - accuracy: 0.9070 - val_loss: 0.3347 - val_accuracy: 0.8851\n",
      "Epoch 47/50\n",
      "88/88 [==============================] - 0s 2ms/step - loss: 0.2520 - accuracy: 0.9083 - val_loss: 0.3544 - val_accuracy: 0.8763\n",
      "Epoch 48/50\n",
      "88/88 [==============================] - 0s 2ms/step - loss: 0.2501 - accuracy: 0.9088 - val_loss: 0.3337 - val_accuracy: 0.8809\n",
      "Epoch 49/50\n",
      "88/88 [==============================] - 0s 2ms/step - loss: 0.2494 - accuracy: 0.9093 - val_loss: 0.3605 - val_accuracy: 0.8779\n",
      "Epoch 50/50\n",
      "88/88 [==============================] - 0s 2ms/step - loss: 0.2490 - accuracy: 0.9086 - val_loss: 0.3522 - val_accuracy: 0.8784\n"
     ]
    }
   ],
   "source": [
    "model1 = models.Sequential()\n",
    "\n",
    "model1.add(layers.Dense(50, activation='relu', input_shape=(X_tt.shape[1],)))\n",
    "\n",
    "model1.add(layers.Dense(10, activation='softmax'))\n",
    "\n",
    "model1.compile(optimizer = 'rmsprop',\n",
    "                 loss = 'categorical_crossentropy',\n",
    "                 metrics = ['accuracy'])\n",
    "\n",
    "n_epochs = 50\n",
    "history1 = model1.fit(X_tt, \n",
    "                      to_categorical(y_tt), \n",
    "                      epochs=n_epochs, \n",
    "                      batch_size=512,\n",
    "                      validation_data=(X_val,to_categorical(y_val)))"
   ]
  },
  {
   "cell_type": "markdown",
   "id": "498c6966",
   "metadata": {},
   "source": [
    "##### c.\n",
    "\n",
    "Now build a second feed forward network with three layers of $10$ nodes each. Train it for the same number of epochs. Store the model in `model2` and store the history from the fit into `history2`."
   ]
  },
  {
   "cell_type": "markdown",
   "id": "1e358c3b",
   "metadata": {},
   "source": [
    "##### Sample Solution"
   ]
  },
  {
   "cell_type": "code",
   "execution_count": 10,
   "id": "f967c9fd",
   "metadata": {
    "scrolled": true
   },
   "outputs": [
    {
     "name": "stdout",
     "output_type": "stream",
     "text": [
      "Epoch 1/50\n",
      "88/88 [==============================] - 0s 2ms/step - loss: 1.7193 - accuracy: 0.3583 - val_loss: 1.2495 - val_accuracy: 0.5147\n",
      "Epoch 2/50\n",
      "88/88 [==============================] - 0s 1ms/step - loss: 1.0010 - accuracy: 0.6316 - val_loss: 0.8377 - val_accuracy: 0.7144\n",
      "Epoch 3/50\n",
      "88/88 [==============================] - 0s 1ms/step - loss: 0.7567 - accuracy: 0.7425 - val_loss: 0.7211 - val_accuracy: 0.7453\n",
      "Epoch 4/50\n",
      "88/88 [==============================] - 0s 1ms/step - loss: 0.6630 - accuracy: 0.7694 - val_loss: 0.6540 - val_accuracy: 0.7632\n",
      "Epoch 5/50\n",
      "88/88 [==============================] - 0s 1ms/step - loss: 0.6091 - accuracy: 0.7888 - val_loss: 0.5905 - val_accuracy: 0.7914\n",
      "Epoch 6/50\n",
      "88/88 [==============================] - 0s 1ms/step - loss: 0.5712 - accuracy: 0.8030 - val_loss: 0.5621 - val_accuracy: 0.8036\n",
      "Epoch 7/50\n",
      "88/88 [==============================] - 0s 1ms/step - loss: 0.5437 - accuracy: 0.8121 - val_loss: 0.5532 - val_accuracy: 0.7992\n",
      "Epoch 8/50\n",
      "88/88 [==============================] - 0s 1ms/step - loss: 0.5256 - accuracy: 0.8201 - val_loss: 0.5274 - val_accuracy: 0.8114\n",
      "Epoch 9/50\n",
      "88/88 [==============================] - 0s 1ms/step - loss: 0.5121 - accuracy: 0.8242 - val_loss: 0.5160 - val_accuracy: 0.8222\n",
      "Epoch 10/50\n",
      "88/88 [==============================] - 0s 1ms/step - loss: 0.4997 - accuracy: 0.8267 - val_loss: 0.5101 - val_accuracy: 0.8175\n",
      "Epoch 11/50\n",
      "88/88 [==============================] - 0s 1ms/step - loss: 0.4896 - accuracy: 0.8305 - val_loss: 0.5031 - val_accuracy: 0.8191\n",
      "Epoch 12/50\n",
      "88/88 [==============================] - 0s 1ms/step - loss: 0.4796 - accuracy: 0.8344 - val_loss: 0.5137 - val_accuracy: 0.8127\n",
      "Epoch 13/50\n",
      "88/88 [==============================] - 0s 1ms/step - loss: 0.4741 - accuracy: 0.8367 - val_loss: 0.4777 - val_accuracy: 0.8283\n",
      "Epoch 14/50\n",
      "88/88 [==============================] - 0s 1ms/step - loss: 0.4666 - accuracy: 0.8393 - val_loss: 0.4752 - val_accuracy: 0.8313\n",
      "Epoch 15/50\n",
      "88/88 [==============================] - 0s 1ms/step - loss: 0.4590 - accuracy: 0.8407 - val_loss: 0.4871 - val_accuracy: 0.8225\n",
      "Epoch 16/50\n",
      "88/88 [==============================] - 0s 1ms/step - loss: 0.4550 - accuracy: 0.8416 - val_loss: 0.4672 - val_accuracy: 0.8371\n",
      "Epoch 17/50\n",
      "88/88 [==============================] - 0s 1ms/step - loss: 0.4493 - accuracy: 0.8437 - val_loss: 0.4591 - val_accuracy: 0.8366\n",
      "Epoch 18/50\n",
      "88/88 [==============================] - 0s 1ms/step - loss: 0.4451 - accuracy: 0.8449 - val_loss: 0.4746 - val_accuracy: 0.8281\n",
      "Epoch 19/50\n",
      "88/88 [==============================] - 0s 1ms/step - loss: 0.4417 - accuracy: 0.8458 - val_loss: 0.4595 - val_accuracy: 0.8363\n",
      "Epoch 20/50\n",
      "88/88 [==============================] - 0s 1ms/step - loss: 0.4360 - accuracy: 0.8486 - val_loss: 0.4589 - val_accuracy: 0.8379\n",
      "Epoch 21/50\n",
      "88/88 [==============================] - 0s 1ms/step - loss: 0.4319 - accuracy: 0.8492 - val_loss: 0.4479 - val_accuracy: 0.8396\n",
      "Epoch 22/50\n",
      "88/88 [==============================] - 0s 1ms/step - loss: 0.4289 - accuracy: 0.8507 - val_loss: 0.4620 - val_accuracy: 0.8315\n",
      "Epoch 23/50\n",
      "88/88 [==============================] - 0s 1ms/step - loss: 0.4256 - accuracy: 0.8517 - val_loss: 0.4411 - val_accuracy: 0.8437\n",
      "Epoch 24/50\n",
      "88/88 [==============================] - 0s 1ms/step - loss: 0.4236 - accuracy: 0.8515 - val_loss: 0.4433 - val_accuracy: 0.8427\n",
      "Epoch 25/50\n",
      "88/88 [==============================] - 0s 1ms/step - loss: 0.4195 - accuracy: 0.8535 - val_loss: 0.4528 - val_accuracy: 0.8365\n",
      "Epoch 26/50\n",
      "88/88 [==============================] - 0s 1ms/step - loss: 0.4159 - accuracy: 0.8541 - val_loss: 0.4626 - val_accuracy: 0.8391\n",
      "Epoch 27/50\n",
      "88/88 [==============================] - 0s 1ms/step - loss: 0.4144 - accuracy: 0.8559 - val_loss: 0.4400 - val_accuracy: 0.8451\n",
      "Epoch 28/50\n",
      "88/88 [==============================] - 0s 1ms/step - loss: 0.4114 - accuracy: 0.8556 - val_loss: 0.4309 - val_accuracy: 0.8483\n",
      "Epoch 29/50\n",
      "88/88 [==============================] - 0s 1ms/step - loss: 0.4095 - accuracy: 0.8567 - val_loss: 0.4362 - val_accuracy: 0.8453\n",
      "Epoch 30/50\n",
      "88/88 [==============================] - 0s 1ms/step - loss: 0.4079 - accuracy: 0.8575 - val_loss: 0.4343 - val_accuracy: 0.8473\n",
      "Epoch 31/50\n",
      "88/88 [==============================] - 0s 1ms/step - loss: 0.4051 - accuracy: 0.8582 - val_loss: 0.4246 - val_accuracy: 0.8513\n",
      "Epoch 32/50\n",
      "88/88 [==============================] - 0s 1ms/step - loss: 0.4031 - accuracy: 0.8584 - val_loss: 0.4354 - val_accuracy: 0.8442\n",
      "Epoch 33/50\n",
      "88/88 [==============================] - 0s 1ms/step - loss: 0.4004 - accuracy: 0.8590 - val_loss: 0.4302 - val_accuracy: 0.8463\n",
      "Epoch 34/50\n",
      "88/88 [==============================] - 0s 1ms/step - loss: 0.3981 - accuracy: 0.8596 - val_loss: 0.4226 - val_accuracy: 0.8533\n",
      "Epoch 35/50\n",
      "88/88 [==============================] - 0s 1ms/step - loss: 0.3969 - accuracy: 0.8601 - val_loss: 0.4260 - val_accuracy: 0.8505\n",
      "Epoch 36/50\n",
      "88/88 [==============================] - 0s 1ms/step - loss: 0.3949 - accuracy: 0.8611 - val_loss: 0.4272 - val_accuracy: 0.8482\n",
      "Epoch 37/50\n",
      "88/88 [==============================] - 0s 1ms/step - loss: 0.3927 - accuracy: 0.8624 - val_loss: 0.4190 - val_accuracy: 0.8526\n",
      "Epoch 38/50\n",
      "88/88 [==============================] - 0s 1ms/step - loss: 0.3923 - accuracy: 0.8624 - val_loss: 0.4296 - val_accuracy: 0.8475\n",
      "Epoch 39/50\n",
      "88/88 [==============================] - 0s 1ms/step - loss: 0.3899 - accuracy: 0.8635 - val_loss: 0.4419 - val_accuracy: 0.8411\n",
      "Epoch 40/50\n",
      "88/88 [==============================] - 0s 1ms/step - loss: 0.3882 - accuracy: 0.8636 - val_loss: 0.4184 - val_accuracy: 0.8509\n",
      "Epoch 41/50\n",
      "88/88 [==============================] - 0s 1ms/step - loss: 0.3853 - accuracy: 0.8643 - val_loss: 0.4225 - val_accuracy: 0.8487\n",
      "Epoch 42/50\n",
      "88/88 [==============================] - 0s 1ms/step - loss: 0.3848 - accuracy: 0.8643 - val_loss: 0.4256 - val_accuracy: 0.8487\n",
      "Epoch 43/50\n",
      "88/88 [==============================] - 0s 1ms/step - loss: 0.3845 - accuracy: 0.8642 - val_loss: 0.4217 - val_accuracy: 0.8506\n",
      "Epoch 44/50\n",
      "88/88 [==============================] - 0s 1ms/step - loss: 0.3821 - accuracy: 0.8653 - val_loss: 0.4267 - val_accuracy: 0.8505\n",
      "Epoch 45/50\n",
      "88/88 [==============================] - 0s 1ms/step - loss: 0.3802 - accuracy: 0.8656 - val_loss: 0.4194 - val_accuracy: 0.8505\n",
      "Epoch 46/50\n",
      "88/88 [==============================] - 0s 1ms/step - loss: 0.3790 - accuracy: 0.8661 - val_loss: 0.4186 - val_accuracy: 0.8535\n",
      "Epoch 47/50\n",
      "88/88 [==============================] - 0s 1ms/step - loss: 0.3772 - accuracy: 0.8660 - val_loss: 0.4165 - val_accuracy: 0.8533\n",
      "Epoch 48/50\n",
      "88/88 [==============================] - 0s 1ms/step - loss: 0.3766 - accuracy: 0.8682 - val_loss: 0.4109 - val_accuracy: 0.8545\n",
      "Epoch 49/50\n",
      "88/88 [==============================] - 0s 1ms/step - loss: 0.3762 - accuracy: 0.8669 - val_loss: 0.4248 - val_accuracy: 0.8487\n",
      "Epoch 50/50\n",
      "88/88 [==============================] - 0s 1ms/step - loss: 0.3737 - accuracy: 0.8677 - val_loss: 0.4109 - val_accuracy: 0.8553\n"
     ]
    }
   ],
   "source": [
    "model2 = models.Sequential()\n",
    "\n",
    "model2.add(layers.Dense(10, activation='relu', input_shape=(X_tt.shape[1],)))\n",
    "model2.add(layers.Dense(10, activation='relu'))\n",
    "model2.add(layers.Dense(10, activation='relu'))\n",
    "\n",
    "\n",
    "\n",
    "model2.add(layers.Dense(10, activation='softmax'))\n",
    "\n",
    "model2.compile(optimizer = 'rmsprop',\n",
    "                 loss = 'categorical_crossentropy',\n",
    "                 metrics = ['accuracy'])\n",
    "\n",
    "n_epochs = 50\n",
    "history2 = model2.fit(X_tt, \n",
    "                      to_categorical(y_tt), \n",
    "                      epochs=n_epochs, \n",
    "                      batch_size=512,\n",
    "                      validation_data=(X_val,to_categorical(y_val)))"
   ]
  },
  {
   "cell_type": "markdown",
   "id": "cecf7a78",
   "metadata": {},
   "source": [
    "##### d.\n",
    "\n",
    "Plot the validation set accuracies for both of these models in the same plot. Which one seems to perform better?"
   ]
  },
  {
   "cell_type": "markdown",
   "id": "fb3d675e",
   "metadata": {},
   "source": [
    "##### Sample Solution"
   ]
  },
  {
   "cell_type": "code",
   "execution_count": 12,
   "id": "a0a4cbc5",
   "metadata": {},
   "outputs": [
    {
     "data": {
      "image/png": "[encoded data removed]",
      "text/plain": [
       "<Figure size 720x432 with 1 Axes>"
      ]
     },
     "metadata": {},
     "output_type": "display_data"
    }
   ],
   "source": [
    "plt.figure(figsize=(10,6))\n",
    "\n",
    "plt.scatter(range(1, n_epochs+1),\n",
    "                history1.history['val_accuracy'],\n",
    "                label=\"Single Layer\")\n",
    "plt.scatter(range(1, n_epochs+1),\n",
    "                history2.history['val_accuracy'],\n",
    "                marker='v',\n",
    "                label=\"Three Layers\")\n",
    "\n",
    "plt.legend(fontsize=14)\n",
    "\n",
    "plt.xlabel(\"Epoch\", fontsize=16)\n",
    "plt.ylabel(\"Validation Set Accuracy\", fontsize=16)\n",
    "\n",
    "plt.xticks(fontsize=12)\n",
    "plt.yticks(fontsize=12)\n",
    "\n",
    "plt.show()"
   ]
  },
  {
   "cell_type": "markdown",
   "id": "1572b461",
   "metadata": {},
   "source": [
    "--------------------------\n",
    "\n",
    "This notebook was written for the Erd&#337;s Institute C&#337;de Data Science Boot Camp by Matthew Osborne, Ph. D., 2022.\n",
    "\n",
    "Any potential redistributors must seek and receive permission from Matthew Tyler Osborne, Ph.D. prior to redistribution. Redistribution of the material contained in this repository is conditional on acknowledgement of Matthew Tyler Osborne, Ph.D.'s original authorship and sponsorship of the Erdős Institute as subject to the license (see License.md)"
   ]
  },
  {
   "cell_type": "code",
   "execution_count": null,
   "id": "69b0d92b",
   "metadata": {},
   "outputs": [],
   "source": []
  }
 ],
 "metadata": {
  "kernelspec": {
   "display_name": "Python 3 (ipykernel)",
   "language": "python",
   "name": "python3"
  },
  "language_info": {
   "codemirror_mode": {
    "name": "ipython",
    "version": 3
   },
   "file_extension": ".py",
   "mimetype": "text/x-python",
   "name": "python",
   "nbconvert_exporter": "python",
   "pygments_lexer": "ipython3",
   "version": "3.9.9"
  }
 },
 "nbformat": 4,
 "nbformat_minor": 5
}
