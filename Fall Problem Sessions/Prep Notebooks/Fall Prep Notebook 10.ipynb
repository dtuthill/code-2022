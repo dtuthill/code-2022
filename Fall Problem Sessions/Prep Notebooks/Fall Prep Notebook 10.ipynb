{
 "cells": [
  {
   "cell_type": "markdown",
   "id": "594c20ed",
   "metadata": {},
   "source": [
    "# Fall Prep Notebook 10\n",
    "## Classifying Pumpkin Seeds IV\n",
    "\n",
    "This notebook has a few exercises that can serve as a primer for what to expect in the `Fall Problem Session 10` notebook. These exercises will touch upon the basic python, `pandas`, `numpy`, `matplotlib` and some supervised learning basic techniques that you may want a refresher on prior to starting `Fall Problem Session 10`."
   ]
  },
  {
   "cell_type": "code",
   "execution_count": null,
   "id": "85a64908",
   "metadata": {},
   "outputs": [],
   "source": [
    "import pandas as pd\n",
    "import numpy as np\n",
    "import matplotlib.pyplot as plt\n",
    "import seaborn as sns\n",
    "\n",
    "sns.set_style(\"whitegrid\")"
   ]
  },
  {
   "cell_type": "markdown",
   "id": "f55af854",
   "metadata": {},
   "source": [
    "#### 1. Review fall problem sessions 7, 8 and 9\n",
    "\n",
    "In `Fall Problem Session 10` we will use what you did in `Fall Problem Session 7`, `Fall Problem Session 8` and `Fall Problem Session 9`, review your group's work as well as the complete version."
   ]
  },
  {
   "cell_type": "markdown",
   "id": "c12de354",
   "metadata": {},
   "source": [
    "#### 2. Import metrics\n",
    "\n",
    "Import the functions you can use to compute the confusion matrix for a classifier, the accuracy, the recall and the precision."
   ]
  },
  {
   "cell_type": "code",
   "execution_count": null,
   "id": "02d2cc08",
   "metadata": {},
   "outputs": [],
   "source": []
  },
  {
   "cell_type": "code",
   "execution_count": null,
   "id": "1726a2ff",
   "metadata": {},
   "outputs": [],
   "source": []
  },
  {
   "cell_type": "markdown",
   "id": "332b55b0",
   "metadata": {},
   "source": [
    "#### 3. Validation split\n",
    "\n",
    "Make a validation split for the data below."
   ]
  },
  {
   "cell_type": "code",
   "execution_count": null,
   "id": "e783525c",
   "metadata": {},
   "outputs": [],
   "source": [
    "df = pd.read_excel(\"../../Data/Pistachio_16_Features_Dataset.xlsx\")\n",
    "df['y'] = 1\n",
    "df.loc[df.Class==\"Siit_Pistachio\", 'y'] = 0"
   ]
  },
  {
   "cell_type": "code",
   "execution_count": null,
   "id": "7c851a98",
   "metadata": {},
   "outputs": [],
   "source": [
    "from sklearn.model_selection import train_test_split"
   ]
  },
  {
   "cell_type": "code",
   "execution_count": null,
   "id": "d023b1f2",
   "metadata": {},
   "outputs": [],
   "source": [
    "train, test = train_test_split(df.copy(),\n",
    "                                  shuffle=True,\n",
    "                                  random_state=4039,\n",
    "                                  test_size=.1,\n",
    "                                  stratify=df.Class)"
   ]
  },
  {
   "cell_type": "code",
   "execution_count": null,
   "id": "fa1f7f8b",
   "metadata": {},
   "outputs": [],
   "source": []
  },
  {
   "cell_type": "code",
   "execution_count": null,
   "id": "9cc27555",
   "metadata": {},
   "outputs": [],
   "source": []
  },
  {
   "cell_type": "markdown",
   "id": "a0f0468e",
   "metadata": {},
   "source": [
    "#### 3. Importing model\n",
    "\n",
    "Import:\n",
    "- `PCA`\n",
    "- Every classification model we learned in the `Classification` lectures\n",
    "- The voting model for classification\n",
    "- The random forest model for classification\n",
    "- The adaptive boosting model for classification"
   ]
  },
  {
   "cell_type": "code",
   "execution_count": null,
   "id": "5360ffde",
   "metadata": {},
   "outputs": [],
   "source": []
  },
  {
   "cell_type": "code",
   "execution_count": null,
   "id": "60b9760c",
   "metadata": {},
   "outputs": [],
   "source": []
  },
  {
   "cell_type": "code",
   "execution_count": null,
   "id": "598a6d7d",
   "metadata": {},
   "outputs": [],
   "source": []
  },
  {
   "cell_type": "markdown",
   "id": "8c0632af",
   "metadata": {},
   "source": [
    "#### 3. $k$NN Classifier\n",
    "\n",
    "##### a.\n",
    "\n",
    "Build a $k$ nearest neighbor classifer with $k=15$ on the training portion of the validation split you made in <b>2.</b>, using the columns stored in `features` as the features and the column `y` as the target variable."
   ]
  },
  {
   "cell_type": "code",
   "execution_count": null,
   "id": "9131f65d",
   "metadata": {},
   "outputs": [],
   "source": [
    "features = df.columns[:-2]"
   ]
  },
  {
   "cell_type": "code",
   "execution_count": null,
   "id": "3d38488e",
   "metadata": {},
   "outputs": [],
   "source": []
  },
  {
   "cell_type": "code",
   "execution_count": null,
   "id": "e106023e",
   "metadata": {},
   "outputs": [],
   "source": []
  },
  {
   "cell_type": "markdown",
   "id": "7c012ca9",
   "metadata": {},
   "source": [
    "##### b.\n",
    "\n",
    "Get the accuracy on the training portion of the validation split."
   ]
  },
  {
   "cell_type": "code",
   "execution_count": null,
   "id": "63a698fa",
   "metadata": {},
   "outputs": [],
   "source": []
  },
  {
   "cell_type": "code",
   "execution_count": null,
   "id": "8f850d3c",
   "metadata": {},
   "outputs": [],
   "source": []
  },
  {
   "cell_type": "markdown",
   "id": "d3f1bef4",
   "metadata": {},
   "source": [
    "##### c.\n",
    "\n",
    "Get the accuracy score on the validation portion of the validation split."
   ]
  },
  {
   "cell_type": "code",
   "execution_count": null,
   "id": "48bc9ec7",
   "metadata": {},
   "outputs": [],
   "source": []
  },
  {
   "cell_type": "code",
   "execution_count": null,
   "id": "be470175",
   "metadata": {},
   "outputs": [],
   "source": []
  },
  {
   "cell_type": "markdown",
   "id": "54b5f0cf",
   "metadata": {},
   "source": [
    "--------------------------\n",
    "\n",
    "This notebook was written for the Erd&#337;s Institute C&#337;de Data Science Boot Camp by Matthew Osborne, Ph. D., 2022.\n",
    "\n",
    "Any potential redistributors must seek and receive permission from Matthew Tyler Osborne, Ph.D. prior to redistribution. Redistribution of the material contained in this repository is conditional on acknowledgement of Matthew Tyler Osborne, Ph.D.'s original authorship and sponsorship of the Erdős Institute as subject to the license (see License.md)"
   ]
  },
  {
   "cell_type": "code",
   "execution_count": null,
   "id": "c80aeded",
   "metadata": {},
   "outputs": [],
   "source": []
  }
 ],
 "metadata": {
  "kernelspec": {
   "display_name": "Python 3 (ipykernel)",
   "language": "python",
   "name": "python3"
  },
  "language_info": {
   "codemirror_mode": {
    "name": "ipython",
    "version": 3
   },
   "file_extension": ".py",
   "mimetype": "text/x-python",
   "name": "python",
   "nbconvert_exporter": "python",
   "pygments_lexer": "ipython3",
   "version": "3.9.12"
  }
 },
 "nbformat": 4,
 "nbformat_minor": 5
}
