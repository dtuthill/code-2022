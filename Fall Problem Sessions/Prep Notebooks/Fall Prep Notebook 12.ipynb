{
 "cells": [
  {
   "cell_type": "markdown",
   "id": "08ac5264",
   "metadata": {},
   "source": [
    "# Fall Prep Notebook 12\n",
    "## CIFAR-10 II\n",
    "\n",
    "This notebook has a few exercises that can serve as a primer for what to expect in the `Fall Problem Session 12` notebook. These exercises will touch upon the basic python, `pandas`, `numpy`, `matplotlib` and some supervised learning basic techniques that you may want a refresher on prior to starting `Fall Problem Session 12`."
   ]
  },
  {
   "cell_type": "code",
   "execution_count": null,
   "id": "c2271de4",
   "metadata": {},
   "outputs": [],
   "source": [
    "import pandas as pd\n",
    "import numpy as np\n",
    "import matplotlib.pyplot as plt\n",
    "import seaborn as sns\n",
    "\n",
    "sns.set_style(\"whitegrid\")"
   ]
  },
  {
   "cell_type": "markdown",
   "id": "ceb18040",
   "metadata": {},
   "source": [
    "#### 1. Loading data from `keras`\n",
    "\n",
    "Load the MNIST of fashion data from `keras.datasets`, <a href=\"https://keras.io/api/datasets/fashion_mnist/\">https://keras.io/api/datasets/fashion_mnist/</a>"
   ]
  },
  {
   "cell_type": "code",
   "execution_count": null,
   "id": "1e0e6918",
   "metadata": {},
   "outputs": [],
   "source": []
  },
  {
   "cell_type": "code",
   "execution_count": null,
   "id": "e7c280cc",
   "metadata": {},
   "outputs": [],
   "source": []
  },
  {
   "cell_type": "code",
   "execution_count": null,
   "id": "7e809e15",
   "metadata": {},
   "outputs": [],
   "source": []
  },
  {
   "cell_type": "markdown",
   "id": "f1d88652",
   "metadata": {},
   "source": [
    "#### 2. Preparing data\n",
    "\n",
    "##### a.\n",
    "\n",
    "Scale the training and test sets so that the maximum pixel value goes to $1$ instead of $255$ and the minimum pixel values stays at $0$."
   ]
  },
  {
   "cell_type": "code",
   "execution_count": null,
   "id": "78f07a14",
   "metadata": {},
   "outputs": [],
   "source": []
  },
  {
   "cell_type": "code",
   "execution_count": null,
   "id": "8f00f3c2",
   "metadata": {},
   "outputs": [],
   "source": []
  },
  {
   "cell_type": "markdown",
   "id": "2ffaf804",
   "metadata": {},
   "source": [
    "##### b.\n",
    "\n",
    "Reshape the data so it could be used to train a feed forward neural network."
   ]
  },
  {
   "cell_type": "code",
   "execution_count": null,
   "id": "ead78bd5",
   "metadata": {},
   "outputs": [],
   "source": []
  },
  {
   "cell_type": "code",
   "execution_count": null,
   "id": "402b0578",
   "metadata": {},
   "outputs": [],
   "source": []
  },
  {
   "cell_type": "markdown",
   "id": "ea7822ee",
   "metadata": {},
   "source": [
    "##### c.\n",
    "\n",
    "Make a validation split."
   ]
  },
  {
   "cell_type": "code",
   "execution_count": null,
   "id": "039459c0",
   "metadata": {},
   "outputs": [],
   "source": []
  },
  {
   "cell_type": "code",
   "execution_count": null,
   "id": "963f8fbb",
   "metadata": {},
   "outputs": [],
   "source": []
  },
  {
   "cell_type": "code",
   "execution_count": null,
   "id": "39998124",
   "metadata": {},
   "outputs": [],
   "source": []
  },
  {
   "cell_type": "markdown",
   "id": "b18a0edc",
   "metadata": {},
   "source": [
    "#### 3. Building a feed forward network\n",
    "\n",
    "##### a.\n",
    "\n",
    "Import everything you need from `keras` in order to build a neural network for these data."
   ]
  },
  {
   "cell_type": "code",
   "execution_count": null,
   "id": "8f4d924a",
   "metadata": {},
   "outputs": [],
   "source": []
  },
  {
   "cell_type": "code",
   "execution_count": null,
   "id": "ef07a6ba",
   "metadata": {},
   "outputs": [],
   "source": []
  },
  {
   "cell_type": "markdown",
   "id": "b6ed11b7",
   "metadata": {},
   "source": [
    "##### b.\n",
    "\n",
    "Build a feed forward network with a single hidden layer that is $50$ nodes deep. Call it `model1` and store the training history in `history1`. Train the model for 50 epochs."
   ]
  },
  {
   "cell_type": "code",
   "execution_count": null,
   "id": "01b123ba",
   "metadata": {
    "scrolled": true
   },
   "outputs": [],
   "source": []
  },
  {
   "cell_type": "code",
   "execution_count": null,
   "id": "2395ff1d",
   "metadata": {},
   "outputs": [],
   "source": []
  },
  {
   "cell_type": "markdown",
   "id": "ccb68c9b",
   "metadata": {},
   "source": [
    "##### c.\n",
    "\n",
    "Now build a second feed forward network with three layers of $10$ nodes each. Train it for the same number of epochs. Store the model in `model2` and store the history from the fit into `history2`."
   ]
  },
  {
   "cell_type": "code",
   "execution_count": null,
   "id": "bb1a6445",
   "metadata": {
    "scrolled": true
   },
   "outputs": [],
   "source": []
  },
  {
   "cell_type": "code",
   "execution_count": null,
   "id": "ef270108",
   "metadata": {},
   "outputs": [],
   "source": []
  },
  {
   "cell_type": "markdown",
   "id": "f14cce25",
   "metadata": {},
   "source": [
    "##### d.\n",
    "\n",
    "Plot the validation set accuracies for both of these models in the same plot. Which one seems to perform better?"
   ]
  },
  {
   "cell_type": "code",
   "execution_count": null,
   "id": "dae0df03",
   "metadata": {},
   "outputs": [],
   "source": []
  },
  {
   "cell_type": "code",
   "execution_count": null,
   "id": "2f5e9fa7",
   "metadata": {},
   "outputs": [],
   "source": []
  },
  {
   "cell_type": "markdown",
   "id": "c82f734b",
   "metadata": {},
   "source": [
    "--------------------------\n",
    "\n",
    "This notebook was written for the Erd&#337;s Institute C&#337;de Data Science Boot Camp by Matthew Osborne, Ph. D., 2022.\n",
    "\n",
    "Any potential redistributors must seek and receive permission from Matthew Tyler Osborne, Ph.D. prior to redistribution. Redistribution of the material contained in this repository is conditional on acknowledgement of Matthew Tyler Osborne, Ph.D.'s original authorship and sponsorship of the Erdős Institute as subject to the license (see License.md)"
   ]
  },
  {
   "cell_type": "code",
   "execution_count": null,
   "id": "31319aa2",
   "metadata": {},
   "outputs": [],
   "source": []
  }
 ],
 "metadata": {
  "kernelspec": {
   "display_name": "Python 3 (ipykernel)",
   "language": "python",
   "name": "python3"
  },
  "language_info": {
   "codemirror_mode": {
    "name": "ipython",
    "version": 3
   },
   "file_extension": ".py",
   "mimetype": "text/x-python",
   "name": "python",
   "nbconvert_exporter": "python",
   "pygments_lexer": "ipython3",
   "version": "3.9.9"
  }
 },
 "nbformat": 4,
 "nbformat_minor": 5
}
