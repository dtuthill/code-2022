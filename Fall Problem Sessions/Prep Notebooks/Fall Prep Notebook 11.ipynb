{
 "cells": [
  {
   "cell_type": "markdown",
   "id": "bc940bb6",
   "metadata": {},
   "source": [
    "# Fall Prep Notebook 11\n",
    "## CIFAR-10 I\n",
    "\n",
    "This notebook has a few exercises that can serve as a primer for what to expect in the `Fall Problem Session 11` notebook. These exercises will touch upon the basic python, `pandas`, `numpy`, `matplotlib` and some supervised learning basic techniques that you may want a refresher on prior to starting `Fall Problem Session 11`."
   ]
  },
  {
   "cell_type": "code",
   "execution_count": null,
   "id": "d3423228",
   "metadata": {},
   "outputs": [],
   "source": [
    "import pandas as pd\n",
    "import numpy as np\n",
    "import matplotlib.pyplot as plt\n",
    "import seaborn as sns\n",
    "\n",
    "sns.set_style(\"whitegrid\")"
   ]
  },
  {
   "cell_type": "markdown",
   "id": "e9448d9a",
   "metadata": {},
   "source": [
    "#### 1. Loading data from `keras`\n",
    "\n",
    "Practice loading data from `keras.datasets` by loading the MNIST of fashion data, <a href=\"https://keras.io/api/datasets/fashion_mnist/\">https://keras.io/api/datasets/fashion_mnist/</a>"
   ]
  },
  {
   "cell_type": "code",
   "execution_count": null,
   "id": "1fb20d2b",
   "metadata": {},
   "outputs": [],
   "source": []
  },
  {
   "cell_type": "code",
   "execution_count": null,
   "id": "8821540f",
   "metadata": {},
   "outputs": [],
   "source": []
  },
  {
   "cell_type": "code",
   "execution_count": null,
   "id": "485c127b",
   "metadata": {},
   "outputs": [],
   "source": [
    "## Run this for the next problem as well\n",
    "label_dict = {0:\"T-shirt/top\",\n",
    "                 1:\"Trouser\",\n",
    "                 2:\"Pullover\",\n",
    "                 3:\"Dress\",\n",
    "                 4:\"Coat\",\n",
    "                 5:\"Sandal\",\n",
    "                 6:\"Shirt\",\n",
    "                 7:\"Sneaker\",\n",
    "                 8:\"Bag\",\n",
    "                 9:\"Ankle boot\"}"
   ]
  },
  {
   "cell_type": "markdown",
   "id": "61f7b2b8",
   "metadata": {},
   "source": [
    "#### 2. Exploring the MNIST of fashion\n",
    "\n",
    "The data you just loaded is known as the MNIST of fashion dataset. It is an alternative to the traditional MNIST dataset that uses fashion items (see the `label_dict` above) instead of digits. Each observation is a grid of grayscale pixel values. In this problem you will explore the data a little.\n",
    "\n",
    "##### a.\n",
    "\n",
    "Look at the shape of `X_train` as a whole, look at the shape of the first \"row\" of X_train and print the first row as well."
   ]
  },
  {
   "cell_type": "code",
   "execution_count": null,
   "id": "30d51037",
   "metadata": {},
   "outputs": [],
   "source": []
  },
  {
   "cell_type": "code",
   "execution_count": null,
   "id": "ac1e0930",
   "metadata": {},
   "outputs": [],
   "source": []
  },
  {
   "cell_type": "code",
   "execution_count": null,
   "id": "4e1f2182",
   "metadata": {},
   "outputs": [],
   "source": []
  },
  {
   "cell_type": "markdown",
   "id": "807127fa",
   "metadata": {},
   "source": [
    "##### b. \n",
    "\n",
    "Each grid is $28\\times 28$ pixels. Plot a few of these images using `plt.imshow`, <a href=\"https://matplotlib.org/stable/api/_as_gen/matplotlib.pyplot.imshow.html\">https://matplotlib.org/stable/api/_as_gen/matplotlib.pyplot.imshow.html</a> and then use the corresponding `y_train` label and `label_dict` to see which fashion item they are."
   ]
  },
  {
   "cell_type": "code",
   "execution_count": null,
   "id": "8f520884",
   "metadata": {},
   "outputs": [],
   "source": []
  },
  {
   "cell_type": "code",
   "execution_count": null,
   "id": "a7d137b2",
   "metadata": {},
   "outputs": [],
   "source": []
  },
  {
   "cell_type": "code",
   "execution_count": null,
   "id": "2df9d42f",
   "metadata": {},
   "outputs": [],
   "source": []
  },
  {
   "cell_type": "code",
   "execution_count": null,
   "id": "9ecb0a9f",
   "metadata": {},
   "outputs": [],
   "source": []
  },
  {
   "cell_type": "markdown",
   "id": "ba81d73b",
   "metadata": {},
   "source": [
    "#### 2. Preparing data\n",
    "\n",
    "In this problem we are going to pretend that you are going to train a neural network on these data\n",
    "\n",
    "##### a.\n",
    "\n",
    "Neural networks do not perform as well when the pixel values are fed in with their original $0$ to $255$ scale. Scale these data so that the minimum pixel value is $0$ and the maximum pixel value is $1$."
   ]
  },
  {
   "cell_type": "code",
   "execution_count": null,
   "id": "335634ef",
   "metadata": {},
   "outputs": [],
   "source": []
  },
  {
   "cell_type": "code",
   "execution_count": null,
   "id": "9d60e710",
   "metadata": {},
   "outputs": [],
   "source": []
  },
  {
   "cell_type": "markdown",
   "id": "243de4c4",
   "metadata": {},
   "source": [
    "##### b.\n",
    "\n",
    "The first kind of neural network we will learn, a feedforward or dense neural network, cannot take in a grid of values. We have to reshape the data so that it is in the form of a matrix with each row corresponding to an image and each column corresponding to a pixel value.\n",
    "\n",
    "Reshape the data here."
   ]
  },
  {
   "cell_type": "code",
   "execution_count": null,
   "id": "130a4906",
   "metadata": {},
   "outputs": [],
   "source": []
  },
  {
   "cell_type": "code",
   "execution_count": null,
   "id": "b0df6b5e",
   "metadata": {},
   "outputs": [],
   "source": []
  },
  {
   "cell_type": "markdown",
   "id": "ddbcd157",
   "metadata": {},
   "source": [
    "##### c.\n",
    "\n",
    "Neural networks can take a while to train. This makes cross-validation an impractical approach for model selection when your work time is limited, like in a 1-hour problem session. Make a validation split for these data."
   ]
  },
  {
   "cell_type": "code",
   "execution_count": null,
   "id": "cc25b33c",
   "metadata": {},
   "outputs": [],
   "source": []
  },
  {
   "cell_type": "code",
   "execution_count": null,
   "id": "ff0010a3",
   "metadata": {},
   "outputs": [],
   "source": []
  },
  {
   "cell_type": "markdown",
   "id": "5c6bdc23",
   "metadata": {},
   "source": [
    "##### d.\n",
    "\n",
    "Run these data through PCA with enough components to capture $90\\%$ of the original variance. Transform the training and validation sets."
   ]
  },
  {
   "cell_type": "code",
   "execution_count": null,
   "id": "8c87ca9c",
   "metadata": {},
   "outputs": [],
   "source": []
  },
  {
   "cell_type": "code",
   "execution_count": null,
   "id": "a074a6b6",
   "metadata": {},
   "outputs": [],
   "source": []
  },
  {
   "cell_type": "code",
   "execution_count": null,
   "id": "cc8ed1e6",
   "metadata": {},
   "outputs": [],
   "source": []
  },
  {
   "cell_type": "markdown",
   "id": "4e042666",
   "metadata": {},
   "source": [
    "--------------------------\n",
    "\n",
    "This notebook was written for the Erd&#337;s Institute C&#337;de Data Science Boot Camp by Matthew Osborne, Ph. D., 2022.\n",
    "\n",
    "Any potential redistributors must seek and receive permission from Matthew Tyler Osborne, Ph.D. prior to redistribution. Redistribution of the material contained in this repository is conditional on acknowledgement of Matthew Tyler Osborne, Ph.D.'s original authorship and sponsorship of the Erdős Institute as subject to the license (see License.md)"
   ]
  },
  {
   "cell_type": "code",
   "execution_count": null,
   "id": "bbb748aa",
   "metadata": {},
   "outputs": [],
   "source": []
  }
 ],
 "metadata": {
  "kernelspec": {
   "display_name": "Python 3 (ipykernel)",
   "language": "python",
   "name": "python3"
  },
  "language_info": {
   "codemirror_mode": {
    "name": "ipython",
    "version": 3
   },
   "file_extension": ".py",
   "mimetype": "text/x-python",
   "name": "python",
   "nbconvert_exporter": "python",
   "pygments_lexer": "ipython3",
   "version": "3.9.9"
  }
 },
 "nbformat": 4,
 "nbformat_minor": 5
}
