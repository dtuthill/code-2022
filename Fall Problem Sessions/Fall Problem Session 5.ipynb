{
 "cells": [
  {
   "cell_type": "markdown",
   "id": "482caf34",
   "metadata": {},
   "source": [
    "# Fall Problem Session 5\n",
    "## Forecasting The Bachelorette and Pumpkin Spice I\n",
    "\n",
    "In the first of two time series based problem sessions you will focus on some of the basics of time series forecasting. In particular, you will do some exploratory data analysis, test your understanding of data split adjustments and build baseline models for two time series.\n",
    "\n",
    "The problems in this notebook will cover the content covered in our `Time Series Forecasting` lectures including:\n",
    "- `What are Time Series and Forecasting`,\n",
    "- `Adjustments for Time Series Data`,\n",
    "- `Time and Dates in Python` and\n",
    "- `Baseline Forecasts`."
   ]
  },
  {
   "cell_type": "code",
   "execution_count": null,
   "id": "870b694e",
   "metadata": {},
   "outputs": [],
   "source": [
    "import pandas as pd\n",
    "import numpy as np\n",
    "import matplotlib.pyplot as plt\n",
    "import seaborn as sns\n",
    "from datetime import datetime, timedelta\n",
    "\n",
    "sns.set_style(\"whitegrid\")"
   ]
  },
  {
   "cell_type": "markdown",
   "id": "d816187a",
   "metadata": {},
   "source": [
    "#### 1. <a href=\"https://www.imdb.com/title/tt0348894/\">The Bachelorette</a>\n",
    "\n",
    "The first data set you will work with is the IMDB ratings of every episode of the Bachelorette (as of August 25, 2022). This data was pulled with the `Cinemagoer` python IMDB API wrapper (this was touched on in `Fall Problem Session 1`). \n",
    "\n",
    "##### a.\n",
    "\n",
    "Load `the_bachelorette.csv` from the `Data` folder, look at the first five observations."
   ]
  },
  {
   "cell_type": "code",
   "execution_count": null,
   "id": "8ffc6def",
   "metadata": {},
   "outputs": [],
   "source": []
  },
  {
   "cell_type": "code",
   "execution_count": null,
   "id": "20fa115b",
   "metadata": {},
   "outputs": [],
   "source": []
  },
  {
   "cell_type": "markdown",
   "id": "a31410ae",
   "metadata": {},
   "source": [
    "Here are descriptions for the columns of this data set:\n",
    "- `episode_number` is the number of the episode with respect to the entire series run,\n",
    "- `title` is the title of the episode,\n",
    "- `season` is the number of the season in which the episode aired,\n",
    "- `season_episode_number` is the number of the episode with respect to the season in which it aired,\n",
    "- `imdb_rating` is the average rating of the episode among IMDB's users."
   ]
  },
  {
   "cell_type": "markdown",
   "id": "400f818b",
   "metadata": {},
   "source": [
    "##### b. \n",
    "\n",
    "Our goal will be to predict how good the next episode of the Bachelorette is, that means we want a forecast horizon of $1$ episode. Make a train test split that sets aside the last three episodes as a test set."
   ]
  },
  {
   "cell_type": "code",
   "execution_count": null,
   "id": "8c29e10f",
   "metadata": {},
   "outputs": [],
   "source": []
  },
  {
   "cell_type": "markdown",
   "id": "cb381151",
   "metadata": {},
   "source": [
    "##### c. \n",
    "\n",
    "Plot the IMDB rating for each episode using the training data.\n",
    "\n",
    "Does this time series seem to exhibit a trend? Does this time series seem to exhibit seasonality? If it exhibits either do your best to describe what you see."
   ]
  },
  {
   "cell_type": "code",
   "execution_count": null,
   "id": "9a312207",
   "metadata": {},
   "outputs": [],
   "source": [
    "plt.figure(figsize=(16,8))\n",
    "\n",
    "## place your plot here\n",
    "\n",
    "\n",
    "plt.xticks(fontsize=14)\n",
    "plt.yticks(fontsize=14)\n",
    "\n",
    "plt.xlabel(\"Episode Number\", fontsize=18)\n",
    "plt.ylabel(\"IMDB Rating\", fontsize=18)\n",
    "\n",
    "    \n",
    "plt.show()"
   ]
  },
  {
   "cell_type": "markdown",
   "id": "74e23e40",
   "metadata": {},
   "source": [
    "##### Write any notes you would like here\n",
    "\n"
   ]
  },
  {
   "cell_type": "markdown",
   "id": "00f1572d",
   "metadata": {},
   "source": [
    "##### d.\n",
    "\n",
    "Choose a baseline model that you could build on these data. Plot the forecast from this baseline along with the training data, do not plot the test data.\n",
    "\n",
    "Recall that we learned about the following baseline models for non-seasonal data:\n",
    "- The average forecast\n",
    "- The naive forecast\n",
    "- The trend forecast and\n",
    "- The random walk with drift."
   ]
  },
  {
   "cell_type": "code",
   "execution_count": null,
   "id": "136e314f",
   "metadata": {},
   "outputs": [],
   "source": []
  },
  {
   "cell_type": "code",
   "execution_count": null,
   "id": "87b12e38",
   "metadata": {},
   "outputs": [],
   "source": []
  },
  {
   "cell_type": "code",
   "execution_count": null,
   "id": "f61c2657",
   "metadata": {},
   "outputs": [],
   "source": []
  },
  {
   "cell_type": "code",
   "execution_count": null,
   "id": "3497351a",
   "metadata": {},
   "outputs": [],
   "source": [
    "plt.figure(figsize=(16,8))\n",
    "\n",
    "## plot the training data here\n",
    "plt.plot(\n",
    "            label = \"Training Data\")\n",
    "\n",
    "## plot your forecast here\n",
    "plt.scatter(\n",
    "            marker='x',\n",
    "            s=150,\n",
    "            color='red',\n",
    "            label=\"Forecast\")\n",
    "\n",
    "plt.legend(fontsize=14)\n",
    "\n",
    "\n",
    "plt.xticks(fontsize=14)\n",
    "plt.yticks(fontsize=14)\n",
    "\n",
    "plt.xlabel(\"Episode Number\", fontsize=18)\n",
    "plt.ylabel(\"IMDB Rating\", fontsize=18)\n",
    "\n",
    "    \n",
    "plt.show()"
   ]
  },
  {
   "cell_type": "markdown",
   "id": "6d9ad527",
   "metadata": {},
   "source": [
    "##### e.\n",
    "\n",
    "Calculate the average cross-validation root mean squared error for your baseline model. \n",
    "\n",
    "Set up this cross-validation so that there are ten splits and each holdout set only has three observations in it."
   ]
  },
  {
   "cell_type": "code",
   "execution_count": null,
   "id": "4a9e17ff",
   "metadata": {},
   "outputs": [],
   "source": [
    "## import things from sklearn here\n",
    "\n",
    "\n"
   ]
  },
  {
   "cell_type": "code",
   "execution_count": null,
   "id": "49769b30",
   "metadata": {},
   "outputs": [],
   "source": []
  },
  {
   "cell_type": "code",
   "execution_count": null,
   "id": "3e828fc0",
   "metadata": {},
   "outputs": [],
   "source": [
    "# make a holder for the rmses\n",
    "rmses = \n",
    "\n",
    "i = 0\n",
    "## loop through your splits here\n",
    "for :\n",
    "    tv_tt = tv_train.loc[train_index]\n",
    "    tv_ho = tv_train.loc[test_index]\n",
    "    \n",
    "    ## make your forecast\n",
    "    \n",
    "    \n",
    "    \n",
    "    ## record the rmse here\n",
    "    rmses[i] = \n",
    "    \n",
    "    \n",
    "    i = i + 1"
   ]
  },
  {
   "cell_type": "code",
   "execution_count": null,
   "id": "3587ce42",
   "metadata": {},
   "outputs": [],
   "source": [
    "## find the average rmses\n"
   ]
  },
  {
   "cell_type": "markdown",
   "id": "2f1e04aa",
   "metadata": {},
   "source": [
    "We will return to these baseline performances in `Fall Problem Session 6`."
   ]
  },
  {
   "cell_type": "markdown",
   "id": "e8b3f595",
   "metadata": {},
   "source": [
    "#### 2. Pumpkin spice interest\n",
    "\n",
    "The second data set you will work with in this problem session is a time series collected using <a href=\"https://trends.google.com/trends/?geo=US\">Google Trends</a>. This data set contains the Google Trends interest level in the United States for the search term \"pumkin spice\" since 2004.\n",
    "\n",
    "##### a.\n",
    "\n",
    "Load the data stored in `pumpkin_spice.csv` in the `Data` folder then look at the first five rows.\n",
    "\n",
    "You may want to turn the `Month` column into a `datetime` using the `parse_dates` argument of `read_csv`, <a href=\"https://pandas.pydata.org/docs/reference/api/pandas.read_csv.html\">https://pandas.pydata.org/docs/reference/api/pandas.read_csv.html</a>."
   ]
  },
  {
   "cell_type": "code",
   "execution_count": null,
   "id": "d67c55f4",
   "metadata": {},
   "outputs": [],
   "source": []
  },
  {
   "cell_type": "code",
   "execution_count": null,
   "id": "67c89d14",
   "metadata": {},
   "outputs": [],
   "source": []
  },
  {
   "cell_type": "code",
   "execution_count": null,
   "id": "0532a29f",
   "metadata": {},
   "outputs": [],
   "source": []
  },
  {
   "cell_type": "markdown",
   "id": "eb2a5280",
   "metadata": {},
   "source": [
    "- The `Month` column of this data set gives the month and year that the interest was measured. \n",
    "- The `interest_level` column of this data set gives the level of interest for \"pumpkin spice\" in the United States. From Google Trends: \"Numbers represent search interest relative to the highest point on the chart for the given region and time. A value of 100 is the peak popularity for the term. A value of 50 means that the term is half as popular. A score of 0 means there was not enough data for this term.\""
   ]
  },
  {
   "cell_type": "markdown",
   "id": "352d1542",
   "metadata": {},
   "source": [
    "##### b.\n",
    "\n",
    "One thing you may need to get more practice with is identifying the <i>stakeholders</i> for a particular problem. The stakeholders are the people who are most interested in your problem and the outcome of your solution.\n",
    "\n",
    "Thinking about this can help you frame your project goals and focus your thinking to provide a solution that most suits the stakeholders' wants/needs.\n",
    "\n",
    "For this question, take some time to think about what kinds of people may most be interested in forecasting Google search interest in \"pumpkin spice\". Why might they be interested? How could this forecast best help them?"
   ]
  },
  {
   "cell_type": "markdown",
   "id": "5dfeac8c",
   "metadata": {},
   "source": [
    "##### Write here\n",
    "\n",
    "\n"
   ]
  },
  {
   "cell_type": "markdown",
   "id": "18eefe8b",
   "metadata": {},
   "source": [
    "##### c.\n",
    "\n",
    "Make a train test split in the data. Set aside all observations after December 31, 2021 aside as the test set.\n",
    "\n",
    "<i>Hint: the `datetime` module could be useful.</i>"
   ]
  },
  {
   "cell_type": "code",
   "execution_count": null,
   "id": "5b19987d",
   "metadata": {},
   "outputs": [],
   "source": []
  },
  {
   "cell_type": "code",
   "execution_count": null,
   "id": "84f08c7a",
   "metadata": {},
   "outputs": [],
   "source": []
  },
  {
   "cell_type": "markdown",
   "id": "d105b376",
   "metadata": {},
   "source": [
    "##### d.\n",
    "\n",
    "Plot the training data.\n",
    "\n",
    "Does this time series appear to exhibit a trend or seasonality?"
   ]
  },
  {
   "cell_type": "code",
   "execution_count": null,
   "id": "090fccae",
   "metadata": {},
   "outputs": [],
   "source": [
    "plt.figure(figsize=(16,8))\n",
    "\n",
    "\n",
    "\n",
    "\n",
    "plt.xticks(fontsize=14)\n",
    "plt.yticks(fontsize=14)\n",
    "\n",
    "plt.xlabel(\"Date\", fontsize=18)\n",
    "plt.ylabel(\"Google Interest Level\", fontsize=18)\n",
    "\n",
    "plt.show()"
   ]
  },
  {
   "cell_type": "markdown",
   "id": "b59f3c91",
   "metadata": {},
   "source": [
    "##### Write any notes you would like here"
   ]
  },
  {
   "cell_type": "markdown",
   "id": "26c691f0",
   "metadata": {},
   "source": [
    "##### e.\n",
    "\n",
    "One way to explore the number of time steps in a given season is to plot scatter plots of the time series against itself at given <i>lags</i>. Such plots place the time series on the horizontal axis and the time series at $\\ell$ steps into the future on the vertical axis. Seasonal data should exhibit a high correlation between itself and lags at multiples of the season length.\n",
    "\n",
    "Make such scatter plots for lag values from $\\ell=1$ to $\\ell=25$. Also calculate the correlation between the time series and its lagged series for each value of $\\ell$ (this is known as the <i>autocorrelation</i>). Using this information how long would you say a season is?"
   ]
  },
  {
   "cell_type": "code",
   "execution_count": null,
   "id": "f3b64085",
   "metadata": {},
   "outputs": [],
   "source": [
    "## You can use this function to get the lag if you'd like\n",
    "def make_lag_plot(lag):\n",
    "    ## get all observations up to the last \"lag\" values\n",
    "    x = p_train.interest_level.values[:-lag]\n",
    "    \n",
    "    ## get the lagged values\n",
    "    y = p_train.interest_level.values[lag:]\n",
    "    \n",
    "    ## Plot the normal series against the lagged series\n",
    "    plt.figure(figsize=(6,6))\n",
    "    \n",
    "    plt.scatter(x, y, alpha=.7)\n",
    "    plt.plot([0,100], [0,100], 'k--')\n",
    "    \n",
    "    plt.title(\"Lag = \" + str(lag), fontsize=16)\n",
    "    \n",
    "    plt.show()\n",
    "    \n",
    "    ## return the correlation between the time series\n",
    "    ## and the lagged series\n",
    "    return np.corrcoef(x,y)[0,1]"
   ]
  },
  {
   "cell_type": "code",
   "execution_count": null,
   "id": "21fbbde0",
   "metadata": {},
   "outputs": [],
   "source": []
  },
  {
   "cell_type": "code",
   "execution_count": null,
   "id": "07d62325",
   "metadata": {},
   "outputs": [],
   "source": []
  },
  {
   "cell_type": "code",
   "execution_count": null,
   "id": "2d772db0",
   "metadata": {},
   "outputs": [],
   "source": []
  },
  {
   "cell_type": "code",
   "execution_count": null,
   "id": "d0b048c5",
   "metadata": {},
   "outputs": [],
   "source": []
  },
  {
   "cell_type": "markdown",
   "id": "66970aae",
   "metadata": {},
   "source": [
    "##### f.\n",
    "\n",
    "Select a baseline forecast for these data.\n",
    "\n",
    "Plot the baseline forecast along with the training data.\n",
    "\n",
    "Recall that for seasonal data we considered the following baselines in lecture:\n",
    "- The seasonal average and\n",
    "- The seasonal naive."
   ]
  },
  {
   "cell_type": "code",
   "execution_count": null,
   "id": "ca1913fd",
   "metadata": {},
   "outputs": [],
   "source": [
    "## These functions may be useful\n",
    "\n",
    "## extracts the year from a datetime\n",
    "def get_year(date):\n",
    "    return date.year\n",
    "\n",
    "## extracts the month from a datetime\n",
    "def get_month(date):\n",
    "    return date.month"
   ]
  },
  {
   "cell_type": "code",
   "execution_count": null,
   "id": "65b1c0a8",
   "metadata": {},
   "outputs": [],
   "source": []
  },
  {
   "cell_type": "code",
   "execution_count": null,
   "id": "6793fa9a",
   "metadata": {},
   "outputs": [],
   "source": []
  },
  {
   "cell_type": "code",
   "execution_count": null,
   "id": "48c68ee3",
   "metadata": {},
   "outputs": [],
   "source": []
  },
  {
   "cell_type": "code",
   "execution_count": null,
   "id": "ccb67c6a",
   "metadata": {},
   "outputs": [],
   "source": [
    "plt.figure(figsize=(16,8))\n",
    "\n",
    "## plot your training data here\n",
    "plt.plot(\n",
    "            '-o',\n",
    "            label='Training Data')\n",
    "\n",
    "## plot your forecast here\n",
    "plt.scatter(\n",
    "               color='red',\n",
    "               marker='x',\n",
    "               s=150,\n",
    "               label='Forecast')\n",
    "\n",
    "plt.xticks(fontsize=14)\n",
    "plt.yticks(fontsize=14)\n",
    "\n",
    "plt.xlabel(\"Date\", fontsize=18)\n",
    "plt.ylabel(\"Google Interest Level\", fontsize=18)\n",
    "\n",
    "plt.show()"
   ]
  },
  {
   "cell_type": "markdown",
   "id": "1ae166d8",
   "metadata": {},
   "source": [
    "##### g.\n",
    "\n",
    "Get the average cross-validation RMSE for your baseline model. Do 5-fold cross-validation with a test set size of 12."
   ]
  },
  {
   "cell_type": "code",
   "execution_count": null,
   "id": "659d5689",
   "metadata": {},
   "outputs": [],
   "source": []
  },
  {
   "cell_type": "code",
   "execution_count": null,
   "id": "b11e6f23",
   "metadata": {},
   "outputs": [],
   "source": []
  },
  {
   "cell_type": "code",
   "execution_count": null,
   "id": "1f8b67ad",
   "metadata": {},
   "outputs": [],
   "source": []
  },
  {
   "cell_type": "code",
   "execution_count": null,
   "id": "7abdeea1",
   "metadata": {},
   "outputs": [],
   "source": []
  },
  {
   "cell_type": "code",
   "execution_count": null,
   "id": "c6f47c2f",
   "metadata": {},
   "outputs": [],
   "source": []
  },
  {
   "cell_type": "markdown",
   "id": "ec4713b2",
   "metadata": {},
   "source": [
    "##### h.\n",
    "\n",
    "Doesn't it seem like pumpkin spice shows up earlier each year? Use the training set to investigate this question. For each year in the training set find the month where the peak search interest occurs, does what you find support the implicit hypothesis of the question.\n",
    "\n",
    "<i>Hint: the functions `get_year` and `get_month` could be useful here.</i>"
   ]
  },
  {
   "cell_type": "code",
   "execution_count": null,
   "id": "173b53e6",
   "metadata": {},
   "outputs": [],
   "source": [
    "def get_year(date):\n",
    "    return date.year\n",
    "\n",
    "def get_month(date):\n",
    "    return date.month"
   ]
  },
  {
   "cell_type": "code",
   "execution_count": null,
   "id": "59109f73",
   "metadata": {},
   "outputs": [],
   "source": []
  },
  {
   "cell_type": "code",
   "execution_count": null,
   "id": "abb957b4",
   "metadata": {},
   "outputs": [],
   "source": []
  },
  {
   "cell_type": "code",
   "execution_count": null,
   "id": "8f72dced",
   "metadata": {},
   "outputs": [],
   "source": []
  },
  {
   "cell_type": "code",
   "execution_count": null,
   "id": "2e230c76",
   "metadata": {},
   "outputs": [],
   "source": []
  },
  {
   "cell_type": "markdown",
   "id": "4cc519ad",
   "metadata": {},
   "source": [
    "--------------------------\n",
    "\n",
    "This notebook was written for the Erd&#337;s Institute C&#337;de Data Science Boot Camp by Matthew Osborne, Ph. D., 2022.\n",
    "\n",
    "Any potential redistributors must seek and receive permission from Matthew Tyler Osborne, Ph.D. prior to redistribution. Redistribution of the material contained in this repository is conditional on acknowledgement of Matthew Tyler Osborne, Ph.D.'s original authorship and sponsorship of the Erdős Institute as subject to the license (see License.md)"
   ]
  },
  {
   "cell_type": "code",
   "execution_count": null,
   "id": "423a2889",
   "metadata": {},
   "outputs": [],
   "source": []
  }
 ],
 "metadata": {
  "kernelspec": {
   "display_name": "Python 3 (ipykernel)",
   "language": "python",
   "name": "python3"
  },
  "language_info": {
   "codemirror_mode": {
    "name": "ipython",
    "version": 3
   },
   "file_extension": ".py",
   "mimetype": "text/x-python",
   "name": "python",
   "nbconvert_exporter": "python",
   "pygments_lexer": "ipython3",
   "version": "3.9.9"
  }
 },
 "nbformat": 4,
 "nbformat_minor": 5
}
