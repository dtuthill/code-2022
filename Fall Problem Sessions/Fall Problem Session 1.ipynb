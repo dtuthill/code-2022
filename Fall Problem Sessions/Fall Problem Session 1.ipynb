{
 "cells": [
  {
   "cell_type": "markdown",
   "id": "0e560c4f",
   "metadata": {},
   "source": [
    "# Fall Problem Session 1\n",
    "\n",
    "## Data Collection\n",
    "\n",
    "The problems contained in this notebook relate to the concepts covered in the `Data Collection` lecture notebooks."
   ]
  },
  {
   "cell_type": "code",
   "execution_count": null,
   "id": "a13b79d3",
   "metadata": {},
   "outputs": [],
   "source": [
    "import pandas as pd\n",
    "import numpy as np\n",
    "import matplotlib.pyplot as plt\n",
    "from seaborn import set_style\n",
    "set_style(\"whitegrid\")"
   ]
  },
  {
   "cell_type": "markdown",
   "id": "7eed3a9f",
   "metadata": {},
   "source": [
    "#### 1. Finding data online\n",
    "\n",
    "##### a.\n",
    "\n",
    "Go to Kaggle.com or the UC Irvine Machine Learning Repository and download a data set of your choice. Download then load that data set below using `pandas`. How many observations are in the data set?"
   ]
  },
  {
   "cell_type": "code",
   "execution_count": 27,
   "id": "4339e796",
   "metadata": {},
   "outputs": [],
   "source": [
    "import pandas as pd\n",
    "import os"
   ]
  },
  {
   "cell_type": "code",
   "execution_count": 28,
   "id": "32c58876",
   "metadata": {},
   "outputs": [
    {
     "data": {
      "text/plain": [
       "'/Users/danieltuthill/Documents/code-2022/Fall Problem Sessions'"
      ]
     },
     "execution_count": 28,
     "metadata": {},
     "output_type": "execute_result"
    }
   ],
   "source": [
    "os.getcwd()"
   ]
  },
  {
   "cell_type": "code",
   "execution_count": 33,
   "id": "1f9b764c",
   "metadata": {},
   "outputs": [],
   "source": [
    "wine = pd.read_csv(os.getcwd()+'/data/wine.data')"
   ]
  },
  {
   "cell_type": "code",
   "execution_count": 31,
   "id": "c71f9d5d",
   "metadata": {},
   "outputs": [
    {
     "data": {
      "text/plain": [
       "177"
      ]
     },
     "execution_count": 31,
     "metadata": {},
     "output_type": "execute_result"
    }
   ],
   "source": [
    "len(wine)"
   ]
  },
  {
   "cell_type": "markdown",
   "id": "ecbb2ecd",
   "metadata": {},
   "source": [
    "##### b.\n",
    "\n",
    "Your boss would like to examine potential relationships between various company stock prices. They have assigned you the task of getting all of the historical stock data for `AAPL` and `GOOG`. \n",
    "\n",
    "For this task they would like:\n",
    "- Each company to have their own `.csv` file containing the relevant stock data and\n",
    "- The data to go back to the company's initial public offering (IPO), which is the first day the company started trading its stock publicly (for `AAPL` this was December 12, 1980 and for `GOOG` this was August 19, 2004).\n",
    "\n",
    "<i>Hint: You can try competition sites, repositories or just doing a simple web search for such data.</i>"
   ]
  },
  {
   "cell_type": "code",
   "execution_count": 36,
   "id": "dd9bd55b",
   "metadata": {},
   "outputs": [],
   "source": [
    "aapl = pd.read_csv(os.getcwd()+'/data/AAPL.csv')"
   ]
  },
  {
   "cell_type": "code",
   "execution_count": 37,
   "id": "44d1e533",
   "metadata": {},
   "outputs": [],
   "source": [
    "goog = pd.read_csv(os.getcwd()+'/data/GOOG.csv')"
   ]
  },
  {
   "cell_type": "code",
   "execution_count": null,
   "id": "a5e6920c",
   "metadata": {},
   "outputs": [],
   "source": []
  },
  {
   "cell_type": "markdown",
   "id": "07dc853d",
   "metadata": {},
   "source": [
    "#### 2. Scraping Sites with `BeautifulSoup`\n",
    "\n",
    "You are interested in examining trends in Broadway revenue and attendance over the years. In this problem you will scrape data from <a href=\"https://www.playbill.com\">https://www.playbill.com/grosses</a> on weekly grosses from Broadway shows.\n",
    "\n",
    "##### a. \n",
    "\n",
    "First scrape the:\n",
    "- Show title,\n",
    "- Theatre name,\n",
    "- Gross,\n",
    "- Seats sold and\n",
    "- Percentage of the cap\n",
    "\n",
    "for all the shows found in the table at this link, <a href=\"https://www.playbill.com/grosses\">https://www.playbill.com/grosses</a>."
   ]
  },
  {
   "cell_type": "code",
   "execution_count": 44,
   "id": "126d4c58",
   "metadata": {},
   "outputs": [],
   "source": [
    "from bs4 import BeautifulSoup\n",
    "import requests\n",
    "import pandas as pd\n",
    "import time"
   ]
  },
  {
   "cell_type": "code",
   "execution_count": 3,
   "id": "b7ae3b99",
   "metadata": {},
   "outputs": [],
   "source": [
    "url = 'https://www.playbill.com/grosses'"
   ]
  },
  {
   "cell_type": "code",
   "execution_count": 4,
   "id": "6db3d3df",
   "metadata": {},
   "outputs": [],
   "source": [
    "r = requests.get(url)"
   ]
  },
  {
   "cell_type": "code",
   "execution_count": 5,
   "id": "ae2818da",
   "metadata": {},
   "outputs": [
    {
     "data": {
      "text/plain": [
       "200"
      ]
     },
     "execution_count": 5,
     "metadata": {},
     "output_type": "execute_result"
    }
   ],
   "source": [
    "r.status_code"
   ]
  },
  {
   "cell_type": "code",
   "execution_count": 6,
   "id": "47797bfb",
   "metadata": {},
   "outputs": [],
   "source": [
    "soup = BeautifulSoup(r.content,'html.parser')"
   ]
  },
  {
   "cell_type": "code",
   "execution_count": 15,
   "id": "9c9ec573",
   "metadata": {},
   "outputs": [],
   "source": [
    "shows = {\n",
    "    'titles':[],\n",
    "    'theatres':[],\n",
    "    'gross':[],\n",
    "    'seats':[],\n",
    "    'perc':[],\n",
    "}"
   ]
  },
  {
   "cell_type": "code",
   "execution_count": 16,
   "id": "ab93e386",
   "metadata": {},
   "outputs": [],
   "source": [
    "for td in soup.find_all('td',{'data-label':'Show'}):\n",
    "    shows['titles'].append(td.find('span', {'class':\"data-value\"}).text)\n",
    "    shows['theatres'].append(td.find('span', {'class':\"subtext\"}).text)"
   ]
  },
  {
   "cell_type": "code",
   "execution_count": 17,
   "id": "e0569f89",
   "metadata": {},
   "outputs": [],
   "source": [
    "for td in soup.find_all('td',{'data-label':'This Week Gross'}):\n",
    "    shows['gross'].append(td.find('span', {'class':\"data-value\"}).text)"
   ]
  },
  {
   "cell_type": "code",
   "execution_count": 18,
   "id": "14da2d51",
   "metadata": {},
   "outputs": [],
   "source": [
    "for td in soup.find_all('td',{'data-label':'Seats Sold'}):\n",
    "    shows['seats'].append(td.find('span', {'class':\"data-value\"}).text)"
   ]
  },
  {
   "cell_type": "code",
   "execution_count": 19,
   "id": "da0b89bb",
   "metadata": {},
   "outputs": [],
   "source": [
    "for td in soup.find_all('td',{'data-label':'% Cap'}):\n",
    "    shows['perc'].append(td.find('span', {'class':\"data-value\"}).text)"
   ]
  },
  {
   "cell_type": "code",
   "execution_count": 23,
   "id": "ed23a624",
   "metadata": {},
   "outputs": [
    {
     "data": {
      "text/html": [
       "<div>\n",
       "<style scoped>\n",
       "    .dataframe tbody tr th:only-of-type {\n",
       "        vertical-align: middle;\n",
       "    }\n",
       "\n",
       "    .dataframe tbody tr th {\n",
       "        vertical-align: top;\n",
       "    }\n",
       "\n",
       "    .dataframe thead th {\n",
       "        text-align: right;\n",
       "    }\n",
       "</style>\n",
       "<table border=\"1\" class=\"dataframe\">\n",
       "  <thead>\n",
       "    <tr style=\"text-align: right;\">\n",
       "      <th></th>\n",
       "      <th>gross</th>\n",
       "      <th>perc</th>\n",
       "      <th>seats</th>\n",
       "      <th>theatres</th>\n",
       "      <th>titles</th>\n",
       "    </tr>\n",
       "  </thead>\n",
       "  <tbody>\n",
       "    <tr>\n",
       "      <th>0</th>\n",
       "      <td>$1,182,424.17</td>\n",
       "      <td>92.30%</td>\n",
       "      <td>12,752</td>\n",
       "      <td>New Amsterdam Theatre</td>\n",
       "      <td>Aladdin</td>\n",
       "    </tr>\n",
       "    <tr>\n",
       "      <th>1</th>\n",
       "      <td>$930,550.00</td>\n",
       "      <td>70.61%</td>\n",
       "      <td>9,050</td>\n",
       "      <td>Marquis Theatre</td>\n",
       "      <td>Beetlejuice</td>\n",
       "    </tr>\n",
       "    <tr>\n",
       "      <th>2</th>\n",
       "      <td>$1,038,905.40</td>\n",
       "      <td>97.21%</td>\n",
       "      <td>8,290</td>\n",
       "      <td>Eugene O'Neill Theatre</td>\n",
       "      <td>The Book of Mormon</td>\n",
       "    </tr>\n",
       "    <tr>\n",
       "      <th>3</th>\n",
       "      <td>$560,097.70</td>\n",
       "      <td>75.32%</td>\n",
       "      <td>6,508</td>\n",
       "      <td>Ambassador Theatre</td>\n",
       "      <td>Chicago</td>\n",
       "    </tr>\n",
       "    <tr>\n",
       "      <th>4</th>\n",
       "      <td>$674,986.47</td>\n",
       "      <td>88.04%</td>\n",
       "      <td>7,367</td>\n",
       "      <td>Gerald Schoenfeld Theatre</td>\n",
       "      <td>Come From Away</td>\n",
       "    </tr>\n",
       "    <tr>\n",
       "      <th>5</th>\n",
       "      <td>$1,068,823.00</td>\n",
       "      <td>101.03%</td>\n",
       "      <td>7,953</td>\n",
       "      <td>Music Box Theatre</td>\n",
       "      <td>Dear Evan Hansen</td>\n",
       "    </tr>\n",
       "    <tr>\n",
       "      <th>6</th>\n",
       "      <td>$659,874.30</td>\n",
       "      <td>79.00%</td>\n",
       "      <td>7,704</td>\n",
       "      <td>August Wilson Theatre</td>\n",
       "      <td>Funny Girl</td>\n",
       "    </tr>\n",
       "    <tr>\n",
       "      <th>7</th>\n",
       "      <td>$702,190.25</td>\n",
       "      <td>94.72%</td>\n",
       "      <td>6,956</td>\n",
       "      <td>Walter Kerr Theatre</td>\n",
       "      <td>Hadestown</td>\n",
       "    </tr>\n",
       "    <tr>\n",
       "      <th>8</th>\n",
       "      <td>$2,106,039.00</td>\n",
       "      <td>93.83%</td>\n",
       "      <td>9,939</td>\n",
       "      <td>Richard Rodgers Theatre</td>\n",
       "      <td>Hamilton</td>\n",
       "    </tr>\n",
       "    <tr>\n",
       "      <th>9</th>\n",
       "      <td>$1,432,270.70</td>\n",
       "      <td>86.92%</td>\n",
       "      <td>11,279</td>\n",
       "      <td>Lyric Theatre</td>\n",
       "      <td>Harry Potter and the Cursed Child</td>\n",
       "    </tr>\n",
       "    <tr>\n",
       "      <th>10</th>\n",
       "      <td>$1,867,861.55</td>\n",
       "      <td>98.84%</td>\n",
       "      <td>13,458</td>\n",
       "      <td>St. James Theatre</td>\n",
       "      <td>Into the Woods</td>\n",
       "    </tr>\n",
       "    <tr>\n",
       "      <th>11</th>\n",
       "      <td>$294,962.60</td>\n",
       "      <td>73.17%</td>\n",
       "      <td>3,401</td>\n",
       "      <td>Helen Hayes Theater</td>\n",
       "      <td>The Kite Runner</td>\n",
       "    </tr>\n",
       "    <tr>\n",
       "      <th>12</th>\n",
       "      <td>$1,757,862.00</td>\n",
       "      <td>95.66%</td>\n",
       "      <td>12,979</td>\n",
       "      <td>Minskoff Theatre</td>\n",
       "      <td>The Lion King</td>\n",
       "    </tr>\n",
       "    <tr>\n",
       "      <th>13</th>\n",
       "      <td>$1,762,559.00</td>\n",
       "      <td>100.37%</td>\n",
       "      <td>11,137</td>\n",
       "      <td>Neil Simon Theatre</td>\n",
       "      <td>MJ The Musical</td>\n",
       "    </tr>\n",
       "    <tr>\n",
       "      <th>14</th>\n",
       "      <td>$1,219,994.65</td>\n",
       "      <td>97.67%</td>\n",
       "      <td>10,158</td>\n",
       "      <td>Al Hirschfeld Theatre</td>\n",
       "      <td>Moulin Rouge! The Musical</td>\n",
       "    </tr>\n",
       "    <tr>\n",
       "      <th>15</th>\n",
       "      <td>$1,014,614.30</td>\n",
       "      <td>97.98%</td>\n",
       "      <td>8,148</td>\n",
       "      <td>Nederlander Theatre</td>\n",
       "      <td>Mr. Saturday Night</td>\n",
       "    </tr>\n",
       "    <tr>\n",
       "      <th>16</th>\n",
       "      <td>$2,863,653.00</td>\n",
       "      <td>95.03%</td>\n",
       "      <td>11,594</td>\n",
       "      <td>Winter Garden Theatre</td>\n",
       "      <td>The Music Man</td>\n",
       "    </tr>\n",
       "    <tr>\n",
       "      <th>17</th>\n",
       "      <td>$915,981.02</td>\n",
       "      <td>77.00%</td>\n",
       "      <td>9,887</td>\n",
       "      <td>Majestic Theatre</td>\n",
       "      <td>The Phantom of the Opera</td>\n",
       "    </tr>\n",
       "    <tr>\n",
       "      <th>18</th>\n",
       "      <td>$1,167,815.00</td>\n",
       "      <td>92.31%</td>\n",
       "      <td>7,614</td>\n",
       "      <td>Brooks Atkinson Theatre</td>\n",
       "      <td>SIX: The Musical</td>\n",
       "    </tr>\n",
       "    <tr>\n",
       "      <th>19</th>\n",
       "      <td>$573,890.78</td>\n",
       "      <td>88.86%</td>\n",
       "      <td>5,673</td>\n",
       "      <td>Lyceum Theatre</td>\n",
       "      <td>A Strange Loop</td>\n",
       "    </tr>\n",
       "    <tr>\n",
       "      <th>20</th>\n",
       "      <td>$1,534,385.00</td>\n",
       "      <td>87.34%</td>\n",
       "      <td>12,626</td>\n",
       "      <td>Gershwin Theatre</td>\n",
       "      <td>Wicked</td>\n",
       "    </tr>\n",
       "  </tbody>\n",
       "</table>\n",
       "</div>"
      ],
      "text/plain": [
       "            gross     perc   seats                   theatres  \\\n",
       "0   $1,182,424.17   92.30%  12,752      New Amsterdam Theatre   \n",
       "1     $930,550.00   70.61%   9,050            Marquis Theatre   \n",
       "2   $1,038,905.40   97.21%   8,290     Eugene O'Neill Theatre   \n",
       "3     $560,097.70   75.32%   6,508         Ambassador Theatre   \n",
       "4     $674,986.47   88.04%   7,367  Gerald Schoenfeld Theatre   \n",
       "5   $1,068,823.00  101.03%   7,953          Music Box Theatre   \n",
       "6     $659,874.30   79.00%   7,704      August Wilson Theatre   \n",
       "7     $702,190.25   94.72%   6,956        Walter Kerr Theatre   \n",
       "8   $2,106,039.00   93.83%   9,939    Richard Rodgers Theatre   \n",
       "9   $1,432,270.70   86.92%  11,279              Lyric Theatre   \n",
       "10  $1,867,861.55   98.84%  13,458          St. James Theatre   \n",
       "11    $294,962.60   73.17%   3,401        Helen Hayes Theater   \n",
       "12  $1,757,862.00   95.66%  12,979           Minskoff Theatre   \n",
       "13  $1,762,559.00  100.37%  11,137         Neil Simon Theatre   \n",
       "14  $1,219,994.65   97.67%  10,158      Al Hirschfeld Theatre   \n",
       "15  $1,014,614.30   97.98%   8,148        Nederlander Theatre   \n",
       "16  $2,863,653.00   95.03%  11,594      Winter Garden Theatre   \n",
       "17    $915,981.02   77.00%   9,887           Majestic Theatre   \n",
       "18  $1,167,815.00   92.31%   7,614    Brooks Atkinson Theatre   \n",
       "19    $573,890.78   88.86%   5,673             Lyceum Theatre   \n",
       "20  $1,534,385.00   87.34%  12,626           Gershwin Theatre   \n",
       "\n",
       "                               titles  \n",
       "0                             Aladdin  \n",
       "1                         Beetlejuice  \n",
       "2                  The Book of Mormon  \n",
       "3                             Chicago  \n",
       "4                      Come From Away  \n",
       "5                    Dear Evan Hansen  \n",
       "6                          Funny Girl  \n",
       "7                           Hadestown  \n",
       "8                            Hamilton  \n",
       "9   Harry Potter and the Cursed Child  \n",
       "10                     Into the Woods  \n",
       "11                    The Kite Runner  \n",
       "12                      The Lion King  \n",
       "13                     MJ The Musical  \n",
       "14          Moulin Rouge! The Musical  \n",
       "15                 Mr. Saturday Night  \n",
       "16                      The Music Man  \n",
       "17           The Phantom of the Opera  \n",
       "18                   SIX: The Musical  \n",
       "19                     A Strange Loop  \n",
       "20                             Wicked  "
      ]
     },
     "execution_count": 23,
     "metadata": {},
     "output_type": "execute_result"
    }
   ],
   "source": [
    "pd.DataFrame(shows)"
   ]
  },
  {
   "cell_type": "markdown",
   "id": "bdbebabe",
   "metadata": {},
   "source": [
    "##### b.\n",
    "\n",
    "Notice that on <a href=\"https://www.playbill.com/grosses\">https://www.playbill.com/grosses</a> there is an interactive button under the text \"BROADWAY GROSSES WEEK ENDING\" that allows the user to get grosses for any given week. What happens to the url when you select a different week?"
   ]
  },
  {
   "cell_type": "markdown",
   "id": "3815c140",
   "metadata": {},
   "source": [
    "?week=_ is added https://www.playbill.com/grosses?week=2022-08-28"
   ]
  },
  {
   "cell_type": "code",
   "execution_count": null,
   "id": "2545cb5c",
   "metadata": {},
   "outputs": [],
   "source": [
    "for td in soup.find_all('td',{'data-label':'Show'}):\n",
    "    shows['titles'].append(td.find('span', {'class':\"data-value\"}).text)\n",
    "    shows['theatres'].append(td.find('span', {'class':\"subtext\"}).text)"
   ]
  },
  {
   "cell_type": "markdown",
   "id": "5c20cf85",
   "metadata": {},
   "source": [
    "##### c.\n",
    "\n",
    "Use `BeautifulSoup` to obtain all possible options for the week selector.\n",
    "\n",
    "<i>Hint: the options are stored in a `select` object, you should be able to find out which portion of the HTML code you want to scrape with the web developer tools</i>"
   ]
  },
  {
   "cell_type": "code",
   "execution_count": 180,
   "id": "843471d5",
   "metadata": {},
   "outputs": [
    {
     "name": "stdout",
     "output_type": "stream",
     "text": [
      "['2022-09-04', '2022-08-28', '2022-08-21', '2022-08-14', '2022-08-07', '2022-07-31', '2022-07-24', '2022-07-17', '2022-07-10', '2022-07-03', '2022-06-26', '2022-06-19', '2022-06-12', '2022-06-05', '2022-05-29', '2022-05-22', '2022-05-15', '2022-05-08', '2022-05-01', '2022-04-24']\n"
     ]
    }
   ],
   "source": [
    "weeks = soup.find('select',{'name':'year'}).text.strip().splitlines()\n",
    "print(weeks[:20])"
   ]
  },
  {
   "cell_type": "markdown",
   "id": "3fd81391",
   "metadata": {},
   "source": [
    "##### d. \n",
    "\n",
    "Write a script to record the data you scraped in <i>a.</i> for the 20 most recent weeks. Make sure to add in a small rest between each request you make to the website (You can do that with `time`'s `sleep` function, <a href=\"https://docs.python.org/3/library/time.html#time.sleep\">https://docs.python.org/3/library/time.html#time.sleep</a>).\n",
    "\n",
    "Your end result here should be a `DataFrame` that tracks the date along with all of the other information requested in <i>a.</i>"
   ]
  },
  {
   "cell_type": "code",
   "execution_count": 94,
   "id": "44b22371",
   "metadata": {},
   "outputs": [
    {
     "name": "stdout",
     "output_type": "stream",
     "text": [
      "2022-09-04 status: 200\n",
      "2022-08-28 status: 200\n",
      "2022-08-21 status: 200\n",
      "2022-08-14 status: 200\n",
      "2022-08-07 status: 200\n",
      "2022-07-31 status: 200\n",
      "2022-07-24 status: 200\n",
      "2022-07-17 status: 200\n",
      "2022-07-10 status: 200\n",
      "2022-07-03 status: 200\n",
      "2022-06-26 status: 200\n",
      "2022-06-19 status: 200\n",
      "2022-06-12 status: 200\n",
      "2022-06-05 status: 200\n",
      "2022-05-29 status: 200\n",
      "2022-05-22 status: 200\n",
      "2022-05-15 status: 200\n",
      "2022-05-08 status: 200\n",
      "2022-05-01 status: 200\n",
      "2022-04-24 status: 200\n"
     ]
    }
   ],
   "source": [
    "url = 'https://www.playbill.com/grosses'\n",
    "\n",
    "weeks = soup.find('select',{'name':'year'}).text.strip().splitlines()\n",
    "\n",
    "    shows = {\n",
    "        'titles':[],\n",
    "        'theatres':[],\n",
    "        'gross':[],\n",
    "        'seats':[],\n",
    "        'perc':[],\n",
    "        'week':[]\n",
    "    }\n",
    "\n",
    "for week in weeks[:20]:\n",
    "    \n",
    "    r = requests.get(url+'?week='+week)\n",
    "    print(week,'status:',r.status_code)\n",
    "    \n",
    "    soup = BeautifulSoup(r.content,'html.parser')\n",
    "\n",
    "    for td in soup.find_all('td',{'data-label':'Show'}):\n",
    "        shows['titles'].append(td.find('span', {'class':\"data-value\"}).text)\n",
    "        shows['theatres'].append(td.find('span', {'class':\"subtext\"}).text)\n",
    "\n",
    "    for td in soup.find_all('td',{'data-label':'This Week Gross'}):\n",
    "        shows['gross'].append(td.find('span', {'class':\"data-value\"}).text)\n",
    "\n",
    "    for td in soup.find_all('td',{'data-label':'Seats Sold'}):\n",
    "        shows['seats'].append(td.find('span', {'class':\"data-value\"}).text)\n",
    "\n",
    "    for td in soup.find_all('td',{'data-label':'% Cap'}):\n",
    "        shows['perc'].append(td.find('span', {'class':\"data-value\"}).text)\n",
    "        shows['week'].append(week)\n",
    "    \n",
    "    time.sleep(3)"
   ]
  },
  {
   "cell_type": "code",
   "execution_count": 96,
   "id": "c8269d48",
   "metadata": {},
   "outputs": [],
   "source": [
    "df = pd.DataFrame(shows)"
   ]
  },
  {
   "cell_type": "markdown",
   "id": "5a23416b",
   "metadata": {},
   "source": [
    "##### e. \n",
    "\n",
    "Plot the total gross for each week against the date provided by <a href=\"https://www.playbill.com/grosses\">https://www.playbill.com/grosses</a> for the data you just scraped. For example, if the total gross for the week of 2022-07-31 was 10,000,000 there should be a point on your plot at 2022-07-31 and 10,000,000."
   ]
  },
  {
   "cell_type": "code",
   "execution_count": 177,
   "id": "ee8a31a6",
   "metadata": {},
   "outputs": [],
   "source": [
    "sums = {}\n",
    "for week in weeks[:20]:\n",
    "    sums[week] = df.loc[df['week'] == week]['gross'].str.replace(',','').str.replace('$','').astype(float).sum()"
   ]
  },
  {
   "cell_type": "code",
   "execution_count": 178,
   "id": "557e3549",
   "metadata": {},
   "outputs": [
    {
     "data": {
      "text/plain": [
       "<matplotlib.axes._subplots.AxesSubplot at 0x7f995d488b38>"
      ]
     },
     "execution_count": 178,
     "metadata": {},
     "output_type": "execute_result"
    },
    {
     "data": {
      "image/png": "[encoded data removed]",
      "text/plain": [
       "<matplotlib.figure.Figure at 0x7f995e0335c0>"
      ]
     },
     "metadata": {
      "needs_background": "light"
     },
     "output_type": "display_data"
    }
   ],
   "source": [
    "ds = pd.Series(sums)\n",
    "ds.index = pd.to_datetime(ds.index,format='%Y-%m-%d')\n",
    "ds.plot()"
   ]
  },
  {
   "cell_type": "markdown",
   "id": "aac83234",
   "metadata": {},
   "source": [
    "#### 3. Python and APIs\n",
    "\n",
    "In this problem you will work through scraping ER episode ratings on IMDB using a Python wrapper for the IMDB API called `Cinemagoer` (formerly called `IMDBpy`). Here is a link to the documentation for this package, <a href=\"https://buildmedia.readthedocs.org/media/pdf/imdbpy/latest/imdbpy.pdf\">https://buildmedia.readthedocs.org/media/pdf/imdbpy/latest/imdbpy.pdf</a>.\n",
    "\n",
    "##### a.\n",
    "\n",
    "Go to the documentation linked to above and look for installation instructions. Install the `Cinemagoer` package onto your machine, if you do not already have it installed. You can check that the package is installed by running the code chunks given below.\n",
    "\n",
    "<i>Note, only one person in your group needs to have installed the package on their laptop in order to continue. Do not get hung up on the installation step during the problem session</i>."
   ]
  },
  {
   "cell_type": "code",
   "execution_count": 181,
   "id": "f34e0b4f",
   "metadata": {},
   "outputs": [
    {
     "ename": "ModuleNotFoundError",
     "evalue": "No module named 'imdb'",
     "output_type": "error",
     "traceback": [
      "\u001b[0;31m---------------------------------------------------------------------------\u001b[0m",
      "\u001b[0;31mModuleNotFoundError\u001b[0m                       Traceback (most recent call last)",
      "\u001b[0;32m<ipython-input-181-d88d47806cf3>\u001b[0m in \u001b[0;36m<module>\u001b[0;34m\u001b[0m\n\u001b[0;32m----> 1\u001b[0;31m \u001b[0;32mimport\u001b[0m \u001b[0mimdb\u001b[0m\u001b[0;34m\u001b[0m\u001b[0m\n\u001b[0m",
      "\u001b[0;31mModuleNotFoundError\u001b[0m: No module named 'imdb'"
     ]
    }
   ],
   "source": [
    "import imdb"
   ]
  },
  {
   "cell_type": "code",
   "execution_count": null,
   "id": "0e51854c",
   "metadata": {},
   "outputs": [],
   "source": [
    "print(imdb.__version__)"
   ]
  },
  {
   "cell_type": "markdown",
   "id": "c1b55769",
   "metadata": {},
   "source": [
    "##### b.\n",
    "\n",
    "Creating a `Cinemagoer` object is what allows us to request data from IMDB. Use the Example at the start of chapter 3 of the documentation (page 7) to learn how to create a `Cinemagoer` object."
   ]
  },
  {
   "cell_type": "code",
   "execution_count": null,
   "id": "5aeac331",
   "metadata": {},
   "outputs": [],
   "source": []
  },
  {
   "cell_type": "code",
   "execution_count": null,
   "id": "95a34f8f",
   "metadata": {},
   "outputs": [],
   "source": []
  },
  {
   "cell_type": "markdown",
   "id": "36723a5a",
   "metadata": {},
   "source": [
    "##### c.\n",
    "\n",
    "In order to get rating information from each episode of \"ER\" we need its unique identifier, its `Movie id`.\n",
    "\n",
    "We can find that using the `search_movie` function of the `Cinemagoer` class.\n",
    "\n",
    "Search the documentation for how to use `search_movie` to search for `\"ER\" (1994)` using the search term `'simpsons'`. A `list` should be returned. When you find the entry that corresponds to `\"ER\" (1994)` store a string of the id in a variable called `show_id`."
   ]
  },
  {
   "cell_type": "code",
   "execution_count": null,
   "id": "93c7064d",
   "metadata": {},
   "outputs": [],
   "source": []
  },
  {
   "cell_type": "code",
   "execution_count": null,
   "id": "365243d4",
   "metadata": {},
   "outputs": [],
   "source": []
  },
  {
   "cell_type": "markdown",
   "id": "bce9a711",
   "metadata": {},
   "source": [
    "##### d.\n",
    "\n",
    "Search the documentation for `get_movie` to see how we can get \"ER\" result using the `show_id` that we found in the last problem. Store the result in a variable called `ER`."
   ]
  },
  {
   "cell_type": "code",
   "execution_count": null,
   "id": "4a602290",
   "metadata": {},
   "outputs": [],
   "source": []
  },
  {
   "cell_type": "markdown",
   "id": "6e4a4071",
   "metadata": {},
   "source": [
    "##### e. \n",
    "\n",
    "Search the documentation for `update(series, 'episodes')` to see how to return the IMDB data for each episode and have it stored in your `ER` variable.\n",
    "\n",
    "<i>Note: Do not worry if this seems to take a long time, because \"ER\" had a lot of episodes meaning a lot of calls have to be made to the API.</i>"
   ]
  },
  {
   "cell_type": "code",
   "execution_count": null,
   "id": "bfeac9c4",
   "metadata": {},
   "outputs": [],
   "source": []
  },
  {
   "cell_type": "code",
   "execution_count": null,
   "id": "7b5a81b5",
   "metadata": {},
   "outputs": [],
   "source": []
  },
  {
   "cell_type": "markdown",
   "id": "17dc4d48",
   "metadata": {},
   "source": [
    "##### f.\n",
    "\n",
    "What is kind of Python object is returned when you run `ER['episodes']`?"
   ]
  },
  {
   "cell_type": "code",
   "execution_count": null,
   "id": "37fde122",
   "metadata": {},
   "outputs": [],
   "source": []
  },
  {
   "cell_type": "code",
   "execution_count": null,
   "id": "f359d27d",
   "metadata": {},
   "outputs": [],
   "source": []
  },
  {
   "cell_type": "markdown",
   "id": "c33ed62f",
   "metadata": {},
   "source": [
    "##### g.\n",
    "\n",
    "Look at the `keys` for an episode of your choice using `.keys()`, which one seems to contain the IMDB rating?"
   ]
  },
  {
   "cell_type": "code",
   "execution_count": null,
   "id": "e13feabe",
   "metadata": {},
   "outputs": [],
   "source": []
  },
  {
   "cell_type": "code",
   "execution_count": null,
   "id": "04f82e6b",
   "metadata": {},
   "outputs": [],
   "source": []
  },
  {
   "cell_type": "markdown",
   "id": "174e22db",
   "metadata": {},
   "source": [
    "##### h.\n",
    "\n",
    "Write some python code to store each episode's rating in a list."
   ]
  },
  {
   "cell_type": "code",
   "execution_count": null,
   "id": "fa186b78",
   "metadata": {},
   "outputs": [],
   "source": []
  },
  {
   "cell_type": "code",
   "execution_count": null,
   "id": "dc247503",
   "metadata": {},
   "outputs": [],
   "source": []
  },
  {
   "cell_type": "markdown",
   "id": "c7aeaf2e",
   "metadata": {},
   "source": [
    "##### i.\n",
    "\n",
    "Use `matplotlib` to plot the ratings over time to see how reception of the show has changed."
   ]
  },
  {
   "cell_type": "code",
   "execution_count": null,
   "id": "b9eb7ffe",
   "metadata": {},
   "outputs": [],
   "source": []
  },
  {
   "cell_type": "code",
   "execution_count": null,
   "id": "f6b40545",
   "metadata": {},
   "outputs": [],
   "source": [
    "## Fill in the missing code\n",
    "plt.figure(figsize=(12,8))\n",
    "\n",
    "plt.scatter()\n",
    "\n",
    "plt.xlabel()\n",
    "plt.ylabel()\n",
    "\n",
    "\n",
    "plt.show()"
   ]
  },
  {
   "cell_type": "markdown",
   "id": "cb7efca8",
   "metadata": {},
   "source": [
    "#### 4. Slightly more advanced `BeautifulSoup`\n",
    "\n",
    "This is a problem that will introduce a new scraping technique that you may need to use in your future quests for data.\n",
    "\n",
    "Your job is to scrape the player names and `BadPass` `LostBall` columns of the \"Play-by-Play\" table at this link, <a href=\"\"https://www.basketball-reference.com/teams/CHI/1998.html\"\">\"https://www.basketball-reference.com/teams/CHI/1998.html\"</a>.\n",
    "\n",
    "##### a.\n",
    "\n",
    "First go to this link and examine the table in question so you know what you want to scrape.\n",
    "\n",
    "##### b.\n",
    "\n",
    "Make a `BeautifulSoup` object of that link's source code."
   ]
  },
  {
   "cell_type": "code",
   "execution_count": null,
   "id": "1fc4cf26",
   "metadata": {},
   "outputs": [],
   "source": []
  },
  {
   "cell_type": "code",
   "execution_count": null,
   "id": "8a7d1674",
   "metadata": {},
   "outputs": [],
   "source": []
  },
  {
   "cell_type": "markdown",
   "id": "5a28c618",
   "metadata": {},
   "source": [
    "##### c.\n",
    "\n",
    "Try to use the `find` function to get the code for the \"Play-by-Play\" table. What happens?"
   ]
  },
  {
   "cell_type": "code",
   "execution_count": null,
   "id": "9ba2d167",
   "metadata": {},
   "outputs": [],
   "source": []
  },
  {
   "cell_type": "code",
   "execution_count": null,
   "id": "6148feed",
   "metadata": {},
   "outputs": [],
   "source": []
  },
  {
   "cell_type": "markdown",
   "id": "ba897094",
   "metadata": {},
   "source": [
    "##### d.\n",
    "\n",
    "`BeautifulSoup` is unable to find the specified table. This is because it is stored as an HTML comment. So we have to search the comments to get the table we want, this is because the table is stored in a comment within the source code.\n",
    "\n",
    "To do so we will use `bs4`'s `Comment` object. Try to follow what is found in this stack post, <a href=\"https://stackoverflow.com/questions/33138937/how-to-find-all-comments-with-beautiful-soup\">https://stackoverflow.com/questions/33138937/how-to-find-all-comments-with-beautiful-soup</a>."
   ]
  },
  {
   "cell_type": "code",
   "execution_count": null,
   "id": "0bdf48f5",
   "metadata": {},
   "outputs": [],
   "source": [
    "## Import Comment\n",
    "from bs4 import Comment"
   ]
  },
  {
   "cell_type": "code",
   "execution_count": null,
   "id": "7d3f35c7",
   "metadata": {},
   "outputs": [],
   "source": []
  },
  {
   "cell_type": "code",
   "execution_count": null,
   "id": "848991a8",
   "metadata": {},
   "outputs": [],
   "source": []
  },
  {
   "cell_type": "markdown",
   "id": "54cfb346",
   "metadata": {},
   "source": [
    "##### e.\n",
    "\n",
    "Once you have found the comment that contains the table we want you have to turn that comment into a `BeautifulSoup` object. Do so now."
   ]
  },
  {
   "cell_type": "code",
   "execution_count": null,
   "id": "bbf1f278",
   "metadata": {},
   "outputs": [],
   "source": []
  },
  {
   "cell_type": "markdown",
   "id": "040286ba",
   "metadata": {},
   "source": [
    "##### f.\n",
    "\n",
    "Now scrape the desired data and store it in a `pandas` `DataFrame`."
   ]
  },
  {
   "cell_type": "code",
   "execution_count": null,
   "id": "b22043f8",
   "metadata": {},
   "outputs": [],
   "source": []
  },
  {
   "cell_type": "markdown",
   "id": "0e35237f",
   "metadata": {},
   "source": [
    "--------------------------\n",
    "\n",
    "This notebook was written for the Erd&#337;s Institute C&#337;de Data Science Boot Camp by Matthew Osborne, Ph. D., 2022.\n",
    "\n",
    "Any potential redistributors must seek and receive permission from Matthew Tyler Osborne, Ph.D. prior to redistribution. Redistribution of the material contained in this repository is conditional on acknowledgement of Matthew Tyler Osborne, Ph.D.'s original authorship and sponsorship of the Erdős Institute as subject to the license (see License.md)"
   ]
  },
  {
   "cell_type": "code",
   "execution_count": null,
   "id": "0aa4a85e",
   "metadata": {},
   "outputs": [],
   "source": []
  }
 ],
 "metadata": {
  "kernelspec": {
   "display_name": "Python 3 (ipykernel)",
   "language": "python",
   "name": "python3"
  },
  "language_info": {
   "codemirror_mode": {
    "name": "ipython",
    "version": 3
   },
   "file_extension": ".py",
   "mimetype": "text/x-python",
   "name": "python",
   "nbconvert_exporter": "python",
   "pygments_lexer": "ipython3",
   "version": "3.8.13"
  }
 },
 "nbformat": 4,
 "nbformat_minor": 5
}
