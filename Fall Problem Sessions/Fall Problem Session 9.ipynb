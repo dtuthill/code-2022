{
 "cells": [
  {
   "cell_type": "markdown",
   "id": "875c16fa",
   "metadata": {},
   "source": [
    "# Fall Problem Session 9\n",
    "## Classifying Pumpkin Seeds III\n",
    "\n",
    "In this notebook you continue to work with the pumpkin seed data from <a href=\"https://link.springer.com/article/10.1007/s10722-021-01226-0\">The use of machine learning methods in classification of pumpkin seeds (Cucurbita pepo L.)</a> by Koklu, Sarigil and Ozbek (2021).\n",
    "\n",
    "\n",
    "The problems in this notebook will cover the content covered in some of our `Classification`, `Dimension Reduction` and our `Ensemble Learning` notebooks. In particular we will cover content touched on in:\n",
    "- `Classification/Support Vector Machines`\n",
    "- `Classification/Decision Trees`,\n",
    "- `Ensemble Learning/Random Forests` and\n",
    "- `Dimension Reduction/Principal Components Analysis`."
   ]
  },
  {
   "cell_type": "code",
   "execution_count": 1,
   "id": "aced6cff",
   "metadata": {},
   "outputs": [],
   "source": [
    "## Importing packages you will likely use\n",
    "import pandas as pd\n",
    "import numpy as np\n",
    "import matplotlib.pyplot as plt\n",
    "import seaborn as sns\n",
    "\n",
    "sns.set_style(\"whitegrid\")"
   ]
  },
  {
   "cell_type": "markdown",
   "id": "bf457885",
   "metadata": {},
   "source": [
    "#### 1. Load and prepare the data\n",
    "\n",
    "Run the code below in order to:\n",
    "\n",
    "- Load the data stored in `Pumpkin_Seeds_Dataset.xlsx` in the `Data` folder,\n",
    "- Create a column `y` where `y=1` if `Class=Ürgüp Sivrisi` and `y=0` if `Class=Çerçevelik` and\n",
    "- Make a train test split setting $10\\%$ of the data aside as a test set."
   ]
  },
  {
   "cell_type": "code",
   "execution_count": 2,
   "id": "3ee0ffa4",
   "metadata": {},
   "outputs": [],
   "source": [
    "## loading the data\n",
    "seeds = pd.read_excel(\"../Data/Pumpkin_Seeds_Dataset.xlsx\")\n",
    "\n",
    "## making a target column, y\n",
    "seeds['y'] = 0\n",
    "\n",
    "seeds.loc[seeds.Class=='Ürgüp Sivrisi', 'y']=1"
   ]
  },
  {
   "cell_type": "code",
   "execution_count": 3,
   "id": "5bfe8280",
   "metadata": {},
   "outputs": [],
   "source": [
    "## importing train_test_split\n",
    "from sklearn.model_selection import train_test_split"
   ]
  },
  {
   "cell_type": "code",
   "execution_count": 4,
   "id": "907076c0",
   "metadata": {},
   "outputs": [],
   "source": [
    "## making a stratified train test split\n",
    "seeds_train, seeds_test = train_test_split(seeds.copy(),\n",
    "                                              shuffle=True,\n",
    "                                              random_state=123,\n",
    "                                              test_size=.1,\n",
    "                                              stratify=seeds.y.values)"
   ]
  },
  {
   "cell_type": "markdown",
   "id": "8078109c",
   "metadata": {},
   "source": [
    "#### 2. Refresh your memory\n",
    "\n",
    "If you need to refresh your memory on these data and the problem, you may want to look at a small subset of the data, look back on `Fall Problem Session 7` and `Fall Problem Session 8` and/or browse Figure 5 and Table 1 of this paper, <a href=\"pumpkin_seed_paper.pdf\">pumpkin_seed_paper.pdf</a>"
   ]
  },
  {
   "cell_type": "markdown",
   "id": "23bcbf77",
   "metadata": {},
   "source": [
    "#### 3. A support vector machine classifier\n",
    "\n",
    "In this problem you will work to build a support vector classifier on these data. Along the way you will get a closer look at iterative versions of the hyperparameter grid search. \n",
    "\n",
    "##### a.\n",
    "\n",
    "Start by importing the support vector classifier from `sklearn`. Note that these data are not close to being linearly separable so we will not want `LinearSVC`."
   ]
  },
  {
   "cell_type": "code",
   "execution_count": 5,
   "id": "c5806f39",
   "metadata": {},
   "outputs": [],
   "source": [
    "## import LinearSVC here\n",
    "from sklearn.svm import SVC"
   ]
  },
  {
   "cell_type": "markdown",
   "id": "0014c0b9",
   "metadata": {},
   "source": [
    "##### b.\n",
    "\n",
    "You will now perform hyperparameter tuning on the `C` parameter of the support vector classifier. Fill in the missing pieces of the code below to perform 10-fold cross-validation for different values of `C`."
   ]
  },
  {
   "cell_type": "code",
   "execution_count": 10,
   "id": "14022e6f",
   "metadata": {},
   "outputs": [],
   "source": [
    "## import the correct kfold class\n",
    "from sklearn.model_selection import StratifiedKFold\n",
    "## import Pipeline and StandardScaler\n",
    "from sklearn.pipeline import Pipeline\n",
    "from sklearn.preprocessing import StandardScaler\n",
    "\n",
    "## import accuracy_score\n",
    "from sklearn.metrics import accuracy_score"
   ]
  },
  {
   "cell_type": "code",
   "execution_count": 11,
   "id": "45fb0157",
   "metadata": {},
   "outputs": [],
   "source": [
    "## this will isolate the feature columns for you\n",
    "features = seeds_train.columns[:-2]"
   ]
  },
  {
   "cell_type": "code",
   "execution_count": 22,
   "id": "a2ee08e9",
   "metadata": {},
   "outputs": [],
   "source": [
    "## set the number of CV folds\n",
    "n_splits = 10\n",
    "\n",
    "## Make the kfold object\n",
    "kfold = StratifiedKFold(n_splits,\n",
    "                       shuffle = True,\n",
    "                       random_state = 2013)\n",
    "\n",
    "## the values of C you will try\n",
    "Cs = [.01, .1, 1, 10, 25, 50, 75, 100, 125, 150]\n",
    "\n",
    "## this will hold the CV accuracies\n",
    "C_accs1 = np.zeros((n_splits, len(Cs)))\n",
    "\n",
    "\n",
    "## the cross-validation loop\n",
    "i = 0\n",
    "for train_index, test_index in kfold.split(seeds_train, seeds_train.y):\n",
    "    seeds_tt = seeds_train.iloc[train_index]\n",
    "    seeds_ho = seeds_train.iloc[test_index]\n",
    "    \n",
    "    j = 0\n",
    "    ## loop through all possible values of C\n",
    "    for C in Cs:\n",
    "        ## make the model, fit it and get the prediction \n",
    "        pipe = Pipeline([('scale', StandardScaler()),\n",
    "                        ('svc',SVC(kernel='rbf', C=C))])\n",
    "        \n",
    "        pipe.fit(seeds_tt[features].values,\n",
    "                   seeds_tt.y.values)\n",
    "        \n",
    "        pred = pipe.predict(seeds_ho[features].values)\n",
    "        \n",
    "        ## record the accuracy of your prediction on the holdout set\n",
    "        C_accs1[i, j] = accuracy_score(seeds_ho.y, pred)\n",
    "        \n",
    "        j = j + 1\n",
    "    i = i + 1"
   ]
  },
  {
   "cell_type": "markdown",
   "id": "58f7f3e3",
   "metadata": {},
   "source": [
    "##### c.\n",
    "\n",
    "Plot the average cross-validation accuracy against the $\\log$ of `C`."
   ]
  },
  {
   "cell_type": "code",
   "execution_count": 23,
   "id": "57b237d2",
   "metadata": {},
   "outputs": [
    {
     "data": {
      "image/png": "[encoded data removed]",
      "text/plain": [
       "<Figure size 800x600 with 1 Axes>"
      ]
     },
     "metadata": {},
     "output_type": "display_data"
    }
   ],
   "source": [
    "## make a figure object\n",
    "plt.figure(figsize = (8,6))\n",
    "\n",
    "## plot the log of C on the horizontal axis,\n",
    "## the avg cv accuracy on the vertical axis\n",
    "plt.plot(np.log10(Cs),C_accs1.mean(0))\n",
    "\n",
    "## adding labels\n",
    "plt.xlabel(\"$\\log(C)$\", fontsize=16)\n",
    "plt.ylabel(\"Avg. CV Accuracy\", fontsize=16)\n",
    "plt.xticks(np.arange(-2,3,.5),fontsize=14)\n",
    "plt.yticks(fontsize=14)\n",
    "\n",
    "plt.show()"
   ]
  },
  {
   "cell_type": "markdown",
   "id": "30465687",
   "metadata": {},
   "source": [
    "##### d.\n",
    "\n",
    "A common thing that is done after one grid search is to do another grid search using values from the previous grid search as the endpoints of the grid. This is done to try and better hone in on the optimal value of the hyperparameter.\n",
    "\n",
    "Create a new grid of `C` values using the plot you made in <i>c.</i> to determine the new endpoints. Then run cross-validation a second time. Plot the average accuracies against `C`."
   ]
  },
  {
   "cell_type": "code",
   "execution_count": 24,
   "id": "4a782dcb",
   "metadata": {},
   "outputs": [],
   "source": [
    "## the values of C you will try\n",
    "Cs = [1,10,20,30,40,50,60,70,80,90,100]\n",
    "\n",
    "## this will hold the CV accuracies\n",
    "C_accs2 = np.zeros((n_splits, len(Cs)))\n",
    "\n",
    "\n",
    "## the cross-validation loop\n",
    "i = 0\n",
    "for train_index, test_index in kfold.split(seeds_train, seeds_train.y):\n",
    "    seeds_tt = seeds_train.iloc[train_index]\n",
    "    seeds_ho = seeds_train.iloc[test_index]\n",
    "    \n",
    "    j = 0\n",
    "    ## looping through your new C values\n",
    "    for C in Cs:\n",
    "        ## make the model, fit it and get the prediction \n",
    "        pipe = Pipeline([('scale', StandardScaler()),\n",
    "                        ('svc',SVC(kernel='rbf', C=C))])\n",
    "        \n",
    "        pipe.fit(seeds_tt[features].values,\n",
    "                   seeds_tt.y.values)\n",
    "        \n",
    "        pred = pipe.predict(seeds_ho[features].values)\n",
    "        \n",
    "        ## record the accuracy of your prediction on the holdout set\n",
    "        C_accs2[i, j] = accuracy_score(seeds_ho.y, pred)\n",
    "        \n",
    "        j = j + 1\n",
    "    i = i + 1"
   ]
  },
  {
   "cell_type": "code",
   "execution_count": 26,
   "id": "cc05a143",
   "metadata": {},
   "outputs": [
    {
     "data": {
      "image/png": "[encoded data removed]",
      "text/plain": [
       "<Figure size 800x600 with 1 Axes>"
      ]
     },
     "metadata": {},
     "output_type": "display_data"
    }
   ],
   "source": [
    "plt.figure(figsize = (8,6))\n",
    "\n",
    "## Plot the C values on the horizontal axis\n",
    "## plot the avg CV accuracies on the vertical axis\n",
    "plt.plot(np.log10(Cs),C_accs2.mean(0))\n",
    "\n",
    "plt.xlabel(\"$C$\", fontsize=16)\n",
    "plt.ylabel(\"Avg. CV Accuracy\", fontsize=16)\n",
    "plt.xticks(fontsize=14)\n",
    "plt.yticks(fontsize=14)\n",
    "\n",
    "plt.show()"
   ]
  },
  {
   "cell_type": "markdown",
   "id": "22d5fe43",
   "metadata": {},
   "source": [
    "##### e.\n",
    "\n",
    "What was the optimal value of `C`, what was the average cross-validation accuracy for this value of `C`?"
   ]
  },
  {
   "cell_type": "markdown",
   "id": "9359a5f7",
   "metadata": {},
   "source": [
    "##### Write your answer here"
   ]
  },
  {
   "cell_type": "code",
   "execution_count": null,
   "id": "82cf73c3",
   "metadata": {},
   "outputs": [],
   "source": []
  },
  {
   "cell_type": "markdown",
   "id": "5dd1339e",
   "metadata": {},
   "source": [
    "#### 4. Tuning a random forest with `GridSearchCV`\n",
    "\n",
    "In this problem you will tune the `max_depth` and `n_estimators` hyperparameters of a random forest model. First you will use a `for` loop for the cross-validation. Then you will see how much easier your life could be with `GridSearchCV`.\n",
    "\n",
    "##### a. \n",
    "\n",
    "Import `sklearn`'s random forest model for classification."
   ]
  },
  {
   "cell_type": "code",
   "execution_count": 27,
   "id": "c7af9c19",
   "metadata": {},
   "outputs": [],
   "source": [
    "## Import the random forest classification model\n",
    "from sklearn.ensemble import RandomForestClassifier"
   ]
  },
  {
   "cell_type": "markdown",
   "id": "2e0a2727",
   "metadata": {},
   "source": [
    "##### b.\n",
    "\n",
    "Fill in the code below to find the values of `max_depth` and `n_estimators` with the highest average cross-validation accuracy."
   ]
  },
  {
   "cell_type": "code",
   "execution_count": 35,
   "id": "552aa0fe",
   "metadata": {},
   "outputs": [
    {
     "name": "stdout",
     "output_type": "stream",
     "text": [
      "0 0 0\n",
      "0 0 1\n",
      "0 1 0\n",
      "0 1 1\n",
      "0 2 0\n",
      "0 2 1\n",
      "0 3 0\n",
      "0 3 1\n",
      "0 4 0\n",
      "0 4 1\n",
      "0 5 0\n",
      "0 5 1\n",
      "0 6 0\n",
      "0 6 1\n",
      "0 7 0\n",
      "0 7 1\n",
      "0 8 0\n",
      "0 8 1\n",
      "0 9 0\n",
      "0 9 1\n",
      "1 0 0\n",
      "1 0 1\n",
      "1 1 0\n",
      "1 1 1\n",
      "1 2 0\n",
      "1 2 1\n",
      "1 3 0\n",
      "1 3 1\n",
      "1 4 0\n",
      "1 4 1\n",
      "1 5 0\n",
      "1 5 1\n",
      "1 6 0\n",
      "1 6 1\n",
      "1 7 0\n",
      "1 7 1\n",
      "1 8 0\n",
      "1 8 1\n",
      "1 9 0\n",
      "1 9 1\n",
      "2 0 0\n",
      "2 0 1\n",
      "2 1 0\n",
      "2 1 1\n",
      "2 2 0\n",
      "2 2 1\n",
      "2 3 0\n",
      "2 3 1\n",
      "2 4 0\n",
      "2 4 1\n",
      "2 5 0\n",
      "2 5 1\n",
      "2 6 0\n",
      "2 6 1\n",
      "2 7 0\n",
      "2 7 1\n",
      "2 8 0\n",
      "2 8 1\n",
      "2 9 0\n",
      "2 9 1\n",
      "3 0 0\n",
      "3 0 1\n",
      "3 1 0\n",
      "3 1 1\n",
      "3 2 0\n",
      "3 2 1\n",
      "3 3 0\n",
      "3 3 1\n",
      "3 4 0\n",
      "3 4 1\n",
      "3 5 0\n",
      "3 5 1\n",
      "3 6 0\n",
      "3 6 1\n",
      "3 7 0\n",
      "3 7 1\n",
      "3 8 0\n",
      "3 8 1\n",
      "3 9 0\n",
      "3 9 1\n",
      "4 0 0\n",
      "4 0 1\n",
      "4 1 0\n",
      "4 1 1\n",
      "4 2 0\n",
      "4 2 1\n",
      "4 3 0\n",
      "4 3 1\n",
      "4 4 0\n",
      "4 4 1\n",
      "4 5 0\n",
      "4 5 1\n",
      "4 6 0\n",
      "4 6 1\n",
      "4 7 0\n",
      "4 7 1\n",
      "4 8 0\n",
      "4 8 1\n",
      "4 9 0\n",
      "4 9 1\n",
      "5 0 0\n",
      "5 0 1\n",
      "5 1 0\n",
      "5 1 1\n",
      "5 2 0\n",
      "5 2 1\n",
      "5 3 0\n",
      "5 3 1\n",
      "5 4 0\n",
      "5 4 1\n",
      "5 5 0\n",
      "5 5 1\n",
      "5 6 0\n",
      "5 6 1\n",
      "5 7 0\n",
      "5 7 1\n",
      "5 8 0\n",
      "5 8 1\n",
      "5 9 0\n",
      "5 9 1\n",
      "6 0 0\n",
      "6 0 1\n",
      "6 1 0\n",
      "6 1 1\n",
      "6 2 0\n",
      "6 2 1\n",
      "6 3 0\n",
      "6 3 1\n",
      "6 4 0\n",
      "6 4 1\n",
      "6 5 0\n",
      "6 5 1\n",
      "6 6 0\n",
      "6 6 1\n",
      "6 7 0\n",
      "6 7 1\n",
      "6 8 0\n",
      "6 8 1\n",
      "6 9 0\n",
      "6 9 1\n",
      "7 0 0\n",
      "7 0 1\n",
      "7 1 0\n",
      "7 1 1\n",
      "7 2 0\n",
      "7 2 1\n",
      "7 3 0\n",
      "7 3 1\n",
      "7 4 0\n",
      "7 4 1\n",
      "7 5 0\n",
      "7 5 1\n",
      "7 6 0\n",
      "7 6 1\n",
      "7 7 0\n",
      "7 7 1\n",
      "7 8 0\n",
      "7 8 1\n",
      "7 9 0\n",
      "7 9 1\n",
      "8 0 0\n",
      "8 0 1\n",
      "8 1 0\n",
      "8 1 1\n",
      "8 2 0\n",
      "8 2 1\n",
      "8 3 0\n",
      "8 3 1\n",
      "8 4 0\n",
      "8 4 1\n",
      "8 5 0\n",
      "8 5 1\n",
      "8 6 0\n",
      "8 6 1\n",
      "8 7 0\n",
      "8 7 1\n",
      "8 8 0\n",
      "8 8 1\n",
      "8 9 0\n",
      "8 9 1\n",
      "9 0 0\n",
      "9 0 1\n",
      "9 1 0\n",
      "9 1 1\n",
      "9 2 0\n",
      "9 2 1\n",
      "9 3 0\n",
      "9 3 1\n",
      "9 4 0\n",
      "9 4 1\n",
      "9 5 0\n",
      "9 5 1\n",
      "9 6 0\n",
      "9 6 1\n",
      "9 7 0\n",
      "9 7 1\n",
      "9 8 0\n",
      "9 8 1\n",
      "9 9 0\n",
      "9 9 1\n"
     ]
    }
   ],
   "source": [
    "## note this will take about 2 minutes to run\n",
    "\n",
    "## the possible max_depth values you'll consider\n",
    "max_depths = range(1, 11)\n",
    "\n",
    "## you'll consider n_estimators = 100, and 500\n",
    "n_trees = [100, 500]\n",
    "\n",
    "\n",
    "## This will record the accuracies for each loop\n",
    "rf_accs = np.zeros((n_splits, len(max_depths), len(n_trees)))\n",
    "\n",
    "\n",
    "i = 0\n",
    "## the cross-validation loop\n",
    "for train_index, test_index in kfold.split(seeds_train, seeds_train.y):\n",
    "    seeds_tt = seeds_train.iloc[train_index]\n",
    "    seeds_ho = seeds_train.iloc[test_index]\n",
    "    \n",
    "    j = 0\n",
    "    ## looping through all possible max_depth values\n",
    "    for max_depth in max_depths:\n",
    "        k = 0\n",
    "        ## looping through all possible n_estimators values\n",
    "        for n_estimators in n_trees:\n",
    "            print(i,j,k)\n",
    "            ## make the random forest model object here\n",
    "            ## set max_samples = int(.8*len(seeds_tt)) and set a random state\n",
    "            pipe = Pipeline([('scale', StandardScaler()),\n",
    "                        ('rf',RandomForestClassifier(max_depth = max_depth,\n",
    "                                n_estimators = n_estimators,\n",
    "                                random_state = 614,\n",
    "                                max_samples = int(.8*len(seeds_tt))))])\n",
    "        \n",
    "            pipe.fit(seeds_tt[features].values,\n",
    "                       seeds_tt.y.values)\n",
    "            \n",
    "            \n",
    "            \n",
    "            ## get the prediction on the holdout set\n",
    "            pred = pipe.predict(seeds_ho[features].values)\n",
    "            \n",
    "            ## record the accuracy of the prediction\n",
    "            rf_accs[i,j,k] = accuracy_score(seeds_ho.y,  pred)\n",
    "            k = k + 1\n",
    "        j = j + 1\n",
    "    i = i + 1"
   ]
  },
  {
   "cell_type": "code",
   "execution_count": 36,
   "id": "094ae52d",
   "metadata": {},
   "outputs": [
    {
     "name": "stdout",
     "output_type": "stream",
     "text": [
      "Maximum Depth: 6\n",
      "Number of trees: 500\n"
     ]
    }
   ],
   "source": [
    "## This gives you the values with the best Avg CV Accuracy\n",
    "max_index = np.unravel_index(np.argmax(np.mean(rf_accs, axis=0), axis=None), \n",
    "                                       np.mean(rf_accs, axis=0).shape)\n",
    "\n",
    "\n",
    "print(\"Maximum Depth:\",max_depths[max_index[0]])\n",
    "print(\"Number of trees:\",n_trees[max_index[1]])"
   ]
  },
  {
   "cell_type": "code",
   "execution_count": 37,
   "id": "d3858b9c",
   "metadata": {},
   "outputs": [
    {
     "data": {
      "text/plain": [
       "array([[0.86533333, 0.86355556],\n",
       "       [0.86755556, 0.86533333],\n",
       "       [0.87377778, 0.87422222],\n",
       "       [0.88311111, 0.88222222],\n",
       "       [0.888     , 0.88977778],\n",
       "       [0.88755556, 0.892     ],\n",
       "       [0.88711111, 0.88977778],\n",
       "       [0.88977778, 0.89111111],\n",
       "       [0.88844444, 0.89155556],\n",
       "       [0.89022222, 0.89155556]])"
      ]
     },
     "execution_count": 37,
     "metadata": {},
     "output_type": "execute_result"
    }
   ],
   "source": [
    "## find the optimal mean CV Accuracy here here\n",
    "rf_accs[:,:,:].mean(0)"
   ]
  },
  {
   "cell_type": "code",
   "execution_count": 40,
   "id": "1db9d779-8dca-41f3-9c9c-70f05ace8511",
   "metadata": {},
   "outputs": [
    {
     "data": {
      "text/plain": [
       "0.892"
      ]
     },
     "execution_count": 40,
     "metadata": {},
     "output_type": "execute_result"
    }
   ],
   "source": [
    "rf_accs[:,5,1].mean(0)"
   ]
  },
  {
   "cell_type": "markdown",
   "id": "ce5c8598",
   "metadata": {},
   "source": [
    "##### c.\n",
    "\n",
    "In this problem you will learn about `GridSearchCV`, <a href=\"https://scikit-learn.org/stable/modules/generated/sklearn.model_selection.GridSearchCV.html\">https://scikit-learn.org/stable/modules/generated/sklearn.model_selection.GridSearchCV.html</a>, a handy class from `sklearn` that makes hyperparameter tuning through a grid search and cross-validation quicker to code up than writing out a series of `for` loops.\n",
    "\n",
    "\n",
    "Read through the code chunks below and fill in the missing code to run the same grid search cross-validation you did above with `GridSearchCV`."
   ]
  },
  {
   "cell_type": "code",
   "execution_count": 42,
   "id": "1ae54519",
   "metadata": {},
   "outputs": [],
   "source": [
    "## first import GridSearchCV\n",
    "from sklearn.model_selection import GridSearchCV"
   ]
  },
  {
   "cell_type": "code",
   "execution_count": 46,
   "id": "5016073d",
   "metadata": {},
   "outputs": [
    {
     "data": {
      "text/html": [
       "<style>#sk-container-id-1 {color: black;background-color: white;}#sk-container-id-1 pre{padding: 0;}#sk-container-id-1 div.sk-toggleable {background-color: white;}#sk-container-id-1 label.sk-toggleable__label {cursor: pointer;display: block;width: 100%;margin-bottom: 0;padding: 0.3em;box-sizing: border-box;text-align: center;}#sk-container-id-1 label.sk-toggleable__label-arrow:before {content: \"▸\";float: left;margin-right: 0.25em;color: #696969;}#sk-container-id-1 label.sk-toggleable__label-arrow:hover:before {color: black;}#sk-container-id-1 div.sk-estimator:hover label.sk-toggleable__label-arrow:before {color: black;}#sk-container-id-1 div.sk-toggleable__content {max-height: 0;max-width: 0;overflow: hidden;text-align: left;background-color: #f0f8ff;}#sk-container-id-1 div.sk-toggleable__content pre {margin: 0.2em;color: black;border-radius: 0.25em;background-color: #f0f8ff;}#sk-container-id-1 input.sk-toggleable__control:checked~div.sk-toggleable__content {max-height: 200px;max-width: 100%;overflow: auto;}#sk-container-id-1 input.sk-toggleable__control:checked~label.sk-toggleable__label-arrow:before {content: \"▾\";}#sk-container-id-1 div.sk-estimator input.sk-toggleable__control:checked~label.sk-toggleable__label {background-color: #d4ebff;}#sk-container-id-1 div.sk-label input.sk-toggleable__control:checked~label.sk-toggleable__label {background-color: #d4ebff;}#sk-container-id-1 input.sk-hidden--visually {border: 0;clip: rect(1px 1px 1px 1px);clip: rect(1px, 1px, 1px, 1px);height: 1px;margin: -1px;overflow: hidden;padding: 0;position: absolute;width: 1px;}#sk-container-id-1 div.sk-estimator {font-family: monospace;background-color: #f0f8ff;border: 1px dotted black;border-radius: 0.25em;box-sizing: border-box;margin-bottom: 0.5em;}#sk-container-id-1 div.sk-estimator:hover {background-color: #d4ebff;}#sk-container-id-1 div.sk-parallel-item::after {content: \"\";width: 100%;border-bottom: 1px solid gray;flex-grow: 1;}#sk-container-id-1 div.sk-label:hover label.sk-toggleable__label {background-color: #d4ebff;}#sk-container-id-1 div.sk-serial::before {content: \"\";position: absolute;border-left: 1px solid gray;box-sizing: border-box;top: 0;bottom: 0;left: 50%;z-index: 0;}#sk-container-id-1 div.sk-serial {display: flex;flex-direction: column;align-items: center;background-color: white;padding-right: 0.2em;padding-left: 0.2em;position: relative;}#sk-container-id-1 div.sk-item {position: relative;z-index: 1;}#sk-container-id-1 div.sk-parallel {display: flex;align-items: stretch;justify-content: center;background-color: white;position: relative;}#sk-container-id-1 div.sk-item::before, #sk-container-id-1 div.sk-parallel-item::before {content: \"\";position: absolute;border-left: 1px solid gray;box-sizing: border-box;top: 0;bottom: 0;left: 50%;z-index: -1;}#sk-container-id-1 div.sk-parallel-item {display: flex;flex-direction: column;z-index: 1;position: relative;background-color: white;}#sk-container-id-1 div.sk-parallel-item:first-child::after {align-self: flex-end;width: 50%;}#sk-container-id-1 div.sk-parallel-item:last-child::after {align-self: flex-start;width: 50%;}#sk-container-id-1 div.sk-parallel-item:only-child::after {width: 0;}#sk-container-id-1 div.sk-dashed-wrapped {border: 1px dashed gray;margin: 0 0.4em 0.5em 0.4em;box-sizing: border-box;padding-bottom: 0.4em;background-color: white;}#sk-container-id-1 div.sk-label label {font-family: monospace;font-weight: bold;display: inline-block;line-height: 1.2em;}#sk-container-id-1 div.sk-label-container {text-align: center;}#sk-container-id-1 div.sk-container {/* jupyter's `normalize.less` sets `[hidden] { display: none; }` but bootstrap.min.css set `[hidden] { display: none !important; }` so we also need the `!important` here to be able to override the default hidden behavior on the sphinx rendered scikit-learn.org. See: https://github.com/scikit-learn/scikit-learn/issues/21755 */display: inline-block !important;position: relative;}#sk-container-id-1 div.sk-text-repr-fallback {display: none;}</style><div id=\"sk-container-id-1\" class=\"sk-top-container\"><div class=\"sk-text-repr-fallback\"><pre>GridSearchCV(cv=10,\n",
       "             estimator=RandomForestClassifier(max_samples=1620,\n",
       "                                              random_state=614),\n",
       "             param_grid={&#x27;max_depth&#x27;: range(1, 11), &#x27;n_estimators&#x27;: [100, 500]},\n",
       "             scoring=&#x27;accuracy&#x27;)</pre><b>In a Jupyter environment, please rerun this cell to show the HTML representation or trust the notebook. <br />On GitHub, the HTML representation is unable to render, please try loading this page with nbviewer.org.</b></div><div class=\"sk-container\" hidden><div class=\"sk-item sk-dashed-wrapped\"><div class=\"sk-label-container\"><div class=\"sk-label sk-toggleable\"><input class=\"sk-toggleable__control sk-hidden--visually\" id=\"sk-estimator-id-1\" type=\"checkbox\" ><label for=\"sk-estimator-id-1\" class=\"sk-toggleable__label sk-toggleable__label-arrow\">GridSearchCV</label><div class=\"sk-toggleable__content\"><pre>GridSearchCV(cv=10,\n",
       "             estimator=RandomForestClassifier(max_samples=1620,\n",
       "                                              random_state=614),\n",
       "             param_grid={&#x27;max_depth&#x27;: range(1, 11), &#x27;n_estimators&#x27;: [100, 500]},\n",
       "             scoring=&#x27;accuracy&#x27;)</pre></div></div></div><div class=\"sk-parallel\"><div class=\"sk-parallel-item\"><div class=\"sk-item\"><div class=\"sk-label-container\"><div class=\"sk-label sk-toggleable\"><input class=\"sk-toggleable__control sk-hidden--visually\" id=\"sk-estimator-id-2\" type=\"checkbox\" ><label for=\"sk-estimator-id-2\" class=\"sk-toggleable__label sk-toggleable__label-arrow\">estimator: RandomForestClassifier</label><div class=\"sk-toggleable__content\"><pre>RandomForestClassifier(max_samples=1620, random_state=614)</pre></div></div></div><div class=\"sk-serial\"><div class=\"sk-item\"><div class=\"sk-estimator sk-toggleable\"><input class=\"sk-toggleable__control sk-hidden--visually\" id=\"sk-estimator-id-3\" type=\"checkbox\" ><label for=\"sk-estimator-id-3\" class=\"sk-toggleable__label sk-toggleable__label-arrow\">RandomForestClassifier</label><div class=\"sk-toggleable__content\"><pre>RandomForestClassifier(max_samples=1620, random_state=614)</pre></div></div></div></div></div></div></div></div></div></div>"
      ],
      "text/plain": [
       "GridSearchCV(cv=10,\n",
       "             estimator=RandomForestClassifier(max_samples=1620,\n",
       "                                              random_state=614),\n",
       "             param_grid={'max_depth': range(1, 11), 'n_estimators': [100, 500]},\n",
       "             scoring='accuracy')"
      ]
     },
     "execution_count": 46,
     "metadata": {},
     "output_type": "execute_result"
    }
   ],
   "source": [
    "## This will also take about two minutes\n",
    "grid_cv = GridSearchCV(RandomForestClassifier(random_state = 614,\n",
    "                                max_samples = int(.8*len(seeds_tt))), # first put the model object here\n",
    "                          param_grid = {'max_depth':max_depths, # place the grid values for max_depth and\n",
    "                                        'n_estimators':n_trees}, # and n_estimators here\n",
    "                          scoring = 'accuracy', # put the metric we are trying to optimize here as a string, \"accuracy\"\n",
    "                          cv = 10) # put the number of cv splits here\n",
    "\n",
    "## you fit it just like a model, model.fit(features, target)\n",
    "## fit grid_cv here\n",
    "\n",
    "grid_cv.fit(seeds_tt[features].values,\n",
    "                       seeds_tt.y.values)\n"
   ]
  },
  {
   "cell_type": "markdown",
   "id": "1607b217",
   "metadata": {},
   "source": [
    "Once a `GridSearchCV` is fit you are easily able to find what hyperparameter combinations were best, what the optimal score was as well as get access to the best model."
   ]
  },
  {
   "cell_type": "code",
   "execution_count": 47,
   "id": "3195f923",
   "metadata": {},
   "outputs": [
    {
     "data": {
      "text/plain": [
       "{'max_depth': 8, 'n_estimators': 500}"
      ]
     },
     "execution_count": 47,
     "metadata": {},
     "output_type": "execute_result"
    }
   ],
   "source": [
    "## You can find the hyperparameter grid point that\n",
    "## gave the best performance like so\n",
    "## .best_params_\n",
    "grid_cv.best_params_"
   ]
  },
  {
   "cell_type": "code",
   "execution_count": 48,
   "id": "b71ef6e5",
   "metadata": {},
   "outputs": [
    {
     "data": {
      "text/plain": [
       "0.8928473881870946"
      ]
     },
     "execution_count": 48,
     "metadata": {},
     "output_type": "execute_result"
    }
   ],
   "source": [
    "## You can find the best score like so\n",
    "## .best_score_\n",
    "## You try\n",
    "grid_cv.best_score_"
   ]
  },
  {
   "cell_type": "code",
   "execution_count": 49,
   "id": "30e9158f",
   "metadata": {},
   "outputs": [
    {
     "data": {
      "text/html": [
       "<style>#sk-container-id-2 {color: black;background-color: white;}#sk-container-id-2 pre{padding: 0;}#sk-container-id-2 div.sk-toggleable {background-color: white;}#sk-container-id-2 label.sk-toggleable__label {cursor: pointer;display: block;width: 100%;margin-bottom: 0;padding: 0.3em;box-sizing: border-box;text-align: center;}#sk-container-id-2 label.sk-toggleable__label-arrow:before {content: \"▸\";float: left;margin-right: 0.25em;color: #696969;}#sk-container-id-2 label.sk-toggleable__label-arrow:hover:before {color: black;}#sk-container-id-2 div.sk-estimator:hover label.sk-toggleable__label-arrow:before {color: black;}#sk-container-id-2 div.sk-toggleable__content {max-height: 0;max-width: 0;overflow: hidden;text-align: left;background-color: #f0f8ff;}#sk-container-id-2 div.sk-toggleable__content pre {margin: 0.2em;color: black;border-radius: 0.25em;background-color: #f0f8ff;}#sk-container-id-2 input.sk-toggleable__control:checked~div.sk-toggleable__content {max-height: 200px;max-width: 100%;overflow: auto;}#sk-container-id-2 input.sk-toggleable__control:checked~label.sk-toggleable__label-arrow:before {content: \"▾\";}#sk-container-id-2 div.sk-estimator input.sk-toggleable__control:checked~label.sk-toggleable__label {background-color: #d4ebff;}#sk-container-id-2 div.sk-label input.sk-toggleable__control:checked~label.sk-toggleable__label {background-color: #d4ebff;}#sk-container-id-2 input.sk-hidden--visually {border: 0;clip: rect(1px 1px 1px 1px);clip: rect(1px, 1px, 1px, 1px);height: 1px;margin: -1px;overflow: hidden;padding: 0;position: absolute;width: 1px;}#sk-container-id-2 div.sk-estimator {font-family: monospace;background-color: #f0f8ff;border: 1px dotted black;border-radius: 0.25em;box-sizing: border-box;margin-bottom: 0.5em;}#sk-container-id-2 div.sk-estimator:hover {background-color: #d4ebff;}#sk-container-id-2 div.sk-parallel-item::after {content: \"\";width: 100%;border-bottom: 1px solid gray;flex-grow: 1;}#sk-container-id-2 div.sk-label:hover label.sk-toggleable__label {background-color: #d4ebff;}#sk-container-id-2 div.sk-serial::before {content: \"\";position: absolute;border-left: 1px solid gray;box-sizing: border-box;top: 0;bottom: 0;left: 50%;z-index: 0;}#sk-container-id-2 div.sk-serial {display: flex;flex-direction: column;align-items: center;background-color: white;padding-right: 0.2em;padding-left: 0.2em;position: relative;}#sk-container-id-2 div.sk-item {position: relative;z-index: 1;}#sk-container-id-2 div.sk-parallel {display: flex;align-items: stretch;justify-content: center;background-color: white;position: relative;}#sk-container-id-2 div.sk-item::before, #sk-container-id-2 div.sk-parallel-item::before {content: \"\";position: absolute;border-left: 1px solid gray;box-sizing: border-box;top: 0;bottom: 0;left: 50%;z-index: -1;}#sk-container-id-2 div.sk-parallel-item {display: flex;flex-direction: column;z-index: 1;position: relative;background-color: white;}#sk-container-id-2 div.sk-parallel-item:first-child::after {align-self: flex-end;width: 50%;}#sk-container-id-2 div.sk-parallel-item:last-child::after {align-self: flex-start;width: 50%;}#sk-container-id-2 div.sk-parallel-item:only-child::after {width: 0;}#sk-container-id-2 div.sk-dashed-wrapped {border: 1px dashed gray;margin: 0 0.4em 0.5em 0.4em;box-sizing: border-box;padding-bottom: 0.4em;background-color: white;}#sk-container-id-2 div.sk-label label {font-family: monospace;font-weight: bold;display: inline-block;line-height: 1.2em;}#sk-container-id-2 div.sk-label-container {text-align: center;}#sk-container-id-2 div.sk-container {/* jupyter's `normalize.less` sets `[hidden] { display: none; }` but bootstrap.min.css set `[hidden] { display: none !important; }` so we also need the `!important` here to be able to override the default hidden behavior on the sphinx rendered scikit-learn.org. See: https://github.com/scikit-learn/scikit-learn/issues/21755 */display: inline-block !important;position: relative;}#sk-container-id-2 div.sk-text-repr-fallback {display: none;}</style><div id=\"sk-container-id-2\" class=\"sk-top-container\"><div class=\"sk-text-repr-fallback\"><pre>RandomForestClassifier(max_depth=8, max_samples=1620, n_estimators=500,\n",
       "                       random_state=614)</pre><b>In a Jupyter environment, please rerun this cell to show the HTML representation or trust the notebook. <br />On GitHub, the HTML representation is unable to render, please try loading this page with nbviewer.org.</b></div><div class=\"sk-container\" hidden><div class=\"sk-item\"><div class=\"sk-estimator sk-toggleable\"><input class=\"sk-toggleable__control sk-hidden--visually\" id=\"sk-estimator-id-4\" type=\"checkbox\" checked><label for=\"sk-estimator-id-4\" class=\"sk-toggleable__label sk-toggleable__label-arrow\">RandomForestClassifier</label><div class=\"sk-toggleable__content\"><pre>RandomForestClassifier(max_depth=8, max_samples=1620, n_estimators=500,\n",
       "                       random_state=614)</pre></div></div></div></div></div>"
      ],
      "text/plain": [
       "RandomForestClassifier(max_depth=8, max_samples=1620, n_estimators=500,\n",
       "                       random_state=614)"
      ]
     },
     "execution_count": 49,
     "metadata": {},
     "output_type": "execute_result"
    }
   ],
   "source": [
    "## Calling best_estimator_ returns the model with the \n",
    "## best avg cv performance after it has been refit on the\n",
    "## entire data set\n",
    "## You try to look at the best model\n",
    "grid_cv.best_estimator_"
   ]
  },
  {
   "cell_type": "markdown",
   "id": "03d6fa91",
   "metadata": {},
   "source": [
    "The `best_estimator_` is a model with the optimal hyperparameters that has been fit on the entire training set. Try and predict the pumpkin seed class on the training set with the `best_estimator_` below."
   ]
  },
  {
   "cell_type": "code",
   "execution_count": null,
   "id": "b89e8db9",
   "metadata": {},
   "outputs": [],
   "source": []
  },
  {
   "cell_type": "markdown",
   "id": "8c0f9c5b",
   "metadata": {},
   "source": [
    "If you want to look at all of the results, you can do that as well with `.cv_results`. See all that entails by running the code below."
   ]
  },
  {
   "cell_type": "code",
   "execution_count": 50,
   "id": "3b4be345",
   "metadata": {},
   "outputs": [
    {
     "data": {
      "text/plain": [
       "{'mean_fit_time': array([0.19157457, 0.88421223, 0.20627952, 1.02685037, 0.22348278,\n",
       "        1.50786383, 0.71148257, 1.89416955, 0.28104432, 1.47779846,\n",
       "        0.29873412, 1.64258182, 0.30777681, 1.62009342, 0.32801311,\n",
       "        1.77542541, 0.73155265, 2.10581474, 0.3967108 , 1.66790903]),\n",
       " 'std_fit_time': array([0.02718529, 0.07212274, 0.00719263, 0.03092122, 0.0093934 ,\n",
       "        0.35952131, 0.38277709, 0.15404079, 0.02010726, 0.14485406,\n",
       "        0.01718235, 0.31667678, 0.00948627, 0.11412048, 0.00784268,\n",
       "        0.32037988, 0.18913294, 0.42029904, 0.06459894, 0.03030795]),\n",
       " 'mean_score_time': array([0.01258876, 0.06403422, 0.01226878, 0.06222494, 0.0124377 ,\n",
       "        0.097528  , 0.03556204, 0.08075621, 0.01569998, 0.07695625,\n",
       "        0.01280377, 0.06898589, 0.01328182, 0.08139269, 0.013696  ,\n",
       "        0.0730386 , 0.03396091, 0.07114944, 0.01618743, 0.06382377]),\n",
       " 'std_score_time': array([0.00181394, 0.01634161, 0.00127368, 0.0033469 , 0.00089301,\n",
       "        0.07207686, 0.01742966, 0.0264783 , 0.00256874, 0.02441377,\n",
       "        0.00097722, 0.01072939, 0.00146514, 0.04211396, 0.00193024,\n",
       "        0.02504462, 0.02174932, 0.0101692 , 0.0049484 , 0.00302098]),\n",
       " 'param_max_depth': masked_array(data=[1, 1, 2, 2, 3, 3, 4, 4, 5, 5, 6, 6, 7, 7, 8, 8, 9, 9,\n",
       "                    10, 10],\n",
       "              mask=[False, False, False, False, False, False, False, False,\n",
       "                    False, False, False, False, False, False, False, False,\n",
       "                    False, False, False, False],\n",
       "        fill_value='?',\n",
       "             dtype=object),\n",
       " 'param_n_estimators': masked_array(data=[100, 500, 100, 500, 100, 500, 100, 500, 100, 500, 100,\n",
       "                    500, 100, 500, 100, 500, 100, 500, 100, 500],\n",
       "              mask=[False, False, False, False, False, False, False, False,\n",
       "                    False, False, False, False, False, False, False, False,\n",
       "                    False, False, False, False],\n",
       "        fill_value='?',\n",
       "             dtype=object),\n",
       " 'params': [{'max_depth': 1, 'n_estimators': 100},\n",
       "  {'max_depth': 1, 'n_estimators': 500},\n",
       "  {'max_depth': 2, 'n_estimators': 100},\n",
       "  {'max_depth': 2, 'n_estimators': 500},\n",
       "  {'max_depth': 3, 'n_estimators': 100},\n",
       "  {'max_depth': 3, 'n_estimators': 500},\n",
       "  {'max_depth': 4, 'n_estimators': 100},\n",
       "  {'max_depth': 4, 'n_estimators': 500},\n",
       "  {'max_depth': 5, 'n_estimators': 100},\n",
       "  {'max_depth': 5, 'n_estimators': 500},\n",
       "  {'max_depth': 6, 'n_estimators': 100},\n",
       "  {'max_depth': 6, 'n_estimators': 500},\n",
       "  {'max_depth': 7, 'n_estimators': 100},\n",
       "  {'max_depth': 7, 'n_estimators': 500},\n",
       "  {'max_depth': 8, 'n_estimators': 100},\n",
       "  {'max_depth': 8, 'n_estimators': 500},\n",
       "  {'max_depth': 9, 'n_estimators': 100},\n",
       "  {'max_depth': 9, 'n_estimators': 500},\n",
       "  {'max_depth': 10, 'n_estimators': 100},\n",
       "  {'max_depth': 10, 'n_estimators': 500}],\n",
       " 'split0_test_score': array([0.8817734 , 0.8817734 , 0.8817734 , 0.8817734 , 0.8817734 ,\n",
       "        0.8817734 , 0.90147783, 0.90640394, 0.91133005, 0.91133005,\n",
       "        0.92118227, 0.90640394, 0.90640394, 0.90640394, 0.89655172,\n",
       "        0.90640394, 0.90147783, 0.89655172, 0.90640394, 0.89655172]),\n",
       " 'split1_test_score': array([0.8817734 , 0.8817734 , 0.88669951, 0.8817734 , 0.89162562,\n",
       "        0.89162562, 0.89162562, 0.89162562, 0.8817734 , 0.88669951,\n",
       "        0.87684729, 0.87192118, 0.87684729, 0.87684729, 0.8817734 ,\n",
       "        0.87684729, 0.87684729, 0.87684729, 0.87684729, 0.87684729]),\n",
       " 'split2_test_score': array([0.84236453, 0.84236453, 0.84236453, 0.84236453, 0.84729064,\n",
       "        0.85221675, 0.86699507, 0.86206897, 0.87192118, 0.86699507,\n",
       "        0.86699507, 0.86206897, 0.85714286, 0.86206897, 0.86699507,\n",
       "        0.86206897, 0.85714286, 0.86206897, 0.86699507, 0.86206897]),\n",
       " 'split3_test_score': array([0.87192118, 0.87192118, 0.87192118, 0.87192118, 0.8817734 ,\n",
       "        0.8817734 , 0.89655172, 0.89162562, 0.89162562, 0.89655172,\n",
       "        0.90147783, 0.89655172, 0.89655172, 0.89162562, 0.89162562,\n",
       "        0.89162562, 0.89162562, 0.89162562, 0.89162562, 0.89655172]),\n",
       " 'split4_test_score': array([0.88669951, 0.88669951, 0.88669951, 0.88669951, 0.89162562,\n",
       "        0.89162562, 0.87684729, 0.88669951, 0.88669951, 0.89655172,\n",
       "        0.89162562, 0.90147783, 0.89655172, 0.90147783, 0.89162562,\n",
       "        0.91133005, 0.90640394, 0.90640394, 0.8817734 , 0.90640394]),\n",
       " 'split5_test_score': array([0.86138614, 0.85643564, 0.86138614, 0.86138614, 0.87623762,\n",
       "        0.88118812, 0.89108911, 0.89108911, 0.89108911, 0.88613861,\n",
       "        0.8960396 , 0.88613861, 0.8960396 , 0.89108911, 0.89108911,\n",
       "        0.8960396 , 0.8960396 , 0.8960396 , 0.8960396 , 0.9009901 ]),\n",
       " 'split6_test_score': array([0.84653465, 0.84158416, 0.84158416, 0.84158416, 0.86138614,\n",
       "        0.86138614, 0.86138614, 0.86138614, 0.87128713, 0.87128713,\n",
       "        0.88613861, 0.88613861, 0.88613861, 0.88613861, 0.89108911,\n",
       "        0.88613861, 0.87623762, 0.88613861, 0.88613861, 0.88613861]),\n",
       " 'split7_test_score': array([0.84158416, 0.83663366, 0.84158416, 0.84158416, 0.84158416,\n",
       "        0.84653465, 0.85643564, 0.85148515, 0.88118812, 0.87623762,\n",
       "        0.87623762, 0.86633663, 0.87623762, 0.87623762, 0.87623762,\n",
       "        0.88118812, 0.87128713, 0.88118812, 0.87623762, 0.88118812]),\n",
       " 'split8_test_score': array([0.86633663, 0.86633663, 0.86138614, 0.86138614, 0.86138614,\n",
       "        0.85643564, 0.88613861, 0.88118812, 0.89108911, 0.88613861,\n",
       "        0.89108911, 0.89108911, 0.9009901 , 0.8960396 , 0.9009901 ,\n",
       "        0.90594059, 0.9009901 , 0.9009901 , 0.8960396 , 0.8960396 ]),\n",
       " 'split9_test_score': array([0.86138614, 0.86633663, 0.87128713, 0.87128713, 0.88118812,\n",
       "        0.88118812, 0.9009901 , 0.8960396 , 0.91089109, 0.9009901 ,\n",
       "        0.90594059, 0.91089109, 0.90594059, 0.91089109, 0.90594059,\n",
       "        0.91089109, 0.90594059, 0.9009901 , 0.90594059, 0.90594059]),\n",
       " 'mean_test_score': array([0.86417597, 0.86318588, 0.86466859, 0.86417597, 0.87158708,\n",
       "        0.87257475, 0.88295371, 0.88196118, 0.88888943, 0.88789202,\n",
       "        0.89135736, 0.88790177, 0.88988441, 0.88988197, 0.8893918 ,\n",
       "        0.89284739, 0.88839926, 0.88988441, 0.88840414, 0.89087207]),\n",
       " 'std_test_score': array([0.01582472, 0.0172939 , 0.01715956, 0.01658099, 0.01680186,\n",
       "        0.01587977, 0.01570104, 0.01684234, 0.01310467, 0.01314033,\n",
       "        0.01512148, 0.0159189 , 0.01490995, 0.01426493, 0.01099125,\n",
       "        0.01555101, 0.01606664, 0.01279946, 0.01243998, 0.01343277]),\n",
       " 'rank_test_score': array([18, 20, 17, 18, 16, 15, 13, 14,  8, 12,  2, 11,  4,  6,  7,  1, 10,\n",
       "         4,  9,  3], dtype=int32)}"
      ]
     },
     "execution_count": 50,
     "metadata": {},
     "output_type": "execute_result"
    }
   ],
   "source": [
    "## You can get all of the results with cv_results_\n",
    "grid_cv.cv_results_"
   ]
  },
  {
   "cell_type": "markdown",
   "id": "2d90abab",
   "metadata": {},
   "source": [
    "##### d.\n",
    "\n",
    "Using either the `best_estimator_` fitted model or a refitted model according to your results from the `for` loop cross-validation find the feature importance scores. Try and refer back to your notes from `Fall Problem Session 7`, how do the scores compare to your initial EDA?"
   ]
  },
  {
   "cell_type": "code",
   "execution_count": null,
   "id": "08befa74",
   "metadata": {},
   "outputs": [],
   "source": [
    "## code here\n",
    "\n"
   ]
  },
  {
   "cell_type": "markdown",
   "id": "fef24ba8",
   "metadata": {},
   "source": [
    "##### Write any notes here\n",
    "\n",
    "\n"
   ]
  },
  {
   "cell_type": "markdown",
   "id": "61a1e879",
   "metadata": {},
   "source": [
    "In the next notebook you will build a couple of more models on these data and select a final model."
   ]
  },
  {
   "cell_type": "markdown",
   "id": "8853ad39",
   "metadata": {},
   "source": [
    "--------------------------\n",
    "\n",
    "This notebook was written for the Erd&#337;s Institute C&#337;de Data Science Boot Camp by Matthew Osborne, Ph. D., 2022.\n",
    "\n",
    "Any potential redistributors must seek and receive permission from Matthew Tyler Osborne, Ph.D. prior to redistribution. Redistribution of the material contained in this repository is conditional on acknowledgement of Matthew Tyler Osborne, Ph.D.'s original authorship and sponsorship of the Erdős Institute as subject to the license (see License.md)"
   ]
  },
  {
   "cell_type": "code",
   "execution_count": null,
   "id": "d71a3a44",
   "metadata": {},
   "outputs": [],
   "source": []
  }
 ],
 "metadata": {
  "kernelspec": {
   "display_name": "Python 3 (ipykernel)",
   "language": "python",
   "name": "python3"
  },
  "language_info": {
   "codemirror_mode": {
    "name": "ipython",
    "version": 3
   },
   "file_extension": ".py",
   "mimetype": "text/x-python",
   "name": "python",
   "nbconvert_exporter": "python",
   "pygments_lexer": "ipython3",
   "version": "3.8.13"
  }
 },
 "nbformat": 4,
 "nbformat_minor": 5
}
