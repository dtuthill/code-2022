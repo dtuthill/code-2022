{
 "cells": [
  {
   "cell_type": "markdown",
   "id": "64f29b2f",
   "metadata": {},
   "source": [
    "# Fall Problem Session 11\n",
    "## CIFAR-10 I\n",
    "\n",
    "In this notebook you will work on problems that relate to our neural network content. In particular, this material will touch on the following lecture notebooks:\n",
    "- `Lectures/Neural Networks/1. Perceptrons`,\n",
    "- `Lectures/Neural Networks/2. The MNIST Data Set`,\n",
    "- `Lectures/Neural Networks/3. Multilayer Neural Networks` and\n",
    "- `Lectures/Neural Networks/4. keras`."
   ]
  },
  {
   "cell_type": "code",
   "execution_count": 1,
   "id": "4b50b5ac",
   "metadata": {},
   "outputs": [],
   "source": [
    "import pandas as pd\n",
    "import numpy as np\n",
    "import matplotlib.pyplot as plt\n",
    "import seaborn as sns"
   ]
  },
  {
   "cell_type": "markdown",
   "id": "3bcab888",
   "metadata": {},
   "source": [
    "#### 1. Load and inspect the data\n",
    "\n",
    "In this notebook you will work to build neural networks to classify the images found in the CIFAR-10 collection. Before building any models you will need to load and get to know the data.\n",
    "\n",
    "##### a. \n",
    "\n",
    "Import `cifar10` from `keras.datasets`."
   ]
  },
  {
   "cell_type": "markdown",
   "id": "ce00aed9",
   "metadata": {},
   "source": [
    "##### Sample Solution"
   ]
  },
  {
   "cell_type": "code",
   "execution_count": 2,
   "id": "56ee2c8c",
   "metadata": {},
   "outputs": [],
   "source": [
    "from keras.datasets import cifar10"
   ]
  },
  {
   "cell_type": "markdown",
   "id": "38be17b2",
   "metadata": {},
   "source": [
    "##### b.\n",
    "\n",
    "Look throught the `keras` documentation on the `cifar10` data to see how to load the training and test data.\n",
    "\n",
    "Documentation: <a href=\"https://keras.io/api/datasets/cifar10/\">https://keras.io/api/datasets/cifar10/</a>\n",
    "\n",
    "<i>Note: The step of loading the data may take a while if this is your first time loading the data.</i>"
   ]
  },
  {
   "cell_type": "code",
   "execution_count": 3,
   "id": "dbbcc913",
   "metadata": {},
   "outputs": [],
   "source": [
    "(X_train, y_train), (X_test, y_test) = cifar10.load_data()"
   ]
  },
  {
   "cell_type": "code",
   "execution_count": 4,
   "id": "8140ab2c",
   "metadata": {},
   "outputs": [],
   "source": [
    "## run this code chunk, you'll use it in a bit.\n",
    "label_dict = {0:'airplane',\n",
    "                 1:'automobile',\n",
    "                 2:'bird',\n",
    "                 3:'cat',\n",
    "                 4:'deer',\n",
    "                 5:'dog',\n",
    "                 6:'frog',\n",
    "                 7:'horse',\n",
    "                 8:'ship',\n",
    "                 9:'truck'}"
   ]
  },
  {
   "cell_type": "markdown",
   "id": "3036f341",
   "metadata": {},
   "source": [
    "##### c.\n",
    "\n",
    "The CIFAR (Canadian Institute for Advanced Research) 10 data are a collection of $60{,}000$ $32\\times 32$ pixelated color images each being an instance of one of the 10 possible classes listed above. Each of the ten classes has $6{,}000$ instances ($5{,}000$ in the training set, $1{,}000$ in the test set). Here is a link to the documentation for this data set, <a href=\"https://www.cs.toronto.edu/~kriz/cifar.html\">https://www.cs.toronto.edu/~kriz/cifar.html</a>.\n",
    "\n",
    "- Look at the shape of `X_train`. \n",
    "- Print out the first observation of the training set.\n",
    "- Then run the given code chunk to see some example images."
   ]
  },
  {
   "cell_type": "markdown",
   "id": "a42a5eb3",
   "metadata": {},
   "source": [
    "##### Sample Solution"
   ]
  },
  {
   "cell_type": "code",
   "execution_count": 5,
   "id": "091c0488",
   "metadata": {},
   "outputs": [
    {
     "data": {
      "text/plain": [
       "(50000, 32, 32, 3)"
      ]
     },
     "execution_count": 5,
     "metadata": {},
     "output_type": "execute_result"
    }
   ],
   "source": [
    "X_train.shape"
   ]
  },
  {
   "cell_type": "code",
   "execution_count": 6,
   "id": "77af7cf8",
   "metadata": {},
   "outputs": [
    {
     "data": {
      "text/plain": [
       "array([[[ 59,  62,  63],\n",
       "        [ 43,  46,  45],\n",
       "        [ 50,  48,  43],\n",
       "        ...,\n",
       "        [158, 132, 108],\n",
       "        [152, 125, 102],\n",
       "        [148, 124, 103]],\n",
       "\n",
       "       [[ 16,  20,  20],\n",
       "        [  0,   0,   0],\n",
       "        [ 18,   8,   0],\n",
       "        ...,\n",
       "        [123,  88,  55],\n",
       "        [119,  83,  50],\n",
       "        [122,  87,  57]],\n",
       "\n",
       "       [[ 25,  24,  21],\n",
       "        [ 16,   7,   0],\n",
       "        [ 49,  27,   8],\n",
       "        ...,\n",
       "        [118,  84,  50],\n",
       "        [120,  84,  50],\n",
       "        [109,  73,  42]],\n",
       "\n",
       "       ...,\n",
       "\n",
       "       [[208, 170,  96],\n",
       "        [201, 153,  34],\n",
       "        [198, 161,  26],\n",
       "        ...,\n",
       "        [160, 133,  70],\n",
       "        [ 56,  31,   7],\n",
       "        [ 53,  34,  20]],\n",
       "\n",
       "       [[180, 139,  96],\n",
       "        [173, 123,  42],\n",
       "        [186, 144,  30],\n",
       "        ...,\n",
       "        [184, 148,  94],\n",
       "        [ 97,  62,  34],\n",
       "        [ 83,  53,  34]],\n",
       "\n",
       "       [[177, 144, 116],\n",
       "        [168, 129,  94],\n",
       "        [179, 142,  87],\n",
       "        ...,\n",
       "        [216, 184, 140],\n",
       "        [151, 118,  84],\n",
       "        [123,  92,  72]]], dtype=uint8)"
      ]
     },
     "execution_count": 6,
     "metadata": {},
     "output_type": "execute_result"
    }
   ],
   "source": [
    "X_train[0]"
   ]
  },
  {
   "cell_type": "code",
   "execution_count": 7,
   "id": "b0a1e57e",
   "metadata": {},
   "outputs": [
    {
     "data": {
      "text/plain": [
       "array([6], dtype=uint8)"
      ]
     },
     "execution_count": 7,
     "metadata": {},
     "output_type": "execute_result"
    }
   ],
   "source": [
    "y_train[0]"
   ]
  },
  {
   "cell_type": "code",
   "execution_count": 8,
   "id": "ca4b58a0",
   "metadata": {
    "scrolled": false
   },
   "outputs": [
    {
     "data": {
      "image/png": "[encoded data removed]",
      "text/plain": [
       "<Figure size 1008x2160 with 10 Axes>"
      ]
     },
     "metadata": {
      "needs_background": "light"
     },
     "output_type": "display_data"
    }
   ],
   "source": [
    "np.random.seed(38401)\n",
    "\n",
    "fig,ax = plt.subplots(5,2,figsize=(14, 30))\n",
    "\n",
    "j = 0\n",
    "for i in np.random.choice(range(len(y_train)), 10):\n",
    "    ax[j//2, j%2].imshow(X_train[i,:,:])\n",
    "    \n",
    "    ax[j//2, j%2].set_title(\"Image of \" + label_dict[y_train[i][0]])\n",
    "    \n",
    "    j = j + 1\n",
    "    \n",
    "plt.show()"
   ]
  },
  {
   "cell_type": "markdown",
   "id": "07670a49",
   "metadata": {},
   "source": [
    "#### 3. Prepare the data\n",
    "\n",
    "We will need to prepare the data before we can build a model.\n",
    "\n",
    "##### a.\n",
    "\n",
    "Just like we did for the grayscale MNIST images you will need to scale the pixels so they range from $0$ to $1$. Each of the RGB pixel values have a minimum value of $0$ and a maximum value of $255$.\n",
    "\n",
    "Scale the data in the code cells provided below."
   ]
  },
  {
   "cell_type": "markdown",
   "id": "e58e64c5",
   "metadata": {},
   "source": [
    "##### Sample Solution"
   ]
  },
  {
   "cell_type": "code",
   "execution_count": 9,
   "id": "c6c3a84b",
   "metadata": {},
   "outputs": [],
   "source": [
    "X_train = X_train/255\n",
    "X_test = X_test/255"
   ]
  },
  {
   "cell_type": "markdown",
   "id": "3b195776",
   "metadata": {},
   "source": [
    "##### b.\n",
    "\n",
    "In this notebook you will use a feed forward neural network, that means you will need to reshape the array to be a 2D `numpy` array where each row is an observation and each column is one of the pixel values.\n",
    "\n",
    "Reshape the data in the cells provided below."
   ]
  },
  {
   "cell_type": "markdown",
   "id": "4a15a1b2",
   "metadata": {},
   "source": [
    "##### Sample Solution"
   ]
  },
  {
   "cell_type": "code",
   "execution_count": 10,
   "id": "4e9059d4",
   "metadata": {},
   "outputs": [],
   "source": [
    "X_train_r = X_train.reshape(X_train.shape[0], -1)\n",
    "X_test_r = X_test.reshape(X_test.shape[0], -1)"
   ]
  },
  {
   "cell_type": "markdown",
   "id": "eee2cc21",
   "metadata": {},
   "source": [
    "##### c.\n",
    "\n",
    "This is an instance where cross-validation would take too long for the purposes of the problem session. We will instead use the validation set approach for model comparisons. Make a validation split of the training set. Use $15\\%$ of the data for the validation set."
   ]
  },
  {
   "cell_type": "markdown",
   "id": "8b2ca43a",
   "metadata": {},
   "source": [
    "##### Sample Solution"
   ]
  },
  {
   "cell_type": "code",
   "execution_count": 11,
   "id": "caf28763",
   "metadata": {},
   "outputs": [],
   "source": [
    "from sklearn.model_selection import train_test_split"
   ]
  },
  {
   "cell_type": "code",
   "execution_count": 12,
   "id": "d8af7408",
   "metadata": {},
   "outputs": [],
   "source": [
    "X_tt, X_val, y_tt, y_val = train_test_split(X_train_r, y_train,\n",
    "                                               shuffle=True,\n",
    "                                               random_state=294,\n",
    "                                               test_size=.15,\n",
    "                                               stratify=y_train)"
   ]
  },
  {
   "cell_type": "markdown",
   "id": "268eb455",
   "metadata": {},
   "source": [
    "#### 4. Your first neural network\n",
    "\n",
    "In this problem you will build your first neural network."
   ]
  },
  {
   "cell_type": "markdown",
   "id": "d62ba06e",
   "metadata": {},
   "source": [
    "##### a.\n",
    "\n",
    "Import all of the `keras` stuff you need to build a feed forward neural network. "
   ]
  },
  {
   "cell_type": "markdown",
   "id": "b81d8fa2",
   "metadata": {},
   "source": [
    "##### Sample Solution"
   ]
  },
  {
   "cell_type": "code",
   "execution_count": 13,
   "id": "85afe06a",
   "metadata": {},
   "outputs": [],
   "source": [
    "## Import the following\n",
    "from keras import models\n",
    "from keras import layers\n",
    "from keras import optimizers\n",
    "from keras import losses\n",
    "from keras import metrics\n",
    "from keras.utils.np_utils import to_categorical\n",
    "\n",
    "\n",
    "### If you have an earlier version of keras ###\n",
    "# from keras.utils import to_categorical"
   ]
  },
  {
   "cell_type": "markdown",
   "id": "13832338",
   "metadata": {},
   "source": [
    "##### b.\n",
    "\n",
    "Fill in the missing code chunks below to build a feed forward neural network with a single hidden layer with $50$ nodes.\n",
    "\n",
    "<i>Note: if this network takes a long time to train on your computer, feel free to make the hidden layer smaller. That will speed up the training steps a little bit.</i>"
   ]
  },
  {
   "cell_type": "markdown",
   "id": "5e50b890",
   "metadata": {},
   "source": [
    "##### Sample Solution"
   ]
  },
  {
   "cell_type": "code",
   "execution_count": 14,
   "id": "5eff1cb1",
   "metadata": {
    "scrolled": true
   },
   "outputs": [
    {
     "name": "stdout",
     "output_type": "stream",
     "text": [
      "Epoch 1/40\n",
      "\r",
      " 1/84 [..............................] - ETA: 12s - loss: 2.5324 - accuracy: 0.0879"
     ]
    },
    {
     "name": "stderr",
     "output_type": "stream",
     "text": [
      "2022-09-21 13:18:38.075584: I tensorflow/compiler/mlir/mlir_graph_optimization_pass.cc:185] None of the MLIR Optimization Passes are enabled (registered 2)\n",
      "2022-09-21 13:18:38.075761: W tensorflow/core/platform/profile_utils/cpu_utils.cc:128] Failed to get CPU frequency: 0 Hz\n"
     ]
    },
    {
     "name": "stdout",
     "output_type": "stream",
     "text": [
      "84/84 [==============================] - 1s 5ms/step - loss: 2.4568 - accuracy: 0.1683 - val_loss: 2.5525 - val_accuracy: 0.1451\n",
      "Epoch 2/40\n",
      "84/84 [==============================] - 0s 4ms/step - loss: 2.1357 - accuracy: 0.2282 - val_loss: 3.0640 - val_accuracy: 0.1208\n",
      "Epoch 3/40\n",
      "84/84 [==============================] - 0s 4ms/step - loss: 2.0235 - accuracy: 0.2771 - val_loss: 3.9535 - val_accuracy: 0.1069\n",
      "Epoch 4/40\n",
      "84/84 [==============================] - 0s 4ms/step - loss: 1.9678 - accuracy: 0.3005 - val_loss: 2.2006 - val_accuracy: 0.2293\n",
      "Epoch 5/40\n",
      "84/84 [==============================] - 0s 4ms/step - loss: 1.9245 - accuracy: 0.3094 - val_loss: 2.2555 - val_accuracy: 0.1984\n",
      "Epoch 6/40\n",
      "84/84 [==============================] - 0s 4ms/step - loss: 1.8861 - accuracy: 0.3300 - val_loss: 2.3774 - val_accuracy: 0.2276\n",
      "Epoch 7/40\n",
      "84/84 [==============================] - 0s 4ms/step - loss: 1.8635 - accuracy: 0.3408 - val_loss: 2.7878 - val_accuracy: 0.1872\n",
      "Epoch 8/40\n",
      "84/84 [==============================] - 0s 4ms/step - loss: 1.8383 - accuracy: 0.3532 - val_loss: 2.4930 - val_accuracy: 0.2065\n",
      "Epoch 9/40\n",
      "84/84 [==============================] - 0s 4ms/step - loss: 1.8239 - accuracy: 0.3598 - val_loss: 2.4286 - val_accuracy: 0.2265\n",
      "Epoch 10/40\n",
      "84/84 [==============================] - 0s 4ms/step - loss: 1.8012 - accuracy: 0.3676 - val_loss: 2.8115 - val_accuracy: 0.1880\n",
      "Epoch 11/40\n",
      "84/84 [==============================] - 0s 5ms/step - loss: 1.7920 - accuracy: 0.3727 - val_loss: 2.9964 - val_accuracy: 0.1467\n",
      "Epoch 12/40\n",
      "84/84 [==============================] - 0s 4ms/step - loss: 1.7836 - accuracy: 0.3720 - val_loss: 2.4278 - val_accuracy: 0.2251\n",
      "Epoch 13/40\n",
      "84/84 [==============================] - 0s 4ms/step - loss: 1.7725 - accuracy: 0.3793 - val_loss: 2.7944 - val_accuracy: 0.1957\n",
      "Epoch 14/40\n",
      "84/84 [==============================] - 0s 4ms/step - loss: 1.7644 - accuracy: 0.3827 - val_loss: 2.4487 - val_accuracy: 0.2221\n",
      "Epoch 15/40\n",
      "84/84 [==============================] - 0s 4ms/step - loss: 1.7559 - accuracy: 0.3841 - val_loss: 2.8691 - val_accuracy: 0.1755\n",
      "Epoch 16/40\n",
      "84/84 [==============================] - 0s 4ms/step - loss: 1.7456 - accuracy: 0.3899 - val_loss: 3.0780 - val_accuracy: 0.1616\n",
      "Epoch 17/40\n",
      "84/84 [==============================] - 0s 5ms/step - loss: 1.7362 - accuracy: 0.3921 - val_loss: 2.4397 - val_accuracy: 0.2437\n",
      "Epoch 18/40\n",
      "84/84 [==============================] - 0s 4ms/step - loss: 1.7314 - accuracy: 0.3936 - val_loss: 3.1477 - val_accuracy: 0.1825\n",
      "Epoch 19/40\n",
      "84/84 [==============================] - 0s 4ms/step - loss: 1.7242 - accuracy: 0.3993 - val_loss: 2.7573 - val_accuracy: 0.2085\n",
      "Epoch 20/40\n",
      "84/84 [==============================] - 0s 4ms/step - loss: 1.7249 - accuracy: 0.3982 - val_loss: 2.8698 - val_accuracy: 0.1728\n",
      "Epoch 21/40\n",
      "84/84 [==============================] - 0s 5ms/step - loss: 1.7104 - accuracy: 0.4006 - val_loss: 2.4503 - val_accuracy: 0.2648\n",
      "Epoch 22/40\n",
      "84/84 [==============================] - 0s 5ms/step - loss: 1.7073 - accuracy: 0.4047 - val_loss: 2.2261 - val_accuracy: 0.2511\n",
      "Epoch 23/40\n",
      "84/84 [==============================] - 0s 4ms/step - loss: 1.6968 - accuracy: 0.4040 - val_loss: 3.0468 - val_accuracy: 0.2076\n",
      "Epoch 24/40\n",
      "84/84 [==============================] - 0s 5ms/step - loss: 1.6998 - accuracy: 0.4099 - val_loss: 3.4386 - val_accuracy: 0.1685\n",
      "Epoch 25/40\n",
      "84/84 [==============================] - 0s 5ms/step - loss: 1.6987 - accuracy: 0.4088 - val_loss: 2.4538 - val_accuracy: 0.2191\n",
      "Epoch 26/40\n",
      "84/84 [==============================] - 0s 4ms/step - loss: 1.6824 - accuracy: 0.4102 - val_loss: 2.8339 - val_accuracy: 0.1981\n",
      "Epoch 27/40\n",
      "84/84 [==============================] - 0s 4ms/step - loss: 1.6836 - accuracy: 0.4118 - val_loss: 2.2919 - val_accuracy: 0.2575\n",
      "Epoch 28/40\n",
      "84/84 [==============================] - 0s 4ms/step - loss: 1.6686 - accuracy: 0.4167 - val_loss: 2.4337 - val_accuracy: 0.2664\n",
      "Epoch 29/40\n",
      "84/84 [==============================] - 0s 4ms/step - loss: 1.6677 - accuracy: 0.4153 - val_loss: 2.5000 - val_accuracy: 0.2464\n",
      "Epoch 30/40\n",
      "84/84 [==============================] - 0s 4ms/step - loss: 1.6619 - accuracy: 0.4162 - val_loss: 2.7363 - val_accuracy: 0.2157\n",
      "Epoch 31/40\n",
      "84/84 [==============================] - 0s 5ms/step - loss: 1.6659 - accuracy: 0.4176 - val_loss: 2.6466 - val_accuracy: 0.2280\n",
      "Epoch 32/40\n",
      "84/84 [==============================] - 0s 5ms/step - loss: 1.6590 - accuracy: 0.4188 - val_loss: 2.5054 - val_accuracy: 0.2029\n",
      "Epoch 33/40\n",
      "84/84 [==============================] - 0s 4ms/step - loss: 1.6505 - accuracy: 0.4223 - val_loss: 2.4395 - val_accuracy: 0.2479\n",
      "Epoch 34/40\n",
      "84/84 [==============================] - 0s 4ms/step - loss: 1.6521 - accuracy: 0.4200 - val_loss: 2.3307 - val_accuracy: 0.2941\n",
      "Epoch 35/40\n",
      "84/84 [==============================] - 0s 4ms/step - loss: 1.6459 - accuracy: 0.4225 - val_loss: 2.3647 - val_accuracy: 0.2380\n",
      "Epoch 36/40\n",
      "84/84 [==============================] - 0s 4ms/step - loss: 1.6442 - accuracy: 0.4223 - val_loss: 2.0253 - val_accuracy: 0.3173\n",
      "Epoch 37/40\n",
      "84/84 [==============================] - 0s 5ms/step - loss: 1.6327 - accuracy: 0.4264 - val_loss: 2.4863 - val_accuracy: 0.2193\n",
      "Epoch 38/40\n",
      "84/84 [==============================] - 0s 5ms/step - loss: 1.6389 - accuracy: 0.4255 - val_loss: 2.1707 - val_accuracy: 0.3137\n",
      "Epoch 39/40\n",
      "84/84 [==============================] - 0s 5ms/step - loss: 1.6281 - accuracy: 0.4286 - val_loss: 2.6208 - val_accuracy: 0.2245\n",
      "Epoch 40/40\n",
      "84/84 [==============================] - 0s 5ms/step - loss: 1.6315 - accuracy: 0.4310 - val_loss: 2.5777 - val_accuracy: 0.2321\n"
     ]
    }
   ],
   "source": [
    "## Create an empty model object here\n",
    "model1 =  models.Sequential()\n",
    "\n",
    "## Add the hidden layer with 50 nodes,\n",
    "## remember to specify the activation function and the input_shape\n",
    "model1.add(layers.Dense(50, activation='relu', input_shape=(X_tt.shape[1],)))\n",
    "\n",
    "## Add the output layer, how many nodes should this have?\n",
    "## what should the activation function be?\n",
    "model1.add(layers.Dense(10, activation='softmax'))\n",
    "\n",
    "\n",
    "## Compile the network here with\n",
    "## the 'rmsprop' optimizer, the 'categorical_crossentropy' loss and\n",
    "## 'accuracy' as the only metric\n",
    "model1.compile(optimizer = 'rmsprop',\n",
    "                 loss = 'categorical_crossentropy',\n",
    "                 metrics = ['accuracy'])\n",
    "\n",
    "## You'll train the model for 40 epochs\n",
    "n_epochs = 40\n",
    "\n",
    "## fit the model here, don't forget to place the\n",
    "## ys in to_categorical\n",
    "## use a batch_size of 512\n",
    "## don't forget to include the validation_data\n",
    "history1 = model1.fit(X_tt,\n",
    "                       to_categorical(y_tt),\n",
    "                       epochs = n_epochs,\n",
    "                       batch_size = 512,\n",
    "                       validation_data = (X_val, to_categorical(y_val)))"
   ]
  },
  {
   "cell_type": "code",
   "execution_count": 15,
   "id": "3d2686ae",
   "metadata": {},
   "outputs": [
    {
     "data": {
      "image/png": "[encoded data removed]",
      "text/plain": [
       "<Figure size 720x432 with 1 Axes>"
      ]
     },
     "metadata": {},
     "output_type": "display_data"
    }
   ],
   "source": [
    "## Plot the training and validation accuracies here\n",
    "history_dict1 = history1.history\n",
    "\n",
    "sns.set_style(\"whitegrid\")\n",
    "\n",
    "plt.figure(figsize=(10,6))\n",
    "\n",
    "plt.scatter(range(1,n_epochs+1), \n",
    "            history_dict1['accuracy'], \n",
    "            label=\"Training Data\")\n",
    "plt.scatter(range(1,n_epochs+1), \n",
    "            history_dict1['val_accuracy'], \n",
    "            marker='v',\n",
    "            label=\"Validation Data\")\n",
    "\n",
    "plt.xlabel(\"Epoch\", fontsize=18)\n",
    "plt.ylabel(\"Accuracy\", fontsize=18)\n",
    "\n",
    "plt.xticks(fontsize=14)\n",
    "plt.yticks(fontsize=14)\n",
    "\n",
    "plt.legend(fontsize=14)\n",
    "\n",
    "\n",
    "plt.show()"
   ]
  },
  {
   "cell_type": "markdown",
   "id": "8b96f088",
   "metadata": {},
   "source": [
    "#### 5. Additional neural networks\n",
    "\n",
    "In this problem you will make a couple more feed forward networks to try and improve upon the performance of your first network.\n",
    "\n",
    "##### a.\n",
    "\n",
    "Try making another feed forward network with a single layer. Increase the size of the hidden layer, as compared to model 1.\n",
    "\n",
    "Does it outperform model 1?"
   ]
  },
  {
   "cell_type": "markdown",
   "id": "9982fc1d",
   "metadata": {},
   "source": [
    "##### Sample Solution"
   ]
  },
  {
   "cell_type": "code",
   "execution_count": 16,
   "id": "e2961384",
   "metadata": {
    "scrolled": true
   },
   "outputs": [
    {
     "name": "stdout",
     "output_type": "stream",
     "text": [
      "Epoch 1/40\n",
      "84/84 [==============================] - 1s 12ms/step - loss: 2.9345 - accuracy: 0.1890 - val_loss: 4.2715 - val_accuracy: 0.1081\n",
      "Epoch 2/40\n",
      "84/84 [==============================] - 1s 10ms/step - loss: 2.1512 - accuracy: 0.2448 - val_loss: 3.2941 - val_accuracy: 0.1215\n",
      "Epoch 3/40\n",
      "84/84 [==============================] - 1s 11ms/step - loss: 2.0026 - accuracy: 0.2899 - val_loss: 2.7603 - val_accuracy: 0.1872\n",
      "Epoch 4/40\n",
      "84/84 [==============================] - 1s 11ms/step - loss: 1.9312 - accuracy: 0.3145 - val_loss: 2.9742 - val_accuracy: 0.1605\n",
      "Epoch 5/40\n",
      "84/84 [==============================] - 1s 10ms/step - loss: 1.8782 - accuracy: 0.3319 - val_loss: 2.7788 - val_accuracy: 0.1725\n",
      "Epoch 6/40\n",
      "84/84 [==============================] - 1s 10ms/step - loss: 1.8252 - accuracy: 0.3511 - val_loss: 2.3678 - val_accuracy: 0.2187\n",
      "Epoch 7/40\n",
      "84/84 [==============================] - 1s 12ms/step - loss: 1.7948 - accuracy: 0.3656 - val_loss: 2.1932 - val_accuracy: 0.2924\n",
      "Epoch 8/40\n",
      "84/84 [==============================] - 1s 18ms/step - loss: 1.7565 - accuracy: 0.3799 - val_loss: 2.4313 - val_accuracy: 0.2199\n",
      "Epoch 9/40\n",
      "84/84 [==============================] - 1s 11ms/step - loss: 1.7327 - accuracy: 0.3872 - val_loss: 2.3540 - val_accuracy: 0.2804\n",
      "Epoch 10/40\n",
      "84/84 [==============================] - 1s 10ms/step - loss: 1.7161 - accuracy: 0.3943 - val_loss: 2.0453 - val_accuracy: 0.2716\n",
      "Epoch 11/40\n",
      "84/84 [==============================] - 1s 9ms/step - loss: 1.6802 - accuracy: 0.4042 - val_loss: 2.6196 - val_accuracy: 0.2264\n",
      "Epoch 12/40\n",
      "84/84 [==============================] - 1s 10ms/step - loss: 1.6775 - accuracy: 0.4076 - val_loss: 2.3052 - val_accuracy: 0.2596\n",
      "Epoch 13/40\n",
      "84/84 [==============================] - 1s 9ms/step - loss: 1.6494 - accuracy: 0.4179 - val_loss: 2.1449 - val_accuracy: 0.2733\n",
      "Epoch 14/40\n",
      "84/84 [==============================] - 1s 9ms/step - loss: 1.6387 - accuracy: 0.4219 - val_loss: 2.7260 - val_accuracy: 0.2427\n",
      "Epoch 15/40\n",
      "84/84 [==============================] - 1s 9ms/step - loss: 1.6325 - accuracy: 0.4259 - val_loss: 2.0079 - val_accuracy: 0.3272\n",
      "Epoch 16/40\n",
      "84/84 [==============================] - 1s 10ms/step - loss: 1.6099 - accuracy: 0.4305 - val_loss: 2.0650 - val_accuracy: 0.3117\n",
      "Epoch 17/40\n",
      "84/84 [==============================] - 1s 10ms/step - loss: 1.6013 - accuracy: 0.4370 - val_loss: 2.8339 - val_accuracy: 0.2364\n",
      "Epoch 18/40\n",
      "84/84 [==============================] - 1s 11ms/step - loss: 1.5977 - accuracy: 0.4422 - val_loss: 2.9725 - val_accuracy: 0.1779\n",
      "Epoch 19/40\n",
      "84/84 [==============================] - 1s 12ms/step - loss: 1.5875 - accuracy: 0.4429 - val_loss: 2.2272 - val_accuracy: 0.3033\n",
      "Epoch 20/40\n",
      "84/84 [==============================] - 1s 10ms/step - loss: 1.5690 - accuracy: 0.4483 - val_loss: 2.2429 - val_accuracy: 0.2837\n",
      "Epoch 21/40\n",
      "84/84 [==============================] - 1s 10ms/step - loss: 1.5609 - accuracy: 0.4497 - val_loss: 1.9092 - val_accuracy: 0.3231\n",
      "Epoch 22/40\n",
      "84/84 [==============================] - 1s 10ms/step - loss: 1.5510 - accuracy: 0.4552 - val_loss: 2.7357 - val_accuracy: 0.2349\n",
      "Epoch 23/40\n",
      "84/84 [==============================] - 1s 10ms/step - loss: 1.5579 - accuracy: 0.4551 - val_loss: 2.9407 - val_accuracy: 0.2215\n",
      "Epoch 24/40\n",
      "84/84 [==============================] - 1s 10ms/step - loss: 1.5418 - accuracy: 0.4585 - val_loss: 2.3729 - val_accuracy: 0.2924\n",
      "Epoch 25/40\n",
      "84/84 [==============================] - 1s 10ms/step - loss: 1.5386 - accuracy: 0.4605 - val_loss: 2.1228 - val_accuracy: 0.3116\n",
      "Epoch 26/40\n",
      "84/84 [==============================] - 1s 10ms/step - loss: 1.5261 - accuracy: 0.4625 - val_loss: 2.3097 - val_accuracy: 0.2861\n",
      "Epoch 27/40\n",
      "84/84 [==============================] - 1s 10ms/step - loss: 1.5201 - accuracy: 0.4657 - val_loss: 2.2530 - val_accuracy: 0.2952\n",
      "Epoch 28/40\n",
      "84/84 [==============================] - 1s 10ms/step - loss: 1.5080 - accuracy: 0.4704 - val_loss: 2.9446 - val_accuracy: 0.2280\n",
      "Epoch 29/40\n",
      "84/84 [==============================] - 1s 10ms/step - loss: 1.5203 - accuracy: 0.4719 - val_loss: 2.5565 - val_accuracy: 0.2403\n",
      "Epoch 30/40\n",
      "84/84 [==============================] - 1s 10ms/step - loss: 1.5087 - accuracy: 0.4700 - val_loss: 2.1056 - val_accuracy: 0.3428\n",
      "Epoch 31/40\n",
      "84/84 [==============================] - 1s 10ms/step - loss: 1.4997 - accuracy: 0.4709 - val_loss: 2.1254 - val_accuracy: 0.3400\n",
      "Epoch 32/40\n",
      "84/84 [==============================] - 1s 10ms/step - loss: 1.4967 - accuracy: 0.4735 - val_loss: 2.8659 - val_accuracy: 0.2193\n",
      "Epoch 33/40\n",
      "84/84 [==============================] - 1s 10ms/step - loss: 1.4904 - accuracy: 0.4779 - val_loss: 2.5812 - val_accuracy: 0.2595\n",
      "Epoch 34/40\n",
      "84/84 [==============================] - 1s 10ms/step - loss: 1.4853 - accuracy: 0.4792 - val_loss: 3.6766 - val_accuracy: 0.1565\n",
      "Epoch 35/40\n",
      "84/84 [==============================] - 1s 9ms/step - loss: 1.4895 - accuracy: 0.4831 - val_loss: 2.1104 - val_accuracy: 0.3076\n",
      "Epoch 36/40\n",
      "84/84 [==============================] - 1s 9ms/step - loss: 1.4694 - accuracy: 0.4819 - val_loss: 2.0617 - val_accuracy: 0.3659\n",
      "Epoch 37/40\n",
      "84/84 [==============================] - 1s 11ms/step - loss: 1.4633 - accuracy: 0.4866 - val_loss: 2.1814 - val_accuracy: 0.3095\n",
      "Epoch 38/40\n",
      "84/84 [==============================] - 1s 10ms/step - loss: 1.4607 - accuracy: 0.4891 - val_loss: 2.3852 - val_accuracy: 0.2989\n",
      "Epoch 39/40\n",
      "84/84 [==============================] - 1s 10ms/step - loss: 1.4638 - accuracy: 0.4851 - val_loss: 2.1181 - val_accuracy: 0.3317\n",
      "Epoch 40/40\n",
      "84/84 [==============================] - 1s 10ms/step - loss: 1.4550 - accuracy: 0.4896 - val_loss: 2.7280 - val_accuracy: 0.2349\n"
     ]
    }
   ],
   "source": [
    "## Create an empty model object here\n",
    "model2 =  models.Sequential()\n",
    "\n",
    "## Add the hidden layer with 250 nodes,\n",
    "## remember to specify the activation function and the input_shape\n",
    "model2.add(layers.Dense(250, activation='relu', input_shape=(X_tt.shape[1],)))\n",
    "\n",
    "## Add the output layer, how many nodes should this have?\n",
    "## what should the activation function be?\n",
    "model2.add(layers.Dense(10, activation='softmax'))\n",
    "\n",
    "\n",
    "## Compile the network here with\n",
    "## the 'rmsprop' optimizer, the 'categorical_crossentropy' loss and\n",
    "## 'accuracy' as the only metric\n",
    "model2.compile(optimizer = 'rmsprop',\n",
    "                 loss = 'categorical_crossentropy',\n",
    "                 metrics = ['accuracy'])\n",
    "\n",
    "## You'll train the model for 40 epochs\n",
    "n_epochs = 40\n",
    "\n",
    "## fit the model here, don't forget to place the\n",
    "## ys in to_categorical\n",
    "## use a batch_size of 512\n",
    "## don't forget to include the validation_data\n",
    "history2 = model2.fit(X_tt,\n",
    "                       to_categorical(y_tt),\n",
    "                       epochs = n_epochs,\n",
    "                       batch_size = 512,\n",
    "                       validation_data = (X_val, to_categorical(y_val)))"
   ]
  },
  {
   "cell_type": "code",
   "execution_count": 17,
   "id": "3ff922fa",
   "metadata": {},
   "outputs": [
    {
     "data": {
      "image/png": "[encoded data removed]",
      "text/plain": [
       "<Figure size 720x432 with 1 Axes>"
      ]
     },
     "metadata": {},
     "output_type": "display_data"
    }
   ],
   "source": [
    "## Plot the validation accuracies of models 1 and 2 here\n",
    "history_dict2 = history2.history\n",
    "\n",
    "plt.figure(figsize=(10,6))\n",
    "\n",
    "plt.scatter(range(1,n_epochs+1), \n",
    "            history_dict1['val_accuracy'], \n",
    "            label=\"Model 1\")\n",
    "plt.scatter(range(1,n_epochs+1), \n",
    "            history_dict2['val_accuracy'], \n",
    "            marker='v',\n",
    "            label=\"Model 2\")\n",
    "\n",
    "plt.xlabel(\"Epoch\", fontsize=18)\n",
    "plt.ylabel(\"Accuracy\", fontsize=18)\n",
    "\n",
    "plt.xticks(fontsize=14)\n",
    "plt.yticks(fontsize=14)\n",
    "\n",
    "plt.legend(fontsize=14)\n",
    "\n",
    "\n",
    "plt.show()"
   ]
  },
  {
   "cell_type": "markdown",
   "id": "d0d6b986",
   "metadata": {},
   "source": [
    "##### b. \n",
    "\n",
    "Now try making a feed forward network with two hidden layers. Choose whatever size you would like for those layers. How does this compare to the other two models you have made?"
   ]
  },
  {
   "cell_type": "markdown",
   "id": "9a716a54",
   "metadata": {},
   "source": [
    "##### Sample Solution"
   ]
  },
  {
   "cell_type": "code",
   "execution_count": 18,
   "id": "7d839360",
   "metadata": {
    "scrolled": true
   },
   "outputs": [
    {
     "name": "stdout",
     "output_type": "stream",
     "text": [
      "Epoch 1/40\n",
      "84/84 [==============================] - 1s 6ms/step - loss: 2.3152 - accuracy: 0.1809 - val_loss: 3.9972 - val_accuracy: 0.1465\n",
      "Epoch 2/40\n",
      "84/84 [==============================] - 1s 6ms/step - loss: 2.0493 - accuracy: 0.2679 - val_loss: 3.0227 - val_accuracy: 0.1689\n",
      "Epoch 3/40\n",
      "84/84 [==============================] - 1s 6ms/step - loss: 1.9439 - accuracy: 0.3023 - val_loss: 2.3143 - val_accuracy: 0.1989\n",
      "Epoch 4/40\n",
      "84/84 [==============================] - 0s 6ms/step - loss: 1.8659 - accuracy: 0.3308 - val_loss: 2.6602 - val_accuracy: 0.1601\n",
      "Epoch 5/40\n",
      "84/84 [==============================] - 1s 6ms/step - loss: 1.8286 - accuracy: 0.3452 - val_loss: 2.1348 - val_accuracy: 0.2752\n",
      "Epoch 6/40\n",
      "84/84 [==============================] - 1s 7ms/step - loss: 1.7783 - accuracy: 0.3632 - val_loss: 2.6201 - val_accuracy: 0.2389\n",
      "Epoch 7/40\n",
      "84/84 [==============================] - 1s 6ms/step - loss: 1.7605 - accuracy: 0.3739 - val_loss: 2.1678 - val_accuracy: 0.2561\n",
      "Epoch 8/40\n",
      "84/84 [==============================] - 1s 6ms/step - loss: 1.7319 - accuracy: 0.3801 - val_loss: 2.5632 - val_accuracy: 0.2091\n",
      "Epoch 9/40\n",
      "84/84 [==============================] - 1s 6ms/step - loss: 1.7100 - accuracy: 0.3916 - val_loss: 2.1028 - val_accuracy: 0.2423\n",
      "Epoch 10/40\n",
      "84/84 [==============================] - 1s 6ms/step - loss: 1.6771 - accuracy: 0.4040 - val_loss: 2.6573 - val_accuracy: 0.2432\n",
      "Epoch 11/40\n",
      "84/84 [==============================] - 1s 6ms/step - loss: 1.6672 - accuracy: 0.4088 - val_loss: 2.3631 - val_accuracy: 0.2359\n",
      "Epoch 12/40\n",
      "84/84 [==============================] - 1s 6ms/step - loss: 1.6404 - accuracy: 0.4179 - val_loss: 1.9355 - val_accuracy: 0.3245\n",
      "Epoch 13/40\n",
      "84/84 [==============================] - 1s 6ms/step - loss: 1.6248 - accuracy: 0.4213 - val_loss: 2.2810 - val_accuracy: 0.2920\n",
      "Epoch 14/40\n",
      "84/84 [==============================] - 1s 6ms/step - loss: 1.6131 - accuracy: 0.4274 - val_loss: 2.1539 - val_accuracy: 0.2911\n",
      "Epoch 15/40\n",
      "84/84 [==============================] - 1s 6ms/step - loss: 1.5993 - accuracy: 0.4300 - val_loss: 2.5520 - val_accuracy: 0.2540\n",
      "Epoch 16/40\n",
      "84/84 [==============================] - 1s 6ms/step - loss: 1.5784 - accuracy: 0.4417 - val_loss: 2.2073 - val_accuracy: 0.2968\n",
      "Epoch 17/40\n",
      "84/84 [==============================] - 1s 6ms/step - loss: 1.5799 - accuracy: 0.4407 - val_loss: 2.7147 - val_accuracy: 0.2628\n",
      "Epoch 18/40\n",
      "84/84 [==============================] - 1s 6ms/step - loss: 1.5643 - accuracy: 0.4463 - val_loss: 2.5046 - val_accuracy: 0.2824\n",
      "Epoch 19/40\n",
      "84/84 [==============================] - 1s 6ms/step - loss: 1.5457 - accuracy: 0.4511 - val_loss: 1.9843 - val_accuracy: 0.3365\n",
      "Epoch 20/40\n",
      "84/84 [==============================] - 0s 6ms/step - loss: 1.5415 - accuracy: 0.4528 - val_loss: 2.4691 - val_accuracy: 0.2548\n",
      "Epoch 21/40\n",
      "84/84 [==============================] - 0s 6ms/step - loss: 1.5301 - accuracy: 0.4581 - val_loss: 1.9363 - val_accuracy: 0.3423\n",
      "Epoch 22/40\n",
      "84/84 [==============================] - 1s 6ms/step - loss: 1.5145 - accuracy: 0.4645 - val_loss: 1.8560 - val_accuracy: 0.3679\n",
      "Epoch 23/40\n",
      "84/84 [==============================] - 1s 6ms/step - loss: 1.5043 - accuracy: 0.4656 - val_loss: 2.0360 - val_accuracy: 0.3255\n",
      "Epoch 24/40\n",
      "84/84 [==============================] - 0s 6ms/step - loss: 1.4960 - accuracy: 0.4711 - val_loss: 2.4781 - val_accuracy: 0.2600\n",
      "Epoch 25/40\n",
      "84/84 [==============================] - 0s 6ms/step - loss: 1.4969 - accuracy: 0.4716 - val_loss: 2.2331 - val_accuracy: 0.2740\n",
      "Epoch 26/40\n",
      "84/84 [==============================] - 1s 6ms/step - loss: 1.4866 - accuracy: 0.4730 - val_loss: 2.3506 - val_accuracy: 0.2797\n",
      "Epoch 27/40\n",
      "84/84 [==============================] - 0s 6ms/step - loss: 1.4769 - accuracy: 0.4782 - val_loss: 2.2055 - val_accuracy: 0.3156\n",
      "Epoch 28/40\n",
      "84/84 [==============================] - 0s 6ms/step - loss: 1.4655 - accuracy: 0.4813 - val_loss: 2.3997 - val_accuracy: 0.2295\n",
      "Epoch 29/40\n",
      "84/84 [==============================] - 0s 6ms/step - loss: 1.4709 - accuracy: 0.4789 - val_loss: 2.1510 - val_accuracy: 0.3041\n",
      "Epoch 30/40\n",
      "84/84 [==============================] - 1s 6ms/step - loss: 1.4557 - accuracy: 0.4863 - val_loss: 1.9072 - val_accuracy: 0.3712\n",
      "Epoch 31/40\n",
      "84/84 [==============================] - 0s 6ms/step - loss: 1.4528 - accuracy: 0.4848 - val_loss: 3.5713 - val_accuracy: 0.1937\n",
      "Epoch 32/40\n",
      "84/84 [==============================] - 0s 6ms/step - loss: 1.4495 - accuracy: 0.4901 - val_loss: 1.7576 - val_accuracy: 0.3815\n",
      "Epoch 33/40\n",
      "84/84 [==============================] - 0s 6ms/step - loss: 1.4293 - accuracy: 0.4922 - val_loss: 2.0202 - val_accuracy: 0.3367\n",
      "Epoch 34/40\n",
      "84/84 [==============================] - 1s 6ms/step - loss: 1.4331 - accuracy: 0.4927 - val_loss: 1.9049 - val_accuracy: 0.3603\n",
      "Epoch 35/40\n",
      "84/84 [==============================] - 1s 6ms/step - loss: 1.4291 - accuracy: 0.4965 - val_loss: 1.8689 - val_accuracy: 0.3411\n",
      "Epoch 36/40\n",
      "84/84 [==============================] - 0s 6ms/step - loss: 1.4101 - accuracy: 0.5007 - val_loss: 2.5129 - val_accuracy: 0.2737\n",
      "Epoch 37/40\n",
      "84/84 [==============================] - 1s 6ms/step - loss: 1.4217 - accuracy: 0.4996 - val_loss: 2.1297 - val_accuracy: 0.2772\n",
      "Epoch 38/40\n",
      "84/84 [==============================] - 1s 6ms/step - loss: 1.4131 - accuracy: 0.5004 - val_loss: 1.7406 - val_accuracy: 0.3985\n",
      "Epoch 39/40\n",
      "84/84 [==============================] - 1s 6ms/step - loss: 1.4032 - accuracy: 0.5013 - val_loss: 1.9181 - val_accuracy: 0.3584\n",
      "Epoch 40/40\n",
      "84/84 [==============================] - 1s 6ms/step - loss: 1.3947 - accuracy: 0.5053 - val_loss: 2.0358 - val_accuracy: 0.3361\n"
     ]
    }
   ],
   "source": [
    "## Create an empty model object here\n",
    "model3 =  models.Sequential()\n",
    "\n",
    "## Add the hidden layers\n",
    "model3.add(layers.Dense(100, activation='relu', input_shape=(X_tt.shape[1],)))\n",
    "model3.add(layers.Dense(100, activation='relu'))\n",
    "\n",
    "\n",
    "## Add the output layer, how many nodes should this have?\n",
    "## what should the activation function be?\n",
    "model3.add(layers.Dense(10, activation='softmax'))\n",
    "\n",
    "\n",
    "## Compile the network here with\n",
    "## the 'rmsprop' optimizer, the 'categorical_crossentropy' loss and\n",
    "## 'accuracy' as the only metric\n",
    "model3.compile(optimizer = 'rmsprop',\n",
    "                 loss = 'categorical_crossentropy',\n",
    "                 metrics = ['accuracy'])\n",
    "\n",
    "## You'll train the model for 40 epochs\n",
    "n_epochs = 40\n",
    "\n",
    "## fit the model here, don't forget to place the\n",
    "## ys in to_categorical\n",
    "## use a batch_size of 512\n",
    "## don't forget to include the validation_data\n",
    "history3 = model3.fit(X_tt,\n",
    "                       to_categorical(y_tt),\n",
    "                       epochs = n_epochs,\n",
    "                       batch_size = 512,\n",
    "                       validation_data = (X_val, to_categorical(y_val)))"
   ]
  },
  {
   "cell_type": "code",
   "execution_count": 19,
   "id": "39d5ed9f",
   "metadata": {},
   "outputs": [
    {
     "data": {
      "image/png": "[encoded data removed]",
      "text/plain": [
       "<Figure size 720x432 with 1 Axes>"
      ]
     },
     "metadata": {},
     "output_type": "display_data"
    }
   ],
   "source": [
    "## Plot the validation accuracies of all three models here\n",
    "history_dict3 = history3.history\n",
    "\n",
    "plt.figure(figsize=(10,6))\n",
    "\n",
    "plt.scatter(range(1,n_epochs+1), \n",
    "            history_dict1['val_accuracy'], \n",
    "            label=\"Model 1\")\n",
    "plt.scatter(range(1,n_epochs+1), \n",
    "            history_dict2['val_accuracy'], \n",
    "            marker='v',\n",
    "            label=\"Model 2\")\n",
    "plt.scatter(range(1,n_epochs+1), \n",
    "            history_dict3['val_accuracy'], \n",
    "            marker='x',\n",
    "            label=\"Model 3\")\n",
    "\n",
    "plt.xlabel(\"Epoch\", fontsize=18)\n",
    "plt.ylabel(\"Accuracy\", fontsize=18)\n",
    "\n",
    "plt.xticks(fontsize=14)\n",
    "plt.yticks(fontsize=14)\n",
    "\n",
    "plt.legend(fontsize=14)\n",
    "\n",
    "\n",
    "plt.show()"
   ]
  },
  {
   "cell_type": "markdown",
   "id": "98fa46f7",
   "metadata": {},
   "source": [
    "#### 6. Trying more processed data\n",
    "\n",
    "Now you will explore if pre-processing the data further will improve the model performance.\n",
    "\n",
    "\n",
    "##### a.\n",
    "\n",
    "Use the function below to convert the original RGB image into grayscale. Then create a neural network for this new version of the data that has the same architecture as one of your networks from above."
   ]
  },
  {
   "cell_type": "code",
   "execution_count": 20,
   "id": "e0361836",
   "metadata": {},
   "outputs": [],
   "source": [
    "def to_grayscale(X):\n",
    "    return 0.2989*X[:,:,:,0] + 0.5870*X[:,:,:,1] + 0.1140*X[:,:,:,2]"
   ]
  },
  {
   "cell_type": "markdown",
   "id": "cc16890e",
   "metadata": {},
   "source": [
    "##### Sample Solution"
   ]
  },
  {
   "cell_type": "code",
   "execution_count": 21,
   "id": "9f7fe613",
   "metadata": {},
   "outputs": [],
   "source": [
    "X_train_g = to_grayscale(X_train).reshape(X_train.shape[0], -1)\n",
    "\n",
    "X_tt_g, X_val_g, y_tt_g, y_val_g = train_test_split(X_train_g, y_train,\n",
    "                                                       shuffle=True,\n",
    "                                                       random_state=294,\n",
    "                                                       test_size=.15,\n",
    "                                                       stratify=y_train)"
   ]
  },
  {
   "cell_type": "code",
   "execution_count": 22,
   "id": "3aa467d9",
   "metadata": {
    "scrolled": true
   },
   "outputs": [
    {
     "name": "stdout",
     "output_type": "stream",
     "text": [
      "Epoch 1/40\n",
      "84/84 [==============================] - 0s 3ms/step - loss: 2.1965 - accuracy: 0.1895 - val_loss: 2.4968 - val_accuracy: 0.1383\n",
      "Epoch 2/40\n",
      "84/84 [==============================] - 0s 3ms/step - loss: 2.0875 - accuracy: 0.2424 - val_loss: 2.8924 - val_accuracy: 0.1301\n",
      "Epoch 3/40\n",
      "84/84 [==============================] - 0s 3ms/step - loss: 2.0269 - accuracy: 0.2706 - val_loss: 4.0142 - val_accuracy: 0.1319\n",
      "Epoch 4/40\n",
      "84/84 [==============================] - 0s 3ms/step - loss: 1.9905 - accuracy: 0.2940 - val_loss: 2.2308 - val_accuracy: 0.2345\n",
      "Epoch 5/40\n",
      "84/84 [==============================] - 0s 3ms/step - loss: 1.9392 - accuracy: 0.3069 - val_loss: 2.7555 - val_accuracy: 0.1541\n",
      "Epoch 6/40\n",
      "84/84 [==============================] - 0s 3ms/step - loss: 1.9174 - accuracy: 0.3166 - val_loss: 2.2563 - val_accuracy: 0.1961\n",
      "Epoch 7/40\n",
      "84/84 [==============================] - 0s 3ms/step - loss: 1.8888 - accuracy: 0.3269 - val_loss: 2.1183 - val_accuracy: 0.2441\n",
      "Epoch 8/40\n",
      "84/84 [==============================] - 0s 3ms/step - loss: 1.8600 - accuracy: 0.3368 - val_loss: 2.7646 - val_accuracy: 0.1635\n",
      "Epoch 9/40\n",
      "84/84 [==============================] - 0s 3ms/step - loss: 1.8506 - accuracy: 0.3448 - val_loss: 2.7256 - val_accuracy: 0.1788\n",
      "Epoch 10/40\n",
      "84/84 [==============================] - 0s 3ms/step - loss: 1.8292 - accuracy: 0.3516 - val_loss: 2.2498 - val_accuracy: 0.2432\n",
      "Epoch 11/40\n",
      "84/84 [==============================] - 0s 3ms/step - loss: 1.8067 - accuracy: 0.3596 - val_loss: 2.0786 - val_accuracy: 0.2495\n",
      "Epoch 12/40\n",
      "84/84 [==============================] - 0s 3ms/step - loss: 1.7879 - accuracy: 0.3647 - val_loss: 2.5072 - val_accuracy: 0.1985\n",
      "Epoch 13/40\n",
      "84/84 [==============================] - 0s 3ms/step - loss: 1.7783 - accuracy: 0.3712 - val_loss: 2.8388 - val_accuracy: 0.2119\n",
      "Epoch 14/40\n",
      "84/84 [==============================] - 0s 3ms/step - loss: 1.7760 - accuracy: 0.3727 - val_loss: 3.7755 - val_accuracy: 0.1316\n",
      "Epoch 15/40\n",
      "84/84 [==============================] - 0s 3ms/step - loss: 1.7624 - accuracy: 0.3805 - val_loss: 2.5830 - val_accuracy: 0.2137\n",
      "Epoch 16/40\n",
      "84/84 [==============================] - 0s 3ms/step - loss: 1.7368 - accuracy: 0.3889 - val_loss: 1.9295 - val_accuracy: 0.3256\n",
      "Epoch 17/40\n",
      "84/84 [==============================] - 0s 3ms/step - loss: 1.7213 - accuracy: 0.3909 - val_loss: 2.1421 - val_accuracy: 0.2537\n",
      "Epoch 18/40\n",
      "84/84 [==============================] - 0s 3ms/step - loss: 1.7086 - accuracy: 0.3988 - val_loss: 2.0924 - val_accuracy: 0.2641\n",
      "Epoch 19/40\n",
      "84/84 [==============================] - 0s 3ms/step - loss: 1.6990 - accuracy: 0.3968 - val_loss: 2.3795 - val_accuracy: 0.2188\n",
      "Epoch 20/40\n",
      "84/84 [==============================] - 0s 3ms/step - loss: 1.6896 - accuracy: 0.4028 - val_loss: 2.3768 - val_accuracy: 0.2247\n",
      "Epoch 21/40\n",
      "84/84 [==============================] - 0s 3ms/step - loss: 1.6854 - accuracy: 0.4049 - val_loss: 2.2069 - val_accuracy: 0.2556\n",
      "Epoch 22/40\n",
      "84/84 [==============================] - 0s 3ms/step - loss: 1.6711 - accuracy: 0.4063 - val_loss: 2.5083 - val_accuracy: 0.2471\n",
      "Epoch 23/40\n",
      "84/84 [==============================] - 0s 3ms/step - loss: 1.6645 - accuracy: 0.4108 - val_loss: 2.2720 - val_accuracy: 0.2696\n",
      "Epoch 24/40\n",
      "84/84 [==============================] - 0s 3ms/step - loss: 1.6563 - accuracy: 0.4160 - val_loss: 2.1612 - val_accuracy: 0.2589\n",
      "Epoch 25/40\n",
      "84/84 [==============================] - 0s 3ms/step - loss: 1.6416 - accuracy: 0.4200 - val_loss: 2.2349 - val_accuracy: 0.2564\n",
      "Epoch 26/40\n",
      "84/84 [==============================] - 0s 3ms/step - loss: 1.6393 - accuracy: 0.4205 - val_loss: 2.6630 - val_accuracy: 0.2304\n",
      "Epoch 27/40\n",
      "84/84 [==============================] - 0s 3ms/step - loss: 1.6339 - accuracy: 0.4237 - val_loss: 2.1214 - val_accuracy: 0.2700\n",
      "Epoch 28/40\n",
      "84/84 [==============================] - 0s 3ms/step - loss: 1.6215 - accuracy: 0.4253 - val_loss: 2.0003 - val_accuracy: 0.3123\n",
      "Epoch 29/40\n",
      "84/84 [==============================] - 0s 3ms/step - loss: 1.6139 - accuracy: 0.4285 - val_loss: 2.1370 - val_accuracy: 0.2873\n",
      "Epoch 30/40\n",
      "84/84 [==============================] - 0s 3ms/step - loss: 1.6075 - accuracy: 0.4339 - val_loss: 1.9521 - val_accuracy: 0.3027\n",
      "Epoch 31/40\n",
      "84/84 [==============================] - 0s 3ms/step - loss: 1.5987 - accuracy: 0.4377 - val_loss: 2.1211 - val_accuracy: 0.2687\n",
      "Epoch 32/40\n",
      "84/84 [==============================] - 0s 3ms/step - loss: 1.5911 - accuracy: 0.4379 - val_loss: 2.2109 - val_accuracy: 0.2733\n",
      "Epoch 33/40\n",
      "84/84 [==============================] - 0s 3ms/step - loss: 1.5860 - accuracy: 0.4412 - val_loss: 1.9419 - val_accuracy: 0.3155\n",
      "Epoch 34/40\n",
      "84/84 [==============================] - 0s 3ms/step - loss: 1.5758 - accuracy: 0.4429 - val_loss: 2.7485 - val_accuracy: 0.2171\n",
      "Epoch 35/40\n",
      "84/84 [==============================] - 0s 3ms/step - loss: 1.5742 - accuracy: 0.4451 - val_loss: 1.9808 - val_accuracy: 0.3117\n",
      "Epoch 36/40\n",
      "84/84 [==============================] - 0s 3ms/step - loss: 1.5656 - accuracy: 0.4474 - val_loss: 2.0439 - val_accuracy: 0.2991\n",
      "Epoch 37/40\n",
      "84/84 [==============================] - 0s 3ms/step - loss: 1.5645 - accuracy: 0.4475 - val_loss: 2.2117 - val_accuracy: 0.2668\n",
      "Epoch 38/40\n",
      "84/84 [==============================] - 0s 3ms/step - loss: 1.5576 - accuracy: 0.4507 - val_loss: 1.9403 - val_accuracy: 0.3157\n",
      "Epoch 39/40\n",
      "84/84 [==============================] - 0s 3ms/step - loss: 1.5467 - accuracy: 0.4528 - val_loss: 2.2753 - val_accuracy: 0.2937\n",
      "Epoch 40/40\n",
      "84/84 [==============================] - 0s 3ms/step - loss: 1.5438 - accuracy: 0.4566 - val_loss: 2.0309 - val_accuracy: 0.2860\n"
     ]
    }
   ],
   "source": [
    "## Create an empty model object here\n",
    "model4 =  models.Sequential()\n",
    "\n",
    "## Add the hidden layers\n",
    "model4.add(layers.Dense(100, activation='relu', input_shape=(X_tt_g.shape[1],)))\n",
    "model4.add(layers.Dense(100, activation='relu'))\n",
    "\n",
    "\n",
    "## Add the output layer, how many nodes should this have?\n",
    "## what should the activation function be?\n",
    "model4.add(layers.Dense(10, activation='softmax'))\n",
    "\n",
    "\n",
    "## Compile the network here with\n",
    "## the 'rmsprop' optimizer, the 'categorical_crossentropy' loss and\n",
    "## 'accuracy' as the only metric\n",
    "model4.compile(optimizer = 'rmsprop',\n",
    "                 loss = 'categorical_crossentropy',\n",
    "                 metrics = ['accuracy'])\n",
    "\n",
    "## You'll train the model for 40 epochs\n",
    "n_epochs = 40\n",
    "\n",
    "## fit the model here, don't forget to place the\n",
    "## ys in to_categorical\n",
    "## use a batch_size of 512\n",
    "## don't forget to include the validation_data\n",
    "history4 = model4.fit(X_tt_g,\n",
    "                       to_categorical(y_tt_g),\n",
    "                       epochs = n_epochs,\n",
    "                       batch_size = 512,\n",
    "                       validation_data = (X_val_g, to_categorical(y_val_g)))"
   ]
  },
  {
   "cell_type": "code",
   "execution_count": 23,
   "id": "c11fd739",
   "metadata": {},
   "outputs": [
    {
     "data": {
      "image/png": "[encoded data removed]",
      "text/plain": [
       "<Figure size 720x432 with 1 Axes>"
      ]
     },
     "metadata": {},
     "output_type": "display_data"
    }
   ],
   "source": [
    "## Plot the validation accuracy of the RGB version of the model\n",
    "## and the grayscale version of the model here\n",
    "history_dict4 = history4.history\n",
    "\n",
    "plt.figure(figsize=(10,6))\n",
    "\n",
    "plt.scatter(range(1,n_epochs+1), \n",
    "            history_dict3['val_accuracy'], \n",
    "            label=\"RGB\")\n",
    "plt.scatter(range(1,n_epochs+1), \n",
    "            history_dict4['val_accuracy'], \n",
    "            marker='v',\n",
    "            label=\"Grayscale\")\n",
    "\n",
    "plt.xlabel(\"Epoch\", fontsize=18)\n",
    "plt.ylabel(\"Accuracy\", fontsize=18)\n",
    "\n",
    "plt.xticks(fontsize=14)\n",
    "plt.yticks(fontsize=14)\n",
    "\n",
    "plt.legend(fontsize=14)\n",
    "\n",
    "\n",
    "plt.show()"
   ]
  },
  {
   "cell_type": "markdown",
   "id": "71383316",
   "metadata": {},
   "source": [
    "##### b. \n",
    "\n",
    "Now try running the original RGB image data through PCA that captures $90\\%$ of the original data's variance, then build a neural network (with the same architecture as the network in part <i>a.</i>) on that data."
   ]
  },
  {
   "cell_type": "markdown",
   "id": "34cf9456",
   "metadata": {},
   "source": [
    "##### Sample Solution"
   ]
  },
  {
   "cell_type": "code",
   "execution_count": 24,
   "id": "eac6d57d",
   "metadata": {},
   "outputs": [],
   "source": [
    "from sklearn.decomposition import PCA"
   ]
  },
  {
   "cell_type": "code",
   "execution_count": 25,
   "id": "5ab81189",
   "metadata": {},
   "outputs": [],
   "source": [
    "pca = PCA(.9)\n",
    "\n",
    "X_tt_pca = pca.fit_transform(X_tt)\n",
    "X_val_pca = pca.transform(X_val)"
   ]
  },
  {
   "cell_type": "code",
   "execution_count": 26,
   "id": "f81de175",
   "metadata": {
    "scrolled": true
   },
   "outputs": [
    {
     "name": "stdout",
     "output_type": "stream",
     "text": [
      "Epoch 1/40\n",
      "84/84 [==============================] - 0s 1ms/step - loss: 1.8729 - accuracy: 0.3333 - val_loss: 1.7726 - val_accuracy: 0.3613\n",
      "Epoch 2/40\n",
      "84/84 [==============================] - 0s 1ms/step - loss: 1.6448 - accuracy: 0.4200 - val_loss: 1.6652 - val_accuracy: 0.4067\n",
      "Epoch 3/40\n",
      "84/84 [==============================] - 0s 1ms/step - loss: 1.5552 - accuracy: 0.4536 - val_loss: 1.6163 - val_accuracy: 0.4231\n",
      "Epoch 4/40\n",
      "84/84 [==============================] - 0s 1ms/step - loss: 1.4967 - accuracy: 0.4724 - val_loss: 1.5615 - val_accuracy: 0.4411\n",
      "Epoch 5/40\n",
      "84/84 [==============================] - 0s 1ms/step - loss: 1.4511 - accuracy: 0.4898 - val_loss: 1.5536 - val_accuracy: 0.4525\n",
      "Epoch 6/40\n",
      "84/84 [==============================] - 0s 1ms/step - loss: 1.4129 - accuracy: 0.5002 - val_loss: 1.5418 - val_accuracy: 0.4524\n",
      "Epoch 7/40\n",
      "84/84 [==============================] - 0s 1ms/step - loss: 1.3822 - accuracy: 0.5132 - val_loss: 1.5049 - val_accuracy: 0.4657\n",
      "Epoch 8/40\n",
      "84/84 [==============================] - 0s 1ms/step - loss: 1.3559 - accuracy: 0.5212 - val_loss: 1.5062 - val_accuracy: 0.4713\n",
      "Epoch 9/40\n",
      "84/84 [==============================] - 0s 1ms/step - loss: 1.3317 - accuracy: 0.5290 - val_loss: 1.4864 - val_accuracy: 0.4725\n",
      "Epoch 10/40\n",
      "84/84 [==============================] - 0s 1ms/step - loss: 1.3087 - accuracy: 0.5383 - val_loss: 1.4787 - val_accuracy: 0.4792\n",
      "Epoch 11/40\n",
      "84/84 [==============================] - 0s 1ms/step - loss: 1.2876 - accuracy: 0.5463 - val_loss: 1.5468 - val_accuracy: 0.4545\n",
      "Epoch 12/40\n",
      "84/84 [==============================] - 0s 1ms/step - loss: 1.2699 - accuracy: 0.5539 - val_loss: 1.4736 - val_accuracy: 0.4804\n",
      "Epoch 13/40\n",
      "84/84 [==============================] - 0s 1ms/step - loss: 1.2519 - accuracy: 0.5609 - val_loss: 1.4641 - val_accuracy: 0.4861\n",
      "Epoch 14/40\n",
      "84/84 [==============================] - 0s 1ms/step - loss: 1.2354 - accuracy: 0.5663 - val_loss: 1.4919 - val_accuracy: 0.4760\n",
      "Epoch 15/40\n",
      "84/84 [==============================] - 0s 1ms/step - loss: 1.2223 - accuracy: 0.5704 - val_loss: 1.4727 - val_accuracy: 0.4827\n",
      "Epoch 16/40\n",
      "84/84 [==============================] - 0s 1ms/step - loss: 1.2096 - accuracy: 0.5752 - val_loss: 1.4645 - val_accuracy: 0.4903\n",
      "Epoch 17/40\n",
      "84/84 [==============================] - 0s 1ms/step - loss: 1.1957 - accuracy: 0.5830 - val_loss: 1.4517 - val_accuracy: 0.4957\n",
      "Epoch 18/40\n",
      "84/84 [==============================] - 0s 1ms/step - loss: 1.1843 - accuracy: 0.5842 - val_loss: 1.4686 - val_accuracy: 0.4949\n",
      "Epoch 19/40\n",
      "84/84 [==============================] - 0s 1ms/step - loss: 1.1728 - accuracy: 0.5881 - val_loss: 1.4704 - val_accuracy: 0.4879\n",
      "Epoch 20/40\n",
      "84/84 [==============================] - 0s 1ms/step - loss: 1.1614 - accuracy: 0.5952 - val_loss: 1.4780 - val_accuracy: 0.4889\n",
      "Epoch 21/40\n",
      "84/84 [==============================] - 0s 1ms/step - loss: 1.1524 - accuracy: 0.5969 - val_loss: 1.4610 - val_accuracy: 0.4963\n",
      "Epoch 22/40\n",
      "84/84 [==============================] - 0s 1ms/step - loss: 1.1437 - accuracy: 0.6015 - val_loss: 1.4765 - val_accuracy: 0.4928\n",
      "Epoch 23/40\n",
      "84/84 [==============================] - 0s 1ms/step - loss: 1.1321 - accuracy: 0.6038 - val_loss: 1.4772 - val_accuracy: 0.4888\n",
      "Epoch 24/40\n",
      "84/84 [==============================] - 0s 1ms/step - loss: 1.1220 - accuracy: 0.6071 - val_loss: 1.4627 - val_accuracy: 0.4953\n",
      "Epoch 25/40\n",
      "84/84 [==============================] - 0s 1ms/step - loss: 1.1143 - accuracy: 0.6104 - val_loss: 1.4607 - val_accuracy: 0.4932\n",
      "Epoch 26/40\n",
      "84/84 [==============================] - 0s 1ms/step - loss: 1.1055 - accuracy: 0.6133 - val_loss: 1.4786 - val_accuracy: 0.4955\n",
      "Epoch 27/40\n",
      "84/84 [==============================] - 0s 1ms/step - loss: 1.1001 - accuracy: 0.6142 - val_loss: 1.4703 - val_accuracy: 0.4955\n",
      "Epoch 28/40\n",
      "84/84 [==============================] - 0s 1ms/step - loss: 1.0918 - accuracy: 0.6172 - val_loss: 1.4469 - val_accuracy: 0.5084\n",
      "Epoch 29/40\n",
      "84/84 [==============================] - 0s 1ms/step - loss: 1.0847 - accuracy: 0.6208 - val_loss: 1.4441 - val_accuracy: 0.5017\n",
      "Epoch 30/40\n",
      "84/84 [==============================] - 0s 1ms/step - loss: 1.0778 - accuracy: 0.6231 - val_loss: 1.4588 - val_accuracy: 0.4996\n",
      "Epoch 31/40\n",
      "84/84 [==============================] - 0s 1ms/step - loss: 1.0686 - accuracy: 0.6272 - val_loss: 1.5034 - val_accuracy: 0.4940\n",
      "Epoch 32/40\n",
      "84/84 [==============================] - 0s 1ms/step - loss: 1.0637 - accuracy: 0.6269 - val_loss: 1.4862 - val_accuracy: 0.4907\n",
      "Epoch 33/40\n",
      "84/84 [==============================] - 0s 1ms/step - loss: 1.0566 - accuracy: 0.6301 - val_loss: 1.4869 - val_accuracy: 0.4959\n",
      "Epoch 34/40\n",
      "84/84 [==============================] - 0s 1ms/step - loss: 1.0509 - accuracy: 0.6334 - val_loss: 1.4573 - val_accuracy: 0.5065\n",
      "Epoch 35/40\n",
      "84/84 [==============================] - 0s 1ms/step - loss: 1.0451 - accuracy: 0.6330 - val_loss: 1.4854 - val_accuracy: 0.4941\n",
      "Epoch 36/40\n",
      "84/84 [==============================] - 0s 1ms/step - loss: 1.0400 - accuracy: 0.6352 - val_loss: 1.4915 - val_accuracy: 0.4960\n",
      "Epoch 37/40\n",
      "84/84 [==============================] - 0s 1ms/step - loss: 1.0344 - accuracy: 0.6360 - val_loss: 1.4822 - val_accuracy: 0.4997\n",
      "Epoch 38/40\n",
      "84/84 [==============================] - 0s 1ms/step - loss: 1.0274 - accuracy: 0.6401 - val_loss: 1.4744 - val_accuracy: 0.5047\n",
      "Epoch 39/40\n",
      "84/84 [==============================] - 0s 1ms/step - loss: 1.0232 - accuracy: 0.6400 - val_loss: 1.4845 - val_accuracy: 0.5077\n",
      "Epoch 40/40\n",
      "84/84 [==============================] - 0s 1ms/step - loss: 1.0180 - accuracy: 0.6435 - val_loss: 1.5200 - val_accuracy: 0.5019\n"
     ]
    }
   ],
   "source": [
    "## Create an empty model object here\n",
    "model5 =  models.Sequential()\n",
    "\n",
    "## Add the hidden layers\n",
    "model5.add(layers.Dense(100, activation='relu', input_shape=(X_tt_pca.shape[1],)))\n",
    "model5.add(layers.Dense(100, activation='relu'))\n",
    "\n",
    "\n",
    "## Add the output layer, how many nodes should this have?\n",
    "## what should the activation function be?\n",
    "model5.add(layers.Dense(10, activation='softmax'))\n",
    "\n",
    "\n",
    "## Compile the network here with\n",
    "## the 'rmsprop' optimizer, the 'categorical_crossentropy' loss and\n",
    "## 'accuracy' as the only metric\n",
    "model5.compile(optimizer = 'rmsprop',\n",
    "                 loss = 'categorical_crossentropy',\n",
    "                 metrics = ['accuracy'])\n",
    "\n",
    "## You'll train the model for 40 epochs\n",
    "n_epochs = 40\n",
    "\n",
    "## fit the model here, don't forget to place the\n",
    "## ys in to_categorical\n",
    "## use a batch_size of 512\n",
    "## don't forget to include the validation_data\n",
    "history5 = model5.fit(X_tt_pca,\n",
    "                       to_categorical(y_tt),\n",
    "                       epochs = n_epochs,\n",
    "                       batch_size = 512,\n",
    "                       validation_data = (X_val_pca, to_categorical(y_val)))"
   ]
  },
  {
   "cell_type": "code",
   "execution_count": 27,
   "id": "106521dc",
   "metadata": {},
   "outputs": [
    {
     "data": {
      "image/png": "[encoded data removed]",
      "text/plain": [
       "<Figure size 720x432 with 1 Axes>"
      ]
     },
     "metadata": {},
     "output_type": "display_data"
    }
   ],
   "source": [
    "## Plot the validation accuracy of the Non-PCA version of the model\n",
    "## and the PCA version of the model here\n",
    "\n",
    "history_dict5 = history5.history\n",
    "\n",
    "plt.figure(figsize=(10,6))\n",
    "\n",
    "plt.scatter(range(1,n_epochs+1), \n",
    "            history_dict3['val_accuracy'], \n",
    "            label=\"Non-PCA Model\")\n",
    "plt.scatter(range(1,n_epochs+1), \n",
    "            history_dict5['val_accuracy'], \n",
    "            marker='v',\n",
    "            label=\"PCA Model\")\n",
    "\n",
    "plt.xlabel(\"Epoch\", fontsize=18)\n",
    "plt.ylabel(\"Accuracy\", fontsize=18)\n",
    "\n",
    "plt.xticks(fontsize=14)\n",
    "plt.yticks(fontsize=14)\n",
    "\n",
    "plt.legend(fontsize=14)\n",
    "\n",
    "\n",
    "plt.show()"
   ]
  },
  {
   "cell_type": "markdown",
   "id": "8972885d",
   "metadata": {},
   "source": [
    "#### 7. Saving a model\n",
    "\n",
    "##### a.\n",
    "\n",
    "Choose one of the models you built in this session and retrain it to the optimal number of epochs. Store the model in a variable just called `model`."
   ]
  },
  {
   "cell_type": "markdown",
   "id": "5ea765ab",
   "metadata": {},
   "source": [
    "##### Sample Solution"
   ]
  },
  {
   "cell_type": "code",
   "execution_count": 28,
   "id": "9cb80514",
   "metadata": {},
   "outputs": [
    {
     "name": "stdout",
     "output_type": "stream",
     "text": [
      "Epoch 1/20\n",
      "84/84 [==============================] - 0s 2ms/step - loss: 1.9087 - accuracy: 0.3235 - val_loss: 1.7724 - val_accuracy: 0.3623\n",
      "Epoch 2/20\n",
      "84/84 [==============================] - 0s 1ms/step - loss: 1.6485 - accuracy: 0.4201 - val_loss: 1.6604 - val_accuracy: 0.4085\n",
      "Epoch 3/20\n",
      "84/84 [==============================] - 0s 1ms/step - loss: 1.5595 - accuracy: 0.4525 - val_loss: 1.6464 - val_accuracy: 0.4237\n",
      "Epoch 4/20\n",
      "84/84 [==============================] - 0s 1ms/step - loss: 1.5032 - accuracy: 0.4744 - val_loss: 1.5965 - val_accuracy: 0.4333\n",
      "Epoch 5/20\n",
      "84/84 [==============================] - 0s 1ms/step - loss: 1.4594 - accuracy: 0.4889 - val_loss: 1.5474 - val_accuracy: 0.4545\n",
      "Epoch 6/20\n",
      "84/84 [==============================] - 0s 1ms/step - loss: 1.4218 - accuracy: 0.5019 - val_loss: 1.5765 - val_accuracy: 0.4428\n",
      "Epoch 7/20\n",
      "84/84 [==============================] - 0s 1ms/step - loss: 1.3906 - accuracy: 0.5119 - val_loss: 1.5478 - val_accuracy: 0.4507\n",
      "Epoch 8/20\n",
      "84/84 [==============================] - 0s 1ms/step - loss: 1.3621 - accuracy: 0.5235 - val_loss: 1.5146 - val_accuracy: 0.4667\n",
      "Epoch 9/20\n",
      "84/84 [==============================] - 0s 1ms/step - loss: 1.3361 - accuracy: 0.5321 - val_loss: 1.5067 - val_accuracy: 0.4640\n",
      "Epoch 10/20\n",
      "84/84 [==============================] - 0s 1ms/step - loss: 1.3138 - accuracy: 0.5406 - val_loss: 1.4865 - val_accuracy: 0.4740\n",
      "Epoch 11/20\n",
      "84/84 [==============================] - 0s 1ms/step - loss: 1.2940 - accuracy: 0.5476 - val_loss: 1.4770 - val_accuracy: 0.4795\n",
      "Epoch 12/20\n",
      "84/84 [==============================] - 0s 1ms/step - loss: 1.2739 - accuracy: 0.5514 - val_loss: 1.4673 - val_accuracy: 0.4824\n",
      "Epoch 13/20\n",
      "84/84 [==============================] - 0s 1ms/step - loss: 1.2562 - accuracy: 0.5593 - val_loss: 1.4848 - val_accuracy: 0.4823\n",
      "Epoch 14/20\n",
      "84/84 [==============================] - 0s 1ms/step - loss: 1.2398 - accuracy: 0.5647 - val_loss: 1.4586 - val_accuracy: 0.4843\n",
      "Epoch 15/20\n",
      "84/84 [==============================] - 0s 1ms/step - loss: 1.2251 - accuracy: 0.5691 - val_loss: 1.4918 - val_accuracy: 0.4843\n",
      "Epoch 16/20\n",
      "84/84 [==============================] - 0s 1ms/step - loss: 1.2120 - accuracy: 0.5758 - val_loss: 1.4708 - val_accuracy: 0.4823\n",
      "Epoch 17/20\n",
      "84/84 [==============================] - 0s 1ms/step - loss: 1.1964 - accuracy: 0.5788 - val_loss: 1.4499 - val_accuracy: 0.4868\n",
      "Epoch 18/20\n",
      "84/84 [==============================] - 0s 1ms/step - loss: 1.1837 - accuracy: 0.5857 - val_loss: 1.4414 - val_accuracy: 0.4967\n",
      "Epoch 19/20\n",
      "84/84 [==============================] - 0s 1ms/step - loss: 1.1711 - accuracy: 0.5888 - val_loss: 1.4373 - val_accuracy: 0.4983\n",
      "Epoch 20/20\n",
      "84/84 [==============================] - 0s 1ms/step - loss: 1.1601 - accuracy: 0.5922 - val_loss: 1.4543 - val_accuracy: 0.4952\n"
     ]
    }
   ],
   "source": [
    "## Create an empty model object here\n",
    "model =  models.Sequential()\n",
    "\n",
    "## Add the hidden layers\n",
    "model.add(layers.Dense(100, activation='relu', input_shape=(X_tt_pca.shape[1],)))\n",
    "model.add(layers.Dense(100, activation='relu'))\n",
    "\n",
    "\n",
    "## Add the output layer, how many nodes should this have?\n",
    "## what should the activation function be?\n",
    "model.add(layers.Dense(10, activation='softmax'))\n",
    "\n",
    "\n",
    "## Compile the network here with\n",
    "## the 'rmsprop' optimizer, the 'categorical_crossentropy' loss and\n",
    "## 'accuracy' as the only metric\n",
    "model.compile(optimizer = 'rmsprop',\n",
    "                 loss = 'categorical_crossentropy',\n",
    "                 metrics = ['accuracy'])\n",
    "\n",
    "## You'll train the model for 40 epochs\n",
    "n_epochs = 20\n",
    "\n",
    "## fit the model here, don't forget to place the\n",
    "## ys in to_categorical\n",
    "## use a batch_size of 512\n",
    "## don't forget to include the validation_data\n",
    "history = model.fit(X_tt_pca,\n",
    "                       to_categorical(y_tt),\n",
    "                       epochs = n_epochs,\n",
    "                       batch_size = 512,\n",
    "                       validation_data = (X_val_pca, to_categorical(y_val)))"
   ]
  },
  {
   "cell_type": "markdown",
   "id": "d1bb9b51",
   "metadata": {},
   "source": [
    "##### b.\n",
    "\n",
    "Running the code below will save your trained model to a file that can be reloaded at a later time.\n",
    "\n",
    "Save your model, you will return to it in `Fall Problem Session 12`."
   ]
  },
  {
   "cell_type": "markdown",
   "id": "f226ae07",
   "metadata": {},
   "source": [
    "##### Sample Solution"
   ]
  },
  {
   "cell_type": "code",
   "execution_count": 29,
   "id": "3a8a99a6",
   "metadata": {},
   "outputs": [
    {
     "name": "stdout",
     "output_type": "stream",
     "text": [
      "INFO:tensorflow:Assets written to: matt_model_fall_pb_sess_11/assets\n"
     ]
    },
    {
     "name": "stderr",
     "output_type": "stream",
     "text": [
      "2022-09-21 13:20:58.193436: W tensorflow/python/util/util.cc:348] Sets are not currently considered sequences, but this may change in the future, so consider avoiding using them.\n"
     ]
    }
   ],
   "source": [
    "#### fill in a model name here\n",
    "model_filename = \"matt_model_fall_pb_sess_11\"\n",
    "\n",
    "model.save(model_filename)"
   ]
  },
  {
   "cell_type": "markdown",
   "id": "a0924468",
   "metadata": {},
   "source": [
    "That's all for this notebook. You may have noticed that none of your models are particularly good. This is a difficult classification problem and you will continue working on it in `Fall Problem Session 12`. Perhaps we can improve model performance."
   ]
  },
  {
   "cell_type": "markdown",
   "id": "47afe5d1",
   "metadata": {},
   "source": [
    "--------------------------\n",
    "\n",
    "This notebook was written for the Erd&#337;s Institute C&#337;de Data Science Boot Camp by Matthew Osborne, Ph. D., 2022.\n",
    "\n",
    "Any potential redistributors must seek and receive permission from Matthew Tyler Osborne, Ph.D. prior to redistribution. Redistribution of the material contained in this repository is conditional on acknowledgement of Matthew Tyler Osborne, Ph.D.'s original authorship and sponsorship of the Erdős Institute as subject to the license (see License.md)"
   ]
  },
  {
   "cell_type": "code",
   "execution_count": null,
   "id": "bf12245a",
   "metadata": {},
   "outputs": [],
   "source": []
  }
 ],
 "metadata": {
  "kernelspec": {
   "display_name": "Python 3 (ipykernel)",
   "language": "python",
   "name": "python3"
  },
  "language_info": {
   "codemirror_mode": {
    "name": "ipython",
    "version": 3
   },
   "file_extension": ".py",
   "mimetype": "text/x-python",
   "name": "python",
   "nbconvert_exporter": "python",
   "pygments_lexer": "ipython3",
   "version": "3.9.9"
  }
 },
 "nbformat": 4,
 "nbformat_minor": 5
}
