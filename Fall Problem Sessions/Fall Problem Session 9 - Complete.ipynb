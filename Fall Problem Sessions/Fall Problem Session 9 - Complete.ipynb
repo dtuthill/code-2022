{
 "cells": [
  {
   "cell_type": "markdown",
   "id": "839dfb7b",
   "metadata": {},
   "source": [
    "# Fall Problem Session 9\n",
    "## Classifying Pumpkin Seeds III\n",
    "\n",
    "In this notebook you continue to work with the pumpkin seed data from <a href=\"https://link.springer.com/article/10.1007/s10722-021-01226-0\">The use of machine learning methods in classification of pumpkin seeds (Cucurbita pepo L.)</a> by Koklu, Sarigil and Ozbek (2021).\n",
    "\n",
    "\n",
    "The problems in this notebook will cover the content covered in some of our `Classification`, `Dimension Reduction` and our `Ensemble Learning` notebooks. In particular we will cover content touched on in:\n",
    "- `Classification/Support Vector Machines`\n",
    "- `Classification/Decision Trees`,\n",
    "- `Ensemble Learning/Random Forests` and\n",
    "- `Dimension Reduction/Principal Components Analysis`."
   ]
  },
  {
   "cell_type": "code",
   "execution_count": 1,
   "id": "042b4fcb",
   "metadata": {},
   "outputs": [],
   "source": [
    "import pandas as pd\n",
    "import numpy as np\n",
    "import matplotlib.pyplot as plt\n",
    "import seaborn as sns\n",
    "\n",
    "sns.set_style(\"whitegrid\")"
   ]
  },
  {
   "cell_type": "markdown",
   "id": "86c831e6",
   "metadata": {},
   "source": [
    "#### 1. Load and prepare the data\n",
    "\n",
    "Run the code below in order to:\n",
    "\n",
    "- Load the data stored in `Pumpkin_Seeds_Dataset.xlsx` in the `Data` folder,\n",
    "- Create a column `y` where `y=1` if `Class=Ürgüp Sivrisi` and `y=0` if `Class=Çerçevelik` and\n",
    "- Make a train test split setting $10\\%$ of the data aside as a test set."
   ]
  },
  {
   "cell_type": "code",
   "execution_count": 2,
   "id": "4fdddd85",
   "metadata": {},
   "outputs": [],
   "source": [
    "seeds = pd.read_excel(\"../Data/Pumpkin_Seeds_Dataset.xlsx\")\n",
    "\n",
    "seeds['y'] = 0\n",
    "\n",
    "seeds.loc[seeds.Class=='Ürgüp Sivrisi', 'y']=1"
   ]
  },
  {
   "cell_type": "code",
   "execution_count": 3,
   "id": "bbc88ce5",
   "metadata": {},
   "outputs": [],
   "source": [
    "from sklearn.model_selection import train_test_split"
   ]
  },
  {
   "cell_type": "code",
   "execution_count": 4,
   "id": "cec761d2",
   "metadata": {},
   "outputs": [],
   "source": [
    "seeds_train, seeds_test = train_test_split(seeds.copy(),\n",
    "                                              shuffle=True,\n",
    "                                              random_state=123,\n",
    "                                              test_size=.1,\n",
    "                                              stratify=seeds.y.values)"
   ]
  },
  {
   "cell_type": "markdown",
   "id": "9de0f4ca",
   "metadata": {},
   "source": [
    "#### 2. Refresh your memory\n",
    "\n",
    "If you need to refresh your memory on these data and the problem, you may want to look at a small subset of the data, look back on `Fall Problem Session 7` and `Fall Problem Session 8` and/or browse Figure 5 and Table 1 of this paper, <a href=\"pumpkin_seed_paper.pdf\">pumpkin_seed_paper.pdf</a>"
   ]
  },
  {
   "cell_type": "markdown",
   "id": "30200630",
   "metadata": {},
   "source": [
    "#### 3. A support vector machine classifier\n",
    "\n",
    "In this problem you will work to build a support vector classifier on these data. Along the way you will get a closer look at iterative versions of the hyperparameter grid search. \n",
    "\n",
    "##### a.\n",
    "\n",
    "Start by importing the support vector classifier from `sklearn`. Note that these data are not close to being linearly separable so we will not want `LinearSVC`."
   ]
  },
  {
   "cell_type": "markdown",
   "id": "cef84115",
   "metadata": {},
   "source": [
    "##### Sample Solution"
   ]
  },
  {
   "cell_type": "code",
   "execution_count": 5,
   "id": "09f3ad84",
   "metadata": {},
   "outputs": [],
   "source": [
    "from sklearn.svm import SVC"
   ]
  },
  {
   "cell_type": "markdown",
   "id": "5d52f3ca",
   "metadata": {},
   "source": [
    "##### b.\n",
    "\n",
    "You will now perform hyperparameter tuning on the `C` parameter of the support vector classifier. Fill in the missing pieces of the code below to perform 10-fold cross-validation for different values of `C`."
   ]
  },
  {
   "cell_type": "markdown",
   "id": "91d552a3",
   "metadata": {},
   "source": [
    "##### Sample Solution"
   ]
  },
  {
   "cell_type": "code",
   "execution_count": 6,
   "id": "04757f7c",
   "metadata": {},
   "outputs": [],
   "source": [
    "## import kfold\n",
    "from sklearn.model_selection import StratifiedKFold\n",
    "\n",
    "## import Pipeline and StandardScaler\n",
    "from sklearn.pipeline import Pipeline\n",
    "from sklearn.preprocessing import StandardScaler\n",
    "\n",
    "## import accuracy_score\n",
    "from sklearn.metrics import accuracy_score"
   ]
  },
  {
   "cell_type": "code",
   "execution_count": 7,
   "id": "7c396ca0",
   "metadata": {},
   "outputs": [],
   "source": [
    "## this will isolate the feature columns\n",
    "features = seeds_train.columns[:-2]"
   ]
  },
  {
   "cell_type": "code",
   "execution_count": 8,
   "id": "1bde092d",
   "metadata": {},
   "outputs": [],
   "source": [
    "## set the number of CV folds\n",
    "n_splits = 10\n",
    "\n",
    "## Make the kfold object\n",
    "kfold = StratifiedKFold(n_splits, \n",
    "                        random_state=2013, \n",
    "                        shuffle=True)\n",
    "\n",
    "\n",
    "## the values of C you will try\n",
    "Cs = [.01, .1, 1, 10, 25, 50, 75, 100, 125, 150]\n",
    "\n",
    "## this will hold the CV accuracies\n",
    "C_accs1 = np.zeros((n_splits, len(Cs)))\n",
    "\n",
    "\n",
    "## the cross-validation\n",
    "i = 0\n",
    "for train_index, test_index in kfold.split(seeds_train, seeds_train.y):\n",
    "    seeds_tt = seeds_train.iloc[train_index]\n",
    "    seeds_ho = seeds_train.iloc[test_index]\n",
    "    \n",
    "    j = 0\n",
    "    for C in Cs:\n",
    "        pipe = Pipeline([('scale', StandardScaler()),\n",
    "                            ('svm', SVC(C=C))])\n",
    "    \n",
    "        pipe.fit(seeds_tt[features],\n",
    "                    seeds_tt.y)\n",
    "    \n",
    "        pred = pipe.predict(seeds_ho[features])\n",
    "\n",
    "        C_accs1[i, j] = accuracy_score(seeds_ho.y, pred)\n",
    "        \n",
    "        j = j + 1\n",
    "    i = i + 1"
   ]
  },
  {
   "cell_type": "markdown",
   "id": "8bbf75d0",
   "metadata": {},
   "source": [
    "##### c.\n",
    "\n",
    "Plot the average cross-validation accuracy against the $\\log$ of `C`."
   ]
  },
  {
   "cell_type": "markdown",
   "id": "a015e274",
   "metadata": {},
   "source": [
    "##### Sample Solution"
   ]
  },
  {
   "cell_type": "code",
   "execution_count": 9,
   "id": "86fb17a4",
   "metadata": {},
   "outputs": [
    {
     "data": {
      "image/png": "[encoded data removed]",
      "text/plain": [
       "<Figure size 576x432 with 1 Axes>"
      ]
     },
     "metadata": {},
     "output_type": "display_data"
    }
   ],
   "source": [
    "plt.figure(figsize = (8,6))\n",
    "\n",
    "plt.plot(np.log10(np.array(Cs)), \n",
    "         np.mean(C_accs1, axis=0), \n",
    "         '-o')\n",
    "\n",
    "plt.xlabel(\"$\\log(C)$\", fontsize=16)\n",
    "plt.ylabel(\"Avg. CV Accuracy\", fontsize=16)\n",
    "plt.xticks(np.arange(-2,3,.5),fontsize=14)\n",
    "plt.yticks(fontsize=14)\n",
    "\n",
    "plt.show()"
   ]
  },
  {
   "cell_type": "markdown",
   "id": "a1a4cbce",
   "metadata": {},
   "source": [
    "##### d.\n",
    "\n",
    "A common thing that is done after one grid search is to do another grid search using values from the previous grid search as the endpoints of the grid. This is done to try and better hone in on the optimal value of the hyperparameter.\n",
    "\n",
    "Create a new grid of `C` values using the plot you made in <i>c.</i> to determine the new endpoints. Then run cross-validation a second time. Plot the average accuracies against `C`."
   ]
  },
  {
   "cell_type": "markdown",
   "id": "a27a461d",
   "metadata": {},
   "source": [
    "##### Sample Solution"
   ]
  },
  {
   "cell_type": "code",
   "execution_count": 10,
   "id": "0b1730d1",
   "metadata": {},
   "outputs": [],
   "source": [
    "## the values of C you will try\n",
    "Cs = np.arange(10,51,1)\n",
    "\n",
    "## this will hold the CV accuracies\n",
    "C_accs2 = np.zeros((n_splits, len(Cs)))\n",
    "\n",
    "\n",
    "## the cross-validation\n",
    "i = 0\n",
    "for train_index, test_index in kfold.split(seeds_train, seeds_train.y):\n",
    "    seeds_tt = seeds_train.iloc[train_index]\n",
    "    seeds_ho = seeds_train.iloc[test_index]\n",
    "    \n",
    "    j = 0\n",
    "    for C in Cs:\n",
    "        pipe = Pipeline([('scale', StandardScaler()),\n",
    "                            ('svm', SVC(C=C))])\n",
    "    \n",
    "        pipe.fit(seeds_tt[features],\n",
    "                    seeds_tt.y)\n",
    "    \n",
    "        pred = pipe.predict(seeds_ho[features])\n",
    "\n",
    "        C_accs2[i, j] = accuracy_score(seeds_ho.y, pred)\n",
    "        \n",
    "        j = j + 1\n",
    "    i = i + 1"
   ]
  },
  {
   "cell_type": "code",
   "execution_count": 11,
   "id": "39fdeccc",
   "metadata": {},
   "outputs": [
    {
     "data": {
      "image/png": "[encoded data removed]",
      "text/plain": [
       "<Figure size 576x432 with 1 Axes>"
      ]
     },
     "metadata": {},
     "output_type": "display_data"
    }
   ],
   "source": [
    "plt.figure(figsize = (8,6))\n",
    "\n",
    "plt.plot(Cs, \n",
    "         np.mean(C_accs2, axis=0), \n",
    "         '-o')\n",
    "\n",
    "plt.xlabel(\"$C$\", fontsize=16)\n",
    "plt.ylabel(\"Avg. CV Accuracy\", fontsize=16)\n",
    "plt.xticks(fontsize=14)\n",
    "plt.yticks(fontsize=14)\n",
    "\n",
    "plt.show()"
   ]
  },
  {
   "cell_type": "markdown",
   "id": "d17fb648",
   "metadata": {},
   "source": [
    "##### e.\n",
    "\n",
    "What was the optimal value of `C`, what was the average cross-validation accuracy for this value of `C`?"
   ]
  },
  {
   "cell_type": "markdown",
   "id": "45a5c6bb",
   "metadata": {},
   "source": [
    "##### Sample Solution"
   ]
  },
  {
   "cell_type": "markdown",
   "id": "a97174a1",
   "metadata": {},
   "source": [
    "`C=30`, a bit under $89\\%$."
   ]
  },
  {
   "cell_type": "markdown",
   "id": "fb918cd7",
   "metadata": {},
   "source": [
    "#### 4. Tuning a random forest with `GridSearchCV`\n",
    "\n",
    "In this problem you will tune the `max_depth` and `n_estimators` hyperparameters of a random forest model. First you will use a `for` loop for the cross-validation. Then you will see how much easier your life could be with `GridSearchCV`.\n",
    "\n",
    "##### a. \n",
    "\n",
    "Import `sklearn`'s random forest model for classification."
   ]
  },
  {
   "cell_type": "markdown",
   "id": "1d1bc6ba",
   "metadata": {},
   "source": [
    "##### Sample Solution"
   ]
  },
  {
   "cell_type": "code",
   "execution_count": 12,
   "id": "7e274bc6",
   "metadata": {},
   "outputs": [],
   "source": [
    "from sklearn.ensemble import RandomForestClassifier"
   ]
  },
  {
   "cell_type": "markdown",
   "id": "99101f61",
   "metadata": {},
   "source": [
    "##### b.\n",
    "\n",
    "Fill in the code below to find the values of `max_depth` and `n_estimators` with the highest average cross-validation accuracy."
   ]
  },
  {
   "cell_type": "markdown",
   "id": "46bc7603",
   "metadata": {},
   "source": [
    "##### Sample Solution"
   ]
  },
  {
   "cell_type": "code",
   "execution_count": 13,
   "id": "c9f42f30",
   "metadata": {},
   "outputs": [
    {
     "name": "stdout",
     "output_type": "stream",
     "text": [
      "0 0 0\n",
      "0 0 1\n",
      "0 1 0\n",
      "0 1 1\n",
      "0 2 0\n",
      "0 2 1\n",
      "0 3 0\n",
      "0 3 1\n",
      "0 4 0\n",
      "0 4 1\n",
      "0 5 0\n",
      "0 5 1\n",
      "0 6 0\n",
      "0 6 1\n",
      "0 7 0\n",
      "0 7 1\n",
      "0 8 0\n",
      "0 8 1\n",
      "0 9 0\n",
      "0 9 1\n",
      "1 0 0\n",
      "1 0 1\n",
      "1 1 0\n",
      "1 1 1\n",
      "1 2 0\n",
      "1 2 1\n",
      "1 3 0\n",
      "1 3 1\n",
      "1 4 0\n",
      "1 4 1\n",
      "1 5 0\n",
      "1 5 1\n",
      "1 6 0\n",
      "1 6 1\n",
      "1 7 0\n",
      "1 7 1\n",
      "1 8 0\n",
      "1 8 1\n",
      "1 9 0\n",
      "1 9 1\n",
      "2 0 0\n",
      "2 0 1\n",
      "2 1 0\n",
      "2 1 1\n",
      "2 2 0\n",
      "2 2 1\n",
      "2 3 0\n",
      "2 3 1\n",
      "2 4 0\n",
      "2 4 1\n",
      "2 5 0\n",
      "2 5 1\n",
      "2 6 0\n",
      "2 6 1\n",
      "2 7 0\n",
      "2 7 1\n",
      "2 8 0\n",
      "2 8 1\n",
      "2 9 0\n",
      "2 9 1\n",
      "3 0 0\n",
      "3 0 1\n",
      "3 1 0\n",
      "3 1 1\n",
      "3 2 0\n",
      "3 2 1\n",
      "3 3 0\n",
      "3 3 1\n",
      "3 4 0\n",
      "3 4 1\n",
      "3 5 0\n",
      "3 5 1\n",
      "3 6 0\n",
      "3 6 1\n",
      "3 7 0\n",
      "3 7 1\n",
      "3 8 0\n",
      "3 8 1\n",
      "3 9 0\n",
      "3 9 1\n",
      "4 0 0\n",
      "4 0 1\n",
      "4 1 0\n",
      "4 1 1\n",
      "4 2 0\n",
      "4 2 1\n",
      "4 3 0\n",
      "4 3 1\n",
      "4 4 0\n",
      "4 4 1\n",
      "4 5 0\n",
      "4 5 1\n",
      "4 6 0\n",
      "4 6 1\n",
      "4 7 0\n",
      "4 7 1\n",
      "4 8 0\n",
      "4 8 1\n",
      "4 9 0\n",
      "4 9 1\n",
      "5 0 0\n",
      "5 0 1\n",
      "5 1 0\n",
      "5 1 1\n",
      "5 2 0\n",
      "5 2 1\n",
      "5 3 0\n",
      "5 3 1\n",
      "5 4 0\n",
      "5 4 1\n",
      "5 5 0\n",
      "5 5 1\n",
      "5 6 0\n",
      "5 6 1\n",
      "5 7 0\n",
      "5 7 1\n",
      "5 8 0\n",
      "5 8 1\n",
      "5 9 0\n",
      "5 9 1\n",
      "6 0 0\n",
      "6 0 1\n",
      "6 1 0\n",
      "6 1 1\n",
      "6 2 0\n",
      "6 2 1\n",
      "6 3 0\n",
      "6 3 1\n",
      "6 4 0\n",
      "6 4 1\n",
      "6 5 0\n",
      "6 5 1\n",
      "6 6 0\n",
      "6 6 1\n",
      "6 7 0\n",
      "6 7 1\n",
      "6 8 0\n",
      "6 8 1\n",
      "6 9 0\n",
      "6 9 1\n",
      "7 0 0\n",
      "7 0 1\n",
      "7 1 0\n",
      "7 1 1\n",
      "7 2 0\n",
      "7 2 1\n",
      "7 3 0\n",
      "7 3 1\n",
      "7 4 0\n",
      "7 4 1\n",
      "7 5 0\n",
      "7 5 1\n",
      "7 6 0\n",
      "7 6 1\n",
      "7 7 0\n",
      "7 7 1\n",
      "7 8 0\n",
      "7 8 1\n",
      "7 9 0\n",
      "7 9 1\n",
      "8 0 0\n",
      "8 0 1\n",
      "8 1 0\n",
      "8 1 1\n",
      "8 2 0\n",
      "8 2 1\n",
      "8 3 0\n",
      "8 3 1\n",
      "8 4 0\n",
      "8 4 1\n",
      "8 5 0\n",
      "8 5 1\n",
      "8 6 0\n",
      "8 6 1\n",
      "8 7 0\n",
      "8 7 1\n",
      "8 8 0\n",
      "8 8 1\n",
      "8 9 0\n",
      "8 9 1\n",
      "9 0 0\n",
      "9 0 1\n",
      "9 1 0\n",
      "9 1 1\n",
      "9 2 0\n",
      "9 2 1\n",
      "9 3 0\n",
      "9 3 1\n",
      "9 4 0\n",
      "9 4 1\n",
      "9 5 0\n",
      "9 5 1\n",
      "9 6 0\n",
      "9 6 1\n",
      "9 7 0\n",
      "9 7 1\n",
      "9 8 0\n",
      "9 8 1\n",
      "9 9 0\n",
      "9 9 1\n"
     ]
    }
   ],
   "source": [
    "## note this will take about 2 minutes to run\n",
    "\n",
    "max_depths = range(1, 11)\n",
    "n_trees = [100, 500]\n",
    "\n",
    "rf_accs = np.zeros((n_splits, len(max_depths), len(n_trees)))\n",
    "\n",
    "\n",
    "i = 0\n",
    "for train_index, test_index in kfold.split(seeds_train, seeds_train.y):\n",
    "    seeds_tt = seeds_train.iloc[train_index]\n",
    "    seeds_ho = seeds_train.iloc[test_index]\n",
    "    \n",
    "    j = 0\n",
    "    for max_depth in max_depths:\n",
    "        k = 0\n",
    "        for n_estimators in n_trees:\n",
    "            print(i,j,k)\n",
    "            rf = RandomForestClassifier(n_estimators = n_estimators,\n",
    "                                           max_depth = max_depth,\n",
    "                                           max_samples = int(.8*len(seeds_tt)),\n",
    "                                           random_state = 403)\n",
    "            \n",
    "            rf.fit(seeds_tt[features], seeds_tt.y)\n",
    "            \n",
    "            pred = rf.predict(seeds_ho[features])\n",
    "            \n",
    "            rf_accs[i,j,k] = accuracy_score(seeds_ho.y,  pred)\n",
    "            k = k + 1\n",
    "        j = j + 1\n",
    "    i = i + 1"
   ]
  },
  {
   "cell_type": "code",
   "execution_count": 14,
   "id": "babd4060",
   "metadata": {},
   "outputs": [
    {
     "name": "stdout",
     "output_type": "stream",
     "text": [
      "10 100\n"
     ]
    }
   ],
   "source": [
    "max_index = np.unravel_index(np.argmax(np.mean(rf_accs, axis=0), axis=None), \n",
    "                                       np.mean(rf_accs, axis=0).shape)\n",
    "\n",
    "\n",
    "print(max_depths[max_index[0]],n_trees[max_index[1]])"
   ]
  },
  {
   "cell_type": "code",
   "execution_count": 15,
   "id": "4405664e",
   "metadata": {},
   "outputs": [
    {
     "data": {
      "text/plain": [
       "0.8937777777777777"
      ]
     },
     "execution_count": 15,
     "metadata": {},
     "output_type": "execute_result"
    }
   ],
   "source": [
    "np.mean(rf_accs, axis=0)[max_index]"
   ]
  },
  {
   "cell_type": "markdown",
   "id": "cf93e31e",
   "metadata": {},
   "source": [
    "##### c.\n",
    "\n",
    "In this problem you will learn about `GridSearchCV`, <a href=\"https://scikit-learn.org/stable/modules/generated/sklearn.model_selection.GridSearchCV.html\">https://scikit-learn.org/stable/modules/generated/sklearn.model_selection.GridSearchCV.html</a>, a handy class from `sklearn` that makes hyperparameter tuning through a grid search and cross-validation quicker to code up than writing out a series of `for` loops.\n",
    "\n",
    "\n",
    "Read through the code chunks below and fill in the missing code to run the same grid search cross-validation you did above with `GridSearchCV`."
   ]
  },
  {
   "cell_type": "markdown",
   "id": "4cc82002",
   "metadata": {},
   "source": [
    "##### Sample Solution"
   ]
  },
  {
   "cell_type": "code",
   "execution_count": 16,
   "id": "a150f896",
   "metadata": {},
   "outputs": [],
   "source": [
    "## first import GridSearchCV\n",
    "from sklearn.model_selection import GridSearchCV"
   ]
  },
  {
   "cell_type": "code",
   "execution_count": 17,
   "id": "3e82c25c",
   "metadata": {},
   "outputs": [
    {
     "data": {
      "text/plain": [
       "GridSearchCV(cv=10, estimator=RandomForestClassifier(),\n",
       "             param_grid={'max_depth': range(1, 11), 'n_estimators': [100, 500]},\n",
       "             scoring='accuracy')"
      ]
     },
     "execution_count": 17,
     "metadata": {},
     "output_type": "execute_result"
    }
   ],
   "source": [
    "## This will also take about two minutes\n",
    "grid_cv = GridSearchCV(RandomForestClassifier(), # first put the model object here\n",
    "                          param_grid = {'max_depth':max_depths, # place the grid values for max_depth and\n",
    "                                        'n_estimators':n_trees}, # and n_estimators here\n",
    "                          scoring = 'accuracy', # put the metric we are trying to optimize here as a string, \"accuracy\"\n",
    "                          cv = 10) # put the number of cv splits here\n",
    "\n",
    "## you fit it just like a model\n",
    "grid_cv.fit(seeds_train[features], seeds_train.y)"
   ]
  },
  {
   "cell_type": "markdown",
   "id": "256cff2a",
   "metadata": {},
   "source": [
    "Once a `GridSearchCV` is fit you are easily able to find what hyperparameter combinations were best, what the optimal score was as well as get access to the best model."
   ]
  },
  {
   "cell_type": "code",
   "execution_count": 18,
   "id": "917bc725",
   "metadata": {},
   "outputs": [
    {
     "data": {
      "text/plain": [
       "{'max_depth': 8, 'n_estimators': 500}"
      ]
     },
     "execution_count": 18,
     "metadata": {},
     "output_type": "execute_result"
    }
   ],
   "source": [
    "## You can find the hyperparameter grid point that\n",
    "## gave the best performance like so\n",
    "## .best_params_\n",
    "grid_cv.best_params_"
   ]
  },
  {
   "cell_type": "code",
   "execution_count": 19,
   "id": "bfe674ee",
   "metadata": {},
   "outputs": [
    {
     "data": {
      "text/plain": [
       "0.8924444444444445"
      ]
     },
     "execution_count": 19,
     "metadata": {},
     "output_type": "execute_result"
    }
   ],
   "source": [
    "## You can find the best score like so\n",
    "## .best_score_\n",
    "grid_cv.best_score_"
   ]
  },
  {
   "cell_type": "code",
   "execution_count": 20,
   "id": "32e56a04",
   "metadata": {},
   "outputs": [
    {
     "data": {
      "text/plain": [
       "RandomForestClassifier(max_depth=8, n_estimators=500)"
      ]
     },
     "execution_count": 20,
     "metadata": {},
     "output_type": "execute_result"
    }
   ],
   "source": [
    "## Calling best_estimator_ returns the model with the \n",
    "## best avg cv performance after it has been refit on the\n",
    "## entire data set\n",
    "grid_cv.best_estimator_"
   ]
  },
  {
   "cell_type": "markdown",
   "id": "998b3261",
   "metadata": {},
   "source": [
    "The `best_estimator_` is a model with the optimal hyperparameters that has been fit on the entire training set. Try and predict the pumpkin seed class on the training set with the `best_estimator_` below."
   ]
  },
  {
   "cell_type": "code",
   "execution_count": 21,
   "id": "7eee5234",
   "metadata": {},
   "outputs": [
    {
     "data": {
      "text/plain": [
       "array([0, 1, 1, ..., 0, 1, 0])"
      ]
     },
     "execution_count": 21,
     "metadata": {},
     "output_type": "execute_result"
    }
   ],
   "source": [
    "grid_cv.best_estimator_.predict(seeds_train[features])"
   ]
  },
  {
   "cell_type": "markdown",
   "id": "20b19398",
   "metadata": {},
   "source": [
    "If you want to look at all of the results, you can do that as well with `.cv_results`. Try that below."
   ]
  },
  {
   "cell_type": "code",
   "execution_count": 22,
   "id": "741942d2",
   "metadata": {},
   "outputs": [
    {
     "data": {
      "text/plain": [
       "{'mean_fit_time': array([0.07936859, 0.36737323, 0.10190048, 0.48601797, 0.11673586,\n",
       "        0.5894366 , 0.14042683, 0.68750608, 0.15529974, 0.78689976,\n",
       "        0.17374153, 0.85625079, 0.20059259, 0.9340764 , 0.19913058,\n",
       "        0.9904484 , 0.20849693, 1.06779876, 0.2273972 , 1.08632603]),\n",
       " 'std_fit_time': array([0.0095086 , 0.01393434, 0.00241947, 0.01821056, 0.00333645,\n",
       "        0.01917939, 0.00316502, 0.02006748, 0.0010795 , 0.02268836,\n",
       "        0.0018995 , 0.01290787, 0.00797561, 0.01100401, 0.00268664,\n",
       "        0.00702378, 0.00220806, 0.03545904, 0.0127112 , 0.02610953]),\n",
       " 'mean_score_time': array([0.00379636, 0.01531217, 0.00406342, 0.01618714, 0.0038976 ,\n",
       "        0.01682658, 0.00416923, 0.02076371, 0.00422339, 0.01878572,\n",
       "        0.00456712, 0.01926324, 0.00479677, 0.01997092, 0.00483334,\n",
       "        0.02068527, 0.00486071, 0.02160888, 0.00510194, 0.02195151]),\n",
       " 'std_score_time': array([2.26586838e-04, 3.72831797e-04, 1.28820310e-04, 4.58545710e-04,\n",
       "        5.46505156e-05, 5.27728339e-04, 1.24184775e-04, 9.65054682e-03,\n",
       "        1.54113401e-04, 1.59357443e-03, 1.76882628e-04, 1.93050821e-04,\n",
       "        1.72235616e-04, 2.95527411e-04, 1.71575798e-04, 2.97971112e-04,\n",
       "        1.20992299e-04, 1.07916825e-03, 2.48975066e-04, 1.04587376e-03]),\n",
       " 'param_max_depth': masked_array(data=[1, 1, 2, 2, 3, 3, 4, 4, 5, 5, 6, 6, 7, 7, 8, 8, 9, 9,\n",
       "                    10, 10],\n",
       "              mask=[False, False, False, False, False, False, False, False,\n",
       "                    False, False, False, False, False, False, False, False,\n",
       "                    False, False, False, False],\n",
       "        fill_value='?',\n",
       "             dtype=object),\n",
       " 'param_n_estimators': masked_array(data=[100, 500, 100, 500, 100, 500, 100, 500, 100, 500, 100,\n",
       "                    500, 100, 500, 100, 500, 100, 500, 100, 500],\n",
       "              mask=[False, False, False, False, False, False, False, False,\n",
       "                    False, False, False, False, False, False, False, False,\n",
       "                    False, False, False, False],\n",
       "        fill_value='?',\n",
       "             dtype=object),\n",
       " 'params': [{'max_depth': 1, 'n_estimators': 100},\n",
       "  {'max_depth': 1, 'n_estimators': 500},\n",
       "  {'max_depth': 2, 'n_estimators': 100},\n",
       "  {'max_depth': 2, 'n_estimators': 500},\n",
       "  {'max_depth': 3, 'n_estimators': 100},\n",
       "  {'max_depth': 3, 'n_estimators': 500},\n",
       "  {'max_depth': 4, 'n_estimators': 100},\n",
       "  {'max_depth': 4, 'n_estimators': 500},\n",
       "  {'max_depth': 5, 'n_estimators': 100},\n",
       "  {'max_depth': 5, 'n_estimators': 500},\n",
       "  {'max_depth': 6, 'n_estimators': 100},\n",
       "  {'max_depth': 6, 'n_estimators': 500},\n",
       "  {'max_depth': 7, 'n_estimators': 100},\n",
       "  {'max_depth': 7, 'n_estimators': 500},\n",
       "  {'max_depth': 8, 'n_estimators': 100},\n",
       "  {'max_depth': 8, 'n_estimators': 500},\n",
       "  {'max_depth': 9, 'n_estimators': 100},\n",
       "  {'max_depth': 9, 'n_estimators': 500},\n",
       "  {'max_depth': 10, 'n_estimators': 100},\n",
       "  {'max_depth': 10, 'n_estimators': 500}],\n",
       " 'split0_test_score': array([0.89333333, 0.89333333, 0.89333333, 0.89333333, 0.89777778,\n",
       "        0.90222222, 0.91555556, 0.91555556, 0.91111111, 0.91555556,\n",
       "        0.91111111, 0.91111111, 0.91111111, 0.90666667, 0.90666667,\n",
       "        0.90666667, 0.90666667, 0.90666667, 0.91111111, 0.90222222]),\n",
       " 'split1_test_score': array([0.87555556, 0.87555556, 0.87555556, 0.88444444, 0.88888889,\n",
       "        0.88888889, 0.88444444, 0.88444444, 0.87555556, 0.88      ,\n",
       "        0.87555556, 0.86666667, 0.86666667, 0.87111111, 0.86666667,\n",
       "        0.87555556, 0.87555556, 0.87555556, 0.87555556, 0.87111111]),\n",
       " 'split2_test_score': array([0.84888889, 0.84888889, 0.84888889, 0.84888889, 0.85777778,\n",
       "        0.85777778, 0.86666667, 0.86222222, 0.87111111, 0.87111111,\n",
       "        0.87111111, 0.87111111, 0.87111111, 0.86666667, 0.86666667,\n",
       "        0.86666667, 0.87111111, 0.86666667, 0.85333333, 0.86666667]),\n",
       " 'split3_test_score': array([0.86222222, 0.87111111, 0.87111111, 0.87111111, 0.87555556,\n",
       "        0.88      , 0.89333333, 0.89333333, 0.89333333, 0.89333333,\n",
       "        0.90222222, 0.90222222, 0.89777778, 0.89333333, 0.89333333,\n",
       "        0.89333333, 0.88444444, 0.89333333, 0.88444444, 0.89777778]),\n",
       " 'split4_test_score': array([0.87555556, 0.87555556, 0.87111111, 0.87555556, 0.88888889,\n",
       "        0.88888889, 0.89333333, 0.88888889, 0.88444444, 0.88888889,\n",
       "        0.87555556, 0.88444444, 0.88888889, 0.89333333, 0.90222222,\n",
       "        0.89777778, 0.89777778, 0.90222222, 0.89777778, 0.90222222]),\n",
       " 'split5_test_score': array([0.86222222, 0.86222222, 0.86666667, 0.86222222, 0.88444444,\n",
       "        0.89333333, 0.89777778, 0.89777778, 0.90222222, 0.90222222,\n",
       "        0.90666667, 0.91111111, 0.90222222, 0.91555556, 0.90666667,\n",
       "        0.91111111, 0.91111111, 0.91111111, 0.90666667, 0.91111111]),\n",
       " 'split6_test_score': array([0.85333333, 0.84888889, 0.85333333, 0.84444444, 0.86222222,\n",
       "        0.86222222, 0.87555556, 0.87111111, 0.87555556, 0.87555556,\n",
       "        0.87555556, 0.88      , 0.88      , 0.89333333, 0.88      ,\n",
       "        0.89333333, 0.88      , 0.88444444, 0.88888889, 0.88444444]),\n",
       " 'split7_test_score': array([0.84444444, 0.84444444, 0.84888889, 0.84888889, 0.85333333,\n",
       "        0.85333333, 0.85333333, 0.85777778, 0.86222222, 0.86666667,\n",
       "        0.87111111, 0.88      , 0.87555556, 0.88      , 0.86222222,\n",
       "        0.88      , 0.87111111, 0.88      , 0.88      , 0.88444444]),\n",
       " 'split8_test_score': array([0.85777778, 0.84      , 0.84444444, 0.84444444, 0.85777778,\n",
       "        0.84888889, 0.87111111, 0.87111111, 0.87555556, 0.87111111,\n",
       "        0.87555556, 0.88      , 0.88444444, 0.88      , 0.88444444,\n",
       "        0.88888889, 0.88444444, 0.88444444, 0.89777778, 0.89333333]),\n",
       " 'split9_test_score': array([0.86222222, 0.85777778, 0.86222222, 0.86666667, 0.88      ,\n",
       "        0.88      , 0.89777778, 0.89333333, 0.90666667, 0.90666667,\n",
       "        0.91111111, 0.91111111, 0.91111111, 0.91111111, 0.90222222,\n",
       "        0.91111111, 0.91111111, 0.90666667, 0.90666667, 0.91111111]),\n",
       " 'mean_test_score': array([0.86355556, 0.86177778, 0.86355556, 0.864     , 0.87466667,\n",
       "        0.87555556, 0.88488889, 0.88355556, 0.88577778, 0.88711111,\n",
       "        0.88755556, 0.88977778, 0.88888889, 0.89111111, 0.88711111,\n",
       "        0.89244444, 0.88933333, 0.89111111, 0.89022222, 0.89244444]),\n",
       " 'std_test_score': array([0.01377778, 0.01608005, 0.01433979, 0.01641439, 0.01497982,\n",
       "        0.01766632, 0.01737886, 0.01695892, 0.01578247, 0.01604931,\n",
       "        0.01675385, 0.01648643, 0.01526717, 0.01580748, 0.01665333,\n",
       "        0.01430531, 0.01519584, 0.01436732, 0.01675385, 0.01471373]),\n",
       " 'rank_test_score': array([18, 20, 18, 17, 16, 15, 13, 14, 12, 10,  9,  6,  8,  4, 11,  1,  7,\n",
       "         3,  5,  1], dtype=int32)}"
      ]
     },
     "execution_count": 22,
     "metadata": {},
     "output_type": "execute_result"
    }
   ],
   "source": [
    "## You can get all of the results with cv_results_\n",
    "grid_cv.cv_results_"
   ]
  },
  {
   "cell_type": "markdown",
   "id": "fb88d266",
   "metadata": {},
   "source": [
    "##### d.\n",
    "\n",
    "Using either the `best_estimator_` fitted model or a refitted model according to your results from the `for` loop cross-validation find the feature importance scores. Try and refer back to your notes from `Fall Problem Session 7`, how do the scores compare to your initial EDA?"
   ]
  },
  {
   "cell_type": "markdown",
   "id": "8c7a7154",
   "metadata": {},
   "source": [
    "##### Sample Solution"
   ]
  },
  {
   "cell_type": "code",
   "execution_count": 23,
   "id": "bbe4005c",
   "metadata": {},
   "outputs": [
    {
     "data": {
      "text/html": [
       "<div>\n",
       "<style scoped>\n",
       "    .dataframe tbody tr th:only-of-type {\n",
       "        vertical-align: middle;\n",
       "    }\n",
       "\n",
       "    .dataframe tbody tr th {\n",
       "        vertical-align: top;\n",
       "    }\n",
       "\n",
       "    .dataframe thead th {\n",
       "        text-align: right;\n",
       "    }\n",
       "</style>\n",
       "<table border=\"1\" class=\"dataframe\">\n",
       "  <thead>\n",
       "    <tr style=\"text-align: right;\">\n",
       "      <th></th>\n",
       "      <th>feature_importance_score</th>\n",
       "    </tr>\n",
       "  </thead>\n",
       "  <tbody>\n",
       "    <tr>\n",
       "      <th>Aspect_Ration</th>\n",
       "      <td>0.217140</td>\n",
       "    </tr>\n",
       "    <tr>\n",
       "      <th>Compactness</th>\n",
       "      <td>0.209596</td>\n",
       "    </tr>\n",
       "    <tr>\n",
       "      <th>Eccentricity</th>\n",
       "      <td>0.201574</td>\n",
       "    </tr>\n",
       "    <tr>\n",
       "      <th>Roundness</th>\n",
       "      <td>0.095530</td>\n",
       "    </tr>\n",
       "    <tr>\n",
       "      <th>Major_Axis_Length</th>\n",
       "      <td>0.072491</td>\n",
       "    </tr>\n",
       "    <tr>\n",
       "      <th>Minor_Axis_Length</th>\n",
       "      <td>0.045546</td>\n",
       "    </tr>\n",
       "    <tr>\n",
       "      <th>Solidity</th>\n",
       "      <td>0.042467</td>\n",
       "    </tr>\n",
       "    <tr>\n",
       "      <th>Perimeter</th>\n",
       "      <td>0.030791</td>\n",
       "    </tr>\n",
       "    <tr>\n",
       "      <th>Extent</th>\n",
       "      <td>0.022213</td>\n",
       "    </tr>\n",
       "    <tr>\n",
       "      <th>Convex_Area</th>\n",
       "      <td>0.021696</td>\n",
       "    </tr>\n",
       "    <tr>\n",
       "      <th>Area</th>\n",
       "      <td>0.021015</td>\n",
       "    </tr>\n",
       "    <tr>\n",
       "      <th>Equiv_Diameter</th>\n",
       "      <td>0.019942</td>\n",
       "    </tr>\n",
       "  </tbody>\n",
       "</table>\n",
       "</div>"
      ],
      "text/plain": [
       "                   feature_importance_score\n",
       "Aspect_Ration                      0.217140\n",
       "Compactness                        0.209596\n",
       "Eccentricity                       0.201574\n",
       "Roundness                          0.095530\n",
       "Major_Axis_Length                  0.072491\n",
       "Minor_Axis_Length                  0.045546\n",
       "Solidity                           0.042467\n",
       "Perimeter                          0.030791\n",
       "Extent                             0.022213\n",
       "Convex_Area                        0.021696\n",
       "Area                               0.021015\n",
       "Equiv_Diameter                     0.019942"
      ]
     },
     "execution_count": 23,
     "metadata": {},
     "output_type": "execute_result"
    }
   ],
   "source": [
    "pd.DataFrame({'feature_importance_score':grid_cv.best_estimator_.feature_importances_},\n",
    "                 index=features).sort_values('feature_importance_score',\n",
    "                                                ascending=False)"
   ]
  },
  {
   "cell_type": "markdown",
   "id": "b0a083e7",
   "metadata": {},
   "source": [
    "Copying from `Fall Problem Session 7` EDA notes I thought these features separated the data the most, in no particular order:\n",
    "\n",
    "- `Major_Axis_Length`\n",
    "- `Eccentricity`\n",
    "- `Roundness`\n",
    "- `Aspect_Ration`\n",
    "- `Compactness`\n",
    "\n",
    "These happen to be the features with the highest feature importance scores from the random forest model."
   ]
  },
  {
   "cell_type": "markdown",
   "id": "01792b71",
   "metadata": {},
   "source": [
    "In the next notebook you will build a couple of more models on these data and select a final model."
   ]
  },
  {
   "cell_type": "markdown",
   "id": "b51c5eb3",
   "metadata": {},
   "source": [
    "--------------------------\n",
    "\n",
    "This notebook was written for the Erd&#337;s Institute C&#337;de Data Science Boot Camp by Matthew Osborne, Ph. D., 2022.\n",
    "\n",
    "Any potential redistributors must seek and receive permission from Matthew Tyler Osborne, Ph.D. prior to redistribution. Redistribution of the material contained in this repository is conditional on acknowledgement of Matthew Tyler Osborne, Ph.D.'s original authorship and sponsorship of the Erdős Institute as subject to the license (see License.md)"
   ]
  },
  {
   "cell_type": "code",
   "execution_count": null,
   "id": "bb91fead",
   "metadata": {},
   "outputs": [],
   "source": []
  }
 ],
 "metadata": {
  "kernelspec": {
   "display_name": "Python 3 (ipykernel)",
   "language": "python",
   "name": "python3"
  },
  "language_info": {
   "codemirror_mode": {
    "name": "ipython",
    "version": 3
   },
   "file_extension": ".py",
   "mimetype": "text/x-python",
   "name": "python",
   "nbconvert_exporter": "python",
   "pygments_lexer": "ipython3",
   "version": "3.9.12"
  }
 },
 "nbformat": 4,
 "nbformat_minor": 5
}
