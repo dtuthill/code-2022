{
 "cells": [
  {
   "cell_type": "markdown",
   "id": "e73ab097",
   "metadata": {},
   "source": [
    "# Fall Problem Session 3\n",
    "## More Regression\n",
    "\n",
    "The problems in this notebook will cover the content covered in our `Regression` lectures including:\n",
    "- `Simple Linear Regression`,\n",
    "- `A First Predictive Modeling Project`,\n",
    "- `Multiple Linear Regression` and\n",
    "- `Categorical Variables and Interactions`."
   ]
  },
  {
   "cell_type": "code",
   "execution_count": 1,
   "id": "c455cc0b",
   "metadata": {},
   "outputs": [],
   "source": [
    "## We first load in packages we will need\n",
    "import pandas as pd\n",
    "import numpy as np\n",
    "import matplotlib.pyplot as plt\n",
    "import seaborn as sns\n",
    "sns.set_style(\"whitegrid\")"
   ]
  },
  {
   "cell_type": "markdown",
   "id": "ff585fa7",
   "metadata": {},
   "source": [
    "#### 1. Preparing the data\n",
    "\n",
    "In this notebook you will continue to model the ultimate selling price of various vechicles. First we have to load the data and repeat some of the cleaning we did in `Fall Problem Session 2`.\n",
    "\n",
    "##### a.\n",
    "\n",
    "- Load the `car_sales.csv` data set again\n",
    "- Remove the missing values\n",
    "- Create the `log_sell` and `log_km` columns\n",
    "- Clean the `mileage`, `engine` and `max_power` columns with `clean_column` and\n",
    "- Create the `age` column."
   ]
  },
  {
   "cell_type": "code",
   "execution_count": 2,
   "id": "279b0e98",
   "metadata": {},
   "outputs": [],
   "source": [
    "def clean_column(text):\n",
    "    return float(text.split()[0])"
   ]
  },
  {
   "cell_type": "markdown",
   "id": "04f6cfd5",
   "metadata": {},
   "source": [
    "##### Sample Solution"
   ]
  },
  {
   "cell_type": "code",
   "execution_count": 3,
   "id": "fb49696b",
   "metadata": {},
   "outputs": [],
   "source": [
    "cars = pd.read_csv(\"../Data/car_sales.csv\")\n",
    "\n",
    "cars.dropna(inplace=True)"
   ]
  },
  {
   "cell_type": "code",
   "execution_count": 4,
   "id": "2fa490ef",
   "metadata": {},
   "outputs": [],
   "source": [
    "cars['mileage'] = cars['mileage'].apply(clean_column)\n",
    "cars['engine'] = cars['engine'].apply(clean_column)\n",
    "cars['max_power'] = cars['max_power'].apply(clean_column)\n",
    "cars['age'] = 2020 - cars['year']\n",
    "cars['log_sell'] = np.log10(cars['selling_price'])\n",
    "cars['log_km'] = np.log10(cars['km_driven'])"
   ]
  },
  {
   "cell_type": "markdown",
   "id": "be65df52",
   "metadata": {},
   "source": [
    "##### b.\n",
    "\n",
    "Make the train test split using `sklearn`'s `train_test_split`."
   ]
  },
  {
   "cell_type": "markdown",
   "id": "3ca3db8b",
   "metadata": {},
   "source": [
    "##### Sample Solution"
   ]
  },
  {
   "cell_type": "code",
   "execution_count": 5,
   "id": "298bcd92",
   "metadata": {},
   "outputs": [],
   "source": [
    "from sklearn.model_selection import train_test_split"
   ]
  },
  {
   "cell_type": "code",
   "execution_count": 6,
   "id": "44232cee",
   "metadata": {},
   "outputs": [],
   "source": [
    "cars_train, cars_test = train_test_split(cars.copy(),\n",
    "                                            test_size=.2,\n",
    "                                            random_state=440,\n",
    "                                            shuffle=True)"
   ]
  },
  {
   "cell_type": "markdown",
   "id": "6e142f89",
   "metadata": {},
   "source": [
    "##### c.\n",
    "\n",
    "Look at the first five rows of the training set to refresh yourself on the columns in the data set."
   ]
  },
  {
   "cell_type": "markdown",
   "id": "b11896c0",
   "metadata": {},
   "source": [
    "##### Sample Solution"
   ]
  },
  {
   "cell_type": "code",
   "execution_count": 7,
   "id": "29eb9ddc",
   "metadata": {},
   "outputs": [
    {
     "data": {
      "text/html": [
       "<div>\n",
       "<style scoped>\n",
       "    .dataframe tbody tr th:only-of-type {\n",
       "        vertical-align: middle;\n",
       "    }\n",
       "\n",
       "    .dataframe tbody tr th {\n",
       "        vertical-align: top;\n",
       "    }\n",
       "\n",
       "    .dataframe thead th {\n",
       "        text-align: right;\n",
       "    }\n",
       "</style>\n",
       "<table border=\"1\" class=\"dataframe\">\n",
       "  <thead>\n",
       "    <tr style=\"text-align: right;\">\n",
       "      <th></th>\n",
       "      <th>name</th>\n",
       "      <th>year</th>\n",
       "      <th>selling_price</th>\n",
       "      <th>km_driven</th>\n",
       "      <th>fuel</th>\n",
       "      <th>seller_type</th>\n",
       "      <th>transmission</th>\n",
       "      <th>owner</th>\n",
       "      <th>mileage</th>\n",
       "      <th>engine</th>\n",
       "      <th>max_power</th>\n",
       "      <th>torque</th>\n",
       "      <th>seats</th>\n",
       "      <th>age</th>\n",
       "      <th>log_sell</th>\n",
       "      <th>log_km</th>\n",
       "    </tr>\n",
       "  </thead>\n",
       "  <tbody>\n",
       "    <tr>\n",
       "      <th>1908</th>\n",
       "      <td>Honda Civic 1.8 V AT</td>\n",
       "      <td>2009</td>\n",
       "      <td>280000</td>\n",
       "      <td>40000.0</td>\n",
       "      <td>Petrol</td>\n",
       "      <td>Individual</td>\n",
       "      <td>Automatic</td>\n",
       "      <td>Third Owner</td>\n",
       "      <td>12.9</td>\n",
       "      <td>1799.0</td>\n",
       "      <td>130.00</td>\n",
       "      <td>172Nm@ 4300rpm</td>\n",
       "      <td>5.0</td>\n",
       "      <td>11</td>\n",
       "      <td>5.447158</td>\n",
       "      <td>4.602060</td>\n",
       "    </tr>\n",
       "    <tr>\n",
       "      <th>2848</th>\n",
       "      <td>Maruti Ritz VXI</td>\n",
       "      <td>2010</td>\n",
       "      <td>320000</td>\n",
       "      <td>60000.0</td>\n",
       "      <td>Petrol</td>\n",
       "      <td>Individual</td>\n",
       "      <td>Manual</td>\n",
       "      <td>Second Owner</td>\n",
       "      <td>21.1</td>\n",
       "      <td>1197.0</td>\n",
       "      <td>85.80</td>\n",
       "      <td>114Nm@ 4000rpm</td>\n",
       "      <td>5.0</td>\n",
       "      <td>10</td>\n",
       "      <td>5.505150</td>\n",
       "      <td>4.778151</td>\n",
       "    </tr>\n",
       "    <tr>\n",
       "      <th>6032</th>\n",
       "      <td>Ford Fiesta Classic 1.4 Duratorq CLXI</td>\n",
       "      <td>2012</td>\n",
       "      <td>280000</td>\n",
       "      <td>105358.0</td>\n",
       "      <td>Diesel</td>\n",
       "      <td>Individual</td>\n",
       "      <td>Manual</td>\n",
       "      <td>Third Owner</td>\n",
       "      <td>17.8</td>\n",
       "      <td>1399.0</td>\n",
       "      <td>67.00</td>\n",
       "      <td>160Nm@ 2000rpm</td>\n",
       "      <td>5.0</td>\n",
       "      <td>8</td>\n",
       "      <td>5.447158</td>\n",
       "      <td>5.022668</td>\n",
       "    </tr>\n",
       "    <tr>\n",
       "      <th>720</th>\n",
       "      <td>Maruti Celerio LXI</td>\n",
       "      <td>2014</td>\n",
       "      <td>300000</td>\n",
       "      <td>35000.0</td>\n",
       "      <td>Petrol</td>\n",
       "      <td>Individual</td>\n",
       "      <td>Manual</td>\n",
       "      <td>First Owner</td>\n",
       "      <td>23.1</td>\n",
       "      <td>998.0</td>\n",
       "      <td>67.04</td>\n",
       "      <td>90Nm@ 3500rpm</td>\n",
       "      <td>5.0</td>\n",
       "      <td>6</td>\n",
       "      <td>5.477121</td>\n",
       "      <td>4.544068</td>\n",
       "    </tr>\n",
       "    <tr>\n",
       "      <th>7518</th>\n",
       "      <td>Hyundai Xcent 1.1 CRDi SX</td>\n",
       "      <td>2016</td>\n",
       "      <td>590000</td>\n",
       "      <td>34000.0</td>\n",
       "      <td>Diesel</td>\n",
       "      <td>Individual</td>\n",
       "      <td>Manual</td>\n",
       "      <td>Second Owner</td>\n",
       "      <td>24.4</td>\n",
       "      <td>1120.0</td>\n",
       "      <td>71.00</td>\n",
       "      <td>180.4Nm@ 1750-2500rpm</td>\n",
       "      <td>5.0</td>\n",
       "      <td>4</td>\n",
       "      <td>5.770852</td>\n",
       "      <td>4.531479</td>\n",
       "    </tr>\n",
       "  </tbody>\n",
       "</table>\n",
       "</div>"
      ],
      "text/plain": [
       "                                       name  year  selling_price  km_driven  \\\n",
       "1908                   Honda Civic 1.8 V AT  2009         280000    40000.0   \n",
       "2848                        Maruti Ritz VXI  2010         320000    60000.0   \n",
       "6032  Ford Fiesta Classic 1.4 Duratorq CLXI  2012         280000   105358.0   \n",
       "720                      Maruti Celerio LXI  2014         300000    35000.0   \n",
       "7518              Hyundai Xcent 1.1 CRDi SX  2016         590000    34000.0   \n",
       "\n",
       "        fuel seller_type transmission         owner  mileage  engine  \\\n",
       "1908  Petrol  Individual    Automatic   Third Owner     12.9  1799.0   \n",
       "2848  Petrol  Individual       Manual  Second Owner     21.1  1197.0   \n",
       "6032  Diesel  Individual       Manual   Third Owner     17.8  1399.0   \n",
       "720   Petrol  Individual       Manual   First Owner     23.1   998.0   \n",
       "7518  Diesel  Individual       Manual  Second Owner     24.4  1120.0   \n",
       "\n",
       "      max_power                 torque  seats  age  log_sell    log_km  \n",
       "1908     130.00         172Nm@ 4300rpm    5.0   11  5.447158  4.602060  \n",
       "2848      85.80         114Nm@ 4000rpm    5.0   10  5.505150  4.778151  \n",
       "6032      67.00         160Nm@ 2000rpm    5.0    8  5.447158  5.022668  \n",
       "720       67.04          90Nm@ 3500rpm    5.0    6  5.477121  4.544068  \n",
       "7518      71.00  180.4Nm@ 1750-2500rpm    5.0    4  5.770852  4.531479  "
      ]
     },
     "execution_count": 7,
     "metadata": {},
     "output_type": "execute_result"
    }
   ],
   "source": [
    "cars_train.head()"
   ]
  },
  {
   "cell_type": "markdown",
   "id": "f53212f5",
   "metadata": {},
   "source": [
    "##### d.\n",
    "\n",
    "Here is a variable summary for your convenience.\n",
    "\n",
    "<u>Outcome Variable</u>\n",
    "- `selling_price` or `log_sell` (you will use `log_sell` in your models)\n",
    "\n",
    "<u>Continuous Features</u>\n",
    "- `km_driven` and thus `log_km`\n",
    "- `mileage`\n",
    "- `engine`\n",
    "- `max_power`\n",
    "- `seats`\n",
    "- `age`\n",
    "\n",
    "<u>Categorical Features</u>\n",
    "- `fuel`\n",
    "- `seller_type`\n",
    "- `transmission`\n",
    "- `owner`\n",
    "\n",
    "You will ignore `torque` because it would require more cleaning than we will spend time on in these problem sessions."
   ]
  },
  {
   "cell_type": "markdown",
   "id": "1d47521a",
   "metadata": {},
   "source": [
    "#### 2. More EDA\n",
    "\n",
    "In `Fall Problem Session 2` you examined potential linear relationships with `log_sell` and:\n",
    "- `log_km`,\n",
    "- `mileage` and\n",
    "- `age`.\n",
    "\n",
    "In this notebook you will examine potential effects of the various categorical variables listed above."
   ]
  },
  {
   "cell_type": "markdown",
   "id": "f1a3d811",
   "metadata": {},
   "source": [
    "##### a. \n",
    "\n",
    "One way to examine if a cateorical variable has an impact on an outcome variable of interest is to compare the mean or median of the outcome variable among the different categories.\n",
    "\n",
    "Use `pandas` `groupby`, <a href=\"https://pandas.pydata.org/docs/reference/api/pandas.DataFrame.groupby.html\">https://pandas.pydata.org/docs/reference/api/pandas.DataFrame.groupby.html</a>, to examine the mean or median of `log_sell` by the four categorical features listed above."
   ]
  },
  {
   "cell_type": "markdown",
   "id": "25d19868",
   "metadata": {},
   "source": [
    "##### Sample Solution"
   ]
  },
  {
   "cell_type": "code",
   "execution_count": 8,
   "id": "035e1002",
   "metadata": {},
   "outputs": [
    {
     "name": "stdout",
     "output_type": "stream",
     "text": [
      "Mean by 'fuel'\n",
      "=====================\n",
      "fuel\n",
      "CNG       5.466341\n",
      "Diesel    5.748693\n",
      "LPG       5.282560\n",
      "Petrol    5.523187\n",
      "Name: log_sell, dtype: float64\n",
      "\n",
      "Median by 'fuel'\n",
      "=====================\n",
      "fuel\n",
      "CNG       5.508517\n",
      "Diesel    5.740363\n",
      "LPG       5.301030\n",
      "Petrol    5.544068\n",
      "Name: log_sell, dtype: float64\n"
     ]
    }
   ],
   "source": [
    "print(\"Mean by 'fuel'\")\n",
    "print(\"=====================\")\n",
    "print(cars_train.groupby('fuel').log_sell.mean())\n",
    "\n",
    "print()\n",
    "\n",
    "print(\"Median by 'fuel'\")\n",
    "print(\"=====================\")\n",
    "print(cars_train.groupby('fuel').log_sell.median())"
   ]
  },
  {
   "cell_type": "code",
   "execution_count": 9,
   "id": "f5e9820c",
   "metadata": {},
   "outputs": [
    {
     "name": "stdout",
     "output_type": "stream",
     "text": [
      "Mean by 'seller_type'\n",
      "=====================\n",
      "seller_type\n",
      "Dealer              5.954911\n",
      "Individual          5.586135\n",
      "Trustmark Dealer    5.843837\n",
      "Name: log_sell, dtype: float64\n",
      "\n",
      "Median by 'seller_type'\n",
      "=====================\n",
      "seller_type\n",
      "Dealer              5.845098\n",
      "Individual          5.602060\n",
      "Trustmark Dealer    5.812913\n",
      "Name: log_sell, dtype: float64\n"
     ]
    }
   ],
   "source": [
    "print(\"Mean by 'seller_type'\")\n",
    "print(\"=====================\")\n",
    "print(cars_train.groupby('seller_type').log_sell.mean())\n",
    "\n",
    "print()\n",
    "\n",
    "print(\"Median by 'seller_type'\")\n",
    "print(\"=====================\")\n",
    "print(cars_train.groupby('seller_type').log_sell.median())"
   ]
  },
  {
   "cell_type": "code",
   "execution_count": 10,
   "id": "66ed7143",
   "metadata": {},
   "outputs": [
    {
     "name": "stdout",
     "output_type": "stream",
     "text": [
      "Mean by 'transmission'\n",
      "=====================\n",
      "transmission\n",
      "Automatic    6.120124\n",
      "Manual       5.574769\n",
      "Name: log_sell, dtype: float64\n",
      "\n",
      "Median by 'transmission'\n",
      "=====================\n",
      "transmission\n",
      "Automatic    6.070002\n",
      "Manual       5.602060\n",
      "Name: log_sell, dtype: float64\n"
     ]
    }
   ],
   "source": [
    "print(\"Mean by 'transmission'\")\n",
    "print(\"=====================\")\n",
    "print(cars_train.groupby('transmission').log_sell.mean())\n",
    "\n",
    "print()\n",
    "\n",
    "print(\"Median by 'transmission'\")\n",
    "print(\"=====================\")\n",
    "print(cars_train.groupby('transmission').log_sell.median())"
   ]
  },
  {
   "cell_type": "code",
   "execution_count": 11,
   "id": "f2933abf",
   "metadata": {},
   "outputs": [
    {
     "name": "stdout",
     "output_type": "stream",
     "text": [
      "Mean by 'owner'\n",
      "=====================\n",
      "owner\n",
      "First Owner             5.744984\n",
      "Fourth & Above Owner    5.268251\n",
      "Second Owner            5.494057\n",
      "Third Owner             5.354053\n",
      "Name: log_sell, dtype: float64\n",
      "\n",
      "Median by 'owner'\n",
      "=====================\n",
      "owner\n",
      "First Owner             5.740363\n",
      "Fourth & Above Owner    5.267172\n",
      "Second Owner            5.511883\n",
      "Third Owner             5.352183\n",
      "Name: log_sell, dtype: float64\n"
     ]
    }
   ],
   "source": [
    "print(\"Mean by 'owner'\")\n",
    "print(\"=====================\")\n",
    "print(cars_train.groupby('owner').log_sell.mean())\n",
    "\n",
    "print()\n",
    "\n",
    "print(\"Median by 'owner'\")\n",
    "print(\"=====================\")\n",
    "print(cars_train.groupby('owner').log_sell.median())"
   ]
  },
  {
   "cell_type": "markdown",
   "id": "ef6702cd",
   "metadata": {},
   "source": [
    "##### b.\n",
    "\n",
    "Another way to investigate the potential impact of categorical variables is to make plots examining the distribution of the outcome variable for each different category. Two common plots that are considered are box and whisker plots and violin plots. These can be made quickly using `seaborn`'s `boxplot`, <a href=\"https://seaborn.pydata.org/generated/seaborn.boxplot.html\">https://seaborn.pydata.org/generated/seaborn.boxplot.html/</a>, and `violinplot`, <a href=\"https://seaborn.pydata.org/generated/seaborn.violinplot.html\">https://seaborn.pydata.org/generated/seaborn.violinplot.html</a> functions.\n",
    "\n",
    "Below you will see an example of both plotting the training distribution of `log_sell` against `fuel`. After that make either a box plot or a violin plot for the remaining three categorical variables."
   ]
  },
  {
   "cell_type": "code",
   "execution_count": 12,
   "id": "c1fdc1ab",
   "metadata": {},
   "outputs": [
    {
     "data": {
      "image/png": "[encoded data removed]",
      "text/plain": [
       "<Figure size 576x432 with 1 Axes>"
      ]
     },
     "metadata": {},
     "output_type": "display_data"
    }
   ],
   "source": [
    "## Boxplot for fuel\n",
    "plt.figure(figsize=(8,6))\n",
    "\n",
    "sns.boxplot(data = cars_train,\n",
    "               y = 'log_sell',\n",
    "               x = 'fuel')\n",
    "\n",
    "plt.yticks(fontsize=14)\n",
    "plt.xticks(fontsize=14)\n",
    "\n",
    "plt.ylabel(\"log_sell\", fontsize=16)\n",
    "plt.xlabel(\"fuel\", fontsize=16)\n",
    "\n",
    "plt.show()"
   ]
  },
  {
   "cell_type": "code",
   "execution_count": 13,
   "id": "6c82597e",
   "metadata": {},
   "outputs": [
    {
     "data": {
      "image/png": "[encoded data removed]",
      "text/plain": [
       "<Figure size 576x432 with 1 Axes>"
      ]
     },
     "metadata": {},
     "output_type": "display_data"
    }
   ],
   "source": [
    "## violinplot for fuel\n",
    "plt.figure(figsize=(8,6))\n",
    "\n",
    "sns.violinplot(data = cars_train,\n",
    "               y = 'log_sell',\n",
    "               x = 'fuel')\n",
    "\n",
    "plt.yticks(fontsize=14)\n",
    "plt.xticks(fontsize=14)\n",
    "\n",
    "plt.ylabel(\"log_sell\", fontsize=16)\n",
    "plt.xlabel(\"fuel\", fontsize=16)\n",
    "\n",
    "plt.show()"
   ]
  },
  {
   "cell_type": "markdown",
   "id": "cca5b45a",
   "metadata": {},
   "source": [
    "##### Sample Solution"
   ]
  },
  {
   "cell_type": "code",
   "execution_count": 14,
   "id": "2088886b",
   "metadata": {},
   "outputs": [
    {
     "data": {
      "image/png": "[encoded data removed]",
      "text/plain": [
       "<Figure size 576x432 with 1 Axes>"
      ]
     },
     "metadata": {},
     "output_type": "display_data"
    }
   ],
   "source": [
    "## Boxplot for seller_type\n",
    "plt.figure(figsize=(8,6))\n",
    "\n",
    "sns.boxplot(data = cars_train,\n",
    "               y = 'log_sell',\n",
    "               x = 'seller_type')\n",
    "\n",
    "plt.yticks(fontsize=14)\n",
    "plt.xticks(fontsize=14)\n",
    "\n",
    "plt.ylabel(\"log_sell\", fontsize=16)\n",
    "plt.xlabel(\"seller_type\", fontsize=16)\n",
    "\n",
    "plt.show()"
   ]
  },
  {
   "cell_type": "code",
   "execution_count": 15,
   "id": "00eace5f",
   "metadata": {},
   "outputs": [
    {
     "data": {
      "image/png": "[encoded data removed]",
      "text/plain": [
       "<Figure size 576x432 with 1 Axes>"
      ]
     },
     "metadata": {},
     "output_type": "display_data"
    }
   ],
   "source": [
    "## violinplot for seller_type\n",
    "plt.figure(figsize=(8,6))\n",
    "\n",
    "sns.violinplot(data = cars_train,\n",
    "               y = 'log_sell',\n",
    "               x = 'seller_type')\n",
    "\n",
    "plt.yticks(fontsize=14)\n",
    "plt.xticks(fontsize=14)\n",
    "\n",
    "plt.ylabel(\"log_sell\", fontsize=16)\n",
    "plt.xlabel(\"seller_type\", fontsize=16)\n",
    "\n",
    "plt.show()"
   ]
  },
  {
   "cell_type": "code",
   "execution_count": 16,
   "id": "8f31047e",
   "metadata": {},
   "outputs": [
    {
     "data": {
      "image/png": "[encoded data removed]",
      "text/plain": [
       "<Figure size 576x432 with 1 Axes>"
      ]
     },
     "metadata": {},
     "output_type": "display_data"
    }
   ],
   "source": [
    "## Boxplot for transmission\n",
    "plt.figure(figsize=(8,6))\n",
    "\n",
    "sns.boxplot(data = cars_train,\n",
    "               y = 'log_sell',\n",
    "               x = 'transmission')\n",
    "\n",
    "plt.yticks(fontsize=14)\n",
    "plt.xticks(fontsize=14)\n",
    "\n",
    "plt.ylabel(\"log_sell\", fontsize=16)\n",
    "plt.xlabel(\"transmission\", fontsize=16)\n",
    "\n",
    "plt.show()"
   ]
  },
  {
   "cell_type": "code",
   "execution_count": 17,
   "id": "adc2f2cb",
   "metadata": {},
   "outputs": [
    {
     "data": {
      "image/png": "[encoded data removed]",
      "text/plain": [
       "<Figure size 576x432 with 1 Axes>"
      ]
     },
     "metadata": {},
     "output_type": "display_data"
    }
   ],
   "source": [
    "## violinplot for transmission\n",
    "plt.figure(figsize=(8,6))\n",
    "\n",
    "sns.violinplot(data = cars_train,\n",
    "               y = 'log_sell',\n",
    "               x = 'transmission')\n",
    "\n",
    "plt.yticks(fontsize=14)\n",
    "plt.xticks(fontsize=14)\n",
    "\n",
    "plt.ylabel(\"log_sell\", fontsize=16)\n",
    "plt.xlabel(\"transmission\", fontsize=16)\n",
    "\n",
    "plt.show()"
   ]
  },
  {
   "cell_type": "code",
   "execution_count": 18,
   "id": "4fb5c8f5",
   "metadata": {},
   "outputs": [
    {
     "data": {
      "image/png": "[encoded data removed]",
      "text/plain": [
       "<Figure size 576x432 with 1 Axes>"
      ]
     },
     "metadata": {},
     "output_type": "display_data"
    }
   ],
   "source": [
    "## Boxplot for owner\n",
    "plt.figure(figsize=(8,6))\n",
    "\n",
    "sns.boxplot(data = cars_train,\n",
    "               y = 'log_sell',\n",
    "               x = 'owner')\n",
    "\n",
    "plt.yticks(fontsize=14)\n",
    "plt.xticks(fontsize=14)\n",
    "\n",
    "plt.ylabel(\"log_sell\", fontsize=16)\n",
    "plt.xlabel(\"owner\", fontsize=16)\n",
    "\n",
    "plt.show()"
   ]
  },
  {
   "cell_type": "code",
   "execution_count": 19,
   "id": "982a4d59",
   "metadata": {},
   "outputs": [
    {
     "data": {
      "image/png": "[encoded data removed]",
      "text/plain": [
       "<Figure size 576x432 with 1 Axes>"
      ]
     },
     "metadata": {},
     "output_type": "display_data"
    }
   ],
   "source": [
    "## violinplot for owner\n",
    "plt.figure(figsize=(8,6))\n",
    "\n",
    "sns.violinplot(data = cars_train,\n",
    "               y = 'log_sell',\n",
    "               x = 'owner')\n",
    "\n",
    "plt.yticks(fontsize=14)\n",
    "plt.xticks(fontsize=14)\n",
    "\n",
    "plt.ylabel(\"log_sell\", fontsize=16)\n",
    "plt.xlabel(\"owner\", fontsize=16)\n",
    "\n",
    "plt.show()"
   ]
  },
  {
   "cell_type": "markdown",
   "id": "39c042de",
   "metadata": {},
   "source": [
    "##### c.\n",
    "\n",
    "Write down any thoughts you have about potentially important categorical variables from your investigations in <i>a.</i> and <i>b.</i> here."
   ]
  },
  {
   "cell_type": "markdown",
   "id": "7d0e8a06",
   "metadata": {},
   "source": [
    "##### Sample Solution\n",
    "\n",
    "- `transmission` type seems to impact the selling price of a vehicle, in particular manual transmissions appear to have a lower selling price than automatics\n",
    "- `seller_type` seems to have an impact between \"dealer\" and \"non-dealer\"\n",
    "- `fuel` seems like a less important variable\n",
    "- `owner` seems to have some effect on the selling price of a vehicle."
   ]
  },
  {
   "cell_type": "markdown",
   "id": "e5f766f2",
   "metadata": {},
   "source": [
    "##### d.\n",
    "\n",
    "From your investigations above you likely noticed that there does seem to be a difference in selling price between vehicles sold by an individual and those sold by some kind of dealer, but the kind of dealer does not seem to matter.\n",
    "\n",
    "Create a new column in the data set called `dealer` that is `1` if the `seller_type` is a kind of dealership and `0` otherwise."
   ]
  },
  {
   "cell_type": "markdown",
   "id": "7ec34fc7",
   "metadata": {},
   "source": [
    "##### Sample Solution"
   ]
  },
  {
   "cell_type": "code",
   "execution_count": 20,
   "id": "34327717",
   "metadata": {},
   "outputs": [],
   "source": [
    "cars_train['dealer'] = 1\n",
    "cars_train.loc[cars_train.seller_type == 'Individual', 'dealer'] = 0"
   ]
  },
  {
   "cell_type": "code",
   "execution_count": 21,
   "id": "140bc93d",
   "metadata": {},
   "outputs": [
    {
     "data": {
      "text/plain": [
       "0    5252\n",
       "1    1072\n",
       "Name: dealer, dtype: int64"
      ]
     },
     "execution_count": 21,
     "metadata": {},
     "output_type": "execute_result"
    }
   ],
   "source": [
    "cars_train.dealer.value_counts()"
   ]
  },
  {
   "cell_type": "markdown",
   "id": "e3b8d593",
   "metadata": {},
   "source": [
    "##### e.\n",
    "\n",
    "It appears that different `owner` categories lead to different selling prices. However, it is difficult to tell if this variable is capturing a new signal, or is just reflecting a possible relationship between selling price and the age of the vehicle.\n",
    "\n",
    "To see what is meant by this statement make a box and whisker plot with `age` on the vertical axis and `owner` on the horizontal. Then make a column called `owner_number` that is `1` when `owner` is `\"First Owner\"`, is `2` when `owner` is `\"Second Owner\"` and so on. Calculate the Pearson correlation between `age` and `owner_number`."
   ]
  },
  {
   "cell_type": "markdown",
   "id": "9b2d3569",
   "metadata": {},
   "source": [
    "##### Sample Solution"
   ]
  },
  {
   "cell_type": "code",
   "execution_count": 22,
   "id": "497dd88a",
   "metadata": {},
   "outputs": [
    {
     "data": {
      "image/png": "[encoded data removed]",
      "text/plain": [
       "<Figure size 576x432 with 1 Axes>"
      ]
     },
     "metadata": {},
     "output_type": "display_data"
    }
   ],
   "source": [
    "## Boxplot for owner\n",
    "plt.figure(figsize=(8,6))\n",
    "\n",
    "sns.boxplot(data = cars_train,\n",
    "               y = 'age',\n",
    "               x = 'owner',\n",
    "               order = ['First Owner', 'Second Owner',\n",
    "                           'Third Owner', 'Fourth & Above Owner'])\n",
    "\n",
    "plt.yticks(fontsize=14)\n",
    "plt.xticks(fontsize=14)\n",
    "\n",
    "plt.ylabel(\"age\", fontsize=16)\n",
    "plt.xlabel(\"owner\", fontsize=16)\n",
    "\n",
    "plt.show()"
   ]
  },
  {
   "cell_type": "code",
   "execution_count": 23,
   "id": "e832c25c",
   "metadata": {},
   "outputs": [],
   "source": [
    "cars_train['owner_number'] = 1\n",
    "cars_train.loc[cars_train.owner=='Second Owner', 'owner_number'] = 2\n",
    "cars_train.loc[cars_train.owner=='Third Owner', 'owner_number'] = 3\n",
    "cars_train.loc[cars_train.owner=='Fourth & Above Owner', 'owner_number'] = 4 "
   ]
  },
  {
   "cell_type": "code",
   "execution_count": 24,
   "id": "17f3d569",
   "metadata": {},
   "outputs": [
    {
     "data": {
      "text/html": [
       "<div>\n",
       "<style scoped>\n",
       "    .dataframe tbody tr th:only-of-type {\n",
       "        vertical-align: middle;\n",
       "    }\n",
       "\n",
       "    .dataframe tbody tr th {\n",
       "        vertical-align: top;\n",
       "    }\n",
       "\n",
       "    .dataframe thead th {\n",
       "        text-align: right;\n",
       "    }\n",
       "</style>\n",
       "<table border=\"1\" class=\"dataframe\">\n",
       "  <thead>\n",
       "    <tr style=\"text-align: right;\">\n",
       "      <th></th>\n",
       "      <th>owner_number</th>\n",
       "      <th>age</th>\n",
       "    </tr>\n",
       "  </thead>\n",
       "  <tbody>\n",
       "    <tr>\n",
       "      <th>owner_number</th>\n",
       "      <td>1.000000</td>\n",
       "      <td>0.512062</td>\n",
       "    </tr>\n",
       "    <tr>\n",
       "      <th>age</th>\n",
       "      <td>0.512062</td>\n",
       "      <td>1.000000</td>\n",
       "    </tr>\n",
       "  </tbody>\n",
       "</table>\n",
       "</div>"
      ],
      "text/plain": [
       "              owner_number       age\n",
       "owner_number      1.000000  0.512062\n",
       "age               0.512062  1.000000"
      ]
     },
     "execution_count": 24,
     "metadata": {},
     "output_type": "execute_result"
    }
   ],
   "source": [
    "cars_train[['owner_number', 'age']].corr()"
   ]
  },
  {
   "cell_type": "markdown",
   "id": "2aada0b6",
   "metadata": {},
   "source": [
    "The takeaway here is that there is a fair amount of correlation between the age of a vehicle and the number of owners the vehicle has had. From the previous notebook we already know that `log_sell` and `age` have a pretty strong correlation, so it makes sense that `owner` and `log_sell` would also be correlated.\n",
    "\n",
    "\n",
    "From a predictive modeling sense this means that including `owner` as a categorical feature in a model that also includes `age` may not lead to as huge an improvement to the model as we originally thought."
   ]
  },
  {
   "cell_type": "markdown",
   "id": "a19494bd",
   "metadata": {},
   "source": [
    "#### 3. Selecting categorical variables to consider\n",
    "\n",
    "##### a. \n",
    "\n",
    "Using your work in 2. choose some combination of the four categorical variables to add to this model:\n",
    "\n",
    "$$\n",
    "\\log \\left( \\text{Selling Price} \\right) = \\beta_0 + \\beta_1 \\text{Age} + \\epsilon\n",
    "$$"
   ]
  },
  {
   "cell_type": "markdown",
   "id": "64352b48",
   "metadata": {},
   "source": [
    "##### Sample Solution\n",
    "\n",
    "I think we should consider including `transmission`, our newly made `dealer` variable and `owner`."
   ]
  },
  {
   "cell_type": "markdown",
   "id": "739ba79d",
   "metadata": {},
   "source": [
    "##### b.\n",
    "\n",
    "Make any dummy variables you need given the categories you chose in 3 <i>a.</i>"
   ]
  },
  {
   "cell_type": "markdown",
   "id": "ebaa135b",
   "metadata": {},
   "source": [
    "##### Sample Solution\n",
    "\n",
    "I do not need to make one for `dealer`, I need to make some for `transmission` and `owner`."
   ]
  },
  {
   "cell_type": "code",
   "execution_count": 25,
   "id": "ace490ba",
   "metadata": {},
   "outputs": [],
   "source": [
    "cars_train['automatic'] = 1\n",
    "cars_train.loc[cars_train.transmission=='Manual', 'automatic'] = 0"
   ]
  },
  {
   "cell_type": "code",
   "execution_count": 26,
   "id": "b5dfc3b4",
   "metadata": {},
   "outputs": [],
   "source": [
    "cars_train['first_owner'] = pd.get_dummies(cars_train['owner'])['First Owner']\n",
    "cars_train['second_owner'] = pd.get_dummies(cars_train['owner'])['Second Owner']\n",
    "cars_train['third_owner'] = pd.get_dummies(cars_train['owner'])['Third Owner']"
   ]
  },
  {
   "cell_type": "markdown",
   "id": "4635a669",
   "metadata": {},
   "source": [
    "#### 4. Comparing models\n",
    "\n",
    "##### a.\n",
    "\n",
    "Write out the model(s) you will compare to:\n",
    "\n",
    "$$\n",
    "\\log \\left( \\text{Selling Price} \\right) = \\beta_0 + \\beta_1 \\text{Age} + \\epsilon\n",
    "$$\n",
    "\n",
    "using cross-validation below."
   ]
  },
  {
   "cell_type": "markdown",
   "id": "bef8e8c6",
   "metadata": {},
   "source": [
    "##### Sample Solution\n",
    "\n",
    "$$\n",
    "\\log \\left( \\text{Selling Price} \\right) = \\beta_0 + \\beta_1 \\text{Age} + \\beta_2 \\text{Dealer} + \\beta_3 \\text{Automatic} + \\epsilon\n",
    "$$\n",
    "\n",
    "<br>\n",
    "\n",
    "$$\n",
    "\\log \\left( \\text{Selling Price} \\right) = \\beta_0 + \\beta_1 \\text{Age} + \\beta_2 \\text{Dealer} + \\beta_3 \\text{Automatic} + \\beta_4 \\text{First Owner} + \\beta_5 \\text{Second Owner} + \\beta_6 \\text{Third Owner} + \\epsilon\n",
    "$$"
   ]
  },
  {
   "cell_type": "markdown",
   "id": "66dcfe93",
   "metadata": {},
   "source": [
    "##### b.\n",
    "\n",
    "Fill in the missing code below to perform cross-validation to compare all of the models from 4. <i>a.</i>."
   ]
  },
  {
   "cell_type": "code",
   "execution_count": 27,
   "id": "7b0e4b38",
   "metadata": {},
   "outputs": [],
   "source": [
    "from sklearn.model_selection import KFold\n",
    "from sklearn.linear_model import LinearRegression\n",
    "from sklearn.metrics import mean_squared_error"
   ]
  },
  {
   "cell_type": "code",
   "execution_count": 28,
   "id": "a42f741e",
   "metadata": {},
   "outputs": [],
   "source": [
    "model_1_features = ['age']\n",
    "model_2_features = ['age', 'dealer', 'automatic']\n",
    "model_3_features = ['age', 'dealer', 'automatic', 'first_owner', 'second_owner', 'third_owner']"
   ]
  },
  {
   "cell_type": "code",
   "execution_count": 29,
   "id": "70ea1203",
   "metadata": {},
   "outputs": [],
   "source": [
    "## Make a KFold object\n",
    "## remember to set a random_state and set shuffle = True\n",
    "kfold = KFold(5,\n",
    "              random_state = 614,\n",
    "              shuffle=True)\n",
    "\n",
    "\n",
    "\n",
    "\n",
    "## This array will hold the mse for each model and split\n",
    "mses = np.zeros((3, 5))\n",
    "\n",
    "## sets a split counter\n",
    "i = 0\n",
    "\n",
    "## loop through the kfold here\n",
    "for train_index, test_index in kfold.split(cars_train):\n",
    "    ## cv training set\n",
    "    cars_tt = cars_train.iloc[train_index]\n",
    "    \n",
    "    ## cv holdout set\n",
    "    cars_ho = cars_train.iloc[test_index]\n",
    "    \n",
    "    ### Model 1 ###\n",
    "    reg = LinearRegression(copy_X = True)\n",
    "    \n",
    "    reg.fit(cars_tt[model_1_features].values.reshape(-1,1),\n",
    "               cars_tt.log_sell.values)\n",
    "    \n",
    "    pred1 = reg.predict(cars_ho[model_1_features].values.reshape(-1,1))\n",
    "    \n",
    "    mses[0,i] = mean_squared_error(cars_ho.log_sell.values, pred1)\n",
    "    \n",
    "    ### Model 2 ###\n",
    "    reg = LinearRegression(copy_X = True)\n",
    "    \n",
    "    reg.fit(cars_tt[model_2_features].values,\n",
    "               cars_tt.log_sell.values)\n",
    "    \n",
    "    pred2 = reg.predict(cars_ho[model_2_features].values)\n",
    "    \n",
    "    mses[1,i] = mean_squared_error(cars_ho.log_sell.values, pred2)\n",
    "    \n",
    "    \n",
    "    ### Model 3 ###\n",
    "    reg = LinearRegression(copy_X = True)\n",
    "    \n",
    "    reg.fit(cars_tt[model_3_features].values,\n",
    "               cars_tt.log_sell.values)\n",
    "    \n",
    "    pred3 = reg.predict(cars_ho[model_3_features].values)\n",
    "    \n",
    "    mses[2,i] = mean_squared_error(cars_ho.log_sell.values, pred3)\n",
    "    \n",
    "    i = i + 1"
   ]
  },
  {
   "cell_type": "code",
   "execution_count": 30,
   "id": "e1b3028a",
   "metadata": {},
   "outputs": [
    {
     "data": {
      "text/plain": [
       "array([[0.06633877, 0.06604438, 0.06826445, 0.06967639, 0.05896725],\n",
       "       [0.0498309 , 0.04885311, 0.04940299, 0.05237303, 0.04612785],\n",
       "       [0.04987099, 0.0488473 , 0.04944231, 0.05263499, 0.04606081]])"
      ]
     },
     "execution_count": 30,
     "metadata": {},
     "output_type": "execute_result"
    }
   ],
   "source": [
    "mses"
   ]
  },
  {
   "cell_type": "code",
   "execution_count": 31,
   "id": "3965b794",
   "metadata": {},
   "outputs": [
    {
     "data": {
      "text/plain": [
       "array([0.06585825, 0.04931758, 0.04937128])"
      ]
     },
     "execution_count": 31,
     "metadata": {},
     "output_type": "execute_result"
    }
   ],
   "source": [
    "np.mean(mses, axis=1)"
   ]
  },
  {
   "cell_type": "markdown",
   "id": "3fc9fccd",
   "metadata": {},
   "source": [
    "##### c. \n",
    "\n",
    "Recall that we ultimately care about predicting the final selling price, not the logarithm of the final selling price. Copy and paste your cross-validation code and alter it slightly so that you compare the prediction of:\n",
    "\n",
    "$$\n",
    "10^{\\log (\\text{Selling Price})}\n",
    "$$\n",
    "\n",
    "to the actual selling price. Look at the root mean squared error which is in the original units of `selling_price`."
   ]
  },
  {
   "cell_type": "markdown",
   "id": "83e586a4",
   "metadata": {},
   "source": [
    "##### Sample Solution"
   ]
  },
  {
   "cell_type": "code",
   "execution_count": 32,
   "id": "b3d23804",
   "metadata": {},
   "outputs": [],
   "source": [
    "## Make a KFold object\n",
    "## remember to set a random_state and set shuffle = True\n",
    "kfold = KFold(5,\n",
    "              random_state = 614,\n",
    "              shuffle=True)\n",
    "\n",
    "\n",
    "\n",
    "\n",
    "## This array will hold the mse for each model and split\n",
    "mses = np.zeros((3, 5))\n",
    "\n",
    "## sets a split counter\n",
    "i = 0\n",
    "\n",
    "## loop through the kfold here\n",
    "for train_index, test_index in kfold.split(cars_train):\n",
    "    ## cv training set\n",
    "    cars_tt = cars_train.iloc[train_index]\n",
    "    \n",
    "    ## cv holdout set\n",
    "    cars_ho = cars_train.iloc[test_index]\n",
    "    \n",
    "    ### Model 1 ###\n",
    "    reg = LinearRegression(copy_X = True)\n",
    "    \n",
    "    reg.fit(cars_tt[model_1_features].values.reshape(-1,1),\n",
    "               cars_tt.log_sell.values)\n",
    "    \n",
    "    pred1 = np.power(10, reg.predict(cars_ho[model_1_features].values.reshape(-1,1)))\n",
    "    \n",
    "    mses[0,i] = mean_squared_error(cars_ho.selling_price.values, pred1)\n",
    "    \n",
    "    ### Model 2 ###\n",
    "    reg = LinearRegression(copy_X = True)\n",
    "    \n",
    "    reg.fit(cars_tt[model_2_features].values,\n",
    "               cars_tt.log_sell.values)\n",
    "    \n",
    "    pred2 = np.power(10, reg.predict(cars_ho[model_2_features].values))\n",
    "    \n",
    "    mses[1,i] = mean_squared_error(cars_ho.selling_price.values, pred2)\n",
    "    \n",
    "    \n",
    "    ### Model 3 ###\n",
    "    reg = LinearRegression(copy_X = True)\n",
    "    \n",
    "    reg.fit(cars_tt[model_3_features].values,\n",
    "               cars_tt.log_sell.values)\n",
    "    \n",
    "    pred3 = np.power(10, reg.predict(cars_ho[model_3_features].values))\n",
    "    \n",
    "    mses[2,i] = mean_squared_error(cars_ho.selling_price.values, pred3)\n",
    "    \n",
    "    i = i + 1"
   ]
  },
  {
   "cell_type": "code",
   "execution_count": 33,
   "id": "b2f9995a",
   "metadata": {},
   "outputs": [
    {
     "data": {
      "text/plain": [
       "array([742758.59694492, 601099.63286673, 601474.64203789])"
      ]
     },
     "execution_count": 33,
     "metadata": {},
     "output_type": "execute_result"
    }
   ],
   "source": [
    "np.mean(np.sqrt(mses), axis=1)"
   ]
  },
  {
   "cell_type": "markdown",
   "id": "171cd899",
   "metadata": {},
   "source": [
    "##### d.\n",
    "\n",
    "If you have time you can use this space to try additional models."
   ]
  },
  {
   "cell_type": "code",
   "execution_count": null,
   "id": "292affa9",
   "metadata": {},
   "outputs": [],
   "source": []
  },
  {
   "cell_type": "code",
   "execution_count": null,
   "id": "8ef16462",
   "metadata": {},
   "outputs": [],
   "source": []
  },
  {
   "cell_type": "code",
   "execution_count": null,
   "id": "4a261edb",
   "metadata": {},
   "outputs": [],
   "source": []
  },
  {
   "cell_type": "code",
   "execution_count": null,
   "id": "62cd66a1",
   "metadata": {},
   "outputs": [],
   "source": []
  },
  {
   "cell_type": "markdown",
   "id": "81205ab9",
   "metadata": {},
   "source": [
    "--------------------------\n",
    "\n",
    "This notebook was written for the Erd&#337;s Institute C&#337;de Data Science Boot Camp by Matthew Osborne, Ph. D., 2022.\n",
    "\n",
    "Any potential redistributors must seek and receive permission from Matthew Tyler Osborne, Ph.D. prior to redistribution. Redistribution of the material contained in this repository is conditional on acknowledgement of Matthew Tyler Osborne, Ph.D.'s original authorship and sponsorship of the Erdős Institute as subject to the license (see License.md)"
   ]
  },
  {
   "cell_type": "code",
   "execution_count": null,
   "id": "fd6606b3",
   "metadata": {},
   "outputs": [],
   "source": []
  }
 ],
 "metadata": {
  "kernelspec": {
   "display_name": "Python 3 (ipykernel)",
   "language": "python",
   "name": "python3"
  },
  "language_info": {
   "codemirror_mode": {
    "name": "ipython",
    "version": 3
   },
   "file_extension": ".py",
   "mimetype": "text/x-python",
   "name": "python",
   "nbconvert_exporter": "python",
   "pygments_lexer": "ipython3",
   "version": "3.9.12"
  }
 },
 "nbformat": 4,
 "nbformat_minor": 5
}
