{
 "cells": [
  {
   "cell_type": "markdown",
   "id": "d627d2ef",
   "metadata": {},
   "source": [
    "# Fall Problem Session 10\n",
    "## Classifying Pumpkin Seeds IV\n",
    "\n",
    "In this notebook you continue to work with the pumpkin seed data from <a href=\"https://link.springer.com/article/10.1007/s10722-021-01226-0\">The use of machine learning methods in classification of pumpkin seeds (Cucurbita pepo L.)</a> by Koklu, Sarigil and Ozbek (2021). By the end of the notebook you will select a final model for this data and check its performance on the test set.\n",
    "\n",
    "The problems in this notebook will cover the content covered in some of our `Classification`, `Dimension Reduction` and our `Ensemble Learning` notebooks."
   ]
  },
  {
   "cell_type": "code",
   "execution_count": 1,
   "id": "41aaeb43",
   "metadata": {},
   "outputs": [],
   "source": [
    "## importing packages you'll probably use\n",
    "import pandas as pd\n",
    "import numpy as np\n",
    "import matplotlib.pyplot as plt\n",
    "import seaborn as sns\n",
    "\n",
    "sns.set_style(\"whitegrid\")"
   ]
  },
  {
   "cell_type": "markdown",
   "id": "89f48766",
   "metadata": {},
   "source": [
    "#### 1. Load and prepare the data and refresh your memory\n",
    "\n",
    "Run the code below in order to:\n",
    "\n",
    "- Load the data stored in `Pumpkin_Seeds_Dataset.xlsx` in the `Data` folder,\n",
    "- Create a column `y` where `y=1` if `Class=Ürgüp Sivrisi` and `y=0` if `Class=Çerçevelik` and\n",
    "- Make a train test split setting $10\\%$ of the data aside as a test set.\n",
    "\n",
    "If you need to refresh your memory on these data and the problem, you may want to look at a small subset of the data, look back on `Fall Problem Session 7`, `Fall Problem Session 8` and `Fall Problem Session 9` and/or browse Figure 5 and Table 1 of this paper, <a href=\"pumpkin_seed_paper.pdf\">pumpkin_seed_paper.pdf</a>"
   ]
  },
  {
   "cell_type": "code",
   "execution_count": 2,
   "id": "3e7bc7f3",
   "metadata": {},
   "outputs": [],
   "source": [
    "## loading the data\n",
    "seeds = pd.read_excel(\"../Data/Pumpkin_Seeds_Dataset.xlsx\")\n",
    "\n",
    "## make target column y\n",
    "seeds['y'] = 0\n",
    "\n",
    "seeds.loc[seeds.Class=='Ürgüp Sivrisi', 'y']=1"
   ]
  },
  {
   "cell_type": "code",
   "execution_count": 3,
   "id": "b8b23b61",
   "metadata": {},
   "outputs": [],
   "source": [
    "## importing train_test_split\n",
    "from sklearn.model_selection import train_test_split"
   ]
  },
  {
   "cell_type": "code",
   "execution_count": 4,
   "id": "f12d34b7",
   "metadata": {},
   "outputs": [],
   "source": [
    "## making stratified train test split\n",
    "seeds_train, seeds_test = train_test_split(seeds.copy(),\n",
    "                                              shuffle=True,\n",
    "                                              random_state=123,\n",
    "                                              test_size=.1,\n",
    "                                              stratify=seeds.y.values)\n",
    "\n",
    "## recording the features in a list for model building\n",
    "features = seeds_train.columns[:-2]"
   ]
  },
  {
   "cell_type": "markdown",
   "id": "25cb4262",
   "metadata": {},
   "source": [
    "#### 2. An AdaBoost classifier\n",
    "\n",
    "\n",
    "##### a.\n",
    "\n",
    "Import the adaptive boosting classifier model and decision tree models from `sklearn`"
   ]
  },
  {
   "cell_type": "code",
   "execution_count": 5,
   "id": "a5193cc1",
   "metadata": {},
   "outputs": [],
   "source": [
    "## import adaboost\n",
    "from sklearn.ensemble import AdaBoostClassifier\n",
    "\n",
    "## import decision tree\n",
    "from sklearn.tree import DecisionTreeClassifier"
   ]
  },
  {
   "cell_type": "markdown",
   "id": "bc4cd9a4",
   "metadata": {},
   "source": [
    "##### b.\n",
    "\n",
    "Using either a `for` loop or `GridSearchCV` determine the optimal value for `n_estimators` for an `AdaBoostClassifier` using a `DecisionTreeClassifier` with `max_depth=2` as its base estimator. Set the `learning_rate=1` in the `AdaBoostClassifier`. \n",
    "\n",
    "Plot the average cross-validation accuracy against the value of `n_estimators`."
   ]
  },
  {
   "cell_type": "code",
   "execution_count": 6,
   "id": "c1d801aa",
   "metadata": {},
   "outputs": [],
   "source": [
    "## import what you need for the cross-validation here\n",
    "from sklearn.model_selection import GridSearchCV\n"
   ]
  },
  {
   "cell_type": "code",
   "execution_count": 18,
   "id": "f883af2e",
   "metadata": {},
   "outputs": [
    {
     "data": {
      "text/html": [
       "<style>#sk-container-id-4 {color: black;background-color: white;}#sk-container-id-4 pre{padding: 0;}#sk-container-id-4 div.sk-toggleable {background-color: white;}#sk-container-id-4 label.sk-toggleable__label {cursor: pointer;display: block;width: 100%;margin-bottom: 0;padding: 0.3em;box-sizing: border-box;text-align: center;}#sk-container-id-4 label.sk-toggleable__label-arrow:before {content: \"▸\";float: left;margin-right: 0.25em;color: #696969;}#sk-container-id-4 label.sk-toggleable__label-arrow:hover:before {color: black;}#sk-container-id-4 div.sk-estimator:hover label.sk-toggleable__label-arrow:before {color: black;}#sk-container-id-4 div.sk-toggleable__content {max-height: 0;max-width: 0;overflow: hidden;text-align: left;background-color: #f0f8ff;}#sk-container-id-4 div.sk-toggleable__content pre {margin: 0.2em;color: black;border-radius: 0.25em;background-color: #f0f8ff;}#sk-container-id-4 input.sk-toggleable__control:checked~div.sk-toggleable__content {max-height: 200px;max-width: 100%;overflow: auto;}#sk-container-id-4 input.sk-toggleable__control:checked~label.sk-toggleable__label-arrow:before {content: \"▾\";}#sk-container-id-4 div.sk-estimator input.sk-toggleable__control:checked~label.sk-toggleable__label {background-color: #d4ebff;}#sk-container-id-4 div.sk-label input.sk-toggleable__control:checked~label.sk-toggleable__label {background-color: #d4ebff;}#sk-container-id-4 input.sk-hidden--visually {border: 0;clip: rect(1px 1px 1px 1px);clip: rect(1px, 1px, 1px, 1px);height: 1px;margin: -1px;overflow: hidden;padding: 0;position: absolute;width: 1px;}#sk-container-id-4 div.sk-estimator {font-family: monospace;background-color: #f0f8ff;border: 1px dotted black;border-radius: 0.25em;box-sizing: border-box;margin-bottom: 0.5em;}#sk-container-id-4 div.sk-estimator:hover {background-color: #d4ebff;}#sk-container-id-4 div.sk-parallel-item::after {content: \"\";width: 100%;border-bottom: 1px solid gray;flex-grow: 1;}#sk-container-id-4 div.sk-label:hover label.sk-toggleable__label {background-color: #d4ebff;}#sk-container-id-4 div.sk-serial::before {content: \"\";position: absolute;border-left: 1px solid gray;box-sizing: border-box;top: 0;bottom: 0;left: 50%;z-index: 0;}#sk-container-id-4 div.sk-serial {display: flex;flex-direction: column;align-items: center;background-color: white;padding-right: 0.2em;padding-left: 0.2em;position: relative;}#sk-container-id-4 div.sk-item {position: relative;z-index: 1;}#sk-container-id-4 div.sk-parallel {display: flex;align-items: stretch;justify-content: center;background-color: white;position: relative;}#sk-container-id-4 div.sk-item::before, #sk-container-id-4 div.sk-parallel-item::before {content: \"\";position: absolute;border-left: 1px solid gray;box-sizing: border-box;top: 0;bottom: 0;left: 50%;z-index: -1;}#sk-container-id-4 div.sk-parallel-item {display: flex;flex-direction: column;z-index: 1;position: relative;background-color: white;}#sk-container-id-4 div.sk-parallel-item:first-child::after {align-self: flex-end;width: 50%;}#sk-container-id-4 div.sk-parallel-item:last-child::after {align-self: flex-start;width: 50%;}#sk-container-id-4 div.sk-parallel-item:only-child::after {width: 0;}#sk-container-id-4 div.sk-dashed-wrapped {border: 1px dashed gray;margin: 0 0.4em 0.5em 0.4em;box-sizing: border-box;padding-bottom: 0.4em;background-color: white;}#sk-container-id-4 div.sk-label label {font-family: monospace;font-weight: bold;display: inline-block;line-height: 1.2em;}#sk-container-id-4 div.sk-label-container {text-align: center;}#sk-container-id-4 div.sk-container {/* jupyter's `normalize.less` sets `[hidden] { display: none; }` but bootstrap.min.css set `[hidden] { display: none !important; }` so we also need the `!important` here to be able to override the default hidden behavior on the sphinx rendered scikit-learn.org. See: https://github.com/scikit-learn/scikit-learn/issues/21755 */display: inline-block !important;position: relative;}#sk-container-id-4 div.sk-text-repr-fallback {display: none;}</style><div id=\"sk-container-id-4\" class=\"sk-top-container\"><div class=\"sk-text-repr-fallback\"><pre>GridSearchCV(cv=10,\n",
       "             estimator=AdaBoostClassifier(base_estimator=DecisionTreeClassifier(max_depth=2),\n",
       "                                          learning_rate=1, random_state=1),\n",
       "             param_grid={&#x27;n_estimators&#x27;: range(1, 26)}, scoring=&#x27;accuracy&#x27;)</pre><b>In a Jupyter environment, please rerun this cell to show the HTML representation or trust the notebook. <br />On GitHub, the HTML representation is unable to render, please try loading this page with nbviewer.org.</b></div><div class=\"sk-container\" hidden><div class=\"sk-item sk-dashed-wrapped\"><div class=\"sk-label-container\"><div class=\"sk-label sk-toggleable\"><input class=\"sk-toggleable__control sk-hidden--visually\" id=\"sk-estimator-id-12\" type=\"checkbox\" ><label for=\"sk-estimator-id-12\" class=\"sk-toggleable__label sk-toggleable__label-arrow\">GridSearchCV</label><div class=\"sk-toggleable__content\"><pre>GridSearchCV(cv=10,\n",
       "             estimator=AdaBoostClassifier(base_estimator=DecisionTreeClassifier(max_depth=2),\n",
       "                                          learning_rate=1, random_state=1),\n",
       "             param_grid={&#x27;n_estimators&#x27;: range(1, 26)}, scoring=&#x27;accuracy&#x27;)</pre></div></div></div><div class=\"sk-parallel\"><div class=\"sk-parallel-item\"><div class=\"sk-item\"><div class=\"sk-label-container\"><div class=\"sk-label sk-toggleable\"><input class=\"sk-toggleable__control sk-hidden--visually\" id=\"sk-estimator-id-13\" type=\"checkbox\" ><label for=\"sk-estimator-id-13\" class=\"sk-toggleable__label sk-toggleable__label-arrow\">estimator: AdaBoostClassifier</label><div class=\"sk-toggleable__content\"><pre>AdaBoostClassifier(base_estimator=DecisionTreeClassifier(max_depth=2),\n",
       "                   learning_rate=1, random_state=1)</pre></div></div></div><div class=\"sk-serial\"><div class=\"sk-item sk-dashed-wrapped\"><div class=\"sk-parallel\"><div class=\"sk-parallel-item\"><div class=\"sk-item\"><div class=\"sk-label-container\"><div class=\"sk-label sk-toggleable\"><input class=\"sk-toggleable__control sk-hidden--visually\" id=\"sk-estimator-id-14\" type=\"checkbox\" ><label for=\"sk-estimator-id-14\" class=\"sk-toggleable__label sk-toggleable__label-arrow\">base_estimator: DecisionTreeClassifier</label><div class=\"sk-toggleable__content\"><pre>DecisionTreeClassifier(max_depth=2)</pre></div></div></div><div class=\"sk-serial\"><div class=\"sk-item\"><div class=\"sk-estimator sk-toggleable\"><input class=\"sk-toggleable__control sk-hidden--visually\" id=\"sk-estimator-id-15\" type=\"checkbox\" ><label for=\"sk-estimator-id-15\" class=\"sk-toggleable__label sk-toggleable__label-arrow\">DecisionTreeClassifier</label><div class=\"sk-toggleable__content\"><pre>DecisionTreeClassifier(max_depth=2)</pre></div></div></div></div></div></div></div></div></div></div></div></div></div></div></div>"
      ],
      "text/plain": [
       "GridSearchCV(cv=10,\n",
       "             estimator=AdaBoostClassifier(base_estimator=DecisionTreeClassifier(max_depth=2),\n",
       "                                          learning_rate=1, random_state=1),\n",
       "             param_grid={'n_estimators': range(1, 26)}, scoring='accuracy')"
      ]
     },
     "execution_count": 18,
     "metadata": {},
     "output_type": "execute_result"
    }
   ],
   "source": [
    "## Run the cross-validation here\n",
    "\n",
    "n_estimators = range(1,26)\n",
    "\n",
    "grid_cv = GridSearchCV(AdaBoostClassifier(learning_rate = 1,base_estimator=DecisionTreeClassifier(max_depth=2),random_state=1), # first put the model object here\n",
    "                          param_grid = {'n_estimators':n_estimators}, # and n_estimators here\n",
    "                          scoring = 'accuracy', # put the metric we are trying to optimize here as a string, \"accuracy\"\n",
    "                          cv = 10) # put the number of cv splits here\n",
    "\n",
    "\n",
    "\n",
    "## Consider these for the number of estimators\n",
    "grid_cv.fit(seeds_train[features],seeds_train.y)\n"
   ]
  },
  {
   "cell_type": "code",
   "execution_count": 20,
   "id": "43b6c24a-e0cc-4b06-b8c7-2dacc0ce0245",
   "metadata": {},
   "outputs": [
    {
     "data": {
      "text/plain": [
       "6"
      ]
     },
     "execution_count": 20,
     "metadata": {},
     "output_type": "execute_result"
    }
   ],
   "source": [
    "np.argmax(grid_cv.cv_results_['mean_test_score'])"
   ]
  },
  {
   "cell_type": "code",
   "execution_count": 19,
   "id": "1d451125",
   "metadata": {},
   "outputs": [
    {
     "data": {
      "image/png": "[encoded data removed]",
      "text/plain": [
       "<Figure size 1200x600 with 1 Axes>"
      ]
     },
     "metadata": {},
     "output_type": "display_data"
    }
   ],
   "source": [
    "plt.figure(figsize=(12,6))\n",
    "\n",
    "plt.plot(n_estimators,grid_cv.cv_results_['mean_test_score'])\n",
    "\n",
    "plt.xlabel(\"n_estimators\", fontsize=18)\n",
    "plt.ylabel(\"Avg. CV Accuracy\", fontsize=18)\n",
    "\n",
    "plt.xticks(fontsize=14)\n",
    "plt.yticks(fontsize=14)\n",
    "\n",
    "plt.show()"
   ]
  },
  {
   "cell_type": "markdown",
   "id": "e57dd8a6",
   "metadata": {},
   "source": [
    "##### c.\n",
    "\n",
    "How many decision trees do you choose for your adaptive boosting classifier?"
   ]
  },
  {
   "cell_type": "markdown",
   "id": "dcec03b5",
   "metadata": {},
   "source": [
    "##### Write your answer here"
   ]
  },
  {
   "cell_type": "code",
   "execution_count": null,
   "id": "3676373a",
   "metadata": {},
   "outputs": [],
   "source": []
  },
  {
   "cell_type": "markdown",
   "id": "6d4a9a48",
   "metadata": {},
   "source": [
    "#### 3. A voting classifier\n",
    "\n",
    "In this problem you will explore making a voting classifier for these data.\n",
    "\n",
    "##### a.\n",
    "\n",
    "Recall that a voting classifier is a classification model where the prediction for a particular observation is an average of the predictions from a group of classifiers.\n",
    "\n",
    "As a first step to building a voting classifier review the best models you have built through `Fall Problem Session 7` to `Fall Problem Session 9`:\n",
    "\n",
    "- A logistic regression model regressing `y` on a single feature,\n",
    "- A $k$ nearest neighbors model using PCA processed features as input,\n",
    "- A support vector machine model,\n",
    "- A quadratic discriminant analysis model,\n",
    "- A random forest model and, in this notebook,\n",
    "- An adaptive boosting model."
   ]
  },
  {
   "cell_type": "markdown",
   "id": "da7821ee",
   "metadata": {},
   "source": [
    "##### b. \n",
    "\n",
    "We should only expect a voting classifier to perform better than its constituent models when there is not a lot of overlap in the observations that each model incorrectly classifies. For example, if most of your models are incorrect about a particular observation, then the voter model will also be incorrect for that observation.\n",
    "\n",
    "As an initial investigation for the voter model:\n",
    "\n",
    "- Make a validation set of size 100 from the training data,\n",
    "- Fill in the missing pieces of code to fit all of the models you have considered up to this point on the training set from the validation split you just made,\n",
    "- Get predictions for all of these models on the validation set and\n",
    "- Then run the `plt.imshow` code chunk to show where these models were incorrect on the validation set."
   ]
  },
  {
   "cell_type": "code",
   "execution_count": 27,
   "id": "568fbab0",
   "metadata": {},
   "outputs": [],
   "source": [
    "## First import everything we'll need\n",
    "from sklearn.decomposition import PCA\n",
    "from sklearn.discriminant_analysis import QuadraticDiscriminantAnalysis\n",
    "from sklearn.pipeline import Pipeline\n",
    "from sklearn.linear_model import LogisticRegression\n",
    "from sklearn.preprocessing import StandardScaler\n",
    "from sklearn.svm import SVC\n",
    "from sklearn.neighbors import KNeighborsClassifier\n",
    "from sklearn.ensemble import RandomForestClassifier"
   ]
  },
  {
   "cell_type": "code",
   "execution_count": 24,
   "id": "eceeb5e0-0eed-4b61-a8ac-355db50cbce0",
   "metadata": {},
   "outputs": [
    {
     "data": {
      "text/plain": [
       "100"
      ]
     },
     "execution_count": 24,
     "metadata": {},
     "output_type": "execute_result"
    }
   ],
   "source": [
    "len(seeds_val)"
   ]
  },
  {
   "cell_type": "code",
   "execution_count": 22,
   "id": "f78520a9",
   "metadata": {},
   "outputs": [],
   "source": [
    "## Make the validation split\n",
    "seeds_tt, seeds_val = train_test_split(seeds_train.copy(),\n",
    "                                              shuffle=True,\n",
    "                                              random_state=123,\n",
    "                                              test_size=100,\n",
    "                                              stratify=seeds_train.y.values)\n",
    "\n"
   ]
  },
  {
   "cell_type": "code",
   "execution_count": 29,
   "id": "de012e6f",
   "metadata": {},
   "outputs": [],
   "source": [
    "##### make all the model objects ####\n",
    "\n",
    "## Adaptive Boosting\n",
    "## fill in the parameters you found above\n",
    "ada_boost = AdaBoostClassifier(learning_rate = 1,base_estimator=DecisionTreeClassifier(max_depth=2),random_state=1,n_estimators=7)\n",
    "\n",
    "## K nearest neighbors with PCA pre-processing\n",
    "knn = Pipeline([('scale', StandardScaler()),\n",
    "                   ('pca', PCA(3)),\n",
    "                   ('knn', KNeighborsClassifier(38))])\n",
    "\n",
    "## QDA\n",
    "qda = Pipeline([('scale', StandardScaler()),\n",
    "                    ('qda', QuadraticDiscriminantAnalysis())])\n",
    "\n",
    "## Logistic Regression\n",
    "log_reg = LogisticRegression()\n",
    "\n",
    "## Support vector machine\n",
    "svm = Pipeline([('scale', StandardScaler()),\n",
    "                   ('svm', SVC(C = 30))])\n",
    "\n",
    "## Random Forest\n",
    "rf = RandomForestClassifier(max_depth=8, \n",
    "                            n_estimators=500)\n",
    "\n",
    "\n",
    "##### Fit all of the models #####\n",
    "## complete the adaboost code\n",
    "ada_boost.fit(seeds_tt[features], seeds_tt.y)\n",
    "knn.fit(seeds_tt[features], seeds_tt.y)\n",
    "qda.fit(seeds_tt[features], seeds_tt.y)\n",
    "log_reg.fit(seeds_tt['Aspect_Ration'].values.reshape(-1,1), seeds_tt.y)\n",
    "svm.fit(seeds_tt[features], seeds_tt.y)\n",
    "rf.fit(seeds_tt[features], seeds_tt.y)\n",
    "  \n",
    "    \n",
    "##### Get predictions on the validation set #####\n",
    "## complete the adaboost code\n",
    "ada_pred = ada_boost.predict(seeds_val[features])\n",
    "knn_pred = knn.predict(seeds_val[features])\n",
    "qda_pred = qda.predict(seeds_val[features])\n",
    "log_pred = log_reg.predict(seeds_val['Aspect_Ration'].values.reshape(-1,1))\n",
    "svm_pred = svm.predict(seeds_val[features])\n",
    "rf_pred = rf.predict(seeds_val[features])\n",
    "\n",
    "\n",
    "##### This records what observations in the validation set\n",
    "##### Each model got wrong\n",
    "wrongs = np.zeros((6, len(seeds_val)))\n",
    "                ## pred != y.values produces an array of Trues and Falses for where\n",
    "                ## an entry is true if the prediction does not equal the actual\n",
    "                ## and false if the prediction does equal the actual\n",
    "wrongs[0,:] = ada_pred != seeds_val.y.values\n",
    "wrongs[1,:] = knn_pred != seeds_val.y.values\n",
    "wrongs[2,:] = qda_pred != seeds_val.y.values\n",
    "wrongs[3,:] = log_pred != seeds_val.y.values\n",
    "wrongs[4,:] = svm_pred != seeds_val.y.values\n",
    "wrongs[5,:] = rf_pred != seeds_val.y.values"
   ]
  },
  {
   "cell_type": "code",
   "execution_count": 32,
   "id": "95dc470b",
   "metadata": {},
   "outputs": [
    {
     "data": {
      "image/png": "[encoded data removed]",
      "text/plain": [
       "<Figure size 2000x2000 with 1 Axes>"
      ]
     },
     "metadata": {},
     "output_type": "display_data"
    }
   ],
   "source": [
    "### This makes a heat map of where each model was incorrect\n",
    "### A bright spot indicates the model was wrong for that observation\n",
    "plt.figure(figsize=(20,20))\n",
    "\n",
    "## docs: https://matplotlib.org/stable/api/_as_gen/matplotlib.pyplot.imshow.html\n",
    "plt.imshow(wrongs)\n",
    "\n",
    "plt.xticks([])\n",
    "plt.yticks([0,1,2,3,4,5], \n",
    "              [\"AdaBoost\", \"KNN\", \"QDA\", \"Log. Reg.\", \"SVM\", \"R.F.\"],\n",
    "              fontsize=13)\n",
    "plt.show()"
   ]
  },
  {
   "cell_type": "markdown",
   "id": "cd84b2f3",
   "metadata": {},
   "source": [
    "##### c. \n",
    "\n",
    "Look at the heat map you just made. Each square in this map indicates whether a model (the rows) got a particular observation (the columns) incorrect. A bright square indicates a model was incorrect for that observation, a dark square indicates that it was correct.\n",
    "\n",
    "Based on this investigatory heat map do you think that a voter model made up of these models would do better than any one model? Why or Why not?"
   ]
  },
  {
   "cell_type": "markdown",
   "id": "0f674cea",
   "metadata": {},
   "source": [
    "##### Write your thoughts here"
   ]
  },
  {
   "cell_type": "code",
   "execution_count": null,
   "id": "5a50615f",
   "metadata": {},
   "outputs": [],
   "source": []
  },
  {
   "cell_type": "markdown",
   "id": "52bf0b13",
   "metadata": {},
   "source": [
    "##### d. \n",
    "\n",
    "Make a voter model using all of the models considered in <i>b.</i> above. Train it on the training set from the validation split. Then compare the accuracies of all models on the validation set to the voter model's validation accuracy. The code has been started for you because the logistic regression model required particular preprocessing in order to be fed into the voter model."
   ]
  },
  {
   "cell_type": "code",
   "execution_count": 33,
   "id": "4db3ea89",
   "metadata": {},
   "outputs": [],
   "source": [
    "## import the VotingClassifier here\n",
    "from sklearn.ensemble import VotingClassifier\n",
    "\n",
    "## import the rest of what we'll need\n",
    "from sklearn.metrics import accuracy_score\n",
    "from sklearn.preprocessing import FunctionTransformer"
   ]
  },
  {
   "cell_type": "code",
   "execution_count": 34,
   "id": "4ea6a8e9",
   "metadata": {},
   "outputs": [],
   "source": [
    "## This function will only return the 'Aspect_Ration' column\n",
    "def get_single_feature(df):\n",
    "    return df['Aspect_Ration'].values.reshape(-1,1)\n",
    "\n",
    "## fill in the rest of the VotingClassifier\n",
    "vote = VotingClassifier([('log_reg', Pipeline([('get_column', FunctionTransformer(get_single_feature)),\n",
    "                                                 ('log_reg', LogisticRegression())])),\n",
    "                            (\"AdaBoost\", AdaBoostClassifier(learning_rate = 1,base_estimator=DecisionTreeClassifier(max_depth=2),random_state=1,n_estimators=7)),\n",
    "                         (\"KNN\", Pipeline([('scale', StandardScaler()),\n",
    "                   ('pca', PCA(3)),\n",
    "                   ('knn', KNeighborsClassifier(38))])),\n",
    "                         (\"QDA\", Pipeline([('scale', StandardScaler()),\n",
    "                    ('qda', QuadraticDiscriminantAnalysis())])),\n",
    "                         (\"SVM\", Pipeline([('scale', StandardScaler()),\n",
    "                   ('svm', SVC(C = 30))])),\n",
    "                         (\"R.F.\",RandomForestClassifier(max_depth=8, \n",
    "                            n_estimators=500))])\n",
    "\n",
    "\n",
    "## fit the model\n",
    "vote.fit(seeds_tt[features],seeds_tt.y)\n",
    "\n",
    "\n",
    "## get the voting model prediction\n",
    "vote_pred = vote.predict(seeds_val[features])\n",
    "\n",
    "\n",
    "## Here we record all of the accuracies on the validation set\n",
    "vote_acc = accuracy_score(seeds_val.y, vote_pred)\n",
    "log_acc = accuracy_score(seeds_val.y, log_pred)\n",
    "knn_acc = accuracy_score(seeds_val.y, knn_pred)\n",
    "ada_acc = accuracy_score(seeds_val.y, ada_pred)\n",
    "qda_acc = accuracy_score(seeds_val.y, qda_pred)\n",
    "svm_acc = accuracy_score(seeds_val.y, svm_pred)\n",
    "rf_acc = accuracy_score(seeds_val.y, rf_pred)"
   ]
  },
  {
   "cell_type": "code",
   "execution_count": 35,
   "id": "918f32fc",
   "metadata": {},
   "outputs": [
    {
     "name": "stdout",
     "output_type": "stream",
     "text": [
      "Logistic regression validataion set accuracy =  83.0\n",
      "KNN validataion set accuracy =  85.0\n",
      "QDA validataion set accuracy =  86.0\n",
      "SVM validataion set accuracy =  84.0\n",
      "Random forest validataion set accuracy =  90.0\n",
      "Adaboost validataion set accuracy =  87.0\n",
      "=========================================\n",
      "Voter model validataion set accuracy =  88.0\n"
     ]
    }
   ],
   "source": [
    "## Prints them all out for you\n",
    "print(\"Logistic regression validataion set accuracy = \", np.round(log_acc*100, 2))\n",
    "print(\"KNN validataion set accuracy = \", np.round(knn_acc*100, 2))\n",
    "print(\"QDA validataion set accuracy = \", np.round(qda_acc*100, 2))\n",
    "print(\"SVM validataion set accuracy = \", np.round(svm_acc*100, 2))\n",
    "print(\"Random forest validataion set accuracy = \", np.round(rf_acc*100, 2))\n",
    "print(\"Adaboost validataion set accuracy = \", np.round(ada_acc*100, 2))\n",
    "print(\"=========================================\")\n",
    "print(\"Voter model validataion set accuracy = \", np.round(vote_acc*100, 2))"
   ]
  },
  {
   "cell_type": "markdown",
   "id": "2584aa9e",
   "metadata": {},
   "source": [
    "#### 4. Choosing a final model\n",
    "\n",
    "##### a.\n",
    "\n",
    "Fill in the missing code below to run each of the seven models you just considered through 10-fold cross-validation."
   ]
  },
  {
   "cell_type": "code",
   "execution_count": 39,
   "id": "ca1b4518",
   "metadata": {},
   "outputs": [],
   "source": [
    "## import the appropriate kfold object\n",
    "from sklearn.model_selection import StratifiedKFold"
   ]
  },
  {
   "cell_type": "code",
   "execution_count": 41,
   "id": "338e248a",
   "metadata": {},
   "outputs": [],
   "source": [
    "## the number of CV splits\n",
    "n_splits = 10\n",
    "\n",
    "## complete the kfold object here\n",
    "kfold = StratifiedKFold(random_state=1,\n",
    "             shuffle=True,\n",
    "             n_splits=n_splits)\n",
    "\n",
    "## this will hold the accuracies for each split\n",
    "cv_accs = np.zeros((n_splits, 7))\n",
    "\n",
    "\n",
    "i = 0\n",
    "## loop through the cross-validation splits\n",
    "for train_index, test_index in kfold.split(seeds_train, seeds_train.y):\n",
    "    ## make the train holdout split\n",
    "    seeds_tt = seeds_train.iloc[train_index]\n",
    "    seeds_ho = seeds_train.iloc[test_index]\n",
    "    \n",
    "    ### Making the model objects ###\n",
    "    \n",
    "    ## Adaptive Boosting\n",
    "    ## fill in the parameters you found above\n",
    "    ada_boost = AdaBoostClassifier(learning_rate = 1,base_estimator=DecisionTreeClassifier(max_depth=2),random_state=1,n_estimators=7)\n",
    "\n",
    "    ## K nearest neighbors with PCA pre-processing\n",
    "    knn = Pipeline([('scale', StandardScaler()),\n",
    "                       ('pca', PCA(3)),\n",
    "                       ('knn', KNeighborsClassifier(38))])\n",
    "\n",
    "    ## QDA\n",
    "    qda = Pipeline([('scale', StandardScaler()),\n",
    "                        ('qda', QuadraticDiscriminantAnalysis())])\n",
    "\n",
    "    ## Logistic Regression\n",
    "    log_reg = LogisticRegression()\n",
    "\n",
    "    ## Support vector machine\n",
    "    svm = Pipeline([('scale', StandardScaler()),\n",
    "                       ('svm', SVC(C = 30))])\n",
    "\n",
    "    ## Random Forest\n",
    "    rf = RandomForestClassifier(max_depth=8, \n",
    "                                n_estimators=500)\n",
    "    \n",
    "    ## Vote\n",
    "    ## complete the VotingClassifier\n",
    "    vote = VotingClassifier([('log_reg', Pipeline([('get_column', FunctionTransformer(get_single_feature)),\n",
    "                                                 ('log_reg', LogisticRegression())])),\n",
    "                            (\"AdaBoost\", AdaBoostClassifier(learning_rate = 1,base_estimator=DecisionTreeClassifier(max_depth=2),random_state=1,n_estimators=7)),\n",
    "                         (\"KNN\", Pipeline([('scale', StandardScaler()),\n",
    "                   ('pca', PCA(3)),\n",
    "                   ('knn', KNeighborsClassifier(38))])),\n",
    "                         (\"QDA\", Pipeline([('scale', StandardScaler()),\n",
    "                    ('qda', QuadraticDiscriminantAnalysis())])),\n",
    "                         (\"SVM\", Pipeline([('scale', StandardScaler()),\n",
    "                   ('svm', SVC(C = 30))])),\n",
    "                         (\"R.F.\",RandomForestClassifier(max_depth=8, \n",
    "                            n_estimators=500))])\n",
    "    \n",
    "    ### Fitting the models ###\n",
    "    ada_boost.fit(seeds_tt[features], seeds_tt.y)\n",
    "    knn.fit(seeds_tt[features], seeds_tt.y)\n",
    "    qda.fit(seeds_tt[features], seeds_tt.y)\n",
    "    log_reg.fit(seeds_tt['Aspect_Ration'].values.reshape(-1,1), seeds_tt.y)\n",
    "    svm.fit(seeds_tt[features], seeds_tt.y)\n",
    "    rf.fit(seeds_tt[features], seeds_tt.y)\n",
    "    vote.fit(seeds_tt[features], seeds_tt.y)\n",
    "\n",
    "    \n",
    "    ### Getting predictions ###\n",
    "    ada_pred = ada_boost.predict(seeds_ho[features])\n",
    "    knn_pred = knn.predict(seeds_ho[features])\n",
    "    qda_pred = qda.predict(seeds_ho[features])\n",
    "    log_pred = log_reg.predict(seeds_ho['Aspect_Ration'].values.reshape(-1,1))\n",
    "    svm_pred = svm.predict(seeds_ho[features])\n",
    "    rf_pred = rf.predict(seeds_ho[features])\n",
    "    vote_pred = vote.predict(seeds_ho[features])\n",
    "\n",
    "    \n",
    "    ### Recording Accuracies ###\n",
    "    cv_accs[i,0] = accuracy_score(seeds_ho.y, ada_pred)\n",
    "    cv_accs[i,1] = accuracy_score(seeds_ho.y, knn_pred)\n",
    "    cv_accs[i,2] = accuracy_score(seeds_ho.y, qda_pred)\n",
    "    cv_accs[i,3] = accuracy_score(seeds_ho.y, log_pred)\n",
    "    cv_accs[i,4] = accuracy_score(seeds_ho.y, svm_pred)\n",
    "    cv_accs[i,5] = accuracy_score(seeds_ho.y, rf_pred)\n",
    "    cv_accs[i,6] = accuracy_score(seeds_ho.y, vote_pred)\n",
    "\n",
    "    i = i + 1"
   ]
  },
  {
   "cell_type": "markdown",
   "id": "c89defa0",
   "metadata": {},
   "source": [
    "#### b. \n",
    "\n",
    "Which model had the best average cross-validation accuracy?"
   ]
  },
  {
   "cell_type": "code",
   "execution_count": 43,
   "id": "738e0bb1-359f-40d4-86f5-0d5a41de1755",
   "metadata": {},
   "outputs": [
    {
     "data": {
      "text/plain": [
       "array([0.87422222, 0.88577778, 0.88488889, 0.868     , 0.884     ,\n",
       "       0.89155556, 0.88933333])"
      ]
     },
     "execution_count": 43,
     "metadata": {},
     "output_type": "execute_result"
    }
   ],
   "source": [
    "cv_accs.mean(0)"
   ]
  },
  {
   "cell_type": "code",
   "execution_count": 42,
   "id": "d8d5ad4a",
   "metadata": {},
   "outputs": [
    {
     "data": {
      "text/plain": [
       "5"
      ]
     },
     "execution_count": 42,
     "metadata": {},
     "output_type": "execute_result"
    }
   ],
   "source": [
    "np.argmax(cv_accs.mean(0))"
   ]
  },
  {
   "cell_type": "code",
   "execution_count": null,
   "id": "eb6f0b63",
   "metadata": {},
   "outputs": [],
   "source": []
  },
  {
   "cell_type": "code",
   "execution_count": null,
   "id": "d936430c",
   "metadata": {},
   "outputs": [],
   "source": []
  },
  {
   "cell_type": "markdown",
   "id": "d0b2957c",
   "metadata": {},
   "source": [
    "##### c. \n",
    "\n",
    "Remember that it is often useful to compare your best model to a simple baseline. In this case the logistic regression model using a single feature is a good baseline we can use. How much does your best model improve upon this baseline? Is your model easier to interpret than the logistic regression model? Could you think of a situation in which we would go with the logistic regression model instead of the one with the best average cross-validation accuracy?"
   ]
  },
  {
   "cell_type": "markdown",
   "id": "b77fde1c",
   "metadata": {},
   "source": [
    "##### Write your answer here"
   ]
  },
  {
   "cell_type": "code",
   "execution_count": null,
   "id": "5e03077f",
   "metadata": {},
   "outputs": [],
   "source": []
  },
  {
   "cell_type": "markdown",
   "id": "680dd863",
   "metadata": {},
   "source": [
    "##### d.\n",
    "\n",
    "Train the model you chose on the entire training set. Then compute the accuracies on the training set and the test set. Does the model seem to be overfitting?"
   ]
  },
  {
   "cell_type": "code",
   "execution_count": 45,
   "id": "defc0777",
   "metadata": {},
   "outputs": [
    {
     "data": {
      "text/html": [
       "<style>#sk-container-id-6 {color: black;background-color: white;}#sk-container-id-6 pre{padding: 0;}#sk-container-id-6 div.sk-toggleable {background-color: white;}#sk-container-id-6 label.sk-toggleable__label {cursor: pointer;display: block;width: 100%;margin-bottom: 0;padding: 0.3em;box-sizing: border-box;text-align: center;}#sk-container-id-6 label.sk-toggleable__label-arrow:before {content: \"▸\";float: left;margin-right: 0.25em;color: #696969;}#sk-container-id-6 label.sk-toggleable__label-arrow:hover:before {color: black;}#sk-container-id-6 div.sk-estimator:hover label.sk-toggleable__label-arrow:before {color: black;}#sk-container-id-6 div.sk-toggleable__content {max-height: 0;max-width: 0;overflow: hidden;text-align: left;background-color: #f0f8ff;}#sk-container-id-6 div.sk-toggleable__content pre {margin: 0.2em;color: black;border-radius: 0.25em;background-color: #f0f8ff;}#sk-container-id-6 input.sk-toggleable__control:checked~div.sk-toggleable__content {max-height: 200px;max-width: 100%;overflow: auto;}#sk-container-id-6 input.sk-toggleable__control:checked~label.sk-toggleable__label-arrow:before {content: \"▾\";}#sk-container-id-6 div.sk-estimator input.sk-toggleable__control:checked~label.sk-toggleable__label {background-color: #d4ebff;}#sk-container-id-6 div.sk-label input.sk-toggleable__control:checked~label.sk-toggleable__label {background-color: #d4ebff;}#sk-container-id-6 input.sk-hidden--visually {border: 0;clip: rect(1px 1px 1px 1px);clip: rect(1px, 1px, 1px, 1px);height: 1px;margin: -1px;overflow: hidden;padding: 0;position: absolute;width: 1px;}#sk-container-id-6 div.sk-estimator {font-family: monospace;background-color: #f0f8ff;border: 1px dotted black;border-radius: 0.25em;box-sizing: border-box;margin-bottom: 0.5em;}#sk-container-id-6 div.sk-estimator:hover {background-color: #d4ebff;}#sk-container-id-6 div.sk-parallel-item::after {content: \"\";width: 100%;border-bottom: 1px solid gray;flex-grow: 1;}#sk-container-id-6 div.sk-label:hover label.sk-toggleable__label {background-color: #d4ebff;}#sk-container-id-6 div.sk-serial::before {content: \"\";position: absolute;border-left: 1px solid gray;box-sizing: border-box;top: 0;bottom: 0;left: 50%;z-index: 0;}#sk-container-id-6 div.sk-serial {display: flex;flex-direction: column;align-items: center;background-color: white;padding-right: 0.2em;padding-left: 0.2em;position: relative;}#sk-container-id-6 div.sk-item {position: relative;z-index: 1;}#sk-container-id-6 div.sk-parallel {display: flex;align-items: stretch;justify-content: center;background-color: white;position: relative;}#sk-container-id-6 div.sk-item::before, #sk-container-id-6 div.sk-parallel-item::before {content: \"\";position: absolute;border-left: 1px solid gray;box-sizing: border-box;top: 0;bottom: 0;left: 50%;z-index: -1;}#sk-container-id-6 div.sk-parallel-item {display: flex;flex-direction: column;z-index: 1;position: relative;background-color: white;}#sk-container-id-6 div.sk-parallel-item:first-child::after {align-self: flex-end;width: 50%;}#sk-container-id-6 div.sk-parallel-item:last-child::after {align-self: flex-start;width: 50%;}#sk-container-id-6 div.sk-parallel-item:only-child::after {width: 0;}#sk-container-id-6 div.sk-dashed-wrapped {border: 1px dashed gray;margin: 0 0.4em 0.5em 0.4em;box-sizing: border-box;padding-bottom: 0.4em;background-color: white;}#sk-container-id-6 div.sk-label label {font-family: monospace;font-weight: bold;display: inline-block;line-height: 1.2em;}#sk-container-id-6 div.sk-label-container {text-align: center;}#sk-container-id-6 div.sk-container {/* jupyter's `normalize.less` sets `[hidden] { display: none; }` but bootstrap.min.css set `[hidden] { display: none !important; }` so we also need the `!important` here to be able to override the default hidden behavior on the sphinx rendered scikit-learn.org. See: https://github.com/scikit-learn/scikit-learn/issues/21755 */display: inline-block !important;position: relative;}#sk-container-id-6 div.sk-text-repr-fallback {display: none;}</style><div id=\"sk-container-id-6\" class=\"sk-top-container\"><div class=\"sk-text-repr-fallback\"><pre>RandomForestClassifier(max_depth=8, n_estimators=500)</pre><b>In a Jupyter environment, please rerun this cell to show the HTML representation or trust the notebook. <br />On GitHub, the HTML representation is unable to render, please try loading this page with nbviewer.org.</b></div><div class=\"sk-container\" hidden><div class=\"sk-item\"><div class=\"sk-estimator sk-toggleable\"><input class=\"sk-toggleable__control sk-hidden--visually\" id=\"sk-estimator-id-17\" type=\"checkbox\" checked><label for=\"sk-estimator-id-17\" class=\"sk-toggleable__label sk-toggleable__label-arrow\">RandomForestClassifier</label><div class=\"sk-toggleable__content\"><pre>RandomForestClassifier(max_depth=8, n_estimators=500)</pre></div></div></div></div></div>"
      ],
      "text/plain": [
       "RandomForestClassifier(max_depth=8, n_estimators=500)"
      ]
     },
     "execution_count": 45,
     "metadata": {},
     "output_type": "execute_result"
    }
   ],
   "source": [
    "rf = RandomForestClassifier(max_depth=8, \n",
    "                                n_estimators=500)\n",
    "rf.fit(seeds_train[features],seeds_train.y)"
   ]
  },
  {
   "cell_type": "code",
   "execution_count": 46,
   "id": "ded1716d",
   "metadata": {},
   "outputs": [
    {
     "data": {
      "text/plain": [
       "0.9422222222222222"
      ]
     },
     "execution_count": 46,
     "metadata": {},
     "output_type": "execute_result"
    }
   ],
   "source": [
    "accuracy_score(seeds_train.y,rf.predict(seeds_train[features]))"
   ]
  },
  {
   "cell_type": "code",
   "execution_count": 47,
   "id": "94fb3c90",
   "metadata": {},
   "outputs": [
    {
     "data": {
      "text/plain": [
       "0.86"
      ]
     },
     "execution_count": 47,
     "metadata": {},
     "output_type": "execute_result"
    }
   ],
   "source": [
    "accuracy_score(seeds_test.y,rf.predict(seeds_test[features]))"
   ]
  },
  {
   "cell_type": "code",
   "execution_count": 48,
   "id": "24ca5ee7-75a9-44f6-8ea6-67ba8c9e835b",
   "metadata": {},
   "outputs": [
    {
     "data": {
      "text/html": [
       "<style>#sk-container-id-7 {color: black;background-color: white;}#sk-container-id-7 pre{padding: 0;}#sk-container-id-7 div.sk-toggleable {background-color: white;}#sk-container-id-7 label.sk-toggleable__label {cursor: pointer;display: block;width: 100%;margin-bottom: 0;padding: 0.3em;box-sizing: border-box;text-align: center;}#sk-container-id-7 label.sk-toggleable__label-arrow:before {content: \"▸\";float: left;margin-right: 0.25em;color: #696969;}#sk-container-id-7 label.sk-toggleable__label-arrow:hover:before {color: black;}#sk-container-id-7 div.sk-estimator:hover label.sk-toggleable__label-arrow:before {color: black;}#sk-container-id-7 div.sk-toggleable__content {max-height: 0;max-width: 0;overflow: hidden;text-align: left;background-color: #f0f8ff;}#sk-container-id-7 div.sk-toggleable__content pre {margin: 0.2em;color: black;border-radius: 0.25em;background-color: #f0f8ff;}#sk-container-id-7 input.sk-toggleable__control:checked~div.sk-toggleable__content {max-height: 200px;max-width: 100%;overflow: auto;}#sk-container-id-7 input.sk-toggleable__control:checked~label.sk-toggleable__label-arrow:before {content: \"▾\";}#sk-container-id-7 div.sk-estimator input.sk-toggleable__control:checked~label.sk-toggleable__label {background-color: #d4ebff;}#sk-container-id-7 div.sk-label input.sk-toggleable__control:checked~label.sk-toggleable__label {background-color: #d4ebff;}#sk-container-id-7 input.sk-hidden--visually {border: 0;clip: rect(1px 1px 1px 1px);clip: rect(1px, 1px, 1px, 1px);height: 1px;margin: -1px;overflow: hidden;padding: 0;position: absolute;width: 1px;}#sk-container-id-7 div.sk-estimator {font-family: monospace;background-color: #f0f8ff;border: 1px dotted black;border-radius: 0.25em;box-sizing: border-box;margin-bottom: 0.5em;}#sk-container-id-7 div.sk-estimator:hover {background-color: #d4ebff;}#sk-container-id-7 div.sk-parallel-item::after {content: \"\";width: 100%;border-bottom: 1px solid gray;flex-grow: 1;}#sk-container-id-7 div.sk-label:hover label.sk-toggleable__label {background-color: #d4ebff;}#sk-container-id-7 div.sk-serial::before {content: \"\";position: absolute;border-left: 1px solid gray;box-sizing: border-box;top: 0;bottom: 0;left: 50%;z-index: 0;}#sk-container-id-7 div.sk-serial {display: flex;flex-direction: column;align-items: center;background-color: white;padding-right: 0.2em;padding-left: 0.2em;position: relative;}#sk-container-id-7 div.sk-item {position: relative;z-index: 1;}#sk-container-id-7 div.sk-parallel {display: flex;align-items: stretch;justify-content: center;background-color: white;position: relative;}#sk-container-id-7 div.sk-item::before, #sk-container-id-7 div.sk-parallel-item::before {content: \"\";position: absolute;border-left: 1px solid gray;box-sizing: border-box;top: 0;bottom: 0;left: 50%;z-index: -1;}#sk-container-id-7 div.sk-parallel-item {display: flex;flex-direction: column;z-index: 1;position: relative;background-color: white;}#sk-container-id-7 div.sk-parallel-item:first-child::after {align-self: flex-end;width: 50%;}#sk-container-id-7 div.sk-parallel-item:last-child::after {align-self: flex-start;width: 50%;}#sk-container-id-7 div.sk-parallel-item:only-child::after {width: 0;}#sk-container-id-7 div.sk-dashed-wrapped {border: 1px dashed gray;margin: 0 0.4em 0.5em 0.4em;box-sizing: border-box;padding-bottom: 0.4em;background-color: white;}#sk-container-id-7 div.sk-label label {font-family: monospace;font-weight: bold;display: inline-block;line-height: 1.2em;}#sk-container-id-7 div.sk-label-container {text-align: center;}#sk-container-id-7 div.sk-container {/* jupyter's `normalize.less` sets `[hidden] { display: none; }` but bootstrap.min.css set `[hidden] { display: none !important; }` so we also need the `!important` here to be able to override the default hidden behavior on the sphinx rendered scikit-learn.org. See: https://github.com/scikit-learn/scikit-learn/issues/21755 */display: inline-block !important;position: relative;}#sk-container-id-7 div.sk-text-repr-fallback {display: none;}</style><div id=\"sk-container-id-7\" class=\"sk-top-container\"><div class=\"sk-text-repr-fallback\"><pre>VotingClassifier(estimators=[(&#x27;log_reg&#x27;,\n",
       "                              Pipeline(steps=[(&#x27;get_column&#x27;,\n",
       "                                               FunctionTransformer(func=&lt;function get_single_feature at 0x0000023C2F251D30&gt;)),\n",
       "                                              (&#x27;log_reg&#x27;,\n",
       "                                               LogisticRegression())])),\n",
       "                             (&#x27;AdaBoost&#x27;,\n",
       "                              AdaBoostClassifier(base_estimator=DecisionTreeClassifier(max_depth=2),\n",
       "                                                 learning_rate=1,\n",
       "                                                 n_estimators=7,\n",
       "                                                 random_state=1)),\n",
       "                             (&#x27;KNN&#x27;,\n",
       "                              Pipeline(steps=[(&#x27;scale&#x27;, StandardScaler()),\n",
       "                                              (&#x27;pca&#x27;, PCA(n_components=3)),\n",
       "                                              (&#x27;knn&#x27;,\n",
       "                                               KNeighborsClassifier(n_neighbors=38))])),\n",
       "                             (&#x27;QDA&#x27;,\n",
       "                              Pipeline(steps=[(&#x27;scale&#x27;, StandardScaler()),\n",
       "                                              (&#x27;qda&#x27;,\n",
       "                                               QuadraticDiscriminantAnalysis())])),\n",
       "                             (&#x27;SVM&#x27;,\n",
       "                              Pipeline(steps=[(&#x27;scale&#x27;, StandardScaler()),\n",
       "                                              (&#x27;svm&#x27;, SVC(C=30))])),\n",
       "                             (&#x27;R.F.&#x27;,\n",
       "                              RandomForestClassifier(max_depth=8,\n",
       "                                                     n_estimators=500))])</pre><b>In a Jupyter environment, please rerun this cell to show the HTML representation or trust the notebook. <br />On GitHub, the HTML representation is unable to render, please try loading this page with nbviewer.org.</b></div><div class=\"sk-container\" hidden><div class=\"sk-item sk-dashed-wrapped\"><div class=\"sk-label-container\"><div class=\"sk-label sk-toggleable\"><input class=\"sk-toggleable__control sk-hidden--visually\" id=\"sk-estimator-id-18\" type=\"checkbox\" ><label for=\"sk-estimator-id-18\" class=\"sk-toggleable__label sk-toggleable__label-arrow\">VotingClassifier</label><div class=\"sk-toggleable__content\"><pre>VotingClassifier(estimators=[(&#x27;log_reg&#x27;,\n",
       "                              Pipeline(steps=[(&#x27;get_column&#x27;,\n",
       "                                               FunctionTransformer(func=&lt;function get_single_feature at 0x0000023C2F251D30&gt;)),\n",
       "                                              (&#x27;log_reg&#x27;,\n",
       "                                               LogisticRegression())])),\n",
       "                             (&#x27;AdaBoost&#x27;,\n",
       "                              AdaBoostClassifier(base_estimator=DecisionTreeClassifier(max_depth=2),\n",
       "                                                 learning_rate=1,\n",
       "                                                 n_estimators=7,\n",
       "                                                 random_state=1)),\n",
       "                             (&#x27;KNN&#x27;,\n",
       "                              Pipeline(steps=[(&#x27;scale&#x27;, StandardScaler()),\n",
       "                                              (&#x27;pca&#x27;, PCA(n_components=3)),\n",
       "                                              (&#x27;knn&#x27;,\n",
       "                                               KNeighborsClassifier(n_neighbors=38))])),\n",
       "                             (&#x27;QDA&#x27;,\n",
       "                              Pipeline(steps=[(&#x27;scale&#x27;, StandardScaler()),\n",
       "                                              (&#x27;qda&#x27;,\n",
       "                                               QuadraticDiscriminantAnalysis())])),\n",
       "                             (&#x27;SVM&#x27;,\n",
       "                              Pipeline(steps=[(&#x27;scale&#x27;, StandardScaler()),\n",
       "                                              (&#x27;svm&#x27;, SVC(C=30))])),\n",
       "                             (&#x27;R.F.&#x27;,\n",
       "                              RandomForestClassifier(max_depth=8,\n",
       "                                                     n_estimators=500))])</pre></div></div></div><div class=\"sk-parallel\"><div class=\"sk-parallel-item\"><div class=\"sk-item\"><div class=\"sk-label-container\"><div class=\"sk-label sk-toggleable\"><label>log_reg</label></div></div><div class=\"sk-serial\"><div class=\"sk-item\"><div class=\"sk-serial\"><div class=\"sk-item\"><div class=\"sk-estimator sk-toggleable\"><input class=\"sk-toggleable__control sk-hidden--visually\" id=\"sk-estimator-id-19\" type=\"checkbox\" ><label for=\"sk-estimator-id-19\" class=\"sk-toggleable__label sk-toggleable__label-arrow\">FunctionTransformer</label><div class=\"sk-toggleable__content\"><pre>FunctionTransformer(func=&lt;function get_single_feature at 0x0000023C2F251D30&gt;)</pre></div></div></div><div class=\"sk-item\"><div class=\"sk-estimator sk-toggleable\"><input class=\"sk-toggleable__control sk-hidden--visually\" id=\"sk-estimator-id-20\" type=\"checkbox\" ><label for=\"sk-estimator-id-20\" class=\"sk-toggleable__label sk-toggleable__label-arrow\">LogisticRegression</label><div class=\"sk-toggleable__content\"><pre>LogisticRegression()</pre></div></div></div></div></div></div></div></div><div class=\"sk-parallel-item\"><div class=\"sk-item\"><div class=\"sk-label-container\"><div class=\"sk-label sk-toggleable\"><label>AdaBoost</label></div></div><div class=\"sk-serial\"><div class=\"sk-item sk-dashed-wrapped\"><div class=\"sk-parallel\"><div class=\"sk-parallel-item\"><div class=\"sk-item\"><div class=\"sk-label-container\"><div class=\"sk-label sk-toggleable\"><input class=\"sk-toggleable__control sk-hidden--visually\" id=\"sk-estimator-id-21\" type=\"checkbox\" ><label for=\"sk-estimator-id-21\" class=\"sk-toggleable__label sk-toggleable__label-arrow\">base_estimator: DecisionTreeClassifier</label><div class=\"sk-toggleable__content\"><pre>DecisionTreeClassifier(max_depth=2)</pre></div></div></div><div class=\"sk-serial\"><div class=\"sk-item\"><div class=\"sk-estimator sk-toggleable\"><input class=\"sk-toggleable__control sk-hidden--visually\" id=\"sk-estimator-id-22\" type=\"checkbox\" ><label for=\"sk-estimator-id-22\" class=\"sk-toggleable__label sk-toggleable__label-arrow\">DecisionTreeClassifier</label><div class=\"sk-toggleable__content\"><pre>DecisionTreeClassifier(max_depth=2)</pre></div></div></div></div></div></div></div></div></div></div></div><div class=\"sk-parallel-item\"><div class=\"sk-item\"><div class=\"sk-label-container\"><div class=\"sk-label sk-toggleable\"><label>KNN</label></div></div><div class=\"sk-serial\"><div class=\"sk-item\"><div class=\"sk-serial\"><div class=\"sk-item\"><div class=\"sk-estimator sk-toggleable\"><input class=\"sk-toggleable__control sk-hidden--visually\" id=\"sk-estimator-id-23\" type=\"checkbox\" ><label for=\"sk-estimator-id-23\" class=\"sk-toggleable__label sk-toggleable__label-arrow\">StandardScaler</label><div class=\"sk-toggleable__content\"><pre>StandardScaler()</pre></div></div></div><div class=\"sk-item\"><div class=\"sk-estimator sk-toggleable\"><input class=\"sk-toggleable__control sk-hidden--visually\" id=\"sk-estimator-id-24\" type=\"checkbox\" ><label for=\"sk-estimator-id-24\" class=\"sk-toggleable__label sk-toggleable__label-arrow\">PCA</label><div class=\"sk-toggleable__content\"><pre>PCA(n_components=3)</pre></div></div></div><div class=\"sk-item\"><div class=\"sk-estimator sk-toggleable\"><input class=\"sk-toggleable__control sk-hidden--visually\" id=\"sk-estimator-id-25\" type=\"checkbox\" ><label for=\"sk-estimator-id-25\" class=\"sk-toggleable__label sk-toggleable__label-arrow\">KNeighborsClassifier</label><div class=\"sk-toggleable__content\"><pre>KNeighborsClassifier(n_neighbors=38)</pre></div></div></div></div></div></div></div></div><div class=\"sk-parallel-item\"><div class=\"sk-item\"><div class=\"sk-label-container\"><div class=\"sk-label sk-toggleable\"><label>QDA</label></div></div><div class=\"sk-serial\"><div class=\"sk-item\"><div class=\"sk-serial\"><div class=\"sk-item\"><div class=\"sk-estimator sk-toggleable\"><input class=\"sk-toggleable__control sk-hidden--visually\" id=\"sk-estimator-id-26\" type=\"checkbox\" ><label for=\"sk-estimator-id-26\" class=\"sk-toggleable__label sk-toggleable__label-arrow\">StandardScaler</label><div class=\"sk-toggleable__content\"><pre>StandardScaler()</pre></div></div></div><div class=\"sk-item\"><div class=\"sk-estimator sk-toggleable\"><input class=\"sk-toggleable__control sk-hidden--visually\" id=\"sk-estimator-id-27\" type=\"checkbox\" ><label for=\"sk-estimator-id-27\" class=\"sk-toggleable__label sk-toggleable__label-arrow\">QuadraticDiscriminantAnalysis</label><div class=\"sk-toggleable__content\"><pre>QuadraticDiscriminantAnalysis()</pre></div></div></div></div></div></div></div></div><div class=\"sk-parallel-item\"><div class=\"sk-item\"><div class=\"sk-label-container\"><div class=\"sk-label sk-toggleable\"><label>SVM</label></div></div><div class=\"sk-serial\"><div class=\"sk-item\"><div class=\"sk-serial\"><div class=\"sk-item\"><div class=\"sk-estimator sk-toggleable\"><input class=\"sk-toggleable__control sk-hidden--visually\" id=\"sk-estimator-id-28\" type=\"checkbox\" ><label for=\"sk-estimator-id-28\" class=\"sk-toggleable__label sk-toggleable__label-arrow\">StandardScaler</label><div class=\"sk-toggleable__content\"><pre>StandardScaler()</pre></div></div></div><div class=\"sk-item\"><div class=\"sk-estimator sk-toggleable\"><input class=\"sk-toggleable__control sk-hidden--visually\" id=\"sk-estimator-id-29\" type=\"checkbox\" ><label for=\"sk-estimator-id-29\" class=\"sk-toggleable__label sk-toggleable__label-arrow\">SVC</label><div class=\"sk-toggleable__content\"><pre>SVC(C=30)</pre></div></div></div></div></div></div></div></div><div class=\"sk-parallel-item\"><div class=\"sk-item\"><div class=\"sk-label-container\"><div class=\"sk-label sk-toggleable\"><label>R.F.</label></div></div><div class=\"sk-serial\"><div class=\"sk-item\"><div class=\"sk-estimator sk-toggleable\"><input class=\"sk-toggleable__control sk-hidden--visually\" id=\"sk-estimator-id-30\" type=\"checkbox\" ><label for=\"sk-estimator-id-30\" class=\"sk-toggleable__label sk-toggleable__label-arrow\">RandomForestClassifier</label><div class=\"sk-toggleable__content\"><pre>RandomForestClassifier(max_depth=8, n_estimators=500)</pre></div></div></div></div></div></div></div></div></div></div>"
      ],
      "text/plain": [
       "VotingClassifier(estimators=[('log_reg',\n",
       "                              Pipeline(steps=[('get_column',\n",
       "                                               FunctionTransformer(func=<function get_single_feature at 0x0000023C2F251D30>)),\n",
       "                                              ('log_reg',\n",
       "                                               LogisticRegression())])),\n",
       "                             ('AdaBoost',\n",
       "                              AdaBoostClassifier(base_estimator=DecisionTreeClassifier(max_depth=2),\n",
       "                                                 learning_rate=1,\n",
       "                                                 n_estimators=7,\n",
       "                                                 random_state=1)),\n",
       "                             ('KNN',\n",
       "                              Pipeline(steps=[('scale', StandardScaler()),\n",
       "                                              ('pca', PCA(n_components=3)),\n",
       "                                              ('knn',\n",
       "                                               KNeighborsClassifier(n_neighbors=38))])),\n",
       "                             ('QDA',\n",
       "                              Pipeline(steps=[('scale', StandardScaler()),\n",
       "                                              ('qda',\n",
       "                                               QuadraticDiscriminantAnalysis())])),\n",
       "                             ('SVM',\n",
       "                              Pipeline(steps=[('scale', StandardScaler()),\n",
       "                                              ('svm', SVC(C=30))])),\n",
       "                             ('R.F.',\n",
       "                              RandomForestClassifier(max_depth=8,\n",
       "                                                     n_estimators=500))])"
      ]
     },
     "execution_count": 48,
     "metadata": {},
     "output_type": "execute_result"
    }
   ],
   "source": [
    "vote = VotingClassifier([('log_reg', Pipeline([('get_column', FunctionTransformer(get_single_feature)),\n",
    "                                                 ('log_reg', LogisticRegression())])),\n",
    "                            (\"AdaBoost\", AdaBoostClassifier(learning_rate = 1,base_estimator=DecisionTreeClassifier(max_depth=2),random_state=1,n_estimators=7)),\n",
    "                         (\"KNN\", Pipeline([('scale', StandardScaler()),\n",
    "                   ('pca', PCA(3)),\n",
    "                   ('knn', KNeighborsClassifier(38))])),\n",
    "                         (\"QDA\", Pipeline([('scale', StandardScaler()),\n",
    "                    ('qda', QuadraticDiscriminantAnalysis())])),\n",
    "                         (\"SVM\", Pipeline([('scale', StandardScaler()),\n",
    "                   ('svm', SVC(C = 30))])),\n",
    "                         (\"R.F.\",RandomForestClassifier(max_depth=8, \n",
    "                            n_estimators=500))])\n",
    "\n",
    "vote.fit(seeds_train[features],seeds_train.y)"
   ]
  },
  {
   "cell_type": "code",
   "execution_count": 49,
   "id": "3cdc4475-c634-4876-90ea-68538c6019d0",
   "metadata": {},
   "outputs": [
    {
     "data": {
      "text/plain": [
       "0.9031111111111111"
      ]
     },
     "execution_count": 49,
     "metadata": {},
     "output_type": "execute_result"
    }
   ],
   "source": [
    "accuracy_score(seeds_train.y,vote.predict(seeds_train[features]))"
   ]
  },
  {
   "cell_type": "code",
   "execution_count": 50,
   "id": "ace319bb-3b1b-4c92-980f-00f7c58ab8b7",
   "metadata": {},
   "outputs": [
    {
     "data": {
      "text/plain": [
       "0.868"
      ]
     },
     "execution_count": 50,
     "metadata": {},
     "output_type": "execute_result"
    }
   ],
   "source": [
    "accuracy_score(seeds_test.y,vote.predict(seeds_test[features]))"
   ]
  },
  {
   "cell_type": "markdown",
   "id": "5072aef9",
   "metadata": {},
   "source": [
    "#### 5. Considering other metrics\n",
    "\n",
    "##### a.\n",
    "\n",
    "In this classification problem we only considered accuracy, which was reasonable given the problem as well as the near $50\\%-50\\%$ split of the two pumpkin seed classes.\n",
    "\n",
    "Describe a situation in which you would want to consider a metric other than accuracy."
   ]
  },
  {
   "cell_type": "markdown",
   "id": "536885fe",
   "metadata": {},
   "source": [
    "##### Write your answer here"
   ]
  },
  {
   "cell_type": "code",
   "execution_count": null,
   "id": "dfadc2b9",
   "metadata": {},
   "outputs": [],
   "source": []
  },
  {
   "cell_type": "markdown",
   "id": "ab4798f8",
   "metadata": {},
   "source": [
    "--------------------------\n",
    "\n",
    "This notebook was written for the Erd&#337;s Institute C&#337;de Data Science Boot Camp by Matthew Osborne, Ph. D., 2022.\n",
    "\n",
    "Any potential redistributors must seek and receive permission from Matthew Tyler Osborne, Ph.D. prior to redistribution. Redistribution of the material contained in this repository is conditional on acknowledgement of Matthew Tyler Osborne, Ph.D.'s original authorship and sponsorship of the Erdős Institute as subject to the license (see License.md)"
   ]
  },
  {
   "cell_type": "code",
   "execution_count": null,
   "id": "396720c8",
   "metadata": {},
   "outputs": [],
   "source": []
  }
 ],
 "metadata": {
  "kernelspec": {
   "display_name": "Python 3 (ipykernel)",
   "language": "python",
   "name": "python3"
  },
  "language_info": {
   "codemirror_mode": {
    "name": "ipython",
    "version": 3
   },
   "file_extension": ".py",
   "mimetype": "text/x-python",
   "name": "python",
   "nbconvert_exporter": "python",
   "pygments_lexer": "ipython3",
   "version": "3.9.12"
  }
 },
 "nbformat": 4,
 "nbformat_minor": 5
}
