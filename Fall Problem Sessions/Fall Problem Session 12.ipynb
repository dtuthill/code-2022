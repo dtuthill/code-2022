{
 "cells": [
  {
   "cell_type": "markdown",
   "id": "92d8db5c",
   "metadata": {},
   "source": [
    "# Fall Problem Session 12\n",
    "## CIFAR-10 II\n",
    "\n",
    "In this notebook you will continue to create neural networks to classify the images of the CIFAR-10 data, <a href=\"https://www.cs.toronto.edu/~kriz/cifar.html\">https://www.cs.toronto.edu/~kriz/cifar.html</a>. You will make convolutional neural networks (CNNs) and see if they improve upon the feed forward networks from `Fall Problem Session 11`.\n",
    "\n",
    "In particular, this material will touch on the following lecture notebooks:\n",
    "- `Lectures/Neural Networks/2. The MNIST Data Set`,\n",
    "- `Lectures/Neural Networks/3. Multilayer Neural Networks`,\n",
    "- `Lectures/Neural Networks/4. keras`,\n",
    "- `Lectures/Neural Networks/5. Introduction to Convolutional Neural Networks` and\n",
    "- `Lectures/Neural Networks/7. Loading Pre-Trained Models`."
   ]
  },
  {
   "cell_type": "code",
   "execution_count": 4,
   "id": "a2acce87",
   "metadata": {},
   "outputs": [],
   "source": [
    "import pandas as pd\n",
    "import numpy as np\n",
    "import matplotlib.pyplot as plt\n",
    "import seaborn as sns\n",
    "\n",
    "sns.set_style(\"whitegrid\")"
   ]
  },
  {
   "cell_type": "markdown",
   "id": "3d607038",
   "metadata": {},
   "source": [
    "#### 1. Load and prepare the data\n",
    "\n",
    "Load the `cifar10` data from `keras.datasets`, scale the pixel values and make a validation split."
   ]
  },
  {
   "cell_type": "code",
   "execution_count": 5,
   "id": "83a187a5",
   "metadata": {},
   "outputs": [],
   "source": [
    "## import cifar10 from keras.datasets\n",
    "from keras.datasets import cifar10\n",
    "\n",
    "\n",
    "## import train_test_split\n",
    "from sklearn.model_selection import train_test_split"
   ]
  },
  {
   "cell_type": "code",
   "execution_count": 7,
   "id": "44e82d3b",
   "metadata": {},
   "outputs": [],
   "source": [
    "## Load the data\n",
    "(x_train, y_train), (x_test, y_test)=cifar10.load_data()\n",
    "\n",
    "## scale the data\n",
    "x_train_scale = x_train/255\n",
    "x_test_scale = x_test/255\n"
   ]
  },
  {
   "cell_type": "code",
   "execution_count": 8,
   "id": "94602b62",
   "metadata": {},
   "outputs": [],
   "source": [
    "## make the validation set\n",
    "x_tt,x_val,y_tt,y_val = train_test_split(x_train_scale,\n",
    "                                         y_train,\n",
    "                                        shuffle=True,\n",
    "                                        test_size = 0.1,\n",
    "                                        random_state = 100,\n",
    "                                        stratify = y_train)\n"
   ]
  },
  {
   "cell_type": "markdown",
   "id": "b777fea1",
   "metadata": {},
   "source": [
    "#### 2. A first convolutional neural network\n",
    "\n",
    "In this problem you will make your first CNN. \n",
    "\n",
    "##### a. \n",
    "\n",
    "First import everything you will need from `keras`."
   ]
  },
  {
   "cell_type": "code",
   "execution_count": 9,
   "id": "4564d3d8",
   "metadata": {},
   "outputs": [],
   "source": [
    "## Import what you need from keras\n",
    "from keras import models\n",
    "from keras import layers\n",
    "from keras import optimizers\n",
    "from keras import losses\n",
    "from keras import metrics\n",
    "from keras.utils.np_utils import to_categorical\n",
    "\n"
   ]
  },
  {
   "cell_type": "markdown",
   "id": "f76cc685",
   "metadata": {},
   "source": [
    "##### b.\n",
    "\n",
    "Try building a CNN with a single convolutional layer of depth $8$ using a $3\\times 3$ filter followed by a pooling layer using a $2\\times 2$ filter with size $2$ strides.\n",
    "\n",
    "Remember that the `X` data here has a different shape than the `X` for the MNIST data. This should impact what you place in the `input_shape` argument of the first convolutional layer.\n",
    "\n",
    "<i>If training this network seems slow to the point of being unworkable, try changing the depth from $8$ to $4$.</i>"
   ]
  },
  {
   "cell_type": "code",
   "execution_count": 35,
   "id": "3c65b0b8",
   "metadata": {},
   "outputs": [],
   "source": [
    "## Make an empty sequential model\n",
    "model1 = models.Sequential()\n",
    "\n",
    "## Add the convolutional layer here\n",
    "model1.add(layers.Conv2D(8,(3,3),activation='relu',input_shape=(32,32,3,)))\n",
    "\n",
    "## Add the pooling layer here\n",
    "model1.add(layers.MaxPooling2D((2,2),strides=2))\n",
    "\n",
    "## Add the flatten layer\n",
    "model1.add(layers.Flatten())\n",
    "\n",
    "## Add the feed forward layer, use 100 nodes\n",
    "model1.add(layers.Dense(100,activation='relu'))\n",
    "\n",
    "## Add the output layer\n",
    "model1.add(layers.Dense(10,activation='softmax'))\n",
    "\n",
    "## Same compile step from notebook 11\n",
    "model1.compile(optimizer = 'rmsprop',\n",
    "                 loss = 'categorical_crossentropy',\n",
    "                 metrics = ['accuracy'])"
   ]
  },
  {
   "cell_type": "code",
   "execution_count": 36,
   "id": "cc3838e4-31a5-4a6c-a006-62a35b444784",
   "metadata": {},
   "outputs": [
    {
     "name": "stdout",
     "output_type": "stream",
     "text": [
      "Model: \"sequential_2\"\n",
      "_________________________________________________________________\n",
      " Layer (type)                Output Shape              Param #   \n",
      "=================================================================\n",
      " conv2d_1 (Conv2D)           (None, 30, 30, 8)         224       \n",
      "                                                                 \n",
      " max_pooling2d_1 (MaxPooling  (None, 15, 15, 8)        0         \n",
      " 2D)                                                             \n",
      "                                                                 \n",
      " flatten_1 (Flatten)         (None, 1800)              0         \n",
      "                                                                 \n",
      " dense_2 (Dense)             (None, 100)               180100    \n",
      "                                                                 \n",
      " dense_3 (Dense)             (None, 10)                1010      \n",
      "                                                                 \n",
      "=================================================================\n",
      "Total params: 181,334\n",
      "Trainable params: 181,334\n",
      "Non-trainable params: 0\n",
      "_________________________________________________________________\n"
     ]
    }
   ],
   "source": [
    "model1.summary()"
   ]
  },
  {
   "cell_type": "code",
   "execution_count": 45,
   "id": "85247622-a9ec-4dab-8f1c-19cd8222aa43",
   "metadata": {},
   "outputs": [
    {
     "name": "stdout",
     "output_type": "stream",
     "text": [
      "(32, 32, 3) (32, 32, 3)\n"
     ]
    }
   ],
   "source": [
    "print(x_tt.shape[1:],x_train.shape[1:])"
   ]
  },
  {
   "cell_type": "code",
   "execution_count": 37,
   "id": "8c0f282c",
   "metadata": {
    "scrolled": true
   },
   "outputs": [
    {
     "name": "stdout",
     "output_type": "stream",
     "text": [
      "Epoch 1/25\n",
      "88/88 [==============================] - 6s 68ms/step - loss: 1.8671 - accuracy: 0.3364 - val_loss: 1.7289 - val_accuracy: 0.3804\n",
      "Epoch 2/25\n",
      "88/88 [==============================] - 6s 65ms/step - loss: 1.6506 - accuracy: 0.4207 - val_loss: 1.6110 - val_accuracy: 0.4524\n",
      "Epoch 3/25\n",
      "88/88 [==============================] - 5s 60ms/step - loss: 1.5548 - accuracy: 0.4555 - val_loss: 1.5282 - val_accuracy: 0.4652\n",
      "Epoch 4/25\n",
      "88/88 [==============================] - 5s 58ms/step - loss: 1.4945 - accuracy: 0.4780 - val_loss: 1.4869 - val_accuracy: 0.4852\n",
      "Epoch 5/25\n",
      "88/88 [==============================] - 5s 52ms/step - loss: 1.4367 - accuracy: 0.4980 - val_loss: 1.3981 - val_accuracy: 0.5076\n",
      "Epoch 6/25\n",
      "88/88 [==============================] - 5s 52ms/step - loss: 1.3934 - accuracy: 0.5106 - val_loss: 1.4293 - val_accuracy: 0.4884\n",
      "Epoch 7/25\n",
      "88/88 [==============================] - 5s 56ms/step - loss: 1.3588 - accuracy: 0.5247 - val_loss: 1.3971 - val_accuracy: 0.5084\n",
      "Epoch 8/25\n",
      "88/88 [==============================] - 5s 61ms/step - loss: 1.3215 - accuracy: 0.5390 - val_loss: 1.3218 - val_accuracy: 0.5458\n",
      "Epoch 9/25\n",
      "88/88 [==============================] - 5s 61ms/step - loss: 1.2906 - accuracy: 0.5522 - val_loss: 1.3974 - val_accuracy: 0.5200\n",
      "Epoch 10/25\n",
      "88/88 [==============================] - 5s 56ms/step - loss: 1.2641 - accuracy: 0.5605 - val_loss: 1.3746 - val_accuracy: 0.5194\n",
      "Epoch 11/25\n",
      "88/88 [==============================] - 5s 55ms/step - loss: 1.2415 - accuracy: 0.5674 - val_loss: 1.3699 - val_accuracy: 0.5120\n",
      "Epoch 12/25\n",
      "88/88 [==============================] - 5s 54ms/step - loss: 1.2190 - accuracy: 0.5761 - val_loss: 1.3131 - val_accuracy: 0.5406\n",
      "Epoch 13/25\n",
      "88/88 [==============================] - 4s 51ms/step - loss: 1.1970 - accuracy: 0.5840 - val_loss: 1.3596 - val_accuracy: 0.5194\n",
      "Epoch 14/25\n",
      "88/88 [==============================] - 4s 50ms/step - loss: 1.1773 - accuracy: 0.5907 - val_loss: 1.2539 - val_accuracy: 0.5676\n",
      "Epoch 15/25\n",
      "88/88 [==============================] - 4s 50ms/step - loss: 1.1524 - accuracy: 0.5995 - val_loss: 1.2581 - val_accuracy: 0.5540\n",
      "Epoch 16/25\n",
      "88/88 [==============================] - 4s 51ms/step - loss: 1.1351 - accuracy: 0.6064 - val_loss: 1.3012 - val_accuracy: 0.5464\n",
      "Epoch 17/25\n",
      "88/88 [==============================] - 5s 51ms/step - loss: 1.1172 - accuracy: 0.6126 - val_loss: 1.2443 - val_accuracy: 0.5664\n",
      "Epoch 18/25\n",
      "88/88 [==============================] - 4s 51ms/step - loss: 1.0982 - accuracy: 0.6184 - val_loss: 1.3205 - val_accuracy: 0.5500\n",
      "Epoch 19/25\n",
      "88/88 [==============================] - 4s 50ms/step - loss: 1.0821 - accuracy: 0.6264 - val_loss: 1.2057 - val_accuracy: 0.5760\n",
      "Epoch 20/25\n",
      "88/88 [==============================] - 4s 49ms/step - loss: 1.0677 - accuracy: 0.6288 - val_loss: 1.2153 - val_accuracy: 0.5692\n",
      "Epoch 21/25\n",
      "88/88 [==============================] - 5s 52ms/step - loss: 1.0460 - accuracy: 0.6369 - val_loss: 1.2229 - val_accuracy: 0.5692\n",
      "Epoch 22/25\n",
      "88/88 [==============================] - 5s 53ms/step - loss: 1.0311 - accuracy: 0.6429 - val_loss: 1.2306 - val_accuracy: 0.5676\n",
      "Epoch 23/25\n",
      "88/88 [==============================] - 4s 50ms/step - loss: 1.0172 - accuracy: 0.6468 - val_loss: 1.1880 - val_accuracy: 0.5854\n",
      "Epoch 24/25\n",
      "88/88 [==============================] - 4s 49ms/step - loss: 0.9994 - accuracy: 0.6524 - val_loss: 1.2121 - val_accuracy: 0.5778\n",
      "Epoch 25/25\n",
      "88/88 [==============================] - 4s 50ms/step - loss: 0.9884 - accuracy: 0.6571 - val_loss: 1.1958 - val_accuracy: 0.5826\n"
     ]
    }
   ],
   "source": [
    "## fit the model for 25 epochs, this can take a little bit\n",
    "## remember the validation data argument.\n",
    "n_epochs=25\n",
    "history1 = model1.fit(x_tt, \n",
    "                      to_categorical(y_tt), \n",
    "                      epochs=n_epochs, \n",
    "                      batch_size=512,\n",
    "                      validation_data=(x_val,to_categorical(y_val)))\n",
    "\n",
    "history_dict1 = history1.history"
   ]
  },
  {
   "cell_type": "code",
   "execution_count": 40,
   "id": "426f2239",
   "metadata": {},
   "outputs": [
    {
     "data": {
      "image/png": "[encoded data removed]",
      "text/plain": [
       "<Figure size 1000x600 with 1 Axes>"
      ]
     },
     "metadata": {},
     "output_type": "display_data"
    }
   ],
   "source": [
    "## Plot the training set accuracy and the validation set accuracy\n",
    "## against the number of epochs trained\n",
    "plt.figure(figsize=(10,6))\n",
    "\n",
    "plt.scatter(range(1,n_epochs+1), \n",
    "            history_dict1['accuracy'], \n",
    "            label=\"Training Data\")\n",
    "plt.scatter(range(1,n_epochs+1), \n",
    "            history_dict1['val_accuracy'], \n",
    "            marker='v',\n",
    "            label=\"Validation Data\")\n",
    "\n",
    "plt.xlabel(\"Epoch\", fontsize=18)\n",
    "plt.ylabel(\"Accuracy\", fontsize=18)\n",
    "\n",
    "plt.xticks(fontsize=14)\n",
    "plt.yticks(fontsize=14)\n",
    "\n",
    "plt.legend(fontsize=14)\n",
    "\n",
    "\n",
    "plt.show()"
   ]
  },
  {
   "cell_type": "markdown",
   "id": "7526a61f",
   "metadata": {},
   "source": [
    "#### 3. A CNN with padding\n",
    "\n",
    "##### a.\n",
    "\n",
    "Add in the `padding='same'` argument to the convolutional layer from the network above. Fit this network."
   ]
  },
  {
   "cell_type": "markdown",
   "id": "8073fc56",
   "metadata": {},
   "source": [
    "##### Sample Solution"
   ]
  },
  {
   "cell_type": "code",
   "execution_count": 42,
   "id": "9b7a7789",
   "metadata": {},
   "outputs": [],
   "source": [
    "## Make an empty sequential model\n",
    "model2 = models.Sequential()\n",
    "\n",
    "## Add the convolutional layer here\n",
    "## remember the padding='same' argument\n",
    "model2.add(layers.Conv2D(8,(3,3),activation='relu',input_shape=x_tt.shape[1:],padding='same'))\n",
    "\n",
    "## Add the pooling layer here\n",
    "model2.add(layers.MaxPooling2D((2,2), strides=2))\n",
    "\n",
    "## Add the flatten layer\n",
    "model2.add(layers.Flatten())\n",
    "\n",
    "## Add the feed forward layer, use 100 nodes\n",
    "model2.add(layers.Dense(100, activation='relu'))\n",
    "\n",
    "## Add the output layer\n",
    "model2.add(layers.Dense(10, activation='softmax'))\n",
    "\n",
    "## Some compile step from notebook 11\n",
    "model2.compile(optimizer = 'rmsprop',\n",
    "                 loss = 'categorical_crossentropy',\n",
    "                 metrics = ['accuracy'])"
   ]
  },
  {
   "cell_type": "code",
   "execution_count": 43,
   "id": "afe5c325-4a5f-451b-ac48-3b4f7388537d",
   "metadata": {},
   "outputs": [
    {
     "name": "stdout",
     "output_type": "stream",
     "text": [
      "Model: \"sequential_4\"\n",
      "_________________________________________________________________\n",
      " Layer (type)                Output Shape              Param #   \n",
      "=================================================================\n",
      " conv2d_3 (Conv2D)           (None, 32, 32, 8)         224       \n",
      "                                                                 \n",
      " max_pooling2d_2 (MaxPooling  (None, 16, 16, 8)        0         \n",
      " 2D)                                                             \n",
      "                                                                 \n",
      " flatten_2 (Flatten)         (None, 2048)              0         \n",
      "                                                                 \n",
      " dense_4 (Dense)             (None, 100)               204900    \n",
      "                                                                 \n",
      " dense_5 (Dense)             (None, 10)                1010      \n",
      "                                                                 \n",
      "=================================================================\n",
      "Total params: 206,134\n",
      "Trainable params: 206,134\n",
      "Non-trainable params: 0\n",
      "_________________________________________________________________\n"
     ]
    }
   ],
   "source": [
    "model2.summary()"
   ]
  },
  {
   "cell_type": "code",
   "execution_count": 44,
   "id": "b06b8d7e",
   "metadata": {
    "scrolled": true
   },
   "outputs": [
    {
     "name": "stdout",
     "output_type": "stream",
     "text": [
      "Epoch 1/25\n",
      "88/88 [==============================] - 6s 67ms/step - loss: 2.1046 - accuracy: 0.2461 - val_loss: 1.8881 - val_accuracy: 0.3076\n",
      "Epoch 2/25\n",
      "88/88 [==============================] - 5s 59ms/step - loss: 1.8068 - accuracy: 0.3596 - val_loss: 1.6980 - val_accuracy: 0.4044\n",
      "Epoch 3/25\n",
      "88/88 [==============================] - 5s 58ms/step - loss: 1.6622 - accuracy: 0.4161 - val_loss: 1.5939 - val_accuracy: 0.4422\n",
      "Epoch 4/25\n",
      "88/88 [==============================] - 6s 65ms/step - loss: 1.5700 - accuracy: 0.4494 - val_loss: 1.6416 - val_accuracy: 0.4282\n",
      "Epoch 5/25\n",
      "88/88 [==============================] - 6s 69ms/step - loss: 1.5078 - accuracy: 0.4747 - val_loss: 1.4792 - val_accuracy: 0.4714\n",
      "Epoch 6/25\n",
      "88/88 [==============================] - 5s 56ms/step - loss: 1.4531 - accuracy: 0.4933 - val_loss: 1.4268 - val_accuracy: 0.5038\n",
      "Epoch 7/25\n",
      "88/88 [==============================] - 5s 55ms/step - loss: 1.4076 - accuracy: 0.5073 - val_loss: 1.4080 - val_accuracy: 0.5054\n",
      "Epoch 8/25\n",
      "88/88 [==============================] - 5s 60ms/step - loss: 1.3659 - accuracy: 0.5216 - val_loss: 1.3670 - val_accuracy: 0.5180\n",
      "Epoch 9/25\n",
      "88/88 [==============================] - 5s 61ms/step - loss: 1.3283 - accuracy: 0.5395 - val_loss: 1.3764 - val_accuracy: 0.5212\n",
      "Epoch 10/25\n",
      "88/88 [==============================] - 5s 56ms/step - loss: 1.3007 - accuracy: 0.5482 - val_loss: 1.3300 - val_accuracy: 0.5380\n",
      "Epoch 11/25\n",
      "88/88 [==============================] - 5s 53ms/step - loss: 1.2623 - accuracy: 0.5598 - val_loss: 1.3167 - val_accuracy: 0.5382\n",
      "Epoch 12/25\n",
      "88/88 [==============================] - 5s 51ms/step - loss: 1.2326 - accuracy: 0.5706 - val_loss: 1.3030 - val_accuracy: 0.5374\n",
      "Epoch 13/25\n",
      "88/88 [==============================] - 5s 54ms/step - loss: 1.2087 - accuracy: 0.5817 - val_loss: 1.2563 - val_accuracy: 0.5544\n",
      "Epoch 14/25\n",
      "88/88 [==============================] - 5s 52ms/step - loss: 1.1826 - accuracy: 0.5893 - val_loss: 1.2580 - val_accuracy: 0.5612\n",
      "Epoch 15/25\n",
      "88/88 [==============================] - 5s 52ms/step - loss: 1.1574 - accuracy: 0.5979 - val_loss: 1.2885 - val_accuracy: 0.5562\n",
      "Epoch 16/25\n",
      "88/88 [==============================] - 5s 52ms/step - loss: 1.1366 - accuracy: 0.6053 - val_loss: 1.2111 - val_accuracy: 0.5786\n",
      "Epoch 17/25\n",
      "88/88 [==============================] - 5s 57ms/step - loss: 1.1144 - accuracy: 0.6138 - val_loss: 1.2130 - val_accuracy: 0.5750\n",
      "Epoch 18/25\n",
      "88/88 [==============================] - 5s 53ms/step - loss: 1.0967 - accuracy: 0.6188 - val_loss: 1.2108 - val_accuracy: 0.5752\n",
      "Epoch 19/25\n",
      "88/88 [==============================] - 5s 53ms/step - loss: 1.0764 - accuracy: 0.6256 - val_loss: 1.2826 - val_accuracy: 0.5560\n",
      "Epoch 20/25\n",
      "88/88 [==============================] - 4s 48ms/step - loss: 1.0596 - accuracy: 0.6321 - val_loss: 1.2084 - val_accuracy: 0.5744\n",
      "Epoch 21/25\n",
      "88/88 [==============================] - 4s 51ms/step - loss: 1.0452 - accuracy: 0.6367 - val_loss: 1.2905 - val_accuracy: 0.5508\n",
      "Epoch 22/25\n",
      "88/88 [==============================] - 4s 51ms/step - loss: 1.0285 - accuracy: 0.6430 - val_loss: 1.2426 - val_accuracy: 0.5612\n",
      "Epoch 23/25\n",
      "88/88 [==============================] - 5s 52ms/step - loss: 1.0083 - accuracy: 0.6484 - val_loss: 1.2324 - val_accuracy: 0.5706\n",
      "Epoch 24/25\n",
      "88/88 [==============================] - 5s 56ms/step - loss: 0.9974 - accuracy: 0.6549 - val_loss: 1.1704 - val_accuracy: 0.5872\n",
      "Epoch 25/25\n",
      "88/88 [==============================] - 5s 53ms/step - loss: 0.9823 - accuracy: 0.6581 - val_loss: 1.1857 - val_accuracy: 0.5808\n"
     ]
    }
   ],
   "source": [
    "## fit the model for 25 epochs, this can take a bit\n",
    "n_epochs=25\n",
    "history2 = model2.fit(x_tt, \n",
    "                      to_categorical(y_tt), \n",
    "                      epochs=n_epochs, \n",
    "                      batch_size=512,\n",
    "                      validation_data=(x_val,to_categorical(y_val)))\n",
    "\n",
    "history_dict2 = history2.history"
   ]
  },
  {
   "cell_type": "markdown",
   "id": "3bf2860a",
   "metadata": {},
   "source": [
    "##### b.\n",
    "\n",
    "Plot the validation accuracy for both models and see if the addition of padding had a noticeable impact on the model performance."
   ]
  },
  {
   "cell_type": "markdown",
   "id": "8e684f17",
   "metadata": {},
   "source": [
    "##### Sample Solution"
   ]
  },
  {
   "cell_type": "code",
   "execution_count": 47,
   "id": "de5e8734",
   "metadata": {},
   "outputs": [
    {
     "data": {
      "image/png": "[encoded data removed]",
      "text/plain": [
       "<Figure size 1000x600 with 1 Axes>"
      ]
     },
     "metadata": {},
     "output_type": "display_data"
    }
   ],
   "source": [
    "plt.figure(figsize=(10,6))\n",
    "\n",
    "plt.scatter(range(1,n_epochs+1), \n",
    "            history_dict1['accuracy'],\n",
    "            label=\"No Padding\")\n",
    "\n",
    "\n",
    "\n",
    "plt.scatter(range(1,n_epochs+1), \n",
    "            history_dict2['accuracy'],\n",
    "            marker='v',\n",
    "            label=\"With Padding\")\n",
    "\n",
    "\n",
    "plt.scatter(range(1,n_epochs+1), \n",
    "            history_dict1['val_accuracy'],\n",
    "            label=\"No Padding\")\n",
    "\n",
    "\n",
    "\n",
    "plt.scatter(range(1,n_epochs+1), \n",
    "            history_dict2['val_accuracy'],\n",
    "            marker='v',\n",
    "            label=\"With Padding\")\n",
    "\n",
    "plt.xlabel(\"Epoch\", fontsize=18)\n",
    "plt.ylabel(\"Accuracy\", fontsize=18)\n",
    "\n",
    "plt.xticks(fontsize=14)\n",
    "plt.yticks(fontsize=14)\n",
    "\n",
    "plt.legend(fontsize=14)\n",
    "\n",
    "\n",
    "plt.show()"
   ]
  },
  {
   "cell_type": "markdown",
   "id": "5f05dee1",
   "metadata": {},
   "source": [
    "##### Write any thoughts you have here"
   ]
  },
  {
   "cell_type": "markdown",
   "id": "a1792087",
   "metadata": {},
   "source": [
    "#### 4. Adding a dropout layer\n",
    "\n",
    "Sometimes while building convolutional or recurrent neural networks you will add what is known as a <i>dropout</i> layer before the final feed forward layer of the network.\n",
    "\n",
    "A dropout layer will randomly turn off input nodes with a probability that you select when setting up the network. For example a dropout layer with probability $0.25$ will turn each of the input nodes to $0$ with probability $0.25$. \n",
    "\n",
    "This may seem counterintuitive because we will be getting rid of some of the work the previous layers of our network have done. However, neural networks have a ton of parameters, meaning that they tend to overfit on the training data. By randomly turning some nodes to $0$ we lessen the networks ability to overfit, which may in turn improve performance on observations not included in the training set.\n",
    "\n",
    "##### a.\n",
    "\n",
    "For `model3` use your results from above to choose either `model1` or `model2` and then add a dropout layer between  the `.Flatten()` layer and the feed forward `Dense()` layer. Dropout layers can be inserted in `keras` with `layers.Dropout(dropout_probability)`."
   ]
  },
  {
   "cell_type": "code",
   "execution_count": null,
   "id": "2529516a-bacf-4835-b958-bc7b3c90a06f",
   "metadata": {},
   "outputs": [],
   "source": []
  },
  {
   "cell_type": "code",
   "execution_count": 53,
   "id": "0e395918",
   "metadata": {},
   "outputs": [],
   "source": [
    "## Make an empty sequential model\n",
    "model3 = models.Sequential()\n",
    "\n",
    "## Add the convolutional layer here\n",
    "model3.add(layers.Conv2D(8,(3,3),activation='relu',input_shape=x_tt.shape[1:],padding='same'))\n",
    "\n",
    "## Add the pooling layer here\n",
    "model3.add(layers.MaxPooling2D((2,2), strides=2))\n",
    "\n",
    "## Add the flatten layer\n",
    "model3.add(layers.Flatten())\n",
    "\n",
    "## Add the dropout layer, set the dropout_probability as you'd like\n",
    "model3.add(layers.Dropout(0.5))\n",
    "\n",
    "## Add the feed forward layer, use 100 nodes\n",
    "model3.add(layers.Dense(100, activation='relu'))\n",
    "\n",
    "## Add the output layer\n",
    "model3.add(layers.Dense(10, activation='softmax'))\n",
    "\n",
    "## Some compile step from notebook 11\n",
    "model3.compile(optimizer = 'rmsprop',\n",
    "                 loss = 'categorical_crossentropy',\n",
    "                 metrics = ['accuracy'])"
   ]
  },
  {
   "cell_type": "code",
   "execution_count": 54,
   "id": "132fc938-a414-4706-a0f0-a180173a940a",
   "metadata": {},
   "outputs": [
    {
     "name": "stdout",
     "output_type": "stream",
     "text": [
      "Model: \"sequential_7\"\n",
      "_________________________________________________________________\n",
      " Layer (type)                Output Shape              Param #   \n",
      "=================================================================\n",
      " conv2d_6 (Conv2D)           (None, 32, 32, 8)         224       \n",
      "                                                                 \n",
      " max_pooling2d_5 (MaxPooling  (None, 16, 16, 8)        0         \n",
      " 2D)                                                             \n",
      "                                                                 \n",
      " flatten_5 (Flatten)         (None, 2048)              0         \n",
      "                                                                 \n",
      " dropout_1 (Dropout)         (None, 2048)              0         \n",
      "                                                                 \n",
      " dense_8 (Dense)             (None, 100)               204900    \n",
      "                                                                 \n",
      " dense_9 (Dense)             (None, 10)                1010      \n",
      "                                                                 \n",
      "=================================================================\n",
      "Total params: 206,134\n",
      "Trainable params: 206,134\n",
      "Non-trainable params: 0\n",
      "_________________________________________________________________\n"
     ]
    }
   ],
   "source": [
    "model3.summary()"
   ]
  },
  {
   "cell_type": "code",
   "execution_count": 55,
   "id": "7d1f3247",
   "metadata": {
    "scrolled": true
   },
   "outputs": [
    {
     "name": "stdout",
     "output_type": "stream",
     "text": [
      "Epoch 1/25\n",
      "88/88 [==============================] - 6s 65ms/step - loss: 2.0577 - accuracy: 0.2581 - val_loss: 1.9473 - val_accuracy: 0.3038\n",
      "Epoch 2/25\n",
      "88/88 [==============================] - 5s 61ms/step - loss: 1.7891 - accuracy: 0.3652 - val_loss: 1.6837 - val_accuracy: 0.4126\n",
      "Epoch 3/25\n",
      "88/88 [==============================] - 6s 63ms/step - loss: 1.6787 - accuracy: 0.4058 - val_loss: 1.6260 - val_accuracy: 0.4280\n",
      "Epoch 4/25\n",
      "88/88 [==============================] - 6s 65ms/step - loss: 1.6053 - accuracy: 0.4356 - val_loss: 1.5293 - val_accuracy: 0.4748\n",
      "Epoch 5/25\n",
      "88/88 [==============================] - 6s 66ms/step - loss: 1.5549 - accuracy: 0.4543 - val_loss: 1.4568 - val_accuracy: 0.4996\n",
      "Epoch 6/25\n",
      "88/88 [==============================] - 6s 70ms/step - loss: 1.5088 - accuracy: 0.4702 - val_loss: 1.4401 - val_accuracy: 0.4946\n",
      "Epoch 7/25\n",
      "88/88 [==============================] - 10s 109ms/step - loss: 1.4752 - accuracy: 0.4850 - val_loss: 1.4114 - val_accuracy: 0.5166\n",
      "Epoch 8/25\n",
      "88/88 [==============================] - 8s 86ms/step - loss: 1.4377 - accuracy: 0.4960 - val_loss: 1.4576 - val_accuracy: 0.5046\n",
      "Epoch 9/25\n",
      "88/88 [==============================] - 6s 66ms/step - loss: 1.4144 - accuracy: 0.5030 - val_loss: 1.3528 - val_accuracy: 0.5296\n",
      "Epoch 10/25\n",
      "88/88 [==============================] - 6s 68ms/step - loss: 1.3853 - accuracy: 0.5142 - val_loss: 1.3288 - val_accuracy: 0.5418\n",
      "Epoch 11/25\n",
      "88/88 [==============================] - 5s 62ms/step - loss: 1.3590 - accuracy: 0.5220 - val_loss: 1.3160 - val_accuracy: 0.5392\n",
      "Epoch 12/25\n",
      "88/88 [==============================] - 6s 65ms/step - loss: 1.3381 - accuracy: 0.5346 - val_loss: 1.4149 - val_accuracy: 0.5158\n",
      "Epoch 13/25\n",
      "88/88 [==============================] - 6s 67ms/step - loss: 1.3187 - accuracy: 0.5372 - val_loss: 1.3363 - val_accuracy: 0.5294\n",
      "Epoch 14/25\n",
      "88/88 [==============================] - 6s 63ms/step - loss: 1.3064 - accuracy: 0.5410 - val_loss: 1.3461 - val_accuracy: 0.5434\n",
      "Epoch 15/25\n",
      "88/88 [==============================] - 5s 57ms/step - loss: 1.2832 - accuracy: 0.5498 - val_loss: 1.2627 - val_accuracy: 0.5556\n",
      "Epoch 16/25\n",
      "88/88 [==============================] - 5s 59ms/step - loss: 1.2711 - accuracy: 0.5533 - val_loss: 1.2656 - val_accuracy: 0.5512\n",
      "Epoch 17/25\n",
      "88/88 [==============================] - 5s 62ms/step - loss: 1.2545 - accuracy: 0.5601 - val_loss: 1.2502 - val_accuracy: 0.5588\n",
      "Epoch 18/25\n",
      "88/88 [==============================] - 6s 69ms/step - loss: 1.2404 - accuracy: 0.5657 - val_loss: 1.2237 - val_accuracy: 0.5742\n",
      "Epoch 19/25\n",
      "88/88 [==============================] - 6s 69ms/step - loss: 1.2202 - accuracy: 0.5732 - val_loss: 1.2110 - val_accuracy: 0.5742\n",
      "Epoch 20/25\n",
      "88/88 [==============================] - 5s 59ms/step - loss: 1.2140 - accuracy: 0.5745 - val_loss: 1.1997 - val_accuracy: 0.5808\n",
      "Epoch 21/25\n",
      "88/88 [==============================] - 5s 61ms/step - loss: 1.2000 - accuracy: 0.5790 - val_loss: 1.2051 - val_accuracy: 0.5728\n",
      "Epoch 22/25\n",
      "88/88 [==============================] - 5s 60ms/step - loss: 1.1879 - accuracy: 0.5834 - val_loss: 1.2137 - val_accuracy: 0.5798\n",
      "Epoch 23/25\n",
      "88/88 [==============================] - 5s 59ms/step - loss: 1.1724 - accuracy: 0.5895 - val_loss: 1.1954 - val_accuracy: 0.5778\n",
      "Epoch 24/25\n",
      "88/88 [==============================] - 6s 68ms/step - loss: 1.1589 - accuracy: 0.5914 - val_loss: 1.1685 - val_accuracy: 0.5924\n",
      "Epoch 25/25\n",
      "88/88 [==============================] - 6s 63ms/step - loss: 1.1497 - accuracy: 0.5953 - val_loss: 1.1690 - val_accuracy: 0.5892\n"
     ]
    }
   ],
   "source": [
    "## fit the model for 25 epochs, this can take a bit\n",
    "n_epochs=25\n",
    "history3 = model3.fit(x_tt, \n",
    "                      to_categorical(y_tt), \n",
    "                      epochs=n_epochs, \n",
    "                      batch_size=512,\n",
    "                      validation_data=(x_val,to_categorical(y_val)))\n",
    "\n",
    "history_dict3 = history3.history"
   ]
  },
  {
   "cell_type": "markdown",
   "id": "844b6d55",
   "metadata": {},
   "source": [
    "##### b.\n",
    "\n",
    "Plot the validation accuracies of the original model and the version with a dropout layer. Does one seem to outperform the other?"
   ]
  },
  {
   "cell_type": "code",
   "execution_count": 57,
   "id": "aea259d4",
   "metadata": {},
   "outputs": [
    {
     "data": {
      "image/png": "[encoded data removed]",
      "text/plain": [
       "<Figure size 1000x600 with 1 Axes>"
      ]
     },
     "metadata": {},
     "output_type": "display_data"
    }
   ],
   "source": [
    "plt.figure(figsize=(10,6))\n",
    "\n",
    "\n",
    "plt.scatter(range(1,n_epochs+1), \n",
    "            history_dict2['val_accuracy'],\n",
    "            label=\"No Dropout\")\n",
    "\n",
    "\n",
    "\n",
    "plt.scatter(range(1,n_epochs+1), \n",
    "            history_dict3['val_accuracy'],\n",
    "            marker='v',\n",
    "            label=\"With Dropout\")\n",
    "\n",
    "plt.xlabel(\"Epoch\", fontsize=18)\n",
    "plt.ylabel(\"Accuracy\", fontsize=18)\n",
    "\n",
    "plt.xticks(fontsize=14)\n",
    "plt.yticks(fontsize=14)\n",
    "\n",
    "plt.legend(fontsize=14)\n",
    "\n",
    "\n",
    "plt.show()"
   ]
  },
  {
   "cell_type": "markdown",
   "id": "6e8c25ed",
   "metadata": {},
   "source": [
    "##### Write any thoughts you have here"
   ]
  },
  {
   "cell_type": "markdown",
   "id": "65fe73d5",
   "metadata": {},
   "source": [
    "#### 5. Choose a CNN\n",
    "\n",
    "Choose a CNN from the ones you have tested out in this notebook."
   ]
  },
  {
   "cell_type": "markdown",
   "id": "4798ca20",
   "metadata": {},
   "source": [
    "##### Write your model choice down here\n",
    "model3"
   ]
  },
  {
   "cell_type": "markdown",
   "id": "0c55d450",
   "metadata": {},
   "source": [
    "#### 6. Choosing a final model\n",
    "\n",
    "We will now pretend that we are done trying models and want to select a final model for these data.\n",
    "\n",
    "##### a.\n",
    "\n",
    "At the end of `Fall Problem Session 11` you saved your best feed forward neural network model to file. Load this network now using `load_model` from `keras.models`.\n",
    "\n",
    "<i>Note: If you were not able to save a model during `Fall Problem Session 11` you can use the model I saved called `matt_model_fall_pb_sess_11`.</i>"
   ]
  },
  {
   "cell_type": "code",
   "execution_count": 66,
   "id": "37866da5-58e6-4575-9706-a077f80c6873",
   "metadata": {},
   "outputs": [
    {
     "ename": "ImportError",
     "evalue": "`save_model()` using h5 format requires h5py. Could not import h5py.",
     "output_type": "error",
     "traceback": [
      "\u001b[1;31m---------------------------------------------------------------------------\u001b[0m",
      "\u001b[1;31mImportError\u001b[0m                               Traceback (most recent call last)",
      "Cell \u001b[1;32mIn [66], line 1\u001b[0m\n\u001b[1;32m----> 1\u001b[0m \u001b[43mmodel3\u001b[49m\u001b[38;5;241;43m.\u001b[39;49m\u001b[43msave\u001b[49m\u001b[43m(\u001b[49m\u001b[38;5;124;43m'\u001b[39;49m\u001b[38;5;124;43mtest.h5\u001b[39;49m\u001b[38;5;124;43m'\u001b[39;49m\u001b[43m)\u001b[49m\n",
      "File \u001b[1;32m~\\Anaconda3\\lib\\site-packages\\keras\\utils\\traceback_utils.py:67\u001b[0m, in \u001b[0;36mfilter_traceback.<locals>.error_handler\u001b[1;34m(*args, **kwargs)\u001b[0m\n\u001b[0;32m     65\u001b[0m \u001b[38;5;28;01mexcept\u001b[39;00m \u001b[38;5;167;01mException\u001b[39;00m \u001b[38;5;28;01mas\u001b[39;00m e:  \u001b[38;5;66;03m# pylint: disable=broad-except\u001b[39;00m\n\u001b[0;32m     66\u001b[0m   filtered_tb \u001b[38;5;241m=\u001b[39m _process_traceback_frames(e\u001b[38;5;241m.\u001b[39m__traceback__)\n\u001b[1;32m---> 67\u001b[0m   \u001b[38;5;28;01mraise\u001b[39;00m e\u001b[38;5;241m.\u001b[39mwith_traceback(filtered_tb) \u001b[38;5;28;01mfrom\u001b[39;00m \u001b[38;5;28mNone\u001b[39m\n\u001b[0;32m     68\u001b[0m \u001b[38;5;28;01mfinally\u001b[39;00m:\n\u001b[0;32m     69\u001b[0m   \u001b[38;5;28;01mdel\u001b[39;00m filtered_tb\n",
      "File \u001b[1;32m~\\Anaconda3\\lib\\site-packages\\keras\\saving\\hdf5_format.py:80\u001b[0m, in \u001b[0;36msave_model_to_hdf5\u001b[1;34m(model, filepath, overwrite, include_optimizer)\u001b[0m\n\u001b[0;32m     54\u001b[0m \u001b[38;5;124;03m\"\"\"Saves a model to a HDF5 file.\u001b[39;00m\n\u001b[0;32m     55\u001b[0m \n\u001b[0;32m     56\u001b[0m \u001b[38;5;124;03mThe saved model contains:\u001b[39;00m\n\u001b[1;32m   (...)\u001b[0m\n\u001b[0;32m     76\u001b[0m \u001b[38;5;124;03m    ImportError: if h5py is not available.\u001b[39;00m\n\u001b[0;32m     77\u001b[0m \u001b[38;5;124;03m\"\"\"\u001b[39;00m\n\u001b[0;32m     79\u001b[0m \u001b[38;5;28;01mif\u001b[39;00m h5py \u001b[38;5;129;01mis\u001b[39;00m \u001b[38;5;28;01mNone\u001b[39;00m:\n\u001b[1;32m---> 80\u001b[0m   \u001b[38;5;28;01mraise\u001b[39;00m \u001b[38;5;167;01mImportError\u001b[39;00m(\u001b[38;5;124m'\u001b[39m\u001b[38;5;124m`save_model()` using h5 format requires h5py. Could not \u001b[39m\u001b[38;5;124m'\u001b[39m\n\u001b[0;32m     81\u001b[0m                     \u001b[38;5;124m'\u001b[39m\u001b[38;5;124mimport h5py.\u001b[39m\u001b[38;5;124m'\u001b[39m)\n\u001b[0;32m     83\u001b[0m \u001b[38;5;66;03m# TODO(psv) Add warning when we save models that contain non-serializable\u001b[39;00m\n\u001b[0;32m     84\u001b[0m \u001b[38;5;66;03m# entities like metrics added using `add_metric` and losses added using\u001b[39;00m\n\u001b[0;32m     85\u001b[0m \u001b[38;5;66;03m# `add_loss.`\u001b[39;00m\n\u001b[0;32m     86\u001b[0m \u001b[38;5;28;01mif\u001b[39;00m \u001b[38;5;28mlen\u001b[39m(model\u001b[38;5;241m.\u001b[39mweights) \u001b[38;5;241m!=\u001b[39m \u001b[38;5;28mlen\u001b[39m(model\u001b[38;5;241m.\u001b[39m_undeduplicated_weights):\n",
      "\u001b[1;31mImportError\u001b[0m: `save_model()` using h5 format requires h5py. Could not import h5py."
     ]
    }
   ],
   "source": [
    "model3.save('test.h5')"
   ]
  },
  {
   "cell_type": "code",
   "execution_count": 2,
   "id": "860abd99",
   "metadata": {},
   "outputs": [
    {
     "ename": "ImportError",
     "evalue": "DLL load failed while importing defs: The specified procedure could not be found.",
     "output_type": "error",
     "traceback": [
      "\u001b[1;31m---------------------------------------------------------------------------\u001b[0m",
      "\u001b[1;31mImportError\u001b[0m                               Traceback (most recent call last)",
      "Cell \u001b[1;32mIn [2], line 3\u001b[0m\n\u001b[0;32m      1\u001b[0m \u001b[38;5;66;03m## import load_model here\u001b[39;00m\n\u001b[0;32m      2\u001b[0m \u001b[38;5;28;01mfrom\u001b[39;00m \u001b[38;5;21;01mkeras\u001b[39;00m\u001b[38;5;21;01m.\u001b[39;00m\u001b[38;5;21;01mmodels\u001b[39;00m \u001b[38;5;28;01mimport\u001b[39;00m load_model\n\u001b[1;32m----> 3\u001b[0m \u001b[38;5;28;01mimport\u001b[39;00m \u001b[38;5;21;01mh5py\u001b[39;00m\n",
      "File \u001b[1;32m~\\Anaconda3\\lib\\site-packages\\h5py\\__init__.py:33\u001b[0m\n\u001b[0;32m     30\u001b[0m     \u001b[38;5;28;01melse\u001b[39;00m:\n\u001b[0;32m     31\u001b[0m         \u001b[38;5;28;01mraise\u001b[39;00m\n\u001b[1;32m---> 33\u001b[0m \u001b[38;5;28;01mfrom\u001b[39;00m \u001b[38;5;21;01m.\u001b[39;00m \u001b[38;5;28;01mimport\u001b[39;00m version\n\u001b[0;32m     35\u001b[0m \u001b[38;5;28;01mif\u001b[39;00m version\u001b[38;5;241m.\u001b[39mhdf5_version_tuple \u001b[38;5;241m!=\u001b[39m version\u001b[38;5;241m.\u001b[39mhdf5_built_version_tuple:\n\u001b[0;32m     36\u001b[0m     _warn((\u001b[38;5;124m\"\u001b[39m\u001b[38;5;124mh5py is running against HDF5 \u001b[39m\u001b[38;5;132;01m{0}\u001b[39;00m\u001b[38;5;124m when it was built against \u001b[39m\u001b[38;5;132;01m{1}\u001b[39;00m\u001b[38;5;124m, \u001b[39m\u001b[38;5;124m\"\u001b[39m\n\u001b[0;32m     37\u001b[0m            \u001b[38;5;124m\"\u001b[39m\u001b[38;5;124mthis may cause problems\u001b[39m\u001b[38;5;124m\"\u001b[39m)\u001b[38;5;241m.\u001b[39mformat(\n\u001b[0;32m     38\u001b[0m             \u001b[38;5;124m'\u001b[39m\u001b[38;5;132;01m{0}\u001b[39;00m\u001b[38;5;124m.\u001b[39m\u001b[38;5;132;01m{1}\u001b[39;00m\u001b[38;5;124m.\u001b[39m\u001b[38;5;132;01m{2}\u001b[39;00m\u001b[38;5;124m'\u001b[39m\u001b[38;5;241m.\u001b[39mformat(\u001b[38;5;241m*\u001b[39mversion\u001b[38;5;241m.\u001b[39mhdf5_version_tuple),\n\u001b[0;32m     39\u001b[0m             \u001b[38;5;124m'\u001b[39m\u001b[38;5;132;01m{0}\u001b[39;00m\u001b[38;5;124m.\u001b[39m\u001b[38;5;132;01m{1}\u001b[39;00m\u001b[38;5;124m.\u001b[39m\u001b[38;5;132;01m{2}\u001b[39;00m\u001b[38;5;124m'\u001b[39m\u001b[38;5;241m.\u001b[39mformat(\u001b[38;5;241m*\u001b[39mversion\u001b[38;5;241m.\u001b[39mhdf5_built_version_tuple)\n\u001b[0;32m     40\u001b[0m     ))\n",
      "File \u001b[1;32m~\\Anaconda3\\lib\\site-packages\\h5py\\version.py:15\u001b[0m\n\u001b[0;32m     10\u001b[0m \u001b[38;5;124;03m\"\"\"\u001b[39;00m\n\u001b[0;32m     11\u001b[0m \u001b[38;5;124;03m    Versioning module for h5py.\u001b[39;00m\n\u001b[0;32m     12\u001b[0m \u001b[38;5;124;03m\"\"\"\u001b[39;00m\n\u001b[0;32m     14\u001b[0m \u001b[38;5;28;01mfrom\u001b[39;00m \u001b[38;5;21;01mcollections\u001b[39;00m \u001b[38;5;28;01mimport\u001b[39;00m namedtuple\n\u001b[1;32m---> 15\u001b[0m \u001b[38;5;28;01mfrom\u001b[39;00m \u001b[38;5;21;01m.\u001b[39;00m \u001b[38;5;28;01mimport\u001b[39;00m h5 \u001b[38;5;28;01mas\u001b[39;00m _h5\n\u001b[0;32m     16\u001b[0m \u001b[38;5;28;01mimport\u001b[39;00m \u001b[38;5;21;01msys\u001b[39;00m\n\u001b[0;32m     17\u001b[0m \u001b[38;5;28;01mimport\u001b[39;00m \u001b[38;5;21;01mnumpy\u001b[39;00m\n",
      "File \u001b[1;32mh5py\\h5.pyx:1\u001b[0m, in \u001b[0;36minit h5py.h5\u001b[1;34m()\u001b[0m\n",
      "\u001b[1;31mImportError\u001b[0m: DLL load failed while importing defs: The specified procedure could not be found."
     ]
    }
   ],
   "source": [
    "## import load_model here\n",
    "from keras.models import load_model"
   ]
  },
  {
   "cell_type": "code",
   "execution_count": 61,
   "id": "bdadf183",
   "metadata": {},
   "outputs": [
    {
     "ename": "ImportError",
     "evalue": "Filepath looks like a hdf5 file but h5py is not available. filepath=./PCA_CIFAR10/saved_model.pb",
     "output_type": "error",
     "traceback": [
      "\u001b[1;31m---------------------------------------------------------------------------\u001b[0m",
      "\u001b[1;31mImportError\u001b[0m                               Traceback (most recent call last)",
      "Cell \u001b[1;32mIn [61], line 2\u001b[0m\n\u001b[0;32m      1\u001b[0m \u001b[38;5;66;03m## Load the model here using load_model\u001b[39;00m\n\u001b[1;32m----> 2\u001b[0m ff_model \u001b[38;5;241m=\u001b[39m \u001b[43mload_model\u001b[49m\u001b[43m(\u001b[49m\u001b[38;5;124;43m'\u001b[39;49m\u001b[38;5;124;43m./PCA_CIFAR10/saved_model.pb\u001b[39;49m\u001b[38;5;124;43m'\u001b[39;49m\u001b[43m)\u001b[49m\n",
      "File \u001b[1;32m~\\Anaconda3\\lib\\site-packages\\keras\\utils\\traceback_utils.py:67\u001b[0m, in \u001b[0;36mfilter_traceback.<locals>.error_handler\u001b[1;34m(*args, **kwargs)\u001b[0m\n\u001b[0;32m     65\u001b[0m \u001b[38;5;28;01mexcept\u001b[39;00m \u001b[38;5;167;01mException\u001b[39;00m \u001b[38;5;28;01mas\u001b[39;00m e:  \u001b[38;5;66;03m# pylint: disable=broad-except\u001b[39;00m\n\u001b[0;32m     66\u001b[0m   filtered_tb \u001b[38;5;241m=\u001b[39m _process_traceback_frames(e\u001b[38;5;241m.\u001b[39m__traceback__)\n\u001b[1;32m---> 67\u001b[0m   \u001b[38;5;28;01mraise\u001b[39;00m e\u001b[38;5;241m.\u001b[39mwith_traceback(filtered_tb) \u001b[38;5;28;01mfrom\u001b[39;00m \u001b[38;5;28mNone\u001b[39m\n\u001b[0;32m     68\u001b[0m \u001b[38;5;28;01mfinally\u001b[39;00m:\n\u001b[0;32m     69\u001b[0m   \u001b[38;5;28;01mdel\u001b[39;00m filtered_tb\n",
      "File \u001b[1;32m~\\Anaconda3\\lib\\site-packages\\keras\\saving\\save.py:212\u001b[0m, in \u001b[0;36mload_model\u001b[1;34m(filepath, custom_objects, compile, options)\u001b[0m\n\u001b[0;32m    210\u001b[0m   \u001b[38;5;28;01melse\u001b[39;00m:\n\u001b[0;32m    211\u001b[0m     \u001b[38;5;28;01mif\u001b[39;00m h5py \u001b[38;5;129;01mis\u001b[39;00m \u001b[38;5;28;01mNone\u001b[39;00m:\n\u001b[1;32m--> 212\u001b[0m       \u001b[38;5;28;01mraise\u001b[39;00m \u001b[38;5;167;01mImportError\u001b[39;00m(\n\u001b[0;32m    213\u001b[0m           \u001b[38;5;124m'\u001b[39m\u001b[38;5;124mFilepath looks like a hdf5 file but h5py is not available.\u001b[39m\u001b[38;5;124m'\u001b[39m\n\u001b[0;32m    214\u001b[0m           \u001b[38;5;124mf\u001b[39m\u001b[38;5;124m'\u001b[39m\u001b[38;5;124m filepath=\u001b[39m\u001b[38;5;132;01m{\u001b[39;00mfilepath_str\u001b[38;5;132;01m}\u001b[39;00m\u001b[38;5;124m'\u001b[39m)\n\u001b[0;32m    215\u001b[0m     \u001b[38;5;28;01mreturn\u001b[39;00m hdf5_format\u001b[38;5;241m.\u001b[39mload_model_from_hdf5(\n\u001b[0;32m    216\u001b[0m         tf\u001b[38;5;241m.\u001b[39mio\u001b[38;5;241m.\u001b[39mgfile\u001b[38;5;241m.\u001b[39mGFile(filepath_str, mode\u001b[38;5;241m=\u001b[39m\u001b[38;5;124m'\u001b[39m\u001b[38;5;124mrb\u001b[39m\u001b[38;5;124m'\u001b[39m), custom_objects,\n\u001b[0;32m    217\u001b[0m         \u001b[38;5;28mcompile\u001b[39m)\n\u001b[0;32m    218\u001b[0m \u001b[38;5;28;01melif\u001b[39;00m h5py \u001b[38;5;129;01mis\u001b[39;00m \u001b[38;5;129;01mnot\u001b[39;00m \u001b[38;5;28;01mNone\u001b[39;00m \u001b[38;5;129;01mand\u001b[39;00m \u001b[38;5;28misinstance\u001b[39m(filepath, h5py\u001b[38;5;241m.\u001b[39mFile):\n",
      "\u001b[1;31mImportError\u001b[0m: Filepath looks like a hdf5 file but h5py is not available. filepath=./PCA_CIFAR10/saved_model.pb"
     ]
    }
   ],
   "source": [
    "## Load the model here using load_model\n",
    "ff_model = load_model('./PCA_CIFAR10/saved_model.pb')"
   ]
  },
  {
   "cell_type": "markdown",
   "id": "8045a556",
   "metadata": {},
   "source": [
    "##### b.\n",
    "\n",
    "Compare the performance of the feed forward model and the CNN model on the validation set.\n",
    "\n",
    "\n",
    "<i>Note: If you are using `matt_model_fall_pb_sess_11`, this model was trained using the PCA transformed data. You will need to refit PCA on the training portion of the validation split and then transform the validation data prior to finding the validation set performance for this model. The PCA captured 90% of the original data's variance.</i>"
   ]
  },
  {
   "cell_type": "code",
   "execution_count": null,
   "id": "54968088",
   "metadata": {},
   "outputs": [],
   "source": [
    "## importing accuracy_score\n",
    "from sklearn.metrics import accuracy_score"
   ]
  },
  {
   "cell_type": "code",
   "execution_count": null,
   "id": "10eeb64b",
   "metadata": {},
   "outputs": [],
   "source": [
    "### Feed Forward Network below ###"
   ]
  },
  {
   "cell_type": "code",
   "execution_count": null,
   "id": "5b24987d",
   "metadata": {},
   "outputs": [],
   "source": []
  },
  {
   "cell_type": "code",
   "execution_count": null,
   "id": "2371a2fa",
   "metadata": {},
   "outputs": [],
   "source": []
  },
  {
   "cell_type": "code",
   "execution_count": null,
   "id": "21e27a6b",
   "metadata": {},
   "outputs": [],
   "source": []
  },
  {
   "cell_type": "code",
   "execution_count": null,
   "id": "c801b154",
   "metadata": {},
   "outputs": [],
   "source": [
    "### CNN Network below ###"
   ]
  },
  {
   "cell_type": "code",
   "execution_count": null,
   "id": "ba218250",
   "metadata": {},
   "outputs": [],
   "source": []
  },
  {
   "cell_type": "code",
   "execution_count": null,
   "id": "e341a9dc",
   "metadata": {},
   "outputs": [],
   "source": []
  },
  {
   "cell_type": "markdown",
   "id": "85865fb0",
   "metadata": {},
   "source": [
    "#### 7. Test set performance\n",
    "\n",
    "##### a.\n",
    "\n",
    "Retrain your final model on the entire training set. Note that this means you will need to redefine your model and retrain it from scratch."
   ]
  },
  {
   "cell_type": "code",
   "execution_count": 10,
   "id": "6f870cab",
   "metadata": {},
   "outputs": [],
   "source": [
    "## Make an empty sequential model\n",
    "model_final = models.Sequential()\n",
    "\n",
    "## Add the convolutional layer here\n",
    "model_final.add(layers.Conv2D(8,(3,3),activation='relu',input_shape=x_tt.shape[1:],padding='same'))\n",
    "\n",
    "## Add the pooling layer here\n",
    "model_final.add(layers.MaxPooling2D((2,2), strides=2))\n",
    "\n",
    "## Add the flatten layer\n",
    "model_final.add(layers.Flatten())\n",
    "\n",
    "## Add the dropout layer, set the dropout_probability as you'd like\n",
    "model_final.add(layers.Dropout(0.5))\n",
    "\n",
    "## Add the feed forward layer, use 100 nodes\n",
    "model_final.add(layers.Dense(100, activation='relu'))\n",
    "\n",
    "## Add the output layer\n",
    "model_final.add(layers.Dense(10, activation='softmax'))\n",
    "\n",
    "## Some compile step from notebook 11\n",
    "model_final.compile(optimizer = 'rmsprop',\n",
    "                 loss = 'categorical_crossentropy',\n",
    "                 metrics = ['accuracy'])"
   ]
  },
  {
   "cell_type": "code",
   "execution_count": 11,
   "id": "50fb9aa5",
   "metadata": {},
   "outputs": [
    {
     "name": "stdout",
     "output_type": "stream",
     "text": [
      "Epoch 1/25\n",
      "98/98 [==============================] - 6s 56ms/step - loss: 22.7720 - accuracy: 0.1059\n",
      "Epoch 2/25\n",
      "98/98 [==============================] - 5s 52ms/step - loss: 2.3071 - accuracy: 0.0995\n",
      "Epoch 3/25\n",
      "98/98 [==============================] - 5s 54ms/step - loss: 2.3065 - accuracy: 0.0997\n",
      "Epoch 4/25\n",
      "98/98 [==============================] - 4s 40ms/step - loss: 2.3037 - accuracy: 0.0989\n",
      "Epoch 5/25\n",
      "98/98 [==============================] - 7s 69ms/step - loss: 2.3034 - accuracy: 0.0974\n",
      "Epoch 6/25\n",
      "98/98 [==============================] - 5s 51ms/step - loss: 2.3034 - accuracy: 0.0984\n",
      "Epoch 7/25\n",
      "98/98 [==============================] - 5s 49ms/step - loss: 2.3028 - accuracy: 0.0964\n",
      "Epoch 8/25\n",
      "98/98 [==============================] - 4s 45ms/step - loss: 2.3045 - accuracy: 0.1002\n",
      "Epoch 9/25\n",
      "98/98 [==============================] - 4s 37ms/step - loss: 2.3029 - accuracy: 0.0993\n",
      "Epoch 10/25\n",
      "98/98 [==============================] - 5s 50ms/step - loss: 2.2650 - accuracy: 0.1237\n",
      "Epoch 11/25\n",
      "98/98 [==============================] - 4s 43ms/step - loss: 2.1931 - accuracy: 0.1591\n",
      "Epoch 12/25\n",
      "98/98 [==============================] - 5s 47ms/step - loss: 2.1496 - accuracy: 0.1744\n",
      "Epoch 13/25\n",
      "98/98 [==============================] - 4s 41ms/step - loss: 2.1144 - accuracy: 0.1845\n",
      "Epoch 14/25\n",
      "98/98 [==============================] - 5s 46ms/step - loss: 2.0795 - accuracy: 0.1888\n",
      "Epoch 15/25\n",
      "98/98 [==============================] - 4s 43ms/step - loss: 2.0353 - accuracy: 0.1963\n",
      "Epoch 16/25\n",
      "98/98 [==============================] - 4s 42ms/step - loss: 1.9799 - accuracy: 0.2192\n",
      "Epoch 17/25\n",
      "98/98 [==============================] - 4s 43ms/step - loss: 1.9326 - accuracy: 0.2377\n",
      "Epoch 18/25\n",
      "98/98 [==============================] - 4s 42ms/step - loss: 1.8907 - accuracy: 0.2521\n",
      "Epoch 19/25\n",
      "98/98 [==============================] - 4s 46ms/step - loss: 1.8566 - accuracy: 0.2672\n",
      "Epoch 20/25\n",
      "98/98 [==============================] - 5s 46ms/step - loss: 1.8283 - accuracy: 0.2858\n",
      "Epoch 21/25\n",
      "98/98 [==============================] - 4s 46ms/step - loss: 1.7929 - accuracy: 0.3085\n",
      "Epoch 22/25\n",
      "98/98 [==============================] - 4s 39ms/step - loss: 1.7767 - accuracy: 0.3177\n",
      "Epoch 23/25\n",
      "98/98 [==============================] - 4s 39ms/step - loss: 1.7533 - accuracy: 0.3218\n",
      "Epoch 24/25\n",
      "98/98 [==============================] - 4s 41ms/step - loss: 1.7324 - accuracy: 0.3346\n",
      "Epoch 25/25\n",
      "98/98 [==============================] - 4s 39ms/step - loss: 1.6951 - accuracy: 0.3598\n"
     ]
    }
   ],
   "source": [
    "## fit the model for 25 epochs, this can take a bit\n",
    "n_epochs=25\n",
    "history = model_final.fit(x_train, \n",
    "                      to_categorical(y_train), \n",
    "                      epochs=n_epochs, \n",
    "                      batch_size=512)"
   ]
  },
  {
   "cell_type": "markdown",
   "id": "d8e5bb48",
   "metadata": {},
   "source": [
    "##### b.\n",
    "\n",
    "Find the accuracy on the test set."
   ]
  },
  {
   "cell_type": "code",
   "execution_count": 18,
   "id": "798a5fd2",
   "metadata": {},
   "outputs": [
    {
     "name": "stdout",
     "output_type": "stream",
     "text": [
      "313/313 [==============================] - 1s 4ms/step - loss: 1.6325 - accuracy: 0.3835\n"
     ]
    },
    {
     "data": {
      "text/plain": [
       "[1.6325472593307495, 0.38350000977516174]"
      ]
     },
     "execution_count": 18,
     "metadata": {},
     "output_type": "execute_result"
    }
   ],
   "source": [
    "model_final.evaluate(x_test,to_categorical(y_test))"
   ]
  },
  {
   "cell_type": "code",
   "execution_count": 15,
   "id": "00ce390d",
   "metadata": {},
   "outputs": [
    {
     "data": {
      "text/plain": [
       "array([[3],\n",
       "       [8],\n",
       "       [8],\n",
       "       ...,\n",
       "       [5],\n",
       "       [1],\n",
       "       [7]], dtype=uint8)"
      ]
     },
     "execution_count": 15,
     "metadata": {},
     "output_type": "execute_result"
    }
   ],
   "source": [
    "y_test"
   ]
  },
  {
   "cell_type": "markdown",
   "id": "2344fcec",
   "metadata": {},
   "source": [
    "In this notebook we stuck with very small CNNs in order to keep the training time down as much as possible.\n",
    "\n",
    "You are welcome to build bigger CNNs to see if you can improve upon the performance you have already achieved. You should be prepared, however, for the training time on such networks to be quite long, in comparison to what you did here. Per the documentation, <a href=\"http://www.cs.toronto.edu/~kriz/cifar.html\">http://www.cs.toronto.edu/~kriz/cifar.html</a>, the benchmark model takes over an hour to train, but does attain $82\\%$ test set accuracy."
   ]
  },
  {
   "cell_type": "markdown",
   "id": "949a5446",
   "metadata": {},
   "source": [
    "--------------------------\n",
    "\n",
    "This notebook was written for the Erd&#337;s Institute C&#337;de Data Science Boot Camp by Matthew Osborne, Ph. D., 2022.\n",
    "\n",
    "Any potential redistributors must seek and receive permission from Matthew Tyler Osborne, Ph.D. prior to redistribution. Redistribution of the material contained in this repository is conditional on acknowledgement of Matthew Tyler Osborne, Ph.D.'s original authorship and sponsorship of the Erdős Institute as subject to the license (see License.md)"
   ]
  },
  {
   "cell_type": "code",
   "execution_count": null,
   "id": "2f2f5f4b",
   "metadata": {},
   "outputs": [],
   "source": []
  }
 ],
 "metadata": {
  "kernelspec": {
   "display_name": "Python 3 (ipykernel)",
   "language": "python",
   "name": "python3"
  },
  "language_info": {
   "codemirror_mode": {
    "name": "ipython",
    "version": 3
   },
   "file_extension": ".py",
   "mimetype": "text/x-python",
   "name": "python",
   "nbconvert_exporter": "python",
   "pygments_lexer": "ipython3",
   "version": "3.9.12"
  }
 },
 "nbformat": 4,
 "nbformat_minor": 5
}
